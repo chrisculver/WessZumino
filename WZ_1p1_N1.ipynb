{
 "cells": [
  {
   "cell_type": "markdown",
   "metadata": {},
   "source": [
    "# Wess Zumino \n",
    "\n",
    "## N=1 in 1+1\n",
    "\n",
    "The Hamiltonian with a central difference for the derivative is given by \n",
    "\n",
    "\\begin{align}\n",
    "    H=\\sum_n&\\left[ \\frac{p_n^2}{2a} + \\frac{a}{2}\\left(\\frac{\\phi_{n+1}-\\phi_{n-1}}{2a}\\right)^2+\\frac{a}{2}V(\\phi_n)^2\n",
    "            +aV(\\phi_n)\\frac{\\phi_{n+1}-\\phi_{n-1}}{2a} \\right. \\nonumber \\\\\n",
    "            &\\left.+(-1)^nV'(\\phi_n)\\left(\\chi_n^{\\dagger}\\chi_n-\\frac{1}{2}\\right)\n",
    "            +\\frac{1}{2a}\\left(\\chi_n^{\\dagger}\\chi_{n+1}+\\chi_{n+1}^{\\dagger}\\chi_n\\right) \\right],\n",
    "\\end{align}"
   ]
  },
  {
   "cell_type": "code",
   "execution_count": 1,
   "metadata": {},
   "outputs": [],
   "source": [
    "import sympy as sp\n",
    "from sympy_utils import *\n",
    "\n",
    "#pn, qn, qnP1, qnM1 = sp.symbols('p_n, q_n, q_{n+1}, q_{n-1}', commutative=False)\n",
    "#xn, xdn, xnP1, xdnP1 = sp.symbols('\\chi_n', '\\chi^{\\dagger}_n', '\\chi_{n+1}', '\\chi^{\\dagger}_{n+1}')\n",
    "n=sp.symbols('n')\n",
    "aLat=sp.symbols('a')\n",
    "V=sp.Function('V')\n",
    "p=sp.IndexedBase('p',commutative=False)\n",
    "q=sp.IndexedBase('q',commutative=False)\n",
    "x=sp.IndexedBase('\\chi',commutative=False)\n",
    "xd=sp.IndexedBase('\\chi^{\\dagger}',commutative=False)"
   ]
  },
  {
   "cell_type": "code",
   "execution_count": 2,
   "metadata": {},
   "outputs": [],
   "source": [
    "bosonNI=sp.expand( p[n]**2/(2*aLat) + ((aLat/2)*(q[n+1]-q[n-1])/(2*aLat))**2 )\n",
    "bosonI=sp.expand( (aLat/2)*V(q[n])**2 + aLat*V(q[n])*(q[n+1]-q[n-1])/(2*aLat) )\n",
    "fermionNI=sp.expand( (xd[n]*x[n+1]+xd[n+1]*x[n])/(2*aLat) )\n",
    "fermionI=sp.expand( (-1)**n*sp.diff(V(q[n]),q[n])*(xd[n]*x[n]-(1/2)) )\n",
    "\n",
    "totHam=bosonNI+bosonI+fermionNI+fermionI"
   ]
  },
  {
   "cell_type": "code",
   "execution_count": 3,
   "metadata": {},
   "outputs": [
    {
     "data": {
      "text/latex": [
       "$\\displaystyle \\frac{a V^{2}{\\left({q}_{n} \\right)}}{2} + \\frac{V{\\left({q}_{n} \\right)} {q}_{n + 1}}{2} - \\frac{V{\\left({q}_{n} \\right)} {q}_{n - 1}}{2} + \\frac{{q}_{n + 1}^{2}}{16} - \\frac{{q}_{n + 1} {q}_{n - 1}}{8} + \\frac{{q}_{n - 1}^{2}}{16} + \\frac{{p}_{n}^{2}}{2 a}$"
      ],
      "text/plain": [
       "a*V(q[n])**2/2 + V(q[n])*q[n + 1]/2 - V(q[n])*q[n - 1]/2 + q[n + 1]**2/16 - q[n + 1]*q[n - 1]/8 + q[n - 1]**2/16 + p[n]**2/(2*a)"
      ]
     },
     "execution_count": 3,
     "metadata": {},
     "output_type": "execute_result"
    }
   ],
   "source": [
    "bosonNI+bosonI"
   ]
  },
  {
   "cell_type": "code",
   "execution_count": 4,
   "metadata": {},
   "outputs": [
    {
     "data": {
      "text/latex": [
       "$\\displaystyle \\left(-1\\right)^{n} \\frac{\\partial}{\\partial {q}_{n}} V{\\left({q}_{n} \\right)} {\\chi}_{n} {\\chi^{\\dagger}}_{n} - 0.5 \\left(-1\\right)^{n} \\frac{\\partial}{\\partial {q}_{n}} V{\\left({q}_{n} \\right)} + \\frac{{\\chi}_{n + 1} {\\chi^{\\dagger}}_{n}}{2 a} + \\frac{{\\chi}_{n} {\\chi^{\\dagger}}_{n + 1}}{2 a}$"
      ],
      "text/plain": [
       "(-1)**n*Derivative(V(q[n]), q[n])*\\chi[n]*\\chi^{\\dagger}[n] - 0.5*(-1)**n*Derivative(V(q[n]), q[n]) + \\chi[n + 1]*\\chi^{\\dagger}[n]/(2*a) + \\chi[n]*\\chi^{\\dagger}[n + 1]/(2*a)"
      ]
     },
     "execution_count": 4,
     "metadata": {},
     "output_type": "execute_result"
    }
   ],
   "source": [
    "fermionNI + fermionI"
   ]
  },
  {
   "cell_type": "code",
   "execution_count": 5,
   "metadata": {},
   "outputs": [],
   "source": [
    "N=3\n",
    "aVal=1\n",
    "\n",
    "# note this is exactly hardcoded for this finite difference method.\n",
    "bcType = 'periodic'\n",
    "boundaryConditions = {}\n",
    "if bcType == 'periodic':\n",
    "    boundaryConditions = {q[-1]: q[N-1], q[N]: q[0],\n",
    "                          x[N]: x[0], xd[N]: xd[0],\n",
    "                         }\n",
    "elif bcType == 'dirichlet':\n",
    "    boundaryConditions = {q[-1]: 0, q[N]: 0,\n",
    "                          x[N]: 0, xd[N]: 0\n",
    "                         }"
   ]
  },
  {
   "cell_type": "code",
   "execution_count": 6,
   "metadata": {},
   "outputs": [
    {
     "data": {
      "text/latex": [
       "$\\displaystyle \\frac{{\\chi}_{0} {\\chi^{\\dagger}}_{1}}{2} + \\frac{{\\chi}_{0} {\\chi^{\\dagger}}_{2}}{2} + \\frac{{\\chi}_{1} {\\chi^{\\dagger}}_{0}}{2} + \\frac{{\\chi}_{1} {\\chi^{\\dagger}}_{2}}{2} + \\frac{{\\chi}_{2} {\\chi^{\\dagger}}_{0}}{2} + \\frac{{\\chi}_{2} {\\chi^{\\dagger}}_{1}}{2} + \\frac{{p}_{0}^{2}}{2} + \\frac{{p}_{1}^{2}}{2} + \\frac{{p}_{2}^{2}}{2} + \\frac{{q}_{0}^{2}}{8} - \\frac{{q}_{0} {q}_{1}}{8} - \\frac{{q}_{0} {q}_{2}}{8} + \\frac{{q}_{1}^{2}}{8} - \\frac{{q}_{1} {q}_{2}}{8} + \\frac{{q}_{2}^{2}}{8}$"
      ],
      "text/plain": [
       "\\chi[0]*\\chi^{\\dagger}[1]/2 + \\chi[0]*\\chi^{\\dagger}[2]/2 + \\chi[1]*\\chi^{\\dagger}[0]/2 + \\chi[1]*\\chi^{\\dagger}[2]/2 + \\chi[2]*\\chi^{\\dagger}[0]/2 + \\chi[2]*\\chi^{\\dagger}[1]/2 + p[0]**2/2 + p[1]**2/2 + p[2]**2/2 + q[0]**2/8 - q[0]*q[1]/8 - q[0]*q[2]/8 + q[1]**2/8 - q[1]*q[2]/8 + q[2]**2/8"
      ]
     },
     "execution_count": 6,
     "metadata": {},
     "output_type": "execute_result"
    }
   ],
   "source": [
    "ham=0\n",
    "totHam=bosonNI+bosonI+fermionNI+fermionI\n",
    "for i in range(0,N):\n",
    "    ham+=totHam.subs(n,i).subs(boundaryConditions)\n",
    "# ham.subs(boundaryConditions).doit() # this doesn't work?\n",
    "\n",
    "def potential(n):\n",
    "    return 0\n",
    "\n",
    "for n in range(0,N):\n",
    "    ham=ham.subs(V(q[n]),potential(n))\n",
    "ham=ham.subs(aLat,aVal).simplify().expand()\n",
    "ham"
   ]
  },
  {
   "cell_type": "code",
   "execution_count": 7,
   "metadata": {},
   "outputs": [],
   "source": [
    "#ham=0\n",
    "#totHam=bosonNI+bosonI+fermionNI+fermionI\n",
    "#for i in range(0,N):\n",
    "#    ham+=totHam.subs(n,i).subs(boundaryConditions)\n",
    "# ham.subs(boundaryConditions).doit() # this doesn't work?\n",
    "\n",
    "#def potential(n):\n",
    "#    return q[n]\n",
    "\n",
    "#for n in range(0,N):\n",
    "#    ham=ham.subs(V(q[n]),potential(n))\n",
    "#ham=ham.subs(aLat,aVal).simplify().expand()\n",
    "#ham"
   ]
  },
  {
   "cell_type": "code",
   "execution_count": 8,
   "metadata": {},
   "outputs": [
    {
     "data": {
      "text/latex": [
       "$\\displaystyle \\frac{{\\chi}_{0} {\\chi^{\\dagger}}_{1}}{2} + \\frac{{\\chi}_{0} {\\chi^{\\dagger}}_{2}}{2} + \\frac{{\\chi}_{1} {\\chi^{\\dagger}}_{0}}{2} + \\frac{{\\chi}_{1} {\\chi^{\\dagger}}_{2}}{2} + \\frac{{\\chi}_{2} {\\chi^{\\dagger}}_{0}}{2} + \\frac{{\\chi}_{2} {\\chi^{\\dagger}}_{1}}{2} - 0.1875 {a}_{0}^{2} - 0.0625 {a}_{0} {a}_{1} - 0.0625 {a}_{0} {a}_{2} + 0.625 {a}_{0} {a^{\\dagger}}_{0} - 0.0625 {a}_{0} {a^{\\dagger}}_{1} - 0.0625 {a}_{0} {a^{\\dagger}}_{2} - 0.1875 {a}_{1}^{2} - 0.0625 {a}_{1} {a}_{2} - 0.0625 {a}_{1} {a^{\\dagger}}_{0} + 0.625 {a}_{1} {a^{\\dagger}}_{1} - 0.0625 {a}_{1} {a^{\\dagger}}_{2} - 0.1875 {a}_{2}^{2} - 0.0625 {a}_{2} {a^{\\dagger}}_{0} - 0.0625 {a}_{2} {a^{\\dagger}}_{1} + 0.625 {a}_{2} {a^{\\dagger}}_{2} - 0.1875 {a^{\\dagger}}_{0}^{2} - 0.0625 {a^{\\dagger}}_{0} {a^{\\dagger}}_{1} - 0.0625 {a^{\\dagger}}_{0} {a^{\\dagger}}_{2} - 0.1875 {a^{\\dagger}}_{1}^{2} - 0.0625 {a^{\\dagger}}_{1} {a^{\\dagger}}_{2} - 0.1875 {a^{\\dagger}}_{2}^{2}$"
      ],
      "text/plain": [
       "\\chi[0]*\\chi^{\\dagger}[1]/2 + \\chi[0]*\\chi^{\\dagger}[2]/2 + \\chi[1]*\\chi^{\\dagger}[0]/2 + \\chi[1]*\\chi^{\\dagger}[2]/2 + \\chi[2]*\\chi^{\\dagger}[0]/2 + \\chi[2]*\\chi^{\\dagger}[1]/2 - 0.1875*a[0]**2 - 0.0625*a[0]*a[1] - 0.0625*a[0]*a[2] + 0.625*a[0]*a^{\\dagger}[0] - 0.0625*a[0]*a^{\\dagger}[1] - 0.0625*a[0]*a^{\\dagger}[2] - 0.1875*a[1]**2 - 0.0625*a[1]*a[2] - 0.0625*a[1]*a^{\\dagger}[0] + 0.625*a[1]*a^{\\dagger}[1] - 0.0625*a[1]*a^{\\dagger}[2] - 0.1875*a[2]**2 - 0.0625*a[2]*a^{\\dagger}[0] - 0.0625*a[2]*a^{\\dagger}[1] + 0.625*a[2]*a^{\\dagger}[2] - 0.1875*a^{\\dagger}[0]**2 - 0.0625*a^{\\dagger}[0]*a^{\\dagger}[1] - 0.0625*a^{\\dagger}[0]*a^{\\dagger}[2] - 0.1875*a^{\\dagger}[1]**2 - 0.0625*a^{\\dagger}[1]*a^{\\dagger}[2] - 0.1875*a^{\\dagger}[2]**2"
      ]
     },
     "execution_count": 8,
     "metadata": {},
     "output_type": "execute_result"
    }
   ],
   "source": [
    "a = sp.IndexedBase('a',commutative=False)\n",
    "adag = sp.IndexedBase('a^{\\dagger}',commutative=False)\n",
    "\n",
    "m=1\n",
    "\n",
    "HOdofSubs = {}\n",
    "for i in range(0,N):\n",
    "    HOdofSubs[q[i]] = 0.5*sp.sqrt(2/m)*(a[i] + adag[i])\n",
    "    HOdofSubs[p[i]] = complex(0,1)*sp.sqrt(2*m)*(adag[i] - a[i])/2\n",
    "    \n",
    "hoHam=sp.expand(ham.subs(HOdofSubs))\n",
    "hoHam"
   ]
  },
  {
   "cell_type": "code",
   "execution_count": 19,
   "metadata": {},
   "outputs": [],
   "source": [
    "# should probably error handle better so that when this breaks\n",
    "# I know what was wrong with my expression\n",
    "\n",
    "cutoff=2\n",
    "\n"
   ]
  },
  {
   "cell_type": "code",
   "execution_count": 23,
   "metadata": {},
   "outputs": [
    {
     "name": "stdout",
     "output_type": "stream",
     "text": [
      "Warning: Not using a buffer!\n",
      "(64, 64)\n"
     ]
    }
   ],
   "source": [
    "hamMat=convert_to_matrix(hoHam,cutoff,N)"
   ]
  },
  {
   "cell_type": "code",
   "execution_count": 29,
   "metadata": {},
   "outputs": [
    {
     "data": {
      "text/plain": [
       "array([[0, 0, 0, ..., 0, 0, 0],\n",
       "       [0, 0, 0, ..., 0, 0, 0],\n",
       "       [0.625000000000000, 0, 0, ..., 0, 0, 0],\n",
       "       ...,\n",
       "       [0, 0, 0, ..., 0, 0, 0],\n",
       "       [0, 0, 0, ..., 0, 0, 0],\n",
       "       [0, 0, 0, ..., 0.625000000000000, 0, 0]], dtype=object)"
      ]
     },
     "execution_count": 29,
     "metadata": {},
     "output_type": "execute_result"
    }
   ],
   "source": [
    "hamMat"
   ]
  },
  {
   "cell_type": "code",
   "execution_count": 34,
   "metadata": {},
   "outputs": [
    {
     "data": {
      "text/plain": [
       "sympy.core.numbers.Float"
      ]
     },
     "execution_count": 34,
     "metadata": {},
     "output_type": "execute_result"
    }
   ],
   "source": [
    "type(hamMat[2,0])"
   ]
  },
  {
   "cell_type": "code",
   "execution_count": null,
   "metadata": {},
   "outputs": [],
   "source": []
  },
  {
   "cell_type": "code",
   "execution_count": 35,
   "metadata": {},
   "outputs": [
    {
     "data": {
      "text/plain": [
       "(array([ 2.5568968e-01-5.61964154e-01j,  2.5568968e-01+5.61964154e-01j,\n",
       "        -7.6090592e-01+4.59368255e-16j, -1.2609059e+00-3.88260448e-16j,\n",
       "         1.2556897e+00-5.61964154e-01j,  1.2556897e+00+5.61964154e-01j,\n",
       "         1.2556897e+00-5.61964154e-01j,  1.2556897e+00+5.61964154e-01j,\n",
       "         9.9952650e-01+2.67553356e-16j, -4.7347872e-04-6.82905954e-17j,\n",
       "         2.3909411e-01-2.12873726e-16j,  9.9952650e-01-2.18729808e-16j,\n",
       "         2.3909411e-01+5.81994287e-17j,  2.5568968e-01-5.61964154e-01j,\n",
       "         2.5568968e-01+5.61964154e-01j, -7.6090592e-01+2.22017593e-16j,\n",
       "        -1.2609059e+00+5.27355937e-16j, -1.2609059e+00+2.41560244e-16j,\n",
       "        -1.2609059e+00-1.42247325e-16j, -4.7347872e-04-1.06610412e-16j,\n",
       "         1.0625000e+00-1.34702582e-10j,  1.0625000e+00-1.02661319e-08j,\n",
       "         1.0625000e+00-8.16254531e-09j,  1.0625000e+00-8.37479774e-09j,\n",
       "         1.0625000e+00+1.34701833e-10j,  1.0625000e+00+8.16254619e-09j,\n",
       "         1.0625000e+00+1.02661337e-08j,  1.0625000e+00+8.37479686e-09j,\n",
       "        -2.4431032e-01-5.61964154e-01j, -2.4431032e-01-5.61964154e-01j,\n",
       "        -2.4431032e-01-5.61964154e-01j, -2.4431032e-01-5.61964154e-01j,\n",
       "        -2.4431032e-01+5.61964154e-01j, -2.4431032e-01+5.61964154e-01j,\n",
       "        -2.4431032e-01+5.61964154e-01j, -2.4431032e-01+5.61964154e-01j,\n",
       "         6.2500007e-02+8.90612167e-11j,  6.2500000e-02-5.23307309e-09j,\n",
       "         6.2500000e-02-5.23529042e-09j,  6.2499996e-02-8.90612445e-11j,\n",
       "         6.2499996e-02-1.38195511e-10j,  6.2500000e-02+1.38195635e-10j,\n",
       "         6.2500000e-02+5.23307309e-09j,  6.2500000e-02+5.23529042e-09j,\n",
       "        -5.0047350e-01+2.77555756e-16j, -5.0047350e-01-2.51534904e-16j,\n",
       "        -5.0047350e-01+1.53855594e-19j, -5.0047350e-01+1.10378981e-19j,\n",
       "        -4.3750000e-01-5.46845502e-09j, -4.3750000e-01+5.46838086e-09j,\n",
       "        -4.3750000e-01+1.04188095e-13j, -4.3750000e-01-4.09311629e-14j,\n",
       "        -4.3750000e-01+1.33542111e-08j, -4.3750000e-01+1.39300154e-08j,\n",
       "        -4.3750000e-01+2.70088285e-09j, -4.3750000e-01-1.39300154e-08j,\n",
       "        -4.3750000e-01-1.33542111e-08j, -4.3750000e-01+5.46845502e-09j,\n",
       "        -4.3750000e-01-5.46838130e-09j, -4.3750000e-01-1.03981819e-13j,\n",
       "        -4.3750000e-01+4.10797800e-14j, -4.3750000e-01+2.16337466e-15j,\n",
       "        -4.3750000e-01-2.16337488e-15j, -4.3750000e-01-2.70088285e-09j],\n",
       "       dtype=complex64),\n",
       " array([[-8.5107617e-02+4.0650703e-03j, -8.5107617e-02-4.0650703e-03j,\n",
       "         -7.6082468e-02+1.3877788e-17j, ...,\n",
       "          2.1611743e-26+6.7578219e-28j, -2.1613485e-26-6.7463005e-28j,\n",
       "          2.4829303e-29-1.7117434e-26j],\n",
       "        [ 1.2386405e-17-1.8425331e-17j,  1.2381187e-17+1.8386678e-17j,\n",
       "          2.7340359e-17-8.1855891e-18j, ...,\n",
       "          1.3967787e-15+2.7803069e-17j,  1.3967792e-15+2.7803076e-17j,\n",
       "          1.9164256e-15+9.0441426e-19j],\n",
       "        [-8.9788482e-02-1.2586956e-01j, -8.9788482e-02+1.2586956e-01j,\n",
       "          1.5326726e-01-9.7144515e-17j, ...,\n",
       "          1.3436224e-17-2.4582542e-18j,  1.3436198e-17-2.4582538e-18j,\n",
       "         -3.6837248e-17+6.6136730e-19j],\n",
       "        ...,\n",
       "        [-2.9287138e-43-1.7095841e-43j, -5.6192068e-43+6.1517003e-43j,\n",
       "          2.9147148e-40-1.4658703e-40j, ...,\n",
       "         -5.7131488e-16-2.4387818e-16j, -5.7131493e-16-2.4387820e-16j,\n",
       "         -6.0497396e-16-2.7361851e-16j],\n",
       "        [ 2.7045401e-25+1.3096019e-24j,  1.2165535e-23-6.1919964e-24j,\n",
       "          2.8495665e-21-4.4505540e-21j, ...,\n",
       "          7.7845229e-16+8.9199176e-16j,  7.7845202e-16+8.9199155e-16j,\n",
       "          6.1425988e-16+4.0554050e-16j],\n",
       "        [-3.6153500e-43+1.9057659e-43j,  6.4319600e-43-2.9427268e-43j,\n",
       "         -2.8649547e-40-1.9198349e-40j, ...,\n",
       "          5.5744451e-16+6.0494553e-16j,  5.5744472e-16+6.0494558e-16j,\n",
       "          6.3117099e-16+6.2105557e-16j]], dtype=complex64))"
      ]
     },
     "execution_count": 35,
     "metadata": {},
     "output_type": "execute_result"
    }
   ],
   "source": [
    "np.linalg.eig(hamMat.astype(np.complex64))"
   ]
  },
  {
   "cell_type": "code",
   "execution_count": null,
   "metadata": {},
   "outputs": [],
   "source": []
  }
 ],
 "metadata": {
  "kernelspec": {
   "display_name": "Python 3",
   "language": "python",
   "name": "python3"
  },
  "language_info": {
   "codemirror_mode": {
    "name": "ipython",
    "version": 3
   },
   "file_extension": ".py",
   "mimetype": "text/x-python",
   "name": "python",
   "nbconvert_exporter": "python",
   "pygments_lexer": "ipython3",
   "version": "3.9.1"
  }
 },
 "nbformat": 4,
 "nbformat_minor": 5
}
