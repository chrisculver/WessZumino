{
 "cells": [
  {
   "cell_type": "markdown",
   "metadata": {},
   "source": [
    "# Wess Zumino \n",
    "\n",
    "## N=1 in 1+1\n",
    "\n",
    "The Hamiltonian with a central difference for the derivative is given by \n",
    "\n",
    "\\begin{align}\n",
    "    H=\\sum_n&\\left[ \\frac{p_n^2}{2a} + \\frac{a}{2}\\left(\\frac{\\phi_{n+1}-\\phi_{n-1}}{2a}\\right)^2+\\frac{a}{2}V(\\phi_n)^2\n",
    "            +aV(\\phi_n)\\frac{\\phi_{n+1}-\\phi_{n-1}}{2a} \\right. \\nonumber \\\\\n",
    "            &\\left.+(-1)^nV'(\\phi_n)\\left(\\chi_n^{\\dagger}\\chi_n-\\frac{1}{2}\\right)\n",
    "            +\\frac{1}{2a}\\left(\\chi_n^{\\dagger}\\chi_{n+1}+\\chi_{n+1}^{\\dagger}\\chi_n\\right) \\right],\n",
    "\\end{align}"
   ]
  },
  {
   "cell_type": "markdown",
   "metadata": {},
   "source": [
    "## TODO \n",
    "\n",
    "- CHECK CORRECTNESS!\n",
    "- Use buffer for creating bosonic matrices\n",
    "\n",
    "Then I can immediately start repeating exercises of 0+1\n",
    "\n",
    "\n",
    "## Improvements\n",
    "\n",
    "- Only make matrix of Bosons tensored with fermions (better PS representation)\n",
    "- State ordering option for b0-f0-b1-f1-b2-f2 OR b0-b1-b2-f0-f1-f2\n",
    "\n",
    "## \"Parameters\"\n",
    "\n",
    "- Potential\n",
    "- (NEW) Lattice Spacing & Sites\n",
    "- (NEW) Boundary conditions\n",
    "- Bosonic dof cutoff\n",
    "- (NEW) State order - for efficiencies sake.\n",
    "- Binary Encoding\n",
    "\n",
    "\n",
    "## Plan \n",
    "\n",
    "- Exact diagonalization of Hamiltonian - spectrum vs \"parameters\"\n",
    "- VQE in QISKIT - quantum procedure\n",
    "- Machine Learning ground state - compare to old studies\n",
    "- Gate count for trotter steps"
   ]
  },
  {
   "cell_type": "code",
   "execution_count": null,
   "metadata": {},
   "outputs": [],
   "source": []
  },
  {
   "cell_type": "code",
   "execution_count": 1,
   "metadata": {},
   "outputs": [],
   "source": [
    "import sympy as sp\n",
    "from ham_to_matrix import *\n",
    "from constants import *\n"
   ]
  },
  {
   "cell_type": "code",
   "execution_count": 23,
   "metadata": {},
   "outputs": [],
   "source": [
    "bosonNI=sp.expand( p[n]**2/(2*aLat) + (aLat/2)*((q[n+1]-q[n-1])/(2*aLat))**2 )\n",
    "bosonI=sp.expand( (aLat/2)*V(q[n])**2 + aLat*V(q[n])*(q[n+1]-q[n-1])/(2*aLat) )\n",
    "fermionNI=sp.expand( (xd[n]*x[n+1]+xd[n+1]*x[n])/(2*aLat) )\n",
    "fermionI=sp.expand( (-1)**n*sp.diff(V(q[n]),q[n])*(xd[n]*x[n]-(1/2)) )"
   ]
  },
  {
   "cell_type": "code",
   "execution_count": 3,
   "metadata": {},
   "outputs": [
    {
     "data": {
      "text/latex": [
       "$\\displaystyle \\frac{a V^{2}{\\left({q}_{n} \\right)}}{2} + \\frac{V{\\left({q}_{n} \\right)} {q}_{n + 1}}{2} - \\frac{V{\\left({q}_{n} \\right)} {q}_{n - 1}}{2} + \\frac{{q}_{n + 1}^{2}}{16} - \\frac{{q}_{n + 1} {q}_{n - 1}}{8} + \\frac{{q}_{n - 1}^{2}}{16} + \\frac{{p}_{n}^{2}}{2 a}$"
      ],
      "text/plain": [
       "a*V(q[n])**2/2 + V(q[n])*q[n + 1]/2 - V(q[n])*q[n - 1]/2 + q[n + 1]**2/16 - q[n + 1]*q[n - 1]/8 + q[n - 1]**2/16 + p[n]**2/(2*a)"
      ]
     },
     "execution_count": 3,
     "metadata": {},
     "output_type": "execute_result"
    }
   ],
   "source": [
    "bosonNI+bosonI"
   ]
  },
  {
   "cell_type": "code",
   "execution_count": 4,
   "metadata": {},
   "outputs": [
    {
     "data": {
      "text/latex": [
       "$\\displaystyle \\left(-1\\right)^{n} \\frac{\\partial}{\\partial {q}_{n}} V{\\left({q}_{n} \\right)} {\\chi}_{n} {\\chi^{\\dagger}}_{n} - 0.5 \\left(-1\\right)^{n} \\frac{\\partial}{\\partial {q}_{n}} V{\\left({q}_{n} \\right)} + \\frac{{\\chi}_{n + 1} {\\chi^{\\dagger}}_{n}}{2 a} + \\frac{{\\chi}_{n} {\\chi^{\\dagger}}_{n + 1}}{2 a}$"
      ],
      "text/plain": [
       "(-1)**n*Derivative(V(q[n]), q[n])*\\chi[n]*\\chi^{\\dagger}[n] - 0.5*(-1)**n*Derivative(V(q[n]), q[n]) + \\chi[n + 1]*\\chi^{\\dagger}[n]/(2*a) + \\chi[n]*\\chi^{\\dagger}[n + 1]/(2*a)"
      ]
     },
     "execution_count": 4,
     "metadata": {},
     "output_type": "execute_result"
    }
   ],
   "source": [
    "fermionNI + fermionI"
   ]
  },
  {
   "cell_type": "code",
   "execution_count": 5,
   "metadata": {},
   "outputs": [],
   "source": [
    "N=3\n",
    "aVal=1\n",
    "\n",
    "# note this is exactly hardcoded for this finite difference method.\n",
    "bcType = 'periodic'\n",
    "boundaryConditions = {}\n",
    "if bcType == 'periodic':\n",
    "    boundaryConditions = {q[-1]: q[N-1], q[N]: q[0],\n",
    "                          x[N]: x[0], xd[N]: xd[0],\n",
    "                         }\n",
    "elif bcType == 'dirichlet':\n",
    "    boundaryConditions = {q[-1]: 0, q[N]: 0,\n",
    "                          x[N]: 0, xd[N]: 0\n",
    "                         }"
   ]
  },
  {
   "cell_type": "code",
   "execution_count": 6,
   "metadata": {},
   "outputs": [
    {
     "data": {
      "text/latex": [
       "$\\displaystyle \\frac{{\\chi}_{0} {\\chi^{\\dagger}}_{1}}{2} + \\frac{{\\chi}_{0} {\\chi^{\\dagger}}_{2}}{2} + \\frac{{\\chi}_{1} {\\chi^{\\dagger}}_{0}}{2} + \\frac{{\\chi}_{1} {\\chi^{\\dagger}}_{2}}{2} + \\frac{{\\chi}_{2} {\\chi^{\\dagger}}_{0}}{2} + \\frac{{\\chi}_{2} {\\chi^{\\dagger}}_{1}}{2} + \\frac{{p}_{0}^{2}}{2} + \\frac{{p}_{1}^{2}}{2} + \\frac{{p}_{2}^{2}}{2} + \\frac{{q}_{0}^{2}}{8} - \\frac{{q}_{0} {q}_{1}}{8} - \\frac{{q}_{0} {q}_{2}}{8} + \\frac{{q}_{1}^{2}}{8} - \\frac{{q}_{1} {q}_{2}}{8} + \\frac{{q}_{2}^{2}}{8}$"
      ],
      "text/plain": [
       "\\chi[0]*\\chi^{\\dagger}[1]/2 + \\chi[0]*\\chi^{\\dagger}[2]/2 + \\chi[1]*\\chi^{\\dagger}[0]/2 + \\chi[1]*\\chi^{\\dagger}[2]/2 + \\chi[2]*\\chi^{\\dagger}[0]/2 + \\chi[2]*\\chi^{\\dagger}[1]/2 + p[0]**2/2 + p[1]**2/2 + p[2]**2/2 + q[0]**2/8 - q[0]*q[1]/8 - q[0]*q[2]/8 + q[1]**2/8 - q[1]*q[2]/8 + q[2]**2/8"
      ]
     },
     "execution_count": 6,
     "metadata": {},
     "output_type": "execute_result"
    }
   ],
   "source": [
    "ham=0\n",
    "totHam=bosonNI+bosonI+fermionNI+fermionI\n",
    "for i in range(0,N):\n",
    "    ham+=totHam.subs(n,i).subs(boundaryConditions)\n",
    "# ham.subs(boundaryConditions).doit() # this doesn't work?\n",
    "\n",
    "def potential(n):\n",
    "    return 0\n",
    "\n",
    "for n in range(0,N):\n",
    "    ham=ham.subs(V(q[n]),potential(n))\n",
    "ham=ham.subs(aLat,aVal).simplify().expand()\n",
    "ham"
   ]
  },
  {
   "cell_type": "code",
   "execution_count": 7,
   "metadata": {},
   "outputs": [],
   "source": [
    "#ham=0\n",
    "#totHam=bosonNI+bosonI+fermionNI+fermionI\n",
    "#for i in range(0,N):\n",
    "#    ham+=totHam.subs(n,i).subs(boundaryConditions)\n",
    "# ham.subs(boundaryConditions).doit() # this doesn't work?\n",
    "\n",
    "#def potential(n):\n",
    "#    return q[n]\n",
    "\n",
    "#for n in range(0,N):\n",
    "#    ham=ham.subs(V(q[n]),potential(n))\n",
    "#ham=ham.subs(aLat,aVal).simplify().expand()\n",
    "#ham"
   ]
  },
  {
   "cell_type": "code",
   "execution_count": 8,
   "metadata": {},
   "outputs": [
    {
     "data": {
      "text/latex": [
       "$\\displaystyle \\frac{{\\chi}_{0} {\\chi^{\\dagger}}_{1}}{2} + \\frac{{\\chi}_{0} {\\chi^{\\dagger}}_{2}}{2} + \\frac{{\\chi}_{1} {\\chi^{\\dagger}}_{0}}{2} + \\frac{{\\chi}_{1} {\\chi^{\\dagger}}_{2}}{2} + \\frac{{\\chi}_{2} {\\chi^{\\dagger}}_{0}}{2} + \\frac{{\\chi}_{2} {\\chi^{\\dagger}}_{1}}{2} - 0.1875 {a}_{0}^{2} - 0.0625 {a}_{0} {a}_{1} - 0.0625 {a}_{0} {a}_{2} + 0.625 {a}_{0} {a^{\\dagger}}_{0} - 0.0625 {a}_{0} {a^{\\dagger}}_{1} - 0.0625 {a}_{0} {a^{\\dagger}}_{2} - 0.1875 {a}_{1}^{2} - 0.0625 {a}_{1} {a}_{2} - 0.0625 {a}_{1} {a^{\\dagger}}_{0} + 0.625 {a}_{1} {a^{\\dagger}}_{1} - 0.0625 {a}_{1} {a^{\\dagger}}_{2} - 0.1875 {a}_{2}^{2} - 0.0625 {a}_{2} {a^{\\dagger}}_{0} - 0.0625 {a}_{2} {a^{\\dagger}}_{1} + 0.625 {a}_{2} {a^{\\dagger}}_{2} - 0.1875 {a^{\\dagger}}_{0}^{2} - 0.0625 {a^{\\dagger}}_{0} {a^{\\dagger}}_{1} - 0.0625 {a^{\\dagger}}_{0} {a^{\\dagger}}_{2} - 0.1875 {a^{\\dagger}}_{1}^{2} - 0.0625 {a^{\\dagger}}_{1} {a^{\\dagger}}_{2} - 0.1875 {a^{\\dagger}}_{2}^{2}$"
      ],
      "text/plain": [
       "\\chi[0]*\\chi^{\\dagger}[1]/2 + \\chi[0]*\\chi^{\\dagger}[2]/2 + \\chi[1]*\\chi^{\\dagger}[0]/2 + \\chi[1]*\\chi^{\\dagger}[2]/2 + \\chi[2]*\\chi^{\\dagger}[0]/2 + \\chi[2]*\\chi^{\\dagger}[1]/2 - 0.1875*a[0]**2 - 0.0625*a[0]*a[1] - 0.0625*a[0]*a[2] + 0.625*a[0]*a^{\\dagger}[0] - 0.0625*a[0]*a^{\\dagger}[1] - 0.0625*a[0]*a^{\\dagger}[2] - 0.1875*a[1]**2 - 0.0625*a[1]*a[2] - 0.0625*a[1]*a^{\\dagger}[0] + 0.625*a[1]*a^{\\dagger}[1] - 0.0625*a[1]*a^{\\dagger}[2] - 0.1875*a[2]**2 - 0.0625*a[2]*a^{\\dagger}[0] - 0.0625*a[2]*a^{\\dagger}[1] + 0.625*a[2]*a^{\\dagger}[2] - 0.1875*a^{\\dagger}[0]**2 - 0.0625*a^{\\dagger}[0]*a^{\\dagger}[1] - 0.0625*a^{\\dagger}[0]*a^{\\dagger}[2] - 0.1875*a^{\\dagger}[1]**2 - 0.0625*a^{\\dagger}[1]*a^{\\dagger}[2] - 0.1875*a^{\\dagger}[2]**2"
      ]
     },
     "execution_count": 8,
     "metadata": {},
     "output_type": "execute_result"
    }
   ],
   "source": [
    "m=1\n",
    "\n",
    "HOdofSubs = {}\n",
    "for i in range(0,N):\n",
    "    HOdofSubs[q[i]] = 0.5*sp.sqrt(2/m)*(a[i] + adag[i])\n",
    "    HOdofSubs[p[i]] = complex(0,1)*sp.sqrt(2*m)*(adag[i] - a[i])/2\n",
    "    \n",
    "hoHam=sp.expand(ham.subs(HOdofSubs))\n",
    "hoHam"
   ]
  },
  {
   "cell_type": "code",
   "execution_count": 9,
   "metadata": {},
   "outputs": [],
   "source": [
    "cutoff=4\n",
    "hamMat=convert_to_matrix(hoHam,cutoff,N)"
   ]
  },
  {
   "cell_type": "code",
   "execution_count": 10,
   "metadata": {},
   "outputs": [
    {
     "data": {
      "text/plain": [
       "array([[ 3.25      +0.j, -0.25      +0.j, -0.26516504+0.j, ...,\n",
       "         0.        +0.j,  0.        +0.j,  0.        +0.j],\n",
       "       [ 0.375     +0.j,  3.25      +0.j, -0.35355338+0.j, ...,\n",
       "         0.        +0.j,  0.        +0.j,  0.        +0.j],\n",
       "       [-0.26516504+0.j,  0.53033008+0.j,  1.25      +0.j, ...,\n",
       "         0.        +0.j,  0.        +0.j,  0.        +0.j],\n",
       "       ...,\n",
       "       [ 0.        +0.j,  0.        +0.j,  0.        +0.j, ...,\n",
       "         3.        +0.j,  0.        +0.j,  0.        +0.j],\n",
       "       [ 0.        +0.j,  0.        +0.j,  0.        +0.j, ...,\n",
       "         0.        +0.j,  3.        +0.j,  0.        +0.j],\n",
       "       [ 0.        +0.j,  0.        +0.j,  0.        +0.j, ...,\n",
       "         0.        +0.j,  0.        +0.j,  3.        +0.j]])"
      ]
     },
     "execution_count": 10,
     "metadata": {},
     "output_type": "execute_result"
    }
   ],
   "source": [
    "hamMat"
   ]
  },
  {
   "cell_type": "code",
   "execution_count": 11,
   "metadata": {},
   "outputs": [
    {
     "data": {
      "text/plain": [
       "numpy.complex128"
      ]
     },
     "execution_count": 11,
     "metadata": {},
     "output_type": "execute_result"
    }
   ],
   "source": [
    "type(hamMat[2,0])"
   ]
  },
  {
   "cell_type": "code",
   "execution_count": null,
   "metadata": {},
   "outputs": [],
   "source": []
  },
  {
   "cell_type": "code",
   "execution_count": 16,
   "metadata": {},
   "outputs": [
    {
     "data": {
      "text/plain": [
       "array([0.21453752+0.j        , 0.21453752+0.j        ,\n",
       "       0.21453752+0.j        , 2.2623823 +0.j        ,\n",
       "       2.2623823 +0.j        , 2.2623823 +0.j        ,\n",
       "       3.        +0.j        , 3.        +0.j        ,\n",
       "       3.        +0.j        , 3.        +0.j        ,\n",
       "       3.        +0.j        , 3.        +0.j        ,\n",
       "       3.        +0.j        , 3.        +0.j        ,\n",
       "       3.        +0.j        , 3.        +0.j        ,\n",
       "       3.        +0.j        , 3.        +0.j        ,\n",
       "       3.        +0.j        , 3.        +0.j        ,\n",
       "       3.        +0.j        , 3.        +0.j        ,\n",
       "       3.        +0.j        , 3.        +0.j        ,\n",
       "       3.        +0.j        , 3.        +0.j        ,\n",
       "       3.        +0.j        , 3.        +0.j        ,\n",
       "       3.        +0.j        , 3.        +0.j        ,\n",
       "       3.        +0.j        , 3.        +0.j        ,\n",
       "       3.        +0.j        , 3.        +0.j        ,\n",
       "       3.        +0.j        , 3.        +0.j        ,\n",
       "       3.        +0.j        , 3.        +0.j        ,\n",
       "       3.        +0.j        , 3.        +0.j        ,\n",
       "       3.        +0.j        , 3.        +0.j        ,\n",
       "       3.        +0.j        , 3.        +0.j        ,\n",
       "       3.        +0.j        , 3.        +0.j        ,\n",
       "       3.        +0.j        , 3.        +0.j        ,\n",
       "       3.        +0.j        , 3.        +0.j        ,\n",
       "       3.        +0.j        , 3.        +0.j        ,\n",
       "       3.        +0.j        , 3.        +0.j        ,\n",
       "       3.        +0.j        , 3.        +0.j        ,\n",
       "       3.        +0.j        , 3.        +0.j        ,\n",
       "       3.        +0.j        , 3.        +0.j        ,\n",
       "       3.        +0.j        , 3.        +0.j        ,\n",
       "       3.        +0.j        , 3.        +0.j        ,\n",
       "       3.        +0.j        , 3.        +0.j        ,\n",
       "       3.        +0.j        , 3.        +0.j        ,\n",
       "       3.        +0.j        , 3.        +0.j        ,\n",
       "       3.        +0.j        , 3.        +0.j        ,\n",
       "       3.        +0.j        , 3.        +0.j        ,\n",
       "       3.        +0.j        , 3.        +0.j        ,\n",
       "       3.        +0.j        , 3.        +0.j        ,\n",
       "       3.        +0.j        , 3.        +0.j        ,\n",
       "       3.        +0.j        , 3.        +0.j        ,\n",
       "       3.        +0.j        , 3.        +0.j        ,\n",
       "       3.        +0.j        , 3.        +0.j        ,\n",
       "       3.        +0.j        , 3.        +0.j        ,\n",
       "       3.        +0.j        , 3.        +0.j        ,\n",
       "       3.        +0.j        , 3.        +0.j        ,\n",
       "       3.        +0.j        , 3.        +0.j        ,\n",
       "       3.        +0.j        , 3.        +0.j        ,\n",
       "       3.        +0.j        , 3.        +0.j        ,\n",
       "       3.        +0.j        , 3.        +0.j        ,\n",
       "       3.        +0.j        , 3.        +0.j        ,\n",
       "       3.        +0.j        , 3.        +0.j        ,\n",
       "       3.        +0.j        , 3.        +0.j        ,\n",
       "       3.        +0.j        , 3.        +0.j        ,\n",
       "       3.        +0.j        , 3.        +0.j        ,\n",
       "       3.        +0.j        , 3.        +0.j        ,\n",
       "       3.        +0.j        , 3.        +0.j        ,\n",
       "       3.        +0.j        , 3.        +0.j        ,\n",
       "       3.        +0.j        , 3.        +0.j        ,\n",
       "       3.        +0.j        , 3.        +0.j        ,\n",
       "       3.        +0.j        , 3.        +0.j        ,\n",
       "       3.        +0.j        , 3.        +0.j        ,\n",
       "       3.        +0.j        , 3.        +0.j        ,\n",
       "       3.        +0.j        , 3.        +0.j        ,\n",
       "       3.        +0.j        , 3.        +0.j        ,\n",
       "       3.        +0.j        , 3.        +0.j        ,\n",
       "       3.        +0.j        , 3.        +0.j        ,\n",
       "       3.        +0.j        , 3.        +0.j        ,\n",
       "       3.        +0.j        , 3.        +0.j        ,\n",
       "       3.        +0.j        , 3.        +0.j        ,\n",
       "       3.        +0.j        , 3.        +0.j        ,\n",
       "       3.        +0.j        , 3.        +0.j        ,\n",
       "       3.        +0.j        , 3.        +0.j        ,\n",
       "       3.        +0.j        , 3.        +0.j        ,\n",
       "       3.        +0.j        , 3.        +0.j        ,\n",
       "       3.        +0.j        , 3.        +0.j        ,\n",
       "       3.        +0.j        , 3.        +0.j        ,\n",
       "       3.        +0.j        , 3.        +0.j        ,\n",
       "       3.        +0.j        , 3.        +0.j        ,\n",
       "       3.        +0.j        , 3.        +0.j        ,\n",
       "       3.        +0.j        , 3.        +0.j        ,\n",
       "       3.        +0.j        , 3.        +0.j        ,\n",
       "       3.        +0.j        , 3.        +0.j        ,\n",
       "       3.        +0.j        , 3.        +0.j        ,\n",
       "       3.        +0.j        , 3.        +0.j        ,\n",
       "       3.        +0.j        , 3.        +0.j        ,\n",
       "       3.        +0.j        , 3.        +0.j        ,\n",
       "       3.        +0.j        , 3.        +0.j        ,\n",
       "       3.        +0.j        , 3.        +0.j        ,\n",
       "       3.        +0.j        , 3.        +0.j        ,\n",
       "       3.        +0.j        , 3.        +0.j        ,\n",
       "       3.        +0.j        , 3.        +0.j        ,\n",
       "       3.        +0.j        , 3.        +0.j        ,\n",
       "       3.        +0.j        , 3.        +0.j        ,\n",
       "       3.        +0.j        , 3.        +0.j        ,\n",
       "       3.        +0.j        , 3.        +0.j        ,\n",
       "       3.        +0.j        , 3.        +0.j        ,\n",
       "       3.        +0.j        , 3.        +0.j        ,\n",
       "       3.        +0.j        , 3.        +0.j        ,\n",
       "       3.        +0.j        , 3.        +0.j        ,\n",
       "       3.        +0.j        , 3.        +0.j        ,\n",
       "       3.        +0.j        , 3.        +0.j        ,\n",
       "       3.        +0.j        , 3.        +0.j        ,\n",
       "       3.        +0.j        , 3.        +0.j        ,\n",
       "       3.        +0.j        , 3.        +0.j        ,\n",
       "       3.        +0.j        , 3.        +0.j        ,\n",
       "       3.        +0.j        , 3.        +0.j        ,\n",
       "       3.        +0.j        , 3.        +0.j        ,\n",
       "       3.        +0.j        , 3.        +0.j        ,\n",
       "       3.        +0.j        , 3.        +0.j        ,\n",
       "       3.        +0.j        , 3.        +0.j        ,\n",
       "       3.        +0.j        , 3.        +0.j        ,\n",
       "       3.        +0.j        , 3.        +0.j        ,\n",
       "       3.        +0.j        , 3.        +0.j        ,\n",
       "       3.        +0.j        , 3.        +0.j        ,\n",
       "       3.        +0.j        , 3.        +0.j        ,\n",
       "       3.        +0.j        , 3.        +0.j        ,\n",
       "       3.        +0.j        , 3.        +0.j        ,\n",
       "       3.        +0.j        , 3.        +0.j        ,\n",
       "       3.        +0.j        , 3.        +0.j        ,\n",
       "       3.        +0.j        , 3.        +0.j        ,\n",
       "       3.        +0.j        , 3.        +0.j        ,\n",
       "       3.        +0.j        , 3.        +0.j        ,\n",
       "       3.        +0.j        , 3.        +0.j        ,\n",
       "       3.        +0.j        , 3.        +0.j        ,\n",
       "       3.        +0.j        , 3.        +0.j        ,\n",
       "       3.        +0.j        , 3.        +0.j        ,\n",
       "       3.        +0.j        , 3.        +0.j        ,\n",
       "       3.        +0.j        , 3.        +0.j        ,\n",
       "       3.        +0.j        , 3.        +0.j        ,\n",
       "       3.        +0.j        , 3.        +0.j        ,\n",
       "       3.        +0.j        , 3.        +0.j        ,\n",
       "       3.        +0.j        , 3.        +0.j        ,\n",
       "       3.        +0.j        , 3.        +0.j        ,\n",
       "       3.        +0.j        , 3.        +0.j        ,\n",
       "       3.        +0.j        , 3.        +0.j        ,\n",
       "       3.        +0.j        , 3.        +0.j        ,\n",
       "       3.        +0.j        , 3.        +0.j        ,\n",
       "       3.        +0.j        , 3.        +0.j        ,\n",
       "       3.        +0.j        , 3.        +0.j        ,\n",
       "       3.        +0.j        , 3.        +0.j        ,\n",
       "       3.        +0.j        , 3.        +0.j        ,\n",
       "       3.        +0.j        , 3.        +0.j        ,\n",
       "       3.        +0.j        , 3.        +0.j        ,\n",
       "       3.        +0.j        , 3.        +0.j        ,\n",
       "       3.        +0.j        , 3.        +0.j        ,\n",
       "       3.        +0.j        , 3.        +0.j        ,\n",
       "       3.        +0.j        , 3.        +0.j        ,\n",
       "       3.        +0.j        , 3.        +0.j        ,\n",
       "       3.        +0.j        , 3.        +0.j        ,\n",
       "       3.        +0.j        , 3.        +0.j        ,\n",
       "       3.        +0.j        , 3.        +0.j        ,\n",
       "       3.        +0.j        , 3.        +0.j        ,\n",
       "       3.        +0.j        , 3.        +0.j        ,\n",
       "       3.        +0.j        , 3.        +0.j        ,\n",
       "       3.        +0.j        , 3.        +0.j        ,\n",
       "       3.        +0.j        , 3.        +0.j        ,\n",
       "       3.        +0.j        , 3.        +0.j        ,\n",
       "       3.        +0.j        , 3.        +0.j        ,\n",
       "       3.        +0.j        , 3.        +0.j        ,\n",
       "       3.        +0.j        , 3.        +0.j        ,\n",
       "       3.        +0.j        , 3.        +0.j        ,\n",
       "       3.        +0.j        , 3.        +0.j        ,\n",
       "       3.        +0.j        , 3.        +0.j        ,\n",
       "       3.        +0.j        , 3.        +0.j        ,\n",
       "       3.        +0.j        , 3.        +0.j        ,\n",
       "       3.        +0.j        , 3.        +0.j        ,\n",
       "       3.        +0.j        , 3.        +0.j        ,\n",
       "       3.        +0.j        , 3.        +0.j        ,\n",
       "       3.        +0.j        , 3.        +0.j        ,\n",
       "       3.        +0.j        , 3.        +0.j        ,\n",
       "       3.        +0.j        , 3.        +0.j        ,\n",
       "       3.        +0.j        , 3.        +0.j        ,\n",
       "       3.        +0.j        , 3.        +0.j        ,\n",
       "       3.        +0.j        , 3.        +0.j        ,\n",
       "       3.        +0.j        , 3.        +0.j        ,\n",
       "       3.        +0.j        , 3.        +0.j        ,\n",
       "       3.        +0.j        , 3.        +0.j        ,\n",
       "       3.        +0.j        , 3.        +0.j        ,\n",
       "       3.        +0.j        , 3.        +0.j        ,\n",
       "       3.        +0.j        , 3.        +0.j        ,\n",
       "       3.        +0.j        , 3.        +0.j        ,\n",
       "       3.        +0.j        , 3.        +0.j        ,\n",
       "       3.        +0.j        , 3.        +0.j        ,\n",
       "       3.        +0.j        , 3.        +0.j        ,\n",
       "       3.        +0.j        , 3.        +0.j        ,\n",
       "       3.        +0.j        , 3.        +0.j        ,\n",
       "       3.        +0.j        , 3.        +0.j        ,\n",
       "       3.        +0.j        , 3.        +0.j        ,\n",
       "       3.        +0.j        , 3.        +0.j        ,\n",
       "       3.        +0.j        , 3.        +0.j        ,\n",
       "       3.        +0.j        , 3.        +0.j        ,\n",
       "       3.        +0.j        , 3.        +0.j        ,\n",
       "       3.        +0.j        , 3.        +0.j        ,\n",
       "       3.        +0.j        , 3.        +0.j        ,\n",
       "       3.        +0.j        , 3.        +0.j        ,\n",
       "       3.        +0.j        , 3.        +0.j        ,\n",
       "       3.        +0.j        , 3.        +0.j        ,\n",
       "       3.        +0.j        , 3.        +0.j        ,\n",
       "       3.        +0.j        , 3.        +0.j        ,\n",
       "       3.        +0.j        , 3.        +0.j        ,\n",
       "       3.        +0.j        , 3.        +0.j        ,\n",
       "       3.        +0.j        , 3.        +0.j        ,\n",
       "       3.        +0.j        , 3.        +0.j        ,\n",
       "       3.        +0.j        , 3.        +0.j        ,\n",
       "       3.        +0.j        , 3.        +0.j        ,\n",
       "       3.        +0.j        , 3.        +0.j        ,\n",
       "       3.        +0.j        , 3.        +0.j        ,\n",
       "       3.        +0.j        , 3.        +0.j        ,\n",
       "       3.        +0.j        , 3.        +0.j        ,\n",
       "       3.        +0.j        , 3.        +0.j        ,\n",
       "       3.        +0.j        , 3.        +0.j        ,\n",
       "       3.        +0.j        , 3.        +0.j        ,\n",
       "       3.        +0.j        , 3.        +0.j        ,\n",
       "       3.        +0.j        , 3.        +0.j        ,\n",
       "       3.        +0.j        , 3.        +0.j        ,\n",
       "       3.        +0.j        , 3.        +0.j        ,\n",
       "       3.        +0.j        , 3.        +0.j        ,\n",
       "       3.        +0.j        , 3.        +0.j        ,\n",
       "       3.        +0.j        , 3.        +0.j        ,\n",
       "       3.        +0.j        , 3.        +0.j        ,\n",
       "       3.        +0.j        , 3.        +0.j        ,\n",
       "       3.        +0.j        , 3.        +0.j        ,\n",
       "       3.        +0.j        , 3.        +0.j        ,\n",
       "       3.        +0.j        , 3.        +0.j        ,\n",
       "       3.        +0.j        , 3.        +0.j        ,\n",
       "       3.        +0.j        , 3.        +0.j        ,\n",
       "       3.        +0.j        , 3.        +0.j        ,\n",
       "       3.        +0.j        , 3.        +0.j        ,\n",
       "       3.        +0.j        , 3.        +0.j        ,\n",
       "       3.        +0.j        , 3.        +0.j        ,\n",
       "       3.        +0.j        , 3.        +0.j        ,\n",
       "       3.        +0.j        , 3.        +0.j        ,\n",
       "       3.        +0.j        , 3.        +0.j        ,\n",
       "       3.        +0.j        , 3.        +0.j        ,\n",
       "       3.        +0.j        , 3.        +0.j        ,\n",
       "       3.        +0.j        , 3.        +0.j        ,\n",
       "       3.        +0.j        , 3.        +0.j        ,\n",
       "       3.        +0.j        , 3.        +0.j        ,\n",
       "       3.        +0.j        , 3.        +0.j        ,\n",
       "       3.        +0.j        , 3.        +0.j        ,\n",
       "       3.        +0.j        , 3.        +0.j        ,\n",
       "       3.        +0.j        , 3.        +0.j        ,\n",
       "       3.        +0.j        , 3.        +0.j        ,\n",
       "       3.        +0.j        , 3.        +0.j        ,\n",
       "       3.        +0.j        , 3.        +0.j        ,\n",
       "       3.        +0.j        , 3.        +0.j        ,\n",
       "       3.        +0.j        , 3.        +0.j        ,\n",
       "       3.        +0.j        , 3.        +0.j        ,\n",
       "       3.        +0.j        , 3.        +0.j        ,\n",
       "       3.        +0.j        , 3.        +0.j        ,\n",
       "       3.        +0.j        , 3.        +0.j        ,\n",
       "       3.        +0.j        , 3.        +0.j        ,\n",
       "       3.2615402 -0.39948398j, 3.2615402 -0.39948398j,\n",
       "       3.2615402 -0.39948398j, 3.2615402 +0.39948398j,\n",
       "       3.2615402 +0.39948398j, 3.2615402 +0.39948398j], dtype=complex64)"
      ]
     },
     "execution_count": 16,
     "metadata": {},
     "output_type": "execute_result"
    }
   ],
   "source": [
    "np.sort(np.linalg.eig(hamMat.astype(np.complex64))[0])"
   ]
  },
  {
   "cell_type": "code",
   "execution_count": 17,
   "metadata": {},
   "outputs": [],
   "source": [
    "from matrix_to_ps import *\n",
    "from binary_encodings import *"
   ]
  },
  {
   "cell_type": "code",
   "execution_count": 18,
   "metadata": {},
   "outputs": [
    {
     "data": {
      "text/plain": [
       "(512, 512)"
      ]
     },
     "execution_count": 18,
     "metadata": {},
     "output_type": "execute_result"
    }
   ],
   "source": [
    "hamMat.shape"
   ]
  },
  {
   "cell_type": "code",
   "execution_count": 19,
   "metadata": {},
   "outputs": [],
   "source": [
    "hamPS=matrix_to_pauli_strings(hamMat, standard_encode)"
   ]
  },
  {
   "cell_type": "code",
   "execution_count": 20,
   "metadata": {},
   "outputs": [],
   "source": [
    "hamPS=sp.nsimplify(hamPS, tolerance=1e-10)"
   ]
  },
  {
   "cell_type": "code",
   "execution_count": 22,
   "metadata": {},
   "outputs": [],
   "source": [
    "#sp.simplify(sp.expand(hamPS))"
   ]
  },
  {
   "cell_type": "code",
   "execution_count": null,
   "metadata": {},
   "outputs": [],
   "source": []
  }
 ],
 "metadata": {
  "kernelspec": {
   "display_name": "Python 3",
   "language": "python",
   "name": "python3"
  },
  "language_info": {
   "codemirror_mode": {
    "name": "ipython",
    "version": 3
   },
   "file_extension": ".py",
   "mimetype": "text/x-python",
   "name": "python",
   "nbconvert_exporter": "python",
   "pygments_lexer": "ipython3",
   "version": "3.9.1"
  }
 },
 "nbformat": 4,
 "nbformat_minor": 5
}
