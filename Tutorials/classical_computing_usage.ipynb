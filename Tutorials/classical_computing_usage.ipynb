{
 "cells": [
  {
   "attachments": {},
   "cell_type": "markdown",
   "metadata": {},
   "source": [
    "# Classical Computing for the Wess-Zumino Hamiltonian\n",
    "\n",
    "This tutorial notebook is to fast track you to the basic usage of the library, which is to get the lattice Wess-Zumino Hamiltonian, on an $N$ site lattice.  Then you can construct the matrix for this Hamiltonian and perform your own calculations on it."
   ]
  },
  {
   "cell_type": "code",
   "execution_count": 1,
   "metadata": {},
   "outputs": [],
   "source": [
    "%load_ext autoreload\n",
    "%autoreload 2\n",
    "\n",
    "import sys\n",
    "sys.path.append('..')"
   ]
  },
  {
   "cell_type": "code",
   "execution_count": 2,
   "metadata": {},
   "outputs": [],
   "source": [
    "from src.wess_zumino_model import WessZuminoModel\n",
    "\n",
    "import scipy.sparse.linalg\n",
    "import sympy as sp"
   ]
  },
  {
   "attachments": {},
   "cell_type": "markdown",
   "metadata": {},
   "source": [
    "Now you have to define your own potential $V(q(n))$.  The potential is a class member function of the WessZuminoModel class.  The bosonic variable is referenced as self.qs[n], and the only parameter intrinsic to the model is self.mass.  The below is an \n",
    "example for a linear potential."
   ]
  },
  {
   "cell_type": "code",
   "execution_count": 3,
   "metadata": {},
   "outputs": [],
   "source": [
    "def potential(self, n):\n",
    "    # m*q with m=1\n",
    "    return -self.mass*self.qs[n]"
   ]
  },
  {
   "attachments": {},
   "cell_type": "markdown",
   "metadata": {},
   "source": [
    "Now we can construct the Wess-Zumino model Hamiltonians for $n$ sites, with a mass, our potential, and boundary conditions.  The boundary condition options are \"dirichlet\" or \"periodic\".  Below is a 2 site lattice with our potential, a mass of 1.0 and Dirichlet boundary conditions."
   ]
  },
  {
   "cell_type": "code",
   "execution_count": 4,
   "metadata": {},
   "outputs": [],
   "source": [
    "wz=WessZuminoModel(2,1.0,potential,'dirichlet')"
   ]
  },
  {
   "attachments": {},
   "cell_type": "markdown",
   "metadata": {},
   "source": [
    "This class uses sympy to explicitly construct the $n$ site lattice Hamiltonian, it can be printed by accessing the ham member of our class instance.  We also compute the same Hamiltonian with the bosonic degrees of freedom in the harmonic oscillator basis, which can be access with hoHam."
   ]
  },
  {
   "cell_type": "code",
   "execution_count": 5,
   "metadata": {},
   "outputs": [
    {
     "data": {
      "text/latex": [
       "$\\displaystyle \\chi^{\\dagger}_{0} \\chi_{0} - \\frac{\\chi^{\\dagger}_{0} \\chi_{1}}{2} - \\frac{\\chi^{\\dagger}_{1} \\chi_{0}}{2} - 1.0 \\chi^{\\dagger}_{1} \\chi_{1} + \\frac{p_{0}^{2}}{2} + \\frac{p_{1}^{2}}{2} + 0.625 q_{0}^{2} + 0.625 q_{1}^{2}$"
      ],
      "text/plain": [
       "\\chi^{\\dagger}_{0}*\\chi_{0} - \\chi^{\\dagger}_{0}*\\chi_{1}/2 - \\chi^{\\dagger}_{1}*\\chi_{0}/2 - 1.0*\\chi^{\\dagger}_{1}*\\chi_{1} + p_{0}**2/2 + p_{1}**2/2 + 0.625*q_{0}**2 + 0.625*q_{1}**2"
      ]
     },
     "execution_count": 5,
     "metadata": {},
     "output_type": "execute_result"
    }
   ],
   "source": [
    "sp.expand(wz.ham)"
   ]
  },
  {
   "cell_type": "code",
   "execution_count": 6,
   "metadata": {},
   "outputs": [
    {
     "data": {
      "text/latex": [
       "$\\displaystyle \\chi^{\\dagger}_{0} \\chi_{0} - \\frac{\\chi^{\\dagger}_{0} \\chi_{1}}{2} - \\frac{\\chi^{\\dagger}_{1} \\chi_{0}}{2} - \\chi^{\\dagger}_{1} \\chi_{1} + \\frac{9 a^{\\dagger}_{0} a_{0}}{16} + \\frac{\\left(a^{\\dagger}_{0}\\right)^{2}}{16} + \\frac{9 a^{\\dagger}_{1} a_{1}}{16} + \\frac{\\left(a^{\\dagger}_{1}\\right)^{2}}{16} + \\frac{9 a_{0} a^{\\dagger}_{0}}{16} + \\frac{a_{0}^{2}}{16} + \\frac{9 a_{1} a^{\\dagger}_{1}}{16} + \\frac{a_{1}^{2}}{16}$"
      ],
      "text/plain": [
       "\\chi^{\\dagger}_{0}*\\chi_{0} - \\chi^{\\dagger}_{0}*\\chi_{1}/2 - \\chi^{\\dagger}_{1}*\\chi_{0}/2 - \\chi^{\\dagger}_{1}*\\chi_{1} + 9*a^{\\dagger}_{0}*a_{0}/16 + a^{\\dagger}_{0}**2/16 + 9*a^{\\dagger}_{1}*a_{1}/16 + a^{\\dagger}_{1}**2/16 + 9*a_{0}*a^{\\dagger}_{0}/16 + a_{0}**2/16 + 9*a_{1}*a^{\\dagger}_{1}/16 + a_{1}**2/16"
      ]
     },
     "execution_count": 6,
     "metadata": {},
     "output_type": "execute_result"
    }
   ],
   "source": [
    "sp.expand(wz.hoHam)"
   ]
  },
  {
   "attachments": {},
   "cell_type": "markdown",
   "metadata": {},
   "source": [
    "To construct a matrix, in the harmonic oscillator basis, you have to specify the cutoff of the number of excitations of the oscillator.  The Hamiltonian matrix is stored in the hamMat member variable, and we can for example find the lowest 6 eigenvalues with scipy.  The hamMat variable stores the matrix using a scipy sparse class."
   ]
  },
  {
   "cell_type": "code",
   "execution_count": 7,
   "metadata": {},
   "outputs": [],
   "source": [
    "wz.construct_ham_matrix(4)"
   ]
  },
  {
   "cell_type": "code",
   "execution_count": 8,
   "metadata": {},
   "outputs": [],
   "source": [
    "ens=scipy.sparse.linalg.eigs(wz.hamMat,k=6,sigma=0.0)[0]"
   ]
  },
  {
   "cell_type": "code",
   "execution_count": 9,
   "metadata": {},
   "outputs": [
    {
     "data": {
      "text/plain": [
       "array([3.2249107e-05-2.3049531e-12j, 1.1180646e+00+3.3083548e-08j,\n",
       "       9.7540140e-01-1.9838308e-06j, 9.7540545e-01-1.4177201e-08j,\n",
       "       1.1180643e+00-6.9184445e-09j, 1.2815890e+00+1.0064639e-06j],\n",
       "      dtype=complex64)"
      ]
     },
     "execution_count": 9,
     "metadata": {},
     "output_type": "execute_result"
    }
   ],
   "source": [
    "ens"
   ]
  },
  {
   "cell_type": "code",
   "execution_count": null,
   "metadata": {},
   "outputs": [],
   "source": []
  }
 ],
 "metadata": {
  "kernelspec": {
   "display_name": "SUSYQM",
   "language": "python",
   "name": "python3"
  },
  "language_info": {
   "codemirror_mode": {
    "name": "ipython",
    "version": 3
   },
   "file_extension": ".py",
   "mimetype": "text/x-python",
   "name": "python",
   "nbconvert_exporter": "python",
   "pygments_lexer": "ipython3",
   "version": "3.9.7"
  },
  "orig_nbformat": 4
 },
 "nbformat": 4,
 "nbformat_minor": 2
}
