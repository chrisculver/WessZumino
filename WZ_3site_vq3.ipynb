{
 "cells": [
  {
   "cell_type": "markdown",
   "id": "3e9129bb",
   "metadata": {},
   "source": [
    "# Wess Zumino \n",
    "\n",
    "## N=1 in 1+1\n",
    "\n",
    "The Hamiltonian with a central difference for the derivative is given by \n",
    "\n",
    "\\begin{align}\n",
    "    H=\\sum_n&\\left[ \\frac{p_n^2}{2a} + \\frac{a}{2}\\left(\\frac{\\phi_{n+1}-\\phi_{n-1}}{2a}\\right)^2+\\frac{a}{2}V(\\phi_n)^2\n",
    "            +aV(\\phi_n)\\frac{\\phi_{n+1}-\\phi_{n-1}}{2a} \\right. \\nonumber \\\\\n",
    "            &\\left.+(-1)^nV'(\\phi_n)\\left(\\chi_n^{\\dagger}\\chi_n-\\frac{1}{2}\\right)\n",
    "            +\\frac{1}{2a}\\left(\\chi_n^{\\dagger}\\chi_{n+1}+\\chi_{n+1}^{\\dagger}\\chi_n\\right) \\right],\n",
    "\\end{align}"
   ]
  },
  {
   "cell_type": "code",
   "execution_count": 1,
   "id": "770712fa",
   "metadata": {},
   "outputs": [],
   "source": [
    "import sympy as sp\n",
    "from ham_to_sparse_matrix import *\n",
    "from constants import *\n",
    "import scipy.sparse.linalg"
   ]
  },
  {
   "cell_type": "code",
   "execution_count": 2,
   "id": "2fee939c",
   "metadata": {},
   "outputs": [],
   "source": [
    "bosonNI=sp.expand( pn**2/(2*aLat) + (aLat/2)*((qnP1-qnM1)/(2*aLat))**2 )\n",
    "bosonI=sp.expand( (aLat/2)*V(qn)**2 + aLat*V(qn)*(qnP1-qnM1)/(2*aLat) )\n",
    "fermionNI=sp.expand( (xdnP1*xn+xdn*xnP1)/(2*aLat) )\n",
    "fermionI=sp.expand( sp.diff(V(qn),qn)*(xdn*xn-(1/2)) )"
   ]
  },
  {
   "cell_type": "code",
   "execution_count": 3,
   "id": "f60361a7",
   "metadata": {},
   "outputs": [
    {
     "data": {
      "text/latex": [
       "$\\displaystyle \\frac{a V^{2}{\\left(q_{n} \\right)}}{2} + \\frac{V{\\left(q_{n} \\right)} q_{n+1}}{2} - \\frac{V{\\left(q_{n} \\right)} q_{n-1}}{2} + \\frac{p_{n}^{2}}{2 a} - \\frac{q_{n+1} q_{n-1}}{8 a} + \\frac{q_{n+1}^{2}}{8 a} - \\frac{q_{n-1} q_{n+1}}{8 a} + \\frac{q_{n-1}^{2}}{8 a}$"
      ],
      "text/plain": [
       "a*V(q_{n})**2/2 + V(q_{n})*q_{n+1}/2 - V(q_{n})*q_{n-1}/2 + p_{n}**2/(2*a) - q_{n+1}*q_{n-1}/(8*a) + q_{n+1}**2/(8*a) - q_{n-1}*q_{n+1}/(8*a) + q_{n-1}**2/(8*a)"
      ]
     },
     "execution_count": 3,
     "metadata": {},
     "output_type": "execute_result"
    }
   ],
   "source": [
    "bosonNI+bosonI"
   ]
  },
  {
   "cell_type": "code",
   "execution_count": 4,
   "id": "18ef7097",
   "metadata": {},
   "outputs": [
    {
     "data": {
      "text/latex": [
       "$\\displaystyle - 0.5 \\frac{d}{d q_{n}} V{\\left(q_{n} \\right)} + \\frac{d}{d q_{n}} V{\\left(q_{n} \\right)} \\chi^{\\dagger}_{n} \\chi_{n} + \\frac{\\chi^{\\dagger}_{n+1} \\chi_{n}}{2 a} + \\frac{\\chi^{\\dagger}_{n} \\chi_{n+1}}{2 a}$"
      ],
      "text/plain": [
       "-0.5*Derivative(V(q_{n}), q_{n}) + Derivative(V(q_{n}), q_{n})*\\chi^{\\dagger}_{n}*\\chi_{n} + \\chi^{\\dagger}_{n+1}*\\chi_{n}/(2*a) + \\chi^{\\dagger}_{n}*\\chi_{n+1}/(2*a)"
      ]
     },
     "execution_count": 4,
     "metadata": {},
     "output_type": "execute_result"
    }
   ],
   "source": [
    "fermionNI + fermionI"
   ]
  },
  {
   "cell_type": "code",
   "execution_count": 5,
   "id": "6d14e88c",
   "metadata": {},
   "outputs": [],
   "source": [
    "N=3\n",
    "aVal=1\n",
    "\n",
    "# depends on finite-difference method\n",
    "qs=[SiteSymbol('q',str(i)) for i in range(-1,N+1,1)]\n",
    "# maybe make qs a normal site list\n",
    "# and make an extra boundaryQs list for q[-1], q[N]\n",
    "# counting would be normal computer science way for rest of code.\n",
    "\n",
    "ps=[SiteSymbol('p',str(i)) for i in range(-1,N+1,1)] # don't really need extras\n",
    "aops=[SiteSymbol('a',str(i)) for i in range(-1,N+1,1)]\n",
    "adags=[SiteSymbol('a^{\\dagger}',str(i)) for i in range(-1,N+1,1)]\n",
    "xs=[SiteSymbol('\\chi',str(i)) for i in range(-1,N+1,1)]\n",
    "xdags=[SiteSymbol('\\chi^{\\dagger}',str(i)) for i in range(-1,N+1,1)]\n",
    "\n",
    "# note this is exactly hardcoded for this finite difference method.\n",
    "bcType = 'periodic'\n",
    "boundaryConditions = {}\n",
    "if bcType == 'periodic':\n",
    "    boundaryConditions = {qs[0]: qs[N], qs[N+1]: qs[1],\n",
    "                          xs[0]: -xs[N], xs[N+1]: -xs[1], \n",
    "                          xdags[0]: -xdags[N],  xdags[N+1]: -xdags[1]\n",
    "                         }\n",
    "    \n",
    "elif bcType == 'dirichlet':\n",
    "    boundaryConditions = { qs[0]: 0, qs[N+1]: 0,\n",
    "                          xs[0]: 0, xs[N+1]: 0,\n",
    "                          xdags[0]: 0, xdags[N+1]:0\n",
    "                         }"
   ]
  },
  {
   "cell_type": "code",
   "execution_count": 6,
   "id": "031b1d7f",
   "metadata": {},
   "outputs": [
    {
     "data": {
      "text/latex": [
       "$\\displaystyle \\frac{a V^{2}{\\left(q_{n} \\right)}}{2} + \\frac{V{\\left(q_{n} \\right)} q_{n+1}}{2} - \\frac{V{\\left(q_{n} \\right)} q_{n-1}}{2} - 0.5 \\frac{d}{d q_{n}} V{\\left(q_{n} \\right)} + \\frac{d}{d q_{n}} V{\\left(q_{n} \\right)} \\chi^{\\dagger}_{n} \\chi_{n} + \\frac{\\chi^{\\dagger}_{n+1} \\chi_{n}}{2 a} + \\frac{\\chi^{\\dagger}_{n} \\chi_{n+1}}{2 a} + \\frac{p_{n}^{2}}{2 a} - \\frac{q_{n+1} q_{n-1}}{8 a} + \\frac{q_{n+1}^{2}}{8 a} - \\frac{q_{n-1} q_{n+1}}{8 a} + \\frac{q_{n-1}^{2}}{8 a}$"
      ],
      "text/plain": [
       "a*V(q_{n})**2/2 + V(q_{n})*q_{n+1}/2 - V(q_{n})*q_{n-1}/2 - 0.5*Derivative(V(q_{n}), q_{n}) + Derivative(V(q_{n}), q_{n})*\\chi^{\\dagger}_{n}*\\chi_{n} + \\chi^{\\dagger}_{n+1}*\\chi_{n}/(2*a) + \\chi^{\\dagger}_{n}*\\chi_{n+1}/(2*a) + p_{n}**2/(2*a) - q_{n+1}*q_{n-1}/(8*a) + q_{n+1}**2/(8*a) - q_{n-1}*q_{n+1}/(8*a) + q_{n-1}**2/(8*a)"
      ]
     },
     "execution_count": 6,
     "metadata": {},
     "output_type": "execute_result"
    }
   ],
   "source": [
    "totHam=bosonNI+bosonI+fermionNI+fermionI\n",
    "totHam"
   ]
  },
  {
   "cell_type": "code",
   "execution_count": 7,
   "id": "d6173b9d",
   "metadata": {},
   "outputs": [
    {
     "data": {
      "text/latex": [
       "$\\displaystyle \\frac{4 \\chi^{\\dagger}_{0} \\chi_{1} - 4 \\chi^{\\dagger}_{0} \\chi_{2} + 4 \\chi^{\\dagger}_{1} \\chi_{0} + 4 \\chi^{\\dagger}_{1} \\chi_{2} - 4 \\chi^{\\dagger}_{2} \\chi_{0} + 4 \\chi^{\\dagger}_{2} \\chi_{1} + 4 p_{0}^{2} + 4 p_{1}^{2} + 4 p_{2}^{2} - q_{0} q_{1} - q_{0} q_{2} + 14.0 q_{0}^{2} - 24 q_{0}^{2} \\chi^{\\dagger}_{0} \\chi_{0} + 4 q_{0}^{3} q_{1} - 4 q_{0}^{3} q_{2} + 4 q_{0}^{6} - q_{1} q_{0} - q_{1} q_{2} - 10.0 q_{1}^{2} + 24 q_{1}^{2} \\chi^{\\dagger}_{1} \\chi_{1} - 4 q_{1}^{3} q_{0} + 4 q_{1}^{3} q_{2} + 4 q_{1}^{6} - q_{2} q_{0} - q_{2} q_{1} + 14.0 q_{2}^{2} - 24 q_{2}^{2} \\chi^{\\dagger}_{2} \\chi_{2} + 4 q_{2}^{3} q_{0} - 4 q_{2}^{3} q_{1} + 4 q_{2}^{6}}{8}$"
      ],
      "text/plain": [
       "(4*\\chi^{\\dagger}_{0}*\\chi_{1} - 4*\\chi^{\\dagger}_{0}*\\chi_{2} + 4*\\chi^{\\dagger}_{1}*\\chi_{0} + 4*\\chi^{\\dagger}_{1}*\\chi_{2} - 4*\\chi^{\\dagger}_{2}*\\chi_{0} + 4*\\chi^{\\dagger}_{2}*\\chi_{1} + 4*p_{0}**2 + 4*p_{1}**2 + 4*p_{2}**2 - q_{0}*q_{1} - q_{0}*q_{2} + 14.0*q_{0}**2 - 24*q_{0}**2*\\chi^{\\dagger}_{0}*\\chi_{0} + 4*q_{0}**3*q_{1} - 4*q_{0}**3*q_{2} + 4*q_{0}**6 - q_{1}*q_{0} - q_{1}*q_{2} - 10.0*q_{1}**2 + 24*q_{1}**2*\\chi^{\\dagger}_{1}*\\chi_{1} - 4*q_{1}**3*q_{0} + 4*q_{1}**3*q_{2} + 4*q_{1}**6 - q_{2}*q_{0} - q_{2}*q_{1} + 14.0*q_{2}**2 - 24*q_{2}**2*\\chi^{\\dagger}_{2}*\\chi_{2} + 4*q_{2}**3*q_{0} - 4*q_{2}**3*q_{1} + 4*q_{2}**6)/8"
      ]
     },
     "execution_count": 7,
     "metadata": {},
     "output_type": "execute_result"
    }
   ],
   "source": [
    "ham=0\n",
    "\n",
    "lam=1\n",
    "\n",
    "for i in range(1,N+1):\n",
    "    ham+=(bosonNI+bosonI+fermionNI).subs({\n",
    "        pn: ps[i],\n",
    "        qn: qs[i], qnP1: qs[i+1], qnM1: qs[i-1],\n",
    "        xn: xs[i], xnP1: xs[i+1],\n",
    "        xdn: xdags[i], xdnP1: xdags[i+1]\n",
    "    }).subs(boundaryConditions)\n",
    "    \n",
    "# ham.subs(boundaryConditions).doit() # this doesn't work?\n",
    "\n",
    "\n",
    "def potential(n):\n",
    "    return lam*qs[n]*qs[n]*qs[n]\n",
    "\n",
    "potentialSubs={}\n",
    "for n in range(1,N+1):\n",
    "    potentialSubs[V(qs[n])]=potential(n)\n",
    "\n",
    "ham=sp.simplify(ham.subs(potentialSubs).subs(aLat,aVal))\n",
    "\n",
    "for i in range(1,N+1):\n",
    "    if i%2==0:\n",
    "        ham+=sp.simplify(fermionI.subs({qn: qs[i], xn: xs[i], xdn: xdags[i]}).subs(potentialSubs))\n",
    "    else:\n",
    "        ham-=sp.simplify(fermionI.subs({qn: qs[i], xn: xs[i], xdn: xdags[i]}).subs(potentialSubs))\n",
    "ham=sp.simplify(ham.subs(aLat,aVal))\n",
    "ham"
   ]
  },
  {
   "cell_type": "code",
   "execution_count": 8,
   "id": "ae53d291",
   "metadata": {},
   "outputs": [
    {
     "data": {
      "text/latex": [
       "$\\displaystyle \\frac{\\chi^{\\dagger}_{0} \\chi_{1}}{2} - \\frac{\\chi^{\\dagger}_{0} \\chi_{2}}{2} + \\frac{\\chi^{\\dagger}_{1} \\chi_{0}}{2} + \\frac{\\chi^{\\dagger}_{1} \\chi_{2}}{2} - \\frac{\\chi^{\\dagger}_{2} \\chi_{0}}{2} + \\frac{\\chi^{\\dagger}_{2} \\chi_{1}}{2} - \\frac{a^{\\dagger}_{0} a^{\\dagger}_{1}}{16} - \\frac{a^{\\dagger}_{0} a^{\\dagger}_{2}}{16} + \\frac{9 a^{\\dagger}_{0} a_{0}}{8} - \\frac{3 a^{\\dagger}_{0} a_{0} \\chi^{\\dagger}_{0} \\chi_{0}}{2} + \\frac{a^{\\dagger}_{0} a_{0} a^{\\dagger}_{0} a^{\\dagger}_{1}}{8} - \\frac{a^{\\dagger}_{0} a_{0} a^{\\dagger}_{0} a^{\\dagger}_{2}}{8} + \\frac{a^{\\dagger}_{0} a_{0} a^{\\dagger}_{0} a_{0} a^{\\dagger}_{0} a_{0}}{16} + \\frac{a^{\\dagger}_{0} a_{0} a^{\\dagger}_{0} a_{0} \\left(a^{\\dagger}_{0}\\right)^{2}}{16} + \\frac{a^{\\dagger}_{0} a_{0} a^{\\dagger}_{0} a_{0}^{2} a^{\\dagger}_{0}}{16} + \\frac{a^{\\dagger}_{0} a_{0} a^{\\dagger}_{0} a_{0}^{3}}{16} + \\frac{a^{\\dagger}_{0} a_{0} a^{\\dagger}_{0} a_{1}}{8} - \\frac{a^{\\dagger}_{0} a_{0} a^{\\dagger}_{0} a_{2}}{8} + \\frac{a^{\\dagger}_{0} a_{0} \\left(a^{\\dagger}_{0}\\right)^{2} a_{0} a^{\\dagger}_{0}}{16} + \\frac{a^{\\dagger}_{0} a_{0} \\left(a^{\\dagger}_{0}\\right)^{2} a_{0}^{2}}{16} + \\frac{a^{\\dagger}_{0} a_{0} \\left(a^{\\dagger}_{0}\\right)^{3} a_{0}}{16} + \\frac{a^{\\dagger}_{0} a_{0} \\left(a^{\\dagger}_{0}\\right)^{4}}{16} + \\frac{a^{\\dagger}_{0} a_{0}^{2} a^{\\dagger}_{0} a_{0} a^{\\dagger}_{0}}{16} + \\frac{a^{\\dagger}_{0} a_{0}^{2} a^{\\dagger}_{0} a_{0}^{2}}{16} + \\frac{a^{\\dagger}_{0} a_{0}^{2} \\left(a^{\\dagger}_{0}\\right)^{2} a_{0}}{16} + \\frac{a^{\\dagger}_{0} a_{0}^{2} \\left(a^{\\dagger}_{0}\\right)^{3}}{16} + \\frac{a^{\\dagger}_{0} a_{0}^{2} a^{\\dagger}_{1}}{8} - \\frac{a^{\\dagger}_{0} a_{0}^{2} a^{\\dagger}_{2}}{8} + \\frac{a^{\\dagger}_{0} a_{0}^{2} a_{1}}{8} - \\frac{a^{\\dagger}_{0} a_{0}^{2} a_{2}}{8} + \\frac{a^{\\dagger}_{0} a_{0}^{3} a^{\\dagger}_{0} a_{0}}{16} + \\frac{a^{\\dagger}_{0} a_{0}^{3} \\left(a^{\\dagger}_{0}\\right)^{2}}{16} + \\frac{a^{\\dagger}_{0} a_{0}^{4} a^{\\dagger}_{0}}{16} + \\frac{a^{\\dagger}_{0} a_{0}^{5}}{16} - \\frac{a^{\\dagger}_{0} a_{1}}{16} - \\frac{a^{\\dagger}_{0} a_{2}}{16} + \\frac{5 \\left(a^{\\dagger}_{0}\\right)^{2}}{8} - \\frac{3 \\left(a^{\\dagger}_{0}\\right)^{2} \\chi^{\\dagger}_{0} \\chi_{0}}{2} + \\frac{\\left(a^{\\dagger}_{0}\\right)^{2} a_{0} a^{\\dagger}_{0} a_{0} a^{\\dagger}_{0}}{16} + \\frac{\\left(a^{\\dagger}_{0}\\right)^{2} a_{0} a^{\\dagger}_{0} a_{0}^{2}}{16} + \\frac{\\left(a^{\\dagger}_{0}\\right)^{2} a_{0} \\left(a^{\\dagger}_{0}\\right)^{2} a_{0}}{16} + \\frac{\\left(a^{\\dagger}_{0}\\right)^{2} a_{0} \\left(a^{\\dagger}_{0}\\right)^{3}}{16} + \\frac{\\left(a^{\\dagger}_{0}\\right)^{2} a_{0} a^{\\dagger}_{1}}{8} - \\frac{\\left(a^{\\dagger}_{0}\\right)^{2} a_{0} a^{\\dagger}_{2}}{8} + \\frac{\\left(a^{\\dagger}_{0}\\right)^{2} a_{0} a_{1}}{8} - \\frac{\\left(a^{\\dagger}_{0}\\right)^{2} a_{0} a_{2}}{8} + \\frac{\\left(a^{\\dagger}_{0}\\right)^{2} a_{0}^{2} a^{\\dagger}_{0} a_{0}}{16} + \\frac{\\left(a^{\\dagger}_{0}\\right)^{2} a_{0}^{2} \\left(a^{\\dagger}_{0}\\right)^{2}}{16} + \\frac{\\left(a^{\\dagger}_{0}\\right)^{2} a_{0}^{3} a^{\\dagger}_{0}}{16} + \\frac{\\left(a^{\\dagger}_{0}\\right)^{2} a_{0}^{4}}{16} + \\frac{\\left(a^{\\dagger}_{0}\\right)^{3} a^{\\dagger}_{1}}{8} - \\frac{\\left(a^{\\dagger}_{0}\\right)^{3} a^{\\dagger}_{2}}{8} + \\frac{\\left(a^{\\dagger}_{0}\\right)^{3} a_{0} a^{\\dagger}_{0} a_{0}}{16} + \\frac{\\left(a^{\\dagger}_{0}\\right)^{3} a_{0} \\left(a^{\\dagger}_{0}\\right)^{2}}{16} + \\frac{\\left(a^{\\dagger}_{0}\\right)^{3} a_{0}^{2} a^{\\dagger}_{0}}{16} + \\frac{\\left(a^{\\dagger}_{0}\\right)^{3} a_{0}^{3}}{16} + \\frac{\\left(a^{\\dagger}_{0}\\right)^{3} a_{1}}{8} - \\frac{\\left(a^{\\dagger}_{0}\\right)^{3} a_{2}}{8} + \\frac{\\left(a^{\\dagger}_{0}\\right)^{4} a_{0} a^{\\dagger}_{0}}{16} + \\frac{\\left(a^{\\dagger}_{0}\\right)^{4} a_{0}^{2}}{16} + \\frac{\\left(a^{\\dagger}_{0}\\right)^{5} a_{0}}{16} + \\frac{\\left(a^{\\dagger}_{0}\\right)^{6}}{16} - \\frac{a^{\\dagger}_{1} a^{\\dagger}_{0}}{16} - \\frac{a^{\\dagger}_{1} a^{\\dagger}_{2}}{16} - \\frac{a^{\\dagger}_{1} a_{0}}{16} - \\frac{3 a^{\\dagger}_{1} a_{1}}{8} + \\frac{3 a^{\\dagger}_{1} a_{1} \\chi^{\\dagger}_{1} \\chi_{1}}{2} - \\frac{a^{\\dagger}_{1} a_{1} a^{\\dagger}_{1} a^{\\dagger}_{0}}{8} + \\frac{a^{\\dagger}_{1} a_{1} a^{\\dagger}_{1} a^{\\dagger}_{2}}{8} - \\frac{a^{\\dagger}_{1} a_{1} a^{\\dagger}_{1} a_{0}}{8} + \\frac{a^{\\dagger}_{1} a_{1} a^{\\dagger}_{1} a_{1} a^{\\dagger}_{1} a_{1}}{16} + \\frac{a^{\\dagger}_{1} a_{1} a^{\\dagger}_{1} a_{1} \\left(a^{\\dagger}_{1}\\right)^{2}}{16} + \\frac{a^{\\dagger}_{1} a_{1} a^{\\dagger}_{1} a_{1}^{2} a^{\\dagger}_{1}}{16} + \\frac{a^{\\dagger}_{1} a_{1} a^{\\dagger}_{1} a_{1}^{3}}{16} + \\frac{a^{\\dagger}_{1} a_{1} a^{\\dagger}_{1} a_{2}}{8} + \\frac{a^{\\dagger}_{1} a_{1} \\left(a^{\\dagger}_{1}\\right)^{2} a_{1} a^{\\dagger}_{1}}{16} + \\frac{a^{\\dagger}_{1} a_{1} \\left(a^{\\dagger}_{1}\\right)^{2} a_{1}^{2}}{16} + \\frac{a^{\\dagger}_{1} a_{1} \\left(a^{\\dagger}_{1}\\right)^{3} a_{1}}{16} + \\frac{a^{\\dagger}_{1} a_{1} \\left(a^{\\dagger}_{1}\\right)^{4}}{16} - \\frac{a^{\\dagger}_{1} a_{1}^{2} a^{\\dagger}_{0}}{8} + \\frac{a^{\\dagger}_{1} a_{1}^{2} a^{\\dagger}_{1} a_{1} a^{\\dagger}_{1}}{16} + \\frac{a^{\\dagger}_{1} a_{1}^{2} a^{\\dagger}_{1} a_{1}^{2}}{16} + \\frac{a^{\\dagger}_{1} a_{1}^{2} \\left(a^{\\dagger}_{1}\\right)^{2} a_{1}}{16} + \\frac{a^{\\dagger}_{1} a_{1}^{2} \\left(a^{\\dagger}_{1}\\right)^{3}}{16} + \\frac{a^{\\dagger}_{1} a_{1}^{2} a^{\\dagger}_{2}}{8} - \\frac{a^{\\dagger}_{1} a_{1}^{2} a_{0}}{8} + \\frac{a^{\\dagger}_{1} a_{1}^{2} a_{2}}{8} + \\frac{a^{\\dagger}_{1} a_{1}^{3} a^{\\dagger}_{1} a_{1}}{16} + \\frac{a^{\\dagger}_{1} a_{1}^{3} \\left(a^{\\dagger}_{1}\\right)^{2}}{16} + \\frac{a^{\\dagger}_{1} a_{1}^{4} a^{\\dagger}_{1}}{16} + \\frac{a^{\\dagger}_{1} a_{1}^{5}}{16} - \\frac{a^{\\dagger}_{1} a_{2}}{16} - \\frac{7 \\left(a^{\\dagger}_{1}\\right)^{2}}{8} + \\frac{3 \\left(a^{\\dagger}_{1}\\right)^{2} \\chi^{\\dagger}_{1} \\chi_{1}}{2} - \\frac{\\left(a^{\\dagger}_{1}\\right)^{2} a_{1} a^{\\dagger}_{0}}{8} + \\frac{\\left(a^{\\dagger}_{1}\\right)^{2} a_{1} a^{\\dagger}_{1} a_{1} a^{\\dagger}_{1}}{16} + \\frac{\\left(a^{\\dagger}_{1}\\right)^{2} a_{1} a^{\\dagger}_{1} a_{1}^{2}}{16} + \\frac{\\left(a^{\\dagger}_{1}\\right)^{2} a_{1} \\left(a^{\\dagger}_{1}\\right)^{2} a_{1}}{16} + \\frac{\\left(a^{\\dagger}_{1}\\right)^{2} a_{1} \\left(a^{\\dagger}_{1}\\right)^{3}}{16} + \\frac{\\left(a^{\\dagger}_{1}\\right)^{2} a_{1} a^{\\dagger}_{2}}{8} - \\frac{\\left(a^{\\dagger}_{1}\\right)^{2} a_{1} a_{0}}{8} + \\frac{\\left(a^{\\dagger}_{1}\\right)^{2} a_{1} a_{2}}{8} + \\frac{\\left(a^{\\dagger}_{1}\\right)^{2} a_{1}^{2} a^{\\dagger}_{1} a_{1}}{16} + \\frac{\\left(a^{\\dagger}_{1}\\right)^{2} a_{1}^{2} \\left(a^{\\dagger}_{1}\\right)^{2}}{16} + \\frac{\\left(a^{\\dagger}_{1}\\right)^{2} a_{1}^{3} a^{\\dagger}_{1}}{16} + \\frac{\\left(a^{\\dagger}_{1}\\right)^{2} a_{1}^{4}}{16} - \\frac{\\left(a^{\\dagger}_{1}\\right)^{3} a^{\\dagger}_{0}}{8} + \\frac{\\left(a^{\\dagger}_{1}\\right)^{3} a^{\\dagger}_{2}}{8} - \\frac{\\left(a^{\\dagger}_{1}\\right)^{3} a_{0}}{8} + \\frac{\\left(a^{\\dagger}_{1}\\right)^{3} a_{1} a^{\\dagger}_{1} a_{1}}{16} + \\frac{\\left(a^{\\dagger}_{1}\\right)^{3} a_{1} \\left(a^{\\dagger}_{1}\\right)^{2}}{16} + \\frac{\\left(a^{\\dagger}_{1}\\right)^{3} a_{1}^{2} a^{\\dagger}_{1}}{16} + \\frac{\\left(a^{\\dagger}_{1}\\right)^{3} a_{1}^{3}}{16} + \\frac{\\left(a^{\\dagger}_{1}\\right)^{3} a_{2}}{8} + \\frac{\\left(a^{\\dagger}_{1}\\right)^{4} a_{1} a^{\\dagger}_{1}}{16} + \\frac{\\left(a^{\\dagger}_{1}\\right)^{4} a_{1}^{2}}{16} + \\frac{\\left(a^{\\dagger}_{1}\\right)^{5} a_{1}}{16} + \\frac{\\left(a^{\\dagger}_{1}\\right)^{6}}{16} - \\frac{a^{\\dagger}_{2} a^{\\dagger}_{0}}{16} - \\frac{a^{\\dagger}_{2} a^{\\dagger}_{1}}{16} - \\frac{a^{\\dagger}_{2} a_{0}}{16} - \\frac{a^{\\dagger}_{2} a_{1}}{16} + \\frac{9 a^{\\dagger}_{2} a_{2}}{8} - \\frac{3 a^{\\dagger}_{2} a_{2} \\chi^{\\dagger}_{2} \\chi_{2}}{2} + \\frac{a^{\\dagger}_{2} a_{2} a^{\\dagger}_{2} a^{\\dagger}_{0}}{8} - \\frac{a^{\\dagger}_{2} a_{2} a^{\\dagger}_{2} a^{\\dagger}_{1}}{8} + \\frac{a^{\\dagger}_{2} a_{2} a^{\\dagger}_{2} a_{0}}{8} - \\frac{a^{\\dagger}_{2} a_{2} a^{\\dagger}_{2} a_{1}}{8} + \\frac{a^{\\dagger}_{2} a_{2} a^{\\dagger}_{2} a_{2} a^{\\dagger}_{2} a_{2}}{16} + \\frac{a^{\\dagger}_{2} a_{2} a^{\\dagger}_{2} a_{2} \\left(a^{\\dagger}_{2}\\right)^{2}}{16} + \\frac{a^{\\dagger}_{2} a_{2} a^{\\dagger}_{2} a_{2}^{2} a^{\\dagger}_{2}}{16} + \\frac{a^{\\dagger}_{2} a_{2} a^{\\dagger}_{2} a_{2}^{3}}{16} + \\frac{a^{\\dagger}_{2} a_{2} \\left(a^{\\dagger}_{2}\\right)^{2} a_{2} a^{\\dagger}_{2}}{16} + \\frac{a^{\\dagger}_{2} a_{2} \\left(a^{\\dagger}_{2}\\right)^{2} a_{2}^{2}}{16} + \\frac{a^{\\dagger}_{2} a_{2} \\left(a^{\\dagger}_{2}\\right)^{3} a_{2}}{16} + \\frac{a^{\\dagger}_{2} a_{2} \\left(a^{\\dagger}_{2}\\right)^{4}}{16} + \\frac{a^{\\dagger}_{2} a_{2}^{2} a^{\\dagger}_{0}}{8} - \\frac{a^{\\dagger}_{2} a_{2}^{2} a^{\\dagger}_{1}}{8} + \\frac{a^{\\dagger}_{2} a_{2}^{2} a^{\\dagger}_{2} a_{2} a^{\\dagger}_{2}}{16} + \\frac{a^{\\dagger}_{2} a_{2}^{2} a^{\\dagger}_{2} a_{2}^{2}}{16} + \\frac{a^{\\dagger}_{2} a_{2}^{2} \\left(a^{\\dagger}_{2}\\right)^{2} a_{2}}{16} + \\frac{a^{\\dagger}_{2} a_{2}^{2} \\left(a^{\\dagger}_{2}\\right)^{3}}{16} + \\frac{a^{\\dagger}_{2} a_{2}^{2} a_{0}}{8} - \\frac{a^{\\dagger}_{2} a_{2}^{2} a_{1}}{8} + \\frac{a^{\\dagger}_{2} a_{2}^{3} a^{\\dagger}_{2} a_{2}}{16} + \\frac{a^{\\dagger}_{2} a_{2}^{3} \\left(a^{\\dagger}_{2}\\right)^{2}}{16} + \\frac{a^{\\dagger}_{2} a_{2}^{4} a^{\\dagger}_{2}}{16} + \\frac{a^{\\dagger}_{2} a_{2}^{5}}{16} + \\frac{5 \\left(a^{\\dagger}_{2}\\right)^{2}}{8} - \\frac{3 \\left(a^{\\dagger}_{2}\\right)^{2} \\chi^{\\dagger}_{2} \\chi_{2}}{2} + \\frac{\\left(a^{\\dagger}_{2}\\right)^{2} a_{2} a^{\\dagger}_{0}}{8} - \\frac{\\left(a^{\\dagger}_{2}\\right)^{2} a_{2} a^{\\dagger}_{1}}{8} + \\frac{\\left(a^{\\dagger}_{2}\\right)^{2} a_{2} a^{\\dagger}_{2} a_{2} a^{\\dagger}_{2}}{16} + \\frac{\\left(a^{\\dagger}_{2}\\right)^{2} a_{2} a^{\\dagger}_{2} a_{2}^{2}}{16} + \\frac{\\left(a^{\\dagger}_{2}\\right)^{2} a_{2} \\left(a^{\\dagger}_{2}\\right)^{2} a_{2}}{16} + \\frac{\\left(a^{\\dagger}_{2}\\right)^{2} a_{2} \\left(a^{\\dagger}_{2}\\right)^{3}}{16} + \\frac{\\left(a^{\\dagger}_{2}\\right)^{2} a_{2} a_{0}}{8} - \\frac{\\left(a^{\\dagger}_{2}\\right)^{2} a_{2} a_{1}}{8} + \\frac{\\left(a^{\\dagger}_{2}\\right)^{2} a_{2}^{2} a^{\\dagger}_{2} a_{2}}{16} + \\frac{\\left(a^{\\dagger}_{2}\\right)^{2} a_{2}^{2} \\left(a^{\\dagger}_{2}\\right)^{2}}{16} + \\frac{\\left(a^{\\dagger}_{2}\\right)^{2} a_{2}^{3} a^{\\dagger}_{2}}{16} + \\frac{\\left(a^{\\dagger}_{2}\\right)^{2} a_{2}^{4}}{16} + \\frac{\\left(a^{\\dagger}_{2}\\right)^{3} a^{\\dagger}_{0}}{8} - \\frac{\\left(a^{\\dagger}_{2}\\right)^{3} a^{\\dagger}_{1}}{8} + \\frac{\\left(a^{\\dagger}_{2}\\right)^{3} a_{0}}{8} - \\frac{\\left(a^{\\dagger}_{2}\\right)^{3} a_{1}}{8} + \\frac{\\left(a^{\\dagger}_{2}\\right)^{3} a_{2} a^{\\dagger}_{2} a_{2}}{16} + \\frac{\\left(a^{\\dagger}_{2}\\right)^{3} a_{2} \\left(a^{\\dagger}_{2}\\right)^{2}}{16} + \\frac{\\left(a^{\\dagger}_{2}\\right)^{3} a_{2}^{2} a^{\\dagger}_{2}}{16} + \\frac{\\left(a^{\\dagger}_{2}\\right)^{3} a_{2}^{3}}{16} + \\frac{\\left(a^{\\dagger}_{2}\\right)^{4} a_{2} a^{\\dagger}_{2}}{16} + \\frac{\\left(a^{\\dagger}_{2}\\right)^{4} a_{2}^{2}}{16} + \\frac{\\left(a^{\\dagger}_{2}\\right)^{5} a_{2}}{16} + \\frac{\\left(a^{\\dagger}_{2}\\right)^{6}}{16} + \\frac{9 a_{0} a^{\\dagger}_{0}}{8} - \\frac{3 a_{0} a^{\\dagger}_{0} \\chi^{\\dagger}_{0} \\chi_{0}}{2} + \\frac{a_{0} a^{\\dagger}_{0} a_{0} a^{\\dagger}_{0} a_{0} a^{\\dagger}_{0}}{16} + \\frac{a_{0} a^{\\dagger}_{0} a_{0} a^{\\dagger}_{0} a_{0}^{2}}{16} + \\frac{a_{0} a^{\\dagger}_{0} a_{0} \\left(a^{\\dagger}_{0}\\right)^{2} a_{0}}{16} + \\frac{a_{0} a^{\\dagger}_{0} a_{0} \\left(a^{\\dagger}_{0}\\right)^{3}}{16} + \\frac{a_{0} a^{\\dagger}_{0} a_{0} a^{\\dagger}_{1}}{8} - \\frac{a_{0} a^{\\dagger}_{0} a_{0} a^{\\dagger}_{2}}{8} + \\frac{a_{0} a^{\\dagger}_{0} a_{0} a_{1}}{8} - \\frac{a_{0} a^{\\dagger}_{0} a_{0} a_{2}}{8} + \\frac{a_{0} a^{\\dagger}_{0} a_{0}^{2} a^{\\dagger}_{0} a_{0}}{16} + \\frac{a_{0} a^{\\dagger}_{0} a_{0}^{2} \\left(a^{\\dagger}_{0}\\right)^{2}}{16} + \\frac{a_{0} a^{\\dagger}_{0} a_{0}^{3} a^{\\dagger}_{0}}{16} + \\frac{a_{0} a^{\\dagger}_{0} a_{0}^{4}}{16} + \\frac{a_{0} \\left(a^{\\dagger}_{0}\\right)^{2} a^{\\dagger}_{1}}{8} - \\frac{a_{0} \\left(a^{\\dagger}_{0}\\right)^{2} a^{\\dagger}_{2}}{8} + \\frac{a_{0} \\left(a^{\\dagger}_{0}\\right)^{2} a_{0} a^{\\dagger}_{0} a_{0}}{16} + \\frac{a_{0} \\left(a^{\\dagger}_{0}\\right)^{2} a_{0} \\left(a^{\\dagger}_{0}\\right)^{2}}{16} + \\frac{a_{0} \\left(a^{\\dagger}_{0}\\right)^{2} a_{0}^{2} a^{\\dagger}_{0}}{16} + \\frac{a_{0} \\left(a^{\\dagger}_{0}\\right)^{2} a_{0}^{3}}{16} + \\frac{a_{0} \\left(a^{\\dagger}_{0}\\right)^{2} a_{1}}{8} - \\frac{a_{0} \\left(a^{\\dagger}_{0}\\right)^{2} a_{2}}{8} + \\frac{a_{0} \\left(a^{\\dagger}_{0}\\right)^{3} a_{0} a^{\\dagger}_{0}}{16} + \\frac{a_{0} \\left(a^{\\dagger}_{0}\\right)^{3} a_{0}^{2}}{16} + \\frac{a_{0} \\left(a^{\\dagger}_{0}\\right)^{4} a_{0}}{16} + \\frac{a_{0} \\left(a^{\\dagger}_{0}\\right)^{5}}{16} - \\frac{a_{0} a^{\\dagger}_{1}}{16} - \\frac{a_{0} a^{\\dagger}_{2}}{16} - \\frac{a_{0} a_{1}}{16} - \\frac{a_{0} a_{2}}{16} + \\frac{5 a_{0}^{2}}{8} - \\frac{3 a_{0}^{2} \\chi^{\\dagger}_{0} \\chi_{0}}{2} + \\frac{a_{0}^{2} a^{\\dagger}_{0} a^{\\dagger}_{1}}{8} - \\frac{a_{0}^{2} a^{\\dagger}_{0} a^{\\dagger}_{2}}{8} + \\frac{a_{0}^{2} a^{\\dagger}_{0} a_{0} a^{\\dagger}_{0} a_{0}}{16} + \\frac{a_{0}^{2} a^{\\dagger}_{0} a_{0} \\left(a^{\\dagger}_{0}\\right)^{2}}{16} + \\frac{a_{0}^{2} a^{\\dagger}_{0} a_{0}^{2} a^{\\dagger}_{0}}{16} + \\frac{a_{0}^{2} a^{\\dagger}_{0} a_{0}^{3}}{16} + \\frac{a_{0}^{2} a^{\\dagger}_{0} a_{1}}{8} - \\frac{a_{0}^{2} a^{\\dagger}_{0} a_{2}}{8} + \\frac{a_{0}^{2} \\left(a^{\\dagger}_{0}\\right)^{2} a_{0} a^{\\dagger}_{0}}{16} + \\frac{a_{0}^{2} \\left(a^{\\dagger}_{0}\\right)^{2} a_{0}^{2}}{16} + \\frac{a_{0}^{2} \\left(a^{\\dagger}_{0}\\right)^{3} a_{0}}{16} + \\frac{a_{0}^{2} \\left(a^{\\dagger}_{0}\\right)^{4}}{16} + \\frac{a_{0}^{3} a^{\\dagger}_{0} a_{0} a^{\\dagger}_{0}}{16} + \\frac{a_{0}^{3} a^{\\dagger}_{0} a_{0}^{2}}{16} + \\frac{a_{0}^{3} \\left(a^{\\dagger}_{0}\\right)^{2} a_{0}}{16} + \\frac{a_{0}^{3} \\left(a^{\\dagger}_{0}\\right)^{3}}{16} + \\frac{a_{0}^{3} a^{\\dagger}_{1}}{8} - \\frac{a_{0}^{3} a^{\\dagger}_{2}}{8} + \\frac{a_{0}^{3} a_{1}}{8} - \\frac{a_{0}^{3} a_{2}}{8} + \\frac{a_{0}^{4} a^{\\dagger}_{0} a_{0}}{16} + \\frac{a_{0}^{4} \\left(a^{\\dagger}_{0}\\right)^{2}}{16} + \\frac{a_{0}^{5} a^{\\dagger}_{0}}{16} + \\frac{a_{0}^{6}}{16} - \\frac{a_{1} a^{\\dagger}_{0}}{16} - \\frac{3 a_{1} a^{\\dagger}_{1}}{8} + \\frac{3 a_{1} a^{\\dagger}_{1} \\chi^{\\dagger}_{1} \\chi_{1}}{2} - \\frac{a_{1} a^{\\dagger}_{1} a_{1} a^{\\dagger}_{0}}{8} + \\frac{a_{1} a^{\\dagger}_{1} a_{1} a^{\\dagger}_{1} a_{1} a^{\\dagger}_{1}}{16} + \\frac{a_{1} a^{\\dagger}_{1} a_{1} a^{\\dagger}_{1} a_{1}^{2}}{16} + \\frac{a_{1} a^{\\dagger}_{1} a_{1} \\left(a^{\\dagger}_{1}\\right)^{2} a_{1}}{16} + \\frac{a_{1} a^{\\dagger}_{1} a_{1} \\left(a^{\\dagger}_{1}\\right)^{3}}{16} + \\frac{a_{1} a^{\\dagger}_{1} a_{1} a^{\\dagger}_{2}}{8} - \\frac{a_{1} a^{\\dagger}_{1} a_{1} a_{0}}{8} + \\frac{a_{1} a^{\\dagger}_{1} a_{1} a_{2}}{8} + \\frac{a_{1} a^{\\dagger}_{1} a_{1}^{2} a^{\\dagger}_{1} a_{1}}{16} + \\frac{a_{1} a^{\\dagger}_{1} a_{1}^{2} \\left(a^{\\dagger}_{1}\\right)^{2}}{16} + \\frac{a_{1} a^{\\dagger}_{1} a_{1}^{3} a^{\\dagger}_{1}}{16} + \\frac{a_{1} a^{\\dagger}_{1} a_{1}^{4}}{16} - \\frac{a_{1} \\left(a^{\\dagger}_{1}\\right)^{2} a^{\\dagger}_{0}}{8} + \\frac{a_{1} \\left(a^{\\dagger}_{1}\\right)^{2} a^{\\dagger}_{2}}{8} - \\frac{a_{1} \\left(a^{\\dagger}_{1}\\right)^{2} a_{0}}{8} + \\frac{a_{1} \\left(a^{\\dagger}_{1}\\right)^{2} a_{1} a^{\\dagger}_{1} a_{1}}{16} + \\frac{a_{1} \\left(a^{\\dagger}_{1}\\right)^{2} a_{1} \\left(a^{\\dagger}_{1}\\right)^{2}}{16} + \\frac{a_{1} \\left(a^{\\dagger}_{1}\\right)^{2} a_{1}^{2} a^{\\dagger}_{1}}{16} + \\frac{a_{1} \\left(a^{\\dagger}_{1}\\right)^{2} a_{1}^{3}}{16} + \\frac{a_{1} \\left(a^{\\dagger}_{1}\\right)^{2} a_{2}}{8} + \\frac{a_{1} \\left(a^{\\dagger}_{1}\\right)^{3} a_{1} a^{\\dagger}_{1}}{16} + \\frac{a_{1} \\left(a^{\\dagger}_{1}\\right)^{3} a_{1}^{2}}{16} + \\frac{a_{1} \\left(a^{\\dagger}_{1}\\right)^{4} a_{1}}{16} + \\frac{a_{1} \\left(a^{\\dagger}_{1}\\right)^{5}}{16} - \\frac{a_{1} a^{\\dagger}_{2}}{16} - \\frac{a_{1} a_{0}}{16} - \\frac{a_{1} a_{2}}{16} - \\frac{7 a_{1}^{2}}{8} + \\frac{3 a_{1}^{2} \\chi^{\\dagger}_{1} \\chi_{1}}{2} - \\frac{a_{1}^{2} a^{\\dagger}_{1} a^{\\dagger}_{0}}{8} + \\frac{a_{1}^{2} a^{\\dagger}_{1} a^{\\dagger}_{2}}{8} - \\frac{a_{1}^{2} a^{\\dagger}_{1} a_{0}}{8} + \\frac{a_{1}^{2} a^{\\dagger}_{1} a_{1} a^{\\dagger}_{1} a_{1}}{16} + \\frac{a_{1}^{2} a^{\\dagger}_{1} a_{1} \\left(a^{\\dagger}_{1}\\right)^{2}}{16} + \\frac{a_{1}^{2} a^{\\dagger}_{1} a_{1}^{2} a^{\\dagger}_{1}}{16} + \\frac{a_{1}^{2} a^{\\dagger}_{1} a_{1}^{3}}{16} + \\frac{a_{1}^{2} a^{\\dagger}_{1} a_{2}}{8} + \\frac{a_{1}^{2} \\left(a^{\\dagger}_{1}\\right)^{2} a_{1} a^{\\dagger}_{1}}{16} + \\frac{a_{1}^{2} \\left(a^{\\dagger}_{1}\\right)^{2} a_{1}^{2}}{16} + \\frac{a_{1}^{2} \\left(a^{\\dagger}_{1}\\right)^{3} a_{1}}{16} + \\frac{a_{1}^{2} \\left(a^{\\dagger}_{1}\\right)^{4}}{16} - \\frac{a_{1}^{3} a^{\\dagger}_{0}}{8} + \\frac{a_{1}^{3} a^{\\dagger}_{1} a_{1} a^{\\dagger}_{1}}{16} + \\frac{a_{1}^{3} a^{\\dagger}_{1} a_{1}^{2}}{16} + \\frac{a_{1}^{3} \\left(a^{\\dagger}_{1}\\right)^{2} a_{1}}{16} + \\frac{a_{1}^{3} \\left(a^{\\dagger}_{1}\\right)^{3}}{16} + \\frac{a_{1}^{3} a^{\\dagger}_{2}}{8} - \\frac{a_{1}^{3} a_{0}}{8} + \\frac{a_{1}^{3} a_{2}}{8} + \\frac{a_{1}^{4} a^{\\dagger}_{1} a_{1}}{16} + \\frac{a_{1}^{4} \\left(a^{\\dagger}_{1}\\right)^{2}}{16} + \\frac{a_{1}^{5} a^{\\dagger}_{1}}{16} + \\frac{a_{1}^{6}}{16} - \\frac{a_{2} a^{\\dagger}_{0}}{16} - \\frac{a_{2} a^{\\dagger}_{1}}{16} + \\frac{9 a_{2} a^{\\dagger}_{2}}{8} - \\frac{3 a_{2} a^{\\dagger}_{2} \\chi^{\\dagger}_{2} \\chi_{2}}{2} + \\frac{a_{2} a^{\\dagger}_{2} a_{2} a^{\\dagger}_{0}}{8} - \\frac{a_{2} a^{\\dagger}_{2} a_{2} a^{\\dagger}_{1}}{8} + \\frac{a_{2} a^{\\dagger}_{2} a_{2} a^{\\dagger}_{2} a_{2} a^{\\dagger}_{2}}{16} + \\frac{a_{2} a^{\\dagger}_{2} a_{2} a^{\\dagger}_{2} a_{2}^{2}}{16} + \\frac{a_{2} a^{\\dagger}_{2} a_{2} \\left(a^{\\dagger}_{2}\\right)^{2} a_{2}}{16} + \\frac{a_{2} a^{\\dagger}_{2} a_{2} \\left(a^{\\dagger}_{2}\\right)^{3}}{16} + \\frac{a_{2} a^{\\dagger}_{2} a_{2} a_{0}}{8} - \\frac{a_{2} a^{\\dagger}_{2} a_{2} a_{1}}{8} + \\frac{a_{2} a^{\\dagger}_{2} a_{2}^{2} a^{\\dagger}_{2} a_{2}}{16} + \\frac{a_{2} a^{\\dagger}_{2} a_{2}^{2} \\left(a^{\\dagger}_{2}\\right)^{2}}{16} + \\frac{a_{2} a^{\\dagger}_{2} a_{2}^{3} a^{\\dagger}_{2}}{16} + \\frac{a_{2} a^{\\dagger}_{2} a_{2}^{4}}{16} + \\frac{a_{2} \\left(a^{\\dagger}_{2}\\right)^{2} a^{\\dagger}_{0}}{8} - \\frac{a_{2} \\left(a^{\\dagger}_{2}\\right)^{2} a^{\\dagger}_{1}}{8} + \\frac{a_{2} \\left(a^{\\dagger}_{2}\\right)^{2} a_{0}}{8} - \\frac{a_{2} \\left(a^{\\dagger}_{2}\\right)^{2} a_{1}}{8} + \\frac{a_{2} \\left(a^{\\dagger}_{2}\\right)^{2} a_{2} a^{\\dagger}_{2} a_{2}}{16} + \\frac{a_{2} \\left(a^{\\dagger}_{2}\\right)^{2} a_{2} \\left(a^{\\dagger}_{2}\\right)^{2}}{16} + \\frac{a_{2} \\left(a^{\\dagger}_{2}\\right)^{2} a_{2}^{2} a^{\\dagger}_{2}}{16} + \\frac{a_{2} \\left(a^{\\dagger}_{2}\\right)^{2} a_{2}^{3}}{16} + \\frac{a_{2} \\left(a^{\\dagger}_{2}\\right)^{3} a_{2} a^{\\dagger}_{2}}{16} + \\frac{a_{2} \\left(a^{\\dagger}_{2}\\right)^{3} a_{2}^{2}}{16} + \\frac{a_{2} \\left(a^{\\dagger}_{2}\\right)^{4} a_{2}}{16} + \\frac{a_{2} \\left(a^{\\dagger}_{2}\\right)^{5}}{16} - \\frac{a_{2} a_{0}}{16} - \\frac{a_{2} a_{1}}{16} + \\frac{5 a_{2}^{2}}{8} - \\frac{3 a_{2}^{2} \\chi^{\\dagger}_{2} \\chi_{2}}{2} + \\frac{a_{2}^{2} a^{\\dagger}_{2} a^{\\dagger}_{0}}{8} - \\frac{a_{2}^{2} a^{\\dagger}_{2} a^{\\dagger}_{1}}{8} + \\frac{a_{2}^{2} a^{\\dagger}_{2} a_{0}}{8} - \\frac{a_{2}^{2} a^{\\dagger}_{2} a_{1}}{8} + \\frac{a_{2}^{2} a^{\\dagger}_{2} a_{2} a^{\\dagger}_{2} a_{2}}{16} + \\frac{a_{2}^{2} a^{\\dagger}_{2} a_{2} \\left(a^{\\dagger}_{2}\\right)^{2}}{16} + \\frac{a_{2}^{2} a^{\\dagger}_{2} a_{2}^{2} a^{\\dagger}_{2}}{16} + \\frac{a_{2}^{2} a^{\\dagger}_{2} a_{2}^{3}}{16} + \\frac{a_{2}^{2} \\left(a^{\\dagger}_{2}\\right)^{2} a_{2} a^{\\dagger}_{2}}{16} + \\frac{a_{2}^{2} \\left(a^{\\dagger}_{2}\\right)^{2} a_{2}^{2}}{16} + \\frac{a_{2}^{2} \\left(a^{\\dagger}_{2}\\right)^{3} a_{2}}{16} + \\frac{a_{2}^{2} \\left(a^{\\dagger}_{2}\\right)^{4}}{16} + \\frac{a_{2}^{3} a^{\\dagger}_{0}}{8} - \\frac{a_{2}^{3} a^{\\dagger}_{1}}{8} + \\frac{a_{2}^{3} a^{\\dagger}_{2} a_{2} a^{\\dagger}_{2}}{16} + \\frac{a_{2}^{3} a^{\\dagger}_{2} a_{2}^{2}}{16} + \\frac{a_{2}^{3} \\left(a^{\\dagger}_{2}\\right)^{2} a_{2}}{16} + \\frac{a_{2}^{3} \\left(a^{\\dagger}_{2}\\right)^{3}}{16} + \\frac{a_{2}^{3} a_{0}}{8} - \\frac{a_{2}^{3} a_{1}}{8} + \\frac{a_{2}^{4} a^{\\dagger}_{2} a_{2}}{16} + \\frac{a_{2}^{4} \\left(a^{\\dagger}_{2}\\right)^{2}}{16} + \\frac{a_{2}^{5} a^{\\dagger}_{2}}{16} + \\frac{a_{2}^{6}}{16}$"
      ],
      "text/plain": [
       "\\chi^{\\dagger}_{0}*\\chi_{1}/2 - \\chi^{\\dagger}_{0}*\\chi_{2}/2 + \\chi^{\\dagger}_{1}*\\chi_{0}/2 + \\chi^{\\dagger}_{1}*\\chi_{2}/2 - \\chi^{\\dagger}_{2}*\\chi_{0}/2 + \\chi^{\\dagger}_{2}*\\chi_{1}/2 - a^{\\dagger}_{0}*a^{\\dagger}_{1}/16 - a^{\\dagger}_{0}*a^{\\dagger}_{2}/16 + 9*a^{\\dagger}_{0}*a_{0}/8 - 3*a^{\\dagger}_{0}*a_{0}*\\chi^{\\dagger}_{0}*\\chi_{0}/2 + a^{\\dagger}_{0}*a_{0}*a^{\\dagger}_{0}*a^{\\dagger}_{1}/8 - a^{\\dagger}_{0}*a_{0}*a^{\\dagger}_{0}*a^{\\dagger}_{2}/8 + a^{\\dagger}_{0}*a_{0}*a^{\\dagger}_{0}*a_{0}*a^{\\dagger}_{0}*a_{0}/16 + a^{\\dagger}_{0}*a_{0}*a^{\\dagger}_{0}*a_{0}*a^{\\dagger}_{0}**2/16 + a^{\\dagger}_{0}*a_{0}*a^{\\dagger}_{0}*a_{0}**2*a^{\\dagger}_{0}/16 + a^{\\dagger}_{0}*a_{0}*a^{\\dagger}_{0}*a_{0}**3/16 + a^{\\dagger}_{0}*a_{0}*a^{\\dagger}_{0}*a_{1}/8 - a^{\\dagger}_{0}*a_{0}*a^{\\dagger}_{0}*a_{2}/8 + a^{\\dagger}_{0}*a_{0}*a^{\\dagger}_{0}**2*a_{0}*a^{\\dagger}_{0}/16 + a^{\\dagger}_{0}*a_{0}*a^{\\dagger}_{0}**2*a_{0}**2/16 + a^{\\dagger}_{0}*a_{0}*a^{\\dagger}_{0}**3*a_{0}/16 + a^{\\dagger}_{0}*a_{0}*a^{\\dagger}_{0}**4/16 + a^{\\dagger}_{0}*a_{0}**2*a^{\\dagger}_{0}*a_{0}*a^{\\dagger}_{0}/16 + a^{\\dagger}_{0}*a_{0}**2*a^{\\dagger}_{0}*a_{0}**2/16 + a^{\\dagger}_{0}*a_{0}**2*a^{\\dagger}_{0}**2*a_{0}/16 + a^{\\dagger}_{0}*a_{0}**2*a^{\\dagger}_{0}**3/16 + a^{\\dagger}_{0}*a_{0}**2*a^{\\dagger}_{1}/8 - a^{\\dagger}_{0}*a_{0}**2*a^{\\dagger}_{2}/8 + a^{\\dagger}_{0}*a_{0}**2*a_{1}/8 - a^{\\dagger}_{0}*a_{0}**2*a_{2}/8 + a^{\\dagger}_{0}*a_{0}**3*a^{\\dagger}_{0}*a_{0}/16 + a^{\\dagger}_{0}*a_{0}**3*a^{\\dagger}_{0}**2/16 + a^{\\dagger}_{0}*a_{0}**4*a^{\\dagger}_{0}/16 + a^{\\dagger}_{0}*a_{0}**5/16 - a^{\\dagger}_{0}*a_{1}/16 - a^{\\dagger}_{0}*a_{2}/16 + 5*a^{\\dagger}_{0}**2/8 - 3*a^{\\dagger}_{0}**2*\\chi^{\\dagger}_{0}*\\chi_{0}/2 + a^{\\dagger}_{0}**2*a_{0}*a^{\\dagger}_{0}*a_{0}*a^{\\dagger}_{0}/16 + a^{\\dagger}_{0}**2*a_{0}*a^{\\dagger}_{0}*a_{0}**2/16 + a^{\\dagger}_{0}**2*a_{0}*a^{\\dagger}_{0}**2*a_{0}/16 + a^{\\dagger}_{0}**2*a_{0}*a^{\\dagger}_{0}**3/16 + a^{\\dagger}_{0}**2*a_{0}*a^{\\dagger}_{1}/8 - a^{\\dagger}_{0}**2*a_{0}*a^{\\dagger}_{2}/8 + a^{\\dagger}_{0}**2*a_{0}*a_{1}/8 - a^{\\dagger}_{0}**2*a_{0}*a_{2}/8 + a^{\\dagger}_{0}**2*a_{0}**2*a^{\\dagger}_{0}*a_{0}/16 + a^{\\dagger}_{0}**2*a_{0}**2*a^{\\dagger}_{0}**2/16 + a^{\\dagger}_{0}**2*a_{0}**3*a^{\\dagger}_{0}/16 + a^{\\dagger}_{0}**2*a_{0}**4/16 + a^{\\dagger}_{0}**3*a^{\\dagger}_{1}/8 - a^{\\dagger}_{0}**3*a^{\\dagger}_{2}/8 + a^{\\dagger}_{0}**3*a_{0}*a^{\\dagger}_{0}*a_{0}/16 + a^{\\dagger}_{0}**3*a_{0}*a^{\\dagger}_{0}**2/16 + a^{\\dagger}_{0}**3*a_{0}**2*a^{\\dagger}_{0}/16 + a^{\\dagger}_{0}**3*a_{0}**3/16 + a^{\\dagger}_{0}**3*a_{1}/8 - a^{\\dagger}_{0}**3*a_{2}/8 + a^{\\dagger}_{0}**4*a_{0}*a^{\\dagger}_{0}/16 + a^{\\dagger}_{0}**4*a_{0}**2/16 + a^{\\dagger}_{0}**5*a_{0}/16 + a^{\\dagger}_{0}**6/16 - a^{\\dagger}_{1}*a^{\\dagger}_{0}/16 - a^{\\dagger}_{1}*a^{\\dagger}_{2}/16 - a^{\\dagger}_{1}*a_{0}/16 - 3*a^{\\dagger}_{1}*a_{1}/8 + 3*a^{\\dagger}_{1}*a_{1}*\\chi^{\\dagger}_{1}*\\chi_{1}/2 - a^{\\dagger}_{1}*a_{1}*a^{\\dagger}_{1}*a^{\\dagger}_{0}/8 + a^{\\dagger}_{1}*a_{1}*a^{\\dagger}_{1}*a^{\\dagger}_{2}/8 - a^{\\dagger}_{1}*a_{1}*a^{\\dagger}_{1}*a_{0}/8 + a^{\\dagger}_{1}*a_{1}*a^{\\dagger}_{1}*a_{1}*a^{\\dagger}_{1}*a_{1}/16 + a^{\\dagger}_{1}*a_{1}*a^{\\dagger}_{1}*a_{1}*a^{\\dagger}_{1}**2/16 + a^{\\dagger}_{1}*a_{1}*a^{\\dagger}_{1}*a_{1}**2*a^{\\dagger}_{1}/16 + a^{\\dagger}_{1}*a_{1}*a^{\\dagger}_{1}*a_{1}**3/16 + a^{\\dagger}_{1}*a_{1}*a^{\\dagger}_{1}*a_{2}/8 + a^{\\dagger}_{1}*a_{1}*a^{\\dagger}_{1}**2*a_{1}*a^{\\dagger}_{1}/16 + a^{\\dagger}_{1}*a_{1}*a^{\\dagger}_{1}**2*a_{1}**2/16 + a^{\\dagger}_{1}*a_{1}*a^{\\dagger}_{1}**3*a_{1}/16 + a^{\\dagger}_{1}*a_{1}*a^{\\dagger}_{1}**4/16 - a^{\\dagger}_{1}*a_{1}**2*a^{\\dagger}_{0}/8 + a^{\\dagger}_{1}*a_{1}**2*a^{\\dagger}_{1}*a_{1}*a^{\\dagger}_{1}/16 + a^{\\dagger}_{1}*a_{1}**2*a^{\\dagger}_{1}*a_{1}**2/16 + a^{\\dagger}_{1}*a_{1}**2*a^{\\dagger}_{1}**2*a_{1}/16 + a^{\\dagger}_{1}*a_{1}**2*a^{\\dagger}_{1}**3/16 + a^{\\dagger}_{1}*a_{1}**2*a^{\\dagger}_{2}/8 - a^{\\dagger}_{1}*a_{1}**2*a_{0}/8 + a^{\\dagger}_{1}*a_{1}**2*a_{2}/8 + a^{\\dagger}_{1}*a_{1}**3*a^{\\dagger}_{1}*a_{1}/16 + a^{\\dagger}_{1}*a_{1}**3*a^{\\dagger}_{1}**2/16 + a^{\\dagger}_{1}*a_{1}**4*a^{\\dagger}_{1}/16 + a^{\\dagger}_{1}*a_{1}**5/16 - a^{\\dagger}_{1}*a_{2}/16 - 7*a^{\\dagger}_{1}**2/8 + 3*a^{\\dagger}_{1}**2*\\chi^{\\dagger}_{1}*\\chi_{1}/2 - a^{\\dagger}_{1}**2*a_{1}*a^{\\dagger}_{0}/8 + a^{\\dagger}_{1}**2*a_{1}*a^{\\dagger}_{1}*a_{1}*a^{\\dagger}_{1}/16 + a^{\\dagger}_{1}**2*a_{1}*a^{\\dagger}_{1}*a_{1}**2/16 + a^{\\dagger}_{1}**2*a_{1}*a^{\\dagger}_{1}**2*a_{1}/16 + a^{\\dagger}_{1}**2*a_{1}*a^{\\dagger}_{1}**3/16 + a^{\\dagger}_{1}**2*a_{1}*a^{\\dagger}_{2}/8 - a^{\\dagger}_{1}**2*a_{1}*a_{0}/8 + a^{\\dagger}_{1}**2*a_{1}*a_{2}/8 + a^{\\dagger}_{1}**2*a_{1}**2*a^{\\dagger}_{1}*a_{1}/16 + a^{\\dagger}_{1}**2*a_{1}**2*a^{\\dagger}_{1}**2/16 + a^{\\dagger}_{1}**2*a_{1}**3*a^{\\dagger}_{1}/16 + a^{\\dagger}_{1}**2*a_{1}**4/16 - a^{\\dagger}_{1}**3*a^{\\dagger}_{0}/8 + a^{\\dagger}_{1}**3*a^{\\dagger}_{2}/8 - a^{\\dagger}_{1}**3*a_{0}/8 + a^{\\dagger}_{1}**3*a_{1}*a^{\\dagger}_{1}*a_{1}/16 + a^{\\dagger}_{1}**3*a_{1}*a^{\\dagger}_{1}**2/16 + a^{\\dagger}_{1}**3*a_{1}**2*a^{\\dagger}_{1}/16 + a^{\\dagger}_{1}**3*a_{1}**3/16 + a^{\\dagger}_{1}**3*a_{2}/8 + a^{\\dagger}_{1}**4*a_{1}*a^{\\dagger}_{1}/16 + a^{\\dagger}_{1}**4*a_{1}**2/16 + a^{\\dagger}_{1}**5*a_{1}/16 + a^{\\dagger}_{1}**6/16 - a^{\\dagger}_{2}*a^{\\dagger}_{0}/16 - a^{\\dagger}_{2}*a^{\\dagger}_{1}/16 - a^{\\dagger}_{2}*a_{0}/16 - a^{\\dagger}_{2}*a_{1}/16 + 9*a^{\\dagger}_{2}*a_{2}/8 - 3*a^{\\dagger}_{2}*a_{2}*\\chi^{\\dagger}_{2}*\\chi_{2}/2 + a^{\\dagger}_{2}*a_{2}*a^{\\dagger}_{2}*a^{\\dagger}_{0}/8 - a^{\\dagger}_{2}*a_{2}*a^{\\dagger}_{2}*a^{\\dagger}_{1}/8 + a^{\\dagger}_{2}*a_{2}*a^{\\dagger}_{2}*a_{0}/8 - a^{\\dagger}_{2}*a_{2}*a^{\\dagger}_{2}*a_{1}/8 + a^{\\dagger}_{2}*a_{2}*a^{\\dagger}_{2}*a_{2}*a^{\\dagger}_{2}*a_{2}/16 + a^{\\dagger}_{2}*a_{2}*a^{\\dagger}_{2}*a_{2}*a^{\\dagger}_{2}**2/16 + a^{\\dagger}_{2}*a_{2}*a^{\\dagger}_{2}*a_{2}**2*a^{\\dagger}_{2}/16 + a^{\\dagger}_{2}*a_{2}*a^{\\dagger}_{2}*a_{2}**3/16 + a^{\\dagger}_{2}*a_{2}*a^{\\dagger}_{2}**2*a_{2}*a^{\\dagger}_{2}/16 + a^{\\dagger}_{2}*a_{2}*a^{\\dagger}_{2}**2*a_{2}**2/16 + a^{\\dagger}_{2}*a_{2}*a^{\\dagger}_{2}**3*a_{2}/16 + a^{\\dagger}_{2}*a_{2}*a^{\\dagger}_{2}**4/16 + a^{\\dagger}_{2}*a_{2}**2*a^{\\dagger}_{0}/8 - a^{\\dagger}_{2}*a_{2}**2*a^{\\dagger}_{1}/8 + a^{\\dagger}_{2}*a_{2}**2*a^{\\dagger}_{2}*a_{2}*a^{\\dagger}_{2}/16 + a^{\\dagger}_{2}*a_{2}**2*a^{\\dagger}_{2}*a_{2}**2/16 + a^{\\dagger}_{2}*a_{2}**2*a^{\\dagger}_{2}**2*a_{2}/16 + a^{\\dagger}_{2}*a_{2}**2*a^{\\dagger}_{2}**3/16 + a^{\\dagger}_{2}*a_{2}**2*a_{0}/8 - a^{\\dagger}_{2}*a_{2}**2*a_{1}/8 + a^{\\dagger}_{2}*a_{2}**3*a^{\\dagger}_{2}*a_{2}/16 + a^{\\dagger}_{2}*a_{2}**3*a^{\\dagger}_{2}**2/16 + a^{\\dagger}_{2}*a_{2}**4*a^{\\dagger}_{2}/16 + a^{\\dagger}_{2}*a_{2}**5/16 + 5*a^{\\dagger}_{2}**2/8 - 3*a^{\\dagger}_{2}**2*\\chi^{\\dagger}_{2}*\\chi_{2}/2 + a^{\\dagger}_{2}**2*a_{2}*a^{\\dagger}_{0}/8 - a^{\\dagger}_{2}**2*a_{2}*a^{\\dagger}_{1}/8 + a^{\\dagger}_{2}**2*a_{2}*a^{\\dagger}_{2}*a_{2}*a^{\\dagger}_{2}/16 + a^{\\dagger}_{2}**2*a_{2}*a^{\\dagger}_{2}*a_{2}**2/16 + a^{\\dagger}_{2}**2*a_{2}*a^{\\dagger}_{2}**2*a_{2}/16 + a^{\\dagger}_{2}**2*a_{2}*a^{\\dagger}_{2}**3/16 + a^{\\dagger}_{2}**2*a_{2}*a_{0}/8 - a^{\\dagger}_{2}**2*a_{2}*a_{1}/8 + a^{\\dagger}_{2}**2*a_{2}**2*a^{\\dagger}_{2}*a_{2}/16 + a^{\\dagger}_{2}**2*a_{2}**2*a^{\\dagger}_{2}**2/16 + a^{\\dagger}_{2}**2*a_{2}**3*a^{\\dagger}_{2}/16 + a^{\\dagger}_{2}**2*a_{2}**4/16 + a^{\\dagger}_{2}**3*a^{\\dagger}_{0}/8 - a^{\\dagger}_{2}**3*a^{\\dagger}_{1}/8 + a^{\\dagger}_{2}**3*a_{0}/8 - a^{\\dagger}_{2}**3*a_{1}/8 + a^{\\dagger}_{2}**3*a_{2}*a^{\\dagger}_{2}*a_{2}/16 + a^{\\dagger}_{2}**3*a_{2}*a^{\\dagger}_{2}**2/16 + a^{\\dagger}_{2}**3*a_{2}**2*a^{\\dagger}_{2}/16 + a^{\\dagger}_{2}**3*a_{2}**3/16 + a^{\\dagger}_{2}**4*a_{2}*a^{\\dagger}_{2}/16 + a^{\\dagger}_{2}**4*a_{2}**2/16 + a^{\\dagger}_{2}**5*a_{2}/16 + a^{\\dagger}_{2}**6/16 + 9*a_{0}*a^{\\dagger}_{0}/8 - 3*a_{0}*a^{\\dagger}_{0}*\\chi^{\\dagger}_{0}*\\chi_{0}/2 + a_{0}*a^{\\dagger}_{0}*a_{0}*a^{\\dagger}_{0}*a_{0}*a^{\\dagger}_{0}/16 + a_{0}*a^{\\dagger}_{0}*a_{0}*a^{\\dagger}_{0}*a_{0}**2/16 + a_{0}*a^{\\dagger}_{0}*a_{0}*a^{\\dagger}_{0}**2*a_{0}/16 + a_{0}*a^{\\dagger}_{0}*a_{0}*a^{\\dagger}_{0}**3/16 + a_{0}*a^{\\dagger}_{0}*a_{0}*a^{\\dagger}_{1}/8 - a_{0}*a^{\\dagger}_{0}*a_{0}*a^{\\dagger}_{2}/8 + a_{0}*a^{\\dagger}_{0}*a_{0}*a_{1}/8 - a_{0}*a^{\\dagger}_{0}*a_{0}*a_{2}/8 + a_{0}*a^{\\dagger}_{0}*a_{0}**2*a^{\\dagger}_{0}*a_{0}/16 + a_{0}*a^{\\dagger}_{0}*a_{0}**2*a^{\\dagger}_{0}**2/16 + a_{0}*a^{\\dagger}_{0}*a_{0}**3*a^{\\dagger}_{0}/16 + a_{0}*a^{\\dagger}_{0}*a_{0}**4/16 + a_{0}*a^{\\dagger}_{0}**2*a^{\\dagger}_{1}/8 - a_{0}*a^{\\dagger}_{0}**2*a^{\\dagger}_{2}/8 + a_{0}*a^{\\dagger}_{0}**2*a_{0}*a^{\\dagger}_{0}*a_{0}/16 + a_{0}*a^{\\dagger}_{0}**2*a_{0}*a^{\\dagger}_{0}**2/16 + a_{0}*a^{\\dagger}_{0}**2*a_{0}**2*a^{\\dagger}_{0}/16 + a_{0}*a^{\\dagger}_{0}**2*a_{0}**3/16 + a_{0}*a^{\\dagger}_{0}**2*a_{1}/8 - a_{0}*a^{\\dagger}_{0}**2*a_{2}/8 + a_{0}*a^{\\dagger}_{0}**3*a_{0}*a^{\\dagger}_{0}/16 + a_{0}*a^{\\dagger}_{0}**3*a_{0}**2/16 + a_{0}*a^{\\dagger}_{0}**4*a_{0}/16 + a_{0}*a^{\\dagger}_{0}**5/16 - a_{0}*a^{\\dagger}_{1}/16 - a_{0}*a^{\\dagger}_{2}/16 - a_{0}*a_{1}/16 - a_{0}*a_{2}/16 + 5*a_{0}**2/8 - 3*a_{0}**2*\\chi^{\\dagger}_{0}*\\chi_{0}/2 + a_{0}**2*a^{\\dagger}_{0}*a^{\\dagger}_{1}/8 - a_{0}**2*a^{\\dagger}_{0}*a^{\\dagger}_{2}/8 + a_{0}**2*a^{\\dagger}_{0}*a_{0}*a^{\\dagger}_{0}*a_{0}/16 + a_{0}**2*a^{\\dagger}_{0}*a_{0}*a^{\\dagger}_{0}**2/16 + a_{0}**2*a^{\\dagger}_{0}*a_{0}**2*a^{\\dagger}_{0}/16 + a_{0}**2*a^{\\dagger}_{0}*a_{0}**3/16 + a_{0}**2*a^{\\dagger}_{0}*a_{1}/8 - a_{0}**2*a^{\\dagger}_{0}*a_{2}/8 + a_{0}**2*a^{\\dagger}_{0}**2*a_{0}*a^{\\dagger}_{0}/16 + a_{0}**2*a^{\\dagger}_{0}**2*a_{0}**2/16 + a_{0}**2*a^{\\dagger}_{0}**3*a_{0}/16 + a_{0}**2*a^{\\dagger}_{0}**4/16 + a_{0}**3*a^{\\dagger}_{0}*a_{0}*a^{\\dagger}_{0}/16 + a_{0}**3*a^{\\dagger}_{0}*a_{0}**2/16 + a_{0}**3*a^{\\dagger}_{0}**2*a_{0}/16 + a_{0}**3*a^{\\dagger}_{0}**3/16 + a_{0}**3*a^{\\dagger}_{1}/8 - a_{0}**3*a^{\\dagger}_{2}/8 + a_{0}**3*a_{1}/8 - a_{0}**3*a_{2}/8 + a_{0}**4*a^{\\dagger}_{0}*a_{0}/16 + a_{0}**4*a^{\\dagger}_{0}**2/16 + a_{0}**5*a^{\\dagger}_{0}/16 + a_{0}**6/16 - a_{1}*a^{\\dagger}_{0}/16 - 3*a_{1}*a^{\\dagger}_{1}/8 + 3*a_{1}*a^{\\dagger}_{1}*\\chi^{\\dagger}_{1}*\\chi_{1}/2 - a_{1}*a^{\\dagger}_{1}*a_{1}*a^{\\dagger}_{0}/8 + a_{1}*a^{\\dagger}_{1}*a_{1}*a^{\\dagger}_{1}*a_{1}*a^{\\dagger}_{1}/16 + a_{1}*a^{\\dagger}_{1}*a_{1}*a^{\\dagger}_{1}*a_{1}**2/16 + a_{1}*a^{\\dagger}_{1}*a_{1}*a^{\\dagger}_{1}**2*a_{1}/16 + a_{1}*a^{\\dagger}_{1}*a_{1}*a^{\\dagger}_{1}**3/16 + a_{1}*a^{\\dagger}_{1}*a_{1}*a^{\\dagger}_{2}/8 - a_{1}*a^{\\dagger}_{1}*a_{1}*a_{0}/8 + a_{1}*a^{\\dagger}_{1}*a_{1}*a_{2}/8 + a_{1}*a^{\\dagger}_{1}*a_{1}**2*a^{\\dagger}_{1}*a_{1}/16 + a_{1}*a^{\\dagger}_{1}*a_{1}**2*a^{\\dagger}_{1}**2/16 + a_{1}*a^{\\dagger}_{1}*a_{1}**3*a^{\\dagger}_{1}/16 + a_{1}*a^{\\dagger}_{1}*a_{1}**4/16 - a_{1}*a^{\\dagger}_{1}**2*a^{\\dagger}_{0}/8 + a_{1}*a^{\\dagger}_{1}**2*a^{\\dagger}_{2}/8 - a_{1}*a^{\\dagger}_{1}**2*a_{0}/8 + a_{1}*a^{\\dagger}_{1}**2*a_{1}*a^{\\dagger}_{1}*a_{1}/16 + a_{1}*a^{\\dagger}_{1}**2*a_{1}*a^{\\dagger}_{1}**2/16 + a_{1}*a^{\\dagger}_{1}**2*a_{1}**2*a^{\\dagger}_{1}/16 + a_{1}*a^{\\dagger}_{1}**2*a_{1}**3/16 + a_{1}*a^{\\dagger}_{1}**2*a_{2}/8 + a_{1}*a^{\\dagger}_{1}**3*a_{1}*a^{\\dagger}_{1}/16 + a_{1}*a^{\\dagger}_{1}**3*a_{1}**2/16 + a_{1}*a^{\\dagger}_{1}**4*a_{1}/16 + a_{1}*a^{\\dagger}_{1}**5/16 - a_{1}*a^{\\dagger}_{2}/16 - a_{1}*a_{0}/16 - a_{1}*a_{2}/16 - 7*a_{1}**2/8 + 3*a_{1}**2*\\chi^{\\dagger}_{1}*\\chi_{1}/2 - a_{1}**2*a^{\\dagger}_{1}*a^{\\dagger}_{0}/8 + a_{1}**2*a^{\\dagger}_{1}*a^{\\dagger}_{2}/8 - a_{1}**2*a^{\\dagger}_{1}*a_{0}/8 + a_{1}**2*a^{\\dagger}_{1}*a_{1}*a^{\\dagger}_{1}*a_{1}/16 + a_{1}**2*a^{\\dagger}_{1}*a_{1}*a^{\\dagger}_{1}**2/16 + a_{1}**2*a^{\\dagger}_{1}*a_{1}**2*a^{\\dagger}_{1}/16 + a_{1}**2*a^{\\dagger}_{1}*a_{1}**3/16 + a_{1}**2*a^{\\dagger}_{1}*a_{2}/8 + a_{1}**2*a^{\\dagger}_{1}**2*a_{1}*a^{\\dagger}_{1}/16 + a_{1}**2*a^{\\dagger}_{1}**2*a_{1}**2/16 + a_{1}**2*a^{\\dagger}_{1}**3*a_{1}/16 + a_{1}**2*a^{\\dagger}_{1}**4/16 - a_{1}**3*a^{\\dagger}_{0}/8 + a_{1}**3*a^{\\dagger}_{1}*a_{1}*a^{\\dagger}_{1}/16 + a_{1}**3*a^{\\dagger}_{1}*a_{1}**2/16 + a_{1}**3*a^{\\dagger}_{1}**2*a_{1}/16 + a_{1}**3*a^{\\dagger}_{1}**3/16 + a_{1}**3*a^{\\dagger}_{2}/8 - a_{1}**3*a_{0}/8 + a_{1}**3*a_{2}/8 + a_{1}**4*a^{\\dagger}_{1}*a_{1}/16 + a_{1}**4*a^{\\dagger}_{1}**2/16 + a_{1}**5*a^{\\dagger}_{1}/16 + a_{1}**6/16 - a_{2}*a^{\\dagger}_{0}/16 - a_{2}*a^{\\dagger}_{1}/16 + 9*a_{2}*a^{\\dagger}_{2}/8 - 3*a_{2}*a^{\\dagger}_{2}*\\chi^{\\dagger}_{2}*\\chi_{2}/2 + a_{2}*a^{\\dagger}_{2}*a_{2}*a^{\\dagger}_{0}/8 - a_{2}*a^{\\dagger}_{2}*a_{2}*a^{\\dagger}_{1}/8 + a_{2}*a^{\\dagger}_{2}*a_{2}*a^{\\dagger}_{2}*a_{2}*a^{\\dagger}_{2}/16 + a_{2}*a^{\\dagger}_{2}*a_{2}*a^{\\dagger}_{2}*a_{2}**2/16 + a_{2}*a^{\\dagger}_{2}*a_{2}*a^{\\dagger}_{2}**2*a_{2}/16 + a_{2}*a^{\\dagger}_{2}*a_{2}*a^{\\dagger}_{2}**3/16 + a_{2}*a^{\\dagger}_{2}*a_{2}*a_{0}/8 - a_{2}*a^{\\dagger}_{2}*a_{2}*a_{1}/8 + a_{2}*a^{\\dagger}_{2}*a_{2}**2*a^{\\dagger}_{2}*a_{2}/16 + a_{2}*a^{\\dagger}_{2}*a_{2}**2*a^{\\dagger}_{2}**2/16 + a_{2}*a^{\\dagger}_{2}*a_{2}**3*a^{\\dagger}_{2}/16 + a_{2}*a^{\\dagger}_{2}*a_{2}**4/16 + a_{2}*a^{\\dagger}_{2}**2*a^{\\dagger}_{0}/8 - a_{2}*a^{\\dagger}_{2}**2*a^{\\dagger}_{1}/8 + a_{2}*a^{\\dagger}_{2}**2*a_{0}/8 - a_{2}*a^{\\dagger}_{2}**2*a_{1}/8 + a_{2}*a^{\\dagger}_{2}**2*a_{2}*a^{\\dagger}_{2}*a_{2}/16 + a_{2}*a^{\\dagger}_{2}**2*a_{2}*a^{\\dagger}_{2}**2/16 + a_{2}*a^{\\dagger}_{2}**2*a_{2}**2*a^{\\dagger}_{2}/16 + a_{2}*a^{\\dagger}_{2}**2*a_{2}**3/16 + a_{2}*a^{\\dagger}_{2}**3*a_{2}*a^{\\dagger}_{2}/16 + a_{2}*a^{\\dagger}_{2}**3*a_{2}**2/16 + a_{2}*a^{\\dagger}_{2}**4*a_{2}/16 + a_{2}*a^{\\dagger}_{2}**5/16 - a_{2}*a_{0}/16 - a_{2}*a_{1}/16 + 5*a_{2}**2/8 - 3*a_{2}**2*\\chi^{\\dagger}_{2}*\\chi_{2}/2 + a_{2}**2*a^{\\dagger}_{2}*a^{\\dagger}_{0}/8 - a_{2}**2*a^{\\dagger}_{2}*a^{\\dagger}_{1}/8 + a_{2}**2*a^{\\dagger}_{2}*a_{0}/8 - a_{2}**2*a^{\\dagger}_{2}*a_{1}/8 + a_{2}**2*a^{\\dagger}_{2}*a_{2}*a^{\\dagger}_{2}*a_{2}/16 + a_{2}**2*a^{\\dagger}_{2}*a_{2}*a^{\\dagger}_{2}**2/16 + a_{2}**2*a^{\\dagger}_{2}*a_{2}**2*a^{\\dagger}_{2}/16 + a_{2}**2*a^{\\dagger}_{2}*a_{2}**3/16 + a_{2}**2*a^{\\dagger}_{2}**2*a_{2}*a^{\\dagger}_{2}/16 + a_{2}**2*a^{\\dagger}_{2}**2*a_{2}**2/16 + a_{2}**2*a^{\\dagger}_{2}**3*a_{2}/16 + a_{2}**2*a^{\\dagger}_{2}**4/16 + a_{2}**3*a^{\\dagger}_{0}/8 - a_{2}**3*a^{\\dagger}_{1}/8 + a_{2}**3*a^{\\dagger}_{2}*a_{2}*a^{\\dagger}_{2}/16 + a_{2}**3*a^{\\dagger}_{2}*a_{2}**2/16 + a_{2}**3*a^{\\dagger}_{2}**2*a_{2}/16 + a_{2}**3*a^{\\dagger}_{2}**3/16 + a_{2}**3*a_{0}/8 - a_{2}**3*a_{1}/8 + a_{2}**4*a^{\\dagger}_{2}*a_{2}/16 + a_{2}**4*a^{\\dagger}_{2}**2/16 + a_{2}**5*a^{\\dagger}_{2}/16 + a_{2}**6/16"
      ]
     },
     "execution_count": 8,
     "metadata": {},
     "output_type": "execute_result"
    }
   ],
   "source": [
    "m=1\n",
    "\n",
    "HOdofSubs = {}\n",
    "#offset because of BC\n",
    "for i in range(1,N+1):\n",
    "    HOdofSubs[qs[i]] = 0.5*sp.sqrt(2/m)*(aops[i] + adags[i])\n",
    "    HOdofSubs[ps[i]] = complex(0,1)*sp.sqrt(2*m)*(adags[i] - aops[i])/2 \n",
    "\n",
    "hoHam=sp.expand(ham.subs(HOdofSubs))\n",
    "hoHam=sp.nsimplify(hoHam,tolerance=1e-8)\n",
    "hoHam"
   ]
  },
  {
   "cell_type": "code",
   "execution_count": 21,
   "id": "90e5e687-79aa-466f-a380-667e14214f54",
   "metadata": {},
   "outputs": [
    {
     "data": {
      "text/plain": [
       "<2744x2744 sparse matrix of type '<class 'numpy.object_'>'\n",
       "\twith 392 stored elements in Compressed Sparse Row format>"
      ]
     },
     "execution_count": 21,
     "metadata": {},
     "output_type": "execute_result"
    }
   ],
   "source": [
    "tstTerm=aops[3]**6/16\n",
    "mat=convert_term_to_matrix(tstTerm,7,N,aops,adags,xs,xdags)\n",
    "mat"
   ]
  },
  {
   "cell_type": "code",
   "execution_count": 22,
   "id": "31f2aa71-9a36-4657-b9fb-1e9509194d8b",
   "metadata": {},
   "outputs": [
    {
     "name": "stdout",
     "output_type": "stream",
     "text": [
      "  (0, 12)\t1.67705094814301\n",
      "  (1, 13)\t1.67705094814301\n",
      "  (14, 26)\t1.67705094814301\n",
      "  (15, 27)\t1.67705094814301\n",
      "  (28, 40)\t1.67705094814301\n",
      "  (29, 41)\t1.67705094814301\n",
      "  (42, 54)\t1.67705094814301\n",
      "  (43, 55)\t1.67705094814301\n",
      "  (56, 68)\t1.67705094814301\n",
      "  (57, 69)\t1.67705094814301\n",
      "  (70, 82)\t1.67705094814301\n",
      "  (71, 83)\t1.67705094814301\n",
      "  (84, 96)\t1.67705094814301\n",
      "  (85, 97)\t1.67705094814301\n",
      "  (98, 110)\t1.67705094814301\n",
      "  (99, 111)\t1.67705094814301\n",
      "  (112, 124)\t1.67705094814301\n",
      "  (113, 125)\t1.67705094814301\n",
      "  (126, 138)\t1.67705094814301\n",
      "  (127, 139)\t1.67705094814301\n",
      "  (140, 152)\t1.67705094814301\n",
      "  (141, 153)\t1.67705094814301\n",
      "  (154, 166)\t1.67705094814301\n",
      "  (155, 167)\t1.67705094814301\n",
      "  (168, 180)\t1.67705094814301\n",
      "  :\t:\n",
      "  (2563, 2575)\t1.67705094814301\n",
      "  (2576, 2588)\t1.67705094814301\n",
      "  (2577, 2589)\t1.67705094814301\n",
      "  (2590, 2602)\t1.67705094814301\n",
      "  (2591, 2603)\t1.67705094814301\n",
      "  (2604, 2616)\t1.67705094814301\n",
      "  (2605, 2617)\t1.67705094814301\n",
      "  (2618, 2630)\t1.67705094814301\n",
      "  (2619, 2631)\t1.67705094814301\n",
      "  (2632, 2644)\t1.67705094814301\n",
      "  (2633, 2645)\t1.67705094814301\n",
      "  (2646, 2658)\t1.67705094814301\n",
      "  (2647, 2659)\t1.67705094814301\n",
      "  (2660, 2672)\t1.67705094814301\n",
      "  (2661, 2673)\t1.67705094814301\n",
      "  (2674, 2686)\t1.67705094814301\n",
      "  (2675, 2687)\t1.67705094814301\n",
      "  (2688, 2700)\t1.67705094814301\n",
      "  (2689, 2701)\t1.67705094814301\n",
      "  (2702, 2714)\t1.67705094814301\n",
      "  (2703, 2715)\t1.67705094814301\n",
      "  (2716, 2728)\t1.67705094814301\n",
      "  (2717, 2729)\t1.67705094814301\n",
      "  (2730, 2742)\t1.67705094814301\n",
      "  (2731, 2743)\t1.67705094814301\n"
     ]
    }
   ],
   "source": [
    "print(mat)"
   ]
  },
  {
   "cell_type": "code",
   "execution_count": 9,
   "id": "cd87ca84",
   "metadata": {},
   "outputs": [
    {
     "name": "stdout",
     "output_type": "stream",
     "text": [
      "toHam timer took: 3.1003 seconds\n",
      "evals timer took: 0.0020 seconds\n",
      "Lambda =  2\n",
      "[ 0.0500414 +2.4659816e-10j  0.05004131+2.2609234e-09j\n",
      "  0.05004135-4.4795953e-10j  0.05004134-2.7546445e-09j\n",
      " -0.4499581 +1.2257945e-08j  0.1874998 -6.1010230e-10j\n",
      "  0.18749993-1.9037238e-09j -0.4499581 -7.2593931e-09j\n",
      "  0.05004137+4.7447806e-09j  0.05004138-5.9703336e-09j]\n",
      "\n",
      "toHam timer took: 4.4757 seconds\n",
      "evals timer took: 0.0032 seconds\n",
      "Lambda =  3\n",
      "[0.04553828+7.3646550e-10j 0.05645382-9.4140096e-10j\n",
      " 0.17575878-1.9280917e-09j 0.18965451+3.5438590e-09j\n",
      " 0.18291551+9.1546948e-10j 0.23131132-6.7541781e-09j\n",
      " 0.4234793 +1.8205257e-09j 0.41870093-1.5271187e-09j\n",
      " 0.55000836-2.3337959e-08j 0.57022065+2.8228075e-10j]\n",
      "\n",
      "toHam timer took: 7.4137 seconds\n",
      "evals timer took: 0.0064 seconds\n",
      "Lambda =  4\n",
      "[0.16245367-9.6729620e-09j 0.6318225 -4.1816008e-09j\n",
      " 0.8892409 -7.5551139e-09j 1.0975865 -9.0338563e-09j\n",
      " 1.095807  -7.9006313e-09j 1.3383268 -1.5619836e-08j\n",
      " 1.3511088 +1.4993645e-08j 1.5561867 -2.0725325e-08j\n",
      " 1.5650226 -1.6647920e-08j 1.7612303 +8.5798453e-09j]\n",
      "\n",
      "toHam timer took: 14.0709 seconds\n",
      "evals timer took: 0.0136 seconds\n",
      "Lambda =  5\n",
      "[-0.00354516-5.15625632e-11j  0.16290799-7.35452366e-09j\n",
      "  0.17366995-1.02872634e-10j -0.40536618+1.43806531e-08j\n",
      "  0.46027905+8.68727223e-09j  0.48438883+6.27797503e-09j\n",
      "  0.6388135 +1.03545768e-08j  0.79190975-3.18929914e-08j\n",
      "  0.90073806-4.20066026e-09j  0.9429456 -2.37336071e-08j]\n",
      "\n",
      "toHam timer took: 25.9832 seconds\n",
      "evals timer took: 0.0473 seconds\n",
      "Lambda =  6\n",
      "[0.22917432+2.80145795e-09j 0.7147703 -4.74690367e-08j\n",
      " 1.186249  +2.52140886e-08j 1.3708568 -1.31053106e-08j\n",
      " 1.3922663 +5.26598924e-08j 1.4506291 -2.00975649e-07j\n",
      " 1.7631712 +2.70303445e-07j 1.8070183 -1.19021585e-07j\n",
      " 1.9467125 -1.22567215e-07j 2.0899477 -3.02077900e-08j]\n",
      "\n",
      "toHam timer took: 46.2578 seconds\n",
      "evals timer took: 0.1629 seconds\n",
      "Lambda =  7\n",
      "[-0.21573097+2.5576698e-08j  0.4081401 -3.1084653e-08j\n",
      "  0.74934334-3.6927472e-07j  1.0335758 +4.2248427e-09j\n",
      "  1.0738105 +3.3355267e-08j  1.0994122 -9.0637990e-08j\n",
      "  1.4416854 -5.9133388e-08j  1.5244305 -7.5361989e-08j\n",
      "  1.7105858 +5.1164186e-08j  1.8767189 -9.8867950e-08j]\n",
      "\n",
      "toHam timer took: 78.5491 seconds\n",
      "evals timer took: 0.4753 seconds\n",
      "Lambda =  8\n",
      "[-0.07457864+6.9203828e-08j  0.5085706 +7.8769746e-09j\n",
      "  0.53023106+3.4925979e-08j  0.8680517 +5.4177036e-08j\n",
      "  0.909238  +2.3199343e-07j  1.146753  -2.7838669e-07j\n",
      "  1.2946217 +4.7009777e-08j  1.2738725 +2.1753544e-07j\n",
      "  1.5510379 -7.1664942e-08j  1.6582326 -1.4723902e-07j]\n",
      "\n",
      "toHam timer took: 129.4819 seconds\n",
      "evals timer took: 0.6755 seconds\n",
      "Lambda =  9\n",
      "[0.086432  -2.4648859e-08j 0.60363936+8.0192130e-08j\n",
      " 1.1444328 -2.9972213e-07j 1.2681088 -4.5825274e-07j\n",
      " 1.400047  -2.1367367e-07j 1.4363214 +2.5390995e-07j\n",
      " 1.7232339 -3.4117693e-07j 1.7870183 +1.6652511e-07j\n",
      " 1.9333198 +1.0584212e-07j 2.1296818 +1.4332912e-07j]\n",
      "\n",
      "toHam timer took: 205.2532 seconds\n",
      "evals timer took: 1.4779 seconds\n",
      "Lambda =  10\n",
      "[-0.0505078 +5.0683291e-10j  0.5307007 +2.3040204e-08j\n",
      "  0.68947494+7.0531918e-08j  1.0157748 -3.3441133e-08j\n",
      "  1.0530424 +3.4957399e-08j  1.1667987 -1.4363746e-08j\n",
      "  1.4312526 -7.4681424e-08j  1.5968767 +3.6498960e-07j\n",
      "  1.6020626 -4.9573930e-07j  1.8178868 +2.9704371e-08j]\n",
      "\n",
      "toHam timer took: 319.2997 seconds\n",
      "evals timer took: 3.6767 seconds\n",
      "Lambda =  11\n",
      "[0.06943481+6.6804432e-08j 0.6028776 -2.4976237e-07j\n",
      " 1.0021517 +4.3080348e-08j 1.2536306 -7.2802663e-08j\n",
      " 1.2841464 +2.9961850e-08j 1.3228376 +1.8249980e-07j\n",
      " 1.6759299 -1.5543579e-07j 1.6948097 +7.1791948e-07j\n",
      " 1.8891848 +8.6224372e-07j 2.040844  -2.2288793e-07j]\n",
      "\n"
     ]
    },
    {
     "ename": "KeyboardInterrupt",
     "evalue": "",
     "output_type": "error",
     "traceback": [
      "\u001b[0;31m---------------------------------------------------------------------------\u001b[0m",
      "\u001b[0;31mKeyboardInterrupt\u001b[0m                         Traceback (most recent call last)",
      "Input \u001b[0;32mIn [9]\u001b[0m, in \u001b[0;36m<cell line: 1>\u001b[0;34m()\u001b[0m\n\u001b[1;32m      2\u001b[0m t\u001b[38;5;241m=\u001b[39mTimer(\u001b[38;5;124m'\u001b[39m\u001b[38;5;124mtoHam\u001b[39m\u001b[38;5;124m'\u001b[39m)\n\u001b[1;32m      3\u001b[0m t\u001b[38;5;241m.\u001b[39mstart()\n\u001b[0;32m----> 4\u001b[0m hamMat\u001b[38;5;241m=\u001b[39m\u001b[43mconvert_to_matrix\u001b[49m\u001b[43m(\u001b[49m\u001b[43mhoHam\u001b[49m\u001b[43m,\u001b[49m\u001b[43mcutoff\u001b[49m\u001b[43m,\u001b[49m\u001b[43mN\u001b[49m\u001b[43m,\u001b[49m\u001b[43maops\u001b[49m\u001b[43m,\u001b[49m\u001b[43madags\u001b[49m\u001b[43m,\u001b[49m\u001b[43mxs\u001b[49m\u001b[43m,\u001b[49m\u001b[43mxdags\u001b[49m\u001b[43m)\u001b[49m\n\u001b[1;32m      5\u001b[0m t\u001b[38;5;241m.\u001b[39mstop()\n\u001b[1;32m      7\u001b[0m t\u001b[38;5;241m=\u001b[39mTimer(\u001b[38;5;124m'\u001b[39m\u001b[38;5;124mevals\u001b[39m\u001b[38;5;124m'\u001b[39m)\n",
      "File \u001b[0;32m~/Code/WessZumino/ham_to_sparse_matrix.py:77\u001b[0m, in \u001b[0;36mconvert_to_matrix\u001b[0;34m(expr, cutoff, Nsites, aops, adags, xs, xdags)\u001b[0m\n\u001b[1;32m     73\u001b[0m \u001b[38;5;66;03m# convert each term to matrix and sum up\u001b[39;00m\n\u001b[1;32m     74\u001b[0m \u001b[38;5;28;01mfor\u001b[39;00m t \u001b[38;5;129;01min\u001b[39;00m expr\u001b[38;5;241m.\u001b[39margs:\n\u001b[1;32m     75\u001b[0m     \u001b[38;5;66;03m#timer=Timer(str(t)+' to matrix')\u001b[39;00m\n\u001b[1;32m     76\u001b[0m     \u001b[38;5;66;03m#timer.start()\u001b[39;00m\n\u001b[0;32m---> 77\u001b[0m     termMat\u001b[38;5;241m=\u001b[39m\u001b[43mconvert_term_to_matrix\u001b[49m\u001b[43m(\u001b[49m\u001b[43mt\u001b[49m\u001b[43m,\u001b[49m\u001b[43mcutoff\u001b[49m\u001b[43m,\u001b[49m\u001b[43mNsites\u001b[49m\u001b[43m,\u001b[49m\u001b[43m \u001b[49m\u001b[43maops\u001b[49m\u001b[43m,\u001b[49m\u001b[43m \u001b[49m\u001b[43madags\u001b[49m\u001b[43m,\u001b[49m\u001b[43m \u001b[49m\u001b[43mxs\u001b[49m\u001b[43m,\u001b[49m\u001b[43m \u001b[49m\u001b[43mxdags\u001b[49m\u001b[43m)\u001b[49m\u001b[38;5;241m.\u001b[39mastype(np\u001b[38;5;241m.\u001b[39mcomplex64)\n\u001b[1;32m     78\u001b[0m     tmp\u001b[38;5;241m=\u001b[39mfullHam\u001b[38;5;241m+\u001b[39mtermMat\n\u001b[1;32m     79\u001b[0m     fullHam\u001b[38;5;241m=\u001b[39mtmp\n",
      "File \u001b[0;32m~/Code/WessZumino/ham_to_sparse_matrix.py:92\u001b[0m, in \u001b[0;36mconvert_term_to_matrix\u001b[0;34m(term, cutoff, Nsites, aops, adags, xs, xdags)\u001b[0m\n\u001b[1;32m     87\u001b[0m \u001b[38;5;28;01mdef\u001b[39;00m \u001b[38;5;21mconvert_term_to_matrix\u001b[39m(term, cutoff, Nsites, aops, adags, xs, xdags):\n\u001b[1;32m     88\u001b[0m     \u001b[38;5;66;03m#setupTimer=Timer('setup')\u001b[39;00m\n\u001b[1;32m     89\u001b[0m     \u001b[38;5;66;03m#setupTimer.start()\u001b[39;00m\n\u001b[1;32m     91\u001b[0m     buffer\u001b[38;5;241m=\u001b[39m\u001b[38;5;241m0\u001b[39m\n\u001b[0;32m---> 92\u001b[0m     prodMatrix \u001b[38;5;241m=\u001b[39m \u001b[43mscipy\u001b[49m\u001b[38;5;241;43m.\u001b[39;49m\u001b[43msparse\u001b[49m\u001b[38;5;241;43m.\u001b[39;49m\u001b[43mcoo_matrix\u001b[49m\u001b[43m(\u001b[49m\u001b[43mnp\u001b[49m\u001b[38;5;241;43m.\u001b[39;49m\u001b[43meye\u001b[49m\u001b[43m(\u001b[49m\u001b[43m(\u001b[49m\u001b[43m(\u001b[49m\u001b[43mcutoff\u001b[49m\u001b[38;5;241;43m+\u001b[39;49m\u001b[43mbuffer\u001b[49m\u001b[43m)\u001b[49m\u001b[38;5;241;43m*\u001b[39;49m\u001b[38;5;241;43m*\u001b[39;49m\u001b[43mNsites\u001b[49m\u001b[43m)\u001b[49m\u001b[38;5;241;43m*\u001b[39;49m\u001b[43m(\u001b[49m\u001b[38;5;241;43m2\u001b[39;49m\u001b[38;5;241;43m*\u001b[39;49m\u001b[38;5;241;43m*\u001b[39;49m\u001b[43mNsites\u001b[49m\u001b[43m)\u001b[49m\u001b[43m)\u001b[49m\u001b[43m)\u001b[49m\u001b[38;5;241m.\u001b[39mastype(np\u001b[38;5;241m.\u001b[39mcomplex64)\n\u001b[1;32m     94\u001b[0m     \u001b[38;5;66;03m#print(\"prod Start=\",prodMatrix)\u001b[39;00m\n\u001b[1;32m     96\u001b[0m     \u001b[38;5;28;01mif\u001b[39;00m \u001b[38;5;28mlen\u001b[39m(term\u001b[38;5;241m.\u001b[39margs)\u001b[38;5;241m==\u001b[39m\u001b[38;5;241m0\u001b[39m:\n",
      "File \u001b[0;32m~/anaconda3/envs/QuantumComputing/lib/python3.9/site-packages/scipy/sparse/_coo.py:189\u001b[0m, in \u001b[0;36mcoo_matrix.__init__\u001b[0;34m(self, arg1, shape, dtype, copy)\u001b[0m\n\u001b[1;32m    185\u001b[0m     \u001b[38;5;28;01mif\u001b[39;00m check_shape(shape) \u001b[38;5;241m!=\u001b[39m \u001b[38;5;28mself\u001b[39m\u001b[38;5;241m.\u001b[39m_shape:\n\u001b[1;32m    186\u001b[0m         \u001b[38;5;28;01mraise\u001b[39;00m \u001b[38;5;167;01mValueError\u001b[39;00m(\u001b[38;5;124m'\u001b[39m\u001b[38;5;124minconsistent shapes: \u001b[39m\u001b[38;5;132;01m%s\u001b[39;00m\u001b[38;5;124m != \u001b[39m\u001b[38;5;132;01m%s\u001b[39;00m\u001b[38;5;124m'\u001b[39m \u001b[38;5;241m%\u001b[39m\n\u001b[1;32m    187\u001b[0m                          (shape, \u001b[38;5;28mself\u001b[39m\u001b[38;5;241m.\u001b[39m_shape))\n\u001b[0;32m--> 189\u001b[0m \u001b[38;5;28mself\u001b[39m\u001b[38;5;241m.\u001b[39mrow, \u001b[38;5;28mself\u001b[39m\u001b[38;5;241m.\u001b[39mcol \u001b[38;5;241m=\u001b[39m \u001b[43mM\u001b[49m\u001b[38;5;241;43m.\u001b[39;49m\u001b[43mnonzero\u001b[49m\u001b[43m(\u001b[49m\u001b[43m)\u001b[49m\n\u001b[1;32m    190\u001b[0m \u001b[38;5;28mself\u001b[39m\u001b[38;5;241m.\u001b[39mdata \u001b[38;5;241m=\u001b[39m M[\u001b[38;5;28mself\u001b[39m\u001b[38;5;241m.\u001b[39mrow, \u001b[38;5;28mself\u001b[39m\u001b[38;5;241m.\u001b[39mcol]\n\u001b[1;32m    191\u001b[0m \u001b[38;5;28mself\u001b[39m\u001b[38;5;241m.\u001b[39mhas_canonical_format \u001b[38;5;241m=\u001b[39m \u001b[38;5;28;01mTrue\u001b[39;00m\n",
      "\u001b[0;31mKeyboardInterrupt\u001b[0m: "
     ]
    }
   ],
   "source": [
    "for cutoff in [2,3,4,5,6,7,8,9,10,11,12]:\n",
    "    t=Timer('toHam')\n",
    "    t.start()\n",
    "    hamMat=convert_to_matrix(hoHam,cutoff,N,aops,adags,xs,xdags)\n",
    "    t.stop()\n",
    "    \n",
    "    t=Timer('evals')\n",
    "    t.start()\n",
    "    ens=scipy.sparse.linalg.eigs(hamMat,k=10,sigma=0)[0]\n",
    "    t.stop()\n",
    "    \n",
    "    print(\"Lambda = \",cutoff)\n",
    "    print(ens)\n",
    "    print()"
   ]
  },
  {
   "cell_type": "code",
   "execution_count": null,
   "id": "1a341691-feef-4418-82e9-8376be1f2f52",
   "metadata": {},
   "outputs": [],
   "source": []
  }
 ],
 "metadata": {
  "kernelspec": {
   "display_name": "Python 3 (ipykernel)",
   "language": "python",
   "name": "python3"
  },
  "language_info": {
   "codemirror_mode": {
    "name": "ipython",
    "version": 3
   },
   "file_extension": ".py",
   "mimetype": "text/x-python",
   "name": "python",
   "nbconvert_exporter": "python",
   "pygments_lexer": "ipython3",
   "version": "3.9.7"
  }
 },
 "nbformat": 4,
 "nbformat_minor": 5
}
