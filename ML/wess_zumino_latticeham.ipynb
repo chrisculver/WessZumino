{
 "cells": [
  {
   "cell_type": "code",
   "execution_count": 1,
   "metadata": {},
   "outputs": [],
   "source": [
    "import torch\n",
    "import torch.nn as nn\n",
    "import numpy as np\n",
    "import matplotlib.pyplot as plt\n",
    "\n",
    "import complexPyTorch as ctorch\n",
    "from complexPyTorch import complexFunctions, complexLayers\n",
    "from complexPyTorch.complexFunctions import complex_tanh\n",
    "\n",
    "plt.rcParams['text.usetex']=True"
   ]
  },
  {
   "cell_type": "code",
   "execution_count": 2,
   "metadata": {},
   "outputs": [],
   "source": [
    "delta=0.01\n",
    "mass=1"
   ]
  },
  {
   "cell_type": "code",
   "execution_count": 3,
   "metadata": {},
   "outputs": [],
   "source": [
    "class BosonWaveFunction(nn.Module):\n",
    "    def __init__(self):\n",
    "        super(BosonWaveFunction, self).__init__()\n",
    "\n",
    "        self.layer1=nn.Linear(1,128)\n",
    "        self.layer2=nn.Linear(128,128)\n",
    "        self.layer3=nn.Linear(128,1)\n",
    "\n",
    "        self.norm = torch.ones(1, requires_grad=False)\n",
    "        \n",
    "        self.exp_factor = torch.ones(1)\n",
    "\n",
    "    def forward(self, inputs):\n",
    "        x = inputs\n",
    "        x = self.layer1(x)\n",
    "        x = torch.tanh(x)\n",
    "        x = self.layer2(x)\n",
    "        x = torch.tanh(x)\n",
    "        x = self.layer3(x)\n",
    "\n",
    "        # boundary condition - normalization?\n",
    "        # boundary_condition = self.exp(inputs)\n",
    "        # output = self.norm*x*boundary_condition\n",
    "        \n",
    "        boundary_condition = torch.exp( -(self.exp_factor*inputs)**2/2 )\n",
    "        factor = self.norm*boundary_condition\n",
    "        #x = torch.mul(x,self.norm)\n",
    "\n",
    "        x = torch.mul(x,factor)\n",
    "\n",
    "        return x\n",
    "    \n",
    "    def update_norm(self, inputs):\n",
    "        with torch.no_grad():\n",
    "            value = self.forward(inputs)\n",
    "            N = value**2\n",
    "            delta=inputs[1]-inputs[0]\n",
    "            N=torch.sum(N)*delta \n",
    "            self.norm = self.norm*1.0/torch.sqrt(N)"
   ]
  },
  {
   "cell_type": "code",
   "execution_count": 4,
   "metadata": {},
   "outputs": [],
   "source": [
    "class FermionWaveFunction(nn.Module):\n",
    "    def __init__(self):\n",
    "        super(FermionWaveFunction, self).__init__()\n",
    "\n",
    "        self.layer1=ctorch.complexLayers.ComplexLinear(1,128)\n",
    "        self.layer2=ctorch.complexLayers.ComplexLinear(128,128)\n",
    "        self.layer3=ctorch.complexLayers.ComplexLinear(128,1) # or (32,2)\n",
    "\n",
    "        self.norm = torch.ones(1, requires_grad=False)\n",
    "\n",
    "        self.exp_factor = torch.ones(1)\n",
    "\n",
    "    def forward(self, inputs):\n",
    "        x = inputs.type(torch.complex64)\n",
    "        x = self.layer1(x)\n",
    "        x = ctorch.complexFunctions.complex_tanh(x)\n",
    "        x = self.layer2(x)\n",
    "        x = ctorch.complexFunctions.complex_tanh(x)\n",
    "        x = self.layer3(x)\n",
    "\n",
    "        # boundary condition - normalization?\n",
    "        # boundary_condition = self.exp(inputs)\n",
    "        # output = self.norm*x*boundary_condition\n",
    "        \n",
    "        boundary_condition = torch.exp( -(self.exp_factor*inputs)**2/2 )\n",
    "        factor = self.norm*boundary_condition\n",
    "        #x = torch.mul(x,self.norm)\n",
    "\n",
    "        x = torch.mul(x,factor)\n",
    "\n",
    "        return x\n",
    "\n",
    "    def update_norm(self, inputs):\n",
    "        with torch.no_grad():\n",
    "            value = self.forward(inputs)\n",
    "            N = torch.mul(value.conj(),value)\n",
    "            #N = torch.inner(value.conj(),value).real\n",
    "            delta=inputs[1]-inputs[0]\n",
    "            N=torch.sum(N)*delta\n",
    "            self.norm = self.norm*1.0/torch.sqrt(N)"
   ]
  },
  {
   "cell_type": "code",
   "execution_count": 5,
   "metadata": {},
   "outputs": [],
   "source": [
    "# This is preparing input data that is differentiable:\n",
    "_x = np.arange(-10, 10, delta, dtype=np.float32)\n",
    "_x = _x.reshape((_x.shape[0], 1))\n",
    "x = torch.tensor(_x, requires_grad=True)"
   ]
  },
  {
   "cell_type": "code",
   "execution_count": 6,
   "metadata": {},
   "outputs": [
    {
     "name": "stdout",
     "output_type": "stream",
     "text": [
      "tensor([1.])\n",
      "tensor([8.6553])\n"
     ]
    }
   ],
   "source": [
    "phi = BosonWaveFunction()\n",
    "print(phi.norm)\n",
    "phi.update_norm(x)\n",
    "print(phi.norm)\n",
    "phi_y = phi(x)"
   ]
  },
  {
   "cell_type": "code",
   "execution_count": 7,
   "metadata": {},
   "outputs": [
    {
     "name": "stdout",
     "output_type": "stream",
     "text": [
      "tensor([1.])\n",
      "tensor([1.5046+0.j])\n",
      "torch.Size([2000, 1])\n"
     ]
    },
    {
     "name": "stderr",
     "output_type": "stream",
     "text": [
      "/home/chris/anaconda3/envs/MachineLearning/lib/python3.10/site-packages/torch/nn/functional.py:1956: UserWarning: nn.functional.tanh is deprecated. Use torch.tanh instead.\n",
      "  warnings.warn(\"nn.functional.tanh is deprecated. Use torch.tanh instead.\")\n"
     ]
    }
   ],
   "source": [
    "psi = FermionWaveFunction()\n",
    "print(psi.norm)\n",
    "psi.update_norm(x)\n",
    "print(psi.norm)\n",
    "psi_y = psi(x)\n",
    "print(psi_y.shape)"
   ]
  },
  {
   "cell_type": "code",
   "execution_count": 8,
   "metadata": {},
   "outputs": [
    {
     "data": {
      "text/plain": [
       "torch.Size([2000, 1])"
      ]
     },
     "execution_count": 8,
     "metadata": {},
     "output_type": "execute_result"
    }
   ],
   "source": [
    "(phi_y**2).shape"
   ]
  },
  {
   "cell_type": "code",
   "execution_count": 9,
   "metadata": {},
   "outputs": [
    {
     "data": {
      "text/plain": [
       "tensor([3.7835e-44+0.j, 4.6243e-44+0.j, 5.7453e-44+0.j,  ..., 6.7262e-44+0.j,\n",
       "        5.4651e-44+0.j, 4.4842e-44+0.j], grad_fn=<ViewBackward0>)"
      ]
     },
     "execution_count": 9,
     "metadata": {},
     "output_type": "execute_result"
    }
   ],
   "source": [
    "torch.einsum('ij,ij->i',psi_y.conj(),psi_y)"
   ]
  },
  {
   "cell_type": "code",
   "execution_count": 10,
   "metadata": {},
   "outputs": [
    {
     "name": "stderr",
     "output_type": "stream",
     "text": [
      "/home/chris/anaconda3/envs/MachineLearning/lib/python3.10/site-packages/matplotlib/cbook/__init__.py:1369: ComplexWarning: Casting complex values to real discards the imaginary part\n",
      "  return np.asarray(x, float)\n"
     ]
    },
    {
     "data": {
      "image/png": "[encoded data removed]",
      "text/plain": [
       "<Figure size 640x480 with 1 Axes>"
      ]
     },
     "metadata": {},
     "output_type": "display_data"
    }
   ],
   "source": [
    "plt.plot(x.detach().numpy(), (phi_y**2).detach().numpy(), label=r'$\\phi$')\n",
    "plt.plot(x.detach().numpy(), (psi_y.conj()*psi_y).detach().numpy(), label=r'$\\psi$')\n",
    "# plt.plot(x.detach().numpy(), (torch.einsum('ij,ij->i',psi_y.conj(),psi_y)).detach().numpy(), label=r'$\\psi$')\n",
    "plt.ylabel(r'$\\mid\\Psi\\mid^2$')\n",
    "plt.legend()\n",
    "plt.show()"
   ]
  },
  {
   "cell_type": "code",
   "execution_count": 11,
   "metadata": {},
   "outputs": [],
   "source": [
    "def bosonic_kinetic_energy(boson_wf, inputs, delta):\n",
    "    phi = boson_wf(inputs) # phi(x)\n",
    "    dPhidx = torch.autograd.grad(phi, inputs=inputs, grad_outputs=torch.ones_like(phi), retain_graph=True)\n",
    "\n",
    "    t1 = dPhidx[0]**2/(2.0*delta) # p_n^2/2a\n",
    "    t2 = ((phi.roll(-1)-phi.roll(1))/(2.0*delta))**2 #(phi_{n+1}-phi_{n-1})^2/2a\n",
    "\n",
    "    return torch.sum(t1) + (delta/2.0)*torch.sum(t2)\n",
    "\n",
    "def boson_potential_energy(boson_wf, inputs, delta):\n",
    "    phi = boson_wf(inputs)\n",
    "\n",
    "    #t1 = potential(boson_wf, inputs)**2 # V(phi_n)^2\n",
    "    #t2 = potential(boson_wf, inputs)*(phi.roll(1)-phi.roll(-1)) # V(phi_n)*(phi_{n+1}-phi_{n-1})\n",
    "\n",
    "    t1 = phi**2\n",
    "    t2 = phi*(phi.roll(-1)-phi.roll(+1))  \n",
    "\n",
    "    return (delta/2.0)*torch.sum(t1) + (1.0/2.0)*torch.sum(t2)\n",
    "\n",
    "\n",
    "def fermion_kinetic_energy(fermion_wf, inputs, delta):\n",
    "    chi = fermion_wf(inputs)\n",
    "\n",
    "    t1 = (chi.conj())*(chi.roll(-1))\n",
    "    t2 = (chi.roll(-1).conj())*chi\n",
    "    \n",
    "    #t1 = torch.einsum('ij,ij->i',chi.conj(),chi.roll(1))\n",
    "    #t2 = torch.einsum('ij,ij->i',chi.conj().roll(1),chi)\n",
    "\n",
    "    return (torch.sum(t1)+torch.sum(t2))/(2.0*delta)\n",
    "\n",
    "def fermion_potential_energy(fermion_wf, boson_wf, inputs, delta):\n",
    "    chi = fermion_wf(inputs)\n",
    "\n",
    "    minus1n = torch.tensor([(-1)**n for n in range(chi.shape[0])])\n",
    "    half = torch.tensor([0.5 for n in range(chi.shape[0])])\n",
    "\n",
    "    # TODO: Why the double sum? \n",
    "    return torch.sum(minus1n*(torch.sum(chi.conj()*chi)-half))\n",
    "    #return torch.sum(minus1n*(torch.einsum('ij,ij->i',chi.conj(),chi)-half))"
   ]
  },
  {
   "cell_type": "code",
   "execution_count": 12,
   "metadata": {},
   "outputs": [
    {
     "name": "stdout",
     "output_type": "stream",
     "text": [
      "tensor(7937.9048, grad_fn=<AddBackward0>)\n",
      "tensor(0.5000, grad_fn=<AddBackward0>)\n",
      "tensor(9999.3242+0.j, grad_fn=<DivBackward0>)\n",
      "tensor(0.+0.j, grad_fn=<SumBackward0>)\n"
     ]
    },
    {
     "name": "stderr",
     "output_type": "stream",
     "text": [
      "/home/chris/anaconda3/envs/MachineLearning/lib/python3.10/site-packages/torch/nn/functional.py:1956: UserWarning: nn.functional.tanh is deprecated. Use torch.tanh instead.\n",
      "  warnings.warn(\"nn.functional.tanh is deprecated. Use torch.tanh instead.\")\n"
     ]
    }
   ],
   "source": [
    "print(bosonic_kinetic_energy(phi, x, delta))\n",
    "print(boson_potential_energy(phi, x, delta))\n",
    "print(fermion_kinetic_energy(psi, x, delta))\n",
    "print(fermion_potential_energy(psi, phi, x, delta))"
   ]
  },
  {
   "cell_type": "code",
   "execution_count": 13,
   "metadata": {},
   "outputs": [
    {
     "name": "stdout",
     "output_type": "stream",
     "text": [
      "tensor(17937.7285+0.j, grad_fn=<AddBackward0>)\n"
     ]
    }
   ],
   "source": [
    "print(bosonic_kinetic_energy(phi, x, delta) \\\n",
    "    + boson_potential_energy(phi, x, delta) \\\n",
    "    + fermion_kinetic_energy(psi, x, delta) \\\n",
    "    + fermion_potential_energy(psi, phi, x, delta))"
   ]
  },
  {
   "cell_type": "markdown",
   "metadata": {},
   "source": [
    "## Normalization\n",
    "\n",
    "$$\n",
    "\\langle \\Psi \\mid \\Psi \\rangle = 1 \\\\\n",
    "\n",
    "\\langle \\phi \\psi \\mid \\phi \\psi \\rangle = 1 \\\\\n",
    "\n",
    "\\langle \\phi \\mid \\phi \\rangle \\langle \\psi \\mid \\psi \\rangle = 1 \\\\\n",
    "\n",
    "\\left[\\int dx \\phi^2(x)\\right]\\left[ \\int dx \\psi^*(x)\\psi(x) \\right]= 1 \\\\\n",
    "\n",
    "\\left[ \\sum_x a\\phi^2(x) \\right] \\left[ \\sum_x a\\psi^*(x)\\psi(x) \\right] = 1\n",
    "$$"
   ]
  },
  {
   "cell_type": "code",
   "execution_count": 45,
   "metadata": {},
   "outputs": [],
   "source": [
    "def normalization(boson_wf, fermion_wf, inputs, delta):\n",
    "    phi2 = boson_wf(inputs)**2\n",
    "    psi = fermion_wf(inputs)\n",
    "    \n",
    "    return torch.sum(psi.conj()*psi)*delta*torch.sum(phi2)*delta\n",
    "    #return torch.sum(psi.adjoint()*psi*phi2)*delta\n",
    "\n",
    "def total_energy(boson_wf, fermion_wf, inputs, delta):\n",
    "    bosonKE = bosonic_kinetic_energy(boson_wf, inputs, delta)\n",
    "    bosonPE = boson_potential_energy(boson_wf, inputs, delta)\n",
    "    fermionKE = fermion_kinetic_energy(fermion_wf, inputs, delta)\n",
    "    fermionPE = fermion_potential_energy(fermion_wf, boson_wf, inputs, delta)\n",
    "\n",
    "    return (bosonKE + bosonPE + fermionKE + fermionPE)/normalization(boson_wf,fermion_wf,inputs,delta)\n"
   ]
  },
  {
   "cell_type": "code",
   "execution_count": 46,
   "metadata": {},
   "outputs": [
    {
     "name": "stdout",
     "output_type": "stream",
     "text": [
      "tensor(1.0000, grad_fn=<MulBackward0>)\n",
      "tensor(1.0000+0.j, grad_fn=<MulBackward0>)\n",
      "tensor(1.0000+0.j, grad_fn=<MulBackward0>)\n"
     ]
    },
    {
     "name": "stderr",
     "output_type": "stream",
     "text": [
      "/home/chris/anaconda3/envs/MachineLearning/lib/python3.10/site-packages/torch/nn/functional.py:1956: UserWarning: nn.functional.tanh is deprecated. Use torch.tanh instead.\n",
      "  warnings.warn(\"nn.functional.tanh is deprecated. Use torch.tanh instead.\")\n"
     ]
    }
   ],
   "source": [
    "phi.update_norm(x)\n",
    "psi.update_norm(x)\n",
    "print(torch.sum(phi(x)*phi(x))*delta)\n",
    "print(torch.sum(psi(x).conj()*psi(x))*delta)\n",
    "\n",
    "print(normalization(phi,psi,x,delta))\n"
   ]
  },
  {
   "cell_type": "code",
   "execution_count": 47,
   "metadata": {},
   "outputs": [
    {
     "data": {
      "text/plain": [
       "tensor(1.0000, grad_fn=<MulBackward0>)"
      ]
     },
     "execution_count": 47,
     "metadata": {},
     "output_type": "execute_result"
    }
   ],
   "source": [
    "torch.sum(phi(x)**2)*delta"
   ]
  },
  {
   "cell_type": "code",
   "execution_count": 48,
   "metadata": {},
   "outputs": [
    {
     "data": {
      "text/plain": [
       "tensor(1.0000+0.j, grad_fn=<MulBackward0>)"
      ]
     },
     "execution_count": 48,
     "metadata": {},
     "output_type": "execute_result"
    }
   ],
   "source": [
    "torch.sum(psi(x).conj()*psi(x))*delta"
   ]
  },
  {
   "cell_type": "code",
   "execution_count": 49,
   "metadata": {},
   "outputs": [
    {
     "name": "stdout",
     "output_type": "stream",
     "text": [
      "tensor(1.0000+0.j, grad_fn=<MulBackward0>)\n"
     ]
    }
   ],
   "source": [
    "print(torch.sum(phi(x)**2)*delta * torch.sum(psi(x).conj()*psi(x))*delta)"
   ]
  },
  {
   "cell_type": "code",
   "execution_count": 52,
   "metadata": {},
   "outputs": [
    {
     "name": "stderr",
     "output_type": "stream",
     "text": [
      "/home/chris/anaconda3/envs/MachineLearning/lib/python3.10/site-packages/torch/nn/functional.py:1956: UserWarning: nn.functional.tanh is deprecated. Use torch.tanh instead.\n",
      "  warnings.warn(\"nn.functional.tanh is deprecated. Use torch.tanh instead.\")\n"
     ]
    },
    {
     "data": {
      "text/plain": [
       "torch.Size([2000, 1])"
      ]
     },
     "execution_count": 52,
     "metadata": {},
     "output_type": "execute_result"
    }
   ],
   "source": [
    "psi(x).shape"
   ]
  },
  {
   "cell_type": "code",
   "execution_count": null,
   "metadata": {},
   "outputs": [],
   "source": []
  },
  {
   "cell_type": "code",
   "execution_count": 50,
   "metadata": {},
   "outputs": [
    {
     "data": {
      "text/plain": [
       "tensor(12574.8086+0.j, grad_fn=<DivBackward0>)"
      ]
     },
     "execution_count": 50,
     "metadata": {},
     "output_type": "execute_result"
    }
   ],
   "source": [
    "total_energy(phi, psi, x, delta)"
   ]
  },
  {
   "cell_type": "code",
   "execution_count": 16,
   "metadata": {},
   "outputs": [
    {
     "name": "stdout",
     "output_type": "stream",
     "text": [
      "tensor(71.7222, grad_fn=<SelectBackward0>)\n",
      "tensor(38.9285, grad_fn=<SelectBackward0>)\n",
      "tensor(37.7385, grad_fn=<SelectBackward0>)\n",
      "tensor(37.0363, grad_fn=<SelectBackward0>)\n",
      "tensor(36.5691, grad_fn=<SelectBackward0>)\n",
      "tensor(36.2533, grad_fn=<SelectBackward0>)\n",
      "tensor(36.0332, grad_fn=<SelectBackward0>)\n",
      "tensor(35.8760, grad_fn=<SelectBackward0>)\n",
      "tensor(35.7607, grad_fn=<SelectBackward0>)\n",
      "tensor(35.6740, grad_fn=<SelectBackward0>)\n"
     ]
    }
   ],
   "source": [
    "bosonOptimizer = torch.optim.Adam(phi.parameters(), lr=0.001)\n",
    "fermionOptimizer = torch.optim.Adam(psi.parameters(), lr=0.001)\n",
    "\n",
    "bosonOptimizer.zero_grad()\n",
    "fermionOptimizer.zero_grad()\n",
    "\n",
    "# cant go up to 10000?\n",
    "for i in range(1000):\n",
    "    phi.update_norm(x)\n",
    "    psi.update_norm(x)\n",
    "\n",
    "    energy=total_energy(phi,psi,x,delta).real # this is the loss!\n",
    "    energy.backward()\n",
    "\n",
    "    if i%2==0:\n",
    "        bosonOptimizer.step()\n",
    "        bosonOptimizer.zero_grad()\n",
    "    else:\n",
    "        fermionOptimizer.step()\n",
    "        fermionOptimizer.zero_grad()\n",
    "    \n",
    "    if i%100==0:\n",
    "        print(energy)"
   ]
  },
  {
   "cell_type": "code",
   "execution_count": 31,
   "metadata": {},
   "outputs": [
    {
     "name": "stderr",
     "output_type": "stream",
     "text": [
      "/home/chris/anaconda3/envs/MachineLearning/lib/python3.10/site-packages/torch/nn/functional.py:1956: UserWarning: nn.functional.tanh is deprecated. Use torch.tanh instead.\n",
      "  warnings.warn(\"nn.functional.tanh is deprecated. Use torch.tanh instead.\")\n"
     ]
    },
    {
     "name": "stdout",
     "output_type": "stream",
     "text": [
      "tensor(99.9977, grad_fn=<SumBackward0>)\n",
      "tensor(99.9977+0.j, grad_fn=<SumBackward0>)\n",
      "tensor(353.1351-6.9686e-09j, grad_fn=<MulBackward0>)\n",
      "tensor(28.3165+5.5878e-10j, grad_fn=<DivBackward0>)\n"
     ]
    }
   ],
   "source": []
  },
  {
   "cell_type": "code",
   "execution_count": 17,
   "metadata": {},
   "outputs": [
    {
     "name": "stdout",
     "output_type": "stream",
     "text": [
      "tensor(2574.2139, grad_fn=<AddBackward0>)\n",
      "tensor(0.5000, grad_fn=<AddBackward0>)\n",
      "tensor(10027.0791+0.j, grad_fn=<DivBackward0>)\n",
      "tensor(0.+0.j, grad_fn=<SumBackward0>)\n"
     ]
    }
   ],
   "source": [
    "print(bosonic_kinetic_energy(phi, x, delta))\n",
    "print(boson_potential_energy(phi, x, delta))\n",
    "print(fermion_kinetic_energy(psi, x, delta))\n",
    "print(fermion_potential_energy(psi, phi, x, delta))"
   ]
  },
  {
   "cell_type": "code",
   "execution_count": 18,
   "metadata": {},
   "outputs": [
    {
     "name": "stderr",
     "output_type": "stream",
     "text": [
      "/home/chris/anaconda3/envs/MachineLearning/lib/python3.10/site-packages/matplotlib/cbook/__init__.py:1369: ComplexWarning: Casting complex values to real discards the imaginary part\n",
      "  return np.asarray(x, float)\n"
     ]
    },
    {
     "data": {
      "image/png": "[encoded data removed]",
      "text/plain": [
       "<Figure size 640x480 with 1 Axes>"
      ]
     },
     "metadata": {},
     "output_type": "display_data"
    }
   ],
   "source": [
    "phi_y = phi(x)\n",
    "psi_y = psi(x)\n",
    "plt.plot(x.detach().numpy(), (phi_y**2).detach().numpy(), label=r'$\\phi$')\n",
    "plt.plot(x.detach().numpy(), (psi_y.conj()*psi_y).detach().numpy(), label=r'$\\psi$')\n",
    "plt.ylabel(r'$\\mid\\Psi\\mid^2$')\n",
    "plt.legend()\n",
    "plt.show()"
   ]
  },
  {
   "cell_type": "code",
   "execution_count": null,
   "metadata": {},
   "outputs": [],
   "source": []
  }
 ],
 "metadata": {
  "interpreter": {
   "hash": "e47492bb68c945901860c0e5171265739057a66660d70f0177845bcc27013884"
  },
  "kernelspec": {
   "display_name": "Python 3.10.9 ('MachineLearning')",
   "language": "python",
   "name": "python3"
  },
  "language_info": {
   "codemirror_mode": {
    "name": "ipython",
    "version": 3
   },
   "file_extension": ".py",
   "mimetype": "text/x-python",
   "name": "python",
   "nbconvert_exporter": "python",
   "pygments_lexer": "ipython3",
   "version": "3.10.8"
  },
  "orig_nbformat": 4
 },
 "nbformat": 4,
 "nbformat_minor": 2
}
