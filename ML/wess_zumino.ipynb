{
 "cells": [
  {
   "cell_type": "code",
   "execution_count": 89,
   "metadata": {},
   "outputs": [],
   "source": [
    "import torch\n",
    "import torch.nn as nn\n",
    "import numpy as np\n",
    "import matplotlib.pyplot as plt\n",
    "\n",
    "import complexPyTorch as ctorch\n",
    "from complexPyTorch import complexFunctions, complexLayers\n",
    "from complexPyTorch.complexFunctions import complex_tanh\n",
    "\n",
    "plt.rcParams['text.usetex']=True"
   ]
  },
  {
   "cell_type": "code",
   "execution_count": 90,
   "metadata": {},
   "outputs": [],
   "source": [
    "delta=0.01\n",
    "mass=1"
   ]
  },
  {
   "cell_type": "code",
   "execution_count": 91,
   "metadata": {},
   "outputs": [],
   "source": [
    "class BosonWaveFunction(nn.Module):\n",
    "    def __init__(self):\n",
    "        super(BosonWaveFunction, self).__init__()\n",
    "\n",
    "        self.layer1=nn.Linear(1,32)\n",
    "        self.layer2=nn.Linear(32,32)\n",
    "        self.layer3=nn.Linear(32,1)\n",
    "\n",
    "        self.norm = torch.ones(1, requires_grad=False)\n",
    "\n",
    "    def forward(self, inputs):\n",
    "        x = inputs\n",
    "        x = self.layer1(x)\n",
    "        x = torch.tanh(x)\n",
    "        x = self.layer2(x)\n",
    "        x = torch.tanh(x)\n",
    "        x = self.layer3(x)\n",
    "\n",
    "        # boundary condition - normalization?\n",
    "        # boundary_condition = self.exp(inputs)\n",
    "        # output = self.norm*x*boundary_condition\n",
    "        \n",
    "        x = torch.mul(x,self.norm)\n",
    "\n",
    "        return x\n",
    "    \n",
    "    def update_norm(self, inputs):\n",
    "        with torch.no_grad():\n",
    "            value = self.forward(inputs)\n",
    "            N = value**2\n",
    "            delta=inputs[1]-inputs[0]\n",
    "            N=torch.sum(N)*delta \n",
    "            self.norm = self.norm*1.0/torch.sqrt(N)"
   ]
  },
  {
   "cell_type": "code",
   "execution_count": 92,
   "metadata": {},
   "outputs": [],
   "source": [
    "class FermionWaveFunction(nn.Module):\n",
    "    def __init__(self):\n",
    "        super(FermionWaveFunction, self).__init__()\n",
    "\n",
    "        self.layer1=ctorch.complexLayers.ComplexLinear(1,32)\n",
    "        self.layer2=ctorch.complexLayers.ComplexLinear(32,32)\n",
    "        self.layer3=ctorch.complexLayers.ComplexLinear(32,1) # or (32,2)\n",
    "\n",
    "        self.norm = torch.ones(1, requires_grad=False)\n",
    "\n",
    "    def forward(self, inputs):\n",
    "        x = inputs.type(torch.complex64)\n",
    "        x = self.layer1(x)\n",
    "        x = ctorch.complexFunctions.complex_tanh(x)\n",
    "        x = self.layer2(x)\n",
    "        x = ctorch.complexFunctions.complex_tanh(x)\n",
    "        x = self.layer3(x)\n",
    "\n",
    "        # boundary condition - normalization?\n",
    "        # boundary_condition = self.exp(inputs)\n",
    "        # output = self.norm*x*boundary_condition\n",
    "        \n",
    "        x = torch.mul(x,self.norm)\n",
    "\n",
    "        return x\n",
    "\n",
    "    def update_norm(self, inputs):\n",
    "        with torch.no_grad():\n",
    "            value = self.forward(inputs)\n",
    "            N = torch.mul(value.conj(),value)\n",
    "            #N = torch.inner(value.conj(),value).real\n",
    "            delta=inputs[1]-inputs[0]\n",
    "            N=torch.sum(N)*delta\n",
    "            self.norm = self.norm*1.0/torch.sqrt(N)"
   ]
  },
  {
   "cell_type": "code",
   "execution_count": 93,
   "metadata": {},
   "outputs": [],
   "source": [
    "# This is preparing input data that is differentiable:\n",
    "_x = np.arange(-10, 10, delta, dtype=np.float32)\n",
    "_x = _x.reshape((_x.shape[0], 1))\n",
    "x = torch.tensor(_x, requires_grad=True)"
   ]
  },
  {
   "cell_type": "code",
   "execution_count": 94,
   "metadata": {},
   "outputs": [
    {
     "name": "stdout",
     "output_type": "stream",
     "text": [
      "tensor([1.])\n",
      "tensor([1.6169])\n"
     ]
    }
   ],
   "source": [
    "phi = BosonWaveFunction()\n",
    "print(phi.norm)\n",
    "phi.update_norm(x)\n",
    "print(phi.norm)\n",
    "phi_y = phi(x)"
   ]
  },
  {
   "cell_type": "code",
   "execution_count": 95,
   "metadata": {},
   "outputs": [
    {
     "name": "stdout",
     "output_type": "stream",
     "text": [
      "tensor([1.])\n",
      "tensor([0.3302+0.j])\n",
      "torch.Size([2000, 1])\n"
     ]
    }
   ],
   "source": [
    "psi = FermionWaveFunction()\n",
    "print(psi.norm)\n",
    "psi.update_norm(x)\n",
    "print(psi.norm)\n",
    "psi_y = psi(x)\n",
    "print(psi_y.shape)"
   ]
  },
  {
   "cell_type": "code",
   "execution_count": 96,
   "metadata": {},
   "outputs": [
    {
     "data": {
      "text/plain": [
       "torch.Size([2000, 1])"
      ]
     },
     "execution_count": 96,
     "metadata": {},
     "output_type": "execute_result"
    }
   ],
   "source": [
    "(phi_y**2).shape"
   ]
  },
  {
   "cell_type": "code",
   "execution_count": 97,
   "metadata": {},
   "outputs": [
    {
     "data": {
      "text/plain": [
       "tensor([0.0375+0.j, 0.0375+0.j, 0.0375+0.j,  ..., 0.0693+0.j, 0.0693+0.j, 0.0693+0.j],\n",
       "       grad_fn=<ViewBackward0>)"
      ]
     },
     "execution_count": 97,
     "metadata": {},
     "output_type": "execute_result"
    }
   ],
   "source": [
    "torch.einsum('ij,ij->i',psi_y.conj(),psi_y)"
   ]
  },
  {
   "cell_type": "code",
   "execution_count": 98,
   "metadata": {},
   "outputs": [
    {
     "name": "stderr",
     "output_type": "stream",
     "text": [
      "/home/chris/anaconda3/envs/MachineLearning/lib/python3.10/site-packages/matplotlib/cbook/__init__.py:1369: ComplexWarning: Casting complex values to real discards the imaginary part\n",
      "  return np.asarray(x, float)\n"
     ]
    },
    {
     "data": {
      "image/png": "[encoded data removed]",
      "text/plain": [
       "<Figure size 640x480 with 1 Axes>"
      ]
     },
     "metadata": {},
     "output_type": "display_data"
    }
   ],
   "source": [
    "plt.plot(x.detach().numpy(), (phi_y**2).detach().numpy(), label=r'$\\phi$')\n",
    "plt.plot(x.detach().numpy(), (psi_y.conj()*psi_y).detach().numpy(), label=r'$\\psi$')\n",
    "# plt.plot(x.detach().numpy(), (torch.einsum('ij,ij->i',psi_y.conj(),psi_y)).detach().numpy(), label=r'$\\psi$')\n",
    "plt.ylabel(r'$\\mid\\Psi\\mid^2$')\n",
    "plt.legend()\n",
    "plt.show()"
   ]
  },
  {
   "cell_type": "code",
   "execution_count": 111,
   "metadata": {},
   "outputs": [],
   "source": [
    "def bosonic_kinetic_energy(boson_wf, inputs, delta):\n",
    "    phi = boson_wf(inputs) # phi(x)\n",
    "    dPhidx = torch.autograd.grad(phi, inputs=inputs, grad_outputs=torch.ones_like(phi))#, retain_graph=True)\n",
    "\n",
    "    t1 = dPhidx[0]**2/(2.0*delta) # p_n^2/2a\n",
    "    t2 = ((phi.roll(-1)-phi.roll(1))/(2.0*delta))**2 #(phi_{n+1}-phi_{n-1})^2/2a\n",
    "\n",
    "    return torch.sum(t1) + (delta/2.0)*torch.sum(t2)\n",
    "\n",
    "def boson_potential_energy(boson_wf, inputs, delta):\n",
    "    phi = boson_wf(inputs)\n",
    "\n",
    "    #t1 = potential(boson_wf, inputs)**2 # V(phi_n)^2\n",
    "    #t2 = potential(boson_wf, inputs)*(phi.roll(1)-phi.roll(-1)) # V(phi_n)*(phi_{n+1}-phi_{n-1})\n",
    "\n",
    "    t1 = phi**2\n",
    "    t2 = phi*(phi.roll(-1)-phi.roll(+1))  \n",
    "\n",
    "    return (delta/2.0)*torch.sum(t1) + (1.0/2.0)*torch.sum(t2)\n",
    "\n",
    "def fermion_kinetic_energy(fermion_wf, inputs, delta):\n",
    "    chi = fermion_wf(inputs)\n",
    "\n",
    "    t1 = (chi.conj())*(chi.roll(-1))\n",
    "    t2 = (chi.conj().roll(-1))*chi\n",
    "    \n",
    "    #t1 = torch.einsum('ij,ij->i',chi.conj(),chi.roll(1))\n",
    "    #t2 = torch.einsum('ij,ij->i',chi.conj().roll(1),chi)\n",
    "\n",
    "    return (torch.sum(t1)+torch.sum(t2))/(2.0*delta)\n",
    "\n",
    "def fermion_potential_energy(fermion_wf, boson_wf, inputs, delta):\n",
    "    chi = fermion_wf(inputs)\n",
    "\n",
    "    minus1n = torch.tensor([(-1)**n for n in range(chi.shape[0])])\n",
    "    half = torch.tensor([0.5 for n in range(chi.shape[0])])\n",
    "\n",
    "    return torch.sum(minus1n*(torch.sum(chi.conj()*chi)-half))\n",
    "    #return torch.sum(minus1n*(torch.einsum('ij,ij->i',chi.conj(),chi)-half))"
   ]
  },
  {
   "cell_type": "code",
   "execution_count": 112,
   "metadata": {},
   "outputs": [
    {
     "name": "stdout",
     "output_type": "stream",
     "text": [
      "tensor(2344.1934, grad_fn=<AddBackward0>)\n",
      "tensor(0.5000, grad_fn=<AddBackward0>)\n",
      "tensor(10072.3770+0.j, grad_fn=<DivBackward0>)\n",
      "tensor(0.+0.j, grad_fn=<SumBackward0>)\n"
     ]
    }
   ],
   "source": [
    "print(bosonic_kinetic_energy(phi, x, delta))\n",
    "print(boson_potential_energy(phi, x, delta))\n",
    "print(fermion_kinetic_energy(psi, x, delta))\n",
    "print(fermion_potential_energy(psi, phi, x, delta))"
   ]
  },
  {
   "cell_type": "code",
   "execution_count": 113,
   "metadata": {},
   "outputs": [
    {
     "name": "stdout",
     "output_type": "stream",
     "text": [
      "tensor(12417.0703+0.j, grad_fn=<AddBackward0>)\n"
     ]
    }
   ],
   "source": [
    "print(bosonic_kinetic_energy(phi, x, delta) \\\n",
    "    + boson_potential_energy(phi, x, delta) \\\n",
    "    + fermion_kinetic_energy(psi, x, delta) \\\n",
    "    + fermion_potential_energy(psi, phi, x, delta))"
   ]
  },
  {
   "cell_type": "code",
   "execution_count": 114,
   "metadata": {},
   "outputs": [],
   "source": [
    "def total_energy(boson_wf, fermion_wf, inputs, delta):\n",
    "    bosonKE = bosonic_kinetic_energy(boson_wf, inputs, delta)\n",
    "    bosonPE = boson_potential_energy(boson_wf, inputs, delta)\n",
    "    fermionKE = fermion_kinetic_energy(fermion_wf, inputs, delta)\n",
    "    fermionPE = fermion_potential_energy(fermion_wf, boson_wf, inputs, delta)\n",
    "\n",
    "    return bosonKE + bosonPE + fermionKE + fermionPE\n"
   ]
  },
  {
   "cell_type": "code",
   "execution_count": 115,
   "metadata": {},
   "outputs": [
    {
     "data": {
      "text/plain": [
       "tensor(12417.0703+0.j, grad_fn=<AddBackward0>)"
      ]
     },
     "execution_count": 115,
     "metadata": {},
     "output_type": "execute_result"
    }
   ],
   "source": [
    "total_energy(phi, psi, x, delta)"
   ]
  },
  {
   "cell_type": "code",
   "execution_count": 116,
   "metadata": {},
   "outputs": [
    {
     "ename": "RuntimeError",
     "evalue": "Trying to backward through the graph a second time (or directly access saved tensors after they have already been freed). Saved intermediate values of the graph are freed when you call .backward() or autograd.grad(). Specify retain_graph=True if you need to backward through the graph a second time or if you need to access saved tensors after calling backward.",
     "output_type": "error",
     "traceback": [
      "\u001b[0;31m---------------------------------------------------------------------------\u001b[0m",
      "\u001b[0;31mRuntimeError\u001b[0m                              Traceback (most recent call last)",
      "Cell \u001b[0;32mIn[116], line 13\u001b[0m\n\u001b[1;32m     10\u001b[0m psi\u001b[39m.\u001b[39mupdate_norm(x)\n\u001b[1;32m     12\u001b[0m energy\u001b[39m=\u001b[39mtotal_energy(phi,psi,x,delta) \u001b[39m# this is the loss!\u001b[39;00m\n\u001b[0;32m---> 13\u001b[0m energy\u001b[39m.\u001b[39;49mbackward()\n\u001b[1;32m     15\u001b[0m \u001b[39mif\u001b[39;00m i\u001b[39m%\u001b[39m\u001b[39m2\u001b[39m\u001b[39m==\u001b[39m\u001b[39m0\u001b[39m:\n\u001b[1;32m     16\u001b[0m     bosonOptimizer\u001b[39m.\u001b[39mstep()\n",
      "File \u001b[0;32m~/anaconda3/envs/MachineLearning/lib/python3.10/site-packages/torch/_tensor.py:488\u001b[0m, in \u001b[0;36mTensor.backward\u001b[0;34m(self, gradient, retain_graph, create_graph, inputs)\u001b[0m\n\u001b[1;32m    478\u001b[0m \u001b[39mif\u001b[39;00m has_torch_function_unary(\u001b[39mself\u001b[39m):\n\u001b[1;32m    479\u001b[0m     \u001b[39mreturn\u001b[39;00m handle_torch_function(\n\u001b[1;32m    480\u001b[0m         Tensor\u001b[39m.\u001b[39mbackward,\n\u001b[1;32m    481\u001b[0m         (\u001b[39mself\u001b[39m,),\n\u001b[0;32m   (...)\u001b[0m\n\u001b[1;32m    486\u001b[0m         inputs\u001b[39m=\u001b[39minputs,\n\u001b[1;32m    487\u001b[0m     )\n\u001b[0;32m--> 488\u001b[0m torch\u001b[39m.\u001b[39;49mautograd\u001b[39m.\u001b[39;49mbackward(\n\u001b[1;32m    489\u001b[0m     \u001b[39mself\u001b[39;49m, gradient, retain_graph, create_graph, inputs\u001b[39m=\u001b[39;49minputs\n\u001b[1;32m    490\u001b[0m )\n",
      "File \u001b[0;32m~/anaconda3/envs/MachineLearning/lib/python3.10/site-packages/torch/autograd/__init__.py:197\u001b[0m, in \u001b[0;36mbackward\u001b[0;34m(tensors, grad_tensors, retain_graph, create_graph, grad_variables, inputs)\u001b[0m\n\u001b[1;32m    192\u001b[0m     retain_graph \u001b[39m=\u001b[39m create_graph\n\u001b[1;32m    194\u001b[0m \u001b[39m# The reason we repeat same the comment below is that\u001b[39;00m\n\u001b[1;32m    195\u001b[0m \u001b[39m# some Python versions print out the first line of a multi-line function\u001b[39;00m\n\u001b[1;32m    196\u001b[0m \u001b[39m# calls in the traceback and some print out the last line\u001b[39;00m\n\u001b[0;32m--> 197\u001b[0m Variable\u001b[39m.\u001b[39;49m_execution_engine\u001b[39m.\u001b[39;49mrun_backward(  \u001b[39m# Calls into the C++ engine to run the backward pass\u001b[39;49;00m\n\u001b[1;32m    198\u001b[0m     tensors, grad_tensors_, retain_graph, create_graph, inputs,\n\u001b[1;32m    199\u001b[0m     allow_unreachable\u001b[39m=\u001b[39;49m\u001b[39mTrue\u001b[39;49;00m, accumulate_grad\u001b[39m=\u001b[39;49m\u001b[39mTrue\u001b[39;49;00m)\n",
      "\u001b[0;31mRuntimeError\u001b[0m: Trying to backward through the graph a second time (or directly access saved tensors after they have already been freed). Saved intermediate values of the graph are freed when you call .backward() or autograd.grad(). Specify retain_graph=True if you need to backward through the graph a second time or if you need to access saved tensors after calling backward."
     ]
    }
   ],
   "source": [
    "bosonOptimizer = torch.optim.Adam(phi.parameters(), lr=0.0001)\n",
    "fermionOptimizer = torch.optim.Adam(psi.parameters(), lr=0.0001)\n",
    "\n",
    "bosonOptimizer.zero_grad()\n",
    "fermionOptimizer.zero_grad()\n",
    "\n",
    "# cant go up to 10000?\n",
    "for i in range(1000):\n",
    "    phi.update_norm(x)\n",
    "    psi.update_norm(x)\n",
    "\n",
    "    energy=total_energy(phi,psi,x,delta) # this is the loss!\n",
    "    energy.backward()\n",
    "\n",
    "    if i%2==0:\n",
    "        bosonOptimizer.step()\n",
    "        bosonOptimizer.zero_grad()\n",
    "    else:\n",
    "        fermionOptimizer.step()\n",
    "        fermionOptimizer.zero_grad()\n",
    "    \n",
    "    if i%100==0:\n",
    "        print(energy)"
   ]
  },
  {
   "cell_type": "code",
   "execution_count": 110,
   "metadata": {},
   "outputs": [
    {
     "name": "stderr",
     "output_type": "stream",
     "text": [
      "/home/chris/anaconda3/envs/MachineLearning/lib/python3.10/site-packages/matplotlib/cbook/__init__.py:1369: ComplexWarning: Casting complex values to real discards the imaginary part\n",
      "  return np.asarray(x, float)\n"
     ]
    },
    {
     "data": {
      "image/png": "[encoded data removed]",
      "text/plain": [
       "<Figure size 640x480 with 1 Axes>"
      ]
     },
     "metadata": {},
     "output_type": "display_data"
    }
   ],
   "source": [
    "phi_y = phi(x)\n",
    "psi_y = psi(x)\n",
    "plt.plot(x.detach().numpy(), (phi_y**2).detach().numpy(), label=r'$\\phi$')\n",
    "plt.plot(x.detach().numpy(), (psi_y.conj()*psi_y).detach().numpy(), label=r'$\\psi$')\n",
    "# plt.plot(x.detach().numpy(), (torch.einsum('ij,ij->i',psi_y.conj(),psi_y)).detach().numpy(), label=r'$\\psi$')\n",
    "plt.ylabel(r'$\\mid\\Psi\\mid^2$')\n",
    "plt.legend()\n",
    "plt.show()"
   ]
  },
  {
   "cell_type": "code",
   "execution_count": null,
   "metadata": {},
   "outputs": [],
   "source": []
  }
 ],
 "metadata": {
  "interpreter": {
   "hash": "e47492bb68c945901860c0e5171265739057a66660d70f0177845bcc27013884"
  },
  "kernelspec": {
   "display_name": "Python 3.10.9 ('MachineLearning')",
   "language": "python",
   "name": "python3"
  },
  "language_info": {
   "codemirror_mode": {
    "name": "ipython",
    "version": 3
   },
   "file_extension": ".py",
   "mimetype": "text/x-python",
   "name": "python",
   "nbconvert_exporter": "python",
   "pygments_lexer": "ipython3",
   "version": "3.10.8"
  },
  "orig_nbformat": 4
 },
 "nbformat": 4,
 "nbformat_minor": 2
}
