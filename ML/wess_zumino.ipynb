{
 "cells": [
  {
   "cell_type": "code",
   "execution_count": 12,
   "metadata": {},
   "outputs": [],
   "source": [
    "import torch\n",
    "import torch.nn as nn\n",
    "import numpy as np\n",
    "import matplotlib.pyplot as plt\n",
    "\n",
    "import complexPyTorch as ctorch\n",
    "from complexPyTorch import complexFunctions, complexLayers\n",
    "from complexPyTorch.complexFunctions import complex_tanh\n",
    "\n",
    "plt.rcParams['text.usetex']=True"
   ]
  },
  {
   "cell_type": "code",
   "execution_count": 13,
   "metadata": {},
   "outputs": [],
   "source": [
    "delta=0.01\n",
    "mass=1"
   ]
  },
  {
   "cell_type": "code",
   "execution_count": 14,
   "metadata": {},
   "outputs": [],
   "source": [
    "class BosonWaveFunction(nn.Module):\n",
    "    def __init__(self):\n",
    "        super(BosonWaveFunction, self).__init__()\n",
    "\n",
    "        self.layer1=nn.Linear(1,128)\n",
    "        self.layer2=nn.Linear(128,128)\n",
    "        self.layer3=nn.Linear(128,1)\n",
    "\n",
    "        self.norm = torch.ones(1, requires_grad=False)\n",
    "        \n",
    "        self.exp_factor = torch.ones(1)\n",
    "\n",
    "    def forward(self, inputs):\n",
    "        x = inputs\n",
    "        x = self.layer1(x)\n",
    "        x = torch.tanh(x)\n",
    "        x = self.layer2(x)\n",
    "        x = torch.tanh(x)\n",
    "        x = self.layer3(x)\n",
    "\n",
    "        # boundary condition - normalization?\n",
    "        # boundary_condition = self.exp(inputs)\n",
    "        # output = self.norm*x*boundary_condition\n",
    "        \n",
    "        boundary_condition = torch.exp( -(self.exp_factor*inputs)**2/2 )\n",
    "        factor = self.norm*boundary_condition\n",
    "        #x = torch.mul(x,self.norm)\n",
    "\n",
    "        x = torch.mul(x,factor)\n",
    "\n",
    "        return x\n",
    "    \n",
    "    def update_norm(self, inputs):\n",
    "        with torch.no_grad():\n",
    "            value = self.forward(inputs)\n",
    "            N = value**2\n",
    "            delta=inputs[1]-inputs[0]\n",
    "            N=torch.sum(N)*delta \n",
    "            self.norm = self.norm*1.0/torch.sqrt(N)"
   ]
  },
  {
   "cell_type": "code",
   "execution_count": 15,
   "metadata": {},
   "outputs": [],
   "source": [
    "class FermionWaveFunction(nn.Module):\n",
    "    def __init__(self):\n",
    "        super(FermionWaveFunction, self).__init__()\n",
    "\n",
    "        self.layer1=ctorch.complexLayers.ComplexLinear(1,128)\n",
    "        self.layer2=ctorch.complexLayers.ComplexLinear(128,128)\n",
    "        self.layer3=ctorch.complexLayers.ComplexLinear(128,1) # or (32,2)\n",
    "\n",
    "        self.norm = torch.ones(1, requires_grad=False)\n",
    "\n",
    "        self.exp_factor = torch.ones(1)\n",
    "\n",
    "    def forward(self, inputs):\n",
    "        x = inputs.type(torch.complex64)\n",
    "        x = self.layer1(x)\n",
    "        x = ctorch.complexFunctions.complex_tanh(x)\n",
    "        x = self.layer2(x)\n",
    "        x = ctorch.complexFunctions.complex_tanh(x)\n",
    "        x = self.layer3(x)\n",
    "\n",
    "        # boundary condition - normalization?\n",
    "        # boundary_condition = self.exp(inputs)\n",
    "        # output = self.norm*x*boundary_condition\n",
    "        \n",
    "        boundary_condition = torch.exp( -(self.exp_factor*inputs)**2/2 )\n",
    "        factor = self.norm*boundary_condition\n",
    "        #x = torch.mul(x,self.norm)\n",
    "\n",
    "        x = torch.mul(x,factor)\n",
    "\n",
    "        return x\n",
    "\n",
    "    def update_norm(self, inputs):\n",
    "        with torch.no_grad():\n",
    "            value = self.forward(inputs)\n",
    "            N = torch.mul(value.conj(),value)\n",
    "            #N = torch.inner(value.conj(),value).real\n",
    "            delta=inputs[1]-inputs[0]\n",
    "            N=torch.sum(N)*delta\n",
    "            self.norm = self.norm*1.0/torch.sqrt(N)"
   ]
  },
  {
   "cell_type": "code",
   "execution_count": 16,
   "metadata": {},
   "outputs": [],
   "source": [
    "# This is preparing input data that is differentiable:\n",
    "_x = np.arange(-10, 10, delta, dtype=np.float32)\n",
    "_x = _x.reshape((_x.shape[0], 1))\n",
    "x = torch.tensor(_x, requires_grad=True)"
   ]
  },
  {
   "cell_type": "code",
   "execution_count": 17,
   "metadata": {},
   "outputs": [
    {
     "name": "stdout",
     "output_type": "stream",
     "text": [
      "tensor([1.])\n",
      "tensor([4.0729])\n"
     ]
    }
   ],
   "source": [
    "phi = BosonWaveFunction()\n",
    "print(phi.norm)\n",
    "phi.update_norm(x)\n",
    "print(phi.norm)\n",
    "phi_y = phi(x)"
   ]
  },
  {
   "cell_type": "code",
   "execution_count": 18,
   "metadata": {},
   "outputs": [
    {
     "name": "stdout",
     "output_type": "stream",
     "text": [
      "tensor([1.])\n",
      "tensor([0.9511+0.j])\n"
     ]
    },
    {
     "name": "stderr",
     "output_type": "stream",
     "text": [
      "/home/chris/anaconda3/envs/MachineLearning/lib/python3.10/site-packages/torch/nn/functional.py:1956: UserWarning: nn.functional.tanh is deprecated. Use torch.tanh instead.\n",
      "  warnings.warn(\"nn.functional.tanh is deprecated. Use torch.tanh instead.\")\n"
     ]
    },
    {
     "name": "stdout",
     "output_type": "stream",
     "text": [
      "torch.Size([2000, 1])\n"
     ]
    }
   ],
   "source": [
    "psi = FermionWaveFunction()\n",
    "print(psi.norm)\n",
    "psi.update_norm(x)\n",
    "print(psi.norm)\n",
    "psi_y = psi(x)\n",
    "print(psi_y.shape)"
   ]
  },
  {
   "cell_type": "code",
   "execution_count": 19,
   "metadata": {},
   "outputs": [
    {
     "data": {
      "text/plain": [
       "torch.Size([2000, 1])"
      ]
     },
     "execution_count": 19,
     "metadata": {},
     "output_type": "execute_result"
    }
   ],
   "source": [
    "(phi_y**2).shape"
   ]
  },
  {
   "cell_type": "code",
   "execution_count": 20,
   "metadata": {},
   "outputs": [
    {
     "data": {
      "text/plain": [
       "tensor([9.8091e-45+0.j, 1.2612e-44+0.j, 1.5414e-44+0.j,  ..., 6.1657e-44+0.j,\n",
       "        5.0447e-44+0.j, 4.0638e-44+0.j], grad_fn=<ViewBackward0>)"
      ]
     },
     "execution_count": 20,
     "metadata": {},
     "output_type": "execute_result"
    }
   ],
   "source": [
    "torch.einsum('ij,ij->i',psi_y.conj(),psi_y)"
   ]
  },
  {
   "cell_type": "code",
   "execution_count": 21,
   "metadata": {},
   "outputs": [
    {
     "name": "stderr",
     "output_type": "stream",
     "text": [
      "/home/chris/anaconda3/envs/MachineLearning/lib/python3.10/site-packages/matplotlib/cbook/__init__.py:1369: ComplexWarning: Casting complex values to real discards the imaginary part\n",
      "  return np.asarray(x, float)\n"
     ]
    },
    {
     "data": {
      "image/png": "[encoded data removed]",
      "text/plain": [
       "<Figure size 640x480 with 1 Axes>"
      ]
     },
     "metadata": {},
     "output_type": "display_data"
    }
   ],
   "source": [
    "plt.plot(x.detach().numpy(), (phi_y**2).detach().numpy(), label=r'$\\phi$')\n",
    "plt.plot(x.detach().numpy(), (psi_y.conj()*psi_y).detach().numpy(), label=r'$\\psi$')\n",
    "# plt.plot(x.detach().numpy(), (torch.einsum('ij,ij->i',psi_y.conj(),psi_y)).detach().numpy(), label=r'$\\psi$')\n",
    "plt.ylabel(r'$\\mid\\Psi\\mid^2$')\n",
    "plt.legend()\n",
    "plt.show()"
   ]
  },
  {
   "cell_type": "code",
   "execution_count": 39,
   "metadata": {},
   "outputs": [],
   "source": [
    "def bosonic_kinetic_energy(boson_wf, inputs, delta):\n",
    "    phi = boson_wf(inputs) # phi(x)\n",
    "    dPhidx = torch.autograd.grad(phi, inputs=inputs, grad_outputs=torch.ones_like(phi), retain_graph=True)\n",
    "\n",
    "    t1 = dPhidx[0]**2/(2.0*delta) # p_n^2/2a\n",
    "    t2 = ((phi.roll(-1)-phi.roll(1))/(2.0*delta))**2 #(phi_{n+1}-phi_{n-1})^2/2a\n",
    "\n",
    "    return torch.sum(t1) + (delta/2.0)*torch.sum(t2)\n",
    "\n",
    "def boson_potential_energy(boson_wf, inputs, delta):\n",
    "    phi = boson_wf(inputs)\n",
    "\n",
    "    #t1 = potential(boson_wf, inputs)**2 # V(phi_n)^2\n",
    "    #t2 = potential(boson_wf, inputs)*(phi.roll(1)-phi.roll(-1)) # V(phi_n)*(phi_{n+1}-phi_{n-1})\n",
    "\n",
    "    t1 = phi**2\n",
    "    t2 = phi*(phi.roll(-1)-phi.roll(+1))  \n",
    "\n",
    "    return (delta/2.0)*torch.sum(t1) + (1.0/2.0)*torch.sum(t2)\n",
    "\n",
    "\n",
    "def fermion_kinetic_energy(fermion_wf, inputs, delta):\n",
    "    chi = fermion_wf(inputs)\n",
    "\n",
    "    t1 = (chi.conj())*(chi.roll(-1))\n",
    "    t2 = (chi.roll(-1).conj())*chi\n",
    "    \n",
    "    #t1 = torch.einsum('ij,ij->i',chi.conj(),chi.roll(1))\n",
    "    #t2 = torch.einsum('ij,ij->i',chi.conj().roll(1),chi)\n",
    "\n",
    "    return (torch.sum(t1)+torch.sum(t2))/(2.0*delta)\n",
    "\n",
    "def fermion_potential_energy(fermion_wf, boson_wf, inputs, delta):\n",
    "    chi = fermion_wf(inputs)\n",
    "\n",
    "    minus1n = torch.tensor([(-1)**n for n in range(chi.shape[0])])\n",
    "    half = torch.tensor([0.5 for n in range(chi.shape[0])])\n",
    "\n",
    "    # TODO: Why the double sum? \n",
    "    #return torch.sum(minus1n*(torch.sum(chi.conj()*chi)-half))\n",
    "    return torch.sum(minus1n*(chi.conj()*chi - half))"
   ]
  },
  {
   "cell_type": "code",
   "execution_count": 40,
   "metadata": {},
   "outputs": [
    {
     "name": "stdout",
     "output_type": "stream",
     "text": [
      "tensor(2737.7371, grad_fn=<AddBackward0>)\n",
      "tensor(0.5000, grad_fn=<AddBackward0>)\n",
      "tensor(9999.5059+0.j, grad_fn=<DivBackward0>)\n",
      "tensor(0.+0.j, grad_fn=<SumBackward0>)\n"
     ]
    }
   ],
   "source": [
    "print(bosonic_kinetic_energy(phi, x, delta))\n",
    "print(boson_potential_energy(phi, x, delta))\n",
    "print(fermion_kinetic_energy(psi, x, delta))\n",
    "print(fermion_potential_energy(psi, phi, x, delta))"
   ]
  },
  {
   "cell_type": "code",
   "execution_count": 41,
   "metadata": {},
   "outputs": [
    {
     "name": "stdout",
     "output_type": "stream",
     "text": [
      "tensor(12737.7432+0.j, grad_fn=<AddBackward0>)\n"
     ]
    }
   ],
   "source": [
    "print(bosonic_kinetic_energy(phi, x, delta) \\\n",
    "    + boson_potential_energy(phi, x, delta) \\\n",
    "    + fermion_kinetic_energy(psi, x, delta) \\\n",
    "    + fermion_potential_energy(psi, phi, x, delta))"
   ]
  },
  {
   "cell_type": "markdown",
   "metadata": {},
   "source": [
    "## Normalization\n",
    "\n",
    "$$\n",
    "\\langle \\Psi \\mid \\Psi \\rangle = 1 \\\\\n",
    "\n",
    "\\langle \\phi \\psi \\mid \\phi \\psi \\rangle = 1 \\\\\n",
    "\n",
    "\\langle \\phi \\mid \\phi \\rangle \\langle \\psi \\mid \\psi \\rangle = 1 \\\\\n",
    "\n",
    "\\left[\\int dx \\phi^2(x)\\right]\\left[ \\int dx \\psi^*(x)\\psi(x) \\right]= 1 \\\\\n",
    "\n",
    "\\left[ \\sum_x a\\phi^2(x) \\right] \\left[ \\sum_x a\\psi^*(x)\\psi(x) \\right] = 1\n",
    "$$"
   ]
  },
  {
   "cell_type": "code",
   "execution_count": 25,
   "metadata": {},
   "outputs": [],
   "source": [
    "def normalization(boson_wf, fermion_wf, inputs, delta):\n",
    "    phi2 = boson_wf(inputs)**2\n",
    "    psi = fermion_wf(inputs)\n",
    "    \n",
    "    return torch.sum(psi.conj()*psi)*delta*torch.sum(phi2)*delta\n",
    "    #return torch.sum(psi.adjoint()*psi*phi2)*delta\n",
    "\n",
    "def total_energy(boson_wf, fermion_wf, inputs, delta):\n",
    "    bosonKE = bosonic_kinetic_energy(boson_wf, inputs, delta)\n",
    "    bosonPE = boson_potential_energy(boson_wf, inputs, delta)\n",
    "    fermionKE = fermion_kinetic_energy(fermion_wf, inputs, delta)\n",
    "    fermionPE = fermion_potential_energy(fermion_wf, boson_wf, inputs, delta)\n",
    "\n",
    "    return (bosonKE + bosonPE + fermionKE + fermionPE)/normalization(boson_wf,fermion_wf,inputs,delta)\n"
   ]
  },
  {
   "cell_type": "code",
   "execution_count": 26,
   "metadata": {},
   "outputs": [
    {
     "name": "stdout",
     "output_type": "stream",
     "text": [
      "tensor(1.0000, grad_fn=<MulBackward0>)\n",
      "tensor(1.0000+0.j, grad_fn=<MulBackward0>)\n",
      "tensor(1.0000+0.j, grad_fn=<MulBackward0>)\n"
     ]
    }
   ],
   "source": [
    "phi.update_norm(x)\n",
    "psi.update_norm(x)\n",
    "print(torch.sum(phi(x)*phi(x))*delta)\n",
    "print(torch.sum(psi(x).conj()*psi(x))*delta)\n",
    "\n",
    "print(normalization(phi,psi,x,delta))\n"
   ]
  },
  {
   "cell_type": "code",
   "execution_count": 27,
   "metadata": {},
   "outputs": [
    {
     "data": {
      "text/plain": [
       "tensor(1.0000, grad_fn=<MulBackward0>)"
      ]
     },
     "execution_count": 27,
     "metadata": {},
     "output_type": "execute_result"
    }
   ],
   "source": [
    "torch.sum(phi(x)**2)*delta"
   ]
  },
  {
   "cell_type": "code",
   "execution_count": 28,
   "metadata": {},
   "outputs": [
    {
     "data": {
      "text/plain": [
       "tensor(1.0000+0.j, grad_fn=<MulBackward0>)"
      ]
     },
     "execution_count": 28,
     "metadata": {},
     "output_type": "execute_result"
    }
   ],
   "source": [
    "torch.sum(psi(x).conj()*psi(x))*delta"
   ]
  },
  {
   "cell_type": "code",
   "execution_count": 29,
   "metadata": {},
   "outputs": [
    {
     "name": "stdout",
     "output_type": "stream",
     "text": [
      "tensor(1.0000+0.j, grad_fn=<MulBackward0>)\n"
     ]
    }
   ],
   "source": [
    "print(torch.sum(phi(x)**2)*delta * torch.sum(psi(x).conj()*psi(x))*delta)"
   ]
  },
  {
   "cell_type": "code",
   "execution_count": 30,
   "metadata": {},
   "outputs": [
    {
     "data": {
      "text/plain": [
       "torch.Size([2000, 1])"
      ]
     },
     "execution_count": 30,
     "metadata": {},
     "output_type": "execute_result"
    }
   ],
   "source": [
    "psi(x).shape"
   ]
  },
  {
   "cell_type": "code",
   "execution_count": null,
   "metadata": {},
   "outputs": [],
   "source": []
  },
  {
   "cell_type": "code",
   "execution_count": 31,
   "metadata": {},
   "outputs": [
    {
     "data": {
      "text/plain": [
       "tensor(15162.9922+0.j, grad_fn=<DivBackward0>)"
      ]
     },
     "execution_count": 31,
     "metadata": {},
     "output_type": "execute_result"
    }
   ],
   "source": [
    "total_energy(phi, psi, x, delta)"
   ]
  },
  {
   "cell_type": "code",
   "execution_count": 32,
   "metadata": {},
   "outputs": [
    {
     "name": "stdout",
     "output_type": "stream",
     "text": [
      "tensor(15162.9922, grad_fn=<SelectBackward0>)\n",
      "tensor(12869.1309, grad_fn=<SelectBackward0>)\n"
     ]
    },
    {
     "ename": "KeyboardInterrupt",
     "evalue": "",
     "output_type": "error",
     "traceback": [
      "\u001b[0;31m---------------------------------------------------------------------------\u001b[0m",
      "\u001b[0;31mKeyboardInterrupt\u001b[0m                         Traceback (most recent call last)",
      "Cell \u001b[0;32mIn[32], line 12\u001b[0m\n\u001b[1;32m      9\u001b[0m phi\u001b[39m.\u001b[39mupdate_norm(x)\n\u001b[1;32m     10\u001b[0m psi\u001b[39m.\u001b[39mupdate_norm(x)\n\u001b[0;32m---> 12\u001b[0m energy\u001b[39m=\u001b[39mtotal_energy(phi,psi,x,delta)\u001b[39m.\u001b[39mreal \u001b[39m# this is the loss!\u001b[39;00m\n\u001b[1;32m     13\u001b[0m energy\u001b[39m.\u001b[39mbackward()\n\u001b[1;32m     15\u001b[0m \u001b[39mif\u001b[39;00m i\u001b[39m%\u001b[39m\u001b[39m2\u001b[39m\u001b[39m==\u001b[39m\u001b[39m0\u001b[39m:\n",
      "Cell \u001b[0;32mIn[25], line 11\u001b[0m, in \u001b[0;36mtotal_energy\u001b[0;34m(boson_wf, fermion_wf, inputs, delta)\u001b[0m\n\u001b[1;32m      9\u001b[0m bosonKE \u001b[39m=\u001b[39m bosonic_kinetic_energy(boson_wf, inputs, delta)\n\u001b[1;32m     10\u001b[0m bosonPE \u001b[39m=\u001b[39m boson_potential_energy(boson_wf, inputs, delta)\n\u001b[0;32m---> 11\u001b[0m fermionKE \u001b[39m=\u001b[39m fermion_kinetic_energy(fermion_wf, inputs, delta)\n\u001b[1;32m     12\u001b[0m fermionPE \u001b[39m=\u001b[39m fermion_potential_energy(fermion_wf, boson_wf, inputs, delta)\n\u001b[1;32m     14\u001b[0m \u001b[39mreturn\u001b[39;00m (bosonKE \u001b[39m+\u001b[39m bosonPE \u001b[39m+\u001b[39m fermionKE \u001b[39m+\u001b[39m fermionPE)\u001b[39m/\u001b[39mnormalization(boson_wf,fermion_wf,inputs,delta)\n",
      "Cell \u001b[0;32mIn[22], line 23\u001b[0m, in \u001b[0;36mfermion_kinetic_energy\u001b[0;34m(fermion_wf, inputs, delta)\u001b[0m\n\u001b[1;32m     22\u001b[0m \u001b[39mdef\u001b[39;00m \u001b[39mfermion_kinetic_energy\u001b[39m(fermion_wf, inputs, delta):\n\u001b[0;32m---> 23\u001b[0m     chi \u001b[39m=\u001b[39m fermion_wf(inputs)\n\u001b[1;32m     25\u001b[0m     t1 \u001b[39m=\u001b[39m (chi\u001b[39m.\u001b[39mconj())\u001b[39m*\u001b[39m(chi\u001b[39m.\u001b[39mroll(\u001b[39m-\u001b[39m\u001b[39m1\u001b[39m))\n\u001b[1;32m     26\u001b[0m     t2 \u001b[39m=\u001b[39m (chi\u001b[39m.\u001b[39mroll(\u001b[39m-\u001b[39m\u001b[39m1\u001b[39m)\u001b[39m.\u001b[39mconj())\u001b[39m*\u001b[39mchi\n",
      "File \u001b[0;32m~/anaconda3/envs/MachineLearning/lib/python3.10/site-packages/torch/nn/modules/module.py:1194\u001b[0m, in \u001b[0;36mModule._call_impl\u001b[0;34m(self, *input, **kwargs)\u001b[0m\n\u001b[1;32m   1190\u001b[0m \u001b[39m# If we don't have any hooks, we want to skip the rest of the logic in\u001b[39;00m\n\u001b[1;32m   1191\u001b[0m \u001b[39m# this function, and just call forward.\u001b[39;00m\n\u001b[1;32m   1192\u001b[0m \u001b[39mif\u001b[39;00m \u001b[39mnot\u001b[39;00m (\u001b[39mself\u001b[39m\u001b[39m.\u001b[39m_backward_hooks \u001b[39mor\u001b[39;00m \u001b[39mself\u001b[39m\u001b[39m.\u001b[39m_forward_hooks \u001b[39mor\u001b[39;00m \u001b[39mself\u001b[39m\u001b[39m.\u001b[39m_forward_pre_hooks \u001b[39mor\u001b[39;00m _global_backward_hooks\n\u001b[1;32m   1193\u001b[0m         \u001b[39mor\u001b[39;00m _global_forward_hooks \u001b[39mor\u001b[39;00m _global_forward_pre_hooks):\n\u001b[0;32m-> 1194\u001b[0m     \u001b[39mreturn\u001b[39;00m forward_call(\u001b[39m*\u001b[39;49m\u001b[39minput\u001b[39;49m, \u001b[39m*\u001b[39;49m\u001b[39m*\u001b[39;49mkwargs)\n\u001b[1;32m   1195\u001b[0m \u001b[39m# Do not call functions when jit is used\u001b[39;00m\n\u001b[1;32m   1196\u001b[0m full_backward_hooks, non_full_backward_hooks \u001b[39m=\u001b[39m [], []\n",
      "Cell \u001b[0;32mIn[15], line 18\u001b[0m, in \u001b[0;36mFermionWaveFunction.forward\u001b[0;34m(self, inputs)\u001b[0m\n\u001b[1;32m     16\u001b[0m x \u001b[39m=\u001b[39m ctorch\u001b[39m.\u001b[39mcomplexFunctions\u001b[39m.\u001b[39mcomplex_tanh(x)\n\u001b[1;32m     17\u001b[0m x \u001b[39m=\u001b[39m \u001b[39mself\u001b[39m\u001b[39m.\u001b[39mlayer2(x)\n\u001b[0;32m---> 18\u001b[0m x \u001b[39m=\u001b[39m ctorch\u001b[39m.\u001b[39;49mcomplexFunctions\u001b[39m.\u001b[39;49mcomplex_tanh(x)\n\u001b[1;32m     19\u001b[0m x \u001b[39m=\u001b[39m \u001b[39mself\u001b[39m\u001b[39m.\u001b[39mlayer3(x)\n\u001b[1;32m     21\u001b[0m \u001b[39m# boundary condition - normalization?\u001b[39;00m\n\u001b[1;32m     22\u001b[0m \u001b[39m# boundary_condition = self.exp(inputs)\u001b[39;00m\n\u001b[1;32m     23\u001b[0m \u001b[39m# output = self.norm*x*boundary_condition\u001b[39;00m\n",
      "File \u001b[0;32m~/anaconda3/envs/MachineLearning/lib/python3.10/site-packages/complexPyTorch/complexFunctions.py:50\u001b[0m, in \u001b[0;36mcomplex_tanh\u001b[0;34m(input)\u001b[0m\n\u001b[1;32m     49\u001b[0m \u001b[39mdef\u001b[39;00m \u001b[39mcomplex_tanh\u001b[39m(\u001b[39minput\u001b[39m):\n\u001b[0;32m---> 50\u001b[0m     \u001b[39mreturn\u001b[39;00m tanh(\u001b[39minput\u001b[39;49m\u001b[39m.\u001b[39;49mreal)\u001b[39m.\u001b[39;49mtype(torch\u001b[39m.\u001b[39;49mcomplex64)\u001b[39m+\u001b[39m\u001b[39m1\u001b[39mj\u001b[39m*\u001b[39mtanh(\u001b[39minput\u001b[39m\u001b[39m.\u001b[39mimag)\u001b[39m.\u001b[39mtype(torch\u001b[39m.\u001b[39mcomplex64)\n",
      "\u001b[0;31mKeyboardInterrupt\u001b[0m: "
     ]
    }
   ],
   "source": [
    "bosonOptimizer = torch.optim.Adam(phi.parameters(), lr=0.001)\n",
    "fermionOptimizer = torch.optim.Adam(psi.parameters(), lr=0.001)\n",
    "\n",
    "bosonOptimizer.zero_grad()\n",
    "fermionOptimizer.zero_grad()\n",
    "\n",
    "# cant go up to 10000?\n",
    "for i in range(500):\n",
    "    phi.update_norm(x)\n",
    "    psi.update_norm(x)\n",
    "\n",
    "    energy=total_energy(phi,psi,x,delta).real # this is the loss!\n",
    "    energy.backward()\n",
    "\n",
    "    if i%2==0:\n",
    "        bosonOptimizer.step()\n",
    "        bosonOptimizer.zero_grad()\n",
    "    else:\n",
    "        fermionOptimizer.step()\n",
    "        fermionOptimizer.zero_grad()\n",
    "    \n",
    "    if i%100==0:\n",
    "        print(energy)"
   ]
  },
  {
   "cell_type": "code",
   "execution_count": 42,
   "metadata": {},
   "outputs": [
    {
     "name": "stdout",
     "output_type": "stream",
     "text": [
      "tensor(2737.7371, grad_fn=<AddBackward0>)\n",
      "tensor(0.5000, grad_fn=<AddBackward0>)\n",
      "tensor(9999.5059+0.j, grad_fn=<DivBackward0>)\n",
      "tensor(0.+0.j, grad_fn=<SumBackward0>)\n"
     ]
    }
   ],
   "source": [
    "print(bosonic_kinetic_energy(phi, x, delta))\n",
    "print(boson_potential_energy(phi, x, delta))\n",
    "print(fermion_kinetic_energy(psi, x, delta))\n",
    "print(fermion_potential_energy(psi, phi, x, delta))"
   ]
  },
  {
   "cell_type": "code",
   "execution_count": 43,
   "metadata": {},
   "outputs": [
    {
     "name": "stderr",
     "output_type": "stream",
     "text": [
      "/home/chris/anaconda3/envs/MachineLearning/lib/python3.10/site-packages/matplotlib/cbook/__init__.py:1369: ComplexWarning: Casting complex values to real discards the imaginary part\n",
      "  return np.asarray(x, float)\n"
     ]
    },
    {
     "data": {
      "image/png": "[encoded data removed]",
      "text/plain": [
       "<Figure size 640x480 with 1 Axes>"
      ]
     },
     "metadata": {},
     "output_type": "display_data"
    }
   ],
   "source": [
    "phi_y = phi(x)\n",
    "psi_y = psi(x)\n",
    "plt.plot(x.detach().numpy(), (phi_y**2).detach().numpy(), label=r'$\\phi$')\n",
    "plt.plot(x.detach().numpy(), (psi_y.conj()*psi_y).detach().numpy(), label=r'$\\psi$')\n",
    "plt.ylabel(r'$\\mid\\Psi\\mid^2$')\n",
    "plt.legend()\n",
    "plt.show()"
   ]
  },
  {
   "cell_type": "code",
   "execution_count": null,
   "metadata": {},
   "outputs": [],
   "source": []
  }
 ],
 "metadata": {
  "interpreter": {
   "hash": "e47492bb68c945901860c0e5171265739057a66660d70f0177845bcc27013884"
  },
  "kernelspec": {
   "display_name": "Python 3.10.9 ('MachineLearning')",
   "language": "python",
   "name": "python3"
  },
  "language_info": {
   "codemirror_mode": {
    "name": "ipython",
    "version": 3
   },
   "file_extension": ".py",
   "mimetype": "text/x-python",
   "name": "python",
   "nbconvert_exporter": "python",
   "pygments_lexer": "ipython3",
   "version": "3.10.8"
  },
  "orig_nbformat": 4
 },
 "nbformat": 4,
 "nbformat_minor": 2
}
