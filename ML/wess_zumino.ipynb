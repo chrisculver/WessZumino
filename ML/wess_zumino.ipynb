{
 "cells": [
  {
   "cell_type": "code",
   "execution_count": 72,
   "metadata": {},
   "outputs": [],
   "source": [
    "import torch\n",
    "import torch.nn as nn\n",
    "import numpy as np\n",
    "import matplotlib.pyplot as plt\n",
    "\n",
    "import complexPyTorch as ctorch\n",
    "from complexPyTorch import complexFunctions, complexLayers\n",
    "from complexPyTorch.complexFunctions import complex_tanh\n",
    "\n",
    "plt.rcParams['text.usetex']=True"
   ]
  },
  {
   "cell_type": "code",
   "execution_count": 73,
   "metadata": {},
   "outputs": [],
   "source": [
    "delta=0.01\n",
    "mass=1"
   ]
  },
  {
   "cell_type": "code",
   "execution_count": 74,
   "metadata": {},
   "outputs": [],
   "source": [
    "class BosonWaveFunction(nn.Module):\n",
    "    def __init__(self):\n",
    "        super(BosonWaveFunction, self).__init__()\n",
    "\n",
    "        self.layer1=nn.Linear(1,32)\n",
    "        self.layer2=nn.Linear(32,32)\n",
    "        self.layer3=nn.Linear(32,1)\n",
    "\n",
    "        self.norm = torch.ones(1, requires_grad=False)\n",
    "\n",
    "    def forward(self, inputs):\n",
    "        x = inputs\n",
    "        x = self.layer1(x)\n",
    "        x = torch.tanh(x)\n",
    "        x = self.layer2(x)\n",
    "        x = torch.tanh(x)\n",
    "        x = self.layer3(x)\n",
    "\n",
    "        # boundary condition - normalization?\n",
    "        # boundary_condition = self.exp(inputs)\n",
    "        # output = self.norm*x*boundary_condition\n",
    "        \n",
    "        x = torch.mul(x,self.norm)\n",
    "\n",
    "        return x\n",
    "    \n",
    "    def update_norm(self, inputs):\n",
    "        with torch.no_grad():\n",
    "            value = self.forward(inputs)\n",
    "            N = value**2\n",
    "            print(N)\n",
    "            delta=inputs[1]-inputs[0]\n",
    "            N=torch.sum(N)*delta \n",
    "            self.norm = self.norm*1.0/torch.sqrt(N)"
   ]
  },
  {
   "cell_type": "code",
   "execution_count": 75,
   "metadata": {},
   "outputs": [],
   "source": [
    "class FermionWaveFunction(nn.Module):\n",
    "    def __init__(self):\n",
    "        super(FermionWaveFunction, self).__init__()\n",
    "\n",
    "        self.layer1=ctorch.complexLayers.ComplexLinear(1,32)\n",
    "        self.layer2=ctorch.complexLayers.ComplexLinear(32,32)\n",
    "        self.layer3=ctorch.complexLayers.ComplexLinear(32,1)\n",
    "\n",
    "        self.norm = torch.ones(1, requires_grad=False)\n",
    "\n",
    "    def forward(self, inputs):\n",
    "        x = inputs.type(torch.complex64)\n",
    "        x = self.layer1(x)\n",
    "        x = ctorch.complexFunctions.complex_tanh(x)\n",
    "        x = self.layer2(x)\n",
    "        x = ctorch.complexFunctions.complex_tanh(x)\n",
    "        x = self.layer3(x)\n",
    "\n",
    "        # boundary condition - normalization?\n",
    "        # boundary_condition = self.exp(inputs)\n",
    "        # output = self.norm*x*boundary_condition\n",
    "        \n",
    "        x = torch.mul(x,self.norm)\n",
    "\n",
    "        return x\n",
    "\n",
    "    def update_norm(self, inputs):\n",
    "        with torch.no_grad():\n",
    "            value = self.forward(inputs)\n",
    "            N = torch.mul(value.conj(),value)\n",
    "            delta=inputs[1]-inputs[0]\n",
    "            N=torch.sum(N)*delta\n",
    "            self.norm = self.norm*1.0/torch.sqrt(N)"
   ]
  },
  {
   "cell_type": "code",
   "execution_count": 76,
   "metadata": {},
   "outputs": [],
   "source": [
    "# This is preparing input data that is differentiable:\n",
    "_x = np.arange(-10, 10, delta, dtype=np.float32)\n",
    "_x = _x.reshape((_x.shape[0], 1))\n",
    "x = torch.tensor(_x, requires_grad=True)"
   ]
  },
  {
   "cell_type": "code",
   "execution_count": 77,
   "metadata": {},
   "outputs": [
    {
     "name": "stdout",
     "output_type": "stream",
     "text": [
      "tensor([1.])\n",
      "tensor([[0.2398],\n",
      "        [0.2398],\n",
      "        [0.2398],\n",
      "        ...,\n",
      "        [0.0750],\n",
      "        [0.0750],\n",
      "        [0.0750]])\n",
      "tensor([0.6236])\n"
     ]
    }
   ],
   "source": [
    "phi = BosonWaveFunction()\n",
    "print(phi.norm)\n",
    "phi.update_norm(x)\n",
    "print(phi.norm)\n",
    "phi_y = phi(x)"
   ]
  },
  {
   "cell_type": "code",
   "execution_count": 78,
   "metadata": {},
   "outputs": [
    {
     "name": "stdout",
     "output_type": "stream",
     "text": [
      "tensor([1.])\n",
      "tensor([0.7840+0.j])\n"
     ]
    },
    {
     "name": "stderr",
     "output_type": "stream",
     "text": [
      "/home/chris/anaconda3/envs/MachineLearning/lib/python3.10/site-packages/torch/nn/functional.py:1956: UserWarning: nn.functional.tanh is deprecated. Use torch.tanh instead.\n",
      "  warnings.warn(\"nn.functional.tanh is deprecated. Use torch.tanh instead.\")\n"
     ]
    }
   ],
   "source": [
    "psi = FermionWaveFunction()\n",
    "print(psi.norm)\n",
    "psi.update_norm(x)\n",
    "print(psi.norm)\n",
    "psi_y = psi(x)"
   ]
  },
  {
   "cell_type": "code",
   "execution_count": 85,
   "metadata": {},
   "outputs": [
    {
     "name": "stderr",
     "output_type": "stream",
     "text": [
      "/home/chris/anaconda3/envs/MachineLearning/lib/python3.10/site-packages/matplotlib/cbook/__init__.py:1335: ComplexWarning: Casting complex values to real discards the imaginary part\n",
      "  return np.asarray(x, float)\n"
     ]
    },
    {
     "data": {
      "image/png": "[encoded data removed]",
      "text/plain": [
       "<Figure size 640x480 with 1 Axes>"
      ]
     },
     "metadata": {},
     "output_type": "display_data"
    }
   ],
   "source": [
    "plt.plot(x.detach().numpy(), (phi_y**2).detach().numpy(), label=r'$\\phi$')\n",
    "plt.plot(x.detach().numpy(), (psi_y.conj()*psi_y).detach().numpy(), label=r'$\\psi$')\n",
    "plt.ylabel(r'$\\mid\\Psi\\mid^2$')\n",
    "plt.legend()\n",
    "plt.show()"
   ]
  },
  {
   "cell_type": "code",
   "execution_count": 86,
   "metadata": {},
   "outputs": [
    {
     "data": {
      "text/plain": [
       "torch.Tensor"
      ]
     },
     "execution_count": 86,
     "metadata": {},
     "output_type": "execute_result"
    }
   ],
   "source": [
    "type(phi_y)"
   ]
  },
  {
   "cell_type": "code",
   "execution_count": 106,
   "metadata": {},
   "outputs": [],
   "source": [
    "def linear_potential(boson_wf, inputs):\n",
    "    return boson_wf(inputs)\n",
    "\n",
    "# I could auto differentiate?!?!?????\n",
    "def linear_potential_prime(boson_wf, inputs):\n",
    "    phi = boson_wf(inputs)\n",
    "    return torch.tensor([1 for n in range(phi.shape[0])])\n",
    "\n",
    "def bosonic_kinetic_energy(boson_wf, inputs, delta):\n",
    "    phi = boson_wf(inputs) # phi(x)\n",
    "    dPhidx = torch.autograd.grad(phi, inputs=inputs, grad_outputs=torch.ones_like(phi))\n",
    "\n",
    "    t1 = dPhidx[0]**2/(2.0*delta) # p_n^2/2a\n",
    "    t2 = ((phi.roll(1)-phi.roll(-1))/2.0*delta)**2 #(phi_{n+1}-phi_{n-1})^2/2a\n",
    "\n",
    "    return torch.sum(t1) + (delta/2.0)*torch.sum(t2)\n",
    "\n",
    "def boson_potential_energy(boson_wf, inputs, delta, potential):\n",
    "    phi = boson_wf(inputs)\n",
    "\n",
    "    t1 = potential(boson_wf, inputs)**2 # V(phi_n)^2\n",
    "    t2 = potential(boson_wf, inputs)*(phi.roll(1)-phi.roll(-1)) # V(phi_n)*(phi_{n+1}-phi_{n-1})\n",
    "\n",
    "    return (delta/2.0)*torch.sum(t1) + (1.0/2.0)*torch.sum(t2)\n",
    "\n",
    "def fermion_kinetic_energy(fermion_wf, inputs, delta):\n",
    "    chi = fermion_wf(inputs)\n",
    "\n",
    "    t1 = (chi.conj())*(chi.roll(1))\n",
    "    t2 = (chi.conj().roll(1))*chi\n",
    "\n",
    "    return (torch.sum(t1)+torch.sum(t2))/(2.0*delta)\n",
    "\n",
    "def fermion_potential_energy(fermion_wf, boson_wf, inputs, delta, potential_prime):\n",
    "    chi = fermion_wf(inputs)\n",
    "\n",
    "    minus1n = torch.tensor([(-1)**n for n in range(chi.shape[0])])\n",
    "    half = torch.tensor([0.5 for n in range(chi.shape[0])])\n",
    "\n",
    "    return torch.sum(minus1n*potential_prime(boson_wf,inputs)*(chi.conj()*chi-half))"
   ]
  },
  {
   "cell_type": "code",
   "execution_count": 107,
   "metadata": {},
   "outputs": [
    {
     "name": "stdout",
     "output_type": "stream",
     "text": [
      "tensor(195.9400, grad_fn=<AddBackward0>)\n",
      "tensor(0.5000, grad_fn=<AddBackward0>)\n",
      "tensor(9999.2275+0.j, grad_fn=<DivBackward0>)\n",
      "tensor(0.+0.j, grad_fn=<SumBackward0>)\n"
     ]
    },
    {
     "name": "stderr",
     "output_type": "stream",
     "text": [
      "/home/chris/anaconda3/envs/MachineLearning/lib/python3.10/site-packages/torch/nn/functional.py:1956: UserWarning: nn.functional.tanh is deprecated. Use torch.tanh instead.\n",
      "  warnings.warn(\"nn.functional.tanh is deprecated. Use torch.tanh instead.\")\n"
     ]
    }
   ],
   "source": [
    "print(bosonic_kinetic_energy(phi, x, delta))\n",
    "print(boson_potential_energy(phi, x, delta, linear_potential))\n",
    "print(fermion_kinetic_energy(psi, x, delta))\n",
    "print(fermion_potential_energy(psi, phi, x, delta, linear_potential_prime))"
   ]
  },
  {
   "cell_type": "code",
   "execution_count": 110,
   "metadata": {},
   "outputs": [
    {
     "name": "stdout",
     "output_type": "stream",
     "text": [
      "tensor(10195.6680+0.j, grad_fn=<AddBackward0>)\n"
     ]
    },
    {
     "name": "stderr",
     "output_type": "stream",
     "text": [
      "/home/chris/anaconda3/envs/MachineLearning/lib/python3.10/site-packages/torch/nn/functional.py:1956: UserWarning: nn.functional.tanh is deprecated. Use torch.tanh instead.\n",
      "  warnings.warn(\"nn.functional.tanh is deprecated. Use torch.tanh instead.\")\n"
     ]
    }
   ],
   "source": [
    "print(bosonic_kinetic_energy(phi, x, delta) \\\n",
    "    + boson_potential_energy(phi, x, delta, linear_potential) \\\n",
    "    + fermion_kinetic_energy(psi, x, delta) \\\n",
    "    + fermion_potential_energy(psi, phi, x, delta, linear_potential_prime))"
   ]
  },
  {
   "cell_type": "code",
   "execution_count": 113,
   "metadata": {},
   "outputs": [],
   "source": [
    "def total_energy(boson_wf, fermion_wf, inputs, delta, potential, potential_prime):\n",
    "    bosonKE = bosonic_kinetic_energy(boson_wf, inputs, delta)\n",
    "    bosonPE = boson_potential_energy(boson_wf, inputs, delta, potential)\n",
    "    fermionKE = fermion_kinetic_energy(fermion_wf, inputs, delta)\n",
    "    fermionPE = fermion_potential_energy(fermion_wf, boson_wf, inputs, delta, potential_prime)\n",
    "\n",
    "    return bosonKE + bosonPE + fermionKE + fermionPE"
   ]
  },
  {
   "cell_type": "code",
   "execution_count": 114,
   "metadata": {},
   "outputs": [
    {
     "name": "stderr",
     "output_type": "stream",
     "text": [
      "/home/chris/anaconda3/envs/MachineLearning/lib/python3.10/site-packages/torch/nn/functional.py:1956: UserWarning: nn.functional.tanh is deprecated. Use torch.tanh instead.\n",
      "  warnings.warn(\"nn.functional.tanh is deprecated. Use torch.tanh instead.\")\n"
     ]
    },
    {
     "data": {
      "text/plain": [
       "tensor(10195.6680+0.j, grad_fn=<AddBackward0>)"
      ]
     },
     "execution_count": 114,
     "metadata": {},
     "output_type": "execute_result"
    }
   ],
   "source": [
    "total_energy(phi, psi, x, delta, linear_potential, linear_potential_prime)"
   ]
  },
  {
   "cell_type": "code",
   "execution_count": 117,
   "metadata": {},
   "outputs": [
    {
     "name": "stdout",
     "output_type": "stream",
     "text": [
      "tensor([[0.0932],\n",
      "        [0.0932],\n",
      "        [0.0932],\n",
      "        ...,\n",
      "        [0.0292],\n",
      "        [0.0292],\n",
      "        [0.0292]])\n"
     ]
    },
    {
     "ename": "RuntimeError",
     "evalue": "Trying to backward through the graph a second time (or directly access saved tensors after they have already been freed). Saved intermediate values of the graph are freed when you call .backward() or autograd.grad(). Specify retain_graph=True if you need to backward through the graph a second time or if you need to access saved tensors after calling backward.",
     "output_type": "error",
     "traceback": [
      "\u001b[0;31m---------------------------------------------------------------------------\u001b[0m",
      "\u001b[0;31mRuntimeError\u001b[0m                              Traceback (most recent call last)",
      "Cell \u001b[0;32mIn[117], line 13\u001b[0m\n\u001b[1;32m     10\u001b[0m psi\u001b[38;5;241m.\u001b[39mupdate_norm(x)\n\u001b[1;32m     12\u001b[0m energy\u001b[38;5;241m=\u001b[39mtotal_energy(phi,psi,x,delta,linear_potential,linear_potential_prime) \u001b[38;5;66;03m# this is the loss!\u001b[39;00m\n\u001b[0;32m---> 13\u001b[0m \u001b[43menergy\u001b[49m\u001b[38;5;241;43m.\u001b[39;49m\u001b[43mbackward\u001b[49m\u001b[43m(\u001b[49m\u001b[43m)\u001b[49m\n\u001b[1;32m     15\u001b[0m bosonOptimizer\u001b[38;5;241m.\u001b[39mstep()\n\u001b[1;32m     16\u001b[0m fermionOptimizer\u001b[38;5;241m.\u001b[39mstep()\n",
      "File \u001b[0;32m~/anaconda3/envs/MachineLearning/lib/python3.10/site-packages/torch/_tensor.py:488\u001b[0m, in \u001b[0;36mTensor.backward\u001b[0;34m(self, gradient, retain_graph, create_graph, inputs)\u001b[0m\n\u001b[1;32m    <a href='file:///home/chris/anaconda3/envs/MachineLearning/lib/python3.10/site-packages/torch/_tensor.py?line=477'>478</a>\u001b[0m \u001b[39mif\u001b[39;00m has_torch_function_unary(\u001b[39mself\u001b[39m):\n\u001b[1;32m    <a href='file:///home/chris/anaconda3/envs/MachineLearning/lib/python3.10/site-packages/torch/_tensor.py?line=478'>479</a>\u001b[0m     \u001b[39mreturn\u001b[39;00m handle_torch_function(\n\u001b[1;32m    <a href='file:///home/chris/anaconda3/envs/MachineLearning/lib/python3.10/site-packages/torch/_tensor.py?line=479'>480</a>\u001b[0m         Tensor\u001b[39m.\u001b[39mbackward,\n\u001b[1;32m    <a href='file:///home/chris/anaconda3/envs/MachineLearning/lib/python3.10/site-packages/torch/_tensor.py?line=480'>481</a>\u001b[0m         (\u001b[39mself\u001b[39m,),\n\u001b[0;32m   (...)\u001b[0m\n\u001b[1;32m    <a href='file:///home/chris/anaconda3/envs/MachineLearning/lib/python3.10/site-packages/torch/_tensor.py?line=485'>486</a>\u001b[0m         inputs\u001b[39m=\u001b[39minputs,\n\u001b[1;32m    <a href='file:///home/chris/anaconda3/envs/MachineLearning/lib/python3.10/site-packages/torch/_tensor.py?line=486'>487</a>\u001b[0m     )\n\u001b[0;32m--> <a href='file:///home/chris/anaconda3/envs/MachineLearning/lib/python3.10/site-packages/torch/_tensor.py?line=487'>488</a>\u001b[0m torch\u001b[39m.\u001b[39;49mautograd\u001b[39m.\u001b[39;49mbackward(\n\u001b[1;32m    <a href='file:///home/chris/anaconda3/envs/MachineLearning/lib/python3.10/site-packages/torch/_tensor.py?line=488'>489</a>\u001b[0m     \u001b[39mself\u001b[39;49m, gradient, retain_graph, create_graph, inputs\u001b[39m=\u001b[39;49minputs\n\u001b[1;32m    <a href='file:///home/chris/anaconda3/envs/MachineLearning/lib/python3.10/site-packages/torch/_tensor.py?line=489'>490</a>\u001b[0m )\n",
      "File \u001b[0;32m~/anaconda3/envs/MachineLearning/lib/python3.10/site-packages/torch/autograd/__init__.py:197\u001b[0m, in \u001b[0;36mbackward\u001b[0;34m(tensors, grad_tensors, retain_graph, create_graph, grad_variables, inputs)\u001b[0m\n\u001b[1;32m    <a href='file:///home/chris/anaconda3/envs/MachineLearning/lib/python3.10/site-packages/torch/autograd/__init__.py?line=191'>192</a>\u001b[0m     retain_graph \u001b[39m=\u001b[39m create_graph\n\u001b[1;32m    <a href='file:///home/chris/anaconda3/envs/MachineLearning/lib/python3.10/site-packages/torch/autograd/__init__.py?line=193'>194</a>\u001b[0m \u001b[39m# The reason we repeat same the comment below is that\u001b[39;00m\n\u001b[1;32m    <a href='file:///home/chris/anaconda3/envs/MachineLearning/lib/python3.10/site-packages/torch/autograd/__init__.py?line=194'>195</a>\u001b[0m \u001b[39m# some Python versions print out the first line of a multi-line function\u001b[39;00m\n\u001b[1;32m    <a href='file:///home/chris/anaconda3/envs/MachineLearning/lib/python3.10/site-packages/torch/autograd/__init__.py?line=195'>196</a>\u001b[0m \u001b[39m# calls in the traceback and some print out the last line\u001b[39;00m\n\u001b[0;32m--> <a href='file:///home/chris/anaconda3/envs/MachineLearning/lib/python3.10/site-packages/torch/autograd/__init__.py?line=196'>197</a>\u001b[0m Variable\u001b[39m.\u001b[39;49m_execution_engine\u001b[39m.\u001b[39;49mrun_backward(  \u001b[39m# Calls into the C++ engine to run the backward pass\u001b[39;49;00m\n\u001b[1;32m    <a href='file:///home/chris/anaconda3/envs/MachineLearning/lib/python3.10/site-packages/torch/autograd/__init__.py?line=197'>198</a>\u001b[0m     tensors, grad_tensors_, retain_graph, create_graph, inputs,\n\u001b[1;32m    <a href='file:///home/chris/anaconda3/envs/MachineLearning/lib/python3.10/site-packages/torch/autograd/__init__.py?line=198'>199</a>\u001b[0m     allow_unreachable\u001b[39m=\u001b[39;49m\u001b[39mTrue\u001b[39;49;00m, accumulate_grad\u001b[39m=\u001b[39;49m\u001b[39mTrue\u001b[39;49;00m)\n",
      "\u001b[0;31mRuntimeError\u001b[0m: Trying to backward through the graph a second time (or directly access saved tensors after they have already been freed). Saved intermediate values of the graph are freed when you call .backward() or autograd.grad(). Specify retain_graph=True if you need to backward through the graph a second time or if you need to access saved tensors after calling backward."
     ]
    }
   ],
   "source": [
    "bosonOptimizer = torch.optim.Adam(phi.parameters(), lr=0.0001)\n",
    "fermionOptimizer = torch.optim.Adam(psi.parameters(), lr=0.0001)\n",
    "\n",
    "bosonOptimizer.zero_grad()\n",
    "fermionOptimizer.zero_grad()\n",
    "\n",
    "# cant go up to 10000?\n",
    "for i in range(100):\n",
    "    phi.update_norm(x)\n",
    "    psi.update_norm(x)\n",
    "\n",
    "    energy=total_energy(phi,psi,x,delta,linear_potential,linear_potential_prime) # this is the loss!\n",
    "    energy.backward()\n",
    "\n",
    "    bosonOptimizer.step()\n",
    "    fermionOptimizer.step()\n",
    "    bosonOptimizer.zero_grad()\n",
    "    fermionOptimizer.zero_grad()\n",
    "    \n",
    "    if i%1==0:\n",
    "        print(energy)"
   ]
  },
  {
   "cell_type": "code",
   "execution_count": null,
   "metadata": {},
   "outputs": [],
   "source": []
  }
 ],
 "metadata": {
  "interpreter": {
   "hash": "e47492bb68c945901860c0e5171265739057a66660d70f0177845bcc27013884"
  },
  "kernelspec": {
   "display_name": "Python 3.10.9 ('MachineLearning')",
   "language": "python",
   "name": "python3"
  },
  "language_info": {
   "codemirror_mode": {
    "name": "ipython",
    "version": 3
   },
   "file_extension": ".py",
   "mimetype": "text/x-python",
   "name": "python",
   "nbconvert_exporter": "python",
   "pygments_lexer": "ipython3",
   "version": "3.10.9"
  },
  "orig_nbformat": 4
 },
 "nbformat": 4,
 "nbformat_minor": 2
}
