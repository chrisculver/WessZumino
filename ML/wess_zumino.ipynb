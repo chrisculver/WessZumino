{
 "cells": [
  {
   "cell_type": "code",
   "execution_count": 45,
   "metadata": {},
   "outputs": [],
   "source": [
    "import torch\n",
    "import torch.nn as nn\n",
    "import numpy as np\n",
    "import matplotlib.pyplot as plt\n",
    "\n",
    "import complexPyTorch as ctorch\n",
    "from complexPyTorch import complexFunctions, complexLayers\n",
    "from complexPyTorch.complexFunctions import complex_tanh\n",
    "\n",
    "plt.rcParams['text.usetex']=True"
   ]
  },
  {
   "cell_type": "code",
   "execution_count": 46,
   "metadata": {},
   "outputs": [],
   "source": [
    "delta=0.01\n",
    "mass=1"
   ]
  },
  {
   "cell_type": "code",
   "execution_count": 47,
   "metadata": {},
   "outputs": [],
   "source": [
    "class BosonWaveFunction(nn.Module):\n",
    "    def __init__(self):\n",
    "        super(BosonWaveFunction, self).__init__()\n",
    "\n",
    "        self.layer1=nn.Linear(1,32)\n",
    "        self.layer2=nn.Linear(32,32)\n",
    "        self.layer3=nn.Linear(32,1)\n",
    "\n",
    "        self.norm = torch.ones(1, requires_grad=False)\n",
    "\n",
    "    def forward(self, inputs):\n",
    "        x = inputs\n",
    "        x = self.layer1(x)\n",
    "        x = torch.tanh(x)\n",
    "        x = self.layer2(x)\n",
    "        x = torch.tanh(x)\n",
    "        x = self.layer3(x)\n",
    "\n",
    "        # boundary condition - normalization?\n",
    "        # boundary_condition = self.exp(inputs)\n",
    "        # output = self.norm*x*boundary_condition\n",
    "        \n",
    "        x = torch.mul(x,self.norm)\n",
    "\n",
    "        return x\n",
    "    \n",
    "    def update_norm(self, inputs):\n",
    "        with torch.no_grad():\n",
    "            value = self.forward(inputs)\n",
    "            N = value**2\n",
    "            delta=inputs[1]-inputs[0]\n",
    "            N=torch.sum(N)*delta \n",
    "            self.norm = self.norm*1.0/torch.sqrt(N)"
   ]
  },
  {
   "cell_type": "code",
   "execution_count": 48,
   "metadata": {},
   "outputs": [],
   "source": [
    "class FermionWaveFunction(nn.Module):\n",
    "    def __init__(self):\n",
    "        super(FermionWaveFunction, self).__init__()\n",
    "\n",
    "        self.layer1=ctorch.complexLayers.ComplexLinear(1,32)\n",
    "        self.layer2=ctorch.complexLayers.ComplexLinear(32,32)\n",
    "        self.layer3=ctorch.complexLayers.ComplexLinear(32,1)\n",
    "\n",
    "        self.norm = torch.ones(1, requires_grad=False)\n",
    "\n",
    "    def forward(self, inputs):\n",
    "        x = inputs.type(torch.complex64)\n",
    "        x = self.layer1(x)\n",
    "        x = ctorch.complexFunctions.complex_tanh(x)\n",
    "        x = self.layer2(x)\n",
    "        x = ctorch.complexFunctions.complex_tanh(x)\n",
    "        x = self.layer3(x)\n",
    "\n",
    "        # boundary condition - normalization?\n",
    "        # boundary_condition = self.exp(inputs)\n",
    "        # output = self.norm*x*boundary_condition\n",
    "        \n",
    "        x = torch.mul(x,self.norm)\n",
    "\n",
    "        return x\n",
    "\n",
    "    def update_norm(self, inputs):\n",
    "        with torch.no_grad():\n",
    "            value = self.forward(inputs)\n",
    "            N = torch.mul(value.conj(),value)\n",
    "            delta=inputs[1]-inputs[0]\n",
    "            N=torch.sum(N)*delta\n",
    "            self.norm = self.norm*1.0/torch.sqrt(N)"
   ]
  },
  {
   "cell_type": "code",
   "execution_count": 49,
   "metadata": {},
   "outputs": [],
   "source": [
    "# This is preparing input data that is differentiable:\n",
    "_x = np.arange(-10, 10, delta, dtype=np.float32)\n",
    "_x = _x.reshape((_x.shape[0], 1))\n",
    "x = torch.tensor(_x, requires_grad=True)"
   ]
  },
  {
   "cell_type": "code",
   "execution_count": 50,
   "metadata": {},
   "outputs": [
    {
     "name": "stdout",
     "output_type": "stream",
     "text": [
      "tensor([1.])\n",
      "tensor([1.6556])\n"
     ]
    }
   ],
   "source": [
    "phi = BosonWaveFunction()\n",
    "print(phi.norm)\n",
    "phi.update_norm(x)\n",
    "print(phi.norm)\n",
    "phi_y = phi(x)"
   ]
  },
  {
   "cell_type": "code",
   "execution_count": 51,
   "metadata": {},
   "outputs": [
    {
     "name": "stdout",
     "output_type": "stream",
     "text": [
      "tensor([1.])\n",
      "tensor([0.3464+0.j])\n"
     ]
    }
   ],
   "source": [
    "psi = FermionWaveFunction()\n",
    "print(psi.norm)\n",
    "psi.update_norm(x)\n",
    "print(psi.norm)\n",
    "psi_y = psi(x)"
   ]
  },
  {
   "cell_type": "code",
   "execution_count": 52,
   "metadata": {},
   "outputs": [
    {
     "data": {
      "image/png": "[encoded data removed]",
      "text/plain": [
       "<Figure size 640x480 with 1 Axes>"
      ]
     },
     "metadata": {},
     "output_type": "display_data"
    }
   ],
   "source": [
    "plt.plot(x.detach().numpy(), (phi_y**2).detach().numpy(), label=r'$\\phi$')\n",
    "plt.plot(x.detach().numpy(), (psi_y.conj()*psi_y).detach().numpy(), label=r'$\\psi$')\n",
    "plt.ylabel(r'$\\mid\\Psi\\mid^2$')\n",
    "plt.legend()\n",
    "plt.show()"
   ]
  },
  {
   "cell_type": "code",
   "execution_count": 53,
   "metadata": {},
   "outputs": [],
   "source": [
    "def bosonic_kinetic_energy(boson_wf, inputs, delta):\n",
    "    phi = boson_wf(inputs) # phi(x)\n",
    "    dPhidx = torch.autograd.grad(phi, inputs=inputs, grad_outputs=torch.ones_like(phi), retain_graph=True)\n",
    "\n",
    "    t1 = dPhidx[0]**2/(2.0*delta) # p_n^2/2a\n",
    "    t2 = ((phi.roll(1)-phi.roll(-1))/2.0*delta)**2 #(phi_{n+1}-phi_{n-1})^2/2a\n",
    "\n",
    "    return torch.sum(t1) + (delta/2.0)*torch.sum(t2)\n",
    "\n",
    "def boson_potential_energy(boson_wf, inputs, delta):\n",
    "    phi = boson_wf(inputs)\n",
    "\n",
    "    #t1 = potential(boson_wf, inputs)**2 # V(phi_n)^2\n",
    "    #t2 = potential(boson_wf, inputs)*(phi.roll(1)-phi.roll(-1)) # V(phi_n)*(phi_{n+1}-phi_{n-1})\n",
    "\n",
    "    t1 = phi**2\n",
    "    t2 = phi*(phi.roll(1)-phi.roll(-1))  \n",
    "\n",
    "    return (delta/2.0)*torch.sum(t1) + (1.0/2.0)*torch.sum(t2)\n",
    "\n",
    "def fermion_kinetic_energy(fermion_wf, inputs, delta):\n",
    "    chi = fermion_wf(inputs)\n",
    "\n",
    "    t1 = (chi.conj())*(chi.roll(1))\n",
    "    t2 = (chi.conj().roll(1))*chi\n",
    "\n",
    "    return (torch.sum(t1)+torch.sum(t2))/(2.0*delta)\n",
    "\n",
    "def fermion_potential_energy(fermion_wf, boson_wf, inputs, delta):\n",
    "    chi = fermion_wf(inputs)\n",
    "\n",
    "    minus1n = torch.tensor([(-1)**n for n in range(chi.shape[0])])\n",
    "    half = torch.tensor([0.5 for n in range(chi.shape[0])])\n",
    "\n",
    "    return torch.sum(minus1n*(chi.conj()*chi-half))"
   ]
  },
  {
   "cell_type": "code",
   "execution_count": 54,
   "metadata": {},
   "outputs": [
    {
     "name": "stdout",
     "output_type": "stream",
     "text": [
      "tensor(129.1552, grad_fn=<AddBackward0>)\n",
      "tensor(0.5000, grad_fn=<AddBackward0>)\n",
      "tensor(9985.3379+0.j, grad_fn=<DivBackward0>)\n",
      "tensor(0.0156+0.j, grad_fn=<SumBackward0>)\n"
     ]
    }
   ],
   "source": [
    "print(bosonic_kinetic_energy(phi, x, delta))\n",
    "print(boson_potential_energy(phi, x, delta))\n",
    "print(fermion_kinetic_energy(psi, x, delta))\n",
    "print(fermion_potential_energy(psi, phi, x, delta))"
   ]
  },
  {
   "cell_type": "code",
   "execution_count": 55,
   "metadata": {},
   "outputs": [
    {
     "name": "stdout",
     "output_type": "stream",
     "text": [
      "tensor(10115.0088+0.j, grad_fn=<AddBackward0>)\n"
     ]
    }
   ],
   "source": [
    "print(bosonic_kinetic_energy(phi, x, delta) \\\n",
    "    + boson_potential_energy(phi, x, delta) \\\n",
    "    + fermion_kinetic_energy(psi, x, delta) \\\n",
    "    + fermion_potential_energy(psi, phi, x, delta))"
   ]
  },
  {
   "cell_type": "code",
   "execution_count": 56,
   "metadata": {},
   "outputs": [],
   "source": [
    "def total_energy(boson_wf, fermion_wf, inputs, delta):\n",
    "    bosonKE = bosonic_kinetic_energy(boson_wf, inputs, delta)\n",
    "    bosonPE = boson_potential_energy(boson_wf, inputs, delta)\n",
    "    fermionKE = fermion_kinetic_energy(fermion_wf, inputs, delta)\n",
    "    fermionPE = fermion_potential_energy(fermion_wf, boson_wf, inputs, delta)\n",
    "\n",
    "    return bosonKE + bosonPE + fermionKE + fermionPE\n"
   ]
  },
  {
   "cell_type": "code",
   "execution_count": 57,
   "metadata": {},
   "outputs": [
    {
     "data": {
      "text/plain": [
       "tensor(10115.0088+0.j, grad_fn=<AddBackward0>)"
      ]
     },
     "execution_count": 57,
     "metadata": {},
     "output_type": "execute_result"
    }
   ],
   "source": [
    "total_energy(phi, psi, x, delta)"
   ]
  },
  {
   "cell_type": "code",
   "execution_count": 59,
   "metadata": {},
   "outputs": [
    {
     "name": "stdout",
     "output_type": "stream",
     "text": [
      "tensor(15439.0352+0.j, grad_fn=<AddBackward0>)\n",
      "tensor(19123.0586+0.j, grad_fn=<AddBackward0>)\n",
      "tensor(18662.5137+0.j, grad_fn=<AddBackward0>)\n",
      "tensor(20594.3965+0.j, grad_fn=<AddBackward0>)\n",
      "tensor(12805.8574+0.j, grad_fn=<AddBackward0>)\n",
      "tensor(23246.3789+0.j, grad_fn=<AddBackward0>)\n",
      "tensor(11628.6123+0.j, grad_fn=<AddBackward0>)\n",
      "tensor(13776.9785+0.j, grad_fn=<AddBackward0>)\n",
      "tensor(19971.4688+0.j, grad_fn=<AddBackward0>)\n",
      "tensor(10517.5947+0.j, grad_fn=<AddBackward0>)\n"
     ]
    }
   ],
   "source": [
    "bosonOptimizer = torch.optim.Adam(phi.parameters(), lr=0.0001)\n",
    "fermionOptimizer = torch.optim.Adam(psi.parameters(), lr=0.0001)\n",
    "\n",
    "bosonOptimizer.zero_grad()\n",
    "fermionOptimizer.zero_grad()\n",
    "\n",
    "# cant go up to 10000?\n",
    "for i in range(1000):\n",
    "    phi.update_norm(x)\n",
    "    psi.update_norm(x)\n",
    "\n",
    "    energy=total_energy(phi,psi,x,delta) # this is the loss!\n",
    "    energy.backward()\n",
    "\n",
    "    if i%2==0:\n",
    "        bosonOptimizer.step()\n",
    "        bosonOptimizer.zero_grad()\n",
    "    else:\n",
    "        fermionOptimizer.step()\n",
    "        fermionOptimizer.zero_grad()\n",
    "    \n",
    "    if i%100==0:\n",
    "        print(energy)"
   ]
  },
  {
   "cell_type": "code",
   "execution_count": 60,
   "metadata": {},
   "outputs": [
    {
     "data": {
      "image/png": "[encoded data removed]",
      "text/plain": [
       "<Figure size 640x480 with 1 Axes>"
      ]
     },
     "metadata": {},
     "output_type": "display_data"
    }
   ],
   "source": [
    "phi_y = phi(x)\n",
    "psi_y = psi(x)\n",
    "plt.plot(x.detach().numpy(), (phi_y**2).detach().numpy(), label=r'$\\phi$')\n",
    "plt.plot(x.detach().numpy(), (psi_y.conj()*psi_y).detach().numpy(), label=r'$\\psi$')\n",
    "plt.ylabel(r'$\\mid\\Psi\\mid^2$')\n",
    "plt.legend()\n",
    "plt.show()"
   ]
  },
  {
   "cell_type": "code",
   "execution_count": null,
   "metadata": {},
   "outputs": [],
   "source": []
  }
 ],
 "metadata": {
  "interpreter": {
   "hash": "e47492bb68c945901860c0e5171265739057a66660d70f0177845bcc27013884"
  },
  "kernelspec": {
   "display_name": "Python 3.10.9 ('MachineLearning')",
   "language": "python",
   "name": "python3"
  },
  "language_info": {
   "codemirror_mode": {
    "name": "ipython",
    "version": 3
   },
   "file_extension": ".py",
   "mimetype": "text/x-python",
   "name": "python",
   "nbconvert_exporter": "python",
   "pygments_lexer": "ipython3",
   "version": "3.10.9"
  },
  "orig_nbformat": 4
 },
 "nbformat": 4,
 "nbformat_minor": 2
}
