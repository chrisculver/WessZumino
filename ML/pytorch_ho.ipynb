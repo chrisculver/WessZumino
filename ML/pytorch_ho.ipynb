{
 "cells": [
  {
   "cell_type": "code",
   "execution_count": 1,
   "metadata": {},
   "outputs": [],
   "source": [
    "import torch\n",
    "import torch.nn as nn\n",
    "import numpy as np\n",
    "import matplotlib.pyplot as plt"
   ]
  },
  {
   "cell_type": "code",
   "execution_count": 2,
   "metadata": {},
   "outputs": [],
   "source": [
    "delta=0.01\n",
    "mass=1\n",
    "omega=1"
   ]
  },
  {
   "cell_type": "code",
   "execution_count": 3,
   "metadata": {},
   "outputs": [],
   "source": [
    "class WaveFunction(nn.Module):\n",
    "    def __init__(self):\n",
    "        super(WaveFunction, self).__init__()\n",
    "\n",
    "        self.layer1=nn.Linear(1,32)\n",
    "        self.layer2=nn.Linear(32,32)\n",
    "        self.layer3=nn.Linear(32,1)\n",
    "\n",
    "        self.norm = torch.ones(1, requires_grad=False)\n",
    "\n",
    "    def forward(self, inputs):\n",
    "        x = inputs\n",
    "        x = self.layer1(x)\n",
    "        x = torch.tanh(x)\n",
    "        x = self.layer2(x)\n",
    "        x = torch.tanh(x)\n",
    "        x = self.layer3(x)\n",
    "\n",
    "        # boundary condition - normalization?\n",
    "        # boundary_condition = self.exp(inputs)\n",
    "        # output = self.norm*x*boundary_condition\n",
    "        \n",
    "        x = torch.mul(x,self.norm)\n",
    "\n",
    "        return x\n",
    "    \n",
    "    def update_norm(self, inputs):\n",
    "        with torch.no_grad():\n",
    "            value = self.forward(inputs)\n",
    "            N = value**2\n",
    "            delta=inputs[1]-inputs[0]\n",
    "            N=torch.sum(N)*delta \n",
    "            self.norm = self.norm*1.0/torch.sqrt(N)\n"
   ]
  },
  {
   "cell_type": "code",
   "execution_count": 4,
   "metadata": {},
   "outputs": [],
   "source": [
    "# This is preparing input data that is differentiable:\n",
    "_x = np.arange(-10, 10, delta, dtype=np.float32)\n",
    "_x = _x.reshape((_x.shape[0], 1))\n",
    "x = torch.tensor(_x, requires_grad=True)"
   ]
  },
  {
   "cell_type": "code",
   "execution_count": 5,
   "metadata": {},
   "outputs": [
    {
     "name": "stdout",
     "output_type": "stream",
     "text": [
      "tensor([1.])\n",
      "tensor([1.1043])\n"
     ]
    }
   ],
   "source": [
    "psi = WaveFunction()\n",
    "print(psi.norm)\n",
    "psi.update_norm(x)\n",
    "print(psi.norm)\n",
    "psi_y = psi(x)"
   ]
  },
  {
   "cell_type": "code",
   "execution_count": 6,
   "metadata": {},
   "outputs": [
    {
     "data": {
      "text/plain": [
       "[<matplotlib.lines.Line2D at 0x7f000613d540>]"
      ]
     },
     "execution_count": 6,
     "metadata": {},
     "output_type": "execute_result"
    },
    {
     "data": {
      "image/png": "[encoded data removed]",
      "text/plain": [
       "<Figure size 640x480 with 1 Axes>"
      ]
     },
     "metadata": {},
     "output_type": "display_data"
    }
   ],
   "source": [
    "plt.plot(x.detach().numpy(), (psi_y**2).detach().numpy())"
   ]
  },
  {
   "cell_type": "code",
   "execution_count": 7,
   "metadata": {},
   "outputs": [],
   "source": [
    "def potential_energy(wf, inputs, delta):\n",
    "    temp = 0.5*(mass*omega**2)*wf(inputs)**2*inputs**2\n",
    "    return torch.sum(temp)*delta"
   ]
  },
  {
   "cell_type": "code",
   "execution_count": 8,
   "metadata": {},
   "outputs": [],
   "source": [
    "def kinetic_energy(wf, inputs, delta):\n",
    "    y = wf(inputs)\n",
    "    dPsidx = torch.autograd.grad(y, inputs=inputs, \n",
    "                                 grad_outputs=torch.ones_like(y))\n",
    "    #dPsidx = y.backward(torch.Tensor())\n",
    "    #print(len(dPsidx)) - a tuple of length one?\n",
    "    return (1.0/(2.0*mass))*torch.sum(dPsidx[0]**2)*delta\n"
   ]
  },
  {
   "cell_type": "code",
   "execution_count": 9,
   "metadata": {},
   "outputs": [],
   "source": [
    "def normalization(wf, inputs, delta):\n",
    "    psi2 = wf(inputs)**2\n",
    "    return torch.sum(psi2)*delta"
   ]
  },
  {
   "cell_type": "code",
   "execution_count": 10,
   "metadata": {},
   "outputs": [],
   "source": [
    "def total_energy(wf, inputs, delta):\n",
    "    norm = normalization(wf, inputs, delta)\n",
    "    pe = potential_energy(wf, inputs, delta)\n",
    "    ke = kinetic_energy(wf, inputs, delta)\n",
    "    #print(\"norm=\",norm,\"ke=\",ke,\"pe=\",pe)\n",
    "    return (pe+ke)/norm"
   ]
  },
  {
   "cell_type": "code",
   "execution_count": 11,
   "metadata": {},
   "outputs": [
    {
     "name": "stdout",
     "output_type": "stream",
     "text": [
      "tensor([1.1043])\n",
      "tensor(1.0000, grad_fn=<MulBackward0>)\n"
     ]
    }
   ],
   "source": [
    "print(psi.norm)\n",
    "print(normalization(psi,x,delta))"
   ]
  },
  {
   "cell_type": "code",
   "execution_count": 12,
   "metadata": {},
   "outputs": [
    {
     "name": "stdout",
     "output_type": "stream",
     "text": [
      "tensor(0.0178)\n",
      "tensor(20.4874, grad_fn=<MulBackward0>)\n",
      "tensor(20.5057, grad_fn=<DivBackward0>)\n"
     ]
    }
   ],
   "source": [
    "print(kinetic_energy(psi,x,delta))\n",
    "print(potential_energy(psi,x,delta))\n",
    "print(total_energy(psi, x, delta))"
   ]
  },
  {
   "cell_type": "code",
   "execution_count": 13,
   "metadata": {},
   "outputs": [
    {
     "name": "stdout",
     "output_type": "stream",
     "text": [
      "tensor(17.6259, grad_fn=<DivBackward0>)\n",
      "tensor(0.8447, grad_fn=<DivBackward0>)\n",
      "tensor(0.6164, grad_fn=<DivBackward0>)\n",
      "tensor(0.5465, grad_fn=<DivBackward0>)\n",
      "tensor(0.5279, grad_fn=<DivBackward0>)\n",
      "tensor(0.5204, grad_fn=<DivBackward0>)\n",
      "tensor(0.5160, grad_fn=<DivBackward0>)\n",
      "tensor(0.5130, grad_fn=<DivBackward0>)\n",
      "tensor(0.5109, grad_fn=<DivBackward0>)\n",
      "tensor(0.5094, grad_fn=<DivBackward0>)\n"
     ]
    }
   ],
   "source": [
    "psi = WaveFunction()\n",
    "psi.update_norm(x)\n",
    "psi_y = psi(x)\n",
    "optimizer = torch.optim.Adam(psi.parameters(), lr=0.0001)\n",
    "optimizer.zero_grad()\n",
    "# cant go up to 10000?\n",
    "for i in range(3000):\n",
    "    psi.update_norm(x)\n",
    "    energy=total_energy(psi,x,delta) # this is the loss!\n",
    "    energy.backward()\n",
    "    optimizer.step()\n",
    "    optimizer.zero_grad()\n",
    "    if i%300==0:\n",
    "        print(energy)"
   ]
  },
  {
   "cell_type": "code",
   "execution_count": 14,
   "metadata": {},
   "outputs": [
    {
     "data": {
      "text/plain": [
       "[<matplotlib.lines.Line2D at 0x7efffff55180>]"
      ]
     },
     "execution_count": 14,
     "metadata": {},
     "output_type": "execute_result"
    },
    {
     "data": {
      "image/png": "[encoded data removed]",
      "text/plain": [
       "<Figure size 640x480 with 1 Axes>"
      ]
     },
     "metadata": {},
     "output_type": "display_data"
    }
   ],
   "source": [
    "psi.update_norm(x)\n",
    "psi_y = psi(x)\n",
    "plt.plot(x.detach().numpy(), (psi_y**2).detach().numpy())"
   ]
  },
  {
   "cell_type": "code",
   "execution_count": 15,
   "metadata": {},
   "outputs": [
    {
     "name": "stdout",
     "output_type": "stream",
     "text": [
      "tensor(0.2361)\n",
      "tensor(0.2722, grad_fn=<MulBackward0>)\n",
      "tensor(0.5084, grad_fn=<DivBackward0>)\n"
     ]
    }
   ],
   "source": [
    "print(kinetic_energy(psi,x,delta))\n",
    "print(potential_energy(psi,x,delta))\n",
    "print(total_energy(psi, x, delta))"
   ]
  },
  {
   "cell_type": "code",
   "execution_count": null,
   "metadata": {},
   "outputs": [],
   "source": []
  }
 ],
 "metadata": {
  "kernelspec": {
   "display_name": "MachineLearning",
   "language": "python",
   "name": "python3"
  },
  "language_info": {
   "codemirror_mode": {
    "name": "ipython",
    "version": 3
   },
   "file_extension": ".py",
   "mimetype": "text/x-python",
   "name": "python",
   "nbconvert_exporter": "python",
   "pygments_lexer": "ipython3",
   "version": "3.10.8"
  },
  "orig_nbformat": 4
 },
 "nbformat": 4,
 "nbformat_minor": 2
}
