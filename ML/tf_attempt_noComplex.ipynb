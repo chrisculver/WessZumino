{
 "cells": [
  {
   "cell_type": "code",
   "execution_count": 1,
   "metadata": {},
   "outputs": [
    {
     "name": "stderr",
     "output_type": "stream",
     "text": [
      "2023-02-28 10:47:37.905176: I tensorflow/core/platform/cpu_feature_guard.cc:193] This TensorFlow binary is optimized with oneAPI Deep Neural Network Library (oneDNN) to use the following CPU instructions in performance-critical operations:  AVX2 FMA\n",
      "To enable them in other operations, rebuild TensorFlow with the appropriate compiler flags.\n",
      "2023-02-28 10:47:38.339571: W tensorflow/compiler/xla/stream_executor/platform/default/dso_loader.cc:64] Could not load dynamic library 'libcudart.so.11.0'; dlerror: libcudart.so.11.0: cannot open shared object file: No such file or directory\n",
      "2023-02-28 10:47:38.339601: I tensorflow/compiler/xla/stream_executor/cuda/cudart_stub.cc:29] Ignore above cudart dlerror if you do not have a GPU set up on your machine.\n",
      "2023-02-28 10:47:39.802361: W tensorflow/compiler/xla/stream_executor/platform/default/dso_loader.cc:64] Could not load dynamic library 'libnvinfer.so.7'; dlerror: libnvinfer.so.7: cannot open shared object file: No such file or directory\n",
      "2023-02-28 10:47:39.802496: W tensorflow/compiler/xla/stream_executor/platform/default/dso_loader.cc:64] Could not load dynamic library 'libnvinfer_plugin.so.7'; dlerror: libnvinfer_plugin.so.7: cannot open shared object file: No such file or directory\n",
      "2023-02-28 10:47:39.802512: W tensorflow/compiler/tf2tensorrt/utils/py_utils.cc:38] TF-TRT Warning: Cannot dlopen some TensorRT libraries. If you would like to use Nvidia GPU with TensorRT, please make sure the missing libraries mentioned above are installed properly.\n"
     ]
    }
   ],
   "source": [
    "import numpy\n",
    "import time\n",
    "import tensorflow as tf\n",
    "from matplotlib import pyplot as plt\n",
    "\n",
    "M=1\n",
    "delta = 0.0005"
   ]
  },
  {
   "cell_type": "code",
   "execution_count": 2,
   "metadata": {},
   "outputs": [],
   "source": [
    "class ExponentialBoundaryCondition(tf.keras.layers.Layer):    \n",
    "    def __init__(self, exp=1.0, trainable=True):\n",
    "        tf.keras.layers.Layer.__init__(self)\n",
    "        # This is the parameter controlling the shape of the exponent:\n",
    "        self.exponent = tf.Variable(exp, trainable=trainable, dtype=tf.float32)\n",
    "\n",
    "    def call(self, inputs):\n",
    "\n",
    "        return tf.exp(- (self.exponent * inputs) **2 / 2.)"
   ]
  },
  {
   "cell_type": "code",
   "execution_count": 3,
   "metadata": {},
   "outputs": [],
   "source": [
    "class NeuralWavefunction(tf.keras.layers.Layer):\n",
    "    def __init__(self):\n",
    "        tf.keras.layers.Layer.__init__(self)\n",
    "        \n",
    "        self.layer1 = tf.keras.layers.Dense(32)\n",
    "        self.layer2 = tf.keras.layers.Dense(32)\n",
    "        self.layer3 = tf.keras.layers.Dense(1)\n",
    "    \n",
    "        self.norm   = 1.0\n",
    "        \n",
    "        # This is an exponent for normalization:\n",
    "        self.exp = ExponentialBoundaryCondition()\n",
    "\n",
    "\n",
    "    def call(self, inputs):\n",
    "        x = inputs\n",
    "        x = self.layer1(x)\n",
    "        x = tf.nn.tanh(x)\n",
    "        x = self.layer2(x)\n",
    "        x = tf.nn.tanh(x)\n",
    "        x = self.layer3(x)\n",
    "\n",
    "        boundary_condition = self.exp(inputs)\n",
    "\n",
    "        output = self.norm*x*boundary_condition\n",
    "        return output\n",
    "\n",
    "    \n",
    "    def update_normalization(self, inputs):\n",
    "        # Inputs is expected to be a range of parameters along an x axis.\n",
    "        value = self.call(inputs)\n",
    "        N = value ** 2\n",
    "\n",
    "        delta = inputs[1]-inputs[0]\n",
    "\n",
    "        N = tf.reduce_sum(N) * delta\n",
    "        self.norm *= 1/tf.sqrt(N)\n",
    "\n",
    "        # The normalization condition is that the integral of the wavefunction squared\n",
    "        # should be equal to 1 (probability sums to 1.)\n",
    "\n",
    "        return"
   ]
  },
  {
   "cell_type": "code",
   "execution_count": 4,
   "metadata": {},
   "outputs": [
    {
     "name": "stderr",
     "output_type": "stream",
     "text": [
      "2023-02-28 10:47:42.175378: W tensorflow/compiler/xla/stream_executor/platform/default/dso_loader.cc:64] Could not load dynamic library 'libcuda.so.1'; dlerror: libcuda.so.1: cannot open shared object file: No such file or directory\n",
      "2023-02-28 10:47:42.175665: W tensorflow/compiler/xla/stream_executor/cuda/cuda_driver.cc:265] failed call to cuInit: UNKNOWN ERROR (303)\n",
      "2023-02-28 10:47:42.175717: I tensorflow/compiler/xla/stream_executor/cuda/cuda_diagnostics.cc:156] kernel driver does not appear to be running on this host (LiverpoolLaptop): /proc/driver/nvidia/version does not exist\n",
      "2023-02-28 10:47:42.176836: I tensorflow/core/platform/cpu_feature_guard.cc:193] This TensorFlow binary is optimized with oneAPI Deep Neural Network Library (oneDNN) to use the following CPU instructions in performance-critical operations:  AVX2 FMA\n",
      "To enable them in other operations, rebuild TensorFlow with the appropriate compiler flags.\n"
     ]
    }
   ],
   "source": [
    "# This is preparing input data that is differentiable:\n",
    "_x = numpy.arange(-10, 10, delta, dtype=numpy.float32)\n",
    "_x = _x.reshape((_x.shape[0], 1))\n",
    "\n",
    "x = tf.Variable(_x, trainable = True)"
   ]
  },
  {
   "cell_type": "code",
   "execution_count": 5,
   "metadata": {},
   "outputs": [],
   "source": [
    "boson_nn = NeuralWavefunction()\n",
    "boson_nn.update_normalization(x)\n",
    "boson_y = boson_nn(x)\n",
    "\n",
    "fermion_nn = NeuralWavefunction()\n",
    "fermion_nn.update_normalization(x)\n",
    "fermion_y = fermion_nn(x)"
   ]
  },
  {
   "cell_type": "code",
   "execution_count": 6,
   "metadata": {},
   "outputs": [
    {
     "data": {
      "text/plain": [
       "[<matplotlib.lines.Line2D at 0x7f8ecc5c5cc0>]"
      ]
     },
     "execution_count": 6,
     "metadata": {},
     "output_type": "execute_result"
    },
    {
     "data": {
      "image/png": "[encoded data removed]",
      "text/plain": [
       "<Figure size 640x480 with 1 Axes>"
      ]
     },
     "metadata": {},
     "output_type": "display_data"
    }
   ],
   "source": [
    "plt.plot(x.numpy(), (boson_y**2).numpy(), label=\"boson\")\n",
    "plt.plot(x.numpy(), (fermion_y**2).numpy(), label=\"fermion\")"
   ]
  },
  {
   "attachments": {},
   "cell_type": "markdown",
   "metadata": {},
   "source": [
    "$$\n",
    "    H=p^2\n",
    "$$"
   ]
  },
  {
   "cell_type": "code",
   "execution_count": 19,
   "metadata": {},
   "outputs": [],
   "source": [
    "def energy_computation(boson_wf, fermion_wf, inputs, delta):\n",
    "    # This function takes the inputs (assumed to be a range of real value parameters)\n",
    "    # And computes the expectation value of the energy.\n",
    "    \n",
    "    boson_tape = tf.GradientTape()\n",
    "    fermion_tape = tf.GradientTape()\n",
    "    # This is the value of the wave function:\n",
    "    with boson_tape:\n",
    "        boson_of_x = boson_wf(inputs)\n",
    "    with fermion_tape:\n",
    "        fermion_of_x = fermion_wf(inputs)\n",
    "    \n",
    "    # This is the first derivative of the wave function:\n",
    "    boson_prime_dx = boson_tape.gradient(boson_of_x, inputs)\n",
    "    fermion_prime_dx = fermion_tape.gradient(fermion_of_x, inputs)\n",
    "\n",
    "    # Now we can compute integrals:\n",
    "    # TODO: Check normalization\n",
    "    normalization = tf.reduce_sum(boson_of_x**2)*tf.reduce_sum(fermion_of_x**2) * delta\n",
    "    \n",
    "    # \n",
    "    # boson_pe = (0.5 * M)*(boson_of_x**2)*(inputs**2)\n",
    "    boson_pe = 0.5*((boson_wf(tf.roll(inputs,1,0))-boson_wf(tf.roll(inputs,-1,0)))/2.)**2 # V(phi)=0\n",
    "    boson_pe = tf.reduce_sum(boson_pe)*delta    \n",
    "    \n",
    "    boson_ke = (1.0 / (2*M))*(boson_prime_dx**2)\n",
    "    boson_ke = tf.reduce_sum(boson_ke)*delta\n",
    "\n",
    "    # TODO: where does mass go? \n",
    "    fermion_pe = (fermion_of_x**2-0.5)\n",
    "    fermion_pe = tf.reduce_sum(fermion_pe)*delta\n",
    "\n",
    "    # fermion(x+1)^dagger*fermion(x) + fermion(x)^{dagger}*fermion(x+1)\n",
    "    fermion_ke =  (1.0 / 2.0)*fermion_prime_dx\n",
    "    fermion_ke = tf.reduce_sum(fermion_ke)*delta\n",
    "\n",
    "    energy = (boson_ke + boson_pe + fermion_ke + fermion_pe) / normalization\n",
    "    \n",
    "    return energy"
   ]
  },
  {
   "cell_type": "code",
   "execution_count": 20,
   "metadata": {},
   "outputs": [
    {
     "data": {
      "text/plain": [
       "<tf.Tensor: shape=(), dtype=float32, numpy=-0.004072111>"
      ]
     },
     "execution_count": 20,
     "metadata": {},
     "output_type": "execute_result"
    }
   ],
   "source": [
    "energy_computation(boson_nn, fermion_nn, x, delta)"
   ]
  },
  {
   "cell_type": "code",
   "execution_count": 9,
   "metadata": {},
   "outputs": [],
   "source": [
    "def generate_input(delta):\n",
    "    # Create fresh input data:\n",
    "    _x = numpy.arange(-10, 10, delta, dtype=numpy.float32)\n",
    "    _x = _x.reshape((_x.shape[0], 1))\n",
    "\n",
    "    x = tf.Variable(_x, trainable = True)\n",
    "\n",
    "    return x\n",
    "\n",
    "def training_step(boson_wf, fermion_wf, optimizer, delta):\n",
    "    # Clear all gradients from the optimizer:\n",
    "    exterior_tape = tf.GradientTape(persistent=True)\n",
    "    \n",
    "    x = generate_input(delta)\n",
    "\n",
    "    boson_wf.update_normalization(x)\n",
    "    fermion_wf.update_normalization(x)\n",
    "    \n",
    "    # Compute the energy:\n",
    "    with exterior_tape:\n",
    "        energy = energy_computation(boson_wf, fermion_wf, x, delta)\n",
    "\n",
    "    # We back-prop'd through the wave function once already in the energy computation.  Clear the gradients:\n",
    "    \n",
    "    boson_gradients = exterior_tape.gradient(energy, boson_wf.trainable_variables)\n",
    "    fermion_gradients = exterior_tape.gradient(energy, fermion_wf.trainable_variables)   \n",
    "\n",
    "    optimizer.apply_gradients(zip(boson_gradients, boson_wf.trainable_variables))\n",
    "    optimizer.apply_gradients(zip(fermion_gradients, fermion_wf.trainable_variables))\n",
    "    \n",
    "    # Lastly, update the normaliztion \n",
    "    boson_wf.update_normalization(x)\n",
    "    fermion_wf.update_normalization(x)\n",
    "\n",
    "    return  energy\n"
   ]
  },
  {
   "cell_type": "code",
   "execution_count": 10,
   "metadata": {},
   "outputs": [
    {
     "data": {
      "text/plain": [
       "tensorflow.python.ops.resource_variable_ops.ResourceVariable"
      ]
     },
     "execution_count": 10,
     "metadata": {},
     "output_type": "execute_result"
    }
   ],
   "source": [
    "type(generate_input(delta))"
   ]
  },
  {
   "cell_type": "code",
   "execution_count": 23,
   "metadata": {},
   "outputs": [
    {
     "name": "stdout",
     "output_type": "stream",
     "text": [
      "Energy :-0.000752307241782546, 1.9s per step\n",
      "Energy :-0.0006979869212955236, 2.0s per step\n",
      "Energy :-0.0006154866423457861, 2.0s per step\n",
      "Energy :-0.0006872624508105218, 2.1s per step\n",
      "Energy :-0.0006651242729276419, 1.8s per step\n",
      "Energy :-0.0007933758897706866, 2.0s per step\n"
     ]
    },
    {
     "ename": "KeyboardInterrupt",
     "evalue": "",
     "output_type": "error",
     "traceback": [
      "\u001b[0;31m---------------------------------------------------------------------------\u001b[0m",
      "\u001b[0;31mKeyboardInterrupt\u001b[0m                         Traceback (most recent call last)",
      "Cell \u001b[0;32mIn[23], line 19\u001b[0m\n\u001b[1;32m     17\u001b[0m \u001b[39mfor\u001b[39;00m i \u001b[39min\u001b[39;00m \u001b[39mrange\u001b[39m(\u001b[39m100\u001b[39m):\n\u001b[1;32m     18\u001b[0m     start \u001b[39m=\u001b[39m time\u001b[39m.\u001b[39mtime()\n\u001b[0;32m---> 19\u001b[0m     energy \u001b[39m=\u001b[39m training_step(boson_nn, fermion_nn, optimizer, delta)\n\u001b[1;32m     20\u001b[0m     end \u001b[39m=\u001b[39m time\u001b[39m.\u001b[39mtime()\n\u001b[1;32m     21\u001b[0m     \u001b[39mif\u001b[39;00m i \u001b[39m%\u001b[39m \u001b[39m10\u001b[39m \u001b[39m==\u001b[39m \u001b[39m0\u001b[39m: \u001b[39mprint\u001b[39m(\u001b[39mf\u001b[39m\u001b[39m\"\u001b[39m\u001b[39mEnergy :\u001b[39m\u001b[39m{\u001b[39;00menergy\u001b[39m.\u001b[39mnumpy()\u001b[39m}\u001b[39;00m\u001b[39m, \u001b[39m\u001b[39m{\u001b[39;00mend \u001b[39m-\u001b[39m start\u001b[39m:\u001b[39;00m\u001b[39m.2\u001b[39m\u001b[39m}\u001b[39;00m\u001b[39ms per step\u001b[39m\u001b[39m\"\u001b[39m)\n",
      "Cell \u001b[0;32mIn[21], line 25\u001b[0m, in \u001b[0;36mtraining_step\u001b[0;34m(boson_wf, fermion_wf, optimizer, delta)\u001b[0m\n\u001b[1;32m     21\u001b[0m     energy \u001b[39m=\u001b[39m energy_computation(boson_wf, fermion_wf, x, delta)\n\u001b[1;32m     23\u001b[0m \u001b[39m# We back-prop'd through the wave function once already in the energy computation.  Clear the gradients:\u001b[39;00m\n\u001b[0;32m---> 25\u001b[0m boson_gradients \u001b[39m=\u001b[39m exterior_tape\u001b[39m.\u001b[39;49mgradient(energy, boson_wf\u001b[39m.\u001b[39;49mtrainable_variables)\n\u001b[1;32m     26\u001b[0m fermion_gradients \u001b[39m=\u001b[39m exterior_tape\u001b[39m.\u001b[39mgradient(energy, fermion_wf\u001b[39m.\u001b[39mtrainable_variables)   \n\u001b[1;32m     28\u001b[0m optimizer\u001b[39m.\u001b[39mapply_gradients(\u001b[39mzip\u001b[39m(boson_gradients, boson_wf\u001b[39m.\u001b[39mtrainable_variables))\n",
      "File \u001b[0;32m~/anaconda3/envs/MachineLearning/lib/python3.10/site-packages/tensorflow/python/eager/backprop.py:1112\u001b[0m, in \u001b[0;36mGradientTape.gradient\u001b[0;34m(self, target, sources, output_gradients, unconnected_gradients)\u001b[0m\n\u001b[1;32m   1106\u001b[0m   output_gradients \u001b[39m=\u001b[39m (\n\u001b[1;32m   1107\u001b[0m       composite_tensor_gradient\u001b[39m.\u001b[39mget_flat_tensors_for_gradients(\n\u001b[1;32m   1108\u001b[0m           output_gradients))\n\u001b[1;32m   1109\u001b[0m   output_gradients \u001b[39m=\u001b[39m [\u001b[39mNone\u001b[39;00m \u001b[39mif\u001b[39;00m x \u001b[39mis\u001b[39;00m \u001b[39mNone\u001b[39;00m \u001b[39melse\u001b[39;00m ops\u001b[39m.\u001b[39mconvert_to_tensor(x)\n\u001b[1;32m   1110\u001b[0m                       \u001b[39mfor\u001b[39;00m x \u001b[39min\u001b[39;00m output_gradients]\n\u001b[0;32m-> 1112\u001b[0m flat_grad \u001b[39m=\u001b[39m imperative_grad\u001b[39m.\u001b[39;49mimperative_grad(\n\u001b[1;32m   1113\u001b[0m     \u001b[39mself\u001b[39;49m\u001b[39m.\u001b[39;49m_tape,\n\u001b[1;32m   1114\u001b[0m     flat_targets,\n\u001b[1;32m   1115\u001b[0m     flat_sources,\n\u001b[1;32m   1116\u001b[0m     output_gradients\u001b[39m=\u001b[39;49moutput_gradients,\n\u001b[1;32m   1117\u001b[0m     sources_raw\u001b[39m=\u001b[39;49mflat_sources_raw,\n\u001b[1;32m   1118\u001b[0m     unconnected_gradients\u001b[39m=\u001b[39;49munconnected_gradients)\n\u001b[1;32m   1120\u001b[0m \u001b[39mif\u001b[39;00m \u001b[39mnot\u001b[39;00m \u001b[39mself\u001b[39m\u001b[39m.\u001b[39m_persistent:\n\u001b[1;32m   1121\u001b[0m   \u001b[39m# Keep track of watched variables before setting tape to None\u001b[39;00m\n\u001b[1;32m   1122\u001b[0m   \u001b[39mself\u001b[39m\u001b[39m.\u001b[39m_watched_variables \u001b[39m=\u001b[39m \u001b[39mself\u001b[39m\u001b[39m.\u001b[39m_tape\u001b[39m.\u001b[39mwatched_variables()\n",
      "File \u001b[0;32m~/anaconda3/envs/MachineLearning/lib/python3.10/site-packages/tensorflow/python/eager/imperative_grad.py:67\u001b[0m, in \u001b[0;36mimperative_grad\u001b[0;34m(tape, target, sources, output_gradients, sources_raw, unconnected_gradients)\u001b[0m\n\u001b[1;32m     63\u001b[0m \u001b[39mexcept\u001b[39;00m \u001b[39mValueError\u001b[39;00m:\n\u001b[1;32m     64\u001b[0m   \u001b[39mraise\u001b[39;00m \u001b[39mValueError\u001b[39;00m(\n\u001b[1;32m     65\u001b[0m       \u001b[39m\"\u001b[39m\u001b[39mUnknown value for unconnected_gradients: \u001b[39m\u001b[39m%r\u001b[39;00m\u001b[39m\"\u001b[39m \u001b[39m%\u001b[39m unconnected_gradients)\n\u001b[0;32m---> 67\u001b[0m \u001b[39mreturn\u001b[39;00m pywrap_tfe\u001b[39m.\u001b[39;49mTFE_Py_TapeGradient(\n\u001b[1;32m     68\u001b[0m     tape\u001b[39m.\u001b[39;49m_tape,  \u001b[39m# pylint: disable=protected-access\u001b[39;49;00m\n\u001b[1;32m     69\u001b[0m     target,\n\u001b[1;32m     70\u001b[0m     sources,\n\u001b[1;32m     71\u001b[0m     output_gradients,\n\u001b[1;32m     72\u001b[0m     sources_raw,\n\u001b[1;32m     73\u001b[0m     compat\u001b[39m.\u001b[39;49mas_str(unconnected_gradients\u001b[39m.\u001b[39;49mvalue))\n",
      "File \u001b[0;32m~/anaconda3/envs/MachineLearning/lib/python3.10/site-packages/tensorflow/python/eager/backprop.py:157\u001b[0m, in \u001b[0;36m_gradient_function\u001b[0;34m(op_name, attr_tuple, num_inputs, inputs, outputs, out_grads, skip_input_indices, forward_pass_name_scope)\u001b[0m\n\u001b[1;32m    155\u001b[0m     gradient_name_scope \u001b[39m+\u001b[39m\u001b[39m=\u001b[39m forward_pass_name_scope \u001b[39m+\u001b[39m \u001b[39m\"\u001b[39m\u001b[39m/\u001b[39m\u001b[39m\"\u001b[39m\n\u001b[1;32m    156\u001b[0m   \u001b[39mwith\u001b[39;00m ops\u001b[39m.\u001b[39mname_scope(gradient_name_scope):\n\u001b[0;32m--> 157\u001b[0m     \u001b[39mreturn\u001b[39;00m grad_fn(mock_op, \u001b[39m*\u001b[39;49mout_grads)\n\u001b[1;32m    158\u001b[0m \u001b[39melse\u001b[39;00m:\n\u001b[1;32m    159\u001b[0m   \u001b[39mreturn\u001b[39;00m grad_fn(mock_op, \u001b[39m*\u001b[39mout_grads)\n",
      "File \u001b[0;32m~/anaconda3/envs/MachineLearning/lib/python3.10/site-packages/tensorflow/python/ops/math_grad.py:1737\u001b[0m, in \u001b[0;36m_MatMulGrad\u001b[0;34m(op, grad)\u001b[0m\n\u001b[1;32m   1735\u001b[0m \u001b[39mif\u001b[39;00m \u001b[39mnot\u001b[39;00m t_a \u001b[39mand\u001b[39;00m \u001b[39mnot\u001b[39;00m t_b:\n\u001b[1;32m   1736\u001b[0m   grad_a \u001b[39m=\u001b[39m gen_math_ops\u001b[39m.\u001b[39mmat_mul(grad, b, transpose_b\u001b[39m=\u001b[39m\u001b[39mTrue\u001b[39;00m)\n\u001b[0;32m-> 1737\u001b[0m   grad_b \u001b[39m=\u001b[39m gen_math_ops\u001b[39m.\u001b[39;49mmat_mul(a, grad, transpose_a\u001b[39m=\u001b[39;49m\u001b[39mTrue\u001b[39;49;00m)\n\u001b[1;32m   1738\u001b[0m \u001b[39melif\u001b[39;00m \u001b[39mnot\u001b[39;00m t_a \u001b[39mand\u001b[39;00m t_b:\n\u001b[1;32m   1739\u001b[0m   grad_a \u001b[39m=\u001b[39m gen_math_ops\u001b[39m.\u001b[39mmat_mul(grad, b)\n",
      "File \u001b[0;32m~/anaconda3/envs/MachineLearning/lib/python3.10/site-packages/tensorflow/python/ops/gen_math_ops.py:6014\u001b[0m, in \u001b[0;36mmat_mul\u001b[0;34m(a, b, transpose_a, transpose_b, name)\u001b[0m\n\u001b[1;32m   6012\u001b[0m \u001b[39mif\u001b[39;00m tld\u001b[39m.\u001b[39mis_eager:\n\u001b[1;32m   6013\u001b[0m   \u001b[39mtry\u001b[39;00m:\n\u001b[0;32m-> 6014\u001b[0m     _result \u001b[39m=\u001b[39m pywrap_tfe\u001b[39m.\u001b[39;49mTFE_Py_FastPathExecute(\n\u001b[1;32m   6015\u001b[0m       _ctx, \u001b[39m\"\u001b[39;49m\u001b[39mMatMul\u001b[39;49m\u001b[39m\"\u001b[39;49m, name, a, b, \u001b[39m\"\u001b[39;49m\u001b[39mtranspose_a\u001b[39;49m\u001b[39m\"\u001b[39;49m, transpose_a, \u001b[39m\"\u001b[39;49m\u001b[39mtranspose_b\u001b[39;49m\u001b[39m\"\u001b[39;49m,\n\u001b[1;32m   6016\u001b[0m       transpose_b)\n\u001b[1;32m   6017\u001b[0m     \u001b[39mreturn\u001b[39;00m _result\n\u001b[1;32m   6018\u001b[0m   \u001b[39mexcept\u001b[39;00m _core\u001b[39m.\u001b[39m_NotOkStatusException \u001b[39mas\u001b[39;00m e:\n",
      "\u001b[0;31mKeyboardInterrupt\u001b[0m: "
     ]
    }
   ],
   "source": [
    "boson_nn = NeuralWavefunction()\n",
    "boson_nn.update_normalization(x)\n",
    "boson_y = boson_nn(x)\n",
    "\n",
    "fermion_nn = NeuralWavefunction()\n",
    "fermion_nn.update_normalization(x)\n",
    "fermion_y = fermion_nn(x)\n",
    "delta = 0.0001\n",
    "\n",
    "x = generate_input(delta)\n",
    "\n",
    "optimizer = tf.keras.optimizers.Adam()\n",
    "optimizer.build(boson_nn.trainable_variables+fermion_nn.trainable_variables)\n",
    "energy_history = []\n",
    "step_history = []\n",
    "\n",
    "for i in range(100):\n",
    "    start = time.time()\n",
    "    energy = training_step(boson_nn, fermion_nn, optimizer, delta)\n",
    "    end = time.time()\n",
    "    if i % 10 == 0: print(f\"Energy :{energy.numpy()}, {end - start:.2}s per step\")\n",
    "    \n",
    "    \n",
    "    energy_history.append(energy.numpy())\n",
    "    step_history.append(i)"
   ]
  },
  {
   "cell_type": "code",
   "execution_count": null,
   "metadata": {},
   "outputs": [],
   "source": []
  }
 ],
 "metadata": {
  "kernelspec": {
   "display_name": "MachineLearning",
   "language": "python",
   "name": "python3"
  },
  "language_info": {
   "codemirror_mode": {
    "name": "ipython",
    "version": 3
   },
   "file_extension": ".py",
   "mimetype": "text/x-python",
   "name": "python",
   "nbconvert_exporter": "python",
   "pygments_lexer": "ipython3",
   "version": "3.10.8"
  },
  "orig_nbformat": 4,
  "vscode": {
   "interpreter": {
    "hash": "e47492bb68c945901860c0e5171265739057a66660d70f0177845bcc27013884"
   }
  }
 },
 "nbformat": 4,
 "nbformat_minor": 2
}
