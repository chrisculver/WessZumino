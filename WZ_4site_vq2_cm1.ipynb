{
 "cells": [
  {
   "cell_type": "markdown",
   "metadata": {},
   "source": [
    "# Wess Zumino \n",
    "\n",
    "## N=1 in 1+1\n",
    "\n",
    "The Hamiltonian with a central difference for the derivative is given by \n",
    "\n",
    "\\begin{align}\n",
    "    H=\\sum_n&\\left[ \\frac{p_n^2}{2a} + \\frac{a}{2}\\left(\\frac{\\phi_{n+1}-\\phi_{n-1}}{2a}\\right)^2+\\frac{a}{2}V(\\phi_n)^2\n",
    "            +aV(\\phi_n)\\frac{\\phi_{n+1}-\\phi_{n-1}}{2a} \\right. \\nonumber \\\\\n",
    "            &\\left.+(-1)^nV'(\\phi_n)\\left(\\chi_n^{\\dagger}\\chi_n-\\frac{1}{2}\\right)\n",
    "            +\\frac{1}{2a}\\left(\\chi_n^{\\dagger}\\chi_{n+1}+\\chi_{n+1}^{\\dagger}\\chi_n\\right) \\right],\n",
    "\\end{align}"
   ]
  },
  {
   "cell_type": "code",
   "execution_count": 1,
   "metadata": {},
   "outputs": [],
   "source": [
    "import sympy as sp\n",
    "from ham_to_sparse_matrix import *\n",
    "from constants import *\n",
    "import scipy.sparse.linalg"
   ]
  },
  {
   "cell_type": "code",
   "execution_count": 2,
   "metadata": {},
   "outputs": [],
   "source": [
    "bosonNI=sp.expand( pn**2/(2*aLat) + (aLat/2)*((qnP1-qnM1)/(2*aLat))**2 )\n",
    "bosonI=sp.expand( (aLat/2)*V(qn)**2 + aLat*V(qn)*(qnP1-qnM1)/(4*aLat) + aLat*(qnP1-qnM1)*V(qn)/(4*aLat) )\n",
    "fermionNI=sp.expand( -(xdnP1*xn+xdn*xnP1)/(2*aLat) )\n",
    "fermionI=sp.expand( sp.diff(V(qn),qn)*(xdn*xn-(1/2)) )"
   ]
  },
  {
   "cell_type": "code",
   "execution_count": 3,
   "metadata": {},
   "outputs": [
    {
     "data": {
      "text/latex": [
       "$\\displaystyle \\frac{a V^{2}{\\left(q_{n} \\right)}}{2} + \\frac{q_{n+1} V{\\left(q_{n} \\right)}}{4} - \\frac{q_{n-1} V{\\left(q_{n} \\right)}}{4} + \\frac{V{\\left(q_{n} \\right)} q_{n+1}}{4} - \\frac{V{\\left(q_{n} \\right)} q_{n-1}}{4} + \\frac{p_{n}^{2}}{2 a} - \\frac{q_{n+1} q_{n-1}}{8 a} + \\frac{q_{n+1}^{2}}{8 a} - \\frac{q_{n-1} q_{n+1}}{8 a} + \\frac{q_{n-1}^{2}}{8 a}$"
      ],
      "text/plain": [
       "a*V(q_{n})**2/2 + q_{n+1}*V(q_{n})/4 - q_{n-1}*V(q_{n})/4 + V(q_{n})*q_{n+1}/4 - V(q_{n})*q_{n-1}/4 + p_{n}**2/(2*a) - q_{n+1}*q_{n-1}/(8*a) + q_{n+1}**2/(8*a) - q_{n-1}*q_{n+1}/(8*a) + q_{n-1}**2/(8*a)"
      ]
     },
     "execution_count": 3,
     "metadata": {},
     "output_type": "execute_result"
    }
   ],
   "source": [
    "bosonNI+bosonI"
   ]
  },
  {
   "cell_type": "code",
   "execution_count": 4,
   "metadata": {},
   "outputs": [
    {
     "data": {
      "text/latex": [
       "$\\displaystyle - 0.5 \\frac{d}{d q_{n}} V{\\left(q_{n} \\right)} + \\frac{d}{d q_{n}} V{\\left(q_{n} \\right)} \\chi^{\\dagger}_{n} \\chi_{n} - \\frac{\\chi^{\\dagger}_{n+1} \\chi_{n}}{2 a} - \\frac{\\chi^{\\dagger}_{n} \\chi_{n+1}}{2 a}$"
      ],
      "text/plain": [
       "-0.5*Derivative(V(q_{n}), q_{n}) + Derivative(V(q_{n}), q_{n})*\\chi^{\\dagger}_{n}*\\chi_{n} - \\chi^{\\dagger}_{n+1}*\\chi_{n}/(2*a) - \\chi^{\\dagger}_{n}*\\chi_{n+1}/(2*a)"
      ]
     },
     "execution_count": 4,
     "metadata": {},
     "output_type": "execute_result"
    }
   ],
   "source": [
    "fermionNI + fermionI"
   ]
  },
  {
   "cell_type": "code",
   "execution_count": 5,
   "metadata": {},
   "outputs": [],
   "source": [
    "N=4\n",
    "aVal=1\n",
    "\n",
    "# depends on finite-difference method\n",
    "qs=[SiteSymbol('q',str(i)) for i in range(-1,N+1,1)]\n",
    "# maybe make qs a normal site list\n",
    "# and make an extra boundaryQs list for q[-1], q[N]\n",
    "# counting would be normal computer science way for rest of code.\n",
    "\n",
    "ps=[SiteSymbol('p',str(i)) for i in range(-1,N+1,1)] # don't really need extras\n",
    "aops=[SiteSymbol('a',str(i)) for i in range(-1,N+1,1)]\n",
    "adags=[SiteSymbol('a^{\\dagger}',str(i)) for i in range(-1,N+1,1)]\n",
    "xs=[SiteSymbol('\\chi',str(i)) for i in range(-1,N+1,1)]\n",
    "xdags=[SiteSymbol('\\chi^{\\dagger}',str(i)) for i in range(-1,N+1,1)]\n",
    "\n",
    "# note this is exactly hardcoded for this finite difference method.\n",
    "bcType = 'periodic'\n",
    "boundaryConditions = {}\n",
    "if bcType == 'periodic':\n",
    "    boundaryConditions = {qs[0]: qs[N], qs[N+1]: qs[1],\n",
    "                          xs[0]: -xs[N], xs[N+1]: -xs[1], \n",
    "                          xdags[0]: -xdags[N],  xdags[N+1]: -xdags[1]\n",
    "                         }\n",
    "    \n",
    "elif bcType == 'dirichlet':\n",
    "    boundaryConditions = { qs[0]: 0, qs[N+1]: 0,\n",
    "                          xs[0]: 0, xs[N+1]: 0,\n",
    "                          xdags[0]: 0, xdags[N+1]:0\n",
    "                         }"
   ]
  },
  {
   "cell_type": "code",
   "execution_count": 6,
   "metadata": {},
   "outputs": [
    {
     "data": {
      "text/latex": [
       "$\\displaystyle \\frac{a V^{2}{\\left(q_{n} \\right)}}{2} + \\frac{q_{n+1} V{\\left(q_{n} \\right)}}{4} - \\frac{q_{n-1} V{\\left(q_{n} \\right)}}{4} + \\frac{V{\\left(q_{n} \\right)} q_{n+1}}{4} - \\frac{V{\\left(q_{n} \\right)} q_{n-1}}{4} - 0.5 \\frac{d}{d q_{n}} V{\\left(q_{n} \\right)} + \\frac{d}{d q_{n}} V{\\left(q_{n} \\right)} \\chi^{\\dagger}_{n} \\chi_{n} - \\frac{\\chi^{\\dagger}_{n+1} \\chi_{n}}{2 a} - \\frac{\\chi^{\\dagger}_{n} \\chi_{n+1}}{2 a} + \\frac{p_{n}^{2}}{2 a} - \\frac{q_{n+1} q_{n-1}}{8 a} + \\frac{q_{n+1}^{2}}{8 a} - \\frac{q_{n-1} q_{n+1}}{8 a} + \\frac{q_{n-1}^{2}}{8 a}$"
      ],
      "text/plain": [
       "a*V(q_{n})**2/2 + q_{n+1}*V(q_{n})/4 - q_{n-1}*V(q_{n})/4 + V(q_{n})*q_{n+1}/4 - V(q_{n})*q_{n-1}/4 - 0.5*Derivative(V(q_{n}), q_{n}) + Derivative(V(q_{n}), q_{n})*\\chi^{\\dagger}_{n}*\\chi_{n} - \\chi^{\\dagger}_{n+1}*\\chi_{n}/(2*a) - \\chi^{\\dagger}_{n}*\\chi_{n+1}/(2*a) + p_{n}**2/(2*a) - q_{n+1}*q_{n-1}/(8*a) + q_{n+1}**2/(8*a) - q_{n-1}*q_{n+1}/(8*a) + q_{n-1}**2/(8*a)"
      ]
     },
     "execution_count": 6,
     "metadata": {},
     "output_type": "execute_result"
    }
   ],
   "source": [
    "totHam=bosonNI+bosonI+fermionNI+fermionI\n",
    "totHam"
   ]
  },
  {
   "cell_type": "code",
   "execution_count": 7,
   "metadata": {},
   "outputs": [
    {
     "data": {
      "text/latex": [
       "$\\displaystyle \\frac{8 - 2 \\chi^{\\dagger}_{0} \\chi_{1} + 2 \\chi^{\\dagger}_{0} \\chi_{3} - 2 \\chi^{\\dagger}_{1} \\chi_{0} - 2 \\chi^{\\dagger}_{1} \\chi_{2} - 2 \\chi^{\\dagger}_{2} \\chi_{1} - 2 \\chi^{\\dagger}_{2} \\chi_{3} + 2 \\chi^{\\dagger}_{3} \\chi_{0} - 2 \\chi^{\\dagger}_{3} \\chi_{2} + 2 p_{0}^{2} + 2 p_{1}^{2} + 2 p_{2}^{2} + 2 p_{3}^{2} + 4 q_{0} - 8 q_{0} \\chi^{\\dagger}_{0} \\chi_{0} - q_{0} q_{1}^{2} - q_{0} q_{2} + q_{0} q_{3}^{2} - 3 q_{0}^{2} + q_{0}^{2} q_{1} - q_{0}^{2} q_{3} + 2 q_{0}^{4} - 4.0 q_{1} + 8 q_{1} \\chi^{\\dagger}_{1} \\chi_{1} + q_{1} q_{0}^{2} - q_{1} q_{2}^{2} - q_{1} q_{3} - 3 q_{1}^{2} - q_{1}^{2} q_{0} + q_{1}^{2} q_{2} + 2 q_{1}^{4} + 4 q_{2} - 8 q_{2} \\chi^{\\dagger}_{2} \\chi_{2} - q_{2} q_{0} + q_{2} q_{1}^{2} - q_{2} q_{3}^{2} - 3 q_{2}^{2} - q_{2}^{2} q_{1} + q_{2}^{2} q_{3} + 2 q_{2}^{4} - 4.0 q_{3} + 8 q_{3} \\chi^{\\dagger}_{3} \\chi_{3} - q_{3} q_{0}^{2} - q_{3} q_{1} + q_{3} q_{2}^{2} - 3 q_{3}^{2} + q_{3}^{2} q_{0} - q_{3}^{2} q_{2} + 2 q_{3}^{4}}{4}$"
      ],
      "text/plain": [
       "(8 - 2*\\chi^{\\dagger}_{0}*\\chi_{1} + 2*\\chi^{\\dagger}_{0}*\\chi_{3} - 2*\\chi^{\\dagger}_{1}*\\chi_{0} - 2*\\chi^{\\dagger}_{1}*\\chi_{2} - 2*\\chi^{\\dagger}_{2}*\\chi_{1} - 2*\\chi^{\\dagger}_{2}*\\chi_{3} + 2*\\chi^{\\dagger}_{3}*\\chi_{0} - 2*\\chi^{\\dagger}_{3}*\\chi_{2} + 2*p_{0}**2 + 2*p_{1}**2 + 2*p_{2}**2 + 2*p_{3}**2 + 4*q_{0} - 8*q_{0}*\\chi^{\\dagger}_{0}*\\chi_{0} - q_{0}*q_{1}**2 - q_{0}*q_{2} + q_{0}*q_{3}**2 - 3*q_{0}**2 + q_{0}**2*q_{1} - q_{0}**2*q_{3} + 2*q_{0}**4 - 4.0*q_{1} + 8*q_{1}*\\chi^{\\dagger}_{1}*\\chi_{1} + q_{1}*q_{0}**2 - q_{1}*q_{2}**2 - q_{1}*q_{3} - 3*q_{1}**2 - q_{1}**2*q_{0} + q_{1}**2*q_{2} + 2*q_{1}**4 + 4*q_{2} - 8*q_{2}*\\chi^{\\dagger}_{2}*\\chi_{2} - q_{2}*q_{0} + q_{2}*q_{1}**2 - q_{2}*q_{3}**2 - 3*q_{2}**2 - q_{2}**2*q_{1} + q_{2}**2*q_{3} + 2*q_{2}**4 - 4.0*q_{3} + 8*q_{3}*\\chi^{\\dagger}_{3}*\\chi_{3} - q_{3}*q_{0}**2 - q_{3}*q_{1} + q_{3}*q_{2}**2 - 3*q_{3}**2 + q_{3}**2*q_{0} - q_{3}**2*q_{2} + 2*q_{3}**4)/4"
      ]
     },
     "execution_count": 7,
     "metadata": {},
     "output_type": "execute_result"
    }
   ],
   "source": [
    "ham=0\n",
    "\n",
    "c=-1\n",
    "c2=1\n",
    "\n",
    "for i in range(1,N+1):\n",
    "    ham+=(bosonNI+bosonI+fermionNI).subs({\n",
    "        pn: ps[i],\n",
    "        qn: qs[i], qnP1: qs[i+1], qnM1: qs[i-1],\n",
    "        xn: xs[i], xnP1: xs[i+1],\n",
    "        xdn: xdags[i], xdnP1: xdags[i+1]\n",
    "    }).subs(boundaryConditions)\n",
    "    \n",
    "# ham.subs(boundaryConditions).doit() # this doesn't work?\n",
    "\n",
    "\n",
    "def potential(n):\n",
    "    return c + c2*qs[n]*qs[n]\n",
    "\n",
    "potentialSubs={}\n",
    "for n in range(1,N+1):\n",
    "    potentialSubs[V(qs[n])]=potential(n)\n",
    "\n",
    "ham=sp.simplify(ham.subs(potentialSubs).subs(aLat,aVal))\n",
    "\n",
    "for i in range(1,N+1):\n",
    "    if i%2==0:\n",
    "        ham+=sp.simplify(fermionI.subs({qn: qs[i], xn: xs[i], xdn: xdags[i]}).subs(potentialSubs))\n",
    "    else:\n",
    "        ham-=sp.simplify(fermionI.subs({qn: qs[i], xn: xs[i], xdn: xdags[i]}).subs(potentialSubs))\n",
    "ham=sp.simplify(ham.subs(aLat,aVal))\n",
    "ham"
   ]
  },
  {
   "cell_type": "code",
   "execution_count": 8,
   "metadata": {},
   "outputs": [
    {
     "data": {
      "text/latex": [
       "$\\displaystyle 2 - \\frac{\\chi^{\\dagger}_{0} \\chi_{1}}{2} + \\frac{\\chi^{\\dagger}_{0} \\chi_{3}}{2} - \\frac{\\chi^{\\dagger}_{1} \\chi_{0}}{2} - \\frac{\\chi^{\\dagger}_{1} \\chi_{2}}{2} - \\frac{\\chi^{\\dagger}_{2} \\chi_{1}}{2} - \\frac{\\chi^{\\dagger}_{2} \\chi_{3}}{2} + \\frac{\\chi^{\\dagger}_{3} \\chi_{0}}{2} - \\frac{\\chi^{\\dagger}_{3} \\chi_{2}}{2} + \\frac{38613965 a^{\\dagger}_{0}}{54608393} - \\frac{131836323 a^{\\dagger}_{0} \\chi^{\\dagger}_{0} \\chi_{0}}{93222358} - \\frac{3998607 a^{\\dagger}_{0} a^{\\dagger}_{1} a_{1}}{45239074} - \\frac{3998607 a^{\\dagger}_{0} \\left(a^{\\dagger}_{1}\\right)^{2}}{45239074} - \\frac{a^{\\dagger}_{0} a^{\\dagger}_{2}}{8} + \\frac{3998607 a^{\\dagger}_{0} a^{\\dagger}_{3} a_{3}}{45239074} + \\frac{3998607 a^{\\dagger}_{0} \\left(a^{\\dagger}_{3}\\right)^{2}}{45239074} - \\frac{a^{\\dagger}_{0} a_{0}}{8} + \\frac{a^{\\dagger}_{0} a_{0} a^{\\dagger}_{0} a_{0}}{8} + \\frac{a^{\\dagger}_{0} a_{0} \\left(a^{\\dagger}_{0}\\right)^{2}}{8} + \\frac{3998607 a^{\\dagger}_{0} a_{0} a^{\\dagger}_{1}}{45239074} - \\frac{3998607 a^{\\dagger}_{0} a_{0} a^{\\dagger}_{3}}{45239074} + \\frac{3998607 a^{\\dagger}_{0} a_{0} a_{1}}{45239074} - \\frac{3998607 a^{\\dagger}_{0} a_{0} a_{3}}{45239074} + \\frac{a^{\\dagger}_{0} a_{0}^{2} a^{\\dagger}_{0}}{8} + \\frac{a^{\\dagger}_{0} a_{0}^{3}}{8} - \\frac{3998607 a^{\\dagger}_{0} a_{1} a^{\\dagger}_{1}}{45239074} - \\frac{3998607 a^{\\dagger}_{0} a_{1}^{2}}{45239074} - \\frac{a^{\\dagger}_{0} a_{2}}{8} + \\frac{3998607 a^{\\dagger}_{0} a_{3} a^{\\dagger}_{3}}{45239074} + \\frac{3998607 a^{\\dagger}_{0} a_{3}^{2}}{45239074} - \\frac{5 \\left(a^{\\dagger}_{0}\\right)^{2}}{8} + \\frac{3998607 \\left(a^{\\dagger}_{0}\\right)^{2} a^{\\dagger}_{1}}{45239074} - \\frac{3998607 \\left(a^{\\dagger}_{0}\\right)^{2} a^{\\dagger}_{3}}{45239074} + \\frac{\\left(a^{\\dagger}_{0}\\right)^{2} a_{0} a^{\\dagger}_{0}}{8} + \\frac{\\left(a^{\\dagger}_{0}\\right)^{2} a_{0}^{2}}{8} + \\frac{3998607 \\left(a^{\\dagger}_{0}\\right)^{2} a_{1}}{45239074} - \\frac{3998607 \\left(a^{\\dagger}_{0}\\right)^{2} a_{3}}{45239074} + \\frac{\\left(a^{\\dagger}_{0}\\right)^{3} a_{0}}{8} + \\frac{\\left(a^{\\dagger}_{0}\\right)^{4}}{8} - \\frac{38613965 a^{\\dagger}_{1}}{54608393} + \\frac{131836323 a^{\\dagger}_{1} \\chi^{\\dagger}_{1} \\chi_{1}}{93222358} + \\frac{3998607 a^{\\dagger}_{1} a^{\\dagger}_{0} a_{0}}{45239074} + \\frac{3998607 a^{\\dagger}_{1} \\left(a^{\\dagger}_{0}\\right)^{2}}{45239074} - \\frac{3998607 a^{\\dagger}_{1} a^{\\dagger}_{2} a_{2}}{45239074} - \\frac{3998607 a^{\\dagger}_{1} \\left(a^{\\dagger}_{2}\\right)^{2}}{45239074} - \\frac{a^{\\dagger}_{1} a^{\\dagger}_{3}}{8} + \\frac{3998607 a^{\\dagger}_{1} a_{0} a^{\\dagger}_{0}}{45239074} + \\frac{3998607 a^{\\dagger}_{1} a_{0}^{2}}{45239074} - \\frac{a^{\\dagger}_{1} a_{1}}{8} - \\frac{3998607 a^{\\dagger}_{1} a_{1} a^{\\dagger}_{0}}{45239074} + \\frac{a^{\\dagger}_{1} a_{1} a^{\\dagger}_{1} a_{1}}{8} + \\frac{a^{\\dagger}_{1} a_{1} \\left(a^{\\dagger}_{1}\\right)^{2}}{8} + \\frac{3998607 a^{\\dagger}_{1} a_{1} a^{\\dagger}_{2}}{45239074} - \\frac{3998607 a^{\\dagger}_{1} a_{1} a_{0}}{45239074} + \\frac{3998607 a^{\\dagger}_{1} a_{1} a_{2}}{45239074} + \\frac{a^{\\dagger}_{1} a_{1}^{2} a^{\\dagger}_{1}}{8} + \\frac{a^{\\dagger}_{1} a_{1}^{3}}{8} - \\frac{3998607 a^{\\dagger}_{1} a_{2} a^{\\dagger}_{2}}{45239074} - \\frac{3998607 a^{\\dagger}_{1} a_{2}^{2}}{45239074} - \\frac{a^{\\dagger}_{1} a_{3}}{8} - \\frac{5 \\left(a^{\\dagger}_{1}\\right)^{2}}{8} - \\frac{3998607 \\left(a^{\\dagger}_{1}\\right)^{2} a^{\\dagger}_{0}}{45239074} + \\frac{3998607 \\left(a^{\\dagger}_{1}\\right)^{2} a^{\\dagger}_{2}}{45239074} - \\frac{3998607 \\left(a^{\\dagger}_{1}\\right)^{2} a_{0}}{45239074} + \\frac{\\left(a^{\\dagger}_{1}\\right)^{2} a_{1} a^{\\dagger}_{1}}{8} + \\frac{\\left(a^{\\dagger}_{1}\\right)^{2} a_{1}^{2}}{8} + \\frac{3998607 \\left(a^{\\dagger}_{1}\\right)^{2} a_{2}}{45239074} + \\frac{\\left(a^{\\dagger}_{1}\\right)^{3} a_{1}}{8} + \\frac{\\left(a^{\\dagger}_{1}\\right)^{4}}{8} + \\frac{38613965 a^{\\dagger}_{2}}{54608393} - \\frac{131836323 a^{\\dagger}_{2} \\chi^{\\dagger}_{2} \\chi_{2}}{93222358} - \\frac{a^{\\dagger}_{2} a^{\\dagger}_{0}}{8} + \\frac{3998607 a^{\\dagger}_{2} a^{\\dagger}_{1} a_{1}}{45239074} + \\frac{3998607 a^{\\dagger}_{2} \\left(a^{\\dagger}_{1}\\right)^{2}}{45239074} - \\frac{3998607 a^{\\dagger}_{2} a^{\\dagger}_{3} a_{3}}{45239074} - \\frac{3998607 a^{\\dagger}_{2} \\left(a^{\\dagger}_{3}\\right)^{2}}{45239074} - \\frac{a^{\\dagger}_{2} a_{0}}{8} + \\frac{3998607 a^{\\dagger}_{2} a_{1} a^{\\dagger}_{1}}{45239074} + \\frac{3998607 a^{\\dagger}_{2} a_{1}^{2}}{45239074} - \\frac{a^{\\dagger}_{2} a_{2}}{8} - \\frac{3998607 a^{\\dagger}_{2} a_{2} a^{\\dagger}_{1}}{45239074} + \\frac{a^{\\dagger}_{2} a_{2} a^{\\dagger}_{2} a_{2}}{8} + \\frac{a^{\\dagger}_{2} a_{2} \\left(a^{\\dagger}_{2}\\right)^{2}}{8} + \\frac{3998607 a^{\\dagger}_{2} a_{2} a^{\\dagger}_{3}}{45239074} - \\frac{3998607 a^{\\dagger}_{2} a_{2} a_{1}}{45239074} + \\frac{3998607 a^{\\dagger}_{2} a_{2} a_{3}}{45239074} + \\frac{a^{\\dagger}_{2} a_{2}^{2} a^{\\dagger}_{2}}{8} + \\frac{a^{\\dagger}_{2} a_{2}^{3}}{8} - \\frac{3998607 a^{\\dagger}_{2} a_{3} a^{\\dagger}_{3}}{45239074} - \\frac{3998607 a^{\\dagger}_{2} a_{3}^{2}}{45239074} - \\frac{5 \\left(a^{\\dagger}_{2}\\right)^{2}}{8} - \\frac{3998607 \\left(a^{\\dagger}_{2}\\right)^{2} a^{\\dagger}_{1}}{45239074} + \\frac{3998607 \\left(a^{\\dagger}_{2}\\right)^{2} a^{\\dagger}_{3}}{45239074} - \\frac{3998607 \\left(a^{\\dagger}_{2}\\right)^{2} a_{1}}{45239074} + \\frac{\\left(a^{\\dagger}_{2}\\right)^{2} a_{2} a^{\\dagger}_{2}}{8} + \\frac{\\left(a^{\\dagger}_{2}\\right)^{2} a_{2}^{2}}{8} + \\frac{3998607 \\left(a^{\\dagger}_{2}\\right)^{2} a_{3}}{45239074} + \\frac{\\left(a^{\\dagger}_{2}\\right)^{3} a_{2}}{8} + \\frac{\\left(a^{\\dagger}_{2}\\right)^{4}}{8} - \\frac{38613965 a^{\\dagger}_{3}}{54608393} + \\frac{131836323 a^{\\dagger}_{3} \\chi^{\\dagger}_{3} \\chi_{3}}{93222358} - \\frac{3998607 a^{\\dagger}_{3} a^{\\dagger}_{0} a_{0}}{45239074} - \\frac{3998607 a^{\\dagger}_{3} \\left(a^{\\dagger}_{0}\\right)^{2}}{45239074} - \\frac{a^{\\dagger}_{3} a^{\\dagger}_{1}}{8} + \\frac{3998607 a^{\\dagger}_{3} a^{\\dagger}_{2} a_{2}}{45239074} + \\frac{3998607 a^{\\dagger}_{3} \\left(a^{\\dagger}_{2}\\right)^{2}}{45239074} - \\frac{3998607 a^{\\dagger}_{3} a_{0} a^{\\dagger}_{0}}{45239074} - \\frac{3998607 a^{\\dagger}_{3} a_{0}^{2}}{45239074} - \\frac{a^{\\dagger}_{3} a_{1}}{8} + \\frac{3998607 a^{\\dagger}_{3} a_{2} a^{\\dagger}_{2}}{45239074} + \\frac{3998607 a^{\\dagger}_{3} a_{2}^{2}}{45239074} - \\frac{a^{\\dagger}_{3} a_{3}}{8} + \\frac{3998607 a^{\\dagger}_{3} a_{3} a^{\\dagger}_{0}}{45239074} - \\frac{3998607 a^{\\dagger}_{3} a_{3} a^{\\dagger}_{2}}{45239074} + \\frac{a^{\\dagger}_{3} a_{3} a^{\\dagger}_{3} a_{3}}{8} + \\frac{a^{\\dagger}_{3} a_{3} \\left(a^{\\dagger}_{3}\\right)^{2}}{8} + \\frac{3998607 a^{\\dagger}_{3} a_{3} a_{0}}{45239074} - \\frac{3998607 a^{\\dagger}_{3} a_{3} a_{2}}{45239074} + \\frac{a^{\\dagger}_{3} a_{3}^{2} a^{\\dagger}_{3}}{8} + \\frac{a^{\\dagger}_{3} a_{3}^{3}}{8} - \\frac{5 \\left(a^{\\dagger}_{3}\\right)^{2}}{8} + \\frac{3998607 \\left(a^{\\dagger}_{3}\\right)^{2} a^{\\dagger}_{0}}{45239074} - \\frac{3998607 \\left(a^{\\dagger}_{3}\\right)^{2} a^{\\dagger}_{2}}{45239074} + \\frac{3998607 \\left(a^{\\dagger}_{3}\\right)^{2} a_{0}}{45239074} - \\frac{3998607 \\left(a^{\\dagger}_{3}\\right)^{2} a_{2}}{45239074} + \\frac{\\left(a^{\\dagger}_{3}\\right)^{2} a_{3} a^{\\dagger}_{3}}{8} + \\frac{\\left(a^{\\dagger}_{3}\\right)^{2} a_{3}^{2}}{8} + \\frac{\\left(a^{\\dagger}_{3}\\right)^{3} a_{3}}{8} + \\frac{\\left(a^{\\dagger}_{3}\\right)^{4}}{8} + \\frac{38613965 a_{0}}{54608393} - \\frac{131836323 a_{0} \\chi^{\\dagger}_{0} \\chi_{0}}{93222358} - \\frac{a_{0} a^{\\dagger}_{0}}{8} + \\frac{3998607 a_{0} a^{\\dagger}_{0} a^{\\dagger}_{1}}{45239074} - \\frac{3998607 a_{0} a^{\\dagger}_{0} a^{\\dagger}_{3}}{45239074} + \\frac{a_{0} a^{\\dagger}_{0} a_{0} a^{\\dagger}_{0}}{8} + \\frac{a_{0} a^{\\dagger}_{0} a_{0}^{2}}{8} + \\frac{3998607 a_{0} a^{\\dagger}_{0} a_{1}}{45239074} - \\frac{3998607 a_{0} a^{\\dagger}_{0} a_{3}}{45239074} + \\frac{a_{0} \\left(a^{\\dagger}_{0}\\right)^{2} a_{0}}{8} + \\frac{a_{0} \\left(a^{\\dagger}_{0}\\right)^{3}}{8} - \\frac{3998607 a_{0} a^{\\dagger}_{1} a_{1}}{45239074} - \\frac{3998607 a_{0} \\left(a^{\\dagger}_{1}\\right)^{2}}{45239074} - \\frac{a_{0} a^{\\dagger}_{2}}{8} + \\frac{3998607 a_{0} a^{\\dagger}_{3} a_{3}}{45239074} + \\frac{3998607 a_{0} \\left(a^{\\dagger}_{3}\\right)^{2}}{45239074} - \\frac{3998607 a_{0} a_{1} a^{\\dagger}_{1}}{45239074} - \\frac{3998607 a_{0} a_{1}^{2}}{45239074} - \\frac{a_{0} a_{2}}{8} + \\frac{3998607 a_{0} a_{3} a^{\\dagger}_{3}}{45239074} + \\frac{3998607 a_{0} a_{3}^{2}}{45239074} - \\frac{5 a_{0}^{2}}{8} + \\frac{a_{0}^{2} a^{\\dagger}_{0} a_{0}}{8} + \\frac{a_{0}^{2} \\left(a^{\\dagger}_{0}\\right)^{2}}{8} + \\frac{3998607 a_{0}^{2} a^{\\dagger}_{1}}{45239074} - \\frac{3998607 a_{0}^{2} a^{\\dagger}_{3}}{45239074} + \\frac{3998607 a_{0}^{2} a_{1}}{45239074} - \\frac{3998607 a_{0}^{2} a_{3}}{45239074} + \\frac{a_{0}^{3} a^{\\dagger}_{0}}{8} + \\frac{a_{0}^{4}}{8} - \\frac{38613965 a_{1}}{54608393} + \\frac{131836323 a_{1} \\chi^{\\dagger}_{1} \\chi_{1}}{93222358} + \\frac{3998607 a_{1} a^{\\dagger}_{0} a_{0}}{45239074} + \\frac{3998607 a_{1} \\left(a^{\\dagger}_{0}\\right)^{2}}{45239074} - \\frac{a_{1} a^{\\dagger}_{1}}{8} - \\frac{3998607 a_{1} a^{\\dagger}_{1} a^{\\dagger}_{0}}{45239074} + \\frac{3998607 a_{1} a^{\\dagger}_{1} a^{\\dagger}_{2}}{45239074} - \\frac{3998607 a_{1} a^{\\dagger}_{1} a_{0}}{45239074} + \\frac{a_{1} a^{\\dagger}_{1} a_{1} a^{\\dagger}_{1}}{8} + \\frac{a_{1} a^{\\dagger}_{1} a_{1}^{2}}{8} + \\frac{3998607 a_{1} a^{\\dagger}_{1} a_{2}}{45239074} + \\frac{a_{1} \\left(a^{\\dagger}_{1}\\right)^{2} a_{1}}{8} + \\frac{a_{1} \\left(a^{\\dagger}_{1}\\right)^{3}}{8} - \\frac{3998607 a_{1} a^{\\dagger}_{2} a_{2}}{45239074} - \\frac{3998607 a_{1} \\left(a^{\\dagger}_{2}\\right)^{2}}{45239074} - \\frac{a_{1} a^{\\dagger}_{3}}{8} + \\frac{3998607 a_{1} a_{0} a^{\\dagger}_{0}}{45239074} + \\frac{3998607 a_{1} a_{0}^{2}}{45239074} - \\frac{3998607 a_{1} a_{2} a^{\\dagger}_{2}}{45239074} - \\frac{3998607 a_{1} a_{2}^{2}}{45239074} - \\frac{a_{1} a_{3}}{8} - \\frac{5 a_{1}^{2}}{8} - \\frac{3998607 a_{1}^{2} a^{\\dagger}_{0}}{45239074} + \\frac{a_{1}^{2} a^{\\dagger}_{1} a_{1}}{8} + \\frac{a_{1}^{2} \\left(a^{\\dagger}_{1}\\right)^{2}}{8} + \\frac{3998607 a_{1}^{2} a^{\\dagger}_{2}}{45239074} - \\frac{3998607 a_{1}^{2} a_{0}}{45239074} + \\frac{3998607 a_{1}^{2} a_{2}}{45239074} + \\frac{a_{1}^{3} a^{\\dagger}_{1}}{8} + \\frac{a_{1}^{4}}{8} + \\frac{38613965 a_{2}}{54608393} - \\frac{131836323 a_{2} \\chi^{\\dagger}_{2} \\chi_{2}}{93222358} - \\frac{a_{2} a^{\\dagger}_{0}}{8} + \\frac{3998607 a_{2} a^{\\dagger}_{1} a_{1}}{45239074} + \\frac{3998607 a_{2} \\left(a^{\\dagger}_{1}\\right)^{2}}{45239074} - \\frac{a_{2} a^{\\dagger}_{2}}{8} - \\frac{3998607 a_{2} a^{\\dagger}_{2} a^{\\dagger}_{1}}{45239074} + \\frac{3998607 a_{2} a^{\\dagger}_{2} a^{\\dagger}_{3}}{45239074} - \\frac{3998607 a_{2} a^{\\dagger}_{2} a_{1}}{45239074} + \\frac{a_{2} a^{\\dagger}_{2} a_{2} a^{\\dagger}_{2}}{8} + \\frac{a_{2} a^{\\dagger}_{2} a_{2}^{2}}{8} + \\frac{3998607 a_{2} a^{\\dagger}_{2} a_{3}}{45239074} + \\frac{a_{2} \\left(a^{\\dagger}_{2}\\right)^{2} a_{2}}{8} + \\frac{a_{2} \\left(a^{\\dagger}_{2}\\right)^{3}}{8} - \\frac{3998607 a_{2} a^{\\dagger}_{3} a_{3}}{45239074} - \\frac{3998607 a_{2} \\left(a^{\\dagger}_{3}\\right)^{2}}{45239074} - \\frac{a_{2} a_{0}}{8} + \\frac{3998607 a_{2} a_{1} a^{\\dagger}_{1}}{45239074} + \\frac{3998607 a_{2} a_{1}^{2}}{45239074} - \\frac{3998607 a_{2} a_{3} a^{\\dagger}_{3}}{45239074} - \\frac{3998607 a_{2} a_{3}^{2}}{45239074} - \\frac{5 a_{2}^{2}}{8} - \\frac{3998607 a_{2}^{2} a^{\\dagger}_{1}}{45239074} + \\frac{a_{2}^{2} a^{\\dagger}_{2} a_{2}}{8} + \\frac{a_{2}^{2} \\left(a^{\\dagger}_{2}\\right)^{2}}{8} + \\frac{3998607 a_{2}^{2} a^{\\dagger}_{3}}{45239074} - \\frac{3998607 a_{2}^{2} a_{1}}{45239074} + \\frac{3998607 a_{2}^{2} a_{3}}{45239074} + \\frac{a_{2}^{3} a^{\\dagger}_{2}}{8} + \\frac{a_{2}^{4}}{8} - \\frac{38613965 a_{3}}{54608393} + \\frac{131836323 a_{3} \\chi^{\\dagger}_{3} \\chi_{3}}{93222358} - \\frac{3998607 a_{3} a^{\\dagger}_{0} a_{0}}{45239074} - \\frac{3998607 a_{3} \\left(a^{\\dagger}_{0}\\right)^{2}}{45239074} - \\frac{a_{3} a^{\\dagger}_{1}}{8} + \\frac{3998607 a_{3} a^{\\dagger}_{2} a_{2}}{45239074} + \\frac{3998607 a_{3} \\left(a^{\\dagger}_{2}\\right)^{2}}{45239074} - \\frac{a_{3} a^{\\dagger}_{3}}{8} + \\frac{3998607 a_{3} a^{\\dagger}_{3} a^{\\dagger}_{0}}{45239074} - \\frac{3998607 a_{3} a^{\\dagger}_{3} a^{\\dagger}_{2}}{45239074} + \\frac{3998607 a_{3} a^{\\dagger}_{3} a_{0}}{45239074} - \\frac{3998607 a_{3} a^{\\dagger}_{3} a_{2}}{45239074} + \\frac{a_{3} a^{\\dagger}_{3} a_{3} a^{\\dagger}_{3}}{8} + \\frac{a_{3} a^{\\dagger}_{3} a_{3}^{2}}{8} + \\frac{a_{3} \\left(a^{\\dagger}_{3}\\right)^{2} a_{3}}{8} + \\frac{a_{3} \\left(a^{\\dagger}_{3}\\right)^{3}}{8} - \\frac{3998607 a_{3} a_{0} a^{\\dagger}_{0}}{45239074} - \\frac{3998607 a_{3} a_{0}^{2}}{45239074} - \\frac{a_{3} a_{1}}{8} + \\frac{3998607 a_{3} a_{2} a^{\\dagger}_{2}}{45239074} + \\frac{3998607 a_{3} a_{2}^{2}}{45239074} - \\frac{5 a_{3}^{2}}{8} + \\frac{3998607 a_{3}^{2} a^{\\dagger}_{0}}{45239074} - \\frac{3998607 a_{3}^{2} a^{\\dagger}_{2}}{45239074} + \\frac{a_{3}^{2} a^{\\dagger}_{3} a_{3}}{8} + \\frac{a_{3}^{2} \\left(a^{\\dagger}_{3}\\right)^{2}}{8} + \\frac{3998607 a_{3}^{2} a_{0}}{45239074} - \\frac{3998607 a_{3}^{2} a_{2}}{45239074} + \\frac{a_{3}^{3} a^{\\dagger}_{3}}{8} + \\frac{a_{3}^{4}}{8}$"
      ],
      "text/plain": [
       "2 - \\chi^{\\dagger}_{0}*\\chi_{1}/2 + \\chi^{\\dagger}_{0}*\\chi_{3}/2 - \\chi^{\\dagger}_{1}*\\chi_{0}/2 - \\chi^{\\dagger}_{1}*\\chi_{2}/2 - \\chi^{\\dagger}_{2}*\\chi_{1}/2 - \\chi^{\\dagger}_{2}*\\chi_{3}/2 + \\chi^{\\dagger}_{3}*\\chi_{0}/2 - \\chi^{\\dagger}_{3}*\\chi_{2}/2 + 38613965*a^{\\dagger}_{0}/54608393 - 131836323*a^{\\dagger}_{0}*\\chi^{\\dagger}_{0}*\\chi_{0}/93222358 - 3998607*a^{\\dagger}_{0}*a^{\\dagger}_{1}*a_{1}/45239074 - 3998607*a^{\\dagger}_{0}*a^{\\dagger}_{1}**2/45239074 - a^{\\dagger}_{0}*a^{\\dagger}_{2}/8 + 3998607*a^{\\dagger}_{0}*a^{\\dagger}_{3}*a_{3}/45239074 + 3998607*a^{\\dagger}_{0}*a^{\\dagger}_{3}**2/45239074 - a^{\\dagger}_{0}*a_{0}/8 + a^{\\dagger}_{0}*a_{0}*a^{\\dagger}_{0}*a_{0}/8 + a^{\\dagger}_{0}*a_{0}*a^{\\dagger}_{0}**2/8 + 3998607*a^{\\dagger}_{0}*a_{0}*a^{\\dagger}_{1}/45239074 - 3998607*a^{\\dagger}_{0}*a_{0}*a^{\\dagger}_{3}/45239074 + 3998607*a^{\\dagger}_{0}*a_{0}*a_{1}/45239074 - 3998607*a^{\\dagger}_{0}*a_{0}*a_{3}/45239074 + a^{\\dagger}_{0}*a_{0}**2*a^{\\dagger}_{0}/8 + a^{\\dagger}_{0}*a_{0}**3/8 - 3998607*a^{\\dagger}_{0}*a_{1}*a^{\\dagger}_{1}/45239074 - 3998607*a^{\\dagger}_{0}*a_{1}**2/45239074 - a^{\\dagger}_{0}*a_{2}/8 + 3998607*a^{\\dagger}_{0}*a_{3}*a^{\\dagger}_{3}/45239074 + 3998607*a^{\\dagger}_{0}*a_{3}**2/45239074 - 5*a^{\\dagger}_{0}**2/8 + 3998607*a^{\\dagger}_{0}**2*a^{\\dagger}_{1}/45239074 - 3998607*a^{\\dagger}_{0}**2*a^{\\dagger}_{3}/45239074 + a^{\\dagger}_{0}**2*a_{0}*a^{\\dagger}_{0}/8 + a^{\\dagger}_{0}**2*a_{0}**2/8 + 3998607*a^{\\dagger}_{0}**2*a_{1}/45239074 - 3998607*a^{\\dagger}_{0}**2*a_{3}/45239074 + a^{\\dagger}_{0}**3*a_{0}/8 + a^{\\dagger}_{0}**4/8 - 38613965*a^{\\dagger}_{1}/54608393 + 131836323*a^{\\dagger}_{1}*\\chi^{\\dagger}_{1}*\\chi_{1}/93222358 + 3998607*a^{\\dagger}_{1}*a^{\\dagger}_{0}*a_{0}/45239074 + 3998607*a^{\\dagger}_{1}*a^{\\dagger}_{0}**2/45239074 - 3998607*a^{\\dagger}_{1}*a^{\\dagger}_{2}*a_{2}/45239074 - 3998607*a^{\\dagger}_{1}*a^{\\dagger}_{2}**2/45239074 - a^{\\dagger}_{1}*a^{\\dagger}_{3}/8 + 3998607*a^{\\dagger}_{1}*a_{0}*a^{\\dagger}_{0}/45239074 + 3998607*a^{\\dagger}_{1}*a_{0}**2/45239074 - a^{\\dagger}_{1}*a_{1}/8 - 3998607*a^{\\dagger}_{1}*a_{1}*a^{\\dagger}_{0}/45239074 + a^{\\dagger}_{1}*a_{1}*a^{\\dagger}_{1}*a_{1}/8 + a^{\\dagger}_{1}*a_{1}*a^{\\dagger}_{1}**2/8 + 3998607*a^{\\dagger}_{1}*a_{1}*a^{\\dagger}_{2}/45239074 - 3998607*a^{\\dagger}_{1}*a_{1}*a_{0}/45239074 + 3998607*a^{\\dagger}_{1}*a_{1}*a_{2}/45239074 + a^{\\dagger}_{1}*a_{1}**2*a^{\\dagger}_{1}/8 + a^{\\dagger}_{1}*a_{1}**3/8 - 3998607*a^{\\dagger}_{1}*a_{2}*a^{\\dagger}_{2}/45239074 - 3998607*a^{\\dagger}_{1}*a_{2}**2/45239074 - a^{\\dagger}_{1}*a_{3}/8 - 5*a^{\\dagger}_{1}**2/8 - 3998607*a^{\\dagger}_{1}**2*a^{\\dagger}_{0}/45239074 + 3998607*a^{\\dagger}_{1}**2*a^{\\dagger}_{2}/45239074 - 3998607*a^{\\dagger}_{1}**2*a_{0}/45239074 + a^{\\dagger}_{1}**2*a_{1}*a^{\\dagger}_{1}/8 + a^{\\dagger}_{1}**2*a_{1}**2/8 + 3998607*a^{\\dagger}_{1}**2*a_{2}/45239074 + a^{\\dagger}_{1}**3*a_{1}/8 + a^{\\dagger}_{1}**4/8 + 38613965*a^{\\dagger}_{2}/54608393 - 131836323*a^{\\dagger}_{2}*\\chi^{\\dagger}_{2}*\\chi_{2}/93222358 - a^{\\dagger}_{2}*a^{\\dagger}_{0}/8 + 3998607*a^{\\dagger}_{2}*a^{\\dagger}_{1}*a_{1}/45239074 + 3998607*a^{\\dagger}_{2}*a^{\\dagger}_{1}**2/45239074 - 3998607*a^{\\dagger}_{2}*a^{\\dagger}_{3}*a_{3}/45239074 - 3998607*a^{\\dagger}_{2}*a^{\\dagger}_{3}**2/45239074 - a^{\\dagger}_{2}*a_{0}/8 + 3998607*a^{\\dagger}_{2}*a_{1}*a^{\\dagger}_{1}/45239074 + 3998607*a^{\\dagger}_{2}*a_{1}**2/45239074 - a^{\\dagger}_{2}*a_{2}/8 - 3998607*a^{\\dagger}_{2}*a_{2}*a^{\\dagger}_{1}/45239074 + a^{\\dagger}_{2}*a_{2}*a^{\\dagger}_{2}*a_{2}/8 + a^{\\dagger}_{2}*a_{2}*a^{\\dagger}_{2}**2/8 + 3998607*a^{\\dagger}_{2}*a_{2}*a^{\\dagger}_{3}/45239074 - 3998607*a^{\\dagger}_{2}*a_{2}*a_{1}/45239074 + 3998607*a^{\\dagger}_{2}*a_{2}*a_{3}/45239074 + a^{\\dagger}_{2}*a_{2}**2*a^{\\dagger}_{2}/8 + a^{\\dagger}_{2}*a_{2}**3/8 - 3998607*a^{\\dagger}_{2}*a_{3}*a^{\\dagger}_{3}/45239074 - 3998607*a^{\\dagger}_{2}*a_{3}**2/45239074 - 5*a^{\\dagger}_{2}**2/8 - 3998607*a^{\\dagger}_{2}**2*a^{\\dagger}_{1}/45239074 + 3998607*a^{\\dagger}_{2}**2*a^{\\dagger}_{3}/45239074 - 3998607*a^{\\dagger}_{2}**2*a_{1}/45239074 + a^{\\dagger}_{2}**2*a_{2}*a^{\\dagger}_{2}/8 + a^{\\dagger}_{2}**2*a_{2}**2/8 + 3998607*a^{\\dagger}_{2}**2*a_{3}/45239074 + a^{\\dagger}_{2}**3*a_{2}/8 + a^{\\dagger}_{2}**4/8 - 38613965*a^{\\dagger}_{3}/54608393 + 131836323*a^{\\dagger}_{3}*\\chi^{\\dagger}_{3}*\\chi_{3}/93222358 - 3998607*a^{\\dagger}_{3}*a^{\\dagger}_{0}*a_{0}/45239074 - 3998607*a^{\\dagger}_{3}*a^{\\dagger}_{0}**2/45239074 - a^{\\dagger}_{3}*a^{\\dagger}_{1}/8 + 3998607*a^{\\dagger}_{3}*a^{\\dagger}_{2}*a_{2}/45239074 + 3998607*a^{\\dagger}_{3}*a^{\\dagger}_{2}**2/45239074 - 3998607*a^{\\dagger}_{3}*a_{0}*a^{\\dagger}_{0}/45239074 - 3998607*a^{\\dagger}_{3}*a_{0}**2/45239074 - a^{\\dagger}_{3}*a_{1}/8 + 3998607*a^{\\dagger}_{3}*a_{2}*a^{\\dagger}_{2}/45239074 + 3998607*a^{\\dagger}_{3}*a_{2}**2/45239074 - a^{\\dagger}_{3}*a_{3}/8 + 3998607*a^{\\dagger}_{3}*a_{3}*a^{\\dagger}_{0}/45239074 - 3998607*a^{\\dagger}_{3}*a_{3}*a^{\\dagger}_{2}/45239074 + a^{\\dagger}_{3}*a_{3}*a^{\\dagger}_{3}*a_{3}/8 + a^{\\dagger}_{3}*a_{3}*a^{\\dagger}_{3}**2/8 + 3998607*a^{\\dagger}_{3}*a_{3}*a_{0}/45239074 - 3998607*a^{\\dagger}_{3}*a_{3}*a_{2}/45239074 + a^{\\dagger}_{3}*a_{3}**2*a^{\\dagger}_{3}/8 + a^{\\dagger}_{3}*a_{3}**3/8 - 5*a^{\\dagger}_{3}**2/8 + 3998607*a^{\\dagger}_{3}**2*a^{\\dagger}_{0}/45239074 - 3998607*a^{\\dagger}_{3}**2*a^{\\dagger}_{2}/45239074 + 3998607*a^{\\dagger}_{3}**2*a_{0}/45239074 - 3998607*a^{\\dagger}_{3}**2*a_{2}/45239074 + a^{\\dagger}_{3}**2*a_{3}*a^{\\dagger}_{3}/8 + a^{\\dagger}_{3}**2*a_{3}**2/8 + a^{\\dagger}_{3}**3*a_{3}/8 + a^{\\dagger}_{3}**4/8 + 38613965*a_{0}/54608393 - 131836323*a_{0}*\\chi^{\\dagger}_{0}*\\chi_{0}/93222358 - a_{0}*a^{\\dagger}_{0}/8 + 3998607*a_{0}*a^{\\dagger}_{0}*a^{\\dagger}_{1}/45239074 - 3998607*a_{0}*a^{\\dagger}_{0}*a^{\\dagger}_{3}/45239074 + a_{0}*a^{\\dagger}_{0}*a_{0}*a^{\\dagger}_{0}/8 + a_{0}*a^{\\dagger}_{0}*a_{0}**2/8 + 3998607*a_{0}*a^{\\dagger}_{0}*a_{1}/45239074 - 3998607*a_{0}*a^{\\dagger}_{0}*a_{3}/45239074 + a_{0}*a^{\\dagger}_{0}**2*a_{0}/8 + a_{0}*a^{\\dagger}_{0}**3/8 - 3998607*a_{0}*a^{\\dagger}_{1}*a_{1}/45239074 - 3998607*a_{0}*a^{\\dagger}_{1}**2/45239074 - a_{0}*a^{\\dagger}_{2}/8 + 3998607*a_{0}*a^{\\dagger}_{3}*a_{3}/45239074 + 3998607*a_{0}*a^{\\dagger}_{3}**2/45239074 - 3998607*a_{0}*a_{1}*a^{\\dagger}_{1}/45239074 - 3998607*a_{0}*a_{1}**2/45239074 - a_{0}*a_{2}/8 + 3998607*a_{0}*a_{3}*a^{\\dagger}_{3}/45239074 + 3998607*a_{0}*a_{3}**2/45239074 - 5*a_{0}**2/8 + a_{0}**2*a^{\\dagger}_{0}*a_{0}/8 + a_{0}**2*a^{\\dagger}_{0}**2/8 + 3998607*a_{0}**2*a^{\\dagger}_{1}/45239074 - 3998607*a_{0}**2*a^{\\dagger}_{3}/45239074 + 3998607*a_{0}**2*a_{1}/45239074 - 3998607*a_{0}**2*a_{3}/45239074 + a_{0}**3*a^{\\dagger}_{0}/8 + a_{0}**4/8 - 38613965*a_{1}/54608393 + 131836323*a_{1}*\\chi^{\\dagger}_{1}*\\chi_{1}/93222358 + 3998607*a_{1}*a^{\\dagger}_{0}*a_{0}/45239074 + 3998607*a_{1}*a^{\\dagger}_{0}**2/45239074 - a_{1}*a^{\\dagger}_{1}/8 - 3998607*a_{1}*a^{\\dagger}_{1}*a^{\\dagger}_{0}/45239074 + 3998607*a_{1}*a^{\\dagger}_{1}*a^{\\dagger}_{2}/45239074 - 3998607*a_{1}*a^{\\dagger}_{1}*a_{0}/45239074 + a_{1}*a^{\\dagger}_{1}*a_{1}*a^{\\dagger}_{1}/8 + a_{1}*a^{\\dagger}_{1}*a_{1}**2/8 + 3998607*a_{1}*a^{\\dagger}_{1}*a_{2}/45239074 + a_{1}*a^{\\dagger}_{1}**2*a_{1}/8 + a_{1}*a^{\\dagger}_{1}**3/8 - 3998607*a_{1}*a^{\\dagger}_{2}*a_{2}/45239074 - 3998607*a_{1}*a^{\\dagger}_{2}**2/45239074 - a_{1}*a^{\\dagger}_{3}/8 + 3998607*a_{1}*a_{0}*a^{\\dagger}_{0}/45239074 + 3998607*a_{1}*a_{0}**2/45239074 - 3998607*a_{1}*a_{2}*a^{\\dagger}_{2}/45239074 - 3998607*a_{1}*a_{2}**2/45239074 - a_{1}*a_{3}/8 - 5*a_{1}**2/8 - 3998607*a_{1}**2*a^{\\dagger}_{0}/45239074 + a_{1}**2*a^{\\dagger}_{1}*a_{1}/8 + a_{1}**2*a^{\\dagger}_{1}**2/8 + 3998607*a_{1}**2*a^{\\dagger}_{2}/45239074 - 3998607*a_{1}**2*a_{0}/45239074 + 3998607*a_{1}**2*a_{2}/45239074 + a_{1}**3*a^{\\dagger}_{1}/8 + a_{1}**4/8 + 38613965*a_{2}/54608393 - 131836323*a_{2}*\\chi^{\\dagger}_{2}*\\chi_{2}/93222358 - a_{2}*a^{\\dagger}_{0}/8 + 3998607*a_{2}*a^{\\dagger}_{1}*a_{1}/45239074 + 3998607*a_{2}*a^{\\dagger}_{1}**2/45239074 - a_{2}*a^{\\dagger}_{2}/8 - 3998607*a_{2}*a^{\\dagger}_{2}*a^{\\dagger}_{1}/45239074 + 3998607*a_{2}*a^{\\dagger}_{2}*a^{\\dagger}_{3}/45239074 - 3998607*a_{2}*a^{\\dagger}_{2}*a_{1}/45239074 + a_{2}*a^{\\dagger}_{2}*a_{2}*a^{\\dagger}_{2}/8 + a_{2}*a^{\\dagger}_{2}*a_{2}**2/8 + 3998607*a_{2}*a^{\\dagger}_{2}*a_{3}/45239074 + a_{2}*a^{\\dagger}_{2}**2*a_{2}/8 + a_{2}*a^{\\dagger}_{2}**3/8 - 3998607*a_{2}*a^{\\dagger}_{3}*a_{3}/45239074 - 3998607*a_{2}*a^{\\dagger}_{3}**2/45239074 - a_{2}*a_{0}/8 + 3998607*a_{2}*a_{1}*a^{\\dagger}_{1}/45239074 + 3998607*a_{2}*a_{1}**2/45239074 - 3998607*a_{2}*a_{3}*a^{\\dagger}_{3}/45239074 - 3998607*a_{2}*a_{3}**2/45239074 - 5*a_{2}**2/8 - 3998607*a_{2}**2*a^{\\dagger}_{1}/45239074 + a_{2}**2*a^{\\dagger}_{2}*a_{2}/8 + a_{2}**2*a^{\\dagger}_{2}**2/8 + 3998607*a_{2}**2*a^{\\dagger}_{3}/45239074 - 3998607*a_{2}**2*a_{1}/45239074 + 3998607*a_{2}**2*a_{3}/45239074 + a_{2}**3*a^{\\dagger}_{2}/8 + a_{2}**4/8 - 38613965*a_{3}/54608393 + 131836323*a_{3}*\\chi^{\\dagger}_{3}*\\chi_{3}/93222358 - 3998607*a_{3}*a^{\\dagger}_{0}*a_{0}/45239074 - 3998607*a_{3}*a^{\\dagger}_{0}**2/45239074 - a_{3}*a^{\\dagger}_{1}/8 + 3998607*a_{3}*a^{\\dagger}_{2}*a_{2}/45239074 + 3998607*a_{3}*a^{\\dagger}_{2}**2/45239074 - a_{3}*a^{\\dagger}_{3}/8 + 3998607*a_{3}*a^{\\dagger}_{3}*a^{\\dagger}_{0}/45239074 - 3998607*a_{3}*a^{\\dagger}_{3}*a^{\\dagger}_{2}/45239074 + 3998607*a_{3}*a^{\\dagger}_{3}*a_{0}/45239074 - 3998607*a_{3}*a^{\\dagger}_{3}*a_{2}/45239074 + a_{3}*a^{\\dagger}_{3}*a_{3}*a^{\\dagger}_{3}/8 + a_{3}*a^{\\dagger}_{3}*a_{3}**2/8 + a_{3}*a^{\\dagger}_{3}**2*a_{3}/8 + a_{3}*a^{\\dagger}_{3}**3/8 - 3998607*a_{3}*a_{0}*a^{\\dagger}_{0}/45239074 - 3998607*a_{3}*a_{0}**2/45239074 - a_{3}*a_{1}/8 + 3998607*a_{3}*a_{2}*a^{\\dagger}_{2}/45239074 + 3998607*a_{3}*a_{2}**2/45239074 - 5*a_{3}**2/8 + 3998607*a_{3}**2*a^{\\dagger}_{0}/45239074 - 3998607*a_{3}**2*a^{\\dagger}_{2}/45239074 + a_{3}**2*a^{\\dagger}_{3}*a_{3}/8 + a_{3}**2*a^{\\dagger}_{3}**2/8 + 3998607*a_{3}**2*a_{0}/45239074 - 3998607*a_{3}**2*a_{2}/45239074 + a_{3}**3*a^{\\dagger}_{3}/8 + a_{3}**4/8"
      ]
     },
     "execution_count": 8,
     "metadata": {},
     "output_type": "execute_result"
    }
   ],
   "source": [
    "m=1\n",
    "\n",
    "HOdofSubs = {}\n",
    "#offset because of BC\n",
    "for i in range(1,N+1):\n",
    "    HOdofSubs[qs[i]] = 0.5*sp.sqrt(2/m)*(aops[i] + adags[i])\n",
    "    HOdofSubs[ps[i]] = complex(0,1)*sp.sqrt(2*m)*(adags[i] - aops[i])/2 \n",
    "\n",
    "hoHam=sp.expand(ham.subs(HOdofSubs))\n",
    "hoHam=sp.nsimplify(hoHam,tolerance=1e-8)\n",
    "hoHam"
   ]
  },
  {
   "cell_type": "code",
   "execution_count": 9,
   "metadata": {},
   "outputs": [
    {
     "name": "stderr",
     "output_type": "stream",
     "text": [
      "/home/chrisculver/miniconda3/envs/QuantumComputing/lib/python3.9/site-packages/scipy/sparse/_sputils.py:114: UserWarning: object dtype is not supported by sparse matrices\n",
      "  warnings.warn(\"object dtype is not supported by sparse matrices\")\n"
     ]
    },
    {
     "name": "stdout",
     "output_type": "stream",
     "text": [
      "toHam timer took: 4.9252 seconds\n",
      "evals timer took: 0.3721 seconds\n",
      "Lambda =  2\n",
      "[-0.08114224-7.7125151e-09j -0.08114344-1.1221614e-08j\n",
      " -0.0811431 +1.3928002e-08j -0.081143  +6.2864274e-09j\n",
      " -0.0811427 -3.8653525e-11j -0.08114223-3.2937084e-09j\n",
      " -0.19399971+1.4279579e-08j -0.08114161-3.0238201e-08j\n",
      " -0.19399908-5.2105857e-09j -0.08113953-6.8357249e-09j]\n",
      "\n",
      "toHam timer took: 14.9548 seconds\n",
      "evals timer took: 0.8875 seconds\n",
      "Lambda =  3\n",
      "[-0.08400058-6.53977850e-09j -0.08847921-7.01120939e-09j\n",
      " -0.08847296+2.28287504e-08j -0.08399567+1.75991275e-08j\n",
      "  0.14862692+4.73297890e-09j  0.14861973-1.14471876e-10j\n",
      "  0.1411114 -1.02414992e-08j  0.14110321+2.33750752e-09j\n",
      "  0.14109749-2.01609895e-10j  0.1411003 +1.22008164e-08j]\n",
      "\n",
      "toHam timer took: 66.0864 seconds\n",
      "evals timer took: 1.2527 seconds\n",
      "Lambda =  4\n",
      "[0.16927268+1.9360641e-08j 0.17352998-9.3010648e-09j\n",
      " 0.16926818-1.8716600e-08j 0.17352614+2.3039277e-08j\n",
      " 0.2177026 -3.6872304e-08j 0.22037913-2.9696206e-08j\n",
      " 0.21769457+8.0880174e-09j 0.22036749+6.3392078e-09j\n",
      " 0.26463968+7.9781186e-09j 0.26462153-5.1907989e-10j]\n",
      "\n",
      "toHam timer took: 277.5466 seconds\n",
      "evals timer took: 1.3593 seconds\n",
      "Lambda =  5\n",
      "[-0.03079378+3.5635985e-09j -0.20602168+5.0424990e-08j\n",
      " -0.20602034+6.9641146e-09j -0.03079559+3.7485734e-08j\n",
      " -0.03079489-1.5832484e-08j -0.03079493-2.0838343e-08j\n",
      "  0.2585049 -6.0366268e-09j  0.25850457-4.6851483e-08j\n",
      "  0.258499  -4.6559233e-08j  0.2584974 -2.3046629e-08j]\n",
      "\n",
      "toHam timer took: 868.9977 seconds\n",
      "evals timer took: 4.2928 seconds\n",
      "Lambda =  6\n",
      "[-0.07200783-5.5927330e-08j -0.08163945-1.6133679e-08j\n",
      " -0.08163767+2.9369147e-08j -0.07200538+2.8770165e-08j\n",
      " -0.03688406+5.8205890e-10j -0.03688507+3.0619844e-08j\n",
      " -0.03687975+2.3258051e-08j -0.03688172+2.0267363e-08j\n",
      " -0.37503836+2.2299588e-08j -0.3750347 +5.3667463e-08j]\n",
      "\n"
     ]
    }
   ],
   "source": [
    "for cutoff in [2,3,4,5,6]:\n",
    "    t=Timer('toHam')\n",
    "    t.start()\n",
    "    hamMat=convert_to_matrix(hoHam,cutoff,N,aops,adags,xs,xdags)\n",
    "    t.stop()\n",
    "    \n",
    "    t=Timer('evals')\n",
    "    t.start()\n",
    "    ens=scipy.sparse.linalg.eigs(hamMat,k=10,which='SM')[0]\n",
    "    t.stop()\n",
    "    \n",
    "    print(\"Lambda = \",cutoff)\n",
    "    print(ens)\n",
    "    print()"
   ]
  },
  {
   "cell_type": "code",
   "execution_count": null,
   "metadata": {},
   "outputs": [],
   "source": []
  }
 ],
 "metadata": {
  "kernelspec": {
   "display_name": "Python 3",
   "language": "python",
   "name": "python3"
  },
  "language_info": {
   "codemirror_mode": {
    "name": "ipython",
    "version": 3
   },
   "file_extension": ".py",
   "mimetype": "text/x-python",
   "name": "python",
   "nbconvert_exporter": "python",
   "pygments_lexer": "ipython3",
   "version": "3.9.1"
  }
 },
 "nbformat": 4,
 "nbformat_minor": 5
}
