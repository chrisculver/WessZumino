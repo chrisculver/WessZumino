{
 "cells": [
  {
   "cell_type": "markdown",
   "metadata": {},
   "source": [
    "# Wess Zumino \n",
    "\n",
    "## N=1 in 1+1\n",
    "\n",
    "The Hamiltonian with a central difference for the derivative is given by \n",
    "\n",
    "\\begin{align}\n",
    "    H=\\sum_n&\\left[ \\frac{p_n^2}{2a} + \\frac{a}{2}\\left(\\frac{\\phi_{n+1}-\\phi_{n-1}}{2a}\\right)^2+\\frac{a}{2}V(\\phi_n)^2\n",
    "            +aV(\\phi_n)\\frac{\\phi_{n+1}-\\phi_{n-1}}{2a} \\right. \\nonumber \\\\\n",
    "            &\\left.+(-1)^nV'(\\phi_n)\\left(\\chi_n^{\\dagger}\\chi_n-\\frac{1}{2}\\right)\n",
    "            +\\frac{1}{2a}\\left(\\chi_n^{\\dagger}\\chi_{n+1}+\\chi_{n+1}^{\\dagger}\\chi_n\\right) \\right],\n",
    "\\end{align}"
   ]
  },
  {
   "cell_type": "code",
   "execution_count": 1,
   "metadata": {},
   "outputs": [],
   "source": [
    "import sympy as sp\n",
    "from ham_to_matrix import *\n",
    "from constants import *\n"
   ]
  },
  {
   "cell_type": "code",
   "execution_count": 2,
   "metadata": {},
   "outputs": [],
   "source": [
    "bosonNI=sp.expand( pn**2/(2*aLat) + (aLat/2)*((qnP1-qnM1)/(2*aLat))**2 )\n",
    "bosonI=sp.expand( (aLat/2)*V(qn)**2 + aLat*V(qn)*(qnP1-qnM1)/(2*aLat) )\n",
    "fermionNI=sp.expand( (xdnP1*xn+xdn*xnP1)/(2*aLat) )\n",
    "fermionI=sp.expand( (-1)**n*sp.diff(V(qn),qn)*(xdn*xn-(1/2)) )"
   ]
  },
  {
   "cell_type": "code",
   "execution_count": 3,
   "metadata": {},
   "outputs": [
    {
     "data": {
      "text/latex": [
       "$\\displaystyle \\frac{a V^{2}{\\left(q_{n} \\right)}}{2} + \\frac{V{\\left(q_{n} \\right)} q_{n+1}}{2} - \\frac{V{\\left(q_{n} \\right)} q_{n-1}}{2} + \\frac{p_{n}^{2}}{2 a} - \\frac{q_{n+1} q_{n-1}}{8 a} + \\frac{q_{n+1}^{2}}{8 a} - \\frac{q_{n-1} q_{n+1}}{8 a} + \\frac{q_{n-1}^{2}}{8 a}$"
      ],
      "text/plain": [
       "a*V(q_{n})**2/2 + V(q_{n})*q_{n+1}/2 - V(q_{n})*q_{n-1}/2 + p_{n}**2/(2*a) - q_{n+1}*q_{n-1}/(8*a) + q_{n+1}**2/(8*a) - q_{n-1}*q_{n+1}/(8*a) + q_{n-1}**2/(8*a)"
      ]
     },
     "execution_count": 3,
     "metadata": {},
     "output_type": "execute_result"
    }
   ],
   "source": [
    "bosonNI+bosonI"
   ]
  },
  {
   "cell_type": "code",
   "execution_count": 4,
   "metadata": {},
   "outputs": [
    {
     "data": {
      "text/latex": [
       "$\\displaystyle - 0.5 \\left(-1\\right)^{n} \\frac{d}{d q_{n}} V{\\left(q_{n} \\right)} + \\left(-1\\right)^{n} \\frac{d}{d q_{n}} V{\\left(q_{n} \\right)} \\chi^{\\dagger}_{n} \\chi_{n} + \\frac{\\chi^{\\dagger}_{n+1} \\chi_{n}}{2 a} + \\frac{\\chi^{\\dagger}_{n} \\chi_{n+1}}{2 a}$"
      ],
      "text/plain": [
       "-0.5*(-1)**n*Derivative(V(q_{n}), q_{n}) + (-1)**n*Derivative(V(q_{n}), q_{n})*\\chi^{\\dagger}_{n}*\\chi_{n} + \\chi^{\\dagger}_{n+1}*\\chi_{n}/(2*a) + \\chi^{\\dagger}_{n}*\\chi_{n+1}/(2*a)"
      ]
     },
     "execution_count": 4,
     "metadata": {},
     "output_type": "execute_result"
    }
   ],
   "source": [
    "fermionNI + fermionI"
   ]
  },
  {
   "cell_type": "code",
   "execution_count": 5,
   "metadata": {},
   "outputs": [],
   "source": [
    "N=3\n",
    "aVal=1\n",
    "\n",
    "# depends on finite-difference method\n",
    "qs=[SiteSymbol('q',str(i)) for i in range(-1,N+1,1)]\n",
    "# maybe make qs a normal site list\n",
    "# and make an extra boundaryQs list for q[-1], q[N]\n",
    "# counting would be normal computer science way for rest of code.\n",
    "\n",
    "ps=[SiteSymbol('p',str(i)) for i in range(-1,N+1,1)] # don't really need extras\n",
    "aops=[SiteSymbol('a',str(i)) for i in range(-1,N+1,1)]\n",
    "adags=[SiteSymbol('a^{\\dagger}',str(i)) for i in range(-1,N+1,1)]\n",
    "xs=[SiteSymbol('\\chi',str(i)) for i in range(-1,N+1,1)]\n",
    "xdags=[SiteSymbol('\\chi^{\\dagger}',str(i)) for i in range(-1,N+1,1)]\n",
    "\n",
    "# note this is exactly hardcoded for this finite difference method.\n",
    "bcType = 'periodic'\n",
    "boundaryConditions = {}\n",
    "if bcType == 'periodic':\n",
    "    boundaryConditions = {qs[0]: qs[N], qs[N+1]: qs[1],\n",
    "                          xs[0]: -xs[N], xs[N+1]: -xs[1], \n",
    "                          xdags[0]: -xdags[N],  xdags[N+1]: -xdags[1]\n",
    "                         }\n",
    "    \n",
    "elif bcType == 'dirichlet':\n",
    "    boundaryConditions = { qs[0]: 0, qs[N+1]: 0,\n",
    "                          xs[0]: 0, xs[N+1]: 0,\n",
    "                          xdags[0]: 0, xdags[N+1]:0\n",
    "                         }"
   ]
  },
  {
   "cell_type": "code",
   "execution_count": 6,
   "metadata": {},
   "outputs": [
    {
     "data": {
      "text/latex": [
       "$\\displaystyle - 0.5 \\left(-1\\right)^{n} \\frac{d}{d q_{n}} V{\\left(q_{n} \\right)} + \\left(-1\\right)^{n} \\frac{d}{d q_{n}} V{\\left(q_{n} \\right)} \\chi^{\\dagger}_{n} \\chi_{n} + \\frac{a V^{2}{\\left(q_{n} \\right)}}{2} + \\frac{V{\\left(q_{n} \\right)} q_{n+1}}{2} - \\frac{V{\\left(q_{n} \\right)} q_{n-1}}{2} + \\frac{\\chi^{\\dagger}_{n+1} \\chi_{n}}{2 a} + \\frac{\\chi^{\\dagger}_{n} \\chi_{n+1}}{2 a} + \\frac{p_{n}^{2}}{2 a} - \\frac{q_{n+1} q_{n-1}}{8 a} + \\frac{q_{n+1}^{2}}{8 a} - \\frac{q_{n-1} q_{n+1}}{8 a} + \\frac{q_{n-1}^{2}}{8 a}$"
      ],
      "text/plain": [
       "-0.5*(-1)**n*Derivative(V(q_{n}), q_{n}) + (-1)**n*Derivative(V(q_{n}), q_{n})*\\chi^{\\dagger}_{n}*\\chi_{n} + a*V(q_{n})**2/2 + V(q_{n})*q_{n+1}/2 - V(q_{n})*q_{n-1}/2 + \\chi^{\\dagger}_{n+1}*\\chi_{n}/(2*a) + \\chi^{\\dagger}_{n}*\\chi_{n+1}/(2*a) + p_{n}**2/(2*a) - q_{n+1}*q_{n-1}/(8*a) + q_{n+1}**2/(8*a) - q_{n-1}*q_{n+1}/(8*a) + q_{n-1}**2/(8*a)"
      ]
     },
     "execution_count": 6,
     "metadata": {},
     "output_type": "execute_result"
    }
   ],
   "source": [
    "totHam=bosonNI+bosonI+fermionNI+fermionI\n",
    "totHam"
   ]
  },
  {
   "cell_type": "code",
   "execution_count": 7,
   "metadata": {},
   "outputs": [
    {
     "data": {
      "text/latex": [
       "$\\displaystyle \\frac{4.0 - 8 \\chi^{\\dagger}_{0} \\chi_{0} + 4 \\chi^{\\dagger}_{0} \\chi_{1} - 4 \\chi^{\\dagger}_{0} \\chi_{2} + 4 \\chi^{\\dagger}_{1} \\chi_{0} + 8 \\chi^{\\dagger}_{1} \\chi_{1} + 4 \\chi^{\\dagger}_{1} \\chi_{2} - 4 \\chi^{\\dagger}_{2} \\chi_{0} + 4 \\chi^{\\dagger}_{2} \\chi_{1} - 8 \\chi^{\\dagger}_{2} \\chi_{2} + 4 p_{0}^{2} + 4 p_{1}^{2} + 4 p_{2}^{2} + 3 q_{0} q_{1} - 5 q_{0} q_{2} + 6 q_{0}^{2} - 5 q_{1} q_{0} + 3 q_{1} q_{2} + 6 q_{1}^{2} + 3 q_{2} q_{0} - 5 q_{2} q_{1} + 6 q_{2}^{2}}{8}$"
      ],
      "text/plain": [
       "(4.0 - 8*\\chi^{\\dagger}_{0}*\\chi_{0} + 4*\\chi^{\\dagger}_{0}*\\chi_{1} - 4*\\chi^{\\dagger}_{0}*\\chi_{2} + 4*\\chi^{\\dagger}_{1}*\\chi_{0} + 8*\\chi^{\\dagger}_{1}*\\chi_{1} + 4*\\chi^{\\dagger}_{1}*\\chi_{2} - 4*\\chi^{\\dagger}_{2}*\\chi_{0} + 4*\\chi^{\\dagger}_{2}*\\chi_{1} - 8*\\chi^{\\dagger}_{2}*\\chi_{2} + 4*p_{0}**2 + 4*p_{1}**2 + 4*p_{2}**2 + 3*q_{0}*q_{1} - 5*q_{0}*q_{2} + 6*q_{0}**2 - 5*q_{1}*q_{0} + 3*q_{1}*q_{2} + 6*q_{1}**2 + 3*q_{2}*q_{0} - 5*q_{2}*q_{1} + 6*q_{2}**2)/8"
      ]
     },
     "execution_count": 7,
     "metadata": {},
     "output_type": "execute_result"
    }
   ],
   "source": [
    "ham=0\n",
    "\n",
    "for i in range(1,N+1):\n",
    "    ham+=(bosonNI+bosonI+fermionNI).subs({\n",
    "        pn: ps[i],\n",
    "        qn: qs[i], qnP1: qs[i+1], qnM1: qs[i-1],\n",
    "        xn: xs[i], xnP1: xs[i+1],\n",
    "        xdn: xdags[i], xdnP1: xdags[i+1]\n",
    "    }).subs(boundaryConditions)\n",
    "    \n",
    "# ham.subs(boundaryConditions).doit() # this doesn't work?\n",
    "\n",
    "\n",
    "def potential(n):\n",
    "    # m*q with m=1\n",
    "    return qs[n]\n",
    "\n",
    "potentialSubs={}\n",
    "for n in range(1,N+1):\n",
    "    potentialSubs[V(qs[n])]=potential(n)\n",
    "\n",
    "ham=sp.simplify(ham.subs(potentialSubs).subs(aLat,aVal))\n",
    "\n",
    "\n",
    "for i in range(1,N+1):\n",
    "    if i%2==0:\n",
    "        ham+=sp.simplify(fermionI.subs({qn: qs[i], xn: xs[i], xdn: xdags[i]}).subs(potentialSubs)).subs((-1)**n,1)\n",
    "    else:\n",
    "        ham-=sp.simplify(fermionI.subs({qn: qs[i], xn: xs[i], xdn: xdags[i]}).subs(potentialSubs)).subs((-1)**n,1)\n",
    "ham=sp.simplify(ham)\n",
    "ham"
   ]
  },
  {
   "cell_type": "code",
   "execution_count": 8,
   "metadata": {},
   "outputs": [],
   "source": [
    "#ham=0\n",
    "#totHam=bosonNI+bosonI+fermionNI+fermionI\n",
    "#for i in range(0,N):\n",
    "#    ham+=totHam.subs(n,i).subs(boundaryConditions)\n",
    "# ham.subs(boundaryConditions).doit() # this doesn't work?\n",
    "\n",
    "#def potential(n):\n",
    "#    return q[n]\n",
    "\n",
    "#for n in range(0,N):\n",
    "#    ham=ham.subs(V(q[n]),potential(n))\n",
    "#ham=ham.subs(aLat,aVal).simplify().expand()\n",
    "#ham"
   ]
  },
  {
   "cell_type": "code",
   "execution_count": 9,
   "metadata": {},
   "outputs": [
    {
     "data": {
      "text/latex": [
       "$\\displaystyle \\frac{1}{2} - \\chi^{\\dagger}_{0} \\chi_{0} + \\frac{\\chi^{\\dagger}_{0} \\chi_{1}}{2} - \\frac{\\chi^{\\dagger}_{0} \\chi_{2}}{2} + \\frac{\\chi^{\\dagger}_{1} \\chi_{0}}{2} + \\chi^{\\dagger}_{1} \\chi_{1} + \\frac{\\chi^{\\dagger}_{1} \\chi_{2}}{2} - \\frac{\\chi^{\\dagger}_{2} \\chi_{0}}{2} + \\frac{\\chi^{\\dagger}_{2} \\chi_{1}}{2} - \\chi^{\\dagger}_{2} \\chi_{2} + \\frac{3 a^{\\dagger}_{0} a^{\\dagger}_{1}}{16} - \\frac{5 a^{\\dagger}_{0} a^{\\dagger}_{2}}{16} + \\frac{5 a^{\\dagger}_{0} a_{0}}{8} + \\frac{3 a^{\\dagger}_{0} a_{1}}{16} - \\frac{5 a^{\\dagger}_{0} a_{2}}{16} + \\frac{\\left(a^{\\dagger}_{0}\\right)^{2}}{8} - \\frac{5 a^{\\dagger}_{1} a^{\\dagger}_{0}}{16} + \\frac{3 a^{\\dagger}_{1} a^{\\dagger}_{2}}{16} - \\frac{5 a^{\\dagger}_{1} a_{0}}{16} + \\frac{5 a^{\\dagger}_{1} a_{1}}{8} + \\frac{3 a^{\\dagger}_{1} a_{2}}{16} + \\frac{\\left(a^{\\dagger}_{1}\\right)^{2}}{8} + \\frac{3 a^{\\dagger}_{2} a^{\\dagger}_{0}}{16} - \\frac{5 a^{\\dagger}_{2} a^{\\dagger}_{1}}{16} + \\frac{3 a^{\\dagger}_{2} a_{0}}{16} - \\frac{5 a^{\\dagger}_{2} a_{1}}{16} + \\frac{5 a^{\\dagger}_{2} a_{2}}{8} + \\frac{\\left(a^{\\dagger}_{2}\\right)^{2}}{8} + \\frac{5 a_{0} a^{\\dagger}_{0}}{8} + \\frac{3 a_{0} a^{\\dagger}_{1}}{16} - \\frac{5 a_{0} a^{\\dagger}_{2}}{16} + \\frac{3 a_{0} a_{1}}{16} - \\frac{5 a_{0} a_{2}}{16} + \\frac{a_{0}^{2}}{8} - \\frac{5 a_{1} a^{\\dagger}_{0}}{16} + \\frac{5 a_{1} a^{\\dagger}_{1}}{8} + \\frac{3 a_{1} a^{\\dagger}_{2}}{16} - \\frac{5 a_{1} a_{0}}{16} + \\frac{3 a_{1} a_{2}}{16} + \\frac{a_{1}^{2}}{8} + \\frac{3 a_{2} a^{\\dagger}_{0}}{16} - \\frac{5 a_{2} a^{\\dagger}_{1}}{16} + \\frac{5 a_{2} a^{\\dagger}_{2}}{8} + \\frac{3 a_{2} a_{0}}{16} - \\frac{5 a_{2} a_{1}}{16} + \\frac{a_{2}^{2}}{8}$"
      ],
      "text/plain": [
       "1/2 - \\chi^{\\dagger}_{0}*\\chi_{0} + \\chi^{\\dagger}_{0}*\\chi_{1}/2 - \\chi^{\\dagger}_{0}*\\chi_{2}/2 + \\chi^{\\dagger}_{1}*\\chi_{0}/2 + \\chi^{\\dagger}_{1}*\\chi_{1} + \\chi^{\\dagger}_{1}*\\chi_{2}/2 - \\chi^{\\dagger}_{2}*\\chi_{0}/2 + \\chi^{\\dagger}_{2}*\\chi_{1}/2 - \\chi^{\\dagger}_{2}*\\chi_{2} + 3*a^{\\dagger}_{0}*a^{\\dagger}_{1}/16 - 5*a^{\\dagger}_{0}*a^{\\dagger}_{2}/16 + 5*a^{\\dagger}_{0}*a_{0}/8 + 3*a^{\\dagger}_{0}*a_{1}/16 - 5*a^{\\dagger}_{0}*a_{2}/16 + a^{\\dagger}_{0}**2/8 - 5*a^{\\dagger}_{1}*a^{\\dagger}_{0}/16 + 3*a^{\\dagger}_{1}*a^{\\dagger}_{2}/16 - 5*a^{\\dagger}_{1}*a_{0}/16 + 5*a^{\\dagger}_{1}*a_{1}/8 + 3*a^{\\dagger}_{1}*a_{2}/16 + a^{\\dagger}_{1}**2/8 + 3*a^{\\dagger}_{2}*a^{\\dagger}_{0}/16 - 5*a^{\\dagger}_{2}*a^{\\dagger}_{1}/16 + 3*a^{\\dagger}_{2}*a_{0}/16 - 5*a^{\\dagger}_{2}*a_{1}/16 + 5*a^{\\dagger}_{2}*a_{2}/8 + a^{\\dagger}_{2}**2/8 + 5*a_{0}*a^{\\dagger}_{0}/8 + 3*a_{0}*a^{\\dagger}_{1}/16 - 5*a_{0}*a^{\\dagger}_{2}/16 + 3*a_{0}*a_{1}/16 - 5*a_{0}*a_{2}/16 + a_{0}**2/8 - 5*a_{1}*a^{\\dagger}_{0}/16 + 5*a_{1}*a^{\\dagger}_{1}/8 + 3*a_{1}*a^{\\dagger}_{2}/16 - 5*a_{1}*a_{0}/16 + 3*a_{1}*a_{2}/16 + a_{1}**2/8 + 3*a_{2}*a^{\\dagger}_{0}/16 - 5*a_{2}*a^{\\dagger}_{1}/16 + 5*a_{2}*a^{\\dagger}_{2}/8 + 3*a_{2}*a_{0}/16 - 5*a_{2}*a_{1}/16 + a_{2}**2/8"
      ]
     },
     "execution_count": 9,
     "metadata": {},
     "output_type": "execute_result"
    }
   ],
   "source": [
    "m=1\n",
    "\n",
    "HOdofSubs = {}\n",
    "#offset because of BC\n",
    "for i in range(1,N+1):\n",
    "    HOdofSubs[qs[i]] = 0.5*sp.sqrt(2/m)*(aops[i] + adags[i])\n",
    "    HOdofSubs[ps[i]] = complex(0,1)*sp.sqrt(2*m)*(adags[i] - aops[i])/2 \n",
    "\n",
    "hoHam=sp.expand(ham.subs(HOdofSubs))\n",
    "hoHam=sp.nsimplify(hoHam,tolerance=1e-8)\n",
    "hoHam"
   ]
  },
  {
   "cell_type": "code",
   "execution_count": 10,
   "metadata": {},
   "outputs": [
    {
     "name": "stdout",
     "output_type": "stream",
     "text": [
      "setup timer took: 0.0133 seconds\n",
      "a^{\\dagger}_{0}**2setup timer took: 0.0006 seconds\n",
      "a^{\\dagger}_{0}**2full timer took: 11.1048 seconds\n",
      "a^{\\dagger}_{0}**2multiply timer took: 0.0074 seconds\n"
     ]
    }
   ],
   "source": [
    "cutoff=4\n",
    "term=hoHam.args[1]\n",
    "hamMat=convert_term_to_matrix(term,cutoff,N,aops,adags,xs,xdags)"
   ]
  },
  {
   "cell_type": "code",
   "execution_count": 11,
   "metadata": {},
   "outputs": [
    {
     "name": "stdout",
     "output_type": "stream",
     "text": [
      "test timer took: 3.9318 seconds\n"
     ]
    }
   ],
   "source": [
    "t=Timer('test')\n",
    "t.start()\n",
    "np.kron(np.random.rand((4**4)*(2**4),(4**4)*(2**4)),np.random.rand(4,4))\n",
    "t.stop()"
   ]
  },
  {
   "cell_type": "code",
   "execution_count": 12,
   "metadata": {},
   "outputs": [
    {
     "data": {
      "text/plain": [
       "512"
      ]
     },
     "execution_count": 12,
     "metadata": {},
     "output_type": "execute_result"
    }
   ],
   "source": [
    "(4**3)*(2**3)"
   ]
  },
  {
   "cell_type": "code",
   "execution_count": 13,
   "metadata": {},
   "outputs": [
    {
     "name": "stdout",
     "output_type": "stream",
     "text": [
      "test timer took: 0.0249 seconds\n"
     ]
    }
   ],
   "source": [
    "t=Timer('test')\n",
    "t.start()\n",
    "np.kron(np.random.rand((4**3)*(2**3),(4**3)*(2**3)),np.random.rand(2,2))\n",
    "t.stop()"
   ]
  },
  {
   "cell_type": "code",
   "execution_count": 14,
   "metadata": {},
   "outputs": [
    {
     "name": "stdout",
     "output_type": "stream",
     "text": [
      "test timer took: 0.0744 seconds\n"
     ]
    }
   ],
   "source": [
    "t=Timer('test')\n",
    "t.start()\n",
    "np.kron(np.random.rand((5**3)*(2**3),(5**3)*(2**3)),np.random.rand(2,2))\n",
    "t.stop()"
   ]
  },
  {
   "cell_type": "code",
   "execution_count": 15,
   "metadata": {},
   "outputs": [
    {
     "name": "stdout",
     "output_type": "stream",
     "text": [
      "test timer took: 0.2160 seconds\n"
     ]
    }
   ],
   "source": [
    "t=Timer('test')\n",
    "t.start()\n",
    "np.kron(np.random.rand((6**3)*(2**3),(6**3)*(2**3)),np.random.rand(2,2))\n",
    "t.stop()"
   ]
  },
  {
   "cell_type": "code",
   "execution_count": 16,
   "metadata": {},
   "outputs": [
    {
     "name": "stdout",
     "output_type": "stream",
     "text": [
      "test timer took: 0.0000 seconds\n"
     ]
    }
   ],
   "source": [
    "t=Timer('test')\n",
    "t.start()\n",
    "#crashes\n",
    "#np.kron(np.random.rand((6**4)*(2**4),(6**4)*(2**4)),np.random.rand(2,2))\n",
    "t.stop()"
   ]
  },
  {
   "cell_type": "code",
   "execution_count": null,
   "metadata": {},
   "outputs": [],
   "source": []
  }
 ],
 "metadata": {
  "kernelspec": {
   "display_name": "Python 3",
   "language": "python",
   "name": "python3"
  },
  "language_info": {
   "codemirror_mode": {
    "name": "ipython",
    "version": 3
   },
   "file_extension": ".py",
   "mimetype": "text/x-python",
   "name": "python",
   "nbconvert_exporter": "python",
   "pygments_lexer": "ipython3",
   "version": "3.9.1"
  }
 },
 "nbformat": 4,
 "nbformat_minor": 5
}
