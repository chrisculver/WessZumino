{
 "cells": [
  {
   "cell_type": "code",
   "execution_count": 10,
   "metadata": {},
   "outputs": [],
   "source": [
    "import sympy as sp\n",
    "from ham_to_matrix import *\n",
    "from constants import *"
   ]
  },
  {
   "cell_type": "markdown",
   "metadata": {},
   "source": [
    "## Diagonal Part"
   ]
  },
  {
   "cell_type": "code",
   "execution_count": 19,
   "metadata": {},
   "outputs": [],
   "source": [
    "totHam = 0.5*(pn**2 + qn**2)"
   ]
  },
  {
   "cell_type": "code",
   "execution_count": 20,
   "metadata": {},
   "outputs": [
    {
     "data": {
      "text/latex": [
       "$\\displaystyle 0.5 \\left(p_{n}^{2} + q_{n}^{2}\\right)$"
      ],
      "text/plain": [
       "0.5*(p_{n}**2 + q_{n}**2)"
      ]
     },
     "execution_count": 20,
     "metadata": {},
     "output_type": "execute_result"
    }
   ],
   "source": [
    "totHam"
   ]
  },
  {
   "cell_type": "code",
   "execution_count": null,
   "metadata": {},
   "outputs": [],
   "source": []
  },
  {
   "cell_type": "code",
   "execution_count": 21,
   "metadata": {},
   "outputs": [],
   "source": [
    "N=3\n",
    "aVal=1\n",
    "\n",
    "# depends on finite-difference method\n",
    "qs=[SiteSymbol('q',str(i)) for i in range(-1,N+1,1)]\n",
    "# maybe make qs a normal site list\n",
    "# and make an extra boundaryQs list for q[-1], q[N]\n",
    "# counting would be normal computer science way for rest of code.\n",
    "\n",
    "ps=[SiteSymbol('p',str(i)) for i in range(-1,N+1,1)] # don't really need extras\n",
    "aops=[SiteSymbol('a',str(i)) for i in range(-1,N+1,1)]\n",
    "adags=[SiteSymbol('a^{\\dagger}',str(i)) for i in range(-1,N+1,1)]\n",
    "\n",
    "# note this is exactly hardcoded for this finite difference method.\n",
    "bcType = 'periodic'\n",
    "boundaryConditions = {}\n",
    "\n",
    "# warning be careful of array indexing...   \n",
    "if bcType == 'periodic':\n",
    "    boundaryConditions = {qs[0]: qs[N], qs[N+1]: qs[1]\n",
    "                         }\n",
    "elif bcType == 'dirichlet':\n",
    "    boundaryConditions = {qs[0]: 0, qs[N+1]: 0}"
   ]
  },
  {
   "cell_type": "code",
   "execution_count": null,
   "metadata": {},
   "outputs": [],
   "source": []
  },
  {
   "cell_type": "code",
   "execution_count": 22,
   "metadata": {},
   "outputs": [
    {
     "data": {
      "text/latex": [
       "$\\displaystyle 0.5 \\left(p_{0}^{2} + q_{0}^{2}\\right) + 0.5 \\left(p_{1}^{2} + q_{1}^{2}\\right) + 0.5 \\left(p_{2}^{2} + q_{2}^{2}\\right)$"
      ],
      "text/plain": [
       "0.5*(p_{0}**2 + q_{0}**2) + 0.5*(p_{1}**2 + q_{1}**2) + 0.5*(p_{2}**2 + q_{2}**2)"
      ]
     },
     "execution_count": 22,
     "metadata": {},
     "output_type": "execute_result"
    }
   ],
   "source": [
    "ham=0\n",
    "for i in range(1,N+1):\n",
    "    ham+=totHam.subs({qn: qs[i], pn: ps[i]}).subs(boundaryConditions)\n",
    "\n",
    "ham"
   ]
  },
  {
   "cell_type": "code",
   "execution_count": 23,
   "metadata": {},
   "outputs": [
    {
     "data": {
      "text/latex": [
       "$\\displaystyle \\frac{a^{\\dagger}_{0} a_{0}}{2} + \\frac{a^{\\dagger}_{1} a_{1}}{2} + \\frac{a^{\\dagger}_{2} a_{2}}{2} + \\frac{a_{0} a^{\\dagger}_{0}}{2} + \\frac{a_{1} a^{\\dagger}_{1}}{2} + \\frac{a_{2} a^{\\dagger}_{2}}{2}$"
      ],
      "text/plain": [
       "a^{\\dagger}_{0}*a_{0}/2 + a^{\\dagger}_{1}*a_{1}/2 + a^{\\dagger}_{2}*a_{2}/2 + a_{0}*a^{\\dagger}_{0}/2 + a_{1}*a^{\\dagger}_{1}/2 + a_{2}*a^{\\dagger}_{2}/2"
      ]
     },
     "execution_count": 23,
     "metadata": {},
     "output_type": "execute_result"
    }
   ],
   "source": [
    "m=1\n",
    "\n",
    "HOdofSubs = {}\n",
    "#offset because of BC\n",
    "for i in range(1,N+1):\n",
    "    HOdofSubs[qs[i]] = 0.5*sp.sqrt(2/m)*(aops[i] + adags[i])\n",
    "    HOdofSubs[ps[i]] = complex(0,1)*sp.sqrt(2*m)*(adags[i] - aops[i])/2 \n",
    "\n",
    "hoHam=sp.expand(ham.subs(HOdofSubs))\n",
    "hoHam=sp.nsimplify(hoHam,tolerance=1e-8)\n",
    "hoHam"
   ]
  },
  {
   "cell_type": "code",
   "execution_count": null,
   "metadata": {},
   "outputs": [],
   "source": []
  },
  {
   "cell_type": "code",
   "execution_count": null,
   "metadata": {},
   "outputs": [],
   "source": []
  },
  {
   "cell_type": "markdown",
   "metadata": {},
   "source": [
    "## H = n_0 + 1/2 + n_1 + 1/2"
   ]
  },
  {
   "cell_type": "code",
   "execution_count": 24,
   "metadata": {},
   "outputs": [
    {
     "name": "stdout",
     "output_type": "stream",
     "text": [
      "a^{\\dagger}_{0}*a_{0}/2 + a_{0}*a^{\\dagger}_{0}/2\n",
      "[[0.500000000000000 0 0 ... 0 0 0]\n",
      " [0 0.500000000000000 0 ... 0 0 0]\n",
      " [0 0 0.500000000000000 ... 0 0 0]\n",
      " ...\n",
      " [0 0 0 ... 1.50000000000000 0 0]\n",
      " [0 0 0 ... 0 1.50000000000000 0]\n",
      " [0 0 0 ... 0 0 1.50000000000000]]\n"
     ]
    },
    {
     "data": {
      "text/plain": [
       "array([0.5+0.j, 0.5+0.j, 0.5+0.j, 0.5+0.j, 0.5+0.j, 0.5+0.j, 0.5+0.j,\n",
       "       0.5+0.j, 0.5+0.j, 0.5+0.j, 0.5+0.j, 0.5+0.j, 0.5+0.j, 0.5+0.j,\n",
       "       0.5+0.j, 0.5+0.j, 1.5+0.j, 1.5+0.j, 1.5+0.j, 1.5+0.j, 1.5+0.j,\n",
       "       1.5+0.j, 1.5+0.j, 1.5+0.j, 1.5+0.j, 1.5+0.j, 1.5+0.j, 1.5+0.j,\n",
       "       1.5+0.j, 1.5+0.j, 1.5+0.j, 1.5+0.j, 1.5+0.j, 1.5+0.j, 1.5+0.j,\n",
       "       1.5+0.j, 1.5+0.j, 1.5+0.j, 1.5+0.j, 1.5+0.j, 1.5+0.j, 1.5+0.j,\n",
       "       1.5+0.j, 1.5+0.j, 1.5+0.j, 1.5+0.j, 1.5+0.j, 1.5+0.j, 2.5+0.j,\n",
       "       2.5+0.j, 2.5+0.j, 2.5+0.j, 2.5+0.j, 2.5+0.j, 2.5+0.j, 2.5+0.j,\n",
       "       2.5+0.j, 2.5+0.j, 2.5+0.j, 2.5+0.j, 2.5+0.j, 2.5+0.j, 2.5+0.j,\n",
       "       2.5+0.j], dtype=complex64)"
      ]
     },
     "execution_count": 24,
     "metadata": {},
     "output_type": "execute_result"
    }
   ],
   "source": [
    "cutoff=4\n",
    "term=hoHam.args[0]+hoHam.args[3]\n",
    "#term+=hoHam.args[1]+hoHam.args[4]\n",
    "print(term)\n",
    "hamMat=convert_boson_to_matrix(term,cutoff,3,aops,adags)\n",
    "print(hamMat)\n",
    "ens=np.sort(np.linalg.eig(hamMat.astype(np.complex64))[0])\n",
    "ens=ens.round(8)\n",
    "\n",
    "np.isreal(ens).all()\n",
    "\n",
    "ens"
   ]
  },
  {
   "cell_type": "code",
   "execution_count": null,
   "metadata": {},
   "outputs": [],
   "source": []
  },
  {
   "cell_type": "code",
   "execution_count": 25,
   "metadata": {},
   "outputs": [
    {
     "data": {
      "text/plain": [
       "array([1.5+0.j, 2.5+0.j, 2.5+0.j, 2.5+0.j, 2.5+0.j, 2.5+0.j, 2.5+0.j,\n",
       "       3.5+0.j, 3.5+0.j, 3.5+0.j, 3.5+0.j, 3.5+0.j, 3.5+0.j, 3.5+0.j,\n",
       "       3.5+0.j, 3.5+0.j, 3.5+0.j, 3.5+0.j, 3.5+0.j, 3.5+0.j, 3.5+0.j,\n",
       "       3.5+0.j, 4.5+0.j, 4.5+0.j, 4.5+0.j, 4.5+0.j, 4.5+0.j, 4.5+0.j,\n",
       "       4.5+0.j, 4.5+0.j, 4.5+0.j, 4.5+0.j, 4.5+0.j, 4.5+0.j, 4.5+0.j,\n",
       "       4.5+0.j, 4.5+0.j, 4.5+0.j, 4.5+0.j, 4.5+0.j, 4.5+0.j, 4.5+0.j,\n",
       "       5.5+0.j, 5.5+0.j, 5.5+0.j, 5.5+0.j, 5.5+0.j, 5.5+0.j, 5.5+0.j,\n",
       "       5.5+0.j, 5.5+0.j, 5.5+0.j, 5.5+0.j, 5.5+0.j, 5.5+0.j, 5.5+0.j,\n",
       "       5.5+0.j, 6.5+0.j, 6.5+0.j, 6.5+0.j, 6.5+0.j, 6.5+0.j, 6.5+0.j,\n",
       "       7.5+0.j], dtype=complex64)"
      ]
     },
     "execution_count": 25,
     "metadata": {},
     "output_type": "execute_result"
    }
   ],
   "source": [
    "cutoff=4\n",
    "hamMat=convert_boson_to_matrix(hoHam,cutoff,N,aops,adags)\n",
    "ens=np.sort(np.linalg.eig(hamMat.astype(np.complex64))[0])\n",
    "ens=ens.round(8)\n",
    "\n",
    "np.isreal(ens).all()\n",
    "\n",
    "ens"
   ]
  },
  {
   "cell_type": "code",
   "execution_count": null,
   "metadata": {},
   "outputs": [],
   "source": []
  },
  {
   "cell_type": "code",
   "execution_count": 29,
   "metadata": {},
   "outputs": [
    {
     "name": "stdout",
     "output_type": "stream",
     "text": [
      "a^{\\dagger}_{0}*a_{0}/2 to matrix timer took: 48.9547 seconds\n",
      "a^{\\dagger}_{1}*a_{1}/2 to matrix timer took: 35.2551 seconds\n",
      "a^{\\dagger}_{2}*a_{2}/2 to matrix timer took: 34.8753 seconds\n",
      "a_{0}*a^{\\dagger}_{0}/2 to matrix timer took: 34.5578 seconds\n",
      "a_{1}*a^{\\dagger}_{1}/2 to matrix timer took: 40.2218 seconds\n",
      "a_{2}*a^{\\dagger}_{2}/2 to matrix timer took: 34.1281 seconds\n"
     ]
    },
    {
     "data": {
      "text/plain": [
       "array([1.5+0.j, 1.5+0.j, 1.5+0.j, 1.5+0.j, 1.5+0.j, 1.5+0.j, 1.5+0.j,\n",
       "       1.5+0.j, 2.5+0.j, 2.5+0.j, 2.5+0.j, 2.5+0.j, 2.5+0.j, 2.5+0.j,\n",
       "       2.5+0.j, 2.5+0.j, 2.5+0.j, 2.5+0.j, 2.5+0.j, 2.5+0.j, 2.5+0.j,\n",
       "       2.5+0.j, 2.5+0.j, 2.5+0.j, 2.5+0.j, 2.5+0.j, 2.5+0.j, 2.5+0.j,\n",
       "       2.5+0.j, 2.5+0.j, 2.5+0.j, 2.5+0.j, 2.5+0.j, 2.5+0.j, 2.5+0.j,\n",
       "       2.5+0.j, 2.5+0.j, 2.5+0.j, 2.5+0.j, 2.5+0.j, 2.5+0.j, 2.5+0.j,\n",
       "       2.5+0.j, 2.5+0.j, 2.5+0.j, 2.5+0.j, 2.5+0.j, 2.5+0.j, 2.5+0.j,\n",
       "       2.5+0.j, 2.5+0.j, 2.5+0.j, 2.5+0.j, 2.5+0.j, 2.5+0.j, 2.5+0.j,\n",
       "       3.5+0.j, 3.5+0.j, 3.5+0.j, 3.5+0.j, 3.5+0.j, 3.5+0.j, 3.5+0.j,\n",
       "       3.5+0.j, 3.5+0.j, 3.5+0.j, 3.5+0.j, 3.5+0.j, 3.5+0.j, 3.5+0.j,\n",
       "       3.5+0.j, 3.5+0.j, 3.5+0.j, 3.5+0.j, 3.5+0.j, 3.5+0.j, 3.5+0.j,\n",
       "       3.5+0.j, 3.5+0.j, 3.5+0.j, 3.5+0.j, 3.5+0.j, 3.5+0.j, 3.5+0.j,\n",
       "       3.5+0.j, 3.5+0.j, 3.5+0.j, 3.5+0.j, 3.5+0.j, 3.5+0.j, 3.5+0.j,\n",
       "       3.5+0.j, 3.5+0.j, 3.5+0.j, 3.5+0.j, 3.5+0.j, 3.5+0.j, 3.5+0.j,\n",
       "       3.5+0.j, 3.5+0.j, 3.5+0.j, 3.5+0.j, 3.5+0.j, 3.5+0.j, 3.5+0.j,\n",
       "       3.5+0.j, 3.5+0.j, 3.5+0.j, 3.5+0.j, 3.5+0.j, 3.5+0.j, 3.5+0.j,\n",
       "       3.5+0.j, 3.5+0.j, 3.5+0.j, 3.5+0.j, 3.5+0.j, 3.5+0.j, 3.5+0.j,\n",
       "       3.5+0.j, 3.5+0.j, 3.5+0.j, 3.5+0.j, 3.5+0.j, 3.5+0.j, 3.5+0.j,\n",
       "       3.5+0.j, 3.5+0.j, 3.5+0.j, 3.5+0.j, 3.5+0.j, 3.5+0.j, 3.5+0.j,\n",
       "       3.5+0.j, 3.5+0.j, 3.5+0.j, 3.5+0.j, 3.5+0.j, 3.5+0.j, 3.5+0.j,\n",
       "       3.5+0.j, 3.5+0.j, 3.5+0.j, 3.5+0.j, 3.5+0.j, 3.5+0.j, 3.5+0.j,\n",
       "       3.5+0.j, 3.5+0.j, 3.5+0.j, 3.5+0.j, 3.5+0.j, 3.5+0.j, 3.5+0.j,\n",
       "       3.5+0.j, 3.5+0.j, 3.5+0.j, 3.5+0.j, 3.5+0.j, 3.5+0.j, 3.5+0.j,\n",
       "       3.5+0.j, 3.5+0.j, 3.5+0.j, 3.5+0.j, 3.5+0.j, 3.5+0.j, 3.5+0.j,\n",
       "       3.5+0.j, 3.5+0.j, 3.5+0.j, 3.5+0.j, 3.5+0.j, 3.5+0.j, 3.5+0.j,\n",
       "       3.5+0.j, 4.5+0.j, 4.5+0.j, 4.5+0.j, 4.5+0.j, 4.5+0.j, 4.5+0.j,\n",
       "       4.5+0.j, 4.5+0.j, 4.5+0.j, 4.5+0.j, 4.5+0.j, 4.5+0.j, 4.5+0.j,\n",
       "       4.5+0.j, 4.5+0.j, 4.5+0.j, 4.5+0.j, 4.5+0.j, 4.5+0.j, 4.5+0.j,\n",
       "       4.5+0.j, 4.5+0.j, 4.5+0.j, 4.5+0.j, 4.5+0.j, 4.5+0.j, 4.5+0.j,\n",
       "       4.5+0.j, 4.5+0.j, 4.5+0.j, 4.5+0.j, 4.5+0.j, 4.5+0.j, 4.5+0.j,\n",
       "       4.5+0.j, 4.5+0.j, 4.5+0.j, 4.5+0.j, 4.5+0.j, 4.5+0.j, 4.5+0.j,\n",
       "       4.5+0.j, 4.5+0.j, 4.5+0.j, 4.5+0.j, 4.5+0.j, 4.5+0.j, 4.5+0.j,\n",
       "       4.5+0.j, 4.5+0.j, 4.5+0.j, 4.5+0.j, 4.5+0.j, 4.5+0.j, 4.5+0.j,\n",
       "       4.5+0.j, 4.5+0.j, 4.5+0.j, 4.5+0.j, 4.5+0.j, 4.5+0.j, 4.5+0.j,\n",
       "       4.5+0.j, 4.5+0.j, 4.5+0.j, 4.5+0.j, 4.5+0.j, 4.5+0.j, 4.5+0.j,\n",
       "       4.5+0.j, 4.5+0.j, 4.5+0.j, 4.5+0.j, 4.5+0.j, 4.5+0.j, 4.5+0.j,\n",
       "       4.5+0.j, 4.5+0.j, 4.5+0.j, 4.5+0.j, 4.5+0.j, 4.5+0.j, 4.5+0.j,\n",
       "       4.5+0.j, 4.5+0.j, 4.5+0.j, 4.5+0.j, 4.5+0.j, 4.5+0.j, 4.5+0.j,\n",
       "       4.5+0.j, 4.5+0.j, 4.5+0.j, 4.5+0.j, 4.5+0.j, 4.5+0.j, 4.5+0.j,\n",
       "       4.5+0.j, 4.5+0.j, 4.5+0.j, 4.5+0.j, 4.5+0.j, 4.5+0.j, 4.5+0.j,\n",
       "       4.5+0.j, 4.5+0.j, 4.5+0.j, 4.5+0.j, 4.5+0.j, 4.5+0.j, 4.5+0.j,\n",
       "       4.5+0.j, 4.5+0.j, 4.5+0.j, 4.5+0.j, 4.5+0.j, 4.5+0.j, 4.5+0.j,\n",
       "       4.5+0.j, 4.5+0.j, 4.5+0.j, 4.5+0.j, 4.5+0.j, 4.5+0.j, 4.5+0.j,\n",
       "       4.5+0.j, 4.5+0.j, 4.5+0.j, 4.5+0.j, 4.5+0.j, 4.5+0.j, 4.5+0.j,\n",
       "       4.5+0.j, 4.5+0.j, 4.5+0.j, 4.5+0.j, 4.5+0.j, 4.5+0.j, 4.5+0.j,\n",
       "       4.5+0.j, 4.5+0.j, 4.5+0.j, 4.5+0.j, 4.5+0.j, 4.5+0.j, 4.5+0.j,\n",
       "       4.5+0.j, 4.5+0.j, 4.5+0.j, 4.5+0.j, 4.5+0.j, 4.5+0.j, 4.5+0.j,\n",
       "       4.5+0.j, 4.5+0.j, 4.5+0.j, 4.5+0.j, 4.5+0.j, 4.5+0.j, 4.5+0.j,\n",
       "       5.5+0.j, 5.5+0.j, 5.5+0.j, 5.5+0.j, 5.5+0.j, 5.5+0.j, 5.5+0.j,\n",
       "       5.5+0.j, 5.5+0.j, 5.5+0.j, 5.5+0.j, 5.5+0.j, 5.5+0.j, 5.5+0.j,\n",
       "       5.5+0.j, 5.5+0.j, 5.5+0.j, 5.5+0.j, 5.5+0.j, 5.5+0.j, 5.5+0.j,\n",
       "       5.5+0.j, 5.5+0.j, 5.5+0.j, 5.5+0.j, 5.5+0.j, 5.5+0.j, 5.5+0.j,\n",
       "       5.5+0.j, 5.5+0.j, 5.5+0.j, 5.5+0.j, 5.5+0.j, 5.5+0.j, 5.5+0.j,\n",
       "       5.5+0.j, 5.5+0.j, 5.5+0.j, 5.5+0.j, 5.5+0.j, 5.5+0.j, 5.5+0.j,\n",
       "       5.5+0.j, 5.5+0.j, 5.5+0.j, 5.5+0.j, 5.5+0.j, 5.5+0.j, 5.5+0.j,\n",
       "       5.5+0.j, 5.5+0.j, 5.5+0.j, 5.5+0.j, 5.5+0.j, 5.5+0.j, 5.5+0.j,\n",
       "       5.5+0.j, 5.5+0.j, 5.5+0.j, 5.5+0.j, 5.5+0.j, 5.5+0.j, 5.5+0.j,\n",
       "       5.5+0.j, 5.5+0.j, 5.5+0.j, 5.5+0.j, 5.5+0.j, 5.5+0.j, 5.5+0.j,\n",
       "       5.5+0.j, 5.5+0.j, 5.5+0.j, 5.5+0.j, 5.5+0.j, 5.5+0.j, 5.5+0.j,\n",
       "       5.5+0.j, 5.5+0.j, 5.5+0.j, 5.5+0.j, 5.5+0.j, 5.5+0.j, 5.5+0.j,\n",
       "       5.5+0.j, 5.5+0.j, 5.5+0.j, 5.5+0.j, 5.5+0.j, 5.5+0.j, 5.5+0.j,\n",
       "       5.5+0.j, 5.5+0.j, 5.5+0.j, 5.5+0.j, 5.5+0.j, 5.5+0.j, 5.5+0.j,\n",
       "       5.5+0.j, 5.5+0.j, 5.5+0.j, 5.5+0.j, 5.5+0.j, 5.5+0.j, 5.5+0.j,\n",
       "       5.5+0.j, 5.5+0.j, 5.5+0.j, 5.5+0.j, 5.5+0.j, 5.5+0.j, 5.5+0.j,\n",
       "       5.5+0.j, 5.5+0.j, 5.5+0.j, 5.5+0.j, 5.5+0.j, 5.5+0.j, 5.5+0.j,\n",
       "       5.5+0.j, 6.5+0.j, 6.5+0.j, 6.5+0.j, 6.5+0.j, 6.5+0.j, 6.5+0.j,\n",
       "       6.5+0.j, 6.5+0.j, 6.5+0.j, 6.5+0.j, 6.5+0.j, 6.5+0.j, 6.5+0.j,\n",
       "       6.5+0.j, 6.5+0.j, 6.5+0.j, 6.5+0.j, 6.5+0.j, 6.5+0.j, 6.5+0.j,\n",
       "       6.5+0.j, 6.5+0.j, 6.5+0.j, 6.5+0.j, 6.5+0.j, 6.5+0.j, 6.5+0.j,\n",
       "       6.5+0.j, 6.5+0.j, 6.5+0.j, 6.5+0.j, 6.5+0.j, 6.5+0.j, 6.5+0.j,\n",
       "       6.5+0.j, 6.5+0.j, 6.5+0.j, 6.5+0.j, 6.5+0.j, 6.5+0.j, 6.5+0.j,\n",
       "       6.5+0.j, 6.5+0.j, 6.5+0.j, 6.5+0.j, 6.5+0.j, 6.5+0.j, 6.5+0.j,\n",
       "       7.5+0.j, 7.5+0.j, 7.5+0.j, 7.5+0.j, 7.5+0.j, 7.5+0.j, 7.5+0.j,\n",
       "       7.5+0.j], dtype=complex64)"
      ]
     },
     "execution_count": 29,
     "metadata": {},
     "output_type": "execute_result"
    }
   ],
   "source": [
    "cutoff=4\n",
    "hamMat=convert_to_matrix(hoHam,cutoff,N,aops,adags,[0,0,0,0,0],[0,0,0,0,0])\n",
    "ens=np.sort(np.linalg.eig(hamMat.astype(np.complex64))[0])\n",
    "ens=ens.round(8)\n",
    "\n",
    "np.isreal(ens).all()\n",
    "\n",
    "ens"
   ]
  },
  {
   "cell_type": "code",
   "execution_count": null,
   "metadata": {},
   "outputs": [],
   "source": []
  },
  {
   "cell_type": "code",
   "execution_count": null,
   "metadata": {},
   "outputs": [],
   "source": []
  },
  {
   "cell_type": "code",
   "execution_count": null,
   "metadata": {},
   "outputs": [],
   "source": []
  },
  {
   "cell_type": "markdown",
   "metadata": {},
   "source": [
    "## Full boson part"
   ]
  },
  {
   "cell_type": "code",
   "execution_count": 38,
   "metadata": {},
   "outputs": [],
   "source": [
    "bosonNI=sp.expand( pn**2/(2*aLat) + (aLat/2)*((qnP1-qnM1)/(2*aLat))**2 )\n",
    "bosonI=sp.expand( (aLat/2)*V(qn)**2 + aLat*V(qn)*(qnP1-qnM1)/(2*aLat) )\n",
    "\n",
    "\n",
    "totHam=bosonNI+bosonI"
   ]
  },
  {
   "cell_type": "code",
   "execution_count": 39,
   "metadata": {},
   "outputs": [
    {
     "data": {
      "text/latex": [
       "$\\displaystyle \\frac{a V^{2}{\\left(q_{n} \\right)}}{2} + \\frac{V{\\left(q_{n} \\right)} q_{n+1}}{2} - \\frac{V{\\left(q_{n} \\right)} q_{n-1}}{2} + \\frac{p_{n}^{2}}{2 a} - \\frac{q_{n+1} q_{n-1}}{8 a} + \\frac{q_{n+1}^{2}}{8 a} - \\frac{q_{n-1} q_{n+1}}{8 a} + \\frac{q_{n-1}^{2}}{8 a}$"
      ],
      "text/plain": [
       "a*V(q_{n})**2/2 + V(q_{n})*q_{n+1}/2 - V(q_{n})*q_{n-1}/2 + p_{n}**2/(2*a) - q_{n+1}*q_{n-1}/(8*a) + q_{n+1}**2/(8*a) - q_{n-1}*q_{n+1}/(8*a) + q_{n-1}**2/(8*a)"
      ]
     },
     "execution_count": 39,
     "metadata": {},
     "output_type": "execute_result"
    }
   ],
   "source": [
    "totHam"
   ]
  },
  {
   "cell_type": "code",
   "execution_count": 40,
   "metadata": {},
   "outputs": [],
   "source": [
    "N=3\n",
    "aVal=1\n",
    "\n",
    "# depends on finite-difference method\n",
    "qs=[SiteSymbol('q',str(i)) for i in range(-1,N+1,1)]\n",
    "# maybe make qs a normal site list\n",
    "# and make an extra boundaryQs list for q[-1], q[N]\n",
    "# counting would be normal computer science way for rest of code.\n",
    "\n",
    "ps=[SiteSymbol('p',str(i)) for i in range(-1,N+1,1)] # don't really need extras\n",
    "aops=[SiteSymbol('a',str(i)) for i in range(-1,N+1,1)]\n",
    "adags=[SiteSymbol('a^{\\dagger}',str(i)) for i in range(-1,N+1,1)]\n",
    "\n",
    "# note this is exactly hardcoded for this finite difference method.\n",
    "bcType = 'periodic'\n",
    "boundaryConditions = {}\n",
    "\n",
    "# warning be careful of array indexing...   \n",
    "if bcType == 'periodic':\n",
    "    boundaryConditions = {qs[0]: qs[N], qs[N+1]: qs[1]\n",
    "                         }\n",
    "elif bcType == 'dirichlet':\n",
    "    boundaryConditions = {qs[0]: 0, qs[N+1]: 0}"
   ]
  },
  {
   "cell_type": "code",
   "execution_count": 41,
   "metadata": {},
   "outputs": [
    {
     "data": {
      "text/latex": [
       "$\\displaystyle \\frac{a V^{2}{\\left(q_{0} \\right)}}{2} + \\frac{a V^{2}{\\left(q_{1} \\right)}}{2} + \\frac{a V^{2}{\\left(q_{2} \\right)}}{2} + \\frac{V{\\left(q_{0} \\right)} q_{1}}{2} - \\frac{V{\\left(q_{0} \\right)} q_{2}}{2} - \\frac{V{\\left(q_{1} \\right)} q_{0}}{2} + \\frac{V{\\left(q_{1} \\right)} q_{2}}{2} + \\frac{V{\\left(q_{2} \\right)} q_{0}}{2} - \\frac{V{\\left(q_{2} \\right)} q_{1}}{2} + \\frac{p_{0}^{2}}{2 a} + \\frac{p_{1}^{2}}{2 a} + \\frac{p_{2}^{2}}{2 a} - \\frac{q_{0} q_{1}}{8 a} - \\frac{q_{0} q_{2}}{8 a} + \\frac{q_{0}^{2}}{4 a} - \\frac{q_{1} q_{0}}{8 a} - \\frac{q_{1} q_{2}}{8 a} + \\frac{q_{1}^{2}}{4 a} - \\frac{q_{2} q_{0}}{8 a} - \\frac{q_{2} q_{1}}{8 a} + \\frac{q_{2}^{2}}{4 a}$"
      ],
      "text/plain": [
       "a*V(q_{0})**2/2 + a*V(q_{1})**2/2 + a*V(q_{2})**2/2 + V(q_{0})*q_{1}/2 - V(q_{0})*q_{2}/2 - V(q_{1})*q_{0}/2 + V(q_{1})*q_{2}/2 + V(q_{2})*q_{0}/2 - V(q_{2})*q_{1}/2 + p_{0}**2/(2*a) + p_{1}**2/(2*a) + p_{2}**2/(2*a) - q_{0}*q_{1}/(8*a) - q_{0}*q_{2}/(8*a) + q_{0}**2/(4*a) - q_{1}*q_{0}/(8*a) - q_{1}*q_{2}/(8*a) + q_{1}**2/(4*a) - q_{2}*q_{0}/(8*a) - q_{2}*q_{1}/(8*a) + q_{2}**2/(4*a)"
      ]
     },
     "execution_count": 41,
     "metadata": {},
     "output_type": "execute_result"
    }
   ],
   "source": [
    "ham=0\n",
    "for i in range(1,N+1):\n",
    "    ham+=totHam.subs({qn: qs[i], pn: ps[i], qnP1: qs[i+1], qnM1: qs[i-1]}).subs(boundaryConditions)\n",
    "\n",
    "ham"
   ]
  },
  {
   "cell_type": "code",
   "execution_count": null,
   "metadata": {},
   "outputs": [],
   "source": []
  },
  {
   "cell_type": "code",
   "execution_count": null,
   "metadata": {},
   "outputs": [],
   "source": []
  },
  {
   "cell_type": "code",
   "execution_count": 45,
   "metadata": {},
   "outputs": [
    {
     "data": {
      "text/latex": [
       "$\\displaystyle \\frac{p_{0}^{2}}{2} + \\frac{p_{1}^{2}}{2} + \\frac{p_{2}^{2}}{2} - \\frac{q_{0} q_{1}}{8} - \\frac{q_{0} q_{2}}{8} + \\frac{q_{0}^{2}}{4} - \\frac{q_{1} q_{0}}{8} - \\frac{q_{1} q_{2}}{8} + \\frac{q_{1}^{2}}{4} - \\frac{q_{2} q_{0}}{8} - \\frac{q_{2} q_{1}}{8} + \\frac{q_{2}^{2}}{4}$"
      ],
      "text/plain": [
       "p_{0}**2/2 + p_{1}**2/2 + p_{2}**2/2 - q_{0}*q_{1}/8 - q_{0}*q_{2}/8 + q_{0}**2/4 - q_{1}*q_{0}/8 - q_{1}*q_{2}/8 + q_{1}**2/4 - q_{2}*q_{0}/8 - q_{2}*q_{1}/8 + q_{2}**2/4"
      ]
     },
     "execution_count": 45,
     "metadata": {},
     "output_type": "execute_result"
    }
   ],
   "source": [
    "def potential(n):\n",
    "    return 0\n",
    "\n",
    "potentialSubs={}\n",
    "for n in range(1,N+1):\n",
    "    potentialSubs[V(qs[n])]=potential(n)\n",
    "\n",
    "aVal=1\n",
    "    \n",
    "ham=ham.subs(potentialSubs).subs(aLat,aVal)\n",
    "ham"
   ]
  },
  {
   "cell_type": "code",
   "execution_count": 46,
   "metadata": {},
   "outputs": [
    {
     "data": {
      "text/latex": [
       "$\\displaystyle - \\frac{a^{\\dagger}_{0} a^{\\dagger}_{1}}{16} - \\frac{a^{\\dagger}_{0} a^{\\dagger}_{2}}{16} + \\frac{3 a^{\\dagger}_{0} a_{0}}{8} - \\frac{a^{\\dagger}_{0} a_{1}}{16} - \\frac{a^{\\dagger}_{0} a_{2}}{16} - \\frac{\\left(a^{\\dagger}_{0}\\right)^{2}}{8} - \\frac{a^{\\dagger}_{1} a^{\\dagger}_{0}}{16} - \\frac{a^{\\dagger}_{1} a^{\\dagger}_{2}}{16} - \\frac{a^{\\dagger}_{1} a_{0}}{16} + \\frac{3 a^{\\dagger}_{1} a_{1}}{8} - \\frac{a^{\\dagger}_{1} a_{2}}{16} - \\frac{\\left(a^{\\dagger}_{1}\\right)^{2}}{8} - \\frac{a^{\\dagger}_{2} a^{\\dagger}_{0}}{16} - \\frac{a^{\\dagger}_{2} a^{\\dagger}_{1}}{16} - \\frac{a^{\\dagger}_{2} a_{0}}{16} - \\frac{a^{\\dagger}_{2} a_{1}}{16} + \\frac{3 a^{\\dagger}_{2} a_{2}}{8} - \\frac{\\left(a^{\\dagger}_{2}\\right)^{2}}{8} + \\frac{3 a_{0} a^{\\dagger}_{0}}{8} - \\frac{a_{0} a^{\\dagger}_{1}}{16} - \\frac{a_{0} a^{\\dagger}_{2}}{16} - \\frac{a_{0} a_{1}}{16} - \\frac{a_{0} a_{2}}{16} - \\frac{a_{0}^{2}}{8} - \\frac{a_{1} a^{\\dagger}_{0}}{16} + \\frac{3 a_{1} a^{\\dagger}_{1}}{8} - \\frac{a_{1} a^{\\dagger}_{2}}{16} - \\frac{a_{1} a_{0}}{16} - \\frac{a_{1} a_{2}}{16} - \\frac{a_{1}^{2}}{8} - \\frac{a_{2} a^{\\dagger}_{0}}{16} - \\frac{a_{2} a^{\\dagger}_{1}}{16} + \\frac{3 a_{2} a^{\\dagger}_{2}}{8} - \\frac{a_{2} a_{0}}{16} - \\frac{a_{2} a_{1}}{16} - \\frac{a_{2}^{2}}{8}$"
      ],
      "text/plain": [
       "-a^{\\dagger}_{0}*a^{\\dagger}_{1}/16 - a^{\\dagger}_{0}*a^{\\dagger}_{2}/16 + 3*a^{\\dagger}_{0}*a_{0}/8 - a^{\\dagger}_{0}*a_{1}/16 - a^{\\dagger}_{0}*a_{2}/16 - a^{\\dagger}_{0}**2/8 - a^{\\dagger}_{1}*a^{\\dagger}_{0}/16 - a^{\\dagger}_{1}*a^{\\dagger}_{2}/16 - a^{\\dagger}_{1}*a_{0}/16 + 3*a^{\\dagger}_{1}*a_{1}/8 - a^{\\dagger}_{1}*a_{2}/16 - a^{\\dagger}_{1}**2/8 - a^{\\dagger}_{2}*a^{\\dagger}_{0}/16 - a^{\\dagger}_{2}*a^{\\dagger}_{1}/16 - a^{\\dagger}_{2}*a_{0}/16 - a^{\\dagger}_{2}*a_{1}/16 + 3*a^{\\dagger}_{2}*a_{2}/8 - a^{\\dagger}_{2}**2/8 + 3*a_{0}*a^{\\dagger}_{0}/8 - a_{0}*a^{\\dagger}_{1}/16 - a_{0}*a^{\\dagger}_{2}/16 - a_{0}*a_{1}/16 - a_{0}*a_{2}/16 - a_{0}**2/8 - a_{1}*a^{\\dagger}_{0}/16 + 3*a_{1}*a^{\\dagger}_{1}/8 - a_{1}*a^{\\dagger}_{2}/16 - a_{1}*a_{0}/16 - a_{1}*a_{2}/16 - a_{1}**2/8 - a_{2}*a^{\\dagger}_{0}/16 - a_{2}*a^{\\dagger}_{1}/16 + 3*a_{2}*a^{\\dagger}_{2}/8 - a_{2}*a_{0}/16 - a_{2}*a_{1}/16 - a_{2}**2/8"
      ]
     },
     "execution_count": 46,
     "metadata": {},
     "output_type": "execute_result"
    }
   ],
   "source": [
    "m=1\n",
    "\n",
    "HOdofSubs = {}\n",
    "#offset because of BC\n",
    "for i in range(1,N+1):\n",
    "    HOdofSubs[qs[i]] = 0.5*sp.sqrt(2/m)*(aops[i] + adags[i])\n",
    "    HOdofSubs[ps[i]] = complex(0,1)*sp.sqrt(2*m)*(adags[i] - aops[i])/2 \n",
    "\n",
    "hoHam=sp.expand(ham.subs(HOdofSubs))\n",
    "hoHam=sp.nsimplify(hoHam,tolerance=1e-8)\n",
    "hoHam"
   ]
  },
  {
   "cell_type": "code",
   "execution_count": 47,
   "metadata": {},
   "outputs": [
    {
     "name": "stdout",
     "output_type": "stream",
     "text": [
      "[[1.12500000000000 0 -0.176776692271233 ... 0 0 0]\n",
      " [0 1.87499995529652 0 ... 0 0 0]\n",
      " [-0.176776692271233 0 2.62499995529652 ... 0 0 0]\n",
      " ...\n",
      " [0 0 0 ... 3.37499995529652 0 -0.306186228990555]\n",
      " [0 0 0 ... 0 4.12499995529652 0]\n",
      " [0 0 0 ... -0.306186228990555 0 3.37500000000000]]\n"
     ]
    },
    {
     "data": {
      "text/plain": [
       "array([0.8653307 +0.j, 0.91822773+0.j, 1.20834   +0.j, 1.4751848 +0.j,\n",
       "       1.4751848 +0.j, 1.5908326 +0.j, 1.6946908 +0.j, 1.6946908 +0.j,\n",
       "       2.044932  +0.j, 2.1453073 +0.j, 2.1814473 +0.j, 2.1814473 +0.j,\n",
       "       2.3267992 +0.j, 2.3267992 +0.j, 2.3393168 +0.j, 2.3393168 +0.j,\n",
       "       2.5307605 +0.j, 2.5807838 +0.j, 2.5807838 +0.j, 2.6289666 +0.j,\n",
       "       2.75      +0.j, 2.8610654 +0.j, 2.8943396 +0.j, 2.8943396 +0.j,\n",
       "       3.0365508 +0.j, 3.0365508 +0.j, 3.0659428 +0.j, 3.1264853 +0.j,\n",
       "       3.2905416 +0.j, 3.2905416 +0.j, 3.3886526 +0.j, 3.3886526 +0.j,\n",
       "       3.5273242 +0.j, 3.6005867 +0.j, 3.6207943 +0.j, 3.6207943 +0.j,\n",
       "       3.6527712 +0.j, 3.6527712 +0.j, 3.75      +0.j, 3.75      +0.j,\n",
       "       3.8454235 +0.j, 3.8454235 +0.j, 3.9405062 +0.j, 3.9738288 +0.j,\n",
       "       3.9738288 +0.j, 4.0834284 +0.j, 4.0834284 +0.j, 4.0928097 +0.j,\n",
       "       4.304533  +0.j, 4.40088   +0.j, 4.444488  +0.j, 4.444488  +0.j,\n",
       "       4.702984  +0.j, 4.702984  +0.j, 4.75      +0.j, 4.783016  +0.j,\n",
       "       4.848633  +0.j, 4.848633  +0.j, 5.2203193 +0.j, 5.2203193 +0.j,\n",
       "       5.3859253 +0.j, 5.3990235 +0.j, 5.3990235 +0.j, 5.978227  +0.j],\n",
       "      dtype=complex64)"
      ]
     },
     "execution_count": 47,
     "metadata": {},
     "output_type": "execute_result"
    }
   ],
   "source": [
    "cutoff=4\n",
    "\n",
    "hamMat=convert_boson_to_matrix(hoHam,cutoff,3,aops,adags)\n",
    "print(hamMat)\n",
    "ens=np.sort(np.linalg.eig(hamMat.astype(np.complex64))[0])\n",
    "ens=ens.round(8)\n",
    "\n",
    "np.isreal(ens).all()\n",
    "\n",
    "ens"
   ]
  },
  {
   "cell_type": "code",
   "execution_count": null,
   "metadata": {},
   "outputs": [],
   "source": []
  }
 ],
 "metadata": {
  "kernelspec": {
   "display_name": "Python 3",
   "language": "python",
   "name": "python3"
  },
  "language_info": {
   "codemirror_mode": {
    "name": "ipython",
    "version": 3
   },
   "file_extension": ".py",
   "mimetype": "text/x-python",
   "name": "python",
   "nbconvert_exporter": "python",
   "pygments_lexer": "ipython3",
   "version": "3.9.1"
  }
 },
 "nbformat": 4,
 "nbformat_minor": 5
}
