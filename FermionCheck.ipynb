{
 "cells": [
  {
   "cell_type": "code",
   "execution_count": 1,
   "id": "c76fe086-8c00-4fa8-8467-86fc8cb0c050",
   "metadata": {},
   "outputs": [],
   "source": [
    "import sympy as sp\n",
    "from ham_to_sparse_matrix import *\n",
    "from constants import *\n",
    "import scipy.sparse.linalg"
   ]
  },
  {
   "cell_type": "code",
   "execution_count": 4,
   "id": "4ced2ea0-6461-4e27-9fb5-0daea41a5b3d",
   "metadata": {},
   "outputs": [],
   "source": [
    "N=3\n",
    "\n",
    "aops=[SiteSymbol('a',str(i)) for i in range(-1,N+1,1)]\n",
    "adags=[SiteSymbol('a^{\\dagger}',str(i)) for i in range(-1,N+1,1)]\n",
    "xs=[SiteSymbol('\\chi',str(i)) for i in range(-1,N+1,1)]\n",
    "xdags=[SiteSymbol('\\chi^{\\dagger}',str(i)) for i in range(-1,N+1,1)]"
   ]
  },
  {
   "cell_type": "code",
   "execution_count": 13,
   "id": "d9b69f0e-e06f-47d5-85c4-ac0004bd44c7",
   "metadata": {},
   "outputs": [
    {
     "data": {
      "text/latex": [
       "$\\displaystyle \\chi^{\\dagger}_{0} \\chi_{0}$"
      ],
      "text/plain": [
       "\\chi^{\\dagger}_{0}*\\chi_{0}"
      ]
     },
     "execution_count": 13,
     "metadata": {},
     "output_type": "execute_result"
    }
   ],
   "source": [
    "tstTerm=xdags[1]*xs[1]\n",
    "tstTerm"
   ]
  },
  {
   "cell_type": "code",
   "execution_count": 14,
   "id": "63a6e352-2317-4eca-903a-1da4f3e3f33e",
   "metadata": {},
   "outputs": [
    {
     "data": {
      "text/plain": [
       "array([[0.+0.j, 0.+0.j],\n",
       "       [0.+0.j, 1.+0.j]])"
      ]
     },
     "execution_count": 14,
     "metadata": {},
     "output_type": "execute_result"
    }
   ],
   "source": [
    "np.matmul(xDagMat(),xMat())"
   ]
  },
  {
   "cell_type": "code",
   "execution_count": 12,
   "id": "10542938-3aa8-4e75-a3c7-6ccc76d8b1be",
   "metadata": {},
   "outputs": [
    {
     "data": {
      "text/plain": [
       "<64x64 sparse matrix of type '<class 'numpy.complex64'>'\n",
       "\twith 32 stored elements in Compressed Sparse Row format>"
      ]
     },
     "execution_count": 12,
     "metadata": {},
     "output_type": "execute_result"
    }
   ],
   "source": [
    "cutoff=2\n",
    "tstMat=convert_term_to_matrix(tstTerm,cutoff,N,aops,adags,xs,xdags)\n",
    "tstMat"
   ]
  },
  {
   "cell_type": "code",
   "execution_count": 10,
   "id": "7d43c32b-6292-46b4-8625-cdbda51c64d9",
   "metadata": {},
   "outputs": [
    {
     "name": "stdout",
     "output_type": "stream",
     "text": [
      "  (16, 16)\t(1+0j)\n",
      "  (17, 17)\t(1+0j)\n",
      "  (18, 18)\t(1+0j)\n",
      "  (19, 19)\t(1+0j)\n",
      "  (20, 20)\t(1+0j)\n",
      "  (21, 21)\t(1+0j)\n",
      "  (22, 22)\t(1+0j)\n",
      "  (23, 23)\t(1+0j)\n",
      "  (24, 24)\t(1+0j)\n",
      "  (25, 25)\t(1+0j)\n",
      "  (26, 26)\t(1+0j)\n",
      "  (27, 27)\t(1+0j)\n",
      "  (28, 28)\t(1+0j)\n",
      "  (29, 29)\t(1+0j)\n",
      "  (30, 30)\t(1+0j)\n",
      "  (31, 31)\t(1+0j)\n",
      "  (48, 48)\t(1+0j)\n",
      "  (49, 49)\t(1+0j)\n",
      "  (50, 50)\t(1+0j)\n",
      "  (51, 51)\t(1+0j)\n",
      "  (52, 52)\t(1+0j)\n",
      "  (53, 53)\t(1+0j)\n",
      "  (54, 54)\t(1+0j)\n",
      "  (55, 55)\t(1+0j)\n",
      "  (56, 56)\t(1+0j)\n",
      "  (57, 57)\t(1+0j)\n",
      "  (58, 58)\t(1+0j)\n",
      "  (59, 59)\t(1+0j)\n",
      "  (60, 60)\t(1+0j)\n",
      "  (61, 61)\t(1+0j)\n",
      "  (62, 62)\t(1+0j)\n",
      "  (63, 63)\t(1+0j)\n"
     ]
    }
   ],
   "source": [
    "print(tstMat)"
   ]
  },
  {
   "cell_type": "code",
   "execution_count": 15,
   "id": "fafb65f4-036e-4ccf-8393-1237ea062e1d",
   "metadata": {},
   "outputs": [
    {
     "data": {
      "text/latex": [
       "$\\displaystyle \\chi^{\\dagger}_{0} \\chi_{1}$"
      ],
      "text/plain": [
       "\\chi^{\\dagger}_{0}*\\chi_{1}"
      ]
     },
     "execution_count": 15,
     "metadata": {},
     "output_type": "execute_result"
    }
   ],
   "source": [
    "tstTerm=xdags[1]*xs[2]\n",
    "tstTerm"
   ]
  },
  {
   "cell_type": "code",
   "execution_count": 16,
   "id": "4e087531-737b-4ec2-b1ac-8a45025e0fe3",
   "metadata": {},
   "outputs": [
    {
     "data": {
      "text/plain": [
       "<64x64 sparse matrix of type '<class 'numpy.complex64'>'\n",
       "\twith 16 stored elements in Compressed Sparse Row format>"
      ]
     },
     "execution_count": 16,
     "metadata": {},
     "output_type": "execute_result"
    }
   ],
   "source": [
    "cutoff=2\n",
    "tstMat=convert_term_to_matrix(tstTerm,cutoff,N,aops,adags,xs,xdags)\n",
    "tstMat"
   ]
  },
  {
   "cell_type": "code",
   "execution_count": 18,
   "id": "6c2020e4-3a70-49ff-8294-89b9e80008cb",
   "metadata": {},
   "outputs": [
    {
     "name": "stdout",
     "output_type": "stream",
     "text": [
      "  (16, 4)\t(1+0j)\n",
      "  (17, 5)\t(1+0j)\n",
      "  (18, 6)\t(1+0j)\n",
      "  (19, 7)\t(1+0j)\n",
      "  (24, 12)\t(1+0j)\n",
      "  (25, 13)\t(1+0j)\n",
      "  (26, 14)\t(1+0j)\n",
      "  (27, 15)\t(1+0j)\n",
      "  (48, 36)\t(1+0j)\n",
      "  (49, 37)\t(1+0j)\n",
      "  (50, 38)\t(1+0j)\n",
      "  (51, 39)\t(1+0j)\n",
      "  (56, 44)\t(1+0j)\n",
      "  (57, 45)\t(1+0j)\n",
      "  (58, 46)\t(1+0j)\n",
      "  (59, 47)\t(1+0j)\n"
     ]
    }
   ],
   "source": [
    "print(tstMat)"
   ]
  },
  {
   "cell_type": "code",
   "execution_count": null,
   "id": "9a8a6617-30e4-464a-96f8-18eb11ad880a",
   "metadata": {},
   "outputs": [],
   "source": []
  }
 ],
 "metadata": {
  "kernelspec": {
   "display_name": "Python 3 (ipykernel)",
   "language": "python",
   "name": "python3"
  },
  "language_info": {
   "codemirror_mode": {
    "name": "ipython",
    "version": 3
   },
   "file_extension": ".py",
   "mimetype": "text/x-python",
   "name": "python",
   "nbconvert_exporter": "python",
   "pygments_lexer": "ipython3",
   "version": "3.9.7"
  }
 },
 "nbformat": 4,
 "nbformat_minor": 5
}
