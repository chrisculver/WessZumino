{
 "cells": [
  {
   "cell_type": "code",
   "execution_count": 1,
   "metadata": {},
   "outputs": [],
   "source": [
    "%load_ext autoreload\n",
    "%autoreload 2"
   ]
  },
  {
   "cell_type": "code",
   "execution_count": 3,
   "metadata": {},
   "outputs": [],
   "source": [
    "sys.path.append('..')\n",
    "from src.ham_to_sparse_matrix import *\n",
    "from src.constants import *\n",
    "from src.matrix_to_ps import matrix_to_pauli_strings\n",
    "from src.binary_encodings import *\n",
    "\n",
    "import sympy as sp\n",
    "import sys\n",
    "import scipy.sparse.linalg"
   ]
  },
  {
   "cell_type": "code",
   "execution_count": 4,
   "metadata": {},
   "outputs": [],
   "source": [
    "bosonNI=sp.expand( pn**2/(2*aLat) + (aLat/2)*((qnP1-qnM1)/(2*aLat))**2 )\n",
    "bosonI=sp.expand( (aLat/2)*V(qn)**2 + aLat*V(qn)*(qnP1-qnM1)/(4*aLat) + aLat*(qnP1-qnM1)*V(qn)/(4*aLat) )\n",
    "fermionNI=sp.expand( -(xdnP1*xn+xdn*xnP1)/(2*aLat) )\n",
    "fermionI=sp.expand( sp.diff(V(qn),qn)*(xdn*xn-(1/2)) )"
   ]
  },
  {
   "cell_type": "code",
   "execution_count": 5,
   "metadata": {},
   "outputs": [],
   "source": [
    "N=2\n",
    "aVal=1\n",
    "\n",
    "# depends on finite-difference method\n",
    "qs=[SiteSymbol('q',str(i)) for i in range(-1,N+1,1)]\n",
    "# maybe make qs a normal site list\n",
    "# and make an extra boundaryQs list for q[-1], q[N]\n",
    "# counting would be normal computer science way for rest of code.\n",
    "\n",
    "ps=[SiteSymbol('p',str(i)) for i in range(-1,N+1,1)] # don't really need extras\n",
    "aops=[SiteSymbol('a',str(i)) for i in range(-1,N+1,1)]\n",
    "adags=[SiteSymbol('a^{\\dagger}',str(i)) for i in range(-1,N+1,1)]\n",
    "xs=[SiteSymbol('\\chi',str(i)) for i in range(-1,N+1,1)]\n",
    "xdags=[SiteSymbol('\\chi^{\\dagger}',str(i)) for i in range(-1,N+1,1)]\n",
    "\n",
    "# note this is exactly hardcoded for this finite difference method.\n",
    "bcType = 'dirichlet'\n",
    "boundaryConditions = {}\n",
    "if bcType == 'periodic':\n",
    "    boundaryConditions = {qs[0]: qs[N], qs[N+1]: qs[1],\n",
    "                          xs[0]: -xs[N], xs[N+1]: -xs[1], \n",
    "                          xdags[0]: -xdags[N],  xdags[N+1]: -xdags[1]\n",
    "                         }\n",
    "    \n",
    "elif bcType == 'dirichlet':\n",
    "    boundaryConditions = { qs[0]: 0, qs[N+1]: 0,\n",
    "                          xs[0]: 0, xs[N+1]: 0,\n",
    "                          xdags[0]: 0, xdags[N+1]:0\n",
    "                         }"
   ]
  },
  {
   "cell_type": "code",
   "execution_count": 6,
   "metadata": {},
   "outputs": [
    {
     "data": {
      "text/latex": [
       "$\\displaystyle \\chi^{\\dagger}_{0} \\chi_{0} - \\frac{\\chi^{\\dagger}_{0} \\chi_{1}}{2} - \\frac{\\chi^{\\dagger}_{1} \\chi_{0}}{2} - \\chi^{\\dagger}_{1} \\chi_{1} + \\frac{p_{0}^{2}}{2} + \\frac{p_{1}^{2}}{2} + \\frac{5 q_{0}^{2}}{8} + \\frac{5 q_{1}^{2}}{8}$"
      ],
      "text/plain": [
       "\\chi^{\\dagger}_{0}*\\chi_{0} - \\chi^{\\dagger}_{0}*\\chi_{1}/2 - \\chi^{\\dagger}_{1}*\\chi_{0}/2 - \\chi^{\\dagger}_{1}*\\chi_{1} + p_{0}**2/2 + p_{1}**2/2 + 5*q_{0}**2/8 + 5*q_{1}**2/8"
      ]
     },
     "execution_count": 6,
     "metadata": {},
     "output_type": "execute_result"
    }
   ],
   "source": [
    "ham=0\n",
    "\n",
    "mass=1\n",
    "\n",
    "for i in range(1,N+1):\n",
    "    ham+=(bosonNI+bosonI+fermionNI).subs({\n",
    "        pn: ps[i],\n",
    "        qn: qs[i], qnP1: qs[i+1], qnM1: qs[i-1],\n",
    "        xn: xs[i], xnP1: xs[i+1],\n",
    "        xdn: xdags[i], xdnP1: xdags[i+1]\n",
    "    }).subs(boundaryConditions)\n",
    "\n",
    "def potential(n):\n",
    "    # m*q with m=1\n",
    "    return -mass*qs[n]\n",
    "\n",
    "potentialSubs={}\n",
    "for n in range(1,N+1):\n",
    "    potentialSubs[V(qs[n])]=potential(n)\n",
    "\n",
    "\n",
    "ham=sp.simplify(ham.subs(potentialSubs).subs(aLat,aVal))\n",
    "\n",
    "for i in range(1,N+1):\n",
    "    if i%2==0:\n",
    "        ham+=sp.simplify(fermionI.subs({qn: qs[i], xn: xs[i], xdn: xdags[i]}).subs(potentialSubs))\n",
    "    else:\n",
    "        ham-=sp.simplify(fermionI.subs({qn: qs[i], xn: xs[i], xdn: xdags[i]}).subs(potentialSubs))\n",
    "ham=sp.simplify(ham.subs(aLat,aVal))\n",
    "sp.expand(ham)"
   ]
  },
  {
   "cell_type": "code",
   "execution_count": 7,
   "metadata": {},
   "outputs": [
    {
     "data": {
      "text/latex": [
       "$\\displaystyle \\chi^{\\dagger}_{0} \\chi_{0} - \\frac{\\chi^{\\dagger}_{0} \\chi_{1}}{2} - \\frac{\\chi^{\\dagger}_{1} \\chi_{0}}{2} - \\chi^{\\dagger}_{1} \\chi_{1} + \\frac{9 a^{\\dagger}_{0} a_{0}}{16} + \\frac{\\left(a^{\\dagger}_{0}\\right)^{2}}{16} + \\frac{9 a^{\\dagger}_{1} a_{1}}{16} + \\frac{\\left(a^{\\dagger}_{1}\\right)^{2}}{16} + \\frac{9 a_{0} a^{\\dagger}_{0}}{16} + \\frac{a_{0}^{2}}{16} + \\frac{9 a_{1} a^{\\dagger}_{1}}{16} + \\frac{a_{1}^{2}}{16}$"
      ],
      "text/plain": [
       "\\chi^{\\dagger}_{0}*\\chi_{0} - \\chi^{\\dagger}_{0}*\\chi_{1}/2 - \\chi^{\\dagger}_{1}*\\chi_{0}/2 - \\chi^{\\dagger}_{1}*\\chi_{1} + 9*a^{\\dagger}_{0}*a_{0}/16 + a^{\\dagger}_{0}**2/16 + 9*a^{\\dagger}_{1}*a_{1}/16 + a^{\\dagger}_{1}**2/16 + 9*a_{0}*a^{\\dagger}_{0}/16 + a_{0}**2/16 + 9*a_{1}*a^{\\dagger}_{1}/16 + a_{1}**2/16"
      ]
     },
     "execution_count": 7,
     "metadata": {},
     "output_type": "execute_result"
    }
   ],
   "source": [
    "m=1\n",
    "\n",
    "HOdofSubs = {}\n",
    "#offset because of BC\n",
    "for i in range(1,N+1):\n",
    "    HOdofSubs[qs[i]] = 0.5*sp.sqrt(2/m)*(aops[i] + adags[i])\n",
    "    HOdofSubs[ps[i]] = complex(0,1)*sp.sqrt(2*m)*(adags[i] - aops[i])/2 \n",
    "\n",
    "hoHam=sp.expand(ham.subs(HOdofSubs))\n",
    "hoHam=sp.nsimplify(hoHam,tolerance=1e-8)\n",
    "hoHam"
   ]
  },
  {
   "cell_type": "code",
   "execution_count": null,
   "metadata": {},
   "outputs": [],
   "source": []
  },
  {
   "cell_type": "code",
   "execution_count": 10,
   "metadata": {},
   "outputs": [],
   "source": [
    "from src.qiskit_utilities import *\n",
    "from qiskit import Aer\n",
    "from qiskit.utils import QuantumInstance\n",
    "\n",
    "from qiskit.algorithms import VQE\n",
    "from qiskit.algorithms.optimizers import COBYLA\n",
    "from qiskit.circuit.library import RealAmplitudes\n",
    "\n",
    "from qiskit import qpy\n",
    "from src.timer import *\n",
    "\n",
    "import pickle\n",
    "\n",
    "from qiskit import QuantumCircuit, transpile\n",
    "\n",
    "\n",
    "backend = Aer.get_backend('statevector_simulator')\n",
    "qinstance = QuantumInstance(backend, seed_simulator=2, seed_transpiler=2)"
   ]
  },
  {
   "cell_type": "code",
   "execution_count": 19,
   "metadata": {},
   "outputs": [
    {
     "name": "stdout",
     "output_type": "stream",
     "text": [
      "--------- Lambda =  2  ----------\n",
      "2 & 6.97e-03 & 6.97e-03 \\\\\n",
      "gates for one trotter step =  8\n",
      "--------- Lambda =  3  ----------\n",
      "3 & -2.02e-02 & 1.08e-08 \\\\\n",
      "gates for one trotter step =  3608\n",
      "--------- Lambda =  4  ----------\n",
      "4 & 3.22e-05 & 2.39e-04 \\\\\n",
      "gates for one trotter step =  252\n",
      "--------- Lambda =  5  ----------\n",
      "5 & -5.40e-05 & 6.62e-04 \\\\\n",
      "gates for one trotter step =  11104\n",
      "--------- Lambda =  6  ----------\n",
      "6 & 1.26e-07 & 1.97e-04 \\\\\n",
      "gates for one trotter step =  14256\n",
      "--------- Lambda =  7  ----------\n",
      "7 & -1.75e-07 & 1.42e-02 \\\\\n",
      "gates for one trotter step =  30590\n",
      "--------- Lambda =  8  ----------\n",
      "8 & 1.04e-09 & 9.70e-02 \\\\\n",
      "gates for one trotter step =  2556\n"
     ]
    }
   ],
   "source": [
    "for cutoff in [2,3,4,5,6,7,8]:\n",
    "    print(\"--------- Lambda = \", cutoff, \" ----------\")\n",
    "    hamMat=convert_to_matrix(hoHam,cutoff,N,aops,adags,xs,xdags)\n",
    "    ens=scipy.sparse.linalg.eigs(hamMat,k=6,sigma=0.0)[0]\n",
    "\n",
    "    ps=matrix_to_pauli_strings(hamMat,standard_encode)\n",
    "    op = pauli_string_to_op(ps)\n",
    "    with open(\"Data/op_quad_cm0p2_lambda{}.pickle\".format(cutoff), \"wb\") as f:\n",
    "        pickle.dump(op, f)\n",
    "\n",
    "    nq=math.floor(math.log2(hamMat.shape[0]))\n",
    "    if not math.log2(hamMat.shape[0]).is_integer():\n",
    "        nq+=1\n",
    "\n",
    "    ansatz = RealAmplitudes(nq, reps=cutoff)\n",
    "\n",
    "    \n",
    "    vqe = VQE(ansatz=ansatz, optimizer=COBYLA(), quantum_instance=qinstance)\n",
    "    results=[]\n",
    "    for i in range(10):\n",
    "        results.append(vqe.compute_minimum_eigenvalue(op).eigenvalue.real)\n",
    "\n",
    "    print(\"{} & {:.2e} & {:.2e} \\\\\\\\\".format(cutoff, np.min(ens).real, np.array(results).min()))\n",
    "    \n",
    "    qc = QuantumCircuit(nq,nq)\n",
    "    qc.append(op_to_trotter(op,0.1), [i for i in range(nq)])\n",
    "    tmp = transpile(qc, basis_gates = ['cx', 'u1', 'u2', 'u3', 'H', 'X', 'Y', 'Z'])\n",
    "    print(\"gates for one trotter step = \", tmp.count_ops().get('cx'))"
   ]
  },
  {
   "cell_type": "code",
   "execution_count": 77,
   "metadata": {},
   "outputs": [],
   "source": []
  },
  {
   "cell_type": "code",
   "execution_count": null,
   "metadata": {},
   "outputs": [],
   "source": []
  }
 ],
 "metadata": {
  "kernelspec": {
   "display_name": "QuantumComputing",
   "language": "python",
   "name": "python3"
  },
  "language_info": {
   "codemirror_mode": {
    "name": "ipython",
    "version": 3
   },
   "file_extension": ".py",
   "mimetype": "text/x-python",
   "name": "python",
   "nbconvert_exporter": "python",
   "pygments_lexer": "ipython3",
   "version": "3.10.8"
  },
  "orig_nbformat": 4,
  "vscode": {
   "interpreter": {
    "hash": "dfc1513c9f5f8583c962b570c720f173469c60e3f15ab7ebf484195cbf280654"
   }
  }
 },
 "nbformat": 4,
 "nbformat_minor": 2
}
