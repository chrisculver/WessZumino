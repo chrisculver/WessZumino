{
 "cells": [
  {
   "cell_type": "code",
   "execution_count": 13,
   "metadata": {},
   "outputs": [
    {
     "name": "stdout",
     "output_type": "stream",
     "text": [
      "The autoreload extension is already loaded. To reload it, use:\n",
      "  %reload_ext autoreload\n"
     ]
    }
   ],
   "source": [
    "%load_ext autoreload\n",
    "%autoreload 2"
   ]
  },
  {
   "cell_type": "code",
   "execution_count": 14,
   "metadata": {},
   "outputs": [],
   "source": [
    "sys.path.append('..')\n",
    "from src.ham_to_sparse_matrix import *\n",
    "from src.constants import *\n",
    "from src.matrix_to_ps import matrix_to_pauli_strings\n",
    "from src.binary_encodings import *\n",
    "\n",
    "import sympy as sp\n",
    "import sys\n",
    "import scipy.sparse.linalg\n",
    "\n",
    "from src.qiskit_utilities import *\n",
    "from qiskit import Aer\n",
    "from qiskit.utils import QuantumInstance\n",
    "\n",
    "from qiskit.algorithms import VQE\n",
    "from qiskit.algorithms.optimizers import COBYLA\n",
    "from qiskit.circuit.library import RealAmplitudes\n",
    "\n",
    "from qiskit import qpy\n",
    "from src.timer import *\n",
    "\n",
    "import pickle\n",
    "\n",
    "from qiskit import QuantumCircuit, transpile\n",
    "\n",
    "\n",
    "backend = Aer.get_backend('statevector_simulator')\n",
    "qinstance = QuantumInstance(backend, seed_simulator=2, seed_transpiler=2)"
   ]
  },
  {
   "cell_type": "code",
   "execution_count": 15,
   "metadata": {},
   "outputs": [],
   "source": [
    "bosonNI=sp.expand( pn**2/(2*aLat) + (aLat/2)*((qnP1-qnM1)/(2*aLat))**2 )\n",
    "bosonI=sp.expand( (aLat/2)*V(qn)**2 + aLat*V(qn)*(qnP1-qnM1)/(4*aLat) + aLat*(qnP1-qnM1)*V(qn)/(4*aLat) )\n",
    "fermionNI=sp.expand( -(xdnP1*xn+xdn*xnP1)/(2*aLat) )\n",
    "fermionI=sp.expand( sp.diff(V(qn),qn)*(xdn*xn-(1/2)) )\n",
    "\n",
    "N=2\n",
    "aVal=1\n",
    "\n",
    "# depends on finite-difference method\n",
    "qs=[SiteSymbol('q',str(i)) for i in range(-1,N+1,1)]\n",
    "# maybe make qs a normal site list\n",
    "# and make an extra boundaryQs list for q[-1], q[N]\n",
    "# counting would be normal computer science way for rest of code.\n",
    "\n",
    "ps=[SiteSymbol('p',str(i)) for i in range(-1,N+1,1)] # don't really need extras\n",
    "aops=[SiteSymbol('a',str(i)) for i in range(-1,N+1,1)]\n",
    "adags=[SiteSymbol('a^{\\dagger}',str(i)) for i in range(-1,N+1,1)]\n",
    "xs=[SiteSymbol('\\chi',str(i)) for i in range(-1,N+1,1)]\n",
    "xdags=[SiteSymbol('\\chi^{\\dagger}',str(i)) for i in range(-1,N+1,1)]\n",
    "\n",
    "# note this is exactly hardcoded for this finite difference method.\n",
    "bcType = 'dirichlet'\n",
    "boundaryConditions = {}\n",
    "if bcType == 'periodic':\n",
    "    boundaryConditions = {qs[0]: qs[N], qs[N+1]: qs[1],\n",
    "                          xs[0]: -xs[N], xs[N+1]: -xs[1], \n",
    "                          xdags[0]: -xdags[N],  xdags[N+1]: -xdags[1]\n",
    "                         }\n",
    "    \n",
    "elif bcType == 'dirichlet':\n",
    "    boundaryConditions = { qs[0]: 0, qs[N+1]: 0,\n",
    "                          xs[0]: 0, xs[N+1]: 0,\n",
    "                          xdags[0]: 0, xdags[N+1]:0\n",
    "                         }"
   ]
  },
  {
   "attachments": {},
   "cell_type": "markdown",
   "metadata": {},
   "source": [
    "## CM -0.2"
   ]
  },
  {
   "cell_type": "code",
   "execution_count": 4,
   "metadata": {},
   "outputs": [],
   "source": []
  },
  {
   "cell_type": "code",
   "execution_count": 18,
   "metadata": {},
   "outputs": [
    {
     "data": {
      "text/latex": [
       "$\\displaystyle \\frac{1}{25} - \\frac{\\chi^{\\dagger}_{0} \\chi_{1}}{2} - \\frac{\\chi^{\\dagger}_{1} \\chi_{0}}{2} + \\frac{77541356 a^{\\dagger}_{0}}{99690943} - \\frac{131836323 a^{\\dagger}_{0} \\chi^{\\dagger}_{0} \\chi_{0}}{93222358} - \\frac{3998607 a^{\\dagger}_{0} a^{\\dagger}_{1} a_{1}}{45239074} - \\frac{3998607 a^{\\dagger}_{0} \\left(a^{\\dagger}_{1}\\right)^{2}}{45239074} + \\frac{17 a^{\\dagger}_{0} a_{0}}{80} + \\frac{a^{\\dagger}_{0} a_{0} a^{\\dagger}_{0} a_{0}}{8} + \\frac{a^{\\dagger}_{0} a_{0} \\left(a^{\\dagger}_{0}\\right)^{2}}{8} + \\frac{3998607 a^{\\dagger}_{0} a_{0} a^{\\dagger}_{1}}{45239074} + \\frac{3998607 a^{\\dagger}_{0} a_{0} a_{1}}{45239074} + \\frac{a^{\\dagger}_{0} a_{0}^{2} a^{\\dagger}_{0}}{8} + \\frac{a^{\\dagger}_{0} a_{0}^{3}}{8} - \\frac{3998607 a^{\\dagger}_{0} a_{1} a^{\\dagger}_{1}}{45239074} - \\frac{3998607 a^{\\dagger}_{0} a_{1}^{2}}{45239074} - \\frac{23 \\left(a^{\\dagger}_{0}\\right)^{2}}{80} + \\frac{3998607 \\left(a^{\\dagger}_{0}\\right)^{2} a^{\\dagger}_{1}}{45239074} + \\frac{\\left(a^{\\dagger}_{0}\\right)^{2} a_{0} a^{\\dagger}_{0}}{8} + \\frac{\\left(a^{\\dagger}_{0}\\right)^{2} a_{0}^{2}}{8} + \\frac{3998607 \\left(a^{\\dagger}_{0}\\right)^{2} a_{1}}{45239074} + \\frac{\\left(a^{\\dagger}_{0}\\right)^{3} a_{0}}{8} + \\frac{\\left(a^{\\dagger}_{0}\\right)^{4}}{8} - \\frac{77541356 a^{\\dagger}_{1}}{99690943} + \\frac{131836323 a^{\\dagger}_{1} \\chi^{\\dagger}_{1} \\chi_{1}}{93222358} + \\frac{3998607 a^{\\dagger}_{1} a^{\\dagger}_{0} a_{0}}{45239074} + \\frac{3998607 a^{\\dagger}_{1} \\left(a^{\\dagger}_{0}\\right)^{2}}{45239074} + \\frac{3998607 a^{\\dagger}_{1} a_{0} a^{\\dagger}_{0}}{45239074} + \\frac{3998607 a^{\\dagger}_{1} a_{0}^{2}}{45239074} + \\frac{17 a^{\\dagger}_{1} a_{1}}{80} - \\frac{3998607 a^{\\dagger}_{1} a_{1} a^{\\dagger}_{0}}{45239074} + \\frac{a^{\\dagger}_{1} a_{1} a^{\\dagger}_{1} a_{1}}{8} + \\frac{a^{\\dagger}_{1} a_{1} \\left(a^{\\dagger}_{1}\\right)^{2}}{8} - \\frac{3998607 a^{\\dagger}_{1} a_{1} a_{0}}{45239074} + \\frac{a^{\\dagger}_{1} a_{1}^{2} a^{\\dagger}_{1}}{8} + \\frac{a^{\\dagger}_{1} a_{1}^{3}}{8} - \\frac{23 \\left(a^{\\dagger}_{1}\\right)^{2}}{80} - \\frac{3998607 \\left(a^{\\dagger}_{1}\\right)^{2} a^{\\dagger}_{0}}{45239074} - \\frac{3998607 \\left(a^{\\dagger}_{1}\\right)^{2} a_{0}}{45239074} + \\frac{\\left(a^{\\dagger}_{1}\\right)^{2} a_{1} a^{\\dagger}_{1}}{8} + \\frac{\\left(a^{\\dagger}_{1}\\right)^{2} a_{1}^{2}}{8} + \\frac{\\left(a^{\\dagger}_{1}\\right)^{3} a_{1}}{8} + \\frac{\\left(a^{\\dagger}_{1}\\right)^{4}}{8} + \\frac{77541356 a_{0}}{99690943} - \\frac{131836323 a_{0} \\chi^{\\dagger}_{0} \\chi_{0}}{93222358} + \\frac{17 a_{0} a^{\\dagger}_{0}}{80} + \\frac{3998607 a_{0} a^{\\dagger}_{0} a^{\\dagger}_{1}}{45239074} + \\frac{a_{0} a^{\\dagger}_{0} a_{0} a^{\\dagger}_{0}}{8} + \\frac{a_{0} a^{\\dagger}_{0} a_{0}^{2}}{8} + \\frac{3998607 a_{0} a^{\\dagger}_{0} a_{1}}{45239074} + \\frac{a_{0} \\left(a^{\\dagger}_{0}\\right)^{2} a_{0}}{8} + \\frac{a_{0} \\left(a^{\\dagger}_{0}\\right)^{3}}{8} - \\frac{3998607 a_{0} a^{\\dagger}_{1} a_{1}}{45239074} - \\frac{3998607 a_{0} \\left(a^{\\dagger}_{1}\\right)^{2}}{45239074} - \\frac{3998607 a_{0} a_{1} a^{\\dagger}_{1}}{45239074} - \\frac{3998607 a_{0} a_{1}^{2}}{45239074} - \\frac{23 a_{0}^{2}}{80} + \\frac{a_{0}^{2} a^{\\dagger}_{0} a_{0}}{8} + \\frac{a_{0}^{2} \\left(a^{\\dagger}_{0}\\right)^{2}}{8} + \\frac{3998607 a_{0}^{2} a^{\\dagger}_{1}}{45239074} + \\frac{3998607 a_{0}^{2} a_{1}}{45239074} + \\frac{a_{0}^{3} a^{\\dagger}_{0}}{8} + \\frac{a_{0}^{4}}{8} - \\frac{77541356 a_{1}}{99690943} + \\frac{131836323 a_{1} \\chi^{\\dagger}_{1} \\chi_{1}}{93222358} + \\frac{3998607 a_{1} a^{\\dagger}_{0} a_{0}}{45239074} + \\frac{3998607 a_{1} \\left(a^{\\dagger}_{0}\\right)^{2}}{45239074} + \\frac{17 a_{1} a^{\\dagger}_{1}}{80} - \\frac{3998607 a_{1} a^{\\dagger}_{1} a^{\\dagger}_{0}}{45239074} - \\frac{3998607 a_{1} a^{\\dagger}_{1} a_{0}}{45239074} + \\frac{a_{1} a^{\\dagger}_{1} a_{1} a^{\\dagger}_{1}}{8} + \\frac{a_{1} a^{\\dagger}_{1} a_{1}^{2}}{8} + \\frac{a_{1} \\left(a^{\\dagger}_{1}\\right)^{2} a_{1}}{8} + \\frac{a_{1} \\left(a^{\\dagger}_{1}\\right)^{3}}{8} + \\frac{3998607 a_{1} a_{0} a^{\\dagger}_{0}}{45239074} + \\frac{3998607 a_{1} a_{0}^{2}}{45239074} - \\frac{23 a_{1}^{2}}{80} - \\frac{3998607 a_{1}^{2} a^{\\dagger}_{0}}{45239074} + \\frac{a_{1}^{2} a^{\\dagger}_{1} a_{1}}{8} + \\frac{a_{1}^{2} \\left(a^{\\dagger}_{1}\\right)^{2}}{8} - \\frac{3998607 a_{1}^{2} a_{0}}{45239074} + \\frac{a_{1}^{3} a^{\\dagger}_{1}}{8} + \\frac{a_{1}^{4}}{8}$"
      ],
      "text/plain": [
       "1/25 - \\chi^{\\dagger}_{0}*\\chi_{1}/2 - \\chi^{\\dagger}_{1}*\\chi_{0}/2 + 77541356*a^{\\dagger}_{0}/99690943 - 131836323*a^{\\dagger}_{0}*\\chi^{\\dagger}_{0}*\\chi_{0}/93222358 - 3998607*a^{\\dagger}_{0}*a^{\\dagger}_{1}*a_{1}/45239074 - 3998607*a^{\\dagger}_{0}*a^{\\dagger}_{1}**2/45239074 + 17*a^{\\dagger}_{0}*a_{0}/80 + a^{\\dagger}_{0}*a_{0}*a^{\\dagger}_{0}*a_{0}/8 + a^{\\dagger}_{0}*a_{0}*a^{\\dagger}_{0}**2/8 + 3998607*a^{\\dagger}_{0}*a_{0}*a^{\\dagger}_{1}/45239074 + 3998607*a^{\\dagger}_{0}*a_{0}*a_{1}/45239074 + a^{\\dagger}_{0}*a_{0}**2*a^{\\dagger}_{0}/8 + a^{\\dagger}_{0}*a_{0}**3/8 - 3998607*a^{\\dagger}_{0}*a_{1}*a^{\\dagger}_{1}/45239074 - 3998607*a^{\\dagger}_{0}*a_{1}**2/45239074 - 23*a^{\\dagger}_{0}**2/80 + 3998607*a^{\\dagger}_{0}**2*a^{\\dagger}_{1}/45239074 + a^{\\dagger}_{0}**2*a_{0}*a^{\\dagger}_{0}/8 + a^{\\dagger}_{0}**2*a_{0}**2/8 + 3998607*a^{\\dagger}_{0}**2*a_{1}/45239074 + a^{\\dagger}_{0}**3*a_{0}/8 + a^{\\dagger}_{0}**4/8 - 77541356*a^{\\dagger}_{1}/99690943 + 131836323*a^{\\dagger}_{1}*\\chi^{\\dagger}_{1}*\\chi_{1}/93222358 + 3998607*a^{\\dagger}_{1}*a^{\\dagger}_{0}*a_{0}/45239074 + 3998607*a^{\\dagger}_{1}*a^{\\dagger}_{0}**2/45239074 + 3998607*a^{\\dagger}_{1}*a_{0}*a^{\\dagger}_{0}/45239074 + 3998607*a^{\\dagger}_{1}*a_{0}**2/45239074 + 17*a^{\\dagger}_{1}*a_{1}/80 - 3998607*a^{\\dagger}_{1}*a_{1}*a^{\\dagger}_{0}/45239074 + a^{\\dagger}_{1}*a_{1}*a^{\\dagger}_{1}*a_{1}/8 + a^{\\dagger}_{1}*a_{1}*a^{\\dagger}_{1}**2/8 - 3998607*a^{\\dagger}_{1}*a_{1}*a_{0}/45239074 + a^{\\dagger}_{1}*a_{1}**2*a^{\\dagger}_{1}/8 + a^{\\dagger}_{1}*a_{1}**3/8 - 23*a^{\\dagger}_{1}**2/80 - 3998607*a^{\\dagger}_{1}**2*a^{\\dagger}_{0}/45239074 - 3998607*a^{\\dagger}_{1}**2*a_{0}/45239074 + a^{\\dagger}_{1}**2*a_{1}*a^{\\dagger}_{1}/8 + a^{\\dagger}_{1}**2*a_{1}**2/8 + a^{\\dagger}_{1}**3*a_{1}/8 + a^{\\dagger}_{1}**4/8 + 77541356*a_{0}/99690943 - 131836323*a_{0}*\\chi^{\\dagger}_{0}*\\chi_{0}/93222358 + 17*a_{0}*a^{\\dagger}_{0}/80 + 3998607*a_{0}*a^{\\dagger}_{0}*a^{\\dagger}_{1}/45239074 + a_{0}*a^{\\dagger}_{0}*a_{0}*a^{\\dagger}_{0}/8 + a_{0}*a^{\\dagger}_{0}*a_{0}**2/8 + 3998607*a_{0}*a^{\\dagger}_{0}*a_{1}/45239074 + a_{0}*a^{\\dagger}_{0}**2*a_{0}/8 + a_{0}*a^{\\dagger}_{0}**3/8 - 3998607*a_{0}*a^{\\dagger}_{1}*a_{1}/45239074 - 3998607*a_{0}*a^{\\dagger}_{1}**2/45239074 - 3998607*a_{0}*a_{1}*a^{\\dagger}_{1}/45239074 - 3998607*a_{0}*a_{1}**2/45239074 - 23*a_{0}**2/80 + a_{0}**2*a^{\\dagger}_{0}*a_{0}/8 + a_{0}**2*a^{\\dagger}_{0}**2/8 + 3998607*a_{0}**2*a^{\\dagger}_{1}/45239074 + 3998607*a_{0}**2*a_{1}/45239074 + a_{0}**3*a^{\\dagger}_{0}/8 + a_{0}**4/8 - 77541356*a_{1}/99690943 + 131836323*a_{1}*\\chi^{\\dagger}_{1}*\\chi_{1}/93222358 + 3998607*a_{1}*a^{\\dagger}_{0}*a_{0}/45239074 + 3998607*a_{1}*a^{\\dagger}_{0}**2/45239074 + 17*a_{1}*a^{\\dagger}_{1}/80 - 3998607*a_{1}*a^{\\dagger}_{1}*a^{\\dagger}_{0}/45239074 - 3998607*a_{1}*a^{\\dagger}_{1}*a_{0}/45239074 + a_{1}*a^{\\dagger}_{1}*a_{1}*a^{\\dagger}_{1}/8 + a_{1}*a^{\\dagger}_{1}*a_{1}**2/8 + a_{1}*a^{\\dagger}_{1}**2*a_{1}/8 + a_{1}*a^{\\dagger}_{1}**3/8 + 3998607*a_{1}*a_{0}*a^{\\dagger}_{0}/45239074 + 3998607*a_{1}*a_{0}**2/45239074 - 23*a_{1}**2/80 - 3998607*a_{1}**2*a^{\\dagger}_{0}/45239074 + a_{1}**2*a^{\\dagger}_{1}*a_{1}/8 + a_{1}**2*a^{\\dagger}_{1}**2/8 - 3998607*a_{1}**2*a_{0}/45239074 + a_{1}**3*a^{\\dagger}_{1}/8 + a_{1}**4/8"
      ]
     },
     "execution_count": 18,
     "metadata": {},
     "output_type": "execute_result"
    }
   ],
   "source": [
    "ham=0\n",
    "\n",
    "mass=1\n",
    "c=-0.2\n",
    "c2=1\n",
    "\n",
    "for i in range(1,N+1):\n",
    "    ham+=(bosonNI+bosonI+fermionNI).subs({\n",
    "        pn: ps[i],\n",
    "        qn: qs[i], qnP1: qs[i+1], qnM1: qs[i-1],\n",
    "        xn: xs[i], xnP1: xs[i+1],\n",
    "        xdn: xdags[i], xdnP1: xdags[i+1]\n",
    "    }).subs(boundaryConditions)\n",
    "\n",
    "def potential(n):\n",
    "    return c + c2*qs[n]*qs[n]\n",
    "\n",
    "potentialSubs={}\n",
    "for n in range(1,N+1):\n",
    "    potentialSubs[V(qs[n])]=potential(n)\n",
    "\n",
    "\n",
    "ham=sp.simplify(ham.subs(potentialSubs).subs(aLat,aVal))\n",
    "\n",
    "for i in range(1,N+1):\n",
    "    if i%2==0:\n",
    "        ham+=sp.simplify(fermionI.subs({qn: qs[i], xn: xs[i], xdn: xdags[i]}).subs(potentialSubs))\n",
    "    else:\n",
    "        ham-=sp.simplify(fermionI.subs({qn: qs[i], xn: xs[i], xdn: xdags[i]}).subs(potentialSubs))\n",
    "ham=sp.simplify(ham.subs(aLat,aVal))\n",
    "sp.expand(ham)\n",
    "\n",
    "m=1\n",
    "\n",
    "HOdofSubs = {}\n",
    "#offset because of BC\n",
    "for i in range(1,N+1):\n",
    "    HOdofSubs[qs[i]] = 0.5*sp.sqrt(2/m)*(aops[i] + adags[i])\n",
    "    HOdofSubs[ps[i]] = complex(0,1)*sp.sqrt(2*m)*(adags[i] - aops[i])/2 \n",
    "\n",
    "hoHam=sp.expand(ham.subs(HOdofSubs))\n",
    "hoHam=sp.nsimplify(hoHam,tolerance=1e-8)\n",
    "hoHam"
   ]
  },
  {
   "cell_type": "code",
   "execution_count": 7,
   "metadata": {},
   "outputs": [],
   "source": []
  },
  {
   "cell_type": "code",
   "execution_count": 8,
   "metadata": {},
   "outputs": [
    {
     "name": "stdout",
     "output_type": "stream",
     "text": [
      "--------- Lambda =  2  ----------\n",
      "2 & -4.87e-01 & -9.11e-01 \\\\\n",
      "gates for one trotter step =  14\n",
      "--------- Lambda =  3  ----------\n",
      "3 & 1.64e-03 & -1.03e+00 \\\\\n",
      "gates for one trotter step =  6492\n",
      "--------- Lambda =  4  ----------\n",
      "4 & 1.82e-01 & 2.19e-01 \\\\\n",
      "gates for one trotter step =  754\n",
      "--------- Lambda =  5  ----------\n",
      "5 & -1.11e-01 & 1.85e-03 \\\\\n",
      "gates for one trotter step =  25174\n",
      "--------- Lambda =  6  ----------\n",
      "6 & -1.74e-02 & 3.51e-03 \\\\\n",
      "gates for one trotter step =  49564\n",
      "--------- Lambda =  7  ----------\n",
      "7 & 1.69e-01 & 4.36e-02 \\\\\n",
      "gates for one trotter step =  71458\n",
      "--------- Lambda =  8  ----------\n",
      "8 & 1.31e-01 & 1.70e+00 \\\\\n",
      "gates for one trotter step =  7822\n"
     ]
    }
   ],
   "source": [
    "for cutoff in [2,3,4,5,6,7,8]:\n",
    "    print(\"--------- Lambda = \", cutoff, \" ----------\")\n",
    "    hamMat=convert_to_matrix(hoHam,cutoff,N,aops,adags,xs,xdags)\n",
    "    ens=scipy.sparse.linalg.eigs(hamMat,k=6,sigma=0.0)[0]\n",
    "\n",
    "    ps=matrix_to_pauli_strings(hamMat,standard_encode)\n",
    "    op = pauli_string_to_op(ps)\n",
    "    with open(\"Data/op_quad_cm0p2_lambda{}.pickle\".format(cutoff), \"wb\") as f:\n",
    "        pickle.dump(op, f)\n",
    "\n",
    "    nq=math.floor(math.log2(hamMat.shape[0]))\n",
    "    if not math.log2(hamMat.shape[0]).is_integer():\n",
    "        nq+=1\n",
    "\n",
    "    ansatz = RealAmplitudes(nq, reps=cutoff)\n",
    "\n",
    "    \n",
    "    vqe = VQE(ansatz=ansatz, optimizer=COBYLA(), quantum_instance=qinstance)\n",
    "    results=[]\n",
    "    for i in range(10):\n",
    "        results.append(vqe.compute_minimum_eigenvalue(op).eigenvalue.real)\n",
    "\n",
    "    print(\"{} & {:.2e} & {:.2e} \\\\\\\\\".format(cutoff, np.min(ens).real, np.array(results).min()))\n",
    "    \n",
    "    qc = QuantumCircuit(nq,nq)\n",
    "    qc.append(op_to_trotter(op,0.1), [i for i in range(nq)])\n",
    "    tmp = transpile(qc, basis_gates = ['cx', 'u1', 'u2', 'u3', 'H', 'X', 'Y', 'Z'])\n",
    "    print(\"gates for one trotter step = \", tmp.count_ops().get('cx'))"
   ]
  },
  {
   "cell_type": "code",
   "execution_count": 19,
   "metadata": {},
   "outputs": [
    {
     "name": "stdout",
     "output_type": "stream",
     "text": [
      "--------- Lambda =  16  ----------\n"
     ]
    },
    {
     "ename": "",
     "evalue": "",
     "output_type": "error",
     "traceback": [
      "\u001b[1;31mThe Kernel crashed while executing code in the the current cell or a previous cell. Please review the code in the cell(s) to identify a possible cause of the failure. Click <a href='https://aka.ms/vscodeJupyterKernelCrash'>here</a> for more info. View Jupyter <a href='command:jupyter.viewOutput'>log</a> for further details."
     ]
    },
    {
     "ename": "",
     "evalue": "",
     "output_type": "error",
     "traceback": [
      "\u001b[1;31mCanceled future for execute_request message before replies were done"
     ]
    }
   ],
   "source": [
    "cutoff=16\n",
    "print(\"--------- Lambda = \", cutoff, \" ----------\")\n",
    "hamMat=convert_to_matrix(hoHam,cutoff,N,aops,adags,xs,xdags)\n",
    "ens=scipy.sparse.linalg.eigs(hamMat,k=6,sigma=0.0)[0]\n",
    "\n",
    "ps=matrix_to_pauli_strings(hamMat,standard_encode)\n",
    "op = pauli_string_to_op(ps)\n",
    "with open(\"Data/op_quad_cm0p2_lambda{}.pickle\".format(cutoff), \"wb\") as f:\n",
    "    pickle.dump(op, f)\n",
    "\n",
    "nq=math.floor(math.log2(hamMat.shape[0]))\n",
    "if not math.log2(hamMat.shape[0]).is_integer():\n",
    "    nq+=1\n",
    "\n",
    "ansatz = RealAmplitudes(nq, reps=cutoff)\n",
    "\n",
    "\n",
    "vqe = VQE(ansatz=ansatz, optimizer=COBYLA(), quantum_instance=qinstance)\n",
    "results=[]\n",
    "for i in range(10):\n",
    "    results.append(vqe.compute_minimum_eigenvalue(op).eigenvalue.real)\n",
    "\n",
    "print(\"{} & {:.2e} & {:.2e} \\\\\\\\\".format(cutoff, np.min(ens).real, np.array(results).min()))\n",
    "\n",
    "qc = QuantumCircuit(nq,nq)\n",
    "qc.append(op_to_trotter(op,0.1), [i for i in range(nq)])\n",
    "tmp = transpile(qc, basis_gates = ['cx', 'u1', 'u2', 'u3', 'H', 'X', 'Y', 'Z'])\n",
    "print(\"gates for one trotter step = \", tmp.count_ops().get('cx'))"
   ]
  },
  {
   "cell_type": "code",
   "execution_count": 9,
   "metadata": {},
   "outputs": [
    {
     "name": "stdout",
     "output_type": "stream",
     "text": [
      "--------- Lambda =  2  ----------\n",
      "-0.4870819\n",
      "--------- Lambda =  4  ----------\n",
      "0.18196265\n",
      "--------- Lambda =  6  ----------\n",
      "-0.017404668\n",
      "--------- Lambda =  8  ----------\n",
      "0.13103375\n",
      "--------- Lambda =  10  ----------\n",
      "0.19107112\n",
      "--------- Lambda =  12  ----------\n",
      "0.19515413\n",
      "--------- Lambda =  14  ----------\n",
      "0.19457427\n",
      "--------- Lambda =  16  ----------\n",
      "0.19468053\n"
     ]
    }
   ],
   "source": [
    "for cutoff in [2,4,6,8,10,12,14,16]:\n",
    "    print(\"--------- Lambda = \", cutoff, \" ----------\")\n",
    "    hamMat=convert_to_matrix(hoHam,cutoff,N,aops,adags,xs,xdags)\n",
    "    ens=scipy.sparse.linalg.eigs(hamMat,k=6,sigma=0.0)[0]\n",
    "    print(np.min(ens).real)"
   ]
  },
  {
   "attachments": {},
   "cell_type": "markdown",
   "metadata": {},
   "source": [
    "## CM -0.4"
   ]
  },
  {
   "cell_type": "code",
   "execution_count": 6,
   "metadata": {},
   "outputs": [
    {
     "data": {
      "text/latex": [
       "$\\displaystyle \\frac{4}{25} - \\frac{\\chi^{\\dagger}_{0} \\chi_{1}}{2} - \\frac{\\chi^{\\dagger}_{1} \\chi_{0}}{2} + \\frac{70053979 a^{\\dagger}_{0}}{82559406} - \\frac{131836323 a^{\\dagger}_{0} \\chi^{\\dagger}_{0} \\chi_{0}}{93222358} - \\frac{3998607 a^{\\dagger}_{0} a^{\\dagger}_{1} a_{1}}{45239074} - \\frac{3998607 a^{\\dagger}_{0} \\left(a^{\\dagger}_{1}\\right)^{2}}{45239074} + \\frac{9 a^{\\dagger}_{0} a_{0}}{80} + \\frac{a^{\\dagger}_{0} a_{0} a^{\\dagger}_{0} a_{0}}{8} + \\frac{a^{\\dagger}_{0} a_{0} \\left(a^{\\dagger}_{0}\\right)^{2}}{8} + \\frac{3998607 a^{\\dagger}_{0} a_{0} a^{\\dagger}_{1}}{45239074} + \\frac{3998607 a^{\\dagger}_{0} a_{0} a_{1}}{45239074} + \\frac{a^{\\dagger}_{0} a_{0}^{2} a^{\\dagger}_{0}}{8} + \\frac{a^{\\dagger}_{0} a_{0}^{3}}{8} - \\frac{3998607 a^{\\dagger}_{0} a_{1} a^{\\dagger}_{1}}{45239074} - \\frac{3998607 a^{\\dagger}_{0} a_{1}^{2}}{45239074} - \\frac{31 \\left(a^{\\dagger}_{0}\\right)^{2}}{80} + \\frac{3998607 \\left(a^{\\dagger}_{0}\\right)^{2} a^{\\dagger}_{1}}{45239074} + \\frac{\\left(a^{\\dagger}_{0}\\right)^{2} a_{0} a^{\\dagger}_{0}}{8} + \\frac{\\left(a^{\\dagger}_{0}\\right)^{2} a_{0}^{2}}{8} + \\frac{3998607 \\left(a^{\\dagger}_{0}\\right)^{2} a_{1}}{45239074} + \\frac{\\left(a^{\\dagger}_{0}\\right)^{3} a_{0}}{8} + \\frac{\\left(a^{\\dagger}_{0}\\right)^{4}}{8} - \\frac{70053979 a^{\\dagger}_{1}}{82559406} + \\frac{131836323 a^{\\dagger}_{1} \\chi^{\\dagger}_{1} \\chi_{1}}{93222358} + \\frac{3998607 a^{\\dagger}_{1} a^{\\dagger}_{0} a_{0}}{45239074} + \\frac{3998607 a^{\\dagger}_{1} \\left(a^{\\dagger}_{0}\\right)^{2}}{45239074} + \\frac{3998607 a^{\\dagger}_{1} a_{0} a^{\\dagger}_{0}}{45239074} + \\frac{3998607 a^{\\dagger}_{1} a_{0}^{2}}{45239074} + \\frac{9 a^{\\dagger}_{1} a_{1}}{80} - \\frac{3998607 a^{\\dagger}_{1} a_{1} a^{\\dagger}_{0}}{45239074} + \\frac{a^{\\dagger}_{1} a_{1} a^{\\dagger}_{1} a_{1}}{8} + \\frac{a^{\\dagger}_{1} a_{1} \\left(a^{\\dagger}_{1}\\right)^{2}}{8} - \\frac{3998607 a^{\\dagger}_{1} a_{1} a_{0}}{45239074} + \\frac{a^{\\dagger}_{1} a_{1}^{2} a^{\\dagger}_{1}}{8} + \\frac{a^{\\dagger}_{1} a_{1}^{3}}{8} - \\frac{31 \\left(a^{\\dagger}_{1}\\right)^{2}}{80} - \\frac{3998607 \\left(a^{\\dagger}_{1}\\right)^{2} a^{\\dagger}_{0}}{45239074} - \\frac{3998607 \\left(a^{\\dagger}_{1}\\right)^{2} a_{0}}{45239074} + \\frac{\\left(a^{\\dagger}_{1}\\right)^{2} a_{1} a^{\\dagger}_{1}}{8} + \\frac{\\left(a^{\\dagger}_{1}\\right)^{2} a_{1}^{2}}{8} + \\frac{\\left(a^{\\dagger}_{1}\\right)^{3} a_{1}}{8} + \\frac{\\left(a^{\\dagger}_{1}\\right)^{4}}{8} + \\frac{70053979 a_{0}}{82559406} - \\frac{131836323 a_{0} \\chi^{\\dagger}_{0} \\chi_{0}}{93222358} + \\frac{9 a_{0} a^{\\dagger}_{0}}{80} + \\frac{3998607 a_{0} a^{\\dagger}_{0} a^{\\dagger}_{1}}{45239074} + \\frac{a_{0} a^{\\dagger}_{0} a_{0} a^{\\dagger}_{0}}{8} + \\frac{a_{0} a^{\\dagger}_{0} a_{0}^{2}}{8} + \\frac{3998607 a_{0} a^{\\dagger}_{0} a_{1}}{45239074} + \\frac{a_{0} \\left(a^{\\dagger}_{0}\\right)^{2} a_{0}}{8} + \\frac{a_{0} \\left(a^{\\dagger}_{0}\\right)^{3}}{8} - \\frac{3998607 a_{0} a^{\\dagger}_{1} a_{1}}{45239074} - \\frac{3998607 a_{0} \\left(a^{\\dagger}_{1}\\right)^{2}}{45239074} - \\frac{3998607 a_{0} a_{1} a^{\\dagger}_{1}}{45239074} - \\frac{3998607 a_{0} a_{1}^{2}}{45239074} - \\frac{31 a_{0}^{2}}{80} + \\frac{a_{0}^{2} a^{\\dagger}_{0} a_{0}}{8} + \\frac{a_{0}^{2} \\left(a^{\\dagger}_{0}\\right)^{2}}{8} + \\frac{3998607 a_{0}^{2} a^{\\dagger}_{1}}{45239074} + \\frac{3998607 a_{0}^{2} a_{1}}{45239074} + \\frac{a_{0}^{3} a^{\\dagger}_{0}}{8} + \\frac{a_{0}^{4}}{8} - \\frac{70053979 a_{1}}{82559406} + \\frac{131836323 a_{1} \\chi^{\\dagger}_{1} \\chi_{1}}{93222358} + \\frac{3998607 a_{1} a^{\\dagger}_{0} a_{0}}{45239074} + \\frac{3998607 a_{1} \\left(a^{\\dagger}_{0}\\right)^{2}}{45239074} + \\frac{9 a_{1} a^{\\dagger}_{1}}{80} - \\frac{3998607 a_{1} a^{\\dagger}_{1} a^{\\dagger}_{0}}{45239074} - \\frac{3998607 a_{1} a^{\\dagger}_{1} a_{0}}{45239074} + \\frac{a_{1} a^{\\dagger}_{1} a_{1} a^{\\dagger}_{1}}{8} + \\frac{a_{1} a^{\\dagger}_{1} a_{1}^{2}}{8} + \\frac{a_{1} \\left(a^{\\dagger}_{1}\\right)^{2} a_{1}}{8} + \\frac{a_{1} \\left(a^{\\dagger}_{1}\\right)^{3}}{8} + \\frac{3998607 a_{1} a_{0} a^{\\dagger}_{0}}{45239074} + \\frac{3998607 a_{1} a_{0}^{2}}{45239074} - \\frac{31 a_{1}^{2}}{80} - \\frac{3998607 a_{1}^{2} a^{\\dagger}_{0}}{45239074} + \\frac{a_{1}^{2} a^{\\dagger}_{1} a_{1}}{8} + \\frac{a_{1}^{2} \\left(a^{\\dagger}_{1}\\right)^{2}}{8} - \\frac{3998607 a_{1}^{2} a_{0}}{45239074} + \\frac{a_{1}^{3} a^{\\dagger}_{1}}{8} + \\frac{a_{1}^{4}}{8}$"
      ],
      "text/plain": [
       "4/25 - \\chi^{\\dagger}_{0}*\\chi_{1}/2 - \\chi^{\\dagger}_{1}*\\chi_{0}/2 + 70053979*a^{\\dagger}_{0}/82559406 - 131836323*a^{\\dagger}_{0}*\\chi^{\\dagger}_{0}*\\chi_{0}/93222358 - 3998607*a^{\\dagger}_{0}*a^{\\dagger}_{1}*a_{1}/45239074 - 3998607*a^{\\dagger}_{0}*a^{\\dagger}_{1}**2/45239074 + 9*a^{\\dagger}_{0}*a_{0}/80 + a^{\\dagger}_{0}*a_{0}*a^{\\dagger}_{0}*a_{0}/8 + a^{\\dagger}_{0}*a_{0}*a^{\\dagger}_{0}**2/8 + 3998607*a^{\\dagger}_{0}*a_{0}*a^{\\dagger}_{1}/45239074 + 3998607*a^{\\dagger}_{0}*a_{0}*a_{1}/45239074 + a^{\\dagger}_{0}*a_{0}**2*a^{\\dagger}_{0}/8 + a^{\\dagger}_{0}*a_{0}**3/8 - 3998607*a^{\\dagger}_{0}*a_{1}*a^{\\dagger}_{1}/45239074 - 3998607*a^{\\dagger}_{0}*a_{1}**2/45239074 - 31*a^{\\dagger}_{0}**2/80 + 3998607*a^{\\dagger}_{0}**2*a^{\\dagger}_{1}/45239074 + a^{\\dagger}_{0}**2*a_{0}*a^{\\dagger}_{0}/8 + a^{\\dagger}_{0}**2*a_{0}**2/8 + 3998607*a^{\\dagger}_{0}**2*a_{1}/45239074 + a^{\\dagger}_{0}**3*a_{0}/8 + a^{\\dagger}_{0}**4/8 - 70053979*a^{\\dagger}_{1}/82559406 + 131836323*a^{\\dagger}_{1}*\\chi^{\\dagger}_{1}*\\chi_{1}/93222358 + 3998607*a^{\\dagger}_{1}*a^{\\dagger}_{0}*a_{0}/45239074 + 3998607*a^{\\dagger}_{1}*a^{\\dagger}_{0}**2/45239074 + 3998607*a^{\\dagger}_{1}*a_{0}*a^{\\dagger}_{0}/45239074 + 3998607*a^{\\dagger}_{1}*a_{0}**2/45239074 + 9*a^{\\dagger}_{1}*a_{1}/80 - 3998607*a^{\\dagger}_{1}*a_{1}*a^{\\dagger}_{0}/45239074 + a^{\\dagger}_{1}*a_{1}*a^{\\dagger}_{1}*a_{1}/8 + a^{\\dagger}_{1}*a_{1}*a^{\\dagger}_{1}**2/8 - 3998607*a^{\\dagger}_{1}*a_{1}*a_{0}/45239074 + a^{\\dagger}_{1}*a_{1}**2*a^{\\dagger}_{1}/8 + a^{\\dagger}_{1}*a_{1}**3/8 - 31*a^{\\dagger}_{1}**2/80 - 3998607*a^{\\dagger}_{1}**2*a^{\\dagger}_{0}/45239074 - 3998607*a^{\\dagger}_{1}**2*a_{0}/45239074 + a^{\\dagger}_{1}**2*a_{1}*a^{\\dagger}_{1}/8 + a^{\\dagger}_{1}**2*a_{1}**2/8 + a^{\\dagger}_{1}**3*a_{1}/8 + a^{\\dagger}_{1}**4/8 + 70053979*a_{0}/82559406 - 131836323*a_{0}*\\chi^{\\dagger}_{0}*\\chi_{0}/93222358 + 9*a_{0}*a^{\\dagger}_{0}/80 + 3998607*a_{0}*a^{\\dagger}_{0}*a^{\\dagger}_{1}/45239074 + a_{0}*a^{\\dagger}_{0}*a_{0}*a^{\\dagger}_{0}/8 + a_{0}*a^{\\dagger}_{0}*a_{0}**2/8 + 3998607*a_{0}*a^{\\dagger}_{0}*a_{1}/45239074 + a_{0}*a^{\\dagger}_{0}**2*a_{0}/8 + a_{0}*a^{\\dagger}_{0}**3/8 - 3998607*a_{0}*a^{\\dagger}_{1}*a_{1}/45239074 - 3998607*a_{0}*a^{\\dagger}_{1}**2/45239074 - 3998607*a_{0}*a_{1}*a^{\\dagger}_{1}/45239074 - 3998607*a_{0}*a_{1}**2/45239074 - 31*a_{0}**2/80 + a_{0}**2*a^{\\dagger}_{0}*a_{0}/8 + a_{0}**2*a^{\\dagger}_{0}**2/8 + 3998607*a_{0}**2*a^{\\dagger}_{1}/45239074 + 3998607*a_{0}**2*a_{1}/45239074 + a_{0}**3*a^{\\dagger}_{0}/8 + a_{0}**4/8 - 70053979*a_{1}/82559406 + 131836323*a_{1}*\\chi^{\\dagger}_{1}*\\chi_{1}/93222358 + 3998607*a_{1}*a^{\\dagger}_{0}*a_{0}/45239074 + 3998607*a_{1}*a^{\\dagger}_{0}**2/45239074 + 9*a_{1}*a^{\\dagger}_{1}/80 - 3998607*a_{1}*a^{\\dagger}_{1}*a^{\\dagger}_{0}/45239074 - 3998607*a_{1}*a^{\\dagger}_{1}*a_{0}/45239074 + a_{1}*a^{\\dagger}_{1}*a_{1}*a^{\\dagger}_{1}/8 + a_{1}*a^{\\dagger}_{1}*a_{1}**2/8 + a_{1}*a^{\\dagger}_{1}**2*a_{1}/8 + a_{1}*a^{\\dagger}_{1}**3/8 + 3998607*a_{1}*a_{0}*a^{\\dagger}_{0}/45239074 + 3998607*a_{1}*a_{0}**2/45239074 - 31*a_{1}**2/80 - 3998607*a_{1}**2*a^{\\dagger}_{0}/45239074 + a_{1}**2*a^{\\dagger}_{1}*a_{1}/8 + a_{1}**2*a^{\\dagger}_{1}**2/8 - 3998607*a_{1}**2*a_{0}/45239074 + a_{1}**3*a^{\\dagger}_{1}/8 + a_{1}**4/8"
      ]
     },
     "execution_count": 6,
     "metadata": {},
     "output_type": "execute_result"
    }
   ],
   "source": [
    "ham=0\n",
    "\n",
    "mass=1\n",
    "c=-0.4\n",
    "c2=1\n",
    "\n",
    "for i in range(1,N+1):\n",
    "    ham+=(bosonNI+bosonI+fermionNI).subs({\n",
    "        pn: ps[i],\n",
    "        qn: qs[i], qnP1: qs[i+1], qnM1: qs[i-1],\n",
    "        xn: xs[i], xnP1: xs[i+1],\n",
    "        xdn: xdags[i], xdnP1: xdags[i+1]\n",
    "    }).subs(boundaryConditions)\n",
    "\n",
    "def potential(n):\n",
    "    return c + c2*qs[n]*qs[n]\n",
    "\n",
    "potentialSubs={}\n",
    "for n in range(1,N+1):\n",
    "    potentialSubs[V(qs[n])]=potential(n)\n",
    "\n",
    "\n",
    "ham=sp.simplify(ham.subs(potentialSubs).subs(aLat,aVal))\n",
    "\n",
    "for i in range(1,N+1):\n",
    "    if i%2==0:\n",
    "        ham+=sp.simplify(fermionI.subs({qn: qs[i], xn: xs[i], xdn: xdags[i]}).subs(potentialSubs))\n",
    "    else:\n",
    "        ham-=sp.simplify(fermionI.subs({qn: qs[i], xn: xs[i], xdn: xdags[i]}).subs(potentialSubs))\n",
    "ham=sp.simplify(ham.subs(aLat,aVal))\n",
    "sp.expand(ham)\n",
    "\n",
    "m=1\n",
    "\n",
    "HOdofSubs = {}\n",
    "#offset because of BC\n",
    "for i in range(1,N+1):\n",
    "    HOdofSubs[qs[i]] = 0.5*sp.sqrt(2/m)*(aops[i] + adags[i])\n",
    "    HOdofSubs[ps[i]] = complex(0,1)*sp.sqrt(2*m)*(adags[i] - aops[i])/2 \n",
    "\n",
    "hoHam=sp.expand(ham.subs(HOdofSubs))\n",
    "hoHam=sp.nsimplify(hoHam,tolerance=1e-8)\n",
    "hoHam"
   ]
  },
  {
   "cell_type": "code",
   "execution_count": 7,
   "metadata": {},
   "outputs": [
    {
     "name": "stdout",
     "output_type": "stream",
     "text": [
      "--------- Lambda =  2  ----------\n",
      "0.06428951\n",
      "--------- Lambda =  4  ----------\n",
      "-0.15353835\n",
      "--------- Lambda =  6  ----------\n",
      "-0.22874655\n",
      "--------- Lambda =  8  ----------\n",
      "0.038857713\n",
      "--------- Lambda =  10  ----------\n",
      "0.09883384\n",
      "--------- Lambda =  12  ----------\n",
      "0.10344948\n",
      "--------- Lambda =  14  ----------\n",
      "0.10074462\n",
      "--------- Lambda =  16  ----------\n",
      "0.10215589\n"
     ]
    }
   ],
   "source": [
    "for cutoff in [2,4,6,8,10,12,14,16]:\n",
    "    print(\"--------- Lambda = \", cutoff, \" ----------\")\n",
    "    hamMat=convert_to_matrix(hoHam,cutoff,N,aops,adags,xs,xdags)\n",
    "    ens=scipy.sparse.linalg.eigs(hamMat,k=6,sigma=0.0)[0]\n",
    "    print(np.min(ens).real)"
   ]
  },
  {
   "attachments": {},
   "cell_type": "markdown",
   "metadata": {},
   "source": [
    "## C = -0.1"
   ]
  },
  {
   "cell_type": "code",
   "execution_count": 8,
   "metadata": {},
   "outputs": [
    {
     "data": {
      "text/latex": [
       "$\\displaystyle \\frac{1}{100} - \\frac{\\chi^{\\dagger}_{0} \\chi_{1}}{2} - \\frac{\\chi^{\\dagger}_{1} \\chi_{0}}{2} + \\frac{23168379 a^{\\dagger}_{0}}{31204796} - \\frac{131836323 a^{\\dagger}_{0} \\chi^{\\dagger}_{0} \\chi_{0}}{93222358} - \\frac{3998607 a^{\\dagger}_{0} a^{\\dagger}_{1} a_{1}}{45239074} - \\frac{3998607 a^{\\dagger}_{0} \\left(a^{\\dagger}_{1}\\right)^{2}}{45239074} + \\frac{21 a^{\\dagger}_{0} a_{0}}{80} + \\frac{a^{\\dagger}_{0} a_{0} a^{\\dagger}_{0} a_{0}}{8} + \\frac{a^{\\dagger}_{0} a_{0} \\left(a^{\\dagger}_{0}\\right)^{2}}{8} + \\frac{3998607 a^{\\dagger}_{0} a_{0} a^{\\dagger}_{1}}{45239074} + \\frac{3998607 a^{\\dagger}_{0} a_{0} a_{1}}{45239074} + \\frac{a^{\\dagger}_{0} a_{0}^{2} a^{\\dagger}_{0}}{8} + \\frac{a^{\\dagger}_{0} a_{0}^{3}}{8} - \\frac{3998607 a^{\\dagger}_{0} a_{1} a^{\\dagger}_{1}}{45239074} - \\frac{3998607 a^{\\dagger}_{0} a_{1}^{2}}{45239074} - \\frac{19 \\left(a^{\\dagger}_{0}\\right)^{2}}{80} + \\frac{3998607 \\left(a^{\\dagger}_{0}\\right)^{2} a^{\\dagger}_{1}}{45239074} + \\frac{\\left(a^{\\dagger}_{0}\\right)^{2} a_{0} a^{\\dagger}_{0}}{8} + \\frac{\\left(a^{\\dagger}_{0}\\right)^{2} a_{0}^{2}}{8} + \\frac{3998607 \\left(a^{\\dagger}_{0}\\right)^{2} a_{1}}{45239074} + \\frac{\\left(a^{\\dagger}_{0}\\right)^{3} a_{0}}{8} + \\frac{\\left(a^{\\dagger}_{0}\\right)^{4}}{8} - \\frac{23168379 a^{\\dagger}_{1}}{31204796} + \\frac{131836323 a^{\\dagger}_{1} \\chi^{\\dagger}_{1} \\chi_{1}}{93222358} + \\frac{3998607 a^{\\dagger}_{1} a^{\\dagger}_{0} a_{0}}{45239074} + \\frac{3998607 a^{\\dagger}_{1} \\left(a^{\\dagger}_{0}\\right)^{2}}{45239074} + \\frac{3998607 a^{\\dagger}_{1} a_{0} a^{\\dagger}_{0}}{45239074} + \\frac{3998607 a^{\\dagger}_{1} a_{0}^{2}}{45239074} + \\frac{21 a^{\\dagger}_{1} a_{1}}{80} - \\frac{3998607 a^{\\dagger}_{1} a_{1} a^{\\dagger}_{0}}{45239074} + \\frac{a^{\\dagger}_{1} a_{1} a^{\\dagger}_{1} a_{1}}{8} + \\frac{a^{\\dagger}_{1} a_{1} \\left(a^{\\dagger}_{1}\\right)^{2}}{8} - \\frac{3998607 a^{\\dagger}_{1} a_{1} a_{0}}{45239074} + \\frac{a^{\\dagger}_{1} a_{1}^{2} a^{\\dagger}_{1}}{8} + \\frac{a^{\\dagger}_{1} a_{1}^{3}}{8} - \\frac{19 \\left(a^{\\dagger}_{1}\\right)^{2}}{80} - \\frac{3998607 \\left(a^{\\dagger}_{1}\\right)^{2} a^{\\dagger}_{0}}{45239074} - \\frac{3998607 \\left(a^{\\dagger}_{1}\\right)^{2} a_{0}}{45239074} + \\frac{\\left(a^{\\dagger}_{1}\\right)^{2} a_{1} a^{\\dagger}_{1}}{8} + \\frac{\\left(a^{\\dagger}_{1}\\right)^{2} a_{1}^{2}}{8} + \\frac{\\left(a^{\\dagger}_{1}\\right)^{3} a_{1}}{8} + \\frac{\\left(a^{\\dagger}_{1}\\right)^{4}}{8} + \\frac{23168379 a_{0}}{31204796} - \\frac{131836323 a_{0} \\chi^{\\dagger}_{0} \\chi_{0}}{93222358} + \\frac{21 a_{0} a^{\\dagger}_{0}}{80} + \\frac{3998607 a_{0} a^{\\dagger}_{0} a^{\\dagger}_{1}}{45239074} + \\frac{a_{0} a^{\\dagger}_{0} a_{0} a^{\\dagger}_{0}}{8} + \\frac{a_{0} a^{\\dagger}_{0} a_{0}^{2}}{8} + \\frac{3998607 a_{0} a^{\\dagger}_{0} a_{1}}{45239074} + \\frac{a_{0} \\left(a^{\\dagger}_{0}\\right)^{2} a_{0}}{8} + \\frac{a_{0} \\left(a^{\\dagger}_{0}\\right)^{3}}{8} - \\frac{3998607 a_{0} a^{\\dagger}_{1} a_{1}}{45239074} - \\frac{3998607 a_{0} \\left(a^{\\dagger}_{1}\\right)^{2}}{45239074} - \\frac{3998607 a_{0} a_{1} a^{\\dagger}_{1}}{45239074} - \\frac{3998607 a_{0} a_{1}^{2}}{45239074} - \\frac{19 a_{0}^{2}}{80} + \\frac{a_{0}^{2} a^{\\dagger}_{0} a_{0}}{8} + \\frac{a_{0}^{2} \\left(a^{\\dagger}_{0}\\right)^{2}}{8} + \\frac{3998607 a_{0}^{2} a^{\\dagger}_{1}}{45239074} + \\frac{3998607 a_{0}^{2} a_{1}}{45239074} + \\frac{a_{0}^{3} a^{\\dagger}_{0}}{8} + \\frac{a_{0}^{4}}{8} - \\frac{23168379 a_{1}}{31204796} + \\frac{131836323 a_{1} \\chi^{\\dagger}_{1} \\chi_{1}}{93222358} + \\frac{3998607 a_{1} a^{\\dagger}_{0} a_{0}}{45239074} + \\frac{3998607 a_{1} \\left(a^{\\dagger}_{0}\\right)^{2}}{45239074} + \\frac{21 a_{1} a^{\\dagger}_{1}}{80} - \\frac{3998607 a_{1} a^{\\dagger}_{1} a^{\\dagger}_{0}}{45239074} - \\frac{3998607 a_{1} a^{\\dagger}_{1} a_{0}}{45239074} + \\frac{a_{1} a^{\\dagger}_{1} a_{1} a^{\\dagger}_{1}}{8} + \\frac{a_{1} a^{\\dagger}_{1} a_{1}^{2}}{8} + \\frac{a_{1} \\left(a^{\\dagger}_{1}\\right)^{2} a_{1}}{8} + \\frac{a_{1} \\left(a^{\\dagger}_{1}\\right)^{3}}{8} + \\frac{3998607 a_{1} a_{0} a^{\\dagger}_{0}}{45239074} + \\frac{3998607 a_{1} a_{0}^{2}}{45239074} - \\frac{19 a_{1}^{2}}{80} - \\frac{3998607 a_{1}^{2} a^{\\dagger}_{0}}{45239074} + \\frac{a_{1}^{2} a^{\\dagger}_{1} a_{1}}{8} + \\frac{a_{1}^{2} \\left(a^{\\dagger}_{1}\\right)^{2}}{8} - \\frac{3998607 a_{1}^{2} a_{0}}{45239074} + \\frac{a_{1}^{3} a^{\\dagger}_{1}}{8} + \\frac{a_{1}^{4}}{8}$"
      ],
      "text/plain": [
       "1/100 - \\chi^{\\dagger}_{0}*\\chi_{1}/2 - \\chi^{\\dagger}_{1}*\\chi_{0}/2 + 23168379*a^{\\dagger}_{0}/31204796 - 131836323*a^{\\dagger}_{0}*\\chi^{\\dagger}_{0}*\\chi_{0}/93222358 - 3998607*a^{\\dagger}_{0}*a^{\\dagger}_{1}*a_{1}/45239074 - 3998607*a^{\\dagger}_{0}*a^{\\dagger}_{1}**2/45239074 + 21*a^{\\dagger}_{0}*a_{0}/80 + a^{\\dagger}_{0}*a_{0}*a^{\\dagger}_{0}*a_{0}/8 + a^{\\dagger}_{0}*a_{0}*a^{\\dagger}_{0}**2/8 + 3998607*a^{\\dagger}_{0}*a_{0}*a^{\\dagger}_{1}/45239074 + 3998607*a^{\\dagger}_{0}*a_{0}*a_{1}/45239074 + a^{\\dagger}_{0}*a_{0}**2*a^{\\dagger}_{0}/8 + a^{\\dagger}_{0}*a_{0}**3/8 - 3998607*a^{\\dagger}_{0}*a_{1}*a^{\\dagger}_{1}/45239074 - 3998607*a^{\\dagger}_{0}*a_{1}**2/45239074 - 19*a^{\\dagger}_{0}**2/80 + 3998607*a^{\\dagger}_{0}**2*a^{\\dagger}_{1}/45239074 + a^{\\dagger}_{0}**2*a_{0}*a^{\\dagger}_{0}/8 + a^{\\dagger}_{0}**2*a_{0}**2/8 + 3998607*a^{\\dagger}_{0}**2*a_{1}/45239074 + a^{\\dagger}_{0}**3*a_{0}/8 + a^{\\dagger}_{0}**4/8 - 23168379*a^{\\dagger}_{1}/31204796 + 131836323*a^{\\dagger}_{1}*\\chi^{\\dagger}_{1}*\\chi_{1}/93222358 + 3998607*a^{\\dagger}_{1}*a^{\\dagger}_{0}*a_{0}/45239074 + 3998607*a^{\\dagger}_{1}*a^{\\dagger}_{0}**2/45239074 + 3998607*a^{\\dagger}_{1}*a_{0}*a^{\\dagger}_{0}/45239074 + 3998607*a^{\\dagger}_{1}*a_{0}**2/45239074 + 21*a^{\\dagger}_{1}*a_{1}/80 - 3998607*a^{\\dagger}_{1}*a_{1}*a^{\\dagger}_{0}/45239074 + a^{\\dagger}_{1}*a_{1}*a^{\\dagger}_{1}*a_{1}/8 + a^{\\dagger}_{1}*a_{1}*a^{\\dagger}_{1}**2/8 - 3998607*a^{\\dagger}_{1}*a_{1}*a_{0}/45239074 + a^{\\dagger}_{1}*a_{1}**2*a^{\\dagger}_{1}/8 + a^{\\dagger}_{1}*a_{1}**3/8 - 19*a^{\\dagger}_{1}**2/80 - 3998607*a^{\\dagger}_{1}**2*a^{\\dagger}_{0}/45239074 - 3998607*a^{\\dagger}_{1}**2*a_{0}/45239074 + a^{\\dagger}_{1}**2*a_{1}*a^{\\dagger}_{1}/8 + a^{\\dagger}_{1}**2*a_{1}**2/8 + a^{\\dagger}_{1}**3*a_{1}/8 + a^{\\dagger}_{1}**4/8 + 23168379*a_{0}/31204796 - 131836323*a_{0}*\\chi^{\\dagger}_{0}*\\chi_{0}/93222358 + 21*a_{0}*a^{\\dagger}_{0}/80 + 3998607*a_{0}*a^{\\dagger}_{0}*a^{\\dagger}_{1}/45239074 + a_{0}*a^{\\dagger}_{0}*a_{0}*a^{\\dagger}_{0}/8 + a_{0}*a^{\\dagger}_{0}*a_{0}**2/8 + 3998607*a_{0}*a^{\\dagger}_{0}*a_{1}/45239074 + a_{0}*a^{\\dagger}_{0}**2*a_{0}/8 + a_{0}*a^{\\dagger}_{0}**3/8 - 3998607*a_{0}*a^{\\dagger}_{1}*a_{1}/45239074 - 3998607*a_{0}*a^{\\dagger}_{1}**2/45239074 - 3998607*a_{0}*a_{1}*a^{\\dagger}_{1}/45239074 - 3998607*a_{0}*a_{1}**2/45239074 - 19*a_{0}**2/80 + a_{0}**2*a^{\\dagger}_{0}*a_{0}/8 + a_{0}**2*a^{\\dagger}_{0}**2/8 + 3998607*a_{0}**2*a^{\\dagger}_{1}/45239074 + 3998607*a_{0}**2*a_{1}/45239074 + a_{0}**3*a^{\\dagger}_{0}/8 + a_{0}**4/8 - 23168379*a_{1}/31204796 + 131836323*a_{1}*\\chi^{\\dagger}_{1}*\\chi_{1}/93222358 + 3998607*a_{1}*a^{\\dagger}_{0}*a_{0}/45239074 + 3998607*a_{1}*a^{\\dagger}_{0}**2/45239074 + 21*a_{1}*a^{\\dagger}_{1}/80 - 3998607*a_{1}*a^{\\dagger}_{1}*a^{\\dagger}_{0}/45239074 - 3998607*a_{1}*a^{\\dagger}_{1}*a_{0}/45239074 + a_{1}*a^{\\dagger}_{1}*a_{1}*a^{\\dagger}_{1}/8 + a_{1}*a^{\\dagger}_{1}*a_{1}**2/8 + a_{1}*a^{\\dagger}_{1}**2*a_{1}/8 + a_{1}*a^{\\dagger}_{1}**3/8 + 3998607*a_{1}*a_{0}*a^{\\dagger}_{0}/45239074 + 3998607*a_{1}*a_{0}**2/45239074 - 19*a_{1}**2/80 - 3998607*a_{1}**2*a^{\\dagger}_{0}/45239074 + a_{1}**2*a^{\\dagger}_{1}*a_{1}/8 + a_{1}**2*a^{\\dagger}_{1}**2/8 - 3998607*a_{1}**2*a_{0}/45239074 + a_{1}**3*a^{\\dagger}_{1}/8 + a_{1}**4/8"
      ]
     },
     "execution_count": 8,
     "metadata": {},
     "output_type": "execute_result"
    }
   ],
   "source": [
    "ham=0\n",
    "\n",
    "mass=1\n",
    "c=-0.1\n",
    "c2=1\n",
    "\n",
    "for i in range(1,N+1):\n",
    "    ham+=(bosonNI+bosonI+fermionNI).subs({\n",
    "        pn: ps[i],\n",
    "        qn: qs[i], qnP1: qs[i+1], qnM1: qs[i-1],\n",
    "        xn: xs[i], xnP1: xs[i+1],\n",
    "        xdn: xdags[i], xdnP1: xdags[i+1]\n",
    "    }).subs(boundaryConditions)\n",
    "\n",
    "def potential(n):\n",
    "    return c + c2*qs[n]*qs[n]\n",
    "\n",
    "potentialSubs={}\n",
    "for n in range(1,N+1):\n",
    "    potentialSubs[V(qs[n])]=potential(n)\n",
    "\n",
    "\n",
    "ham=sp.simplify(ham.subs(potentialSubs).subs(aLat,aVal))\n",
    "\n",
    "for i in range(1,N+1):\n",
    "    if i%2==0:\n",
    "        ham+=sp.simplify(fermionI.subs({qn: qs[i], xn: xs[i], xdn: xdags[i]}).subs(potentialSubs))\n",
    "    else:\n",
    "        ham-=sp.simplify(fermionI.subs({qn: qs[i], xn: xs[i], xdn: xdags[i]}).subs(potentialSubs))\n",
    "ham=sp.simplify(ham.subs(aLat,aVal))\n",
    "sp.expand(ham)\n",
    "\n",
    "m=1\n",
    "\n",
    "HOdofSubs = {}\n",
    "#offset because of BC\n",
    "for i in range(1,N+1):\n",
    "    HOdofSubs[qs[i]] = 0.5*sp.sqrt(2/m)*(aops[i] + adags[i])\n",
    "    HOdofSubs[ps[i]] = complex(0,1)*sp.sqrt(2*m)*(adags[i] - aops[i])/2 \n",
    "\n",
    "hoHam=sp.expand(ham.subs(HOdofSubs))\n",
    "hoHam=sp.nsimplify(hoHam,tolerance=1e-8)\n",
    "hoHam"
   ]
  },
  {
   "cell_type": "code",
   "execution_count": 19,
   "metadata": {},
   "outputs": [
    {
     "name": "stdout",
     "output_type": "stream",
     "text": [
      "--------- Lambda =  2  ----------\n",
      "-0.7150041\n",
      "--------- Lambda =  4  ----------\n",
      "0.21914008\n",
      "--------- Lambda =  6  ----------\n",
      "0.10237059\n",
      "--------- Lambda =  8  ----------\n",
      "0.19822235\n",
      "--------- Lambda =  10  ----------\n",
      "0.2547775\n",
      "--------- Lambda =  12  ----------\n",
      "0.25834623\n",
      "--------- Lambda =  14  ----------\n",
      "0.25848448\n",
      "--------- Lambda =  16  ----------\n",
      "0.25823307\n"
     ]
    }
   ],
   "source": [
    "for cutoff in range(2,18,2):\n",
    "    print(\"--------- Lambda = \", cutoff, \" ----------\")\n",
    "    hamMat=convert_to_matrix(hoHam,cutoff,N,aops,adags,xs,xdags)\n",
    "    ens=scipy.sparse.linalg.eigs(hamMat,k=6,sigma=0.0)[0]\n",
    "    print(np.min(ens).real)"
   ]
  },
  {
   "cell_type": "code",
   "execution_count": null,
   "metadata": {},
   "outputs": [],
   "source": []
  },
  {
   "attachments": {},
   "cell_type": "markdown",
   "metadata": {},
   "source": [
    "## C=-0.8"
   ]
  },
  {
   "cell_type": "code",
   "execution_count": 5,
   "metadata": {},
   "outputs": [
    {
     "data": {
      "text/latex": [
       "$\\displaystyle \\frac{16}{25} - \\frac{\\chi^{\\dagger}_{0} \\chi_{1}}{2} - \\frac{\\chi^{\\dagger}_{1} \\chi_{0}}{2} + \\frac{7722793 a^{\\dagger}_{0}}{7801199} - \\frac{131836323 a^{\\dagger}_{0} \\chi^{\\dagger}_{0} \\chi_{0}}{93222358} - \\frac{3998607 a^{\\dagger}_{0} a^{\\dagger}_{1} a_{1}}{45239074} - \\frac{3998607 a^{\\dagger}_{0} \\left(a^{\\dagger}_{1}\\right)^{2}}{45239074} - \\frac{7 a^{\\dagger}_{0} a_{0}}{80} + \\frac{a^{\\dagger}_{0} a_{0} a^{\\dagger}_{0} a_{0}}{8} + \\frac{a^{\\dagger}_{0} a_{0} \\left(a^{\\dagger}_{0}\\right)^{2}}{8} + \\frac{3998607 a^{\\dagger}_{0} a_{0} a^{\\dagger}_{1}}{45239074} + \\frac{3998607 a^{\\dagger}_{0} a_{0} a_{1}}{45239074} + \\frac{a^{\\dagger}_{0} a_{0}^{2} a^{\\dagger}_{0}}{8} + \\frac{a^{\\dagger}_{0} a_{0}^{3}}{8} - \\frac{3998607 a^{\\dagger}_{0} a_{1} a^{\\dagger}_{1}}{45239074} - \\frac{3998607 a^{\\dagger}_{0} a_{1}^{2}}{45239074} - \\frac{47 \\left(a^{\\dagger}_{0}\\right)^{2}}{80} + \\frac{3998607 \\left(a^{\\dagger}_{0}\\right)^{2} a^{\\dagger}_{1}}{45239074} + \\frac{\\left(a^{\\dagger}_{0}\\right)^{2} a_{0} a^{\\dagger}_{0}}{8} + \\frac{\\left(a^{\\dagger}_{0}\\right)^{2} a_{0}^{2}}{8} + \\frac{3998607 \\left(a^{\\dagger}_{0}\\right)^{2} a_{1}}{45239074} + \\frac{\\left(a^{\\dagger}_{0}\\right)^{3} a_{0}}{8} + \\frac{\\left(a^{\\dagger}_{0}\\right)^{4}}{8} - \\frac{7722793 a^{\\dagger}_{1}}{7801199} + \\frac{131836323 a^{\\dagger}_{1} \\chi^{\\dagger}_{1} \\chi_{1}}{93222358} + \\frac{3998607 a^{\\dagger}_{1} a^{\\dagger}_{0} a_{0}}{45239074} + \\frac{3998607 a^{\\dagger}_{1} \\left(a^{\\dagger}_{0}\\right)^{2}}{45239074} + \\frac{3998607 a^{\\dagger}_{1} a_{0} a^{\\dagger}_{0}}{45239074} + \\frac{3998607 a^{\\dagger}_{1} a_{0}^{2}}{45239074} - \\frac{7 a^{\\dagger}_{1} a_{1}}{80} - \\frac{3998607 a^{\\dagger}_{1} a_{1} a^{\\dagger}_{0}}{45239074} + \\frac{a^{\\dagger}_{1} a_{1} a^{\\dagger}_{1} a_{1}}{8} + \\frac{a^{\\dagger}_{1} a_{1} \\left(a^{\\dagger}_{1}\\right)^{2}}{8} - \\frac{3998607 a^{\\dagger}_{1} a_{1} a_{0}}{45239074} + \\frac{a^{\\dagger}_{1} a_{1}^{2} a^{\\dagger}_{1}}{8} + \\frac{a^{\\dagger}_{1} a_{1}^{3}}{8} - \\frac{47 \\left(a^{\\dagger}_{1}\\right)^{2}}{80} - \\frac{3998607 \\left(a^{\\dagger}_{1}\\right)^{2} a^{\\dagger}_{0}}{45239074} - \\frac{3998607 \\left(a^{\\dagger}_{1}\\right)^{2} a_{0}}{45239074} + \\frac{\\left(a^{\\dagger}_{1}\\right)^{2} a_{1} a^{\\dagger}_{1}}{8} + \\frac{\\left(a^{\\dagger}_{1}\\right)^{2} a_{1}^{2}}{8} + \\frac{\\left(a^{\\dagger}_{1}\\right)^{3} a_{1}}{8} + \\frac{\\left(a^{\\dagger}_{1}\\right)^{4}}{8} + \\frac{7722793 a_{0}}{7801199} - \\frac{131836323 a_{0} \\chi^{\\dagger}_{0} \\chi_{0}}{93222358} - \\frac{7 a_{0} a^{\\dagger}_{0}}{80} + \\frac{3998607 a_{0} a^{\\dagger}_{0} a^{\\dagger}_{1}}{45239074} + \\frac{a_{0} a^{\\dagger}_{0} a_{0} a^{\\dagger}_{0}}{8} + \\frac{a_{0} a^{\\dagger}_{0} a_{0}^{2}}{8} + \\frac{3998607 a_{0} a^{\\dagger}_{0} a_{1}}{45239074} + \\frac{a_{0} \\left(a^{\\dagger}_{0}\\right)^{2} a_{0}}{8} + \\frac{a_{0} \\left(a^{\\dagger}_{0}\\right)^{3}}{8} - \\frac{3998607 a_{0} a^{\\dagger}_{1} a_{1}}{45239074} - \\frac{3998607 a_{0} \\left(a^{\\dagger}_{1}\\right)^{2}}{45239074} - \\frac{3998607 a_{0} a_{1} a^{\\dagger}_{1}}{45239074} - \\frac{3998607 a_{0} a_{1}^{2}}{45239074} - \\frac{47 a_{0}^{2}}{80} + \\frac{a_{0}^{2} a^{\\dagger}_{0} a_{0}}{8} + \\frac{a_{0}^{2} \\left(a^{\\dagger}_{0}\\right)^{2}}{8} + \\frac{3998607 a_{0}^{2} a^{\\dagger}_{1}}{45239074} + \\frac{3998607 a_{0}^{2} a_{1}}{45239074} + \\frac{a_{0}^{3} a^{\\dagger}_{0}}{8} + \\frac{a_{0}^{4}}{8} - \\frac{7722793 a_{1}}{7801199} + \\frac{131836323 a_{1} \\chi^{\\dagger}_{1} \\chi_{1}}{93222358} + \\frac{3998607 a_{1} a^{\\dagger}_{0} a_{0}}{45239074} + \\frac{3998607 a_{1} \\left(a^{\\dagger}_{0}\\right)^{2}}{45239074} - \\frac{7 a_{1} a^{\\dagger}_{1}}{80} - \\frac{3998607 a_{1} a^{\\dagger}_{1} a^{\\dagger}_{0}}{45239074} - \\frac{3998607 a_{1} a^{\\dagger}_{1} a_{0}}{45239074} + \\frac{a_{1} a^{\\dagger}_{1} a_{1} a^{\\dagger}_{1}}{8} + \\frac{a_{1} a^{\\dagger}_{1} a_{1}^{2}}{8} + \\frac{a_{1} \\left(a^{\\dagger}_{1}\\right)^{2} a_{1}}{8} + \\frac{a_{1} \\left(a^{\\dagger}_{1}\\right)^{3}}{8} + \\frac{3998607 a_{1} a_{0} a^{\\dagger}_{0}}{45239074} + \\frac{3998607 a_{1} a_{0}^{2}}{45239074} - \\frac{47 a_{1}^{2}}{80} - \\frac{3998607 a_{1}^{2} a^{\\dagger}_{0}}{45239074} + \\frac{a_{1}^{2} a^{\\dagger}_{1} a_{1}}{8} + \\frac{a_{1}^{2} \\left(a^{\\dagger}_{1}\\right)^{2}}{8} - \\frac{3998607 a_{1}^{2} a_{0}}{45239074} + \\frac{a_{1}^{3} a^{\\dagger}_{1}}{8} + \\frac{a_{1}^{4}}{8}$"
      ],
      "text/plain": [
       "16/25 - \\chi^{\\dagger}_{0}*\\chi_{1}/2 - \\chi^{\\dagger}_{1}*\\chi_{0}/2 + 7722793*a^{\\dagger}_{0}/7801199 - 131836323*a^{\\dagger}_{0}*\\chi^{\\dagger}_{0}*\\chi_{0}/93222358 - 3998607*a^{\\dagger}_{0}*a^{\\dagger}_{1}*a_{1}/45239074 - 3998607*a^{\\dagger}_{0}*a^{\\dagger}_{1}**2/45239074 - 7*a^{\\dagger}_{0}*a_{0}/80 + a^{\\dagger}_{0}*a_{0}*a^{\\dagger}_{0}*a_{0}/8 + a^{\\dagger}_{0}*a_{0}*a^{\\dagger}_{0}**2/8 + 3998607*a^{\\dagger}_{0}*a_{0}*a^{\\dagger}_{1}/45239074 + 3998607*a^{\\dagger}_{0}*a_{0}*a_{1}/45239074 + a^{\\dagger}_{0}*a_{0}**2*a^{\\dagger}_{0}/8 + a^{\\dagger}_{0}*a_{0}**3/8 - 3998607*a^{\\dagger}_{0}*a_{1}*a^{\\dagger}_{1}/45239074 - 3998607*a^{\\dagger}_{0}*a_{1}**2/45239074 - 47*a^{\\dagger}_{0}**2/80 + 3998607*a^{\\dagger}_{0}**2*a^{\\dagger}_{1}/45239074 + a^{\\dagger}_{0}**2*a_{0}*a^{\\dagger}_{0}/8 + a^{\\dagger}_{0}**2*a_{0}**2/8 + 3998607*a^{\\dagger}_{0}**2*a_{1}/45239074 + a^{\\dagger}_{0}**3*a_{0}/8 + a^{\\dagger}_{0}**4/8 - 7722793*a^{\\dagger}_{1}/7801199 + 131836323*a^{\\dagger}_{1}*\\chi^{\\dagger}_{1}*\\chi_{1}/93222358 + 3998607*a^{\\dagger}_{1}*a^{\\dagger}_{0}*a_{0}/45239074 + 3998607*a^{\\dagger}_{1}*a^{\\dagger}_{0}**2/45239074 + 3998607*a^{\\dagger}_{1}*a_{0}*a^{\\dagger}_{0}/45239074 + 3998607*a^{\\dagger}_{1}*a_{0}**2/45239074 - 7*a^{\\dagger}_{1}*a_{1}/80 - 3998607*a^{\\dagger}_{1}*a_{1}*a^{\\dagger}_{0}/45239074 + a^{\\dagger}_{1}*a_{1}*a^{\\dagger}_{1}*a_{1}/8 + a^{\\dagger}_{1}*a_{1}*a^{\\dagger}_{1}**2/8 - 3998607*a^{\\dagger}_{1}*a_{1}*a_{0}/45239074 + a^{\\dagger}_{1}*a_{1}**2*a^{\\dagger}_{1}/8 + a^{\\dagger}_{1}*a_{1}**3/8 - 47*a^{\\dagger}_{1}**2/80 - 3998607*a^{\\dagger}_{1}**2*a^{\\dagger}_{0}/45239074 - 3998607*a^{\\dagger}_{1}**2*a_{0}/45239074 + a^{\\dagger}_{1}**2*a_{1}*a^{\\dagger}_{1}/8 + a^{\\dagger}_{1}**2*a_{1}**2/8 + a^{\\dagger}_{1}**3*a_{1}/8 + a^{\\dagger}_{1}**4/8 + 7722793*a_{0}/7801199 - 131836323*a_{0}*\\chi^{\\dagger}_{0}*\\chi_{0}/93222358 - 7*a_{0}*a^{\\dagger}_{0}/80 + 3998607*a_{0}*a^{\\dagger}_{0}*a^{\\dagger}_{1}/45239074 + a_{0}*a^{\\dagger}_{0}*a_{0}*a^{\\dagger}_{0}/8 + a_{0}*a^{\\dagger}_{0}*a_{0}**2/8 + 3998607*a_{0}*a^{\\dagger}_{0}*a_{1}/45239074 + a_{0}*a^{\\dagger}_{0}**2*a_{0}/8 + a_{0}*a^{\\dagger}_{0}**3/8 - 3998607*a_{0}*a^{\\dagger}_{1}*a_{1}/45239074 - 3998607*a_{0}*a^{\\dagger}_{1}**2/45239074 - 3998607*a_{0}*a_{1}*a^{\\dagger}_{1}/45239074 - 3998607*a_{0}*a_{1}**2/45239074 - 47*a_{0}**2/80 + a_{0}**2*a^{\\dagger}_{0}*a_{0}/8 + a_{0}**2*a^{\\dagger}_{0}**2/8 + 3998607*a_{0}**2*a^{\\dagger}_{1}/45239074 + 3998607*a_{0}**2*a_{1}/45239074 + a_{0}**3*a^{\\dagger}_{0}/8 + a_{0}**4/8 - 7722793*a_{1}/7801199 + 131836323*a_{1}*\\chi^{\\dagger}_{1}*\\chi_{1}/93222358 + 3998607*a_{1}*a^{\\dagger}_{0}*a_{0}/45239074 + 3998607*a_{1}*a^{\\dagger}_{0}**2/45239074 - 7*a_{1}*a^{\\dagger}_{1}/80 - 3998607*a_{1}*a^{\\dagger}_{1}*a^{\\dagger}_{0}/45239074 - 3998607*a_{1}*a^{\\dagger}_{1}*a_{0}/45239074 + a_{1}*a^{\\dagger}_{1}*a_{1}*a^{\\dagger}_{1}/8 + a_{1}*a^{\\dagger}_{1}*a_{1}**2/8 + a_{1}*a^{\\dagger}_{1}**2*a_{1}/8 + a_{1}*a^{\\dagger}_{1}**3/8 + 3998607*a_{1}*a_{0}*a^{\\dagger}_{0}/45239074 + 3998607*a_{1}*a_{0}**2/45239074 - 47*a_{1}**2/80 - 3998607*a_{1}**2*a^{\\dagger}_{0}/45239074 + a_{1}**2*a^{\\dagger}_{1}*a_{1}/8 + a_{1}**2*a^{\\dagger}_{1}**2/8 - 3998607*a_{1}**2*a_{0}/45239074 + a_{1}**3*a^{\\dagger}_{1}/8 + a_{1}**4/8"
      ]
     },
     "execution_count": 5,
     "metadata": {},
     "output_type": "execute_result"
    }
   ],
   "source": [
    "ham=0\n",
    "\n",
    "mass=1\n",
    "c=-0.8\n",
    "c2=1\n",
    "\n",
    "for i in range(1,N+1):\n",
    "    ham+=(bosonNI+bosonI+fermionNI).subs({\n",
    "        pn: ps[i],\n",
    "        qn: qs[i], qnP1: qs[i+1], qnM1: qs[i-1],\n",
    "        xn: xs[i], xnP1: xs[i+1],\n",
    "        xdn: xdags[i], xdnP1: xdags[i+1]\n",
    "    }).subs(boundaryConditions)\n",
    "\n",
    "def potential(n):\n",
    "    return c + c2*qs[n]*qs[n]\n",
    "\n",
    "potentialSubs={}\n",
    "for n in range(1,N+1):\n",
    "    potentialSubs[V(qs[n])]=potential(n)\n",
    "\n",
    "\n",
    "ham=sp.simplify(ham.subs(potentialSubs).subs(aLat,aVal))\n",
    "\n",
    "for i in range(1,N+1):\n",
    "    if i%2==0:\n",
    "        ham+=sp.simplify(fermionI.subs({qn: qs[i], xn: xs[i], xdn: xdags[i]}).subs(potentialSubs))\n",
    "    else:\n",
    "        ham-=sp.simplify(fermionI.subs({qn: qs[i], xn: xs[i], xdn: xdags[i]}).subs(potentialSubs))\n",
    "ham=sp.simplify(ham.subs(aLat,aVal))\n",
    "sp.expand(ham)\n",
    "\n",
    "m=1\n",
    "\n",
    "HOdofSubs = {}\n",
    "#offset because of BC\n",
    "for i in range(1,N+1):\n",
    "    HOdofSubs[qs[i]] = 0.5*sp.sqrt(2/m)*(aops[i] + adags[i])\n",
    "    HOdofSubs[ps[i]] = complex(0,1)*sp.sqrt(2*m)*(adags[i] - aops[i])/2 \n",
    "\n",
    "hoHam=sp.expand(ham.subs(HOdofSubs))\n",
    "hoHam=sp.nsimplify(hoHam,tolerance=1e-8)\n",
    "hoHam"
   ]
  },
  {
   "cell_type": "code",
   "execution_count": 6,
   "metadata": {},
   "outputs": [
    {
     "name": "stdout",
     "output_type": "stream",
     "text": [
      "--------- Lambda =  2  ----------\n",
      "-0.48708177\n",
      "--------- Lambda =  4  ----------\n",
      "0.12766445\n",
      "--------- Lambda =  6  ----------\n",
      "-0.49799758\n",
      "--------- Lambda =  8  ----------\n",
      "-0.017360238\n",
      "--------- Lambda =  10  ----------\n",
      "0.021319462\n",
      "--------- Lambda =  12  ----------\n",
      "0.006229443\n",
      "--------- Lambda =  14  ----------\n",
      "0.013883656\n",
      "--------- Lambda =  16  ----------\n",
      "0.019356793\n"
     ]
    }
   ],
   "source": [
    "e0raw0p8=[]\n",
    "for cutoff in range(2,18,2):\n",
    "    print(\"--------- Lambda = \", cutoff, \" ----------\")\n",
    "    hamMat=convert_to_matrix(hoHam,cutoff,N,aops,adags,xs,xdags)\n",
    "    ens=scipy.sparse.linalg.eigs(hamMat,k=6,sigma=0.0)[0]\n",
    "    print(np.min(ens).real)\n",
    "    e0raw0p8.append(np.min(ens).real)"
   ]
  },
  {
   "attachments": {},
   "cell_type": "markdown",
   "metadata": {},
   "source": [
    "## C=-2.0"
   ]
  },
  {
   "cell_type": "code",
   "execution_count": 7,
   "metadata": {},
   "outputs": [
    {
     "data": {
      "text/latex": [
       "$\\displaystyle 4 - \\frac{\\chi^{\\dagger}_{0} \\chi_{1}}{2} - \\frac{\\chi^{\\dagger}_{1} \\chi_{0}}{2} + \\frac{131836323 a^{\\dagger}_{0}}{93222358} - \\frac{131836323 a^{\\dagger}_{0} \\chi^{\\dagger}_{0} \\chi_{0}}{93222358} - \\frac{3998607 a^{\\dagger}_{0} a^{\\dagger}_{1} a_{1}}{45239074} - \\frac{3998607 a^{\\dagger}_{0} \\left(a^{\\dagger}_{1}\\right)^{2}}{45239074} - \\frac{11 a^{\\dagger}_{0} a_{0}}{16} + \\frac{a^{\\dagger}_{0} a_{0} a^{\\dagger}_{0} a_{0}}{8} + \\frac{a^{\\dagger}_{0} a_{0} \\left(a^{\\dagger}_{0}\\right)^{2}}{8} + \\frac{3998607 a^{\\dagger}_{0} a_{0} a^{\\dagger}_{1}}{45239074} + \\frac{3998607 a^{\\dagger}_{0} a_{0} a_{1}}{45239074} + \\frac{a^{\\dagger}_{0} a_{0}^{2} a^{\\dagger}_{0}}{8} + \\frac{a^{\\dagger}_{0} a_{0}^{3}}{8} - \\frac{3998607 a^{\\dagger}_{0} a_{1} a^{\\dagger}_{1}}{45239074} - \\frac{3998607 a^{\\dagger}_{0} a_{1}^{2}}{45239074} - \\frac{19 \\left(a^{\\dagger}_{0}\\right)^{2}}{16} + \\frac{3998607 \\left(a^{\\dagger}_{0}\\right)^{2} a^{\\dagger}_{1}}{45239074} + \\frac{\\left(a^{\\dagger}_{0}\\right)^{2} a_{0} a^{\\dagger}_{0}}{8} + \\frac{\\left(a^{\\dagger}_{0}\\right)^{2} a_{0}^{2}}{8} + \\frac{3998607 \\left(a^{\\dagger}_{0}\\right)^{2} a_{1}}{45239074} + \\frac{\\left(a^{\\dagger}_{0}\\right)^{3} a_{0}}{8} + \\frac{\\left(a^{\\dagger}_{0}\\right)^{4}}{8} - \\frac{131836323 a^{\\dagger}_{1}}{93222358} + \\frac{131836323 a^{\\dagger}_{1} \\chi^{\\dagger}_{1} \\chi_{1}}{93222358} + \\frac{3998607 a^{\\dagger}_{1} a^{\\dagger}_{0} a_{0}}{45239074} + \\frac{3998607 a^{\\dagger}_{1} \\left(a^{\\dagger}_{0}\\right)^{2}}{45239074} + \\frac{3998607 a^{\\dagger}_{1} a_{0} a^{\\dagger}_{0}}{45239074} + \\frac{3998607 a^{\\dagger}_{1} a_{0}^{2}}{45239074} - \\frac{11 a^{\\dagger}_{1} a_{1}}{16} - \\frac{3998607 a^{\\dagger}_{1} a_{1} a^{\\dagger}_{0}}{45239074} + \\frac{a^{\\dagger}_{1} a_{1} a^{\\dagger}_{1} a_{1}}{8} + \\frac{a^{\\dagger}_{1} a_{1} \\left(a^{\\dagger}_{1}\\right)^{2}}{8} - \\frac{3998607 a^{\\dagger}_{1} a_{1} a_{0}}{45239074} + \\frac{a^{\\dagger}_{1} a_{1}^{2} a^{\\dagger}_{1}}{8} + \\frac{a^{\\dagger}_{1} a_{1}^{3}}{8} - \\frac{19 \\left(a^{\\dagger}_{1}\\right)^{2}}{16} - \\frac{3998607 \\left(a^{\\dagger}_{1}\\right)^{2} a^{\\dagger}_{0}}{45239074} - \\frac{3998607 \\left(a^{\\dagger}_{1}\\right)^{2} a_{0}}{45239074} + \\frac{\\left(a^{\\dagger}_{1}\\right)^{2} a_{1} a^{\\dagger}_{1}}{8} + \\frac{\\left(a^{\\dagger}_{1}\\right)^{2} a_{1}^{2}}{8} + \\frac{\\left(a^{\\dagger}_{1}\\right)^{3} a_{1}}{8} + \\frac{\\left(a^{\\dagger}_{1}\\right)^{4}}{8} + \\frac{131836323 a_{0}}{93222358} - \\frac{131836323 a_{0} \\chi^{\\dagger}_{0} \\chi_{0}}{93222358} - \\frac{11 a_{0} a^{\\dagger}_{0}}{16} + \\frac{3998607 a_{0} a^{\\dagger}_{0} a^{\\dagger}_{1}}{45239074} + \\frac{a_{0} a^{\\dagger}_{0} a_{0} a^{\\dagger}_{0}}{8} + \\frac{a_{0} a^{\\dagger}_{0} a_{0}^{2}}{8} + \\frac{3998607 a_{0} a^{\\dagger}_{0} a_{1}}{45239074} + \\frac{a_{0} \\left(a^{\\dagger}_{0}\\right)^{2} a_{0}}{8} + \\frac{a_{0} \\left(a^{\\dagger}_{0}\\right)^{3}}{8} - \\frac{3998607 a_{0} a^{\\dagger}_{1} a_{1}}{45239074} - \\frac{3998607 a_{0} \\left(a^{\\dagger}_{1}\\right)^{2}}{45239074} - \\frac{3998607 a_{0} a_{1} a^{\\dagger}_{1}}{45239074} - \\frac{3998607 a_{0} a_{1}^{2}}{45239074} - \\frac{19 a_{0}^{2}}{16} + \\frac{a_{0}^{2} a^{\\dagger}_{0} a_{0}}{8} + \\frac{a_{0}^{2} \\left(a^{\\dagger}_{0}\\right)^{2}}{8} + \\frac{3998607 a_{0}^{2} a^{\\dagger}_{1}}{45239074} + \\frac{3998607 a_{0}^{2} a_{1}}{45239074} + \\frac{a_{0}^{3} a^{\\dagger}_{0}}{8} + \\frac{a_{0}^{4}}{8} - \\frac{131836323 a_{1}}{93222358} + \\frac{131836323 a_{1} \\chi^{\\dagger}_{1} \\chi_{1}}{93222358} + \\frac{3998607 a_{1} a^{\\dagger}_{0} a_{0}}{45239074} + \\frac{3998607 a_{1} \\left(a^{\\dagger}_{0}\\right)^{2}}{45239074} - \\frac{11 a_{1} a^{\\dagger}_{1}}{16} - \\frac{3998607 a_{1} a^{\\dagger}_{1} a^{\\dagger}_{0}}{45239074} - \\frac{3998607 a_{1} a^{\\dagger}_{1} a_{0}}{45239074} + \\frac{a_{1} a^{\\dagger}_{1} a_{1} a^{\\dagger}_{1}}{8} + \\frac{a_{1} a^{\\dagger}_{1} a_{1}^{2}}{8} + \\frac{a_{1} \\left(a^{\\dagger}_{1}\\right)^{2} a_{1}}{8} + \\frac{a_{1} \\left(a^{\\dagger}_{1}\\right)^{3}}{8} + \\frac{3998607 a_{1} a_{0} a^{\\dagger}_{0}}{45239074} + \\frac{3998607 a_{1} a_{0}^{2}}{45239074} - \\frac{19 a_{1}^{2}}{16} - \\frac{3998607 a_{1}^{2} a^{\\dagger}_{0}}{45239074} + \\frac{a_{1}^{2} a^{\\dagger}_{1} a_{1}}{8} + \\frac{a_{1}^{2} \\left(a^{\\dagger}_{1}\\right)^{2}}{8} - \\frac{3998607 a_{1}^{2} a_{0}}{45239074} + \\frac{a_{1}^{3} a^{\\dagger}_{1}}{8} + \\frac{a_{1}^{4}}{8}$"
      ],
      "text/plain": [
       "4 - \\chi^{\\dagger}_{0}*\\chi_{1}/2 - \\chi^{\\dagger}_{1}*\\chi_{0}/2 + 131836323*a^{\\dagger}_{0}/93222358 - 131836323*a^{\\dagger}_{0}*\\chi^{\\dagger}_{0}*\\chi_{0}/93222358 - 3998607*a^{\\dagger}_{0}*a^{\\dagger}_{1}*a_{1}/45239074 - 3998607*a^{\\dagger}_{0}*a^{\\dagger}_{1}**2/45239074 - 11*a^{\\dagger}_{0}*a_{0}/16 + a^{\\dagger}_{0}*a_{0}*a^{\\dagger}_{0}*a_{0}/8 + a^{\\dagger}_{0}*a_{0}*a^{\\dagger}_{0}**2/8 + 3998607*a^{\\dagger}_{0}*a_{0}*a^{\\dagger}_{1}/45239074 + 3998607*a^{\\dagger}_{0}*a_{0}*a_{1}/45239074 + a^{\\dagger}_{0}*a_{0}**2*a^{\\dagger}_{0}/8 + a^{\\dagger}_{0}*a_{0}**3/8 - 3998607*a^{\\dagger}_{0}*a_{1}*a^{\\dagger}_{1}/45239074 - 3998607*a^{\\dagger}_{0}*a_{1}**2/45239074 - 19*a^{\\dagger}_{0}**2/16 + 3998607*a^{\\dagger}_{0}**2*a^{\\dagger}_{1}/45239074 + a^{\\dagger}_{0}**2*a_{0}*a^{\\dagger}_{0}/8 + a^{\\dagger}_{0}**2*a_{0}**2/8 + 3998607*a^{\\dagger}_{0}**2*a_{1}/45239074 + a^{\\dagger}_{0}**3*a_{0}/8 + a^{\\dagger}_{0}**4/8 - 131836323*a^{\\dagger}_{1}/93222358 + 131836323*a^{\\dagger}_{1}*\\chi^{\\dagger}_{1}*\\chi_{1}/93222358 + 3998607*a^{\\dagger}_{1}*a^{\\dagger}_{0}*a_{0}/45239074 + 3998607*a^{\\dagger}_{1}*a^{\\dagger}_{0}**2/45239074 + 3998607*a^{\\dagger}_{1}*a_{0}*a^{\\dagger}_{0}/45239074 + 3998607*a^{\\dagger}_{1}*a_{0}**2/45239074 - 11*a^{\\dagger}_{1}*a_{1}/16 - 3998607*a^{\\dagger}_{1}*a_{1}*a^{\\dagger}_{0}/45239074 + a^{\\dagger}_{1}*a_{1}*a^{\\dagger}_{1}*a_{1}/8 + a^{\\dagger}_{1}*a_{1}*a^{\\dagger}_{1}**2/8 - 3998607*a^{\\dagger}_{1}*a_{1}*a_{0}/45239074 + a^{\\dagger}_{1}*a_{1}**2*a^{\\dagger}_{1}/8 + a^{\\dagger}_{1}*a_{1}**3/8 - 19*a^{\\dagger}_{1}**2/16 - 3998607*a^{\\dagger}_{1}**2*a^{\\dagger}_{0}/45239074 - 3998607*a^{\\dagger}_{1}**2*a_{0}/45239074 + a^{\\dagger}_{1}**2*a_{1}*a^{\\dagger}_{1}/8 + a^{\\dagger}_{1}**2*a_{1}**2/8 + a^{\\dagger}_{1}**3*a_{1}/8 + a^{\\dagger}_{1}**4/8 + 131836323*a_{0}/93222358 - 131836323*a_{0}*\\chi^{\\dagger}_{0}*\\chi_{0}/93222358 - 11*a_{0}*a^{\\dagger}_{0}/16 + 3998607*a_{0}*a^{\\dagger}_{0}*a^{\\dagger}_{1}/45239074 + a_{0}*a^{\\dagger}_{0}*a_{0}*a^{\\dagger}_{0}/8 + a_{0}*a^{\\dagger}_{0}*a_{0}**2/8 + 3998607*a_{0}*a^{\\dagger}_{0}*a_{1}/45239074 + a_{0}*a^{\\dagger}_{0}**2*a_{0}/8 + a_{0}*a^{\\dagger}_{0}**3/8 - 3998607*a_{0}*a^{\\dagger}_{1}*a_{1}/45239074 - 3998607*a_{0}*a^{\\dagger}_{1}**2/45239074 - 3998607*a_{0}*a_{1}*a^{\\dagger}_{1}/45239074 - 3998607*a_{0}*a_{1}**2/45239074 - 19*a_{0}**2/16 + a_{0}**2*a^{\\dagger}_{0}*a_{0}/8 + a_{0}**2*a^{\\dagger}_{0}**2/8 + 3998607*a_{0}**2*a^{\\dagger}_{1}/45239074 + 3998607*a_{0}**2*a_{1}/45239074 + a_{0}**3*a^{\\dagger}_{0}/8 + a_{0}**4/8 - 131836323*a_{1}/93222358 + 131836323*a_{1}*\\chi^{\\dagger}_{1}*\\chi_{1}/93222358 + 3998607*a_{1}*a^{\\dagger}_{0}*a_{0}/45239074 + 3998607*a_{1}*a^{\\dagger}_{0}**2/45239074 - 11*a_{1}*a^{\\dagger}_{1}/16 - 3998607*a_{1}*a^{\\dagger}_{1}*a^{\\dagger}_{0}/45239074 - 3998607*a_{1}*a^{\\dagger}_{1}*a_{0}/45239074 + a_{1}*a^{\\dagger}_{1}*a_{1}*a^{\\dagger}_{1}/8 + a_{1}*a^{\\dagger}_{1}*a_{1}**2/8 + a_{1}*a^{\\dagger}_{1}**2*a_{1}/8 + a_{1}*a^{\\dagger}_{1}**3/8 + 3998607*a_{1}*a_{0}*a^{\\dagger}_{0}/45239074 + 3998607*a_{1}*a_{0}**2/45239074 - 19*a_{1}**2/16 - 3998607*a_{1}**2*a^{\\dagger}_{0}/45239074 + a_{1}**2*a^{\\dagger}_{1}*a_{1}/8 + a_{1}**2*a^{\\dagger}_{1}**2/8 - 3998607*a_{1}**2*a_{0}/45239074 + a_{1}**3*a^{\\dagger}_{1}/8 + a_{1}**4/8"
      ]
     },
     "execution_count": 7,
     "metadata": {},
     "output_type": "execute_result"
    }
   ],
   "source": [
    "ham=0\n",
    "\n",
    "mass=1\n",
    "c=-2.0\n",
    "c2=1\n",
    "\n",
    "for i in range(1,N+1):\n",
    "    ham+=(bosonNI+bosonI+fermionNI).subs({\n",
    "        pn: ps[i],\n",
    "        qn: qs[i], qnP1: qs[i+1], qnM1: qs[i-1],\n",
    "        xn: xs[i], xnP1: xs[i+1],\n",
    "        xdn: xdags[i], xdnP1: xdags[i+1]\n",
    "    }).subs(boundaryConditions)\n",
    "\n",
    "def potential(n):\n",
    "    return c + c2*qs[n]*qs[n]\n",
    "\n",
    "potentialSubs={}\n",
    "for n in range(1,N+1):\n",
    "    potentialSubs[V(qs[n])]=potential(n)\n",
    "\n",
    "\n",
    "ham=sp.simplify(ham.subs(potentialSubs).subs(aLat,aVal))\n",
    "\n",
    "for i in range(1,N+1):\n",
    "    if i%2==0:\n",
    "        ham+=sp.simplify(fermionI.subs({qn: qs[i], xn: xs[i], xdn: xdags[i]}).subs(potentialSubs))\n",
    "    else:\n",
    "        ham-=sp.simplify(fermionI.subs({qn: qs[i], xn: xs[i], xdn: xdags[i]}).subs(potentialSubs))\n",
    "ham=sp.simplify(ham.subs(aLat,aVal))\n",
    "sp.expand(ham)\n",
    "\n",
    "m=1\n",
    "\n",
    "HOdofSubs = {}\n",
    "#offset because of BC\n",
    "for i in range(1,N+1):\n",
    "    HOdofSubs[qs[i]] = 0.5*sp.sqrt(2/m)*(aops[i] + adags[i])\n",
    "    HOdofSubs[ps[i]] = complex(0,1)*sp.sqrt(2*m)*(adags[i] - aops[i])/2 \n",
    "\n",
    "hoHam=sp.expand(ham.subs(HOdofSubs))\n",
    "hoHam=sp.nsimplify(hoHam,tolerance=1e-8)\n",
    "hoHam"
   ]
  },
  {
   "cell_type": "code",
   "execution_count": 8,
   "metadata": {},
   "outputs": [
    {
     "name": "stdout",
     "output_type": "stream",
     "text": [
      "--------- Lambda =  2  ----------\n",
      "0.40012616\n",
      "--------- Lambda =  4  ----------\n",
      "-0.51264554\n",
      "--------- Lambda =  6  ----------\n",
      "-0.49669805\n",
      "--------- Lambda =  8  ----------\n",
      "-0.57372546\n",
      "--------- Lambda =  10  ----------\n",
      "-0.26386544\n",
      "--------- Lambda =  12  ----------\n",
      "-0.014689057\n",
      "--------- Lambda =  14  ----------\n",
      "0.004979827\n",
      "--------- Lambda =  16  ----------\n",
      "-0.017483886\n"
     ]
    }
   ],
   "source": [
    "e0raw2p0=[]\n",
    "for cutoff in range(2,18,2):\n",
    "    print(\"--------- Lambda = \", cutoff, \" ----------\")\n",
    "    hamMat=convert_to_matrix(hoHam,cutoff,N,aops,adags,xs,xdags)\n",
    "    ens=scipy.sparse.linalg.eigs(hamMat,k=6,sigma=0.0)[0]\n",
    "    print(np.min(ens).real)\n",
    "    e0raw2p0.append(np.min(ens).real)"
   ]
  },
  {
   "attachments": {},
   "cell_type": "markdown",
   "metadata": {},
   "source": [
    "## Plot different C"
   ]
  },
  {
   "cell_type": "code",
   "execution_count": 9,
   "metadata": {},
   "outputs": [],
   "source": [
    "\n",
    "e0raw0p2=[-0.4870819,\n",
    "0.18196265,\n",
    "-0.017404668,\n",
    "0.13103375,\n",
    "0.19107112,\n",
    "0.19515413,\n",
    "0.19457427,\n",
    "0.19468053]"
   ]
  },
  {
   "cell_type": "code",
   "execution_count": 10,
   "metadata": {},
   "outputs": [],
   "source": [
    "e0raw0p4=[0.06428951,\n",
    "-0.15353835,\n",
    "-0.22874655,\n",
    "0.038857713,\n",
    "0.09883384,\n",
    "0.10344948,\n",
    "0.10074462,\n",
    "0.10215589]"
   ]
  },
  {
   "cell_type": "code",
   "execution_count": 11,
   "metadata": {},
   "outputs": [],
   "source": [
    "e0raw0p1=[-0.71500087,\n",
    "0.21914013,\n",
    "0.102370575,\n",
    "0.1982225,\n",
    "0.25477746,\n",
    "0.2583462,\n",
    "0.25848442,\n",
    "0.2582331]"
   ]
  },
  {
   "cell_type": "code",
   "execution_count": null,
   "metadata": {},
   "outputs": [],
   "source": []
  },
  {
   "cell_type": "code",
   "execution_count": 12,
   "metadata": {},
   "outputs": [
    {
     "data": {
      "image/png": "[encoded data removed]",
      "text/plain": [
       "<Figure size 1000x800 with 1 Axes>"
      ]
     },
     "metadata": {},
     "output_type": "display_data"
    }
   ],
   "source": [
    "import matplotlib.pyplot as plt\n",
    "\n",
    "import matplotlib \n",
    "#matplotlib.use(\"Agg\")\n",
    "plt.style.use(\"paper.mplstyle\")\n",
    "\n",
    "fig, ax = plt.subplots()\n",
    "\n",
    "plt.scatter([x for x in range(2,18,2)],[abs(en.real) for en in e0raw0p1], c='black', marker='o', label='c=-0.1')\n",
    "plt.scatter([x for x in range(2,18,2)],[abs(en.real) for en in e0raw0p2], c='red', marker='^', label='c=-0.2')\n",
    "plt.scatter([x for x in range(2,18,2)],[abs(en.real) for en in e0raw0p4], c='blue', marker='s', label='c=-0.4')\n",
    "plt.scatter([x for x in range(2,18,2)],[abs(en.real) for en in e0raw0p8], label='c=-0.8')\n",
    "plt.scatter([x+0.2 for x in range(2,18,2)],[abs(en.real) for en in e0raw2p0], label='c=-2.0')\n",
    "\n",
    "plt.xlabel('$\\\\Lambda$')\n",
    "plt.ylabel('$|E|$')\n",
    "\n",
    "plt.xlim(1.5,16.5)\n",
    "plt.ylim(0,0.6)\n",
    "#plt.yscale('log')\n",
    "\n",
    "\n",
    "plt.legend(loc='upper right')\n",
    "\n",
    "plt.savefig('Plots/WZ_2site_quad_allc_classical.pdf',bbox_inches='tight')"
   ]
  },
  {
   "cell_type": "code",
   "execution_count": null,
   "metadata": {},
   "outputs": [],
   "source": [
    "# try plotting this E vs C for a few lambda S\n",
    "# think about c->-infty limit"
   ]
  }
 ],
 "metadata": {
  "kernelspec": {
   "display_name": "QuantumComputing",
   "language": "python",
   "name": "python3"
  },
  "language_info": {
   "codemirror_mode": {
    "name": "ipython",
    "version": 3
   },
   "file_extension": ".py",
   "mimetype": "text/x-python",
   "name": "python",
   "nbconvert_exporter": "python",
   "pygments_lexer": "ipython3",
   "version": "3.10.8"
  },
  "orig_nbformat": 4,
  "vscode": {
   "interpreter": {
    "hash": "dfc1513c9f5f8583c962b570c720f173469c60e3f15ab7ebf484195cbf280654"
   }
  }
 },
 "nbformat": 4,
 "nbformat_minor": 2
}
