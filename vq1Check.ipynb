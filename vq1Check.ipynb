{
 "cells": [
  {
   "cell_type": "code",
   "execution_count": 1,
   "id": "35fb599a-cf58-4684-868e-af00cfc5fd63",
   "metadata": {},
   "outputs": [],
   "source": [
    "import sympy as sp\n",
    "from ham_to_sparse_matrix import *\n",
    "from constants import *\n",
    "import scipy.sparse.linalg"
   ]
  },
  {
   "cell_type": "code",
   "execution_count": 3,
   "id": "ebb7b611-8c3f-4a36-b71a-6b65f7733699",
   "metadata": {},
   "outputs": [],
   "source": [
    "bosonI=sp.expand( V(qn)*(qnP1-qnM1)/2 )"
   ]
  },
  {
   "cell_type": "code",
   "execution_count": 4,
   "id": "acf75536-c06e-4f3c-a852-919e1df599cf",
   "metadata": {},
   "outputs": [
    {
     "data": {
      "text/latex": [
       "$\\displaystyle \\frac{V{\\left(q_{n} \\right)} q_{n+1}}{2} - \\frac{V{\\left(q_{n} \\right)} q_{n-1}}{2}$"
      ],
      "text/plain": [
       "V(q_{n})*q_{n+1}/2 - V(q_{n})*q_{n-1}/2"
      ]
     },
     "execution_count": 4,
     "metadata": {},
     "output_type": "execute_result"
    }
   ],
   "source": [
    "bosonI"
   ]
  },
  {
   "cell_type": "code",
   "execution_count": 11,
   "id": "44dd5bb8-a1ad-41a2-bb42-72edf556cb6b",
   "metadata": {},
   "outputs": [],
   "source": [
    "N=3\n",
    "aVal=1\n",
    "\n",
    "# depends on finite-difference method\n",
    "qs=[SiteSymbol('q',str(i)) for i in range(-1,N+1,1)]\n",
    "# maybe make qs a normal site list\n",
    "# and make an extra boundaryQs list for q[-1], q[N]\n",
    "# counting would be normal computer science way for rest of code.\n",
    "\n",
    "ps=[SiteSymbol('p',str(i)) for i in range(-1,N+1,1)] # don't really need extras\n",
    "aops=[SiteSymbol('a',str(i)) for i in range(-1,N+1,1)]\n",
    "adags=[SiteSymbol('a^{\\dagger}',str(i)) for i in range(-1,N+1,1)]\n",
    "xs=[SiteSymbol('\\chi',str(i)) for i in range(-1,N+1,1)]\n",
    "xdags=[SiteSymbol('\\chi^{\\dagger}',str(i)) for i in range(-1,N+1,1)]\n",
    "\n",
    "# note this is exactly hardcoded for this finite difference method.\n",
    "bcType = 'periodic'\n",
    "boundaryConditions = {}\n",
    "if bcType == 'periodic':\n",
    "    boundaryConditions = {qs[0]: qs[N], qs[N+1]: qs[1],\n",
    "                          xs[0]: -xs[N], xs[N+1]: -xs[1], \n",
    "                          xdags[0]: -xdags[N],  xdags[N+1]: -xdags[1]\n",
    "                         }\n",
    "    \n",
    "elif bcType == 'dirichlet':\n",
    "    boundaryConditions = { qs[0]: 0, qs[N+1]: 0,\n",
    "                          xs[0]: 0, xs[N+1]: 0,\n",
    "                          xdags[0]: 0, xdags[N+1]:0\n",
    "                         }\n",
    "\n",
    "ham=0\n",
    "    \n",
    "for i in range(1,N+1):\n",
    "    ham+=(bosonI).subs({\n",
    "        pn: ps[i],\n",
    "        qn: qs[i], qnP1: qs[i+1], qnM1: qs[i-1],\n",
    "        xn: xs[i], xnP1: xs[i+1],\n",
    "        xdn: xdags[i], xdnP1: xdags[i+1]\n",
    "    }).subs(boundaryConditions)\n",
    "    \n",
    "def potential(n):\n",
    "    # m*q with m=1\n",
    "    return qs[n]\n",
    "\n",
    "potentialSubs={}\n",
    "for n in range(1,N+1):\n",
    "    potentialSubs[V(qs[n])]=potential(n)\n",
    "\n",
    "\n",
    "ham=sp.simplify(ham.subs(potentialSubs))"
   ]
  },
  {
   "cell_type": "code",
   "execution_count": 12,
   "id": "f8753e2d-9502-4151-8b3c-dac0d2a43e5f",
   "metadata": {},
   "outputs": [
    {
     "data": {
      "text/latex": [
       "$\\displaystyle \\frac{q_{0} q_{1} - q_{0} q_{2} - q_{1} q_{0} + q_{1} q_{2} + q_{2} q_{0} - q_{2} q_{1}}{2}$"
      ],
      "text/plain": [
       "(q_{0}*q_{1} - q_{0}*q_{2} - q_{1}*q_{0} + q_{1}*q_{2} + q_{2}*q_{0} - q_{2}*q_{1})/2"
      ]
     },
     "execution_count": 12,
     "metadata": {},
     "output_type": "execute_result"
    }
   ],
   "source": [
    "ham"
   ]
  },
  {
   "cell_type": "code",
   "execution_count": 13,
   "id": "a26b7519-d0e8-406e-8c42-f58ada2224c5",
   "metadata": {},
   "outputs": [
    {
     "data": {
      "text/latex": [
       "$\\displaystyle \\frac{a^{\\dagger}_{0} a^{\\dagger}_{1}}{4} - \\frac{a^{\\dagger}_{0} a^{\\dagger}_{2}}{4} + \\frac{a^{\\dagger}_{0} a_{1}}{4} - \\frac{a^{\\dagger}_{0} a_{2}}{4} - \\frac{a^{\\dagger}_{1} a^{\\dagger}_{0}}{4} + \\frac{a^{\\dagger}_{1} a^{\\dagger}_{2}}{4} - \\frac{a^{\\dagger}_{1} a_{0}}{4} + \\frac{a^{\\dagger}_{1} a_{2}}{4} + \\frac{a^{\\dagger}_{2} a^{\\dagger}_{0}}{4} - \\frac{a^{\\dagger}_{2} a^{\\dagger}_{1}}{4} + \\frac{a^{\\dagger}_{2} a_{0}}{4} - \\frac{a^{\\dagger}_{2} a_{1}}{4} + \\frac{a_{0} a^{\\dagger}_{1}}{4} - \\frac{a_{0} a^{\\dagger}_{2}}{4} + \\frac{a_{0} a_{1}}{4} - \\frac{a_{0} a_{2}}{4} - \\frac{a_{1} a^{\\dagger}_{0}}{4} + \\frac{a_{1} a^{\\dagger}_{2}}{4} - \\frac{a_{1} a_{0}}{4} + \\frac{a_{1} a_{2}}{4} + \\frac{a_{2} a^{\\dagger}_{0}}{4} - \\frac{a_{2} a^{\\dagger}_{1}}{4} + \\frac{a_{2} a_{0}}{4} - \\frac{a_{2} a_{1}}{4}$"
      ],
      "text/plain": [
       "a^{\\dagger}_{0}*a^{\\dagger}_{1}/4 - a^{\\dagger}_{0}*a^{\\dagger}_{2}/4 + a^{\\dagger}_{0}*a_{1}/4 - a^{\\dagger}_{0}*a_{2}/4 - a^{\\dagger}_{1}*a^{\\dagger}_{0}/4 + a^{\\dagger}_{1}*a^{\\dagger}_{2}/4 - a^{\\dagger}_{1}*a_{0}/4 + a^{\\dagger}_{1}*a_{2}/4 + a^{\\dagger}_{2}*a^{\\dagger}_{0}/4 - a^{\\dagger}_{2}*a^{\\dagger}_{1}/4 + a^{\\dagger}_{2}*a_{0}/4 - a^{\\dagger}_{2}*a_{1}/4 + a_{0}*a^{\\dagger}_{1}/4 - a_{0}*a^{\\dagger}_{2}/4 + a_{0}*a_{1}/4 - a_{0}*a_{2}/4 - a_{1}*a^{\\dagger}_{0}/4 + a_{1}*a^{\\dagger}_{2}/4 - a_{1}*a_{0}/4 + a_{1}*a_{2}/4 + a_{2}*a^{\\dagger}_{0}/4 - a_{2}*a^{\\dagger}_{1}/4 + a_{2}*a_{0}/4 - a_{2}*a_{1}/4"
      ]
     },
     "execution_count": 13,
     "metadata": {},
     "output_type": "execute_result"
    }
   ],
   "source": [
    "m=1\n",
    "\n",
    "HOdofSubs = {}\n",
    "#offset because of BC\n",
    "for i in range(1,N+1):\n",
    "    HOdofSubs[qs[i]] = 0.5*sp.sqrt(2/m)*(aops[i] + adags[i])\n",
    "    HOdofSubs[ps[i]] = complex(0,1)*sp.sqrt(2*m)*(adags[i] - aops[i])/2 \n",
    "\n",
    "hoHam=sp.expand(ham.subs(HOdofSubs))\n",
    "hoHam=sp.nsimplify(hoHam,tolerance=1e-8)\n",
    "hoHam"
   ]
  },
  {
   "cell_type": "code",
   "execution_count": 16,
   "id": "6fbb41d3-842c-43a2-a7f6-de9adff353db",
   "metadata": {},
   "outputs": [],
   "source": [
    "cutoff=6\n",
    "hamMat=convert_to_matrix(hoHam,cutoff,N,aops,adags,xs,xdags)"
   ]
  },
  {
   "cell_type": "code",
   "execution_count": 17,
   "id": "50ef8078-164d-4e21-8ed2-8895aebeaf96",
   "metadata": {},
   "outputs": [
    {
     "data": {
      "text/plain": [
       "<1728x1728 sparse matrix of type '<class 'numpy.complex64'>'\n",
       "\twith 0 stored elements in Compressed Sparse Row format>"
      ]
     },
     "execution_count": 17,
     "metadata": {},
     "output_type": "execute_result"
    }
   ],
   "source": [
    "hamMat"
   ]
  },
  {
   "cell_type": "markdown",
   "id": "46e75b1f-f09e-4d1e-8d00-26112ab9a9d7",
   "metadata": {},
   "source": [
    "as expected in \"Supersymmetry on the lattice\" by rittenberg & yankielowicz\""
   ]
  }
 ],
 "metadata": {
  "kernelspec": {
   "display_name": "Python 3 (ipykernel)",
   "language": "python",
   "name": "python3"
  },
  "language_info": {
   "codemirror_mode": {
    "name": "ipython",
    "version": 3
   },
   "file_extension": ".py",
   "mimetype": "text/x-python",
   "name": "python",
   "nbconvert_exporter": "python",
   "pygments_lexer": "ipython3",
   "version": "3.9.7"
  }
 },
 "nbformat": 4,
 "nbformat_minor": 5
}
