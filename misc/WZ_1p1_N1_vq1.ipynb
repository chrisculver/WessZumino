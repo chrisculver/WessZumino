{
 "cells": [
  {
   "cell_type": "markdown",
   "metadata": {},
   "source": [
    "# Wess Zumino \n",
    "\n",
    "## N=1 in 1+1\n",
    "\n",
    "The Hamiltonian with a central difference for the derivative is given by \n",
    "\n",
    "\\begin{align}\n",
    "    H=\\sum_n&\\left[ \\frac{p_n^2}{2a} + \\frac{a}{2}\\left(\\frac{\\phi_{n+1}-\\phi_{n-1}}{2a}\\right)^2+\\frac{a}{2}V(\\phi_n)^2\n",
    "            +aV(\\phi_n)\\frac{\\phi_{n+1}-\\phi_{n-1}}{2a} \\right. \\nonumber \\\\\n",
    "            &\\left.+(-1)^nV'(\\phi_n)\\left(\\chi_n^{\\dagger}\\chi_n-\\frac{1}{2}\\right)\n",
    "            +\\frac{1}{2a}\\left(\\chi_n^{\\dagger}\\chi_{n+1}+\\chi_{n+1}^{\\dagger}\\chi_n\\right) \\right],\n",
    "\\end{align}"
   ]
  },
  {
   "cell_type": "markdown",
   "metadata": {},
   "source": [
    "## TODO \n",
    "\n",
    "- CHECK CORRECTNESS!\n",
    "- Use buffer for creating bosonic matrices\n",
    "\n",
    "Then I can immediately start repeating exercises of 0+1\n",
    "\n",
    "\n",
    "## Improvements\n",
    "\n",
    "- Only make matrix of Bosons tensored with fermions (better PS representation)\n",
    "- State ordering option for b0-f0-b1-f1-b2-f2 OR b0-b1-b2-f0-f1-f2\n",
    "\n",
    "## \"Parameters\"\n",
    "\n",
    "- Potential\n",
    "- (NEW) Lattice Spacing & Sites\n",
    "- (NEW) Boundary conditions\n",
    "- Bosonic dof cutoff\n",
    "- (NEW) State order - for efficiencies sake.\n",
    "- Binary Encoding\n",
    "\n",
    "\n",
    "## Plan \n",
    "\n",
    "- Exact diagonalization of Hamiltonian - spectrum vs \"parameters\"\n",
    "- VQE in QISKIT - quantum procedure\n",
    "- Machine Learning ground state - compare to old studies\n",
    "- Gate count for trotter steps"
   ]
  },
  {
   "cell_type": "code",
   "execution_count": 1,
   "metadata": {},
   "outputs": [],
   "source": [
    "import sympy as sp\n",
    "from ham_to_matrix import *\n",
    "from constants import *\n"
   ]
  },
  {
   "cell_type": "code",
   "execution_count": 2,
   "metadata": {},
   "outputs": [],
   "source": [
    "bosonNI=sp.expand( pn**2/(2*aLat) + (aLat/2)*((qnP1-qnM1)/(2*aLat))**2 )\n",
    "bosonI=sp.expand( (aLat/2)*V(qn)**2 + aLat*V(qn)*(qnP1-qnM1)/(2*aLat) )\n",
    "fermionNI=sp.expand( (xdnP1*xn+xdn*xnP1)/(2*aLat) )\n",
    "fermionI=sp.expand( (-1)**n*sp.diff(V(qn),qn)*(xdn*xn-(1/2)) )"
   ]
  },
  {
   "cell_type": "code",
   "execution_count": 3,
   "metadata": {},
   "outputs": [
    {
     "data": {
      "text/latex": [
       "$\\displaystyle \\frac{a V^{2}{\\left(q_{n} \\right)}}{2} + \\frac{V{\\left(q_{n} \\right)} q_{n+1}}{2} - \\frac{V{\\left(q_{n} \\right)} q_{n-1}}{2} + \\frac{p_{n}^{2}}{2 a} - \\frac{q_{n+1} q_{n-1}}{8 a} + \\frac{q_{n+1}^{2}}{8 a} - \\frac{q_{n-1} q_{n+1}}{8 a} + \\frac{q_{n-1}^{2}}{8 a}$"
      ],
      "text/plain": [
       "a*V(q_{n})**2/2 + V(q_{n})*q_{n+1}/2 - V(q_{n})*q_{n-1}/2 + p_{n}**2/(2*a) - q_{n+1}*q_{n-1}/(8*a) + q_{n+1}**2/(8*a) - q_{n-1}*q_{n+1}/(8*a) + q_{n-1}**2/(8*a)"
      ]
     },
     "execution_count": 3,
     "metadata": {},
     "output_type": "execute_result"
    }
   ],
   "source": [
    "bosonNI+bosonI"
   ]
  },
  {
   "cell_type": "code",
   "execution_count": 4,
   "metadata": {},
   "outputs": [
    {
     "data": {
      "text/latex": [
       "$\\displaystyle - 0.5 \\left(-1\\right)^{n} \\frac{d}{d q_{n}} V{\\left(q_{n} \\right)} + \\left(-1\\right)^{n} \\frac{d}{d q_{n}} V{\\left(q_{n} \\right)} \\chi^{\\dagger}_{n} \\chi_{n} + \\frac{\\chi^{\\dagger}_{n+1} \\chi_{n}}{2 a} + \\frac{\\chi^{\\dagger}_{n} \\chi_{n+1}}{2 a}$"
      ],
      "text/plain": [
       "-0.5*(-1)**n*Derivative(V(q_{n}), q_{n}) + (-1)**n*Derivative(V(q_{n}), q_{n})*\\chi^{\\dagger}_{n}*\\chi_{n} + \\chi^{\\dagger}_{n+1}*\\chi_{n}/(2*a) + \\chi^{\\dagger}_{n}*\\chi_{n+1}/(2*a)"
      ]
     },
     "execution_count": 4,
     "metadata": {},
     "output_type": "execute_result"
    }
   ],
   "source": [
    "fermionNI + fermionI"
   ]
  },
  {
   "cell_type": "code",
   "execution_count": 5,
   "metadata": {},
   "outputs": [],
   "source": [
    "N=3\n",
    "aVal=1\n",
    "\n",
    "# depends on finite-difference method\n",
    "qs=[SiteSymbol('q',str(i)) for i in range(-1,N+1,1)]\n",
    "# maybe make qs a normal site list\n",
    "# and make an extra boundaryQs list for q[-1], q[N]\n",
    "# counting would be normal computer science way for rest of code.\n",
    "\n",
    "ps=[SiteSymbol('p',str(i)) for i in range(-1,N+1,1)] # don't really need extras\n",
    "aops=[SiteSymbol('a',str(i)) for i in range(-1,N+1,1)]\n",
    "adags=[SiteSymbol('a^{\\dagger}',str(i)) for i in range(-1,N+1,1)]\n",
    "xs=[SiteSymbol('\\chi',str(i)) for i in range(-1,N+1,1)]\n",
    "xdags=[SiteSymbol('\\chi^{\\dagger}',str(i)) for i in range(-1,N+1,1)]\n",
    "\n",
    "# note this is exactly hardcoded for this finite difference method.\n",
    "bcType = 'periodic'\n",
    "boundaryConditions = {}\n",
    "if bcType == 'periodic':\n",
    "    boundaryConditions = {qs[0]: qs[N], qs[N+1]: qs[1],\n",
    "                          xs[0]: -xs[N], xs[N+1]: -xs[1], \n",
    "                          xdags[0]: -xdags[N],  xdags[N+1]: -xdags[1]\n",
    "                         }\n",
    "    \n",
    "elif bcType == 'dirichlet':\n",
    "    boundaryConditions = { qs[0]: 0, qs[N+1]: 0,\n",
    "                          xs[0]: 0, xs[N+1]: 0,\n",
    "                          xdags[0]: 0, xdags[N+1]:0\n",
    "                         }"
   ]
  },
  {
   "cell_type": "code",
   "execution_count": 6,
   "metadata": {},
   "outputs": [
    {
     "data": {
      "text/latex": [
       "$\\displaystyle - 0.5 \\left(-1\\right)^{n} \\frac{d}{d q_{n}} V{\\left(q_{n} \\right)} + \\left(-1\\right)^{n} \\frac{d}{d q_{n}} V{\\left(q_{n} \\right)} \\chi^{\\dagger}_{n} \\chi_{n} + \\frac{a V^{2}{\\left(q_{n} \\right)}}{2} + \\frac{V{\\left(q_{n} \\right)} q_{n+1}}{2} - \\frac{V{\\left(q_{n} \\right)} q_{n-1}}{2} + \\frac{\\chi^{\\dagger}_{n+1} \\chi_{n}}{2 a} + \\frac{\\chi^{\\dagger}_{n} \\chi_{n+1}}{2 a} + \\frac{p_{n}^{2}}{2 a} - \\frac{q_{n+1} q_{n-1}}{8 a} + \\frac{q_{n+1}^{2}}{8 a} - \\frac{q_{n-1} q_{n+1}}{8 a} + \\frac{q_{n-1}^{2}}{8 a}$"
      ],
      "text/plain": [
       "-0.5*(-1)**n*Derivative(V(q_{n}), q_{n}) + (-1)**n*Derivative(V(q_{n}), q_{n})*\\chi^{\\dagger}_{n}*\\chi_{n} + a*V(q_{n})**2/2 + V(q_{n})*q_{n+1}/2 - V(q_{n})*q_{n-1}/2 + \\chi^{\\dagger}_{n+1}*\\chi_{n}/(2*a) + \\chi^{\\dagger}_{n}*\\chi_{n+1}/(2*a) + p_{n}**2/(2*a) - q_{n+1}*q_{n-1}/(8*a) + q_{n+1}**2/(8*a) - q_{n-1}*q_{n+1}/(8*a) + q_{n-1}**2/(8*a)"
      ]
     },
     "execution_count": 6,
     "metadata": {},
     "output_type": "execute_result"
    }
   ],
   "source": [
    "totHam=bosonNI+bosonI+fermionNI+fermionI\n",
    "totHam"
   ]
  },
  {
   "cell_type": "code",
   "execution_count": 7,
   "metadata": {},
   "outputs": [
    {
     "data": {
      "text/latex": [
       "$\\displaystyle \\frac{4.0 - 8 \\chi^{\\dagger}_{0} \\chi_{0} + 4 \\chi^{\\dagger}_{0} \\chi_{1} - 4 \\chi^{\\dagger}_{0} \\chi_{2} + 4 \\chi^{\\dagger}_{1} \\chi_{0} + 8 \\chi^{\\dagger}_{1} \\chi_{1} + 4 \\chi^{\\dagger}_{1} \\chi_{2} - 4 \\chi^{\\dagger}_{2} \\chi_{0} + 4 \\chi^{\\dagger}_{2} \\chi_{1} - 8 \\chi^{\\dagger}_{2} \\chi_{2} + 4 p_{0}^{2} + 4 p_{1}^{2} + 4 p_{2}^{2} + 3 q_{0} q_{1} - 5 q_{0} q_{2} + 6 q_{0}^{2} - 5 q_{1} q_{0} + 3 q_{1} q_{2} + 6 q_{1}^{2} + 3 q_{2} q_{0} - 5 q_{2} q_{1} + 6 q_{2}^{2}}{8}$"
      ],
      "text/plain": [
       "(4.0 - 8*\\chi^{\\dagger}_{0}*\\chi_{0} + 4*\\chi^{\\dagger}_{0}*\\chi_{1} - 4*\\chi^{\\dagger}_{0}*\\chi_{2} + 4*\\chi^{\\dagger}_{1}*\\chi_{0} + 8*\\chi^{\\dagger}_{1}*\\chi_{1} + 4*\\chi^{\\dagger}_{1}*\\chi_{2} - 4*\\chi^{\\dagger}_{2}*\\chi_{0} + 4*\\chi^{\\dagger}_{2}*\\chi_{1} - 8*\\chi^{\\dagger}_{2}*\\chi_{2} + 4*p_{0}**2 + 4*p_{1}**2 + 4*p_{2}**2 + 3*q_{0}*q_{1} - 5*q_{0}*q_{2} + 6*q_{0}**2 - 5*q_{1}*q_{0} + 3*q_{1}*q_{2} + 6*q_{1}**2 + 3*q_{2}*q_{0} - 5*q_{2}*q_{1} + 6*q_{2}**2)/8"
      ]
     },
     "execution_count": 7,
     "metadata": {},
     "output_type": "execute_result"
    }
   ],
   "source": [
    "ham=0\n",
    "\n",
    "for i in range(1,N+1):\n",
    "    ham+=(bosonNI+bosonI+fermionNI).subs({\n",
    "        pn: ps[i],\n",
    "        qn: qs[i], qnP1: qs[i+1], qnM1: qs[i-1],\n",
    "        xn: xs[i], xnP1: xs[i+1],\n",
    "        xdn: xdags[i], xdnP1: xdags[i+1]\n",
    "    }).subs(boundaryConditions)\n",
    "    \n",
    "# ham.subs(boundaryConditions).doit() # this doesn't work?\n",
    "\n",
    "\n",
    "def potential(n):\n",
    "    # m*q with m=1\n",
    "    return qs[n]\n",
    "\n",
    "potentialSubs={}\n",
    "for n in range(1,N+1):\n",
    "    potentialSubs[V(qs[n])]=potential(n)\n",
    "\n",
    "ham=sp.simplify(ham.subs(potentialSubs).subs(aLat,aVal))\n",
    "\n",
    "\n",
    "for i in range(1,N+1):\n",
    "    if i%2==0:\n",
    "        ham+=sp.simplify(fermionI.subs({qn: qs[i], xn: xs[i], xdn: xdags[i]}).subs(potentialSubs)).subs((-1)**n,1)\n",
    "    else:\n",
    "        ham-=sp.simplify(fermionI.subs({qn: qs[i], xn: xs[i], xdn: xdags[i]}).subs(potentialSubs)).subs((-1)**n,1)\n",
    "ham=sp.simplify(ham)\n",
    "ham"
   ]
  },
  {
   "cell_type": "code",
   "execution_count": 8,
   "metadata": {},
   "outputs": [],
   "source": [
    "#ham=0\n",
    "#totHam=bosonNI+bosonI+fermionNI+fermionI\n",
    "#for i in range(0,N):\n",
    "#    ham+=totHam.subs(n,i).subs(boundaryConditions)\n",
    "# ham.subs(boundaryConditions).doit() # this doesn't work?\n",
    "\n",
    "#def potential(n):\n",
    "#    return q[n]\n",
    "\n",
    "#for n in range(0,N):\n",
    "#    ham=ham.subs(V(q[n]),potential(n))\n",
    "#ham=ham.subs(aLat,aVal).simplify().expand()\n",
    "#ham"
   ]
  },
  {
   "cell_type": "code",
   "execution_count": 9,
   "metadata": {},
   "outputs": [
    {
     "data": {
      "text/latex": [
       "$\\displaystyle \\frac{1}{2} - \\chi^{\\dagger}_{0} \\chi_{0} + \\frac{\\chi^{\\dagger}_{0} \\chi_{1}}{2} - \\frac{\\chi^{\\dagger}_{0} \\chi_{2}}{2} + \\frac{\\chi^{\\dagger}_{1} \\chi_{0}}{2} + \\chi^{\\dagger}_{1} \\chi_{1} + \\frac{\\chi^{\\dagger}_{1} \\chi_{2}}{2} - \\frac{\\chi^{\\dagger}_{2} \\chi_{0}}{2} + \\frac{\\chi^{\\dagger}_{2} \\chi_{1}}{2} - \\chi^{\\dagger}_{2} \\chi_{2} + \\frac{3 a^{\\dagger}_{0} a^{\\dagger}_{1}}{16} - \\frac{5 a^{\\dagger}_{0} a^{\\dagger}_{2}}{16} + \\frac{5 a^{\\dagger}_{0} a_{0}}{8} + \\frac{3 a^{\\dagger}_{0} a_{1}}{16} - \\frac{5 a^{\\dagger}_{0} a_{2}}{16} + \\frac{\\left(a^{\\dagger}_{0}\\right)^{2}}{8} - \\frac{5 a^{\\dagger}_{1} a^{\\dagger}_{0}}{16} + \\frac{3 a^{\\dagger}_{1} a^{\\dagger}_{2}}{16} - \\frac{5 a^{\\dagger}_{1} a_{0}}{16} + \\frac{5 a^{\\dagger}_{1} a_{1}}{8} + \\frac{3 a^{\\dagger}_{1} a_{2}}{16} + \\frac{\\left(a^{\\dagger}_{1}\\right)^{2}}{8} + \\frac{3 a^{\\dagger}_{2} a^{\\dagger}_{0}}{16} - \\frac{5 a^{\\dagger}_{2} a^{\\dagger}_{1}}{16} + \\frac{3 a^{\\dagger}_{2} a_{0}}{16} - \\frac{5 a^{\\dagger}_{2} a_{1}}{16} + \\frac{5 a^{\\dagger}_{2} a_{2}}{8} + \\frac{\\left(a^{\\dagger}_{2}\\right)^{2}}{8} + \\frac{5 a_{0} a^{\\dagger}_{0}}{8} + \\frac{3 a_{0} a^{\\dagger}_{1}}{16} - \\frac{5 a_{0} a^{\\dagger}_{2}}{16} + \\frac{3 a_{0} a_{1}}{16} - \\frac{5 a_{0} a_{2}}{16} + \\frac{a_{0}^{2}}{8} - \\frac{5 a_{1} a^{\\dagger}_{0}}{16} + \\frac{5 a_{1} a^{\\dagger}_{1}}{8} + \\frac{3 a_{1} a^{\\dagger}_{2}}{16} - \\frac{5 a_{1} a_{0}}{16} + \\frac{3 a_{1} a_{2}}{16} + \\frac{a_{1}^{2}}{8} + \\frac{3 a_{2} a^{\\dagger}_{0}}{16} - \\frac{5 a_{2} a^{\\dagger}_{1}}{16} + \\frac{5 a_{2} a^{\\dagger}_{2}}{8} + \\frac{3 a_{2} a_{0}}{16} - \\frac{5 a_{2} a_{1}}{16} + \\frac{a_{2}^{2}}{8}$"
      ],
      "text/plain": [
       "1/2 - \\chi^{\\dagger}_{0}*\\chi_{0} + \\chi^{\\dagger}_{0}*\\chi_{1}/2 - \\chi^{\\dagger}_{0}*\\chi_{2}/2 + \\chi^{\\dagger}_{1}*\\chi_{0}/2 + \\chi^{\\dagger}_{1}*\\chi_{1} + \\chi^{\\dagger}_{1}*\\chi_{2}/2 - \\chi^{\\dagger}_{2}*\\chi_{0}/2 + \\chi^{\\dagger}_{2}*\\chi_{1}/2 - \\chi^{\\dagger}_{2}*\\chi_{2} + 3*a^{\\dagger}_{0}*a^{\\dagger}_{1}/16 - 5*a^{\\dagger}_{0}*a^{\\dagger}_{2}/16 + 5*a^{\\dagger}_{0}*a_{0}/8 + 3*a^{\\dagger}_{0}*a_{1}/16 - 5*a^{\\dagger}_{0}*a_{2}/16 + a^{\\dagger}_{0}**2/8 - 5*a^{\\dagger}_{1}*a^{\\dagger}_{0}/16 + 3*a^{\\dagger}_{1}*a^{\\dagger}_{2}/16 - 5*a^{\\dagger}_{1}*a_{0}/16 + 5*a^{\\dagger}_{1}*a_{1}/8 + 3*a^{\\dagger}_{1}*a_{2}/16 + a^{\\dagger}_{1}**2/8 + 3*a^{\\dagger}_{2}*a^{\\dagger}_{0}/16 - 5*a^{\\dagger}_{2}*a^{\\dagger}_{1}/16 + 3*a^{\\dagger}_{2}*a_{0}/16 - 5*a^{\\dagger}_{2}*a_{1}/16 + 5*a^{\\dagger}_{2}*a_{2}/8 + a^{\\dagger}_{2}**2/8 + 5*a_{0}*a^{\\dagger}_{0}/8 + 3*a_{0}*a^{\\dagger}_{1}/16 - 5*a_{0}*a^{\\dagger}_{2}/16 + 3*a_{0}*a_{1}/16 - 5*a_{0}*a_{2}/16 + a_{0}**2/8 - 5*a_{1}*a^{\\dagger}_{0}/16 + 5*a_{1}*a^{\\dagger}_{1}/8 + 3*a_{1}*a^{\\dagger}_{2}/16 - 5*a_{1}*a_{0}/16 + 3*a_{1}*a_{2}/16 + a_{1}**2/8 + 3*a_{2}*a^{\\dagger}_{0}/16 - 5*a_{2}*a^{\\dagger}_{1}/16 + 5*a_{2}*a^{\\dagger}_{2}/8 + 3*a_{2}*a_{0}/16 - 5*a_{2}*a_{1}/16 + a_{2}**2/8"
      ]
     },
     "execution_count": 9,
     "metadata": {},
     "output_type": "execute_result"
    }
   ],
   "source": [
    "m=1\n",
    "\n",
    "HOdofSubs = {}\n",
    "#offset because of BC\n",
    "for i in range(1,N+1):\n",
    "    HOdofSubs[qs[i]] = 0.5*sp.sqrt(2/m)*(aops[i] + adags[i])\n",
    "    HOdofSubs[ps[i]] = complex(0,1)*sp.sqrt(2*m)*(adags[i] - aops[i])/2 \n",
    "\n",
    "hoHam=sp.expand(ham.subs(HOdofSubs))\n",
    "hoHam=sp.nsimplify(hoHam,tolerance=1e-8)\n",
    "hoHam"
   ]
  },
  {
   "cell_type": "code",
   "execution_count": 10,
   "metadata": {},
   "outputs": [
    {
     "name": "stdout",
     "output_type": "stream",
     "text": [
      "46\n",
      "1/2\n",
      "0\n"
     ]
    },
    {
     "data": {
      "text/plain": [
       "sympy.core.numbers.Half"
      ]
     },
     "execution_count": 10,
     "metadata": {},
     "output_type": "execute_result"
    }
   ],
   "source": [
    "print(len(hoHam.args))\n",
    "print(hoHam.args[0])\n",
    "print(len(hoHam.args[0].args))\n",
    "type(hoHam.args[0])\n"
   ]
  },
  {
   "cell_type": "code",
   "execution_count": 11,
   "metadata": {},
   "outputs": [
    {
     "name": "stdout",
     "output_type": "stream",
     "text": [
      "1/2 to matrix timer took: 27.5328 seconds\n",
      "a^{\\dagger}_{0}**2/8 to matrix timer took: 22.7929 seconds\n",
      "a^{\\dagger}_{1}**2/8 to matrix timer took: 24.4229 seconds\n",
      "a^{\\dagger}_{2}**2/8 to matrix timer took: 25.9828 seconds\n",
      "a_{0}**2/8 to matrix timer took: 25.7276 seconds\n",
      "a_{1}**2/8 to matrix timer took: 27.8256 seconds\n",
      "a_{2}**2/8 to matrix timer took: 32.8889 seconds\n",
      "\\chi^{\\dagger}_{1}*\\chi_{1} to matrix timer took: 46.3045 seconds\n",
      "\\chi^{\\dagger}_{0}*\\chi_{1}/2 to matrix timer took: 40.6826 seconds\n",
      "\\chi^{\\dagger}_{1}*\\chi_{0}/2 to matrix timer took: 38.9246 seconds\n",
      "\\chi^{\\dagger}_{1}*\\chi_{2}/2 to matrix timer took: 38.7343 seconds\n",
      "\\chi^{\\dagger}_{2}*\\chi_{1}/2 to matrix timer took: 38.0766 seconds\n",
      "-\\chi^{\\dagger}_{0}*\\chi_{0} to matrix timer took: 42.0039 seconds\n",
      "-\\chi^{\\dagger}_{2}*\\chi_{2} to matrix timer took: 36.6935 seconds\n",
      "-5*a^{\\dagger}_{0}*a^{\\dagger}_{2}/16 to matrix timer took: 36.8917 seconds\n",
      "-5*a^{\\dagger}_{0}*a_{2}/16 to matrix timer took: 37.2030 seconds\n",
      "-5*a^{\\dagger}_{1}*a^{\\dagger}_{0}/16 to matrix timer took: 37.6959 seconds\n",
      "-5*a^{\\dagger}_{1}*a_{0}/16 to matrix timer took: 36.3516 seconds\n",
      "-5*a^{\\dagger}_{2}*a^{\\dagger}_{1}/16 to matrix timer took: 37.2480 seconds\n",
      "-5*a^{\\dagger}_{2}*a_{1}/16 to matrix timer took: 36.7903 seconds\n",
      "-5*a_{0}*a^{\\dagger}_{2}/16 to matrix timer took: 36.5827 seconds\n",
      "-5*a_{0}*a_{2}/16 to matrix timer took: 36.0152 seconds\n",
      "-5*a_{1}*a^{\\dagger}_{0}/16 to matrix timer took: 36.6594 seconds\n",
      "-5*a_{1}*a_{0}/16 to matrix timer took: 36.3372 seconds\n",
      "-5*a_{2}*a^{\\dagger}_{1}/16 to matrix timer took: 36.5109 seconds\n",
      "-5*a_{2}*a_{1}/16 to matrix timer took: 37.5052 seconds\n",
      "-\\chi^{\\dagger}_{0}*\\chi_{2}/2 to matrix timer took: 37.1782 seconds\n",
      "-\\chi^{\\dagger}_{2}*\\chi_{0}/2 to matrix timer took: 36.1039 seconds\n",
      "3*a^{\\dagger}_{0}*a^{\\dagger}_{1}/16 to matrix timer took: 37.4068 seconds\n",
      "3*a^{\\dagger}_{0}*a_{1}/16 to matrix timer took: 37.4247 seconds\n",
      "3*a^{\\dagger}_{1}*a^{\\dagger}_{2}/16 to matrix timer took: 38.1960 seconds\n",
      "3*a^{\\dagger}_{1}*a_{2}/16 to matrix timer took: 37.5299 seconds\n",
      "3*a^{\\dagger}_{2}*a^{\\dagger}_{0}/16 to matrix timer took: 36.7707 seconds\n",
      "3*a^{\\dagger}_{2}*a_{0}/16 to matrix timer took: 37.6745 seconds\n",
      "3*a_{0}*a^{\\dagger}_{1}/16 to matrix timer took: 36.9769 seconds\n",
      "3*a_{0}*a_{1}/16 to matrix timer took: 36.4633 seconds\n",
      "3*a_{1}*a^{\\dagger}_{2}/16 to matrix timer took: 36.0753 seconds\n",
      "3*a_{1}*a_{2}/16 to matrix timer took: 37.5215 seconds\n",
      "3*a_{2}*a^{\\dagger}_{0}/16 to matrix timer took: 37.6239 seconds\n",
      "3*a_{2}*a_{0}/16 to matrix timer took: 36.9649 seconds\n",
      "5*a^{\\dagger}_{0}*a_{0}/8 to matrix timer took: 47.9918 seconds\n",
      "5*a^{\\dagger}_{1}*a_{1}/8 to matrix timer took: 47.2265 seconds\n",
      "5*a^{\\dagger}_{2}*a_{2}/8 to matrix timer took: 49.3710 seconds\n",
      "5*a_{0}*a^{\\dagger}_{0}/8 to matrix timer took: 54.1358 seconds\n",
      "5*a_{1}*a^{\\dagger}_{1}/8 to matrix timer took: 55.5970 seconds\n",
      "5*a_{2}*a^{\\dagger}_{2}/8 to matrix timer took: 54.9504 seconds\n"
     ]
    }
   ],
   "source": [
    "cutoff=4\n",
    "hamMat=convert_to_matrix(hoHam,cutoff,N,aops,adags,xs,xdags)"
   ]
  },
  {
   "cell_type": "code",
   "execution_count": 73,
   "metadata": {},
   "outputs": [
    {
     "name": "stdout",
     "output_type": "stream",
     "text": [
      "True\n"
     ]
    },
    {
     "data": {
      "text/plain": [
       "array([ 0.16245385+0.j,  0.63182336+0.j,  0.88924176+0.j,  1.0958083 +0.j,\n",
       "        1.0975872 +0.j,  1.3383303 +0.j,  1.3511114 +0.j,  1.5561869 +0.j,\n",
       "        1.5650233 +0.j,  1.7612298 +0.j,  1.8372842 +0.j,  1.9574362 +0.j,\n",
       "        1.9590553 +0.j,  2.0146573 +0.j,  2.059266  +0.j,  2.1875238 +0.j,\n",
       "        2.2179966 +0.j,  2.259836  +0.j,  2.2775965 +0.j,  2.4114702 +0.j,\n",
       "        2.4189622 +0.j,  2.559221  +0.j,  2.6863763 +0.j,  2.7304463 +0.j,\n",
       "        2.7576501 +0.j,  2.76336   +0.j,  2.7719963 +0.j,  2.8995545 +0.j,\n",
       "        2.9272988 +0.j,  2.937113  +0.j,  2.9436085 +0.j,  3.1017852 +0.j,\n",
       "        3.1167312 +0.j,  3.1206114 +0.j,  3.1338205 +0.j,  3.2079763 +0.j,\n",
       "        3.2435696 +0.j,  3.3994672 +0.j,  3.4274263 +0.j,  3.594559  +0.j,\n",
       "        3.6052384 +0.j,  3.6150215 +0.j,  3.6208181 +0.j,  3.6285117 +0.j,\n",
       "        3.7612083 +0.j,  3.7884886 +0.j,  3.7948887 +0.j,  3.91954   +0.j,\n",
       "        3.9490516 +0.j,  3.9514186 +0.j,  3.9671693 +0.j,  4.1608353 +0.j,\n",
       "        4.16207   +0.j,  4.2613854 +0.j,  4.4195347 +0.j,  4.454246  +0.j,\n",
       "        4.46305   +0.j,  4.5814633 +0.j,  4.745396  +0.j,  4.8056664 +0.j,\n",
       "        5.0022225 +0.j,  5.003254  +0.j,  5.24539   +0.j,  5.7828174 +0.j,\n",
       "        5.9486494 +0.j,  5.958151  +0.j,  6.074201  +0.j,  6.0816994 +0.j,\n",
       "        6.0925007 +0.j,  6.2088056 +0.j,  6.421552  +0.j,  6.552722  +0.j,\n",
       "        6.9069695 +0.j,  6.909002  +0.j,  6.9678564 +0.j,  6.9781566 +0.j,\n",
       "        7.0380225 +0.j,  7.0405035 +0.j,  7.097849  +0.j,  7.1106963 +0.j,\n",
       "        7.47251   +0.j,  7.603853  +0.j,  7.6216936 +0.j,  7.623948  +0.j,\n",
       "        7.7437124 +0.j,  7.7602944 +0.j,  7.7647285 +0.j,  7.8141637 +0.j,\n",
       "        7.8840847 +0.j,  7.9346223 +0.j,  7.935104  +0.j,  7.942423  +0.j,\n",
       "        8.063368  +0.j,  8.0637665 +0.j,  8.08731   +0.j,  8.224379  +0.j,\n",
       "        8.571595  +0.j,  8.576048  +0.j,  8.636488  +0.j,  8.641613  +0.j,\n",
       "        8.709098  +0.j,  8.713064  +0.j,  8.719451  +0.j,  8.726283  +0.j,\n",
       "        8.773205  +0.j,  8.77941   +0.j,  8.829341  +0.j,  8.83316   +0.j,\n",
       "        8.843301  +0.j,  8.95199   +0.j,  9.138483  +0.j,  9.190704  +0.j,\n",
       "        9.275816  +0.j,  9.296645  +0.j,  9.476087  +0.j,  9.597096  +0.j,\n",
       "        9.59749   +0.j,  9.610326  +0.j,  9.675742  +0.j,  9.678327  +0.j,\n",
       "        9.731738  +0.j,  9.73241   +0.j,  9.738471  +0.j,  9.746057  +0.j,\n",
       "        9.781611  +0.j,  9.784372  +0.j,  9.845765  +0.j,  9.850697  +0.j,\n",
       "       10.241546  +0.j, 10.347586  +0.j, 10.58313   +0.j, 10.619908  +0.j,\n",
       "       10.624836  +0.j, 10.686297  +0.j, 10.701977  +0.j, 10.70367   +0.j,\n",
       "       10.736846  +0.j, 10.737724  +0.j, 10.742807  +0.j, 10.8067465 +0.j,\n",
       "       10.807848  +0.j, 10.857269  +0.j, 11.08896   +0.j, 11.200711  +0.j,\n",
       "       11.572586  +0.j, 11.577528  +0.j, 11.636671  +0.j, 11.64394   +0.j,\n",
       "       11.684489  +0.j, 11.689294  +0.j, 11.749628  +0.j, 11.754653  +0.j,\n",
       "       12.13908   +0.j, 12.250899  +0.j, 12.479597  +0.j, 12.588771  +0.j,\n",
       "       12.599198  +0.j, 12.599963  +0.j, 12.707872  +0.j, 12.708903  +0.j,\n",
       "       13.048905  +0.j, 13.060762  +0.j, 13.064888  +0.j, 13.35047   +0.j,\n",
       "       13.363722  +0.j, 13.367814  +0.j, 13.893584  +0.j, 13.896536  +0.j,\n",
       "       13.897394  +0.j, 13.906145  +0.j, 13.907394  +0.j, 13.948158  +0.j,\n",
       "       14.191489  +0.j, 14.191948  +0.j, 14.206857  +0.j, 14.2074995 +0.j,\n",
       "       14.243273  +0.j, 14.2696495 +0.j, 14.281068  +0.j, 14.287548  +0.j,\n",
       "       14.292472  +0.j, 14.336722  +0.j, 14.337686  +0.j, 14.423154  +0.j,\n",
       "       14.692403  +0.j, 14.74514   +0.j, 14.746689  +0.j, 14.7973585 +0.j,\n",
       "       14.820084  +0.j, 15.061798  +0.j, 15.070191  +0.j, 15.074466  +0.j,\n",
       "       15.077685  +0.j, 15.082969  +0.j, 15.083699  +0.j, 15.113734  +0.j,\n",
       "       15.114587  +0.j, 15.132106  +0.j, 15.135063  +0.j, 15.165726  +0.j,\n",
       "       15.191109  +0.j, 15.192795  +0.j, 15.259373  +0.j, 15.263165  +0.j,\n",
       "       15.318153  +0.j, 15.320645  +0.j, 15.633289  +0.j, 15.760995  +0.j,\n",
       "       15.885833  +0.j, 15.886172  +0.j, 15.900346  +0.j, 15.900785  +0.j,\n",
       "       15.908405  +0.j, 15.909033  +0.j, 15.95197   +0.j, 15.960674  +0.j,\n",
       "       15.97234   +0.j, 16.022182  +0.j, 16.022224  +0.j, 16.027882  +0.j,\n",
       "       16.108875  +0.j, 16.124897  +0.j, 16.12694   +0.j, 16.152187  +0.j,\n",
       "       16.249489  +0.j, 16.252247  +0.j, 16.36824   +0.j, 16.501627  +0.j,\n",
       "       16.80711   +0.j, 16.811676  +0.j, 16.865007  +0.j, 16.869486  +0.j,\n",
       "       16.94083   +0.j, 16.945026  +0.j, 16.974451  +0.j, 16.974987  +0.j,\n",
       "       16.9988    +0.j, 17.00276   +0.j, 17.060225  +0.j, 17.080038  +0.j,\n",
       "       17.080627  +0.j, 17.166231  +0.j, 17.308928  +0.j, 17.442547  +0.j,\n",
       "       17.459972  +0.j, 17.56312   +0.j, 17.698765  +0.j, 17.797356  +0.j,\n",
       "       17.798056  +0.j, 17.829334  +0.j, 17.899584  +0.j, 17.902576  +0.j,\n",
       "       17.928112  +0.j, 17.929321  +0.j, 17.957247  +0.j, 17.958876  +0.j,\n",
       "       17.995558  +0.j, 18.002836  +0.j, 18.005716  +0.j, 18.012472  +0.j,\n",
       "       18.018366  +0.j, 18.058668  +0.j, 18.059887  +0.j, 18.064936  +0.j,\n",
       "       18.077126  +0.j, 18.086266  +0.j, 18.400629  +0.j, 18.50386   +0.j,\n",
       "       18.792454  +0.j, 18.847094  +0.j, 18.849566  +0.j, 18.880663  +0.j,\n",
       "       18.880697  +0.j, 18.890965  +0.j, 18.892622  +0.j, 18.894758  +0.j,\n",
       "       18.900032  +0.j, 18.91189   +0.j, 18.916975  +0.j, 18.964283  +0.j,\n",
       "       18.966637  +0.j, 18.992188  +0.j, 18.992462  +0.j, 18.993513  +0.j,\n",
       "       18.994783  +0.j, 19.078194  +0.j, 19.365236  +0.j, 19.474066  +0.j,\n",
       "       19.507868  +0.j, 19.621925  +0.j, 19.803322  +0.j, 19.808558  +0.j,\n",
       "       19.861183  +0.j, 19.866282  +0.j, 19.912401  +0.j, 19.91728   +0.j,\n",
       "       19.970081  +0.j, 19.975128  +0.j, 20.304897  +0.j, 20.41378   +0.j,\n",
       "       20.697645  +0.j, 20.722628  +0.j, 20.79458   +0.j, 20.796162  +0.j,\n",
       "       20.80395   +0.j, 20.901922  +0.j, 20.903725  +0.j, 21.025028  +0.j,\n",
       "       21.27168   +0.j, 21.279716  +0.j, 21.282581  +0.j, 21.289686  +0.j,\n",
       "       21.558432  +0.j, 21.570074  +0.j, 21.580956  +0.j, 21.582602  +0.j,\n",
       "       21.592665  +0.j, 21.675774  +0.j, 21.775345  +0.j, 21.877874  +0.j,\n",
       "       21.932112  +0.j, 21.968742  +0.j, 22.046259  +0.j, 22.048468  +0.j,\n",
       "       22.075815  +0.j, 22.105719  +0.j, 22.113182  +0.j, 22.113953  +0.j,\n",
       "       22.114626  +0.j, 22.116205  +0.j, 22.1201    +0.j, 22.120668  +0.j,\n",
       "       22.124949  +0.j, 22.401577  +0.j, 22.404123  +0.j, 22.412935  +0.j,\n",
       "       22.415535  +0.j, 22.479534  +0.j, 22.486685  +0.j, 22.49102   +0.j,\n",
       "       22.495378  +0.j, 22.515154  +0.j, 22.60947   +0.j, 22.616852  +0.j,\n",
       "       22.729033  +0.j, 22.7369    +0.j, 22.8793    +0.j, 22.909685  +0.j,\n",
       "       22.910664  +0.j, 22.913     +0.j, 22.951406  +0.j, 22.951752  +0.j,\n",
       "       22.960062  +0.j, 22.960485  +0.j, 22.98242   +0.j, 23.277931  +0.j,\n",
       "       23.282825  +0.j, 23.286978  +0.j, 23.288862  +0.j, 23.289608  +0.j,\n",
       "       23.291998  +0.j, 23.29707   +0.j, 23.299606  +0.j, 23.314926  +0.j,\n",
       "       23.317804  +0.j, 23.319473  +0.j, 23.32247   +0.j, 23.45536   +0.j,\n",
       "       23.49482   +0.j, 23.671253  +0.j, 23.679874  +0.j, 23.779833  +0.j,\n",
       "       23.787767  +0.j, 23.819431  +0.j, 24.107832  +0.j, 24.11013   +0.j,\n",
       "       24.111038  +0.j, 24.113419  +0.j, 24.11692   +0.j, 24.11923   +0.j,\n",
       "       24.119457  +0.j, 24.12185   +0.j, 24.611193  +0.j, 24.619972  +0.j,\n",
       "       25.669397  +0.j, 25.733746  +0.j, 26.216385  +0.j, 26.226223  +0.j,\n",
       "       26.230669  +0.j, 26.231777  +0.j, 26.281471  +0.j, 26.289719  +0.j,\n",
       "       26.294935  +0.j, 26.29611   +0.j, 26.622826  +0.j, 26.685461  +0.j,\n",
       "       26.721104  +0.j, 26.785336  +0.j, 27.06091   +0.j, 27.062185  +0.j,\n",
       "       27.062723  +0.j, 27.06526   +0.j, 27.123577  +0.j, 27.124704  +0.j,\n",
       "       27.125624  +0.j, 27.127539  +0.j, 27.174688  +0.j, 27.285927  +0.j,\n",
       "       27.563738  +0.j, 27.626282  +0.j, 27.703844  +0.j, 27.814995  +0.j,\n",
       "       28.203293  +0.j, 28.314285  +0.j, 29.444935  +0.j, 29.49203   +0.j,\n",
       "       29.492056  +0.j, 29.546768  +0.j, 29.71434   +0.j, 29.720964  +0.j,\n",
       "       29.743073  +0.j, 29.790037  +0.j, 29.790363  +0.j, 30.076317  +0.j,\n",
       "       30.239912  +0.j, 30.254608  +0.j, 30.268757  +0.j, 30.315453  +0.j,\n",
       "       30.316328  +0.j, 30.326782  +0.j, 30.328665  +0.j, 30.339296  +0.j,\n",
       "       30.56831   +0.j, 30.570597  +0.j, 30.581284  +0.j, 30.617216  +0.j,\n",
       "       30.619858  +0.j, 30.631916  +0.j, 30.637466  +0.j, 30.684103  +0.j,\n",
       "       30.685154  +0.j, 30.743279  +0.j, 30.750875  +0.j, 31.093544  +0.j,\n",
       "       31.113756  +0.j, 31.148516  +0.j, 31.155638  +0.j, 31.156511  +0.j,\n",
       "       31.167404  +0.j, 31.440165  +0.j, 31.448162  +0.j, 31.487116  +0.j,\n",
       "       31.487465  +0.j, 31.495153  +0.j, 31.49544   +0.j, 31.514902  +0.j,\n",
       "       31.516695  +0.j, 31.527563  +0.j, 31.597816  +0.j, 31.608446  +0.j,\n",
       "       31.67807   +0.j, 32.177147  +0.j, 32.31267   +0.j, 32.313286  +0.j,\n",
       "       32.3215    +0.j, 32.321976  +0.j, 32.324005  +0.j, 32.33282   +0.j,\n",
       "       34.385246  +0.j, 34.432037  +0.j, 34.43253   +0.j, 34.447876  +0.j,\n",
       "       34.494625  +0.j, 34.49522   +0.j, 35.26791   +0.j, 35.27043   +0.j,\n",
       "       35.280552  +0.j, 35.32941   +0.j, 35.330948  +0.j, 35.341442  +0.j,\n",
       "       35.400112  +0.j, 35.50846   +0.j, 35.867985  +0.j, 35.976185  +0.j,\n",
       "       36.367508  +0.j, 36.475586  +0.j, 37.774445  +0.j, 37.94211   +0.j,\n",
       "       37.94984   +0.j, 38.242657  +0.j, 38.406784  +0.j, 38.421494  +0.j,\n",
       "       38.741753  +0.j, 38.789654  +0.j, 38.79962   +0.j, 38.91037   +0.j,\n",
       "       38.91739   +0.j, 39.252018  +0.j, 39.27215   +0.j, 39.36297   +0.j,\n",
       "       39.756744  +0.j, 39.766365  +0.j, 39.830402  +0.j, 40.329613  +0.j,\n",
       "       44.061718  +0.j, 44.167057  +0.j, 46.438744  +0.j, 46.610657  +0.j,\n",
       "       46.61066   +0.j, 47.450134  +0.j, 47.45015   +0.j, 48.012363  +0.j],\n",
       "      dtype=complex64)"
      ]
     },
     "execution_count": 73,
     "metadata": {},
     "output_type": "execute_result"
    }
   ],
   "source": [
    "ens=np.sort(np.linalg.eig(hamMat.astype(np.complex64))[0])\n",
    "ens=ens.round(8)\n",
    "\n",
    "print(np.isreal(ens).all())\n",
    "\n",
    "ens"
   ]
  },
  {
   "cell_type": "code",
   "execution_count": null,
   "metadata": {},
   "outputs": [],
   "source": []
  },
  {
   "cell_type": "code",
   "execution_count": null,
   "metadata": {},
   "outputs": [],
   "source": []
  },
  {
   "cell_type": "code",
   "execution_count": 12,
   "metadata": {},
   "outputs": [
    {
     "name": "stdout",
     "output_type": "stream",
     "text": [
      "1/2 to matrix timer took: 338.7977 seconds\n",
      "a^{\\dagger}_{0}**2/8 to matrix timer took: 348.7031 seconds\n",
      "a^{\\dagger}_{1}**2/8 to matrix timer took: 308.6836 seconds\n",
      "a^{\\dagger}_{2}**2/8 to matrix timer took: 295.2452 seconds\n",
      "a_{0}**2/8 to matrix timer took: 302.1430 seconds\n",
      "a_{1}**2/8 to matrix timer took: 255.5619 seconds\n",
      "a_{2}**2/8 to matrix timer took: 287.6791 seconds\n",
      "\\chi^{\\dagger}_{1}*\\chi_{1} to matrix timer took: 439.3830 seconds\n",
      "\\chi^{\\dagger}_{0}*\\chi_{1}/2 to matrix timer took: 402.5252 seconds\n",
      "\\chi^{\\dagger}_{1}*\\chi_{0}/2 to matrix timer took: 456.9408 seconds\n",
      "\\chi^{\\dagger}_{1}*\\chi_{2}/2 to matrix timer took: 361.2784 seconds\n",
      "\\chi^{\\dagger}_{2}*\\chi_{1}/2 to matrix timer took: 358.2938 seconds\n",
      "-\\chi^{\\dagger}_{0}*\\chi_{0} to matrix timer took: 367.3905 seconds\n",
      "-\\chi^{\\dagger}_{2}*\\chi_{2} to matrix timer took: 490.3647 seconds\n",
      "-5*a^{\\dagger}_{0}*a^{\\dagger}_{2}/16 to matrix timer took: 502.4827 seconds\n",
      "-5*a^{\\dagger}_{0}*a_{2}/16 to matrix timer took: 473.0312 seconds\n",
      "-5*a^{\\dagger}_{1}*a^{\\dagger}_{0}/16 to matrix timer took: 455.9954 seconds\n",
      "-5*a^{\\dagger}_{1}*a_{0}/16 to matrix timer took: 380.6236 seconds\n",
      "-5*a^{\\dagger}_{2}*a^{\\dagger}_{1}/16 to matrix timer took: 363.1808 seconds\n",
      "-5*a^{\\dagger}_{2}*a_{1}/16 to matrix timer took: 364.0069 seconds\n",
      "-5*a_{0}*a^{\\dagger}_{2}/16 to matrix timer took: 359.0904 seconds\n",
      "-5*a_{0}*a_{2}/16 to matrix timer took: 363.7372 seconds\n",
      "-5*a_{1}*a^{\\dagger}_{0}/16 to matrix timer took: 356.5474 seconds\n",
      "-5*a_{1}*a_{0}/16 to matrix timer took: 358.0571 seconds\n",
      "-5*a_{2}*a^{\\dagger}_{1}/16 to matrix timer took: 357.0531 seconds\n",
      "-5*a_{2}*a_{1}/16 to matrix timer took: 356.7395 seconds\n",
      "-\\chi^{\\dagger}_{0}*\\chi_{2}/2 to matrix timer took: 352.2354 seconds\n",
      "-\\chi^{\\dagger}_{2}*\\chi_{0}/2 to matrix timer took: 354.3108 seconds\n",
      "3*a^{\\dagger}_{0}*a^{\\dagger}_{1}/16 to matrix timer took: 360.5142 seconds\n",
      "3*a^{\\dagger}_{0}*a_{1}/16 to matrix timer took: 357.8408 seconds\n",
      "3*a^{\\dagger}_{1}*a^{\\dagger}_{2}/16 to matrix timer took: 359.1796 seconds\n",
      "3*a^{\\dagger}_{1}*a_{2}/16 to matrix timer took: 359.3828 seconds\n",
      "3*a^{\\dagger}_{2}*a^{\\dagger}_{0}/16 to matrix timer took: 358.7778 seconds\n",
      "3*a^{\\dagger}_{2}*a_{0}/16 to matrix timer took: 358.2828 seconds\n",
      "3*a_{0}*a^{\\dagger}_{1}/16 to matrix timer took: 358.3027 seconds\n",
      "3*a_{0}*a_{1}/16 to matrix timer took: 357.2237 seconds\n",
      "3*a_{1}*a^{\\dagger}_{2}/16 to matrix timer took: 359.1487 seconds\n",
      "3*a_{1}*a_{2}/16 to matrix timer took: 359.2214 seconds\n",
      "3*a_{2}*a^{\\dagger}_{0}/16 to matrix timer took: 358.5622 seconds\n",
      "3*a_{2}*a_{0}/16 to matrix timer took: 359.3732 seconds\n",
      "5*a^{\\dagger}_{0}*a_{0}/8 to matrix timer took: 357.8718 seconds\n",
      "5*a^{\\dagger}_{1}*a_{1}/8 to matrix timer took: 358.6434 seconds\n",
      "5*a^{\\dagger}_{2}*a_{2}/8 to matrix timer took: 357.6535 seconds\n",
      "5*a_{0}*a^{\\dagger}_{0}/8 to matrix timer took: 357.5830 seconds\n",
      "5*a_{1}*a^{\\dagger}_{1}/8 to matrix timer took: 356.4160 seconds\n",
      "5*a_{2}*a^{\\dagger}_{2}/8 to matrix timer took: 361.8442 seconds\n"
     ]
    }
   ],
   "source": [
    "cutoff=6\n",
    "hamMat=convert_to_matrix(hoHam,cutoff,N,aops,adags,xs,xdags)"
   ]
  },
  {
   "cell_type": "code",
   "execution_count": 13,
   "metadata": {},
   "outputs": [
    {
     "name": "stdout",
     "output_type": "stream",
     "text": [
      "True\n"
     ]
    },
    {
     "data": {
      "text/plain": [
       "array([ 0.04208978+0.j,  0.63672554+0.j,  1.0403124 +0.j, ...,\n",
       "       18.925266  +0.j, 18.925266  +0.j, 19.609945  +0.j], dtype=complex64)"
      ]
     },
     "execution_count": 13,
     "metadata": {},
     "output_type": "execute_result"
    }
   ],
   "source": [
    "ens=np.sort(np.linalg.eig(hamMat.astype(np.complex64))[0])\n",
    "ens=ens.round(8)\n",
    "\n",
    "print(np.isreal(ens).all())\n",
    "\n",
    "ens"
   ]
  },
  {
   "cell_type": "code",
   "execution_count": null,
   "metadata": {},
   "outputs": [],
   "source": []
  }
 ],
 "metadata": {
  "kernelspec": {
   "display_name": "Python 3",
   "language": "python",
   "name": "python3"
  },
  "language_info": {
   "codemirror_mode": {
    "name": "ipython",
    "version": 3
   },
   "file_extension": ".py",
   "mimetype": "text/x-python",
   "name": "python",
   "nbconvert_exporter": "python",
   "pygments_lexer": "ipython3",
   "version": "3.9.1"
  }
 },
 "nbformat": 4,
 "nbformat_minor": 5
}
