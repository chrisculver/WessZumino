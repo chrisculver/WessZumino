{
 "cells": [
  {
   "cell_type": "markdown",
   "metadata": {},
   "source": [
    "# Wess Zumino \n",
    "\n",
    "## N=1 in 1+1\n",
    "\n",
    "The Hamiltonian with a central difference for the derivative is given by \n",
    "\n",
    "\\begin{align}\n",
    "    H=\\sum_n&\\left[ \\frac{p_n^2}{2a} + \\frac{a}{2}\\left(\\frac{\\phi_{n+1}-\\phi_{n-1}}{2a}\\right)^2+\\frac{a}{2}V(\\phi_n)^2\n",
    "            +aV(\\phi_n)\\frac{\\phi_{n+1}-\\phi_{n-1}}{2a} \\right. \\nonumber \\\\\n",
    "            &\\left.+(-1)^nV'(\\phi_n)\\left(\\chi_n^{\\dagger}\\chi_n-\\frac{1}{2}\\right)\n",
    "            +\\frac{1}{2a}\\left(\\chi_n^{\\dagger}\\chi_{n+1}+\\chi_{n+1}^{\\dagger}\\chi_n\\right) \\right],\n",
    "\\end{align}"
   ]
  },
  {
   "cell_type": "markdown",
   "metadata": {},
   "source": [
    "## TODO \n",
    "\n",
    "- CHECK CORRECTNESS!\n",
    "- Use buffer for creating bosonic matrices\n",
    "\n",
    "Then I can immediately start repeating exercises of 0+1\n",
    "\n",
    "\n",
    "## Improvements\n",
    "\n",
    "- Only make matrix of Bosons tensored with fermions (better PS representation)\n",
    "- State ordering option for b0-f0-b1-f1-b2-f2 OR b0-b1-b2-f0-f1-f2\n",
    "\n",
    "## \"Parameters\"\n",
    "\n",
    "- Potential\n",
    "- (NEW) Lattice Spacing & Sites\n",
    "- (NEW) Boundary conditions\n",
    "- Bosonic dof cutoff\n",
    "- (NEW) State order - for efficiencies sake.\n",
    "- Binary Encoding\n",
    "\n",
    "\n",
    "## Plan \n",
    "\n",
    "- Exact diagonalization of Hamiltonian - spectrum vs \"parameters\"\n",
    "- VQE in QISKIT - quantum procedure\n",
    "- Machine Learning ground state - compare to old studies\n",
    "- Gate count for trotter steps"
   ]
  },
  {
   "cell_type": "code",
   "execution_count": 1,
   "metadata": {},
   "outputs": [],
   "source": [
    "import sympy as sp\n",
    "from ham_to_matrix import *\n",
    "from constants import *\n"
   ]
  },
  {
   "cell_type": "code",
   "execution_count": 2,
   "metadata": {},
   "outputs": [],
   "source": [
    "bosonNI=sp.expand( pn**2/(2*aLat) + (aLat/2)*((qnP1-qnM1)/(2*aLat))**2 )\n",
    "bosonI=sp.expand( (aLat/2)*V(qn)**2 + aLat*V(qn)*(qnP1-qnM1)/(2*aLat) )\n",
    "fermionNI=sp.expand( (xdnP1*xn+xdn*xnP1)/(2*aLat) )\n",
    "fermionI=sp.expand( (-1)**n*sp.diff(V(qn),qn)*(xdn*xn-(1/2)) )"
   ]
  },
  {
   "cell_type": "code",
   "execution_count": 3,
   "metadata": {},
   "outputs": [
    {
     "data": {
      "text/latex": [
       "$\\displaystyle \\frac{a V^{2}{\\left(q_{n} \\right)}}{2} + \\frac{V{\\left(q_{n} \\right)} q_{n+1}}{2} - \\frac{V{\\left(q_{n} \\right)} q_{n-1}}{2} + \\frac{p_{n}^{2}}{2 a} - \\frac{q_{n+1} q_{n-1}}{8 a} + \\frac{q_{n+1}^{2}}{8 a} - \\frac{q_{n-1} q_{n+1}}{8 a} + \\frac{q_{n-1}^{2}}{8 a}$"
      ],
      "text/plain": [
       "a*V(q_{n})**2/2 + V(q_{n})*q_{n+1}/2 - V(q_{n})*q_{n-1}/2 + p_{n}**2/(2*a) - q_{n+1}*q_{n-1}/(8*a) + q_{n+1}**2/(8*a) - q_{n-1}*q_{n+1}/(8*a) + q_{n-1}**2/(8*a)"
      ]
     },
     "execution_count": 3,
     "metadata": {},
     "output_type": "execute_result"
    }
   ],
   "source": [
    "bosonNI+bosonI"
   ]
  },
  {
   "cell_type": "code",
   "execution_count": 4,
   "metadata": {},
   "outputs": [
    {
     "data": {
      "text/latex": [
       "$\\displaystyle - 0.5 \\left(-1\\right)^{n} \\frac{d}{d q_{n}} V{\\left(q_{n} \\right)} + \\left(-1\\right)^{n} \\frac{d}{d q_{n}} V{\\left(q_{n} \\right)} \\chi^{\\dagger}_{n} \\chi_{n} + \\frac{\\chi^{\\dagger}_{n+1} \\chi_{n}}{2 a} + \\frac{\\chi^{\\dagger}_{n} \\chi_{n+1}}{2 a}$"
      ],
      "text/plain": [
       "-0.5*(-1)**n*Derivative(V(q_{n}), q_{n}) + (-1)**n*Derivative(V(q_{n}), q_{n})*\\chi^{\\dagger}_{n}*\\chi_{n} + \\chi^{\\dagger}_{n+1}*\\chi_{n}/(2*a) + \\chi^{\\dagger}_{n}*\\chi_{n+1}/(2*a)"
      ]
     },
     "execution_count": 4,
     "metadata": {},
     "output_type": "execute_result"
    }
   ],
   "source": [
    "fermionNI + fermionI"
   ]
  },
  {
   "cell_type": "code",
   "execution_count": 13,
   "metadata": {},
   "outputs": [],
   "source": [
    "N=3\n",
    "aVal=1\n",
    "\n",
    "# depends on finite-difference method\n",
    "qs=[SiteSymbol('q',str(i)) for i in range(-1,N+1,1)]\n",
    "# maybe make qs a normal site list\n",
    "# and make an extra boundaryQs list for q[-1], q[N]\n",
    "# counting would be normal computer science way for rest of code.\n",
    "\n",
    "ps=[SiteSymbol('p',str(i)) for i in range(-1,N+1,1)] # don't really need extras\n",
    "aops=[SiteSymbol('a',str(i)) for i in range(-1,N+1,1)]\n",
    "adags=[SiteSymbol('a^{\\dagger}',str(i)) for i in range(-1,N+1,1)]\n",
    "xs=[SiteSymbol('\\chi',str(i)) for i in range(-1,N+1,1)]\n",
    "xdags=[SiteSymbol('\\chi^{\\dagger}',str(i)) for i in range(-1,N+1,1)]\n",
    "\n",
    "# note this is exactly hardcoded for this finite difference method.\n",
    "bcType = 'periodic'\n",
    "boundaryConditions = {}\n",
    "if bcType == 'periodic':\n",
    "    boundaryConditions = {qs[0]: qs[N], qs[N+1]: qs[1],\n",
    "                          xs[0]: -xs[N], xs[N+1]: -xs[1], \n",
    "                          xdags[0]: -xdags[N],  xdags[N+1]: -xdags[1]\n",
    "                         }\n",
    "    \n",
    "elif bcType == 'dirichlet':\n",
    "    boundaryConditions = { qs[0]: 0, qs[N+1]: 0,\n",
    "                          xs[0]: 0, xs[N+1]: 0,\n",
    "                          xdags[0]: 0, xdags[N+1]:0\n",
    "                         }"
   ]
  },
  {
   "cell_type": "code",
   "execution_count": 14,
   "metadata": {},
   "outputs": [
    {
     "data": {
      "text/latex": [
       "$\\displaystyle - 0.5 \\left(-1\\right)^{n} \\frac{d}{d q_{n}} V{\\left(q_{n} \\right)} + \\left(-1\\right)^{n} \\frac{d}{d q_{n}} V{\\left(q_{n} \\right)} \\chi^{\\dagger}_{n} \\chi_{n} + \\frac{a V^{2}{\\left(q_{n} \\right)}}{2} + \\frac{V{\\left(q_{n} \\right)} q_{n+1}}{2} - \\frac{V{\\left(q_{n} \\right)} q_{n-1}}{2} + \\frac{\\chi^{\\dagger}_{n+1} \\chi_{n}}{2 a} + \\frac{\\chi^{\\dagger}_{n} \\chi_{n+1}}{2 a} + \\frac{p_{n}^{2}}{2 a} - \\frac{q_{n+1} q_{n-1}}{8 a} + \\frac{q_{n+1}^{2}}{8 a} - \\frac{q_{n-1} q_{n+1}}{8 a} + \\frac{q_{n-1}^{2}}{8 a}$"
      ],
      "text/plain": [
       "-0.5*(-1)**n*Derivative(V(q_{n}), q_{n}) + (-1)**n*Derivative(V(q_{n}), q_{n})*\\chi^{\\dagger}_{n}*\\chi_{n} + a*V(q_{n})**2/2 + V(q_{n})*q_{n+1}/2 - V(q_{n})*q_{n-1}/2 + \\chi^{\\dagger}_{n+1}*\\chi_{n}/(2*a) + \\chi^{\\dagger}_{n}*\\chi_{n+1}/(2*a) + p_{n}**2/(2*a) - q_{n+1}*q_{n-1}/(8*a) + q_{n+1}**2/(8*a) - q_{n-1}*q_{n+1}/(8*a) + q_{n-1}**2/(8*a)"
      ]
     },
     "execution_count": 14,
     "metadata": {},
     "output_type": "execute_result"
    }
   ],
   "source": [
    "totHam=bosonNI+bosonI+fermionNI+fermionI\n",
    "totHam"
   ]
  },
  {
   "cell_type": "code",
   "execution_count": 15,
   "metadata": {},
   "outputs": [
    {
     "data": {
      "text/latex": [
       "$\\displaystyle \\frac{4 \\chi^{\\dagger}_{0} \\chi_{1} - 4 \\chi^{\\dagger}_{0} \\chi_{2} + 4 \\chi^{\\dagger}_{1} \\chi_{0} + 4 \\chi^{\\dagger}_{1} \\chi_{2} - 4 \\chi^{\\dagger}_{2} \\chi_{0} + 4 \\chi^{\\dagger}_{2} \\chi_{1} + 4 p_{0}^{2} + 4 p_{1}^{2} + 4 p_{2}^{2} - q_{0} q_{1} - q_{0} q_{2} + 2 q_{0}^{2} - q_{1} q_{0} - q_{1} q_{2} + 2 q_{1}^{2} - q_{2} q_{0} - q_{2} q_{1} + 2 q_{2}^{2}}{8}$"
      ],
      "text/plain": [
       "(4*\\chi^{\\dagger}_{0}*\\chi_{1} - 4*\\chi^{\\dagger}_{0}*\\chi_{2} + 4*\\chi^{\\dagger}_{1}*\\chi_{0} + 4*\\chi^{\\dagger}_{1}*\\chi_{2} - 4*\\chi^{\\dagger}_{2}*\\chi_{0} + 4*\\chi^{\\dagger}_{2}*\\chi_{1} + 4*p_{0}**2 + 4*p_{1}**2 + 4*p_{2}**2 - q_{0}*q_{1} - q_{0}*q_{2} + 2*q_{0}**2 - q_{1}*q_{0} - q_{1}*q_{2} + 2*q_{1}**2 - q_{2}*q_{0} - q_{2}*q_{1} + 2*q_{2}**2)/8"
      ]
     },
     "execution_count": 15,
     "metadata": {},
     "output_type": "execute_result"
    }
   ],
   "source": [
    "ham=0\n",
    "\n",
    "for i in range(1,N+1):\n",
    "    ham+=totHam.subs({\n",
    "        pn: ps[i],\n",
    "        qn: qs[i], qnP1: qs[i+1], qnM1: qs[i-1],\n",
    "        xn: xs[i], xnP1: xs[i+1],\n",
    "        xdn: xdags[i], xdnP1: xdags[i+1]\n",
    "    }).subs(boundaryConditions)\n",
    "# ham.subs(boundaryConditions).doit() # this doesn't work?\n",
    "\n",
    "def potential(n):\n",
    "    return 0\n",
    "\n",
    "potentialSubs={}\n",
    "for n in range(1,N+1):\n",
    "    potentialSubs[V(qs[n])]=potential(n)\n",
    "    \n",
    "ham=sp.simplify(ham.subs(potentialSubs).subs(aLat,aVal))\n",
    "ham"
   ]
  },
  {
   "cell_type": "code",
   "execution_count": 16,
   "metadata": {},
   "outputs": [],
   "source": [
    "#ham=0\n",
    "#totHam=bosonNI+bosonI+fermionNI+fermionI\n",
    "#for i in range(0,N):\n",
    "#    ham+=totHam.subs(n,i).subs(boundaryConditions)\n",
    "# ham.subs(boundaryConditions).doit() # this doesn't work?\n",
    "\n",
    "#def potential(n):\n",
    "#    return q[n]\n",
    "\n",
    "#for n in range(0,N):\n",
    "#    ham=ham.subs(V(q[n]),potential(n))\n",
    "#ham=ham.subs(aLat,aVal).simplify().expand()\n",
    "#ham"
   ]
  },
  {
   "cell_type": "code",
   "execution_count": 17,
   "metadata": {},
   "outputs": [
    {
     "data": {
      "text/latex": [
       "$\\displaystyle \\frac{\\chi^{\\dagger}_{0} \\chi_{1}}{2} - \\frac{\\chi^{\\dagger}_{0} \\chi_{2}}{2} + \\frac{\\chi^{\\dagger}_{1} \\chi_{0}}{2} + \\frac{\\chi^{\\dagger}_{1} \\chi_{2}}{2} - \\frac{\\chi^{\\dagger}_{2} \\chi_{0}}{2} + \\frac{\\chi^{\\dagger}_{2} \\chi_{1}}{2} - \\frac{a^{\\dagger}_{0} a^{\\dagger}_{1}}{16} - \\frac{a^{\\dagger}_{0} a^{\\dagger}_{2}}{16} + \\frac{3 a^{\\dagger}_{0} a_{0}}{8} - \\frac{a^{\\dagger}_{0} a_{1}}{16} - \\frac{a^{\\dagger}_{0} a_{2}}{16} - \\frac{\\left(a^{\\dagger}_{0}\\right)^{2}}{8} - \\frac{a^{\\dagger}_{1} a^{\\dagger}_{0}}{16} - \\frac{a^{\\dagger}_{1} a^{\\dagger}_{2}}{16} - \\frac{a^{\\dagger}_{1} a_{0}}{16} + \\frac{3 a^{\\dagger}_{1} a_{1}}{8} - \\frac{a^{\\dagger}_{1} a_{2}}{16} - \\frac{\\left(a^{\\dagger}_{1}\\right)^{2}}{8} - \\frac{a^{\\dagger}_{2} a^{\\dagger}_{0}}{16} - \\frac{a^{\\dagger}_{2} a^{\\dagger}_{1}}{16} - \\frac{a^{\\dagger}_{2} a_{0}}{16} - \\frac{a^{\\dagger}_{2} a_{1}}{16} + \\frac{3 a^{\\dagger}_{2} a_{2}}{8} - \\frac{\\left(a^{\\dagger}_{2}\\right)^{2}}{8} + \\frac{3 a_{0} a^{\\dagger}_{0}}{8} - \\frac{a_{0} a^{\\dagger}_{1}}{16} - \\frac{a_{0} a^{\\dagger}_{2}}{16} - \\frac{a_{0} a_{1}}{16} - \\frac{a_{0} a_{2}}{16} - \\frac{a_{0}^{2}}{8} - \\frac{a_{1} a^{\\dagger}_{0}}{16} + \\frac{3 a_{1} a^{\\dagger}_{1}}{8} - \\frac{a_{1} a^{\\dagger}_{2}}{16} - \\frac{a_{1} a_{0}}{16} - \\frac{a_{1} a_{2}}{16} - \\frac{a_{1}^{2}}{8} - \\frac{a_{2} a^{\\dagger}_{0}}{16} - \\frac{a_{2} a^{\\dagger}_{1}}{16} + \\frac{3 a_{2} a^{\\dagger}_{2}}{8} - \\frac{a_{2} a_{0}}{16} - \\frac{a_{2} a_{1}}{16} - \\frac{a_{2}^{2}}{8}$"
      ],
      "text/plain": [
       "\\chi^{\\dagger}_{0}*\\chi_{1}/2 - \\chi^{\\dagger}_{0}*\\chi_{2}/2 + \\chi^{\\dagger}_{1}*\\chi_{0}/2 + \\chi^{\\dagger}_{1}*\\chi_{2}/2 - \\chi^{\\dagger}_{2}*\\chi_{0}/2 + \\chi^{\\dagger}_{2}*\\chi_{1}/2 - a^{\\dagger}_{0}*a^{\\dagger}_{1}/16 - a^{\\dagger}_{0}*a^{\\dagger}_{2}/16 + 3*a^{\\dagger}_{0}*a_{0}/8 - a^{\\dagger}_{0}*a_{1}/16 - a^{\\dagger}_{0}*a_{2}/16 - a^{\\dagger}_{0}**2/8 - a^{\\dagger}_{1}*a^{\\dagger}_{0}/16 - a^{\\dagger}_{1}*a^{\\dagger}_{2}/16 - a^{\\dagger}_{1}*a_{0}/16 + 3*a^{\\dagger}_{1}*a_{1}/8 - a^{\\dagger}_{1}*a_{2}/16 - a^{\\dagger}_{1}**2/8 - a^{\\dagger}_{2}*a^{\\dagger}_{0}/16 - a^{\\dagger}_{2}*a^{\\dagger}_{1}/16 - a^{\\dagger}_{2}*a_{0}/16 - a^{\\dagger}_{2}*a_{1}/16 + 3*a^{\\dagger}_{2}*a_{2}/8 - a^{\\dagger}_{2}**2/8 + 3*a_{0}*a^{\\dagger}_{0}/8 - a_{0}*a^{\\dagger}_{1}/16 - a_{0}*a^{\\dagger}_{2}/16 - a_{0}*a_{1}/16 - a_{0}*a_{2}/16 - a_{0}**2/8 - a_{1}*a^{\\dagger}_{0}/16 + 3*a_{1}*a^{\\dagger}_{1}/8 - a_{1}*a^{\\dagger}_{2}/16 - a_{1}*a_{0}/16 - a_{1}*a_{2}/16 - a_{1}**2/8 - a_{2}*a^{\\dagger}_{0}/16 - a_{2}*a^{\\dagger}_{1}/16 + 3*a_{2}*a^{\\dagger}_{2}/8 - a_{2}*a_{0}/16 - a_{2}*a_{1}/16 - a_{2}**2/8"
      ]
     },
     "execution_count": 17,
     "metadata": {},
     "output_type": "execute_result"
    }
   ],
   "source": [
    "m=1\n",
    "\n",
    "HOdofSubs = {}\n",
    "#offset because of BC\n",
    "for i in range(1,N+1):\n",
    "    HOdofSubs[qs[i]] = 0.5*sp.sqrt(2/m)*(aops[i] + adags[i])\n",
    "    HOdofSubs[ps[i]] = complex(0,1)*sp.sqrt(2*m)*(adags[i] - aops[i])/2 \n",
    "\n",
    "hoHam=sp.expand(ham.subs(HOdofSubs))\n",
    "hoHam=sp.nsimplify(hoHam,tolerance=1e-8)\n",
    "hoHam"
   ]
  },
  {
   "cell_type": "code",
   "execution_count": 18,
   "metadata": {},
   "outputs": [
    {
     "name": "stdout",
     "output_type": "stream",
     "text": [
      "-a^{\\dagger}_{0}**2/8 to matrix timer took: 44.1190 seconds\n",
      "-a^{\\dagger}_{1}**2/8 to matrix timer took: 23.9853 seconds\n",
      "-a^{\\dagger}_{2}**2/8 to matrix timer took: 23.7193 seconds\n",
      "-a_{0}**2/8 to matrix timer took: 23.7472 seconds\n",
      "-a_{1}**2/8 to matrix timer took: 23.6457 seconds\n",
      "-a_{2}**2/8 to matrix timer took: 23.9643 seconds\n",
      "\\chi^{\\dagger}_{0}*\\chi_{1}/2 to matrix timer took: 33.4708 seconds\n",
      "\\chi^{\\dagger}_{1}*\\chi_{0}/2 to matrix timer took: 38.7418 seconds\n",
      "\\chi^{\\dagger}_{1}*\\chi_{2}/2 to matrix timer took: 34.9559 seconds\n",
      "\\chi^{\\dagger}_{2}*\\chi_{1}/2 to matrix timer took: 39.4926 seconds\n",
      "-\\chi^{\\dagger}_{0}*\\chi_{2}/2 to matrix timer took: 32.9233 seconds\n",
      "-\\chi^{\\dagger}_{2}*\\chi_{0}/2 to matrix timer took: 32.8687 seconds\n",
      "-a^{\\dagger}_{0}*a^{\\dagger}_{1}/16 to matrix timer took: 33.5585 seconds\n",
      "-a^{\\dagger}_{0}*a^{\\dagger}_{2}/16 to matrix timer took: 33.7216 seconds\n",
      "-a^{\\dagger}_{0}*a_{1}/16 to matrix timer took: 40.5345 seconds\n",
      "-a^{\\dagger}_{0}*a_{2}/16 to matrix timer took: 34.7661 seconds\n",
      "-a^{\\dagger}_{1}*a^{\\dagger}_{0}/16 to matrix timer took: 37.9467 seconds\n",
      "-a^{\\dagger}_{1}*a^{\\dagger}_{2}/16 to matrix timer took: 35.5145 seconds\n",
      "-a^{\\dagger}_{1}*a_{0}/16 to matrix timer took: 33.8015 seconds\n",
      "-a^{\\dagger}_{1}*a_{2}/16 to matrix timer took: 33.9483 seconds\n",
      "-a^{\\dagger}_{2}*a^{\\dagger}_{0}/16 to matrix timer took: 33.7004 seconds\n",
      "-a^{\\dagger}_{2}*a^{\\dagger}_{1}/16 to matrix timer took: 33.7615 seconds\n",
      "-a^{\\dagger}_{2}*a_{0}/16 to matrix timer took: 33.9090 seconds\n",
      "-a^{\\dagger}_{2}*a_{1}/16 to matrix timer took: 33.7770 seconds\n",
      "-a_{0}*a^{\\dagger}_{1}/16 to matrix timer took: 33.7554 seconds\n",
      "-a_{0}*a^{\\dagger}_{2}/16 to matrix timer took: 33.7159 seconds\n",
      "-a_{0}*a_{1}/16 to matrix timer took: 34.2534 seconds\n",
      "-a_{0}*a_{2}/16 to matrix timer took: 33.5741 seconds\n",
      "-a_{1}*a^{\\dagger}_{0}/16 to matrix timer took: 33.0815 seconds\n",
      "-a_{1}*a^{\\dagger}_{2}/16 to matrix timer took: 33.3887 seconds\n",
      "-a_{1}*a_{0}/16 to matrix timer took: 33.2958 seconds\n",
      "-a_{1}*a_{2}/16 to matrix timer took: 33.3997 seconds\n",
      "-a_{2}*a^{\\dagger}_{0}/16 to matrix timer took: 33.3694 seconds\n",
      "-a_{2}*a^{\\dagger}_{1}/16 to matrix timer took: 33.2795 seconds\n",
      "-a_{2}*a_{0}/16 to matrix timer took: 33.2752 seconds\n",
      "-a_{2}*a_{1}/16 to matrix timer took: 33.9913 seconds\n",
      "3*a^{\\dagger}_{0}*a_{0}/8 to matrix timer took: 35.5680 seconds\n",
      "3*a^{\\dagger}_{1}*a_{1}/8 to matrix timer took: 33.7948 seconds\n",
      "3*a^{\\dagger}_{2}*a_{2}/8 to matrix timer took: 34.0265 seconds\n",
      "3*a_{0}*a^{\\dagger}_{0}/8 to matrix timer took: 33.7012 seconds\n",
      "3*a_{1}*a^{\\dagger}_{1}/8 to matrix timer took: 33.7371 seconds\n",
      "3*a_{2}*a^{\\dagger}_{2}/8 to matrix timer took: 33.7250 seconds\n"
     ]
    }
   ],
   "source": [
    "cutoff=4\n",
    "hamMat=convert_to_matrix(hoHam,cutoff,N,aops,adags,xs,xdags)"
   ]
  },
  {
   "cell_type": "code",
   "execution_count": 19,
   "metadata": {},
   "outputs": [
    {
     "name": "stdout",
     "output_type": "stream",
     "text": [
      "True\n"
     ]
    },
    {
     "data": {
      "text/plain": [
       "array([-0.13466929-0.j, -0.13466929-0.j, -0.08177224-0.j, -0.08177224-0.j,\n",
       "        0.20834003-0.j,  0.20834003+0.j,  0.4751847 -0.j,  0.4751847 -0.j,\n",
       "        0.4751847 +0.j,  0.4751847 +0.j,  0.59083253+0.j,  0.59083253+0.j,\n",
       "        0.69469106-0.j,  0.69469106-0.j,  0.69469106+0.j,  0.69469106+0.j,\n",
       "        0.8653307 -0.j,  0.8653307 +0.j,  0.91822773-0.j,  0.91822773+0.j,\n",
       "        1.0449319 -0.j,  1.0449319 +0.j,  1.1453074 -0.j,  1.1453074 +0.j,\n",
       "        1.1814471 -0.j,  1.1814471 -0.j,  1.1814471 +0.j,  1.1814471 +0.j,\n",
       "        1.20834   +0.j,  1.20834   +0.j,  1.3267992 -0.j,  1.3267992 -0.j,\n",
       "        1.3267992 +0.j,  1.3267992 +0.j,  1.3393167 -0.j,  1.3393167 -0.j,\n",
       "        1.3393167 +0.j,  1.3393167 +0.j,  1.3653307 -0.j,  1.3653307 -0.j,\n",
       "        1.3653307 -0.j,  1.3653307 +0.j,  1.4182278 -0.j,  1.4182278 +0.j,\n",
       "        1.4182278 +0.j,  1.4182278 +0.j,  1.4751848 -0.j,  1.4751848 -0.j,\n",
       "        1.4751848 +0.j,  1.4751848 +0.j,  1.5307605 -0.j,  1.5307605 +0.j,\n",
       "        1.5807837 -0.j,  1.5807837 -0.j,  1.5807837 +0.j,  1.5807837 +0.j,\n",
       "        1.5908326 -0.j,  1.5908326 -0.j,  1.6289665 -0.j,  1.6289665 -0.j,\n",
       "        1.6946908 -0.j,  1.6946908 -0.j,  1.6946908 +0.j,  1.6946908 +0.j,\n",
       "        1.70834   -0.j,  1.70834   +0.j,  1.70834   +0.j,  1.70834   +0.j,\n",
       "        1.75      -0.j,  1.75      +0.j,  1.8610654 -0.j,  1.8610654 +0.j,\n",
       "        1.8943396 -0.j,  1.8943396 -0.j,  1.8943396 +0.j,  1.8943396 +0.j,\n",
       "        1.9751848 -0.j,  1.9751848 -0.j,  1.9751848 -0.j,  1.9751848 +0.j,\n",
       "        1.9751848 +0.j,  1.9751848 +0.j,  1.9751848 +0.j,  1.9751848 +0.j,\n",
       "        2.0365508 -0.j,  2.0365508 -0.j,  2.0365508 -0.j,  2.0365508 +0.j,\n",
       "        2.044932  -0.j,  2.044932  +0.j,  2.0659428 -0.j,  2.0659428 +0.j,\n",
       "        2.0908325 -0.j,  2.0908325 -0.j,  2.0908325 -0.j,  2.0908325 -0.j,\n",
       "        2.1264853 -0.j,  2.1264853 +0.j,  2.1453073 +0.j,  2.1453073 +0.j,\n",
       "        2.1814473 -0.j,  2.1814473 -0.j,  2.1814473 +0.j,  2.1814473 +0.j,\n",
       "        2.194691  -0.j,  2.194691  -0.j,  2.194691  +0.j,  2.194691  +0.j,\n",
       "        2.194691  +0.j,  2.194691  +0.j,  2.194691  +0.j,  2.194691  +0.j,\n",
       "        2.290542  -0.j,  2.290542  -0.j,  2.290542  -0.j,  2.290542  -0.j,\n",
       "        2.3267992 -0.j,  2.3267992 +0.j,  2.3267992 +0.j,  2.3267992 +0.j,\n",
       "        2.3393168 -0.j,  2.3393168 -0.j,  2.3393168 +0.j,  2.3393168 +0.j,\n",
       "        2.3886523 -0.j,  2.3886523 +0.j,  2.3886523 +0.j,  2.3886523 +0.j,\n",
       "        2.5273242 +0.j,  2.5273242 +0.j,  2.5307605 -0.j,  2.5307605 +0.j,\n",
       "        2.544932  -0.j,  2.544932  -0.j,  2.544932  +0.j,  2.544932  +0.j,\n",
       "        2.5807838 -0.j,  2.5807838 +0.j,  2.5807838 +0.j,  2.5807838 +0.j,\n",
       "        2.6005867 +0.j,  2.6005867 +0.j,  2.6207943 -0.j,  2.6207943 +0.j,\n",
       "        2.6207943 +0.j,  2.6207943 +0.j,  2.6289666 +0.j,  2.6289666 +0.j,\n",
       "        2.6453073 +0.j,  2.6453073 +0.j,  2.6453073 +0.j,  2.6453073 +0.j,\n",
       "        2.6527712 +0.j,  2.6527712 +0.j,  2.6527712 +0.j,  2.6527712 +0.j,\n",
       "        2.6814473 +0.j,  2.6814473 +0.j,  2.6814473 +0.j,  2.6814473 +0.j,\n",
       "        2.6814473 +0.j,  2.6814473 +0.j,  2.6814473 +0.j,  2.6814473 +0.j,\n",
       "        2.75      +0.j,  2.75      +0.j,  2.75      +0.j,  2.75      +0.j,\n",
       "        2.75      +0.j,  2.75      +0.j,  2.8267992 +0.j,  2.8267992 +0.j,\n",
       "        2.8267992 +0.j,  2.8267992 +0.j,  2.8267992 +0.j,  2.8267992 +0.j,\n",
       "        2.8267992 +0.j,  2.8267992 +0.j,  2.8393168 +0.j,  2.8393168 +0.j,\n",
       "        2.8393168 +0.j,  2.8393168 +0.j,  2.8393168 +0.j,  2.8393168 +0.j,\n",
       "        2.8393168 +0.j,  2.8393168 +0.j,  2.8454235 +0.j,  2.8454235 +0.j,\n",
       "        2.8454235 +0.j,  2.8454235 +0.j,  2.8610654 -0.j,  2.8610654 -0.j,\n",
       "        2.8943396 +0.j,  2.8943396 +0.j,  2.8943396 +0.j,  2.8943396 +0.j,\n",
       "        2.9405062 -0.j,  2.9405062 -0.j,  2.9738288 +0.j,  2.9738288 +0.j,\n",
       "        2.9738288 +0.j,  2.9738288 +0.j,  3.0307605 +0.j,  3.0307605 +0.j,\n",
       "        3.0307605 +0.j,  3.0307605 +0.j,  3.0365508 +0.j,  3.0365508 +0.j,\n",
       "        3.0365508 +0.j,  3.0365508 +0.j,  3.0659428 -0.j,  3.0659428 -0.j,\n",
       "        3.080784  +0.j,  3.080784  +0.j,  3.080784  +0.j,  3.080784  +0.j,\n",
       "        3.080784  +0.j,  3.080784  +0.j,  3.080784  +0.j,  3.080784  +0.j,\n",
       "        3.0834284 -0.j,  3.0834284 +0.j,  3.0834284 +0.j,  3.0834284 +0.j,\n",
       "        3.0928097 -0.j,  3.0928097 +0.j,  3.1264853 -0.j,  3.1264853 +0.j,\n",
       "        3.1289668 +0.j,  3.1289668 +0.j,  3.1289668 +0.j,  3.1289668 +0.j,\n",
       "        3.25      +0.j,  3.25      +0.j,  3.25      +0.j,  3.25      +0.j,\n",
       "        3.2905416 +0.j,  3.2905416 +0.j,  3.2905416 +0.j,  3.2905416 +0.j,\n",
       "        3.3045328 +0.j,  3.3045328 +0.j,  3.3610654 +0.j,  3.3610654 +0.j,\n",
       "        3.3610654 +0.j,  3.3610654 +0.j,  3.3886526 -0.j,  3.3886526 +0.j,\n",
       "        3.3886526 +0.j,  3.3886526 +0.j,  3.3943396 +0.j,  3.3943396 +0.j,\n",
       "        3.3943396 +0.j,  3.3943396 +0.j,  3.3943396 +0.j,  3.3943396 +0.j,\n",
       "        3.3943396 +0.j,  3.3943396 +0.j,  3.40088   +0.j,  3.40088   +0.j,\n",
       "        3.4444876 +0.j,  3.4444876 +0.j,  3.4444876 +0.j,  3.4444876 +0.j,\n",
       "        3.5273242 -0.j,  3.5273242 +0.j,  3.5365508 +0.j,  3.5365508 +0.j,\n",
       "        3.5365508 +0.j,  3.5365508 +0.j,  3.5365508 +0.j,  3.5365508 +0.j,\n",
       "        3.5365508 +0.j,  3.5365508 +0.j,  3.5659428 +0.j,  3.5659428 +0.j,\n",
       "        3.5659428 +0.j,  3.5659428 +0.j,  3.6005867 -0.j,  3.6005867 +0.j,\n",
       "        3.6207943 +0.j,  3.6207943 +0.j,  3.6207943 +0.j,  3.6207943 +0.j,\n",
       "        3.6264853 +0.j,  3.6264853 +0.j,  3.6264853 +0.j,  3.6264853 +0.j,\n",
       "        3.6527712 +0.j,  3.6527712 +0.j,  3.6527712 +0.j,  3.6527712 +0.j,\n",
       "        3.702984  -0.j,  3.702984  +0.j,  3.702984  +0.j,  3.702984  +0.j,\n",
       "        3.75      +0.j,  3.75      +0.j,  3.75      +0.j,  3.75      +0.j,\n",
       "        3.75      +0.j,  3.75      +0.j,  3.7830162 -0.j,  3.7830162 +0.j,\n",
       "        3.7905416 -0.j,  3.7905416 +0.j,  3.7905416 +0.j,  3.7905416 +0.j,\n",
       "        3.7905416 +0.j,  3.7905416 +0.j,  3.7905416 +0.j,  3.7905416 +0.j,\n",
       "        3.8454235 -0.j,  3.8454235 -0.j,  3.8454235 +0.j,  3.8454235 +0.j,\n",
       "        3.8486326 -0.j,  3.8486326 -0.j,  3.8486326 +0.j,  3.8486326 +0.j,\n",
       "        3.8886526 -0.j,  3.8886526 +0.j,  3.8886526 +0.j,  3.8886526 +0.j,\n",
       "        3.8886526 +0.j,  3.8886526 +0.j,  3.8886526 +0.j,  3.8886526 +0.j,\n",
       "        3.9405062 +0.j,  3.9405062 +0.j,  3.9738288 -0.j,  3.9738288 -0.j,\n",
       "        3.9738288 -0.j,  3.9738288 +0.j,  4.027324  +0.j,  4.027324  +0.j,\n",
       "        4.027324  +0.j,  4.027324  +0.j,  4.0834284 -0.j,  4.0834284 +0.j,\n",
       "        4.0834284 +0.j,  4.0834284 +0.j,  4.0928097 -0.j,  4.0928097 -0.j,\n",
       "        4.100587  -0.j,  4.100587  +0.j,  4.100587  +0.j,  4.100587  +0.j,\n",
       "        4.1207943 -0.j,  4.1207943 -0.j,  4.1207943 -0.j,  4.1207943 +0.j,\n",
       "        4.1207943 +0.j,  4.1207943 +0.j,  4.1207943 +0.j,  4.1207943 +0.j,\n",
       "        4.152771  -0.j,  4.152771  -0.j,  4.152771  +0.j,  4.152771  +0.j,\n",
       "        4.152771  +0.j,  4.152771  +0.j,  4.152771  +0.j,  4.152771  +0.j,\n",
       "        4.2203193 -0.j,  4.2203193 -0.j,  4.2203193 -0.j,  4.2203193 +0.j,\n",
       "        4.25      -0.j,  4.25      -0.j,  4.25      -0.j,  4.25      -0.j,\n",
       "        4.25      -0.j,  4.25      +0.j,  4.25      +0.j,  4.25      +0.j,\n",
       "        4.304533  -0.j,  4.304533  +0.j,  4.345423  -0.j,  4.345423  -0.j,\n",
       "        4.345423  +0.j,  4.345423  +0.j,  4.345423  +0.j,  4.345423  +0.j,\n",
       "        4.345423  +0.j,  4.345423  +0.j,  4.3859253 -0.j,  4.3859253 -0.j,\n",
       "        4.3990235 -0.j,  4.3990235 -0.j,  4.3990235 -0.j,  4.3990235 +0.j,\n",
       "        4.40088   -0.j,  4.40088   +0.j,  4.4405065 -0.j,  4.4405065 -0.j,\n",
       "        4.4405065 -0.j,  4.4405065 +0.j,  4.444488  -0.j,  4.444488  +0.j,\n",
       "        4.444488  +0.j,  4.444488  +0.j,  4.473829  -0.j,  4.473829  -0.j,\n",
       "        4.473829  +0.j,  4.473829  +0.j,  4.473829  +0.j,  4.473829  +0.j,\n",
       "        4.473829  +0.j,  4.473829  +0.j,  4.5834284 -0.j,  4.5834284 +0.j,\n",
       "        4.5834284 +0.j,  4.5834284 +0.j,  4.5834284 +0.j,  4.5834284 +0.j,\n",
       "        4.5834284 +0.j,  4.5834284 +0.j,  4.5928097 +0.j,  4.5928097 +0.j,\n",
       "        4.5928097 +0.j,  4.5928097 +0.j,  4.702984  -0.j,  4.702984  +0.j,\n",
       "        4.702984  +0.j,  4.702984  +0.j,  4.75      -0.j,  4.75      +0.j,\n",
       "        4.783016  -0.j,  4.783016  -0.j,  4.804533  -0.j,  4.804533  +0.j,\n",
       "        4.804533  +0.j,  4.804533  +0.j,  4.848633  -0.j,  4.848633  -0.j,\n",
       "        4.848633  -0.j,  4.848633  -0.j,  4.90088   -0.j,  4.90088   -0.j,\n",
       "        4.90088   +0.j,  4.90088   +0.j,  4.944488  -0.j,  4.944488  -0.j,\n",
       "        4.944488  -0.j,  4.944488  -0.j,  4.944488  +0.j,  4.944488  +0.j,\n",
       "        4.944488  +0.j,  4.944488  +0.j,  4.978227  -0.j,  4.978227  +0.j,\n",
       "        5.202984  -0.j,  5.202984  -0.j,  5.202984  -0.j,  5.202984  -0.j,\n",
       "        5.202984  -0.j,  5.202984  -0.j,  5.202984  +0.j,  5.202984  +0.j,\n",
       "        5.2203193 -0.j,  5.2203193 -0.j,  5.2203193 -0.j,  5.2203193 +0.j,\n",
       "        5.25      -0.j,  5.25      -0.j,  5.25      -0.j,  5.25      +0.j,\n",
       "        5.283016  -0.j,  5.283016  -0.j,  5.283016  +0.j,  5.283016  +0.j,\n",
       "        5.348633  -0.j,  5.348633  -0.j,  5.348633  +0.j,  5.348633  +0.j,\n",
       "        5.348633  +0.j,  5.348633  +0.j,  5.348633  +0.j,  5.348633  +0.j,\n",
       "        5.3859253 -0.j,  5.3859253 -0.j,  5.3990235 -0.j,  5.3990235 +0.j,\n",
       "        5.3990235 +0.j,  5.3990235 +0.j,  5.7203193 -0.j,  5.7203193 -0.j,\n",
       "        5.7203193 +0.j,  5.7203193 +0.j,  5.7203193 +0.j,  5.7203193 +0.j,\n",
       "        5.7203193 +0.j,  5.7203193 +0.j,  5.8859253 -0.j,  5.8859253 -0.j,\n",
       "        5.8859253 -0.j,  5.8859253 +0.j,  5.8990235 -0.j,  5.8990235 -0.j,\n",
       "        5.8990235 -0.j,  5.8990235 +0.j,  5.8990235 +0.j,  5.8990235 +0.j,\n",
       "        5.8990235 +0.j,  5.8990235 +0.j,  5.978227  +0.j,  5.978227  +0.j,\n",
       "        6.478227  +0.j,  6.478227  +0.j,  6.478227  +0.j,  6.478227  +0.j],\n",
       "      dtype=complex64)"
      ]
     },
     "execution_count": 19,
     "metadata": {},
     "output_type": "execute_result"
    }
   ],
   "source": [
    "ens=np.sort(np.linalg.eig(hamMat.astype(np.complex64))[0])\n",
    "ens=ens.round(8)\n",
    "\n",
    "print(np.isreal(ens).all())\n",
    "\n",
    "ens"
   ]
  },
  {
   "cell_type": "code",
   "execution_count": 21,
   "metadata": {},
   "outputs": [
    {
     "data": {
      "text/plain": [
       "array([[0.+0.j, 1.+0.j],\n",
       "       [0.+0.j, 0.+0.j]])"
      ]
     },
     "execution_count": 21,
     "metadata": {},
     "output_type": "execute_result"
    }
   ],
   "source": [
    "xMat()"
   ]
  },
  {
   "cell_type": "code",
   "execution_count": 20,
   "metadata": {},
   "outputs": [
    {
     "data": {
      "text/plain": [
       "array([[0.+0.j, 0.+0.j],\n",
       "       [1.+0.j, 0.+0.j]])"
      ]
     },
     "execution_count": 20,
     "metadata": {},
     "output_type": "execute_result"
    }
   ],
   "source": [
    "xDagMat()"
   ]
  },
  {
   "cell_type": "code",
   "execution_count": null,
   "metadata": {},
   "outputs": [],
   "source": []
  },
  {
   "cell_type": "code",
   "execution_count": null,
   "metadata": {},
   "outputs": [],
   "source": []
  },
  {
   "cell_type": "code",
   "execution_count": null,
   "metadata": {},
   "outputs": [],
   "source": []
  },
  {
   "cell_type": "code",
   "execution_count": null,
   "metadata": {},
   "outputs": [],
   "source": []
  },
  {
   "cell_type": "code",
   "execution_count": null,
   "metadata": {},
   "outputs": [],
   "source": []
  },
  {
   "cell_type": "code",
   "execution_count": null,
   "metadata": {},
   "outputs": [],
   "source": []
  },
  {
   "cell_type": "code",
   "execution_count": 11,
   "metadata": {},
   "outputs": [
    {
     "name": "stdout",
     "output_type": "stream",
     "text": [
      "(512, 512)\n",
      "setup timer took: 0.0149 seconds\n",
      "a^{\\dagger}_{0}**2setup timer took: 0.0005 seconds\n",
      "a^{\\dagger}_{0}**2full timer took: 9.9681 seconds\n",
      "(512, 512) (512, 512)\n",
      "a^{\\dagger}_{0}**2multiply timer took: 0.0055 seconds\n",
      "full term timer took: 23.4207 seconds\n"
     ]
    }
   ],
   "source": [
    "from timer import Timer\n",
    "\n",
    "term=hoHam.args[0]\n",
    "cutoff=4\n",
    "timer=Timer('full term')\n",
    "timer.start()\n",
    "hamMat=convert_term_to_matrix(term,cutoff,N,aops,adags,xs,xdags)\n",
    "timer.stop()"
   ]
  },
  {
   "cell_type": "code",
   "execution_count": 18,
   "metadata": {},
   "outputs": [
    {
     "name": "stdout",
     "output_type": "stream",
     "text": [
      "(4, 4) (4, 4)\n",
      "(3.3710556+0j)\n",
      "4 timer took: 0.0352 seconds\n",
      "(8, 8) (8, 8)\n",
      "(17.694397+0j)\n",
      "8 timer took: 0.0000 seconds\n",
      "(16, 16) (16, 16)\n",
      "(64.37317+0j)\n",
      "16 timer took: 0.0000 seconds\n",
      "(32, 32) (32, 32)\n",
      "(254.13129+0j)\n",
      "32 timer took: 0.0003 seconds\n",
      "(64, 64) (64, 64)\n",
      "(1039.4939+0j)\n",
      "64 timer took: 0.0025 seconds\n",
      "(128, 128) (128, 128)\n",
      "(4102.461+0j)\n",
      "128 timer took: 0.0011 seconds\n",
      "(256, 256) (256, 256)\n",
      "(16422.25+0j)\n",
      "256 timer took: 0.0045 seconds\n",
      "(512, 512) (512, 512)\n",
      "(65657.64+0j)\n",
      "512 timer took: 0.0101 seconds\n"
     ]
    }
   ],
   "source": [
    "for size in [4,8,16,32,64,128,256,512]:\n",
    "    a=np.random.rand(size,size).astype(np.complex64)\n",
    "    b=np.random.rand(size,size).astype(np.complex64)\n",
    "    print(a.shape,b.shape)\n",
    "    timer=Timer(str(size))\n",
    "    timer.start()\n",
    "    res=np.matmul(a,b)\n",
    "    print(np.trace(res))\n",
    "    timer.stop()"
   ]
  },
  {
   "cell_type": "code",
   "execution_count": 15,
   "metadata": {},
   "outputs": [
    {
     "name": "stdout",
     "output_type": "stream",
     "text": [
      "(4, 4) (4, 4)\n",
      "4 timer took: 0.0000 seconds\n",
      "(8, 8) (8, 8)\n",
      "8 timer took: 0.0000 seconds\n",
      "(16, 16) (16, 16)\n",
      "16 timer took: 0.0000 seconds\n",
      "(32, 32) (32, 32)\n",
      "32 timer took: 0.0000 seconds\n",
      "(64, 64) (64, 64)\n",
      "64 timer took: 0.0003 seconds\n",
      "(128, 128) (128, 128)\n",
      "128 timer took: 0.0002 seconds\n",
      "(256, 256) (256, 256)\n",
      "256 timer took: 0.0007 seconds\n",
      "(512, 512) (512, 512)\n",
      "512 timer took: 0.0058 seconds\n"
     ]
    }
   ],
   "source": [
    "for size in [4,8,16,32,64,128,256,512]:\n",
    "    a=np.random.rand(size,size)\n",
    "    b=np.random.rand(size,size)\n",
    "    print(a.shape,b.shape)\n",
    "    timer=Timer(str(size))\n",
    "    timer.start()\n",
    "    res=np.matmul(a,b)\n",
    "    timer.stop()"
   ]
  },
  {
   "cell_type": "code",
   "execution_count": null,
   "metadata": {},
   "outputs": [],
   "source": []
  },
  {
   "cell_type": "code",
   "execution_count": null,
   "metadata": {},
   "outputs": [],
   "source": []
  },
  {
   "cell_type": "code",
   "execution_count": null,
   "metadata": {},
   "outputs": [],
   "source": []
  },
  {
   "cell_type": "code",
   "execution_count": null,
   "metadata": {},
   "outputs": [],
   "source": []
  },
  {
   "cell_type": "code",
   "execution_count": null,
   "metadata": {},
   "outputs": [],
   "source": []
  },
  {
   "cell_type": "code",
   "execution_count": null,
   "metadata": {},
   "outputs": [],
   "source": []
  },
  {
   "cell_type": "code",
   "execution_count": null,
   "metadata": {},
   "outputs": [],
   "source": [
    "hamMat"
   ]
  },
  {
   "cell_type": "code",
   "execution_count": null,
   "metadata": {},
   "outputs": [],
   "source": [
    "type(hamMat[2,0])"
   ]
  },
  {
   "cell_type": "code",
   "execution_count": null,
   "metadata": {},
   "outputs": [],
   "source": []
  },
  {
   "cell_type": "code",
   "execution_count": null,
   "metadata": {},
   "outputs": [],
   "source": [
    "np.sort(np.linalg.eig(hamMat.astype(np.complex64))[0])"
   ]
  },
  {
   "cell_type": "code",
   "execution_count": null,
   "metadata": {},
   "outputs": [],
   "source": [
    "from matrix_to_ps import *\n",
    "from binary_encodings import *"
   ]
  },
  {
   "cell_type": "code",
   "execution_count": null,
   "metadata": {},
   "outputs": [],
   "source": [
    "hamMat.shape"
   ]
  },
  {
   "cell_type": "code",
   "execution_count": null,
   "metadata": {},
   "outputs": [],
   "source": [
    "hamPS=matrix_to_pauli_strings(hamMat, standard_encode)"
   ]
  },
  {
   "cell_type": "code",
   "execution_count": null,
   "metadata": {},
   "outputs": [],
   "source": [
    "hamPS=sp.nsimplify(hamPS, tolerance=1e-10)"
   ]
  },
  {
   "cell_type": "code",
   "execution_count": null,
   "metadata": {},
   "outputs": [],
   "source": [
    "#sp.simplify(sp.expand(hamPS))"
   ]
  },
  {
   "cell_type": "code",
   "execution_count": null,
   "metadata": {},
   "outputs": [],
   "source": []
  }
 ],
 "metadata": {
  "kernelspec": {
   "display_name": "QuantumComputing",
   "language": "python",
   "name": "python3"
  },
  "language_info": {
   "codemirror_mode": {
    "name": "ipython",
    "version": 3
   },
   "file_extension": ".py",
   "mimetype": "text/x-python",
   "name": "python",
   "nbconvert_exporter": "python",
   "pygments_lexer": "ipython3",
   "version": "3.10.8 (main, Nov 24 2022, 14:13:03) [GCC 11.2.0]"
  },
  "vscode": {
   "interpreter": {
    "hash": "dfc1513c9f5f8583c962b570c720f173469c60e3f15ab7ebf484195cbf280654"
   }
  }
 },
 "nbformat": 4,
 "nbformat_minor": 5
}
