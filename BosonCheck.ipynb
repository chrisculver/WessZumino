{
 "cells": [
  {
   "cell_type": "code",
   "execution_count": 26,
   "metadata": {},
   "outputs": [],
   "source": [
    "import sympy as sp\n",
    "from ham_to_matrix import *\n",
    "from constants import *"
   ]
  },
  {
   "cell_type": "markdown",
   "metadata": {},
   "source": [
    "## Diagonal Part"
   ]
  },
  {
   "cell_type": "code",
   "execution_count": 27,
   "metadata": {},
   "outputs": [],
   "source": [
    "totHam = 0.5*(pn**2 + qn**2)"
   ]
  },
  {
   "cell_type": "code",
   "execution_count": 28,
   "metadata": {},
   "outputs": [
    {
     "data": {
      "text/latex": [
       "$\\displaystyle 0.5 \\left(p_{n}^{2} + q_{n}^{2}\\right)$"
      ],
      "text/plain": [
       "0.5*(p_{n}**2 + q_{n}**2)"
      ]
     },
     "execution_count": 28,
     "metadata": {},
     "output_type": "execute_result"
    }
   ],
   "source": [
    "totHam"
   ]
  },
  {
   "cell_type": "code",
   "execution_count": null,
   "metadata": {},
   "outputs": [],
   "source": []
  },
  {
   "cell_type": "code",
   "execution_count": 29,
   "metadata": {},
   "outputs": [],
   "source": [
    "N=3\n",
    "aVal=1\n",
    "\n",
    "# depends on finite-difference method\n",
    "qs=[SiteSymbol('q',str(i)) for i in range(-1,N+1,1)]\n",
    "ps=[SiteSymbol('p',str(i)) for i in range(-1,N+1,1)] # don't really need extras\n",
    "aops=[SiteSymbol('a',str(i)) for i in range(-1,N+1,1)]\n",
    "adags=[SiteSymbol('a^{\\dagger}',str(i)) for i in range(-1,N+1,1)]\n",
    "\n",
    "# note this is exactly hardcoded for this finite difference method.\n",
    "bcType = 'periodic'\n",
    "boundaryConditions = {}\n",
    "\n",
    "# warning be careful of array indexing...   \n",
    "if bcType == 'periodic':\n",
    "    boundaryConditions = {qs[0]: qs[N], qs[N+1]: qs[1]\n",
    "                         }\n",
    "elif bcType == 'dirichlet':\n",
    "    boundaryConditions = {qs[0]: 0, qs[N+1]: 0}"
   ]
  },
  {
   "cell_type": "code",
   "execution_count": null,
   "metadata": {},
   "outputs": [],
   "source": []
  },
  {
   "cell_type": "code",
   "execution_count": 30,
   "metadata": {},
   "outputs": [
    {
     "data": {
      "text/latex": [
       "$\\displaystyle 0.5 \\left(p_{0}^{2} + q_{0}^{2}\\right) + 0.5 \\left(p_{1}^{2} + q_{1}^{2}\\right) + 0.5 \\left(p_{2}^{2} + q_{2}^{2}\\right)$"
      ],
      "text/plain": [
       "0.5*(p_{0}**2 + q_{0}**2) + 0.5*(p_{1}**2 + q_{1}**2) + 0.5*(p_{2}**2 + q_{2}**2)"
      ]
     },
     "execution_count": 30,
     "metadata": {},
     "output_type": "execute_result"
    }
   ],
   "source": [
    "ham=0\n",
    "for i in range(1,N+1):\n",
    "    ham+=totHam.subs({qn: qs[i], pn: ps[i]}).subs(boundaryConditions)\n",
    "\n",
    "ham"
   ]
  },
  {
   "cell_type": "code",
   "execution_count": 31,
   "metadata": {},
   "outputs": [
    {
     "data": {
      "text/latex": [
       "$\\displaystyle \\frac{a^{\\dagger}_{0} a_{0}}{2} + \\frac{a^{\\dagger}_{1} a_{1}}{2} + \\frac{a^{\\dagger}_{2} a_{2}}{2} + \\frac{a_{0} a^{\\dagger}_{0}}{2} + \\frac{a_{1} a^{\\dagger}_{1}}{2} + \\frac{a_{2} a^{\\dagger}_{2}}{2}$"
      ],
      "text/plain": [
       "a^{\\dagger}_{0}*a_{0}/2 + a^{\\dagger}_{1}*a_{1}/2 + a^{\\dagger}_{2}*a_{2}/2 + a_{0}*a^{\\dagger}_{0}/2 + a_{1}*a^{\\dagger}_{1}/2 + a_{2}*a^{\\dagger}_{2}/2"
      ]
     },
     "execution_count": 31,
     "metadata": {},
     "output_type": "execute_result"
    }
   ],
   "source": [
    "m=1\n",
    "\n",
    "HOdofSubs = {}\n",
    "#offset because of BC\n",
    "for i in range(1,N+1):\n",
    "    HOdofSubs[qs[i]] = 0.5*sp.sqrt(2/m)*(aops[i] + adags[i])\n",
    "    HOdofSubs[ps[i]] = complex(0,1)*sp.sqrt(2*m)*(adags[i] - aops[i])/2 \n",
    "\n",
    "hoHam=sp.expand(ham.subs(HOdofSubs))\n",
    "hoHam=sp.nsimplify(hoHam,tolerance=1e-8)\n",
    "hoHam"
   ]
  },
  {
   "cell_type": "code",
   "execution_count": 39,
   "metadata": {},
   "outputs": [
    {
     "name": "stdout",
     "output_type": "stream",
     "text": [
      "a^{\\dagger}_{0}*a_{0}/2 + a^{\\dagger}_{1}*a_{1}/2 + a_{0}*a^{\\dagger}_{0}/2 + a_{1}*a^{\\dagger}_{1}/2\n",
      "[[1.00000000000000 0 0 ... 0 0 0]\n",
      " [0 1.00000000000000 0 ... 0 0 0]\n",
      " [0 0 1.00000000000000 ... 0 0 0]\n",
      " ...\n",
      " [0 0 0 ... 3.00000000000000 0 0]\n",
      " [0 0 0 ... 0 3.00000000000000 0]\n",
      " [0 0 0 ... 0 0 3.00000000000000]]\n"
     ]
    },
    {
     "data": {
      "text/plain": [
       "array([1.+0.j, 1.+0.j, 1.+0.j, 1.+0.j, 2.+0.j, 2.+0.j, 2.+0.j, 2.+0.j,\n",
       "       2.+0.j, 2.+0.j, 2.+0.j, 2.+0.j, 2.+0.j, 2.+0.j, 2.+0.j, 2.+0.j,\n",
       "       2.+0.j, 2.+0.j, 2.+0.j, 2.+0.j, 3.+0.j, 3.+0.j, 3.+0.j, 3.+0.j,\n",
       "       3.+0.j, 3.+0.j, 3.+0.j, 3.+0.j, 3.+0.j, 3.+0.j, 3.+0.j, 3.+0.j,\n",
       "       3.+0.j, 3.+0.j, 3.+0.j, 3.+0.j, 3.+0.j, 3.+0.j, 3.+0.j, 3.+0.j,\n",
       "       3.+0.j, 3.+0.j, 3.+0.j, 3.+0.j, 4.+0.j, 4.+0.j, 4.+0.j, 4.+0.j,\n",
       "       4.+0.j, 4.+0.j, 4.+0.j, 4.+0.j, 4.+0.j, 4.+0.j, 4.+0.j, 4.+0.j,\n",
       "       4.+0.j, 4.+0.j, 4.+0.j, 4.+0.j, 5.+0.j, 5.+0.j, 5.+0.j, 5.+0.j],\n",
       "      dtype=complex64)"
      ]
     },
     "execution_count": 39,
     "metadata": {},
     "output_type": "execute_result"
    }
   ],
   "source": [
    "cutoff=4\n",
    "term=hoHam.args[0]+hoHam.args[3]\n",
    "term+=hoHam.args[1]+hoHam.args[4]\n",
    "print(term)\n",
    "hamMat=convert_boson_to_matrix(term,cutoff,3,aops,adags)\n",
    "print(hamMat)\n",
    "ens=np.sort(np.linalg.eig(hamMat.astype(np.complex64))[0])\n",
    "ens=ens.round(8)\n",
    "\n",
    "np.isreal(ens).all()\n",
    "\n",
    "ens"
   ]
  },
  {
   "cell_type": "code",
   "execution_count": null,
   "metadata": {},
   "outputs": [],
   "source": []
  },
  {
   "cell_type": "code",
   "execution_count": 41,
   "metadata": {},
   "outputs": [
    {
     "data": {
      "text/plain": [
       "array([1.5+0.j, 2.5+0.j, 2.5+0.j, 2.5+0.j, 2.5+0.j, 2.5+0.j, 2.5+0.j,\n",
       "       3.5+0.j, 3.5+0.j, 3.5+0.j, 3.5+0.j, 3.5+0.j, 3.5+0.j, 3.5+0.j,\n",
       "       3.5+0.j, 3.5+0.j, 3.5+0.j, 3.5+0.j, 3.5+0.j, 3.5+0.j, 3.5+0.j,\n",
       "       3.5+0.j, 4.5+0.j, 4.5+0.j, 4.5+0.j, 4.5+0.j, 4.5+0.j, 4.5+0.j,\n",
       "       4.5+0.j, 4.5+0.j, 4.5+0.j, 4.5+0.j, 4.5+0.j, 4.5+0.j, 4.5+0.j,\n",
       "       4.5+0.j, 4.5+0.j, 4.5+0.j, 4.5+0.j, 4.5+0.j, 4.5+0.j, 4.5+0.j,\n",
       "       5.5+0.j, 5.5+0.j, 5.5+0.j, 5.5+0.j, 5.5+0.j, 5.5+0.j, 5.5+0.j,\n",
       "       5.5+0.j, 5.5+0.j, 5.5+0.j, 5.5+0.j, 5.5+0.j, 5.5+0.j, 5.5+0.j,\n",
       "       5.5+0.j, 6.5+0.j, 6.5+0.j, 6.5+0.j, 6.5+0.j, 6.5+0.j, 6.5+0.j,\n",
       "       7.5+0.j], dtype=complex64)"
      ]
     },
     "execution_count": 41,
     "metadata": {},
     "output_type": "execute_result"
    }
   ],
   "source": [
    "cutoff=4\n",
    "hamMat=convert_boson_to_matrix(hoHam,cutoff,N,aops,adags)\n",
    "ens=np.sort(np.linalg.eig(hamMat.astype(np.complex64))[0])\n",
    "ens=ens.round(8)\n",
    "\n",
    "np.isreal(ens).all()\n",
    "\n",
    "ens"
   ]
  },
  {
   "cell_type": "code",
   "execution_count": null,
   "metadata": {},
   "outputs": [],
   "source": []
  },
  {
   "cell_type": "code",
   "execution_count": null,
   "metadata": {},
   "outputs": [],
   "source": []
  },
  {
   "cell_type": "code",
   "execution_count": null,
   "metadata": {},
   "outputs": [],
   "source": []
  },
  {
   "cell_type": "code",
   "execution_count": null,
   "metadata": {},
   "outputs": [],
   "source": []
  },
  {
   "cell_type": "code",
   "execution_count": null,
   "metadata": {},
   "outputs": [],
   "source": []
  },
  {
   "cell_type": "code",
   "execution_count": null,
   "metadata": {},
   "outputs": [],
   "source": []
  },
  {
   "cell_type": "markdown",
   "metadata": {},
   "source": [
    "## Full boson part"
   ]
  },
  {
   "cell_type": "code",
   "execution_count": 16,
   "metadata": {},
   "outputs": [
    {
     "data": {
      "text/latex": [
       "$\\displaystyle \\frac{a V^{2}{\\left({q}_{n} \\right)}}{2} + \\frac{V{\\left({q}_{n} \\right)} {q}_{n + 1}}{2} - \\frac{V{\\left({q}_{n} \\right)} {q}_{n - 1}}{2} + \\frac{{p}_{n}^{2}}{2 a} + \\frac{{q}_{n + 1}^{2}}{8 a} - \\frac{{q}_{n + 1} {q}_{n - 1}}{4 a} + \\frac{{q}_{n - 1}^{2}}{8 a}$"
      ],
      "text/plain": [
       "a*V(q[n])**2/2 + V(q[n])*q[n + 1]/2 - V(q[n])*q[n - 1]/2 + p[n]**2/(2*a) + q[n + 1]**2/(8*a) - q[n + 1]*q[n - 1]/(4*a) + q[n - 1]**2/(8*a)"
      ]
     },
     "execution_count": 16,
     "metadata": {},
     "output_type": "execute_result"
    }
   ],
   "source": [
    "bosonNI=sp.expand( p[n]**2/(2*aLat) + (aLat/2)*((q[n+1]-q[n-1])/(2*aLat))**2 )\n",
    "bosonI=sp.expand( (aLat/2)*V(q[n])**2 + aLat*V(q[n])*(q[n+1]-q[n-1])/(2*aLat) )\n",
    "\n",
    "ham=0\n",
    "totHam=bosonNI+bosonI\n",
    "totHam"
   ]
  },
  {
   "cell_type": "code",
   "execution_count": 17,
   "metadata": {},
   "outputs": [],
   "source": [
    "N=3\n",
    "aVal=1\n",
    "\n",
    "# note this is exactly hardcoded for this finite difference method.\n",
    "bcType = 'periodic'\n",
    "boundaryConditions = {}\n",
    "if bcType == 'periodic':\n",
    "    boundaryConditions = {q[-1]: q[N-1], q[N]: q[0],\n",
    "                          x[N]: x[0], xd[N]: xd[0],\n",
    "                         }\n",
    "elif bcType == 'dirichlet':\n",
    "    boundaryConditions = {q[-1]: 0, q[N]: 0,\n",
    "                          x[N]: 0, xd[N]: 0\n",
    "                         }"
   ]
  },
  {
   "cell_type": "code",
   "execution_count": 18,
   "metadata": {},
   "outputs": [
    {
     "data": {
      "text/latex": [
       "$\\displaystyle \\frac{{p}_{0}^{2}}{2} + \\frac{{p}_{1}^{2}}{2} + \\frac{{p}_{2}^{2}}{2} + \\frac{{q}_{0}^{2}}{4} - \\frac{{q}_{0} {q}_{1}}{4} - \\frac{{q}_{0} {q}_{2}}{4} + \\frac{{q}_{1}^{2}}{4} - \\frac{{q}_{1} {q}_{2}}{4} + \\frac{{q}_{2}^{2}}{4}$"
      ],
      "text/plain": [
       "p[0]**2/2 + p[1]**2/2 + p[2]**2/2 + q[0]**2/4 - q[0]*q[1]/4 - q[0]*q[2]/4 + q[1]**2/4 - q[1]*q[2]/4 + q[2]**2/4"
      ]
     },
     "execution_count": 18,
     "metadata": {},
     "output_type": "execute_result"
    }
   ],
   "source": [
    "\n",
    "for i in range(0,N):\n",
    "    ham+=totHam.subs(n,i).subs(boundaryConditions)\n",
    "# ham.subs(boundaryConditions).doit() # this doesn't work?\n",
    "\n",
    "def potential(n):\n",
    "    return 0\n",
    "\n",
    "for n in range(0,N):\n",
    "    ham=ham.subs(V(q[n]),potential(n))\n",
    "ham=ham.subs(aLat,aVal).simplify().expand()\n",
    "ham"
   ]
  },
  {
   "cell_type": "code",
   "execution_count": 19,
   "metadata": {},
   "outputs": [
    {
     "data": {
      "text/latex": [
       "$\\displaystyle - \\frac{{a}_{0}^{2}}{8} - \\frac{{a}_{0} {a}_{1}}{8} - \\frac{{a}_{0} {a}_{2}}{8} + \\frac{3 {a}_{0} {a^{\\dagger}}_{0}}{4} - \\frac{{a}_{0} {a^{\\dagger}}_{1}}{8} - \\frac{{a}_{0} {a^{\\dagger}}_{2}}{8} - \\frac{{a}_{1}^{2}}{8} - \\frac{{a}_{1} {a}_{2}}{8} - \\frac{{a}_{1} {a^{\\dagger}}_{0}}{8} + \\frac{3 {a}_{1} {a^{\\dagger}}_{1}}{4} - \\frac{{a}_{1} {a^{\\dagger}}_{2}}{8} - \\frac{{a}_{2}^{2}}{8} - \\frac{{a}_{2} {a^{\\dagger}}_{0}}{8} - \\frac{{a}_{2} {a^{\\dagger}}_{1}}{8} + \\frac{3 {a}_{2} {a^{\\dagger}}_{2}}{4} - \\frac{{a^{\\dagger}}_{0}^{2}}{8} - \\frac{{a^{\\dagger}}_{0} {a^{\\dagger}}_{1}}{8} - \\frac{{a^{\\dagger}}_{0} {a^{\\dagger}}_{2}}{8} - \\frac{{a^{\\dagger}}_{1}^{2}}{8} - \\frac{{a^{\\dagger}}_{1} {a^{\\dagger}}_{2}}{8} - \\frac{{a^{\\dagger}}_{2}^{2}}{8}$"
      ],
      "text/plain": [
       "-a[0]**2/8 - a[0]*a[1]/8 - a[0]*a[2]/8 + 3*a[0]*a^{\\dagger}[0]/4 - a[0]*a^{\\dagger}[1]/8 - a[0]*a^{\\dagger}[2]/8 - a[1]**2/8 - a[1]*a[2]/8 - a[1]*a^{\\dagger}[0]/8 + 3*a[1]*a^{\\dagger}[1]/4 - a[1]*a^{\\dagger}[2]/8 - a[2]**2/8 - a[2]*a^{\\dagger}[0]/8 - a[2]*a^{\\dagger}[1]/8 + 3*a[2]*a^{\\dagger}[2]/4 - a^{\\dagger}[0]**2/8 - a^{\\dagger}[0]*a^{\\dagger}[1]/8 - a^{\\dagger}[0]*a^{\\dagger}[2]/8 - a^{\\dagger}[1]**2/8 - a^{\\dagger}[1]*a^{\\dagger}[2]/8 - a^{\\dagger}[2]**2/8"
      ]
     },
     "execution_count": 19,
     "metadata": {},
     "output_type": "execute_result"
    }
   ],
   "source": [
    "m=1\n",
    "\n",
    "HOdofSubs = {}\n",
    "for i in range(0,N):\n",
    "    HOdofSubs[q[i]] = 0.5*sp.sqrt(2/m)*(a[i] + adag[i])\n",
    "    HOdofSubs[p[i]] = complex(0,1)*sp.sqrt(2*m)*(adag[i] - a[i])/2\n",
    "    \n",
    "hoHam=sp.expand(ham.subs(HOdofSubs))\n",
    "sp.nsimplify(hoHam,tolerance=1e-10)"
   ]
  },
  {
   "cell_type": "code",
   "execution_count": 20,
   "metadata": {},
   "outputs": [
    {
     "ename": "TypeError",
     "evalue": "convert_to_matrix() missing 2 required positional arguments: 'aops' and 'adags'",
     "output_type": "error",
     "traceback": [
      "\u001b[0;31m---------------------------------------------------------------------------\u001b[0m",
      "\u001b[0;31mTypeError\u001b[0m                                 Traceback (most recent call last)",
      "Input \u001b[0;32mIn [20]\u001b[0m, in \u001b[0;36m<cell line: 2>\u001b[0;34m()\u001b[0m\n\u001b[1;32m      1\u001b[0m cutoff\u001b[38;5;241m=\u001b[39m\u001b[38;5;241m4\u001b[39m\n\u001b[0;32m----> 2\u001b[0m hamMat\u001b[38;5;241m=\u001b[39m\u001b[43mconvert_to_matrix\u001b[49m\u001b[43m(\u001b[49m\u001b[43mhoHam\u001b[49m\u001b[43m,\u001b[49m\u001b[43mcutoff\u001b[49m\u001b[43m,\u001b[49m\u001b[43mN\u001b[49m\u001b[43m)\u001b[49m\n",
      "\u001b[0;31mTypeError\u001b[0m: convert_to_matrix() missing 2 required positional arguments: 'aops' and 'adags'"
     ]
    }
   ],
   "source": [
    "cutoff=4\n",
    "hamMat=convert_to_matrix(hoHam,cutoff,N)"
   ]
  },
  {
   "cell_type": "code",
   "execution_count": null,
   "metadata": {},
   "outputs": [],
   "source": [
    "hamMat.shape"
   ]
  },
  {
   "cell_type": "code",
   "execution_count": null,
   "metadata": {},
   "outputs": [],
   "source": [
    "np.isreal(hamMat).all()"
   ]
  },
  {
   "cell_type": "code",
   "execution_count": null,
   "metadata": {},
   "outputs": [],
   "source": [
    "(hamMat==np.matrix(hamMat).H).all()"
   ]
  },
  {
   "cell_type": "code",
   "execution_count": null,
   "metadata": {},
   "outputs": [],
   "source": [
    "np.sort(np.linalg.eig(hamMat.astype(np.complex64))[0])"
   ]
  },
  {
   "cell_type": "code",
   "execution_count": null,
   "metadata": {},
   "outputs": [],
   "source": []
  },
  {
   "cell_type": "code",
   "execution_count": null,
   "metadata": {},
   "outputs": [],
   "source": []
  },
  {
   "cell_type": "code",
   "execution_count": null,
   "metadata": {},
   "outputs": [],
   "source": []
  },
  {
   "cell_type": "code",
   "execution_count": null,
   "metadata": {},
   "outputs": [],
   "source": [
    "m=convert_term_to_matrix(1.0*a[0]*a[1], 4, 3).astype(float)"
   ]
  },
  {
   "cell_type": "code",
   "execution_count": null,
   "metadata": {},
   "outputs": [],
   "source": [
    "for row in m:\n",
    "    print(row)"
   ]
  },
  {
   "cell_type": "code",
   "execution_count": null,
   "metadata": {},
   "outputs": [],
   "source": []
  },
  {
   "cell_type": "code",
   "execution_count": null,
   "metadata": {},
   "outputs": [],
   "source": []
  },
  {
   "cell_type": "code",
   "execution_count": null,
   "metadata": {},
   "outputs": [],
   "source": []
  }
 ],
 "metadata": {
  "kernelspec": {
   "display_name": "Python 3",
   "language": "python",
   "name": "python3"
  },
  "language_info": {
   "codemirror_mode": {
    "name": "ipython",
    "version": 3
   },
   "file_extension": ".py",
   "mimetype": "text/x-python",
   "name": "python",
   "nbconvert_exporter": "python",
   "pygments_lexer": "ipython3",
   "version": "3.9.1"
  }
 },
 "nbformat": 4,
 "nbformat_minor": 5
}
