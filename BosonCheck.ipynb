{
 "cells": [
  {
   "cell_type": "code",
   "execution_count": 1,
   "metadata": {},
   "outputs": [],
   "source": [
    "import sympy as sp\n",
    "from ham_to_matrix import *\n",
    "from constants import *"
   ]
  },
  {
   "cell_type": "markdown",
   "metadata": {},
   "source": [
    "## Diagonal Part"
   ]
  },
  {
   "cell_type": "code",
   "execution_count": 2,
   "metadata": {},
   "outputs": [],
   "source": [
    "totHam = pn**2 + qn**2"
   ]
  },
  {
   "cell_type": "code",
   "execution_count": 3,
   "metadata": {},
   "outputs": [
    {
     "data": {
      "text/latex": [
       "$\\displaystyle p_{n}^{2} + q_{n}^{2}$"
      ],
      "text/plain": [
       "p_{n}**2 + q_{n}**2"
      ]
     },
     "execution_count": 3,
     "metadata": {},
     "output_type": "execute_result"
    }
   ],
   "source": [
    "totHam"
   ]
  },
  {
   "cell_type": "code",
   "execution_count": null,
   "metadata": {},
   "outputs": [],
   "source": []
  },
  {
   "cell_type": "code",
   "execution_count": 4,
   "metadata": {},
   "outputs": [],
   "source": [
    "N=3\n",
    "aVal=1\n",
    "\n",
    "# depends on finite-difference method\n",
    "qs=[SiteSymbol('q',str(i)) for i in range(-1,N+1,1)]\n",
    "ps=[SiteSymbol('p',str(i)) for i in range(-1,N+1,1)] # don't really need extras\n",
    "aops=[SiteSymbol('a',str(i)) for i in range(-1,N+1,1)]\n",
    "adags=[SiteSymbol('a^{\\dagger}',str(i)) for i in range(-1,N+1,1)]\n",
    "\n",
    "# note this is exactly hardcoded for this finite difference method.\n",
    "bcType = 'periodic'\n",
    "boundaryConditions = {}\n",
    "\n",
    "# warning be careful of array indexing...   \n",
    "if bcType == 'periodic':\n",
    "    boundaryConditions = {qs[0]: qs[N], qs[N+1]: qs[1]\n",
    "                         }\n",
    "elif bcType == 'dirichlet':\n",
    "    boundaryConditions = {qs[0]: 0, qs[N+1]: 0}"
   ]
  },
  {
   "cell_type": "code",
   "execution_count": 5,
   "metadata": {},
   "outputs": [
    {
     "name": "stdout",
     "output_type": "stream",
     "text": [
      "q_{-1}  q_{0}  q_{1}  q_{2}  q_{3}  \n"
     ]
    },
    {
     "data": {
      "text/latex": [
       "$\\displaystyle q_{-1}$"
      ],
      "text/plain": [
       "q_{-1}"
      ]
     },
     "execution_count": 5,
     "metadata": {},
     "output_type": "execute_result"
    }
   ],
   "source": [
    "s=''\n",
    "for q in qs:\n",
    "    s+='{}  '.format(q)\n",
    "print(s)\n",
    "qs[0]"
   ]
  },
  {
   "cell_type": "code",
   "execution_count": null,
   "metadata": {},
   "outputs": [],
   "source": []
  },
  {
   "cell_type": "code",
   "execution_count": 6,
   "metadata": {},
   "outputs": [
    {
     "data": {
      "text/latex": [
       "$\\displaystyle p_{0}^{2} + p_{1}^{2} + p_{2}^{2} + q_{0}^{2} + q_{1}^{2} + q_{2}^{2}$"
      ],
      "text/plain": [
       "p_{0}**2 + p_{1}**2 + p_{2}**2 + q_{0}**2 + q_{1}**2 + q_{2}**2"
      ]
     },
     "execution_count": 6,
     "metadata": {},
     "output_type": "execute_result"
    }
   ],
   "source": [
    "ham=0\n",
    "for i in range(1,N+1):\n",
    "    ham+=totHam.subs({qn: qs[i], pn: ps[i]}).subs(boundaryConditions)\n",
    "\n",
    "ham"
   ]
  },
  {
   "cell_type": "code",
   "execution_count": 7,
   "metadata": {},
   "outputs": [
    {
     "data": {
      "text/latex": [
       "$\\displaystyle a^{\\dagger}_{0} a_{0} + a^{\\dagger}_{1} a_{1} + a^{\\dagger}_{2} a_{2} + a_{0} a^{\\dagger}_{0} + a_{1} a^{\\dagger}_{1} + a_{2} a^{\\dagger}_{2}$"
      ],
      "text/plain": [
       "a^{\\dagger}_{0}*a_{0} + a^{\\dagger}_{1}*a_{1} + a^{\\dagger}_{2}*a_{2} + a_{0}*a^{\\dagger}_{0} + a_{1}*a^{\\dagger}_{1} + a_{2}*a^{\\dagger}_{2}"
      ]
     },
     "execution_count": 7,
     "metadata": {},
     "output_type": "execute_result"
    }
   ],
   "source": [
    "m=1\n",
    "\n",
    "HOdofSubs = {}\n",
    "#offset because of BC\n",
    "for i in range(1,N+1):\n",
    "    HOdofSubs[qs[i]] = 0.5*sp.sqrt(2/m)*(aops[i] + adags[i])\n",
    "    HOdofSubs[ps[i]] = complex(0,1)*sp.sqrt(2*m)*(adags[i] - aops[i])/2 \n",
    "\n",
    "hoHam=sp.expand(ham.subs(HOdofSubs))\n",
    "hoHam=sp.nsimplify(hoHam,tolerance=1e-8)\n",
    "hoHam"
   ]
  },
  {
   "cell_type": "code",
   "execution_count": 8,
   "metadata": {},
   "outputs": [
    {
     "name": "stdout",
     "output_type": "stream",
     "text": [
      "a^{\\dagger}_{0}*a_{0}\n",
      "a^{\\dagger}_{0}\n",
      "a_{0}\n"
     ]
    }
   ],
   "source": [
    "print(hoHam.args[0])\n",
    "for a in hoHam.args[0].args:\n",
    "    print(a.name)"
   ]
  },
  {
   "cell_type": "code",
   "execution_count": 9,
   "metadata": {},
   "outputs": [
    {
     "name": "stdout",
     "output_type": "stream",
     "text": [
      "[[0.       +0.j 1.       +0.j 0.       +0.j 0.       +0.j]\n",
      " [0.       +0.j 0.       +0.j 1.4142135+0.j 0.       +0.j]\n",
      " [0.       +0.j 0.       +0.j 0.       +0.j 1.7320508+0.j]\n",
      " [0.       +0.j 0.       +0.j 0.       +0.j 0.       +0.j]]\n"
     ]
    },
    {
     "data": {
      "text/plain": [
       "array([[0.+0.j, 0.+0.j, 0.+0.j, ..., 0.+0.j, 0.+0.j, 0.+0.j],\n",
       "       [0.+0.j, 0.+0.j, 0.+0.j, ..., 0.+0.j, 0.+0.j, 0.+0.j],\n",
       "       [0.+0.j, 0.+0.j, 0.+0.j, ..., 0.+0.j, 0.+0.j, 0.+0.j],\n",
       "       ...,\n",
       "       [0.+0.j, 0.+0.j, 0.+0.j, ..., 0.+0.j, 0.+0.j, 0.+0.j],\n",
       "       [0.+0.j, 0.+0.j, 0.+0.j, ..., 0.+0.j, 0.+0.j, 0.+0.j],\n",
       "       [0.+0.j, 0.+0.j, 0.+0.j, ..., 0.+0.j, 0.+0.j, 0.+0.j]])"
      ]
     },
     "execution_count": 9,
     "metadata": {},
     "output_type": "execute_result"
    }
   ],
   "source": [
    "convert_boson_term_to_matrix(hoHam.args[0],4,3,aops,adags)"
   ]
  },
  {
   "cell_type": "code",
   "execution_count": 10,
   "metadata": {},
   "outputs": [
    {
     "name": "stdout",
     "output_type": "stream",
     "text": [
      "[[0.       +0.j 1.       +0.j 0.       +0.j 0.       +0.j]\n",
      " [0.       +0.j 0.       +0.j 1.4142135+0.j 0.       +0.j]\n",
      " [0.       +0.j 0.       +0.j 0.       +0.j 1.7320508+0.j]\n",
      " [0.       +0.j 0.       +0.j 0.       +0.j 0.       +0.j]]\n",
      "[[0.       +0.j 1.       +0.j 0.       +0.j 0.       +0.j]\n",
      " [0.       +0.j 0.       +0.j 1.4142135+0.j 0.       +0.j]\n",
      " [0.       +0.j 0.       +0.j 0.       +0.j 1.7320508+0.j]\n",
      " [0.       +0.j 0.       +0.j 0.       +0.j 0.       +0.j]]\n",
      "[[0.       +0.j 1.       +0.j 0.       +0.j 0.       +0.j]\n",
      " [0.       +0.j 0.       +0.j 1.4142135+0.j 0.       +0.j]\n",
      " [0.       +0.j 0.       +0.j 0.       +0.j 1.7320508+0.j]\n",
      " [0.       +0.j 0.       +0.j 0.       +0.j 0.       +0.j]]\n",
      "[[0.       +0.j 0.       +0.j 0.       +0.j 0.       +0.j]\n",
      " [1.       +0.j 0.       +0.j 0.       +0.j 0.       +0.j]\n",
      " [0.       +0.j 1.4142135+0.j 0.       +0.j 0.       +0.j]\n",
      " [0.       +0.j 0.       +0.j 1.7320508+0.j 0.       +0.j]]\n",
      "[[0.       +0.j 0.       +0.j 0.       +0.j 0.       +0.j]\n",
      " [1.       +0.j 0.       +0.j 0.       +0.j 0.       +0.j]\n",
      " [0.       +0.j 1.4142135+0.j 0.       +0.j 0.       +0.j]\n",
      " [0.       +0.j 0.       +0.j 1.7320508+0.j 0.       +0.j]]\n",
      "[[0.       +0.j 0.       +0.j 0.       +0.j 0.       +0.j]\n",
      " [1.       +0.j 0.       +0.j 0.       +0.j 0.       +0.j]\n",
      " [0.       +0.j 1.4142135+0.j 0.       +0.j 0.       +0.j]\n",
      " [0.       +0.j 0.       +0.j 1.7320508+0.j 0.       +0.j]]\n"
     ]
    }
   ],
   "source": [
    "cutoff=4\n",
    "hamMat=convert_boson_to_matrix(hoHam,cutoff,N,aops,adags)"
   ]
  },
  {
   "cell_type": "code",
   "execution_count": 11,
   "metadata": {},
   "outputs": [
    {
     "data": {
      "text/plain": [
       "array([[0.        +0.j, 1.        +0.j, 0.        +0.j, ...,\n",
       "        0.        +0.j, 0.        +0.j, 0.        +0.j],\n",
       "       [1.        +0.j, 0.        +0.j, 1.41421354+0.j, ...,\n",
       "        0.        +0.j, 0.        +0.j, 0.        +0.j],\n",
       "       [0.        +0.j, 1.41421354+0.j, 0.        +0.j, ...,\n",
       "        0.        +0.j, 0.        +0.j, 0.        +0.j],\n",
       "       ...,\n",
       "       [0.        +0.j, 0.        +0.j, 0.        +0.j, ...,\n",
       "        0.        +0.j, 1.41421354+0.j, 0.        +0.j],\n",
       "       [0.        +0.j, 0.        +0.j, 0.        +0.j, ...,\n",
       "        1.41421354+0.j, 0.        +0.j, 1.73205078+0.j],\n",
       "       [0.        +0.j, 0.        +0.j, 0.        +0.j, ...,\n",
       "        0.        +0.j, 1.73205078+0.j, 0.        +0.j]])"
      ]
     },
     "execution_count": 11,
     "metadata": {},
     "output_type": "execute_result"
    }
   ],
   "source": [
    "hamMat"
   ]
  },
  {
   "cell_type": "code",
   "execution_count": 12,
   "metadata": {},
   "outputs": [
    {
     "name": "stdout",
     "output_type": "stream",
     "text": [
      "[[0.       +0.j 1.       +0.j 0.       +0.j 0.       +0.j]\n",
      " [0.       +0.j 0.       +0.j 1.4142135+0.j 0.       +0.j]\n",
      " [0.       +0.j 0.       +0.j 0.       +0.j 1.7320508+0.j]\n",
      " [0.       +0.j 0.       +0.j 0.       +0.j 0.       +0.j]]\n",
      "[[0.       +0.j 1.       +0.j 0.       +0.j 0.       +0.j]\n",
      " [0.       +0.j 0.       +0.j 1.4142135+0.j 0.       +0.j]\n",
      " [0.       +0.j 0.       +0.j 0.       +0.j 1.7320508+0.j]\n",
      " [0.       +0.j 0.       +0.j 0.       +0.j 0.       +0.j]]\n",
      "[[0.       +0.j 1.       +0.j 0.       +0.j 0.       +0.j]\n",
      " [0.       +0.j 0.       +0.j 1.4142135+0.j 0.       +0.j]\n",
      " [0.       +0.j 0.       +0.j 0.       +0.j 1.7320508+0.j]\n",
      " [0.       +0.j 0.       +0.j 0.       +0.j 0.       +0.j]]\n",
      "[[0.       +0.j 0.       +0.j 0.       +0.j 0.       +0.j]\n",
      " [1.       +0.j 0.       +0.j 0.       +0.j 0.       +0.j]\n",
      " [0.       +0.j 1.4142135+0.j 0.       +0.j 0.       +0.j]\n",
      " [0.       +0.j 0.       +0.j 1.7320508+0.j 0.       +0.j]]\n",
      "[[0.       +0.j 0.       +0.j 0.       +0.j 0.       +0.j]\n",
      " [1.       +0.j 0.       +0.j 0.       +0.j 0.       +0.j]\n",
      " [0.       +0.j 1.4142135+0.j 0.       +0.j 0.       +0.j]\n",
      " [0.       +0.j 0.       +0.j 1.7320508+0.j 0.       +0.j]]\n",
      "[[0.       +0.j 0.       +0.j 0.       +0.j 0.       +0.j]\n",
      " [1.       +0.j 0.       +0.j 0.       +0.j 0.       +0.j]\n",
      " [0.       +0.j 1.4142135+0.j 0.       +0.j 0.       +0.j]\n",
      " [0.       +0.j 0.       +0.j 1.7320508+0.j 0.       +0.j]]\n"
     ]
    },
    {
     "data": {
      "text/plain": [
       "array([-7.003242  +0.j, -5.4107924 -0.j, -5.4107924 -0.j, -5.4107924 +0.j,\n",
       "       -3.9268646 -0.j, -3.9268646 -0.j, -3.9268646 +0.j, -3.8183417 -0.j,\n",
       "       -3.8183417 -0.j, -3.8183417 +0.j, -2.3344142 -0.j, -2.3344142 -0.j,\n",
       "       -2.3344142 -0.j, -2.3344142 +0.j, -2.3344142 +0.j, -2.3344142 +0.j,\n",
       "       -2.3344142 +0.j, -2.3344142 +0.j, -2.3344142 +0.j, -2.2258914 +0.j,\n",
       "       -0.85048664-0.j, -0.85048664+0.j, -0.85048664+0.j, -0.74196386-0.j,\n",
       "       -0.74196386-0.j, -0.74196386-0.j, -0.74196386-0.j, -0.74196386-0.j,\n",
       "       -0.74196386+0.j, -0.74196386+0.j, -0.74196386+0.j, -0.74196386+0.j,\n",
       "        0.74196386+0.j,  0.74196386+0.j,  0.74196386+0.j,  0.74196386+0.j,\n",
       "        0.74196386+0.j,  0.74196386+0.j,  0.74196386+0.j,  0.74196386+0.j,\n",
       "        0.74196386+0.j,  0.85048664-0.j,  0.85048664+0.j,  0.85048664+0.j,\n",
       "        2.2258914 -0.j,  2.3344142 -0.j,  2.3344142 -0.j,  2.3344142 -0.j,\n",
       "        2.3344142 -0.j,  2.3344142 +0.j,  2.3344142 +0.j,  2.3344142 +0.j,\n",
       "        2.3344142 +0.j,  2.3344142 +0.j,  3.8183417 -0.j,  3.8183417 -0.j,\n",
       "        3.8183417 -0.j,  3.9268646 -0.j,  3.9268646 +0.j,  3.9268646 +0.j,\n",
       "        5.4107924 -0.j,  5.4107924 +0.j,  5.4107924 +0.j,  7.003242  -0.j],\n",
       "      dtype=complex64)"
      ]
     },
     "execution_count": 12,
     "metadata": {},
     "output_type": "execute_result"
    }
   ],
   "source": [
    "cutoff=4\n",
    "hamMat=convert_boson_to_matrix(hoHam,cutoff,N,aops,adags)\n",
    "ens=np.sort(np.linalg.eig(hamMat.astype(np.complex64))[0])\n",
    "ens=ens.round(8)\n",
    "\n",
    "np.isreal(ens).all()\n",
    "\n",
    "ens"
   ]
  },
  {
   "cell_type": "code",
   "execution_count": null,
   "metadata": {},
   "outputs": [],
   "source": []
  },
  {
   "cell_type": "code",
   "execution_count": 13,
   "metadata": {},
   "outputs": [
    {
     "name": "stdout",
     "output_type": "stream",
     "text": [
      "[[0.       +0.j 1.       +0.j 0.       +0.j 0.       +0.j]\n",
      " [0.       +0.j 0.       +0.j 1.4142135+0.j 0.       +0.j]\n",
      " [0.       +0.j 0.       +0.j 0.       +0.j 1.7320508+0.j]\n",
      " [0.       +0.j 0.       +0.j 0.       +0.j 0.       +0.j]]\n",
      "[[0.       +0.j 0.       +0.j 0.       +0.j 0.       +0.j]\n",
      " [1.       +0.j 0.       +0.j 0.       +0.j 0.       +0.j]\n",
      " [0.       +0.j 1.4142135+0.j 0.       +0.j 0.       +0.j]\n",
      " [0.       +0.j 0.       +0.j 1.7320508+0.j 0.       +0.j]]\n",
      "[[0.+0.j 0.+0.j 0.+0.j ... 0.+0.j 0.+0.j 0.+0.j]\n",
      " [0.+0.j 0.+0.j 0.+0.j ... 0.+0.j 0.+0.j 0.+0.j]\n",
      " [0.+0.j 0.+0.j 0.+0.j ... 0.+0.j 0.+0.j 0.+0.j]\n",
      " ...\n",
      " [0.+0.j 0.+0.j 0.+0.j ... 0.+0.j 0.+0.j 0.+0.j]\n",
      " [0.+0.j 0.+0.j 0.+0.j ... 0.+0.j 0.+0.j 0.+0.j]\n",
      " [0.+0.j 0.+0.j 0.+0.j ... 0.+0.j 0.+0.j 0.+0.j]]\n"
     ]
    },
    {
     "data": {
      "text/plain": [
       "array([-2.3344142 +0.j, -2.3344142 +0.j, -2.3344142 +0.j, -2.3344142 +0.j,\n",
       "       -2.3344142 +0.j, -2.3344142 +0.j, -2.3344142 +0.j, -2.3344142 +0.j,\n",
       "       -2.3344142 +0.j, -2.3344142 +0.j, -2.3344142 +0.j, -2.3344142 +0.j,\n",
       "       -2.3344142 +0.j, -2.3344142 +0.j, -2.3344142 +0.j, -2.3344142 +0.j,\n",
       "       -0.74196386+0.j, -0.74196386+0.j, -0.74196386+0.j, -0.74196386+0.j,\n",
       "       -0.74196386+0.j, -0.74196386+0.j, -0.74196386+0.j, -0.74196386+0.j,\n",
       "       -0.74196386+0.j, -0.74196386+0.j, -0.74196386+0.j, -0.74196386+0.j,\n",
       "       -0.74196386+0.j, -0.74196386+0.j, -0.74196386+0.j, -0.74196386+0.j,\n",
       "        0.74196386+0.j,  0.74196386+0.j,  0.74196386+0.j,  0.74196386+0.j,\n",
       "        0.74196386+0.j,  0.74196386+0.j,  0.74196386+0.j,  0.74196386+0.j,\n",
       "        0.74196386+0.j,  0.74196386+0.j,  0.74196386+0.j,  0.74196386+0.j,\n",
       "        0.74196386+0.j,  0.74196386+0.j,  0.74196386+0.j,  0.74196386+0.j,\n",
       "        2.3344142 +0.j,  2.3344142 +0.j,  2.3344142 +0.j,  2.3344142 +0.j,\n",
       "        2.3344142 +0.j,  2.3344142 +0.j,  2.3344142 +0.j,  2.3344142 +0.j,\n",
       "        2.3344142 +0.j,  2.3344142 +0.j,  2.3344142 +0.j,  2.3344142 +0.j,\n",
       "        2.3344142 +0.j,  2.3344142 +0.j,  2.3344142 +0.j,  2.3344142 +0.j],\n",
       "      dtype=complex64)"
      ]
     },
     "execution_count": 13,
     "metadata": {},
     "output_type": "execute_result"
    }
   ],
   "source": [
    "cutoff=4\n",
    "hamMat=convert_boson_to_matrix(hoHam.args[0]+hoHam.args[3],cutoff,N,aops,adags)\n",
    "print(hamMat)\n",
    "ens=np.sort(np.linalg.eig(hamMat.astype(np.complex64))[0])\n",
    "ens=ens.round(8)\n",
    "\n",
    "np.isreal(ens).all()\n",
    "\n",
    "ens"
   ]
  },
  {
   "cell_type": "code",
   "execution_count": null,
   "metadata": {},
   "outputs": [],
   "source": []
  },
  {
   "cell_type": "code",
   "execution_count": 14,
   "metadata": {},
   "outputs": [
    {
     "data": {
      "text/plain": [
       "array([[1, 0],\n",
       "       [0, 1]])"
      ]
     },
     "execution_count": 14,
     "metadata": {},
     "output_type": "execute_result"
    }
   ],
   "source": [
    "np.kron(1,np.array([[1,0],[0,1]]))"
   ]
  },
  {
   "cell_type": "markdown",
   "metadata": {},
   "source": [
    "## Full boson part"
   ]
  },
  {
   "cell_type": "code",
   "execution_count": 15,
   "metadata": {},
   "outputs": [
    {
     "ename": "TypeError",
     "evalue": "'SiteSymbol' object is not subscriptable",
     "output_type": "error",
     "traceback": [
      "\u001b[0;31m---------------------------------------------------------------------------\u001b[0m",
      "\u001b[0;31mTypeError\u001b[0m                                 Traceback (most recent call last)",
      "Input \u001b[0;32mIn [15]\u001b[0m, in \u001b[0;36m<cell line: 1>\u001b[0;34m()\u001b[0m\n\u001b[0;32m----> 1\u001b[0m bosonNI\u001b[38;5;241m=\u001b[39msp\u001b[38;5;241m.\u001b[39mexpand( p[n]\u001b[38;5;241m*\u001b[39m\u001b[38;5;241m*\u001b[39m\u001b[38;5;241m2\u001b[39m\u001b[38;5;241m/\u001b[39m(\u001b[38;5;241m2\u001b[39m\u001b[38;5;241m*\u001b[39maLat) \u001b[38;5;241m+\u001b[39m (aLat\u001b[38;5;241m/\u001b[39m\u001b[38;5;241m2\u001b[39m)\u001b[38;5;241m*\u001b[39m((\u001b[43mq\u001b[49m\u001b[43m[\u001b[49m\u001b[43mn\u001b[49m\u001b[38;5;241;43m+\u001b[39;49m\u001b[38;5;241;43m1\u001b[39;49m\u001b[43m]\u001b[49m\u001b[38;5;241m-\u001b[39mq[n\u001b[38;5;241m-\u001b[39m\u001b[38;5;241m1\u001b[39m])\u001b[38;5;241m/\u001b[39m(\u001b[38;5;241m2\u001b[39m\u001b[38;5;241m*\u001b[39maLat))\u001b[38;5;241m*\u001b[39m\u001b[38;5;241m*\u001b[39m\u001b[38;5;241m2\u001b[39m )\n\u001b[1;32m      2\u001b[0m bosonI\u001b[38;5;241m=\u001b[39msp\u001b[38;5;241m.\u001b[39mexpand( (aLat\u001b[38;5;241m/\u001b[39m\u001b[38;5;241m2\u001b[39m)\u001b[38;5;241m*\u001b[39mV(q[n])\u001b[38;5;241m*\u001b[39m\u001b[38;5;241m*\u001b[39m\u001b[38;5;241m2\u001b[39m \u001b[38;5;241m+\u001b[39m aLat\u001b[38;5;241m*\u001b[39mV(q[n])\u001b[38;5;241m*\u001b[39m(q[n\u001b[38;5;241m+\u001b[39m\u001b[38;5;241m1\u001b[39m]\u001b[38;5;241m-\u001b[39mq[n\u001b[38;5;241m-\u001b[39m\u001b[38;5;241m1\u001b[39m])\u001b[38;5;241m/\u001b[39m(\u001b[38;5;241m2\u001b[39m\u001b[38;5;241m*\u001b[39maLat) )\n\u001b[1;32m      4\u001b[0m ham\u001b[38;5;241m=\u001b[39m\u001b[38;5;241m0\u001b[39m\n",
      "\u001b[0;31mTypeError\u001b[0m: 'SiteSymbol' object is not subscriptable"
     ]
    }
   ],
   "source": [
    "bosonNI=sp.expand( p[n]**2/(2*aLat) + (aLat/2)*((q[n+1]-q[n-1])/(2*aLat))**2 )\n",
    "bosonI=sp.expand( (aLat/2)*V(q[n])**2 + aLat*V(q[n])*(q[n+1]-q[n-1])/(2*aLat) )\n",
    "\n",
    "ham=0\n",
    "totHam=bosonNI+bosonI\n",
    "totHam"
   ]
  },
  {
   "cell_type": "code",
   "execution_count": null,
   "metadata": {},
   "outputs": [],
   "source": [
    "N=3\n",
    "aVal=1\n",
    "\n",
    "# note this is exactly hardcoded for this finite difference method.\n",
    "bcType = 'periodic'\n",
    "boundaryConditions = {}\n",
    "if bcType == 'periodic':\n",
    "    boundaryConditions = {q[-1]: q[N-1], q[N]: q[0],\n",
    "                          x[N]: x[0], xd[N]: xd[0],\n",
    "                         }\n",
    "elif bcType == 'dirichlet':\n",
    "    boundaryConditions = {q[-1]: 0, q[N]: 0,\n",
    "                          x[N]: 0, xd[N]: 0\n",
    "                         }"
   ]
  },
  {
   "cell_type": "code",
   "execution_count": null,
   "metadata": {},
   "outputs": [],
   "source": [
    "\n",
    "for i in range(0,N):\n",
    "    ham+=totHam.subs(n,i).subs(boundaryConditions)\n",
    "# ham.subs(boundaryConditions).doit() # this doesn't work?\n",
    "\n",
    "def potential(n):\n",
    "    return 0\n",
    "\n",
    "for n in range(0,N):\n",
    "    ham=ham.subs(V(q[n]),potential(n))\n",
    "ham=ham.subs(aLat,aVal).simplify().expand()\n",
    "ham"
   ]
  },
  {
   "cell_type": "code",
   "execution_count": null,
   "metadata": {},
   "outputs": [],
   "source": [
    "m=1\n",
    "\n",
    "HOdofSubs = {}\n",
    "for i in range(0,N):\n",
    "    HOdofSubs[q[i]] = 0.5*sp.sqrt(2/m)*(a[i] + adag[i])\n",
    "    HOdofSubs[p[i]] = complex(0,1)*sp.sqrt(2*m)*(adag[i] - a[i])/2\n",
    "    \n",
    "hoHam=sp.expand(ham.subs(HOdofSubs))\n",
    "sp.nsimplify(hoHam,tolerance=1e-10)"
   ]
  },
  {
   "cell_type": "code",
   "execution_count": null,
   "metadata": {},
   "outputs": [],
   "source": [
    "cutoff=4\n",
    "hamMat=convert_to_matrix(hoHam,cutoff,N)"
   ]
  },
  {
   "cell_type": "code",
   "execution_count": null,
   "metadata": {},
   "outputs": [],
   "source": [
    "hamMat.shape"
   ]
  },
  {
   "cell_type": "code",
   "execution_count": null,
   "metadata": {},
   "outputs": [],
   "source": [
    "np.isreal(hamMat).all()"
   ]
  },
  {
   "cell_type": "code",
   "execution_count": null,
   "metadata": {},
   "outputs": [],
   "source": [
    "(hamMat==np.matrix(hamMat).H).all()"
   ]
  },
  {
   "cell_type": "code",
   "execution_count": null,
   "metadata": {},
   "outputs": [],
   "source": [
    "np.sort(np.linalg.eig(hamMat.astype(np.complex64))[0])"
   ]
  },
  {
   "cell_type": "code",
   "execution_count": null,
   "metadata": {},
   "outputs": [],
   "source": []
  },
  {
   "cell_type": "code",
   "execution_count": null,
   "metadata": {},
   "outputs": [],
   "source": []
  },
  {
   "cell_type": "code",
   "execution_count": null,
   "metadata": {},
   "outputs": [],
   "source": []
  },
  {
   "cell_type": "code",
   "execution_count": null,
   "metadata": {},
   "outputs": [],
   "source": [
    "m=convert_term_to_matrix(1.0*a[0]*a[1], 4, 3).astype(float)"
   ]
  },
  {
   "cell_type": "code",
   "execution_count": null,
   "metadata": {},
   "outputs": [],
   "source": [
    "for row in m:\n",
    "    print(row)"
   ]
  },
  {
   "cell_type": "code",
   "execution_count": null,
   "metadata": {},
   "outputs": [],
   "source": []
  },
  {
   "cell_type": "code",
   "execution_count": null,
   "metadata": {},
   "outputs": [],
   "source": []
  }
 ],
 "metadata": {
  "kernelspec": {
   "display_name": "Python 3",
   "language": "python",
   "name": "python3"
  },
  "language_info": {
   "codemirror_mode": {
    "name": "ipython",
    "version": 3
   },
   "file_extension": ".py",
   "mimetype": "text/x-python",
   "name": "python",
   "nbconvert_exporter": "python",
   "pygments_lexer": "ipython3",
   "version": "3.9.1"
  }
 },
 "nbformat": 4,
 "nbformat_minor": 5
}
