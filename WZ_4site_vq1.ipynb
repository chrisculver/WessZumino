{
 "cells": [
  {
   "cell_type": "markdown",
   "id": "3e9129bb",
   "metadata": {},
   "source": [
    "# Wess Zumino \n",
    "\n",
    "## N=1 in 1+1\n",
    "\n",
    "The Hamiltonian with a central difference for the derivative is given by \n",
    "\n",
    "\\begin{align}\n",
    "    H=\\sum_n&\\left[ \\frac{p_n^2}{2a} + \\frac{a}{2}\\left(\\frac{\\phi_{n+1}-\\phi_{n-1}}{2a}\\right)^2+\\frac{a}{2}V(\\phi_n)^2\n",
    "            +aV(\\phi_n)\\frac{\\phi_{n+1}-\\phi_{n-1}}{2a} \\right. \\nonumber \\\\\n",
    "            &\\left.+(-1)^nV'(\\phi_n)\\left(\\chi_n^{\\dagger}\\chi_n-\\frac{1}{2}\\right)\n",
    "            +\\frac{1}{2a}\\left(\\chi_n^{\\dagger}\\chi_{n+1}+\\chi_{n+1}^{\\dagger}\\chi_n\\right) \\right],\n",
    "\\end{align}"
   ]
  },
  {
   "cell_type": "code",
   "execution_count": 1,
   "id": "770712fa",
   "metadata": {},
   "outputs": [],
   "source": [
    "import sympy as sp\n",
    "from ham_to_sparse_matrix import *\n",
    "from constants import *\n",
    "import scipy.sparse.linalg"
   ]
  },
  {
   "cell_type": "code",
   "execution_count": 2,
   "id": "2fee939c",
   "metadata": {},
   "outputs": [],
   "source": [
    "bosonNI=sp.expand( pn**2/(2*aLat) + (aLat/2)*((qnP1-qnM1)/(2*aLat))**2 )\n",
    "bosonI=sp.expand( (aLat/2)*V(qn)**2 + aLat*V(qn)*(qnP1-qnM1)/(4*aLat) + aLat*(qnP1-qnM1)*V(qn)/(4*aLat) )\n",
    "fermionNI=sp.expand( -(xdnP1*xn+xdn*xnP1)/(2*aLat) )\n",
    "fermionI=sp.expand( sp.diff(V(qn),qn)*(xdn*xn-(1/2)) )"
   ]
  },
  {
   "cell_type": "code",
   "execution_count": 3,
   "id": "f60361a7",
   "metadata": {},
   "outputs": [
    {
     "data": {
      "text/latex": [
       "$\\displaystyle \\frac{a V^{2}{\\left(q_{n} \\right)}}{2} + \\frac{q_{n+1} V{\\left(q_{n} \\right)}}{4} - \\frac{q_{n-1} V{\\left(q_{n} \\right)}}{4} + \\frac{V{\\left(q_{n} \\right)} q_{n+1}}{4} - \\frac{V{\\left(q_{n} \\right)} q_{n-1}}{4} + \\frac{p_{n}^{2}}{2 a} - \\frac{q_{n+1} q_{n-1}}{8 a} + \\frac{q_{n+1}^{2}}{8 a} - \\frac{q_{n-1} q_{n+1}}{8 a} + \\frac{q_{n-1}^{2}}{8 a}$"
      ],
      "text/plain": [
       "a*V(q_{n})**2/2 + q_{n+1}*V(q_{n})/4 - q_{n-1}*V(q_{n})/4 + V(q_{n})*q_{n+1}/4 - V(q_{n})*q_{n-1}/4 + p_{n}**2/(2*a) - q_{n+1}*q_{n-1}/(8*a) + q_{n+1}**2/(8*a) - q_{n-1}*q_{n+1}/(8*a) + q_{n-1}**2/(8*a)"
      ]
     },
     "execution_count": 3,
     "metadata": {},
     "output_type": "execute_result"
    }
   ],
   "source": [
    "bosonNI+bosonI"
   ]
  },
  {
   "cell_type": "code",
   "execution_count": 4,
   "id": "18ef7097",
   "metadata": {},
   "outputs": [
    {
     "data": {
      "text/latex": [
       "$\\displaystyle - 0.5 \\frac{d}{d q_{n}} V{\\left(q_{n} \\right)} + \\frac{d}{d q_{n}} V{\\left(q_{n} \\right)} \\chi^{\\dagger}_{n} \\chi_{n} - \\frac{\\chi^{\\dagger}_{n+1} \\chi_{n}}{2 a} - \\frac{\\chi^{\\dagger}_{n} \\chi_{n+1}}{2 a}$"
      ],
      "text/plain": [
       "-0.5*Derivative(V(q_{n}), q_{n}) + Derivative(V(q_{n}), q_{n})*\\chi^{\\dagger}_{n}*\\chi_{n} - \\chi^{\\dagger}_{n+1}*\\chi_{n}/(2*a) - \\chi^{\\dagger}_{n}*\\chi_{n+1}/(2*a)"
      ]
     },
     "execution_count": 4,
     "metadata": {},
     "output_type": "execute_result"
    }
   ],
   "source": [
    "fermionNI + fermionI"
   ]
  },
  {
   "cell_type": "code",
   "execution_count": 5,
   "id": "6d14e88c",
   "metadata": {},
   "outputs": [],
   "source": [
    "N=4\n",
    "aVal=1\n",
    "\n",
    "# depends on finite-difference method\n",
    "qs=[SiteSymbol('q',str(i)) for i in range(-1,N+1,1)]\n",
    "# maybe make qs a normal site list\n",
    "# and make an extra boundaryQs list for q[-1], q[N]\n",
    "# counting would be normal computer science way for rest of code.\n",
    "\n",
    "ps=[SiteSymbol('p',str(i)) for i in range(-1,N+1,1)] # don't really need extras\n",
    "aops=[SiteSymbol('a',str(i)) for i in range(-1,N+1,1)]\n",
    "adags=[SiteSymbol('a^{\\dagger}',str(i)) for i in range(-1,N+1,1)]\n",
    "xs=[SiteSymbol('\\chi',str(i)) for i in range(-1,N+1,1)]\n",
    "xdags=[SiteSymbol('\\chi^{\\dagger}',str(i)) for i in range(-1,N+1,1)]\n",
    "\n",
    "# note this is exactly hardcoded for this finite difference method.\n",
    "bcType = 'periodic'\n",
    "boundaryConditions = {}\n",
    "if bcType == 'periodic':\n",
    "    boundaryConditions = {qs[0]: qs[N], qs[N+1]: qs[1],\n",
    "                          xs[0]: -xs[N], xs[N+1]: -xs[1], \n",
    "                          xdags[0]: -xdags[N],  xdags[N+1]: -xdags[1]\n",
    "                         }\n",
    "    \n",
    "elif bcType == 'dirichlet':\n",
    "    boundaryConditions = { qs[0]: 0, qs[N+1]: 0,\n",
    "                          xs[0]: 0, xs[N+1]: 0,\n",
    "                          xdags[0]: 0, xdags[N+1]:0\n",
    "                         }"
   ]
  },
  {
   "cell_type": "code",
   "execution_count": 6,
   "id": "031b1d7f",
   "metadata": {},
   "outputs": [
    {
     "data": {
      "text/latex": [
       "$\\displaystyle \\frac{a V^{2}{\\left(q_{n} \\right)}}{2} + \\frac{q_{n+1} V{\\left(q_{n} \\right)}}{4} - \\frac{q_{n-1} V{\\left(q_{n} \\right)}}{4} + \\frac{V{\\left(q_{n} \\right)} q_{n+1}}{4} - \\frac{V{\\left(q_{n} \\right)} q_{n-1}}{4} - 0.5 \\frac{d}{d q_{n}} V{\\left(q_{n} \\right)} + \\frac{d}{d q_{n}} V{\\left(q_{n} \\right)} \\chi^{\\dagger}_{n} \\chi_{n} - \\frac{\\chi^{\\dagger}_{n+1} \\chi_{n}}{2 a} - \\frac{\\chi^{\\dagger}_{n} \\chi_{n+1}}{2 a} + \\frac{p_{n}^{2}}{2 a} - \\frac{q_{n+1} q_{n-1}}{8 a} + \\frac{q_{n+1}^{2}}{8 a} - \\frac{q_{n-1} q_{n+1}}{8 a} + \\frac{q_{n-1}^{2}}{8 a}$"
      ],
      "text/plain": [
       "a*V(q_{n})**2/2 + q_{n+1}*V(q_{n})/4 - q_{n-1}*V(q_{n})/4 + V(q_{n})*q_{n+1}/4 - V(q_{n})*q_{n-1}/4 - 0.5*Derivative(V(q_{n}), q_{n}) + Derivative(V(q_{n}), q_{n})*\\chi^{\\dagger}_{n}*\\chi_{n} - \\chi^{\\dagger}_{n+1}*\\chi_{n}/(2*a) - \\chi^{\\dagger}_{n}*\\chi_{n+1}/(2*a) + p_{n}**2/(2*a) - q_{n+1}*q_{n-1}/(8*a) + q_{n+1}**2/(8*a) - q_{n-1}*q_{n+1}/(8*a) + q_{n-1}**2/(8*a)"
      ]
     },
     "execution_count": 6,
     "metadata": {},
     "output_type": "execute_result"
    }
   ],
   "source": [
    "totHam=bosonNI+bosonI+fermionNI+fermionI\n",
    "totHam"
   ]
  },
  {
   "cell_type": "code",
   "execution_count": 7,
   "id": "d6173b9d",
   "metadata": {},
   "outputs": [
    {
     "data": {
      "text/latex": [
       "$\\displaystyle \\frac{- 4 \\chi^{\\dagger}_{0} \\chi_{0} - 2 \\chi^{\\dagger}_{0} \\chi_{1} + 2 \\chi^{\\dagger}_{0} \\chi_{3} - 2 \\chi^{\\dagger}_{1} \\chi_{0} + 4 \\chi^{\\dagger}_{1} \\chi_{1} - 2 \\chi^{\\dagger}_{1} \\chi_{2} - 2 \\chi^{\\dagger}_{2} \\chi_{1} - 4 \\chi^{\\dagger}_{2} \\chi_{2} - 2 \\chi^{\\dagger}_{2} \\chi_{3} + 2 \\chi^{\\dagger}_{3} \\chi_{0} - 2 \\chi^{\\dagger}_{3} \\chi_{2} + 4 \\chi^{\\dagger}_{3} \\chi_{3} + 2 p_{0}^{2} + 2 p_{1}^{2} + 2 p_{2}^{2} + 2 p_{3}^{2} - q_{0} q_{2} + 3 q_{0}^{2} - q_{1} q_{3} + 3 q_{1}^{2} - q_{2} q_{0} + 3 q_{2}^{2} - q_{3} q_{1} + 3 q_{3}^{2}}{4}$"
      ],
      "text/plain": [
       "(-4*\\chi^{\\dagger}_{0}*\\chi_{0} - 2*\\chi^{\\dagger}_{0}*\\chi_{1} + 2*\\chi^{\\dagger}_{0}*\\chi_{3} - 2*\\chi^{\\dagger}_{1}*\\chi_{0} + 4*\\chi^{\\dagger}_{1}*\\chi_{1} - 2*\\chi^{\\dagger}_{1}*\\chi_{2} - 2*\\chi^{\\dagger}_{2}*\\chi_{1} - 4*\\chi^{\\dagger}_{2}*\\chi_{2} - 2*\\chi^{\\dagger}_{2}*\\chi_{3} + 2*\\chi^{\\dagger}_{3}*\\chi_{0} - 2*\\chi^{\\dagger}_{3}*\\chi_{2} + 4*\\chi^{\\dagger}_{3}*\\chi_{3} + 2*p_{0}**2 + 2*p_{1}**2 + 2*p_{2}**2 + 2*p_{3}**2 - q_{0}*q_{2} + 3*q_{0}**2 - q_{1}*q_{3} + 3*q_{1}**2 - q_{2}*q_{0} + 3*q_{2}**2 - q_{3}*q_{1} + 3*q_{3}**2)/4"
      ]
     },
     "execution_count": 7,
     "metadata": {},
     "output_type": "execute_result"
    }
   ],
   "source": [
    "ham=0\n",
    "\n",
    "lam=1\n",
    "\n",
    "for i in range(1,N+1):\n",
    "    ham+=(bosonNI+bosonI+fermionNI).subs({\n",
    "        pn: ps[i],\n",
    "        qn: qs[i], qnP1: qs[i+1], qnM1: qs[i-1],\n",
    "        xn: xs[i], xnP1: xs[i+1],\n",
    "        xdn: xdags[i], xdnP1: xdags[i+1]\n",
    "    }).subs(boundaryConditions)\n",
    "    \n",
    "# ham.subs(boundaryConditions).doit() # this doesn't work?\n",
    "\n",
    "\n",
    "def potential(n):\n",
    "    return lam*qs[n]\n",
    "\n",
    "potentialSubs={}\n",
    "for n in range(1,N+1):\n",
    "    potentialSubs[V(qs[n])]=potential(n)\n",
    "\n",
    "ham=sp.simplify(ham.subs(potentialSubs).subs(aLat,aVal))\n",
    "\n",
    "for i in range(1,N+1):\n",
    "    if i%2==0:\n",
    "        ham+=sp.simplify(fermionI.subs({qn: qs[i], xn: xs[i], xdn: xdags[i]}).subs(potentialSubs))\n",
    "    else:\n",
    "        ham-=sp.simplify(fermionI.subs({qn: qs[i], xn: xs[i], xdn: xdags[i]}).subs(potentialSubs))\n",
    "ham=sp.simplify(ham.subs(aLat,aVal))\n",
    "ham"
   ]
  },
  {
   "cell_type": "code",
   "execution_count": 8,
   "id": "ae53d291",
   "metadata": {},
   "outputs": [
    {
     "data": {
      "text/latex": [
       "$\\displaystyle - \\chi^{\\dagger}_{0} \\chi_{0} - \\frac{\\chi^{\\dagger}_{0} \\chi_{1}}{2} + \\frac{\\chi^{\\dagger}_{0} \\chi_{3}}{2} - \\frac{\\chi^{\\dagger}_{1} \\chi_{0}}{2} + \\chi^{\\dagger}_{1} \\chi_{1} - \\frac{\\chi^{\\dagger}_{1} \\chi_{2}}{2} - \\frac{\\chi^{\\dagger}_{2} \\chi_{1}}{2} - \\chi^{\\dagger}_{2} \\chi_{2} - \\frac{\\chi^{\\dagger}_{2} \\chi_{3}}{2} + \\frac{\\chi^{\\dagger}_{3} \\chi_{0}}{2} - \\frac{\\chi^{\\dagger}_{3} \\chi_{2}}{2} + \\chi^{\\dagger}_{3} \\chi_{3} - \\frac{a^{\\dagger}_{0} a^{\\dagger}_{2}}{8} + \\frac{5 a^{\\dagger}_{0} a_{0}}{8} - \\frac{a^{\\dagger}_{0} a_{2}}{8} + \\frac{\\left(a^{\\dagger}_{0}\\right)^{2}}{8} - \\frac{a^{\\dagger}_{1} a^{\\dagger}_{3}}{8} + \\frac{5 a^{\\dagger}_{1} a_{1}}{8} - \\frac{a^{\\dagger}_{1} a_{3}}{8} + \\frac{\\left(a^{\\dagger}_{1}\\right)^{2}}{8} - \\frac{a^{\\dagger}_{2} a^{\\dagger}_{0}}{8} - \\frac{a^{\\dagger}_{2} a_{0}}{8} + \\frac{5 a^{\\dagger}_{2} a_{2}}{8} + \\frac{\\left(a^{\\dagger}_{2}\\right)^{2}}{8} - \\frac{a^{\\dagger}_{3} a^{\\dagger}_{1}}{8} - \\frac{a^{\\dagger}_{3} a_{1}}{8} + \\frac{5 a^{\\dagger}_{3} a_{3}}{8} + \\frac{\\left(a^{\\dagger}_{3}\\right)^{2}}{8} + \\frac{5 a_{0} a^{\\dagger}_{0}}{8} - \\frac{a_{0} a^{\\dagger}_{2}}{8} - \\frac{a_{0} a_{2}}{8} + \\frac{a_{0}^{2}}{8} + \\frac{5 a_{1} a^{\\dagger}_{1}}{8} - \\frac{a_{1} a^{\\dagger}_{3}}{8} - \\frac{a_{1} a_{3}}{8} + \\frac{a_{1}^{2}}{8} - \\frac{a_{2} a^{\\dagger}_{0}}{8} + \\frac{5 a_{2} a^{\\dagger}_{2}}{8} - \\frac{a_{2} a_{0}}{8} + \\frac{a_{2}^{2}}{8} - \\frac{a_{3} a^{\\dagger}_{1}}{8} + \\frac{5 a_{3} a^{\\dagger}_{3}}{8} - \\frac{a_{3} a_{1}}{8} + \\frac{a_{3}^{2}}{8}$"
      ],
      "text/plain": [
       "-\\chi^{\\dagger}_{0}*\\chi_{0} - \\chi^{\\dagger}_{0}*\\chi_{1}/2 + \\chi^{\\dagger}_{0}*\\chi_{3}/2 - \\chi^{\\dagger}_{1}*\\chi_{0}/2 + \\chi^{\\dagger}_{1}*\\chi_{1} - \\chi^{\\dagger}_{1}*\\chi_{2}/2 - \\chi^{\\dagger}_{2}*\\chi_{1}/2 - \\chi^{\\dagger}_{2}*\\chi_{2} - \\chi^{\\dagger}_{2}*\\chi_{3}/2 + \\chi^{\\dagger}_{3}*\\chi_{0}/2 - \\chi^{\\dagger}_{3}*\\chi_{2}/2 + \\chi^{\\dagger}_{3}*\\chi_{3} - a^{\\dagger}_{0}*a^{\\dagger}_{2}/8 + 5*a^{\\dagger}_{0}*a_{0}/8 - a^{\\dagger}_{0}*a_{2}/8 + a^{\\dagger}_{0}**2/8 - a^{\\dagger}_{1}*a^{\\dagger}_{3}/8 + 5*a^{\\dagger}_{1}*a_{1}/8 - a^{\\dagger}_{1}*a_{3}/8 + a^{\\dagger}_{1}**2/8 - a^{\\dagger}_{2}*a^{\\dagger}_{0}/8 - a^{\\dagger}_{2}*a_{0}/8 + 5*a^{\\dagger}_{2}*a_{2}/8 + a^{\\dagger}_{2}**2/8 - a^{\\dagger}_{3}*a^{\\dagger}_{1}/8 - a^{\\dagger}_{3}*a_{1}/8 + 5*a^{\\dagger}_{3}*a_{3}/8 + a^{\\dagger}_{3}**2/8 + 5*a_{0}*a^{\\dagger}_{0}/8 - a_{0}*a^{\\dagger}_{2}/8 - a_{0}*a_{2}/8 + a_{0}**2/8 + 5*a_{1}*a^{\\dagger}_{1}/8 - a_{1}*a^{\\dagger}_{3}/8 - a_{1}*a_{3}/8 + a_{1}**2/8 - a_{2}*a^{\\dagger}_{0}/8 + 5*a_{2}*a^{\\dagger}_{2}/8 - a_{2}*a_{0}/8 + a_{2}**2/8 - a_{3}*a^{\\dagger}_{1}/8 + 5*a_{3}*a^{\\dagger}_{3}/8 - a_{3}*a_{1}/8 + a_{3}**2/8"
      ]
     },
     "execution_count": 8,
     "metadata": {},
     "output_type": "execute_result"
    }
   ],
   "source": [
    "m=1\n",
    "\n",
    "HOdofSubs = {}\n",
    "#offset because of BC\n",
    "for i in range(1,N+1):\n",
    "    HOdofSubs[qs[i]] = 0.5*sp.sqrt(2/m)*(aops[i] + adags[i])\n",
    "    HOdofSubs[ps[i]] = complex(0,1)*sp.sqrt(2*m)*(adags[i] - aops[i])/2 \n",
    "\n",
    "hoHam=sp.expand(ham.subs(HOdofSubs))\n",
    "hoHam=sp.nsimplify(hoHam,tolerance=1e-8)\n",
    "hoHam"
   ]
  },
  {
   "cell_type": "code",
   "execution_count": 12,
   "id": "1a341691-feef-4418-82e9-8376be1f2f52",
   "metadata": {},
   "outputs": [
    {
     "name": "stdout",
     "output_type": "stream",
     "text": [
      "toHam timer took: 0.8126 seconds\n",
      "evals timer took: 0.0192 seconds\n",
      "Lambda =  2\n",
      "[-0.4142144 -3.3017498e-09j  0.08578692-4.3490207e-09j\n",
      "  0.08578694+1.1190963e-08j -0.4142143 +2.7779713e-08j\n",
      "  0.08578651+8.9504217e-09j  0.08578669-5.5975655e-09j\n",
      "  0.085787  +2.2005807e-08j  0.08578672+1.2214064e-08j\n",
      "  0.08578652-3.6973580e-09j  0.08578666+1.9866945e-08j]\n",
      "\n",
      "toHam timer took: 4.0475 seconds\n",
      "evals timer took: 0.0196 seconds\n",
      "Lambda =  3\n",
      "[-0.10832835+4.3919246e-09j  0.5291899 +1.7036768e-08j\n",
      "  0.6137356 +5.3477809e-09j  0.5291885 -2.0304995e-08j\n",
      "  0.6137336 -1.4949892e-08j  0.9185449 +4.8629016e-09j\n",
      "  0.9185444 +3.3793242e-08j  1.0748116 -3.6805896e-09j\n",
      "  1.0811466 +2.3894950e-08j  1.0748017 +1.4962398e-08j]\n",
      "\n",
      "toHam timer took: 22.9774 seconds\n",
      "evals timer took: 0.0336 seconds\n",
      "Lambda =  4\n",
      "[-0.00145815-6.9414230e-09j  0.8285686 -7.5220470e-09j\n",
      "  1.0798564 +7.7359390e-09j  0.8285714 +1.4340473e-08j\n",
      "  1.0798575 -1.8423693e-08j  1.1880286 +2.3239249e-08j\n",
      "  1.1880233 -1.3375924e-08j  1.3857905 -5.8249006e-09j\n",
      "  1.1880167 -6.0149311e-08j  1.1880115 -1.7501827e-07j]\n",
      "\n",
      "toHam timer took: 109.7812 seconds\n",
      "evals timer took: 0.0786 seconds\n",
      "Lambda =  5\n",
      "[-6.7251013e-04-6.1956094e-08j  9.9861360e-01-3.7592827e-08j\n",
      "  9.9861491e-01+7.4131634e-10j  1.1888143e+00+1.6671523e-08j\n",
      "  1.4097424e+00+2.0511550e-09j  1.4097320e+00+6.6400219e-09j\n",
      "  1.1888083e+00-2.3692996e-08j  1.1888041e+00-8.8091838e-08j\n",
      "  1.5954700e+00-1.3003641e-08j  1.1887984e+00+3.7468716e-08j]\n",
      "\n",
      "toHam timer took: 432.2260 seconds\n",
      "evals timer took: 0.1390 seconds\n",
      "Lambda =  6\n",
      "[-2.0618345e-05-2.2236348e-07j  9.9868977e-01-2.3452458e-08j\n",
      "  1.1894655e+00+1.3413065e-08j  9.9868798e-01-5.4055964e-09j\n",
      "  1.1894583e+00+5.2551595e-08j  1.4124423e+00-9.2403347e-08j\n",
      "  1.4124342e+00+3.8365272e-08j  1.9973978e+00+5.7592136e-08j\n",
      "  1.1894580e+00+1.0230301e-07j  1.1894523e+00+1.8895321e-08j]\n",
      "\n"
     ]
    }
   ],
   "source": [
    "for cutoff in [2,3,4,5,6]:\n",
    "    t=Timer('toHam')\n",
    "    t.start()\n",
    "    hamMat=convert_to_matrix(hoHam,cutoff,N,aops,adags,xs,xdags)\n",
    "    t.stop()\n",
    "    \n",
    "    t=Timer('evals')\n",
    "    t.start()\n",
    "    ens=scipy.sparse.linalg.eigs(hamMat,k=10,which='SM')[0]\n",
    "    t.stop()\n",
    "    \n",
    "    print(\"Lambda = \",cutoff)\n",
    "    print(ens)\n",
    "    print()"
   ]
  },
  {
   "cell_type": "code",
   "execution_count": 10,
   "id": "09a9ca1c-1d17-4af6-be4d-3b1fdf01eab9",
   "metadata": {},
   "outputs": [
    {
     "data": {
      "text/plain": [
       "4"
      ]
     },
     "execution_count": 10,
     "metadata": {},
     "output_type": "execute_result"
    }
   ],
   "source": [
    "N"
   ]
  },
  {
   "cell_type": "code",
   "execution_count": 10,
   "id": "0e336695-a260-4260-90cb-93506c1a0874",
   "metadata": {},
   "outputs": [
    {
     "ename": "MemoryError",
     "evalue": "Unable to allocate 11.0 GiB for an array with shape (38416, 38416) and data type float64",
     "output_type": "error",
     "traceback": [
      "\u001b[0;31m---------------------------------------------------------------------------\u001b[0m",
      "\u001b[0;31mMemoryError\u001b[0m                               Traceback (most recent call last)",
      "Input \u001b[0;32mIn [10]\u001b[0m, in \u001b[0;36m<cell line: 1>\u001b[0;34m()\u001b[0m\n\u001b[1;32m      2\u001b[0m t\u001b[38;5;241m=\u001b[39mTimer(\u001b[38;5;124m'\u001b[39m\u001b[38;5;124mtoHam\u001b[39m\u001b[38;5;124m'\u001b[39m)\n\u001b[1;32m      3\u001b[0m t\u001b[38;5;241m.\u001b[39mstart()\n\u001b[0;32m----> 4\u001b[0m hamMat\u001b[38;5;241m=\u001b[39m\u001b[43mconvert_to_matrix\u001b[49m\u001b[43m(\u001b[49m\u001b[43mhoHam\u001b[49m\u001b[43m,\u001b[49m\u001b[43mcutoff\u001b[49m\u001b[43m,\u001b[49m\u001b[43mN\u001b[49m\u001b[43m,\u001b[49m\u001b[43maops\u001b[49m\u001b[43m,\u001b[49m\u001b[43madags\u001b[49m\u001b[43m,\u001b[49m\u001b[43mxs\u001b[49m\u001b[43m,\u001b[49m\u001b[43mxdags\u001b[49m\u001b[43m)\u001b[49m\n\u001b[1;32m      5\u001b[0m t\u001b[38;5;241m.\u001b[39mstop()\n\u001b[1;32m      7\u001b[0m t\u001b[38;5;241m=\u001b[39mTimer(\u001b[38;5;124m'\u001b[39m\u001b[38;5;124mevals\u001b[39m\u001b[38;5;124m'\u001b[39m)\n",
      "File \u001b[0;32m~/Code/WessZumino/ham_to_sparse_matrix.py:71\u001b[0m, in \u001b[0;36mconvert_to_matrix\u001b[0;34m(expr, cutoff, Nsites, aops, adags, xs, xdags)\u001b[0m\n\u001b[1;32m     69\u001b[0m \u001b[38;5;28;01mdef\u001b[39;00m \u001b[38;5;21mconvert_to_matrix\u001b[39m(expr, cutoff, Nsites, aops, adags, xs, xdags):\n\u001b[1;32m     70\u001b[0m     \u001b[38;5;66;03m# start with a matrix of zeros\u001b[39;00m\n\u001b[0;32m---> 71\u001b[0m     fullHam \u001b[38;5;241m=\u001b[39m scipy\u001b[38;5;241m.\u001b[39msparse\u001b[38;5;241m.\u001b[39mcoo_matrix(\u001b[43mnp\u001b[49m\u001b[38;5;241;43m.\u001b[39;49m\u001b[43mzeros\u001b[49m\u001b[43m(\u001b[49m\u001b[43m[\u001b[49m\u001b[43m(\u001b[49m\u001b[43mcutoff\u001b[49m\u001b[38;5;241;43m*\u001b[39;49m\u001b[38;5;241;43m*\u001b[39;49m\u001b[43mNsites\u001b[49m\u001b[43m)\u001b[49m\u001b[38;5;241;43m*\u001b[39;49m\u001b[43m(\u001b[49m\u001b[38;5;241;43m2\u001b[39;49m\u001b[38;5;241;43m*\u001b[39;49m\u001b[38;5;241;43m*\u001b[39;49m\u001b[43mNsites\u001b[49m\u001b[43m)\u001b[49m\u001b[43m,\u001b[49m\u001b[43m(\u001b[49m\u001b[43mcutoff\u001b[49m\u001b[38;5;241;43m*\u001b[39;49m\u001b[38;5;241;43m*\u001b[39;49m\u001b[43mNsites\u001b[49m\u001b[43m)\u001b[49m\u001b[38;5;241;43m*\u001b[39;49m\u001b[43m(\u001b[49m\u001b[38;5;241;43m2\u001b[39;49m\u001b[38;5;241;43m*\u001b[39;49m\u001b[38;5;241;43m*\u001b[39;49m\u001b[43mNsites\u001b[49m\u001b[43m)\u001b[49m\u001b[43m]\u001b[49m\u001b[43m)\u001b[49m)\u001b[38;5;241m.\u001b[39mastype(np\u001b[38;5;241m.\u001b[39mcomplex64)\n\u001b[1;32m     73\u001b[0m     \u001b[38;5;66;03m# convert each term to matrix and sum up\u001b[39;00m\n\u001b[1;32m     74\u001b[0m     \u001b[38;5;28;01mfor\u001b[39;00m t \u001b[38;5;129;01min\u001b[39;00m expr\u001b[38;5;241m.\u001b[39margs:\n\u001b[1;32m     75\u001b[0m         \u001b[38;5;66;03m#timer=Timer(str(t)+' to matrix')\u001b[39;00m\n\u001b[1;32m     76\u001b[0m         \u001b[38;5;66;03m#timer.start()\u001b[39;00m\n",
      "\u001b[0;31mMemoryError\u001b[0m: Unable to allocate 11.0 GiB for an array with shape (38416, 38416) and data type float64"
     ]
    }
   ],
   "source": [
    "for cutoff in [7,8]:\n",
    "    t=Timer('toHam')\n",
    "    t.start()\n",
    "    hamMat=convert_to_matrix(hoHam,cutoff,N,aops,adags,xs,xdags)\n",
    "    t.stop()\n",
    "    \n",
    "    t=Timer('evals')\n",
    "    t.start()\n",
    "    ens=scipy.sparse.linalg.eigs(hamMat,k=10,sigma=0)[0]\n",
    "    t.stop()\n",
    "    \n",
    "    print(\"Lambda = \",cutoff)\n",
    "    print(ens)\n",
    "    print()"
   ]
  },
  {
   "cell_type": "code",
   "execution_count": null,
   "id": "6bbd1c4f-e85c-48ec-ad5e-a0c826514a2a",
   "metadata": {},
   "outputs": [],
   "source": []
  }
 ],
 "metadata": {
  "kernelspec": {
   "display_name": "Python 3 (ipykernel)",
   "language": "python",
   "name": "python3"
  },
  "language_info": {
   "codemirror_mode": {
    "name": "ipython",
    "version": 3
   },
   "file_extension": ".py",
   "mimetype": "text/x-python",
   "name": "python",
   "nbconvert_exporter": "python",
   "pygments_lexer": "ipython3",
   "version": "3.9.7"
  }
 },
 "nbformat": 4,
 "nbformat_minor": 5
}
