{
 "cells": [
  {
   "cell_type": "markdown",
   "metadata": {},
   "source": [
    "# Wess Zumino \n",
    "\n",
    "## N=1 in 1+1\n",
    "\n",
    "The Hamiltonian with a central difference for the derivative is given by \n",
    "\n",
    "\\begin{align}\n",
    "    H=\\sum_n&\\left[ \\frac{p_n^2}{2a} + \\frac{a}{2}\\left(\\frac{\\phi_{n+1}-\\phi_{n-1}}{2a}\\right)^2+\\frac{a}{2}V(\\phi_n)^2\n",
    "            +aV(\\phi_n)\\frac{\\phi_{n+1}-\\phi_{n-1}}{2a} \\right. \\nonumber \\\\\n",
    "            &\\left.+(-1)^nV'(\\phi_n)\\left(\\chi_n^{\\dagger}\\chi_n-\\frac{1}{2}\\right)\n",
    "            +\\frac{1}{2a}\\left(\\chi_n^{\\dagger}\\chi_{n+1}+\\chi_{n+1}^{\\dagger}\\chi_n\\right) \\right],\n",
    "\\end{align}"
   ]
  },
  {
   "cell_type": "code",
   "execution_count": 1,
   "metadata": {},
   "outputs": [],
   "source": [
    "import sympy as sp\n",
    "from ham_to_matrix import *\n",
    "from constants import *\n"
   ]
  },
  {
   "cell_type": "code",
   "execution_count": 2,
   "metadata": {},
   "outputs": [],
   "source": [
    "bosonNI=sp.expand( pn**2/(2*aLat) + (aLat/2)*((qnP1-qnM1)/(2*aLat))**2 )\n",
    "bosonI=sp.expand( (aLat/2)*V(qn)**2 + aLat*V(qn)*(qnP1-qnM1)/(2*aLat) )\n",
    "fermionNI=sp.expand( (xdnP1*xn+xdn*xnP1)/(2*aLat) )\n",
    "fermionI=sp.expand( sp.diff(V(qn),qn)*(xdn*xn-(1/2)) )"
   ]
  },
  {
   "cell_type": "code",
   "execution_count": 3,
   "metadata": {},
   "outputs": [
    {
     "data": {
      "text/latex": [
       "$\\displaystyle \\frac{a V^{2}{\\left(q_{n} \\right)}}{2} + \\frac{V{\\left(q_{n} \\right)} q_{n+1}}{2} - \\frac{V{\\left(q_{n} \\right)} q_{n-1}}{2} + \\frac{p_{n}^{2}}{2 a} - \\frac{q_{n+1} q_{n-1}}{8 a} + \\frac{q_{n+1}^{2}}{8 a} - \\frac{q_{n-1} q_{n+1}}{8 a} + \\frac{q_{n-1}^{2}}{8 a}$"
      ],
      "text/plain": [
       "a*V(q_{n})**2/2 + V(q_{n})*q_{n+1}/2 - V(q_{n})*q_{n-1}/2 + p_{n}**2/(2*a) - q_{n+1}*q_{n-1}/(8*a) + q_{n+1}**2/(8*a) - q_{n-1}*q_{n+1}/(8*a) + q_{n-1}**2/(8*a)"
      ]
     },
     "execution_count": 3,
     "metadata": {},
     "output_type": "execute_result"
    }
   ],
   "source": [
    "bosonNI+bosonI"
   ]
  },
  {
   "cell_type": "code",
   "execution_count": 4,
   "metadata": {},
   "outputs": [
    {
     "data": {
      "text/latex": [
       "$\\displaystyle - 0.5 \\frac{d}{d q_{n}} V{\\left(q_{n} \\right)} + \\frac{d}{d q_{n}} V{\\left(q_{n} \\right)} \\chi^{\\dagger}_{n} \\chi_{n} + \\frac{\\chi^{\\dagger}_{n+1} \\chi_{n}}{2 a} + \\frac{\\chi^{\\dagger}_{n} \\chi_{n+1}}{2 a}$"
      ],
      "text/plain": [
       "-0.5*Derivative(V(q_{n}), q_{n}) + Derivative(V(q_{n}), q_{n})*\\chi^{\\dagger}_{n}*\\chi_{n} + \\chi^{\\dagger}_{n+1}*\\chi_{n}/(2*a) + \\chi^{\\dagger}_{n}*\\chi_{n+1}/(2*a)"
      ]
     },
     "execution_count": 4,
     "metadata": {},
     "output_type": "execute_result"
    }
   ],
   "source": [
    "fermionNI + fermionI"
   ]
  },
  {
   "cell_type": "code",
   "execution_count": 5,
   "metadata": {},
   "outputs": [],
   "source": [
    "N=2\n",
    "aVal=1\n",
    "\n",
    "# depends on finite-difference method\n",
    "qs=[SiteSymbol('q',str(i)) for i in range(-1,N+1,1)]\n",
    "# maybe make qs a normal site list\n",
    "# and make an extra boundaryQs list for q[-1], q[N]\n",
    "# counting would be normal computer science way for rest of code.\n",
    "\n",
    "ps=[SiteSymbol('p',str(i)) for i in range(-1,N+1,1)] # don't really need extras\n",
    "aops=[SiteSymbol('a',str(i)) for i in range(-1,N+1,1)]\n",
    "adags=[SiteSymbol('a^{\\dagger}',str(i)) for i in range(-1,N+1,1)]\n",
    "xs=[SiteSymbol('\\chi',str(i)) for i in range(-1,N+1,1)]\n",
    "xdags=[SiteSymbol('\\chi^{\\dagger}',str(i)) for i in range(-1,N+1,1)]\n",
    "\n",
    "# note this is exactly hardcoded for this finite difference method.\n",
    "bcType = 'periodic'\n",
    "boundaryConditions = {}\n",
    "if bcType == 'periodic':\n",
    "    boundaryConditions = {qs[0]: qs[N], qs[N+1]: qs[1],\n",
    "                          xs[0]: -xs[N], xs[N+1]: -xs[1], \n",
    "                          xdags[0]: -xdags[N],  xdags[N+1]: -xdags[1]\n",
    "                         }\n",
    "    \n",
    "elif bcType == 'dirichlet':\n",
    "    boundaryConditions = { qs[0]: 0, qs[N+1]: 0,\n",
    "                          xs[0]: 0, xs[N+1]: 0,\n",
    "                          xdags[0]: 0, xdags[N+1]:0\n",
    "                         }"
   ]
  },
  {
   "cell_type": "code",
   "execution_count": 6,
   "metadata": {},
   "outputs": [
    {
     "data": {
      "text/latex": [
       "$\\displaystyle \\frac{a V^{2}{\\left(q_{n} \\right)}}{2} + \\frac{V{\\left(q_{n} \\right)} q_{n+1}}{2} - \\frac{V{\\left(q_{n} \\right)} q_{n-1}}{2} - 0.5 \\frac{d}{d q_{n}} V{\\left(q_{n} \\right)} + \\frac{d}{d q_{n}} V{\\left(q_{n} \\right)} \\chi^{\\dagger}_{n} \\chi_{n} + \\frac{\\chi^{\\dagger}_{n+1} \\chi_{n}}{2 a} + \\frac{\\chi^{\\dagger}_{n} \\chi_{n+1}}{2 a} + \\frac{p_{n}^{2}}{2 a} - \\frac{q_{n+1} q_{n-1}}{8 a} + \\frac{q_{n+1}^{2}}{8 a} - \\frac{q_{n-1} q_{n+1}}{8 a} + \\frac{q_{n-1}^{2}}{8 a}$"
      ],
      "text/plain": [
       "a*V(q_{n})**2/2 + V(q_{n})*q_{n+1}/2 - V(q_{n})*q_{n-1}/2 - 0.5*Derivative(V(q_{n}), q_{n}) + Derivative(V(q_{n}), q_{n})*\\chi^{\\dagger}_{n}*\\chi_{n} + \\chi^{\\dagger}_{n+1}*\\chi_{n}/(2*a) + \\chi^{\\dagger}_{n}*\\chi_{n+1}/(2*a) + p_{n}**2/(2*a) - q_{n+1}*q_{n-1}/(8*a) + q_{n+1}**2/(8*a) - q_{n-1}*q_{n+1}/(8*a) + q_{n-1}**2/(8*a)"
      ]
     },
     "execution_count": 6,
     "metadata": {},
     "output_type": "execute_result"
    }
   ],
   "source": [
    "totHam=bosonNI+bosonI+fermionNI+fermionI\n",
    "totHam"
   ]
  },
  {
   "cell_type": "code",
   "execution_count": 7,
   "metadata": {},
   "outputs": [
    {
     "data": {
      "text/latex": [
       "$\\displaystyle \\frac{p_{0}^{2} + p_{1}^{2} + 3.0 q_{0}^{2} - 6 q_{0}^{2} \\chi^{\\dagger}_{0} \\chi_{0} + q_{0}^{6} - 3.0 q_{1}^{2} + 6 q_{1}^{2} \\chi^{\\dagger}_{1} \\chi_{1} + q_{1}^{6}}{2}$"
      ],
      "text/plain": [
       "(p_{0}**2 + p_{1}**2 + 3.0*q_{0}**2 - 6*q_{0}**2*\\chi^{\\dagger}_{0}*\\chi_{0} + q_{0}**6 - 3.0*q_{1}**2 + 6*q_{1}**2*\\chi^{\\dagger}_{1}*\\chi_{1} + q_{1}**6)/2"
      ]
     },
     "execution_count": 7,
     "metadata": {},
     "output_type": "execute_result"
    }
   ],
   "source": [
    "ham=0\n",
    "\n",
    "lam=1\n",
    "\n",
    "for i in range(1,N+1):\n",
    "    ham+=(bosonNI+bosonI+fermionNI).subs({\n",
    "        pn: ps[i],\n",
    "        qn: qs[i], qnP1: qs[i+1], qnM1: qs[i-1],\n",
    "        xn: xs[i], xnP1: xs[i+1],\n",
    "        xdn: xdags[i], xdnP1: xdags[i+1]\n",
    "    }).subs(boundaryConditions)\n",
    "    \n",
    "# ham.subs(boundaryConditions).doit() # this doesn't work?\n",
    "\n",
    "\n",
    "def potential(n):\n",
    "    # m*q with m=1\n",
    "    return lam*qs[n]*qs[n]*qs[n]\n",
    "\n",
    "potentialSubs={}\n",
    "for n in range(1,N+1):\n",
    "    potentialSubs[V(qs[n])]=potential(n)\n",
    "\n",
    "ham=sp.simplify(ham.subs(potentialSubs).subs(aLat,aVal))\n",
    "\n",
    "for i in range(1,N+1):\n",
    "    if i%2==0:\n",
    "        ham+=sp.simplify(fermionI.subs({qn: qs[i], xn: xs[i], xdn: xdags[i]}).subs(potentialSubs))\n",
    "    else:\n",
    "        ham-=sp.simplify(fermionI.subs({qn: qs[i], xn: xs[i], xdn: xdags[i]}).subs(potentialSubs))\n",
    "ham=sp.simplify(ham.subs(aLat,aVal))\n",
    "ham"
   ]
  },
  {
   "cell_type": "code",
   "execution_count": 8,
   "metadata": {},
   "outputs": [],
   "source": [
    "#ham=0\n",
    "#totHam=bosonNI+bosonI+fermionNI+fermionI\n",
    "#for i in range(0,N):\n",
    "#    ham+=totHam.subs(n,i).subs(boundaryConditions)\n",
    "# ham.subs(boundaryConditions).doit() # this doesn't work?\n",
    "\n",
    "#def potential(n):\n",
    "#    return q[n]\n",
    "\n",
    "#for n in range(0,N):\n",
    "#    ham=ham.subs(V(q[n]),potential(n))\n",
    "#ham=ham.subs(aLat,aVal).simplify().expand()\n",
    "#ham"
   ]
  },
  {
   "cell_type": "code",
   "execution_count": 9,
   "metadata": {},
   "outputs": [
    {
     "data": {
      "text/latex": [
       "$\\displaystyle a^{\\dagger}_{0} a_{0} - \\frac{3 a^{\\dagger}_{0} a_{0} \\chi^{\\dagger}_{0} \\chi_{0}}{2} + \\frac{a^{\\dagger}_{0} a_{0} a^{\\dagger}_{0} a_{0} a^{\\dagger}_{0} a_{0}}{16} + \\frac{a^{\\dagger}_{0} a_{0} a^{\\dagger}_{0} a_{0} \\left(a^{\\dagger}_{0}\\right)^{2}}{16} + \\frac{a^{\\dagger}_{0} a_{0} a^{\\dagger}_{0} a_{0}^{2} a^{\\dagger}_{0}}{16} + \\frac{a^{\\dagger}_{0} a_{0} a^{\\dagger}_{0} a_{0}^{3}}{16} + \\frac{a^{\\dagger}_{0} a_{0} \\left(a^{\\dagger}_{0}\\right)^{2} a_{0} a^{\\dagger}_{0}}{16} + \\frac{a^{\\dagger}_{0} a_{0} \\left(a^{\\dagger}_{0}\\right)^{2} a_{0}^{2}}{16} + \\frac{a^{\\dagger}_{0} a_{0} \\left(a^{\\dagger}_{0}\\right)^{3} a_{0}}{16} + \\frac{a^{\\dagger}_{0} a_{0} \\left(a^{\\dagger}_{0}\\right)^{4}}{16} + \\frac{a^{\\dagger}_{0} a_{0}^{2} a^{\\dagger}_{0} a_{0} a^{\\dagger}_{0}}{16} + \\frac{a^{\\dagger}_{0} a_{0}^{2} a^{\\dagger}_{0} a_{0}^{2}}{16} + \\frac{a^{\\dagger}_{0} a_{0}^{2} \\left(a^{\\dagger}_{0}\\right)^{2} a_{0}}{16} + \\frac{a^{\\dagger}_{0} a_{0}^{2} \\left(a^{\\dagger}_{0}\\right)^{3}}{16} + \\frac{a^{\\dagger}_{0} a_{0}^{3} a^{\\dagger}_{0} a_{0}}{16} + \\frac{a^{\\dagger}_{0} a_{0}^{3} \\left(a^{\\dagger}_{0}\\right)^{2}}{16} + \\frac{a^{\\dagger}_{0} a_{0}^{4} a^{\\dagger}_{0}}{16} + \\frac{a^{\\dagger}_{0} a_{0}^{5}}{16} + \\frac{\\left(a^{\\dagger}_{0}\\right)^{2}}{2} - \\frac{3 \\left(a^{\\dagger}_{0}\\right)^{2} \\chi^{\\dagger}_{0} \\chi_{0}}{2} + \\frac{\\left(a^{\\dagger}_{0}\\right)^{2} a_{0} a^{\\dagger}_{0} a_{0} a^{\\dagger}_{0}}{16} + \\frac{\\left(a^{\\dagger}_{0}\\right)^{2} a_{0} a^{\\dagger}_{0} a_{0}^{2}}{16} + \\frac{\\left(a^{\\dagger}_{0}\\right)^{2} a_{0} \\left(a^{\\dagger}_{0}\\right)^{2} a_{0}}{16} + \\frac{\\left(a^{\\dagger}_{0}\\right)^{2} a_{0} \\left(a^{\\dagger}_{0}\\right)^{3}}{16} + \\frac{\\left(a^{\\dagger}_{0}\\right)^{2} a_{0}^{2} a^{\\dagger}_{0} a_{0}}{16} + \\frac{\\left(a^{\\dagger}_{0}\\right)^{2} a_{0}^{2} \\left(a^{\\dagger}_{0}\\right)^{2}}{16} + \\frac{\\left(a^{\\dagger}_{0}\\right)^{2} a_{0}^{3} a^{\\dagger}_{0}}{16} + \\frac{\\left(a^{\\dagger}_{0}\\right)^{2} a_{0}^{4}}{16} + \\frac{\\left(a^{\\dagger}_{0}\\right)^{3} a_{0} a^{\\dagger}_{0} a_{0}}{16} + \\frac{\\left(a^{\\dagger}_{0}\\right)^{3} a_{0} \\left(a^{\\dagger}_{0}\\right)^{2}}{16} + \\frac{\\left(a^{\\dagger}_{0}\\right)^{3} a_{0}^{2} a^{\\dagger}_{0}}{16} + \\frac{\\left(a^{\\dagger}_{0}\\right)^{3} a_{0}^{3}}{16} + \\frac{\\left(a^{\\dagger}_{0}\\right)^{4} a_{0} a^{\\dagger}_{0}}{16} + \\frac{\\left(a^{\\dagger}_{0}\\right)^{4} a_{0}^{2}}{16} + \\frac{\\left(a^{\\dagger}_{0}\\right)^{5} a_{0}}{16} + \\frac{\\left(a^{\\dagger}_{0}\\right)^{6}}{16} - \\frac{a^{\\dagger}_{1} a_{1}}{2} + \\frac{3 a^{\\dagger}_{1} a_{1} \\chi^{\\dagger}_{1} \\chi_{1}}{2} + \\frac{a^{\\dagger}_{1} a_{1} a^{\\dagger}_{1} a_{1} a^{\\dagger}_{1} a_{1}}{16} + \\frac{a^{\\dagger}_{1} a_{1} a^{\\dagger}_{1} a_{1} \\left(a^{\\dagger}_{1}\\right)^{2}}{16} + \\frac{a^{\\dagger}_{1} a_{1} a^{\\dagger}_{1} a_{1}^{2} a^{\\dagger}_{1}}{16} + \\frac{a^{\\dagger}_{1} a_{1} a^{\\dagger}_{1} a_{1}^{3}}{16} + \\frac{a^{\\dagger}_{1} a_{1} \\left(a^{\\dagger}_{1}\\right)^{2} a_{1} a^{\\dagger}_{1}}{16} + \\frac{a^{\\dagger}_{1} a_{1} \\left(a^{\\dagger}_{1}\\right)^{2} a_{1}^{2}}{16} + \\frac{a^{\\dagger}_{1} a_{1} \\left(a^{\\dagger}_{1}\\right)^{3} a_{1}}{16} + \\frac{a^{\\dagger}_{1} a_{1} \\left(a^{\\dagger}_{1}\\right)^{4}}{16} + \\frac{a^{\\dagger}_{1} a_{1}^{2} a^{\\dagger}_{1} a_{1} a^{\\dagger}_{1}}{16} + \\frac{a^{\\dagger}_{1} a_{1}^{2} a^{\\dagger}_{1} a_{1}^{2}}{16} + \\frac{a^{\\dagger}_{1} a_{1}^{2} \\left(a^{\\dagger}_{1}\\right)^{2} a_{1}}{16} + \\frac{a^{\\dagger}_{1} a_{1}^{2} \\left(a^{\\dagger}_{1}\\right)^{3}}{16} + \\frac{a^{\\dagger}_{1} a_{1}^{3} a^{\\dagger}_{1} a_{1}}{16} + \\frac{a^{\\dagger}_{1} a_{1}^{3} \\left(a^{\\dagger}_{1}\\right)^{2}}{16} + \\frac{a^{\\dagger}_{1} a_{1}^{4} a^{\\dagger}_{1}}{16} + \\frac{a^{\\dagger}_{1} a_{1}^{5}}{16} - \\left(a^{\\dagger}_{1}\\right)^{2} + \\frac{3 \\left(a^{\\dagger}_{1}\\right)^{2} \\chi^{\\dagger}_{1} \\chi_{1}}{2} + \\frac{\\left(a^{\\dagger}_{1}\\right)^{2} a_{1} a^{\\dagger}_{1} a_{1} a^{\\dagger}_{1}}{16} + \\frac{\\left(a^{\\dagger}_{1}\\right)^{2} a_{1} a^{\\dagger}_{1} a_{1}^{2}}{16} + \\frac{\\left(a^{\\dagger}_{1}\\right)^{2} a_{1} \\left(a^{\\dagger}_{1}\\right)^{2} a_{1}}{16} + \\frac{\\left(a^{\\dagger}_{1}\\right)^{2} a_{1} \\left(a^{\\dagger}_{1}\\right)^{3}}{16} + \\frac{\\left(a^{\\dagger}_{1}\\right)^{2} a_{1}^{2} a^{\\dagger}_{1} a_{1}}{16} + \\frac{\\left(a^{\\dagger}_{1}\\right)^{2} a_{1}^{2} \\left(a^{\\dagger}_{1}\\right)^{2}}{16} + \\frac{\\left(a^{\\dagger}_{1}\\right)^{2} a_{1}^{3} a^{\\dagger}_{1}}{16} + \\frac{\\left(a^{\\dagger}_{1}\\right)^{2} a_{1}^{4}}{16} + \\frac{\\left(a^{\\dagger}_{1}\\right)^{3} a_{1} a^{\\dagger}_{1} a_{1}}{16} + \\frac{\\left(a^{\\dagger}_{1}\\right)^{3} a_{1} \\left(a^{\\dagger}_{1}\\right)^{2}}{16} + \\frac{\\left(a^{\\dagger}_{1}\\right)^{3} a_{1}^{2} a^{\\dagger}_{1}}{16} + \\frac{\\left(a^{\\dagger}_{1}\\right)^{3} a_{1}^{3}}{16} + \\frac{\\left(a^{\\dagger}_{1}\\right)^{4} a_{1} a^{\\dagger}_{1}}{16} + \\frac{\\left(a^{\\dagger}_{1}\\right)^{4} a_{1}^{2}}{16} + \\frac{\\left(a^{\\dagger}_{1}\\right)^{5} a_{1}}{16} + \\frac{\\left(a^{\\dagger}_{1}\\right)^{6}}{16} + a_{0} a^{\\dagger}_{0} - \\frac{3 a_{0} a^{\\dagger}_{0} \\chi^{\\dagger}_{0} \\chi_{0}}{2} + \\frac{a_{0} a^{\\dagger}_{0} a_{0} a^{\\dagger}_{0} a_{0} a^{\\dagger}_{0}}{16} + \\frac{a_{0} a^{\\dagger}_{0} a_{0} a^{\\dagger}_{0} a_{0}^{2}}{16} + \\frac{a_{0} a^{\\dagger}_{0} a_{0} \\left(a^{\\dagger}_{0}\\right)^{2} a_{0}}{16} + \\frac{a_{0} a^{\\dagger}_{0} a_{0} \\left(a^{\\dagger}_{0}\\right)^{3}}{16} + \\frac{a_{0} a^{\\dagger}_{0} a_{0}^{2} a^{\\dagger}_{0} a_{0}}{16} + \\frac{a_{0} a^{\\dagger}_{0} a_{0}^{2} \\left(a^{\\dagger}_{0}\\right)^{2}}{16} + \\frac{a_{0} a^{\\dagger}_{0} a_{0}^{3} a^{\\dagger}_{0}}{16} + \\frac{a_{0} a^{\\dagger}_{0} a_{0}^{4}}{16} + \\frac{a_{0} \\left(a^{\\dagger}_{0}\\right)^{2} a_{0} a^{\\dagger}_{0} a_{0}}{16} + \\frac{a_{0} \\left(a^{\\dagger}_{0}\\right)^{2} a_{0} \\left(a^{\\dagger}_{0}\\right)^{2}}{16} + \\frac{a_{0} \\left(a^{\\dagger}_{0}\\right)^{2} a_{0}^{2} a^{\\dagger}_{0}}{16} + \\frac{a_{0} \\left(a^{\\dagger}_{0}\\right)^{2} a_{0}^{3}}{16} + \\frac{a_{0} \\left(a^{\\dagger}_{0}\\right)^{3} a_{0} a^{\\dagger}_{0}}{16} + \\frac{a_{0} \\left(a^{\\dagger}_{0}\\right)^{3} a_{0}^{2}}{16} + \\frac{a_{0} \\left(a^{\\dagger}_{0}\\right)^{4} a_{0}}{16} + \\frac{a_{0} \\left(a^{\\dagger}_{0}\\right)^{5}}{16} + \\frac{a_{0}^{2}}{2} - \\frac{3 a_{0}^{2} \\chi^{\\dagger}_{0} \\chi_{0}}{2} + \\frac{a_{0}^{2} a^{\\dagger}_{0} a_{0} a^{\\dagger}_{0} a_{0}}{16} + \\frac{a_{0}^{2} a^{\\dagger}_{0} a_{0} \\left(a^{\\dagger}_{0}\\right)^{2}}{16} + \\frac{a_{0}^{2} a^{\\dagger}_{0} a_{0}^{2} a^{\\dagger}_{0}}{16} + \\frac{a_{0}^{2} a^{\\dagger}_{0} a_{0}^{3}}{16} + \\frac{a_{0}^{2} \\left(a^{\\dagger}_{0}\\right)^{2} a_{0} a^{\\dagger}_{0}}{16} + \\frac{a_{0}^{2} \\left(a^{\\dagger}_{0}\\right)^{2} a_{0}^{2}}{16} + \\frac{a_{0}^{2} \\left(a^{\\dagger}_{0}\\right)^{3} a_{0}}{16} + \\frac{a_{0}^{2} \\left(a^{\\dagger}_{0}\\right)^{4}}{16} + \\frac{a_{0}^{3} a^{\\dagger}_{0} a_{0} a^{\\dagger}_{0}}{16} + \\frac{a_{0}^{3} a^{\\dagger}_{0} a_{0}^{2}}{16} + \\frac{a_{0}^{3} \\left(a^{\\dagger}_{0}\\right)^{2} a_{0}}{16} + \\frac{a_{0}^{3} \\left(a^{\\dagger}_{0}\\right)^{3}}{16} + \\frac{a_{0}^{4} a^{\\dagger}_{0} a_{0}}{16} + \\frac{a_{0}^{4} \\left(a^{\\dagger}_{0}\\right)^{2}}{16} + \\frac{a_{0}^{5} a^{\\dagger}_{0}}{16} + \\frac{a_{0}^{6}}{16} - \\frac{a_{1} a^{\\dagger}_{1}}{2} + \\frac{3 a_{1} a^{\\dagger}_{1} \\chi^{\\dagger}_{1} \\chi_{1}}{2} + \\frac{a_{1} a^{\\dagger}_{1} a_{1} a^{\\dagger}_{1} a_{1} a^{\\dagger}_{1}}{16} + \\frac{a_{1} a^{\\dagger}_{1} a_{1} a^{\\dagger}_{1} a_{1}^{2}}{16} + \\frac{a_{1} a^{\\dagger}_{1} a_{1} \\left(a^{\\dagger}_{1}\\right)^{2} a_{1}}{16} + \\frac{a_{1} a^{\\dagger}_{1} a_{1} \\left(a^{\\dagger}_{1}\\right)^{3}}{16} + \\frac{a_{1} a^{\\dagger}_{1} a_{1}^{2} a^{\\dagger}_{1} a_{1}}{16} + \\frac{a_{1} a^{\\dagger}_{1} a_{1}^{2} \\left(a^{\\dagger}_{1}\\right)^{2}}{16} + \\frac{a_{1} a^{\\dagger}_{1} a_{1}^{3} a^{\\dagger}_{1}}{16} + \\frac{a_{1} a^{\\dagger}_{1} a_{1}^{4}}{16} + \\frac{a_{1} \\left(a^{\\dagger}_{1}\\right)^{2} a_{1} a^{\\dagger}_{1} a_{1}}{16} + \\frac{a_{1} \\left(a^{\\dagger}_{1}\\right)^{2} a_{1} \\left(a^{\\dagger}_{1}\\right)^{2}}{16} + \\frac{a_{1} \\left(a^{\\dagger}_{1}\\right)^{2} a_{1}^{2} a^{\\dagger}_{1}}{16} + \\frac{a_{1} \\left(a^{\\dagger}_{1}\\right)^{2} a_{1}^{3}}{16} + \\frac{a_{1} \\left(a^{\\dagger}_{1}\\right)^{3} a_{1} a^{\\dagger}_{1}}{16} + \\frac{a_{1} \\left(a^{\\dagger}_{1}\\right)^{3} a_{1}^{2}}{16} + \\frac{a_{1} \\left(a^{\\dagger}_{1}\\right)^{4} a_{1}}{16} + \\frac{a_{1} \\left(a^{\\dagger}_{1}\\right)^{5}}{16} - a_{1}^{2} + \\frac{3 a_{1}^{2} \\chi^{\\dagger}_{1} \\chi_{1}}{2} + \\frac{a_{1}^{2} a^{\\dagger}_{1} a_{1} a^{\\dagger}_{1} a_{1}}{16} + \\frac{a_{1}^{2} a^{\\dagger}_{1} a_{1} \\left(a^{\\dagger}_{1}\\right)^{2}}{16} + \\frac{a_{1}^{2} a^{\\dagger}_{1} a_{1}^{2} a^{\\dagger}_{1}}{16} + \\frac{a_{1}^{2} a^{\\dagger}_{1} a_{1}^{3}}{16} + \\frac{a_{1}^{2} \\left(a^{\\dagger}_{1}\\right)^{2} a_{1} a^{\\dagger}_{1}}{16} + \\frac{a_{1}^{2} \\left(a^{\\dagger}_{1}\\right)^{2} a_{1}^{2}}{16} + \\frac{a_{1}^{2} \\left(a^{\\dagger}_{1}\\right)^{3} a_{1}}{16} + \\frac{a_{1}^{2} \\left(a^{\\dagger}_{1}\\right)^{4}}{16} + \\frac{a_{1}^{3} a^{\\dagger}_{1} a_{1} a^{\\dagger}_{1}}{16} + \\frac{a_{1}^{3} a^{\\dagger}_{1} a_{1}^{2}}{16} + \\frac{a_{1}^{3} \\left(a^{\\dagger}_{1}\\right)^{2} a_{1}}{16} + \\frac{a_{1}^{3} \\left(a^{\\dagger}_{1}\\right)^{3}}{16} + \\frac{a_{1}^{4} a^{\\dagger}_{1} a_{1}}{16} + \\frac{a_{1}^{4} \\left(a^{\\dagger}_{1}\\right)^{2}}{16} + \\frac{a_{1}^{5} a^{\\dagger}_{1}}{16} + \\frac{a_{1}^{6}}{16}$"
      ],
      "text/plain": [
       "a^{\\dagger}_{0}*a_{0} - 3*a^{\\dagger}_{0}*a_{0}*\\chi^{\\dagger}_{0}*\\chi_{0}/2 + a^{\\dagger}_{0}*a_{0}*a^{\\dagger}_{0}*a_{0}*a^{\\dagger}_{0}*a_{0}/16 + a^{\\dagger}_{0}*a_{0}*a^{\\dagger}_{0}*a_{0}*a^{\\dagger}_{0}**2/16 + a^{\\dagger}_{0}*a_{0}*a^{\\dagger}_{0}*a_{0}**2*a^{\\dagger}_{0}/16 + a^{\\dagger}_{0}*a_{0}*a^{\\dagger}_{0}*a_{0}**3/16 + a^{\\dagger}_{0}*a_{0}*a^{\\dagger}_{0}**2*a_{0}*a^{\\dagger}_{0}/16 + a^{\\dagger}_{0}*a_{0}*a^{\\dagger}_{0}**2*a_{0}**2/16 + a^{\\dagger}_{0}*a_{0}*a^{\\dagger}_{0}**3*a_{0}/16 + a^{\\dagger}_{0}*a_{0}*a^{\\dagger}_{0}**4/16 + a^{\\dagger}_{0}*a_{0}**2*a^{\\dagger}_{0}*a_{0}*a^{\\dagger}_{0}/16 + a^{\\dagger}_{0}*a_{0}**2*a^{\\dagger}_{0}*a_{0}**2/16 + a^{\\dagger}_{0}*a_{0}**2*a^{\\dagger}_{0}**2*a_{0}/16 + a^{\\dagger}_{0}*a_{0}**2*a^{\\dagger}_{0}**3/16 + a^{\\dagger}_{0}*a_{0}**3*a^{\\dagger}_{0}*a_{0}/16 + a^{\\dagger}_{0}*a_{0}**3*a^{\\dagger}_{0}**2/16 + a^{\\dagger}_{0}*a_{0}**4*a^{\\dagger}_{0}/16 + a^{\\dagger}_{0}*a_{0}**5/16 + a^{\\dagger}_{0}**2/2 - 3*a^{\\dagger}_{0}**2*\\chi^{\\dagger}_{0}*\\chi_{0}/2 + a^{\\dagger}_{0}**2*a_{0}*a^{\\dagger}_{0}*a_{0}*a^{\\dagger}_{0}/16 + a^{\\dagger}_{0}**2*a_{0}*a^{\\dagger}_{0}*a_{0}**2/16 + a^{\\dagger}_{0}**2*a_{0}*a^{\\dagger}_{0}**2*a_{0}/16 + a^{\\dagger}_{0}**2*a_{0}*a^{\\dagger}_{0}**3/16 + a^{\\dagger}_{0}**2*a_{0}**2*a^{\\dagger}_{0}*a_{0}/16 + a^{\\dagger}_{0}**2*a_{0}**2*a^{\\dagger}_{0}**2/16 + a^{\\dagger}_{0}**2*a_{0}**3*a^{\\dagger}_{0}/16 + a^{\\dagger}_{0}**2*a_{0}**4/16 + a^{\\dagger}_{0}**3*a_{0}*a^{\\dagger}_{0}*a_{0}/16 + a^{\\dagger}_{0}**3*a_{0}*a^{\\dagger}_{0}**2/16 + a^{\\dagger}_{0}**3*a_{0}**2*a^{\\dagger}_{0}/16 + a^{\\dagger}_{0}**3*a_{0}**3/16 + a^{\\dagger}_{0}**4*a_{0}*a^{\\dagger}_{0}/16 + a^{\\dagger}_{0}**4*a_{0}**2/16 + a^{\\dagger}_{0}**5*a_{0}/16 + a^{\\dagger}_{0}**6/16 - a^{\\dagger}_{1}*a_{1}/2 + 3*a^{\\dagger}_{1}*a_{1}*\\chi^{\\dagger}_{1}*\\chi_{1}/2 + a^{\\dagger}_{1}*a_{1}*a^{\\dagger}_{1}*a_{1}*a^{\\dagger}_{1}*a_{1}/16 + a^{\\dagger}_{1}*a_{1}*a^{\\dagger}_{1}*a_{1}*a^{\\dagger}_{1}**2/16 + a^{\\dagger}_{1}*a_{1}*a^{\\dagger}_{1}*a_{1}**2*a^{\\dagger}_{1}/16 + a^{\\dagger}_{1}*a_{1}*a^{\\dagger}_{1}*a_{1}**3/16 + a^{\\dagger}_{1}*a_{1}*a^{\\dagger}_{1}**2*a_{1}*a^{\\dagger}_{1}/16 + a^{\\dagger}_{1}*a_{1}*a^{\\dagger}_{1}**2*a_{1}**2/16 + a^{\\dagger}_{1}*a_{1}*a^{\\dagger}_{1}**3*a_{1}/16 + a^{\\dagger}_{1}*a_{1}*a^{\\dagger}_{1}**4/16 + a^{\\dagger}_{1}*a_{1}**2*a^{\\dagger}_{1}*a_{1}*a^{\\dagger}_{1}/16 + a^{\\dagger}_{1}*a_{1}**2*a^{\\dagger}_{1}*a_{1}**2/16 + a^{\\dagger}_{1}*a_{1}**2*a^{\\dagger}_{1}**2*a_{1}/16 + a^{\\dagger}_{1}*a_{1}**2*a^{\\dagger}_{1}**3/16 + a^{\\dagger}_{1}*a_{1}**3*a^{\\dagger}_{1}*a_{1}/16 + a^{\\dagger}_{1}*a_{1}**3*a^{\\dagger}_{1}**2/16 + a^{\\dagger}_{1}*a_{1}**4*a^{\\dagger}_{1}/16 + a^{\\dagger}_{1}*a_{1}**5/16 - a^{\\dagger}_{1}**2 + 3*a^{\\dagger}_{1}**2*\\chi^{\\dagger}_{1}*\\chi_{1}/2 + a^{\\dagger}_{1}**2*a_{1}*a^{\\dagger}_{1}*a_{1}*a^{\\dagger}_{1}/16 + a^{\\dagger}_{1}**2*a_{1}*a^{\\dagger}_{1}*a_{1}**2/16 + a^{\\dagger}_{1}**2*a_{1}*a^{\\dagger}_{1}**2*a_{1}/16 + a^{\\dagger}_{1}**2*a_{1}*a^{\\dagger}_{1}**3/16 + a^{\\dagger}_{1}**2*a_{1}**2*a^{\\dagger}_{1}*a_{1}/16 + a^{\\dagger}_{1}**2*a_{1}**2*a^{\\dagger}_{1}**2/16 + a^{\\dagger}_{1}**2*a_{1}**3*a^{\\dagger}_{1}/16 + a^{\\dagger}_{1}**2*a_{1}**4/16 + a^{\\dagger}_{1}**3*a_{1}*a^{\\dagger}_{1}*a_{1}/16 + a^{\\dagger}_{1}**3*a_{1}*a^{\\dagger}_{1}**2/16 + a^{\\dagger}_{1}**3*a_{1}**2*a^{\\dagger}_{1}/16 + a^{\\dagger}_{1}**3*a_{1}**3/16 + a^{\\dagger}_{1}**4*a_{1}*a^{\\dagger}_{1}/16 + a^{\\dagger}_{1}**4*a_{1}**2/16 + a^{\\dagger}_{1}**5*a_{1}/16 + a^{\\dagger}_{1}**6/16 + a_{0}*a^{\\dagger}_{0} - 3*a_{0}*a^{\\dagger}_{0}*\\chi^{\\dagger}_{0}*\\chi_{0}/2 + a_{0}*a^{\\dagger}_{0}*a_{0}*a^{\\dagger}_{0}*a_{0}*a^{\\dagger}_{0}/16 + a_{0}*a^{\\dagger}_{0}*a_{0}*a^{\\dagger}_{0}*a_{0}**2/16 + a_{0}*a^{\\dagger}_{0}*a_{0}*a^{\\dagger}_{0}**2*a_{0}/16 + a_{0}*a^{\\dagger}_{0}*a_{0}*a^{\\dagger}_{0}**3/16 + a_{0}*a^{\\dagger}_{0}*a_{0}**2*a^{\\dagger}_{0}*a_{0}/16 + a_{0}*a^{\\dagger}_{0}*a_{0}**2*a^{\\dagger}_{0}**2/16 + a_{0}*a^{\\dagger}_{0}*a_{0}**3*a^{\\dagger}_{0}/16 + a_{0}*a^{\\dagger}_{0}*a_{0}**4/16 + a_{0}*a^{\\dagger}_{0}**2*a_{0}*a^{\\dagger}_{0}*a_{0}/16 + a_{0}*a^{\\dagger}_{0}**2*a_{0}*a^{\\dagger}_{0}**2/16 + a_{0}*a^{\\dagger}_{0}**2*a_{0}**2*a^{\\dagger}_{0}/16 + a_{0}*a^{\\dagger}_{0}**2*a_{0}**3/16 + a_{0}*a^{\\dagger}_{0}**3*a_{0}*a^{\\dagger}_{0}/16 + a_{0}*a^{\\dagger}_{0}**3*a_{0}**2/16 + a_{0}*a^{\\dagger}_{0}**4*a_{0}/16 + a_{0}*a^{\\dagger}_{0}**5/16 + a_{0}**2/2 - 3*a_{0}**2*\\chi^{\\dagger}_{0}*\\chi_{0}/2 + a_{0}**2*a^{\\dagger}_{0}*a_{0}*a^{\\dagger}_{0}*a_{0}/16 + a_{0}**2*a^{\\dagger}_{0}*a_{0}*a^{\\dagger}_{0}**2/16 + a_{0}**2*a^{\\dagger}_{0}*a_{0}**2*a^{\\dagger}_{0}/16 + a_{0}**2*a^{\\dagger}_{0}*a_{0}**3/16 + a_{0}**2*a^{\\dagger}_{0}**2*a_{0}*a^{\\dagger}_{0}/16 + a_{0}**2*a^{\\dagger}_{0}**2*a_{0}**2/16 + a_{0}**2*a^{\\dagger}_{0}**3*a_{0}/16 + a_{0}**2*a^{\\dagger}_{0}**4/16 + a_{0}**3*a^{\\dagger}_{0}*a_{0}*a^{\\dagger}_{0}/16 + a_{0}**3*a^{\\dagger}_{0}*a_{0}**2/16 + a_{0}**3*a^{\\dagger}_{0}**2*a_{0}/16 + a_{0}**3*a^{\\dagger}_{0}**3/16 + a_{0}**4*a^{\\dagger}_{0}*a_{0}/16 + a_{0}**4*a^{\\dagger}_{0}**2/16 + a_{0}**5*a^{\\dagger}_{0}/16 + a_{0}**6/16 - a_{1}*a^{\\dagger}_{1}/2 + 3*a_{1}*a^{\\dagger}_{1}*\\chi^{\\dagger}_{1}*\\chi_{1}/2 + a_{1}*a^{\\dagger}_{1}*a_{1}*a^{\\dagger}_{1}*a_{1}*a^{\\dagger}_{1}/16 + a_{1}*a^{\\dagger}_{1}*a_{1}*a^{\\dagger}_{1}*a_{1}**2/16 + a_{1}*a^{\\dagger}_{1}*a_{1}*a^{\\dagger}_{1}**2*a_{1}/16 + a_{1}*a^{\\dagger}_{1}*a_{1}*a^{\\dagger}_{1}**3/16 + a_{1}*a^{\\dagger}_{1}*a_{1}**2*a^{\\dagger}_{1}*a_{1}/16 + a_{1}*a^{\\dagger}_{1}*a_{1}**2*a^{\\dagger}_{1}**2/16 + a_{1}*a^{\\dagger}_{1}*a_{1}**3*a^{\\dagger}_{1}/16 + a_{1}*a^{\\dagger}_{1}*a_{1}**4/16 + a_{1}*a^{\\dagger}_{1}**2*a_{1}*a^{\\dagger}_{1}*a_{1}/16 + a_{1}*a^{\\dagger}_{1}**2*a_{1}*a^{\\dagger}_{1}**2/16 + a_{1}*a^{\\dagger}_{1}**2*a_{1}**2*a^{\\dagger}_{1}/16 + a_{1}*a^{\\dagger}_{1}**2*a_{1}**3/16 + a_{1}*a^{\\dagger}_{1}**3*a_{1}*a^{\\dagger}_{1}/16 + a_{1}*a^{\\dagger}_{1}**3*a_{1}**2/16 + a_{1}*a^{\\dagger}_{1}**4*a_{1}/16 + a_{1}*a^{\\dagger}_{1}**5/16 - a_{1}**2 + 3*a_{1}**2*\\chi^{\\dagger}_{1}*\\chi_{1}/2 + a_{1}**2*a^{\\dagger}_{1}*a_{1}*a^{\\dagger}_{1}*a_{1}/16 + a_{1}**2*a^{\\dagger}_{1}*a_{1}*a^{\\dagger}_{1}**2/16 + a_{1}**2*a^{\\dagger}_{1}*a_{1}**2*a^{\\dagger}_{1}/16 + a_{1}**2*a^{\\dagger}_{1}*a_{1}**3/16 + a_{1}**2*a^{\\dagger}_{1}**2*a_{1}*a^{\\dagger}_{1}/16 + a_{1}**2*a^{\\dagger}_{1}**2*a_{1}**2/16 + a_{1}**2*a^{\\dagger}_{1}**3*a_{1}/16 + a_{1}**2*a^{\\dagger}_{1}**4/16 + a_{1}**3*a^{\\dagger}_{1}*a_{1}*a^{\\dagger}_{1}/16 + a_{1}**3*a^{\\dagger}_{1}*a_{1}**2/16 + a_{1}**3*a^{\\dagger}_{1}**2*a_{1}/16 + a_{1}**3*a^{\\dagger}_{1}**3/16 + a_{1}**4*a^{\\dagger}_{1}*a_{1}/16 + a_{1}**4*a^{\\dagger}_{1}**2/16 + a_{1}**5*a^{\\dagger}_{1}/16 + a_{1}**6/16"
      ]
     },
     "execution_count": 9,
     "metadata": {},
     "output_type": "execute_result"
    }
   ],
   "source": [
    "m=1\n",
    "\n",
    "HOdofSubs = {}\n",
    "#offset because of BC\n",
    "for i in range(1,N+1):\n",
    "    HOdofSubs[qs[i]] = 0.5*sp.sqrt(2/m)*(aops[i] + adags[i])\n",
    "    HOdofSubs[ps[i]] = complex(0,1)*sp.sqrt(2*m)*(adags[i] - aops[i])/2 \n",
    "\n",
    "hoHam=sp.expand(ham.subs(HOdofSubs))\n",
    "hoHam=sp.nsimplify(hoHam,tolerance=1e-8)\n",
    "hoHam"
   ]
  },
  {
   "cell_type": "code",
   "execution_count": 10,
   "metadata": {},
   "outputs": [],
   "source": [
    "cutoff=4\n",
    "hamMat=convert_to_matrix(hoHam,cutoff,N,aops,adags,xs,xdags)"
   ]
  },
  {
   "cell_type": "code",
   "execution_count": 11,
   "metadata": {},
   "outputs": [
    {
     "name": "stdout",
     "output_type": "stream",
     "text": [
      "True\n"
     ]
    },
    {
     "data": {
      "text/plain": [
       "array([ 0.19003424-0.j,  1.0407456 -0.j,  1.0407456 +0.j,  1.0549341 -0.j,\n",
       "        1.0549341 -0.j,  1.8806992 -0.j,  1.8806992 +0.j,  1.8914568 +0.j,\n",
       "        1.9056455 -0.j,  1.9056455 +0.j,  1.9198343 +0.j,  2.731411  +0.j,\n",
       "        2.731411  +0.j,  2.7455993 -0.j,  2.7455993 +0.j,  3.5713644 +0.j,\n",
       "        6.2601    -0.j,  6.2601    +0.j,  7.1108117 -0.j,  7.1108117 +0.j,\n",
       "        7.1249995 +0.j,  7.1249995 +0.j,  7.1249995 +0.j,  7.1250005 +0.j,\n",
       "        7.9507656 +0.j,  7.9507656 +0.j,  7.9757113 -0.j,  7.9757113 +0.j,\n",
       "        7.9899    +0.j,  7.9899    +0.j,  8.815665  +0.j,  8.815665  +0.j,\n",
       "       12.330166  -0.j, 13.1950655 -0.j, 13.1950655 -0.j, 14.059967  -0.j,\n",
       "       14.434335  -0.j, 14.434335  +0.j, 15.274288  -0.j, 15.274288  +0.j,\n",
       "       15.285047  -0.j, 15.285047  -0.j, 15.299236  +0.j, 15.299236  +0.j,\n",
       "       16.125     +0.j, 16.125     +0.j, 16.125     +0.j, 16.125     +0.j,\n",
       "       16.139189  -0.j, 16.139189  +0.j, 16.964954  -0.j, 16.964954  -0.j,\n",
       "       20.5044    -0.j, 20.5044    +0.j, 21.344355  -0.j, 21.344355  +0.j,\n",
       "       21.3693    -0.j, 21.3693    +0.j, 22.209255  +0.j, 22.209255  +0.j,\n",
       "       28.678635  -0.j, 29.518589  +0.j, 29.518589  +0.j, 30.358543  +0.j],\n",
       "      dtype=complex64)"
      ]
     },
     "execution_count": 11,
     "metadata": {},
     "output_type": "execute_result"
    }
   ],
   "source": [
    "ens=np.sort(np.linalg.eig(hamMat.astype(np.complex64))[0])\n",
    "ens=ens.round(8)\n",
    "\n",
    "print(np.isreal(ens).all())\n",
    "\n",
    "ens"
   ]
  },
  {
   "cell_type": "code",
   "execution_count": 14,
   "metadata": {},
   "outputs": [
    {
     "data": {
      "text/plain": [
       "160000"
      ]
     },
     "execution_count": 14,
     "metadata": {},
     "output_type": "execute_result"
    }
   ],
   "source": [
    "((10**2)*(2**2))**2"
   ]
  },
  {
   "cell_type": "code",
   "execution_count": 15,
   "metadata": {},
   "outputs": [
    {
     "name": "stdout",
     "output_type": "stream",
     "text": [
      "Lambda =  2\n",
      "[-0.875+0.j -0.875+0.j -0.875+0.j -0.875+0.j  0.625+0.j  0.625+0.j\n",
      "  0.625+0.j  0.625+0.j  0.625+0.j  0.625+0.j]\n",
      "\n",
      "Lambda =  3\n",
      "[-1.0515145 +0.j -0.33825737+0.j -0.33825737+0.j  0.12442722+0.j\n",
      "  0.12442722+0.j  0.18749988+0.j  0.18749988+0.j  0.37499976+0.j\n",
      "  0.83768433+0.j  0.83768433+0.j]\n",
      "\n",
      "Lambda =  4\n",
      "[0.19003424-0.j 1.0407456 -0.j 1.0407456 +0.j 1.0549341 -0.j\n",
      " 1.0549341 -0.j 1.8806992 -0.j 1.8806992 +0.j 1.8914568 +0.j\n",
      " 1.9056455 -0.j 1.9056455 +0.j]\n",
      "\n",
      "Lambda =  5\n",
      "[-0.86277425+0.j -0.03467345+0.j -0.03467345+0.j  0.50928307-0.j\n",
      "  0.50928307+0.j  0.793428  +0.j  1.2903428 +0.j  1.2903428 +0.j\n",
      "  1.3373839 +0.j  1.3373839 +0.j]\n",
      "\n",
      "Lambda =  6\n",
      "[0.15034774+0.j 1.0009421 -0.j 1.0009421 -0.j 1.0501926 -0.j\n",
      " 1.0501926 +0.j 1.8515372 -0.j 1.900787  -0.j 1.900787  +0.j\n",
      " 1.9500375 +0.j 2.421206  -0.j]\n",
      "\n"
     ]
    },
    {
     "ename": "KeyboardInterrupt",
     "evalue": "",
     "output_type": "error",
     "traceback": [
      "\u001b[0;31m---------------------------------------------------------------------------\u001b[0m",
      "\u001b[0;31mKeyboardInterrupt\u001b[0m                         Traceback (most recent call last)",
      "Input \u001b[0;32mIn [15]\u001b[0m, in \u001b[0;36m<cell line: 1>\u001b[0;34m()\u001b[0m\n\u001b[1;32m      1\u001b[0m \u001b[38;5;28;01mfor\u001b[39;00m cutoff \u001b[38;5;129;01min\u001b[39;00m [\u001b[38;5;241m2\u001b[39m,\u001b[38;5;241m3\u001b[39m,\u001b[38;5;241m4\u001b[39m,\u001b[38;5;241m5\u001b[39m,\u001b[38;5;241m6\u001b[39m,\u001b[38;5;241m7\u001b[39m,\u001b[38;5;241m8\u001b[39m]:\n\u001b[0;32m----> 2\u001b[0m     hamMat\u001b[38;5;241m=\u001b[39m\u001b[43mconvert_to_matrix\u001b[49m\u001b[43m(\u001b[49m\u001b[43mhoHam\u001b[49m\u001b[43m,\u001b[49m\u001b[43mcutoff\u001b[49m\u001b[43m,\u001b[49m\u001b[43mN\u001b[49m\u001b[43m,\u001b[49m\u001b[43maops\u001b[49m\u001b[43m,\u001b[49m\u001b[43madags\u001b[49m\u001b[43m,\u001b[49m\u001b[43mxs\u001b[49m\u001b[43m,\u001b[49m\u001b[43mxdags\u001b[49m\u001b[43m)\u001b[49m\n\u001b[1;32m      3\u001b[0m     ens\u001b[38;5;241m=\u001b[39mnp\u001b[38;5;241m.\u001b[39msort(np\u001b[38;5;241m.\u001b[39mlinalg\u001b[38;5;241m.\u001b[39meig(hamMat\u001b[38;5;241m.\u001b[39mastype(np\u001b[38;5;241m.\u001b[39mcomplex64))[\u001b[38;5;241m0\u001b[39m])\n\u001b[1;32m      4\u001b[0m     ens\u001b[38;5;241m=\u001b[39mens\u001b[38;5;241m.\u001b[39mround(\u001b[38;5;241m8\u001b[39m)\n",
      "File \u001b[0;32m~/Code/WessZumino/ham_to_matrix.py:74\u001b[0m, in \u001b[0;36mconvert_to_matrix\u001b[0;34m(expr, cutoff, Nsites, aops, adags, xs, xdags)\u001b[0m\n\u001b[1;32m     70\u001b[0m \u001b[38;5;66;03m# convert each term to matrix and sum up\u001b[39;00m\n\u001b[1;32m     71\u001b[0m \u001b[38;5;28;01mfor\u001b[39;00m t \u001b[38;5;129;01min\u001b[39;00m expr\u001b[38;5;241m.\u001b[39margs:\n\u001b[1;32m     72\u001b[0m     \u001b[38;5;66;03m#timer=Timer(str(t)+' to matrix')\u001b[39;00m\n\u001b[1;32m     73\u001b[0m     \u001b[38;5;66;03m#timer.start()\u001b[39;00m\n\u001b[0;32m---> 74\u001b[0m     fullHam\u001b[38;5;241m=\u001b[39mfullHam\u001b[38;5;241m+\u001b[39m\u001b[43mconvert_term_to_matrix\u001b[49m\u001b[43m(\u001b[49m\u001b[43mt\u001b[49m\u001b[43m,\u001b[49m\u001b[43mcutoff\u001b[49m\u001b[43m,\u001b[49m\u001b[43mNsites\u001b[49m\u001b[43m,\u001b[49m\u001b[43m \u001b[49m\u001b[43maops\u001b[49m\u001b[43m,\u001b[49m\u001b[43m \u001b[49m\u001b[43madags\u001b[49m\u001b[43m,\u001b[49m\u001b[43m \u001b[49m\u001b[43mxs\u001b[49m\u001b[43m,\u001b[49m\u001b[43m \u001b[49m\u001b[43mxdags\u001b[49m\u001b[43m)\u001b[49m\n\u001b[1;32m     75\u001b[0m     \u001b[38;5;66;03m#timer.stop()\u001b[39;00m\n\u001b[1;32m     76\u001b[0m \u001b[38;5;66;03m# now need to drop all the buffers...\u001b[39;00m\n\u001b[1;32m     77\u001b[0m \u001b[38;5;66;03m#for i\u001b[39;00m\n\u001b[1;32m     79\u001b[0m \u001b[38;5;28;01mreturn\u001b[39;00m fullHam\n",
      "File \u001b[0;32m~/Code/WessZumino/ham_to_matrix.py:151\u001b[0m, in \u001b[0;36mconvert_term_to_matrix\u001b[0;34m(term, cutoff, Nsites, aops, adags, xs, xdags)\u001b[0m\n\u001b[1;32m    148\u001b[0m         fullMatrix\u001b[38;5;241m=\u001b[39mnp\u001b[38;5;241m.\u001b[39mkron(fullMatrix,np\u001b[38;5;241m.\u001b[39meye(cutoff\u001b[38;5;241m+\u001b[39mbuffer))\n\u001b[1;32m    149\u001b[0m         fullMatrix\u001b[38;5;241m=\u001b[39mnp\u001b[38;5;241m.\u001b[39mkron(fullMatrix,np\u001b[38;5;241m.\u001b[39meye(\u001b[38;5;241m2\u001b[39m))\n\u001b[0;32m--> 151\u001b[0m fullMatrix\u001b[38;5;241m=\u001b[39m\u001b[43mfullMatrix\u001b[49m\u001b[38;5;241;43m.\u001b[39;49m\u001b[43mastype\u001b[49m\u001b[43m(\u001b[49m\u001b[43mnp\u001b[49m\u001b[38;5;241;43m.\u001b[39;49m\u001b[43mcomplex64\u001b[49m\u001b[43m)\u001b[49m\n\u001b[1;32m    152\u001b[0m \u001b[38;5;66;03m#tFullTimer.stop()\u001b[39;00m\n\u001b[1;32m    153\u001b[0m \n\u001b[1;32m    154\u001b[0m \n\u001b[0;32m   (...)\u001b[0m\n\u001b[1;32m    158\u001b[0m \u001b[38;5;66;03m#tMultTimer.start()\u001b[39;00m\n\u001b[1;32m    159\u001b[0m \u001b[38;5;66;03m#print(prodMatrix.shape,fullMatrix.shape)\u001b[39;00m\n\u001b[1;32m    160\u001b[0m prodMatrix\u001b[38;5;241m=\u001b[39mnp\u001b[38;5;241m.\u001b[39mmatmul(prodMatrix,fullMatrix)\n",
      "File \u001b[0;32m~/miniconda3/envs/QuantumComputing/lib/python3.9/site-packages/sympy/core/expr.py:350\u001b[0m, in \u001b[0;36mExpr.__complex__\u001b[0;34m(self)\u001b[0m\n\u001b[1;32m    348\u001b[0m result \u001b[38;5;241m=\u001b[39m \u001b[38;5;28mself\u001b[39m\u001b[38;5;241m.\u001b[39mevalf()\n\u001b[1;32m    349\u001b[0m re, im \u001b[38;5;241m=\u001b[39m result\u001b[38;5;241m.\u001b[39mas_real_imag()\n\u001b[0;32m--> 350\u001b[0m \u001b[38;5;28;01mreturn\u001b[39;00m \u001b[38;5;28mcomplex\u001b[39m(\u001b[38;5;28;43mfloat\u001b[39;49m\u001b[43m(\u001b[49m\u001b[43mre\u001b[49m\u001b[43m)\u001b[49m, \u001b[38;5;28mfloat\u001b[39m(im))\n",
      "File \u001b[0;32m~/miniconda3/envs/QuantumComputing/lib/python3.9/site-packages/sympy/core/numbers.py:678\u001b[0m, in \u001b[0;36mNumber.__float__\u001b[0;34m(self)\u001b[0m\n\u001b[1;32m    677\u001b[0m \u001b[38;5;28;01mdef\u001b[39;00m \u001b[38;5;21m__float__\u001b[39m(\u001b[38;5;28mself\u001b[39m):\n\u001b[0;32m--> 678\u001b[0m     \u001b[38;5;28;01mreturn\u001b[39;00m \u001b[43mmlib\u001b[49m\u001b[38;5;241;43m.\u001b[39;49m\u001b[43mto_float\u001b[49m\u001b[43m(\u001b[49m\u001b[38;5;28;43mself\u001b[39;49m\u001b[38;5;241;43m.\u001b[39;49m\u001b[43m_as_mpf_val\u001b[49m\u001b[43m(\u001b[49m\u001b[38;5;241;43m53\u001b[39;49m\u001b[43m)\u001b[49m\u001b[43m)\u001b[49m\n",
      "File \u001b[0;32m~/miniconda3/envs/QuantumComputing/lib/python3.9/site-packages/mpmath/libmp/libmpf.py:467\u001b[0m, in \u001b[0;36mto_float\u001b[0;34m(s, strict, rnd)\u001b[0m\n\u001b[1;32m    454\u001b[0m \u001b[38;5;28;01mdef\u001b[39;00m \u001b[38;5;21mto_float\u001b[39m(s, strict\u001b[38;5;241m=\u001b[39m\u001b[38;5;28;01mFalse\u001b[39;00m, rnd\u001b[38;5;241m=\u001b[39mround_fast):\n\u001b[1;32m    455\u001b[0m     \u001b[38;5;124;03m\"\"\"\u001b[39;00m\n\u001b[1;32m    456\u001b[0m \u001b[38;5;124;03m    Convert a raw mpf to a Python float. The result is exact if the\u001b[39;00m\n\u001b[1;32m    457\u001b[0m \u001b[38;5;124;03m    bitcount of s is <= 53 and no underflow/overflow occurs.\u001b[39;00m\n\u001b[0;32m   (...)\u001b[0m\n\u001b[1;32m    465\u001b[0m \u001b[38;5;124;03m    in case of overflow or (gradual) underflow.\u001b[39;00m\n\u001b[1;32m    466\u001b[0m \u001b[38;5;124;03m    \"\"\"\u001b[39;00m\n\u001b[0;32m--> 467\u001b[0m     sign, man, exp, bc \u001b[38;5;241m=\u001b[39m s\n\u001b[1;32m    468\u001b[0m     \u001b[38;5;28;01mif\u001b[39;00m \u001b[38;5;129;01mnot\u001b[39;00m man:\n\u001b[1;32m    469\u001b[0m         \u001b[38;5;28;01mif\u001b[39;00m s \u001b[38;5;241m==\u001b[39m fzero: \u001b[38;5;28;01mreturn\u001b[39;00m \u001b[38;5;241m0.0\u001b[39m\n",
      "\u001b[0;31mKeyboardInterrupt\u001b[0m: "
     ]
    }
   ],
   "source": [
    "for cutoff in [2,3,4,5,6,7,8]:\n",
    "    hamMat=convert_to_matrix(hoHam,cutoff,N,aops,adags,xs,xdags)\n",
    "    ens=np.sort(np.linalg.eig(hamMat.astype(np.complex64))[0])\n",
    "    ens=ens.round(8)\n",
    "    \n",
    "    print(\"Lambda = \",cutoff)\n",
    "    print(ens[0:10])\n",
    "    print()"
   ]
  },
  {
   "cell_type": "code",
   "execution_count": 17,
   "metadata": {},
   "outputs": [
    {
     "name": "stdout",
     "output_type": "stream",
     "text": [
      "Lambda =  7\n",
      "[-0.19459018+0.j  0.85713005+0.j  0.85713005+0.j  0.8792741 +0.j\n",
      "  0.8792741 +0.j  1.9088504 +0.j  1.9309944 +0.j  1.9309944 +0.j\n",
      "  1.9531388 +0.j  2.868149  +0.j]\n",
      "\n",
      "Lambda =  8\n",
      "[-0.13005099-0.j  0.4779801 +0.j  0.4779801 +0.j  0.9130962 -0.j\n",
      "  0.9130962 +0.j  1.086012  -0.j  1.5211273 -0.j  1.5211273 +0.j\n",
      "  1.9562432 -0.j  2.4092731 -0.j]\n",
      "\n",
      "Lambda =  9\n",
      "[0.0647111+0.j 0.9921449+0.j 0.9921449+0.j 1.1588206+0.j 1.1588206+0.j\n",
      " 1.9195787+0.j 2.0862544+0.j 2.0862544+0.j 2.2529309+0.j 3.1660137-0.j]\n",
      "\n",
      "Lambda =  10\n",
      "[-0.08308198+0.j  0.70125854+0.j  0.70125854+0.j  0.92909414-0.j\n",
      "  0.92909414+0.j  1.4855996 +0.j  1.7134349 -0.j  1.7134349 +0.j\n",
      "  1.9412704 +0.j  2.962519  -0.j]\n",
      "\n"
     ]
    }
   ],
   "source": [
    "for cutoff in [7,8,9,10]:\n",
    "    hamMat=convert_to_matrix(hoHam,cutoff,N,aops,adags,xs,xdags)\n",
    "    ens=np.sort(np.linalg.eig(hamMat.astype(np.complex64))[0])\n",
    "    ens=ens.round(8)\n",
    "    \n",
    "    print(\"Lambda = \",cutoff)\n",
    "    print(ens[0:10])\n",
    "    print()"
   ]
  }
 ],
 "metadata": {
  "kernelspec": {
   "display_name": "Python 3",
   "language": "python",
   "name": "python3"
  },
  "language_info": {
   "codemirror_mode": {
    "name": "ipython",
    "version": 3
   },
   "file_extension": ".py",
   "mimetype": "text/x-python",
   "name": "python",
   "nbconvert_exporter": "python",
   "pygments_lexer": "ipython3",
   "version": "3.9.1"
  }
 },
 "nbformat": 4,
 "nbformat_minor": 5
}
