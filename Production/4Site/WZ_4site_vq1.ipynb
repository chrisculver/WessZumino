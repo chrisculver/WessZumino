{
 "cells": [
  {
   "cell_type": "markdown",
   "metadata": {},
   "source": [
    "# Wess Zumino \n",
    "\n",
    "## N=1 in 1+1\n",
    "\n",
    "The Hamiltonian with a central difference for the derivative is given by \n",
    "\n",
    "\\begin{align}\n",
    "    H=\\sum_n&\\left[ \\frac{p_n^2}{2a} + \\frac{a}{2}\\left(\\frac{\\phi_{n+1}-\\phi_{n-1}}{2a}\\right)^2+\\frac{a}{2}V(\\phi_n)^2\n",
    "            +aV(\\phi_n)\\frac{\\phi_{n+1}-\\phi_{n-1}}{2a} \\right. \\nonumber \\\\\n",
    "            &\\left.+(-1)^nV'(\\phi_n)\\left(\\chi_n^{\\dagger}\\chi_n-\\frac{1}{2}\\right)\n",
    "            +\\frac{1}{2a}\\left(\\chi_n^{\\dagger}\\chi_{n+1}+\\chi_{n+1}^{\\dagger}\\chi_n\\right) \\right],\n",
    "\\end{align}"
   ]
  },
  {
   "cell_type": "code",
   "execution_count": 1,
   "metadata": {},
   "outputs": [],
   "source": [
    "import sympy as sp\n",
    "from ham_to_sparse_matrix import *\n",
    "from constants import *\n",
    "import scipy.sparse.linalg"
   ]
  },
  {
   "cell_type": "code",
   "execution_count": 2,
   "metadata": {},
   "outputs": [],
   "source": [
    "bosonNI=sp.expand( pn**2/(2*aLat) + (aLat/2)*((qnP1-qnM1)/(2*aLat))**2 )\n",
    "bosonI=sp.expand( (aLat/2)*V(qn)**2 + aLat*V(qn)*(qnP1-qnM1)/(4*aLat) + aLat*(qnP1-qnM1)*V(qn)/(4*aLat) )\n",
    "fermionNI=sp.expand( -(xdnP1*xn+xdn*xnP1)/(2*aLat) )\n",
    "fermionI=sp.expand( sp.diff(V(qn),qn)*(xdn*xn-(1/2)) )"
   ]
  },
  {
   "cell_type": "code",
   "execution_count": 3,
   "metadata": {},
   "outputs": [
    {
     "data": {
      "text/latex": [
       "$\\displaystyle \\frac{a V^{2}{\\left(q_{n} \\right)}}{2} + \\frac{q_{n+1} V{\\left(q_{n} \\right)}}{4} - \\frac{q_{n-1} V{\\left(q_{n} \\right)}}{4} + \\frac{V{\\left(q_{n} \\right)} q_{n+1}}{4} - \\frac{V{\\left(q_{n} \\right)} q_{n-1}}{4} + \\frac{p_{n}^{2}}{2 a} - \\frac{q_{n+1} q_{n-1}}{8 a} + \\frac{q_{n+1}^{2}}{8 a} - \\frac{q_{n-1} q_{n+1}}{8 a} + \\frac{q_{n-1}^{2}}{8 a}$"
      ],
      "text/plain": [
       "a*V(q_{n})**2/2 + q_{n+1}*V(q_{n})/4 - q_{n-1}*V(q_{n})/4 + V(q_{n})*q_{n+1}/4 - V(q_{n})*q_{n-1}/4 + p_{n}**2/(2*a) - q_{n+1}*q_{n-1}/(8*a) + q_{n+1}**2/(8*a) - q_{n-1}*q_{n+1}/(8*a) + q_{n-1}**2/(8*a)"
      ]
     },
     "execution_count": 3,
     "metadata": {},
     "output_type": "execute_result"
    }
   ],
   "source": [
    "bosonNI+bosonI"
   ]
  },
  {
   "cell_type": "code",
   "execution_count": 4,
   "metadata": {},
   "outputs": [
    {
     "data": {
      "text/latex": [
       "$\\displaystyle - 0.5 \\frac{d}{d q_{n}} V{\\left(q_{n} \\right)} + \\frac{d}{d q_{n}} V{\\left(q_{n} \\right)} \\chi^{\\dagger}_{n} \\chi_{n} - \\frac{\\chi^{\\dagger}_{n+1} \\chi_{n}}{2 a} - \\frac{\\chi^{\\dagger}_{n} \\chi_{n+1}}{2 a}$"
      ],
      "text/plain": [
       "-0.5*Derivative(V(q_{n}), q_{n}) + Derivative(V(q_{n}), q_{n})*\\chi^{\\dagger}_{n}*\\chi_{n} - \\chi^{\\dagger}_{n+1}*\\chi_{n}/(2*a) - \\chi^{\\dagger}_{n}*\\chi_{n+1}/(2*a)"
      ]
     },
     "execution_count": 4,
     "metadata": {},
     "output_type": "execute_result"
    }
   ],
   "source": [
    "fermionNI + fermionI"
   ]
  },
  {
   "cell_type": "code",
   "execution_count": 11,
   "metadata": {},
   "outputs": [],
   "source": [
    "N=4\n",
    "aVal=1\n",
    "\n",
    "# depends on finite-difference method\n",
    "qs=[SiteSymbol('q',str(i)) for i in range(-1,N+1,1)]\n",
    "# maybe make qs a normal site list\n",
    "# and make an extra boundaryQs list for q[-1], q[N]\n",
    "# counting would be normal computer science way for rest of code.\n",
    "\n",
    "ps=[SiteSymbol('p',str(i)) for i in range(-1,N+1,1)] # don't really need extras\n",
    "aops=[SiteSymbol('a',str(i)) for i in range(-1,N+1,1)]\n",
    "adags=[SiteSymbol('a^{\\dagger}',str(i)) for i in range(-1,N+1,1)]\n",
    "xs=[SiteSymbol('\\chi',str(i)) for i in range(-1,N+1,1)]\n",
    "xdags=[SiteSymbol('\\chi^{\\dagger}',str(i)) for i in range(-1,N+1,1)]\n",
    "\n",
    "# note this is exactly hardcoded for this finite difference method.\n",
    "bcType = 'dirichlet'\n",
    "boundaryConditions = {}\n",
    "if bcType == 'periodic':\n",
    "    boundaryConditions = {qs[0]: qs[N], qs[N+1]: qs[1],\n",
    "                          xs[0]: xs[N], xs[N+1]: xs[1], \n",
    "                          xdags[0]: xdags[N],  xdags[N+1]: xdags[1]\n",
    "                         }\n",
    "    \n",
    "elif bcType == 'dirichlet':\n",
    "    boundaryConditions = { qs[0]: 0, qs[N+1]: 0,\n",
    "                          xs[0]: 0, xs[N+1]: 0,\n",
    "                          xdags[0]: 0, xdags[N+1]:0\n",
    "                         }"
   ]
  },
  {
   "cell_type": "code",
   "execution_count": 12,
   "metadata": {},
   "outputs": [
    {
     "data": {
      "text/latex": [
       "$\\displaystyle \\frac{a V^{2}{\\left(q_{n} \\right)}}{2} + \\frac{q_{n+1} V{\\left(q_{n} \\right)}}{4} - \\frac{q_{n-1} V{\\left(q_{n} \\right)}}{4} + \\frac{V{\\left(q_{n} \\right)} q_{n+1}}{4} - \\frac{V{\\left(q_{n} \\right)} q_{n-1}}{4} - 0.5 \\frac{d}{d q_{n}} V{\\left(q_{n} \\right)} + \\frac{d}{d q_{n}} V{\\left(q_{n} \\right)} \\chi^{\\dagger}_{n} \\chi_{n} - \\frac{\\chi^{\\dagger}_{n+1} \\chi_{n}}{2 a} - \\frac{\\chi^{\\dagger}_{n} \\chi_{n+1}}{2 a} + \\frac{p_{n}^{2}}{2 a} - \\frac{q_{n+1} q_{n-1}}{8 a} + \\frac{q_{n+1}^{2}}{8 a} - \\frac{q_{n-1} q_{n+1}}{8 a} + \\frac{q_{n-1}^{2}}{8 a}$"
      ],
      "text/plain": [
       "a*V(q_{n})**2/2 + q_{n+1}*V(q_{n})/4 - q_{n-1}*V(q_{n})/4 + V(q_{n})*q_{n+1}/4 - V(q_{n})*q_{n-1}/4 - 0.5*Derivative(V(q_{n}), q_{n}) + Derivative(V(q_{n}), q_{n})*\\chi^{\\dagger}_{n}*\\chi_{n} - \\chi^{\\dagger}_{n+1}*\\chi_{n}/(2*a) - \\chi^{\\dagger}_{n}*\\chi_{n+1}/(2*a) + p_{n}**2/(2*a) - q_{n+1}*q_{n-1}/(8*a) + q_{n+1}**2/(8*a) - q_{n-1}*q_{n+1}/(8*a) + q_{n-1}**2/(8*a)"
      ]
     },
     "execution_count": 12,
     "metadata": {},
     "output_type": "execute_result"
    }
   ],
   "source": [
    "totHam=bosonNI+bosonI+fermionNI+fermionI\n",
    "totHam"
   ]
  },
  {
   "cell_type": "code",
   "execution_count": 13,
   "metadata": {},
   "outputs": [
    {
     "data": {
      "text/latex": [
       "$\\displaystyle \\frac{- 8 \\chi^{\\dagger}_{0} \\chi_{0} - 4 \\chi^{\\dagger}_{0} \\chi_{1} - 4 \\chi^{\\dagger}_{1} \\chi_{0} + 8 \\chi^{\\dagger}_{1} \\chi_{1} - 4 \\chi^{\\dagger}_{1} \\chi_{2} - 4 \\chi^{\\dagger}_{2} \\chi_{1} - 8 \\chi^{\\dagger}_{2} \\chi_{2} - 4 \\chi^{\\dagger}_{2} \\chi_{3} - 4 \\chi^{\\dagger}_{3} \\chi_{2} + 8 \\chi^{\\dagger}_{3} \\chi_{3} + 4 p_{0}^{2} + 4 p_{1}^{2} + 4 p_{2}^{2} + 4 p_{3}^{2} - q_{0} q_{2} + 5 q_{0}^{2} - q_{1} q_{3} + 6 q_{1}^{2} - q_{2} q_{0} + 6 q_{2}^{2} - q_{3} q_{1} + 5 q_{3}^{2}}{8}$"
      ],
      "text/plain": [
       "(-8*\\chi^{\\dagger}_{0}*\\chi_{0} - 4*\\chi^{\\dagger}_{0}*\\chi_{1} - 4*\\chi^{\\dagger}_{1}*\\chi_{0} + 8*\\chi^{\\dagger}_{1}*\\chi_{1} - 4*\\chi^{\\dagger}_{1}*\\chi_{2} - 4*\\chi^{\\dagger}_{2}*\\chi_{1} - 8*\\chi^{\\dagger}_{2}*\\chi_{2} - 4*\\chi^{\\dagger}_{2}*\\chi_{3} - 4*\\chi^{\\dagger}_{3}*\\chi_{2} + 8*\\chi^{\\dagger}_{3}*\\chi_{3} + 4*p_{0}**2 + 4*p_{1}**2 + 4*p_{2}**2 + 4*p_{3}**2 - q_{0}*q_{2} + 5*q_{0}**2 - q_{1}*q_{3} + 6*q_{1}**2 - q_{2}*q_{0} + 6*q_{2}**2 - q_{3}*q_{1} + 5*q_{3}**2)/8"
      ]
     },
     "execution_count": 13,
     "metadata": {},
     "output_type": "execute_result"
    }
   ],
   "source": [
    "ham=0\n",
    "\n",
    "m=1\n",
    "\n",
    "for i in range(1,N+1):\n",
    "    ham+=(bosonNI+bosonI+fermionNI).subs({\n",
    "        pn: ps[i],\n",
    "        qn: qs[i], qnP1: qs[i+1], qnM1: qs[i-1],\n",
    "        xn: xs[i], xnP1: xs[i+1],\n",
    "        xdn: xdags[i], xdnP1: xdags[i+1]\n",
    "    }).subs(boundaryConditions)\n",
    "    \n",
    "# ham.subs(boundaryConditions).doit() # this doesn't work?\n",
    "\n",
    "\n",
    "def potential(n):\n",
    "    return m*qs[n]\n",
    "\n",
    "potentialSubs={}\n",
    "for n in range(1,N+1):\n",
    "    potentialSubs[V(qs[n])]=potential(n)\n",
    "\n",
    "ham=sp.simplify(ham.subs(potentialSubs).subs(aLat,aVal))\n",
    "\n",
    "for i in range(1,N+1):\n",
    "    if i%2==0:\n",
    "        ham+=sp.simplify(fermionI.subs({qn: qs[i], xn: xs[i], xdn: xdags[i]}).subs(potentialSubs))\n",
    "    else:\n",
    "        ham-=sp.simplify(fermionI.subs({qn: qs[i], xn: xs[i], xdn: xdags[i]}).subs(potentialSubs))\n",
    "ham=sp.simplify(ham.subs(aLat,aVal))\n",
    "ham"
   ]
  },
  {
   "cell_type": "code",
   "execution_count": 14,
   "metadata": {},
   "outputs": [
    {
     "data": {
      "text/latex": [
       "$\\displaystyle - \\chi^{\\dagger}_{0} \\chi_{0} - \\frac{\\chi^{\\dagger}_{0} \\chi_{1}}{2} - \\frac{\\chi^{\\dagger}_{1} \\chi_{0}}{2} + \\chi^{\\dagger}_{1} \\chi_{1} - \\frac{\\chi^{\\dagger}_{1} \\chi_{2}}{2} - \\frac{\\chi^{\\dagger}_{2} \\chi_{1}}{2} - \\chi^{\\dagger}_{2} \\chi_{2} - \\frac{\\chi^{\\dagger}_{2} \\chi_{3}}{2} - \\frac{\\chi^{\\dagger}_{3} \\chi_{2}}{2} + \\chi^{\\dagger}_{3} \\chi_{3} - \\frac{a^{\\dagger}_{0} a^{\\dagger}_{2}}{16} + \\frac{9 a^{\\dagger}_{0} a_{0}}{16} - \\frac{a^{\\dagger}_{0} a_{2}}{16} + \\frac{\\left(a^{\\dagger}_{0}\\right)^{2}}{16} - \\frac{a^{\\dagger}_{1} a^{\\dagger}_{3}}{16} + \\frac{5 a^{\\dagger}_{1} a_{1}}{8} - \\frac{a^{\\dagger}_{1} a_{3}}{16} + \\frac{\\left(a^{\\dagger}_{1}\\right)^{2}}{8} - \\frac{a^{\\dagger}_{2} a^{\\dagger}_{0}}{16} - \\frac{a^{\\dagger}_{2} a_{0}}{16} + \\frac{5 a^{\\dagger}_{2} a_{2}}{8} + \\frac{\\left(a^{\\dagger}_{2}\\right)^{2}}{8} - \\frac{a^{\\dagger}_{3} a^{\\dagger}_{1}}{16} - \\frac{a^{\\dagger}_{3} a_{1}}{16} + \\frac{9 a^{\\dagger}_{3} a_{3}}{16} + \\frac{\\left(a^{\\dagger}_{3}\\right)^{2}}{16} + \\frac{9 a_{0} a^{\\dagger}_{0}}{16} - \\frac{a_{0} a^{\\dagger}_{2}}{16} - \\frac{a_{0} a_{2}}{16} + \\frac{a_{0}^{2}}{16} + \\frac{5 a_{1} a^{\\dagger}_{1}}{8} - \\frac{a_{1} a^{\\dagger}_{3}}{16} - \\frac{a_{1} a_{3}}{16} + \\frac{a_{1}^{2}}{8} - \\frac{a_{2} a^{\\dagger}_{0}}{16} + \\frac{5 a_{2} a^{\\dagger}_{2}}{8} - \\frac{a_{2} a_{0}}{16} + \\frac{a_{2}^{2}}{8} - \\frac{a_{3} a^{\\dagger}_{1}}{16} + \\frac{9 a_{3} a^{\\dagger}_{3}}{16} - \\frac{a_{3} a_{1}}{16} + \\frac{a_{3}^{2}}{16}$"
      ],
      "text/plain": [
       "-\\chi^{\\dagger}_{0}*\\chi_{0} - \\chi^{\\dagger}_{0}*\\chi_{1}/2 - \\chi^{\\dagger}_{1}*\\chi_{0}/2 + \\chi^{\\dagger}_{1}*\\chi_{1} - \\chi^{\\dagger}_{1}*\\chi_{2}/2 - \\chi^{\\dagger}_{2}*\\chi_{1}/2 - \\chi^{\\dagger}_{2}*\\chi_{2} - \\chi^{\\dagger}_{2}*\\chi_{3}/2 - \\chi^{\\dagger}_{3}*\\chi_{2}/2 + \\chi^{\\dagger}_{3}*\\chi_{3} - a^{\\dagger}_{0}*a^{\\dagger}_{2}/16 + 9*a^{\\dagger}_{0}*a_{0}/16 - a^{\\dagger}_{0}*a_{2}/16 + a^{\\dagger}_{0}**2/16 - a^{\\dagger}_{1}*a^{\\dagger}_{3}/16 + 5*a^{\\dagger}_{1}*a_{1}/8 - a^{\\dagger}_{1}*a_{3}/16 + a^{\\dagger}_{1}**2/8 - a^{\\dagger}_{2}*a^{\\dagger}_{0}/16 - a^{\\dagger}_{2}*a_{0}/16 + 5*a^{\\dagger}_{2}*a_{2}/8 + a^{\\dagger}_{2}**2/8 - a^{\\dagger}_{3}*a^{\\dagger}_{1}/16 - a^{\\dagger}_{3}*a_{1}/16 + 9*a^{\\dagger}_{3}*a_{3}/16 + a^{\\dagger}_{3}**2/16 + 9*a_{0}*a^{\\dagger}_{0}/16 - a_{0}*a^{\\dagger}_{2}/16 - a_{0}*a_{2}/16 + a_{0}**2/16 + 5*a_{1}*a^{\\dagger}_{1}/8 - a_{1}*a^{\\dagger}_{3}/16 - a_{1}*a_{3}/16 + a_{1}**2/8 - a_{2}*a^{\\dagger}_{0}/16 + 5*a_{2}*a^{\\dagger}_{2}/8 - a_{2}*a_{0}/16 + a_{2}**2/8 - a_{3}*a^{\\dagger}_{1}/16 + 9*a_{3}*a^{\\dagger}_{3}/16 - a_{3}*a_{1}/16 + a_{3}**2/16"
      ]
     },
     "execution_count": 14,
     "metadata": {},
     "output_type": "execute_result"
    }
   ],
   "source": [
    "m=1\n",
    "\n",
    "HOdofSubs = {}\n",
    "#offset because of BC\n",
    "for i in range(1,N+1):\n",
    "    HOdofSubs[qs[i]] = 0.5*sp.sqrt(2/m)*(aops[i] + adags[i])\n",
    "    HOdofSubs[ps[i]] = complex(0,1)*sp.sqrt(2*m)*(adags[i] - aops[i])/2 \n",
    "\n",
    "hoHam=sp.expand(ham.subs(HOdofSubs))\n",
    "hoHam=sp.nsimplify(hoHam,tolerance=1e-8)\n",
    "hoHam"
   ]
  },
  {
   "cell_type": "code",
   "execution_count": 15,
   "metadata": {},
   "outputs": [
    {
     "name": "stdout",
     "output_type": "stream",
     "text": [
      "toHam timer took: 0.8087 seconds\n",
      "evals timer took: 0.0281 seconds\n",
      "Lambda =  2\n",
      "[-0.20793517+2.3420306e-08j -0.20793463+5.1042086e-09j\n",
      "  0.04206645+7.1001307e-09j  0.04206563-7.1215567e-09j\n",
      "  0.04206554-2.1054802e-10j  0.04206564-1.0077201e-08j\n",
      "  0.04206583-5.0142099e-09j  0.04206561-1.6517861e-08j\n",
      "  0.04206579+1.6105975e-08j  0.04206587+1.0045709e-09j]\n",
      "\n",
      "toHam timer took: 2.9633 seconds\n",
      "evals timer took: 0.0358 seconds\n",
      "Lambda =  3\n",
      "[-0.08112273-2.3380368e-08j  0.5010547 +2.4898526e-08j\n",
      "  0.62391347+2.1311823e-09j  0.5010537 +2.0337936e-08j\n",
      "  0.62391156-2.5714314e-08j  0.96554   -6.5442736e-09j\n",
      "  1.0832345 +6.6134098e-09j  1.0093178 +2.1927621e-08j\n",
      "  0.9655376 -8.8726262e-09j  1.0093127 -1.5163849e-08j]\n",
      "\n",
      "toHam timer took: 12.4039 seconds\n",
      "evals timer took: 0.1795 seconds\n",
      "Lambda =  4\n",
      "[-6.4390719e-05-9.5022001e-10j  1.0278510e+00+3.9929205e-08j\n",
      "  1.0466034e+00+2.1655687e-08j  8.9896494e-01+1.7519444e-08j\n",
      "  8.9896244e-01-1.6733281e-09j  1.0278454e+00-1.0380506e-08j\n",
      "  1.0465991e+00+2.5614799e-08j  1.2592794e+00-1.4597089e-08j\n",
      "  1.2862167e+00+3.0673736e-08j  1.2592747e+00+3.6170565e-08j]\n",
      "\n",
      "toHam timer took: 47.4008 seconds\n",
      "evals timer took: 0.2717 seconds\n",
      "Lambda =  5\n",
      "[-5.7285675e-04+2.8102919e-08j  1.0460932e+00-7.4738637e-08j\n",
      "  1.0465137e+00-2.2848326e-08j  1.0460916e+00+4.2884494e-08j\n",
      "  1.0465101e+00-3.0607225e-08j  1.2857124e+00-1.6494596e-08j\n",
      "  1.2850393e+00-4.9763724e-08j  1.2857075e+00+2.6626640e-08j\n",
      "  1.2850310e+00+2.0750697e-08j  1.6081877e+00+6.8576711e-08j]\n",
      "\n",
      "toHam timer took: 151.6570 seconds\n",
      "evals timer took: 0.8573 seconds\n",
      "Lambda =  6\n",
      "[-6.3291759e-07-1.7006508e-07j  1.0459385e+00-1.9143044e-08j\n",
      "  1.0466744e+00-3.0970568e-08j  1.2863070e+00-2.7677743e-08j\n",
      "  1.2844123e+00+3.2349362e-08j  1.0459383e+00+2.4260187e-08j\n",
      "  1.0466714e+00-6.3970447e-09j  1.2863004e+00+3.5266567e-08j\n",
      "  1.2843989e+00-2.7194517e-08j  2.0918624e+00+3.0273682e-08j]\n",
      "\n"
     ]
    }
   ],
   "source": [
    "for cutoff in [2,3,4,5,6]:\n",
    "    t=Timer('toHam')\n",
    "    t.start()\n",
    "    hamMat=convert_to_matrix(hoHam,cutoff,N,aops,adags,xs,xdags)\n",
    "    t.stop()\n",
    "    \n",
    "    t=Timer('evals')\n",
    "    t.start()\n",
    "    ens=scipy.sparse.linalg.eigs(hamMat,k=10,which='SM')[0]\n",
    "    t.stop()\n",
    "    \n",
    "    print(\"Lambda = \",cutoff)\n",
    "    print(ens)\n",
    "    print()"
   ]
  },
  {
   "cell_type": "code",
   "execution_count": 3,
   "metadata": {},
   "outputs": [],
   "source": [
    "e0raw=[-0.20793517, -0.081123, -6.4391*10e-5, -5.7286*10e-4, -6.3292*10e-7]"
   ]
  },
  {
   "cell_type": "code",
   "execution_count": 22,
   "metadata": {},
   "outputs": [
    {
     "data": {
      "image/png": "[encoded data removed]",
      "text/plain": [
       "<Figure size 720x576 with 1 Axes>"
      ]
     },
     "metadata": {
      "needs_background": "light"
     },
     "output_type": "display_data"
    }
   ],
   "source": [
    "import matplotlib.pyplot as plt\n",
    "\n",
    "import matplotlib \n",
    "#matplotlib.use(\"Agg\")\n",
    "\n",
    "fig, ax = plt.subplots()\n",
    "\n",
    "plt.style.use(\"paper.mplstyle\")\n",
    "\n",
    "plt.scatter([x for x in range(2,7)],[abs(en) for en in e0raw], c='black')\n",
    "plt.yscale('log')\n",
    "\n",
    "plt.xlabel('$\\\\Lambda$')\n",
    "plt.ylabel('$|E|$')\n",
    "\n",
    "plt.xlim(1.5,6.5)\n",
    "plt.ylim(1e-6,1e0)\n",
    "plt.yscale('log')\n",
    "\n",
    "ax.text(0.25, 0.07, 'PRELIMINARY', transform=ax.transAxes,\n",
    "        fontsize=40, color='red', alpha=0.5,\n",
    "        ha='center', va='center', rotation='0')\n",
    "plt.savefig('PLOTS/WZ_4site_vq1.pdf',bbox_inches='tight')"
   ]
  },
  {
   "cell_type": "code",
   "execution_count": null,
   "metadata": {},
   "outputs": [],
   "source": []
  },
  {
   "cell_type": "code",
   "execution_count": null,
   "metadata": {},
   "outputs": [],
   "source": []
  },
  {
   "cell_type": "code",
   "execution_count": null,
   "metadata": {},
   "outputs": [],
   "source": []
  },
  {
   "cell_type": "code",
   "execution_count": null,
   "metadata": {},
   "outputs": [],
   "source": []
  },
  {
   "cell_type": "code",
   "execution_count": null,
   "metadata": {},
   "outputs": [],
   "source": []
  },
  {
   "cell_type": "code",
   "execution_count": null,
   "metadata": {},
   "outputs": [],
   "source": [
    "cutoff=4\n",
    "t=Timer('toHam')\n",
    "t.start()\n",
    "hamMat=convert_to_matrix(hoHam,cutoff,N,aops,adags,xs,xdags)\n",
    "t.stop()"
   ]
  },
  {
   "cell_type": "code",
   "execution_count": 10,
   "metadata": {},
   "outputs": [],
   "source": [
    "eigSys=np.linalg.eig(hamMat.toarray())"
   ]
  },
  {
   "cell_type": "code",
   "execution_count": 11,
   "metadata": {},
   "outputs": [
    {
     "data": {
      "text/plain": [
       "array([-0.00145834-1.03461085e-29j,  0.82856256+8.47187861e-24j,\n",
       "        0.82856256+2.16843867e-18j,  1.0798419 -6.61307837e-21j,\n",
       "        1.0798419 +2.84874121e-17j,  1.1880103 +1.55096365e-25j,\n",
       "        1.1880103 +3.75364079e-25j,  1.1880103 +1.38750589e-17j,\n",
       "        1.1880103 +2.73882710e-17j,  1.3857785 +7.23263674e-33j],\n",
       "      dtype=complex64)"
      ]
     },
     "execution_count": 11,
     "metadata": {},
     "output_type": "execute_result"
    }
   ],
   "source": [
    "np.sort(eigSys[0])[0:10]"
   ]
  },
  {
   "cell_type": "code",
   "execution_count": null,
   "metadata": {},
   "outputs": [],
   "source": []
  }
 ],
 "metadata": {
  "kernelspec": {
   "display_name": "Python 3",
   "language": "python",
   "name": "python3"
  },
  "language_info": {
   "codemirror_mode": {
    "name": "ipython",
    "version": 3
   },
   "file_extension": ".py",
   "mimetype": "text/x-python",
   "name": "python",
   "nbconvert_exporter": "python",
   "pygments_lexer": "ipython3",
   "version": "3.9.1"
  }
 },
 "nbformat": 4,
 "nbformat_minor": 5
}
