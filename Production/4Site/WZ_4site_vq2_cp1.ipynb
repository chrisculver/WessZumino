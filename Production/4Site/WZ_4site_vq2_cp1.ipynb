{
 "cells": [
  {
   "cell_type": "markdown",
   "metadata": {},
   "source": [
    "# Wess Zumino \n",
    "\n",
    "## N=1 in 1+1\n",
    "\n",
    "The Hamiltonian with a central difference for the derivative is given by \n",
    "\n",
    "\\begin{align}\n",
    "    H=\\sum_n&\\left[ \\frac{p_n^2}{2a} + \\frac{a}{2}\\left(\\frac{\\phi_{n+1}-\\phi_{n-1}}{2a}\\right)^2+\\frac{a}{2}V(\\phi_n)^2\n",
    "            +aV(\\phi_n)\\frac{\\phi_{n+1}-\\phi_{n-1}}{2a} \\right. \\nonumber \\\\\n",
    "            &\\left.+(-1)^nV'(\\phi_n)\\left(\\chi_n^{\\dagger}\\chi_n-\\frac{1}{2}\\right)\n",
    "            +\\frac{1}{2a}\\left(\\chi_n^{\\dagger}\\chi_{n+1}+\\chi_{n+1}^{\\dagger}\\chi_n\\right) \\right],\n",
    "\\end{align}"
   ]
  },
  {
   "cell_type": "code",
   "execution_count": 1,
   "metadata": {},
   "outputs": [],
   "source": [
    "import sympy as sp\n",
    "from ham_to_sparse_matrix import *\n",
    "from constants import *\n",
    "import scipy.sparse.linalg"
   ]
  },
  {
   "cell_type": "code",
   "execution_count": 2,
   "metadata": {},
   "outputs": [],
   "source": [
    "bosonNI=sp.expand( pn**2/(2*aLat) + (aLat/2)*((qnP1-qnM1)/(2*aLat))**2 )\n",
    "bosonI=sp.expand( (aLat/2)*V(qn)**2 + aLat*V(qn)*(qnP1-qnM1)/(4*aLat) + aLat*(qnP1-qnM1)*V(qn)/(4*aLat) )\n",
    "fermionNI=sp.expand( -(xdnP1*xn+xdn*xnP1)/(2*aLat) )\n",
    "fermionI=sp.expand( sp.diff(V(qn),qn)*(xdn*xn-(1/2)) )"
   ]
  },
  {
   "cell_type": "code",
   "execution_count": 3,
   "metadata": {},
   "outputs": [
    {
     "data": {
      "text/latex": [
       "$\\displaystyle \\frac{a V^{2}{\\left(q_{n} \\right)}}{2} + \\frac{q_{n+1} V{\\left(q_{n} \\right)}}{4} - \\frac{q_{n-1} V{\\left(q_{n} \\right)}}{4} + \\frac{V{\\left(q_{n} \\right)} q_{n+1}}{4} - \\frac{V{\\left(q_{n} \\right)} q_{n-1}}{4} + \\frac{p_{n}^{2}}{2 a} - \\frac{q_{n+1} q_{n-1}}{8 a} + \\frac{q_{n+1}^{2}}{8 a} - \\frac{q_{n-1} q_{n+1}}{8 a} + \\frac{q_{n-1}^{2}}{8 a}$"
      ],
      "text/plain": [
       "a*V(q_{n})**2/2 + q_{n+1}*V(q_{n})/4 - q_{n-1}*V(q_{n})/4 + V(q_{n})*q_{n+1}/4 - V(q_{n})*q_{n-1}/4 + p_{n}**2/(2*a) - q_{n+1}*q_{n-1}/(8*a) + q_{n+1}**2/(8*a) - q_{n-1}*q_{n+1}/(8*a) + q_{n-1}**2/(8*a)"
      ]
     },
     "execution_count": 3,
     "metadata": {},
     "output_type": "execute_result"
    }
   ],
   "source": [
    "bosonNI+bosonI"
   ]
  },
  {
   "cell_type": "code",
   "execution_count": 4,
   "metadata": {},
   "outputs": [
    {
     "data": {
      "text/latex": [
       "$\\displaystyle - 0.5 \\frac{d}{d q_{n}} V{\\left(q_{n} \\right)} + \\frac{d}{d q_{n}} V{\\left(q_{n} \\right)} \\chi^{\\dagger}_{n} \\chi_{n} - \\frac{\\chi^{\\dagger}_{n+1} \\chi_{n}}{2 a} - \\frac{\\chi^{\\dagger}_{n} \\chi_{n+1}}{2 a}$"
      ],
      "text/plain": [
       "-0.5*Derivative(V(q_{n}), q_{n}) + Derivative(V(q_{n}), q_{n})*\\chi^{\\dagger}_{n}*\\chi_{n} - \\chi^{\\dagger}_{n+1}*\\chi_{n}/(2*a) - \\chi^{\\dagger}_{n}*\\chi_{n+1}/(2*a)"
      ]
     },
     "execution_count": 4,
     "metadata": {},
     "output_type": "execute_result"
    }
   ],
   "source": [
    "fermionNI + fermionI"
   ]
  },
  {
   "cell_type": "code",
   "execution_count": 5,
   "metadata": {},
   "outputs": [],
   "source": [
    "N=4\n",
    "aVal=1\n",
    "\n",
    "# depends on finite-difference method\n",
    "qs=[SiteSymbol('q',str(i)) for i in range(-1,N+1,1)]\n",
    "# maybe make qs a normal site list\n",
    "# and make an extra boundaryQs list for q[-1], q[N]\n",
    "# counting would be normal computer science way for rest of code.\n",
    "\n",
    "ps=[SiteSymbol('p',str(i)) for i in range(-1,N+1,1)] # don't really need extras\n",
    "aops=[SiteSymbol('a',str(i)) for i in range(-1,N+1,1)]\n",
    "adags=[SiteSymbol('a^{\\dagger}',str(i)) for i in range(-1,N+1,1)]\n",
    "xs=[SiteSymbol('\\chi',str(i)) for i in range(-1,N+1,1)]\n",
    "xdags=[SiteSymbol('\\chi^{\\dagger}',str(i)) for i in range(-1,N+1,1)]\n",
    "\n",
    "# note this is exactly hardcoded for this finite difference method.\n",
    "bcType = 'periodic'\n",
    "boundaryConditions = {}\n",
    "if bcType == 'periodic':\n",
    "    boundaryConditions = {qs[0]: qs[N], qs[N+1]: qs[1],\n",
    "                          xs[0]: -xs[N], xs[N+1]: -xs[1], \n",
    "                          xdags[0]: -xdags[N],  xdags[N+1]: -xdags[1]\n",
    "                         }\n",
    "    \n",
    "elif bcType == 'dirichlet':\n",
    "    boundaryConditions = { qs[0]: 0, qs[N+1]: 0,\n",
    "                          xs[0]: 0, xs[N+1]: 0,\n",
    "                          xdags[0]: 0, xdags[N+1]:0\n",
    "                         }"
   ]
  },
  {
   "cell_type": "code",
   "execution_count": 6,
   "metadata": {},
   "outputs": [
    {
     "data": {
      "text/latex": [
       "$\\displaystyle \\frac{a V^{2}{\\left(q_{n} \\right)}}{2} + \\frac{q_{n+1} V{\\left(q_{n} \\right)}}{4} - \\frac{q_{n-1} V{\\left(q_{n} \\right)}}{4} + \\frac{V{\\left(q_{n} \\right)} q_{n+1}}{4} - \\frac{V{\\left(q_{n} \\right)} q_{n-1}}{4} - 0.5 \\frac{d}{d q_{n}} V{\\left(q_{n} \\right)} + \\frac{d}{d q_{n}} V{\\left(q_{n} \\right)} \\chi^{\\dagger}_{n} \\chi_{n} - \\frac{\\chi^{\\dagger}_{n+1} \\chi_{n}}{2 a} - \\frac{\\chi^{\\dagger}_{n} \\chi_{n+1}}{2 a} + \\frac{p_{n}^{2}}{2 a} - \\frac{q_{n+1} q_{n-1}}{8 a} + \\frac{q_{n+1}^{2}}{8 a} - \\frac{q_{n-1} q_{n+1}}{8 a} + \\frac{q_{n-1}^{2}}{8 a}$"
      ],
      "text/plain": [
       "a*V(q_{n})**2/2 + q_{n+1}*V(q_{n})/4 - q_{n-1}*V(q_{n})/4 + V(q_{n})*q_{n+1}/4 - V(q_{n})*q_{n-1}/4 - 0.5*Derivative(V(q_{n}), q_{n}) + Derivative(V(q_{n}), q_{n})*\\chi^{\\dagger}_{n}*\\chi_{n} - \\chi^{\\dagger}_{n+1}*\\chi_{n}/(2*a) - \\chi^{\\dagger}_{n}*\\chi_{n+1}/(2*a) + p_{n}**2/(2*a) - q_{n+1}*q_{n-1}/(8*a) + q_{n+1}**2/(8*a) - q_{n-1}*q_{n+1}/(8*a) + q_{n-1}**2/(8*a)"
      ]
     },
     "execution_count": 6,
     "metadata": {},
     "output_type": "execute_result"
    }
   ],
   "source": [
    "totHam=bosonNI+bosonI+fermionNI+fermionI\n",
    "totHam"
   ]
  },
  {
   "cell_type": "code",
   "execution_count": 7,
   "metadata": {},
   "outputs": [
    {
     "data": {
      "text/latex": [
       "$\\displaystyle \\frac{8 - 2 \\chi^{\\dagger}_{0} \\chi_{1} + 2 \\chi^{\\dagger}_{0} \\chi_{3} - 2 \\chi^{\\dagger}_{1} \\chi_{0} - 2 \\chi^{\\dagger}_{1} \\chi_{2} - 2 \\chi^{\\dagger}_{2} \\chi_{1} - 2 \\chi^{\\dagger}_{2} \\chi_{3} + 2 \\chi^{\\dagger}_{3} \\chi_{0} - 2 \\chi^{\\dagger}_{3} \\chi_{2} + 2 p_{0}^{2} + 2 p_{1}^{2} + 2 p_{2}^{2} + 2 p_{3}^{2} + 4 q_{0} - 8 q_{0} \\chi^{\\dagger}_{0} \\chi_{0} - q_{0} q_{1}^{2} - q_{0} q_{2} + q_{0} q_{3}^{2} + 5 q_{0}^{2} + q_{0}^{2} q_{1} - q_{0}^{2} q_{3} + 2 q_{0}^{4} - 4.0 q_{1} + 8 q_{1} \\chi^{\\dagger}_{1} \\chi_{1} + q_{1} q_{0}^{2} - q_{1} q_{2}^{2} - q_{1} q_{3} + 5 q_{1}^{2} - q_{1}^{2} q_{0} + q_{1}^{2} q_{2} + 2 q_{1}^{4} + 4 q_{2} - 8 q_{2} \\chi^{\\dagger}_{2} \\chi_{2} - q_{2} q_{0} + q_{2} q_{1}^{2} - q_{2} q_{3}^{2} + 5 q_{2}^{2} - q_{2}^{2} q_{1} + q_{2}^{2} q_{3} + 2 q_{2}^{4} - 4.0 q_{3} + 8 q_{3} \\chi^{\\dagger}_{3} \\chi_{3} - q_{3} q_{0}^{2} - q_{3} q_{1} + q_{3} q_{2}^{2} + 5 q_{3}^{2} + q_{3}^{2} q_{0} - q_{3}^{2} q_{2} + 2 q_{3}^{4}}{4}$"
      ],
      "text/plain": [
       "(8 - 2*\\chi^{\\dagger}_{0}*\\chi_{1} + 2*\\chi^{\\dagger}_{0}*\\chi_{3} - 2*\\chi^{\\dagger}_{1}*\\chi_{0} - 2*\\chi^{\\dagger}_{1}*\\chi_{2} - 2*\\chi^{\\dagger}_{2}*\\chi_{1} - 2*\\chi^{\\dagger}_{2}*\\chi_{3} + 2*\\chi^{\\dagger}_{3}*\\chi_{0} - 2*\\chi^{\\dagger}_{3}*\\chi_{2} + 2*p_{0}**2 + 2*p_{1}**2 + 2*p_{2}**2 + 2*p_{3}**2 + 4*q_{0} - 8*q_{0}*\\chi^{\\dagger}_{0}*\\chi_{0} - q_{0}*q_{1}**2 - q_{0}*q_{2} + q_{0}*q_{3}**2 + 5*q_{0}**2 + q_{0}**2*q_{1} - q_{0}**2*q_{3} + 2*q_{0}**4 - 4.0*q_{1} + 8*q_{1}*\\chi^{\\dagger}_{1}*\\chi_{1} + q_{1}*q_{0}**2 - q_{1}*q_{2}**2 - q_{1}*q_{3} + 5*q_{1}**2 - q_{1}**2*q_{0} + q_{1}**2*q_{2} + 2*q_{1}**4 + 4*q_{2} - 8*q_{2}*\\chi^{\\dagger}_{2}*\\chi_{2} - q_{2}*q_{0} + q_{2}*q_{1}**2 - q_{2}*q_{3}**2 + 5*q_{2}**2 - q_{2}**2*q_{1} + q_{2}**2*q_{3} + 2*q_{2}**4 - 4.0*q_{3} + 8*q_{3}*\\chi^{\\dagger}_{3}*\\chi_{3} - q_{3}*q_{0}**2 - q_{3}*q_{1} + q_{3}*q_{2}**2 + 5*q_{3}**2 + q_{3}**2*q_{0} - q_{3}**2*q_{2} + 2*q_{3}**4)/4"
      ]
     },
     "execution_count": 7,
     "metadata": {},
     "output_type": "execute_result"
    }
   ],
   "source": [
    "ham=0\n",
    "\n",
    "c=1\n",
    "c2=1\n",
    "\n",
    "for i in range(1,N+1):\n",
    "    ham+=(bosonNI+bosonI+fermionNI).subs({\n",
    "        pn: ps[i],\n",
    "        qn: qs[i], qnP1: qs[i+1], qnM1: qs[i-1],\n",
    "        xn: xs[i], xnP1: xs[i+1],\n",
    "        xdn: xdags[i], xdnP1: xdags[i+1]\n",
    "    }).subs(boundaryConditions)\n",
    "    \n",
    "# ham.subs(boundaryConditions).doit() # this doesn't work?\n",
    "\n",
    "\n",
    "def potential(n):\n",
    "    return c + c2*qs[n]*qs[n]\n",
    "\n",
    "potentialSubs={}\n",
    "for n in range(1,N+1):\n",
    "    potentialSubs[V(qs[n])]=potential(n)\n",
    "\n",
    "ham=sp.simplify(ham.subs(potentialSubs).subs(aLat,aVal))\n",
    "\n",
    "for i in range(1,N+1):\n",
    "    if i%2==0:\n",
    "        ham+=sp.simplify(fermionI.subs({qn: qs[i], xn: xs[i], xdn: xdags[i]}).subs(potentialSubs))\n",
    "    else:\n",
    "        ham-=sp.simplify(fermionI.subs({qn: qs[i], xn: xs[i], xdn: xdags[i]}).subs(potentialSubs))\n",
    "ham=sp.simplify(ham.subs(aLat,aVal))\n",
    "ham"
   ]
  },
  {
   "cell_type": "code",
   "execution_count": 8,
   "metadata": {},
   "outputs": [
    {
     "data": {
      "text/latex": [
       "$\\displaystyle 2 - \\frac{\\chi^{\\dagger}_{0} \\chi_{1}}{2} + \\frac{\\chi^{\\dagger}_{0} \\chi_{3}}{2} - \\frac{\\chi^{\\dagger}_{1} \\chi_{0}}{2} - \\frac{\\chi^{\\dagger}_{1} \\chi_{2}}{2} - \\frac{\\chi^{\\dagger}_{2} \\chi_{1}}{2} - \\frac{\\chi^{\\dagger}_{2} \\chi_{3}}{2} + \\frac{\\chi^{\\dagger}_{3} \\chi_{0}}{2} - \\frac{\\chi^{\\dagger}_{3} \\chi_{2}}{2} + \\frac{38613965 a^{\\dagger}_{0}}{54608393} - \\frac{131836323 a^{\\dagger}_{0} \\chi^{\\dagger}_{0} \\chi_{0}}{93222358} - \\frac{3998607 a^{\\dagger}_{0} a^{\\dagger}_{1} a_{1}}{45239074} - \\frac{3998607 a^{\\dagger}_{0} \\left(a^{\\dagger}_{1}\\right)^{2}}{45239074} - \\frac{a^{\\dagger}_{0} a^{\\dagger}_{2}}{8} + \\frac{3998607 a^{\\dagger}_{0} a^{\\dagger}_{3} a_{3}}{45239074} + \\frac{3998607 a^{\\dagger}_{0} \\left(a^{\\dagger}_{3}\\right)^{2}}{45239074} + \\frac{7 a^{\\dagger}_{0} a_{0}}{8} + \\frac{a^{\\dagger}_{0} a_{0} a^{\\dagger}_{0} a_{0}}{8} + \\frac{a^{\\dagger}_{0} a_{0} \\left(a^{\\dagger}_{0}\\right)^{2}}{8} + \\frac{3998607 a^{\\dagger}_{0} a_{0} a^{\\dagger}_{1}}{45239074} - \\frac{3998607 a^{\\dagger}_{0} a_{0} a^{\\dagger}_{3}}{45239074} + \\frac{3998607 a^{\\dagger}_{0} a_{0} a_{1}}{45239074} - \\frac{3998607 a^{\\dagger}_{0} a_{0} a_{3}}{45239074} + \\frac{a^{\\dagger}_{0} a_{0}^{2} a^{\\dagger}_{0}}{8} + \\frac{a^{\\dagger}_{0} a_{0}^{3}}{8} - \\frac{3998607 a^{\\dagger}_{0} a_{1} a^{\\dagger}_{1}}{45239074} - \\frac{3998607 a^{\\dagger}_{0} a_{1}^{2}}{45239074} - \\frac{a^{\\dagger}_{0} a_{2}}{8} + \\frac{3998607 a^{\\dagger}_{0} a_{3} a^{\\dagger}_{3}}{45239074} + \\frac{3998607 a^{\\dagger}_{0} a_{3}^{2}}{45239074} + \\frac{3 \\left(a^{\\dagger}_{0}\\right)^{2}}{8} + \\frac{3998607 \\left(a^{\\dagger}_{0}\\right)^{2} a^{\\dagger}_{1}}{45239074} - \\frac{3998607 \\left(a^{\\dagger}_{0}\\right)^{2} a^{\\dagger}_{3}}{45239074} + \\frac{\\left(a^{\\dagger}_{0}\\right)^{2} a_{0} a^{\\dagger}_{0}}{8} + \\frac{\\left(a^{\\dagger}_{0}\\right)^{2} a_{0}^{2}}{8} + \\frac{3998607 \\left(a^{\\dagger}_{0}\\right)^{2} a_{1}}{45239074} - \\frac{3998607 \\left(a^{\\dagger}_{0}\\right)^{2} a_{3}}{45239074} + \\frac{\\left(a^{\\dagger}_{0}\\right)^{3} a_{0}}{8} + \\frac{\\left(a^{\\dagger}_{0}\\right)^{4}}{8} - \\frac{38613965 a^{\\dagger}_{1}}{54608393} + \\frac{131836323 a^{\\dagger}_{1} \\chi^{\\dagger}_{1} \\chi_{1}}{93222358} + \\frac{3998607 a^{\\dagger}_{1} a^{\\dagger}_{0} a_{0}}{45239074} + \\frac{3998607 a^{\\dagger}_{1} \\left(a^{\\dagger}_{0}\\right)^{2}}{45239074} - \\frac{3998607 a^{\\dagger}_{1} a^{\\dagger}_{2} a_{2}}{45239074} - \\frac{3998607 a^{\\dagger}_{1} \\left(a^{\\dagger}_{2}\\right)^{2}}{45239074} - \\frac{a^{\\dagger}_{1} a^{\\dagger}_{3}}{8} + \\frac{3998607 a^{\\dagger}_{1} a_{0} a^{\\dagger}_{0}}{45239074} + \\frac{3998607 a^{\\dagger}_{1} a_{0}^{2}}{45239074} + \\frac{7 a^{\\dagger}_{1} a_{1}}{8} - \\frac{3998607 a^{\\dagger}_{1} a_{1} a^{\\dagger}_{0}}{45239074} + \\frac{a^{\\dagger}_{1} a_{1} a^{\\dagger}_{1} a_{1}}{8} + \\frac{a^{\\dagger}_{1} a_{1} \\left(a^{\\dagger}_{1}\\right)^{2}}{8} + \\frac{3998607 a^{\\dagger}_{1} a_{1} a^{\\dagger}_{2}}{45239074} - \\frac{3998607 a^{\\dagger}_{1} a_{1} a_{0}}{45239074} + \\frac{3998607 a^{\\dagger}_{1} a_{1} a_{2}}{45239074} + \\frac{a^{\\dagger}_{1} a_{1}^{2} a^{\\dagger}_{1}}{8} + \\frac{a^{\\dagger}_{1} a_{1}^{3}}{8} - \\frac{3998607 a^{\\dagger}_{1} a_{2} a^{\\dagger}_{2}}{45239074} - \\frac{3998607 a^{\\dagger}_{1} a_{2}^{2}}{45239074} - \\frac{a^{\\dagger}_{1} a_{3}}{8} + \\frac{3 \\left(a^{\\dagger}_{1}\\right)^{2}}{8} - \\frac{3998607 \\left(a^{\\dagger}_{1}\\right)^{2} a^{\\dagger}_{0}}{45239074} + \\frac{3998607 \\left(a^{\\dagger}_{1}\\right)^{2} a^{\\dagger}_{2}}{45239074} - \\frac{3998607 \\left(a^{\\dagger}_{1}\\right)^{2} a_{0}}{45239074} + \\frac{\\left(a^{\\dagger}_{1}\\right)^{2} a_{1} a^{\\dagger}_{1}}{8} + \\frac{\\left(a^{\\dagger}_{1}\\right)^{2} a_{1}^{2}}{8} + \\frac{3998607 \\left(a^{\\dagger}_{1}\\right)^{2} a_{2}}{45239074} + \\frac{\\left(a^{\\dagger}_{1}\\right)^{3} a_{1}}{8} + \\frac{\\left(a^{\\dagger}_{1}\\right)^{4}}{8} + \\frac{38613965 a^{\\dagger}_{2}}{54608393} - \\frac{131836323 a^{\\dagger}_{2} \\chi^{\\dagger}_{2} \\chi_{2}}{93222358} - \\frac{a^{\\dagger}_{2} a^{\\dagger}_{0}}{8} + \\frac{3998607 a^{\\dagger}_{2} a^{\\dagger}_{1} a_{1}}{45239074} + \\frac{3998607 a^{\\dagger}_{2} \\left(a^{\\dagger}_{1}\\right)^{2}}{45239074} - \\frac{3998607 a^{\\dagger}_{2} a^{\\dagger}_{3} a_{3}}{45239074} - \\frac{3998607 a^{\\dagger}_{2} \\left(a^{\\dagger}_{3}\\right)^{2}}{45239074} - \\frac{a^{\\dagger}_{2} a_{0}}{8} + \\frac{3998607 a^{\\dagger}_{2} a_{1} a^{\\dagger}_{1}}{45239074} + \\frac{3998607 a^{\\dagger}_{2} a_{1}^{2}}{45239074} + \\frac{7 a^{\\dagger}_{2} a_{2}}{8} - \\frac{3998607 a^{\\dagger}_{2} a_{2} a^{\\dagger}_{1}}{45239074} + \\frac{a^{\\dagger}_{2} a_{2} a^{\\dagger}_{2} a_{2}}{8} + \\frac{a^{\\dagger}_{2} a_{2} \\left(a^{\\dagger}_{2}\\right)^{2}}{8} + \\frac{3998607 a^{\\dagger}_{2} a_{2} a^{\\dagger}_{3}}{45239074} - \\frac{3998607 a^{\\dagger}_{2} a_{2} a_{1}}{45239074} + \\frac{3998607 a^{\\dagger}_{2} a_{2} a_{3}}{45239074} + \\frac{a^{\\dagger}_{2} a_{2}^{2} a^{\\dagger}_{2}}{8} + \\frac{a^{\\dagger}_{2} a_{2}^{3}}{8} - \\frac{3998607 a^{\\dagger}_{2} a_{3} a^{\\dagger}_{3}}{45239074} - \\frac{3998607 a^{\\dagger}_{2} a_{3}^{2}}{45239074} + \\frac{3 \\left(a^{\\dagger}_{2}\\right)^{2}}{8} - \\frac{3998607 \\left(a^{\\dagger}_{2}\\right)^{2} a^{\\dagger}_{1}}{45239074} + \\frac{3998607 \\left(a^{\\dagger}_{2}\\right)^{2} a^{\\dagger}_{3}}{45239074} - \\frac{3998607 \\left(a^{\\dagger}_{2}\\right)^{2} a_{1}}{45239074} + \\frac{\\left(a^{\\dagger}_{2}\\right)^{2} a_{2} a^{\\dagger}_{2}}{8} + \\frac{\\left(a^{\\dagger}_{2}\\right)^{2} a_{2}^{2}}{8} + \\frac{3998607 \\left(a^{\\dagger}_{2}\\right)^{2} a_{3}}{45239074} + \\frac{\\left(a^{\\dagger}_{2}\\right)^{3} a_{2}}{8} + \\frac{\\left(a^{\\dagger}_{2}\\right)^{4}}{8} - \\frac{38613965 a^{\\dagger}_{3}}{54608393} + \\frac{131836323 a^{\\dagger}_{3} \\chi^{\\dagger}_{3} \\chi_{3}}{93222358} - \\frac{3998607 a^{\\dagger}_{3} a^{\\dagger}_{0} a_{0}}{45239074} - \\frac{3998607 a^{\\dagger}_{3} \\left(a^{\\dagger}_{0}\\right)^{2}}{45239074} - \\frac{a^{\\dagger}_{3} a^{\\dagger}_{1}}{8} + \\frac{3998607 a^{\\dagger}_{3} a^{\\dagger}_{2} a_{2}}{45239074} + \\frac{3998607 a^{\\dagger}_{3} \\left(a^{\\dagger}_{2}\\right)^{2}}{45239074} - \\frac{3998607 a^{\\dagger}_{3} a_{0} a^{\\dagger}_{0}}{45239074} - \\frac{3998607 a^{\\dagger}_{3} a_{0}^{2}}{45239074} - \\frac{a^{\\dagger}_{3} a_{1}}{8} + \\frac{3998607 a^{\\dagger}_{3} a_{2} a^{\\dagger}_{2}}{45239074} + \\frac{3998607 a^{\\dagger}_{3} a_{2}^{2}}{45239074} + \\frac{7 a^{\\dagger}_{3} a_{3}}{8} + \\frac{3998607 a^{\\dagger}_{3} a_{3} a^{\\dagger}_{0}}{45239074} - \\frac{3998607 a^{\\dagger}_{3} a_{3} a^{\\dagger}_{2}}{45239074} + \\frac{a^{\\dagger}_{3} a_{3} a^{\\dagger}_{3} a_{3}}{8} + \\frac{a^{\\dagger}_{3} a_{3} \\left(a^{\\dagger}_{3}\\right)^{2}}{8} + \\frac{3998607 a^{\\dagger}_{3} a_{3} a_{0}}{45239074} - \\frac{3998607 a^{\\dagger}_{3} a_{3} a_{2}}{45239074} + \\frac{a^{\\dagger}_{3} a_{3}^{2} a^{\\dagger}_{3}}{8} + \\frac{a^{\\dagger}_{3} a_{3}^{3}}{8} + \\frac{3 \\left(a^{\\dagger}_{3}\\right)^{2}}{8} + \\frac{3998607 \\left(a^{\\dagger}_{3}\\right)^{2} a^{\\dagger}_{0}}{45239074} - \\frac{3998607 \\left(a^{\\dagger}_{3}\\right)^{2} a^{\\dagger}_{2}}{45239074} + \\frac{3998607 \\left(a^{\\dagger}_{3}\\right)^{2} a_{0}}{45239074} - \\frac{3998607 \\left(a^{\\dagger}_{3}\\right)^{2} a_{2}}{45239074} + \\frac{\\left(a^{\\dagger}_{3}\\right)^{2} a_{3} a^{\\dagger}_{3}}{8} + \\frac{\\left(a^{\\dagger}_{3}\\right)^{2} a_{3}^{2}}{8} + \\frac{\\left(a^{\\dagger}_{3}\\right)^{3} a_{3}}{8} + \\frac{\\left(a^{\\dagger}_{3}\\right)^{4}}{8} + \\frac{38613965 a_{0}}{54608393} - \\frac{131836323 a_{0} \\chi^{\\dagger}_{0} \\chi_{0}}{93222358} + \\frac{7 a_{0} a^{\\dagger}_{0}}{8} + \\frac{3998607 a_{0} a^{\\dagger}_{0} a^{\\dagger}_{1}}{45239074} - \\frac{3998607 a_{0} a^{\\dagger}_{0} a^{\\dagger}_{3}}{45239074} + \\frac{a_{0} a^{\\dagger}_{0} a_{0} a^{\\dagger}_{0}}{8} + \\frac{a_{0} a^{\\dagger}_{0} a_{0}^{2}}{8} + \\frac{3998607 a_{0} a^{\\dagger}_{0} a_{1}}{45239074} - \\frac{3998607 a_{0} a^{\\dagger}_{0} a_{3}}{45239074} + \\frac{a_{0} \\left(a^{\\dagger}_{0}\\right)^{2} a_{0}}{8} + \\frac{a_{0} \\left(a^{\\dagger}_{0}\\right)^{3}}{8} - \\frac{3998607 a_{0} a^{\\dagger}_{1} a_{1}}{45239074} - \\frac{3998607 a_{0} \\left(a^{\\dagger}_{1}\\right)^{2}}{45239074} - \\frac{a_{0} a^{\\dagger}_{2}}{8} + \\frac{3998607 a_{0} a^{\\dagger}_{3} a_{3}}{45239074} + \\frac{3998607 a_{0} \\left(a^{\\dagger}_{3}\\right)^{2}}{45239074} - \\frac{3998607 a_{0} a_{1} a^{\\dagger}_{1}}{45239074} - \\frac{3998607 a_{0} a_{1}^{2}}{45239074} - \\frac{a_{0} a_{2}}{8} + \\frac{3998607 a_{0} a_{3} a^{\\dagger}_{3}}{45239074} + \\frac{3998607 a_{0} a_{3}^{2}}{45239074} + \\frac{3 a_{0}^{2}}{8} + \\frac{a_{0}^{2} a^{\\dagger}_{0} a_{0}}{8} + \\frac{a_{0}^{2} \\left(a^{\\dagger}_{0}\\right)^{2}}{8} + \\frac{3998607 a_{0}^{2} a^{\\dagger}_{1}}{45239074} - \\frac{3998607 a_{0}^{2} a^{\\dagger}_{3}}{45239074} + \\frac{3998607 a_{0}^{2} a_{1}}{45239074} - \\frac{3998607 a_{0}^{2} a_{3}}{45239074} + \\frac{a_{0}^{3} a^{\\dagger}_{0}}{8} + \\frac{a_{0}^{4}}{8} - \\frac{38613965 a_{1}}{54608393} + \\frac{131836323 a_{1} \\chi^{\\dagger}_{1} \\chi_{1}}{93222358} + \\frac{3998607 a_{1} a^{\\dagger}_{0} a_{0}}{45239074} + \\frac{3998607 a_{1} \\left(a^{\\dagger}_{0}\\right)^{2}}{45239074} + \\frac{7 a_{1} a^{\\dagger}_{1}}{8} - \\frac{3998607 a_{1} a^{\\dagger}_{1} a^{\\dagger}_{0}}{45239074} + \\frac{3998607 a_{1} a^{\\dagger}_{1} a^{\\dagger}_{2}}{45239074} - \\frac{3998607 a_{1} a^{\\dagger}_{1} a_{0}}{45239074} + \\frac{a_{1} a^{\\dagger}_{1} a_{1} a^{\\dagger}_{1}}{8} + \\frac{a_{1} a^{\\dagger}_{1} a_{1}^{2}}{8} + \\frac{3998607 a_{1} a^{\\dagger}_{1} a_{2}}{45239074} + \\frac{a_{1} \\left(a^{\\dagger}_{1}\\right)^{2} a_{1}}{8} + \\frac{a_{1} \\left(a^{\\dagger}_{1}\\right)^{3}}{8} - \\frac{3998607 a_{1} a^{\\dagger}_{2} a_{2}}{45239074} - \\frac{3998607 a_{1} \\left(a^{\\dagger}_{2}\\right)^{2}}{45239074} - \\frac{a_{1} a^{\\dagger}_{3}}{8} + \\frac{3998607 a_{1} a_{0} a^{\\dagger}_{0}}{45239074} + \\frac{3998607 a_{1} a_{0}^{2}}{45239074} - \\frac{3998607 a_{1} a_{2} a^{\\dagger}_{2}}{45239074} - \\frac{3998607 a_{1} a_{2}^{2}}{45239074} - \\frac{a_{1} a_{3}}{8} + \\frac{3 a_{1}^{2}}{8} - \\frac{3998607 a_{1}^{2} a^{\\dagger}_{0}}{45239074} + \\frac{a_{1}^{2} a^{\\dagger}_{1} a_{1}}{8} + \\frac{a_{1}^{2} \\left(a^{\\dagger}_{1}\\right)^{2}}{8} + \\frac{3998607 a_{1}^{2} a^{\\dagger}_{2}}{45239074} - \\frac{3998607 a_{1}^{2} a_{0}}{45239074} + \\frac{3998607 a_{1}^{2} a_{2}}{45239074} + \\frac{a_{1}^{3} a^{\\dagger}_{1}}{8} + \\frac{a_{1}^{4}}{8} + \\frac{38613965 a_{2}}{54608393} - \\frac{131836323 a_{2} \\chi^{\\dagger}_{2} \\chi_{2}}{93222358} - \\frac{a_{2} a^{\\dagger}_{0}}{8} + \\frac{3998607 a_{2} a^{\\dagger}_{1} a_{1}}{45239074} + \\frac{3998607 a_{2} \\left(a^{\\dagger}_{1}\\right)^{2}}{45239074} + \\frac{7 a_{2} a^{\\dagger}_{2}}{8} - \\frac{3998607 a_{2} a^{\\dagger}_{2} a^{\\dagger}_{1}}{45239074} + \\frac{3998607 a_{2} a^{\\dagger}_{2} a^{\\dagger}_{3}}{45239074} - \\frac{3998607 a_{2} a^{\\dagger}_{2} a_{1}}{45239074} + \\frac{a_{2} a^{\\dagger}_{2} a_{2} a^{\\dagger}_{2}}{8} + \\frac{a_{2} a^{\\dagger}_{2} a_{2}^{2}}{8} + \\frac{3998607 a_{2} a^{\\dagger}_{2} a_{3}}{45239074} + \\frac{a_{2} \\left(a^{\\dagger}_{2}\\right)^{2} a_{2}}{8} + \\frac{a_{2} \\left(a^{\\dagger}_{2}\\right)^{3}}{8} - \\frac{3998607 a_{2} a^{\\dagger}_{3} a_{3}}{45239074} - \\frac{3998607 a_{2} \\left(a^{\\dagger}_{3}\\right)^{2}}{45239074} - \\frac{a_{2} a_{0}}{8} + \\frac{3998607 a_{2} a_{1} a^{\\dagger}_{1}}{45239074} + \\frac{3998607 a_{2} a_{1}^{2}}{45239074} - \\frac{3998607 a_{2} a_{3} a^{\\dagger}_{3}}{45239074} - \\frac{3998607 a_{2} a_{3}^{2}}{45239074} + \\frac{3 a_{2}^{2}}{8} - \\frac{3998607 a_{2}^{2} a^{\\dagger}_{1}}{45239074} + \\frac{a_{2}^{2} a^{\\dagger}_{2} a_{2}}{8} + \\frac{a_{2}^{2} \\left(a^{\\dagger}_{2}\\right)^{2}}{8} + \\frac{3998607 a_{2}^{2} a^{\\dagger}_{3}}{45239074} - \\frac{3998607 a_{2}^{2} a_{1}}{45239074} + \\frac{3998607 a_{2}^{2} a_{3}}{45239074} + \\frac{a_{2}^{3} a^{\\dagger}_{2}}{8} + \\frac{a_{2}^{4}}{8} - \\frac{38613965 a_{3}}{54608393} + \\frac{131836323 a_{3} \\chi^{\\dagger}_{3} \\chi_{3}}{93222358} - \\frac{3998607 a_{3} a^{\\dagger}_{0} a_{0}}{45239074} - \\frac{3998607 a_{3} \\left(a^{\\dagger}_{0}\\right)^{2}}{45239074} - \\frac{a_{3} a^{\\dagger}_{1}}{8} + \\frac{3998607 a_{3} a^{\\dagger}_{2} a_{2}}{45239074} + \\frac{3998607 a_{3} \\left(a^{\\dagger}_{2}\\right)^{2}}{45239074} + \\frac{7 a_{3} a^{\\dagger}_{3}}{8} + \\frac{3998607 a_{3} a^{\\dagger}_{3} a^{\\dagger}_{0}}{45239074} - \\frac{3998607 a_{3} a^{\\dagger}_{3} a^{\\dagger}_{2}}{45239074} + \\frac{3998607 a_{3} a^{\\dagger}_{3} a_{0}}{45239074} - \\frac{3998607 a_{3} a^{\\dagger}_{3} a_{2}}{45239074} + \\frac{a_{3} a^{\\dagger}_{3} a_{3} a^{\\dagger}_{3}}{8} + \\frac{a_{3} a^{\\dagger}_{3} a_{3}^{2}}{8} + \\frac{a_{3} \\left(a^{\\dagger}_{3}\\right)^{2} a_{3}}{8} + \\frac{a_{3} \\left(a^{\\dagger}_{3}\\right)^{3}}{8} - \\frac{3998607 a_{3} a_{0} a^{\\dagger}_{0}}{45239074} - \\frac{3998607 a_{3} a_{0}^{2}}{45239074} - \\frac{a_{3} a_{1}}{8} + \\frac{3998607 a_{3} a_{2} a^{\\dagger}_{2}}{45239074} + \\frac{3998607 a_{3} a_{2}^{2}}{45239074} + \\frac{3 a_{3}^{2}}{8} + \\frac{3998607 a_{3}^{2} a^{\\dagger}_{0}}{45239074} - \\frac{3998607 a_{3}^{2} a^{\\dagger}_{2}}{45239074} + \\frac{a_{3}^{2} a^{\\dagger}_{3} a_{3}}{8} + \\frac{a_{3}^{2} \\left(a^{\\dagger}_{3}\\right)^{2}}{8} + \\frac{3998607 a_{3}^{2} a_{0}}{45239074} - \\frac{3998607 a_{3}^{2} a_{2}}{45239074} + \\frac{a_{3}^{3} a^{\\dagger}_{3}}{8} + \\frac{a_{3}^{4}}{8}$"
      ],
      "text/plain": [
       "2 - \\chi^{\\dagger}_{0}*\\chi_{1}/2 + \\chi^{\\dagger}_{0}*\\chi_{3}/2 - \\chi^{\\dagger}_{1}*\\chi_{0}/2 - \\chi^{\\dagger}_{1}*\\chi_{2}/2 - \\chi^{\\dagger}_{2}*\\chi_{1}/2 - \\chi^{\\dagger}_{2}*\\chi_{3}/2 + \\chi^{\\dagger}_{3}*\\chi_{0}/2 - \\chi^{\\dagger}_{3}*\\chi_{2}/2 + 38613965*a^{\\dagger}_{0}/54608393 - 131836323*a^{\\dagger}_{0}*\\chi^{\\dagger}_{0}*\\chi_{0}/93222358 - 3998607*a^{\\dagger}_{0}*a^{\\dagger}_{1}*a_{1}/45239074 - 3998607*a^{\\dagger}_{0}*a^{\\dagger}_{1}**2/45239074 - a^{\\dagger}_{0}*a^{\\dagger}_{2}/8 + 3998607*a^{\\dagger}_{0}*a^{\\dagger}_{3}*a_{3}/45239074 + 3998607*a^{\\dagger}_{0}*a^{\\dagger}_{3}**2/45239074 + 7*a^{\\dagger}_{0}*a_{0}/8 + a^{\\dagger}_{0}*a_{0}*a^{\\dagger}_{0}*a_{0}/8 + a^{\\dagger}_{0}*a_{0}*a^{\\dagger}_{0}**2/8 + 3998607*a^{\\dagger}_{0}*a_{0}*a^{\\dagger}_{1}/45239074 - 3998607*a^{\\dagger}_{0}*a_{0}*a^{\\dagger}_{3}/45239074 + 3998607*a^{\\dagger}_{0}*a_{0}*a_{1}/45239074 - 3998607*a^{\\dagger}_{0}*a_{0}*a_{3}/45239074 + a^{\\dagger}_{0}*a_{0}**2*a^{\\dagger}_{0}/8 + a^{\\dagger}_{0}*a_{0}**3/8 - 3998607*a^{\\dagger}_{0}*a_{1}*a^{\\dagger}_{1}/45239074 - 3998607*a^{\\dagger}_{0}*a_{1}**2/45239074 - a^{\\dagger}_{0}*a_{2}/8 + 3998607*a^{\\dagger}_{0}*a_{3}*a^{\\dagger}_{3}/45239074 + 3998607*a^{\\dagger}_{0}*a_{3}**2/45239074 + 3*a^{\\dagger}_{0}**2/8 + 3998607*a^{\\dagger}_{0}**2*a^{\\dagger}_{1}/45239074 - 3998607*a^{\\dagger}_{0}**2*a^{\\dagger}_{3}/45239074 + a^{\\dagger}_{0}**2*a_{0}*a^{\\dagger}_{0}/8 + a^{\\dagger}_{0}**2*a_{0}**2/8 + 3998607*a^{\\dagger}_{0}**2*a_{1}/45239074 - 3998607*a^{\\dagger}_{0}**2*a_{3}/45239074 + a^{\\dagger}_{0}**3*a_{0}/8 + a^{\\dagger}_{0}**4/8 - 38613965*a^{\\dagger}_{1}/54608393 + 131836323*a^{\\dagger}_{1}*\\chi^{\\dagger}_{1}*\\chi_{1}/93222358 + 3998607*a^{\\dagger}_{1}*a^{\\dagger}_{0}*a_{0}/45239074 + 3998607*a^{\\dagger}_{1}*a^{\\dagger}_{0}**2/45239074 - 3998607*a^{\\dagger}_{1}*a^{\\dagger}_{2}*a_{2}/45239074 - 3998607*a^{\\dagger}_{1}*a^{\\dagger}_{2}**2/45239074 - a^{\\dagger}_{1}*a^{\\dagger}_{3}/8 + 3998607*a^{\\dagger}_{1}*a_{0}*a^{\\dagger}_{0}/45239074 + 3998607*a^{\\dagger}_{1}*a_{0}**2/45239074 + 7*a^{\\dagger}_{1}*a_{1}/8 - 3998607*a^{\\dagger}_{1}*a_{1}*a^{\\dagger}_{0}/45239074 + a^{\\dagger}_{1}*a_{1}*a^{\\dagger}_{1}*a_{1}/8 + a^{\\dagger}_{1}*a_{1}*a^{\\dagger}_{1}**2/8 + 3998607*a^{\\dagger}_{1}*a_{1}*a^{\\dagger}_{2}/45239074 - 3998607*a^{\\dagger}_{1}*a_{1}*a_{0}/45239074 + 3998607*a^{\\dagger}_{1}*a_{1}*a_{2}/45239074 + a^{\\dagger}_{1}*a_{1}**2*a^{\\dagger}_{1}/8 + a^{\\dagger}_{1}*a_{1}**3/8 - 3998607*a^{\\dagger}_{1}*a_{2}*a^{\\dagger}_{2}/45239074 - 3998607*a^{\\dagger}_{1}*a_{2}**2/45239074 - a^{\\dagger}_{1}*a_{3}/8 + 3*a^{\\dagger}_{1}**2/8 - 3998607*a^{\\dagger}_{1}**2*a^{\\dagger}_{0}/45239074 + 3998607*a^{\\dagger}_{1}**2*a^{\\dagger}_{2}/45239074 - 3998607*a^{\\dagger}_{1}**2*a_{0}/45239074 + a^{\\dagger}_{1}**2*a_{1}*a^{\\dagger}_{1}/8 + a^{\\dagger}_{1}**2*a_{1}**2/8 + 3998607*a^{\\dagger}_{1}**2*a_{2}/45239074 + a^{\\dagger}_{1}**3*a_{1}/8 + a^{\\dagger}_{1}**4/8 + 38613965*a^{\\dagger}_{2}/54608393 - 131836323*a^{\\dagger}_{2}*\\chi^{\\dagger}_{2}*\\chi_{2}/93222358 - a^{\\dagger}_{2}*a^{\\dagger}_{0}/8 + 3998607*a^{\\dagger}_{2}*a^{\\dagger}_{1}*a_{1}/45239074 + 3998607*a^{\\dagger}_{2}*a^{\\dagger}_{1}**2/45239074 - 3998607*a^{\\dagger}_{2}*a^{\\dagger}_{3}*a_{3}/45239074 - 3998607*a^{\\dagger}_{2}*a^{\\dagger}_{3}**2/45239074 - a^{\\dagger}_{2}*a_{0}/8 + 3998607*a^{\\dagger}_{2}*a_{1}*a^{\\dagger}_{1}/45239074 + 3998607*a^{\\dagger}_{2}*a_{1}**2/45239074 + 7*a^{\\dagger}_{2}*a_{2}/8 - 3998607*a^{\\dagger}_{2}*a_{2}*a^{\\dagger}_{1}/45239074 + a^{\\dagger}_{2}*a_{2}*a^{\\dagger}_{2}*a_{2}/8 + a^{\\dagger}_{2}*a_{2}*a^{\\dagger}_{2}**2/8 + 3998607*a^{\\dagger}_{2}*a_{2}*a^{\\dagger}_{3}/45239074 - 3998607*a^{\\dagger}_{2}*a_{2}*a_{1}/45239074 + 3998607*a^{\\dagger}_{2}*a_{2}*a_{3}/45239074 + a^{\\dagger}_{2}*a_{2}**2*a^{\\dagger}_{2}/8 + a^{\\dagger}_{2}*a_{2}**3/8 - 3998607*a^{\\dagger}_{2}*a_{3}*a^{\\dagger}_{3}/45239074 - 3998607*a^{\\dagger}_{2}*a_{3}**2/45239074 + 3*a^{\\dagger}_{2}**2/8 - 3998607*a^{\\dagger}_{2}**2*a^{\\dagger}_{1}/45239074 + 3998607*a^{\\dagger}_{2}**2*a^{\\dagger}_{3}/45239074 - 3998607*a^{\\dagger}_{2}**2*a_{1}/45239074 + a^{\\dagger}_{2}**2*a_{2}*a^{\\dagger}_{2}/8 + a^{\\dagger}_{2}**2*a_{2}**2/8 + 3998607*a^{\\dagger}_{2}**2*a_{3}/45239074 + a^{\\dagger}_{2}**3*a_{2}/8 + a^{\\dagger}_{2}**4/8 - 38613965*a^{\\dagger}_{3}/54608393 + 131836323*a^{\\dagger}_{3}*\\chi^{\\dagger}_{3}*\\chi_{3}/93222358 - 3998607*a^{\\dagger}_{3}*a^{\\dagger}_{0}*a_{0}/45239074 - 3998607*a^{\\dagger}_{3}*a^{\\dagger}_{0}**2/45239074 - a^{\\dagger}_{3}*a^{\\dagger}_{1}/8 + 3998607*a^{\\dagger}_{3}*a^{\\dagger}_{2}*a_{2}/45239074 + 3998607*a^{\\dagger}_{3}*a^{\\dagger}_{2}**2/45239074 - 3998607*a^{\\dagger}_{3}*a_{0}*a^{\\dagger}_{0}/45239074 - 3998607*a^{\\dagger}_{3}*a_{0}**2/45239074 - a^{\\dagger}_{3}*a_{1}/8 + 3998607*a^{\\dagger}_{3}*a_{2}*a^{\\dagger}_{2}/45239074 + 3998607*a^{\\dagger}_{3}*a_{2}**2/45239074 + 7*a^{\\dagger}_{3}*a_{3}/8 + 3998607*a^{\\dagger}_{3}*a_{3}*a^{\\dagger}_{0}/45239074 - 3998607*a^{\\dagger}_{3}*a_{3}*a^{\\dagger}_{2}/45239074 + a^{\\dagger}_{3}*a_{3}*a^{\\dagger}_{3}*a_{3}/8 + a^{\\dagger}_{3}*a_{3}*a^{\\dagger}_{3}**2/8 + 3998607*a^{\\dagger}_{3}*a_{3}*a_{0}/45239074 - 3998607*a^{\\dagger}_{3}*a_{3}*a_{2}/45239074 + a^{\\dagger}_{3}*a_{3}**2*a^{\\dagger}_{3}/8 + a^{\\dagger}_{3}*a_{3}**3/8 + 3*a^{\\dagger}_{3}**2/8 + 3998607*a^{\\dagger}_{3}**2*a^{\\dagger}_{0}/45239074 - 3998607*a^{\\dagger}_{3}**2*a^{\\dagger}_{2}/45239074 + 3998607*a^{\\dagger}_{3}**2*a_{0}/45239074 - 3998607*a^{\\dagger}_{3}**2*a_{2}/45239074 + a^{\\dagger}_{3}**2*a_{3}*a^{\\dagger}_{3}/8 + a^{\\dagger}_{3}**2*a_{3}**2/8 + a^{\\dagger}_{3}**3*a_{3}/8 + a^{\\dagger}_{3}**4/8 + 38613965*a_{0}/54608393 - 131836323*a_{0}*\\chi^{\\dagger}_{0}*\\chi_{0}/93222358 + 7*a_{0}*a^{\\dagger}_{0}/8 + 3998607*a_{0}*a^{\\dagger}_{0}*a^{\\dagger}_{1}/45239074 - 3998607*a_{0}*a^{\\dagger}_{0}*a^{\\dagger}_{3}/45239074 + a_{0}*a^{\\dagger}_{0}*a_{0}*a^{\\dagger}_{0}/8 + a_{0}*a^{\\dagger}_{0}*a_{0}**2/8 + 3998607*a_{0}*a^{\\dagger}_{0}*a_{1}/45239074 - 3998607*a_{0}*a^{\\dagger}_{0}*a_{3}/45239074 + a_{0}*a^{\\dagger}_{0}**2*a_{0}/8 + a_{0}*a^{\\dagger}_{0}**3/8 - 3998607*a_{0}*a^{\\dagger}_{1}*a_{1}/45239074 - 3998607*a_{0}*a^{\\dagger}_{1}**2/45239074 - a_{0}*a^{\\dagger}_{2}/8 + 3998607*a_{0}*a^{\\dagger}_{3}*a_{3}/45239074 + 3998607*a_{0}*a^{\\dagger}_{3}**2/45239074 - 3998607*a_{0}*a_{1}*a^{\\dagger}_{1}/45239074 - 3998607*a_{0}*a_{1}**2/45239074 - a_{0}*a_{2}/8 + 3998607*a_{0}*a_{3}*a^{\\dagger}_{3}/45239074 + 3998607*a_{0}*a_{3}**2/45239074 + 3*a_{0}**2/8 + a_{0}**2*a^{\\dagger}_{0}*a_{0}/8 + a_{0}**2*a^{\\dagger}_{0}**2/8 + 3998607*a_{0}**2*a^{\\dagger}_{1}/45239074 - 3998607*a_{0}**2*a^{\\dagger}_{3}/45239074 + 3998607*a_{0}**2*a_{1}/45239074 - 3998607*a_{0}**2*a_{3}/45239074 + a_{0}**3*a^{\\dagger}_{0}/8 + a_{0}**4/8 - 38613965*a_{1}/54608393 + 131836323*a_{1}*\\chi^{\\dagger}_{1}*\\chi_{1}/93222358 + 3998607*a_{1}*a^{\\dagger}_{0}*a_{0}/45239074 + 3998607*a_{1}*a^{\\dagger}_{0}**2/45239074 + 7*a_{1}*a^{\\dagger}_{1}/8 - 3998607*a_{1}*a^{\\dagger}_{1}*a^{\\dagger}_{0}/45239074 + 3998607*a_{1}*a^{\\dagger}_{1}*a^{\\dagger}_{2}/45239074 - 3998607*a_{1}*a^{\\dagger}_{1}*a_{0}/45239074 + a_{1}*a^{\\dagger}_{1}*a_{1}*a^{\\dagger}_{1}/8 + a_{1}*a^{\\dagger}_{1}*a_{1}**2/8 + 3998607*a_{1}*a^{\\dagger}_{1}*a_{2}/45239074 + a_{1}*a^{\\dagger}_{1}**2*a_{1}/8 + a_{1}*a^{\\dagger}_{1}**3/8 - 3998607*a_{1}*a^{\\dagger}_{2}*a_{2}/45239074 - 3998607*a_{1}*a^{\\dagger}_{2}**2/45239074 - a_{1}*a^{\\dagger}_{3}/8 + 3998607*a_{1}*a_{0}*a^{\\dagger}_{0}/45239074 + 3998607*a_{1}*a_{0}**2/45239074 - 3998607*a_{1}*a_{2}*a^{\\dagger}_{2}/45239074 - 3998607*a_{1}*a_{2}**2/45239074 - a_{1}*a_{3}/8 + 3*a_{1}**2/8 - 3998607*a_{1}**2*a^{\\dagger}_{0}/45239074 + a_{1}**2*a^{\\dagger}_{1}*a_{1}/8 + a_{1}**2*a^{\\dagger}_{1}**2/8 + 3998607*a_{1}**2*a^{\\dagger}_{2}/45239074 - 3998607*a_{1}**2*a_{0}/45239074 + 3998607*a_{1}**2*a_{2}/45239074 + a_{1}**3*a^{\\dagger}_{1}/8 + a_{1}**4/8 + 38613965*a_{2}/54608393 - 131836323*a_{2}*\\chi^{\\dagger}_{2}*\\chi_{2}/93222358 - a_{2}*a^{\\dagger}_{0}/8 + 3998607*a_{2}*a^{\\dagger}_{1}*a_{1}/45239074 + 3998607*a_{2}*a^{\\dagger}_{1}**2/45239074 + 7*a_{2}*a^{\\dagger}_{2}/8 - 3998607*a_{2}*a^{\\dagger}_{2}*a^{\\dagger}_{1}/45239074 + 3998607*a_{2}*a^{\\dagger}_{2}*a^{\\dagger}_{3}/45239074 - 3998607*a_{2}*a^{\\dagger}_{2}*a_{1}/45239074 + a_{2}*a^{\\dagger}_{2}*a_{2}*a^{\\dagger}_{2}/8 + a_{2}*a^{\\dagger}_{2}*a_{2}**2/8 + 3998607*a_{2}*a^{\\dagger}_{2}*a_{3}/45239074 + a_{2}*a^{\\dagger}_{2}**2*a_{2}/8 + a_{2}*a^{\\dagger}_{2}**3/8 - 3998607*a_{2}*a^{\\dagger}_{3}*a_{3}/45239074 - 3998607*a_{2}*a^{\\dagger}_{3}**2/45239074 - a_{2}*a_{0}/8 + 3998607*a_{2}*a_{1}*a^{\\dagger}_{1}/45239074 + 3998607*a_{2}*a_{1}**2/45239074 - 3998607*a_{2}*a_{3}*a^{\\dagger}_{3}/45239074 - 3998607*a_{2}*a_{3}**2/45239074 + 3*a_{2}**2/8 - 3998607*a_{2}**2*a^{\\dagger}_{1}/45239074 + a_{2}**2*a^{\\dagger}_{2}*a_{2}/8 + a_{2}**2*a^{\\dagger}_{2}**2/8 + 3998607*a_{2}**2*a^{\\dagger}_{3}/45239074 - 3998607*a_{2}**2*a_{1}/45239074 + 3998607*a_{2}**2*a_{3}/45239074 + a_{2}**3*a^{\\dagger}_{2}/8 + a_{2}**4/8 - 38613965*a_{3}/54608393 + 131836323*a_{3}*\\chi^{\\dagger}_{3}*\\chi_{3}/93222358 - 3998607*a_{3}*a^{\\dagger}_{0}*a_{0}/45239074 - 3998607*a_{3}*a^{\\dagger}_{0}**2/45239074 - a_{3}*a^{\\dagger}_{1}/8 + 3998607*a_{3}*a^{\\dagger}_{2}*a_{2}/45239074 + 3998607*a_{3}*a^{\\dagger}_{2}**2/45239074 + 7*a_{3}*a^{\\dagger}_{3}/8 + 3998607*a_{3}*a^{\\dagger}_{3}*a^{\\dagger}_{0}/45239074 - 3998607*a_{3}*a^{\\dagger}_{3}*a^{\\dagger}_{2}/45239074 + 3998607*a_{3}*a^{\\dagger}_{3}*a_{0}/45239074 - 3998607*a_{3}*a^{\\dagger}_{3}*a_{2}/45239074 + a_{3}*a^{\\dagger}_{3}*a_{3}*a^{\\dagger}_{3}/8 + a_{3}*a^{\\dagger}_{3}*a_{3}**2/8 + a_{3}*a^{\\dagger}_{3}**2*a_{3}/8 + a_{3}*a^{\\dagger}_{3}**3/8 - 3998607*a_{3}*a_{0}*a^{\\dagger}_{0}/45239074 - 3998607*a_{3}*a_{0}**2/45239074 - a_{3}*a_{1}/8 + 3998607*a_{3}*a_{2}*a^{\\dagger}_{2}/45239074 + 3998607*a_{3}*a_{2}**2/45239074 + 3*a_{3}**2/8 + 3998607*a_{3}**2*a^{\\dagger}_{0}/45239074 - 3998607*a_{3}**2*a^{\\dagger}_{2}/45239074 + a_{3}**2*a^{\\dagger}_{3}*a_{3}/8 + a_{3}**2*a^{\\dagger}_{3}**2/8 + 3998607*a_{3}**2*a_{0}/45239074 - 3998607*a_{3}**2*a_{2}/45239074 + a_{3}**3*a^{\\dagger}_{3}/8 + a_{3}**4/8"
      ]
     },
     "execution_count": 8,
     "metadata": {},
     "output_type": "execute_result"
    }
   ],
   "source": [
    "m=1\n",
    "\n",
    "HOdofSubs = {}\n",
    "#offset because of BC\n",
    "for i in range(1,N+1):\n",
    "    HOdofSubs[qs[i]] = 0.5*sp.sqrt(2/m)*(aops[i] + adags[i])\n",
    "    HOdofSubs[ps[i]] = complex(0,1)*sp.sqrt(2*m)*(adags[i] - aops[i])/2 \n",
    "\n",
    "hoHam=sp.expand(ham.subs(HOdofSubs))\n",
    "hoHam=sp.nsimplify(hoHam,tolerance=1e-8)\n",
    "hoHam"
   ]
  },
  {
   "cell_type": "code",
   "execution_count": 9,
   "metadata": {},
   "outputs": [
    {
     "name": "stderr",
     "output_type": "stream",
     "text": [
      "/home/chrisculver/miniconda3/envs/QuantumComputing/lib/python3.9/site-packages/scipy/sparse/_sputils.py:114: UserWarning: object dtype is not supported by sparse matrices\n",
      "  warnings.warn(\"object dtype is not supported by sparse matrices\")\n"
     ]
    },
    {
     "name": "stdout",
     "output_type": "stream",
     "text": [
      "toHam timer took: 4.8376 seconds\n",
      "evals timer took: 0.0521 seconds\n",
      "Lambda =  2\n",
      "[2.353742 -2.4992062e-08j 2.3537483+7.9753022e-08j\n",
      " 2.671591 -2.2966649e-08j 2.671587 +8.7025143e-09j\n",
      " 3.0046628-1.1056063e-08j 3.0046635-1.7464853e-08j\n",
      " 3.004658 +1.4996296e-08j 3.0046577-1.1260871e-08j\n",
      " 3.004654 +1.5135313e-08j 3.0046499-1.0146678e-08j]\n",
      "\n",
      "toHam timer took: 15.1849 seconds\n",
      "evals timer took: 0.0830 seconds\n",
      "Lambda =  3\n",
      "[3.5587652+2.4770685e-08j 3.8496969-3.2729635e-09j\n",
      " 3.5587544-4.4575359e-08j 3.84969  -1.2964078e-08j\n",
      " 4.5481668+2.1216982e-08j 4.551925 -2.4333417e-08j\n",
      " 3.8496776-4.4703484e-08j 3.8496757+4.9360096e-08j\n",
      " 4.5481563-2.6705307e-10j 4.551915 +4.7470404e-08j]\n",
      "\n",
      "toHam timer took: 67.1190 seconds\n",
      "evals timer took: 0.3156 seconds\n",
      "Lambda =  4\n",
      "[3.7910676-7.9929521e-08j 4.0491924-2.3630921e-08j\n",
      " 3.7910914-3.1992098e-08j 4.049199 +1.0649926e-08j\n",
      " 4.349862 +2.8353002e-08j 4.349808 -9.6961685e-08j\n",
      " 4.4423423+1.5467776e-08j 4.0491824+2.4811728e-08j\n",
      " 4.442289 -2.6023114e-08j 4.049156 +6.7372383e-08j]\n",
      "\n",
      "toHam timer took: 266.6898 seconds\n",
      "evals timer took: 0.8179 seconds\n",
      "Lambda =  5\n",
      "[4.2503266+1.1651946e-07j 4.49195  -1.2145491e-09j\n",
      " 4.250342 +2.1958496e-07j 4.491992 +4.6302109e-08j\n",
      " 5.0322504-8.1724586e-08j 5.038921 +7.7556479e-08j\n",
      " 4.49196  -4.9825758e-08j 4.491917 -3.5181415e-08j\n",
      " 5.0322385-1.3103734e-07j 5.0388775+1.8274423e-07j]\n",
      "\n"
     ]
    },
    {
     "ename": "KeyboardInterrupt",
     "evalue": "",
     "output_type": "error",
     "traceback": [
      "\u001b[0;31m---------------------------------------------------------------------------\u001b[0m",
      "\u001b[0;31mKeyboardInterrupt\u001b[0m                         Traceback (most recent call last)",
      "Input \u001b[0;32mIn [9]\u001b[0m, in \u001b[0;36m<cell line: 1>\u001b[0;34m()\u001b[0m\n\u001b[1;32m      2\u001b[0m t\u001b[38;5;241m=\u001b[39mTimer(\u001b[38;5;124m'\u001b[39m\u001b[38;5;124mtoHam\u001b[39m\u001b[38;5;124m'\u001b[39m)\n\u001b[1;32m      3\u001b[0m t\u001b[38;5;241m.\u001b[39mstart()\n\u001b[0;32m----> 4\u001b[0m hamMat\u001b[38;5;241m=\u001b[39m\u001b[43mconvert_to_matrix\u001b[49m\u001b[43m(\u001b[49m\u001b[43mhoHam\u001b[49m\u001b[43m,\u001b[49m\u001b[43mcutoff\u001b[49m\u001b[43m,\u001b[49m\u001b[43mN\u001b[49m\u001b[43m,\u001b[49m\u001b[43maops\u001b[49m\u001b[43m,\u001b[49m\u001b[43madags\u001b[49m\u001b[43m,\u001b[49m\u001b[43mxs\u001b[49m\u001b[43m,\u001b[49m\u001b[43mxdags\u001b[49m\u001b[43m)\u001b[49m\n\u001b[1;32m      5\u001b[0m t\u001b[38;5;241m.\u001b[39mstop()\n\u001b[1;32m      7\u001b[0m t\u001b[38;5;241m=\u001b[39mTimer(\u001b[38;5;124m'\u001b[39m\u001b[38;5;124mevals\u001b[39m\u001b[38;5;124m'\u001b[39m)\n",
      "File \u001b[0;32m~/Code/WessZumino/ham_to_sparse_matrix.py:77\u001b[0m, in \u001b[0;36mconvert_to_matrix\u001b[0;34m(expr, cutoff, Nsites, aops, adags, xs, xdags)\u001b[0m\n\u001b[1;32m     73\u001b[0m \u001b[38;5;66;03m# convert each term to matrix and sum up\u001b[39;00m\n\u001b[1;32m     74\u001b[0m \u001b[38;5;28;01mfor\u001b[39;00m t \u001b[38;5;129;01min\u001b[39;00m expr\u001b[38;5;241m.\u001b[39margs:\n\u001b[1;32m     75\u001b[0m     \u001b[38;5;66;03m#timer=Timer(str(t)+' to matrix')\u001b[39;00m\n\u001b[1;32m     76\u001b[0m     \u001b[38;5;66;03m#timer.start()\u001b[39;00m\n\u001b[0;32m---> 77\u001b[0m     termMat\u001b[38;5;241m=\u001b[39m\u001b[43mconvert_term_to_matrix\u001b[49m\u001b[43m(\u001b[49m\u001b[43mt\u001b[49m\u001b[43m,\u001b[49m\u001b[43mcutoff\u001b[49m\u001b[43m,\u001b[49m\u001b[43mNsites\u001b[49m\u001b[43m,\u001b[49m\u001b[43m \u001b[49m\u001b[43maops\u001b[49m\u001b[43m,\u001b[49m\u001b[43m \u001b[49m\u001b[43madags\u001b[49m\u001b[43m,\u001b[49m\u001b[43m \u001b[49m\u001b[43mxs\u001b[49m\u001b[43m,\u001b[49m\u001b[43m \u001b[49m\u001b[43mxdags\u001b[49m\u001b[43m)\u001b[49m\u001b[38;5;241m.\u001b[39mastype(np\u001b[38;5;241m.\u001b[39mcomplex64)\n\u001b[1;32m     78\u001b[0m     tmp\u001b[38;5;241m=\u001b[39mfullHam\u001b[38;5;241m+\u001b[39mtermMat\n\u001b[1;32m     79\u001b[0m     fullHam\u001b[38;5;241m=\u001b[39mtmp\n",
      "File \u001b[0;32m~/Code/WessZumino/ham_to_sparse_matrix.py:92\u001b[0m, in \u001b[0;36mconvert_term_to_matrix\u001b[0;34m(term, cutoff, Nsites, aops, adags, xs, xdags)\u001b[0m\n\u001b[1;32m     87\u001b[0m \u001b[38;5;28;01mdef\u001b[39;00m \u001b[38;5;21mconvert_term_to_matrix\u001b[39m(term, cutoff, Nsites, aops, adags, xs, xdags):\n\u001b[1;32m     88\u001b[0m     \u001b[38;5;66;03m#setupTimer=Timer('setup')\u001b[39;00m\n\u001b[1;32m     89\u001b[0m     \u001b[38;5;66;03m#setupTimer.start()\u001b[39;00m\n\u001b[1;32m     91\u001b[0m     buffer\u001b[38;5;241m=\u001b[39m\u001b[38;5;241m0\u001b[39m\n\u001b[0;32m---> 92\u001b[0m     prodMatrix \u001b[38;5;241m=\u001b[39m \u001b[43mscipy\u001b[49m\u001b[38;5;241;43m.\u001b[39;49m\u001b[43msparse\u001b[49m\u001b[38;5;241;43m.\u001b[39;49m\u001b[43mcoo_matrix\u001b[49m\u001b[43m(\u001b[49m\u001b[43mnp\u001b[49m\u001b[38;5;241;43m.\u001b[39;49m\u001b[43meye\u001b[49m\u001b[43m(\u001b[49m\u001b[43m(\u001b[49m\u001b[43m(\u001b[49m\u001b[43mcutoff\u001b[49m\u001b[38;5;241;43m+\u001b[39;49m\u001b[43mbuffer\u001b[49m\u001b[43m)\u001b[49m\u001b[38;5;241;43m*\u001b[39;49m\u001b[38;5;241;43m*\u001b[39;49m\u001b[43mNsites\u001b[49m\u001b[43m)\u001b[49m\u001b[38;5;241;43m*\u001b[39;49m\u001b[43m(\u001b[49m\u001b[38;5;241;43m2\u001b[39;49m\u001b[38;5;241;43m*\u001b[39;49m\u001b[38;5;241;43m*\u001b[39;49m\u001b[43mNsites\u001b[49m\u001b[43m)\u001b[49m\u001b[43m)\u001b[49m\u001b[43m)\u001b[49m\u001b[38;5;241m.\u001b[39mastype(np\u001b[38;5;241m.\u001b[39mcomplex64)\n\u001b[1;32m     94\u001b[0m     \u001b[38;5;66;03m#print(\"prod Start=\",prodMatrix)\u001b[39;00m\n\u001b[1;32m     96\u001b[0m     \u001b[38;5;28;01mif\u001b[39;00m \u001b[38;5;28mlen\u001b[39m(term\u001b[38;5;241m.\u001b[39margs)\u001b[38;5;241m==\u001b[39m\u001b[38;5;241m0\u001b[39m:\n",
      "File \u001b[0;32m~/miniconda3/envs/QuantumComputing/lib/python3.9/site-packages/scipy/sparse/_coo.py:189\u001b[0m, in \u001b[0;36mcoo_matrix.__init__\u001b[0;34m(self, arg1, shape, dtype, copy)\u001b[0m\n\u001b[1;32m    185\u001b[0m     \u001b[38;5;28;01mif\u001b[39;00m check_shape(shape) \u001b[38;5;241m!=\u001b[39m \u001b[38;5;28mself\u001b[39m\u001b[38;5;241m.\u001b[39m_shape:\n\u001b[1;32m    186\u001b[0m         \u001b[38;5;28;01mraise\u001b[39;00m \u001b[38;5;167;01mValueError\u001b[39;00m(\u001b[38;5;124m'\u001b[39m\u001b[38;5;124minconsistent shapes: \u001b[39m\u001b[38;5;132;01m%s\u001b[39;00m\u001b[38;5;124m != \u001b[39m\u001b[38;5;132;01m%s\u001b[39;00m\u001b[38;5;124m'\u001b[39m \u001b[38;5;241m%\u001b[39m\n\u001b[1;32m    187\u001b[0m                          (shape, \u001b[38;5;28mself\u001b[39m\u001b[38;5;241m.\u001b[39m_shape))\n\u001b[0;32m--> 189\u001b[0m \u001b[38;5;28mself\u001b[39m\u001b[38;5;241m.\u001b[39mrow, \u001b[38;5;28mself\u001b[39m\u001b[38;5;241m.\u001b[39mcol \u001b[38;5;241m=\u001b[39m \u001b[43mM\u001b[49m\u001b[38;5;241;43m.\u001b[39;49m\u001b[43mnonzero\u001b[49m\u001b[43m(\u001b[49m\u001b[43m)\u001b[49m\n\u001b[1;32m    190\u001b[0m \u001b[38;5;28mself\u001b[39m\u001b[38;5;241m.\u001b[39mdata \u001b[38;5;241m=\u001b[39m M[\u001b[38;5;28mself\u001b[39m\u001b[38;5;241m.\u001b[39mrow, \u001b[38;5;28mself\u001b[39m\u001b[38;5;241m.\u001b[39mcol]\n\u001b[1;32m    191\u001b[0m \u001b[38;5;28mself\u001b[39m\u001b[38;5;241m.\u001b[39mhas_canonical_format \u001b[38;5;241m=\u001b[39m \u001b[38;5;28;01mTrue\u001b[39;00m\n",
      "\u001b[0;31mKeyboardInterrupt\u001b[0m: "
     ]
    }
   ],
   "source": [
    "for cutoff in [2,3,4,5,6]:\n",
    "    t=Timer('toHam')\n",
    "    t.start()\n",
    "    hamMat=convert_to_matrix(hoHam,cutoff,N,aops,adags,xs,xdags)\n",
    "    t.stop()\n",
    "    \n",
    "    t=Timer('evals')\n",
    "    t.start()\n",
    "    ens=scipy.sparse.linalg.eigs(hamMat,k=10,which='SM')[0]\n",
    "    t.stop()\n",
    "    \n",
    "    print(\"Lambda = \",cutoff)\n",
    "    print(ens)\n",
    "    print()"
   ]
  },
  {
   "cell_type": "code",
   "execution_count": null,
   "metadata": {},
   "outputs": [],
   "source": []
  }
 ],
 "metadata": {
  "kernelspec": {
   "display_name": "Python 3",
   "language": "python",
   "name": "python3"
  },
  "language_info": {
   "codemirror_mode": {
    "name": "ipython",
    "version": 3
   },
   "file_extension": ".py",
   "mimetype": "text/x-python",
   "name": "python",
   "nbconvert_exporter": "python",
   "pygments_lexer": "ipython3",
   "version": "3.9.1"
  }
 },
 "nbformat": 4,
 "nbformat_minor": 5
}
