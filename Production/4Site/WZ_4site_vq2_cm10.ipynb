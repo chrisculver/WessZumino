{
 "cells": [
  {
   "cell_type": "markdown",
   "metadata": {},
   "source": [
    "# Wess Zumino \n",
    "\n",
    "## N=1 in 1+1\n",
    "\n",
    "The Hamiltonian with a central difference for the derivative is given by \n",
    "\n",
    "\\begin{align}\n",
    "    H=\\sum_n&\\left[ \\frac{p_n^2}{2a} + \\frac{a}{2}\\left(\\frac{\\phi_{n+1}-\\phi_{n-1}}{2a}\\right)^2+\\frac{a}{2}V(\\phi_n)^2\n",
    "            +aV(\\phi_n)\\frac{\\phi_{n+1}-\\phi_{n-1}}{2a} \\right. \\nonumber \\\\\n",
    "            &\\left.+(-1)^nV'(\\phi_n)\\left(\\chi_n^{\\dagger}\\chi_n-\\frac{1}{2}\\right)\n",
    "            +\\frac{1}{2a}\\left(\\chi_n^{\\dagger}\\chi_{n+1}+\\chi_{n+1}^{\\dagger}\\chi_n\\right) \\right],\n",
    "\\end{align}"
   ]
  },
  {
   "cell_type": "code",
   "execution_count": 1,
   "metadata": {},
   "outputs": [],
   "source": [
    "import sympy as sp\n",
    "from ham_to_sparse_matrix import *\n",
    "from constants import *\n",
    "import scipy.sparse.linalg"
   ]
  },
  {
   "cell_type": "code",
   "execution_count": 2,
   "metadata": {},
   "outputs": [],
   "source": [
    "bosonNI=sp.expand( pn**2/(2*aLat) + (aLat/2)*((qnP1-qnM1)/(2*aLat))**2 )\n",
    "bosonI=sp.expand( (aLat/2)*V(qn)**2 + aLat*V(qn)*(qnP1-qnM1)/(4*aLat) + aLat*(qnP1-qnM1)*V(qn)/(4*aLat) )\n",
    "fermionNI=sp.expand( -(xdnP1*xn+xdn*xnP1)/(2*aLat) )\n",
    "fermionI=sp.expand( sp.diff(V(qn),qn)*(xdn*xn-(1/2)) )"
   ]
  },
  {
   "cell_type": "code",
   "execution_count": 3,
   "metadata": {},
   "outputs": [
    {
     "data": {
      "text/latex": [
       "$\\displaystyle \\frac{a V^{2}{\\left(q_{n} \\right)}}{2} + \\frac{q_{n+1} V{\\left(q_{n} \\right)}}{4} - \\frac{q_{n-1} V{\\left(q_{n} \\right)}}{4} + \\frac{V{\\left(q_{n} \\right)} q_{n+1}}{4} - \\frac{V{\\left(q_{n} \\right)} q_{n-1}}{4} + \\frac{p_{n}^{2}}{2 a} - \\frac{q_{n+1} q_{n-1}}{8 a} + \\frac{q_{n+1}^{2}}{8 a} - \\frac{q_{n-1} q_{n+1}}{8 a} + \\frac{q_{n-1}^{2}}{8 a}$"
      ],
      "text/plain": [
       "a*V(q_{n})**2/2 + q_{n+1}*V(q_{n})/4 - q_{n-1}*V(q_{n})/4 + V(q_{n})*q_{n+1}/4 - V(q_{n})*q_{n-1}/4 + p_{n}**2/(2*a) - q_{n+1}*q_{n-1}/(8*a) + q_{n+1}**2/(8*a) - q_{n-1}*q_{n+1}/(8*a) + q_{n-1}**2/(8*a)"
      ]
     },
     "execution_count": 3,
     "metadata": {},
     "output_type": "execute_result"
    }
   ],
   "source": [
    "bosonNI+bosonI"
   ]
  },
  {
   "cell_type": "code",
   "execution_count": 4,
   "metadata": {},
   "outputs": [
    {
     "data": {
      "text/latex": [
       "$\\displaystyle - 0.5 \\frac{d}{d q_{n}} V{\\left(q_{n} \\right)} + \\frac{d}{d q_{n}} V{\\left(q_{n} \\right)} \\chi^{\\dagger}_{n} \\chi_{n} - \\frac{\\chi^{\\dagger}_{n+1} \\chi_{n}}{2 a} - \\frac{\\chi^{\\dagger}_{n} \\chi_{n+1}}{2 a}$"
      ],
      "text/plain": [
       "-0.5*Derivative(V(q_{n}), q_{n}) + Derivative(V(q_{n}), q_{n})*\\chi^{\\dagger}_{n}*\\chi_{n} - \\chi^{\\dagger}_{n+1}*\\chi_{n}/(2*a) - \\chi^{\\dagger}_{n}*\\chi_{n+1}/(2*a)"
      ]
     },
     "execution_count": 4,
     "metadata": {},
     "output_type": "execute_result"
    }
   ],
   "source": [
    "fermionNI + fermionI"
   ]
  },
  {
   "cell_type": "code",
   "execution_count": 5,
   "metadata": {},
   "outputs": [],
   "source": [
    "N=4\n",
    "aVal=1\n",
    "\n",
    "# depends on finite-difference method\n",
    "qs=[SiteSymbol('q',str(i)) for i in range(-1,N+1,1)]\n",
    "# maybe make qs a normal site list\n",
    "# and make an extra boundaryQs list for q[-1], q[N]\n",
    "# counting would be normal computer science way for rest of code.\n",
    "\n",
    "ps=[SiteSymbol('p',str(i)) for i in range(-1,N+1,1)] # don't really need extras\n",
    "aops=[SiteSymbol('a',str(i)) for i in range(-1,N+1,1)]\n",
    "adags=[SiteSymbol('a^{\\dagger}',str(i)) for i in range(-1,N+1,1)]\n",
    "xs=[SiteSymbol('\\chi',str(i)) for i in range(-1,N+1,1)]\n",
    "xdags=[SiteSymbol('\\chi^{\\dagger}',str(i)) for i in range(-1,N+1,1)]\n",
    "\n",
    "# note this is exactly hardcoded for this finite difference method.\n",
    "bcType = 'periodic'\n",
    "boundaryConditions = {}\n",
    "if bcType == 'periodic':\n",
    "    boundaryConditions = {qs[0]: qs[N], qs[N+1]: qs[1],\n",
    "                          xs[0]: -xs[N], xs[N+1]: -xs[1], \n",
    "                          xdags[0]: -xdags[N],  xdags[N+1]: -xdags[1]\n",
    "                         }\n",
    "    \n",
    "elif bcType == 'dirichlet':\n",
    "    boundaryConditions = { qs[0]: 0, qs[N+1]: 0,\n",
    "                          xs[0]: 0, xs[N+1]: 0,\n",
    "                          xdags[0]: 0, xdags[N+1]:0\n",
    "                         }"
   ]
  },
  {
   "cell_type": "code",
   "execution_count": 6,
   "metadata": {},
   "outputs": [
    {
     "data": {
      "text/latex": [
       "$\\displaystyle \\frac{a V^{2}{\\left(q_{n} \\right)}}{2} + \\frac{q_{n+1} V{\\left(q_{n} \\right)}}{4} - \\frac{q_{n-1} V{\\left(q_{n} \\right)}}{4} + \\frac{V{\\left(q_{n} \\right)} q_{n+1}}{4} - \\frac{V{\\left(q_{n} \\right)} q_{n-1}}{4} - 0.5 \\frac{d}{d q_{n}} V{\\left(q_{n} \\right)} + \\frac{d}{d q_{n}} V{\\left(q_{n} \\right)} \\chi^{\\dagger}_{n} \\chi_{n} - \\frac{\\chi^{\\dagger}_{n+1} \\chi_{n}}{2 a} - \\frac{\\chi^{\\dagger}_{n} \\chi_{n+1}}{2 a} + \\frac{p_{n}^{2}}{2 a} - \\frac{q_{n+1} q_{n-1}}{8 a} + \\frac{q_{n+1}^{2}}{8 a} - \\frac{q_{n-1} q_{n+1}}{8 a} + \\frac{q_{n-1}^{2}}{8 a}$"
      ],
      "text/plain": [
       "a*V(q_{n})**2/2 + q_{n+1}*V(q_{n})/4 - q_{n-1}*V(q_{n})/4 + V(q_{n})*q_{n+1}/4 - V(q_{n})*q_{n-1}/4 - 0.5*Derivative(V(q_{n}), q_{n}) + Derivative(V(q_{n}), q_{n})*\\chi^{\\dagger}_{n}*\\chi_{n} - \\chi^{\\dagger}_{n+1}*\\chi_{n}/(2*a) - \\chi^{\\dagger}_{n}*\\chi_{n+1}/(2*a) + p_{n}**2/(2*a) - q_{n+1}*q_{n-1}/(8*a) + q_{n+1}**2/(8*a) - q_{n-1}*q_{n+1}/(8*a) + q_{n-1}**2/(8*a)"
      ]
     },
     "execution_count": 6,
     "metadata": {},
     "output_type": "execute_result"
    }
   ],
   "source": [
    "totHam=bosonNI+bosonI+fermionNI+fermionI\n",
    "totHam"
   ]
  },
  {
   "cell_type": "code",
   "execution_count": 7,
   "metadata": {},
   "outputs": [
    {
     "data": {
      "text/latex": [
       "$\\displaystyle \\frac{800 - 2 \\chi^{\\dagger}_{0} \\chi_{1} + 2 \\chi^{\\dagger}_{0} \\chi_{3} - 2 \\chi^{\\dagger}_{1} \\chi_{0} - 2 \\chi^{\\dagger}_{1} \\chi_{2} - 2 \\chi^{\\dagger}_{2} \\chi_{1} - 2 \\chi^{\\dagger}_{2} \\chi_{3} + 2 \\chi^{\\dagger}_{3} \\chi_{0} - 2 \\chi^{\\dagger}_{3} \\chi_{2} + 2 p_{0}^{2} + 2 p_{1}^{2} + 2 p_{2}^{2} + 2 p_{3}^{2} + 4 q_{0} - 8 q_{0} \\chi^{\\dagger}_{0} \\chi_{0} - q_{0} q_{1}^{2} - q_{0} q_{2} + q_{0} q_{3}^{2} - 39 q_{0}^{2} + q_{0}^{2} q_{1} - q_{0}^{2} q_{3} + 2 q_{0}^{4} - 4.0 q_{1} + 8 q_{1} \\chi^{\\dagger}_{1} \\chi_{1} + q_{1} q_{0}^{2} - q_{1} q_{2}^{2} - q_{1} q_{3} - 39 q_{1}^{2} - q_{1}^{2} q_{0} + q_{1}^{2} q_{2} + 2 q_{1}^{4} + 4 q_{2} - 8 q_{2} \\chi^{\\dagger}_{2} \\chi_{2} - q_{2} q_{0} + q_{2} q_{1}^{2} - q_{2} q_{3}^{2} - 39 q_{2}^{2} - q_{2}^{2} q_{1} + q_{2}^{2} q_{3} + 2 q_{2}^{4} - 4.0 q_{3} + 8 q_{3} \\chi^{\\dagger}_{3} \\chi_{3} - q_{3} q_{0}^{2} - q_{3} q_{1} + q_{3} q_{2}^{2} - 39 q_{3}^{2} + q_{3}^{2} q_{0} - q_{3}^{2} q_{2} + 2 q_{3}^{4}}{4}$"
      ],
      "text/plain": [
       "(800 - 2*\\chi^{\\dagger}_{0}*\\chi_{1} + 2*\\chi^{\\dagger}_{0}*\\chi_{3} - 2*\\chi^{\\dagger}_{1}*\\chi_{0} - 2*\\chi^{\\dagger}_{1}*\\chi_{2} - 2*\\chi^{\\dagger}_{2}*\\chi_{1} - 2*\\chi^{\\dagger}_{2}*\\chi_{3} + 2*\\chi^{\\dagger}_{3}*\\chi_{0} - 2*\\chi^{\\dagger}_{3}*\\chi_{2} + 2*p_{0}**2 + 2*p_{1}**2 + 2*p_{2}**2 + 2*p_{3}**2 + 4*q_{0} - 8*q_{0}*\\chi^{\\dagger}_{0}*\\chi_{0} - q_{0}*q_{1}**2 - q_{0}*q_{2} + q_{0}*q_{3}**2 - 39*q_{0}**2 + q_{0}**2*q_{1} - q_{0}**2*q_{3} + 2*q_{0}**4 - 4.0*q_{1} + 8*q_{1}*\\chi^{\\dagger}_{1}*\\chi_{1} + q_{1}*q_{0}**2 - q_{1}*q_{2}**2 - q_{1}*q_{3} - 39*q_{1}**2 - q_{1}**2*q_{0} + q_{1}**2*q_{2} + 2*q_{1}**4 + 4*q_{2} - 8*q_{2}*\\chi^{\\dagger}_{2}*\\chi_{2} - q_{2}*q_{0} + q_{2}*q_{1}**2 - q_{2}*q_{3}**2 - 39*q_{2}**2 - q_{2}**2*q_{1} + q_{2}**2*q_{3} + 2*q_{2}**4 - 4.0*q_{3} + 8*q_{3}*\\chi^{\\dagger}_{3}*\\chi_{3} - q_{3}*q_{0}**2 - q_{3}*q_{1} + q_{3}*q_{2}**2 - 39*q_{3}**2 + q_{3}**2*q_{0} - q_{3}**2*q_{2} + 2*q_{3}**4)/4"
      ]
     },
     "execution_count": 7,
     "metadata": {},
     "output_type": "execute_result"
    }
   ],
   "source": [
    "ham=0\n",
    "\n",
    "c=-10\n",
    "c2=1\n",
    "\n",
    "for i in range(1,N+1):\n",
    "    ham+=(bosonNI+bosonI+fermionNI).subs({\n",
    "        pn: ps[i],\n",
    "        qn: qs[i], qnP1: qs[i+1], qnM1: qs[i-1],\n",
    "        xn: xs[i], xnP1: xs[i+1],\n",
    "        xdn: xdags[i], xdnP1: xdags[i+1]\n",
    "    }).subs(boundaryConditions)\n",
    "    \n",
    "# ham.subs(boundaryConditions).doit() # this doesn't work?\n",
    "\n",
    "\n",
    "def potential(n):\n",
    "    return c + c2*qs[n]*qs[n]\n",
    "\n",
    "potentialSubs={}\n",
    "for n in range(1,N+1):\n",
    "    potentialSubs[V(qs[n])]=potential(n)\n",
    "\n",
    "ham=sp.simplify(ham.subs(potentialSubs).subs(aLat,aVal))\n",
    "\n",
    "for i in range(1,N+1):\n",
    "    if i%2==0:\n",
    "        ham+=sp.simplify(fermionI.subs({qn: qs[i], xn: xs[i], xdn: xdags[i]}).subs(potentialSubs))\n",
    "    else:\n",
    "        ham-=sp.simplify(fermionI.subs({qn: qs[i], xn: xs[i], xdn: xdags[i]}).subs(potentialSubs))\n",
    "ham=sp.simplify(ham.subs(aLat,aVal))\n",
    "ham"
   ]
  },
  {
   "cell_type": "code",
   "execution_count": 8,
   "metadata": {},
   "outputs": [
    {
     "data": {
      "text/latex": [
       "$\\displaystyle 200 - \\frac{\\chi^{\\dagger}_{0} \\chi_{1}}{2} + \\frac{\\chi^{\\dagger}_{0} \\chi_{3}}{2} - \\frac{\\chi^{\\dagger}_{1} \\chi_{0}}{2} - \\frac{\\chi^{\\dagger}_{1} \\chi_{2}}{2} - \\frac{\\chi^{\\dagger}_{2} \\chi_{1}}{2} - \\frac{\\chi^{\\dagger}_{2} \\chi_{3}}{2} + \\frac{\\chi^{\\dagger}_{3} \\chi_{0}}{2} - \\frac{\\chi^{\\dagger}_{3} \\chi_{2}}{2} + \\frac{38613965 a^{\\dagger}_{0}}{54608393} - \\frac{131836323 a^{\\dagger}_{0} \\chi^{\\dagger}_{0} \\chi_{0}}{93222358} - \\frac{3998607 a^{\\dagger}_{0} a^{\\dagger}_{1} a_{1}}{45239074} - \\frac{3998607 a^{\\dagger}_{0} \\left(a^{\\dagger}_{1}\\right)^{2}}{45239074} - \\frac{a^{\\dagger}_{0} a^{\\dagger}_{2}}{8} + \\frac{3998607 a^{\\dagger}_{0} a^{\\dagger}_{3} a_{3}}{45239074} + \\frac{3998607 a^{\\dagger}_{0} \\left(a^{\\dagger}_{3}\\right)^{2}}{45239074} - \\frac{37 a^{\\dagger}_{0} a_{0}}{8} + \\frac{a^{\\dagger}_{0} a_{0} a^{\\dagger}_{0} a_{0}}{8} + \\frac{a^{\\dagger}_{0} a_{0} \\left(a^{\\dagger}_{0}\\right)^{2}}{8} + \\frac{3998607 a^{\\dagger}_{0} a_{0} a^{\\dagger}_{1}}{45239074} - \\frac{3998607 a^{\\dagger}_{0} a_{0} a^{\\dagger}_{3}}{45239074} + \\frac{3998607 a^{\\dagger}_{0} a_{0} a_{1}}{45239074} - \\frac{3998607 a^{\\dagger}_{0} a_{0} a_{3}}{45239074} + \\frac{a^{\\dagger}_{0} a_{0}^{2} a^{\\dagger}_{0}}{8} + \\frac{a^{\\dagger}_{0} a_{0}^{3}}{8} - \\frac{3998607 a^{\\dagger}_{0} a_{1} a^{\\dagger}_{1}}{45239074} - \\frac{3998607 a^{\\dagger}_{0} a_{1}^{2}}{45239074} - \\frac{a^{\\dagger}_{0} a_{2}}{8} + \\frac{3998607 a^{\\dagger}_{0} a_{3} a^{\\dagger}_{3}}{45239074} + \\frac{3998607 a^{\\dagger}_{0} a_{3}^{2}}{45239074} - \\frac{41 \\left(a^{\\dagger}_{0}\\right)^{2}}{8} + \\frac{3998607 \\left(a^{\\dagger}_{0}\\right)^{2} a^{\\dagger}_{1}}{45239074} - \\frac{3998607 \\left(a^{\\dagger}_{0}\\right)^{2} a^{\\dagger}_{3}}{45239074} + \\frac{\\left(a^{\\dagger}_{0}\\right)^{2} a_{0} a^{\\dagger}_{0}}{8} + \\frac{\\left(a^{\\dagger}_{0}\\right)^{2} a_{0}^{2}}{8} + \\frac{3998607 \\left(a^{\\dagger}_{0}\\right)^{2} a_{1}}{45239074} - \\frac{3998607 \\left(a^{\\dagger}_{0}\\right)^{2} a_{3}}{45239074} + \\frac{\\left(a^{\\dagger}_{0}\\right)^{3} a_{0}}{8} + \\frac{\\left(a^{\\dagger}_{0}\\right)^{4}}{8} - \\frac{38613965 a^{\\dagger}_{1}}{54608393} + \\frac{131836323 a^{\\dagger}_{1} \\chi^{\\dagger}_{1} \\chi_{1}}{93222358} + \\frac{3998607 a^{\\dagger}_{1} a^{\\dagger}_{0} a_{0}}{45239074} + \\frac{3998607 a^{\\dagger}_{1} \\left(a^{\\dagger}_{0}\\right)^{2}}{45239074} - \\frac{3998607 a^{\\dagger}_{1} a^{\\dagger}_{2} a_{2}}{45239074} - \\frac{3998607 a^{\\dagger}_{1} \\left(a^{\\dagger}_{2}\\right)^{2}}{45239074} - \\frac{a^{\\dagger}_{1} a^{\\dagger}_{3}}{8} + \\frac{3998607 a^{\\dagger}_{1} a_{0} a^{\\dagger}_{0}}{45239074} + \\frac{3998607 a^{\\dagger}_{1} a_{0}^{2}}{45239074} - \\frac{37 a^{\\dagger}_{1} a_{1}}{8} - \\frac{3998607 a^{\\dagger}_{1} a_{1} a^{\\dagger}_{0}}{45239074} + \\frac{a^{\\dagger}_{1} a_{1} a^{\\dagger}_{1} a_{1}}{8} + \\frac{a^{\\dagger}_{1} a_{1} \\left(a^{\\dagger}_{1}\\right)^{2}}{8} + \\frac{3998607 a^{\\dagger}_{1} a_{1} a^{\\dagger}_{2}}{45239074} - \\frac{3998607 a^{\\dagger}_{1} a_{1} a_{0}}{45239074} + \\frac{3998607 a^{\\dagger}_{1} a_{1} a_{2}}{45239074} + \\frac{a^{\\dagger}_{1} a_{1}^{2} a^{\\dagger}_{1}}{8} + \\frac{a^{\\dagger}_{1} a_{1}^{3}}{8} - \\frac{3998607 a^{\\dagger}_{1} a_{2} a^{\\dagger}_{2}}{45239074} - \\frac{3998607 a^{\\dagger}_{1} a_{2}^{2}}{45239074} - \\frac{a^{\\dagger}_{1} a_{3}}{8} - \\frac{41 \\left(a^{\\dagger}_{1}\\right)^{2}}{8} - \\frac{3998607 \\left(a^{\\dagger}_{1}\\right)^{2} a^{\\dagger}_{0}}{45239074} + \\frac{3998607 \\left(a^{\\dagger}_{1}\\right)^{2} a^{\\dagger}_{2}}{45239074} - \\frac{3998607 \\left(a^{\\dagger}_{1}\\right)^{2} a_{0}}{45239074} + \\frac{\\left(a^{\\dagger}_{1}\\right)^{2} a_{1} a^{\\dagger}_{1}}{8} + \\frac{\\left(a^{\\dagger}_{1}\\right)^{2} a_{1}^{2}}{8} + \\frac{3998607 \\left(a^{\\dagger}_{1}\\right)^{2} a_{2}}{45239074} + \\frac{\\left(a^{\\dagger}_{1}\\right)^{3} a_{1}}{8} + \\frac{\\left(a^{\\dagger}_{1}\\right)^{4}}{8} + \\frac{38613965 a^{\\dagger}_{2}}{54608393} - \\frac{131836323 a^{\\dagger}_{2} \\chi^{\\dagger}_{2} \\chi_{2}}{93222358} - \\frac{a^{\\dagger}_{2} a^{\\dagger}_{0}}{8} + \\frac{3998607 a^{\\dagger}_{2} a^{\\dagger}_{1} a_{1}}{45239074} + \\frac{3998607 a^{\\dagger}_{2} \\left(a^{\\dagger}_{1}\\right)^{2}}{45239074} - \\frac{3998607 a^{\\dagger}_{2} a^{\\dagger}_{3} a_{3}}{45239074} - \\frac{3998607 a^{\\dagger}_{2} \\left(a^{\\dagger}_{3}\\right)^{2}}{45239074} - \\frac{a^{\\dagger}_{2} a_{0}}{8} + \\frac{3998607 a^{\\dagger}_{2} a_{1} a^{\\dagger}_{1}}{45239074} + \\frac{3998607 a^{\\dagger}_{2} a_{1}^{2}}{45239074} - \\frac{37 a^{\\dagger}_{2} a_{2}}{8} - \\frac{3998607 a^{\\dagger}_{2} a_{2} a^{\\dagger}_{1}}{45239074} + \\frac{a^{\\dagger}_{2} a_{2} a^{\\dagger}_{2} a_{2}}{8} + \\frac{a^{\\dagger}_{2} a_{2} \\left(a^{\\dagger}_{2}\\right)^{2}}{8} + \\frac{3998607 a^{\\dagger}_{2} a_{2} a^{\\dagger}_{3}}{45239074} - \\frac{3998607 a^{\\dagger}_{2} a_{2} a_{1}}{45239074} + \\frac{3998607 a^{\\dagger}_{2} a_{2} a_{3}}{45239074} + \\frac{a^{\\dagger}_{2} a_{2}^{2} a^{\\dagger}_{2}}{8} + \\frac{a^{\\dagger}_{2} a_{2}^{3}}{8} - \\frac{3998607 a^{\\dagger}_{2} a_{3} a^{\\dagger}_{3}}{45239074} - \\frac{3998607 a^{\\dagger}_{2} a_{3}^{2}}{45239074} - \\frac{41 \\left(a^{\\dagger}_{2}\\right)^{2}}{8} - \\frac{3998607 \\left(a^{\\dagger}_{2}\\right)^{2} a^{\\dagger}_{1}}{45239074} + \\frac{3998607 \\left(a^{\\dagger}_{2}\\right)^{2} a^{\\dagger}_{3}}{45239074} - \\frac{3998607 \\left(a^{\\dagger}_{2}\\right)^{2} a_{1}}{45239074} + \\frac{\\left(a^{\\dagger}_{2}\\right)^{2} a_{2} a^{\\dagger}_{2}}{8} + \\frac{\\left(a^{\\dagger}_{2}\\right)^{2} a_{2}^{2}}{8} + \\frac{3998607 \\left(a^{\\dagger}_{2}\\right)^{2} a_{3}}{45239074} + \\frac{\\left(a^{\\dagger}_{2}\\right)^{3} a_{2}}{8} + \\frac{\\left(a^{\\dagger}_{2}\\right)^{4}}{8} - \\frac{38613965 a^{\\dagger}_{3}}{54608393} + \\frac{131836323 a^{\\dagger}_{3} \\chi^{\\dagger}_{3} \\chi_{3}}{93222358} - \\frac{3998607 a^{\\dagger}_{3} a^{\\dagger}_{0} a_{0}}{45239074} - \\frac{3998607 a^{\\dagger}_{3} \\left(a^{\\dagger}_{0}\\right)^{2}}{45239074} - \\frac{a^{\\dagger}_{3} a^{\\dagger}_{1}}{8} + \\frac{3998607 a^{\\dagger}_{3} a^{\\dagger}_{2} a_{2}}{45239074} + \\frac{3998607 a^{\\dagger}_{3} \\left(a^{\\dagger}_{2}\\right)^{2}}{45239074} - \\frac{3998607 a^{\\dagger}_{3} a_{0} a^{\\dagger}_{0}}{45239074} - \\frac{3998607 a^{\\dagger}_{3} a_{0}^{2}}{45239074} - \\frac{a^{\\dagger}_{3} a_{1}}{8} + \\frac{3998607 a^{\\dagger}_{3} a_{2} a^{\\dagger}_{2}}{45239074} + \\frac{3998607 a^{\\dagger}_{3} a_{2}^{2}}{45239074} - \\frac{37 a^{\\dagger}_{3} a_{3}}{8} + \\frac{3998607 a^{\\dagger}_{3} a_{3} a^{\\dagger}_{0}}{45239074} - \\frac{3998607 a^{\\dagger}_{3} a_{3} a^{\\dagger}_{2}}{45239074} + \\frac{a^{\\dagger}_{3} a_{3} a^{\\dagger}_{3} a_{3}}{8} + \\frac{a^{\\dagger}_{3} a_{3} \\left(a^{\\dagger}_{3}\\right)^{2}}{8} + \\frac{3998607 a^{\\dagger}_{3} a_{3} a_{0}}{45239074} - \\frac{3998607 a^{\\dagger}_{3} a_{3} a_{2}}{45239074} + \\frac{a^{\\dagger}_{3} a_{3}^{2} a^{\\dagger}_{3}}{8} + \\frac{a^{\\dagger}_{3} a_{3}^{3}}{8} - \\frac{41 \\left(a^{\\dagger}_{3}\\right)^{2}}{8} + \\frac{3998607 \\left(a^{\\dagger}_{3}\\right)^{2} a^{\\dagger}_{0}}{45239074} - \\frac{3998607 \\left(a^{\\dagger}_{3}\\right)^{2} a^{\\dagger}_{2}}{45239074} + \\frac{3998607 \\left(a^{\\dagger}_{3}\\right)^{2} a_{0}}{45239074} - \\frac{3998607 \\left(a^{\\dagger}_{3}\\right)^{2} a_{2}}{45239074} + \\frac{\\left(a^{\\dagger}_{3}\\right)^{2} a_{3} a^{\\dagger}_{3}}{8} + \\frac{\\left(a^{\\dagger}_{3}\\right)^{2} a_{3}^{2}}{8} + \\frac{\\left(a^{\\dagger}_{3}\\right)^{3} a_{3}}{8} + \\frac{\\left(a^{\\dagger}_{3}\\right)^{4}}{8} + \\frac{38613965 a_{0}}{54608393} - \\frac{131836323 a_{0} \\chi^{\\dagger}_{0} \\chi_{0}}{93222358} - \\frac{37 a_{0} a^{\\dagger}_{0}}{8} + \\frac{3998607 a_{0} a^{\\dagger}_{0} a^{\\dagger}_{1}}{45239074} - \\frac{3998607 a_{0} a^{\\dagger}_{0} a^{\\dagger}_{3}}{45239074} + \\frac{a_{0} a^{\\dagger}_{0} a_{0} a^{\\dagger}_{0}}{8} + \\frac{a_{0} a^{\\dagger}_{0} a_{0}^{2}}{8} + \\frac{3998607 a_{0} a^{\\dagger}_{0} a_{1}}{45239074} - \\frac{3998607 a_{0} a^{\\dagger}_{0} a_{3}}{45239074} + \\frac{a_{0} \\left(a^{\\dagger}_{0}\\right)^{2} a_{0}}{8} + \\frac{a_{0} \\left(a^{\\dagger}_{0}\\right)^{3}}{8} - \\frac{3998607 a_{0} a^{\\dagger}_{1} a_{1}}{45239074} - \\frac{3998607 a_{0} \\left(a^{\\dagger}_{1}\\right)^{2}}{45239074} - \\frac{a_{0} a^{\\dagger}_{2}}{8} + \\frac{3998607 a_{0} a^{\\dagger}_{3} a_{3}}{45239074} + \\frac{3998607 a_{0} \\left(a^{\\dagger}_{3}\\right)^{2}}{45239074} - \\frac{3998607 a_{0} a_{1} a^{\\dagger}_{1}}{45239074} - \\frac{3998607 a_{0} a_{1}^{2}}{45239074} - \\frac{a_{0} a_{2}}{8} + \\frac{3998607 a_{0} a_{3} a^{\\dagger}_{3}}{45239074} + \\frac{3998607 a_{0} a_{3}^{2}}{45239074} - \\frac{41 a_{0}^{2}}{8} + \\frac{a_{0}^{2} a^{\\dagger}_{0} a_{0}}{8} + \\frac{a_{0}^{2} \\left(a^{\\dagger}_{0}\\right)^{2}}{8} + \\frac{3998607 a_{0}^{2} a^{\\dagger}_{1}}{45239074} - \\frac{3998607 a_{0}^{2} a^{\\dagger}_{3}}{45239074} + \\frac{3998607 a_{0}^{2} a_{1}}{45239074} - \\frac{3998607 a_{0}^{2} a_{3}}{45239074} + \\frac{a_{0}^{3} a^{\\dagger}_{0}}{8} + \\frac{a_{0}^{4}}{8} - \\frac{38613965 a_{1}}{54608393} + \\frac{131836323 a_{1} \\chi^{\\dagger}_{1} \\chi_{1}}{93222358} + \\frac{3998607 a_{1} a^{\\dagger}_{0} a_{0}}{45239074} + \\frac{3998607 a_{1} \\left(a^{\\dagger}_{0}\\right)^{2}}{45239074} - \\frac{37 a_{1} a^{\\dagger}_{1}}{8} - \\frac{3998607 a_{1} a^{\\dagger}_{1} a^{\\dagger}_{0}}{45239074} + \\frac{3998607 a_{1} a^{\\dagger}_{1} a^{\\dagger}_{2}}{45239074} - \\frac{3998607 a_{1} a^{\\dagger}_{1} a_{0}}{45239074} + \\frac{a_{1} a^{\\dagger}_{1} a_{1} a^{\\dagger}_{1}}{8} + \\frac{a_{1} a^{\\dagger}_{1} a_{1}^{2}}{8} + \\frac{3998607 a_{1} a^{\\dagger}_{1} a_{2}}{45239074} + \\frac{a_{1} \\left(a^{\\dagger}_{1}\\right)^{2} a_{1}}{8} + \\frac{a_{1} \\left(a^{\\dagger}_{1}\\right)^{3}}{8} - \\frac{3998607 a_{1} a^{\\dagger}_{2} a_{2}}{45239074} - \\frac{3998607 a_{1} \\left(a^{\\dagger}_{2}\\right)^{2}}{45239074} - \\frac{a_{1} a^{\\dagger}_{3}}{8} + \\frac{3998607 a_{1} a_{0} a^{\\dagger}_{0}}{45239074} + \\frac{3998607 a_{1} a_{0}^{2}}{45239074} - \\frac{3998607 a_{1} a_{2} a^{\\dagger}_{2}}{45239074} - \\frac{3998607 a_{1} a_{2}^{2}}{45239074} - \\frac{a_{1} a_{3}}{8} - \\frac{41 a_{1}^{2}}{8} - \\frac{3998607 a_{1}^{2} a^{\\dagger}_{0}}{45239074} + \\frac{a_{1}^{2} a^{\\dagger}_{1} a_{1}}{8} + \\frac{a_{1}^{2} \\left(a^{\\dagger}_{1}\\right)^{2}}{8} + \\frac{3998607 a_{1}^{2} a^{\\dagger}_{2}}{45239074} - \\frac{3998607 a_{1}^{2} a_{0}}{45239074} + \\frac{3998607 a_{1}^{2} a_{2}}{45239074} + \\frac{a_{1}^{3} a^{\\dagger}_{1}}{8} + \\frac{a_{1}^{4}}{8} + \\frac{38613965 a_{2}}{54608393} - \\frac{131836323 a_{2} \\chi^{\\dagger}_{2} \\chi_{2}}{93222358} - \\frac{a_{2} a^{\\dagger}_{0}}{8} + \\frac{3998607 a_{2} a^{\\dagger}_{1} a_{1}}{45239074} + \\frac{3998607 a_{2} \\left(a^{\\dagger}_{1}\\right)^{2}}{45239074} - \\frac{37 a_{2} a^{\\dagger}_{2}}{8} - \\frac{3998607 a_{2} a^{\\dagger}_{2} a^{\\dagger}_{1}}{45239074} + \\frac{3998607 a_{2} a^{\\dagger}_{2} a^{\\dagger}_{3}}{45239074} - \\frac{3998607 a_{2} a^{\\dagger}_{2} a_{1}}{45239074} + \\frac{a_{2} a^{\\dagger}_{2} a_{2} a^{\\dagger}_{2}}{8} + \\frac{a_{2} a^{\\dagger}_{2} a_{2}^{2}}{8} + \\frac{3998607 a_{2} a^{\\dagger}_{2} a_{3}}{45239074} + \\frac{a_{2} \\left(a^{\\dagger}_{2}\\right)^{2} a_{2}}{8} + \\frac{a_{2} \\left(a^{\\dagger}_{2}\\right)^{3}}{8} - \\frac{3998607 a_{2} a^{\\dagger}_{3} a_{3}}{45239074} - \\frac{3998607 a_{2} \\left(a^{\\dagger}_{3}\\right)^{2}}{45239074} - \\frac{a_{2} a_{0}}{8} + \\frac{3998607 a_{2} a_{1} a^{\\dagger}_{1}}{45239074} + \\frac{3998607 a_{2} a_{1}^{2}}{45239074} - \\frac{3998607 a_{2} a_{3} a^{\\dagger}_{3}}{45239074} - \\frac{3998607 a_{2} a_{3}^{2}}{45239074} - \\frac{41 a_{2}^{2}}{8} - \\frac{3998607 a_{2}^{2} a^{\\dagger}_{1}}{45239074} + \\frac{a_{2}^{2} a^{\\dagger}_{2} a_{2}}{8} + \\frac{a_{2}^{2} \\left(a^{\\dagger}_{2}\\right)^{2}}{8} + \\frac{3998607 a_{2}^{2} a^{\\dagger}_{3}}{45239074} - \\frac{3998607 a_{2}^{2} a_{1}}{45239074} + \\frac{3998607 a_{2}^{2} a_{3}}{45239074} + \\frac{a_{2}^{3} a^{\\dagger}_{2}}{8} + \\frac{a_{2}^{4}}{8} - \\frac{38613965 a_{3}}{54608393} + \\frac{131836323 a_{3} \\chi^{\\dagger}_{3} \\chi_{3}}{93222358} - \\frac{3998607 a_{3} a^{\\dagger}_{0} a_{0}}{45239074} - \\frac{3998607 a_{3} \\left(a^{\\dagger}_{0}\\right)^{2}}{45239074} - \\frac{a_{3} a^{\\dagger}_{1}}{8} + \\frac{3998607 a_{3} a^{\\dagger}_{2} a_{2}}{45239074} + \\frac{3998607 a_{3} \\left(a^{\\dagger}_{2}\\right)^{2}}{45239074} - \\frac{37 a_{3} a^{\\dagger}_{3}}{8} + \\frac{3998607 a_{3} a^{\\dagger}_{3} a^{\\dagger}_{0}}{45239074} - \\frac{3998607 a_{3} a^{\\dagger}_{3} a^{\\dagger}_{2}}{45239074} + \\frac{3998607 a_{3} a^{\\dagger}_{3} a_{0}}{45239074} - \\frac{3998607 a_{3} a^{\\dagger}_{3} a_{2}}{45239074} + \\frac{a_{3} a^{\\dagger}_{3} a_{3} a^{\\dagger}_{3}}{8} + \\frac{a_{3} a^{\\dagger}_{3} a_{3}^{2}}{8} + \\frac{a_{3} \\left(a^{\\dagger}_{3}\\right)^{2} a_{3}}{8} + \\frac{a_{3} \\left(a^{\\dagger}_{3}\\right)^{3}}{8} - \\frac{3998607 a_{3} a_{0} a^{\\dagger}_{0}}{45239074} - \\frac{3998607 a_{3} a_{0}^{2}}{45239074} - \\frac{a_{3} a_{1}}{8} + \\frac{3998607 a_{3} a_{2} a^{\\dagger}_{2}}{45239074} + \\frac{3998607 a_{3} a_{2}^{2}}{45239074} - \\frac{41 a_{3}^{2}}{8} + \\frac{3998607 a_{3}^{2} a^{\\dagger}_{0}}{45239074} - \\frac{3998607 a_{3}^{2} a^{\\dagger}_{2}}{45239074} + \\frac{a_{3}^{2} a^{\\dagger}_{3} a_{3}}{8} + \\frac{a_{3}^{2} \\left(a^{\\dagger}_{3}\\right)^{2}}{8} + \\frac{3998607 a_{3}^{2} a_{0}}{45239074} - \\frac{3998607 a_{3}^{2} a_{2}}{45239074} + \\frac{a_{3}^{3} a^{\\dagger}_{3}}{8} + \\frac{a_{3}^{4}}{8}$"
      ],
      "text/plain": [
       "200 - \\chi^{\\dagger}_{0}*\\chi_{1}/2 + \\chi^{\\dagger}_{0}*\\chi_{3}/2 - \\chi^{\\dagger}_{1}*\\chi_{0}/2 - \\chi^{\\dagger}_{1}*\\chi_{2}/2 - \\chi^{\\dagger}_{2}*\\chi_{1}/2 - \\chi^{\\dagger}_{2}*\\chi_{3}/2 + \\chi^{\\dagger}_{3}*\\chi_{0}/2 - \\chi^{\\dagger}_{3}*\\chi_{2}/2 + 38613965*a^{\\dagger}_{0}/54608393 - 131836323*a^{\\dagger}_{0}*\\chi^{\\dagger}_{0}*\\chi_{0}/93222358 - 3998607*a^{\\dagger}_{0}*a^{\\dagger}_{1}*a_{1}/45239074 - 3998607*a^{\\dagger}_{0}*a^{\\dagger}_{1}**2/45239074 - a^{\\dagger}_{0}*a^{\\dagger}_{2}/8 + 3998607*a^{\\dagger}_{0}*a^{\\dagger}_{3}*a_{3}/45239074 + 3998607*a^{\\dagger}_{0}*a^{\\dagger}_{3}**2/45239074 - 37*a^{\\dagger}_{0}*a_{0}/8 + a^{\\dagger}_{0}*a_{0}*a^{\\dagger}_{0}*a_{0}/8 + a^{\\dagger}_{0}*a_{0}*a^{\\dagger}_{0}**2/8 + 3998607*a^{\\dagger}_{0}*a_{0}*a^{\\dagger}_{1}/45239074 - 3998607*a^{\\dagger}_{0}*a_{0}*a^{\\dagger}_{3}/45239074 + 3998607*a^{\\dagger}_{0}*a_{0}*a_{1}/45239074 - 3998607*a^{\\dagger}_{0}*a_{0}*a_{3}/45239074 + a^{\\dagger}_{0}*a_{0}**2*a^{\\dagger}_{0}/8 + a^{\\dagger}_{0}*a_{0}**3/8 - 3998607*a^{\\dagger}_{0}*a_{1}*a^{\\dagger}_{1}/45239074 - 3998607*a^{\\dagger}_{0}*a_{1}**2/45239074 - a^{\\dagger}_{0}*a_{2}/8 + 3998607*a^{\\dagger}_{0}*a_{3}*a^{\\dagger}_{3}/45239074 + 3998607*a^{\\dagger}_{0}*a_{3}**2/45239074 - 41*a^{\\dagger}_{0}**2/8 + 3998607*a^{\\dagger}_{0}**2*a^{\\dagger}_{1}/45239074 - 3998607*a^{\\dagger}_{0}**2*a^{\\dagger}_{3}/45239074 + a^{\\dagger}_{0}**2*a_{0}*a^{\\dagger}_{0}/8 + a^{\\dagger}_{0}**2*a_{0}**2/8 + 3998607*a^{\\dagger}_{0}**2*a_{1}/45239074 - 3998607*a^{\\dagger}_{0}**2*a_{3}/45239074 + a^{\\dagger}_{0}**3*a_{0}/8 + a^{\\dagger}_{0}**4/8 - 38613965*a^{\\dagger}_{1}/54608393 + 131836323*a^{\\dagger}_{1}*\\chi^{\\dagger}_{1}*\\chi_{1}/93222358 + 3998607*a^{\\dagger}_{1}*a^{\\dagger}_{0}*a_{0}/45239074 + 3998607*a^{\\dagger}_{1}*a^{\\dagger}_{0}**2/45239074 - 3998607*a^{\\dagger}_{1}*a^{\\dagger}_{2}*a_{2}/45239074 - 3998607*a^{\\dagger}_{1}*a^{\\dagger}_{2}**2/45239074 - a^{\\dagger}_{1}*a^{\\dagger}_{3}/8 + 3998607*a^{\\dagger}_{1}*a_{0}*a^{\\dagger}_{0}/45239074 + 3998607*a^{\\dagger}_{1}*a_{0}**2/45239074 - 37*a^{\\dagger}_{1}*a_{1}/8 - 3998607*a^{\\dagger}_{1}*a_{1}*a^{\\dagger}_{0}/45239074 + a^{\\dagger}_{1}*a_{1}*a^{\\dagger}_{1}*a_{1}/8 + a^{\\dagger}_{1}*a_{1}*a^{\\dagger}_{1}**2/8 + 3998607*a^{\\dagger}_{1}*a_{1}*a^{\\dagger}_{2}/45239074 - 3998607*a^{\\dagger}_{1}*a_{1}*a_{0}/45239074 + 3998607*a^{\\dagger}_{1}*a_{1}*a_{2}/45239074 + a^{\\dagger}_{1}*a_{1}**2*a^{\\dagger}_{1}/8 + a^{\\dagger}_{1}*a_{1}**3/8 - 3998607*a^{\\dagger}_{1}*a_{2}*a^{\\dagger}_{2}/45239074 - 3998607*a^{\\dagger}_{1}*a_{2}**2/45239074 - a^{\\dagger}_{1}*a_{3}/8 - 41*a^{\\dagger}_{1}**2/8 - 3998607*a^{\\dagger}_{1}**2*a^{\\dagger}_{0}/45239074 + 3998607*a^{\\dagger}_{1}**2*a^{\\dagger}_{2}/45239074 - 3998607*a^{\\dagger}_{1}**2*a_{0}/45239074 + a^{\\dagger}_{1}**2*a_{1}*a^{\\dagger}_{1}/8 + a^{\\dagger}_{1}**2*a_{1}**2/8 + 3998607*a^{\\dagger}_{1}**2*a_{2}/45239074 + a^{\\dagger}_{1}**3*a_{1}/8 + a^{\\dagger}_{1}**4/8 + 38613965*a^{\\dagger}_{2}/54608393 - 131836323*a^{\\dagger}_{2}*\\chi^{\\dagger}_{2}*\\chi_{2}/93222358 - a^{\\dagger}_{2}*a^{\\dagger}_{0}/8 + 3998607*a^{\\dagger}_{2}*a^{\\dagger}_{1}*a_{1}/45239074 + 3998607*a^{\\dagger}_{2}*a^{\\dagger}_{1}**2/45239074 - 3998607*a^{\\dagger}_{2}*a^{\\dagger}_{3}*a_{3}/45239074 - 3998607*a^{\\dagger}_{2}*a^{\\dagger}_{3}**2/45239074 - a^{\\dagger}_{2}*a_{0}/8 + 3998607*a^{\\dagger}_{2}*a_{1}*a^{\\dagger}_{1}/45239074 + 3998607*a^{\\dagger}_{2}*a_{1}**2/45239074 - 37*a^{\\dagger}_{2}*a_{2}/8 - 3998607*a^{\\dagger}_{2}*a_{2}*a^{\\dagger}_{1}/45239074 + a^{\\dagger}_{2}*a_{2}*a^{\\dagger}_{2}*a_{2}/8 + a^{\\dagger}_{2}*a_{2}*a^{\\dagger}_{2}**2/8 + 3998607*a^{\\dagger}_{2}*a_{2}*a^{\\dagger}_{3}/45239074 - 3998607*a^{\\dagger}_{2}*a_{2}*a_{1}/45239074 + 3998607*a^{\\dagger}_{2}*a_{2}*a_{3}/45239074 + a^{\\dagger}_{2}*a_{2}**2*a^{\\dagger}_{2}/8 + a^{\\dagger}_{2}*a_{2}**3/8 - 3998607*a^{\\dagger}_{2}*a_{3}*a^{\\dagger}_{3}/45239074 - 3998607*a^{\\dagger}_{2}*a_{3}**2/45239074 - 41*a^{\\dagger}_{2}**2/8 - 3998607*a^{\\dagger}_{2}**2*a^{\\dagger}_{1}/45239074 + 3998607*a^{\\dagger}_{2}**2*a^{\\dagger}_{3}/45239074 - 3998607*a^{\\dagger}_{2}**2*a_{1}/45239074 + a^{\\dagger}_{2}**2*a_{2}*a^{\\dagger}_{2}/8 + a^{\\dagger}_{2}**2*a_{2}**2/8 + 3998607*a^{\\dagger}_{2}**2*a_{3}/45239074 + a^{\\dagger}_{2}**3*a_{2}/8 + a^{\\dagger}_{2}**4/8 - 38613965*a^{\\dagger}_{3}/54608393 + 131836323*a^{\\dagger}_{3}*\\chi^{\\dagger}_{3}*\\chi_{3}/93222358 - 3998607*a^{\\dagger}_{3}*a^{\\dagger}_{0}*a_{0}/45239074 - 3998607*a^{\\dagger}_{3}*a^{\\dagger}_{0}**2/45239074 - a^{\\dagger}_{3}*a^{\\dagger}_{1}/8 + 3998607*a^{\\dagger}_{3}*a^{\\dagger}_{2}*a_{2}/45239074 + 3998607*a^{\\dagger}_{3}*a^{\\dagger}_{2}**2/45239074 - 3998607*a^{\\dagger}_{3}*a_{0}*a^{\\dagger}_{0}/45239074 - 3998607*a^{\\dagger}_{3}*a_{0}**2/45239074 - a^{\\dagger}_{3}*a_{1}/8 + 3998607*a^{\\dagger}_{3}*a_{2}*a^{\\dagger}_{2}/45239074 + 3998607*a^{\\dagger}_{3}*a_{2}**2/45239074 - 37*a^{\\dagger}_{3}*a_{3}/8 + 3998607*a^{\\dagger}_{3}*a_{3}*a^{\\dagger}_{0}/45239074 - 3998607*a^{\\dagger}_{3}*a_{3}*a^{\\dagger}_{2}/45239074 + a^{\\dagger}_{3}*a_{3}*a^{\\dagger}_{3}*a_{3}/8 + a^{\\dagger}_{3}*a_{3}*a^{\\dagger}_{3}**2/8 + 3998607*a^{\\dagger}_{3}*a_{3}*a_{0}/45239074 - 3998607*a^{\\dagger}_{3}*a_{3}*a_{2}/45239074 + a^{\\dagger}_{3}*a_{3}**2*a^{\\dagger}_{3}/8 + a^{\\dagger}_{3}*a_{3}**3/8 - 41*a^{\\dagger}_{3}**2/8 + 3998607*a^{\\dagger}_{3}**2*a^{\\dagger}_{0}/45239074 - 3998607*a^{\\dagger}_{3}**2*a^{\\dagger}_{2}/45239074 + 3998607*a^{\\dagger}_{3}**2*a_{0}/45239074 - 3998607*a^{\\dagger}_{3}**2*a_{2}/45239074 + a^{\\dagger}_{3}**2*a_{3}*a^{\\dagger}_{3}/8 + a^{\\dagger}_{3}**2*a_{3}**2/8 + a^{\\dagger}_{3}**3*a_{3}/8 + a^{\\dagger}_{3}**4/8 + 38613965*a_{0}/54608393 - 131836323*a_{0}*\\chi^{\\dagger}_{0}*\\chi_{0}/93222358 - 37*a_{0}*a^{\\dagger}_{0}/8 + 3998607*a_{0}*a^{\\dagger}_{0}*a^{\\dagger}_{1}/45239074 - 3998607*a_{0}*a^{\\dagger}_{0}*a^{\\dagger}_{3}/45239074 + a_{0}*a^{\\dagger}_{0}*a_{0}*a^{\\dagger}_{0}/8 + a_{0}*a^{\\dagger}_{0}*a_{0}**2/8 + 3998607*a_{0}*a^{\\dagger}_{0}*a_{1}/45239074 - 3998607*a_{0}*a^{\\dagger}_{0}*a_{3}/45239074 + a_{0}*a^{\\dagger}_{0}**2*a_{0}/8 + a_{0}*a^{\\dagger}_{0}**3/8 - 3998607*a_{0}*a^{\\dagger}_{1}*a_{1}/45239074 - 3998607*a_{0}*a^{\\dagger}_{1}**2/45239074 - a_{0}*a^{\\dagger}_{2}/8 + 3998607*a_{0}*a^{\\dagger}_{3}*a_{3}/45239074 + 3998607*a_{0}*a^{\\dagger}_{3}**2/45239074 - 3998607*a_{0}*a_{1}*a^{\\dagger}_{1}/45239074 - 3998607*a_{0}*a_{1}**2/45239074 - a_{0}*a_{2}/8 + 3998607*a_{0}*a_{3}*a^{\\dagger}_{3}/45239074 + 3998607*a_{0}*a_{3}**2/45239074 - 41*a_{0}**2/8 + a_{0}**2*a^{\\dagger}_{0}*a_{0}/8 + a_{0}**2*a^{\\dagger}_{0}**2/8 + 3998607*a_{0}**2*a^{\\dagger}_{1}/45239074 - 3998607*a_{0}**2*a^{\\dagger}_{3}/45239074 + 3998607*a_{0}**2*a_{1}/45239074 - 3998607*a_{0}**2*a_{3}/45239074 + a_{0}**3*a^{\\dagger}_{0}/8 + a_{0}**4/8 - 38613965*a_{1}/54608393 + 131836323*a_{1}*\\chi^{\\dagger}_{1}*\\chi_{1}/93222358 + 3998607*a_{1}*a^{\\dagger}_{0}*a_{0}/45239074 + 3998607*a_{1}*a^{\\dagger}_{0}**2/45239074 - 37*a_{1}*a^{\\dagger}_{1}/8 - 3998607*a_{1}*a^{\\dagger}_{1}*a^{\\dagger}_{0}/45239074 + 3998607*a_{1}*a^{\\dagger}_{1}*a^{\\dagger}_{2}/45239074 - 3998607*a_{1}*a^{\\dagger}_{1}*a_{0}/45239074 + a_{1}*a^{\\dagger}_{1}*a_{1}*a^{\\dagger}_{1}/8 + a_{1}*a^{\\dagger}_{1}*a_{1}**2/8 + 3998607*a_{1}*a^{\\dagger}_{1}*a_{2}/45239074 + a_{1}*a^{\\dagger}_{1}**2*a_{1}/8 + a_{1}*a^{\\dagger}_{1}**3/8 - 3998607*a_{1}*a^{\\dagger}_{2}*a_{2}/45239074 - 3998607*a_{1}*a^{\\dagger}_{2}**2/45239074 - a_{1}*a^{\\dagger}_{3}/8 + 3998607*a_{1}*a_{0}*a^{\\dagger}_{0}/45239074 + 3998607*a_{1}*a_{0}**2/45239074 - 3998607*a_{1}*a_{2}*a^{\\dagger}_{2}/45239074 - 3998607*a_{1}*a_{2}**2/45239074 - a_{1}*a_{3}/8 - 41*a_{1}**2/8 - 3998607*a_{1}**2*a^{\\dagger}_{0}/45239074 + a_{1}**2*a^{\\dagger}_{1}*a_{1}/8 + a_{1}**2*a^{\\dagger}_{1}**2/8 + 3998607*a_{1}**2*a^{\\dagger}_{2}/45239074 - 3998607*a_{1}**2*a_{0}/45239074 + 3998607*a_{1}**2*a_{2}/45239074 + a_{1}**3*a^{\\dagger}_{1}/8 + a_{1}**4/8 + 38613965*a_{2}/54608393 - 131836323*a_{2}*\\chi^{\\dagger}_{2}*\\chi_{2}/93222358 - a_{2}*a^{\\dagger}_{0}/8 + 3998607*a_{2}*a^{\\dagger}_{1}*a_{1}/45239074 + 3998607*a_{2}*a^{\\dagger}_{1}**2/45239074 - 37*a_{2}*a^{\\dagger}_{2}/8 - 3998607*a_{2}*a^{\\dagger}_{2}*a^{\\dagger}_{1}/45239074 + 3998607*a_{2}*a^{\\dagger}_{2}*a^{\\dagger}_{3}/45239074 - 3998607*a_{2}*a^{\\dagger}_{2}*a_{1}/45239074 + a_{2}*a^{\\dagger}_{2}*a_{2}*a^{\\dagger}_{2}/8 + a_{2}*a^{\\dagger}_{2}*a_{2}**2/8 + 3998607*a_{2}*a^{\\dagger}_{2}*a_{3}/45239074 + a_{2}*a^{\\dagger}_{2}**2*a_{2}/8 + a_{2}*a^{\\dagger}_{2}**3/8 - 3998607*a_{2}*a^{\\dagger}_{3}*a_{3}/45239074 - 3998607*a_{2}*a^{\\dagger}_{3}**2/45239074 - a_{2}*a_{0}/8 + 3998607*a_{2}*a_{1}*a^{\\dagger}_{1}/45239074 + 3998607*a_{2}*a_{1}**2/45239074 - 3998607*a_{2}*a_{3}*a^{\\dagger}_{3}/45239074 - 3998607*a_{2}*a_{3}**2/45239074 - 41*a_{2}**2/8 - 3998607*a_{2}**2*a^{\\dagger}_{1}/45239074 + a_{2}**2*a^{\\dagger}_{2}*a_{2}/8 + a_{2}**2*a^{\\dagger}_{2}**2/8 + 3998607*a_{2}**2*a^{\\dagger}_{3}/45239074 - 3998607*a_{2}**2*a_{1}/45239074 + 3998607*a_{2}**2*a_{3}/45239074 + a_{2}**3*a^{\\dagger}_{2}/8 + a_{2}**4/8 - 38613965*a_{3}/54608393 + 131836323*a_{3}*\\chi^{\\dagger}_{3}*\\chi_{3}/93222358 - 3998607*a_{3}*a^{\\dagger}_{0}*a_{0}/45239074 - 3998607*a_{3}*a^{\\dagger}_{0}**2/45239074 - a_{3}*a^{\\dagger}_{1}/8 + 3998607*a_{3}*a^{\\dagger}_{2}*a_{2}/45239074 + 3998607*a_{3}*a^{\\dagger}_{2}**2/45239074 - 37*a_{3}*a^{\\dagger}_{3}/8 + 3998607*a_{3}*a^{\\dagger}_{3}*a^{\\dagger}_{0}/45239074 - 3998607*a_{3}*a^{\\dagger}_{3}*a^{\\dagger}_{2}/45239074 + 3998607*a_{3}*a^{\\dagger}_{3}*a_{0}/45239074 - 3998607*a_{3}*a^{\\dagger}_{3}*a_{2}/45239074 + a_{3}*a^{\\dagger}_{3}*a_{3}*a^{\\dagger}_{3}/8 + a_{3}*a^{\\dagger}_{3}*a_{3}**2/8 + a_{3}*a^{\\dagger}_{3}**2*a_{3}/8 + a_{3}*a^{\\dagger}_{3}**3/8 - 3998607*a_{3}*a_{0}*a^{\\dagger}_{0}/45239074 - 3998607*a_{3}*a_{0}**2/45239074 - a_{3}*a_{1}/8 + 3998607*a_{3}*a_{2}*a^{\\dagger}_{2}/45239074 + 3998607*a_{3}*a_{2}**2/45239074 - 41*a_{3}**2/8 + 3998607*a_{3}**2*a^{\\dagger}_{0}/45239074 - 3998607*a_{3}**2*a^{\\dagger}_{2}/45239074 + a_{3}**2*a^{\\dagger}_{3}*a_{3}/8 + a_{3}**2*a^{\\dagger}_{3}**2/8 + 3998607*a_{3}**2*a_{0}/45239074 - 3998607*a_{3}**2*a_{2}/45239074 + a_{3}**3*a^{\\dagger}_{3}/8 + a_{3}**4/8"
      ]
     },
     "execution_count": 8,
     "metadata": {},
     "output_type": "execute_result"
    }
   ],
   "source": [
    "m=1\n",
    "\n",
    "HOdofSubs = {}\n",
    "#offset because of BC\n",
    "for i in range(1,N+1):\n",
    "    HOdofSubs[qs[i]] = 0.5*sp.sqrt(2/m)*(aops[i] + adags[i])\n",
    "    HOdofSubs[ps[i]] = complex(0,1)*sp.sqrt(2*m)*(adags[i] - aops[i])/2 \n",
    "\n",
    "hoHam=sp.expand(ham.subs(HOdofSubs))\n",
    "hoHam=sp.nsimplify(hoHam,tolerance=1e-8)\n",
    "hoHam"
   ]
  },
  {
   "cell_type": "code",
   "execution_count": 9,
   "metadata": {},
   "outputs": [
    {
     "name": "stderr",
     "output_type": "stream",
     "text": [
      "/home/chrisculver/miniconda3/envs/QuantumComputing/lib/python3.9/site-packages/scipy/sparse/_sputils.py:114: UserWarning: object dtype is not supported by sparse matrices\n",
      "  warnings.warn(\"object dtype is not supported by sparse matrices\")\n"
     ]
    },
    {
     "name": "stdout",
     "output_type": "stream",
     "text": [
      "toHam timer took: 4.7626 seconds\n",
      "evals timer took: 0.0922 seconds\n",
      "Lambda =  2\n",
      "[178.35419-4.28194483e-07j 178.67282-1.25583028e-07j\n",
      " 178.35464-6.23800588e-07j 179.00587-1.42266799e-07j\n",
      " 178.67206-1.02495505e-08j 179.00552+6.12315489e-07j\n",
      " 179.00551+8.87375791e-08j 179.00586+1.08331426e-06j\n",
      " 179.0051 +5.34565970e-07j 179.00473-1.26805389e-07j]\n",
      "\n",
      "toHam timer took: 16.5047 seconds\n",
      "evals timer took: 0.1083 seconds\n",
      "Lambda =  3\n",
      "[140.94708+4.0791929e-07j 141.14969-1.1581029e-06j\n",
      " 140.94696-6.0391903e-07j 141.14958-4.5243331e-07j\n",
      " 142.2765 -1.7124508e-07j 142.27602+1.7497223e-07j\n",
      " 142.46675+4.6426430e-07j 142.27483-5.5625333e-07j\n",
      " 142.27444+3.9883662e-07j 142.46587+2.7827702e-09j]\n",
      "\n",
      "toHam timer took: 85.2791 seconds\n",
      "evals timer took: 0.4928 seconds\n",
      "Lambda =  4\n",
      "[101.155266+1.3306300e-07j 101.30637 +1.1939790e-07j\n",
      " 101.15472 -2.0192965e-07j 101.305824-5.9605696e-08j\n",
      " 103.44343 +4.3588597e-07j 103.443   +4.5041378e-07j\n",
      " 103.442474-6.2110570e-07j 103.737236+8.8180968e-08j\n",
      " 103.44245 -6.0011001e-09j 103.73667 +5.1529287e-07j]\n",
      "\n",
      "toHam timer took: 309.2763 seconds\n",
      "evals timer took: 2.9075 seconds\n",
      "Lambda =  5\n",
      "[64.3347  +8.2989573e-08j 64.45779 +4.1030745e-08j\n",
      " 64.3344  +4.2610918e-07j 64.457695-1.2761950e-07j\n",
      " 67.529976-1.8647418e-08j 67.53057 -5.5908072e-07j\n",
      " 67.99488 -5.6843852e-08j 67.530136+1.3549274e-07j\n",
      " 67.99396 -9.4588792e-08j 67.52933 +1.7936171e-07j]\n",
      "\n"
     ]
    },
    {
     "ename": "KeyboardInterrupt",
     "evalue": "",
     "output_type": "error",
     "traceback": [
      "\u001b[0;31m---------------------------------------------------------------------------\u001b[0m",
      "\u001b[0;31mKeyboardInterrupt\u001b[0m                         Traceback (most recent call last)",
      "Input \u001b[0;32mIn [9]\u001b[0m, in \u001b[0;36m<cell line: 1>\u001b[0;34m()\u001b[0m\n\u001b[1;32m      2\u001b[0m t\u001b[38;5;241m=\u001b[39mTimer(\u001b[38;5;124m'\u001b[39m\u001b[38;5;124mtoHam\u001b[39m\u001b[38;5;124m'\u001b[39m)\n\u001b[1;32m      3\u001b[0m t\u001b[38;5;241m.\u001b[39mstart()\n\u001b[0;32m----> 4\u001b[0m hamMat\u001b[38;5;241m=\u001b[39m\u001b[43mconvert_to_matrix\u001b[49m\u001b[43m(\u001b[49m\u001b[43mhoHam\u001b[49m\u001b[43m,\u001b[49m\u001b[43mcutoff\u001b[49m\u001b[43m,\u001b[49m\u001b[43mN\u001b[49m\u001b[43m,\u001b[49m\u001b[43maops\u001b[49m\u001b[43m,\u001b[49m\u001b[43madags\u001b[49m\u001b[43m,\u001b[49m\u001b[43mxs\u001b[49m\u001b[43m,\u001b[49m\u001b[43mxdags\u001b[49m\u001b[43m)\u001b[49m\n\u001b[1;32m      5\u001b[0m t\u001b[38;5;241m.\u001b[39mstop()\n\u001b[1;32m      7\u001b[0m t\u001b[38;5;241m=\u001b[39mTimer(\u001b[38;5;124m'\u001b[39m\u001b[38;5;124mevals\u001b[39m\u001b[38;5;124m'\u001b[39m)\n",
      "File \u001b[0;32m~/Code/WessZumino/ham_to_sparse_matrix.py:77\u001b[0m, in \u001b[0;36mconvert_to_matrix\u001b[0;34m(expr, cutoff, Nsites, aops, adags, xs, xdags)\u001b[0m\n\u001b[1;32m     73\u001b[0m \u001b[38;5;66;03m# convert each term to matrix and sum up\u001b[39;00m\n\u001b[1;32m     74\u001b[0m \u001b[38;5;28;01mfor\u001b[39;00m t \u001b[38;5;129;01min\u001b[39;00m expr\u001b[38;5;241m.\u001b[39margs:\n\u001b[1;32m     75\u001b[0m     \u001b[38;5;66;03m#timer=Timer(str(t)+' to matrix')\u001b[39;00m\n\u001b[1;32m     76\u001b[0m     \u001b[38;5;66;03m#timer.start()\u001b[39;00m\n\u001b[0;32m---> 77\u001b[0m     termMat\u001b[38;5;241m=\u001b[39m\u001b[43mconvert_term_to_matrix\u001b[49m\u001b[43m(\u001b[49m\u001b[43mt\u001b[49m\u001b[43m,\u001b[49m\u001b[43mcutoff\u001b[49m\u001b[43m,\u001b[49m\u001b[43mNsites\u001b[49m\u001b[43m,\u001b[49m\u001b[43m \u001b[49m\u001b[43maops\u001b[49m\u001b[43m,\u001b[49m\u001b[43m \u001b[49m\u001b[43madags\u001b[49m\u001b[43m,\u001b[49m\u001b[43m \u001b[49m\u001b[43mxs\u001b[49m\u001b[43m,\u001b[49m\u001b[43m \u001b[49m\u001b[43mxdags\u001b[49m\u001b[43m)\u001b[49m\u001b[38;5;241m.\u001b[39mastype(np\u001b[38;5;241m.\u001b[39mcomplex64)\n\u001b[1;32m     78\u001b[0m     tmp\u001b[38;5;241m=\u001b[39mfullHam\u001b[38;5;241m+\u001b[39mtermMat\n\u001b[1;32m     79\u001b[0m     fullHam\u001b[38;5;241m=\u001b[39mtmp\n",
      "File \u001b[0;32m~/Code/WessZumino/ham_to_sparse_matrix.py:92\u001b[0m, in \u001b[0;36mconvert_term_to_matrix\u001b[0;34m(term, cutoff, Nsites, aops, adags, xs, xdags)\u001b[0m\n\u001b[1;32m     87\u001b[0m \u001b[38;5;28;01mdef\u001b[39;00m \u001b[38;5;21mconvert_term_to_matrix\u001b[39m(term, cutoff, Nsites, aops, adags, xs, xdags):\n\u001b[1;32m     88\u001b[0m     \u001b[38;5;66;03m#setupTimer=Timer('setup')\u001b[39;00m\n\u001b[1;32m     89\u001b[0m     \u001b[38;5;66;03m#setupTimer.start()\u001b[39;00m\n\u001b[1;32m     91\u001b[0m     buffer\u001b[38;5;241m=\u001b[39m\u001b[38;5;241m0\u001b[39m\n\u001b[0;32m---> 92\u001b[0m     prodMatrix \u001b[38;5;241m=\u001b[39m \u001b[43mscipy\u001b[49m\u001b[38;5;241;43m.\u001b[39;49m\u001b[43msparse\u001b[49m\u001b[38;5;241;43m.\u001b[39;49m\u001b[43mcoo_matrix\u001b[49m\u001b[43m(\u001b[49m\u001b[43mnp\u001b[49m\u001b[38;5;241;43m.\u001b[39;49m\u001b[43meye\u001b[49m\u001b[43m(\u001b[49m\u001b[43m(\u001b[49m\u001b[43m(\u001b[49m\u001b[43mcutoff\u001b[49m\u001b[38;5;241;43m+\u001b[39;49m\u001b[43mbuffer\u001b[49m\u001b[43m)\u001b[49m\u001b[38;5;241;43m*\u001b[39;49m\u001b[38;5;241;43m*\u001b[39;49m\u001b[43mNsites\u001b[49m\u001b[43m)\u001b[49m\u001b[38;5;241;43m*\u001b[39;49m\u001b[43m(\u001b[49m\u001b[38;5;241;43m2\u001b[39;49m\u001b[38;5;241;43m*\u001b[39;49m\u001b[38;5;241;43m*\u001b[39;49m\u001b[43mNsites\u001b[49m\u001b[43m)\u001b[49m\u001b[43m)\u001b[49m\u001b[43m)\u001b[49m\u001b[38;5;241m.\u001b[39mastype(np\u001b[38;5;241m.\u001b[39mcomplex64)\n\u001b[1;32m     94\u001b[0m     \u001b[38;5;66;03m#print(\"prod Start=\",prodMatrix)\u001b[39;00m\n\u001b[1;32m     96\u001b[0m     \u001b[38;5;28;01mif\u001b[39;00m \u001b[38;5;28mlen\u001b[39m(term\u001b[38;5;241m.\u001b[39margs)\u001b[38;5;241m==\u001b[39m\u001b[38;5;241m0\u001b[39m:\n",
      "File \u001b[0;32m~/miniconda3/envs/QuantumComputing/lib/python3.9/site-packages/scipy/sparse/_coo.py:189\u001b[0m, in \u001b[0;36mcoo_matrix.__init__\u001b[0;34m(self, arg1, shape, dtype, copy)\u001b[0m\n\u001b[1;32m    185\u001b[0m     \u001b[38;5;28;01mif\u001b[39;00m check_shape(shape) \u001b[38;5;241m!=\u001b[39m \u001b[38;5;28mself\u001b[39m\u001b[38;5;241m.\u001b[39m_shape:\n\u001b[1;32m    186\u001b[0m         \u001b[38;5;28;01mraise\u001b[39;00m \u001b[38;5;167;01mValueError\u001b[39;00m(\u001b[38;5;124m'\u001b[39m\u001b[38;5;124minconsistent shapes: \u001b[39m\u001b[38;5;132;01m%s\u001b[39;00m\u001b[38;5;124m != \u001b[39m\u001b[38;5;132;01m%s\u001b[39;00m\u001b[38;5;124m'\u001b[39m \u001b[38;5;241m%\u001b[39m\n\u001b[1;32m    187\u001b[0m                          (shape, \u001b[38;5;28mself\u001b[39m\u001b[38;5;241m.\u001b[39m_shape))\n\u001b[0;32m--> 189\u001b[0m \u001b[38;5;28mself\u001b[39m\u001b[38;5;241m.\u001b[39mrow, \u001b[38;5;28mself\u001b[39m\u001b[38;5;241m.\u001b[39mcol \u001b[38;5;241m=\u001b[39m \u001b[43mM\u001b[49m\u001b[38;5;241;43m.\u001b[39;49m\u001b[43mnonzero\u001b[49m\u001b[43m(\u001b[49m\u001b[43m)\u001b[49m\n\u001b[1;32m    190\u001b[0m \u001b[38;5;28mself\u001b[39m\u001b[38;5;241m.\u001b[39mdata \u001b[38;5;241m=\u001b[39m M[\u001b[38;5;28mself\u001b[39m\u001b[38;5;241m.\u001b[39mrow, \u001b[38;5;28mself\u001b[39m\u001b[38;5;241m.\u001b[39mcol]\n\u001b[1;32m    191\u001b[0m \u001b[38;5;28mself\u001b[39m\u001b[38;5;241m.\u001b[39mhas_canonical_format \u001b[38;5;241m=\u001b[39m \u001b[38;5;28;01mTrue\u001b[39;00m\n",
      "\u001b[0;31mKeyboardInterrupt\u001b[0m: "
     ]
    }
   ],
   "source": [
    "for cutoff in [2,3,4,5,6]:\n",
    "    t=Timer('toHam')\n",
    "    t.start()\n",
    "    hamMat=convert_to_matrix(hoHam,cutoff,N,aops,adags,xs,xdags)\n",
    "    t.stop()\n",
    "    \n",
    "    t=Timer('evals')\n",
    "    t.start()\n",
    "    ens=scipy.sparse.linalg.eigs(hamMat,k=10,which='SM')[0]\n",
    "    t.stop()\n",
    "    \n",
    "    print(\"Lambda = \",cutoff)\n",
    "    print(ens)\n",
    "    print()"
   ]
  },
  {
   "cell_type": "code",
   "execution_count": null,
   "metadata": {},
   "outputs": [],
   "source": []
  }
 ],
 "metadata": {
  "kernelspec": {
   "display_name": "Python 3",
   "language": "python",
   "name": "python3"
  },
  "language_info": {
   "codemirror_mode": {
    "name": "ipython",
    "version": 3
   },
   "file_extension": ".py",
   "mimetype": "text/x-python",
   "name": "python",
   "nbconvert_exporter": "python",
   "pygments_lexer": "ipython3",
   "version": "3.9.1"
  }
 },
 "nbformat": 4,
 "nbformat_minor": 5
}
