{
 "cells": [
  {
   "cell_type": "markdown",
   "metadata": {},
   "source": [
    "# Wess Zumino \n",
    "\n",
    "## N=1 in 1+1\n",
    "\n",
    "The Hamiltonian with a central difference for the derivative is given by \n",
    "\n",
    "\\begin{align}\n",
    "    H=\\sum_n&\\left[ \\frac{p_n^2}{2a} + \\frac{a}{2}\\left(\\frac{\\phi_{n+1}-\\phi_{n-1}}{2a}\\right)^2+\\frac{a}{2}V(\\phi_n)^2\n",
    "            +aV(\\phi_n)\\frac{\\phi_{n+1}-\\phi_{n-1}}{2a} \\right. \\nonumber \\\\\n",
    "            &\\left.+(-1)^nV'(\\phi_n)\\left(\\chi_n^{\\dagger}\\chi_n-\\frac{1}{2}\\right)\n",
    "            +\\frac{1}{2a}\\left(\\chi_n^{\\dagger}\\chi_{n+1}+\\chi_{n+1}^{\\dagger}\\chi_n\\right) \\right],\n",
    "\\end{align}"
   ]
  },
  {
   "cell_type": "code",
   "execution_count": 1,
   "metadata": {},
   "outputs": [],
   "source": [
    "import sympy as sp\n",
    "from ham_to_sparse_matrix import *\n",
    "from constants import *\n",
    "import scipy.sparse.linalg"
   ]
  },
  {
   "cell_type": "code",
   "execution_count": 2,
   "metadata": {},
   "outputs": [],
   "source": [
    "bosonNI=sp.expand( pn**2/(2*aLat) + (aLat/2)*((qnP1-qnM1)/(2*aLat))**2 )\n",
    "bosonI=sp.expand( (aLat/2)*V(qn)**2 + aLat*V(qn)*(qnP1-qnM1)/(4*aLat) + aLat*(qnP1-qnM1)*V(qn)/(4*aLat) )\n",
    "fermionNI=sp.expand( -(xdnP1*xn+xdn*xnP1)/(2*aLat) )\n",
    "fermionI=sp.expand( sp.diff(V(qn),qn)*(xdn*xn-(1/2)) )"
   ]
  },
  {
   "cell_type": "code",
   "execution_count": 3,
   "metadata": {},
   "outputs": [
    {
     "data": {
      "text/latex": [
       "$\\displaystyle \\frac{a V^{2}{\\left(q_{n} \\right)}}{2} + \\frac{q_{n+1} V{\\left(q_{n} \\right)}}{4} - \\frac{q_{n-1} V{\\left(q_{n} \\right)}}{4} + \\frac{V{\\left(q_{n} \\right)} q_{n+1}}{4} - \\frac{V{\\left(q_{n} \\right)} q_{n-1}}{4} + \\frac{p_{n}^{2}}{2 a} - \\frac{q_{n+1} q_{n-1}}{8 a} + \\frac{q_{n+1}^{2}}{8 a} - \\frac{q_{n-1} q_{n+1}}{8 a} + \\frac{q_{n-1}^{2}}{8 a}$"
      ],
      "text/plain": [
       "a*V(q_{n})**2/2 + q_{n+1}*V(q_{n})/4 - q_{n-1}*V(q_{n})/4 + V(q_{n})*q_{n+1}/4 - V(q_{n})*q_{n-1}/4 + p_{n}**2/(2*a) - q_{n+1}*q_{n-1}/(8*a) + q_{n+1}**2/(8*a) - q_{n-1}*q_{n+1}/(8*a) + q_{n-1}**2/(8*a)"
      ]
     },
     "execution_count": 3,
     "metadata": {},
     "output_type": "execute_result"
    }
   ],
   "source": [
    "bosonNI+bosonI"
   ]
  },
  {
   "cell_type": "code",
   "execution_count": 4,
   "metadata": {},
   "outputs": [
    {
     "data": {
      "text/latex": [
       "$\\displaystyle - 0.5 \\frac{d}{d q_{n}} V{\\left(q_{n} \\right)} + \\frac{d}{d q_{n}} V{\\left(q_{n} \\right)} \\chi^{\\dagger}_{n} \\chi_{n} - \\frac{\\chi^{\\dagger}_{n+1} \\chi_{n}}{2 a} - \\frac{\\chi^{\\dagger}_{n} \\chi_{n+1}}{2 a}$"
      ],
      "text/plain": [
       "-0.5*Derivative(V(q_{n}), q_{n}) + Derivative(V(q_{n}), q_{n})*\\chi^{\\dagger}_{n}*\\chi_{n} - \\chi^{\\dagger}_{n+1}*\\chi_{n}/(2*a) - \\chi^{\\dagger}_{n}*\\chi_{n+1}/(2*a)"
      ]
     },
     "execution_count": 4,
     "metadata": {},
     "output_type": "execute_result"
    }
   ],
   "source": [
    "fermionNI + fermionI"
   ]
  },
  {
   "cell_type": "code",
   "execution_count": 5,
   "metadata": {},
   "outputs": [],
   "source": [
    "N=4\n",
    "aVal=1\n",
    "\n",
    "# depends on finite-difference method\n",
    "qs=[SiteSymbol('q',str(i)) for i in range(-1,N+1,1)]\n",
    "# maybe make qs a normal site list\n",
    "# and make an extra boundaryQs list for q[-1], q[N]\n",
    "# counting would be normal computer science way for rest of code.\n",
    "\n",
    "ps=[SiteSymbol('p',str(i)) for i in range(-1,N+1,1)] # don't really need extras\n",
    "aops=[SiteSymbol('a',str(i)) for i in range(-1,N+1,1)]\n",
    "adags=[SiteSymbol('a^{\\dagger}',str(i)) for i in range(-1,N+1,1)]\n",
    "xs=[SiteSymbol('\\chi',str(i)) for i in range(-1,N+1,1)]\n",
    "xdags=[SiteSymbol('\\chi^{\\dagger}',str(i)) for i in range(-1,N+1,1)]\n",
    "\n",
    "# note this is exactly hardcoded for this finite difference method.\n",
    "bcType = 'periodic'\n",
    "boundaryConditions = {}\n",
    "if bcType == 'periodic':\n",
    "    boundaryConditions = {qs[0]: qs[N], qs[N+1]: qs[1],\n",
    "                          xs[0]: -xs[N], xs[N+1]: -xs[1], \n",
    "                          xdags[0]: -xdags[N],  xdags[N+1]: -xdags[1]\n",
    "                         }\n",
    "    \n",
    "elif bcType == 'dirichlet':\n",
    "    boundaryConditions = { qs[0]: 0, qs[N+1]: 0,\n",
    "                          xs[0]: 0, xs[N+1]: 0,\n",
    "                          xdags[0]: 0, xdags[N+1]:0\n",
    "                         }"
   ]
  },
  {
   "cell_type": "code",
   "execution_count": 6,
   "metadata": {},
   "outputs": [
    {
     "data": {
      "text/latex": [
       "$\\displaystyle \\frac{a V^{2}{\\left(q_{n} \\right)}}{2} + \\frac{q_{n+1} V{\\left(q_{n} \\right)}}{4} - \\frac{q_{n-1} V{\\left(q_{n} \\right)}}{4} + \\frac{V{\\left(q_{n} \\right)} q_{n+1}}{4} - \\frac{V{\\left(q_{n} \\right)} q_{n-1}}{4} - 0.5 \\frac{d}{d q_{n}} V{\\left(q_{n} \\right)} + \\frac{d}{d q_{n}} V{\\left(q_{n} \\right)} \\chi^{\\dagger}_{n} \\chi_{n} - \\frac{\\chi^{\\dagger}_{n+1} \\chi_{n}}{2 a} - \\frac{\\chi^{\\dagger}_{n} \\chi_{n+1}}{2 a} + \\frac{p_{n}^{2}}{2 a} - \\frac{q_{n+1} q_{n-1}}{8 a} + \\frac{q_{n+1}^{2}}{8 a} - \\frac{q_{n-1} q_{n+1}}{8 a} + \\frac{q_{n-1}^{2}}{8 a}$"
      ],
      "text/plain": [
       "a*V(q_{n})**2/2 + q_{n+1}*V(q_{n})/4 - q_{n-1}*V(q_{n})/4 + V(q_{n})*q_{n+1}/4 - V(q_{n})*q_{n-1}/4 - 0.5*Derivative(V(q_{n}), q_{n}) + Derivative(V(q_{n}), q_{n})*\\chi^{\\dagger}_{n}*\\chi_{n} - \\chi^{\\dagger}_{n+1}*\\chi_{n}/(2*a) - \\chi^{\\dagger}_{n}*\\chi_{n+1}/(2*a) + p_{n}**2/(2*a) - q_{n+1}*q_{n-1}/(8*a) + q_{n+1}**2/(8*a) - q_{n-1}*q_{n+1}/(8*a) + q_{n-1}**2/(8*a)"
      ]
     },
     "execution_count": 6,
     "metadata": {},
     "output_type": "execute_result"
    }
   ],
   "source": [
    "totHam=bosonNI+bosonI+fermionNI+fermionI\n",
    "totHam"
   ]
  },
  {
   "cell_type": "code",
   "execution_count": 7,
   "metadata": {},
   "outputs": [
    {
     "data": {
      "text/latex": [
       "$\\displaystyle \\frac{- 2 \\chi^{\\dagger}_{0} \\chi_{1} + 2 \\chi^{\\dagger}_{0} \\chi_{3} - 2 \\chi^{\\dagger}_{1} \\chi_{0} - 2 \\chi^{\\dagger}_{1} \\chi_{2} - 2 \\chi^{\\dagger}_{2} \\chi_{1} - 2 \\chi^{\\dagger}_{2} \\chi_{3} + 2 \\chi^{\\dagger}_{3} \\chi_{0} - 2 \\chi^{\\dagger}_{3} \\chi_{2} + 2 p_{0}^{2} + 2 p_{1}^{2} + 2 p_{2}^{2} + 2 p_{3}^{2} - q_{0} q_{1}^{3} - q_{0} q_{2} + q_{0} q_{3}^{3} + 7.0 q_{0}^{2} - 12 q_{0}^{2} \\chi^{\\dagger}_{0} \\chi_{0} + q_{0}^{3} q_{1} - q_{0}^{3} q_{3} + 2 q_{0}^{6} + q_{1} q_{0}^{3} - q_{1} q_{2}^{3} - q_{1} q_{3} - 5.0 q_{1}^{2} + 12 q_{1}^{2} \\chi^{\\dagger}_{1} \\chi_{1} - q_{1}^{3} q_{0} + q_{1}^{3} q_{2} + 2 q_{1}^{6} - q_{2} q_{0} + q_{2} q_{1}^{3} - q_{2} q_{3}^{3} + 7.0 q_{2}^{2} - 12 q_{2}^{2} \\chi^{\\dagger}_{2} \\chi_{2} - q_{2}^{3} q_{1} + q_{2}^{3} q_{3} + 2 q_{2}^{6} - q_{3} q_{0}^{3} - q_{3} q_{1} + q_{3} q_{2}^{3} - 5.0 q_{3}^{2} + 12 q_{3}^{2} \\chi^{\\dagger}_{3} \\chi_{3} + q_{3}^{3} q_{0} - q_{3}^{3} q_{2} + 2 q_{3}^{6}}{4}$"
      ],
      "text/plain": [
       "(-2*\\chi^{\\dagger}_{0}*\\chi_{1} + 2*\\chi^{\\dagger}_{0}*\\chi_{3} - 2*\\chi^{\\dagger}_{1}*\\chi_{0} - 2*\\chi^{\\dagger}_{1}*\\chi_{2} - 2*\\chi^{\\dagger}_{2}*\\chi_{1} - 2*\\chi^{\\dagger}_{2}*\\chi_{3} + 2*\\chi^{\\dagger}_{3}*\\chi_{0} - 2*\\chi^{\\dagger}_{3}*\\chi_{2} + 2*p_{0}**2 + 2*p_{1}**2 + 2*p_{2}**2 + 2*p_{3}**2 - q_{0}*q_{1}**3 - q_{0}*q_{2} + q_{0}*q_{3}**3 + 7.0*q_{0}**2 - 12*q_{0}**2*\\chi^{\\dagger}_{0}*\\chi_{0} + q_{0}**3*q_{1} - q_{0}**3*q_{3} + 2*q_{0}**6 + q_{1}*q_{0}**3 - q_{1}*q_{2}**3 - q_{1}*q_{3} - 5.0*q_{1}**2 + 12*q_{1}**2*\\chi^{\\dagger}_{1}*\\chi_{1} - q_{1}**3*q_{0} + q_{1}**3*q_{2} + 2*q_{1}**6 - q_{2}*q_{0} + q_{2}*q_{1}**3 - q_{2}*q_{3}**3 + 7.0*q_{2}**2 - 12*q_{2}**2*\\chi^{\\dagger}_{2}*\\chi_{2} - q_{2}**3*q_{1} + q_{2}**3*q_{3} + 2*q_{2}**6 - q_{3}*q_{0}**3 - q_{3}*q_{1} + q_{3}*q_{2}**3 - 5.0*q_{3}**2 + 12*q_{3}**2*\\chi^{\\dagger}_{3}*\\chi_{3} + q_{3}**3*q_{0} - q_{3}**3*q_{2} + 2*q_{3}**6)/4"
      ]
     },
     "execution_count": 7,
     "metadata": {},
     "output_type": "execute_result"
    }
   ],
   "source": [
    "ham=0\n",
    "\n",
    "lam=1\n",
    "\n",
    "for i in range(1,N+1):\n",
    "    ham+=(bosonNI+bosonI+fermionNI).subs({\n",
    "        pn: ps[i],\n",
    "        qn: qs[i], qnP1: qs[i+1], qnM1: qs[i-1],\n",
    "        xn: xs[i], xnP1: xs[i+1],\n",
    "        xdn: xdags[i], xdnP1: xdags[i+1]\n",
    "    }).subs(boundaryConditions)\n",
    "    \n",
    "# ham.subs(boundaryConditions).doit() # this doesn't work?\n",
    "\n",
    "\n",
    "def potential(n):\n",
    "    return lam*qs[n]*qs[n]*qs[n]\n",
    "\n",
    "potentialSubs={}\n",
    "for n in range(1,N+1):\n",
    "    potentialSubs[V(qs[n])]=potential(n)\n",
    "\n",
    "ham=sp.simplify(ham.subs(potentialSubs).subs(aLat,aVal))\n",
    "\n",
    "for i in range(1,N+1):\n",
    "    if i%2==0:\n",
    "        ham+=sp.simplify(fermionI.subs({qn: qs[i], xn: xs[i], xdn: xdags[i]}).subs(potentialSubs))\n",
    "    else:\n",
    "        ham-=sp.simplify(fermionI.subs({qn: qs[i], xn: xs[i], xdn: xdags[i]}).subs(potentialSubs))\n",
    "ham=sp.simplify(ham.subs(aLat,aVal))\n",
    "ham"
   ]
  },
  {
   "cell_type": "code",
   "execution_count": 8,
   "metadata": {},
   "outputs": [
    {
     "data": {
      "text/latex": [
       "$\\displaystyle - \\frac{\\chi^{\\dagger}_{0} \\chi_{1}}{2} + \\frac{\\chi^{\\dagger}_{0} \\chi_{3}}{2} - \\frac{\\chi^{\\dagger}_{1} \\chi_{0}}{2} - \\frac{\\chi^{\\dagger}_{1} \\chi_{2}}{2} - \\frac{\\chi^{\\dagger}_{2} \\chi_{1}}{2} - \\frac{\\chi^{\\dagger}_{2} \\chi_{3}}{2} + \\frac{\\chi^{\\dagger}_{3} \\chi_{0}}{2} - \\frac{\\chi^{\\dagger}_{3} \\chi_{2}}{2} - \\frac{a^{\\dagger}_{0} a^{\\dagger}_{1} a_{1} a^{\\dagger}_{1}}{16} - \\frac{a^{\\dagger}_{0} a^{\\dagger}_{1} a_{1}^{2}}{16} - \\frac{a^{\\dagger}_{0} \\left(a^{\\dagger}_{1}\\right)^{2} a_{1}}{16} - \\frac{a^{\\dagger}_{0} \\left(a^{\\dagger}_{1}\\right)^{3}}{16} - \\frac{a^{\\dagger}_{0} a^{\\dagger}_{2}}{8} + \\frac{a^{\\dagger}_{0} a^{\\dagger}_{3} a_{3} a^{\\dagger}_{3}}{16} + \\frac{a^{\\dagger}_{0} a^{\\dagger}_{3} a_{3}^{2}}{16} + \\frac{a^{\\dagger}_{0} \\left(a^{\\dagger}_{3}\\right)^{2} a_{3}}{16} + \\frac{a^{\\dagger}_{0} \\left(a^{\\dagger}_{3}\\right)^{3}}{16} + \\frac{9 a^{\\dagger}_{0} a_{0}}{8} - \\frac{3 a^{\\dagger}_{0} a_{0} \\chi^{\\dagger}_{0} \\chi_{0}}{2} + \\frac{a^{\\dagger}_{0} a_{0} a^{\\dagger}_{0} a^{\\dagger}_{1}}{16} - \\frac{a^{\\dagger}_{0} a_{0} a^{\\dagger}_{0} a^{\\dagger}_{3}}{16} + \\frac{a^{\\dagger}_{0} a_{0} a^{\\dagger}_{0} a_{0} a^{\\dagger}_{0} a_{0}}{16} + \\frac{a^{\\dagger}_{0} a_{0} a^{\\dagger}_{0} a_{0} \\left(a^{\\dagger}_{0}\\right)^{2}}{16} + \\frac{a^{\\dagger}_{0} a_{0} a^{\\dagger}_{0} a_{0}^{2} a^{\\dagger}_{0}}{16} + \\frac{a^{\\dagger}_{0} a_{0} a^{\\dagger}_{0} a_{0}^{3}}{16} + \\frac{a^{\\dagger}_{0} a_{0} a^{\\dagger}_{0} a_{1}}{16} - \\frac{a^{\\dagger}_{0} a_{0} a^{\\dagger}_{0} a_{3}}{16} + \\frac{a^{\\dagger}_{0} a_{0} \\left(a^{\\dagger}_{0}\\right)^{2} a_{0} a^{\\dagger}_{0}}{16} + \\frac{a^{\\dagger}_{0} a_{0} \\left(a^{\\dagger}_{0}\\right)^{2} a_{0}^{2}}{16} + \\frac{a^{\\dagger}_{0} a_{0} \\left(a^{\\dagger}_{0}\\right)^{3} a_{0}}{16} + \\frac{a^{\\dagger}_{0} a_{0} \\left(a^{\\dagger}_{0}\\right)^{4}}{16} + \\frac{a^{\\dagger}_{0} a_{0}^{2} a^{\\dagger}_{0} a_{0} a^{\\dagger}_{0}}{16} + \\frac{a^{\\dagger}_{0} a_{0}^{2} a^{\\dagger}_{0} a_{0}^{2}}{16} + \\frac{a^{\\dagger}_{0} a_{0}^{2} \\left(a^{\\dagger}_{0}\\right)^{2} a_{0}}{16} + \\frac{a^{\\dagger}_{0} a_{0}^{2} \\left(a^{\\dagger}_{0}\\right)^{3}}{16} + \\frac{a^{\\dagger}_{0} a_{0}^{2} a^{\\dagger}_{1}}{16} - \\frac{a^{\\dagger}_{0} a_{0}^{2} a^{\\dagger}_{3}}{16} + \\frac{a^{\\dagger}_{0} a_{0}^{2} a_{1}}{16} - \\frac{a^{\\dagger}_{0} a_{0}^{2} a_{3}}{16} + \\frac{a^{\\dagger}_{0} a_{0}^{3} a^{\\dagger}_{0} a_{0}}{16} + \\frac{a^{\\dagger}_{0} a_{0}^{3} \\left(a^{\\dagger}_{0}\\right)^{2}}{16} + \\frac{a^{\\dagger}_{0} a_{0}^{4} a^{\\dagger}_{0}}{16} + \\frac{a^{\\dagger}_{0} a_{0}^{5}}{16} - \\frac{a^{\\dagger}_{0} a_{1} a^{\\dagger}_{1} a_{1}}{16} - \\frac{a^{\\dagger}_{0} a_{1} \\left(a^{\\dagger}_{1}\\right)^{2}}{16} - \\frac{a^{\\dagger}_{0} a_{1}^{2} a^{\\dagger}_{1}}{16} - \\frac{a^{\\dagger}_{0} a_{1}^{3}}{16} - \\frac{a^{\\dagger}_{0} a_{2}}{8} + \\frac{a^{\\dagger}_{0} a_{3} a^{\\dagger}_{3} a_{3}}{16} + \\frac{a^{\\dagger}_{0} a_{3} \\left(a^{\\dagger}_{3}\\right)^{2}}{16} + \\frac{a^{\\dagger}_{0} a_{3}^{2} a^{\\dagger}_{3}}{16} + \\frac{a^{\\dagger}_{0} a_{3}^{3}}{16} + \\frac{5 \\left(a^{\\dagger}_{0}\\right)^{2}}{8} - \\frac{3 \\left(a^{\\dagger}_{0}\\right)^{2} \\chi^{\\dagger}_{0} \\chi_{0}}{2} + \\frac{\\left(a^{\\dagger}_{0}\\right)^{2} a_{0} a^{\\dagger}_{0} a_{0} a^{\\dagger}_{0}}{16} + \\frac{\\left(a^{\\dagger}_{0}\\right)^{2} a_{0} a^{\\dagger}_{0} a_{0}^{2}}{16} + \\frac{\\left(a^{\\dagger}_{0}\\right)^{2} a_{0} \\left(a^{\\dagger}_{0}\\right)^{2} a_{0}}{16} + \\frac{\\left(a^{\\dagger}_{0}\\right)^{2} a_{0} \\left(a^{\\dagger}_{0}\\right)^{3}}{16} + \\frac{\\left(a^{\\dagger}_{0}\\right)^{2} a_{0} a^{\\dagger}_{1}}{16} - \\frac{\\left(a^{\\dagger}_{0}\\right)^{2} a_{0} a^{\\dagger}_{3}}{16} + \\frac{\\left(a^{\\dagger}_{0}\\right)^{2} a_{0} a_{1}}{16} - \\frac{\\left(a^{\\dagger}_{0}\\right)^{2} a_{0} a_{3}}{16} + \\frac{\\left(a^{\\dagger}_{0}\\right)^{2} a_{0}^{2} a^{\\dagger}_{0} a_{0}}{16} + \\frac{\\left(a^{\\dagger}_{0}\\right)^{2} a_{0}^{2} \\left(a^{\\dagger}_{0}\\right)^{2}}{16} + \\frac{\\left(a^{\\dagger}_{0}\\right)^{2} a_{0}^{3} a^{\\dagger}_{0}}{16} + \\frac{\\left(a^{\\dagger}_{0}\\right)^{2} a_{0}^{4}}{16} + \\frac{\\left(a^{\\dagger}_{0}\\right)^{3} a^{\\dagger}_{1}}{16} - \\frac{\\left(a^{\\dagger}_{0}\\right)^{3} a^{\\dagger}_{3}}{16} + \\frac{\\left(a^{\\dagger}_{0}\\right)^{3} a_{0} a^{\\dagger}_{0} a_{0}}{16} + \\frac{\\left(a^{\\dagger}_{0}\\right)^{3} a_{0} \\left(a^{\\dagger}_{0}\\right)^{2}}{16} + \\frac{\\left(a^{\\dagger}_{0}\\right)^{3} a_{0}^{2} a^{\\dagger}_{0}}{16} + \\frac{\\left(a^{\\dagger}_{0}\\right)^{3} a_{0}^{3}}{16} + \\frac{\\left(a^{\\dagger}_{0}\\right)^{3} a_{1}}{16} - \\frac{\\left(a^{\\dagger}_{0}\\right)^{3} a_{3}}{16} + \\frac{\\left(a^{\\dagger}_{0}\\right)^{4} a_{0} a^{\\dagger}_{0}}{16} + \\frac{\\left(a^{\\dagger}_{0}\\right)^{4} a_{0}^{2}}{16} + \\frac{\\left(a^{\\dagger}_{0}\\right)^{5} a_{0}}{16} + \\frac{\\left(a^{\\dagger}_{0}\\right)^{6}}{16} + \\frac{a^{\\dagger}_{1} a^{\\dagger}_{0} a_{0} a^{\\dagger}_{0}}{16} + \\frac{a^{\\dagger}_{1} a^{\\dagger}_{0} a_{0}^{2}}{16} + \\frac{a^{\\dagger}_{1} \\left(a^{\\dagger}_{0}\\right)^{2} a_{0}}{16} + \\frac{a^{\\dagger}_{1} \\left(a^{\\dagger}_{0}\\right)^{3}}{16} - \\frac{a^{\\dagger}_{1} a^{\\dagger}_{2} a_{2} a^{\\dagger}_{2}}{16} - \\frac{a^{\\dagger}_{1} a^{\\dagger}_{2} a_{2}^{2}}{16} - \\frac{a^{\\dagger}_{1} \\left(a^{\\dagger}_{2}\\right)^{2} a_{2}}{16} - \\frac{a^{\\dagger}_{1} \\left(a^{\\dagger}_{2}\\right)^{3}}{16} - \\frac{a^{\\dagger}_{1} a^{\\dagger}_{3}}{8} + \\frac{a^{\\dagger}_{1} a_{0} a^{\\dagger}_{0} a_{0}}{16} + \\frac{a^{\\dagger}_{1} a_{0} \\left(a^{\\dagger}_{0}\\right)^{2}}{16} + \\frac{a^{\\dagger}_{1} a_{0}^{2} a^{\\dagger}_{0}}{16} + \\frac{a^{\\dagger}_{1} a_{0}^{3}}{16} - \\frac{3 a^{\\dagger}_{1} a_{1}}{8} + \\frac{3 a^{\\dagger}_{1} a_{1} \\chi^{\\dagger}_{1} \\chi_{1}}{2} - \\frac{a^{\\dagger}_{1} a_{1} a^{\\dagger}_{1} a^{\\dagger}_{0}}{16} + \\frac{a^{\\dagger}_{1} a_{1} a^{\\dagger}_{1} a^{\\dagger}_{2}}{16} - \\frac{a^{\\dagger}_{1} a_{1} a^{\\dagger}_{1} a_{0}}{16} + \\frac{a^{\\dagger}_{1} a_{1} a^{\\dagger}_{1} a_{1} a^{\\dagger}_{1} a_{1}}{16} + \\frac{a^{\\dagger}_{1} a_{1} a^{\\dagger}_{1} a_{1} \\left(a^{\\dagger}_{1}\\right)^{2}}{16} + \\frac{a^{\\dagger}_{1} a_{1} a^{\\dagger}_{1} a_{1}^{2} a^{\\dagger}_{1}}{16} + \\frac{a^{\\dagger}_{1} a_{1} a^{\\dagger}_{1} a_{1}^{3}}{16} + \\frac{a^{\\dagger}_{1} a_{1} a^{\\dagger}_{1} a_{2}}{16} + \\frac{a^{\\dagger}_{1} a_{1} \\left(a^{\\dagger}_{1}\\right)^{2} a_{1} a^{\\dagger}_{1}}{16} + \\frac{a^{\\dagger}_{1} a_{1} \\left(a^{\\dagger}_{1}\\right)^{2} a_{1}^{2}}{16} + \\frac{a^{\\dagger}_{1} a_{1} \\left(a^{\\dagger}_{1}\\right)^{3} a_{1}}{16} + \\frac{a^{\\dagger}_{1} a_{1} \\left(a^{\\dagger}_{1}\\right)^{4}}{16} - \\frac{a^{\\dagger}_{1} a_{1}^{2} a^{\\dagger}_{0}}{16} + \\frac{a^{\\dagger}_{1} a_{1}^{2} a^{\\dagger}_{1} a_{1} a^{\\dagger}_{1}}{16} + \\frac{a^{\\dagger}_{1} a_{1}^{2} a^{\\dagger}_{1} a_{1}^{2}}{16} + \\frac{a^{\\dagger}_{1} a_{1}^{2} \\left(a^{\\dagger}_{1}\\right)^{2} a_{1}}{16} + \\frac{a^{\\dagger}_{1} a_{1}^{2} \\left(a^{\\dagger}_{1}\\right)^{3}}{16} + \\frac{a^{\\dagger}_{1} a_{1}^{2} a^{\\dagger}_{2}}{16} - \\frac{a^{\\dagger}_{1} a_{1}^{2} a_{0}}{16} + \\frac{a^{\\dagger}_{1} a_{1}^{2} a_{2}}{16} + \\frac{a^{\\dagger}_{1} a_{1}^{3} a^{\\dagger}_{1} a_{1}}{16} + \\frac{a^{\\dagger}_{1} a_{1}^{3} \\left(a^{\\dagger}_{1}\\right)^{2}}{16} + \\frac{a^{\\dagger}_{1} a_{1}^{4} a^{\\dagger}_{1}}{16} + \\frac{a^{\\dagger}_{1} a_{1}^{5}}{16} - \\frac{a^{\\dagger}_{1} a_{2} a^{\\dagger}_{2} a_{2}}{16} - \\frac{a^{\\dagger}_{1} a_{2} \\left(a^{\\dagger}_{2}\\right)^{2}}{16} - \\frac{a^{\\dagger}_{1} a_{2}^{2} a^{\\dagger}_{2}}{16} - \\frac{a^{\\dagger}_{1} a_{2}^{3}}{16} - \\frac{a^{\\dagger}_{1} a_{3}}{8} - \\frac{7 \\left(a^{\\dagger}_{1}\\right)^{2}}{8} + \\frac{3 \\left(a^{\\dagger}_{1}\\right)^{2} \\chi^{\\dagger}_{1} \\chi_{1}}{2} - \\frac{\\left(a^{\\dagger}_{1}\\right)^{2} a_{1} a^{\\dagger}_{0}}{16} + \\frac{\\left(a^{\\dagger}_{1}\\right)^{2} a_{1} a^{\\dagger}_{1} a_{1} a^{\\dagger}_{1}}{16} + \\frac{\\left(a^{\\dagger}_{1}\\right)^{2} a_{1} a^{\\dagger}_{1} a_{1}^{2}}{16} + \\frac{\\left(a^{\\dagger}_{1}\\right)^{2} a_{1} \\left(a^{\\dagger}_{1}\\right)^{2} a_{1}}{16} + \\frac{\\left(a^{\\dagger}_{1}\\right)^{2} a_{1} \\left(a^{\\dagger}_{1}\\right)^{3}}{16} + \\frac{\\left(a^{\\dagger}_{1}\\right)^{2} a_{1} a^{\\dagger}_{2}}{16} - \\frac{\\left(a^{\\dagger}_{1}\\right)^{2} a_{1} a_{0}}{16} + \\frac{\\left(a^{\\dagger}_{1}\\right)^{2} a_{1} a_{2}}{16} + \\frac{\\left(a^{\\dagger}_{1}\\right)^{2} a_{1}^{2} a^{\\dagger}_{1} a_{1}}{16} + \\frac{\\left(a^{\\dagger}_{1}\\right)^{2} a_{1}^{2} \\left(a^{\\dagger}_{1}\\right)^{2}}{16} + \\frac{\\left(a^{\\dagger}_{1}\\right)^{2} a_{1}^{3} a^{\\dagger}_{1}}{16} + \\frac{\\left(a^{\\dagger}_{1}\\right)^{2} a_{1}^{4}}{16} - \\frac{\\left(a^{\\dagger}_{1}\\right)^{3} a^{\\dagger}_{0}}{16} + \\frac{\\left(a^{\\dagger}_{1}\\right)^{3} a^{\\dagger}_{2}}{16} - \\frac{\\left(a^{\\dagger}_{1}\\right)^{3} a_{0}}{16} + \\frac{\\left(a^{\\dagger}_{1}\\right)^{3} a_{1} a^{\\dagger}_{1} a_{1}}{16} + \\frac{\\left(a^{\\dagger}_{1}\\right)^{3} a_{1} \\left(a^{\\dagger}_{1}\\right)^{2}}{16} + \\frac{\\left(a^{\\dagger}_{1}\\right)^{3} a_{1}^{2} a^{\\dagger}_{1}}{16} + \\frac{\\left(a^{\\dagger}_{1}\\right)^{3} a_{1}^{3}}{16} + \\frac{\\left(a^{\\dagger}_{1}\\right)^{3} a_{2}}{16} + \\frac{\\left(a^{\\dagger}_{1}\\right)^{4} a_{1} a^{\\dagger}_{1}}{16} + \\frac{\\left(a^{\\dagger}_{1}\\right)^{4} a_{1}^{2}}{16} + \\frac{\\left(a^{\\dagger}_{1}\\right)^{5} a_{1}}{16} + \\frac{\\left(a^{\\dagger}_{1}\\right)^{6}}{16} - \\frac{a^{\\dagger}_{2} a^{\\dagger}_{0}}{8} + \\frac{a^{\\dagger}_{2} a^{\\dagger}_{1} a_{1} a^{\\dagger}_{1}}{16} + \\frac{a^{\\dagger}_{2} a^{\\dagger}_{1} a_{1}^{2}}{16} + \\frac{a^{\\dagger}_{2} \\left(a^{\\dagger}_{1}\\right)^{2} a_{1}}{16} + \\frac{a^{\\dagger}_{2} \\left(a^{\\dagger}_{1}\\right)^{3}}{16} - \\frac{a^{\\dagger}_{2} a^{\\dagger}_{3} a_{3} a^{\\dagger}_{3}}{16} - \\frac{a^{\\dagger}_{2} a^{\\dagger}_{3} a_{3}^{2}}{16} - \\frac{a^{\\dagger}_{2} \\left(a^{\\dagger}_{3}\\right)^{2} a_{3}}{16} - \\frac{a^{\\dagger}_{2} \\left(a^{\\dagger}_{3}\\right)^{3}}{16} - \\frac{a^{\\dagger}_{2} a_{0}}{8} + \\frac{a^{\\dagger}_{2} a_{1} a^{\\dagger}_{1} a_{1}}{16} + \\frac{a^{\\dagger}_{2} a_{1} \\left(a^{\\dagger}_{1}\\right)^{2}}{16} + \\frac{a^{\\dagger}_{2} a_{1}^{2} a^{\\dagger}_{1}}{16} + \\frac{a^{\\dagger}_{2} a_{1}^{3}}{16} + \\frac{9 a^{\\dagger}_{2} a_{2}}{8} - \\frac{3 a^{\\dagger}_{2} a_{2} \\chi^{\\dagger}_{2} \\chi_{2}}{2} - \\frac{a^{\\dagger}_{2} a_{2} a^{\\dagger}_{2} a^{\\dagger}_{1}}{16} + \\frac{a^{\\dagger}_{2} a_{2} a^{\\dagger}_{2} a^{\\dagger}_{3}}{16} - \\frac{a^{\\dagger}_{2} a_{2} a^{\\dagger}_{2} a_{1}}{16} + \\frac{a^{\\dagger}_{2} a_{2} a^{\\dagger}_{2} a_{2} a^{\\dagger}_{2} a_{2}}{16} + \\frac{a^{\\dagger}_{2} a_{2} a^{\\dagger}_{2} a_{2} \\left(a^{\\dagger}_{2}\\right)^{2}}{16} + \\frac{a^{\\dagger}_{2} a_{2} a^{\\dagger}_{2} a_{2}^{2} a^{\\dagger}_{2}}{16} + \\frac{a^{\\dagger}_{2} a_{2} a^{\\dagger}_{2} a_{2}^{3}}{16} + \\frac{a^{\\dagger}_{2} a_{2} a^{\\dagger}_{2} a_{3}}{16} + \\frac{a^{\\dagger}_{2} a_{2} \\left(a^{\\dagger}_{2}\\right)^{2} a_{2} a^{\\dagger}_{2}}{16} + \\frac{a^{\\dagger}_{2} a_{2} \\left(a^{\\dagger}_{2}\\right)^{2} a_{2}^{2}}{16} + \\frac{a^{\\dagger}_{2} a_{2} \\left(a^{\\dagger}_{2}\\right)^{3} a_{2}}{16} + \\frac{a^{\\dagger}_{2} a_{2} \\left(a^{\\dagger}_{2}\\right)^{4}}{16} - \\frac{a^{\\dagger}_{2} a_{2}^{2} a^{\\dagger}_{1}}{16} + \\frac{a^{\\dagger}_{2} a_{2}^{2} a^{\\dagger}_{2} a_{2} a^{\\dagger}_{2}}{16} + \\frac{a^{\\dagger}_{2} a_{2}^{2} a^{\\dagger}_{2} a_{2}^{2}}{16} + \\frac{a^{\\dagger}_{2} a_{2}^{2} \\left(a^{\\dagger}_{2}\\right)^{2} a_{2}}{16} + \\frac{a^{\\dagger}_{2} a_{2}^{2} \\left(a^{\\dagger}_{2}\\right)^{3}}{16} + \\frac{a^{\\dagger}_{2} a_{2}^{2} a^{\\dagger}_{3}}{16} - \\frac{a^{\\dagger}_{2} a_{2}^{2} a_{1}}{16} + \\frac{a^{\\dagger}_{2} a_{2}^{2} a_{3}}{16} + \\frac{a^{\\dagger}_{2} a_{2}^{3} a^{\\dagger}_{2} a_{2}}{16} + \\frac{a^{\\dagger}_{2} a_{2}^{3} \\left(a^{\\dagger}_{2}\\right)^{2}}{16} + \\frac{a^{\\dagger}_{2} a_{2}^{4} a^{\\dagger}_{2}}{16} + \\frac{a^{\\dagger}_{2} a_{2}^{5}}{16} - \\frac{a^{\\dagger}_{2} a_{3} a^{\\dagger}_{3} a_{3}}{16} - \\frac{a^{\\dagger}_{2} a_{3} \\left(a^{\\dagger}_{3}\\right)^{2}}{16} - \\frac{a^{\\dagger}_{2} a_{3}^{2} a^{\\dagger}_{3}}{16} - \\frac{a^{\\dagger}_{2} a_{3}^{3}}{16} + \\frac{5 \\left(a^{\\dagger}_{2}\\right)^{2}}{8} - \\frac{3 \\left(a^{\\dagger}_{2}\\right)^{2} \\chi^{\\dagger}_{2} \\chi_{2}}{2} - \\frac{\\left(a^{\\dagger}_{2}\\right)^{2} a_{2} a^{\\dagger}_{1}}{16} + \\frac{\\left(a^{\\dagger}_{2}\\right)^{2} a_{2} a^{\\dagger}_{2} a_{2} a^{\\dagger}_{2}}{16} + \\frac{\\left(a^{\\dagger}_{2}\\right)^{2} a_{2} a^{\\dagger}_{2} a_{2}^{2}}{16} + \\frac{\\left(a^{\\dagger}_{2}\\right)^{2} a_{2} \\left(a^{\\dagger}_{2}\\right)^{2} a_{2}}{16} + \\frac{\\left(a^{\\dagger}_{2}\\right)^{2} a_{2} \\left(a^{\\dagger}_{2}\\right)^{3}}{16} + \\frac{\\left(a^{\\dagger}_{2}\\right)^{2} a_{2} a^{\\dagger}_{3}}{16} - \\frac{\\left(a^{\\dagger}_{2}\\right)^{2} a_{2} a_{1}}{16} + \\frac{\\left(a^{\\dagger}_{2}\\right)^{2} a_{2} a_{3}}{16} + \\frac{\\left(a^{\\dagger}_{2}\\right)^{2} a_{2}^{2} a^{\\dagger}_{2} a_{2}}{16} + \\frac{\\left(a^{\\dagger}_{2}\\right)^{2} a_{2}^{2} \\left(a^{\\dagger}_{2}\\right)^{2}}{16} + \\frac{\\left(a^{\\dagger}_{2}\\right)^{2} a_{2}^{3} a^{\\dagger}_{2}}{16} + \\frac{\\left(a^{\\dagger}_{2}\\right)^{2} a_{2}^{4}}{16} - \\frac{\\left(a^{\\dagger}_{2}\\right)^{3} a^{\\dagger}_{1}}{16} + \\frac{\\left(a^{\\dagger}_{2}\\right)^{3} a^{\\dagger}_{3}}{16} - \\frac{\\left(a^{\\dagger}_{2}\\right)^{3} a_{1}}{16} + \\frac{\\left(a^{\\dagger}_{2}\\right)^{3} a_{2} a^{\\dagger}_{2} a_{2}}{16} + \\frac{\\left(a^{\\dagger}_{2}\\right)^{3} a_{2} \\left(a^{\\dagger}_{2}\\right)^{2}}{16} + \\frac{\\left(a^{\\dagger}_{2}\\right)^{3} a_{2}^{2} a^{\\dagger}_{2}}{16} + \\frac{\\left(a^{\\dagger}_{2}\\right)^{3} a_{2}^{3}}{16} + \\frac{\\left(a^{\\dagger}_{2}\\right)^{3} a_{3}}{16} + \\frac{\\left(a^{\\dagger}_{2}\\right)^{4} a_{2} a^{\\dagger}_{2}}{16} + \\frac{\\left(a^{\\dagger}_{2}\\right)^{4} a_{2}^{2}}{16} + \\frac{\\left(a^{\\dagger}_{2}\\right)^{5} a_{2}}{16} + \\frac{\\left(a^{\\dagger}_{2}\\right)^{6}}{16} - \\frac{a^{\\dagger}_{3} a^{\\dagger}_{0} a_{0} a^{\\dagger}_{0}}{16} - \\frac{a^{\\dagger}_{3} a^{\\dagger}_{0} a_{0}^{2}}{16} - \\frac{a^{\\dagger}_{3} \\left(a^{\\dagger}_{0}\\right)^{2} a_{0}}{16} - \\frac{a^{\\dagger}_{3} \\left(a^{\\dagger}_{0}\\right)^{3}}{16} - \\frac{a^{\\dagger}_{3} a^{\\dagger}_{1}}{8} + \\frac{a^{\\dagger}_{3} a^{\\dagger}_{2} a_{2} a^{\\dagger}_{2}}{16} + \\frac{a^{\\dagger}_{3} a^{\\dagger}_{2} a_{2}^{2}}{16} + \\frac{a^{\\dagger}_{3} \\left(a^{\\dagger}_{2}\\right)^{2} a_{2}}{16} + \\frac{a^{\\dagger}_{3} \\left(a^{\\dagger}_{2}\\right)^{3}}{16} - \\frac{a^{\\dagger}_{3} a_{0} a^{\\dagger}_{0} a_{0}}{16} - \\frac{a^{\\dagger}_{3} a_{0} \\left(a^{\\dagger}_{0}\\right)^{2}}{16} - \\frac{a^{\\dagger}_{3} a_{0}^{2} a^{\\dagger}_{0}}{16} - \\frac{a^{\\dagger}_{3} a_{0}^{3}}{16} - \\frac{a^{\\dagger}_{3} a_{1}}{8} + \\frac{a^{\\dagger}_{3} a_{2} a^{\\dagger}_{2} a_{2}}{16} + \\frac{a^{\\dagger}_{3} a_{2} \\left(a^{\\dagger}_{2}\\right)^{2}}{16} + \\frac{a^{\\dagger}_{3} a_{2}^{2} a^{\\dagger}_{2}}{16} + \\frac{a^{\\dagger}_{3} a_{2}^{3}}{16} - \\frac{3 a^{\\dagger}_{3} a_{3}}{8} + \\frac{3 a^{\\dagger}_{3} a_{3} \\chi^{\\dagger}_{3} \\chi_{3}}{2} + \\frac{a^{\\dagger}_{3} a_{3} a^{\\dagger}_{3} a^{\\dagger}_{0}}{16} - \\frac{a^{\\dagger}_{3} a_{3} a^{\\dagger}_{3} a^{\\dagger}_{2}}{16} + \\frac{a^{\\dagger}_{3} a_{3} a^{\\dagger}_{3} a_{0}}{16} - \\frac{a^{\\dagger}_{3} a_{3} a^{\\dagger}_{3} a_{2}}{16} + \\frac{a^{\\dagger}_{3} a_{3} a^{\\dagger}_{3} a_{3} a^{\\dagger}_{3} a_{3}}{16} + \\frac{a^{\\dagger}_{3} a_{3} a^{\\dagger}_{3} a_{3} \\left(a^{\\dagger}_{3}\\right)^{2}}{16} + \\frac{a^{\\dagger}_{3} a_{3} a^{\\dagger}_{3} a_{3}^{2} a^{\\dagger}_{3}}{16} + \\frac{a^{\\dagger}_{3} a_{3} a^{\\dagger}_{3} a_{3}^{3}}{16} + \\frac{a^{\\dagger}_{3} a_{3} \\left(a^{\\dagger}_{3}\\right)^{2} a_{3} a^{\\dagger}_{3}}{16} + \\frac{a^{\\dagger}_{3} a_{3} \\left(a^{\\dagger}_{3}\\right)^{2} a_{3}^{2}}{16} + \\frac{a^{\\dagger}_{3} a_{3} \\left(a^{\\dagger}_{3}\\right)^{3} a_{3}}{16} + \\frac{a^{\\dagger}_{3} a_{3} \\left(a^{\\dagger}_{3}\\right)^{4}}{16} + \\frac{a^{\\dagger}_{3} a_{3}^{2} a^{\\dagger}_{0}}{16} - \\frac{a^{\\dagger}_{3} a_{3}^{2} a^{\\dagger}_{2}}{16} + \\frac{a^{\\dagger}_{3} a_{3}^{2} a^{\\dagger}_{3} a_{3} a^{\\dagger}_{3}}{16} + \\frac{a^{\\dagger}_{3} a_{3}^{2} a^{\\dagger}_{3} a_{3}^{2}}{16} + \\frac{a^{\\dagger}_{3} a_{3}^{2} \\left(a^{\\dagger}_{3}\\right)^{2} a_{3}}{16} + \\frac{a^{\\dagger}_{3} a_{3}^{2} \\left(a^{\\dagger}_{3}\\right)^{3}}{16} + \\frac{a^{\\dagger}_{3} a_{3}^{2} a_{0}}{16} - \\frac{a^{\\dagger}_{3} a_{3}^{2} a_{2}}{16} + \\frac{a^{\\dagger}_{3} a_{3}^{3} a^{\\dagger}_{3} a_{3}}{16} + \\frac{a^{\\dagger}_{3} a_{3}^{3} \\left(a^{\\dagger}_{3}\\right)^{2}}{16} + \\frac{a^{\\dagger}_{3} a_{3}^{4} a^{\\dagger}_{3}}{16} + \\frac{a^{\\dagger}_{3} a_{3}^{5}}{16} - \\frac{7 \\left(a^{\\dagger}_{3}\\right)^{2}}{8} + \\frac{3 \\left(a^{\\dagger}_{3}\\right)^{2} \\chi^{\\dagger}_{3} \\chi_{3}}{2} + \\frac{\\left(a^{\\dagger}_{3}\\right)^{2} a_{3} a^{\\dagger}_{0}}{16} - \\frac{\\left(a^{\\dagger}_{3}\\right)^{2} a_{3} a^{\\dagger}_{2}}{16} + \\frac{\\left(a^{\\dagger}_{3}\\right)^{2} a_{3} a^{\\dagger}_{3} a_{3} a^{\\dagger}_{3}}{16} + \\frac{\\left(a^{\\dagger}_{3}\\right)^{2} a_{3} a^{\\dagger}_{3} a_{3}^{2}}{16} + \\frac{\\left(a^{\\dagger}_{3}\\right)^{2} a_{3} \\left(a^{\\dagger}_{3}\\right)^{2} a_{3}}{16} + \\frac{\\left(a^{\\dagger}_{3}\\right)^{2} a_{3} \\left(a^{\\dagger}_{3}\\right)^{3}}{16} + \\frac{\\left(a^{\\dagger}_{3}\\right)^{2} a_{3} a_{0}}{16} - \\frac{\\left(a^{\\dagger}_{3}\\right)^{2} a_{3} a_{2}}{16} + \\frac{\\left(a^{\\dagger}_{3}\\right)^{2} a_{3}^{2} a^{\\dagger}_{3} a_{3}}{16} + \\frac{\\left(a^{\\dagger}_{3}\\right)^{2} a_{3}^{2} \\left(a^{\\dagger}_{3}\\right)^{2}}{16} + \\frac{\\left(a^{\\dagger}_{3}\\right)^{2} a_{3}^{3} a^{\\dagger}_{3}}{16} + \\frac{\\left(a^{\\dagger}_{3}\\right)^{2} a_{3}^{4}}{16} + \\frac{\\left(a^{\\dagger}_{3}\\right)^{3} a^{\\dagger}_{0}}{16} - \\frac{\\left(a^{\\dagger}_{3}\\right)^{3} a^{\\dagger}_{2}}{16} + \\frac{\\left(a^{\\dagger}_{3}\\right)^{3} a_{0}}{16} - \\frac{\\left(a^{\\dagger}_{3}\\right)^{3} a_{2}}{16} + \\frac{\\left(a^{\\dagger}_{3}\\right)^{3} a_{3} a^{\\dagger}_{3} a_{3}}{16} + \\frac{\\left(a^{\\dagger}_{3}\\right)^{3} a_{3} \\left(a^{\\dagger}_{3}\\right)^{2}}{16} + \\frac{\\left(a^{\\dagger}_{3}\\right)^{3} a_{3}^{2} a^{\\dagger}_{3}}{16} + \\frac{\\left(a^{\\dagger}_{3}\\right)^{3} a_{3}^{3}}{16} + \\frac{\\left(a^{\\dagger}_{3}\\right)^{4} a_{3} a^{\\dagger}_{3}}{16} + \\frac{\\left(a^{\\dagger}_{3}\\right)^{4} a_{3}^{2}}{16} + \\frac{\\left(a^{\\dagger}_{3}\\right)^{5} a_{3}}{16} + \\frac{\\left(a^{\\dagger}_{3}\\right)^{6}}{16} + \\frac{9 a_{0} a^{\\dagger}_{0}}{8} - \\frac{3 a_{0} a^{\\dagger}_{0} \\chi^{\\dagger}_{0} \\chi_{0}}{2} + \\frac{a_{0} a^{\\dagger}_{0} a_{0} a^{\\dagger}_{0} a_{0} a^{\\dagger}_{0}}{16} + \\frac{a_{0} a^{\\dagger}_{0} a_{0} a^{\\dagger}_{0} a_{0}^{2}}{16} + \\frac{a_{0} a^{\\dagger}_{0} a_{0} \\left(a^{\\dagger}_{0}\\right)^{2} a_{0}}{16} + \\frac{a_{0} a^{\\dagger}_{0} a_{0} \\left(a^{\\dagger}_{0}\\right)^{3}}{16} + \\frac{a_{0} a^{\\dagger}_{0} a_{0} a^{\\dagger}_{1}}{16} - \\frac{a_{0} a^{\\dagger}_{0} a_{0} a^{\\dagger}_{3}}{16} + \\frac{a_{0} a^{\\dagger}_{0} a_{0} a_{1}}{16} - \\frac{a_{0} a^{\\dagger}_{0} a_{0} a_{3}}{16} + \\frac{a_{0} a^{\\dagger}_{0} a_{0}^{2} a^{\\dagger}_{0} a_{0}}{16} + \\frac{a_{0} a^{\\dagger}_{0} a_{0}^{2} \\left(a^{\\dagger}_{0}\\right)^{2}}{16} + \\frac{a_{0} a^{\\dagger}_{0} a_{0}^{3} a^{\\dagger}_{0}}{16} + \\frac{a_{0} a^{\\dagger}_{0} a_{0}^{4}}{16} + \\frac{a_{0} \\left(a^{\\dagger}_{0}\\right)^{2} a^{\\dagger}_{1}}{16} - \\frac{a_{0} \\left(a^{\\dagger}_{0}\\right)^{2} a^{\\dagger}_{3}}{16} + \\frac{a_{0} \\left(a^{\\dagger}_{0}\\right)^{2} a_{0} a^{\\dagger}_{0} a_{0}}{16} + \\frac{a_{0} \\left(a^{\\dagger}_{0}\\right)^{2} a_{0} \\left(a^{\\dagger}_{0}\\right)^{2}}{16} + \\frac{a_{0} \\left(a^{\\dagger}_{0}\\right)^{2} a_{0}^{2} a^{\\dagger}_{0}}{16} + \\frac{a_{0} \\left(a^{\\dagger}_{0}\\right)^{2} a_{0}^{3}}{16} + \\frac{a_{0} \\left(a^{\\dagger}_{0}\\right)^{2} a_{1}}{16} - \\frac{a_{0} \\left(a^{\\dagger}_{0}\\right)^{2} a_{3}}{16} + \\frac{a_{0} \\left(a^{\\dagger}_{0}\\right)^{3} a_{0} a^{\\dagger}_{0}}{16} + \\frac{a_{0} \\left(a^{\\dagger}_{0}\\right)^{3} a_{0}^{2}}{16} + \\frac{a_{0} \\left(a^{\\dagger}_{0}\\right)^{4} a_{0}}{16} + \\frac{a_{0} \\left(a^{\\dagger}_{0}\\right)^{5}}{16} - \\frac{a_{0} a^{\\dagger}_{1} a_{1} a^{\\dagger}_{1}}{16} - \\frac{a_{0} a^{\\dagger}_{1} a_{1}^{2}}{16} - \\frac{a_{0} \\left(a^{\\dagger}_{1}\\right)^{2} a_{1}}{16} - \\frac{a_{0} \\left(a^{\\dagger}_{1}\\right)^{3}}{16} - \\frac{a_{0} a^{\\dagger}_{2}}{8} + \\frac{a_{0} a^{\\dagger}_{3} a_{3} a^{\\dagger}_{3}}{16} + \\frac{a_{0} a^{\\dagger}_{3} a_{3}^{2}}{16} + \\frac{a_{0} \\left(a^{\\dagger}_{3}\\right)^{2} a_{3}}{16} + \\frac{a_{0} \\left(a^{\\dagger}_{3}\\right)^{3}}{16} - \\frac{a_{0} a_{1} a^{\\dagger}_{1} a_{1}}{16} - \\frac{a_{0} a_{1} \\left(a^{\\dagger}_{1}\\right)^{2}}{16} - \\frac{a_{0} a_{1}^{2} a^{\\dagger}_{1}}{16} - \\frac{a_{0} a_{1}^{3}}{16} - \\frac{a_{0} a_{2}}{8} + \\frac{a_{0} a_{3} a^{\\dagger}_{3} a_{3}}{16} + \\frac{a_{0} a_{3} \\left(a^{\\dagger}_{3}\\right)^{2}}{16} + \\frac{a_{0} a_{3}^{2} a^{\\dagger}_{3}}{16} + \\frac{a_{0} a_{3}^{3}}{16} + \\frac{5 a_{0}^{2}}{8} - \\frac{3 a_{0}^{2} \\chi^{\\dagger}_{0} \\chi_{0}}{2} + \\frac{a_{0}^{2} a^{\\dagger}_{0} a^{\\dagger}_{1}}{16} - \\frac{a_{0}^{2} a^{\\dagger}_{0} a^{\\dagger}_{3}}{16} + \\frac{a_{0}^{2} a^{\\dagger}_{0} a_{0} a^{\\dagger}_{0} a_{0}}{16} + \\frac{a_{0}^{2} a^{\\dagger}_{0} a_{0} \\left(a^{\\dagger}_{0}\\right)^{2}}{16} + \\frac{a_{0}^{2} a^{\\dagger}_{0} a_{0}^{2} a^{\\dagger}_{0}}{16} + \\frac{a_{0}^{2} a^{\\dagger}_{0} a_{0}^{3}}{16} + \\frac{a_{0}^{2} a^{\\dagger}_{0} a_{1}}{16} - \\frac{a_{0}^{2} a^{\\dagger}_{0} a_{3}}{16} + \\frac{a_{0}^{2} \\left(a^{\\dagger}_{0}\\right)^{2} a_{0} a^{\\dagger}_{0}}{16} + \\frac{a_{0}^{2} \\left(a^{\\dagger}_{0}\\right)^{2} a_{0}^{2}}{16} + \\frac{a_{0}^{2} \\left(a^{\\dagger}_{0}\\right)^{3} a_{0}}{16} + \\frac{a_{0}^{2} \\left(a^{\\dagger}_{0}\\right)^{4}}{16} + \\frac{a_{0}^{3} a^{\\dagger}_{0} a_{0} a^{\\dagger}_{0}}{16} + \\frac{a_{0}^{3} a^{\\dagger}_{0} a_{0}^{2}}{16} + \\frac{a_{0}^{3} \\left(a^{\\dagger}_{0}\\right)^{2} a_{0}}{16} + \\frac{a_{0}^{3} \\left(a^{\\dagger}_{0}\\right)^{3}}{16} + \\frac{a_{0}^{3} a^{\\dagger}_{1}}{16} - \\frac{a_{0}^{3} a^{\\dagger}_{3}}{16} + \\frac{a_{0}^{3} a_{1}}{16} - \\frac{a_{0}^{3} a_{3}}{16} + \\frac{a_{0}^{4} a^{\\dagger}_{0} a_{0}}{16} + \\frac{a_{0}^{4} \\left(a^{\\dagger}_{0}\\right)^{2}}{16} + \\frac{a_{0}^{5} a^{\\dagger}_{0}}{16} + \\frac{a_{0}^{6}}{16} + \\frac{a_{1} a^{\\dagger}_{0} a_{0} a^{\\dagger}_{0}}{16} + \\frac{a_{1} a^{\\dagger}_{0} a_{0}^{2}}{16} + \\frac{a_{1} \\left(a^{\\dagger}_{0}\\right)^{2} a_{0}}{16} + \\frac{a_{1} \\left(a^{\\dagger}_{0}\\right)^{3}}{16} - \\frac{3 a_{1} a^{\\dagger}_{1}}{8} + \\frac{3 a_{1} a^{\\dagger}_{1} \\chi^{\\dagger}_{1} \\chi_{1}}{2} - \\frac{a_{1} a^{\\dagger}_{1} a_{1} a^{\\dagger}_{0}}{16} + \\frac{a_{1} a^{\\dagger}_{1} a_{1} a^{\\dagger}_{1} a_{1} a^{\\dagger}_{1}}{16} + \\frac{a_{1} a^{\\dagger}_{1} a_{1} a^{\\dagger}_{1} a_{1}^{2}}{16} + \\frac{a_{1} a^{\\dagger}_{1} a_{1} \\left(a^{\\dagger}_{1}\\right)^{2} a_{1}}{16} + \\frac{a_{1} a^{\\dagger}_{1} a_{1} \\left(a^{\\dagger}_{1}\\right)^{3}}{16} + \\frac{a_{1} a^{\\dagger}_{1} a_{1} a^{\\dagger}_{2}}{16} - \\frac{a_{1} a^{\\dagger}_{1} a_{1} a_{0}}{16} + \\frac{a_{1} a^{\\dagger}_{1} a_{1} a_{2}}{16} + \\frac{a_{1} a^{\\dagger}_{1} a_{1}^{2} a^{\\dagger}_{1} a_{1}}{16} + \\frac{a_{1} a^{\\dagger}_{1} a_{1}^{2} \\left(a^{\\dagger}_{1}\\right)^{2}}{16} + \\frac{a_{1} a^{\\dagger}_{1} a_{1}^{3} a^{\\dagger}_{1}}{16} + \\frac{a_{1} a^{\\dagger}_{1} a_{1}^{4}}{16} - \\frac{a_{1} \\left(a^{\\dagger}_{1}\\right)^{2} a^{\\dagger}_{0}}{16} + \\frac{a_{1} \\left(a^{\\dagger}_{1}\\right)^{2} a^{\\dagger}_{2}}{16} - \\frac{a_{1} \\left(a^{\\dagger}_{1}\\right)^{2} a_{0}}{16} + \\frac{a_{1} \\left(a^{\\dagger}_{1}\\right)^{2} a_{1} a^{\\dagger}_{1} a_{1}}{16} + \\frac{a_{1} \\left(a^{\\dagger}_{1}\\right)^{2} a_{1} \\left(a^{\\dagger}_{1}\\right)^{2}}{16} + \\frac{a_{1} \\left(a^{\\dagger}_{1}\\right)^{2} a_{1}^{2} a^{\\dagger}_{1}}{16} + \\frac{a_{1} \\left(a^{\\dagger}_{1}\\right)^{2} a_{1}^{3}}{16} + \\frac{a_{1} \\left(a^{\\dagger}_{1}\\right)^{2} a_{2}}{16} + \\frac{a_{1} \\left(a^{\\dagger}_{1}\\right)^{3} a_{1} a^{\\dagger}_{1}}{16} + \\frac{a_{1} \\left(a^{\\dagger}_{1}\\right)^{3} a_{1}^{2}}{16} + \\frac{a_{1} \\left(a^{\\dagger}_{1}\\right)^{4} a_{1}}{16} + \\frac{a_{1} \\left(a^{\\dagger}_{1}\\right)^{5}}{16} - \\frac{a_{1} a^{\\dagger}_{2} a_{2} a^{\\dagger}_{2}}{16} - \\frac{a_{1} a^{\\dagger}_{2} a_{2}^{2}}{16} - \\frac{a_{1} \\left(a^{\\dagger}_{2}\\right)^{2} a_{2}}{16} - \\frac{a_{1} \\left(a^{\\dagger}_{2}\\right)^{3}}{16} - \\frac{a_{1} a^{\\dagger}_{3}}{8} + \\frac{a_{1} a_{0} a^{\\dagger}_{0} a_{0}}{16} + \\frac{a_{1} a_{0} \\left(a^{\\dagger}_{0}\\right)^{2}}{16} + \\frac{a_{1} a_{0}^{2} a^{\\dagger}_{0}}{16} + \\frac{a_{1} a_{0}^{3}}{16} - \\frac{a_{1} a_{2} a^{\\dagger}_{2} a_{2}}{16} - \\frac{a_{1} a_{2} \\left(a^{\\dagger}_{2}\\right)^{2}}{16} - \\frac{a_{1} a_{2}^{2} a^{\\dagger}_{2}}{16} - \\frac{a_{1} a_{2}^{3}}{16} - \\frac{a_{1} a_{3}}{8} - \\frac{7 a_{1}^{2}}{8} + \\frac{3 a_{1}^{2} \\chi^{\\dagger}_{1} \\chi_{1}}{2} - \\frac{a_{1}^{2} a^{\\dagger}_{1} a^{\\dagger}_{0}}{16} + \\frac{a_{1}^{2} a^{\\dagger}_{1} a^{\\dagger}_{2}}{16} - \\frac{a_{1}^{2} a^{\\dagger}_{1} a_{0}}{16} + \\frac{a_{1}^{2} a^{\\dagger}_{1} a_{1} a^{\\dagger}_{1} a_{1}}{16} + \\frac{a_{1}^{2} a^{\\dagger}_{1} a_{1} \\left(a^{\\dagger}_{1}\\right)^{2}}{16} + \\frac{a_{1}^{2} a^{\\dagger}_{1} a_{1}^{2} a^{\\dagger}_{1}}{16} + \\frac{a_{1}^{2} a^{\\dagger}_{1} a_{1}^{3}}{16} + \\frac{a_{1}^{2} a^{\\dagger}_{1} a_{2}}{16} + \\frac{a_{1}^{2} \\left(a^{\\dagger}_{1}\\right)^{2} a_{1} a^{\\dagger}_{1}}{16} + \\frac{a_{1}^{2} \\left(a^{\\dagger}_{1}\\right)^{2} a_{1}^{2}}{16} + \\frac{a_{1}^{2} \\left(a^{\\dagger}_{1}\\right)^{3} a_{1}}{16} + \\frac{a_{1}^{2} \\left(a^{\\dagger}_{1}\\right)^{4}}{16} - \\frac{a_{1}^{3} a^{\\dagger}_{0}}{16} + \\frac{a_{1}^{3} a^{\\dagger}_{1} a_{1} a^{\\dagger}_{1}}{16} + \\frac{a_{1}^{3} a^{\\dagger}_{1} a_{1}^{2}}{16} + \\frac{a_{1}^{3} \\left(a^{\\dagger}_{1}\\right)^{2} a_{1}}{16} + \\frac{a_{1}^{3} \\left(a^{\\dagger}_{1}\\right)^{3}}{16} + \\frac{a_{1}^{3} a^{\\dagger}_{2}}{16} - \\frac{a_{1}^{3} a_{0}}{16} + \\frac{a_{1}^{3} a_{2}}{16} + \\frac{a_{1}^{4} a^{\\dagger}_{1} a_{1}}{16} + \\frac{a_{1}^{4} \\left(a^{\\dagger}_{1}\\right)^{2}}{16} + \\frac{a_{1}^{5} a^{\\dagger}_{1}}{16} + \\frac{a_{1}^{6}}{16} - \\frac{a_{2} a^{\\dagger}_{0}}{8} + \\frac{a_{2} a^{\\dagger}_{1} a_{1} a^{\\dagger}_{1}}{16} + \\frac{a_{2} a^{\\dagger}_{1} a_{1}^{2}}{16} + \\frac{a_{2} \\left(a^{\\dagger}_{1}\\right)^{2} a_{1}}{16} + \\frac{a_{2} \\left(a^{\\dagger}_{1}\\right)^{3}}{16} + \\frac{9 a_{2} a^{\\dagger}_{2}}{8} - \\frac{3 a_{2} a^{\\dagger}_{2} \\chi^{\\dagger}_{2} \\chi_{2}}{2} - \\frac{a_{2} a^{\\dagger}_{2} a_{2} a^{\\dagger}_{1}}{16} + \\frac{a_{2} a^{\\dagger}_{2} a_{2} a^{\\dagger}_{2} a_{2} a^{\\dagger}_{2}}{16} + \\frac{a_{2} a^{\\dagger}_{2} a_{2} a^{\\dagger}_{2} a_{2}^{2}}{16} + \\frac{a_{2} a^{\\dagger}_{2} a_{2} \\left(a^{\\dagger}_{2}\\right)^{2} a_{2}}{16} + \\frac{a_{2} a^{\\dagger}_{2} a_{2} \\left(a^{\\dagger}_{2}\\right)^{3}}{16} + \\frac{a_{2} a^{\\dagger}_{2} a_{2} a^{\\dagger}_{3}}{16} - \\frac{a_{2} a^{\\dagger}_{2} a_{2} a_{1}}{16} + \\frac{a_{2} a^{\\dagger}_{2} a_{2} a_{3}}{16} + \\frac{a_{2} a^{\\dagger}_{2} a_{2}^{2} a^{\\dagger}_{2} a_{2}}{16} + \\frac{a_{2} a^{\\dagger}_{2} a_{2}^{2} \\left(a^{\\dagger}_{2}\\right)^{2}}{16} + \\frac{a_{2} a^{\\dagger}_{2} a_{2}^{3} a^{\\dagger}_{2}}{16} + \\frac{a_{2} a^{\\dagger}_{2} a_{2}^{4}}{16} - \\frac{a_{2} \\left(a^{\\dagger}_{2}\\right)^{2} a^{\\dagger}_{1}}{16} + \\frac{a_{2} \\left(a^{\\dagger}_{2}\\right)^{2} a^{\\dagger}_{3}}{16} - \\frac{a_{2} \\left(a^{\\dagger}_{2}\\right)^{2} a_{1}}{16} + \\frac{a_{2} \\left(a^{\\dagger}_{2}\\right)^{2} a_{2} a^{\\dagger}_{2} a_{2}}{16} + \\frac{a_{2} \\left(a^{\\dagger}_{2}\\right)^{2} a_{2} \\left(a^{\\dagger}_{2}\\right)^{2}}{16} + \\frac{a_{2} \\left(a^{\\dagger}_{2}\\right)^{2} a_{2}^{2} a^{\\dagger}_{2}}{16} + \\frac{a_{2} \\left(a^{\\dagger}_{2}\\right)^{2} a_{2}^{3}}{16} + \\frac{a_{2} \\left(a^{\\dagger}_{2}\\right)^{2} a_{3}}{16} + \\frac{a_{2} \\left(a^{\\dagger}_{2}\\right)^{3} a_{2} a^{\\dagger}_{2}}{16} + \\frac{a_{2} \\left(a^{\\dagger}_{2}\\right)^{3} a_{2}^{2}}{16} + \\frac{a_{2} \\left(a^{\\dagger}_{2}\\right)^{4} a_{2}}{16} + \\frac{a_{2} \\left(a^{\\dagger}_{2}\\right)^{5}}{16} - \\frac{a_{2} a^{\\dagger}_{3} a_{3} a^{\\dagger}_{3}}{16} - \\frac{a_{2} a^{\\dagger}_{3} a_{3}^{2}}{16} - \\frac{a_{2} \\left(a^{\\dagger}_{3}\\right)^{2} a_{3}}{16} - \\frac{a_{2} \\left(a^{\\dagger}_{3}\\right)^{3}}{16} - \\frac{a_{2} a_{0}}{8} + \\frac{a_{2} a_{1} a^{\\dagger}_{1} a_{1}}{16} + \\frac{a_{2} a_{1} \\left(a^{\\dagger}_{1}\\right)^{2}}{16} + \\frac{a_{2} a_{1}^{2} a^{\\dagger}_{1}}{16} + \\frac{a_{2} a_{1}^{3}}{16} - \\frac{a_{2} a_{3} a^{\\dagger}_{3} a_{3}}{16} - \\frac{a_{2} a_{3} \\left(a^{\\dagger}_{3}\\right)^{2}}{16} - \\frac{a_{2} a_{3}^{2} a^{\\dagger}_{3}}{16} - \\frac{a_{2} a_{3}^{3}}{16} + \\frac{5 a_{2}^{2}}{8} - \\frac{3 a_{2}^{2} \\chi^{\\dagger}_{2} \\chi_{2}}{2} - \\frac{a_{2}^{2} a^{\\dagger}_{2} a^{\\dagger}_{1}}{16} + \\frac{a_{2}^{2} a^{\\dagger}_{2} a^{\\dagger}_{3}}{16} - \\frac{a_{2}^{2} a^{\\dagger}_{2} a_{1}}{16} + \\frac{a_{2}^{2} a^{\\dagger}_{2} a_{2} a^{\\dagger}_{2} a_{2}}{16} + \\frac{a_{2}^{2} a^{\\dagger}_{2} a_{2} \\left(a^{\\dagger}_{2}\\right)^{2}}{16} + \\frac{a_{2}^{2} a^{\\dagger}_{2} a_{2}^{2} a^{\\dagger}_{2}}{16} + \\frac{a_{2}^{2} a^{\\dagger}_{2} a_{2}^{3}}{16} + \\frac{a_{2}^{2} a^{\\dagger}_{2} a_{3}}{16} + \\frac{a_{2}^{2} \\left(a^{\\dagger}_{2}\\right)^{2} a_{2} a^{\\dagger}_{2}}{16} + \\frac{a_{2}^{2} \\left(a^{\\dagger}_{2}\\right)^{2} a_{2}^{2}}{16} + \\frac{a_{2}^{2} \\left(a^{\\dagger}_{2}\\right)^{3} a_{2}}{16} + \\frac{a_{2}^{2} \\left(a^{\\dagger}_{2}\\right)^{4}}{16} - \\frac{a_{2}^{3} a^{\\dagger}_{1}}{16} + \\frac{a_{2}^{3} a^{\\dagger}_{2} a_{2} a^{\\dagger}_{2}}{16} + \\frac{a_{2}^{3} a^{\\dagger}_{2} a_{2}^{2}}{16} + \\frac{a_{2}^{3} \\left(a^{\\dagger}_{2}\\right)^{2} a_{2}}{16} + \\frac{a_{2}^{3} \\left(a^{\\dagger}_{2}\\right)^{3}}{16} + \\frac{a_{2}^{3} a^{\\dagger}_{3}}{16} - \\frac{a_{2}^{3} a_{1}}{16} + \\frac{a_{2}^{3} a_{3}}{16} + \\frac{a_{2}^{4} a^{\\dagger}_{2} a_{2}}{16} + \\frac{a_{2}^{4} \\left(a^{\\dagger}_{2}\\right)^{2}}{16} + \\frac{a_{2}^{5} a^{\\dagger}_{2}}{16} + \\frac{a_{2}^{6}}{16} - \\frac{a_{3} a^{\\dagger}_{0} a_{0} a^{\\dagger}_{0}}{16} - \\frac{a_{3} a^{\\dagger}_{0} a_{0}^{2}}{16} - \\frac{a_{3} \\left(a^{\\dagger}_{0}\\right)^{2} a_{0}}{16} - \\frac{a_{3} \\left(a^{\\dagger}_{0}\\right)^{3}}{16} - \\frac{a_{3} a^{\\dagger}_{1}}{8} + \\frac{a_{3} a^{\\dagger}_{2} a_{2} a^{\\dagger}_{2}}{16} + \\frac{a_{3} a^{\\dagger}_{2} a_{2}^{2}}{16} + \\frac{a_{3} \\left(a^{\\dagger}_{2}\\right)^{2} a_{2}}{16} + \\frac{a_{3} \\left(a^{\\dagger}_{2}\\right)^{3}}{16} - \\frac{3 a_{3} a^{\\dagger}_{3}}{8} + \\frac{3 a_{3} a^{\\dagger}_{3} \\chi^{\\dagger}_{3} \\chi_{3}}{2} + \\frac{a_{3} a^{\\dagger}_{3} a_{3} a^{\\dagger}_{0}}{16} - \\frac{a_{3} a^{\\dagger}_{3} a_{3} a^{\\dagger}_{2}}{16} + \\frac{a_{3} a^{\\dagger}_{3} a_{3} a^{\\dagger}_{3} a_{3} a^{\\dagger}_{3}}{16} + \\frac{a_{3} a^{\\dagger}_{3} a_{3} a^{\\dagger}_{3} a_{3}^{2}}{16} + \\frac{a_{3} a^{\\dagger}_{3} a_{3} \\left(a^{\\dagger}_{3}\\right)^{2} a_{3}}{16} + \\frac{a_{3} a^{\\dagger}_{3} a_{3} \\left(a^{\\dagger}_{3}\\right)^{3}}{16} + \\frac{a_{3} a^{\\dagger}_{3} a_{3} a_{0}}{16} - \\frac{a_{3} a^{\\dagger}_{3} a_{3} a_{2}}{16} + \\frac{a_{3} a^{\\dagger}_{3} a_{3}^{2} a^{\\dagger}_{3} a_{3}}{16} + \\frac{a_{3} a^{\\dagger}_{3} a_{3}^{2} \\left(a^{\\dagger}_{3}\\right)^{2}}{16} + \\frac{a_{3} a^{\\dagger}_{3} a_{3}^{3} a^{\\dagger}_{3}}{16} + \\frac{a_{3} a^{\\dagger}_{3} a_{3}^{4}}{16} + \\frac{a_{3} \\left(a^{\\dagger}_{3}\\right)^{2} a^{\\dagger}_{0}}{16} - \\frac{a_{3} \\left(a^{\\dagger}_{3}\\right)^{2} a^{\\dagger}_{2}}{16} + \\frac{a_{3} \\left(a^{\\dagger}_{3}\\right)^{2} a_{0}}{16} - \\frac{a_{3} \\left(a^{\\dagger}_{3}\\right)^{2} a_{2}}{16} + \\frac{a_{3} \\left(a^{\\dagger}_{3}\\right)^{2} a_{3} a^{\\dagger}_{3} a_{3}}{16} + \\frac{a_{3} \\left(a^{\\dagger}_{3}\\right)^{2} a_{3} \\left(a^{\\dagger}_{3}\\right)^{2}}{16} + \\frac{a_{3} \\left(a^{\\dagger}_{3}\\right)^{2} a_{3}^{2} a^{\\dagger}_{3}}{16} + \\frac{a_{3} \\left(a^{\\dagger}_{3}\\right)^{2} a_{3}^{3}}{16} + \\frac{a_{3} \\left(a^{\\dagger}_{3}\\right)^{3} a_{3} a^{\\dagger}_{3}}{16} + \\frac{a_{3} \\left(a^{\\dagger}_{3}\\right)^{3} a_{3}^{2}}{16} + \\frac{a_{3} \\left(a^{\\dagger}_{3}\\right)^{4} a_{3}}{16} + \\frac{a_{3} \\left(a^{\\dagger}_{3}\\right)^{5}}{16} - \\frac{a_{3} a_{0} a^{\\dagger}_{0} a_{0}}{16} - \\frac{a_{3} a_{0} \\left(a^{\\dagger}_{0}\\right)^{2}}{16} - \\frac{a_{3} a_{0}^{2} a^{\\dagger}_{0}}{16} - \\frac{a_{3} a_{0}^{3}}{16} - \\frac{a_{3} a_{1}}{8} + \\frac{a_{3} a_{2} a^{\\dagger}_{2} a_{2}}{16} + \\frac{a_{3} a_{2} \\left(a^{\\dagger}_{2}\\right)^{2}}{16} + \\frac{a_{3} a_{2}^{2} a^{\\dagger}_{2}}{16} + \\frac{a_{3} a_{2}^{3}}{16} - \\frac{7 a_{3}^{2}}{8} + \\frac{3 a_{3}^{2} \\chi^{\\dagger}_{3} \\chi_{3}}{2} + \\frac{a_{3}^{2} a^{\\dagger}_{3} a^{\\dagger}_{0}}{16} - \\frac{a_{3}^{2} a^{\\dagger}_{3} a^{\\dagger}_{2}}{16} + \\frac{a_{3}^{2} a^{\\dagger}_{3} a_{0}}{16} - \\frac{a_{3}^{2} a^{\\dagger}_{3} a_{2}}{16} + \\frac{a_{3}^{2} a^{\\dagger}_{3} a_{3} a^{\\dagger}_{3} a_{3}}{16} + \\frac{a_{3}^{2} a^{\\dagger}_{3} a_{3} \\left(a^{\\dagger}_{3}\\right)^{2}}{16} + \\frac{a_{3}^{2} a^{\\dagger}_{3} a_{3}^{2} a^{\\dagger}_{3}}{16} + \\frac{a_{3}^{2} a^{\\dagger}_{3} a_{3}^{3}}{16} + \\frac{a_{3}^{2} \\left(a^{\\dagger}_{3}\\right)^{2} a_{3} a^{\\dagger}_{3}}{16} + \\frac{a_{3}^{2} \\left(a^{\\dagger}_{3}\\right)^{2} a_{3}^{2}}{16} + \\frac{a_{3}^{2} \\left(a^{\\dagger}_{3}\\right)^{3} a_{3}}{16} + \\frac{a_{3}^{2} \\left(a^{\\dagger}_{3}\\right)^{4}}{16} + \\frac{a_{3}^{3} a^{\\dagger}_{0}}{16} - \\frac{a_{3}^{3} a^{\\dagger}_{2}}{16} + \\frac{a_{3}^{3} a^{\\dagger}_{3} a_{3} a^{\\dagger}_{3}}{16} + \\frac{a_{3}^{3} a^{\\dagger}_{3} a_{3}^{2}}{16} + \\frac{a_{3}^{3} \\left(a^{\\dagger}_{3}\\right)^{2} a_{3}}{16} + \\frac{a_{3}^{3} \\left(a^{\\dagger}_{3}\\right)^{3}}{16} + \\frac{a_{3}^{3} a_{0}}{16} - \\frac{a_{3}^{3} a_{2}}{16} + \\frac{a_{3}^{4} a^{\\dagger}_{3} a_{3}}{16} + \\frac{a_{3}^{4} \\left(a^{\\dagger}_{3}\\right)^{2}}{16} + \\frac{a_{3}^{5} a^{\\dagger}_{3}}{16} + \\frac{a_{3}^{6}}{16}$"
      ],
      "text/plain": [
       "-\\chi^{\\dagger}_{0}*\\chi_{1}/2 + \\chi^{\\dagger}_{0}*\\chi_{3}/2 - \\chi^{\\dagger}_{1}*\\chi_{0}/2 - \\chi^{\\dagger}_{1}*\\chi_{2}/2 - \\chi^{\\dagger}_{2}*\\chi_{1}/2 - \\chi^{\\dagger}_{2}*\\chi_{3}/2 + \\chi^{\\dagger}_{3}*\\chi_{0}/2 - \\chi^{\\dagger}_{3}*\\chi_{2}/2 - a^{\\dagger}_{0}*a^{\\dagger}_{1}*a_{1}*a^{\\dagger}_{1}/16 - a^{\\dagger}_{0}*a^{\\dagger}_{1}*a_{1}**2/16 - a^{\\dagger}_{0}*a^{\\dagger}_{1}**2*a_{1}/16 - a^{\\dagger}_{0}*a^{\\dagger}_{1}**3/16 - a^{\\dagger}_{0}*a^{\\dagger}_{2}/8 + a^{\\dagger}_{0}*a^{\\dagger}_{3}*a_{3}*a^{\\dagger}_{3}/16 + a^{\\dagger}_{0}*a^{\\dagger}_{3}*a_{3}**2/16 + a^{\\dagger}_{0}*a^{\\dagger}_{3}**2*a_{3}/16 + a^{\\dagger}_{0}*a^{\\dagger}_{3}**3/16 + 9*a^{\\dagger}_{0}*a_{0}/8 - 3*a^{\\dagger}_{0}*a_{0}*\\chi^{\\dagger}_{0}*\\chi_{0}/2 + a^{\\dagger}_{0}*a_{0}*a^{\\dagger}_{0}*a^{\\dagger}_{1}/16 - a^{\\dagger}_{0}*a_{0}*a^{\\dagger}_{0}*a^{\\dagger}_{3}/16 + a^{\\dagger}_{0}*a_{0}*a^{\\dagger}_{0}*a_{0}*a^{\\dagger}_{0}*a_{0}/16 + a^{\\dagger}_{0}*a_{0}*a^{\\dagger}_{0}*a_{0}*a^{\\dagger}_{0}**2/16 + a^{\\dagger}_{0}*a_{0}*a^{\\dagger}_{0}*a_{0}**2*a^{\\dagger}_{0}/16 + a^{\\dagger}_{0}*a_{0}*a^{\\dagger}_{0}*a_{0}**3/16 + a^{\\dagger}_{0}*a_{0}*a^{\\dagger}_{0}*a_{1}/16 - a^{\\dagger}_{0}*a_{0}*a^{\\dagger}_{0}*a_{3}/16 + a^{\\dagger}_{0}*a_{0}*a^{\\dagger}_{0}**2*a_{0}*a^{\\dagger}_{0}/16 + a^{\\dagger}_{0}*a_{0}*a^{\\dagger}_{0}**2*a_{0}**2/16 + a^{\\dagger}_{0}*a_{0}*a^{\\dagger}_{0}**3*a_{0}/16 + a^{\\dagger}_{0}*a_{0}*a^{\\dagger}_{0}**4/16 + a^{\\dagger}_{0}*a_{0}**2*a^{\\dagger}_{0}*a_{0}*a^{\\dagger}_{0}/16 + a^{\\dagger}_{0}*a_{0}**2*a^{\\dagger}_{0}*a_{0}**2/16 + a^{\\dagger}_{0}*a_{0}**2*a^{\\dagger}_{0}**2*a_{0}/16 + a^{\\dagger}_{0}*a_{0}**2*a^{\\dagger}_{0}**3/16 + a^{\\dagger}_{0}*a_{0}**2*a^{\\dagger}_{1}/16 - a^{\\dagger}_{0}*a_{0}**2*a^{\\dagger}_{3}/16 + a^{\\dagger}_{0}*a_{0}**2*a_{1}/16 - a^{\\dagger}_{0}*a_{0}**2*a_{3}/16 + a^{\\dagger}_{0}*a_{0}**3*a^{\\dagger}_{0}*a_{0}/16 + a^{\\dagger}_{0}*a_{0}**3*a^{\\dagger}_{0}**2/16 + a^{\\dagger}_{0}*a_{0}**4*a^{\\dagger}_{0}/16 + a^{\\dagger}_{0}*a_{0}**5/16 - a^{\\dagger}_{0}*a_{1}*a^{\\dagger}_{1}*a_{1}/16 - a^{\\dagger}_{0}*a_{1}*a^{\\dagger}_{1}**2/16 - a^{\\dagger}_{0}*a_{1}**2*a^{\\dagger}_{1}/16 - a^{\\dagger}_{0}*a_{1}**3/16 - a^{\\dagger}_{0}*a_{2}/8 + a^{\\dagger}_{0}*a_{3}*a^{\\dagger}_{3}*a_{3}/16 + a^{\\dagger}_{0}*a_{3}*a^{\\dagger}_{3}**2/16 + a^{\\dagger}_{0}*a_{3}**2*a^{\\dagger}_{3}/16 + a^{\\dagger}_{0}*a_{3}**3/16 + 5*a^{\\dagger}_{0}**2/8 - 3*a^{\\dagger}_{0}**2*\\chi^{\\dagger}_{0}*\\chi_{0}/2 + a^{\\dagger}_{0}**2*a_{0}*a^{\\dagger}_{0}*a_{0}*a^{\\dagger}_{0}/16 + a^{\\dagger}_{0}**2*a_{0}*a^{\\dagger}_{0}*a_{0}**2/16 + a^{\\dagger}_{0}**2*a_{0}*a^{\\dagger}_{0}**2*a_{0}/16 + a^{\\dagger}_{0}**2*a_{0}*a^{\\dagger}_{0}**3/16 + a^{\\dagger}_{0}**2*a_{0}*a^{\\dagger}_{1}/16 - a^{\\dagger}_{0}**2*a_{0}*a^{\\dagger}_{3}/16 + a^{\\dagger}_{0}**2*a_{0}*a_{1}/16 - a^{\\dagger}_{0}**2*a_{0}*a_{3}/16 + a^{\\dagger}_{0}**2*a_{0}**2*a^{\\dagger}_{0}*a_{0}/16 + a^{\\dagger}_{0}**2*a_{0}**2*a^{\\dagger}_{0}**2/16 + a^{\\dagger}_{0}**2*a_{0}**3*a^{\\dagger}_{0}/16 + a^{\\dagger}_{0}**2*a_{0}**4/16 + a^{\\dagger}_{0}**3*a^{\\dagger}_{1}/16 - a^{\\dagger}_{0}**3*a^{\\dagger}_{3}/16 + a^{\\dagger}_{0}**3*a_{0}*a^{\\dagger}_{0}*a_{0}/16 + a^{\\dagger}_{0}**3*a_{0}*a^{\\dagger}_{0}**2/16 + a^{\\dagger}_{0}**3*a_{0}**2*a^{\\dagger}_{0}/16 + a^{\\dagger}_{0}**3*a_{0}**3/16 + a^{\\dagger}_{0}**3*a_{1}/16 - a^{\\dagger}_{0}**3*a_{3}/16 + a^{\\dagger}_{0}**4*a_{0}*a^{\\dagger}_{0}/16 + a^{\\dagger}_{0}**4*a_{0}**2/16 + a^{\\dagger}_{0}**5*a_{0}/16 + a^{\\dagger}_{0}**6/16 + a^{\\dagger}_{1}*a^{\\dagger}_{0}*a_{0}*a^{\\dagger}_{0}/16 + a^{\\dagger}_{1}*a^{\\dagger}_{0}*a_{0}**2/16 + a^{\\dagger}_{1}*a^{\\dagger}_{0}**2*a_{0}/16 + a^{\\dagger}_{1}*a^{\\dagger}_{0}**3/16 - a^{\\dagger}_{1}*a^{\\dagger}_{2}*a_{2}*a^{\\dagger}_{2}/16 - a^{\\dagger}_{1}*a^{\\dagger}_{2}*a_{2}**2/16 - a^{\\dagger}_{1}*a^{\\dagger}_{2}**2*a_{2}/16 - a^{\\dagger}_{1}*a^{\\dagger}_{2}**3/16 - a^{\\dagger}_{1}*a^{\\dagger}_{3}/8 + a^{\\dagger}_{1}*a_{0}*a^{\\dagger}_{0}*a_{0}/16 + a^{\\dagger}_{1}*a_{0}*a^{\\dagger}_{0}**2/16 + a^{\\dagger}_{1}*a_{0}**2*a^{\\dagger}_{0}/16 + a^{\\dagger}_{1}*a_{0}**3/16 - 3*a^{\\dagger}_{1}*a_{1}/8 + 3*a^{\\dagger}_{1}*a_{1}*\\chi^{\\dagger}_{1}*\\chi_{1}/2 - a^{\\dagger}_{1}*a_{1}*a^{\\dagger}_{1}*a^{\\dagger}_{0}/16 + a^{\\dagger}_{1}*a_{1}*a^{\\dagger}_{1}*a^{\\dagger}_{2}/16 - a^{\\dagger}_{1}*a_{1}*a^{\\dagger}_{1}*a_{0}/16 + a^{\\dagger}_{1}*a_{1}*a^{\\dagger}_{1}*a_{1}*a^{\\dagger}_{1}*a_{1}/16 + a^{\\dagger}_{1}*a_{1}*a^{\\dagger}_{1}*a_{1}*a^{\\dagger}_{1}**2/16 + a^{\\dagger}_{1}*a_{1}*a^{\\dagger}_{1}*a_{1}**2*a^{\\dagger}_{1}/16 + a^{\\dagger}_{1}*a_{1}*a^{\\dagger}_{1}*a_{1}**3/16 + a^{\\dagger}_{1}*a_{1}*a^{\\dagger}_{1}*a_{2}/16 + a^{\\dagger}_{1}*a_{1}*a^{\\dagger}_{1}**2*a_{1}*a^{\\dagger}_{1}/16 + a^{\\dagger}_{1}*a_{1}*a^{\\dagger}_{1}**2*a_{1}**2/16 + a^{\\dagger}_{1}*a_{1}*a^{\\dagger}_{1}**3*a_{1}/16 + a^{\\dagger}_{1}*a_{1}*a^{\\dagger}_{1}**4/16 - a^{\\dagger}_{1}*a_{1}**2*a^{\\dagger}_{0}/16 + a^{\\dagger}_{1}*a_{1}**2*a^{\\dagger}_{1}*a_{1}*a^{\\dagger}_{1}/16 + a^{\\dagger}_{1}*a_{1}**2*a^{\\dagger}_{1}*a_{1}**2/16 + a^{\\dagger}_{1}*a_{1}**2*a^{\\dagger}_{1}**2*a_{1}/16 + a^{\\dagger}_{1}*a_{1}**2*a^{\\dagger}_{1}**3/16 + a^{\\dagger}_{1}*a_{1}**2*a^{\\dagger}_{2}/16 - a^{\\dagger}_{1}*a_{1}**2*a_{0}/16 + a^{\\dagger}_{1}*a_{1}**2*a_{2}/16 + a^{\\dagger}_{1}*a_{1}**3*a^{\\dagger}_{1}*a_{1}/16 + a^{\\dagger}_{1}*a_{1}**3*a^{\\dagger}_{1}**2/16 + a^{\\dagger}_{1}*a_{1}**4*a^{\\dagger}_{1}/16 + a^{\\dagger}_{1}*a_{1}**5/16 - a^{\\dagger}_{1}*a_{2}*a^{\\dagger}_{2}*a_{2}/16 - a^{\\dagger}_{1}*a_{2}*a^{\\dagger}_{2}**2/16 - a^{\\dagger}_{1}*a_{2}**2*a^{\\dagger}_{2}/16 - a^{\\dagger}_{1}*a_{2}**3/16 - a^{\\dagger}_{1}*a_{3}/8 - 7*a^{\\dagger}_{1}**2/8 + 3*a^{\\dagger}_{1}**2*\\chi^{\\dagger}_{1}*\\chi_{1}/2 - a^{\\dagger}_{1}**2*a_{1}*a^{\\dagger}_{0}/16 + a^{\\dagger}_{1}**2*a_{1}*a^{\\dagger}_{1}*a_{1}*a^{\\dagger}_{1}/16 + a^{\\dagger}_{1}**2*a_{1}*a^{\\dagger}_{1}*a_{1}**2/16 + a^{\\dagger}_{1}**2*a_{1}*a^{\\dagger}_{1}**2*a_{1}/16 + a^{\\dagger}_{1}**2*a_{1}*a^{\\dagger}_{1}**3/16 + a^{\\dagger}_{1}**2*a_{1}*a^{\\dagger}_{2}/16 - a^{\\dagger}_{1}**2*a_{1}*a_{0}/16 + a^{\\dagger}_{1}**2*a_{1}*a_{2}/16 + a^{\\dagger}_{1}**2*a_{1}**2*a^{\\dagger}_{1}*a_{1}/16 + a^{\\dagger}_{1}**2*a_{1}**2*a^{\\dagger}_{1}**2/16 + a^{\\dagger}_{1}**2*a_{1}**3*a^{\\dagger}_{1}/16 + a^{\\dagger}_{1}**2*a_{1}**4/16 - a^{\\dagger}_{1}**3*a^{\\dagger}_{0}/16 + a^{\\dagger}_{1}**3*a^{\\dagger}_{2}/16 - a^{\\dagger}_{1}**3*a_{0}/16 + a^{\\dagger}_{1}**3*a_{1}*a^{\\dagger}_{1}*a_{1}/16 + a^{\\dagger}_{1}**3*a_{1}*a^{\\dagger}_{1}**2/16 + a^{\\dagger}_{1}**3*a_{1}**2*a^{\\dagger}_{1}/16 + a^{\\dagger}_{1}**3*a_{1}**3/16 + a^{\\dagger}_{1}**3*a_{2}/16 + a^{\\dagger}_{1}**4*a_{1}*a^{\\dagger}_{1}/16 + a^{\\dagger}_{1}**4*a_{1}**2/16 + a^{\\dagger}_{1}**5*a_{1}/16 + a^{\\dagger}_{1}**6/16 - a^{\\dagger}_{2}*a^{\\dagger}_{0}/8 + a^{\\dagger}_{2}*a^{\\dagger}_{1}*a_{1}*a^{\\dagger}_{1}/16 + a^{\\dagger}_{2}*a^{\\dagger}_{1}*a_{1}**2/16 + a^{\\dagger}_{2}*a^{\\dagger}_{1}**2*a_{1}/16 + a^{\\dagger}_{2}*a^{\\dagger}_{1}**3/16 - a^{\\dagger}_{2}*a^{\\dagger}_{3}*a_{3}*a^{\\dagger}_{3}/16 - a^{\\dagger}_{2}*a^{\\dagger}_{3}*a_{3}**2/16 - a^{\\dagger}_{2}*a^{\\dagger}_{3}**2*a_{3}/16 - a^{\\dagger}_{2}*a^{\\dagger}_{3}**3/16 - a^{\\dagger}_{2}*a_{0}/8 + a^{\\dagger}_{2}*a_{1}*a^{\\dagger}_{1}*a_{1}/16 + a^{\\dagger}_{2}*a_{1}*a^{\\dagger}_{1}**2/16 + a^{\\dagger}_{2}*a_{1}**2*a^{\\dagger}_{1}/16 + a^{\\dagger}_{2}*a_{1}**3/16 + 9*a^{\\dagger}_{2}*a_{2}/8 - 3*a^{\\dagger}_{2}*a_{2}*\\chi^{\\dagger}_{2}*\\chi_{2}/2 - a^{\\dagger}_{2}*a_{2}*a^{\\dagger}_{2}*a^{\\dagger}_{1}/16 + a^{\\dagger}_{2}*a_{2}*a^{\\dagger}_{2}*a^{\\dagger}_{3}/16 - a^{\\dagger}_{2}*a_{2}*a^{\\dagger}_{2}*a_{1}/16 + a^{\\dagger}_{2}*a_{2}*a^{\\dagger}_{2}*a_{2}*a^{\\dagger}_{2}*a_{2}/16 + a^{\\dagger}_{2}*a_{2}*a^{\\dagger}_{2}*a_{2}*a^{\\dagger}_{2}**2/16 + a^{\\dagger}_{2}*a_{2}*a^{\\dagger}_{2}*a_{2}**2*a^{\\dagger}_{2}/16 + a^{\\dagger}_{2}*a_{2}*a^{\\dagger}_{2}*a_{2}**3/16 + a^{\\dagger}_{2}*a_{2}*a^{\\dagger}_{2}*a_{3}/16 + a^{\\dagger}_{2}*a_{2}*a^{\\dagger}_{2}**2*a_{2}*a^{\\dagger}_{2}/16 + a^{\\dagger}_{2}*a_{2}*a^{\\dagger}_{2}**2*a_{2}**2/16 + a^{\\dagger}_{2}*a_{2}*a^{\\dagger}_{2}**3*a_{2}/16 + a^{\\dagger}_{2}*a_{2}*a^{\\dagger}_{2}**4/16 - a^{\\dagger}_{2}*a_{2}**2*a^{\\dagger}_{1}/16 + a^{\\dagger}_{2}*a_{2}**2*a^{\\dagger}_{2}*a_{2}*a^{\\dagger}_{2}/16 + a^{\\dagger}_{2}*a_{2}**2*a^{\\dagger}_{2}*a_{2}**2/16 + a^{\\dagger}_{2}*a_{2}**2*a^{\\dagger}_{2}**2*a_{2}/16 + a^{\\dagger}_{2}*a_{2}**2*a^{\\dagger}_{2}**3/16 + a^{\\dagger}_{2}*a_{2}**2*a^{\\dagger}_{3}/16 - a^{\\dagger}_{2}*a_{2}**2*a_{1}/16 + a^{\\dagger}_{2}*a_{2}**2*a_{3}/16 + a^{\\dagger}_{2}*a_{2}**3*a^{\\dagger}_{2}*a_{2}/16 + a^{\\dagger}_{2}*a_{2}**3*a^{\\dagger}_{2}**2/16 + a^{\\dagger}_{2}*a_{2}**4*a^{\\dagger}_{2}/16 + a^{\\dagger}_{2}*a_{2}**5/16 - a^{\\dagger}_{2}*a_{3}*a^{\\dagger}_{3}*a_{3}/16 - a^{\\dagger}_{2}*a_{3}*a^{\\dagger}_{3}**2/16 - a^{\\dagger}_{2}*a_{3}**2*a^{\\dagger}_{3}/16 - a^{\\dagger}_{2}*a_{3}**3/16 + 5*a^{\\dagger}_{2}**2/8 - 3*a^{\\dagger}_{2}**2*\\chi^{\\dagger}_{2}*\\chi_{2}/2 - a^{\\dagger}_{2}**2*a_{2}*a^{\\dagger}_{1}/16 + a^{\\dagger}_{2}**2*a_{2}*a^{\\dagger}_{2}*a_{2}*a^{\\dagger}_{2}/16 + a^{\\dagger}_{2}**2*a_{2}*a^{\\dagger}_{2}*a_{2}**2/16 + a^{\\dagger}_{2}**2*a_{2}*a^{\\dagger}_{2}**2*a_{2}/16 + a^{\\dagger}_{2}**2*a_{2}*a^{\\dagger}_{2}**3/16 + a^{\\dagger}_{2}**2*a_{2}*a^{\\dagger}_{3}/16 - a^{\\dagger}_{2}**2*a_{2}*a_{1}/16 + a^{\\dagger}_{2}**2*a_{2}*a_{3}/16 + a^{\\dagger}_{2}**2*a_{2}**2*a^{\\dagger}_{2}*a_{2}/16 + a^{\\dagger}_{2}**2*a_{2}**2*a^{\\dagger}_{2}**2/16 + a^{\\dagger}_{2}**2*a_{2}**3*a^{\\dagger}_{2}/16 + a^{\\dagger}_{2}**2*a_{2}**4/16 - a^{\\dagger}_{2}**3*a^{\\dagger}_{1}/16 + a^{\\dagger}_{2}**3*a^{\\dagger}_{3}/16 - a^{\\dagger}_{2}**3*a_{1}/16 + a^{\\dagger}_{2}**3*a_{2}*a^{\\dagger}_{2}*a_{2}/16 + a^{\\dagger}_{2}**3*a_{2}*a^{\\dagger}_{2}**2/16 + a^{\\dagger}_{2}**3*a_{2}**2*a^{\\dagger}_{2}/16 + a^{\\dagger}_{2}**3*a_{2}**3/16 + a^{\\dagger}_{2}**3*a_{3}/16 + a^{\\dagger}_{2}**4*a_{2}*a^{\\dagger}_{2}/16 + a^{\\dagger}_{2}**4*a_{2}**2/16 + a^{\\dagger}_{2}**5*a_{2}/16 + a^{\\dagger}_{2}**6/16 - a^{\\dagger}_{3}*a^{\\dagger}_{0}*a_{0}*a^{\\dagger}_{0}/16 - a^{\\dagger}_{3}*a^{\\dagger}_{0}*a_{0}**2/16 - a^{\\dagger}_{3}*a^{\\dagger}_{0}**2*a_{0}/16 - a^{\\dagger}_{3}*a^{\\dagger}_{0}**3/16 - a^{\\dagger}_{3}*a^{\\dagger}_{1}/8 + a^{\\dagger}_{3}*a^{\\dagger}_{2}*a_{2}*a^{\\dagger}_{2}/16 + a^{\\dagger}_{3}*a^{\\dagger}_{2}*a_{2}**2/16 + a^{\\dagger}_{3}*a^{\\dagger}_{2}**2*a_{2}/16 + a^{\\dagger}_{3}*a^{\\dagger}_{2}**3/16 - a^{\\dagger}_{3}*a_{0}*a^{\\dagger}_{0}*a_{0}/16 - a^{\\dagger}_{3}*a_{0}*a^{\\dagger}_{0}**2/16 - a^{\\dagger}_{3}*a_{0}**2*a^{\\dagger}_{0}/16 - a^{\\dagger}_{3}*a_{0}**3/16 - a^{\\dagger}_{3}*a_{1}/8 + a^{\\dagger}_{3}*a_{2}*a^{\\dagger}_{2}*a_{2}/16 + a^{\\dagger}_{3}*a_{2}*a^{\\dagger}_{2}**2/16 + a^{\\dagger}_{3}*a_{2}**2*a^{\\dagger}_{2}/16 + a^{\\dagger}_{3}*a_{2}**3/16 - 3*a^{\\dagger}_{3}*a_{3}/8 + 3*a^{\\dagger}_{3}*a_{3}*\\chi^{\\dagger}_{3}*\\chi_{3}/2 + a^{\\dagger}_{3}*a_{3}*a^{\\dagger}_{3}*a^{\\dagger}_{0}/16 - a^{\\dagger}_{3}*a_{3}*a^{\\dagger}_{3}*a^{\\dagger}_{2}/16 + a^{\\dagger}_{3}*a_{3}*a^{\\dagger}_{3}*a_{0}/16 - a^{\\dagger}_{3}*a_{3}*a^{\\dagger}_{3}*a_{2}/16 + a^{\\dagger}_{3}*a_{3}*a^{\\dagger}_{3}*a_{3}*a^{\\dagger}_{3}*a_{3}/16 + a^{\\dagger}_{3}*a_{3}*a^{\\dagger}_{3}*a_{3}*a^{\\dagger}_{3}**2/16 + a^{\\dagger}_{3}*a_{3}*a^{\\dagger}_{3}*a_{3}**2*a^{\\dagger}_{3}/16 + a^{\\dagger}_{3}*a_{3}*a^{\\dagger}_{3}*a_{3}**3/16 + a^{\\dagger}_{3}*a_{3}*a^{\\dagger}_{3}**2*a_{3}*a^{\\dagger}_{3}/16 + a^{\\dagger}_{3}*a_{3}*a^{\\dagger}_{3}**2*a_{3}**2/16 + a^{\\dagger}_{3}*a_{3}*a^{\\dagger}_{3}**3*a_{3}/16 + a^{\\dagger}_{3}*a_{3}*a^{\\dagger}_{3}**4/16 + a^{\\dagger}_{3}*a_{3}**2*a^{\\dagger}_{0}/16 - a^{\\dagger}_{3}*a_{3}**2*a^{\\dagger}_{2}/16 + a^{\\dagger}_{3}*a_{3}**2*a^{\\dagger}_{3}*a_{3}*a^{\\dagger}_{3}/16 + a^{\\dagger}_{3}*a_{3}**2*a^{\\dagger}_{3}*a_{3}**2/16 + a^{\\dagger}_{3}*a_{3}**2*a^{\\dagger}_{3}**2*a_{3}/16 + a^{\\dagger}_{3}*a_{3}**2*a^{\\dagger}_{3}**3/16 + a^{\\dagger}_{3}*a_{3}**2*a_{0}/16 - a^{\\dagger}_{3}*a_{3}**2*a_{2}/16 + a^{\\dagger}_{3}*a_{3}**3*a^{\\dagger}_{3}*a_{3}/16 + a^{\\dagger}_{3}*a_{3}**3*a^{\\dagger}_{3}**2/16 + a^{\\dagger}_{3}*a_{3}**4*a^{\\dagger}_{3}/16 + a^{\\dagger}_{3}*a_{3}**5/16 - 7*a^{\\dagger}_{3}**2/8 + 3*a^{\\dagger}_{3}**2*\\chi^{\\dagger}_{3}*\\chi_{3}/2 + a^{\\dagger}_{3}**2*a_{3}*a^{\\dagger}_{0}/16 - a^{\\dagger}_{3}**2*a_{3}*a^{\\dagger}_{2}/16 + a^{\\dagger}_{3}**2*a_{3}*a^{\\dagger}_{3}*a_{3}*a^{\\dagger}_{3}/16 + a^{\\dagger}_{3}**2*a_{3}*a^{\\dagger}_{3}*a_{3}**2/16 + a^{\\dagger}_{3}**2*a_{3}*a^{\\dagger}_{3}**2*a_{3}/16 + a^{\\dagger}_{3}**2*a_{3}*a^{\\dagger}_{3}**3/16 + a^{\\dagger}_{3}**2*a_{3}*a_{0}/16 - a^{\\dagger}_{3}**2*a_{3}*a_{2}/16 + a^{\\dagger}_{3}**2*a_{3}**2*a^{\\dagger}_{3}*a_{3}/16 + a^{\\dagger}_{3}**2*a_{3}**2*a^{\\dagger}_{3}**2/16 + a^{\\dagger}_{3}**2*a_{3}**3*a^{\\dagger}_{3}/16 + a^{\\dagger}_{3}**2*a_{3}**4/16 + a^{\\dagger}_{3}**3*a^{\\dagger}_{0}/16 - a^{\\dagger}_{3}**3*a^{\\dagger}_{2}/16 + a^{\\dagger}_{3}**3*a_{0}/16 - a^{\\dagger}_{3}**3*a_{2}/16 + a^{\\dagger}_{3}**3*a_{3}*a^{\\dagger}_{3}*a_{3}/16 + a^{\\dagger}_{3}**3*a_{3}*a^{\\dagger}_{3}**2/16 + a^{\\dagger}_{3}**3*a_{3}**2*a^{\\dagger}_{3}/16 + a^{\\dagger}_{3}**3*a_{3}**3/16 + a^{\\dagger}_{3}**4*a_{3}*a^{\\dagger}_{3}/16 + a^{\\dagger}_{3}**4*a_{3}**2/16 + a^{\\dagger}_{3}**5*a_{3}/16 + a^{\\dagger}_{3}**6/16 + 9*a_{0}*a^{\\dagger}_{0}/8 - 3*a_{0}*a^{\\dagger}_{0}*\\chi^{\\dagger}_{0}*\\chi_{0}/2 + a_{0}*a^{\\dagger}_{0}*a_{0}*a^{\\dagger}_{0}*a_{0}*a^{\\dagger}_{0}/16 + a_{0}*a^{\\dagger}_{0}*a_{0}*a^{\\dagger}_{0}*a_{0}**2/16 + a_{0}*a^{\\dagger}_{0}*a_{0}*a^{\\dagger}_{0}**2*a_{0}/16 + a_{0}*a^{\\dagger}_{0}*a_{0}*a^{\\dagger}_{0}**3/16 + a_{0}*a^{\\dagger}_{0}*a_{0}*a^{\\dagger}_{1}/16 - a_{0}*a^{\\dagger}_{0}*a_{0}*a^{\\dagger}_{3}/16 + a_{0}*a^{\\dagger}_{0}*a_{0}*a_{1}/16 - a_{0}*a^{\\dagger}_{0}*a_{0}*a_{3}/16 + a_{0}*a^{\\dagger}_{0}*a_{0}**2*a^{\\dagger}_{0}*a_{0}/16 + a_{0}*a^{\\dagger}_{0}*a_{0}**2*a^{\\dagger}_{0}**2/16 + a_{0}*a^{\\dagger}_{0}*a_{0}**3*a^{\\dagger}_{0}/16 + a_{0}*a^{\\dagger}_{0}*a_{0}**4/16 + a_{0}*a^{\\dagger}_{0}**2*a^{\\dagger}_{1}/16 - a_{0}*a^{\\dagger}_{0}**2*a^{\\dagger}_{3}/16 + a_{0}*a^{\\dagger}_{0}**2*a_{0}*a^{\\dagger}_{0}*a_{0}/16 + a_{0}*a^{\\dagger}_{0}**2*a_{0}*a^{\\dagger}_{0}**2/16 + a_{0}*a^{\\dagger}_{0}**2*a_{0}**2*a^{\\dagger}_{0}/16 + a_{0}*a^{\\dagger}_{0}**2*a_{0}**3/16 + a_{0}*a^{\\dagger}_{0}**2*a_{1}/16 - a_{0}*a^{\\dagger}_{0}**2*a_{3}/16 + a_{0}*a^{\\dagger}_{0}**3*a_{0}*a^{\\dagger}_{0}/16 + a_{0}*a^{\\dagger}_{0}**3*a_{0}**2/16 + a_{0}*a^{\\dagger}_{0}**4*a_{0}/16 + a_{0}*a^{\\dagger}_{0}**5/16 - a_{0}*a^{\\dagger}_{1}*a_{1}*a^{\\dagger}_{1}/16 - a_{0}*a^{\\dagger}_{1}*a_{1}**2/16 - a_{0}*a^{\\dagger}_{1}**2*a_{1}/16 - a_{0}*a^{\\dagger}_{1}**3/16 - a_{0}*a^{\\dagger}_{2}/8 + a_{0}*a^{\\dagger}_{3}*a_{3}*a^{\\dagger}_{3}/16 + a_{0}*a^{\\dagger}_{3}*a_{3}**2/16 + a_{0}*a^{\\dagger}_{3}**2*a_{3}/16 + a_{0}*a^{\\dagger}_{3}**3/16 - a_{0}*a_{1}*a^{\\dagger}_{1}*a_{1}/16 - a_{0}*a_{1}*a^{\\dagger}_{1}**2/16 - a_{0}*a_{1}**2*a^{\\dagger}_{1}/16 - a_{0}*a_{1}**3/16 - a_{0}*a_{2}/8 + a_{0}*a_{3}*a^{\\dagger}_{3}*a_{3}/16 + a_{0}*a_{3}*a^{\\dagger}_{3}**2/16 + a_{0}*a_{3}**2*a^{\\dagger}_{3}/16 + a_{0}*a_{3}**3/16 + 5*a_{0}**2/8 - 3*a_{0}**2*\\chi^{\\dagger}_{0}*\\chi_{0}/2 + a_{0}**2*a^{\\dagger}_{0}*a^{\\dagger}_{1}/16 - a_{0}**2*a^{\\dagger}_{0}*a^{\\dagger}_{3}/16 + a_{0}**2*a^{\\dagger}_{0}*a_{0}*a^{\\dagger}_{0}*a_{0}/16 + a_{0}**2*a^{\\dagger}_{0}*a_{0}*a^{\\dagger}_{0}**2/16 + a_{0}**2*a^{\\dagger}_{0}*a_{0}**2*a^{\\dagger}_{0}/16 + a_{0}**2*a^{\\dagger}_{0}*a_{0}**3/16 + a_{0}**2*a^{\\dagger}_{0}*a_{1}/16 - a_{0}**2*a^{\\dagger}_{0}*a_{3}/16 + a_{0}**2*a^{\\dagger}_{0}**2*a_{0}*a^{\\dagger}_{0}/16 + a_{0}**2*a^{\\dagger}_{0}**2*a_{0}**2/16 + a_{0}**2*a^{\\dagger}_{0}**3*a_{0}/16 + a_{0}**2*a^{\\dagger}_{0}**4/16 + a_{0}**3*a^{\\dagger}_{0}*a_{0}*a^{\\dagger}_{0}/16 + a_{0}**3*a^{\\dagger}_{0}*a_{0}**2/16 + a_{0}**3*a^{\\dagger}_{0}**2*a_{0}/16 + a_{0}**3*a^{\\dagger}_{0}**3/16 + a_{0}**3*a^{\\dagger}_{1}/16 - a_{0}**3*a^{\\dagger}_{3}/16 + a_{0}**3*a_{1}/16 - a_{0}**3*a_{3}/16 + a_{0}**4*a^{\\dagger}_{0}*a_{0}/16 + a_{0}**4*a^{\\dagger}_{0}**2/16 + a_{0}**5*a^{\\dagger}_{0}/16 + a_{0}**6/16 + a_{1}*a^{\\dagger}_{0}*a_{0}*a^{\\dagger}_{0}/16 + a_{1}*a^{\\dagger}_{0}*a_{0}**2/16 + a_{1}*a^{\\dagger}_{0}**2*a_{0}/16 + a_{1}*a^{\\dagger}_{0}**3/16 - 3*a_{1}*a^{\\dagger}_{1}/8 + 3*a_{1}*a^{\\dagger}_{1}*\\chi^{\\dagger}_{1}*\\chi_{1}/2 - a_{1}*a^{\\dagger}_{1}*a_{1}*a^{\\dagger}_{0}/16 + a_{1}*a^{\\dagger}_{1}*a_{1}*a^{\\dagger}_{1}*a_{1}*a^{\\dagger}_{1}/16 + a_{1}*a^{\\dagger}_{1}*a_{1}*a^{\\dagger}_{1}*a_{1}**2/16 + a_{1}*a^{\\dagger}_{1}*a_{1}*a^{\\dagger}_{1}**2*a_{1}/16 + a_{1}*a^{\\dagger}_{1}*a_{1}*a^{\\dagger}_{1}**3/16 + a_{1}*a^{\\dagger}_{1}*a_{1}*a^{\\dagger}_{2}/16 - a_{1}*a^{\\dagger}_{1}*a_{1}*a_{0}/16 + a_{1}*a^{\\dagger}_{1}*a_{1}*a_{2}/16 + a_{1}*a^{\\dagger}_{1}*a_{1}**2*a^{\\dagger}_{1}*a_{1}/16 + a_{1}*a^{\\dagger}_{1}*a_{1}**2*a^{\\dagger}_{1}**2/16 + a_{1}*a^{\\dagger}_{1}*a_{1}**3*a^{\\dagger}_{1}/16 + a_{1}*a^{\\dagger}_{1}*a_{1}**4/16 - a_{1}*a^{\\dagger}_{1}**2*a^{\\dagger}_{0}/16 + a_{1}*a^{\\dagger}_{1}**2*a^{\\dagger}_{2}/16 - a_{1}*a^{\\dagger}_{1}**2*a_{0}/16 + a_{1}*a^{\\dagger}_{1}**2*a_{1}*a^{\\dagger}_{1}*a_{1}/16 + a_{1}*a^{\\dagger}_{1}**2*a_{1}*a^{\\dagger}_{1}**2/16 + a_{1}*a^{\\dagger}_{1}**2*a_{1}**2*a^{\\dagger}_{1}/16 + a_{1}*a^{\\dagger}_{1}**2*a_{1}**3/16 + a_{1}*a^{\\dagger}_{1}**2*a_{2}/16 + a_{1}*a^{\\dagger}_{1}**3*a_{1}*a^{\\dagger}_{1}/16 + a_{1}*a^{\\dagger}_{1}**3*a_{1}**2/16 + a_{1}*a^{\\dagger}_{1}**4*a_{1}/16 + a_{1}*a^{\\dagger}_{1}**5/16 - a_{1}*a^{\\dagger}_{2}*a_{2}*a^{\\dagger}_{2}/16 - a_{1}*a^{\\dagger}_{2}*a_{2}**2/16 - a_{1}*a^{\\dagger}_{2}**2*a_{2}/16 - a_{1}*a^{\\dagger}_{2}**3/16 - a_{1}*a^{\\dagger}_{3}/8 + a_{1}*a_{0}*a^{\\dagger}_{0}*a_{0}/16 + a_{1}*a_{0}*a^{\\dagger}_{0}**2/16 + a_{1}*a_{0}**2*a^{\\dagger}_{0}/16 + a_{1}*a_{0}**3/16 - a_{1}*a_{2}*a^{\\dagger}_{2}*a_{2}/16 - a_{1}*a_{2}*a^{\\dagger}_{2}**2/16 - a_{1}*a_{2}**2*a^{\\dagger}_{2}/16 - a_{1}*a_{2}**3/16 - a_{1}*a_{3}/8 - 7*a_{1}**2/8 + 3*a_{1}**2*\\chi^{\\dagger}_{1}*\\chi_{1}/2 - a_{1}**2*a^{\\dagger}_{1}*a^{\\dagger}_{0}/16 + a_{1}**2*a^{\\dagger}_{1}*a^{\\dagger}_{2}/16 - a_{1}**2*a^{\\dagger}_{1}*a_{0}/16 + a_{1}**2*a^{\\dagger}_{1}*a_{1}*a^{\\dagger}_{1}*a_{1}/16 + a_{1}**2*a^{\\dagger}_{1}*a_{1}*a^{\\dagger}_{1}**2/16 + a_{1}**2*a^{\\dagger}_{1}*a_{1}**2*a^{\\dagger}_{1}/16 + a_{1}**2*a^{\\dagger}_{1}*a_{1}**3/16 + a_{1}**2*a^{\\dagger}_{1}*a_{2}/16 + a_{1}**2*a^{\\dagger}_{1}**2*a_{1}*a^{\\dagger}_{1}/16 + a_{1}**2*a^{\\dagger}_{1}**2*a_{1}**2/16 + a_{1}**2*a^{\\dagger}_{1}**3*a_{1}/16 + a_{1}**2*a^{\\dagger}_{1}**4/16 - a_{1}**3*a^{\\dagger}_{0}/16 + a_{1}**3*a^{\\dagger}_{1}*a_{1}*a^{\\dagger}_{1}/16 + a_{1}**3*a^{\\dagger}_{1}*a_{1}**2/16 + a_{1}**3*a^{\\dagger}_{1}**2*a_{1}/16 + a_{1}**3*a^{\\dagger}_{1}**3/16 + a_{1}**3*a^{\\dagger}_{2}/16 - a_{1}**3*a_{0}/16 + a_{1}**3*a_{2}/16 + a_{1}**4*a^{\\dagger}_{1}*a_{1}/16 + a_{1}**4*a^{\\dagger}_{1}**2/16 + a_{1}**5*a^{\\dagger}_{1}/16 + a_{1}**6/16 - a_{2}*a^{\\dagger}_{0}/8 + a_{2}*a^{\\dagger}_{1}*a_{1}*a^{\\dagger}_{1}/16 + a_{2}*a^{\\dagger}_{1}*a_{1}**2/16 + a_{2}*a^{\\dagger}_{1}**2*a_{1}/16 + a_{2}*a^{\\dagger}_{1}**3/16 + 9*a_{2}*a^{\\dagger}_{2}/8 - 3*a_{2}*a^{\\dagger}_{2}*\\chi^{\\dagger}_{2}*\\chi_{2}/2 - a_{2}*a^{\\dagger}_{2}*a_{2}*a^{\\dagger}_{1}/16 + a_{2}*a^{\\dagger}_{2}*a_{2}*a^{\\dagger}_{2}*a_{2}*a^{\\dagger}_{2}/16 + a_{2}*a^{\\dagger}_{2}*a_{2}*a^{\\dagger}_{2}*a_{2}**2/16 + a_{2}*a^{\\dagger}_{2}*a_{2}*a^{\\dagger}_{2}**2*a_{2}/16 + a_{2}*a^{\\dagger}_{2}*a_{2}*a^{\\dagger}_{2}**3/16 + a_{2}*a^{\\dagger}_{2}*a_{2}*a^{\\dagger}_{3}/16 - a_{2}*a^{\\dagger}_{2}*a_{2}*a_{1}/16 + a_{2}*a^{\\dagger}_{2}*a_{2}*a_{3}/16 + a_{2}*a^{\\dagger}_{2}*a_{2}**2*a^{\\dagger}_{2}*a_{2}/16 + a_{2}*a^{\\dagger}_{2}*a_{2}**2*a^{\\dagger}_{2}**2/16 + a_{2}*a^{\\dagger}_{2}*a_{2}**3*a^{\\dagger}_{2}/16 + a_{2}*a^{\\dagger}_{2}*a_{2}**4/16 - a_{2}*a^{\\dagger}_{2}**2*a^{\\dagger}_{1}/16 + a_{2}*a^{\\dagger}_{2}**2*a^{\\dagger}_{3}/16 - a_{2}*a^{\\dagger}_{2}**2*a_{1}/16 + a_{2}*a^{\\dagger}_{2}**2*a_{2}*a^{\\dagger}_{2}*a_{2}/16 + a_{2}*a^{\\dagger}_{2}**2*a_{2}*a^{\\dagger}_{2}**2/16 + a_{2}*a^{\\dagger}_{2}**2*a_{2}**2*a^{\\dagger}_{2}/16 + a_{2}*a^{\\dagger}_{2}**2*a_{2}**3/16 + a_{2}*a^{\\dagger}_{2}**2*a_{3}/16 + a_{2}*a^{\\dagger}_{2}**3*a_{2}*a^{\\dagger}_{2}/16 + a_{2}*a^{\\dagger}_{2}**3*a_{2}**2/16 + a_{2}*a^{\\dagger}_{2}**4*a_{2}/16 + a_{2}*a^{\\dagger}_{2}**5/16 - a_{2}*a^{\\dagger}_{3}*a_{3}*a^{\\dagger}_{3}/16 - a_{2}*a^{\\dagger}_{3}*a_{3}**2/16 - a_{2}*a^{\\dagger}_{3}**2*a_{3}/16 - a_{2}*a^{\\dagger}_{3}**3/16 - a_{2}*a_{0}/8 + a_{2}*a_{1}*a^{\\dagger}_{1}*a_{1}/16 + a_{2}*a_{1}*a^{\\dagger}_{1}**2/16 + a_{2}*a_{1}**2*a^{\\dagger}_{1}/16 + a_{2}*a_{1}**3/16 - a_{2}*a_{3}*a^{\\dagger}_{3}*a_{3}/16 - a_{2}*a_{3}*a^{\\dagger}_{3}**2/16 - a_{2}*a_{3}**2*a^{\\dagger}_{3}/16 - a_{2}*a_{3}**3/16 + 5*a_{2}**2/8 - 3*a_{2}**2*\\chi^{\\dagger}_{2}*\\chi_{2}/2 - a_{2}**2*a^{\\dagger}_{2}*a^{\\dagger}_{1}/16 + a_{2}**2*a^{\\dagger}_{2}*a^{\\dagger}_{3}/16 - a_{2}**2*a^{\\dagger}_{2}*a_{1}/16 + a_{2}**2*a^{\\dagger}_{2}*a_{2}*a^{\\dagger}_{2}*a_{2}/16 + a_{2}**2*a^{\\dagger}_{2}*a_{2}*a^{\\dagger}_{2}**2/16 + a_{2}**2*a^{\\dagger}_{2}*a_{2}**2*a^{\\dagger}_{2}/16 + a_{2}**2*a^{\\dagger}_{2}*a_{2}**3/16 + a_{2}**2*a^{\\dagger}_{2}*a_{3}/16 + a_{2}**2*a^{\\dagger}_{2}**2*a_{2}*a^{\\dagger}_{2}/16 + a_{2}**2*a^{\\dagger}_{2}**2*a_{2}**2/16 + a_{2}**2*a^{\\dagger}_{2}**3*a_{2}/16 + a_{2}**2*a^{\\dagger}_{2}**4/16 - a_{2}**3*a^{\\dagger}_{1}/16 + a_{2}**3*a^{\\dagger}_{2}*a_{2}*a^{\\dagger}_{2}/16 + a_{2}**3*a^{\\dagger}_{2}*a_{2}**2/16 + a_{2}**3*a^{\\dagger}_{2}**2*a_{2}/16 + a_{2}**3*a^{\\dagger}_{2}**3/16 + a_{2}**3*a^{\\dagger}_{3}/16 - a_{2}**3*a_{1}/16 + a_{2}**3*a_{3}/16 + a_{2}**4*a^{\\dagger}_{2}*a_{2}/16 + a_{2}**4*a^{\\dagger}_{2}**2/16 + a_{2}**5*a^{\\dagger}_{2}/16 + a_{2}**6/16 - a_{3}*a^{\\dagger}_{0}*a_{0}*a^{\\dagger}_{0}/16 - a_{3}*a^{\\dagger}_{0}*a_{0}**2/16 - a_{3}*a^{\\dagger}_{0}**2*a_{0}/16 - a_{3}*a^{\\dagger}_{0}**3/16 - a_{3}*a^{\\dagger}_{1}/8 + a_{3}*a^{\\dagger}_{2}*a_{2}*a^{\\dagger}_{2}/16 + a_{3}*a^{\\dagger}_{2}*a_{2}**2/16 + a_{3}*a^{\\dagger}_{2}**2*a_{2}/16 + a_{3}*a^{\\dagger}_{2}**3/16 - 3*a_{3}*a^{\\dagger}_{3}/8 + 3*a_{3}*a^{\\dagger}_{3}*\\chi^{\\dagger}_{3}*\\chi_{3}/2 + a_{3}*a^{\\dagger}_{3}*a_{3}*a^{\\dagger}_{0}/16 - a_{3}*a^{\\dagger}_{3}*a_{3}*a^{\\dagger}_{2}/16 + a_{3}*a^{\\dagger}_{3}*a_{3}*a^{\\dagger}_{3}*a_{3}*a^{\\dagger}_{3}/16 + a_{3}*a^{\\dagger}_{3}*a_{3}*a^{\\dagger}_{3}*a_{3}**2/16 + a_{3}*a^{\\dagger}_{3}*a_{3}*a^{\\dagger}_{3}**2*a_{3}/16 + a_{3}*a^{\\dagger}_{3}*a_{3}*a^{\\dagger}_{3}**3/16 + a_{3}*a^{\\dagger}_{3}*a_{3}*a_{0}/16 - a_{3}*a^{\\dagger}_{3}*a_{3}*a_{2}/16 + a_{3}*a^{\\dagger}_{3}*a_{3}**2*a^{\\dagger}_{3}*a_{3}/16 + a_{3}*a^{\\dagger}_{3}*a_{3}**2*a^{\\dagger}_{3}**2/16 + a_{3}*a^{\\dagger}_{3}*a_{3}**3*a^{\\dagger}_{3}/16 + a_{3}*a^{\\dagger}_{3}*a_{3}**4/16 + a_{3}*a^{\\dagger}_{3}**2*a^{\\dagger}_{0}/16 - a_{3}*a^{\\dagger}_{3}**2*a^{\\dagger}_{2}/16 + a_{3}*a^{\\dagger}_{3}**2*a_{0}/16 - a_{3}*a^{\\dagger}_{3}**2*a_{2}/16 + a_{3}*a^{\\dagger}_{3}**2*a_{3}*a^{\\dagger}_{3}*a_{3}/16 + a_{3}*a^{\\dagger}_{3}**2*a_{3}*a^{\\dagger}_{3}**2/16 + a_{3}*a^{\\dagger}_{3}**2*a_{3}**2*a^{\\dagger}_{3}/16 + a_{3}*a^{\\dagger}_{3}**2*a_{3}**3/16 + a_{3}*a^{\\dagger}_{3}**3*a_{3}*a^{\\dagger}_{3}/16 + a_{3}*a^{\\dagger}_{3}**3*a_{3}**2/16 + a_{3}*a^{\\dagger}_{3}**4*a_{3}/16 + a_{3}*a^{\\dagger}_{3}**5/16 - a_{3}*a_{0}*a^{\\dagger}_{0}*a_{0}/16 - a_{3}*a_{0}*a^{\\dagger}_{0}**2/16 - a_{3}*a_{0}**2*a^{\\dagger}_{0}/16 - a_{3}*a_{0}**3/16 - a_{3}*a_{1}/8 + a_{3}*a_{2}*a^{\\dagger}_{2}*a_{2}/16 + a_{3}*a_{2}*a^{\\dagger}_{2}**2/16 + a_{3}*a_{2}**2*a^{\\dagger}_{2}/16 + a_{3}*a_{2}**3/16 - 7*a_{3}**2/8 + 3*a_{3}**2*\\chi^{\\dagger}_{3}*\\chi_{3}/2 + a_{3}**2*a^{\\dagger}_{3}*a^{\\dagger}_{0}/16 - a_{3}**2*a^{\\dagger}_{3}*a^{\\dagger}_{2}/16 + a_{3}**2*a^{\\dagger}_{3}*a_{0}/16 - a_{3}**2*a^{\\dagger}_{3}*a_{2}/16 + a_{3}**2*a^{\\dagger}_{3}*a_{3}*a^{\\dagger}_{3}*a_{3}/16 + a_{3}**2*a^{\\dagger}_{3}*a_{3}*a^{\\dagger}_{3}**2/16 + a_{3}**2*a^{\\dagger}_{3}*a_{3}**2*a^{\\dagger}_{3}/16 + a_{3}**2*a^{\\dagger}_{3}*a_{3}**3/16 + a_{3}**2*a^{\\dagger}_{3}**2*a_{3}*a^{\\dagger}_{3}/16 + a_{3}**2*a^{\\dagger}_{3}**2*a_{3}**2/16 + a_{3}**2*a^{\\dagger}_{3}**3*a_{3}/16 + a_{3}**2*a^{\\dagger}_{3}**4/16 + a_{3}**3*a^{\\dagger}_{0}/16 - a_{3}**3*a^{\\dagger}_{2}/16 + a_{3}**3*a^{\\dagger}_{3}*a_{3}*a^{\\dagger}_{3}/16 + a_{3}**3*a^{\\dagger}_{3}*a_{3}**2/16 + a_{3}**3*a^{\\dagger}_{3}**2*a_{3}/16 + a_{3}**3*a^{\\dagger}_{3}**3/16 + a_{3}**3*a_{0}/16 - a_{3}**3*a_{2}/16 + a_{3}**4*a^{\\dagger}_{3}*a_{3}/16 + a_{3}**4*a^{\\dagger}_{3}**2/16 + a_{3}**5*a^{\\dagger}_{3}/16 + a_{3}**6/16"
      ]
     },
     "execution_count": 8,
     "metadata": {},
     "output_type": "execute_result"
    }
   ],
   "source": [
    "m=1\n",
    "\n",
    "HOdofSubs = {}\n",
    "#offset because of BC\n",
    "for i in range(1,N+1):\n",
    "    HOdofSubs[qs[i]] = 0.5*sp.sqrt(2/m)*(aops[i] + adags[i])\n",
    "    HOdofSubs[ps[i]] = complex(0,1)*sp.sqrt(2*m)*(adags[i] - aops[i])/2 \n",
    "\n",
    "hoHam=sp.expand(ham.subs(HOdofSubs))\n",
    "hoHam=sp.nsimplify(hoHam,tolerance=1e-8)\n",
    "hoHam"
   ]
  },
  {
   "cell_type": "code",
   "execution_count": 9,
   "metadata": {},
   "outputs": [
    {
     "name": "stdout",
     "output_type": "stream",
     "text": [
      "toHam timer took: 10.1945 seconds\n",
      "evals timer took: 0.1005 seconds\n",
      "Lambda =  2\n",
      "[0.09168962+5.1222742e-09j 0.09168982-6.7302608e-09j\n",
      " 0.09168966-3.2669050e-09j 0.09168946-6.2282175e-09j\n",
      " 0.09168977-6.1830718e-09j 0.09168915-5.5679288e-09j\n",
      " 0.09168863+7.5669959e-10j 0.09168819+5.2435780e-09j\n",
      " 0.09168746-1.6298145e-09j 0.09168788+8.8230081e-09j]\n",
      "\n",
      "toHam timer took: 41.5138 seconds\n",
      "evals timer took: 0.4488 seconds\n",
      "Lambda =  3\n",
      "[ 0.00217698-7.2295734e-09j  0.00217446-2.2105061e-08j\n",
      "  0.0937362 +5.8527156e-09j  0.06817845+2.1496572e-08j\n",
      "  0.06817219+5.2914906e-10j  0.0937301 -1.1751719e-08j\n",
      "  0.09372028+6.9849193e-10j  0.09371925+6.5053882e-09j\n",
      " -0.20827872+4.2000465e-09j -0.20828477-5.4873226e-09j]\n",
      "\n",
      "toHam timer took: 268.6197 seconds\n",
      "evals timer took: 0.1138 seconds\n",
      "Lambda =  4\n",
      "[0.18095097-9.4684076e-08j 0.91802007+3.9581209e-09j\n",
      " 0.9180299 +3.2615816e-08j 1.1837488 -8.2604295e-08j\n",
      " 1.2364907 -2.9932117e-08j 1.1837366 +1.6313489e-08j\n",
      " 1.2364748 +8.2600501e-08j 1.6522098 +2.1467500e-08j\n",
      " 1.2364615 -8.3819032e-07j 1.2364492 -2.3891698e-07j]\n",
      "\n",
      "toHam timer took: 1369.6257 seconds\n",
      "evals timer took: 0.7606 seconds\n",
      "Lambda =  5\n",
      "[-0.18888703-7.12198087e-08j -0.08524978-1.03376806e-07j\n",
      " -0.08525787-8.50175752e-09j  0.2756549 -6.03459682e-08j\n",
      "  0.3343817 +4.53202382e-08j  0.02845033+2.37487257e-08j\n",
      "  0.0284538 +1.07987958e-07j  0.02844953+1.32976226e-07j\n",
      "  0.02845821+1.23283229e-07j  0.5102428 -1.87319085e-08j]\n",
      "\n",
      "toHam timer took: 5430.0831 seconds\n",
      "evals timer took: 1.3569 seconds\n",
      "Lambda =  6\n",
      "[0.26117942-2.8951692e-07j 1.2053492 +1.3412193e-07j\n",
      " 1.2053621 +5.1582060e-07j 1.4971308 +2.2771681e-07j\n",
      " 1.3053298 +2.5172554e-07j 1.4971144 -6.3141087e-08j\n",
      " 1.3053198 +1.6083595e-07j 1.98172   +2.1636642e-07j\n",
      " 1.3052899 +2.3841858e-07j 1.3052919 -3.2573007e-07j]\n",
      "\n"
     ]
    }
   ],
   "source": [
    "for cutoff in [2,3,4,5,6]:\n",
    "    t=Timer('toHam')\n",
    "    t.start()\n",
    "    hamMat=convert_to_matrix(hoHam,cutoff,N,aops,adags,xs,xdags)\n",
    "    t.stop()\n",
    "    \n",
    "    t=Timer('evals')\n",
    "    t.start()\n",
    "    ens=scipy.sparse.linalg.eigs(hamMat,k=10,which='SM')[0]\n",
    "    t.stop()\n",
    "    \n",
    "    print(\"Lambda = \",cutoff)\n",
    "    print(ens)\n",
    "    print()"
   ]
  },
  {
   "cell_type": "code",
   "execution_count": 10,
   "metadata": {},
   "outputs": [
    {
     "data": {
      "text/plain": [
       "4"
      ]
     },
     "execution_count": 10,
     "metadata": {},
     "output_type": "execute_result"
    }
   ],
   "source": [
    "N"
   ]
  },
  {
   "cell_type": "code",
   "execution_count": 10,
   "metadata": {},
   "outputs": [
    {
     "ename": "MemoryError",
     "evalue": "Unable to allocate 11.0 GiB for an array with shape (38416, 38416) and data type float64",
     "output_type": "error",
     "traceback": [
      "\u001b[0;31m---------------------------------------------------------------------------\u001b[0m",
      "\u001b[0;31mMemoryError\u001b[0m                               Traceback (most recent call last)",
      "Input \u001b[0;32mIn [10]\u001b[0m, in \u001b[0;36m<cell line: 1>\u001b[0;34m()\u001b[0m\n\u001b[1;32m      2\u001b[0m t\u001b[38;5;241m=\u001b[39mTimer(\u001b[38;5;124m'\u001b[39m\u001b[38;5;124mtoHam\u001b[39m\u001b[38;5;124m'\u001b[39m)\n\u001b[1;32m      3\u001b[0m t\u001b[38;5;241m.\u001b[39mstart()\n\u001b[0;32m----> 4\u001b[0m hamMat\u001b[38;5;241m=\u001b[39m\u001b[43mconvert_to_matrix\u001b[49m\u001b[43m(\u001b[49m\u001b[43mhoHam\u001b[49m\u001b[43m,\u001b[49m\u001b[43mcutoff\u001b[49m\u001b[43m,\u001b[49m\u001b[43mN\u001b[49m\u001b[43m,\u001b[49m\u001b[43maops\u001b[49m\u001b[43m,\u001b[49m\u001b[43madags\u001b[49m\u001b[43m,\u001b[49m\u001b[43mxs\u001b[49m\u001b[43m,\u001b[49m\u001b[43mxdags\u001b[49m\u001b[43m)\u001b[49m\n\u001b[1;32m      5\u001b[0m t\u001b[38;5;241m.\u001b[39mstop()\n\u001b[1;32m      7\u001b[0m t\u001b[38;5;241m=\u001b[39mTimer(\u001b[38;5;124m'\u001b[39m\u001b[38;5;124mevals\u001b[39m\u001b[38;5;124m'\u001b[39m)\n",
      "File \u001b[0;32m~/Code/WessZumino/ham_to_sparse_matrix.py:71\u001b[0m, in \u001b[0;36mconvert_to_matrix\u001b[0;34m(expr, cutoff, Nsites, aops, adags, xs, xdags)\u001b[0m\n\u001b[1;32m     69\u001b[0m \u001b[38;5;28;01mdef\u001b[39;00m \u001b[38;5;21mconvert_to_matrix\u001b[39m(expr, cutoff, Nsites, aops, adags, xs, xdags):\n\u001b[1;32m     70\u001b[0m     \u001b[38;5;66;03m# start with a matrix of zeros\u001b[39;00m\n\u001b[0;32m---> 71\u001b[0m     fullHam \u001b[38;5;241m=\u001b[39m scipy\u001b[38;5;241m.\u001b[39msparse\u001b[38;5;241m.\u001b[39mcoo_matrix(\u001b[43mnp\u001b[49m\u001b[38;5;241;43m.\u001b[39;49m\u001b[43mzeros\u001b[49m\u001b[43m(\u001b[49m\u001b[43m[\u001b[49m\u001b[43m(\u001b[49m\u001b[43mcutoff\u001b[49m\u001b[38;5;241;43m*\u001b[39;49m\u001b[38;5;241;43m*\u001b[39;49m\u001b[43mNsites\u001b[49m\u001b[43m)\u001b[49m\u001b[38;5;241;43m*\u001b[39;49m\u001b[43m(\u001b[49m\u001b[38;5;241;43m2\u001b[39;49m\u001b[38;5;241;43m*\u001b[39;49m\u001b[38;5;241;43m*\u001b[39;49m\u001b[43mNsites\u001b[49m\u001b[43m)\u001b[49m\u001b[43m,\u001b[49m\u001b[43m(\u001b[49m\u001b[43mcutoff\u001b[49m\u001b[38;5;241;43m*\u001b[39;49m\u001b[38;5;241;43m*\u001b[39;49m\u001b[43mNsites\u001b[49m\u001b[43m)\u001b[49m\u001b[38;5;241;43m*\u001b[39;49m\u001b[43m(\u001b[49m\u001b[38;5;241;43m2\u001b[39;49m\u001b[38;5;241;43m*\u001b[39;49m\u001b[38;5;241;43m*\u001b[39;49m\u001b[43mNsites\u001b[49m\u001b[43m)\u001b[49m\u001b[43m]\u001b[49m\u001b[43m)\u001b[49m)\u001b[38;5;241m.\u001b[39mastype(np\u001b[38;5;241m.\u001b[39mcomplex64)\n\u001b[1;32m     73\u001b[0m     \u001b[38;5;66;03m# convert each term to matrix and sum up\u001b[39;00m\n\u001b[1;32m     74\u001b[0m     \u001b[38;5;28;01mfor\u001b[39;00m t \u001b[38;5;129;01min\u001b[39;00m expr\u001b[38;5;241m.\u001b[39margs:\n\u001b[1;32m     75\u001b[0m         \u001b[38;5;66;03m#timer=Timer(str(t)+' to matrix')\u001b[39;00m\n\u001b[1;32m     76\u001b[0m         \u001b[38;5;66;03m#timer.start()\u001b[39;00m\n",
      "\u001b[0;31mMemoryError\u001b[0m: Unable to allocate 11.0 GiB for an array with shape (38416, 38416) and data type float64"
     ]
    }
   ],
   "source": [
    "for cutoff in [7,8]:\n",
    "    t=Timer('toHam')\n",
    "    t.start()\n",
    "    hamMat=convert_to_matrix(hoHam,cutoff,N,aops,adags,xs,xdags)\n",
    "    t.stop()\n",
    "    \n",
    "    t=Timer('evals')\n",
    "    t.start()\n",
    "    ens=scipy.sparse.linalg.eigs(hamMat,k=10,sigma=0)[0]\n",
    "    t.stop()\n",
    "    \n",
    "    print(\"Lambda = \",cutoff)\n",
    "    print(ens)\n",
    "    print()"
   ]
  },
  {
   "cell_type": "code",
   "execution_count": null,
   "metadata": {},
   "outputs": [],
   "source": []
  }
 ],
 "metadata": {
  "kernelspec": {
   "display_name": "Python 3",
   "language": "python",
   "name": "python3"
  },
  "language_info": {
   "codemirror_mode": {
    "name": "ipython",
    "version": 3
   },
   "file_extension": ".py",
   "mimetype": "text/x-python",
   "name": "python",
   "nbconvert_exporter": "python",
   "pygments_lexer": "ipython3",
   "version": "3.9.1"
  }
 },
 "nbformat": 4,
 "nbformat_minor": 5
}
