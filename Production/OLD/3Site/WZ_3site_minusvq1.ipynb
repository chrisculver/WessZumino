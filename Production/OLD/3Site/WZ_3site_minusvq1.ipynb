{
 "cells": [
  {
   "cell_type": "markdown",
   "metadata": {},
   "source": [
    "# Wess Zumino \n",
    "\n",
    "## N=1 in 1+1\n",
    "\n",
    "The Hamiltonian with a central difference for the derivative is given by "
   ]
  },
  {
   "cell_type": "code",
   "execution_count": 1,
   "metadata": {},
   "outputs": [],
   "source": [
    "import sympy as sp\n",
    "from ham_to_sparse_matrix import *\n",
    "from constants import *\n",
    "import scipy.sparse.linalg"
   ]
  },
  {
   "cell_type": "code",
   "execution_count": null,
   "metadata": {},
   "outputs": [],
   "source": []
  },
  {
   "cell_type": "code",
   "execution_count": 2,
   "metadata": {},
   "outputs": [],
   "source": [
    "bosonNI=sp.expand( pn**2/(2*aLat) + (aLat/2)*((qnP1-qnM1)/(2*aLat))**2 )\n",
    "bosonI=sp.expand( (aLat/2)*V(qn)**2 + aLat*V(qn)*(qnP1-qnM1)/(4*aLat) + aLat*(qnP1-qnM1)*V(qn)/(4*aLat) )\n",
    "fermionNI=sp.expand( -(xdnP1*xn+xdn*xnP1)/(2*aLat) )\n",
    "fermionI=sp.expand( sp.diff(V(qn),qn)*(xdn*xn-(1/2)) )"
   ]
  },
  {
   "cell_type": "code",
   "execution_count": 3,
   "metadata": {},
   "outputs": [
    {
     "data": {
      "text/latex": [
       "$\\displaystyle \\frac{a V^{2}{\\left(q_{n} \\right)}}{2} + \\frac{q_{n+1} V{\\left(q_{n} \\right)}}{4} - \\frac{q_{n-1} V{\\left(q_{n} \\right)}}{4} + \\frac{V{\\left(q_{n} \\right)} q_{n+1}}{4} - \\frac{V{\\left(q_{n} \\right)} q_{n-1}}{4} + \\frac{p_{n}^{2}}{2 a} - \\frac{q_{n+1} q_{n-1}}{8 a} + \\frac{q_{n+1}^{2}}{8 a} - \\frac{q_{n-1} q_{n+1}}{8 a} + \\frac{q_{n-1}^{2}}{8 a}$"
      ],
      "text/plain": [
       "a*V(q_{n})**2/2 + q_{n+1}*V(q_{n})/4 - q_{n-1}*V(q_{n})/4 + V(q_{n})*q_{n+1}/4 - V(q_{n})*q_{n-1}/4 + p_{n}**2/(2*a) - q_{n+1}*q_{n-1}/(8*a) + q_{n+1}**2/(8*a) - q_{n-1}*q_{n+1}/(8*a) + q_{n-1}**2/(8*a)"
      ]
     },
     "execution_count": 3,
     "metadata": {},
     "output_type": "execute_result"
    }
   ],
   "source": [
    "bosonNI+bosonI"
   ]
  },
  {
   "cell_type": "code",
   "execution_count": 11,
   "metadata": {},
   "outputs": [
    {
     "data": {
      "text/latex": [
       "$\\displaystyle - 0.5 \\frac{d}{d q_{n}} V{\\left(q_{n} \\right)} + \\frac{d}{d q_{n}} V{\\left(q_{n} \\right)} \\chi^{\\dagger}_{n} \\chi_{n} - \\frac{\\chi^{\\dagger}_{n+1} \\chi_{n}}{2 a} - \\frac{\\chi^{\\dagger}_{n} \\chi_{n+1}}{2 a}$"
      ],
      "text/plain": [
       "-0.5*Derivative(V(q_{n}), q_{n}) + Derivative(V(q_{n}), q_{n})*\\chi^{\\dagger}_{n}*\\chi_{n} - \\chi^{\\dagger}_{n+1}*\\chi_{n}/(2*a) - \\chi^{\\dagger}_{n}*\\chi_{n+1}/(2*a)"
      ]
     },
     "execution_count": 26,
     "metadata": {},
     "output_type": "execute_result"
    }
   ],
   "source": [
    "fermionNI + fermionI"
   ]
  },
  {
   "cell_type": "code",
   "execution_count": 4,
   "metadata": {},
   "outputs": [],
   "source": [
    "N=3\n",
    "aVal=1\n",
    "\n",
    "# depends on finite-difference method\n",
    "qs=[SiteSymbol('q',str(i)) for i in range(-1,N+1,1)]\n",
    "# maybe make qs a normal site list\n",
    "# and make an extra boundaryQs list for q[-1], q[N]\n",
    "# counting would be normal computer science way for rest of code.\n",
    "\n",
    "ps=[SiteSymbol('p',str(i)) for i in range(-1,N+1,1)] # don't really need extras\n",
    "aops=[SiteSymbol('a',str(i)) for i in range(-1,N+1,1)]\n",
    "adags=[SiteSymbol('a^{\\dagger}',str(i)) for i in range(-1,N+1,1)]\n",
    "xs=[SiteSymbol('\\chi',str(i)) for i in range(-1,N+1,1)]\n",
    "xdags=[SiteSymbol('\\chi^{\\dagger}',str(i)) for i in range(-1,N+1,1)]\n",
    "\n",
    "# note this is exactly hardcoded for this finite difference method.\n",
    "bcType = 'dirichlet'\n",
    "boundaryConditions = {}\n",
    "if bcType == 'periodic':\n",
    "    boundaryConditions = {qs[0]: qs[N], qs[N+1]: qs[1],\n",
    "                          xs[0]: -xs[N], xs[N+1]: -xs[1], \n",
    "                          xdags[0]: -xdags[N],  xdags[N+1]: -xdags[1]\n",
    "                         }\n",
    "    \n",
    "elif bcType == 'dirichlet':\n",
    "    boundaryConditions = { qs[0]: 0, qs[N+1]: 0,\n",
    "                          xs[0]: 0, xs[N+1]: 0,\n",
    "                          xdags[0]: 0, xdags[N+1]:0\n",
    "                         }"
   ]
  },
  {
   "cell_type": "code",
   "execution_count": 5,
   "metadata": {},
   "outputs": [
    {
     "data": {
      "text/latex": [
       "$\\displaystyle \\frac{a V^{2}{\\left(q_{n} \\right)}}{2} + \\frac{q_{n+1} V{\\left(q_{n} \\right)}}{4} - \\frac{q_{n-1} V{\\left(q_{n} \\right)}}{4} + \\frac{V{\\left(q_{n} \\right)} q_{n+1}}{4} - \\frac{V{\\left(q_{n} \\right)} q_{n-1}}{4} - 0.5 \\frac{d}{d q_{n}} V{\\left(q_{n} \\right)} + \\frac{d}{d q_{n}} V{\\left(q_{n} \\right)} \\chi^{\\dagger}_{n} \\chi_{n} - \\frac{\\chi^{\\dagger}_{n+1} \\chi_{n}}{2 a} - \\frac{\\chi^{\\dagger}_{n} \\chi_{n+1}}{2 a} + \\frac{p_{n}^{2}}{2 a} - \\frac{q_{n+1} q_{n-1}}{8 a} + \\frac{q_{n+1}^{2}}{8 a} - \\frac{q_{n-1} q_{n+1}}{8 a} + \\frac{q_{n-1}^{2}}{8 a}$"
      ],
      "text/plain": [
       "a*V(q_{n})**2/2 + q_{n+1}*V(q_{n})/4 - q_{n-1}*V(q_{n})/4 + V(q_{n})*q_{n+1}/4 - V(q_{n})*q_{n-1}/4 - 0.5*Derivative(V(q_{n}), q_{n}) + Derivative(V(q_{n}), q_{n})*\\chi^{\\dagger}_{n}*\\chi_{n} - \\chi^{\\dagger}_{n+1}*\\chi_{n}/(2*a) - \\chi^{\\dagger}_{n}*\\chi_{n+1}/(2*a) + p_{n}**2/(2*a) - q_{n+1}*q_{n-1}/(8*a) + q_{n+1}**2/(8*a) - q_{n-1}*q_{n+1}/(8*a) + q_{n-1}**2/(8*a)"
      ]
     },
     "execution_count": 5,
     "metadata": {},
     "output_type": "execute_result"
    }
   ],
   "source": [
    "totHam=bosonNI+bosonI+fermionNI+fermionI\n",
    "totHam"
   ]
  },
  {
   "cell_type": "code",
   "execution_count": 6,
   "metadata": {},
   "outputs": [
    {
     "data": {
      "text/latex": [
       "$\\displaystyle 0.5 - \\chi^{\\dagger}_{0} \\chi_{0} - \\frac{\\chi^{\\dagger}_{0} \\chi_{1}}{2} - \\frac{\\chi^{\\dagger}_{1} \\chi_{0}}{2} + \\chi^{\\dagger}_{1} \\chi_{1} - \\frac{\\chi^{\\dagger}_{1} \\chi_{2}}{2} - \\frac{\\chi^{\\dagger}_{2} \\chi_{1}}{2} - \\chi^{\\dagger}_{2} \\chi_{2} + \\frac{p_{0}^{2}}{2} + \\frac{p_{1}^{2}}{2} + \\frac{p_{2}^{2}}{2} - \\frac{q_{0} q_{2}}{8} + \\frac{5 q_{0}^{2}}{8} + \\frac{3 q_{1}^{2}}{4} - \\frac{q_{2} q_{0}}{8} + \\frac{5 q_{2}^{2}}{8}$"
      ],
      "text/plain": [
       "0.5 - \\chi^{\\dagger}_{0}*\\chi_{0} - \\chi^{\\dagger}_{0}*\\chi_{1}/2 - \\chi^{\\dagger}_{1}*\\chi_{0}/2 + \\chi^{\\dagger}_{1}*\\chi_{1} - \\chi^{\\dagger}_{1}*\\chi_{2}/2 - \\chi^{\\dagger}_{2}*\\chi_{1}/2 - \\chi^{\\dagger}_{2}*\\chi_{2} + p_{0}**2/2 + p_{1}**2/2 + p_{2}**2/2 - q_{0}*q_{2}/8 + 5*q_{0}**2/8 + 3*q_{1}**2/4 - q_{2}*q_{0}/8 + 5*q_{2}**2/8"
      ]
     },
     "execution_count": 6,
     "metadata": {},
     "output_type": "execute_result"
    }
   ],
   "source": [
    "ham=0\n",
    "\n",
    "mass=1\n",
    "\n",
    "for i in range(1,N+1):\n",
    "    ham+=(bosonNI+bosonI+fermionNI).subs({\n",
    "        pn: ps[i],\n",
    "        qn: qs[i], qnP1: qs[i+1], qnM1: qs[i-1],\n",
    "        xn: xs[i], xnP1: xs[i+1],\n",
    "        xdn: xdags[i], xdnP1: xdags[i+1]\n",
    "    }).subs(boundaryConditions)\n",
    "\n",
    "def potential(n):\n",
    "    # m*q with m=1\n",
    "    return mass*qs[n]\n",
    "\n",
    "potentialSubs={}\n",
    "for n in range(1,N+1):\n",
    "    potentialSubs[V(qs[n])]=potential(n)\n",
    "\n",
    "\n",
    "ham=sp.simplify(ham.subs(potentialSubs).subs(aLat,aVal))\n",
    "\n",
    "for i in range(1,N+1):\n",
    "    if i%2==0:\n",
    "        ham+=sp.simplify(fermionI.subs({qn: qs[i], xn: xs[i], xdn: xdags[i]}).subs(potentialSubs))\n",
    "    else:\n",
    "        ham-=sp.simplify(fermionI.subs({qn: qs[i], xn: xs[i], xdn: xdags[i]}).subs(potentialSubs))\n",
    "ham=sp.simplify(ham.subs(aLat,aVal))\n",
    "sp.expand(ham)"
   ]
  },
  {
   "cell_type": "code",
   "execution_count": 7,
   "metadata": {},
   "outputs": [
    {
     "data": {
      "text/latex": [
       "$\\displaystyle \\frac{1}{2} - \\chi^{\\dagger}_{0} \\chi_{0} - \\frac{\\chi^{\\dagger}_{0} \\chi_{1}}{2} - \\frac{\\chi^{\\dagger}_{1} \\chi_{0}}{2} + \\chi^{\\dagger}_{1} \\chi_{1} - \\frac{\\chi^{\\dagger}_{1} \\chi_{2}}{2} - \\frac{\\chi^{\\dagger}_{2} \\chi_{1}}{2} - \\chi^{\\dagger}_{2} \\chi_{2} - \\frac{a^{\\dagger}_{0} a^{\\dagger}_{2}}{16} + \\frac{9 a^{\\dagger}_{0} a_{0}}{16} - \\frac{a^{\\dagger}_{0} a_{2}}{16} + \\frac{\\left(a^{\\dagger}_{0}\\right)^{2}}{16} + \\frac{5 a^{\\dagger}_{1} a_{1}}{8} + \\frac{\\left(a^{\\dagger}_{1}\\right)^{2}}{8} - \\frac{a^{\\dagger}_{2} a^{\\dagger}_{0}}{16} - \\frac{a^{\\dagger}_{2} a_{0}}{16} + \\frac{9 a^{\\dagger}_{2} a_{2}}{16} + \\frac{\\left(a^{\\dagger}_{2}\\right)^{2}}{16} + \\frac{9 a_{0} a^{\\dagger}_{0}}{16} - \\frac{a_{0} a^{\\dagger}_{2}}{16} - \\frac{a_{0} a_{2}}{16} + \\frac{a_{0}^{2}}{16} + \\frac{5 a_{1} a^{\\dagger}_{1}}{8} + \\frac{a_{1}^{2}}{8} - \\frac{a_{2} a^{\\dagger}_{0}}{16} + \\frac{9 a_{2} a^{\\dagger}_{2}}{16} - \\frac{a_{2} a_{0}}{16} + \\frac{a_{2}^{2}}{16}$"
      ],
      "text/plain": [
       "1/2 - \\chi^{\\dagger}_{0}*\\chi_{0} - \\chi^{\\dagger}_{0}*\\chi_{1}/2 - \\chi^{\\dagger}_{1}*\\chi_{0}/2 + \\chi^{\\dagger}_{1}*\\chi_{1} - \\chi^{\\dagger}_{1}*\\chi_{2}/2 - \\chi^{\\dagger}_{2}*\\chi_{1}/2 - \\chi^{\\dagger}_{2}*\\chi_{2} - a^{\\dagger}_{0}*a^{\\dagger}_{2}/16 + 9*a^{\\dagger}_{0}*a_{0}/16 - a^{\\dagger}_{0}*a_{2}/16 + a^{\\dagger}_{0}**2/16 + 5*a^{\\dagger}_{1}*a_{1}/8 + a^{\\dagger}_{1}**2/8 - a^{\\dagger}_{2}*a^{\\dagger}_{0}/16 - a^{\\dagger}_{2}*a_{0}/16 + 9*a^{\\dagger}_{2}*a_{2}/16 + a^{\\dagger}_{2}**2/16 + 9*a_{0}*a^{\\dagger}_{0}/16 - a_{0}*a^{\\dagger}_{2}/16 - a_{0}*a_{2}/16 + a_{0}**2/16 + 5*a_{1}*a^{\\dagger}_{1}/8 + a_{1}**2/8 - a_{2}*a^{\\dagger}_{0}/16 + 9*a_{2}*a^{\\dagger}_{2}/16 - a_{2}*a_{0}/16 + a_{2}**2/16"
      ]
     },
     "execution_count": 7,
     "metadata": {},
     "output_type": "execute_result"
    }
   ],
   "source": [
    "m=1\n",
    "\n",
    "HOdofSubs = {}\n",
    "#offset because of BC\n",
    "for i in range(1,N+1):\n",
    "    HOdofSubs[qs[i]] = 0.5*sp.sqrt(2/m)*(aops[i] + adags[i])\n",
    "    HOdofSubs[ps[i]] = complex(0,1)*sp.sqrt(2*m)*(adags[i] - aops[i])/2 \n",
    "\n",
    "hoHam=sp.expand(ham.subs(HOdofSubs))\n",
    "hoHam=sp.nsimplify(hoHam,tolerance=1e-8)\n",
    "hoHam"
   ]
  },
  {
   "cell_type": "code",
   "execution_count": 17,
   "metadata": {},
   "outputs": [
    {
     "name": "stderr",
     "output_type": "stream",
     "text": [
      "/home/chris/anaconda3/envs/QuantumComputing/lib/python3.9/site-packages/scipy/sparse/_sputils.py:114: UserWarning: object dtype is not supported by sparse matrices\n",
      "  warnings.warn(\"object dtype is not supported by sparse matrices\")\n"
     ]
    }
   ],
   "source": [
    "cutoff=6\n",
    "hamMat=convert_to_matrix(hoHam,cutoff,N,aops,adags,xs,xdags)"
   ]
  },
  {
   "cell_type": "code",
   "execution_count": null,
   "metadata": {},
   "outputs": [],
   "source": []
  },
  {
   "cell_type": "code",
   "execution_count": 18,
   "metadata": {},
   "outputs": [
    {
     "data": {
      "text/plain": [
       "<1728x1728 sparse matrix of type '<class 'numpy.complex64'>'\n",
       "\twith 25632 stored elements in Compressed Sparse Row format>"
      ]
     },
     "execution_count": 18,
     "metadata": {},
     "output_type": "execute_result"
    }
   ],
   "source": [
    "hamMat"
   ]
  },
  {
   "cell_type": "code",
   "execution_count": 19,
   "metadata": {},
   "outputs": [],
   "source": [
    "ens=scipy.sparse.linalg.eigs(hamMat,k=10,sigma=0)[0]"
   ]
  },
  {
   "cell_type": "code",
   "execution_count": 20,
   "metadata": {},
   "outputs": [
    {
     "data": {
      "text/plain": [
       "array([0.13672549+3.9363273e-09j, 0.82286537-5.7748132e-08j,\n",
       "       1.1349455 +7.4264133e-09j, 1.3228645 +6.9571717e-09j,\n",
       "       1.4574281 +3.6721159e-09j, 1.5420889 +2.3216097e-08j,\n",
       "       1.4574282 +4.9628056e-08j, 1.8210869 -1.0007612e-08j,\n",
       "       1.8228647 -1.6949008e-08j, 2.137434  -8.2583407e-10j],\n",
       "      dtype=complex64)"
      ]
     },
     "execution_count": 20,
     "metadata": {},
     "output_type": "execute_result"
    }
   ],
   "source": [
    "ens"
   ]
  },
  {
   "cell_type": "code",
   "execution_count": 12,
   "metadata": {},
   "outputs": [
    {
     "name": "stdout",
     "output_type": "stream",
     "text": [
      "toHam timer took: 0.3186 seconds\n",
      "evals timer took: 0.0019 seconds\n",
      "Lambda =  2\n",
      "[-0.09974489-8.1066465e-10j  0.15025519-8.1583340e-10j\n",
      " -0.09974482-2.3763711e-09j  0.15025502-8.2368812e-10j\n",
      " -0.09974478+5.0066457e-10j  0.15025514-1.8434078e-09j\n",
      " -0.09974491+1.2575089e-09j  0.15025511+5.5199972e-10j\n",
      "  0.9002541 +1.2396897e-08j  0.90025526-9.6734505e-09j]\n",
      "\n",
      "toHam timer took: 0.6584 seconds\n",
      "evals timer took: 0.0093 seconds\n",
      "Lambda =  3\n",
      "[-0.05103881-1.8186801e-09j  0.512777  +5.3556479e-09j\n",
      "  0.5412189 +4.3037116e-09j  0.66703045-1.3411054e-08j\n",
      "  0.94896084+5.7305076e-09j  0.9615351 +3.1636723e-08j\n",
      "  1.0594175 +2.5267230e-08j  1.1383299 -1.9936913e-08j\n",
      "  1.173705  -2.2046860e-09j  1.1737043 -3.1083747e-09j]\n",
      "\n",
      "toHam timer took: 1.1568 seconds\n",
      "evals timer took: 0.0122 seconds\n",
      "Lambda =  4\n",
      "[1.17475014e-04+4.50193788e-12j 9.07815576e-01-3.31917271e-09j\n",
      " 9.56369102e-01+4.70403660e-10j 1.00011837e+00+2.10788738e-08j\n",
      " 1.03278327e+00-8.94949803e-09j 1.21190763e+00-1.13813865e-08j\n",
      " 1.31557000e+00+1.84047477e-09j 1.56874037e+00-3.81049112e-08j\n",
      " 1.22486246e+00+2.27278303e-08j 1.22486222e+00+4.89038054e-09j]\n",
      "\n",
      "toHam timer took: 2.2366 seconds\n",
      "evals timer took: 0.0534 seconds\n",
      "Lambda =  5\n",
      "[-3.5618097e-04+1.3026091e-10j  9.9964321e-01+1.0353571e-08j\n",
      "  9.9956602e-01+1.1776823e-08j  1.2256371e+00+3.4210408e-09j\n",
      "  1.2239834e+00-1.7932594e-08j  1.2243879e+00-2.2517894e-09j\n",
      "  1.6699462e+00+1.7627688e-08j  1.6009084e+00-1.9576454e-09j\n",
      "  1.6143812e+00-2.0230948e-08j  1.2243890e+00-6.6587216e-09j]\n",
      "\n",
      "toHam timer took: 3.7366 seconds\n",
      "evals timer took: 0.0575 seconds\n",
      "Lambda =  6\n",
      "[2.0708771e-06-3.3356182e-13j 9.9984908e-01+2.4701695e-08j\n",
      " 1.0000004e+00-3.9970494e-08j 1.2218398e+00+9.5516945e-08j\n",
      " 1.2247448e+00-2.5886241e-08j 1.2245660e+00+1.6951764e-08j\n",
      " 1.2247460e+00+3.0641918e-09j 1.9999201e+00+2.4286951e-06j\n",
      " 1.9998505e+00+2.1417218e-08j 2.1779523e+00+1.6407132e-09j]\n",
      "\n",
      "toHam timer took: 5.9607 seconds\n",
      "evals timer took: 0.1572 seconds\n",
      "Lambda =  7\n",
      "[-3.5075593e-06+2.5672265e-13j  9.9999583e-01+7.5669320e-09j\n",
      "  9.9999475e-01-4.6230952e-08j  1.2247605e+00-3.1782193e-08j\n",
      "  1.2247401e+00+7.6792590e-09j  1.2247387e+00+3.4924248e-09j\n",
      "  1.2247422e+00-2.4630710e-08j  1.9999943e+00-2.0488979e-08j\n",
      "  1.9995641e+00-8.2502481e-08j  2.2235680e+00+1.8034578e-06j]\n",
      "\n",
      "toHam timer took: 9.6495 seconds\n",
      "evals timer took: 0.3632 seconds\n",
      "Lambda =  8\n",
      "[2.5673984e-08-1.03341757e-15j 9.9999833e-01+2.36340867e-08j\n",
      " 9.9999619e-01-2.56011710e-08j 1.2247071e+00+1.01820747e-08j\n",
      " 1.2247415e+00+1.29602098e-08j 1.2247436e+00-5.34994804e-08j\n",
      " 1.2247444e+00+2.32830999e-08j 1.9999988e+00-8.79167487e-07j\n",
      " 1.9999957e+00-1.86263719e-07j 2.2247064e+00-1.10625884e-07j]\n",
      "\n",
      "toHam timer took: 15.3592 seconds\n",
      "evals timer took: 0.4940 seconds\n",
      "Lambda =  9\n",
      "[-4.2109029e-08-2.0428754e-14j  9.9999952e-01+3.5372615e-08j\n",
      "  9.9999905e-01+1.4913176e-08j  1.2247438e+00+3.3594070e-08j\n",
      "  1.2247441e+00-1.2572838e-08j  1.2247427e+00-2.0584549e-08j\n",
      "  1.2247441e+00+1.5406364e-08j  1.9999290e+00+1.3231291e-05j\n",
      "  1.9999959e+00+1.6373750e-07j  2.2247398e+00+1.4289606e-07j]\n",
      "\n",
      "toHam timer took: 23.7188 seconds\n",
      "evals timer took: 0.7477 seconds\n",
      "Lambda =  10\n",
      "[3.1560718e-09-8.0941913e-17j 1.0000734e+00-1.3447943e-08j\n",
      " 9.9999881e-01+2.5681478e-08j 1.2254361e+00-2.0583128e-08j\n",
      " 1.2247432e+00-1.6065272e-08j 1.2247430e+00+2.0954690e-08j\n",
      " 1.2247440e+00-2.9274672e-08j 2.0006752e+00+1.7159559e-07j\n",
      " 1.9999969e+00+8.1063412e-08j 2.2247424e+00+3.3937894e-07j]\n",
      "\n",
      "toHam timer took: 35.6360 seconds\n",
      "evals timer took: 1.0384 seconds\n",
      "Lambda =  11\n",
      "[-5.9741012e-09+2.8369815e-16j  9.9999881e-01+3.0918542e-08j\n",
      "  1.2247427e+00+5.1355880e-09j  9.9999905e-01+4.1385420e-08j\n",
      "  1.2247438e+00+1.5279733e-08j  1.2247448e+00-1.3312158e-08j\n",
      "  2.0000136e+00+1.0967402e-05j  2.0000000e+00-1.1175871e-08j\n",
      "  1.2247450e+00+1.0793711e-08j  2.2243447e+00+1.1299126e-04j]\n",
      "\n",
      "toHam timer took: 53.5116 seconds\n",
      "evals timer took: 2.1724 seconds\n",
      "Lambda =  12\n",
      "[-9.7659356e-09-4.7593070e-15j  1.0000918e+00-1.3004946e-08j\n",
      "  1.2251687e+00-1.6332159e-08j  9.9999869e-01-1.6857435e-08j\n",
      "  1.2247435e+00-1.7640129e-08j  1.2247437e+00+2.4793735e-08j\n",
      "  1.2247430e+00-3.3507821e-08j  2.0004995e+00+3.8260076e-08j\n",
      "  1.9999971e+00-2.3397691e-08j  2.2247417e+00+7.3803974e-08j]\n",
      "\n"
     ]
    }
   ],
   "source": [
    "e0raw=[]\n",
    "\n",
    "for cutoff in [2,3,4,5,6,7,8,9,10,11,12]:\n",
    "    t=Timer('toHam')\n",
    "    t.start()\n",
    "    hamMat=convert_to_matrix(hoHam,cutoff,N,aops,adags,xs,xdags)\n",
    "    t.stop()\n",
    "    \n",
    "    t=Timer('evals')\n",
    "    t.start()\n",
    "    ens=scipy.sparse.linalg.eigs(hamMat,k=10,sigma=0)[0]\n",
    "    e0raw.append(ens[0])\n",
    "    t.stop()\n",
    "    \n",
    "    print(\"Lambda = \",cutoff)\n",
    "    print(ens)\n",
    "    print()"
   ]
  },
  {
   "cell_type": "code",
   "execution_count": 1,
   "metadata": {},
   "outputs": [],
   "source": [
    "e0raw=[(-0.099744886-8.1066465e-10j),\n",
    " (-0.05103881-1.8186801e-09j),\n",
    " (0.000117475014+4.501938e-12j),\n",
    " (-0.00035618097+1.3026091e-10j),\n",
    " (2.0708771e-06-3.3356182e-13j),\n",
    " (-3.5075593e-06+2.5672265e-13j),\n",
    " (2.5673984e-08-1.0334176e-15j),\n",
    " (-4.210903e-08-2.0428754e-14j),\n",
    " (3.1560718e-09-8.094191e-17j),\n",
    " (-5.974101e-09+2.8369815e-16j),\n",
    " (-9.765936e-09-4.759307e-15j)]"
   ]
  },
  {
   "cell_type": "code",
   "execution_count": 7,
   "metadata": {},
   "outputs": [
    {
     "data": {
      "image/png": "[encoded data removed]",
      "text/plain": [
       "<Figure size 720x576 with 1 Axes>"
      ]
     },
     "metadata": {
      "needs_background": "light"
     },
     "output_type": "display_data"
    }
   ],
   "source": [
    "import matplotlib.pyplot as plt\n",
    "\n",
    "import matplotlib \n",
    "#matplotlib.use(\"Agg\")\n",
    "plt.style.use(\"paper.mplstyle\")\n",
    "\n",
    "fig, ax = plt.subplots()\n",
    "\n",
    "plt.scatter([x for x in range(2,13)],[abs(en.real) for en in e0raw], c='black')\n",
    "plt.yscale('log')\n",
    "\n",
    "plt.xlabel('$\\\\Lambda$')\n",
    "plt.ylabel('$|E|$')\n",
    "\n",
    "plt.xlim(1.5,12.5)\n",
    "plt.ylim(1e-10,1e0)\n",
    "plt.yscale('log')\n",
    "\n",
    "ax.text(0.25, 0.07, 'PRELIMINARY', transform=ax.transAxes,\n",
    "        fontsize=40, color='red', alpha=0.5,\n",
    "        ha='center', va='center', rotation='0')\n",
    "\n",
    "plt.savefig('PLOTS/WZ_3site_vq1.pdf',bbox_inches='tight')"
   ]
  },
  {
   "cell_type": "code",
   "execution_count": null,
   "metadata": {},
   "outputs": [],
   "source": []
  }
 ],
 "metadata": {
  "kernelspec": {
   "display_name": "Python 3",
   "language": "python",
   "name": "python3"
  },
  "language_info": {
   "codemirror_mode": {
    "name": "ipython",
    "version": 3
   },
   "file_extension": ".py",
   "mimetype": "text/x-python",
   "name": "python",
   "nbconvert_exporter": "python",
   "pygments_lexer": "ipython3",
   "version": "3.9.1"
  }
 },
 "nbformat": 4,
 "nbformat_minor": 5
}
