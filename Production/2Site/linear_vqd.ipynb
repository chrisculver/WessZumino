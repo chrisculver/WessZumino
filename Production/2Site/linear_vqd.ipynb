{
 "cells": [
  {
   "cell_type": "code",
   "execution_count": 1,
   "metadata": {},
   "outputs": [],
   "source": [
    "%load_ext autoreload\n",
    "%autoreload 2\n",
    "\n",
    "import sys\n",
    "sys.path.append('../..')"
   ]
  },
  {
   "cell_type": "code",
   "execution_count": 7,
   "metadata": {},
   "outputs": [],
   "source": [
    "from src.wess_zumino_model import WessZuminoModel\n",
    "from src.matrix_to_ps import matrix_to_pse\n",
    "from src.binary_encodings import standard_encode\n",
    "from src.qiskit_utilities import pauli_dict_to_op, op_to_trotter\n",
    "\n",
    "from qiskit import Aer\n",
    "from qiskit.utils import QuantumInstance\n",
    "from qiskit.algorithms.eigensolvers import VQD\n",
    "from qiskit.algorithms.optimizers import COBYLA\n",
    "from qiskit.circuit.library import RealAmplitudes\n",
    "from qiskit import BasicAer\n",
    "from qiskit import qpy\n",
    "from qiskit import QuantumCircuit, transpile\n",
    "\n",
    "import scipy.sparse.linalg\n",
    "import sympy as sp\n",
    "import numpy as np\n",
    "\n",
    "from ipywidgets import IntProgress\n",
    "from IPython.display import display, clear_output \n",
    "\n",
    "import matplotlib.pyplot as plt\n",
    "import matplotlib.lines as mlines\n",
    "\n",
    "import json\n",
    "import math\n",
    "import os\n",
    "import time"
   ]
  },
  {
   "cell_type": "code",
   "execution_count": 3,
   "metadata": {},
   "outputs": [],
   "source": [
    "def potential(self, n):\n",
    "    # m*q with m=1\n",
    "    return -self.mass*self.qs[n]\n",
    "\n",
    "N=2\n",
    "wz=WessZuminoModel(N,1.0,potential,'dirichlet')"
   ]
  },
  {
   "cell_type": "markdown",
   "metadata": {},
   "source": [
    "## TODO \n",
    "\n",
    "* Compare in system with and without SSYM preserved"
   ]
  },
  {
   "cell_type": "code",
   "execution_count": 16,
   "metadata": {},
   "outputs": [
    {
     "name": "stdout",
     "output_type": "stream",
     "text": [
      "1.2 seconds to construct hamiltonian\n",
      "9.2 seconds to convert to Pauli string\n",
      "0.3 seconds to convert to operator\n",
      "nq = 10\n"
     ]
    }
   ],
   "source": [
    "cutoff=16\n",
    "runtime = -time.time()\n",
    "wz.construct_ham_matrix(cutoff)\n",
    "runtime += time.time()\n",
    "print(\"%0.1f seconds to construct hamiltonian\" % runtime)\n",
    "\n",
    "#e0=scipy.sparse.linalg.eigs(wz.hamMat,k=1,sigma=0.0)[0]\n",
    "\n",
    "runtime = -time.time()\n",
    "ps=matrix_to_pse(wz.hamMat, standard_encode)\n",
    "runtime += time.time()\n",
    "print(\"%0.1f seconds to convert to Pauli string\" % runtime)\n",
    "\n",
    "runtime = -time.time()\n",
    "op=pauli_dict_to_op(ps.to_dict())\n",
    "runtime += time.time()\n",
    "print(\"%0.1f seconds to convert to operator\" % runtime)\n",
    "\n",
    "nq=math.floor(math.log2(wz.hamMat.shape[0]))\n",
    "if not math.log2(wz.hamMat.shape[0]).is_integer():\n",
    "    nq+=1\n",
    "print(\"nq = %d\" % nq)"
   ]
  },
  {
   "cell_type": "code",
   "execution_count": 17,
   "metadata": {},
   "outputs": [],
   "source": [
    "from qiskit.primitives import Estimator, Sampler\n",
    "from qiskit.algorithms.state_fidelities import ComputeUncompute\n",
    "estimator = Estimator()\n",
    "sampler=Sampler()\n",
    "fidelity=ComputeUncompute(sampler)\n",
    "\n",
    "ansatz = RealAmplitudes(nq, entanglement='circular', reps=2)"
   ]
  },
  {
   "cell_type": "code",
   "execution_count": 18,
   "metadata": {},
   "outputs": [],
   "source": [
    "k=3\n",
    "maxiter=10000\n",
    "betas=[2,2,2]\n",
    "\n",
    "counts=[]\n",
    "values=[]\n",
    "steps=[]\n",
    "\n",
    "def callback(eval_count, params, value, meta, step):\n",
    "    counts.append(eval_count)\n",
    "    values.append(value)\n",
    "    steps.append(step)"
   ]
  },
  {
   "cell_type": "code",
   "execution_count": null,
   "metadata": {},
   "outputs": [],
   "source": [
    "for target in [1e-4, 1e-6, 1e-8]:\n",
    "    counts=[]\n",
    "    values=[]\n",
    "    steps=[]\n",
    "    runtime = -time.time()\n",
    "    vqd=VQD(estimator, fidelity, ansatz, optimizer=COBYLA(maxiter=maxiter, tol=target), k=k, betas=betas, callback=callback)\n",
    "    result=vqd.compute_eigenvalues(operator=op)\n",
    "    runtime += time.time()\n",
    "    print(\"Runtime: %0.1f seconds for target %e\" % (runtime, target))\n",
    "\n",
    "    counts=np.asarray(counts)\n",
    "    steps=np.asarray(steps)\n",
    "    values=np.asarray(values)\n",
    "    for i in range(1,k+1):\n",
    "        _counts=counts[np.where(steps==i)]\n",
    "        _values=values[np.where(steps==i)]\n",
    "        plt.plot(_counts,_values,label=r'$E_{{{}}}$'.format(i))\n",
    "        if _values[-1] >= maxiter - 1:\n",
    "            print(\"NOT CONVERGED\")\n",
    "        print(\"E%d=%.4g after %d iterations\" % (i, _values[-1], _counts[-1]))\n",
    "    plt.xlabel(r'Iteration')\n",
    "    plt.ylabel(r'$E$')\n",
    "    plt.yscale('log')\n",
    "    plt.legend(loc='upper right')\n",
    "    plt.show()"
   ]
  }
 ],
 "metadata": {
  "kernelspec": {
   "display_name": "Python 3 (ipykernel)",
   "language": "python",
   "name": "python3"
  },
  "language_info": {
   "codemirror_mode": {
    "name": "ipython",
    "version": 3
   },
   "file_extension": ".py",
   "mimetype": "text/x-python",
   "name": "python",
   "nbconvert_exporter": "python",
   "pygments_lexer": "ipython3",
   "version": "3.9.7"
  }
 },
 "nbformat": 4,
 "nbformat_minor": 2
}
