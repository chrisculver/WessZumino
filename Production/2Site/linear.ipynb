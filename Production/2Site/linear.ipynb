{
 "cells": [
  {
   "cell_type": "code",
   "execution_count": 1,
   "metadata": {},
   "outputs": [],
   "source": [
    "%load_ext autoreload\n",
    "%autoreload 2\n",
    "\n",
    "import sys\n",
    "sys.path.append('../..')"
   ]
  },
  {
   "cell_type": "code",
   "execution_count": 31,
   "metadata": {},
   "outputs": [],
   "source": [
    "from src.wess_zumino_model import WessZuminoModel\n",
    "from src.matrix_to_ps import matrix_to_pse\n",
    "from src.binary_encodings import standard_encode\n",
    "from src.qiskit_utilities import pauli_dict_to_op\n",
    "\n",
    "\n",
    "from qiskit import Aer\n",
    "from qiskit.utils import QuantumInstance\n",
    "from qiskit.algorithms import VQE\n",
    "from qiskit.algorithms.optimizers import COBYLA\n",
    "from qiskit.circuit.library import RealAmplitudes\n",
    "from qiskit import BasicAer\n",
    "from qiskit import qpy\n",
    "from qiskit import QuantumCircuit, transpile\n",
    "\n",
    "\n",
    "import scipy.sparse.linalg\n",
    "import sympy as sp\n",
    "import numpy as np\n",
    "\n",
    "import math"
   ]
  },
  {
   "cell_type": "code",
   "execution_count": 32,
   "metadata": {},
   "outputs": [],
   "source": [
    "def potential(self, n):\n",
    "    # m*q with m=1\n",
    "    return -self.mass*self.qs[n]"
   ]
  },
  {
   "cell_type": "code",
   "execution_count": 33,
   "metadata": {},
   "outputs": [],
   "source": [
    "wz=WessZuminoModel(2,1.0,potential,'dirichlet')"
   ]
  },
  {
   "cell_type": "code",
   "execution_count": 34,
   "metadata": {},
   "outputs": [
    {
     "name": "stdout",
     "output_type": "stream",
     "text": [
      "[0.00696601-1.1669081e-10j 0.00696601-7.0731360e-13j\n",
      " 0.00696601+9.2554658e-11j 0.00696601+2.6414609e-10j\n",
      " 1.1249988 +1.4144433e-08j 1.1249999 -1.7680571e-09j]\n",
      "0.006966012533328223\n",
      "[3.2249103e-05-2.3024865e-12j 9.7540504e-01-7.0885939e-08j\n",
      " 9.7540593e-01-6.2025309e-09j 1.1180669e+00+9.8994440e-07j\n",
      " 1.1180661e+00+1.8627521e-08j 1.2815913e+00+3.0211087e-08j]\n",
      "0.000224516906106631\n",
      "[1.0418004e-09-4.4621295e-17j 1.1386600e+00+3.7501209e-08j\n",
      " 1.1180317e+00+2.0954742e-08j 1.1180329e+00-1.6845336e-08j\n",
      " 1.1180340e+00-1.2223609e-08j 2.2360659e+00+2.7939626e-08j]\n",
      "0.15672842655487607\n"
     ]
    }
   ],
   "source": [
    "for cutoff in [2,4,8]:\n",
    "    #CLASSICAL COMPUTATION OF GROUND STATE ENERGY\n",
    "    wz.construct_ham_matrix(cutoff)\n",
    "    ens=scipy.sparse.linalg.eigs(wz.hamMat,k=6,sigma=0.0)[0]\n",
    "    print(ens)\n",
    "\n",
    "    #VQE COMPUTATION OF GROUND STATE ENERGY\n",
    "    ps=matrix_to_pse(wz.hamMat, standard_encode)\n",
    "    op=pauli_dict_to_op(ps.to_dict())\n",
    "\n",
    "\n",
    "    nq=math.floor(math.log2(wz.hamMat.shape[0]))\n",
    "    if not math.log2(wz.hamMat.shape[0]).is_integer():\n",
    "        nq+=1\n",
    "\n",
    "    ansatz = RealAmplitudes(nq, reps=cutoff)    \n",
    "    backend = BasicAer.get_backend(\"statevector_simulator\")\n",
    "    vqe = VQE(ansatz=ansatz, optimizer=COBYLA(), quantum_instance=backend)\n",
    "    results=[]\n",
    "    for i in range(10):\n",
    "        results.append(vqe.compute_minimum_eigenvalue(op).eigenvalue.real)\n",
    "    en = np.array(results).min()\n",
    "    print(en)"
   ]
  },
  {
   "cell_type": "code",
   "execution_count": 35,
   "metadata": {},
   "outputs": [
    {
     "name": "stdout",
     "output_type": "stream",
     "text": [
      "[5.3902821e-10-4.2777364e-17j 1.1225426e+00-3.0984197e-08j\n",
      " 1.1180327e+00+1.6197318e-09j 1.1180334e+00+5.6862546e-09j\n",
      " 1.1180334e+00-6.4749694e-09j 2.2360625e+00+5.3210269e-06j]\n"
     ]
    }
   ],
   "source": [
    "for cutoff in [16,32]:\n",
    "    #CLASSICAL COMPUTATION OF GROUND STATE ENERGY\n",
    "    wz.construct_ham_matrix(cutoff)\n",
    "    ens=scipy.sparse.linalg.eigs(wz.hamMat,k=6,sigma=0.0)[0]\n",
    "    print(ens)\n",
    "\n",
    "    #VQE COMPUTATION OF GROUND STATE ENERGY\n",
    "    ps=matrix_to_pse(wz.hamMat, standard_encode)\n",
    "    op=pauli_dict_to_op(ps.to_dict())\n",
    "\n",
    "\n",
    "    nq=math.floor(math.log2(wz.hamMat.shape[0]))\n",
    "    if not math.log2(wz.hamMat.shape[0]).is_integer():\n",
    "        nq+=1\n",
    "\n",
    "    ansatz = RealAmplitudes(nq, reps=cutoff)    \n",
    "    backend = BasicAer.get_backend(\"statevector_simulator\")\n",
    "    vqe = VQE(ansatz=ansatz, optimizer=COBYLA(), quantum_instance=backend)\n",
    "    results=[]\n",
    "    for i in range(10):\n",
    "        results.append(vqe.compute_minimum_eigenvalue(op).eigenvalue.real)\n",
    "    en = np.array(results).min()\n",
    "    print(en)"
   ]
  },
  {
   "cell_type": "code",
   "execution_count": null,
   "metadata": {},
   "outputs": [],
   "source": []
  }
 ],
 "metadata": {
  "kernelspec": {
   "display_name": "MachineLearning",
   "language": "python",
   "name": "python3"
  },
  "language_info": {
   "codemirror_mode": {
    "name": "ipython",
    "version": 3
   },
   "file_extension": ".py",
   "mimetype": "text/x-python",
   "name": "python",
   "nbconvert_exporter": "python",
   "pygments_lexer": "ipython3",
   "version": "3.10.8"
  },
  "orig_nbformat": 4
 },
 "nbformat": 4,
 "nbformat_minor": 2
}
