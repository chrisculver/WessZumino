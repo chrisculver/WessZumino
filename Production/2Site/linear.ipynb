{
 "cells": [
  {
   "cell_type": "code",
   "execution_count": 1,
   "metadata": {},
   "outputs": [],
   "source": [
    "%load_ext autoreload\n",
    "%autoreload 2\n",
    "\n",
    "import sys\n",
    "sys.path.append('../..')"
   ]
  },
  {
   "cell_type": "code",
   "execution_count": 2,
   "metadata": {},
   "outputs": [],
   "source": [
    "from src.wess_zumino_model import WessZuminoModel\n",
    "from src.matrix_to_ps import matrix_to_pse\n",
    "from src.binary_encodings import standard_encode\n",
    "from src.qiskit_utilities import pauli_dict_to_op, op_to_trotter\n",
    "\n",
    "\n",
    "from qiskit import Aer\n",
    "from qiskit.utils import QuantumInstance\n",
    "from qiskit.algorithms import VQE\n",
    "from qiskit.algorithms.optimizers import COBYLA\n",
    "from qiskit.circuit.library import RealAmplitudes\n",
    "from qiskit import BasicAer\n",
    "from qiskit import qpy\n",
    "from qiskit import QuantumCircuit, transpile\n",
    "\n",
    "\n",
    "import scipy.sparse.linalg\n",
    "import sympy as sp\n",
    "import numpy as np\n",
    "\n",
    "import math"
   ]
  },
  {
   "cell_type": "code",
   "execution_count": 3,
   "metadata": {},
   "outputs": [],
   "source": [
    "def potential(self, n):\n",
    "    # m*q with m=1\n",
    "    return -self.mass*self.qs[n]"
   ]
  },
  {
   "cell_type": "code",
   "execution_count": 4,
   "metadata": {},
   "outputs": [],
   "source": [
    "N=2\n",
    "wz=WessZuminoModel(N,1.0,potential,'dirichlet')"
   ]
  },
  {
   "cell_type": "code",
   "execution_count": 14,
   "metadata": {},
   "outputs": [
    {
     "name": "stdout",
     "output_type": "stream",
     "text": [
      "------ cutoff = 2 ------\n",
      "Lowest 7 energies = [0.00696601+1.5463879e-10j 1.1249996 +8.4866720e-08j\n",
      " 0.00696601+2.0597696e-10j 0.00696601+4.6277336e-11j\n",
      " 0.00696601-3.1916308e-12j 1.1249962 -1.7916197e-07j\n",
      " 1.1249999 -1.1510790e-09j]\n",
      "Min energy = 6.9660e-03\n",
      "VQE estimates of energy = [0.006966018841231636, 0.006966016218941565, 0.006966016348865053, 0.006966033930090884, 0.006968607405705438, 0.006966029223167032, 0.006966018284050631, 0.006966021146265633, 0.006966036735819449, 0.006966013020595138, 0.0069660405195382, 0.006966313961663732, 0.006966021546441144, 0.006966060338438365, 0.006966030906524284, 0.006966035884336941, 0.006966036315635966, 0.006970050330612042, 0.007092261539170582, 0.006966134681925617, 0.006966015267633279, 0.006966039699494553, 0.006966021504736537, 0.006971865297664488, 0.00698026048827818, 0.0069660353042382, 0.006995650610272078, 0.00696604923429938, 0.006966070950512332, 0.00696605361287028, 0.006966037065894996, 0.006968882211544782, 0.006966014171253284, 0.006966018450595195, 0.006966083094834411, 0.00696604319115617, 0.006966037187593603, 0.006966017543994145, 0.007019556186343002, 0.00696624372018809, 0.006966197690447113, 0.006966013305256184, 0.006966024403150523, 0.006966130832372175, 0.006966014837765756, 0.006966052601262209, 0.00696698879249021, 0.006966017853988687, 0.006966023802167588, 0.006966020997899307]\n",
      "VQE min = 6.9660e-03\n",
      "gates for one trotter step =  6\n",
      "\n",
      "------ cutoff = 4 ------\n",
      "Lowest 7 energies = [3.2249103e-05+5.8679922e-13j 9.7540206e-01-4.6455224e-07j\n",
      " 1.2815902e+00-1.6476933e-07j 9.7540557e-01+5.0949325e-09j\n",
      " 1.1180645e+00-2.4694696e-08j 1.1180679e+00+5.2839155e-10j\n",
      " 1.2815903e+00-2.4901901e-08j]\n",
      "Min energy = 3.2249e-05\n",
      "VQE estimates of energy = [0.11777231053722476, 0.000249757858204676, 0.07556754332129717, 0.11002663967825856, 0.03623625425679395, 0.009056228032636887, 0.11930114499990567, 0.002373355570329004, 0.11806681656554628, 0.002186061202158886, 0.11811685290889087, 0.11809196841924363, 0.10925888152630074, 0.11247445751282756, 0.11204595440133731, 0.003059783316798908, 0.04877443424624754, 0.03481265283725648, 0.11614861823710475, 0.11851427013431991, 0.010451689926007129, 0.06755181412489705, 0.11162753335110308, 0.00032375566193836, 0.05427496965819924, 0.08996938067446485, 0.11765030050048368, 0.10605166637092445, 0.11852411918779401, 0.11292522639697689, 0.000134466397437889, 0.0650010902359205, 0.11874796084876253, 0.001390716874561106, 0.11922498924259739, 0.0023630602786029, 0.09044512222205298, 0.11363954819743496, 0.0976402463995863, 0.11931937809994847, 0.000314926492674369, 0.11714787875299675, 0.10617979775768065, 0.015425888212265893, 0.10335888384271846, 0.11869797826807482, 0.013847967267815023, 0.000966770532765734, 0.11829278935994049, 0.11818866897850114]\n",
      "VQE min = 1.3447e-04\n",
      "gates for one trotter step =  226\n",
      "\n",
      "------ cutoff = 8 ------\n",
      "Lowest 7 energies = [1.0418006e-09+6.4641412e-17j 1.1288880e+00-1.9593005e-08j\n",
      " 1.1180307e+00-3.4882823e-09j 1.1180319e+00-5.3207585e-09j\n",
      " 1.1180327e+00-4.1892743e-09j 2.2360411e+00+1.5509194e-06j\n",
      " 2.2360659e+00-1.3969810e-08j]\n",
      "Min energy = 1.0418e-09\n",
      "VQE estimates of energy = [0.1526735236942087, 0.8341116674903948, 0.3124189004165083, 0.2299554569433736, 0.1400338136973356, 0.24329740693596236, 0.345405280470794, 0.5004048794047508, 0.6144437289610845, 0.374027502015985, 0.4789523632752914, 1.4604352257035083, 0.6563198522967033, 0.14519824641378112, 0.6872036171608121, 1.4984240780974385, 0.09920511014446179, 0.481908973161197, 0.2041366552648613, 0.19259524145554816, 0.27624582392612207, 0.263511867202484, 0.4122051873748816, 1.1829343002299966, 0.27786759499273217, 0.23647338037591734, 0.23518722105384426, 0.4427373645063912, 0.2682660802735568, 0.2831879507447026, 0.565264050469545, 0.4027930350339517, 0.3306658940821916, 0.4527068312918887, 0.24740172012442976, 0.41050408254924475, 0.395023566636975, 0.18518741891638035, 0.147016835761344, 0.41710954788718146, 0.28080999368274917, 0.4332833926955995, 0.18547302213835912, 0.19555197824500115, 0.9742518014779853, 1.141430235090246, 0.4304000417687755, 0.3805732461888548, 0.31963428717701714, 0.20883770254745748]\n",
      "VQE min = 9.9205e-02\n",
      "gates for one trotter step =  1392\n",
      "\n",
      "------ cutoff = 12 ------\n",
      "Lowest 7 energies = [5.4102661e-10+1.9561078e-17j 1.1253817e+00+1.4987288e-08j\n",
      " 1.1180323e+00+2.4148459e-09j 1.1180323e+00+1.1015644e-09j\n",
      " 2.2360625e+00+5.5005930e-08j 1.1180340e+00-2.9721049e-08j\n",
      " 2.2360654e+00+1.8626410e-07j]\n",
      "Min energy = 5.4103e-10\n",
      "VQE estimates of energy = [2.525229683973542, 2.768400330414739, 3.0777644519460674, 3.1327025207145693, 2.858487592890136, 3.0843805335307124, 3.068061263654679, 2.4625322995903804, 3.146415648642462, 2.9824643028125313, 2.844392106247565, 0.2842008030521092, 2.6690991059260085, 3.006311093672255, 2.887598585733951, 2.815109458493268, 2.9697913941493814, 0.3922705132770734, 0.6516959000495353, 2.109604765740683, 0.47111869824839125, 2.8581274681157565, 3.1387974610414378, 3.007656495441693, 2.879780502754877, 2.450557956942113, 2.9679518859044722, 2.9160389572344982, 3.061183827375956, 3.099207607822165, 0.8545947488887353, 3.335256455896465, 2.8915151081079773, 2.8250259008110463, 3.214621822586852, 2.890628995233859, 0.2962556058501582, 3.124365049491382, 2.684222264879212, 2.7489459462646657, 3.039180089876303, 3.2363011068261383, 2.819532699196212, 3.061119221472054, 2.6741334597832727, 0.7947150933746091, 2.534816957981655, 2.4968124559313387, 2.9523439262164644, 2.832594589039908]\n",
      "VQE min = 2.8420e-01\n",
      "gates for one trotter step =  29596\n",
      "\n",
      "------ cutoff = 16 ------\n",
      "Lowest 7 energies = [5.3902827e-10-4.8313717e-17j 1.1221622e+00+1.2893059e-08j\n",
      " 1.1180326e+00+1.2458528e-08j 1.1180328e+00+2.5715554e-09j\n",
      " 1.1180331e+00+8.0105016e-09j 2.2360618e+00-1.2496218e-05j\n",
      " 2.2360661e+00-5.2153985e-07j]\n",
      "Min energy = 5.3903e-10\n"
     ]
    }
   ],
   "source": [
    "for cutoff in [2,4,8,12,16,24,32]:\n",
    "    print(\"------ cutoff = {} ------\".format(cutoff))\n",
    "    #CLASSICAL COMPUTATION OF GROUND STATE ENERGY\n",
    "    wz.construct_ham_matrix(cutoff)\n",
    "    ens=scipy.sparse.linalg.eigs(wz.hamMat,k=7,sigma=0.0)[0]\n",
    "    print(\"Lowest 7 energies = {}\".format(ens))\n",
    "    print(\"Min energy = {:.4e}\".format(np.array([x.real for x in ens]).min()))\n",
    "\n",
    "    #VQE COMPUTATION OF GROUND STATE ENERGY\n",
    "    ps=matrix_to_pse(wz.hamMat, standard_encode)\n",
    "    op=pauli_dict_to_op(ps.to_dict())\n",
    "\n",
    "\n",
    "    nq=math.floor(math.log2(wz.hamMat.shape[0]))\n",
    "    if not math.log2(wz.hamMat.shape[0]).is_integer():\n",
    "        nq+=1\n",
    "\n",
    "    ansatz = RealAmplitudes(nq, reps=cutoff)    \n",
    "    backend = BasicAer.get_backend(\"statevector_simulator\")\n",
    "    vqe = VQE(ansatz=ansatz, optimizer=COBYLA(), quantum_instance=backend)\n",
    "    results=[]\n",
    "    for i in range(50):\n",
    "        results.append(vqe.compute_minimum_eigenvalue(op).eigenvalue.real)\n",
    "    en = np.array(results).min()\n",
    "    print(\"VQE estimates of energy = {}\".format(results))\n",
    "    print(\"VQE min = {:.4e}\".format(en))\n",
    "\n",
    "    qc = QuantumCircuit(nq,nq)\n",
    "    qc.append(op_to_trotter(op,0.1), [i for i in range(nq)])\n",
    "    tmp = transpile(qc, basis_gates = ['cx', 'u1', 'u2', 'u3', 'H', 'X', 'Y', 'Z'])\n",
    "    print(\"gates for one trotter step = \", tmp.count_ops().get('cx'))\n",
    "    print()"
   ]
  },
  {
   "cell_type": "code",
   "execution_count": 26,
   "metadata": {},
   "outputs": [
    {
     "name": "stdout",
     "output_type": "stream",
     "text": [
      "10\n"
     ]
    }
   ],
   "source": [
    "cutoff=16\n",
    "wz.construct_ham_matrix(cutoff)\n",
    "ens=scipy.sparse.linalg.eigs(wz.hamMat,k=7,sigma=0.0)[0]\n",
    "ps=matrix_to_pse(wz.hamMat, standard_encode)\n",
    "op=pauli_dict_to_op(ps.to_dict())\n",
    "\n",
    "nq=math.floor(math.log2(wz.hamMat.shape[0]))\n",
    "print(nq)\n",
    "if not math.log2(wz.hamMat.shape[0]).is_integer():\n",
    "    nq+=1"
   ]
  },
  {
   "cell_type": "code",
   "execution_count": null,
   "metadata": {},
   "outputs": [],
   "source": []
  },
  {
   "cell_type": "markdown",
   "metadata": {},
   "source": [
    "## TODO\n",
    "\n",
    "* Plot classical psi(x,lambda), is it gaussian around x=0, lambda=0?"
   ]
  },
  {
   "cell_type": "markdown",
   "metadata": {},
   "source": [
    "B_0 x F_0 x B_1 x F_1  # F and B are matrices\n",
    "\n",
    "(b^0_0 b^1_0 b^2_0) x (f^0_0 f^1_0) ? (b^0_1 b^1_1 b^2_1) x (f^0_1 f^1_1)\n",
    "\n",
    "(b^0_0f^0_0 b^0_0f^1_0 b^1_0f^0_0 b^1_0f^1_0 b^2_0f^0_0 b^2_0f^1_0) ? (b^0_1f^0_1 b^0_1f^1_1 b^1_1f^0_1 b^1_1f^1_1 b^2_1f^0_1 b^2_1f^1_1)\n"
   ]
  },
  {
   "cell_type": "code",
   "execution_count": 59,
   "metadata": {},
   "outputs": [],
   "source": [
    "import matplotlib.pyplot as plt\n",
    "cutoff=16\n",
    "wz.construct_ham_matrix(cutoff)\n",
    "eigSys=scipy.sparse.linalg.eigs(wz.hamMat,k=1,sigma=0.0)\n",
    "\n",
    "def idx(x,l,f):\n",
    "    return x*(2**N)*cutoff + l*(2**N) + f"
   ]
  },
  {
   "cell_type": "code",
   "execution_count": 64,
   "metadata": {},
   "outputs": [
    {
     "data": {
      "text/plain": [
       "1024"
      ]
     },
     "execution_count": 64,
     "metadata": {},
     "output_type": "execute_result"
    }
   ],
   "source": []
  },
  {
   "cell_type": "code",
   "execution_count": 61,
   "metadata": {},
   "outputs": [
    {
     "data": {
      "text/plain": [
       "[<matplotlib.lines.Line2D at 0x7f480b2234f0>]"
      ]
     },
     "execution_count": 61,
     "metadata": {},
     "output_type": "execute_result"
    },
    {
     "data": {
      "image/png": "[encoded data removed]",
      "text/plain": [
       "<Figure size 640x480 with 1 Axes>"
      ]
     },
     "metadata": {},
     "output_type": "display_data"
    }
   ],
   "source": [
    "PSI = lambda s,l,f : eigSys[1][idx(s,l,f),0]\n",
    "\n",
    "plt.plot([l for l in range(cutoff**N)], [PSI(0,l,0).real**2 + PSI(0,l,0).imag**2 for l in range(cutoff**N)])\n",
    "plt.plot([l for l in range(cutoff**N)], [PSI(0,l,1).real**2 + PSI(0,l,1).imag**2 for l in range(cutoff**N)])"
   ]
  },
  {
   "cell_type": "code",
   "execution_count": 62,
   "metadata": {},
   "outputs": [
    {
     "ename": "IndexError",
     "evalue": "index 1024 is out of bounds for axis 0 with size 1024",
     "output_type": "error",
     "traceback": [
      "\u001b[0;31m---------------------------------------------------------------------------\u001b[0m",
      "\u001b[0;31mIndexError\u001b[0m                                Traceback (most recent call last)",
      "Cell \u001b[0;32mIn[62], line 1\u001b[0m\n\u001b[0;32m----> 1\u001b[0m plt\u001b[39m.\u001b[39mplot([l \u001b[39mfor\u001b[39;00m l \u001b[39min\u001b[39;00m \u001b[39mrange\u001b[39m(cutoff\u001b[39m*\u001b[39m\u001b[39m*\u001b[39mN)], [PSI(\u001b[39m1\u001b[39m,l,\u001b[39m0\u001b[39m)\u001b[39m.\u001b[39mreal\u001b[39m*\u001b[39m\u001b[39m*\u001b[39m\u001b[39m2\u001b[39m \u001b[39m+\u001b[39m PSI(\u001b[39m1\u001b[39m,l,\u001b[39m0\u001b[39m)\u001b[39m.\u001b[39mimag\u001b[39m*\u001b[39m\u001b[39m*\u001b[39m\u001b[39m2\u001b[39m \u001b[39mfor\u001b[39;00m l \u001b[39min\u001b[39;00m \u001b[39mrange\u001b[39m(cutoff\u001b[39m*\u001b[39m\u001b[39m*\u001b[39mN)])\n\u001b[1;32m      2\u001b[0m plt\u001b[39m.\u001b[39mplot([l \u001b[39mfor\u001b[39;00m l \u001b[39min\u001b[39;00m \u001b[39mrange\u001b[39m(cutoff\u001b[39m*\u001b[39m\u001b[39m*\u001b[39mN)], [PSI(\u001b[39m1\u001b[39m,l,\u001b[39m1\u001b[39m)\u001b[39m.\u001b[39mreal\u001b[39m*\u001b[39m\u001b[39m*\u001b[39m\u001b[39m2\u001b[39m \u001b[39m+\u001b[39m PSI(\u001b[39m1\u001b[39m,l,\u001b[39m1\u001b[39m)\u001b[39m.\u001b[39mimag\u001b[39m*\u001b[39m\u001b[39m*\u001b[39m\u001b[39m2\u001b[39m \u001b[39mfor\u001b[39;00m l \u001b[39min\u001b[39;00m \u001b[39mrange\u001b[39m(cutoff\u001b[39m*\u001b[39m\u001b[39m*\u001b[39mN)])\n",
      "Cell \u001b[0;32mIn[62], line 1\u001b[0m, in \u001b[0;36m<listcomp>\u001b[0;34m(.0)\u001b[0m\n\u001b[0;32m----> 1\u001b[0m plt\u001b[39m.\u001b[39mplot([l \u001b[39mfor\u001b[39;00m l \u001b[39min\u001b[39;00m \u001b[39mrange\u001b[39m(cutoff\u001b[39m*\u001b[39m\u001b[39m*\u001b[39mN)], [PSI(\u001b[39m1\u001b[39;49m,l,\u001b[39m0\u001b[39;49m)\u001b[39m.\u001b[39mreal\u001b[39m*\u001b[39m\u001b[39m*\u001b[39m\u001b[39m2\u001b[39m \u001b[39m+\u001b[39m PSI(\u001b[39m1\u001b[39m,l,\u001b[39m0\u001b[39m)\u001b[39m.\u001b[39mimag\u001b[39m*\u001b[39m\u001b[39m*\u001b[39m\u001b[39m2\u001b[39m \u001b[39mfor\u001b[39;00m l \u001b[39min\u001b[39;00m \u001b[39mrange\u001b[39m(cutoff\u001b[39m*\u001b[39m\u001b[39m*\u001b[39mN)])\n\u001b[1;32m      2\u001b[0m plt\u001b[39m.\u001b[39mplot([l \u001b[39mfor\u001b[39;00m l \u001b[39min\u001b[39;00m \u001b[39mrange\u001b[39m(cutoff\u001b[39m*\u001b[39m\u001b[39m*\u001b[39mN)], [PSI(\u001b[39m1\u001b[39m,l,\u001b[39m1\u001b[39m)\u001b[39m.\u001b[39mreal\u001b[39m*\u001b[39m\u001b[39m*\u001b[39m\u001b[39m2\u001b[39m \u001b[39m+\u001b[39m PSI(\u001b[39m1\u001b[39m,l,\u001b[39m1\u001b[39m)\u001b[39m.\u001b[39mimag\u001b[39m*\u001b[39m\u001b[39m*\u001b[39m\u001b[39m2\u001b[39m \u001b[39mfor\u001b[39;00m l \u001b[39min\u001b[39;00m \u001b[39mrange\u001b[39m(cutoff\u001b[39m*\u001b[39m\u001b[39m*\u001b[39mN)])\n",
      "Cell \u001b[0;32mIn[61], line 1\u001b[0m, in \u001b[0;36m<lambda>\u001b[0;34m(s, l, f)\u001b[0m\n\u001b[0;32m----> 1\u001b[0m PSI \u001b[39m=\u001b[39m \u001b[39mlambda\u001b[39;00m s,l,f : eigSys[\u001b[39m1\u001b[39;49m][idx(s,l,f),\u001b[39m0\u001b[39;49m]\n\u001b[1;32m      3\u001b[0m plt\u001b[39m.\u001b[39mplot([l \u001b[39mfor\u001b[39;00m l \u001b[39min\u001b[39;00m \u001b[39mrange\u001b[39m(cutoff\u001b[39m*\u001b[39m\u001b[39m*\u001b[39mN)], [PSI(\u001b[39m0\u001b[39m,l,\u001b[39m0\u001b[39m)\u001b[39m.\u001b[39mreal\u001b[39m*\u001b[39m\u001b[39m*\u001b[39m\u001b[39m2\u001b[39m \u001b[39m+\u001b[39m PSI(\u001b[39m0\u001b[39m,l,\u001b[39m0\u001b[39m)\u001b[39m.\u001b[39mimag\u001b[39m*\u001b[39m\u001b[39m*\u001b[39m\u001b[39m2\u001b[39m \u001b[39mfor\u001b[39;00m l \u001b[39min\u001b[39;00m \u001b[39mrange\u001b[39m(cutoff\u001b[39m*\u001b[39m\u001b[39m*\u001b[39mN)])\n\u001b[1;32m      4\u001b[0m plt\u001b[39m.\u001b[39mplot([l \u001b[39mfor\u001b[39;00m l \u001b[39min\u001b[39;00m \u001b[39mrange\u001b[39m(cutoff\u001b[39m*\u001b[39m\u001b[39m*\u001b[39mN)], [PSI(\u001b[39m0\u001b[39m,l,\u001b[39m1\u001b[39m)\u001b[39m.\u001b[39mreal\u001b[39m*\u001b[39m\u001b[39m*\u001b[39m\u001b[39m2\u001b[39m \u001b[39m+\u001b[39m PSI(\u001b[39m0\u001b[39m,l,\u001b[39m1\u001b[39m)\u001b[39m.\u001b[39mimag\u001b[39m*\u001b[39m\u001b[39m*\u001b[39m\u001b[39m2\u001b[39m \u001b[39mfor\u001b[39;00m l \u001b[39min\u001b[39;00m \u001b[39mrange\u001b[39m(cutoff\u001b[39m*\u001b[39m\u001b[39m*\u001b[39mN)])\n",
      "\u001b[0;31mIndexError\u001b[0m: index 1024 is out of bounds for axis 0 with size 1024"
     ]
    }
   ],
   "source": [
    "plt.plot([l for l in range(cutoff**N)], [PSI(1,l,0).real**2 + PSI(1,l,0).imag**2 for l in range(cutoff**N)])\n",
    "plt.plot([l for l in range(cutoff**N)], [PSI(1,l,1).real**2 + PSI(1,l,1).imag**2 for l in range(cutoff**N)])"
   ]
  },
  {
   "cell_type": "code",
   "execution_count": null,
   "metadata": {},
   "outputs": [],
   "source": []
  }
 ],
 "metadata": {
  "kernelspec": {
   "display_name": "Python 3 (ipykernel)",
   "language": "python",
   "name": "python3"
  },
  "language_info": {
   "codemirror_mode": {
    "name": "ipython",
    "version": 3
   },
   "file_extension": ".py",
   "mimetype": "text/x-python",
   "name": "python",
   "nbconvert_exporter": "python",
   "pygments_lexer": "ipython3",
   "version": "3.9.7"
  }
 },
 "nbformat": 4,
 "nbformat_minor": 2
}
