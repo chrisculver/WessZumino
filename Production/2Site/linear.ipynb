{
 "cells": [
  {
   "cell_type": "code",
   "execution_count": 1,
   "metadata": {},
   "outputs": [],
   "source": [
    "%load_ext autoreload\n",
    "%autoreload 2\n",
    "\n",
    "import sys\n",
    "sys.path.append('../..')"
   ]
  },
  {
   "cell_type": "code",
   "execution_count": 31,
   "metadata": {},
   "outputs": [],
   "source": [
    "from src.wess_zumino_model import WessZuminoModel\n",
    "from src.matrix_to_ps import matrix_to_pse\n",
    "from src.binary_encodings import standard_encode\n",
    "from src.qiskit_utilities import pauli_dict_to_op\n",
    "\n",
    "\n",
    "from qiskit import Aer\n",
    "from qiskit.utils import QuantumInstance\n",
    "from qiskit.algorithms import VQE\n",
    "from qiskit.algorithms.optimizers import COBYLA\n",
    "from qiskit.circuit.library import RealAmplitudes\n",
    "from qiskit import BasicAer\n",
    "from qiskit import qpy\n",
    "from qiskit import QuantumCircuit, transpile\n",
    "\n",
    "\n",
    "import scipy.sparse.linalg\n",
    "import sympy as sp\n",
    "import numpy as np\n",
    "\n",
    "import math"
   ]
  },
  {
   "cell_type": "code",
   "execution_count": 32,
   "metadata": {},
   "outputs": [],
   "source": [
    "def potential(self, n):\n",
    "    # m*q with m=1\n",
    "    return -self.mass*self.qs[n]"
   ]
  },
  {
   "cell_type": "code",
   "execution_count": 33,
   "metadata": {},
   "outputs": [],
   "source": [
    "wz=WessZuminoModel(2,1.0,potential,'dirichlet')"
   ]
  },
  {
   "cell_type": "code",
   "execution_count": 34,
   "metadata": {},
   "outputs": [
    {
     "name": "stdout",
     "output_type": "stream",
     "text": [
      "[0.00696601-1.1669081e-10j 0.00696601-7.0731360e-13j\n",
      " 0.00696601+9.2554658e-11j 0.00696601+2.6414609e-10j\n",
      " 1.1249988 +1.4144433e-08j 1.1249999 -1.7680571e-09j]\n",
      "0.006966012533328223\n",
      "[3.2249103e-05-2.3024865e-12j 9.7540504e-01-7.0885939e-08j\n",
      " 9.7540593e-01-6.2025309e-09j 1.1180669e+00+9.8994440e-07j\n",
      " 1.1180661e+00+1.8627521e-08j 1.2815913e+00+3.0211087e-08j]\n",
      "0.000224516906106631\n",
      "[1.0418004e-09-4.4621295e-17j 1.1386600e+00+3.7501209e-08j\n",
      " 1.1180317e+00+2.0954742e-08j 1.1180329e+00-1.6845336e-08j\n",
      " 1.1180340e+00-1.2223609e-08j 2.2360659e+00+2.7939626e-08j]\n",
      "0.15672842655487607\n"
     ]
    }
   ],
   "source": [
    "for cutoff in [2,4,8]:\n",
    "    #CLASSICAL COMPUTATION OF GROUND STATE ENERGY\n",
    "    wz.construct_ham_matrix(cutoff)\n",
    "    ens=scipy.sparse.linalg.eigs(wz.hamMat,k=6,sigma=0.0)[0]\n",
    "    print(ens)\n",
    "\n",
    "    #VQE COMPUTATION OF GROUND STATE ENERGY\n",
    "    ps=matrix_to_pse(wz.hamMat, standard_encode)\n",
    "    op=pauli_dict_to_op(ps.to_dict())\n",
    "\n",
    "\n",
    "    nq=math.floor(math.log2(wz.hamMat.shape[0]))\n",
    "    if not math.log2(wz.hamMat.shape[0]).is_integer():\n",
    "        nq+=1\n",
    "\n",
    "    ansatz = RealAmplitudes(nq, reps=cutoff)    \n",
    "    backend = BasicAer.get_backend(\"statevector_simulator\")\n",
    "    vqe = VQE(ansatz=ansatz, optimizer=COBYLA(), quantum_instance=backend)\n",
    "    results=[]\n",
    "    for i in range(10):\n",
    "        results.append(vqe.compute_minimum_eigenvalue(op).eigenvalue.real)\n",
    "    en = np.array(results).min()\n",
    "    print(en)"
   ]
  },
  {
   "cell_type": "code",
   "execution_count": 35,
   "metadata": {},
   "outputs": [
    {
     "name": "stdout",
     "output_type": "stream",
     "text": [
      "[5.3902821e-10-4.2777364e-17j 1.1225426e+00-3.0984197e-08j\n",
      " 1.1180327e+00+1.6197318e-09j 1.1180334e+00+5.6862546e-09j\n",
      " 1.1180334e+00-6.4749694e-09j 2.2360625e+00+5.3210269e-06j]\n"
     ]
    },
    {
     "name": "stderr",
     "output_type": "stream",
     "text": [
      "capi_return is NULL\n",
      "Call-back cb_calcfc_in__cobyla__user__routines failed.\n"
     ]
    },
    {
     "ename": "KeyboardInterrupt",
     "evalue": "",
     "output_type": "error",
     "traceback": [
      "\u001b[0;31m---------------------------------------------------------------------------\u001b[0m",
      "\u001b[0;31mKeyboardInterrupt\u001b[0m                         Traceback (most recent call last)",
      "Cell \u001b[0;32mIn[35], line 21\u001b[0m\n\u001b[1;32m     19\u001b[0m results\u001b[39m=\u001b[39m[]\n\u001b[1;32m     20\u001b[0m \u001b[39mfor\u001b[39;00m i \u001b[39min\u001b[39;00m \u001b[39mrange\u001b[39m(\u001b[39m10\u001b[39m):\n\u001b[0;32m---> 21\u001b[0m     results\u001b[39m.\u001b[39mappend(vqe\u001b[39m.\u001b[39;49mcompute_minimum_eigenvalue(op)\u001b[39m.\u001b[39meigenvalue\u001b[39m.\u001b[39mreal)\n\u001b[1;32m     22\u001b[0m en \u001b[39m=\u001b[39m np\u001b[39m.\u001b[39marray(results)\u001b[39m.\u001b[39mmin()\n\u001b[1;32m     23\u001b[0m \u001b[39mprint\u001b[39m(en)\n",
      "File \u001b[0;32m~/anaconda3/envs/QuantumComputing/lib/python3.10/site-packages/qiskit/algorithms/minimum_eigen_solvers/vqe.py:546\u001b[0m, in \u001b[0;36mVQE.compute_minimum_eigenvalue\u001b[0;34m(self, operator, aux_operators)\u001b[0m\n\u001b[1;32m    542\u001b[0m     opt_result \u001b[39m=\u001b[39m \u001b[39mself\u001b[39m\u001b[39m.\u001b[39moptimizer(  \u001b[39m# pylint: disable=not-callable\u001b[39;00m\n\u001b[1;32m    543\u001b[0m         fun\u001b[39m=\u001b[39menergy_evaluation, x0\u001b[39m=\u001b[39minitial_point, jac\u001b[39m=\u001b[39mgradient, bounds\u001b[39m=\u001b[39mbounds\n\u001b[1;32m    544\u001b[0m     )\n\u001b[1;32m    545\u001b[0m \u001b[39melse\u001b[39;00m:\n\u001b[0;32m--> 546\u001b[0m     opt_result \u001b[39m=\u001b[39m \u001b[39mself\u001b[39;49m\u001b[39m.\u001b[39;49moptimizer\u001b[39m.\u001b[39;49mminimize(\n\u001b[1;32m    547\u001b[0m         fun\u001b[39m=\u001b[39;49menergy_evaluation, x0\u001b[39m=\u001b[39;49minitial_point, jac\u001b[39m=\u001b[39;49mgradient, bounds\u001b[39m=\u001b[39;49mbounds\n\u001b[1;32m    548\u001b[0m     )\n\u001b[1;32m    550\u001b[0m eval_time \u001b[39m=\u001b[39m time() \u001b[39m-\u001b[39m start_time\n\u001b[1;32m    552\u001b[0m result \u001b[39m=\u001b[39m VQEResult()\n",
      "File \u001b[0;32m~/anaconda3/envs/QuantumComputing/lib/python3.10/site-packages/qiskit/algorithms/optimizers/scipy_optimizer.py:148\u001b[0m, in \u001b[0;36mSciPyOptimizer.minimize\u001b[0;34m(self, fun, x0, jac, bounds)\u001b[0m\n\u001b[1;32m    145\u001b[0m     swapped_deprecated_args \u001b[39m=\u001b[39m \u001b[39mTrue\u001b[39;00m\n\u001b[1;32m    146\u001b[0m     \u001b[39mself\u001b[39m\u001b[39m.\u001b[39m_options[\u001b[39m\"\u001b[39m\u001b[39mmaxfun\u001b[39m\u001b[39m\"\u001b[39m] \u001b[39m=\u001b[39m \u001b[39mself\u001b[39m\u001b[39m.\u001b[39m_options\u001b[39m.\u001b[39mpop(\u001b[39m\"\u001b[39m\u001b[39mmaxiter\u001b[39m\u001b[39m\"\u001b[39m)\n\u001b[0;32m--> 148\u001b[0m raw_result \u001b[39m=\u001b[39m minimize(\n\u001b[1;32m    149\u001b[0m     fun\u001b[39m=\u001b[39;49mfun,\n\u001b[1;32m    150\u001b[0m     x0\u001b[39m=\u001b[39;49mx0,\n\u001b[1;32m    151\u001b[0m     method\u001b[39m=\u001b[39;49m\u001b[39mself\u001b[39;49m\u001b[39m.\u001b[39;49m_method,\n\u001b[1;32m    152\u001b[0m     jac\u001b[39m=\u001b[39;49mjac,\n\u001b[1;32m    153\u001b[0m     bounds\u001b[39m=\u001b[39;49mbounds,\n\u001b[1;32m    154\u001b[0m     options\u001b[39m=\u001b[39;49m\u001b[39mself\u001b[39;49m\u001b[39m.\u001b[39;49m_options,\n\u001b[1;32m    155\u001b[0m     \u001b[39m*\u001b[39;49m\u001b[39m*\u001b[39;49m\u001b[39mself\u001b[39;49m\u001b[39m.\u001b[39;49m_kwargs,\n\u001b[1;32m    156\u001b[0m )\n\u001b[1;32m    157\u001b[0m \u001b[39mif\u001b[39;00m swapped_deprecated_args:\n\u001b[1;32m    158\u001b[0m     \u001b[39mself\u001b[39m\u001b[39m.\u001b[39m_options[\u001b[39m\"\u001b[39m\u001b[39mmaxiter\u001b[39m\u001b[39m\"\u001b[39m] \u001b[39m=\u001b[39m \u001b[39mself\u001b[39m\u001b[39m.\u001b[39m_options\u001b[39m.\u001b[39mpop(\u001b[39m\"\u001b[39m\u001b[39mmaxfun\u001b[39m\u001b[39m\"\u001b[39m)\n",
      "File \u001b[0;32m~/anaconda3/envs/QuantumComputing/lib/python3.10/site-packages/scipy/optimize/_minimize.py:705\u001b[0m, in \u001b[0;36mminimize\u001b[0;34m(fun, x0, args, method, jac, hess, hessp, bounds, constraints, tol, callback, options)\u001b[0m\n\u001b[1;32m    702\u001b[0m     res \u001b[39m=\u001b[39m _minimize_tnc(fun, x0, args, jac, bounds, callback\u001b[39m=\u001b[39mcallback,\n\u001b[1;32m    703\u001b[0m                         \u001b[39m*\u001b[39m\u001b[39m*\u001b[39moptions)\n\u001b[1;32m    704\u001b[0m \u001b[39melif\u001b[39;00m meth \u001b[39m==\u001b[39m \u001b[39m'\u001b[39m\u001b[39mcobyla\u001b[39m\u001b[39m'\u001b[39m:\n\u001b[0;32m--> 705\u001b[0m     res \u001b[39m=\u001b[39m _minimize_cobyla(fun, x0, args, constraints, callback\u001b[39m=\u001b[39;49mcallback,\n\u001b[1;32m    706\u001b[0m                             \u001b[39m*\u001b[39;49m\u001b[39m*\u001b[39;49moptions)\n\u001b[1;32m    707\u001b[0m \u001b[39melif\u001b[39;00m meth \u001b[39m==\u001b[39m \u001b[39m'\u001b[39m\u001b[39mslsqp\u001b[39m\u001b[39m'\u001b[39m:\n\u001b[1;32m    708\u001b[0m     res \u001b[39m=\u001b[39m _minimize_slsqp(fun, x0, args, jac, bounds,\n\u001b[1;32m    709\u001b[0m                           constraints, callback\u001b[39m=\u001b[39mcallback, \u001b[39m*\u001b[39m\u001b[39m*\u001b[39moptions)\n",
      "File \u001b[0;32m~/anaconda3/envs/QuantumComputing/lib/python3.10/site-packages/scipy/optimize/_cobyla_py.py:34\u001b[0m, in \u001b[0;36msynchronized.<locals>.wrapper\u001b[0;34m(*args, **kwargs)\u001b[0m\n\u001b[1;32m     31\u001b[0m \u001b[39m@functools\u001b[39m\u001b[39m.\u001b[39mwraps(func)\n\u001b[1;32m     32\u001b[0m \u001b[39mdef\u001b[39;00m \u001b[39mwrapper\u001b[39m(\u001b[39m*\u001b[39margs, \u001b[39m*\u001b[39m\u001b[39m*\u001b[39mkwargs):\n\u001b[1;32m     33\u001b[0m     \u001b[39mwith\u001b[39;00m _module_lock:\n\u001b[0;32m---> 34\u001b[0m         \u001b[39mreturn\u001b[39;00m func(\u001b[39m*\u001b[39;49margs, \u001b[39m*\u001b[39;49m\u001b[39m*\u001b[39;49mkwargs)\n",
      "File \u001b[0;32m~/anaconda3/envs/QuantumComputing/lib/python3.10/site-packages/scipy/optimize/_cobyla_py.py:273\u001b[0m, in \u001b[0;36m_minimize_cobyla\u001b[0;34m(fun, x0, args, constraints, rhobeg, tol, maxiter, disp, catol, callback, **unknown_options)\u001b[0m\n\u001b[1;32m    270\u001b[0m         callback(np\u001b[39m.\u001b[39mcopy(x))\n\u001b[1;32m    272\u001b[0m info \u001b[39m=\u001b[39m np\u001b[39m.\u001b[39mzeros(\u001b[39m4\u001b[39m, np\u001b[39m.\u001b[39mfloat64)\n\u001b[0;32m--> 273\u001b[0m xopt, info \u001b[39m=\u001b[39m cobyla\u001b[39m.\u001b[39;49mminimize(calcfc, m\u001b[39m=\u001b[39;49mm, x\u001b[39m=\u001b[39;49mnp\u001b[39m.\u001b[39;49mcopy(x0), rhobeg\u001b[39m=\u001b[39;49mrhobeg,\n\u001b[1;32m    274\u001b[0m                               rhoend\u001b[39m=\u001b[39;49mrhoend, iprint\u001b[39m=\u001b[39;49miprint, maxfun\u001b[39m=\u001b[39;49mmaxfun,\n\u001b[1;32m    275\u001b[0m                               dinfo\u001b[39m=\u001b[39;49minfo, callback\u001b[39m=\u001b[39;49mwrapped_callback)\n\u001b[1;32m    277\u001b[0m \u001b[39mif\u001b[39;00m info[\u001b[39m3\u001b[39m] \u001b[39m>\u001b[39m catol:\n\u001b[1;32m    278\u001b[0m     \u001b[39m# Check constraint violation\u001b[39;00m\n\u001b[1;32m    279\u001b[0m     info[\u001b[39m0\u001b[39m] \u001b[39m=\u001b[39m \u001b[39m4\u001b[39m\n",
      "File \u001b[0;32m~/anaconda3/envs/QuantumComputing/lib/python3.10/site-packages/scipy/optimize/_cobyla_py.py:261\u001b[0m, in \u001b[0;36m_minimize_cobyla.<locals>.calcfc\u001b[0;34m(x, con)\u001b[0m\n\u001b[1;32m    260\u001b[0m \u001b[39mdef\u001b[39;00m \u001b[39mcalcfc\u001b[39m(x, con):\n\u001b[0;32m--> 261\u001b[0m     f \u001b[39m=\u001b[39m fun(np\u001b[39m.\u001b[39;49mcopy(x), \u001b[39m*\u001b[39;49margs)\n\u001b[1;32m    262\u001b[0m     i \u001b[39m=\u001b[39m \u001b[39m0\u001b[39m\n\u001b[1;32m    263\u001b[0m     \u001b[39mfor\u001b[39;00m size, c \u001b[39min\u001b[39;00m izip(cons_lengths, constraints):\n",
      "File \u001b[0;32m~/anaconda3/envs/QuantumComputing/lib/python3.10/site-packages/qiskit/algorithms/minimum_eigen_solvers/vqe.py:620\u001b[0m, in \u001b[0;36mVQE.get_energy_evaluation.<locals>.energy_evaluation\u001b[0;34m(parameters)\u001b[0m\n\u001b[1;32m    617\u001b[0m param_bindings \u001b[39m=\u001b[39m \u001b[39mdict\u001b[39m(\u001b[39mzip\u001b[39m(ansatz_params, parameter_sets\u001b[39m.\u001b[39mtranspose()\u001b[39m.\u001b[39mtolist()))\n\u001b[1;32m    619\u001b[0m start_time \u001b[39m=\u001b[39m time()\n\u001b[0;32m--> 620\u001b[0m sampled_expect_op \u001b[39m=\u001b[39m \u001b[39mself\u001b[39;49m\u001b[39m.\u001b[39;49m_circuit_sampler\u001b[39m.\u001b[39;49mconvert(expect_op, params\u001b[39m=\u001b[39;49mparam_bindings)\n\u001b[1;32m    621\u001b[0m means \u001b[39m=\u001b[39m np\u001b[39m.\u001b[39mreal(sampled_expect_op\u001b[39m.\u001b[39meval())\n\u001b[1;32m    623\u001b[0m \u001b[39mif\u001b[39;00m \u001b[39mself\u001b[39m\u001b[39m.\u001b[39m_callback \u001b[39mis\u001b[39;00m \u001b[39mnot\u001b[39;00m \u001b[39mNone\u001b[39;00m:\n",
      "File \u001b[0;32m~/anaconda3/envs/QuantumComputing/lib/python3.10/site-packages/qiskit/opflow/converters/circuit_sampler.py:216\u001b[0m, in \u001b[0;36mCircuitSampler.convert\u001b[0;34m(self, operator, params)\u001b[0m\n\u001b[1;32m    214\u001b[0m circs \u001b[39m=\u001b[39m \u001b[39mlist\u001b[39m(\u001b[39mself\u001b[39m\u001b[39m.\u001b[39m_circuit_ops_cache\u001b[39m.\u001b[39mvalues()) \u001b[39mif\u001b[39;00m \u001b[39mnot\u001b[39;00m \u001b[39mself\u001b[39m\u001b[39m.\u001b[39m_transpiled_circ_cache \u001b[39melse\u001b[39;00m \u001b[39mNone\u001b[39;00m\n\u001b[1;32m    215\u001b[0m p_b \u001b[39m=\u001b[39m cast(List[Dict[Parameter, \u001b[39mfloat\u001b[39m]], param_bindings)\n\u001b[0;32m--> 216\u001b[0m sampled_statefn_dicts \u001b[39m=\u001b[39m \u001b[39mself\u001b[39;49m\u001b[39m.\u001b[39;49msample_circuits(circuit_sfns\u001b[39m=\u001b[39;49mcircs, param_bindings\u001b[39m=\u001b[39;49mp_b)\n\u001b[1;32m    218\u001b[0m \u001b[39mdef\u001b[39;00m \u001b[39mreplace_circuits_with_dicts\u001b[39m(operator, param_index\u001b[39m=\u001b[39m\u001b[39m0\u001b[39m):\n\u001b[1;32m    219\u001b[0m     \u001b[39mif\u001b[39;00m \u001b[39misinstance\u001b[39m(operator, CircuitStateFn):\n",
      "File \u001b[0;32m~/anaconda3/envs/QuantumComputing/lib/python3.10/site-packages/qiskit/opflow/converters/circuit_sampler.py:335\u001b[0m, in \u001b[0;36mCircuitSampler.sample_circuits\u001b[0;34m(self, circuit_sfns, param_bindings)\u001b[0m\n\u001b[1;32m    330\u001b[0m \u001b[39mif\u001b[39;00m \u001b[39mself\u001b[39m\u001b[39m.\u001b[39m_transpile_before_bind \u001b[39mand\u001b[39;00m \u001b[39mself\u001b[39m\u001b[39m.\u001b[39mquantum_instance\u001b[39m.\u001b[39mbound_pass_manager \u001b[39mis\u001b[39;00m \u001b[39mnot\u001b[39;00m \u001b[39mNone\u001b[39;00m:\n\u001b[1;32m    331\u001b[0m     ready_circs \u001b[39m=\u001b[39m \u001b[39mself\u001b[39m\u001b[39m.\u001b[39mquantum_instance\u001b[39m.\u001b[39mtranspile(\n\u001b[1;32m    332\u001b[0m         ready_circs, pass_manager\u001b[39m=\u001b[39m\u001b[39mself\u001b[39m\u001b[39m.\u001b[39mquantum_instance\u001b[39m.\u001b[39mbound_pass_manager\n\u001b[1;32m    333\u001b[0m     )\n\u001b[0;32m--> 335\u001b[0m results \u001b[39m=\u001b[39m \u001b[39mself\u001b[39;49m\u001b[39m.\u001b[39;49mquantum_instance\u001b[39m.\u001b[39;49mexecute(\n\u001b[1;32m    336\u001b[0m     ready_circs, had_transpiled\u001b[39m=\u001b[39;49m\u001b[39mself\u001b[39;49m\u001b[39m.\u001b[39;49m_transpile_before_bind\n\u001b[1;32m    337\u001b[0m )\n\u001b[1;32m    339\u001b[0m \u001b[39mif\u001b[39;00m param_bindings \u001b[39mis\u001b[39;00m \u001b[39mnot\u001b[39;00m \u001b[39mNone\u001b[39;00m \u001b[39mand\u001b[39;00m \u001b[39mself\u001b[39m\u001b[39m.\u001b[39m_param_qobj:\n\u001b[1;32m    340\u001b[0m     \u001b[39mself\u001b[39m\u001b[39m.\u001b[39m_clean_parameterized_run_config()\n",
      "File \u001b[0;32m~/anaconda3/envs/QuantumComputing/lib/python3.10/site-packages/qiskit/utils/quantum_instance.py:712\u001b[0m, in \u001b[0;36mQuantumInstance.execute\u001b[0;34m(self, circuits, had_transpiled)\u001b[0m\n\u001b[1;32m    709\u001b[0m                 result\u001b[39m.\u001b[39mresults[n] \u001b[39m=\u001b[39m tmp_result\u001b[39m.\u001b[39mresults[i]\n\u001b[1;32m    711\u001b[0m \u001b[39melse\u001b[39;00m:\n\u001b[0;32m--> 712\u001b[0m     result \u001b[39m=\u001b[39m run_circuits(\n\u001b[1;32m    713\u001b[0m         circuits,\n\u001b[1;32m    714\u001b[0m         \u001b[39mself\u001b[39;49m\u001b[39m.\u001b[39;49m_backend,\n\u001b[1;32m    715\u001b[0m         qjob_config\u001b[39m=\u001b[39;49m\u001b[39mself\u001b[39;49m\u001b[39m.\u001b[39;49mqjob_config,\n\u001b[1;32m    716\u001b[0m         backend_options\u001b[39m=\u001b[39;49m\u001b[39mself\u001b[39;49m\u001b[39m.\u001b[39;49mbackend_options,\n\u001b[1;32m    717\u001b[0m         noise_config\u001b[39m=\u001b[39;49m\u001b[39mself\u001b[39;49m\u001b[39m.\u001b[39;49m_noise_config,\n\u001b[1;32m    718\u001b[0m         run_config\u001b[39m=\u001b[39;49m\u001b[39mself\u001b[39;49m\u001b[39m.\u001b[39;49m_run_config\u001b[39m.\u001b[39;49mto_dict(),\n\u001b[1;32m    719\u001b[0m         job_callback\u001b[39m=\u001b[39;49m\u001b[39mself\u001b[39;49m\u001b[39m.\u001b[39;49m_job_callback,\n\u001b[1;32m    720\u001b[0m         max_job_retries\u001b[39m=\u001b[39;49m\u001b[39mself\u001b[39;49m\u001b[39m.\u001b[39;49m_max_job_retries,\n\u001b[1;32m    721\u001b[0m     )\n\u001b[1;32m    722\u001b[0m     \u001b[39mself\u001b[39m\u001b[39m.\u001b[39m_time_taken \u001b[39m+\u001b[39m\u001b[39m=\u001b[39m result\u001b[39m.\u001b[39mtime_taken\n\u001b[1;32m    724\u001b[0m \u001b[39mif\u001b[39;00m \u001b[39mself\u001b[39m\u001b[39m.\u001b[39m_circuit_summary:\n",
      "File \u001b[0;32m~/anaconda3/envs/QuantumComputing/lib/python3.10/site-packages/qiskit/utils/run_circuits.py:183\u001b[0m, in \u001b[0;36mrun_circuits\u001b[0;34m(circuits, backend, qjob_config, backend_options, noise_config, run_config, job_callback, max_job_retries)\u001b[0m\n\u001b[1;32m    181\u001b[0m         count \u001b[39m+\u001b[39m\u001b[39m=\u001b[39m max_circuits_per_job\n\u001b[1;32m    182\u001b[0m \u001b[39melse\u001b[39;00m:\n\u001b[0;32m--> 183\u001b[0m     job, job_id \u001b[39m=\u001b[39m _safe_submit_circuits(\n\u001b[1;32m    184\u001b[0m         circuits,\n\u001b[1;32m    185\u001b[0m         backend,\n\u001b[1;32m    186\u001b[0m         qjob_config\u001b[39m=\u001b[39;49mqjob_config,\n\u001b[1;32m    187\u001b[0m         backend_options\u001b[39m=\u001b[39;49mbackend_options,\n\u001b[1;32m    188\u001b[0m         noise_config\u001b[39m=\u001b[39;49mnoise_config,\n\u001b[1;32m    189\u001b[0m         run_config\u001b[39m=\u001b[39;49mrun_config,\n\u001b[1;32m    190\u001b[0m         max_job_retries\u001b[39m=\u001b[39;49mmax_job_retries,\n\u001b[1;32m    191\u001b[0m     )\n\u001b[1;32m    192\u001b[0m     jobs \u001b[39m=\u001b[39m [job]\n\u001b[1;32m    193\u001b[0m     job_ids \u001b[39m=\u001b[39m [job_id]\n",
      "File \u001b[0;32m~/anaconda3/envs/QuantumComputing/lib/python3.10/site-packages/qiskit/utils/run_circuits.py:318\u001b[0m, in \u001b[0;36m_safe_submit_circuits\u001b[0;34m(circuits, backend, qjob_config, backend_options, noise_config, run_config, max_job_retries)\u001b[0m\n\u001b[1;32m    316\u001b[0m \u001b[39mfor\u001b[39;00m _ \u001b[39min\u001b[39;00m \u001b[39mrange\u001b[39m(max_job_retries):\n\u001b[1;32m    317\u001b[0m     \u001b[39mtry\u001b[39;00m:\n\u001b[0;32m--> 318\u001b[0m         job \u001b[39m=\u001b[39m _run_circuits_on_backend(\n\u001b[1;32m    319\u001b[0m             backend,\n\u001b[1;32m    320\u001b[0m             circuits,\n\u001b[1;32m    321\u001b[0m             backend_options\u001b[39m=\u001b[39;49mbackend_options,\n\u001b[1;32m    322\u001b[0m             noise_config\u001b[39m=\u001b[39;49mnoise_config,\n\u001b[1;32m    323\u001b[0m             run_config\u001b[39m=\u001b[39;49mrun_config,\n\u001b[1;32m    324\u001b[0m         )\n\u001b[1;32m    325\u001b[0m         job_id \u001b[39m=\u001b[39m job\u001b[39m.\u001b[39mjob_id()\n\u001b[1;32m    326\u001b[0m         \u001b[39mbreak\u001b[39;00m\n",
      "File \u001b[0;32m~/anaconda3/envs/QuantumComputing/lib/python3.10/site-packages/qiskit/utils/run_circuits.py:403\u001b[0m, in \u001b[0;36m_run_circuits_on_backend\u001b[0;34m(backend, circuits, backend_options, noise_config, run_config)\u001b[0m\n\u001b[1;32m    400\u001b[0m         \u001b[39mif\u001b[39;00m \u001b[39mnot\u001b[39;00m \u001b[39mhasattr\u001b[39m(backend\u001b[39m.\u001b[39moptions, key):\n\u001b[1;32m    401\u001b[0m             \u001b[39mdel\u001b[39;00m run_kwargs[key]\n\u001b[0;32m--> 403\u001b[0m \u001b[39mreturn\u001b[39;00m backend\u001b[39m.\u001b[39;49mrun(circuits, \u001b[39m*\u001b[39;49m\u001b[39m*\u001b[39;49mrun_kwargs)\n",
      "File \u001b[0;32m~/anaconda3/envs/QuantumComputing/lib/python3.10/site-packages/qiskit/providers/basicaer/qasm_simulator.py:423\u001b[0m, in \u001b[0;36mQasmSimulatorPy.run\u001b[0;34m(self, qobj, **backend_options)\u001b[0m\n\u001b[1;32m    421\u001b[0m \u001b[39mself\u001b[39m\u001b[39m.\u001b[39m_set_options(qobj_config\u001b[39m=\u001b[39mqobj_options, backend_options\u001b[39m=\u001b[39mbackend_options)\n\u001b[1;32m    422\u001b[0m job_id \u001b[39m=\u001b[39m \u001b[39mstr\u001b[39m(uuid\u001b[39m.\u001b[39muuid4())\n\u001b[0;32m--> 423\u001b[0m job \u001b[39m=\u001b[39m BasicAerJob(\u001b[39mself\u001b[39m, job_id, \u001b[39mself\u001b[39;49m\u001b[39m.\u001b[39;49m_run_job(job_id, qobj))\n\u001b[1;32m    424\u001b[0m \u001b[39mreturn\u001b[39;00m job\n",
      "File \u001b[0;32m~/anaconda3/envs/QuantumComputing/lib/python3.10/site-packages/qiskit/providers/basicaer/qasm_simulator.py:443\u001b[0m, in \u001b[0;36mQasmSimulatorPy._run_job\u001b[0;34m(self, job_id, qobj)\u001b[0m\n\u001b[1;32m    441\u001b[0m start \u001b[39m=\u001b[39m time\u001b[39m.\u001b[39mtime()\n\u001b[1;32m    442\u001b[0m \u001b[39mfor\u001b[39;00m experiment \u001b[39min\u001b[39;00m qobj\u001b[39m.\u001b[39mexperiments:\n\u001b[0;32m--> 443\u001b[0m     result_list\u001b[39m.\u001b[39mappend(\u001b[39mself\u001b[39;49m\u001b[39m.\u001b[39;49mrun_experiment(experiment))\n\u001b[1;32m    444\u001b[0m end \u001b[39m=\u001b[39m time\u001b[39m.\u001b[39mtime()\n\u001b[1;32m    445\u001b[0m result \u001b[39m=\u001b[39m {\n\u001b[1;32m    446\u001b[0m     \u001b[39m\"\u001b[39m\u001b[39mbackend_name\u001b[39m\u001b[39m\"\u001b[39m: \u001b[39mself\u001b[39m\u001b[39m.\u001b[39mname(),\n\u001b[1;32m    447\u001b[0m     \u001b[39m\"\u001b[39m\u001b[39mbackend_version\u001b[39m\u001b[39m\"\u001b[39m: \u001b[39mself\u001b[39m\u001b[39m.\u001b[39m_configuration\u001b[39m.\u001b[39mbackend_version,\n\u001b[0;32m   (...)\u001b[0m\n\u001b[1;32m    454\u001b[0m     \u001b[39m\"\u001b[39m\u001b[39mheader\u001b[39m\u001b[39m\"\u001b[39m: qobj\u001b[39m.\u001b[39mheader\u001b[39m.\u001b[39mto_dict(),\n\u001b[1;32m    455\u001b[0m }\n",
      "File \u001b[0;32m~/anaconda3/envs/QuantumComputing/lib/python3.10/site-packages/qiskit/providers/basicaer/qasm_simulator.py:559\u001b[0m, in \u001b[0;36mQasmSimulatorPy.run_experiment\u001b[0;34m(self, experiment)\u001b[0m\n\u001b[1;32m    557\u001b[0m     qubit1 \u001b[39m=\u001b[39m operation\u001b[39m.\u001b[39mqubits[\u001b[39m1\u001b[39m]\n\u001b[1;32m    558\u001b[0m     gate \u001b[39m=\u001b[39m cx_gate_matrix()\n\u001b[0;32m--> 559\u001b[0m     \u001b[39mself\u001b[39;49m\u001b[39m.\u001b[39;49m_add_unitary(gate, [qubit0, qubit1])\n\u001b[1;32m    560\u001b[0m \u001b[39m# Check if reset\u001b[39;00m\n\u001b[1;32m    561\u001b[0m \u001b[39melif\u001b[39;00m operation\u001b[39m.\u001b[39mname \u001b[39m==\u001b[39m \u001b[39m\"\u001b[39m\u001b[39mreset\u001b[39m\u001b[39m\"\u001b[39m:\n",
      "File \u001b[0;32m~/anaconda3/envs/QuantumComputing/lib/python3.10/site-packages/qiskit/providers/basicaer/qasm_simulator.py:159\u001b[0m, in \u001b[0;36mQasmSimulatorPy._add_unitary\u001b[0;34m(self, gate, qubits)\u001b[0m\n\u001b[1;32m    157\u001b[0m gate_tensor \u001b[39m=\u001b[39m np\u001b[39m.\u001b[39mreshape(np\u001b[39m.\u001b[39marray(gate, dtype\u001b[39m=\u001b[39m\u001b[39mcomplex\u001b[39m), num_qubits \u001b[39m*\u001b[39m [\u001b[39m2\u001b[39m, \u001b[39m2\u001b[39m])\n\u001b[1;32m    158\u001b[0m \u001b[39m# Apply matrix multiplication\u001b[39;00m\n\u001b[0;32m--> 159\u001b[0m \u001b[39mself\u001b[39m\u001b[39m.\u001b[39m_statevector \u001b[39m=\u001b[39m np\u001b[39m.\u001b[39;49meinsum(\n\u001b[1;32m    160\u001b[0m     indexes, gate_tensor, \u001b[39mself\u001b[39;49m\u001b[39m.\u001b[39;49m_statevector, dtype\u001b[39m=\u001b[39;49m\u001b[39mcomplex\u001b[39;49m, casting\u001b[39m=\u001b[39;49m\u001b[39m\"\u001b[39;49m\u001b[39mno\u001b[39;49m\u001b[39m\"\u001b[39;49m\n\u001b[1;32m    161\u001b[0m )\n",
      "File \u001b[0;32m<__array_function__ internals>:180\u001b[0m, in \u001b[0;36meinsum\u001b[0;34m(*args, **kwargs)\u001b[0m\n",
      "File \u001b[0;32m~/anaconda3/envs/QuantumComputing/lib/python3.10/site-packages/numpy/core/einsumfunc.py:1371\u001b[0m, in \u001b[0;36meinsum\u001b[0;34m(out, optimize, *operands, **kwargs)\u001b[0m\n\u001b[1;32m   1369\u001b[0m     \u001b[39mif\u001b[39;00m specified_out:\n\u001b[1;32m   1370\u001b[0m         kwargs[\u001b[39m'\u001b[39m\u001b[39mout\u001b[39m\u001b[39m'\u001b[39m] \u001b[39m=\u001b[39m out\n\u001b[0;32m-> 1371\u001b[0m     \u001b[39mreturn\u001b[39;00m c_einsum(\u001b[39m*\u001b[39;49moperands, \u001b[39m*\u001b[39;49m\u001b[39m*\u001b[39;49mkwargs)\n\u001b[1;32m   1373\u001b[0m \u001b[39m# Check the kwargs to avoid a more cryptic error later, without having to\u001b[39;00m\n\u001b[1;32m   1374\u001b[0m \u001b[39m# repeat default values here\u001b[39;00m\n\u001b[1;32m   1375\u001b[0m valid_einsum_kwargs \u001b[39m=\u001b[39m [\u001b[39m'\u001b[39m\u001b[39mdtype\u001b[39m\u001b[39m'\u001b[39m, \u001b[39m'\u001b[39m\u001b[39morder\u001b[39m\u001b[39m'\u001b[39m, \u001b[39m'\u001b[39m\u001b[39mcasting\u001b[39m\u001b[39m'\u001b[39m]\n",
      "\u001b[0;31mKeyboardInterrupt\u001b[0m: "
     ]
    }
   ],
   "source": [
    "for cutoff in [16,32]:\n",
    "    #CLASSICAL COMPUTATION OF GROUND STATE ENERGY\n",
    "    wz.construct_ham_matrix(cutoff)\n",
    "    ens=scipy.sparse.linalg.eigs(wz.hamMat,k=6,sigma=0.0)[0]\n",
    "    print(ens)\n",
    "\n",
    "    #VQE COMPUTATION OF GROUND STATE ENERGY\n",
    "    ps=matrix_to_pse(wz.hamMat, standard_encode)\n",
    "    op=pauli_dict_to_op(ps.to_dict())\n",
    "\n",
    "\n",
    "    nq=math.floor(math.log2(wz.hamMat.shape[0]))\n",
    "    if not math.log2(wz.hamMat.shape[0]).is_integer():\n",
    "        nq+=1\n",
    "\n",
    "    ansatz = RealAmplitudes(nq, reps=cutoff)    \n",
    "    backend = BasicAer.get_backend(\"statevector_simulator\")\n",
    "    vqe = VQE(ansatz=ansatz, optimizer=COBYLA(), quantum_instance=backend)\n",
    "    results=[]\n",
    "    for i in range(10):\n",
    "        results.append(vqe.compute_minimum_eigenvalue(op).eigenvalue.real)\n",
    "    en = np.array(results).min()\n",
    "    print(en)"
   ]
  },
  {
   "cell_type": "code",
   "execution_count": null,
   "metadata": {},
   "outputs": [],
   "source": []
  }
 ],
 "metadata": {
  "kernelspec": {
   "display_name": "MachineLearning",
   "language": "python",
   "name": "python3"
  },
  "language_info": {
   "codemirror_mode": {
    "name": "ipython",
    "version": 3
   },
   "file_extension": ".py",
   "mimetype": "text/x-python",
   "name": "python",
   "nbconvert_exporter": "python",
   "pygments_lexer": "ipython3",
   "version": "3.10.8"
  },
  "orig_nbformat": 4
 },
 "nbformat": 4,
 "nbformat_minor": 2
}
