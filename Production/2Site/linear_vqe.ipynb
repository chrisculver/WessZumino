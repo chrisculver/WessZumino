{
 "cells": [
  {
   "cell_type": "code",
   "execution_count": 1,
   "metadata": {},
   "outputs": [],
   "source": [
    "%load_ext autoreload\n",
    "%autoreload 2\n",
    "\n",
    "import sys\n",
    "sys.path.append('../..')"
   ]
  },
  {
   "cell_type": "code",
   "execution_count": 16,
   "metadata": {},
   "outputs": [],
   "source": [
    "from src.wess_zumino_model import WessZuminoModel\n",
    "from src.matrix_to_ps import matrix_to_pse\n",
    "from src.binary_encodings import standard_encode\n",
    "from src.qiskit_utilities import pauli_dict_to_op, op_to_trotter\n",
    "\n",
    "\n",
    "from qiskit import Aer\n",
    "from qiskit.utils import QuantumInstance\n",
    "from qiskit.algorithms import VQE\n",
    "from qiskit.algorithms.optimizers import COBYLA\n",
    "from qiskit.circuit.library import RealAmplitudes\n",
    "from qiskit import BasicAer\n",
    "from qiskit import qpy\n",
    "from qiskit import QuantumCircuit, transpile\n",
    "\n",
    "\n",
    "import scipy.sparse.linalg\n",
    "import sympy as sp\n",
    "import numpy as np\n",
    "\n",
    "from ipywidgets import IntProgress\n",
    "from IPython.display import display, clear_output \n",
    "\n",
    "import json\n",
    "import math"
   ]
  },
  {
   "cell_type": "code",
   "execution_count": 17,
   "metadata": {},
   "outputs": [],
   "source": [
    "def potential(self, n):\n",
    "    # m*q with m=1\n",
    "    return -self.mass*self.qs[n]\n",
    "\n",
    "N=2\n",
    "wz=WessZuminoModel(N,1.0,potential,'dirichlet')"
   ]
  },
  {
   "attachments": {},
   "cell_type": "markdown",
   "metadata": {},
   "source": [
    "## TODO \n",
    "\n",
    "* Different circuit forms ReAmp/NCount/ExcitationPreserving\n",
    "* Different entanglement types\n",
    "* Different rep counts (less reps = faster VQE but less expressive)\n",
    "* Save plot of minimization?"
   ]
  },
  {
   "cell_type": "code",
   "execution_count": 18,
   "metadata": {},
   "outputs": [],
   "source": [
    "cutoff=16\n",
    "wz.construct_ham_matrix(cutoff)\n",
    "e0=scipy.sparse.linalg.eigs(wz.hamMat,k=1,sigma=0.0)[0]\n",
    "ps=matrix_to_pse(wz.hamMat, standard_encode)\n",
    "op=pauli_dict_to_op(ps.to_dict())\n",
    "\n",
    "nq=math.floor(math.log2(wz.hamMat.shape[0]))\n",
    "if not math.log2(wz.hamMat.shape[0]).is_integer():\n",
    "    nq+=1"
   ]
  },
  {
   "cell_type": "code",
   "execution_count": 22,
   "metadata": {},
   "outputs": [],
   "source": [
    "backend = BasicAer.get_backend(\"statevector_simulator\")\n",
    "\n",
    "#results={}\n",
    "\n",
    "vqeRuns=50\n",
    "\n",
    "style = {'description_width': 'initial'}\n",
    "layout = {'width':'600px'}\n",
    "\n",
    "#for entanglement in ['linear','reverse_linear','circular','sca']: #full and reverse linear are same, reverse has less gates\n",
    "for entanglement in ['reverse_linear','circular','sca']: #full and reverse linear are same, reverse has less gates\n",
    "    results[entanglement]={}\n",
    "    for reps in [1,2,4,8]:\n",
    "        ansatz = RealAmplitudes(nq, entanglement=entanglement, reps=reps)\n",
    "        vqe = VQE(ansatz=ansatz, optimizer=COBYLA(), quantum_instance=backend)\n",
    "        \n",
    "        values=[]\n",
    "        progress = IntProgress(min=0, max=vqeRuns, description=\"Running VQE with {} entanglement and {} reps\".format(entanglement,reps), style=style, layout=layout)\n",
    "        display(progress)\n",
    "        for run in range(vqeRuns):\n",
    "            values.append(vqe.compute_minimum_eigenvalue(op).eigenvalue.real)\n",
    "            progress.value += 1\n",
    "            \n",
    "        results[entanglement][reps]=values\n",
    "    \n",
    "        with open('Data/vqe_linear_real_amplitudes.json','w') as file:\n",
    "            json.dump(results, file)\n",
    "        \n",
    "        clear_output()\n"
   ]
  },
  {
   "cell_type": "code",
   "execution_count": 27,
   "metadata": {},
   "outputs": [],
   "source": [
    "results_real_amplitudes=results"
   ]
  },
  {
   "cell_type": "code",
   "execution_count": 28,
   "metadata": {},
   "outputs": [],
   "source": [
    "from qiskit.circuit.library import ExcitationPreserving\n",
    "\n",
    "results={}\n",
    "\n",
    "vqeRuns=50\n",
    "\n",
    "style = {'description_width': 'initial'}\n",
    "layout = {'width':'600px'}\n",
    "\n",
    "for entanglement in ['linear','reverse_linear','circular','sca']: #full and reverse linear are same, reverse has less gates\n",
    "    results[entanglement]={}\n",
    "    for reps in [1,2,4,8]:\n",
    "        ansatz = ExcitationPreserving(nq, entanglement=entanglement, reps=reps)\n",
    "        vqe = VQE(ansatz=ansatz, optimizer=COBYLA(), quantum_instance=backend)\n",
    "        \n",
    "        values=[]\n",
    "        progress = IntProgress(min=0, max=vqeRuns, description=\"Running VQE with {} entanglement and {} reps\".format(entanglement,reps), style=style, layout=layout)\n",
    "        display(progress)\n",
    "        for run in range(vqeRuns):\n",
    "            values.append(vqe.compute_minimum_eigenvalue(op).eigenvalue.real)\n",
    "            progress.value += 1\n",
    "            \n",
    "        results[entanglement][reps]=values\n",
    "    \n",
    "        with open('Data/vqe_linear_excitation_preserving.json','w') as file:\n",
    "            json.dump(results, file)\n",
    "        \n",
    "        clear_output()"
   ]
  },
  {
   "cell_type": "code",
   "execution_count": null,
   "metadata": {},
   "outputs": [],
   "source": []
  }
 ],
 "metadata": {
  "kernelspec": {
   "display_name": "QuantumComputing",
   "language": "python",
   "name": "python3"
  },
  "language_info": {
   "codemirror_mode": {
    "name": "ipython",
    "version": 3
   },
   "file_extension": ".py",
   "mimetype": "text/x-python",
   "name": "python",
   "nbconvert_exporter": "python",
   "pygments_lexer": "ipython3",
   "version": "3.9.7"
  },
  "orig_nbformat": 4
 },
 "nbformat": 4,
 "nbformat_minor": 2
}
