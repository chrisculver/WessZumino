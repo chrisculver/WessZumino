{
 "cells": [
  {
   "cell_type": "markdown",
   "metadata": {},
   "source": [
    "# Wess Zumino \n",
    "\n",
    "## N=1 in 1+1\n",
    "\n",
    "The Hamiltonian with a central difference for the derivative is given by \n",
    "\n",
    "\\begin{align}\n",
    "    H=\\sum_n&\\left[ \\frac{p_n^2}{2a} + \\frac{a}{2}\\left(\\frac{\\phi_{n+1}-\\phi_{n-1}}{2a}\\right)^2+\\frac{a}{2}V(\\phi_n)^2\n",
    "            +aV(\\phi_n)\\frac{\\phi_{n+1}-\\phi_{n-1}}{2a} \\right. \\nonumber \\\\\n",
    "            &\\left.+(-1)^nV'(\\phi_n)\\left(\\chi_n^{\\dagger}\\chi_n-\\frac{1}{2}\\right)\n",
    "            +\\frac{1}{2a}\\left(\\chi_n^{\\dagger}\\chi_{n+1}+\\chi_{n+1}^{\\dagger}\\chi_n\\right) \\right],\n",
    "\\end{align}"
   ]
  },
  {
   "cell_type": "code",
   "execution_count": 1,
   "metadata": {},
   "outputs": [],
   "source": [
    "import sympy as sp\n",
    "from ham_to_sparse_matrix import *\n",
    "from constants import *\n",
    "import scipy.sparse.linalg"
   ]
  },
  {
   "cell_type": "code",
   "execution_count": 2,
   "metadata": {},
   "outputs": [],
   "source": [
    "bosonNI=sp.expand( pn**2/(2*aLat) + (aLat/2)*((qnP1-qnM1)/(2*aLat))**2 )\n",
    "bosonI=sp.expand( (aLat/2)*V(qn)**2 + aLat*V(qn)*(qnP1-qnM1)/(4*aLat) + aLat*(qnP1-qnM1)*V(qn)/(4*aLat) )\n",
    "fermionNI=sp.expand( -(xdnP1*xn+xdn*xnP1)/(2*aLat) )\n",
    "fermionI=sp.expand( sp.diff(V(qn),qn)*(xdn*xn-(1/2)) )"
   ]
  },
  {
   "cell_type": "code",
   "execution_count": 3,
   "metadata": {},
   "outputs": [
    {
     "data": {
      "text/latex": [
       "$\\displaystyle \\frac{a V^{2}{\\left(q_{n} \\right)}}{2} + \\frac{q_{n+1} V{\\left(q_{n} \\right)}}{4} - \\frac{q_{n-1} V{\\left(q_{n} \\right)}}{4} + \\frac{V{\\left(q_{n} \\right)} q_{n+1}}{4} - \\frac{V{\\left(q_{n} \\right)} q_{n-1}}{4} + \\frac{p_{n}^{2}}{2 a} - \\frac{q_{n+1} q_{n-1}}{8 a} + \\frac{q_{n+1}^{2}}{8 a} - \\frac{q_{n-1} q_{n+1}}{8 a} + \\frac{q_{n-1}^{2}}{8 a}$"
      ],
      "text/plain": [
       "a*V(q_{n})**2/2 + q_{n+1}*V(q_{n})/4 - q_{n-1}*V(q_{n})/4 + V(q_{n})*q_{n+1}/4 - V(q_{n})*q_{n-1}/4 + p_{n}**2/(2*a) - q_{n+1}*q_{n-1}/(8*a) + q_{n+1}**2/(8*a) - q_{n-1}*q_{n+1}/(8*a) + q_{n-1}**2/(8*a)"
      ]
     },
     "execution_count": 3,
     "metadata": {},
     "output_type": "execute_result"
    }
   ],
   "source": [
    "bosonNI+bosonI"
   ]
  },
  {
   "cell_type": "code",
   "execution_count": 4,
   "metadata": {},
   "outputs": [
    {
     "data": {
      "text/latex": [
       "$\\displaystyle - 0.5 \\frac{d}{d q_{n}} V{\\left(q_{n} \\right)} + \\frac{d}{d q_{n}} V{\\left(q_{n} \\right)} \\chi^{\\dagger}_{n} \\chi_{n} - \\frac{\\chi^{\\dagger}_{n+1} \\chi_{n}}{2 a} - \\frac{\\chi^{\\dagger}_{n} \\chi_{n+1}}{2 a}$"
      ],
      "text/plain": [
       "-0.5*Derivative(V(q_{n}), q_{n}) + Derivative(V(q_{n}), q_{n})*\\chi^{\\dagger}_{n}*\\chi_{n} - \\chi^{\\dagger}_{n+1}*\\chi_{n}/(2*a) - \\chi^{\\dagger}_{n}*\\chi_{n+1}/(2*a)"
      ]
     },
     "execution_count": 4,
     "metadata": {},
     "output_type": "execute_result"
    }
   ],
   "source": [
    "fermionNI + fermionI"
   ]
  },
  {
   "cell_type": "code",
   "execution_count": 5,
   "metadata": {},
   "outputs": [],
   "source": [
    "N=3\n",
    "aVal=1\n",
    "\n",
    "# depends on finite-difference method\n",
    "qs=[SiteSymbol('q',str(i)) for i in range(-1,N+1,1)]\n",
    "# maybe make qs a normal site list\n",
    "# and make an extra boundaryQs list for q[-1], q[N]\n",
    "# counting would be normal computer science way for rest of code.\n",
    "\n",
    "ps=[SiteSymbol('p',str(i)) for i in range(-1,N+1,1)] # don't really need extras\n",
    "aops=[SiteSymbol('a',str(i)) for i in range(-1,N+1,1)]\n",
    "adags=[SiteSymbol('a^{\\dagger}',str(i)) for i in range(-1,N+1,1)]\n",
    "xs=[SiteSymbol('\\chi',str(i)) for i in range(-1,N+1,1)]\n",
    "xdags=[SiteSymbol('\\chi^{\\dagger}',str(i)) for i in range(-1,N+1,1)]\n",
    "\n",
    "# note this is exactly hardcoded for this finite difference method.\n",
    "bcType = 'dirichlet'\n",
    "boundaryConditions = {}\n",
    "if bcType == 'periodic':\n",
    "    boundaryConditions = {qs[0]: qs[N], qs[N+1]: qs[1],\n",
    "                          xs[0]: -xs[N], xs[N+1]: -xs[1], \n",
    "                          xdags[0]: -xdags[N],  xdags[N+1]: -xdags[1]\n",
    "                         }\n",
    "    \n",
    "elif bcType == 'dirichlet':\n",
    "    boundaryConditions = { qs[0]: 0, qs[N+1]: 0,\n",
    "                          xs[0]: 0, xs[N+1]: 0,\n",
    "                          xdags[0]: 0, xdags[N+1]:0\n",
    "                         }"
   ]
  },
  {
   "cell_type": "code",
   "execution_count": 6,
   "metadata": {},
   "outputs": [
    {
     "data": {
      "text/latex": [
       "$\\displaystyle \\frac{a V^{2}{\\left(q_{n} \\right)}}{2} + \\frac{q_{n+1} V{\\left(q_{n} \\right)}}{4} - \\frac{q_{n-1} V{\\left(q_{n} \\right)}}{4} + \\frac{V{\\left(q_{n} \\right)} q_{n+1}}{4} - \\frac{V{\\left(q_{n} \\right)} q_{n-1}}{4} - 0.5 \\frac{d}{d q_{n}} V{\\left(q_{n} \\right)} + \\frac{d}{d q_{n}} V{\\left(q_{n} \\right)} \\chi^{\\dagger}_{n} \\chi_{n} - \\frac{\\chi^{\\dagger}_{n+1} \\chi_{n}}{2 a} - \\frac{\\chi^{\\dagger}_{n} \\chi_{n+1}}{2 a} + \\frac{p_{n}^{2}}{2 a} - \\frac{q_{n+1} q_{n-1}}{8 a} + \\frac{q_{n+1}^{2}}{8 a} - \\frac{q_{n-1} q_{n+1}}{8 a} + \\frac{q_{n-1}^{2}}{8 a}$"
      ],
      "text/plain": [
       "a*V(q_{n})**2/2 + q_{n+1}*V(q_{n})/4 - q_{n-1}*V(q_{n})/4 + V(q_{n})*q_{n+1}/4 - V(q_{n})*q_{n-1}/4 - 0.5*Derivative(V(q_{n}), q_{n}) + Derivative(V(q_{n}), q_{n})*\\chi^{\\dagger}_{n}*\\chi_{n} - \\chi^{\\dagger}_{n+1}*\\chi_{n}/(2*a) - \\chi^{\\dagger}_{n}*\\chi_{n+1}/(2*a) + p_{n}**2/(2*a) - q_{n+1}*q_{n-1}/(8*a) + q_{n+1}**2/(8*a) - q_{n-1}*q_{n+1}/(8*a) + q_{n-1}**2/(8*a)"
      ]
     },
     "execution_count": 6,
     "metadata": {},
     "output_type": "execute_result"
    }
   ],
   "source": [
    "totHam=bosonNI+bosonI+fermionNI+fermionI\n",
    "totHam"
   ]
  },
  {
   "cell_type": "code",
   "execution_count": 7,
   "metadata": {},
   "outputs": [
    {
     "data": {
      "text/latex": [
       "$\\displaystyle \\frac{- 4 \\chi^{\\dagger}_{0} \\chi_{1} - 4 \\chi^{\\dagger}_{1} \\chi_{0} - 4 \\chi^{\\dagger}_{1} \\chi_{2} - 4 \\chi^{\\dagger}_{2} \\chi_{1} + 4 p_{0}^{2} + 4 p_{1}^{2} + 4 p_{2}^{2} + 8 q_{0} - 16 q_{0} \\chi^{\\dagger}_{0} \\chi_{0} - 2 q_{0} q_{1}^{2} - q_{0} q_{2} + q_{0}^{2} + 2 q_{0}^{2} q_{1} + 4 q_{0}^{4} - 8.0 q_{1} + 16 q_{1} \\chi^{\\dagger}_{1} \\chi_{1} + 2 q_{1} q_{0}^{2} - 2 q_{1} q_{2}^{2} + 2 q_{1}^{2} - 2 q_{1}^{2} q_{0} + 2 q_{1}^{2} q_{2} + 4 q_{1}^{4} + 8 q_{2} - 16 q_{2} \\chi^{\\dagger}_{2} \\chi_{2} - q_{2} q_{0} + 2 q_{2} q_{1}^{2} + q_{2}^{2} - 2 q_{2}^{2} q_{1} + 4 q_{2}^{4}}{8}$"
      ],
      "text/plain": [
       "(-4*\\chi^{\\dagger}_{0}*\\chi_{1} - 4*\\chi^{\\dagger}_{1}*\\chi_{0} - 4*\\chi^{\\dagger}_{1}*\\chi_{2} - 4*\\chi^{\\dagger}_{2}*\\chi_{1} + 4*p_{0}**2 + 4*p_{1}**2 + 4*p_{2}**2 + 8*q_{0} - 16*q_{0}*\\chi^{\\dagger}_{0}*\\chi_{0} - 2*q_{0}*q_{1}**2 - q_{0}*q_{2} + q_{0}**2 + 2*q_{0}**2*q_{1} + 4*q_{0}**4 - 8.0*q_{1} + 16*q_{1}*\\chi^{\\dagger}_{1}*\\chi_{1} + 2*q_{1}*q_{0}**2 - 2*q_{1}*q_{2}**2 + 2*q_{1}**2 - 2*q_{1}**2*q_{0} + 2*q_{1}**2*q_{2} + 4*q_{1}**4 + 8*q_{2} - 16*q_{2}*\\chi^{\\dagger}_{2}*\\chi_{2} - q_{2}*q_{0} + 2*q_{2}*q_{1}**2 + q_{2}**2 - 2*q_{2}**2*q_{1} + 4*q_{2}**4)/8"
      ]
     },
     "execution_count": 7,
     "metadata": {},
     "output_type": "execute_result"
    }
   ],
   "source": [
    "ham=0\n",
    "\n",
    "c=0\n",
    "c2=1\n",
    "\n",
    "for i in range(1,N+1):\n",
    "    ham+=(bosonNI+bosonI+fermionNI).subs({\n",
    "        pn: ps[i],\n",
    "        qn: qs[i], qnP1: qs[i+1], qnM1: qs[i-1],\n",
    "        xn: xs[i], xnP1: xs[i+1],\n",
    "        xdn: xdags[i], xdnP1: xdags[i+1]\n",
    "    }).subs(boundaryConditions)\n",
    "    \n",
    "# ham.subs(boundaryConditions).doit() # this doesn't work?\n",
    "\n",
    "\n",
    "def potential(n):\n",
    "    return c + c2*qs[n]*qs[n]\n",
    "\n",
    "potentialSubs={}\n",
    "for n in range(1,N+1):\n",
    "    potentialSubs[V(qs[n])]=potential(n)\n",
    "\n",
    "ham=sp.simplify(ham.subs(potentialSubs).subs(aLat,aVal))\n",
    "\n",
    "for i in range(1,N+1):\n",
    "    if i%2==0:\n",
    "        ham+=sp.simplify(fermionI.subs({qn: qs[i], xn: xs[i], xdn: xdags[i]}).subs(potentialSubs))\n",
    "    else:\n",
    "        ham-=sp.simplify(fermionI.subs({qn: qs[i], xn: xs[i], xdn: xdags[i]}).subs(potentialSubs))\n",
    "ham=sp.simplify(ham.subs(aLat,aVal))\n",
    "ham"
   ]
  },
  {
   "cell_type": "code",
   "execution_count": 8,
   "metadata": {},
   "outputs": [
    {
     "data": {
      "text/latex": [
       "$\\displaystyle - \\frac{\\chi^{\\dagger}_{0} \\chi_{1}}{2} - \\frac{\\chi^{\\dagger}_{1} \\chi_{0}}{2} - \\frac{\\chi^{\\dagger}_{1} \\chi_{2}}{2} - \\frac{\\chi^{\\dagger}_{2} \\chi_{1}}{2} + \\frac{38613965 a^{\\dagger}_{0}}{54608393} - \\frac{131836323 a^{\\dagger}_{0} \\chi^{\\dagger}_{0} \\chi_{0}}{93222358} - \\frac{3998607 a^{\\dagger}_{0} a^{\\dagger}_{1} a_{1}}{45239074} - \\frac{3998607 a^{\\dagger}_{0} \\left(a^{\\dagger}_{1}\\right)^{2}}{45239074} - \\frac{a^{\\dagger}_{0} a^{\\dagger}_{2}}{16} + \\frac{5 a^{\\dagger}_{0} a_{0}}{16} + \\frac{a^{\\dagger}_{0} a_{0} a^{\\dagger}_{0} a_{0}}{8} + \\frac{a^{\\dagger}_{0} a_{0} \\left(a^{\\dagger}_{0}\\right)^{2}}{8} + \\frac{3998607 a^{\\dagger}_{0} a_{0} a^{\\dagger}_{1}}{45239074} + \\frac{3998607 a^{\\dagger}_{0} a_{0} a_{1}}{45239074} + \\frac{a^{\\dagger}_{0} a_{0}^{2} a^{\\dagger}_{0}}{8} + \\frac{a^{\\dagger}_{0} a_{0}^{3}}{8} - \\frac{3998607 a^{\\dagger}_{0} a_{1} a^{\\dagger}_{1}}{45239074} - \\frac{3998607 a^{\\dagger}_{0} a_{1}^{2}}{45239074} - \\frac{a^{\\dagger}_{0} a_{2}}{16} - \\frac{3 \\left(a^{\\dagger}_{0}\\right)^{2}}{16} + \\frac{3998607 \\left(a^{\\dagger}_{0}\\right)^{2} a^{\\dagger}_{1}}{45239074} + \\frac{\\left(a^{\\dagger}_{0}\\right)^{2} a_{0} a^{\\dagger}_{0}}{8} + \\frac{\\left(a^{\\dagger}_{0}\\right)^{2} a_{0}^{2}}{8} + \\frac{3998607 \\left(a^{\\dagger}_{0}\\right)^{2} a_{1}}{45239074} + \\frac{\\left(a^{\\dagger}_{0}\\right)^{3} a_{0}}{8} + \\frac{\\left(a^{\\dagger}_{0}\\right)^{4}}{8} - \\frac{38613965 a^{\\dagger}_{1}}{54608393} + \\frac{131836323 a^{\\dagger}_{1} \\chi^{\\dagger}_{1} \\chi_{1}}{93222358} + \\frac{3998607 a^{\\dagger}_{1} a^{\\dagger}_{0} a_{0}}{45239074} + \\frac{3998607 a^{\\dagger}_{1} \\left(a^{\\dagger}_{0}\\right)^{2}}{45239074} - \\frac{3998607 a^{\\dagger}_{1} a^{\\dagger}_{2} a_{2}}{45239074} - \\frac{3998607 a^{\\dagger}_{1} \\left(a^{\\dagger}_{2}\\right)^{2}}{45239074} + \\frac{3998607 a^{\\dagger}_{1} a_{0} a^{\\dagger}_{0}}{45239074} + \\frac{3998607 a^{\\dagger}_{1} a_{0}^{2}}{45239074} + \\frac{3 a^{\\dagger}_{1} a_{1}}{8} - \\frac{3998607 a^{\\dagger}_{1} a_{1} a^{\\dagger}_{0}}{45239074} + \\frac{a^{\\dagger}_{1} a_{1} a^{\\dagger}_{1} a_{1}}{8} + \\frac{a^{\\dagger}_{1} a_{1} \\left(a^{\\dagger}_{1}\\right)^{2}}{8} + \\frac{3998607 a^{\\dagger}_{1} a_{1} a^{\\dagger}_{2}}{45239074} - \\frac{3998607 a^{\\dagger}_{1} a_{1} a_{0}}{45239074} + \\frac{3998607 a^{\\dagger}_{1} a_{1} a_{2}}{45239074} + \\frac{a^{\\dagger}_{1} a_{1}^{2} a^{\\dagger}_{1}}{8} + \\frac{a^{\\dagger}_{1} a_{1}^{3}}{8} - \\frac{3998607 a^{\\dagger}_{1} a_{2} a^{\\dagger}_{2}}{45239074} - \\frac{3998607 a^{\\dagger}_{1} a_{2}^{2}}{45239074} - \\frac{\\left(a^{\\dagger}_{1}\\right)^{2}}{8} - \\frac{3998607 \\left(a^{\\dagger}_{1}\\right)^{2} a^{\\dagger}_{0}}{45239074} + \\frac{3998607 \\left(a^{\\dagger}_{1}\\right)^{2} a^{\\dagger}_{2}}{45239074} - \\frac{3998607 \\left(a^{\\dagger}_{1}\\right)^{2} a_{0}}{45239074} + \\frac{\\left(a^{\\dagger}_{1}\\right)^{2} a_{1} a^{\\dagger}_{1}}{8} + \\frac{\\left(a^{\\dagger}_{1}\\right)^{2} a_{1}^{2}}{8} + \\frac{3998607 \\left(a^{\\dagger}_{1}\\right)^{2} a_{2}}{45239074} + \\frac{\\left(a^{\\dagger}_{1}\\right)^{3} a_{1}}{8} + \\frac{\\left(a^{\\dagger}_{1}\\right)^{4}}{8} + \\frac{38613965 a^{\\dagger}_{2}}{54608393} - \\frac{131836323 a^{\\dagger}_{2} \\chi^{\\dagger}_{2} \\chi_{2}}{93222358} - \\frac{a^{\\dagger}_{2} a^{\\dagger}_{0}}{16} + \\frac{3998607 a^{\\dagger}_{2} a^{\\dagger}_{1} a_{1}}{45239074} + \\frac{3998607 a^{\\dagger}_{2} \\left(a^{\\dagger}_{1}\\right)^{2}}{45239074} - \\frac{a^{\\dagger}_{2} a_{0}}{16} + \\frac{3998607 a^{\\dagger}_{2} a_{1} a^{\\dagger}_{1}}{45239074} + \\frac{3998607 a^{\\dagger}_{2} a_{1}^{2}}{45239074} + \\frac{5 a^{\\dagger}_{2} a_{2}}{16} - \\frac{3998607 a^{\\dagger}_{2} a_{2} a^{\\dagger}_{1}}{45239074} + \\frac{a^{\\dagger}_{2} a_{2} a^{\\dagger}_{2} a_{2}}{8} + \\frac{a^{\\dagger}_{2} a_{2} \\left(a^{\\dagger}_{2}\\right)^{2}}{8} - \\frac{3998607 a^{\\dagger}_{2} a_{2} a_{1}}{45239074} + \\frac{a^{\\dagger}_{2} a_{2}^{2} a^{\\dagger}_{2}}{8} + \\frac{a^{\\dagger}_{2} a_{2}^{3}}{8} - \\frac{3 \\left(a^{\\dagger}_{2}\\right)^{2}}{16} - \\frac{3998607 \\left(a^{\\dagger}_{2}\\right)^{2} a^{\\dagger}_{1}}{45239074} - \\frac{3998607 \\left(a^{\\dagger}_{2}\\right)^{2} a_{1}}{45239074} + \\frac{\\left(a^{\\dagger}_{2}\\right)^{2} a_{2} a^{\\dagger}_{2}}{8} + \\frac{\\left(a^{\\dagger}_{2}\\right)^{2} a_{2}^{2}}{8} + \\frac{\\left(a^{\\dagger}_{2}\\right)^{3} a_{2}}{8} + \\frac{\\left(a^{\\dagger}_{2}\\right)^{4}}{8} + \\frac{38613965 a_{0}}{54608393} - \\frac{131836323 a_{0} \\chi^{\\dagger}_{0} \\chi_{0}}{93222358} + \\frac{5 a_{0} a^{\\dagger}_{0}}{16} + \\frac{3998607 a_{0} a^{\\dagger}_{0} a^{\\dagger}_{1}}{45239074} + \\frac{a_{0} a^{\\dagger}_{0} a_{0} a^{\\dagger}_{0}}{8} + \\frac{a_{0} a^{\\dagger}_{0} a_{0}^{2}}{8} + \\frac{3998607 a_{0} a^{\\dagger}_{0} a_{1}}{45239074} + \\frac{a_{0} \\left(a^{\\dagger}_{0}\\right)^{2} a_{0}}{8} + \\frac{a_{0} \\left(a^{\\dagger}_{0}\\right)^{3}}{8} - \\frac{3998607 a_{0} a^{\\dagger}_{1} a_{1}}{45239074} - \\frac{3998607 a_{0} \\left(a^{\\dagger}_{1}\\right)^{2}}{45239074} - \\frac{a_{0} a^{\\dagger}_{2}}{16} - \\frac{3998607 a_{0} a_{1} a^{\\dagger}_{1}}{45239074} - \\frac{3998607 a_{0} a_{1}^{2}}{45239074} - \\frac{a_{0} a_{2}}{16} - \\frac{3 a_{0}^{2}}{16} + \\frac{a_{0}^{2} a^{\\dagger}_{0} a_{0}}{8} + \\frac{a_{0}^{2} \\left(a^{\\dagger}_{0}\\right)^{2}}{8} + \\frac{3998607 a_{0}^{2} a^{\\dagger}_{1}}{45239074} + \\frac{3998607 a_{0}^{2} a_{1}}{45239074} + \\frac{a_{0}^{3} a^{\\dagger}_{0}}{8} + \\frac{a_{0}^{4}}{8} - \\frac{38613965 a_{1}}{54608393} + \\frac{131836323 a_{1} \\chi^{\\dagger}_{1} \\chi_{1}}{93222358} + \\frac{3998607 a_{1} a^{\\dagger}_{0} a_{0}}{45239074} + \\frac{3998607 a_{1} \\left(a^{\\dagger}_{0}\\right)^{2}}{45239074} + \\frac{3 a_{1} a^{\\dagger}_{1}}{8} - \\frac{3998607 a_{1} a^{\\dagger}_{1} a^{\\dagger}_{0}}{45239074} + \\frac{3998607 a_{1} a^{\\dagger}_{1} a^{\\dagger}_{2}}{45239074} - \\frac{3998607 a_{1} a^{\\dagger}_{1} a_{0}}{45239074} + \\frac{a_{1} a^{\\dagger}_{1} a_{1} a^{\\dagger}_{1}}{8} + \\frac{a_{1} a^{\\dagger}_{1} a_{1}^{2}}{8} + \\frac{3998607 a_{1} a^{\\dagger}_{1} a_{2}}{45239074} + \\frac{a_{1} \\left(a^{\\dagger}_{1}\\right)^{2} a_{1}}{8} + \\frac{a_{1} \\left(a^{\\dagger}_{1}\\right)^{3}}{8} - \\frac{3998607 a_{1} a^{\\dagger}_{2} a_{2}}{45239074} - \\frac{3998607 a_{1} \\left(a^{\\dagger}_{2}\\right)^{2}}{45239074} + \\frac{3998607 a_{1} a_{0} a^{\\dagger}_{0}}{45239074} + \\frac{3998607 a_{1} a_{0}^{2}}{45239074} - \\frac{3998607 a_{1} a_{2} a^{\\dagger}_{2}}{45239074} - \\frac{3998607 a_{1} a_{2}^{2}}{45239074} - \\frac{a_{1}^{2}}{8} - \\frac{3998607 a_{1}^{2} a^{\\dagger}_{0}}{45239074} + \\frac{a_{1}^{2} a^{\\dagger}_{1} a_{1}}{8} + \\frac{a_{1}^{2} \\left(a^{\\dagger}_{1}\\right)^{2}}{8} + \\frac{3998607 a_{1}^{2} a^{\\dagger}_{2}}{45239074} - \\frac{3998607 a_{1}^{2} a_{0}}{45239074} + \\frac{3998607 a_{1}^{2} a_{2}}{45239074} + \\frac{a_{1}^{3} a^{\\dagger}_{1}}{8} + \\frac{a_{1}^{4}}{8} + \\frac{38613965 a_{2}}{54608393} - \\frac{131836323 a_{2} \\chi^{\\dagger}_{2} \\chi_{2}}{93222358} - \\frac{a_{2} a^{\\dagger}_{0}}{16} + \\frac{3998607 a_{2} a^{\\dagger}_{1} a_{1}}{45239074} + \\frac{3998607 a_{2} \\left(a^{\\dagger}_{1}\\right)^{2}}{45239074} + \\frac{5 a_{2} a^{\\dagger}_{2}}{16} - \\frac{3998607 a_{2} a^{\\dagger}_{2} a^{\\dagger}_{1}}{45239074} - \\frac{3998607 a_{2} a^{\\dagger}_{2} a_{1}}{45239074} + \\frac{a_{2} a^{\\dagger}_{2} a_{2} a^{\\dagger}_{2}}{8} + \\frac{a_{2} a^{\\dagger}_{2} a_{2}^{2}}{8} + \\frac{a_{2} \\left(a^{\\dagger}_{2}\\right)^{2} a_{2}}{8} + \\frac{a_{2} \\left(a^{\\dagger}_{2}\\right)^{3}}{8} - \\frac{a_{2} a_{0}}{16} + \\frac{3998607 a_{2} a_{1} a^{\\dagger}_{1}}{45239074} + \\frac{3998607 a_{2} a_{1}^{2}}{45239074} - \\frac{3 a_{2}^{2}}{16} - \\frac{3998607 a_{2}^{2} a^{\\dagger}_{1}}{45239074} + \\frac{a_{2}^{2} a^{\\dagger}_{2} a_{2}}{8} + \\frac{a_{2}^{2} \\left(a^{\\dagger}_{2}\\right)^{2}}{8} - \\frac{3998607 a_{2}^{2} a_{1}}{45239074} + \\frac{a_{2}^{3} a^{\\dagger}_{2}}{8} + \\frac{a_{2}^{4}}{8}$"
      ],
      "text/plain": [
       "-\\chi^{\\dagger}_{0}*\\chi_{1}/2 - \\chi^{\\dagger}_{1}*\\chi_{0}/2 - \\chi^{\\dagger}_{1}*\\chi_{2}/2 - \\chi^{\\dagger}_{2}*\\chi_{1}/2 + 38613965*a^{\\dagger}_{0}/54608393 - 131836323*a^{\\dagger}_{0}*\\chi^{\\dagger}_{0}*\\chi_{0}/93222358 - 3998607*a^{\\dagger}_{0}*a^{\\dagger}_{1}*a_{1}/45239074 - 3998607*a^{\\dagger}_{0}*a^{\\dagger}_{1}**2/45239074 - a^{\\dagger}_{0}*a^{\\dagger}_{2}/16 + 5*a^{\\dagger}_{0}*a_{0}/16 + a^{\\dagger}_{0}*a_{0}*a^{\\dagger}_{0}*a_{0}/8 + a^{\\dagger}_{0}*a_{0}*a^{\\dagger}_{0}**2/8 + 3998607*a^{\\dagger}_{0}*a_{0}*a^{\\dagger}_{1}/45239074 + 3998607*a^{\\dagger}_{0}*a_{0}*a_{1}/45239074 + a^{\\dagger}_{0}*a_{0}**2*a^{\\dagger}_{0}/8 + a^{\\dagger}_{0}*a_{0}**3/8 - 3998607*a^{\\dagger}_{0}*a_{1}*a^{\\dagger}_{1}/45239074 - 3998607*a^{\\dagger}_{0}*a_{1}**2/45239074 - a^{\\dagger}_{0}*a_{2}/16 - 3*a^{\\dagger}_{0}**2/16 + 3998607*a^{\\dagger}_{0}**2*a^{\\dagger}_{1}/45239074 + a^{\\dagger}_{0}**2*a_{0}*a^{\\dagger}_{0}/8 + a^{\\dagger}_{0}**2*a_{0}**2/8 + 3998607*a^{\\dagger}_{0}**2*a_{1}/45239074 + a^{\\dagger}_{0}**3*a_{0}/8 + a^{\\dagger}_{0}**4/8 - 38613965*a^{\\dagger}_{1}/54608393 + 131836323*a^{\\dagger}_{1}*\\chi^{\\dagger}_{1}*\\chi_{1}/93222358 + 3998607*a^{\\dagger}_{1}*a^{\\dagger}_{0}*a_{0}/45239074 + 3998607*a^{\\dagger}_{1}*a^{\\dagger}_{0}**2/45239074 - 3998607*a^{\\dagger}_{1}*a^{\\dagger}_{2}*a_{2}/45239074 - 3998607*a^{\\dagger}_{1}*a^{\\dagger}_{2}**2/45239074 + 3998607*a^{\\dagger}_{1}*a_{0}*a^{\\dagger}_{0}/45239074 + 3998607*a^{\\dagger}_{1}*a_{0}**2/45239074 + 3*a^{\\dagger}_{1}*a_{1}/8 - 3998607*a^{\\dagger}_{1}*a_{1}*a^{\\dagger}_{0}/45239074 + a^{\\dagger}_{1}*a_{1}*a^{\\dagger}_{1}*a_{1}/8 + a^{\\dagger}_{1}*a_{1}*a^{\\dagger}_{1}**2/8 + 3998607*a^{\\dagger}_{1}*a_{1}*a^{\\dagger}_{2}/45239074 - 3998607*a^{\\dagger}_{1}*a_{1}*a_{0}/45239074 + 3998607*a^{\\dagger}_{1}*a_{1}*a_{2}/45239074 + a^{\\dagger}_{1}*a_{1}**2*a^{\\dagger}_{1}/8 + a^{\\dagger}_{1}*a_{1}**3/8 - 3998607*a^{\\dagger}_{1}*a_{2}*a^{\\dagger}_{2}/45239074 - 3998607*a^{\\dagger}_{1}*a_{2}**2/45239074 - a^{\\dagger}_{1}**2/8 - 3998607*a^{\\dagger}_{1}**2*a^{\\dagger}_{0}/45239074 + 3998607*a^{\\dagger}_{1}**2*a^{\\dagger}_{2}/45239074 - 3998607*a^{\\dagger}_{1}**2*a_{0}/45239074 + a^{\\dagger}_{1}**2*a_{1}*a^{\\dagger}_{1}/8 + a^{\\dagger}_{1}**2*a_{1}**2/8 + 3998607*a^{\\dagger}_{1}**2*a_{2}/45239074 + a^{\\dagger}_{1}**3*a_{1}/8 + a^{\\dagger}_{1}**4/8 + 38613965*a^{\\dagger}_{2}/54608393 - 131836323*a^{\\dagger}_{2}*\\chi^{\\dagger}_{2}*\\chi_{2}/93222358 - a^{\\dagger}_{2}*a^{\\dagger}_{0}/16 + 3998607*a^{\\dagger}_{2}*a^{\\dagger}_{1}*a_{1}/45239074 + 3998607*a^{\\dagger}_{2}*a^{\\dagger}_{1}**2/45239074 - a^{\\dagger}_{2}*a_{0}/16 + 3998607*a^{\\dagger}_{2}*a_{1}*a^{\\dagger}_{1}/45239074 + 3998607*a^{\\dagger}_{2}*a_{1}**2/45239074 + 5*a^{\\dagger}_{2}*a_{2}/16 - 3998607*a^{\\dagger}_{2}*a_{2}*a^{\\dagger}_{1}/45239074 + a^{\\dagger}_{2}*a_{2}*a^{\\dagger}_{2}*a_{2}/8 + a^{\\dagger}_{2}*a_{2}*a^{\\dagger}_{2}**2/8 - 3998607*a^{\\dagger}_{2}*a_{2}*a_{1}/45239074 + a^{\\dagger}_{2}*a_{2}**2*a^{\\dagger}_{2}/8 + a^{\\dagger}_{2}*a_{2}**3/8 - 3*a^{\\dagger}_{2}**2/16 - 3998607*a^{\\dagger}_{2}**2*a^{\\dagger}_{1}/45239074 - 3998607*a^{\\dagger}_{2}**2*a_{1}/45239074 + a^{\\dagger}_{2}**2*a_{2}*a^{\\dagger}_{2}/8 + a^{\\dagger}_{2}**2*a_{2}**2/8 + a^{\\dagger}_{2}**3*a_{2}/8 + a^{\\dagger}_{2}**4/8 + 38613965*a_{0}/54608393 - 131836323*a_{0}*\\chi^{\\dagger}_{0}*\\chi_{0}/93222358 + 5*a_{0}*a^{\\dagger}_{0}/16 + 3998607*a_{0}*a^{\\dagger}_{0}*a^{\\dagger}_{1}/45239074 + a_{0}*a^{\\dagger}_{0}*a_{0}*a^{\\dagger}_{0}/8 + a_{0}*a^{\\dagger}_{0}*a_{0}**2/8 + 3998607*a_{0}*a^{\\dagger}_{0}*a_{1}/45239074 + a_{0}*a^{\\dagger}_{0}**2*a_{0}/8 + a_{0}*a^{\\dagger}_{0}**3/8 - 3998607*a_{0}*a^{\\dagger}_{1}*a_{1}/45239074 - 3998607*a_{0}*a^{\\dagger}_{1}**2/45239074 - a_{0}*a^{\\dagger}_{2}/16 - 3998607*a_{0}*a_{1}*a^{\\dagger}_{1}/45239074 - 3998607*a_{0}*a_{1}**2/45239074 - a_{0}*a_{2}/16 - 3*a_{0}**2/16 + a_{0}**2*a^{\\dagger}_{0}*a_{0}/8 + a_{0}**2*a^{\\dagger}_{0}**2/8 + 3998607*a_{0}**2*a^{\\dagger}_{1}/45239074 + 3998607*a_{0}**2*a_{1}/45239074 + a_{0}**3*a^{\\dagger}_{0}/8 + a_{0}**4/8 - 38613965*a_{1}/54608393 + 131836323*a_{1}*\\chi^{\\dagger}_{1}*\\chi_{1}/93222358 + 3998607*a_{1}*a^{\\dagger}_{0}*a_{0}/45239074 + 3998607*a_{1}*a^{\\dagger}_{0}**2/45239074 + 3*a_{1}*a^{\\dagger}_{1}/8 - 3998607*a_{1}*a^{\\dagger}_{1}*a^{\\dagger}_{0}/45239074 + 3998607*a_{1}*a^{\\dagger}_{1}*a^{\\dagger}_{2}/45239074 - 3998607*a_{1}*a^{\\dagger}_{1}*a_{0}/45239074 + a_{1}*a^{\\dagger}_{1}*a_{1}*a^{\\dagger}_{1}/8 + a_{1}*a^{\\dagger}_{1}*a_{1}**2/8 + 3998607*a_{1}*a^{\\dagger}_{1}*a_{2}/45239074 + a_{1}*a^{\\dagger}_{1}**2*a_{1}/8 + a_{1}*a^{\\dagger}_{1}**3/8 - 3998607*a_{1}*a^{\\dagger}_{2}*a_{2}/45239074 - 3998607*a_{1}*a^{\\dagger}_{2}**2/45239074 + 3998607*a_{1}*a_{0}*a^{\\dagger}_{0}/45239074 + 3998607*a_{1}*a_{0}**2/45239074 - 3998607*a_{1}*a_{2}*a^{\\dagger}_{2}/45239074 - 3998607*a_{1}*a_{2}**2/45239074 - a_{1}**2/8 - 3998607*a_{1}**2*a^{\\dagger}_{0}/45239074 + a_{1}**2*a^{\\dagger}_{1}*a_{1}/8 + a_{1}**2*a^{\\dagger}_{1}**2/8 + 3998607*a_{1}**2*a^{\\dagger}_{2}/45239074 - 3998607*a_{1}**2*a_{0}/45239074 + 3998607*a_{1}**2*a_{2}/45239074 + a_{1}**3*a^{\\dagger}_{1}/8 + a_{1}**4/8 + 38613965*a_{2}/54608393 - 131836323*a_{2}*\\chi^{\\dagger}_{2}*\\chi_{2}/93222358 - a_{2}*a^{\\dagger}_{0}/16 + 3998607*a_{2}*a^{\\dagger}_{1}*a_{1}/45239074 + 3998607*a_{2}*a^{\\dagger}_{1}**2/45239074 + 5*a_{2}*a^{\\dagger}_{2}/16 - 3998607*a_{2}*a^{\\dagger}_{2}*a^{\\dagger}_{1}/45239074 - 3998607*a_{2}*a^{\\dagger}_{2}*a_{1}/45239074 + a_{2}*a^{\\dagger}_{2}*a_{2}*a^{\\dagger}_{2}/8 + a_{2}*a^{\\dagger}_{2}*a_{2}**2/8 + a_{2}*a^{\\dagger}_{2}**2*a_{2}/8 + a_{2}*a^{\\dagger}_{2}**3/8 - a_{2}*a_{0}/16 + 3998607*a_{2}*a_{1}*a^{\\dagger}_{1}/45239074 + 3998607*a_{2}*a_{1}**2/45239074 - 3*a_{2}**2/16 - 3998607*a_{2}**2*a^{\\dagger}_{1}/45239074 + a_{2}**2*a^{\\dagger}_{2}*a_{2}/8 + a_{2}**2*a^{\\dagger}_{2}**2/8 - 3998607*a_{2}**2*a_{1}/45239074 + a_{2}**3*a^{\\dagger}_{2}/8 + a_{2}**4/8"
      ]
     },
     "execution_count": 8,
     "metadata": {},
     "output_type": "execute_result"
    }
   ],
   "source": [
    "m=1\n",
    "\n",
    "HOdofSubs = {}\n",
    "#offset because of BC\n",
    "for i in range(1,N+1):\n",
    "    HOdofSubs[qs[i]] = 0.5*sp.sqrt(2/m)*(aops[i] + adags[i])\n",
    "    HOdofSubs[ps[i]] = complex(0,1)*sp.sqrt(2*m)*(adags[i] - aops[i])/2 \n",
    "\n",
    "hoHam=sp.expand(ham.subs(HOdofSubs))\n",
    "hoHam=sp.nsimplify(hoHam,tolerance=1e-8)\n",
    "hoHam"
   ]
  },
  {
   "cell_type": "code",
   "execution_count": 9,
   "metadata": {},
   "outputs": [
    {
     "name": "stdout",
     "output_type": "stream",
     "text": [
      "toHam timer took: 1.9232 seconds\n",
      "evals timer took: 0.0075 seconds\n",
      "Lambda =  2\n",
      "[-0.3560746 +1.68880536e-08j -0.16421396-9.14995579e-10j\n",
      " -0.09916272+2.92669711e-08j -0.35607487-1.12813225e-08j\n",
      " -0.16421402+1.26720678e-09j -0.09916236+1.48027113e-09j\n",
      "  0.43934074+3.07767323e-08j  0.37597018-4.17269908e-09j\n",
      "  0.375969  -4.25086277e-09j  0.43934104-1.34528326e-08j]\n",
      "\n",
      "toHam timer took: 4.1352 seconds\n",
      "evals timer took: 0.0825 seconds\n",
      "Lambda =  3\n",
      "[-0.27977347-2.8740306e-08j -0.27977353-2.3197693e-08j\n",
      "  0.13879368-5.4994373e-08j -0.09792503-9.5354089e-08j\n",
      " -0.0979244 +1.8891114e-08j  0.13879342+5.4756143e-08j\n",
      "  0.6752046 +6.9752195e-09j  0.67520255+1.5105321e-09j\n",
      "  0.97261995-2.1805079e-08j  0.9726163 -1.8102810e-08j]\n",
      "\n",
      "toHam timer took: 7.1749 seconds\n",
      "evals timer took: 0.2860 seconds\n",
      "Lambda =  4\n",
      "[0.4356047 +4.84287739e-08j 0.43560636+2.19224603e-08j\n",
      " 0.8214311 +2.79177357e-08j 0.8608357 -1.18647350e-08j\n",
      " 1.0311463 +1.77252559e-08j 0.8214287 +1.05812195e-08j\n",
      " 0.86083096+7.53131069e-09j 1.0311421 -2.72919607e-08j\n",
      " 1.5549234 +5.39912826e-08j 1.5549142 +6.40566782e-08j]\n",
      "\n",
      "toHam timer took: 11.9550 seconds\n",
      "evals timer took: 0.1866 seconds\n",
      "Lambda =  5\n",
      "[0.26748562-2.6604567e-08j 0.6275073 +4.4733497e-09j\n",
      " 0.63938177-5.3873350e-09j 0.26749003+2.7223296e-08j\n",
      " 1.1007901 +1.1732233e-07j 0.6275041 +8.5746237e-08j\n",
      " 0.63937646-8.9754323e-08j 1.1007824 -1.4957582e-08j\n",
      " 1.5207884 -6.2775998e-09j 1.5207763 +1.7662771e-08j]\n",
      "\n",
      "toHam timer took: 19.8349 seconds\n",
      "evals timer took: 0.1015 seconds\n",
      "Lambda =  6\n",
      "[0.51553595+2.4317515e-08j 0.5155497 +4.7261111e-08j\n",
      " 0.8993819 -6.6843072e-08j 1.6209688 +3.8804565e-08j\n",
      " 0.8993851 -1.8280746e-08j 0.9164825 +6.8418252e-08j\n",
      " 0.9164824 -1.2335249e-08j 1.3537359 -5.5445899e-08j\n",
      " 1.353726  +7.2601935e-08j 1.6209505 +4.5504056e-08j]\n",
      "\n",
      "toHam timer took: 34.4958 seconds\n",
      "evals timer took: 0.1816 seconds\n",
      "Lambda =  7\n",
      "[0.47350654-2.98023224e-07j 0.47350788-1.12631824e-07j\n",
      " 0.905059  +2.95258644e-08j 0.9072427 +1.43384558e-08j\n",
      " 1.2754422 -1.92545031e-07j 1.8864727 -3.90741945e-08j\n",
      " 1.2754396 -1.07862810e-07j 0.9050576 +5.38715454e-08j\n",
      " 0.9072399 -6.50820375e-09j 1.8864462 +2.61876529e-08j]\n",
      "\n",
      "toHam timer took: 52.6677 seconds\n",
      "evals timer took: 0.2678 seconds\n",
      "Lambda =  8\n",
      "[0.49253726+6.10402822e-08j 0.4925472 +6.12105211e-08j\n",
      " 1.3080446 +4.80512448e-08j 1.3080373 -1.01156566e-07j\n",
      " 0.8993015 -2.84858981e-09j 0.9001472 +4.91085785e-08j\n",
      " 0.89929676+2.05514539e-07j 0.900136  +1.49975676e-08j\n",
      " 1.7923663 +6.53512089e-08j 1.7923267 +3.64811754e-08j]\n",
      "\n",
      "toHam timer took: 91.8615 seconds\n",
      "evals timer took: 0.5348 seconds\n",
      "Lambda =  9\n",
      "[0.5120465 -1.3255465e-07j 0.51204735+7.7089872e-09j\n",
      " 1.8670822 -5.6455072e-08j 0.93823034-2.5852376e-09j\n",
      " 1.3269057 -1.3876929e-07j 1.3268937 -4.9306891e-08j\n",
      " 0.93820804-2.0275895e-07j 0.9402764 +2.8373462e-08j\n",
      " 0.9402642 +1.3414243e-07j 1.8670429 +4.2174322e-09j]\n",
      "\n",
      "toHam timer took: 146.3592 seconds\n",
      "evals timer took: 2.2873 seconds\n",
      "Lambda =  10\n",
      "[0.50448924-1.0058284e-07j 0.50449795+4.3981800e-07j\n",
      " 1.3145498 +7.4271078e-08j 1.8664585 +1.7103092e-07j\n",
      " 1.314545  +2.6065848e-08j 0.9265746 -2.6444681e-07j\n",
      " 0.9265694 -3.3085234e-07j 0.92716026+7.5172284e-07j\n",
      " 0.9271439 +4.1170409e-08j 1.8664199 +7.7940933e-07j]\n",
      "\n"
     ]
    }
   ],
   "source": [
    "e0raw=[]\n",
    "\n",
    "for cutoff in [2,3,4,5,6,7,8,9,10]:\n",
    "    t=Timer('toHam')\n",
    "    t.start()\n",
    "    hamMat=convert_to_matrix(hoHam,cutoff,N,aops,adags,xs,xdags)\n",
    "    t.stop()\n",
    "    \n",
    "    t=Timer('evals')\n",
    "    t.start()\n",
    "    ens=scipy.sparse.linalg.eigs(hamMat,k=10,which='SM')[0]\n",
    "    t.stop()\n",
    "    e0raw.append(ens[0])\n",
    "    \n",
    "    print(\"Lambda = \",cutoff)\n",
    "    print(ens)\n",
    "    print()"
   ]
  },
  {
   "cell_type": "code",
   "execution_count": 10,
   "metadata": {},
   "outputs": [
    {
     "data": {
      "text/plain": [
       "[(-0.3560746+1.6888054e-08j),\n",
       " (-0.27977347-2.8740306e-08j),\n",
       " (0.4356047+4.8428774e-08j),\n",
       " (0.26748562-2.6604567e-08j),\n",
       " (0.51553595+2.4317515e-08j),\n",
       " (0.47350654-2.9802322e-07j),\n",
       " (0.49253726+6.104028e-08j),\n",
       " (0.5120465-1.3255465e-07j),\n",
       " (0.50448924-1.0058284e-07j)]"
      ]
     },
     "execution_count": 10,
     "metadata": {},
     "output_type": "execute_result"
    }
   ],
   "source": [
    "e0raw"
   ]
  },
  {
   "cell_type": "code",
   "execution_count": 19,
   "metadata": {},
   "outputs": [],
   "source": [
    "e0raw=[(1.2297138+1.1175871e-08j),\n",
    " (2.6966112+1.7292123e-08j),\n",
    " (2.5852015-4.8703043e-08j),\n",
    " (2.9539206+9.575531e-08j),\n",
    " (2.950822-9.2003724e-08j),\n",
    " (2.9405234-1.7903011e-07j),\n",
    " (2.9757748-2.7334588e-07j),\n",
    " (2.961128+1.0036922e-07j),\n",
    " (2.9692364-6.4744404e-07j)]"
   ]
  },
  {
   "cell_type": "code",
   "execution_count": 27,
   "metadata": {},
   "outputs": [
    {
     "name": "stderr",
     "output_type": "stream",
     "text": [
      "/tmp/ipykernel_35545/3226250726.py:16: UserWarning: Attempted to set non-positive bottom ylim on a log-scaled axis.\n",
      "Invalid limit will be ignored.\n",
      "  plt.ylim(0,3.5)\n"
     ]
    },
    {
     "data": {
      "image/png": "[encoded data removed]",
      "text/plain": [
       "<Figure size 720x576 with 1 Axes>"
      ]
     },
     "metadata": {
      "needs_background": "light"
     },
     "output_type": "display_data"
    }
   ],
   "source": [
    "import matplotlib.pyplot as plt\n",
    "\n",
    "import matplotlib \n",
    "#matplotlib.use(\"Agg\")\n",
    "plt.style.use(\"paper.mplstyle\")\n",
    "\n",
    "fig, ax = plt.subplots()\n",
    "\n",
    "plt.scatter([x for x in range(2,11)],[abs(en.real) for en in e0raw], c='black')\n",
    "plt.yscale('log')\n",
    "\n",
    "plt.xlabel('$\\\\Lambda$')\n",
    "plt.ylabel('$|E|$')\n",
    "\n",
    "plt.xlim(1.5,10.5)\n",
    "plt.ylim(0,3.5)\n",
    "#plt.yscale('log')\n",
    "\n",
    "ax.text(0.25, 0.07, 'PRELIMINARY', transform=ax.transAxes,\n",
    "        fontsize=40, color='red', alpha=0.5,\n",
    "        ha='center', va='center', rotation='0')\n",
    "\n",
    "plt.savefig('PLOTS/WZ_3site_vq2_cp1.pdf',bbox_inches='tight')[(1.2297138+1.1175871e-08j),\n",
    " (2.6966112+1.7292123e-08j),\n",
    " (2.5852015-4.8703043e-08j),\n",
    " (2.9539206+9.575531e-08j),\n",
    " (2.950822-9.2003724e-08j),\n",
    " (2.9405234-1.7903011e-07j),\n",
    " (2.9757748-2.7334588e-07j),\n",
    " (2.961128+1.0036922e-07j),\n",
    " (2.9692364-6.4744404e-07j)]"
   ]
  },
  {
   "cell_type": "code",
   "execution_count": null,
   "metadata": {},
   "outputs": [],
   "source": []
  }
 ],
 "metadata": {
  "kernelspec": {
   "display_name": "Python 3",
   "language": "python",
   "name": "python3"
  },
  "language_info": {
   "codemirror_mode": {
    "name": "ipython",
    "version": 3
   },
   "file_extension": ".py",
   "mimetype": "text/x-python",
   "name": "python",
   "nbconvert_exporter": "python",
   "pygments_lexer": "ipython3",
   "version": "3.9.1"
  }
 },
 "nbformat": 4,
 "nbformat_minor": 5
}
