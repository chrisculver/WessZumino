{
 "cells": [
  {
   "cell_type": "markdown",
   "metadata": {},
   "source": [
    "# Wess Zumino \n",
    "\n",
    "## N=1 in 1+1\n",
    "\n",
    "The Hamiltonian with a central difference for the derivative is given by \n",
    "\n",
    "\\begin{align}\n",
    "    H=\\sum_n&\\left[ \\frac{p_n^2}{2a} + \\frac{a}{2}\\left(\\frac{\\phi_{n+1}-\\phi_{n-1}}{2a}\\right)^2+\\frac{a}{2}V(\\phi_n)^2\n",
    "            +aV(\\phi_n)\\frac{\\phi_{n+1}-\\phi_{n-1}}{2a} \\right. \\nonumber \\\\\n",
    "            &\\left.+(-1)^nV'(\\phi_n)\\left(\\chi_n^{\\dagger}\\chi_n-\\frac{1}{2}\\right)\n",
    "            +\\frac{1}{2a}\\left(\\chi_n^{\\dagger}\\chi_{n+1}+\\chi_{n+1}^{\\dagger}\\chi_n\\right) \\right],\n",
    "\\end{align}"
   ]
  },
  {
   "cell_type": "code",
   "execution_count": 1,
   "metadata": {},
   "outputs": [],
   "source": [
    "import sympy as sp\n",
    "from ham_to_sparse_matrix import *\n",
    "from constants import *\n",
    "import scipy.sparse.linalg"
   ]
  },
  {
   "cell_type": "code",
   "execution_count": 2,
   "metadata": {},
   "outputs": [],
   "source": [
    "bosonNI=sp.expand( pn**2/(2*aLat) + (aLat/2)*((qnP1-qnM1)/(2*aLat))**2 )\n",
    "bosonI=sp.expand( (aLat/2)*V(qn)**2 + aLat*V(qn)*(qnP1-qnM1)/(4*aLat) + aLat*(qnP1-qnM1)*V(qn)/(4*aLat) )\n",
    "fermionNI=sp.expand( (xdnP1*xn+xdn*xnP1)/(2*aLat) )\n",
    "fermionI=sp.expand( sp.diff(V(qn),qn)*(xdn*xn-(1/2)) )"
   ]
  },
  {
   "cell_type": "code",
   "execution_count": 3,
   "metadata": {},
   "outputs": [
    {
     "data": {
      "text/latex": [
       "$\\displaystyle \\frac{a V^{2}{\\left(q_{n} \\right)}}{2} + \\frac{q_{n+1} V{\\left(q_{n} \\right)}}{4} - \\frac{q_{n-1} V{\\left(q_{n} \\right)}}{4} + \\frac{V{\\left(q_{n} \\right)} q_{n+1}}{4} - \\frac{V{\\left(q_{n} \\right)} q_{n-1}}{4} + \\frac{p_{n}^{2}}{2 a} - \\frac{q_{n+1} q_{n-1}}{8 a} + \\frac{q_{n+1}^{2}}{8 a} - \\frac{q_{n-1} q_{n+1}}{8 a} + \\frac{q_{n-1}^{2}}{8 a}$"
      ],
      "text/plain": [
       "a*V(q_{n})**2/2 + q_{n+1}*V(q_{n})/4 - q_{n-1}*V(q_{n})/4 + V(q_{n})*q_{n+1}/4 - V(q_{n})*q_{n-1}/4 + p_{n}**2/(2*a) - q_{n+1}*q_{n-1}/(8*a) + q_{n+1}**2/(8*a) - q_{n-1}*q_{n+1}/(8*a) + q_{n-1}**2/(8*a)"
      ]
     },
     "execution_count": 3,
     "metadata": {},
     "output_type": "execute_result"
    }
   ],
   "source": [
    "bosonNI+bosonI"
   ]
  },
  {
   "cell_type": "code",
   "execution_count": 4,
   "metadata": {},
   "outputs": [
    {
     "data": {
      "text/latex": [
       "$\\displaystyle - 0.5 \\frac{d}{d q_{n}} V{\\left(q_{n} \\right)} + \\frac{d}{d q_{n}} V{\\left(q_{n} \\right)} \\chi^{\\dagger}_{n} \\chi_{n} + \\frac{\\chi^{\\dagger}_{n+1} \\chi_{n}}{2 a} + \\frac{\\chi^{\\dagger}_{n} \\chi_{n+1}}{2 a}$"
      ],
      "text/plain": [
       "-0.5*Derivative(V(q_{n}), q_{n}) + Derivative(V(q_{n}), q_{n})*\\chi^{\\dagger}_{n}*\\chi_{n} + \\chi^{\\dagger}_{n+1}*\\chi_{n}/(2*a) + \\chi^{\\dagger}_{n}*\\chi_{n+1}/(2*a)"
      ]
     },
     "execution_count": 4,
     "metadata": {},
     "output_type": "execute_result"
    }
   ],
   "source": [
    "fermionNI + fermionI"
   ]
  },
  {
   "cell_type": "code",
   "execution_count": 5,
   "metadata": {},
   "outputs": [],
   "source": [
    "N=3\n",
    "aVal=1\n",
    "\n",
    "# depends on finite-difference method\n",
    "qs=[SiteSymbol('q',str(i)) for i in range(-1,N+1,1)]\n",
    "# maybe make qs a normal site list\n",
    "# and make an extra boundaryQs list for q[-1], q[N]\n",
    "# counting would be normal computer science way for rest of code.\n",
    "\n",
    "ps=[SiteSymbol('p',str(i)) for i in range(-1,N+1,1)] # don't really need extras\n",
    "aops=[SiteSymbol('a',str(i)) for i in range(-1,N+1,1)]\n",
    "adags=[SiteSymbol('a^{\\dagger}',str(i)) for i in range(-1,N+1,1)]\n",
    "xs=[SiteSymbol('\\chi',str(i)) for i in range(-1,N+1,1)]\n",
    "xdags=[SiteSymbol('\\chi^{\\dagger}',str(i)) for i in range(-1,N+1,1)]\n",
    "\n",
    "# note this is exactly hardcoded for this finite difference method.\n",
    "bcType = 'dirichlet'\n",
    "boundaryConditions = {}\n",
    "if bcType == 'periodic':\n",
    "    boundaryConditions = {qs[0]: qs[N], qs[N+1]: qs[1],\n",
    "                          xs[0]: -xs[N], xs[N+1]: -xs[1], \n",
    "                          xdags[0]: -xdags[N],  xdags[N+1]: -xdags[1]\n",
    "                         }\n",
    "    \n",
    "elif bcType == 'dirichlet':\n",
    "    boundaryConditions = { qs[0]: 0, qs[N+1]: 0,\n",
    "                          xs[0]: 0, xs[N+1]: 0,\n",
    "                          xdags[0]: 0, xdags[N+1]:0\n",
    "                         }"
   ]
  },
  {
   "cell_type": "code",
   "execution_count": 6,
   "metadata": {},
   "outputs": [
    {
     "data": {
      "text/latex": [
       "$\\displaystyle \\frac{a V^{2}{\\left(q_{n} \\right)}}{2} + \\frac{q_{n+1} V{\\left(q_{n} \\right)}}{4} - \\frac{q_{n-1} V{\\left(q_{n} \\right)}}{4} + \\frac{V{\\left(q_{n} \\right)} q_{n+1}}{4} - \\frac{V{\\left(q_{n} \\right)} q_{n-1}}{4} - 0.5 \\frac{d}{d q_{n}} V{\\left(q_{n} \\right)} + \\frac{d}{d q_{n}} V{\\left(q_{n} \\right)} \\chi^{\\dagger}_{n} \\chi_{n} + \\frac{\\chi^{\\dagger}_{n+1} \\chi_{n}}{2 a} + \\frac{\\chi^{\\dagger}_{n} \\chi_{n+1}}{2 a} + \\frac{p_{n}^{2}}{2 a} - \\frac{q_{n+1} q_{n-1}}{8 a} + \\frac{q_{n+1}^{2}}{8 a} - \\frac{q_{n-1} q_{n+1}}{8 a} + \\frac{q_{n-1}^{2}}{8 a}$"
      ],
      "text/plain": [
       "a*V(q_{n})**2/2 + q_{n+1}*V(q_{n})/4 - q_{n-1}*V(q_{n})/4 + V(q_{n})*q_{n+1}/4 - V(q_{n})*q_{n-1}/4 - 0.5*Derivative(V(q_{n}), q_{n}) + Derivative(V(q_{n}), q_{n})*\\chi^{\\dagger}_{n}*\\chi_{n} + \\chi^{\\dagger}_{n+1}*\\chi_{n}/(2*a) + \\chi^{\\dagger}_{n}*\\chi_{n+1}/(2*a) + p_{n}**2/(2*a) - q_{n+1}*q_{n-1}/(8*a) + q_{n+1}**2/(8*a) - q_{n-1}*q_{n+1}/(8*a) + q_{n-1}**2/(8*a)"
      ]
     },
     "execution_count": 6,
     "metadata": {},
     "output_type": "execute_result"
    }
   ],
   "source": [
    "totHam=bosonNI+bosonI+fermionNI+fermionI\n",
    "totHam"
   ]
  },
  {
   "cell_type": "code",
   "execution_count": 7,
   "metadata": {},
   "outputs": [
    {
     "data": {
      "text/latex": [
       "$\\displaystyle \\frac{4 \\chi^{\\dagger}_{0} \\chi_{1} + 4 \\chi^{\\dagger}_{1} \\chi_{0} + 4 \\chi^{\\dagger}_{1} \\chi_{2} + 4 \\chi^{\\dagger}_{2} \\chi_{1} + 4 p_{0}^{2} + 4 p_{1}^{2} + 4 p_{2}^{2} - 2 q_{0} q_{1}^{3} - q_{0} q_{2} + 13.0 q_{0}^{2} - 24 q_{0}^{2} \\chi^{\\dagger}_{0} \\chi_{0} + 2 q_{0}^{3} q_{1} + 4 q_{0}^{6} + 2 q_{1} q_{0}^{3} - 2 q_{1} q_{2}^{3} - 10.0 q_{1}^{2} + 24 q_{1}^{2} \\chi^{\\dagger}_{1} \\chi_{1} - 2 q_{1}^{3} q_{0} + 2 q_{1}^{3} q_{2} + 4 q_{1}^{6} - q_{2} q_{0} + 2 q_{2} q_{1}^{3} + 13.0 q_{2}^{2} - 24 q_{2}^{2} \\chi^{\\dagger}_{2} \\chi_{2} - 2 q_{2}^{3} q_{1} + 4 q_{2}^{6}}{8}$"
      ],
      "text/plain": [
       "(4*\\chi^{\\dagger}_{0}*\\chi_{1} + 4*\\chi^{\\dagger}_{1}*\\chi_{0} + 4*\\chi^{\\dagger}_{1}*\\chi_{2} + 4*\\chi^{\\dagger}_{2}*\\chi_{1} + 4*p_{0}**2 + 4*p_{1}**2 + 4*p_{2}**2 - 2*q_{0}*q_{1}**3 - q_{0}*q_{2} + 13.0*q_{0}**2 - 24*q_{0}**2*\\chi^{\\dagger}_{0}*\\chi_{0} + 2*q_{0}**3*q_{1} + 4*q_{0}**6 + 2*q_{1}*q_{0}**3 - 2*q_{1}*q_{2}**3 - 10.0*q_{1}**2 + 24*q_{1}**2*\\chi^{\\dagger}_{1}*\\chi_{1} - 2*q_{1}**3*q_{0} + 2*q_{1}**3*q_{2} + 4*q_{1}**6 - q_{2}*q_{0} + 2*q_{2}*q_{1}**3 + 13.0*q_{2}**2 - 24*q_{2}**2*\\chi^{\\dagger}_{2}*\\chi_{2} - 2*q_{2}**3*q_{1} + 4*q_{2}**6)/8"
      ]
     },
     "execution_count": 7,
     "metadata": {},
     "output_type": "execute_result"
    }
   ],
   "source": [
    "ham=0\n",
    "\n",
    "lam=1\n",
    "\n",
    "for i in range(1,N+1):\n",
    "    ham+=(bosonNI+bosonI+fermionNI).subs({\n",
    "        pn: ps[i],\n",
    "        qn: qs[i], qnP1: qs[i+1], qnM1: qs[i-1],\n",
    "        xn: xs[i], xnP1: xs[i+1],\n",
    "        xdn: xdags[i], xdnP1: xdags[i+1]\n",
    "    }).subs(boundaryConditions)\n",
    "    \n",
    "# ham.subs(boundaryConditions).doit() # this doesn't work?\n",
    "\n",
    "\n",
    "def potential(n):\n",
    "    return lam*qs[n]*qs[n]*qs[n]\n",
    "\n",
    "potentialSubs={}\n",
    "for n in range(1,N+1):\n",
    "    potentialSubs[V(qs[n])]=potential(n)\n",
    "\n",
    "ham=sp.simplify(ham.subs(potentialSubs).subs(aLat,aVal))\n",
    "\n",
    "for i in range(1,N+1):\n",
    "    if i%2==0:\n",
    "        ham+=sp.simplify(fermionI.subs({qn: qs[i], xn: xs[i], xdn: xdags[i]}).subs(potentialSubs))\n",
    "    else:\n",
    "        ham-=sp.simplify(fermionI.subs({qn: qs[i], xn: xs[i], xdn: xdags[i]}).subs(potentialSubs))\n",
    "ham=sp.simplify(ham.subs(aLat,aVal))\n",
    "ham"
   ]
  },
  {
   "cell_type": "code",
   "execution_count": 8,
   "metadata": {},
   "outputs": [
    {
     "data": {
      "text/latex": [
       "$\\displaystyle \\frac{\\chi^{\\dagger}_{0} \\chi_{1}}{2} + \\frac{\\chi^{\\dagger}_{1} \\chi_{0}}{2} + \\frac{\\chi^{\\dagger}_{1} \\chi_{2}}{2} + \\frac{\\chi^{\\dagger}_{2} \\chi_{1}}{2} - \\frac{a^{\\dagger}_{0} a^{\\dagger}_{1} a_{1} a^{\\dagger}_{1}}{16} - \\frac{a^{\\dagger}_{0} a^{\\dagger}_{1} a_{1}^{2}}{16} - \\frac{a^{\\dagger}_{0} \\left(a^{\\dagger}_{1}\\right)^{2} a_{1}}{16} - \\frac{a^{\\dagger}_{0} \\left(a^{\\dagger}_{1}\\right)^{3}}{16} - \\frac{a^{\\dagger}_{0} a^{\\dagger}_{2}}{16} + \\frac{17 a^{\\dagger}_{0} a_{0}}{16} - \\frac{3 a^{\\dagger}_{0} a_{0} \\chi^{\\dagger}_{0} \\chi_{0}}{2} + \\frac{a^{\\dagger}_{0} a_{0} a^{\\dagger}_{0} a^{\\dagger}_{1}}{16} + \\frac{a^{\\dagger}_{0} a_{0} a^{\\dagger}_{0} a_{0} a^{\\dagger}_{0} a_{0}}{16} + \\frac{a^{\\dagger}_{0} a_{0} a^{\\dagger}_{0} a_{0} \\left(a^{\\dagger}_{0}\\right)^{2}}{16} + \\frac{a^{\\dagger}_{0} a_{0} a^{\\dagger}_{0} a_{0}^{2} a^{\\dagger}_{0}}{16} + \\frac{a^{\\dagger}_{0} a_{0} a^{\\dagger}_{0} a_{0}^{3}}{16} + \\frac{a^{\\dagger}_{0} a_{0} a^{\\dagger}_{0} a_{1}}{16} + \\frac{a^{\\dagger}_{0} a_{0} \\left(a^{\\dagger}_{0}\\right)^{2} a_{0} a^{\\dagger}_{0}}{16} + \\frac{a^{\\dagger}_{0} a_{0} \\left(a^{\\dagger}_{0}\\right)^{2} a_{0}^{2}}{16} + \\frac{a^{\\dagger}_{0} a_{0} \\left(a^{\\dagger}_{0}\\right)^{3} a_{0}}{16} + \\frac{a^{\\dagger}_{0} a_{0} \\left(a^{\\dagger}_{0}\\right)^{4}}{16} + \\frac{a^{\\dagger}_{0} a_{0}^{2} a^{\\dagger}_{0} a_{0} a^{\\dagger}_{0}}{16} + \\frac{a^{\\dagger}_{0} a_{0}^{2} a^{\\dagger}_{0} a_{0}^{2}}{16} + \\frac{a^{\\dagger}_{0} a_{0}^{2} \\left(a^{\\dagger}_{0}\\right)^{2} a_{0}}{16} + \\frac{a^{\\dagger}_{0} a_{0}^{2} \\left(a^{\\dagger}_{0}\\right)^{3}}{16} + \\frac{a^{\\dagger}_{0} a_{0}^{2} a^{\\dagger}_{1}}{16} + \\frac{a^{\\dagger}_{0} a_{0}^{2} a_{1}}{16} + \\frac{a^{\\dagger}_{0} a_{0}^{3} a^{\\dagger}_{0} a_{0}}{16} + \\frac{a^{\\dagger}_{0} a_{0}^{3} \\left(a^{\\dagger}_{0}\\right)^{2}}{16} + \\frac{a^{\\dagger}_{0} a_{0}^{4} a^{\\dagger}_{0}}{16} + \\frac{a^{\\dagger}_{0} a_{0}^{5}}{16} - \\frac{a^{\\dagger}_{0} a_{1} a^{\\dagger}_{1} a_{1}}{16} - \\frac{a^{\\dagger}_{0} a_{1} \\left(a^{\\dagger}_{1}\\right)^{2}}{16} - \\frac{a^{\\dagger}_{0} a_{1}^{2} a^{\\dagger}_{1}}{16} - \\frac{a^{\\dagger}_{0} a_{1}^{3}}{16} - \\frac{a^{\\dagger}_{0} a_{2}}{16} + \\frac{9 \\left(a^{\\dagger}_{0}\\right)^{2}}{16} - \\frac{3 \\left(a^{\\dagger}_{0}\\right)^{2} \\chi^{\\dagger}_{0} \\chi_{0}}{2} + \\frac{\\left(a^{\\dagger}_{0}\\right)^{2} a_{0} a^{\\dagger}_{0} a_{0} a^{\\dagger}_{0}}{16} + \\frac{\\left(a^{\\dagger}_{0}\\right)^{2} a_{0} a^{\\dagger}_{0} a_{0}^{2}}{16} + \\frac{\\left(a^{\\dagger}_{0}\\right)^{2} a_{0} \\left(a^{\\dagger}_{0}\\right)^{2} a_{0}}{16} + \\frac{\\left(a^{\\dagger}_{0}\\right)^{2} a_{0} \\left(a^{\\dagger}_{0}\\right)^{3}}{16} + \\frac{\\left(a^{\\dagger}_{0}\\right)^{2} a_{0} a^{\\dagger}_{1}}{16} + \\frac{\\left(a^{\\dagger}_{0}\\right)^{2} a_{0} a_{1}}{16} + \\frac{\\left(a^{\\dagger}_{0}\\right)^{2} a_{0}^{2} a^{\\dagger}_{0} a_{0}}{16} + \\frac{\\left(a^{\\dagger}_{0}\\right)^{2} a_{0}^{2} \\left(a^{\\dagger}_{0}\\right)^{2}}{16} + \\frac{\\left(a^{\\dagger}_{0}\\right)^{2} a_{0}^{3} a^{\\dagger}_{0}}{16} + \\frac{\\left(a^{\\dagger}_{0}\\right)^{2} a_{0}^{4}}{16} + \\frac{\\left(a^{\\dagger}_{0}\\right)^{3} a^{\\dagger}_{1}}{16} + \\frac{\\left(a^{\\dagger}_{0}\\right)^{3} a_{0} a^{\\dagger}_{0} a_{0}}{16} + \\frac{\\left(a^{\\dagger}_{0}\\right)^{3} a_{0} \\left(a^{\\dagger}_{0}\\right)^{2}}{16} + \\frac{\\left(a^{\\dagger}_{0}\\right)^{3} a_{0}^{2} a^{\\dagger}_{0}}{16} + \\frac{\\left(a^{\\dagger}_{0}\\right)^{3} a_{0}^{3}}{16} + \\frac{\\left(a^{\\dagger}_{0}\\right)^{3} a_{1}}{16} + \\frac{\\left(a^{\\dagger}_{0}\\right)^{4} a_{0} a^{\\dagger}_{0}}{16} + \\frac{\\left(a^{\\dagger}_{0}\\right)^{4} a_{0}^{2}}{16} + \\frac{\\left(a^{\\dagger}_{0}\\right)^{5} a_{0}}{16} + \\frac{\\left(a^{\\dagger}_{0}\\right)^{6}}{16} + \\frac{a^{\\dagger}_{1} a^{\\dagger}_{0} a_{0} a^{\\dagger}_{0}}{16} + \\frac{a^{\\dagger}_{1} a^{\\dagger}_{0} a_{0}^{2}}{16} + \\frac{a^{\\dagger}_{1} \\left(a^{\\dagger}_{0}\\right)^{2} a_{0}}{16} + \\frac{a^{\\dagger}_{1} \\left(a^{\\dagger}_{0}\\right)^{3}}{16} - \\frac{a^{\\dagger}_{1} a^{\\dagger}_{2} a_{2} a^{\\dagger}_{2}}{16} - \\frac{a^{\\dagger}_{1} a^{\\dagger}_{2} a_{2}^{2}}{16} - \\frac{a^{\\dagger}_{1} \\left(a^{\\dagger}_{2}\\right)^{2} a_{2}}{16} - \\frac{a^{\\dagger}_{1} \\left(a^{\\dagger}_{2}\\right)^{3}}{16} + \\frac{a^{\\dagger}_{1} a_{0} a^{\\dagger}_{0} a_{0}}{16} + \\frac{a^{\\dagger}_{1} a_{0} \\left(a^{\\dagger}_{0}\\right)^{2}}{16} + \\frac{a^{\\dagger}_{1} a_{0}^{2} a^{\\dagger}_{0}}{16} + \\frac{a^{\\dagger}_{1} a_{0}^{3}}{16} - \\frac{3 a^{\\dagger}_{1} a_{1}}{8} + \\frac{3 a^{\\dagger}_{1} a_{1} \\chi^{\\dagger}_{1} \\chi_{1}}{2} - \\frac{a^{\\dagger}_{1} a_{1} a^{\\dagger}_{1} a^{\\dagger}_{0}}{16} + \\frac{a^{\\dagger}_{1} a_{1} a^{\\dagger}_{1} a^{\\dagger}_{2}}{16} - \\frac{a^{\\dagger}_{1} a_{1} a^{\\dagger}_{1} a_{0}}{16} + \\frac{a^{\\dagger}_{1} a_{1} a^{\\dagger}_{1} a_{1} a^{\\dagger}_{1} a_{1}}{16} + \\frac{a^{\\dagger}_{1} a_{1} a^{\\dagger}_{1} a_{1} \\left(a^{\\dagger}_{1}\\right)^{2}}{16} + \\frac{a^{\\dagger}_{1} a_{1} a^{\\dagger}_{1} a_{1}^{2} a^{\\dagger}_{1}}{16} + \\frac{a^{\\dagger}_{1} a_{1} a^{\\dagger}_{1} a_{1}^{3}}{16} + \\frac{a^{\\dagger}_{1} a_{1} a^{\\dagger}_{1} a_{2}}{16} + \\frac{a^{\\dagger}_{1} a_{1} \\left(a^{\\dagger}_{1}\\right)^{2} a_{1} a^{\\dagger}_{1}}{16} + \\frac{a^{\\dagger}_{1} a_{1} \\left(a^{\\dagger}_{1}\\right)^{2} a_{1}^{2}}{16} + \\frac{a^{\\dagger}_{1} a_{1} \\left(a^{\\dagger}_{1}\\right)^{3} a_{1}}{16} + \\frac{a^{\\dagger}_{1} a_{1} \\left(a^{\\dagger}_{1}\\right)^{4}}{16} - \\frac{a^{\\dagger}_{1} a_{1}^{2} a^{\\dagger}_{0}}{16} + \\frac{a^{\\dagger}_{1} a_{1}^{2} a^{\\dagger}_{1} a_{1} a^{\\dagger}_{1}}{16} + \\frac{a^{\\dagger}_{1} a_{1}^{2} a^{\\dagger}_{1} a_{1}^{2}}{16} + \\frac{a^{\\dagger}_{1} a_{1}^{2} \\left(a^{\\dagger}_{1}\\right)^{2} a_{1}}{16} + \\frac{a^{\\dagger}_{1} a_{1}^{2} \\left(a^{\\dagger}_{1}\\right)^{3}}{16} + \\frac{a^{\\dagger}_{1} a_{1}^{2} a^{\\dagger}_{2}}{16} - \\frac{a^{\\dagger}_{1} a_{1}^{2} a_{0}}{16} + \\frac{a^{\\dagger}_{1} a_{1}^{2} a_{2}}{16} + \\frac{a^{\\dagger}_{1} a_{1}^{3} a^{\\dagger}_{1} a_{1}}{16} + \\frac{a^{\\dagger}_{1} a_{1}^{3} \\left(a^{\\dagger}_{1}\\right)^{2}}{16} + \\frac{a^{\\dagger}_{1} a_{1}^{4} a^{\\dagger}_{1}}{16} + \\frac{a^{\\dagger}_{1} a_{1}^{5}}{16} - \\frac{a^{\\dagger}_{1} a_{2} a^{\\dagger}_{2} a_{2}}{16} - \\frac{a^{\\dagger}_{1} a_{2} \\left(a^{\\dagger}_{2}\\right)^{2}}{16} - \\frac{a^{\\dagger}_{1} a_{2}^{2} a^{\\dagger}_{2}}{16} - \\frac{a^{\\dagger}_{1} a_{2}^{3}}{16} - \\frac{7 \\left(a^{\\dagger}_{1}\\right)^{2}}{8} + \\frac{3 \\left(a^{\\dagger}_{1}\\right)^{2} \\chi^{\\dagger}_{1} \\chi_{1}}{2} - \\frac{\\left(a^{\\dagger}_{1}\\right)^{2} a_{1} a^{\\dagger}_{0}}{16} + \\frac{\\left(a^{\\dagger}_{1}\\right)^{2} a_{1} a^{\\dagger}_{1} a_{1} a^{\\dagger}_{1}}{16} + \\frac{\\left(a^{\\dagger}_{1}\\right)^{2} a_{1} a^{\\dagger}_{1} a_{1}^{2}}{16} + \\frac{\\left(a^{\\dagger}_{1}\\right)^{2} a_{1} \\left(a^{\\dagger}_{1}\\right)^{2} a_{1}}{16} + \\frac{\\left(a^{\\dagger}_{1}\\right)^{2} a_{1} \\left(a^{\\dagger}_{1}\\right)^{3}}{16} + \\frac{\\left(a^{\\dagger}_{1}\\right)^{2} a_{1} a^{\\dagger}_{2}}{16} - \\frac{\\left(a^{\\dagger}_{1}\\right)^{2} a_{1} a_{0}}{16} + \\frac{\\left(a^{\\dagger}_{1}\\right)^{2} a_{1} a_{2}}{16} + \\frac{\\left(a^{\\dagger}_{1}\\right)^{2} a_{1}^{2} a^{\\dagger}_{1} a_{1}}{16} + \\frac{\\left(a^{\\dagger}_{1}\\right)^{2} a_{1}^{2} \\left(a^{\\dagger}_{1}\\right)^{2}}{16} + \\frac{\\left(a^{\\dagger}_{1}\\right)^{2} a_{1}^{3} a^{\\dagger}_{1}}{16} + \\frac{\\left(a^{\\dagger}_{1}\\right)^{2} a_{1}^{4}}{16} - \\frac{\\left(a^{\\dagger}_{1}\\right)^{3} a^{\\dagger}_{0}}{16} + \\frac{\\left(a^{\\dagger}_{1}\\right)^{3} a^{\\dagger}_{2}}{16} - \\frac{\\left(a^{\\dagger}_{1}\\right)^{3} a_{0}}{16} + \\frac{\\left(a^{\\dagger}_{1}\\right)^{3} a_{1} a^{\\dagger}_{1} a_{1}}{16} + \\frac{\\left(a^{\\dagger}_{1}\\right)^{3} a_{1} \\left(a^{\\dagger}_{1}\\right)^{2}}{16} + \\frac{\\left(a^{\\dagger}_{1}\\right)^{3} a_{1}^{2} a^{\\dagger}_{1}}{16} + \\frac{\\left(a^{\\dagger}_{1}\\right)^{3} a_{1}^{3}}{16} + \\frac{\\left(a^{\\dagger}_{1}\\right)^{3} a_{2}}{16} + \\frac{\\left(a^{\\dagger}_{1}\\right)^{4} a_{1} a^{\\dagger}_{1}}{16} + \\frac{\\left(a^{\\dagger}_{1}\\right)^{4} a_{1}^{2}}{16} + \\frac{\\left(a^{\\dagger}_{1}\\right)^{5} a_{1}}{16} + \\frac{\\left(a^{\\dagger}_{1}\\right)^{6}}{16} - \\frac{a^{\\dagger}_{2} a^{\\dagger}_{0}}{16} + \\frac{a^{\\dagger}_{2} a^{\\dagger}_{1} a_{1} a^{\\dagger}_{1}}{16} + \\frac{a^{\\dagger}_{2} a^{\\dagger}_{1} a_{1}^{2}}{16} + \\frac{a^{\\dagger}_{2} \\left(a^{\\dagger}_{1}\\right)^{2} a_{1}}{16} + \\frac{a^{\\dagger}_{2} \\left(a^{\\dagger}_{1}\\right)^{3}}{16} - \\frac{a^{\\dagger}_{2} a_{0}}{16} + \\frac{a^{\\dagger}_{2} a_{1} a^{\\dagger}_{1} a_{1}}{16} + \\frac{a^{\\dagger}_{2} a_{1} \\left(a^{\\dagger}_{1}\\right)^{2}}{16} + \\frac{a^{\\dagger}_{2} a_{1}^{2} a^{\\dagger}_{1}}{16} + \\frac{a^{\\dagger}_{2} a_{1}^{3}}{16} + \\frac{17 a^{\\dagger}_{2} a_{2}}{16} - \\frac{3 a^{\\dagger}_{2} a_{2} \\chi^{\\dagger}_{2} \\chi_{2}}{2} - \\frac{a^{\\dagger}_{2} a_{2} a^{\\dagger}_{2} a^{\\dagger}_{1}}{16} - \\frac{a^{\\dagger}_{2} a_{2} a^{\\dagger}_{2} a_{1}}{16} + \\frac{a^{\\dagger}_{2} a_{2} a^{\\dagger}_{2} a_{2} a^{\\dagger}_{2} a_{2}}{16} + \\frac{a^{\\dagger}_{2} a_{2} a^{\\dagger}_{2} a_{2} \\left(a^{\\dagger}_{2}\\right)^{2}}{16} + \\frac{a^{\\dagger}_{2} a_{2} a^{\\dagger}_{2} a_{2}^{2} a^{\\dagger}_{2}}{16} + \\frac{a^{\\dagger}_{2} a_{2} a^{\\dagger}_{2} a_{2}^{3}}{16} + \\frac{a^{\\dagger}_{2} a_{2} \\left(a^{\\dagger}_{2}\\right)^{2} a_{2} a^{\\dagger}_{2}}{16} + \\frac{a^{\\dagger}_{2} a_{2} \\left(a^{\\dagger}_{2}\\right)^{2} a_{2}^{2}}{16} + \\frac{a^{\\dagger}_{2} a_{2} \\left(a^{\\dagger}_{2}\\right)^{3} a_{2}}{16} + \\frac{a^{\\dagger}_{2} a_{2} \\left(a^{\\dagger}_{2}\\right)^{4}}{16} - \\frac{a^{\\dagger}_{2} a_{2}^{2} a^{\\dagger}_{1}}{16} + \\frac{a^{\\dagger}_{2} a_{2}^{2} a^{\\dagger}_{2} a_{2} a^{\\dagger}_{2}}{16} + \\frac{a^{\\dagger}_{2} a_{2}^{2} a^{\\dagger}_{2} a_{2}^{2}}{16} + \\frac{a^{\\dagger}_{2} a_{2}^{2} \\left(a^{\\dagger}_{2}\\right)^{2} a_{2}}{16} + \\frac{a^{\\dagger}_{2} a_{2}^{2} \\left(a^{\\dagger}_{2}\\right)^{3}}{16} - \\frac{a^{\\dagger}_{2} a_{2}^{2} a_{1}}{16} + \\frac{a^{\\dagger}_{2} a_{2}^{3} a^{\\dagger}_{2} a_{2}}{16} + \\frac{a^{\\dagger}_{2} a_{2}^{3} \\left(a^{\\dagger}_{2}\\right)^{2}}{16} + \\frac{a^{\\dagger}_{2} a_{2}^{4} a^{\\dagger}_{2}}{16} + \\frac{a^{\\dagger}_{2} a_{2}^{5}}{16} + \\frac{9 \\left(a^{\\dagger}_{2}\\right)^{2}}{16} - \\frac{3 \\left(a^{\\dagger}_{2}\\right)^{2} \\chi^{\\dagger}_{2} \\chi_{2}}{2} - \\frac{\\left(a^{\\dagger}_{2}\\right)^{2} a_{2} a^{\\dagger}_{1}}{16} + \\frac{\\left(a^{\\dagger}_{2}\\right)^{2} a_{2} a^{\\dagger}_{2} a_{2} a^{\\dagger}_{2}}{16} + \\frac{\\left(a^{\\dagger}_{2}\\right)^{2} a_{2} a^{\\dagger}_{2} a_{2}^{2}}{16} + \\frac{\\left(a^{\\dagger}_{2}\\right)^{2} a_{2} \\left(a^{\\dagger}_{2}\\right)^{2} a_{2}}{16} + \\frac{\\left(a^{\\dagger}_{2}\\right)^{2} a_{2} \\left(a^{\\dagger}_{2}\\right)^{3}}{16} - \\frac{\\left(a^{\\dagger}_{2}\\right)^{2} a_{2} a_{1}}{16} + \\frac{\\left(a^{\\dagger}_{2}\\right)^{2} a_{2}^{2} a^{\\dagger}_{2} a_{2}}{16} + \\frac{\\left(a^{\\dagger}_{2}\\right)^{2} a_{2}^{2} \\left(a^{\\dagger}_{2}\\right)^{2}}{16} + \\frac{\\left(a^{\\dagger}_{2}\\right)^{2} a_{2}^{3} a^{\\dagger}_{2}}{16} + \\frac{\\left(a^{\\dagger}_{2}\\right)^{2} a_{2}^{4}}{16} - \\frac{\\left(a^{\\dagger}_{2}\\right)^{3} a^{\\dagger}_{1}}{16} - \\frac{\\left(a^{\\dagger}_{2}\\right)^{3} a_{1}}{16} + \\frac{\\left(a^{\\dagger}_{2}\\right)^{3} a_{2} a^{\\dagger}_{2} a_{2}}{16} + \\frac{\\left(a^{\\dagger}_{2}\\right)^{3} a_{2} \\left(a^{\\dagger}_{2}\\right)^{2}}{16} + \\frac{\\left(a^{\\dagger}_{2}\\right)^{3} a_{2}^{2} a^{\\dagger}_{2}}{16} + \\frac{\\left(a^{\\dagger}_{2}\\right)^{3} a_{2}^{3}}{16} + \\frac{\\left(a^{\\dagger}_{2}\\right)^{4} a_{2} a^{\\dagger}_{2}}{16} + \\frac{\\left(a^{\\dagger}_{2}\\right)^{4} a_{2}^{2}}{16} + \\frac{\\left(a^{\\dagger}_{2}\\right)^{5} a_{2}}{16} + \\frac{\\left(a^{\\dagger}_{2}\\right)^{6}}{16} + \\frac{17 a_{0} a^{\\dagger}_{0}}{16} - \\frac{3 a_{0} a^{\\dagger}_{0} \\chi^{\\dagger}_{0} \\chi_{0}}{2} + \\frac{a_{0} a^{\\dagger}_{0} a_{0} a^{\\dagger}_{0} a_{0} a^{\\dagger}_{0}}{16} + \\frac{a_{0} a^{\\dagger}_{0} a_{0} a^{\\dagger}_{0} a_{0}^{2}}{16} + \\frac{a_{0} a^{\\dagger}_{0} a_{0} \\left(a^{\\dagger}_{0}\\right)^{2} a_{0}}{16} + \\frac{a_{0} a^{\\dagger}_{0} a_{0} \\left(a^{\\dagger}_{0}\\right)^{3}}{16} + \\frac{a_{0} a^{\\dagger}_{0} a_{0} a^{\\dagger}_{1}}{16} + \\frac{a_{0} a^{\\dagger}_{0} a_{0} a_{1}}{16} + \\frac{a_{0} a^{\\dagger}_{0} a_{0}^{2} a^{\\dagger}_{0} a_{0}}{16} + \\frac{a_{0} a^{\\dagger}_{0} a_{0}^{2} \\left(a^{\\dagger}_{0}\\right)^{2}}{16} + \\frac{a_{0} a^{\\dagger}_{0} a_{0}^{3} a^{\\dagger}_{0}}{16} + \\frac{a_{0} a^{\\dagger}_{0} a_{0}^{4}}{16} + \\frac{a_{0} \\left(a^{\\dagger}_{0}\\right)^{2} a^{\\dagger}_{1}}{16} + \\frac{a_{0} \\left(a^{\\dagger}_{0}\\right)^{2} a_{0} a^{\\dagger}_{0} a_{0}}{16} + \\frac{a_{0} \\left(a^{\\dagger}_{0}\\right)^{2} a_{0} \\left(a^{\\dagger}_{0}\\right)^{2}}{16} + \\frac{a_{0} \\left(a^{\\dagger}_{0}\\right)^{2} a_{0}^{2} a^{\\dagger}_{0}}{16} + \\frac{a_{0} \\left(a^{\\dagger}_{0}\\right)^{2} a_{0}^{3}}{16} + \\frac{a_{0} \\left(a^{\\dagger}_{0}\\right)^{2} a_{1}}{16} + \\frac{a_{0} \\left(a^{\\dagger}_{0}\\right)^{3} a_{0} a^{\\dagger}_{0}}{16} + \\frac{a_{0} \\left(a^{\\dagger}_{0}\\right)^{3} a_{0}^{2}}{16} + \\frac{a_{0} \\left(a^{\\dagger}_{0}\\right)^{4} a_{0}}{16} + \\frac{a_{0} \\left(a^{\\dagger}_{0}\\right)^{5}}{16} - \\frac{a_{0} a^{\\dagger}_{1} a_{1} a^{\\dagger}_{1}}{16} - \\frac{a_{0} a^{\\dagger}_{1} a_{1}^{2}}{16} - \\frac{a_{0} \\left(a^{\\dagger}_{1}\\right)^{2} a_{1}}{16} - \\frac{a_{0} \\left(a^{\\dagger}_{1}\\right)^{3}}{16} - \\frac{a_{0} a^{\\dagger}_{2}}{16} - \\frac{a_{0} a_{1} a^{\\dagger}_{1} a_{1}}{16} - \\frac{a_{0} a_{1} \\left(a^{\\dagger}_{1}\\right)^{2}}{16} - \\frac{a_{0} a_{1}^{2} a^{\\dagger}_{1}}{16} - \\frac{a_{0} a_{1}^{3}}{16} - \\frac{a_{0} a_{2}}{16} + \\frac{9 a_{0}^{2}}{16} - \\frac{3 a_{0}^{2} \\chi^{\\dagger}_{0} \\chi_{0}}{2} + \\frac{a_{0}^{2} a^{\\dagger}_{0} a^{\\dagger}_{1}}{16} + \\frac{a_{0}^{2} a^{\\dagger}_{0} a_{0} a^{\\dagger}_{0} a_{0}}{16} + \\frac{a_{0}^{2} a^{\\dagger}_{0} a_{0} \\left(a^{\\dagger}_{0}\\right)^{2}}{16} + \\frac{a_{0}^{2} a^{\\dagger}_{0} a_{0}^{2} a^{\\dagger}_{0}}{16} + \\frac{a_{0}^{2} a^{\\dagger}_{0} a_{0}^{3}}{16} + \\frac{a_{0}^{2} a^{\\dagger}_{0} a_{1}}{16} + \\frac{a_{0}^{2} \\left(a^{\\dagger}_{0}\\right)^{2} a_{0} a^{\\dagger}_{0}}{16} + \\frac{a_{0}^{2} \\left(a^{\\dagger}_{0}\\right)^{2} a_{0}^{2}}{16} + \\frac{a_{0}^{2} \\left(a^{\\dagger}_{0}\\right)^{3} a_{0}}{16} + \\frac{a_{0}^{2} \\left(a^{\\dagger}_{0}\\right)^{4}}{16} + \\frac{a_{0}^{3} a^{\\dagger}_{0} a_{0} a^{\\dagger}_{0}}{16} + \\frac{a_{0}^{3} a^{\\dagger}_{0} a_{0}^{2}}{16} + \\frac{a_{0}^{3} \\left(a^{\\dagger}_{0}\\right)^{2} a_{0}}{16} + \\frac{a_{0}^{3} \\left(a^{\\dagger}_{0}\\right)^{3}}{16} + \\frac{a_{0}^{3} a^{\\dagger}_{1}}{16} + \\frac{a_{0}^{3} a_{1}}{16} + \\frac{a_{0}^{4} a^{\\dagger}_{0} a_{0}}{16} + \\frac{a_{0}^{4} \\left(a^{\\dagger}_{0}\\right)^{2}}{16} + \\frac{a_{0}^{5} a^{\\dagger}_{0}}{16} + \\frac{a_{0}^{6}}{16} + \\frac{a_{1} a^{\\dagger}_{0} a_{0} a^{\\dagger}_{0}}{16} + \\frac{a_{1} a^{\\dagger}_{0} a_{0}^{2}}{16} + \\frac{a_{1} \\left(a^{\\dagger}_{0}\\right)^{2} a_{0}}{16} + \\frac{a_{1} \\left(a^{\\dagger}_{0}\\right)^{3}}{16} - \\frac{3 a_{1} a^{\\dagger}_{1}}{8} + \\frac{3 a_{1} a^{\\dagger}_{1} \\chi^{\\dagger}_{1} \\chi_{1}}{2} - \\frac{a_{1} a^{\\dagger}_{1} a_{1} a^{\\dagger}_{0}}{16} + \\frac{a_{1} a^{\\dagger}_{1} a_{1} a^{\\dagger}_{1} a_{1} a^{\\dagger}_{1}}{16} + \\frac{a_{1} a^{\\dagger}_{1} a_{1} a^{\\dagger}_{1} a_{1}^{2}}{16} + \\frac{a_{1} a^{\\dagger}_{1} a_{1} \\left(a^{\\dagger}_{1}\\right)^{2} a_{1}}{16} + \\frac{a_{1} a^{\\dagger}_{1} a_{1} \\left(a^{\\dagger}_{1}\\right)^{3}}{16} + \\frac{a_{1} a^{\\dagger}_{1} a_{1} a^{\\dagger}_{2}}{16} - \\frac{a_{1} a^{\\dagger}_{1} a_{1} a_{0}}{16} + \\frac{a_{1} a^{\\dagger}_{1} a_{1} a_{2}}{16} + \\frac{a_{1} a^{\\dagger}_{1} a_{1}^{2} a^{\\dagger}_{1} a_{1}}{16} + \\frac{a_{1} a^{\\dagger}_{1} a_{1}^{2} \\left(a^{\\dagger}_{1}\\right)^{2}}{16} + \\frac{a_{1} a^{\\dagger}_{1} a_{1}^{3} a^{\\dagger}_{1}}{16} + \\frac{a_{1} a^{\\dagger}_{1} a_{1}^{4}}{16} - \\frac{a_{1} \\left(a^{\\dagger}_{1}\\right)^{2} a^{\\dagger}_{0}}{16} + \\frac{a_{1} \\left(a^{\\dagger}_{1}\\right)^{2} a^{\\dagger}_{2}}{16} - \\frac{a_{1} \\left(a^{\\dagger}_{1}\\right)^{2} a_{0}}{16} + \\frac{a_{1} \\left(a^{\\dagger}_{1}\\right)^{2} a_{1} a^{\\dagger}_{1} a_{1}}{16} + \\frac{a_{1} \\left(a^{\\dagger}_{1}\\right)^{2} a_{1} \\left(a^{\\dagger}_{1}\\right)^{2}}{16} + \\frac{a_{1} \\left(a^{\\dagger}_{1}\\right)^{2} a_{1}^{2} a^{\\dagger}_{1}}{16} + \\frac{a_{1} \\left(a^{\\dagger}_{1}\\right)^{2} a_{1}^{3}}{16} + \\frac{a_{1} \\left(a^{\\dagger}_{1}\\right)^{2} a_{2}}{16} + \\frac{a_{1} \\left(a^{\\dagger}_{1}\\right)^{3} a_{1} a^{\\dagger}_{1}}{16} + \\frac{a_{1} \\left(a^{\\dagger}_{1}\\right)^{3} a_{1}^{2}}{16} + \\frac{a_{1} \\left(a^{\\dagger}_{1}\\right)^{4} a_{1}}{16} + \\frac{a_{1} \\left(a^{\\dagger}_{1}\\right)^{5}}{16} - \\frac{a_{1} a^{\\dagger}_{2} a_{2} a^{\\dagger}_{2}}{16} - \\frac{a_{1} a^{\\dagger}_{2} a_{2}^{2}}{16} - \\frac{a_{1} \\left(a^{\\dagger}_{2}\\right)^{2} a_{2}}{16} - \\frac{a_{1} \\left(a^{\\dagger}_{2}\\right)^{3}}{16} + \\frac{a_{1} a_{0} a^{\\dagger}_{0} a_{0}}{16} + \\frac{a_{1} a_{0} \\left(a^{\\dagger}_{0}\\right)^{2}}{16} + \\frac{a_{1} a_{0}^{2} a^{\\dagger}_{0}}{16} + \\frac{a_{1} a_{0}^{3}}{16} - \\frac{a_{1} a_{2} a^{\\dagger}_{2} a_{2}}{16} - \\frac{a_{1} a_{2} \\left(a^{\\dagger}_{2}\\right)^{2}}{16} - \\frac{a_{1} a_{2}^{2} a^{\\dagger}_{2}}{16} - \\frac{a_{1} a_{2}^{3}}{16} - \\frac{7 a_{1}^{2}}{8} + \\frac{3 a_{1}^{2} \\chi^{\\dagger}_{1} \\chi_{1}}{2} - \\frac{a_{1}^{2} a^{\\dagger}_{1} a^{\\dagger}_{0}}{16} + \\frac{a_{1}^{2} a^{\\dagger}_{1} a^{\\dagger}_{2}}{16} - \\frac{a_{1}^{2} a^{\\dagger}_{1} a_{0}}{16} + \\frac{a_{1}^{2} a^{\\dagger}_{1} a_{1} a^{\\dagger}_{1} a_{1}}{16} + \\frac{a_{1}^{2} a^{\\dagger}_{1} a_{1} \\left(a^{\\dagger}_{1}\\right)^{2}}{16} + \\frac{a_{1}^{2} a^{\\dagger}_{1} a_{1}^{2} a^{\\dagger}_{1}}{16} + \\frac{a_{1}^{2} a^{\\dagger}_{1} a_{1}^{3}}{16} + \\frac{a_{1}^{2} a^{\\dagger}_{1} a_{2}}{16} + \\frac{a_{1}^{2} \\left(a^{\\dagger}_{1}\\right)^{2} a_{1} a^{\\dagger}_{1}}{16} + \\frac{a_{1}^{2} \\left(a^{\\dagger}_{1}\\right)^{2} a_{1}^{2}}{16} + \\frac{a_{1}^{2} \\left(a^{\\dagger}_{1}\\right)^{3} a_{1}}{16} + \\frac{a_{1}^{2} \\left(a^{\\dagger}_{1}\\right)^{4}}{16} - \\frac{a_{1}^{3} a^{\\dagger}_{0}}{16} + \\frac{a_{1}^{3} a^{\\dagger}_{1} a_{1} a^{\\dagger}_{1}}{16} + \\frac{a_{1}^{3} a^{\\dagger}_{1} a_{1}^{2}}{16} + \\frac{a_{1}^{3} \\left(a^{\\dagger}_{1}\\right)^{2} a_{1}}{16} + \\frac{a_{1}^{3} \\left(a^{\\dagger}_{1}\\right)^{3}}{16} + \\frac{a_{1}^{3} a^{\\dagger}_{2}}{16} - \\frac{a_{1}^{3} a_{0}}{16} + \\frac{a_{1}^{3} a_{2}}{16} + \\frac{a_{1}^{4} a^{\\dagger}_{1} a_{1}}{16} + \\frac{a_{1}^{4} \\left(a^{\\dagger}_{1}\\right)^{2}}{16} + \\frac{a_{1}^{5} a^{\\dagger}_{1}}{16} + \\frac{a_{1}^{6}}{16} - \\frac{a_{2} a^{\\dagger}_{0}}{16} + \\frac{a_{2} a^{\\dagger}_{1} a_{1} a^{\\dagger}_{1}}{16} + \\frac{a_{2} a^{\\dagger}_{1} a_{1}^{2}}{16} + \\frac{a_{2} \\left(a^{\\dagger}_{1}\\right)^{2} a_{1}}{16} + \\frac{a_{2} \\left(a^{\\dagger}_{1}\\right)^{3}}{16} + \\frac{17 a_{2} a^{\\dagger}_{2}}{16} - \\frac{3 a_{2} a^{\\dagger}_{2} \\chi^{\\dagger}_{2} \\chi_{2}}{2} - \\frac{a_{2} a^{\\dagger}_{2} a_{2} a^{\\dagger}_{1}}{16} + \\frac{a_{2} a^{\\dagger}_{2} a_{2} a^{\\dagger}_{2} a_{2} a^{\\dagger}_{2}}{16} + \\frac{a_{2} a^{\\dagger}_{2} a_{2} a^{\\dagger}_{2} a_{2}^{2}}{16} + \\frac{a_{2} a^{\\dagger}_{2} a_{2} \\left(a^{\\dagger}_{2}\\right)^{2} a_{2}}{16} + \\frac{a_{2} a^{\\dagger}_{2} a_{2} \\left(a^{\\dagger}_{2}\\right)^{3}}{16} - \\frac{a_{2} a^{\\dagger}_{2} a_{2} a_{1}}{16} + \\frac{a_{2} a^{\\dagger}_{2} a_{2}^{2} a^{\\dagger}_{2} a_{2}}{16} + \\frac{a_{2} a^{\\dagger}_{2} a_{2}^{2} \\left(a^{\\dagger}_{2}\\right)^{2}}{16} + \\frac{a_{2} a^{\\dagger}_{2} a_{2}^{3} a^{\\dagger}_{2}}{16} + \\frac{a_{2} a^{\\dagger}_{2} a_{2}^{4}}{16} - \\frac{a_{2} \\left(a^{\\dagger}_{2}\\right)^{2} a^{\\dagger}_{1}}{16} - \\frac{a_{2} \\left(a^{\\dagger}_{2}\\right)^{2} a_{1}}{16} + \\frac{a_{2} \\left(a^{\\dagger}_{2}\\right)^{2} a_{2} a^{\\dagger}_{2} a_{2}}{16} + \\frac{a_{2} \\left(a^{\\dagger}_{2}\\right)^{2} a_{2} \\left(a^{\\dagger}_{2}\\right)^{2}}{16} + \\frac{a_{2} \\left(a^{\\dagger}_{2}\\right)^{2} a_{2}^{2} a^{\\dagger}_{2}}{16} + \\frac{a_{2} \\left(a^{\\dagger}_{2}\\right)^{2} a_{2}^{3}}{16} + \\frac{a_{2} \\left(a^{\\dagger}_{2}\\right)^{3} a_{2} a^{\\dagger}_{2}}{16} + \\frac{a_{2} \\left(a^{\\dagger}_{2}\\right)^{3} a_{2}^{2}}{16} + \\frac{a_{2} \\left(a^{\\dagger}_{2}\\right)^{4} a_{2}}{16} + \\frac{a_{2} \\left(a^{\\dagger}_{2}\\right)^{5}}{16} - \\frac{a_{2} a_{0}}{16} + \\frac{a_{2} a_{1} a^{\\dagger}_{1} a_{1}}{16} + \\frac{a_{2} a_{1} \\left(a^{\\dagger}_{1}\\right)^{2}}{16} + \\frac{a_{2} a_{1}^{2} a^{\\dagger}_{1}}{16} + \\frac{a_{2} a_{1}^{3}}{16} + \\frac{9 a_{2}^{2}}{16} - \\frac{3 a_{2}^{2} \\chi^{\\dagger}_{2} \\chi_{2}}{2} - \\frac{a_{2}^{2} a^{\\dagger}_{2} a^{\\dagger}_{1}}{16} - \\frac{a_{2}^{2} a^{\\dagger}_{2} a_{1}}{16} + \\frac{a_{2}^{2} a^{\\dagger}_{2} a_{2} a^{\\dagger}_{2} a_{2}}{16} + \\frac{a_{2}^{2} a^{\\dagger}_{2} a_{2} \\left(a^{\\dagger}_{2}\\right)^{2}}{16} + \\frac{a_{2}^{2} a^{\\dagger}_{2} a_{2}^{2} a^{\\dagger}_{2}}{16} + \\frac{a_{2}^{2} a^{\\dagger}_{2} a_{2}^{3}}{16} + \\frac{a_{2}^{2} \\left(a^{\\dagger}_{2}\\right)^{2} a_{2} a^{\\dagger}_{2}}{16} + \\frac{a_{2}^{2} \\left(a^{\\dagger}_{2}\\right)^{2} a_{2}^{2}}{16} + \\frac{a_{2}^{2} \\left(a^{\\dagger}_{2}\\right)^{3} a_{2}}{16} + \\frac{a_{2}^{2} \\left(a^{\\dagger}_{2}\\right)^{4}}{16} - \\frac{a_{2}^{3} a^{\\dagger}_{1}}{16} + \\frac{a_{2}^{3} a^{\\dagger}_{2} a_{2} a^{\\dagger}_{2}}{16} + \\frac{a_{2}^{3} a^{\\dagger}_{2} a_{2}^{2}}{16} + \\frac{a_{2}^{3} \\left(a^{\\dagger}_{2}\\right)^{2} a_{2}}{16} + \\frac{a_{2}^{3} \\left(a^{\\dagger}_{2}\\right)^{3}}{16} - \\frac{a_{2}^{3} a_{1}}{16} + \\frac{a_{2}^{4} a^{\\dagger}_{2} a_{2}}{16} + \\frac{a_{2}^{4} \\left(a^{\\dagger}_{2}\\right)^{2}}{16} + \\frac{a_{2}^{5} a^{\\dagger}_{2}}{16} + \\frac{a_{2}^{6}}{16}$"
      ],
      "text/plain": [
       "\\chi^{\\dagger}_{0}*\\chi_{1}/2 + \\chi^{\\dagger}_{1}*\\chi_{0}/2 + \\chi^{\\dagger}_{1}*\\chi_{2}/2 + \\chi^{\\dagger}_{2}*\\chi_{1}/2 - a^{\\dagger}_{0}*a^{\\dagger}_{1}*a_{1}*a^{\\dagger}_{1}/16 - a^{\\dagger}_{0}*a^{\\dagger}_{1}*a_{1}**2/16 - a^{\\dagger}_{0}*a^{\\dagger}_{1}**2*a_{1}/16 - a^{\\dagger}_{0}*a^{\\dagger}_{1}**3/16 - a^{\\dagger}_{0}*a^{\\dagger}_{2}/16 + 17*a^{\\dagger}_{0}*a_{0}/16 - 3*a^{\\dagger}_{0}*a_{0}*\\chi^{\\dagger}_{0}*\\chi_{0}/2 + a^{\\dagger}_{0}*a_{0}*a^{\\dagger}_{0}*a^{\\dagger}_{1}/16 + a^{\\dagger}_{0}*a_{0}*a^{\\dagger}_{0}*a_{0}*a^{\\dagger}_{0}*a_{0}/16 + a^{\\dagger}_{0}*a_{0}*a^{\\dagger}_{0}*a_{0}*a^{\\dagger}_{0}**2/16 + a^{\\dagger}_{0}*a_{0}*a^{\\dagger}_{0}*a_{0}**2*a^{\\dagger}_{0}/16 + a^{\\dagger}_{0}*a_{0}*a^{\\dagger}_{0}*a_{0}**3/16 + a^{\\dagger}_{0}*a_{0}*a^{\\dagger}_{0}*a_{1}/16 + a^{\\dagger}_{0}*a_{0}*a^{\\dagger}_{0}**2*a_{0}*a^{\\dagger}_{0}/16 + a^{\\dagger}_{0}*a_{0}*a^{\\dagger}_{0}**2*a_{0}**2/16 + a^{\\dagger}_{0}*a_{0}*a^{\\dagger}_{0}**3*a_{0}/16 + a^{\\dagger}_{0}*a_{0}*a^{\\dagger}_{0}**4/16 + a^{\\dagger}_{0}*a_{0}**2*a^{\\dagger}_{0}*a_{0}*a^{\\dagger}_{0}/16 + a^{\\dagger}_{0}*a_{0}**2*a^{\\dagger}_{0}*a_{0}**2/16 + a^{\\dagger}_{0}*a_{0}**2*a^{\\dagger}_{0}**2*a_{0}/16 + a^{\\dagger}_{0}*a_{0}**2*a^{\\dagger}_{0}**3/16 + a^{\\dagger}_{0}*a_{0}**2*a^{\\dagger}_{1}/16 + a^{\\dagger}_{0}*a_{0}**2*a_{1}/16 + a^{\\dagger}_{0}*a_{0}**3*a^{\\dagger}_{0}*a_{0}/16 + a^{\\dagger}_{0}*a_{0}**3*a^{\\dagger}_{0}**2/16 + a^{\\dagger}_{0}*a_{0}**4*a^{\\dagger}_{0}/16 + a^{\\dagger}_{0}*a_{0}**5/16 - a^{\\dagger}_{0}*a_{1}*a^{\\dagger}_{1}*a_{1}/16 - a^{\\dagger}_{0}*a_{1}*a^{\\dagger}_{1}**2/16 - a^{\\dagger}_{0}*a_{1}**2*a^{\\dagger}_{1}/16 - a^{\\dagger}_{0}*a_{1}**3/16 - a^{\\dagger}_{0}*a_{2}/16 + 9*a^{\\dagger}_{0}**2/16 - 3*a^{\\dagger}_{0}**2*\\chi^{\\dagger}_{0}*\\chi_{0}/2 + a^{\\dagger}_{0}**2*a_{0}*a^{\\dagger}_{0}*a_{0}*a^{\\dagger}_{0}/16 + a^{\\dagger}_{0}**2*a_{0}*a^{\\dagger}_{0}*a_{0}**2/16 + a^{\\dagger}_{0}**2*a_{0}*a^{\\dagger}_{0}**2*a_{0}/16 + a^{\\dagger}_{0}**2*a_{0}*a^{\\dagger}_{0}**3/16 + a^{\\dagger}_{0}**2*a_{0}*a^{\\dagger}_{1}/16 + a^{\\dagger}_{0}**2*a_{0}*a_{1}/16 + a^{\\dagger}_{0}**2*a_{0}**2*a^{\\dagger}_{0}*a_{0}/16 + a^{\\dagger}_{0}**2*a_{0}**2*a^{\\dagger}_{0}**2/16 + a^{\\dagger}_{0}**2*a_{0}**3*a^{\\dagger}_{0}/16 + a^{\\dagger}_{0}**2*a_{0}**4/16 + a^{\\dagger}_{0}**3*a^{\\dagger}_{1}/16 + a^{\\dagger}_{0}**3*a_{0}*a^{\\dagger}_{0}*a_{0}/16 + a^{\\dagger}_{0}**3*a_{0}*a^{\\dagger}_{0}**2/16 + a^{\\dagger}_{0}**3*a_{0}**2*a^{\\dagger}_{0}/16 + a^{\\dagger}_{0}**3*a_{0}**3/16 + a^{\\dagger}_{0}**3*a_{1}/16 + a^{\\dagger}_{0}**4*a_{0}*a^{\\dagger}_{0}/16 + a^{\\dagger}_{0}**4*a_{0}**2/16 + a^{\\dagger}_{0}**5*a_{0}/16 + a^{\\dagger}_{0}**6/16 + a^{\\dagger}_{1}*a^{\\dagger}_{0}*a_{0}*a^{\\dagger}_{0}/16 + a^{\\dagger}_{1}*a^{\\dagger}_{0}*a_{0}**2/16 + a^{\\dagger}_{1}*a^{\\dagger}_{0}**2*a_{0}/16 + a^{\\dagger}_{1}*a^{\\dagger}_{0}**3/16 - a^{\\dagger}_{1}*a^{\\dagger}_{2}*a_{2}*a^{\\dagger}_{2}/16 - a^{\\dagger}_{1}*a^{\\dagger}_{2}*a_{2}**2/16 - a^{\\dagger}_{1}*a^{\\dagger}_{2}**2*a_{2}/16 - a^{\\dagger}_{1}*a^{\\dagger}_{2}**3/16 + a^{\\dagger}_{1}*a_{0}*a^{\\dagger}_{0}*a_{0}/16 + a^{\\dagger}_{1}*a_{0}*a^{\\dagger}_{0}**2/16 + a^{\\dagger}_{1}*a_{0}**2*a^{\\dagger}_{0}/16 + a^{\\dagger}_{1}*a_{0}**3/16 - 3*a^{\\dagger}_{1}*a_{1}/8 + 3*a^{\\dagger}_{1}*a_{1}*\\chi^{\\dagger}_{1}*\\chi_{1}/2 - a^{\\dagger}_{1}*a_{1}*a^{\\dagger}_{1}*a^{\\dagger}_{0}/16 + a^{\\dagger}_{1}*a_{1}*a^{\\dagger}_{1}*a^{\\dagger}_{2}/16 - a^{\\dagger}_{1}*a_{1}*a^{\\dagger}_{1}*a_{0}/16 + a^{\\dagger}_{1}*a_{1}*a^{\\dagger}_{1}*a_{1}*a^{\\dagger}_{1}*a_{1}/16 + a^{\\dagger}_{1}*a_{1}*a^{\\dagger}_{1}*a_{1}*a^{\\dagger}_{1}**2/16 + a^{\\dagger}_{1}*a_{1}*a^{\\dagger}_{1}*a_{1}**2*a^{\\dagger}_{1}/16 + a^{\\dagger}_{1}*a_{1}*a^{\\dagger}_{1}*a_{1}**3/16 + a^{\\dagger}_{1}*a_{1}*a^{\\dagger}_{1}*a_{2}/16 + a^{\\dagger}_{1}*a_{1}*a^{\\dagger}_{1}**2*a_{1}*a^{\\dagger}_{1}/16 + a^{\\dagger}_{1}*a_{1}*a^{\\dagger}_{1}**2*a_{1}**2/16 + a^{\\dagger}_{1}*a_{1}*a^{\\dagger}_{1}**3*a_{1}/16 + a^{\\dagger}_{1}*a_{1}*a^{\\dagger}_{1}**4/16 - a^{\\dagger}_{1}*a_{1}**2*a^{\\dagger}_{0}/16 + a^{\\dagger}_{1}*a_{1}**2*a^{\\dagger}_{1}*a_{1}*a^{\\dagger}_{1}/16 + a^{\\dagger}_{1}*a_{1}**2*a^{\\dagger}_{1}*a_{1}**2/16 + a^{\\dagger}_{1}*a_{1}**2*a^{\\dagger}_{1}**2*a_{1}/16 + a^{\\dagger}_{1}*a_{1}**2*a^{\\dagger}_{1}**3/16 + a^{\\dagger}_{1}*a_{1}**2*a^{\\dagger}_{2}/16 - a^{\\dagger}_{1}*a_{1}**2*a_{0}/16 + a^{\\dagger}_{1}*a_{1}**2*a_{2}/16 + a^{\\dagger}_{1}*a_{1}**3*a^{\\dagger}_{1}*a_{1}/16 + a^{\\dagger}_{1}*a_{1}**3*a^{\\dagger}_{1}**2/16 + a^{\\dagger}_{1}*a_{1}**4*a^{\\dagger}_{1}/16 + a^{\\dagger}_{1}*a_{1}**5/16 - a^{\\dagger}_{1}*a_{2}*a^{\\dagger}_{2}*a_{2}/16 - a^{\\dagger}_{1}*a_{2}*a^{\\dagger}_{2}**2/16 - a^{\\dagger}_{1}*a_{2}**2*a^{\\dagger}_{2}/16 - a^{\\dagger}_{1}*a_{2}**3/16 - 7*a^{\\dagger}_{1}**2/8 + 3*a^{\\dagger}_{1}**2*\\chi^{\\dagger}_{1}*\\chi_{1}/2 - a^{\\dagger}_{1}**2*a_{1}*a^{\\dagger}_{0}/16 + a^{\\dagger}_{1}**2*a_{1}*a^{\\dagger}_{1}*a_{1}*a^{\\dagger}_{1}/16 + a^{\\dagger}_{1}**2*a_{1}*a^{\\dagger}_{1}*a_{1}**2/16 + a^{\\dagger}_{1}**2*a_{1}*a^{\\dagger}_{1}**2*a_{1}/16 + a^{\\dagger}_{1}**2*a_{1}*a^{\\dagger}_{1}**3/16 + a^{\\dagger}_{1}**2*a_{1}*a^{\\dagger}_{2}/16 - a^{\\dagger}_{1}**2*a_{1}*a_{0}/16 + a^{\\dagger}_{1}**2*a_{1}*a_{2}/16 + a^{\\dagger}_{1}**2*a_{1}**2*a^{\\dagger}_{1}*a_{1}/16 + a^{\\dagger}_{1}**2*a_{1}**2*a^{\\dagger}_{1}**2/16 + a^{\\dagger}_{1}**2*a_{1}**3*a^{\\dagger}_{1}/16 + a^{\\dagger}_{1}**2*a_{1}**4/16 - a^{\\dagger}_{1}**3*a^{\\dagger}_{0}/16 + a^{\\dagger}_{1}**3*a^{\\dagger}_{2}/16 - a^{\\dagger}_{1}**3*a_{0}/16 + a^{\\dagger}_{1}**3*a_{1}*a^{\\dagger}_{1}*a_{1}/16 + a^{\\dagger}_{1}**3*a_{1}*a^{\\dagger}_{1}**2/16 + a^{\\dagger}_{1}**3*a_{1}**2*a^{\\dagger}_{1}/16 + a^{\\dagger}_{1}**3*a_{1}**3/16 + a^{\\dagger}_{1}**3*a_{2}/16 + a^{\\dagger}_{1}**4*a_{1}*a^{\\dagger}_{1}/16 + a^{\\dagger}_{1}**4*a_{1}**2/16 + a^{\\dagger}_{1}**5*a_{1}/16 + a^{\\dagger}_{1}**6/16 - a^{\\dagger}_{2}*a^{\\dagger}_{0}/16 + a^{\\dagger}_{2}*a^{\\dagger}_{1}*a_{1}*a^{\\dagger}_{1}/16 + a^{\\dagger}_{2}*a^{\\dagger}_{1}*a_{1}**2/16 + a^{\\dagger}_{2}*a^{\\dagger}_{1}**2*a_{1}/16 + a^{\\dagger}_{2}*a^{\\dagger}_{1}**3/16 - a^{\\dagger}_{2}*a_{0}/16 + a^{\\dagger}_{2}*a_{1}*a^{\\dagger}_{1}*a_{1}/16 + a^{\\dagger}_{2}*a_{1}*a^{\\dagger}_{1}**2/16 + a^{\\dagger}_{2}*a_{1}**2*a^{\\dagger}_{1}/16 + a^{\\dagger}_{2}*a_{1}**3/16 + 17*a^{\\dagger}_{2}*a_{2}/16 - 3*a^{\\dagger}_{2}*a_{2}*\\chi^{\\dagger}_{2}*\\chi_{2}/2 - a^{\\dagger}_{2}*a_{2}*a^{\\dagger}_{2}*a^{\\dagger}_{1}/16 - a^{\\dagger}_{2}*a_{2}*a^{\\dagger}_{2}*a_{1}/16 + a^{\\dagger}_{2}*a_{2}*a^{\\dagger}_{2}*a_{2}*a^{\\dagger}_{2}*a_{2}/16 + a^{\\dagger}_{2}*a_{2}*a^{\\dagger}_{2}*a_{2}*a^{\\dagger}_{2}**2/16 + a^{\\dagger}_{2}*a_{2}*a^{\\dagger}_{2}*a_{2}**2*a^{\\dagger}_{2}/16 + a^{\\dagger}_{2}*a_{2}*a^{\\dagger}_{2}*a_{2}**3/16 + a^{\\dagger}_{2}*a_{2}*a^{\\dagger}_{2}**2*a_{2}*a^{\\dagger}_{2}/16 + a^{\\dagger}_{2}*a_{2}*a^{\\dagger}_{2}**2*a_{2}**2/16 + a^{\\dagger}_{2}*a_{2}*a^{\\dagger}_{2}**3*a_{2}/16 + a^{\\dagger}_{2}*a_{2}*a^{\\dagger}_{2}**4/16 - a^{\\dagger}_{2}*a_{2}**2*a^{\\dagger}_{1}/16 + a^{\\dagger}_{2}*a_{2}**2*a^{\\dagger}_{2}*a_{2}*a^{\\dagger}_{2}/16 + a^{\\dagger}_{2}*a_{2}**2*a^{\\dagger}_{2}*a_{2}**2/16 + a^{\\dagger}_{2}*a_{2}**2*a^{\\dagger}_{2}**2*a_{2}/16 + a^{\\dagger}_{2}*a_{2}**2*a^{\\dagger}_{2}**3/16 - a^{\\dagger}_{2}*a_{2}**2*a_{1}/16 + a^{\\dagger}_{2}*a_{2}**3*a^{\\dagger}_{2}*a_{2}/16 + a^{\\dagger}_{2}*a_{2}**3*a^{\\dagger}_{2}**2/16 + a^{\\dagger}_{2}*a_{2}**4*a^{\\dagger}_{2}/16 + a^{\\dagger}_{2}*a_{2}**5/16 + 9*a^{\\dagger}_{2}**2/16 - 3*a^{\\dagger}_{2}**2*\\chi^{\\dagger}_{2}*\\chi_{2}/2 - a^{\\dagger}_{2}**2*a_{2}*a^{\\dagger}_{1}/16 + a^{\\dagger}_{2}**2*a_{2}*a^{\\dagger}_{2}*a_{2}*a^{\\dagger}_{2}/16 + a^{\\dagger}_{2}**2*a_{2}*a^{\\dagger}_{2}*a_{2}**2/16 + a^{\\dagger}_{2}**2*a_{2}*a^{\\dagger}_{2}**2*a_{2}/16 + a^{\\dagger}_{2}**2*a_{2}*a^{\\dagger}_{2}**3/16 - a^{\\dagger}_{2}**2*a_{2}*a_{1}/16 + a^{\\dagger}_{2}**2*a_{2}**2*a^{\\dagger}_{2}*a_{2}/16 + a^{\\dagger}_{2}**2*a_{2}**2*a^{\\dagger}_{2}**2/16 + a^{\\dagger}_{2}**2*a_{2}**3*a^{\\dagger}_{2}/16 + a^{\\dagger}_{2}**2*a_{2}**4/16 - a^{\\dagger}_{2}**3*a^{\\dagger}_{1}/16 - a^{\\dagger}_{2}**3*a_{1}/16 + a^{\\dagger}_{2}**3*a_{2}*a^{\\dagger}_{2}*a_{2}/16 + a^{\\dagger}_{2}**3*a_{2}*a^{\\dagger}_{2}**2/16 + a^{\\dagger}_{2}**3*a_{2}**2*a^{\\dagger}_{2}/16 + a^{\\dagger}_{2}**3*a_{2}**3/16 + a^{\\dagger}_{2}**4*a_{2}*a^{\\dagger}_{2}/16 + a^{\\dagger}_{2}**4*a_{2}**2/16 + a^{\\dagger}_{2}**5*a_{2}/16 + a^{\\dagger}_{2}**6/16 + 17*a_{0}*a^{\\dagger}_{0}/16 - 3*a_{0}*a^{\\dagger}_{0}*\\chi^{\\dagger}_{0}*\\chi_{0}/2 + a_{0}*a^{\\dagger}_{0}*a_{0}*a^{\\dagger}_{0}*a_{0}*a^{\\dagger}_{0}/16 + a_{0}*a^{\\dagger}_{0}*a_{0}*a^{\\dagger}_{0}*a_{0}**2/16 + a_{0}*a^{\\dagger}_{0}*a_{0}*a^{\\dagger}_{0}**2*a_{0}/16 + a_{0}*a^{\\dagger}_{0}*a_{0}*a^{\\dagger}_{0}**3/16 + a_{0}*a^{\\dagger}_{0}*a_{0}*a^{\\dagger}_{1}/16 + a_{0}*a^{\\dagger}_{0}*a_{0}*a_{1}/16 + a_{0}*a^{\\dagger}_{0}*a_{0}**2*a^{\\dagger}_{0}*a_{0}/16 + a_{0}*a^{\\dagger}_{0}*a_{0}**2*a^{\\dagger}_{0}**2/16 + a_{0}*a^{\\dagger}_{0}*a_{0}**3*a^{\\dagger}_{0}/16 + a_{0}*a^{\\dagger}_{0}*a_{0}**4/16 + a_{0}*a^{\\dagger}_{0}**2*a^{\\dagger}_{1}/16 + a_{0}*a^{\\dagger}_{0}**2*a_{0}*a^{\\dagger}_{0}*a_{0}/16 + a_{0}*a^{\\dagger}_{0}**2*a_{0}*a^{\\dagger}_{0}**2/16 + a_{0}*a^{\\dagger}_{0}**2*a_{0}**2*a^{\\dagger}_{0}/16 + a_{0}*a^{\\dagger}_{0}**2*a_{0}**3/16 + a_{0}*a^{\\dagger}_{0}**2*a_{1}/16 + a_{0}*a^{\\dagger}_{0}**3*a_{0}*a^{\\dagger}_{0}/16 + a_{0}*a^{\\dagger}_{0}**3*a_{0}**2/16 + a_{0}*a^{\\dagger}_{0}**4*a_{0}/16 + a_{0}*a^{\\dagger}_{0}**5/16 - a_{0}*a^{\\dagger}_{1}*a_{1}*a^{\\dagger}_{1}/16 - a_{0}*a^{\\dagger}_{1}*a_{1}**2/16 - a_{0}*a^{\\dagger}_{1}**2*a_{1}/16 - a_{0}*a^{\\dagger}_{1}**3/16 - a_{0}*a^{\\dagger}_{2}/16 - a_{0}*a_{1}*a^{\\dagger}_{1}*a_{1}/16 - a_{0}*a_{1}*a^{\\dagger}_{1}**2/16 - a_{0}*a_{1}**2*a^{\\dagger}_{1}/16 - a_{0}*a_{1}**3/16 - a_{0}*a_{2}/16 + 9*a_{0}**2/16 - 3*a_{0}**2*\\chi^{\\dagger}_{0}*\\chi_{0}/2 + a_{0}**2*a^{\\dagger}_{0}*a^{\\dagger}_{1}/16 + a_{0}**2*a^{\\dagger}_{0}*a_{0}*a^{\\dagger}_{0}*a_{0}/16 + a_{0}**2*a^{\\dagger}_{0}*a_{0}*a^{\\dagger}_{0}**2/16 + a_{0}**2*a^{\\dagger}_{0}*a_{0}**2*a^{\\dagger}_{0}/16 + a_{0}**2*a^{\\dagger}_{0}*a_{0}**3/16 + a_{0}**2*a^{\\dagger}_{0}*a_{1}/16 + a_{0}**2*a^{\\dagger}_{0}**2*a_{0}*a^{\\dagger}_{0}/16 + a_{0}**2*a^{\\dagger}_{0}**2*a_{0}**2/16 + a_{0}**2*a^{\\dagger}_{0}**3*a_{0}/16 + a_{0}**2*a^{\\dagger}_{0}**4/16 + a_{0}**3*a^{\\dagger}_{0}*a_{0}*a^{\\dagger}_{0}/16 + a_{0}**3*a^{\\dagger}_{0}*a_{0}**2/16 + a_{0}**3*a^{\\dagger}_{0}**2*a_{0}/16 + a_{0}**3*a^{\\dagger}_{0}**3/16 + a_{0}**3*a^{\\dagger}_{1}/16 + a_{0}**3*a_{1}/16 + a_{0}**4*a^{\\dagger}_{0}*a_{0}/16 + a_{0}**4*a^{\\dagger}_{0}**2/16 + a_{0}**5*a^{\\dagger}_{0}/16 + a_{0}**6/16 + a_{1}*a^{\\dagger}_{0}*a_{0}*a^{\\dagger}_{0}/16 + a_{1}*a^{\\dagger}_{0}*a_{0}**2/16 + a_{1}*a^{\\dagger}_{0}**2*a_{0}/16 + a_{1}*a^{\\dagger}_{0}**3/16 - 3*a_{1}*a^{\\dagger}_{1}/8 + 3*a_{1}*a^{\\dagger}_{1}*\\chi^{\\dagger}_{1}*\\chi_{1}/2 - a_{1}*a^{\\dagger}_{1}*a_{1}*a^{\\dagger}_{0}/16 + a_{1}*a^{\\dagger}_{1}*a_{1}*a^{\\dagger}_{1}*a_{1}*a^{\\dagger}_{1}/16 + a_{1}*a^{\\dagger}_{1}*a_{1}*a^{\\dagger}_{1}*a_{1}**2/16 + a_{1}*a^{\\dagger}_{1}*a_{1}*a^{\\dagger}_{1}**2*a_{1}/16 + a_{1}*a^{\\dagger}_{1}*a_{1}*a^{\\dagger}_{1}**3/16 + a_{1}*a^{\\dagger}_{1}*a_{1}*a^{\\dagger}_{2}/16 - a_{1}*a^{\\dagger}_{1}*a_{1}*a_{0}/16 + a_{1}*a^{\\dagger}_{1}*a_{1}*a_{2}/16 + a_{1}*a^{\\dagger}_{1}*a_{1}**2*a^{\\dagger}_{1}*a_{1}/16 + a_{1}*a^{\\dagger}_{1}*a_{1}**2*a^{\\dagger}_{1}**2/16 + a_{1}*a^{\\dagger}_{1}*a_{1}**3*a^{\\dagger}_{1}/16 + a_{1}*a^{\\dagger}_{1}*a_{1}**4/16 - a_{1}*a^{\\dagger}_{1}**2*a^{\\dagger}_{0}/16 + a_{1}*a^{\\dagger}_{1}**2*a^{\\dagger}_{2}/16 - a_{1}*a^{\\dagger}_{1}**2*a_{0}/16 + a_{1}*a^{\\dagger}_{1}**2*a_{1}*a^{\\dagger}_{1}*a_{1}/16 + a_{1}*a^{\\dagger}_{1}**2*a_{1}*a^{\\dagger}_{1}**2/16 + a_{1}*a^{\\dagger}_{1}**2*a_{1}**2*a^{\\dagger}_{1}/16 + a_{1}*a^{\\dagger}_{1}**2*a_{1}**3/16 + a_{1}*a^{\\dagger}_{1}**2*a_{2}/16 + a_{1}*a^{\\dagger}_{1}**3*a_{1}*a^{\\dagger}_{1}/16 + a_{1}*a^{\\dagger}_{1}**3*a_{1}**2/16 + a_{1}*a^{\\dagger}_{1}**4*a_{1}/16 + a_{1}*a^{\\dagger}_{1}**5/16 - a_{1}*a^{\\dagger}_{2}*a_{2}*a^{\\dagger}_{2}/16 - a_{1}*a^{\\dagger}_{2}*a_{2}**2/16 - a_{1}*a^{\\dagger}_{2}**2*a_{2}/16 - a_{1}*a^{\\dagger}_{2}**3/16 + a_{1}*a_{0}*a^{\\dagger}_{0}*a_{0}/16 + a_{1}*a_{0}*a^{\\dagger}_{0}**2/16 + a_{1}*a_{0}**2*a^{\\dagger}_{0}/16 + a_{1}*a_{0}**3/16 - a_{1}*a_{2}*a^{\\dagger}_{2}*a_{2}/16 - a_{1}*a_{2}*a^{\\dagger}_{2}**2/16 - a_{1}*a_{2}**2*a^{\\dagger}_{2}/16 - a_{1}*a_{2}**3/16 - 7*a_{1}**2/8 + 3*a_{1}**2*\\chi^{\\dagger}_{1}*\\chi_{1}/2 - a_{1}**2*a^{\\dagger}_{1}*a^{\\dagger}_{0}/16 + a_{1}**2*a^{\\dagger}_{1}*a^{\\dagger}_{2}/16 - a_{1}**2*a^{\\dagger}_{1}*a_{0}/16 + a_{1}**2*a^{\\dagger}_{1}*a_{1}*a^{\\dagger}_{1}*a_{1}/16 + a_{1}**2*a^{\\dagger}_{1}*a_{1}*a^{\\dagger}_{1}**2/16 + a_{1}**2*a^{\\dagger}_{1}*a_{1}**2*a^{\\dagger}_{1}/16 + a_{1}**2*a^{\\dagger}_{1}*a_{1}**3/16 + a_{1}**2*a^{\\dagger}_{1}*a_{2}/16 + a_{1}**2*a^{\\dagger}_{1}**2*a_{1}*a^{\\dagger}_{1}/16 + a_{1}**2*a^{\\dagger}_{1}**2*a_{1}**2/16 + a_{1}**2*a^{\\dagger}_{1}**3*a_{1}/16 + a_{1}**2*a^{\\dagger}_{1}**4/16 - a_{1}**3*a^{\\dagger}_{0}/16 + a_{1}**3*a^{\\dagger}_{1}*a_{1}*a^{\\dagger}_{1}/16 + a_{1}**3*a^{\\dagger}_{1}*a_{1}**2/16 + a_{1}**3*a^{\\dagger}_{1}**2*a_{1}/16 + a_{1}**3*a^{\\dagger}_{1}**3/16 + a_{1}**3*a^{\\dagger}_{2}/16 - a_{1}**3*a_{0}/16 + a_{1}**3*a_{2}/16 + a_{1}**4*a^{\\dagger}_{1}*a_{1}/16 + a_{1}**4*a^{\\dagger}_{1}**2/16 + a_{1}**5*a^{\\dagger}_{1}/16 + a_{1}**6/16 - a_{2}*a^{\\dagger}_{0}/16 + a_{2}*a^{\\dagger}_{1}*a_{1}*a^{\\dagger}_{1}/16 + a_{2}*a^{\\dagger}_{1}*a_{1}**2/16 + a_{2}*a^{\\dagger}_{1}**2*a_{1}/16 + a_{2}*a^{\\dagger}_{1}**3/16 + 17*a_{2}*a^{\\dagger}_{2}/16 - 3*a_{2}*a^{\\dagger}_{2}*\\chi^{\\dagger}_{2}*\\chi_{2}/2 - a_{2}*a^{\\dagger}_{2}*a_{2}*a^{\\dagger}_{1}/16 + a_{2}*a^{\\dagger}_{2}*a_{2}*a^{\\dagger}_{2}*a_{2}*a^{\\dagger}_{2}/16 + a_{2}*a^{\\dagger}_{2}*a_{2}*a^{\\dagger}_{2}*a_{2}**2/16 + a_{2}*a^{\\dagger}_{2}*a_{2}*a^{\\dagger}_{2}**2*a_{2}/16 + a_{2}*a^{\\dagger}_{2}*a_{2}*a^{\\dagger}_{2}**3/16 - a_{2}*a^{\\dagger}_{2}*a_{2}*a_{1}/16 + a_{2}*a^{\\dagger}_{2}*a_{2}**2*a^{\\dagger}_{2}*a_{2}/16 + a_{2}*a^{\\dagger}_{2}*a_{2}**2*a^{\\dagger}_{2}**2/16 + a_{2}*a^{\\dagger}_{2}*a_{2}**3*a^{\\dagger}_{2}/16 + a_{2}*a^{\\dagger}_{2}*a_{2}**4/16 - a_{2}*a^{\\dagger}_{2}**2*a^{\\dagger}_{1}/16 - a_{2}*a^{\\dagger}_{2}**2*a_{1}/16 + a_{2}*a^{\\dagger}_{2}**2*a_{2}*a^{\\dagger}_{2}*a_{2}/16 + a_{2}*a^{\\dagger}_{2}**2*a_{2}*a^{\\dagger}_{2}**2/16 + a_{2}*a^{\\dagger}_{2}**2*a_{2}**2*a^{\\dagger}_{2}/16 + a_{2}*a^{\\dagger}_{2}**2*a_{2}**3/16 + a_{2}*a^{\\dagger}_{2}**3*a_{2}*a^{\\dagger}_{2}/16 + a_{2}*a^{\\dagger}_{2}**3*a_{2}**2/16 + a_{2}*a^{\\dagger}_{2}**4*a_{2}/16 + a_{2}*a^{\\dagger}_{2}**5/16 - a_{2}*a_{0}/16 + a_{2}*a_{1}*a^{\\dagger}_{1}*a_{1}/16 + a_{2}*a_{1}*a^{\\dagger}_{1}**2/16 + a_{2}*a_{1}**2*a^{\\dagger}_{1}/16 + a_{2}*a_{1}**3/16 + 9*a_{2}**2/16 - 3*a_{2}**2*\\chi^{\\dagger}_{2}*\\chi_{2}/2 - a_{2}**2*a^{\\dagger}_{2}*a^{\\dagger}_{1}/16 - a_{2}**2*a^{\\dagger}_{2}*a_{1}/16 + a_{2}**2*a^{\\dagger}_{2}*a_{2}*a^{\\dagger}_{2}*a_{2}/16 + a_{2}**2*a^{\\dagger}_{2}*a_{2}*a^{\\dagger}_{2}**2/16 + a_{2}**2*a^{\\dagger}_{2}*a_{2}**2*a^{\\dagger}_{2}/16 + a_{2}**2*a^{\\dagger}_{2}*a_{2}**3/16 + a_{2}**2*a^{\\dagger}_{2}**2*a_{2}*a^{\\dagger}_{2}/16 + a_{2}**2*a^{\\dagger}_{2}**2*a_{2}**2/16 + a_{2}**2*a^{\\dagger}_{2}**3*a_{2}/16 + a_{2}**2*a^{\\dagger}_{2}**4/16 - a_{2}**3*a^{\\dagger}_{1}/16 + a_{2}**3*a^{\\dagger}_{2}*a_{2}*a^{\\dagger}_{2}/16 + a_{2}**3*a^{\\dagger}_{2}*a_{2}**2/16 + a_{2}**3*a^{\\dagger}_{2}**2*a_{2}/16 + a_{2}**3*a^{\\dagger}_{2}**3/16 - a_{2}**3*a_{1}/16 + a_{2}**4*a^{\\dagger}_{2}*a_{2}/16 + a_{2}**4*a^{\\dagger}_{2}**2/16 + a_{2}**5*a^{\\dagger}_{2}/16 + a_{2}**6/16"
      ]
     },
     "execution_count": 8,
     "metadata": {},
     "output_type": "execute_result"
    }
   ],
   "source": [
    "m=1\n",
    "\n",
    "HOdofSubs = {}\n",
    "#offset because of BC\n",
    "for i in range(1,N+1):\n",
    "    HOdofSubs[qs[i]] = 0.5*sp.sqrt(2/m)*(aops[i] + adags[i])\n",
    "    HOdofSubs[ps[i]] = complex(0,1)*sp.sqrt(2*m)*(adags[i] - aops[i])/2 \n",
    "\n",
    "hoHam=sp.expand(ham.subs(HOdofSubs))\n",
    "hoHam=sp.nsimplify(hoHam,tolerance=1e-8)\n",
    "hoHam"
   ]
  },
  {
   "cell_type": "code",
   "execution_count": 9,
   "metadata": {},
   "outputs": [
    {
     "name": "stdout",
     "output_type": "stream",
     "text": [
      "toHam timer took: 4.8241 seconds\n",
      "evals timer took: 0.0144 seconds\n",
      "Lambda =  2\n",
      "[0.15418747+2.0541016e-09j 0.15418752+9.4954211e-10j\n",
      " 0.3124992 -8.1665847e-09j 0.15418744+1.4786428e-09j\n",
      " 0.1541874 +6.6308936e-09j 0.3124998 -1.2140514e-08j\n",
      " 0.31249988+2.4498162e-10j 0.3125    -3.5724772e-09j\n",
      " 0.3125    +1.3171400e-09j 0.3124999 +1.4137790e-09j]\n",
      "\n",
      "toHam timer took: 6.7308 seconds\n",
      "evals timer took: 0.0040 seconds\n",
      "Lambda =  3\n",
      "[ 0.06825045-6.3725347e-10j -0.124735  -7.8500308e-09j\n",
      " -0.17239861+1.8576137e-09j  0.08979215+4.3345638e-09j\n",
      "  0.09699035-2.6509290e-09j  0.10679831+2.4493747e-09j\n",
      " -0.2713635 +3.5877163e-09j  0.14073406-2.7249634e-09j\n",
      "  0.17448147+2.6539222e-09j  0.28970635+6.6117772e-10j]\n",
      "\n",
      "toHam timer took: 11.9639 seconds\n",
      "evals timer took: 0.0198 seconds\n",
      "Lambda =  4\n",
      "[0.16912556+7.1226385e-09j 0.96722734+1.4004891e-08j\n",
      " 1.0191715 +3.8445673e-09j 1.0281236 +1.3880791e-08j\n",
      " 1.1001977 -4.1490690e-08j 1.2741709 -1.4274924e-08j\n",
      " 1.2734082 +2.3284169e-08j 1.8046721 +1.9673767e-08j\n",
      " 1.8250339 -3.5975297e-08j 1.8784918 +1.9133871e-08j]\n",
      "\n",
      "toHam timer took: 22.5734 seconds\n",
      "evals timer took: 0.0531 seconds\n",
      "Lambda =  5\n",
      "[-0.01380049+1.3688236e-09j -0.17266949+1.3978177e-08j\n",
      " -0.37622434+1.9654973e-08j  0.26041368+1.5397758e-08j\n",
      "  0.28199726-8.4681001e-10j  0.3534017 -1.2497870e-07j\n",
      "  0.5175096 -1.3573447e-08j  0.6336513 +1.4392111e-08j\n",
      "  0.81260836+6.0992569e-08j  0.88134134-7.3600863e-09j]\n",
      "\n",
      "toHam timer took: 53.2942 seconds\n",
      "evals timer took: 0.6061 seconds\n",
      "Lambda =  6\n",
      "[0.2012574-9.8968506e-08j 1.0789629-1.4816029e-08j\n",
      " 1.1039349+7.3850202e-08j 1.2541984-7.1785614e-08j\n",
      " 1.2723491-5.8859555e-08j 1.2992196-6.1795788e-08j\n",
      " 1.3444242+4.9781104e-09j 2.0637424+3.2113089e-08j\n",
      " 2.1069448+1.7905025e-08j 2.1044996+5.6575455e-09j]\n",
      "\n",
      "toHam timer took: 94.4854 seconds\n",
      "evals timer took: 1.1164 seconds\n",
      "Lambda =  7\n",
      "[-0.2683151 -3.61273642e-08j  0.7517607 -5.09385103e-08j\n",
      "  0.7630954 -1.97925099e-09j  0.9161818 +1.02745631e-07j\n",
      "  0.9252789 -1.63204525e-08j  0.95166487-7.50685345e-08j\n",
      "  0.97310954-1.56874052e-08j  1.9191121 +1.15496315e-08j\n",
      "  1.9239671 +2.12929322e-07j  1.925641  +3.15604893e-08j]\n",
      "\n",
      "toHam timer took: 157.9913 seconds\n",
      "evals timer took: 2.7561 seconds\n",
      "Lambda =  8\n",
      "[-0.13305594+6.7553181e-08j  0.4651044 -5.8462120e-09j\n",
      "  0.6943998 +7.8574230e-10j  0.7207904 -8.0213765e-09j\n",
      "  0.88012874+2.9987021e-08j  1.0205932 -2.9576839e-07j\n",
      "  1.065629  +1.2834535e-08j  1.2757136 -1.4818400e-07j\n",
      "  1.2916975 +8.1191608e-08j  1.5238731 -2.0915476e-07j]\n",
      "\n",
      "toHam timer took: 190.5446 seconds\n",
      "evals timer took: 3.1148 seconds\n",
      "Lambda =  9\n",
      "[0.05997969+1.1314078e-08j 0.97188604+7.5957232e-09j\n",
      " 1.1326771 -1.3151147e-07j 1.1948094 +1.1775310e-07j\n",
      " 1.1758114 +3.5967355e-07j 1.2955358 -3.1092583e-07j\n",
      " 1.3201224 +3.8218342e-08j 2.0748246 +2.3627253e-08j\n",
      " 2.1062918 +6.3526379e-08j 2.2132864 -2.8546593e-08j]\n",
      "\n",
      "toHam timer took: 287.5377 seconds\n",
      "evals timer took: 4.2830 seconds\n",
      "Lambda =  10\n",
      "[-0.09895789-4.8040572e-08j  0.6643593 -3.9247300e-07j\n",
      "  0.8655024 +4.6224270e-07j  0.88879067-5.6814429e-08j\n",
      "  0.8918919 -1.4607420e-07j  1.0876852 +1.0220301e-07j\n",
      "  1.054204  -3.5288954e-09j  1.6089908 -1.3943684e-07j\n",
      "  1.6414547 -3.1126310e-09j  1.7777551 -1.0170425e-08j]\n",
      "\n"
     ]
    }
   ],
   "source": [
    "for cutoff in [2,3,4,5,6,7,8,9,10]:\n",
    "    t=Timer('toHam')\n",
    "    t.start()\n",
    "    hamMat=convert_to_matrix(hoHam,cutoff,N,aops,adags,xs,xdags)\n",
    "    t.stop()\n",
    "    \n",
    "    t=Timer('evals')\n",
    "    t.start()\n",
    "    ens=scipy.sparse.linalg.eigs(hamMat,k=10,sigma=0)[0]\n",
    "    t.stop()\n",
    "    \n",
    "    print(\"Lambda = \",cutoff)\n",
    "    print(ens)\n",
    "    print()"
   ]
  },
  {
   "cell_type": "code",
   "execution_count": null,
   "metadata": {},
   "outputs": [],
   "source": []
  }
 ],
 "metadata": {
  "kernelspec": {
   "display_name": "Python 3",
   "language": "python",
   "name": "python3"
  },
  "language_info": {
   "codemirror_mode": {
    "name": "ipython",
    "version": 3
   },
   "file_extension": ".py",
   "mimetype": "text/x-python",
   "name": "python",
   "nbconvert_exporter": "python",
   "pygments_lexer": "ipython3",
   "version": "3.9.1"
  }
 },
 "nbformat": 4,
 "nbformat_minor": 5
}
