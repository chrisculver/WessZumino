{
 "cells": [
  {
   "cell_type": "markdown",
   "metadata": {},
   "source": [
    "# Wess Zumino \n",
    "\n",
    "## N=1 in 1+1\n",
    "\n",
    "The Hamiltonian with a central difference for the derivative is given by \n",
    "\n",
    "\\begin{align}\n",
    "    H=\\sum_n&\\left[ \\frac{p_n^2}{2a} + \\frac{a}{2}\\left(\\frac{\\phi_{n+1}-\\phi_{n-1}}{2a}\\right)^2+\\frac{a}{2}V(\\phi_n)^2\n",
    "            +aV(\\phi_n)\\frac{\\phi_{n+1}-\\phi_{n-1}}{2a} \\right. \\nonumber \\\\\n",
    "            &\\left.+(-1)^nV'(\\phi_n)\\left(\\chi_n^{\\dagger}\\chi_n-\\frac{1}{2}\\right)\n",
    "            +\\frac{1}{2a}\\left(\\chi_n^{\\dagger}\\chi_{n+1}+\\chi_{n+1}^{\\dagger}\\chi_n\\right) \\right],\n",
    "\\end{align}"
   ]
  },
  {
   "cell_type": "code",
   "execution_count": 1,
   "metadata": {},
   "outputs": [],
   "source": [
    "import sympy as sp\n",
    "from ham_to_sparse_matrix import *\n",
    "from constants import *\n",
    "import scipy.sparse.linalg"
   ]
  },
  {
   "cell_type": "code",
   "execution_count": 2,
   "metadata": {},
   "outputs": [],
   "source": [
    "bosonNI=sp.expand( pn**2/(2*aLat) + (aLat/2)*((qnP1-qnM1)/(2*aLat))**2 )\n",
    "bosonI=sp.expand( (aLat/2)*V(qn)**2 + aLat*V(qn)*(qnP1-qnM1)/(4*aLat) + aLat*(qnP1-qnM1)*V(qn)/(4*aLat) )\n",
    "fermionNI=sp.expand( -(xdnP1*xn+xdn*xnP1)/(2*aLat) )\n",
    "fermionI=sp.expand( sp.diff(V(qn),qn)*(xdn*xn-(1/2)) )"
   ]
  },
  {
   "cell_type": "code",
   "execution_count": 3,
   "metadata": {},
   "outputs": [
    {
     "data": {
      "text/latex": [
       "$\\displaystyle \\frac{a V^{2}{\\left(q_{n} \\right)}}{2} + \\frac{q_{n+1} V{\\left(q_{n} \\right)}}{4} - \\frac{q_{n-1} V{\\left(q_{n} \\right)}}{4} + \\frac{V{\\left(q_{n} \\right)} q_{n+1}}{4} - \\frac{V{\\left(q_{n} \\right)} q_{n-1}}{4} + \\frac{p_{n}^{2}}{2 a} - \\frac{q_{n+1} q_{n-1}}{8 a} + \\frac{q_{n+1}^{2}}{8 a} - \\frac{q_{n-1} q_{n+1}}{8 a} + \\frac{q_{n-1}^{2}}{8 a}$"
      ],
      "text/plain": [
       "a*V(q_{n})**2/2 + q_{n+1}*V(q_{n})/4 - q_{n-1}*V(q_{n})/4 + V(q_{n})*q_{n+1}/4 - V(q_{n})*q_{n-1}/4 + p_{n}**2/(2*a) - q_{n+1}*q_{n-1}/(8*a) + q_{n+1}**2/(8*a) - q_{n-1}*q_{n+1}/(8*a) + q_{n-1}**2/(8*a)"
      ]
     },
     "execution_count": 3,
     "metadata": {},
     "output_type": "execute_result"
    }
   ],
   "source": [
    "bosonNI+bosonI"
   ]
  },
  {
   "cell_type": "code",
   "execution_count": 4,
   "metadata": {},
   "outputs": [
    {
     "data": {
      "text/latex": [
       "$\\displaystyle - 0.5 \\frac{d}{d q_{n}} V{\\left(q_{n} \\right)} + \\frac{d}{d q_{n}} V{\\left(q_{n} \\right)} \\chi^{\\dagger}_{n} \\chi_{n} - \\frac{\\chi^{\\dagger}_{n+1} \\chi_{n}}{2 a} - \\frac{\\chi^{\\dagger}_{n} \\chi_{n+1}}{2 a}$"
      ],
      "text/plain": [
       "-0.5*Derivative(V(q_{n}), q_{n}) + Derivative(V(q_{n}), q_{n})*\\chi^{\\dagger}_{n}*\\chi_{n} - \\chi^{\\dagger}_{n+1}*\\chi_{n}/(2*a) - \\chi^{\\dagger}_{n}*\\chi_{n+1}/(2*a)"
      ]
     },
     "execution_count": 4,
     "metadata": {},
     "output_type": "execute_result"
    }
   ],
   "source": [
    "fermionNI + fermionI"
   ]
  },
  {
   "cell_type": "code",
   "execution_count": 5,
   "metadata": {},
   "outputs": [],
   "source": [
    "N=3\n",
    "aVal=1\n",
    "\n",
    "# depends on finite-difference method\n",
    "qs=[SiteSymbol('q',str(i)) for i in range(-1,N+1,1)]\n",
    "# maybe make qs a normal site list\n",
    "# and make an extra boundaryQs list for q[-1], q[N]\n",
    "# counting would be normal computer science way for rest of code.\n",
    "\n",
    "ps=[SiteSymbol('p',str(i)) for i in range(-1,N+1,1)] # don't really need extras\n",
    "aops=[SiteSymbol('a',str(i)) for i in range(-1,N+1,1)]\n",
    "adags=[SiteSymbol('a^{\\dagger}',str(i)) for i in range(-1,N+1,1)]\n",
    "xs=[SiteSymbol('\\chi',str(i)) for i in range(-1,N+1,1)]\n",
    "xdags=[SiteSymbol('\\chi^{\\dagger}',str(i)) for i in range(-1,N+1,1)]\n",
    "\n",
    "# note this is exactly hardcoded for this finite difference method.\n",
    "bcType = 'dirichlet'\n",
    "boundaryConditions = {}\n",
    "if bcType == 'periodic':\n",
    "    boundaryConditions = {qs[0]: qs[N], qs[N+1]: qs[1],\n",
    "                          xs[0]: -xs[N], xs[N+1]: -xs[1], \n",
    "                          xdags[0]: -xdags[N],  xdags[N+1]: -xdags[1]\n",
    "                         }\n",
    "    \n",
    "elif bcType == 'dirichlet':\n",
    "    boundaryConditions = { qs[0]: 0, qs[N+1]: 0,\n",
    "                          xs[0]: 0, xs[N+1]: 0,\n",
    "                          xdags[0]: 0, xdags[N+1]:0\n",
    "                         }"
   ]
  },
  {
   "cell_type": "code",
   "execution_count": 6,
   "metadata": {},
   "outputs": [
    {
     "data": {
      "text/latex": [
       "$\\displaystyle \\frac{a V^{2}{\\left(q_{n} \\right)}}{2} + \\frac{q_{n+1} V{\\left(q_{n} \\right)}}{4} - \\frac{q_{n-1} V{\\left(q_{n} \\right)}}{4} + \\frac{V{\\left(q_{n} \\right)} q_{n+1}}{4} - \\frac{V{\\left(q_{n} \\right)} q_{n-1}}{4} - 0.5 \\frac{d}{d q_{n}} V{\\left(q_{n} \\right)} + \\frac{d}{d q_{n}} V{\\left(q_{n} \\right)} \\chi^{\\dagger}_{n} \\chi_{n} - \\frac{\\chi^{\\dagger}_{n+1} \\chi_{n}}{2 a} - \\frac{\\chi^{\\dagger}_{n} \\chi_{n+1}}{2 a} + \\frac{p_{n}^{2}}{2 a} - \\frac{q_{n+1} q_{n-1}}{8 a} + \\frac{q_{n+1}^{2}}{8 a} - \\frac{q_{n-1} q_{n+1}}{8 a} + \\frac{q_{n-1}^{2}}{8 a}$"
      ],
      "text/plain": [
       "a*V(q_{n})**2/2 + q_{n+1}*V(q_{n})/4 - q_{n-1}*V(q_{n})/4 + V(q_{n})*q_{n+1}/4 - V(q_{n})*q_{n-1}/4 - 0.5*Derivative(V(q_{n}), q_{n}) + Derivative(V(q_{n}), q_{n})*\\chi^{\\dagger}_{n}*\\chi_{n} - \\chi^{\\dagger}_{n+1}*\\chi_{n}/(2*a) - \\chi^{\\dagger}_{n}*\\chi_{n+1}/(2*a) + p_{n}**2/(2*a) - q_{n+1}*q_{n-1}/(8*a) + q_{n+1}**2/(8*a) - q_{n-1}*q_{n+1}/(8*a) + q_{n-1}**2/(8*a)"
      ]
     },
     "execution_count": 6,
     "metadata": {},
     "output_type": "execute_result"
    }
   ],
   "source": [
    "totHam=bosonNI+bosonI+fermionNI+fermionI\n",
    "totHam"
   ]
  },
  {
   "cell_type": "code",
   "execution_count": 7,
   "metadata": {},
   "outputs": [
    {
     "data": {
      "text/latex": [
       "$\\displaystyle \\frac{1.92 - 4 \\chi^{\\dagger}_{0} \\chi_{1} - 4 \\chi^{\\dagger}_{1} \\chi_{0} - 4 \\chi^{\\dagger}_{1} \\chi_{2} - 4 \\chi^{\\dagger}_{2} \\chi_{1} + 4 p_{0}^{2} + 4 p_{1}^{2} + 4 p_{2}^{2} + 9.6 q_{0} - 16 q_{0} \\chi^{\\dagger}_{0} \\chi_{0} - 2 q_{0} q_{1}^{2} - q_{0} q_{2} - 2.2 q_{0}^{2} + 2 q_{0}^{2} q_{1} + 4 q_{0}^{4} - 8.0 q_{1} + 16 q_{1} \\chi^{\\dagger}_{1} \\chi_{1} + 2 q_{1} q_{0}^{2} - 2 q_{1} q_{2}^{2} - 1.2 q_{1}^{2} - 2 q_{1}^{2} q_{0} + 2 q_{1}^{2} q_{2} + 4 q_{1}^{4} + 6.4 q_{2} - 16 q_{2} \\chi^{\\dagger}_{2} \\chi_{2} - q_{2} q_{0} + 2 q_{2} q_{1}^{2} - 2.2 q_{2}^{2} - 2 q_{2}^{2} q_{1} + 4 q_{2}^{4}}{8}$"
      ],
      "text/plain": [
       "(1.92 - 4*\\chi^{\\dagger}_{0}*\\chi_{1} - 4*\\chi^{\\dagger}_{1}*\\chi_{0} - 4*\\chi^{\\dagger}_{1}*\\chi_{2} - 4*\\chi^{\\dagger}_{2}*\\chi_{1} + 4*p_{0}**2 + 4*p_{1}**2 + 4*p_{2}**2 + 9.6*q_{0} - 16*q_{0}*\\chi^{\\dagger}_{0}*\\chi_{0} - 2*q_{0}*q_{1}**2 - q_{0}*q_{2} - 2.2*q_{0}**2 + 2*q_{0}**2*q_{1} + 4*q_{0}**4 - 8.0*q_{1} + 16*q_{1}*\\chi^{\\dagger}_{1}*\\chi_{1} + 2*q_{1}*q_{0}**2 - 2*q_{1}*q_{2}**2 - 1.2*q_{1}**2 - 2*q_{1}**2*q_{0} + 2*q_{1}**2*q_{2} + 4*q_{1}**4 + 6.4*q_{2} - 16*q_{2}*\\chi^{\\dagger}_{2}*\\chi_{2} - q_{2}*q_{0} + 2*q_{2}*q_{1}**2 - 2.2*q_{2}**2 - 2*q_{2}**2*q_{1} + 4*q_{2}**4)/8"
      ]
     },
     "execution_count": 7,
     "metadata": {},
     "output_type": "execute_result"
    }
   ],
   "source": [
    "ham=0\n",
    "\n",
    "c=-0.4\n",
    "c2=1\n",
    "\n",
    "for i in range(1,N+1):\n",
    "    ham+=(bosonNI+bosonI+fermionNI).subs({\n",
    "        pn: ps[i],\n",
    "        qn: qs[i], qnP1: qs[i+1], qnM1: qs[i-1],\n",
    "        xn: xs[i], xnP1: xs[i+1],\n",
    "        xdn: xdags[i], xdnP1: xdags[i+1]\n",
    "    }).subs(boundaryConditions)\n",
    "    \n",
    "# ham.subs(boundaryConditions).doit() # this doesn't work?\n",
    "\n",
    "\n",
    "def potential(n):\n",
    "    return c + c2*qs[n]*qs[n]\n",
    "\n",
    "potentialSubs={}\n",
    "for n in range(1,N+1):\n",
    "    potentialSubs[V(qs[n])]=potential(n)\n",
    "\n",
    "ham=sp.simplify(ham.subs(potentialSubs).subs(aLat,aVal))\n",
    "\n",
    "for i in range(1,N+1):\n",
    "    if i%2==0:\n",
    "        ham+=sp.simplify(fermionI.subs({qn: qs[i], xn: xs[i], xdn: xdags[i]}).subs(potentialSubs))\n",
    "    else:\n",
    "        ham-=sp.simplify(fermionI.subs({qn: qs[i], xn: xs[i], xdn: xdags[i]}).subs(potentialSubs))\n",
    "ham=sp.simplify(ham.subs(aLat,aVal))\n",
    "ham"
   ]
  },
  {
   "cell_type": "code",
   "execution_count": 8,
   "metadata": {},
   "outputs": [
    {
     "data": {
      "text/latex": [
       "$\\displaystyle \\frac{6}{25} - \\frac{\\chi^{\\dagger}_{0} \\chi_{1}}{2} - \\frac{\\chi^{\\dagger}_{1} \\chi_{0}}{2} - \\frac{\\chi^{\\dagger}_{1} \\chi_{2}}{2} - \\frac{\\chi^{\\dagger}_{2} \\chi_{1}}{2} + \\frac{70053979 a^{\\dagger}_{0}}{82559406} - \\frac{131836323 a^{\\dagger}_{0} \\chi^{\\dagger}_{0} \\chi_{0}}{93222358} - \\frac{3998607 a^{\\dagger}_{0} a^{\\dagger}_{1} a_{1}}{45239074} - \\frac{3998607 a^{\\dagger}_{0} \\left(a^{\\dagger}_{1}\\right)^{2}}{45239074} - \\frac{a^{\\dagger}_{0} a^{\\dagger}_{2}}{16} + \\frac{9 a^{\\dagger}_{0} a_{0}}{80} + \\frac{a^{\\dagger}_{0} a_{0} a^{\\dagger}_{0} a_{0}}{8} + \\frac{a^{\\dagger}_{0} a_{0} \\left(a^{\\dagger}_{0}\\right)^{2}}{8} + \\frac{3998607 a^{\\dagger}_{0} a_{0} a^{\\dagger}_{1}}{45239074} + \\frac{3998607 a^{\\dagger}_{0} a_{0} a_{1}}{45239074} + \\frac{a^{\\dagger}_{0} a_{0}^{2} a^{\\dagger}_{0}}{8} + \\frac{a^{\\dagger}_{0} a_{0}^{3}}{8} - \\frac{3998607 a^{\\dagger}_{0} a_{1} a^{\\dagger}_{1}}{45239074} - \\frac{3998607 a^{\\dagger}_{0} a_{1}^{2}}{45239074} - \\frac{a^{\\dagger}_{0} a_{2}}{16} - \\frac{31 \\left(a^{\\dagger}_{0}\\right)^{2}}{80} + \\frac{3998607 \\left(a^{\\dagger}_{0}\\right)^{2} a^{\\dagger}_{1}}{45239074} + \\frac{\\left(a^{\\dagger}_{0}\\right)^{2} a_{0} a^{\\dagger}_{0}}{8} + \\frac{\\left(a^{\\dagger}_{0}\\right)^{2} a_{0}^{2}}{8} + \\frac{3998607 \\left(a^{\\dagger}_{0}\\right)^{2} a_{1}}{45239074} + \\frac{\\left(a^{\\dagger}_{0}\\right)^{3} a_{0}}{8} + \\frac{\\left(a^{\\dagger}_{0}\\right)^{4}}{8} - \\frac{38613965 a^{\\dagger}_{1}}{54608393} + \\frac{131836323 a^{\\dagger}_{1} \\chi^{\\dagger}_{1} \\chi_{1}}{93222358} + \\frac{3998607 a^{\\dagger}_{1} a^{\\dagger}_{0} a_{0}}{45239074} + \\frac{3998607 a^{\\dagger}_{1} \\left(a^{\\dagger}_{0}\\right)^{2}}{45239074} - \\frac{3998607 a^{\\dagger}_{1} a^{\\dagger}_{2} a_{2}}{45239074} - \\frac{3998607 a^{\\dagger}_{1} \\left(a^{\\dagger}_{2}\\right)^{2}}{45239074} + \\frac{3998607 a^{\\dagger}_{1} a_{0} a^{\\dagger}_{0}}{45239074} + \\frac{3998607 a^{\\dagger}_{1} a_{0}^{2}}{45239074} + \\frac{7 a^{\\dagger}_{1} a_{1}}{40} - \\frac{3998607 a^{\\dagger}_{1} a_{1} a^{\\dagger}_{0}}{45239074} + \\frac{a^{\\dagger}_{1} a_{1} a^{\\dagger}_{1} a_{1}}{8} + \\frac{a^{\\dagger}_{1} a_{1} \\left(a^{\\dagger}_{1}\\right)^{2}}{8} + \\frac{3998607 a^{\\dagger}_{1} a_{1} a^{\\dagger}_{2}}{45239074} - \\frac{3998607 a^{\\dagger}_{1} a_{1} a_{0}}{45239074} + \\frac{3998607 a^{\\dagger}_{1} a_{1} a_{2}}{45239074} + \\frac{a^{\\dagger}_{1} a_{1}^{2} a^{\\dagger}_{1}}{8} + \\frac{a^{\\dagger}_{1} a_{1}^{3}}{8} - \\frac{3998607 a^{\\dagger}_{1} a_{2} a^{\\dagger}_{2}}{45239074} - \\frac{3998607 a^{\\dagger}_{1} a_{2}^{2}}{45239074} - \\frac{13 \\left(a^{\\dagger}_{1}\\right)^{2}}{40} - \\frac{3998607 \\left(a^{\\dagger}_{1}\\right)^{2} a^{\\dagger}_{0}}{45239074} + \\frac{3998607 \\left(a^{\\dagger}_{1}\\right)^{2} a^{\\dagger}_{2}}{45239074} - \\frac{3998607 \\left(a^{\\dagger}_{1}\\right)^{2} a_{0}}{45239074} + \\frac{\\left(a^{\\dagger}_{1}\\right)^{2} a_{1} a^{\\dagger}_{1}}{8} + \\frac{\\left(a^{\\dagger}_{1}\\right)^{2} a_{1}^{2}}{8} + \\frac{3998607 \\left(a^{\\dagger}_{1}\\right)^{2} a_{2}}{45239074} + \\frac{\\left(a^{\\dagger}_{1}\\right)^{3} a_{1}}{8} + \\frac{\\left(a^{\\dagger}_{1}\\right)^{4}}{8} + \\frac{30891172 a^{\\dagger}_{2}}{54608393} - \\frac{131836323 a^{\\dagger}_{2} \\chi^{\\dagger}_{2} \\chi_{2}}{93222358} - \\frac{a^{\\dagger}_{2} a^{\\dagger}_{0}}{16} + \\frac{3998607 a^{\\dagger}_{2} a^{\\dagger}_{1} a_{1}}{45239074} + \\frac{3998607 a^{\\dagger}_{2} \\left(a^{\\dagger}_{1}\\right)^{2}}{45239074} - \\frac{a^{\\dagger}_{2} a_{0}}{16} + \\frac{3998607 a^{\\dagger}_{2} a_{1} a^{\\dagger}_{1}}{45239074} + \\frac{3998607 a^{\\dagger}_{2} a_{1}^{2}}{45239074} + \\frac{9 a^{\\dagger}_{2} a_{2}}{80} - \\frac{3998607 a^{\\dagger}_{2} a_{2} a^{\\dagger}_{1}}{45239074} + \\frac{a^{\\dagger}_{2} a_{2} a^{\\dagger}_{2} a_{2}}{8} + \\frac{a^{\\dagger}_{2} a_{2} \\left(a^{\\dagger}_{2}\\right)^{2}}{8} - \\frac{3998607 a^{\\dagger}_{2} a_{2} a_{1}}{45239074} + \\frac{a^{\\dagger}_{2} a_{2}^{2} a^{\\dagger}_{2}}{8} + \\frac{a^{\\dagger}_{2} a_{2}^{3}}{8} - \\frac{31 \\left(a^{\\dagger}_{2}\\right)^{2}}{80} - \\frac{3998607 \\left(a^{\\dagger}_{2}\\right)^{2} a^{\\dagger}_{1}}{45239074} - \\frac{3998607 \\left(a^{\\dagger}_{2}\\right)^{2} a_{1}}{45239074} + \\frac{\\left(a^{\\dagger}_{2}\\right)^{2} a_{2} a^{\\dagger}_{2}}{8} + \\frac{\\left(a^{\\dagger}_{2}\\right)^{2} a_{2}^{2}}{8} + \\frac{\\left(a^{\\dagger}_{2}\\right)^{3} a_{2}}{8} + \\frac{\\left(a^{\\dagger}_{2}\\right)^{4}}{8} + \\frac{70053979 a_{0}}{82559406} - \\frac{131836323 a_{0} \\chi^{\\dagger}_{0} \\chi_{0}}{93222358} + \\frac{9 a_{0} a^{\\dagger}_{0}}{80} + \\frac{3998607 a_{0} a^{\\dagger}_{0} a^{\\dagger}_{1}}{45239074} + \\frac{a_{0} a^{\\dagger}_{0} a_{0} a^{\\dagger}_{0}}{8} + \\frac{a_{0} a^{\\dagger}_{0} a_{0}^{2}}{8} + \\frac{3998607 a_{0} a^{\\dagger}_{0} a_{1}}{45239074} + \\frac{a_{0} \\left(a^{\\dagger}_{0}\\right)^{2} a_{0}}{8} + \\frac{a_{0} \\left(a^{\\dagger}_{0}\\right)^{3}}{8} - \\frac{3998607 a_{0} a^{\\dagger}_{1} a_{1}}{45239074} - \\frac{3998607 a_{0} \\left(a^{\\dagger}_{1}\\right)^{2}}{45239074} - \\frac{a_{0} a^{\\dagger}_{2}}{16} - \\frac{3998607 a_{0} a_{1} a^{\\dagger}_{1}}{45239074} - \\frac{3998607 a_{0} a_{1}^{2}}{45239074} - \\frac{a_{0} a_{2}}{16} - \\frac{31 a_{0}^{2}}{80} + \\frac{a_{0}^{2} a^{\\dagger}_{0} a_{0}}{8} + \\frac{a_{0}^{2} \\left(a^{\\dagger}_{0}\\right)^{2}}{8} + \\frac{3998607 a_{0}^{2} a^{\\dagger}_{1}}{45239074} + \\frac{3998607 a_{0}^{2} a_{1}}{45239074} + \\frac{a_{0}^{3} a^{\\dagger}_{0}}{8} + \\frac{a_{0}^{4}}{8} - \\frac{38613965 a_{1}}{54608393} + \\frac{131836323 a_{1} \\chi^{\\dagger}_{1} \\chi_{1}}{93222358} + \\frac{3998607 a_{1} a^{\\dagger}_{0} a_{0}}{45239074} + \\frac{3998607 a_{1} \\left(a^{\\dagger}_{0}\\right)^{2}}{45239074} + \\frac{7 a_{1} a^{\\dagger}_{1}}{40} - \\frac{3998607 a_{1} a^{\\dagger}_{1} a^{\\dagger}_{0}}{45239074} + \\frac{3998607 a_{1} a^{\\dagger}_{1} a^{\\dagger}_{2}}{45239074} - \\frac{3998607 a_{1} a^{\\dagger}_{1} a_{0}}{45239074} + \\frac{a_{1} a^{\\dagger}_{1} a_{1} a^{\\dagger}_{1}}{8} + \\frac{a_{1} a^{\\dagger}_{1} a_{1}^{2}}{8} + \\frac{3998607 a_{1} a^{\\dagger}_{1} a_{2}}{45239074} + \\frac{a_{1} \\left(a^{\\dagger}_{1}\\right)^{2} a_{1}}{8} + \\frac{a_{1} \\left(a^{\\dagger}_{1}\\right)^{3}}{8} - \\frac{3998607 a_{1} a^{\\dagger}_{2} a_{2}}{45239074} - \\frac{3998607 a_{1} \\left(a^{\\dagger}_{2}\\right)^{2}}{45239074} + \\frac{3998607 a_{1} a_{0} a^{\\dagger}_{0}}{45239074} + \\frac{3998607 a_{1} a_{0}^{2}}{45239074} - \\frac{3998607 a_{1} a_{2} a^{\\dagger}_{2}}{45239074} - \\frac{3998607 a_{1} a_{2}^{2}}{45239074} - \\frac{13 a_{1}^{2}}{40} - \\frac{3998607 a_{1}^{2} a^{\\dagger}_{0}}{45239074} + \\frac{a_{1}^{2} a^{\\dagger}_{1} a_{1}}{8} + \\frac{a_{1}^{2} \\left(a^{\\dagger}_{1}\\right)^{2}}{8} + \\frac{3998607 a_{1}^{2} a^{\\dagger}_{2}}{45239074} - \\frac{3998607 a_{1}^{2} a_{0}}{45239074} + \\frac{3998607 a_{1}^{2} a_{2}}{45239074} + \\frac{a_{1}^{3} a^{\\dagger}_{1}}{8} + \\frac{a_{1}^{4}}{8} + \\frac{30891172 a_{2}}{54608393} - \\frac{131836323 a_{2} \\chi^{\\dagger}_{2} \\chi_{2}}{93222358} - \\frac{a_{2} a^{\\dagger}_{0}}{16} + \\frac{3998607 a_{2} a^{\\dagger}_{1} a_{1}}{45239074} + \\frac{3998607 a_{2} \\left(a^{\\dagger}_{1}\\right)^{2}}{45239074} + \\frac{9 a_{2} a^{\\dagger}_{2}}{80} - \\frac{3998607 a_{2} a^{\\dagger}_{2} a^{\\dagger}_{1}}{45239074} - \\frac{3998607 a_{2} a^{\\dagger}_{2} a_{1}}{45239074} + \\frac{a_{2} a^{\\dagger}_{2} a_{2} a^{\\dagger}_{2}}{8} + \\frac{a_{2} a^{\\dagger}_{2} a_{2}^{2}}{8} + \\frac{a_{2} \\left(a^{\\dagger}_{2}\\right)^{2} a_{2}}{8} + \\frac{a_{2} \\left(a^{\\dagger}_{2}\\right)^{3}}{8} - \\frac{a_{2} a_{0}}{16} + \\frac{3998607 a_{2} a_{1} a^{\\dagger}_{1}}{45239074} + \\frac{3998607 a_{2} a_{1}^{2}}{45239074} - \\frac{31 a_{2}^{2}}{80} - \\frac{3998607 a_{2}^{2} a^{\\dagger}_{1}}{45239074} + \\frac{a_{2}^{2} a^{\\dagger}_{2} a_{2}}{8} + \\frac{a_{2}^{2} \\left(a^{\\dagger}_{2}\\right)^{2}}{8} - \\frac{3998607 a_{2}^{2} a_{1}}{45239074} + \\frac{a_{2}^{3} a^{\\dagger}_{2}}{8} + \\frac{a_{2}^{4}}{8}$"
      ],
      "text/plain": [
       "6/25 - \\chi^{\\dagger}_{0}*\\chi_{1}/2 - \\chi^{\\dagger}_{1}*\\chi_{0}/2 - \\chi^{\\dagger}_{1}*\\chi_{2}/2 - \\chi^{\\dagger}_{2}*\\chi_{1}/2 + 70053979*a^{\\dagger}_{0}/82559406 - 131836323*a^{\\dagger}_{0}*\\chi^{\\dagger}_{0}*\\chi_{0}/93222358 - 3998607*a^{\\dagger}_{0}*a^{\\dagger}_{1}*a_{1}/45239074 - 3998607*a^{\\dagger}_{0}*a^{\\dagger}_{1}**2/45239074 - a^{\\dagger}_{0}*a^{\\dagger}_{2}/16 + 9*a^{\\dagger}_{0}*a_{0}/80 + a^{\\dagger}_{0}*a_{0}*a^{\\dagger}_{0}*a_{0}/8 + a^{\\dagger}_{0}*a_{0}*a^{\\dagger}_{0}**2/8 + 3998607*a^{\\dagger}_{0}*a_{0}*a^{\\dagger}_{1}/45239074 + 3998607*a^{\\dagger}_{0}*a_{0}*a_{1}/45239074 + a^{\\dagger}_{0}*a_{0}**2*a^{\\dagger}_{0}/8 + a^{\\dagger}_{0}*a_{0}**3/8 - 3998607*a^{\\dagger}_{0}*a_{1}*a^{\\dagger}_{1}/45239074 - 3998607*a^{\\dagger}_{0}*a_{1}**2/45239074 - a^{\\dagger}_{0}*a_{2}/16 - 31*a^{\\dagger}_{0}**2/80 + 3998607*a^{\\dagger}_{0}**2*a^{\\dagger}_{1}/45239074 + a^{\\dagger}_{0}**2*a_{0}*a^{\\dagger}_{0}/8 + a^{\\dagger}_{0}**2*a_{0}**2/8 + 3998607*a^{\\dagger}_{0}**2*a_{1}/45239074 + a^{\\dagger}_{0}**3*a_{0}/8 + a^{\\dagger}_{0}**4/8 - 38613965*a^{\\dagger}_{1}/54608393 + 131836323*a^{\\dagger}_{1}*\\chi^{\\dagger}_{1}*\\chi_{1}/93222358 + 3998607*a^{\\dagger}_{1}*a^{\\dagger}_{0}*a_{0}/45239074 + 3998607*a^{\\dagger}_{1}*a^{\\dagger}_{0}**2/45239074 - 3998607*a^{\\dagger}_{1}*a^{\\dagger}_{2}*a_{2}/45239074 - 3998607*a^{\\dagger}_{1}*a^{\\dagger}_{2}**2/45239074 + 3998607*a^{\\dagger}_{1}*a_{0}*a^{\\dagger}_{0}/45239074 + 3998607*a^{\\dagger}_{1}*a_{0}**2/45239074 + 7*a^{\\dagger}_{1}*a_{1}/40 - 3998607*a^{\\dagger}_{1}*a_{1}*a^{\\dagger}_{0}/45239074 + a^{\\dagger}_{1}*a_{1}*a^{\\dagger}_{1}*a_{1}/8 + a^{\\dagger}_{1}*a_{1}*a^{\\dagger}_{1}**2/8 + 3998607*a^{\\dagger}_{1}*a_{1}*a^{\\dagger}_{2}/45239074 - 3998607*a^{\\dagger}_{1}*a_{1}*a_{0}/45239074 + 3998607*a^{\\dagger}_{1}*a_{1}*a_{2}/45239074 + a^{\\dagger}_{1}*a_{1}**2*a^{\\dagger}_{1}/8 + a^{\\dagger}_{1}*a_{1}**3/8 - 3998607*a^{\\dagger}_{1}*a_{2}*a^{\\dagger}_{2}/45239074 - 3998607*a^{\\dagger}_{1}*a_{2}**2/45239074 - 13*a^{\\dagger}_{1}**2/40 - 3998607*a^{\\dagger}_{1}**2*a^{\\dagger}_{0}/45239074 + 3998607*a^{\\dagger}_{1}**2*a^{\\dagger}_{2}/45239074 - 3998607*a^{\\dagger}_{1}**2*a_{0}/45239074 + a^{\\dagger}_{1}**2*a_{1}*a^{\\dagger}_{1}/8 + a^{\\dagger}_{1}**2*a_{1}**2/8 + 3998607*a^{\\dagger}_{1}**2*a_{2}/45239074 + a^{\\dagger}_{1}**3*a_{1}/8 + a^{\\dagger}_{1}**4/8 + 30891172*a^{\\dagger}_{2}/54608393 - 131836323*a^{\\dagger}_{2}*\\chi^{\\dagger}_{2}*\\chi_{2}/93222358 - a^{\\dagger}_{2}*a^{\\dagger}_{0}/16 + 3998607*a^{\\dagger}_{2}*a^{\\dagger}_{1}*a_{1}/45239074 + 3998607*a^{\\dagger}_{2}*a^{\\dagger}_{1}**2/45239074 - a^{\\dagger}_{2}*a_{0}/16 + 3998607*a^{\\dagger}_{2}*a_{1}*a^{\\dagger}_{1}/45239074 + 3998607*a^{\\dagger}_{2}*a_{1}**2/45239074 + 9*a^{\\dagger}_{2}*a_{2}/80 - 3998607*a^{\\dagger}_{2}*a_{2}*a^{\\dagger}_{1}/45239074 + a^{\\dagger}_{2}*a_{2}*a^{\\dagger}_{2}*a_{2}/8 + a^{\\dagger}_{2}*a_{2}*a^{\\dagger}_{2}**2/8 - 3998607*a^{\\dagger}_{2}*a_{2}*a_{1}/45239074 + a^{\\dagger}_{2}*a_{2}**2*a^{\\dagger}_{2}/8 + a^{\\dagger}_{2}*a_{2}**3/8 - 31*a^{\\dagger}_{2}**2/80 - 3998607*a^{\\dagger}_{2}**2*a^{\\dagger}_{1}/45239074 - 3998607*a^{\\dagger}_{2}**2*a_{1}/45239074 + a^{\\dagger}_{2}**2*a_{2}*a^{\\dagger}_{2}/8 + a^{\\dagger}_{2}**2*a_{2}**2/8 + a^{\\dagger}_{2}**3*a_{2}/8 + a^{\\dagger}_{2}**4/8 + 70053979*a_{0}/82559406 - 131836323*a_{0}*\\chi^{\\dagger}_{0}*\\chi_{0}/93222358 + 9*a_{0}*a^{\\dagger}_{0}/80 + 3998607*a_{0}*a^{\\dagger}_{0}*a^{\\dagger}_{1}/45239074 + a_{0}*a^{\\dagger}_{0}*a_{0}*a^{\\dagger}_{0}/8 + a_{0}*a^{\\dagger}_{0}*a_{0}**2/8 + 3998607*a_{0}*a^{\\dagger}_{0}*a_{1}/45239074 + a_{0}*a^{\\dagger}_{0}**2*a_{0}/8 + a_{0}*a^{\\dagger}_{0}**3/8 - 3998607*a_{0}*a^{\\dagger}_{1}*a_{1}/45239074 - 3998607*a_{0}*a^{\\dagger}_{1}**2/45239074 - a_{0}*a^{\\dagger}_{2}/16 - 3998607*a_{0}*a_{1}*a^{\\dagger}_{1}/45239074 - 3998607*a_{0}*a_{1}**2/45239074 - a_{0}*a_{2}/16 - 31*a_{0}**2/80 + a_{0}**2*a^{\\dagger}_{0}*a_{0}/8 + a_{0}**2*a^{\\dagger}_{0}**2/8 + 3998607*a_{0}**2*a^{\\dagger}_{1}/45239074 + 3998607*a_{0}**2*a_{1}/45239074 + a_{0}**3*a^{\\dagger}_{0}/8 + a_{0}**4/8 - 38613965*a_{1}/54608393 + 131836323*a_{1}*\\chi^{\\dagger}_{1}*\\chi_{1}/93222358 + 3998607*a_{1}*a^{\\dagger}_{0}*a_{0}/45239074 + 3998607*a_{1}*a^{\\dagger}_{0}**2/45239074 + 7*a_{1}*a^{\\dagger}_{1}/40 - 3998607*a_{1}*a^{\\dagger}_{1}*a^{\\dagger}_{0}/45239074 + 3998607*a_{1}*a^{\\dagger}_{1}*a^{\\dagger}_{2}/45239074 - 3998607*a_{1}*a^{\\dagger}_{1}*a_{0}/45239074 + a_{1}*a^{\\dagger}_{1}*a_{1}*a^{\\dagger}_{1}/8 + a_{1}*a^{\\dagger}_{1}*a_{1}**2/8 + 3998607*a_{1}*a^{\\dagger}_{1}*a_{2}/45239074 + a_{1}*a^{\\dagger}_{1}**2*a_{1}/8 + a_{1}*a^{\\dagger}_{1}**3/8 - 3998607*a_{1}*a^{\\dagger}_{2}*a_{2}/45239074 - 3998607*a_{1}*a^{\\dagger}_{2}**2/45239074 + 3998607*a_{1}*a_{0}*a^{\\dagger}_{0}/45239074 + 3998607*a_{1}*a_{0}**2/45239074 - 3998607*a_{1}*a_{2}*a^{\\dagger}_{2}/45239074 - 3998607*a_{1}*a_{2}**2/45239074 - 13*a_{1}**2/40 - 3998607*a_{1}**2*a^{\\dagger}_{0}/45239074 + a_{1}**2*a^{\\dagger}_{1}*a_{1}/8 + a_{1}**2*a^{\\dagger}_{1}**2/8 + 3998607*a_{1}**2*a^{\\dagger}_{2}/45239074 - 3998607*a_{1}**2*a_{0}/45239074 + 3998607*a_{1}**2*a_{2}/45239074 + a_{1}**3*a^{\\dagger}_{1}/8 + a_{1}**4/8 + 30891172*a_{2}/54608393 - 131836323*a_{2}*\\chi^{\\dagger}_{2}*\\chi_{2}/93222358 - a_{2}*a^{\\dagger}_{0}/16 + 3998607*a_{2}*a^{\\dagger}_{1}*a_{1}/45239074 + 3998607*a_{2}*a^{\\dagger}_{1}**2/45239074 + 9*a_{2}*a^{\\dagger}_{2}/80 - 3998607*a_{2}*a^{\\dagger}_{2}*a^{\\dagger}_{1}/45239074 - 3998607*a_{2}*a^{\\dagger}_{2}*a_{1}/45239074 + a_{2}*a^{\\dagger}_{2}*a_{2}*a^{\\dagger}_{2}/8 + a_{2}*a^{\\dagger}_{2}*a_{2}**2/8 + a_{2}*a^{\\dagger}_{2}**2*a_{2}/8 + a_{2}*a^{\\dagger}_{2}**3/8 - a_{2}*a_{0}/16 + 3998607*a_{2}*a_{1}*a^{\\dagger}_{1}/45239074 + 3998607*a_{2}*a_{1}**2/45239074 - 31*a_{2}**2/80 - 3998607*a_{2}**2*a^{\\dagger}_{1}/45239074 + a_{2}**2*a^{\\dagger}_{2}*a_{2}/8 + a_{2}**2*a^{\\dagger}_{2}**2/8 - 3998607*a_{2}**2*a_{1}/45239074 + a_{2}**3*a^{\\dagger}_{2}/8 + a_{2}**4/8"
      ]
     },
     "execution_count": 8,
     "metadata": {},
     "output_type": "execute_result"
    }
   ],
   "source": [
    "m=1\n",
    "\n",
    "HOdofSubs = {}\n",
    "#offset because of BC\n",
    "for i in range(1,N+1):\n",
    "    HOdofSubs[qs[i]] = 0.5*sp.sqrt(2/m)*(aops[i] + adags[i])\n",
    "    HOdofSubs[ps[i]] = complex(0,1)*sp.sqrt(2*m)*(adags[i] - aops[i])/2 \n",
    "\n",
    "hoHam=sp.expand(ham.subs(HOdofSubs))\n",
    "hoHam=sp.nsimplify(hoHam,tolerance=1e-8)\n",
    "hoHam"
   ]
  },
  {
   "cell_type": "code",
   "execution_count": 9,
   "metadata": {},
   "outputs": [
    {
     "name": "stderr",
     "output_type": "stream",
     "text": [
      "/home/chrisculver/miniconda3/envs/QuantumComputing/lib/python3.9/site-packages/scipy/sparse/_sputils.py:114: UserWarning: object dtype is not supported by sparse matrices\n",
      "  warnings.warn(\"object dtype is not supported by sparse matrices\")\n"
     ]
    },
    {
     "name": "stdout",
     "output_type": "stream",
     "text": [
      "toHam timer took: 1.7325 seconds\n",
      "evals timer took: 0.0132 seconds\n",
      "Lambda =  2\n",
      "[-0.17632036-6.6743855e-10j -0.0348989 +1.0633509e-08j\n",
      " -0.17632155-9.3214130e-09j -0.03489865-1.4168811e-08j\n",
      "  0.01596822+6.2864274e-09j  0.01596798-1.5536131e-08j\n",
      "  0.18289515+1.2291150e-09j  0.18289341+5.9822298e-09j\n",
      "  0.18289465+3.9034411e-09j  0.18289408-2.2814550e-08j]\n",
      "\n",
      "toHam timer took: 2.9846 seconds\n",
      "evals timer took: 0.0278 seconds\n",
      "Lambda =  3\n",
      "[-0.0074323 +2.0544904e-09j -0.3462941 -4.4703484e-08j\n",
      " -0.34629384+8.3236955e-09j -0.00743228-1.3033094e-08j\n",
      "  0.30618706-3.0522955e-08j  0.306184  -5.5883422e-09j\n",
      "  0.25056335+7.1247639e-09j  0.2505606 -7.1031989e-09j\n",
      "  0.2538165 -9.8454080e-09j  0.2538152 -1.4657708e-08j]\n",
      "\n",
      "toHam timer took: 5.5606 seconds\n",
      "evals timer took: 0.0238 seconds\n",
      "Lambda =  4\n",
      "[-0.03754034-2.8288923e-08j -0.03753893+2.3443931e-08j\n",
      "  0.28213334-2.4213691e-08j  0.28213274+2.0765583e-08j\n",
      "  0.70874393-1.5458081e-09j  0.5111249 +1.7259348e-08j\n",
      "  0.5111224 +1.4800307e-08j  0.7087427 +3.1047311e-08j\n",
      "  0.7861531 +1.2809250e-08j  0.7861489 -1.0021120e-08j]\n",
      "\n",
      "toHam timer took: 10.6005 seconds\n",
      "evals timer took: 0.0604 seconds\n",
      "Lambda =  5\n",
      "[-0.16539337-2.0372681e-08j -0.16539693-4.4260915e-08j\n",
      "  0.11051946+1.4272565e-08j  0.09685464+1.8340330e-08j\n",
      "  0.09685356+6.5596737e-09j  0.11051589+1.0114717e-09j\n",
      "  0.43633494-5.1289245e-08j  0.43633273+8.9926857e-09j\n",
      "  1.12803   +3.3527535e-08j  1.1280248 -4.2020474e-08j]\n",
      "\n",
      "toHam timer took: 19.0720 seconds\n",
      "evals timer took: 0.0919 seconds\n",
      "Lambda =  6\n",
      "[0.00686349-2.1464075e-10j 0.00686583-9.6177430e-09j\n",
      " 0.258151  +1.2826181e-08j 0.2859677 +2.3342524e-08j\n",
      " 0.25815204+6.9635462e-09j 0.28596714+3.6248821e-08j\n",
      " 0.74032634-5.7906631e-09j 1.1111248 +9.9169428e-09j\n",
      " 0.740318  -3.2688945e-08j 1.111105  -5.7050606e-08j]\n",
      "\n",
      "toHam timer took: 32.6072 seconds\n",
      "evals timer took: 0.1451 seconds\n",
      "Lambda =  7\n",
      "[0.14828974+2.5518239e-07j 0.14829297-3.4747245e-08j\n",
      " 0.7436457 +5.2174038e-08j 1.3454646 +9.4675052e-08j\n",
      " 0.74363863+9.6664905e-08j 0.46810627+5.9039547e-08j\n",
      " 0.47172442+4.3760089e-08j 0.47171432+5.6762744e-08j\n",
      " 0.4680983 -1.3997621e-07j 1.3454309 -1.7792665e-08j]\n",
      "\n",
      "toHam timer took: 54.1754 seconds\n",
      "evals timer took: 0.2430 seconds\n",
      "Lambda =  8\n",
      "[0.12079301+3.1147472e-08j 0.7141057 -9.7467321e-08j\n",
      " 0.12079456-1.8351147e-09j 0.71410114+6.6261180e-08j\n",
      " 0.3941992 +7.7540868e-08j 0.39419192-5.3433041e-08j\n",
      " 0.39342785+5.4583403e-08j 0.39342692+1.3126760e-07j\n",
      " 1.3416301 +7.5403179e-08j 1.3416011 +9.8505531e-08j]\n",
      "\n",
      "toHam timer took: 86.2199 seconds\n",
      "evals timer took: 0.6787 seconds\n",
      "Lambda =  9\n",
      "[0.15858257-5.1222742e-08j 0.15857917-4.0624218e-07j\n",
      " 0.45138642-1.0990374e-07j 0.43957365+6.3074118e-08j\n",
      " 0.43958238-5.2615121e-09j 0.45139375-1.9330980e-07j\n",
      " 0.77040493+2.8591822e-07j 0.77041525+1.4518278e-07j\n",
      " 1.3606362 +1.7698174e-08j 1.3606173 -7.5214132e-08j]\n",
      "\n",
      "toHam timer took: 133.9521 seconds\n",
      "evals timer took: 0.8739 seconds\n",
      "Lambda =  10\n",
      "[0.15672453-2.8312206e-07j 0.1567246 +1.5122350e-07j\n",
      " 0.75280005-4.8052669e-08j 0.7527712 +7.3165467e-08j\n",
      " 0.4574238 -1.5741844e-07j 0.4558228 -6.2418607e-08j\n",
      " 0.45742938-1.7480596e-07j 0.4558259 +2.0088443e-07j\n",
      " 1.4158361 +2.0796693e-07j 1.415779  +6.4224849e-08j]\n",
      "\n"
     ]
    }
   ],
   "source": [
    "e0raw=[]\n",
    "\n",
    "for cutoff in [2,3,4,5,6,7,8,9,10]:\n",
    "    t=Timer('toHam')\n",
    "    t.start()\n",
    "    hamMat=convert_to_matrix(hoHam,cutoff,N,aops,adags,xs,xdags)\n",
    "    t.stop()\n",
    "    \n",
    "    t=Timer('evals')\n",
    "    t.start()\n",
    "    ens=scipy.sparse.linalg.eigs(hamMat,k=10,which='SM')[0]\n",
    "    t.stop()\n",
    "    e0raw.append(ens[0])\n",
    "    \n",
    "    print(\"Lambda = \",cutoff)\n",
    "    print(ens)\n",
    "    print()"
   ]
  },
  {
   "cell_type": "code",
   "execution_count": 10,
   "metadata": {},
   "outputs": [
    {
     "data": {
      "text/plain": [
       "[(-0.17632036-6.6743855e-10j),\n",
       " (-0.007432304+2.0544904e-09j),\n",
       " (-0.037540335-2.8288923e-08j),\n",
       " (-0.16539337-2.0372681e-08j),\n",
       " (0.00686349-2.1464075e-10j),\n",
       " (0.14828974+2.5518239e-07j),\n",
       " (0.12079301+3.1147472e-08j),\n",
       " (0.15858257-5.122274e-08j),\n",
       " (0.15672453-2.8312206e-07j)]"
      ]
     },
     "execution_count": 10,
     "metadata": {},
     "output_type": "execute_result"
    }
   ],
   "source": [
    "e0raw"
   ]
  },
  {
   "cell_type": "code",
   "execution_count": 13,
   "metadata": {},
   "outputs": [],
   "source": [
    "e0raw=[(-0.17632036-6.6743855e-10j),\n",
    " (-0.007432304+2.0544904e-09j),\n",
    " (-0.037540335-2.8288923e-08j),\n",
    " (-0.16539337-2.0372681e-08j),\n",
    " (0.00686349-2.1464075e-10j),\n",
    " (0.14828974+2.5518239e-07j),\n",
    " (0.12079301+3.1147472e-08j),\n",
    " (0.15858257-5.122274e-08j),\n",
    " (0.15672453-2.8312206e-07j)]"
   ]
  },
  {
   "cell_type": "code",
   "execution_count": 14,
   "metadata": {},
   "outputs": [
    {
     "data": {
      "image/png": "[encoded data removed]",
      "text/plain": [
       "<Figure size 720x576 with 1 Axes>"
      ]
     },
     "metadata": {
      "needs_background": "light"
     },
     "output_type": "display_data"
    }
   ],
   "source": [
    "import matplotlib.pyplot as plt\n",
    "\n",
    "import matplotlib \n",
    "#matplotlib.use(\"Agg\")\n",
    "plt.style.use(\"paper.mplstyle\")\n",
    "\n",
    "fig, ax = plt.subplots()\n",
    "\n",
    "plt.scatter([x for x in range(2,11)],[abs(en.real) for en in e0raw], c='black')\n",
    "\n",
    "plt.xlabel('$\\\\Lambda$')\n",
    "plt.ylabel('$|E|$')\n",
    "\n",
    "plt.xlim(1.5,10.5)\n",
    "plt.ylim(0,0.5)\n",
    "#plt.yscale('log')\n",
    "\n",
    "ax.text(0.25, 0.07, 'PRELIMINARY', transform=ax.transAxes,\n",
    "        fontsize=40, color='red', alpha=0.5,\n",
    "        ha='center', va='center', rotation='0')\n",
    "\n",
    "plt.savefig('PLOTS/WZ_3site_vq2_cm0p1.pdf',bbox_inches='tight')"
   ]
  },
  {
   "cell_type": "code",
   "execution_count": null,
   "metadata": {},
   "outputs": [],
   "source": []
  }
 ],
 "metadata": {
  "kernelspec": {
   "display_name": "Python 3",
   "language": "python",
   "name": "python3"
  },
  "language_info": {
   "codemirror_mode": {
    "name": "ipython",
    "version": 3
   },
   "file_extension": ".py",
   "mimetype": "text/x-python",
   "name": "python",
   "nbconvert_exporter": "python",
   "pygments_lexer": "ipython3",
   "version": "3.9.1"
  }
 },
 "nbformat": 4,
 "nbformat_minor": 5
}
