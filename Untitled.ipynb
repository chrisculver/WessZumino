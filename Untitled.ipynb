{
 "cells": [
  {
   "cell_type": "markdown",
   "id": "21e1b306-99e1-42d2-a018-d765b0e9ee81",
   "metadata": {},
   "source": [
    "# Wess Zumino \n",
    "\n",
    "## N=1 in 1+1\n",
    "\n",
    "The Hamiltonian with a central difference for the derivative is given by \n",
    "\n",
    "\\begin{align}\n",
    "    H=\\sum_n&\\left[ \\frac{p_n^2}{2a} + \\frac{a}{2}\\left(\\frac{\\phi_{n+1}-\\phi_{n-1}}{2a}\\right)^2+\\frac{a}{2}V(\\phi_n)^2\n",
    "            +aV(\\phi_n)\\frac{\\phi_{n+1}-\\phi_{n-1}}{2a} \\right. \\nonumber \\\\\n",
    "            &\\left.+(-1)^nV'(\\phi_n)\\left(\\chi_n^{\\dagger}\\chi_n-\\frac{1}{2}\\right)\n",
    "            +\\frac{1}{2a}\\left(\\chi_n^{\\dagger}\\chi_{n+1}+\\chi_{n+1}^{\\dagger}\\chi_n\\right) \\right],\n",
    "\\end{align}"
   ]
  },
  {
   "cell_type": "code",
   "execution_count": 26,
   "id": "09c5676c-d3be-4498-9c99-2d68e8b32f47",
   "metadata": {},
   "outputs": [],
   "source": [
    "import sympy as sp\n",
    "\n",
    "pn, qn, qnP1, qnM1 = sp.symbols('p_n, q_n, q_{n+1}, q_{n-1}', commutative=False)\n",
    "n=sp.symbols('n')\n",
    "p=sp.Function('p',commutative=False)\n",
    "q=sp.Function('q',commutative=False)"
   ]
  },
  {
   "cell_type": "code",
   "execution_count": 27,
   "id": "55c600e7-f3e2-4ba6-a61c-a12c4b9265ef",
   "metadata": {},
   "outputs": [
    {
     "data": {
      "text/latex": [
       "$\\displaystyle \\frac{q_{n}^{2}}{2} - \\frac{q_{n+1} q_{n-1}}{8} + \\frac{q_{n+1}^{2}}{8} - \\frac{q_{n-1} q_{n+1}}{8} + \\frac{q_{n-1}^{2}}{8}$"
      ],
      "text/plain": [
       "q_n**2/2 - q_{n+1}*q_{n-1}/8 + q_{n+1}**2/8 - q_{n-1}*q_{n+1}/8 + q_{n-1}**2/8"
      ]
     },
     "execution_count": 27,
     "metadata": {},
     "output_type": "execute_result"
    }
   ],
   "source": [
    "sp.expand(qn**2/2 + ((qnP1-qnM1)/2)**2/2)"
   ]
  },
  {
   "cell_type": "code",
   "execution_count": 38,
   "id": "726fb4cf-4f90-4846-8e4e-60f2487dde7f",
   "metadata": {},
   "outputs": [
    {
     "data": {
      "text/latex": [
       "$\\displaystyle \\frac{p^{2}{\\left(n \\right)}}{2} - \\frac{q{\\left(n - 1 \\right)} q{\\left(n + 1 \\right)}}{8} + \\frac{q^{2}{\\left(n - 1 \\right)}}{8} - \\frac{q{\\left(n + 1 \\right)} q{\\left(n - 1 \\right)}}{8} + \\frac{q^{2}{\\left(n + 1 \\right)}}{8}$"
      ],
      "text/plain": [
       "p(n)**2/2 - q(n - 1)*q(n + 1)/8 + q(n - 1)**2/8 - q(n + 1)*q(n - 1)/8 + q(n + 1)**2/8"
      ]
     },
     "execution_count": 38,
     "metadata": {},
     "output_type": "execute_result"
    }
   ],
   "source": [
    "tstHam=sp.expand(p(n)**2/2 + ((q(n+1)-q(n-1))/2)**2/2 )\n",
    "tstHam"
   ]
  },
  {
   "cell_type": "code",
   "execution_count": 33,
   "id": "45cb4520-d4a6-4f1f-841e-4235cb22a723",
   "metadata": {},
   "outputs": [
    {
     "data": {
      "text/latex": [
       "$\\displaystyle \\frac{p^{2}{\\left(0 \\right)}}{2} - \\frac{q{\\left(1 \\right)} q{\\left(4 \\right)}}{8} + \\frac{q^{2}{\\left(1 \\right)}}{8} - \\frac{q{\\left(4 \\right)} q{\\left(1 \\right)}}{8} + \\frac{q^{2}{\\left(4 \\right)}}{8}$"
      ],
      "text/plain": [
       "p(0)**2/2 - q(1)*q(4)/8 + q(1)**2/8 - q(4)*q(1)/8 + q(4)**2/8"
      ]
     },
     "execution_count": 33,
     "metadata": {},
     "output_type": "execute_result"
    }
   ],
   "source": [
    "sp.expand(p(n)**2/2 + ((q(n+1)-q(n-1))/2)**2/2 ).subs(n,0).subs(q(-1),q(4))"
   ]
  },
  {
   "cell_type": "code",
   "execution_count": 32,
   "id": "2425c43f-0476-410f-8959-6a9f97ad0149",
   "metadata": {},
   "outputs": [
    {
     "data": {
      "text/latex": [
       "$\\displaystyle \\frac{p^{2}{\\left(1 \\right)}}{2} - \\frac{q{\\left(0 \\right)} q{\\left(2 \\right)}}{8} + \\frac{q^{2}{\\left(0 \\right)}}{8} - \\frac{q{\\left(2 \\right)} q{\\left(0 \\right)}}{8} + \\frac{q^{2}{\\left(2 \\right)}}{8}$"
      ],
      "text/plain": [
       "p(1)**2/2 - q(0)*q(2)/8 + q(0)**2/8 - q(2)*q(0)/8 + q(2)**2/8"
      ]
     },
     "execution_count": 32,
     "metadata": {},
     "output_type": "execute_result"
    }
   ],
   "source": [
    "sp.expand(p(n)**2/2 + ((q(n+1)-q(n-1))/2)**2/2 ).subs(n,1)"
   ]
  },
  {
   "cell_type": "code",
   "execution_count": 35,
   "id": "d6fca3e6-d08e-4da7-a3a4-ebef90aac00e",
   "metadata": {},
   "outputs": [],
   "source": [
    "N=3 # 3 sites\n",
    "bcType = 'periodic'\n",
    "boundaryConditions = {}\n",
    "if bcType == 'periodic':\n",
    "    boundaryConditions = {q(-1): q(N-1), q(N): q(0)}\n",
    "elif bcType == 'dirichlet':\n",
    "    boundaryConditions = {q(-1): 0, q(N): 0}"
   ]
  },
  {
   "cell_type": "code",
   "execution_count": 44,
   "id": "3d47889f-b9b3-42bd-9546-72f1202a7478",
   "metadata": {},
   "outputs": [
    {
     "data": {
      "text/latex": [
       "$\\displaystyle \\frac{p^{2}{\\left(0 \\right)}}{2} + \\frac{p^{2}{\\left(1 \\right)}}{2} + \\frac{p^{2}{\\left(2 \\right)}}{2} - \\frac{q{\\left(0 \\right)} q{\\left(1 \\right)}}{8} - \\frac{q{\\left(0 \\right)} q{\\left(2 \\right)}}{8} + \\frac{q^{2}{\\left(0 \\right)}}{4} - \\frac{q{\\left(1 \\right)} q{\\left(0 \\right)}}{8} - \\frac{q{\\left(1 \\right)} q{\\left(2 \\right)}}{8} + \\frac{q^{2}{\\left(1 \\right)}}{4} - \\frac{q{\\left(2 \\right)} q{\\left(0 \\right)}}{8} - \\frac{q{\\left(2 \\right)} q{\\left(1 \\right)}}{8} + \\frac{q^{2}{\\left(2 \\right)}}{4}$"
      ],
      "text/plain": [
       "p(0)**2/2 + p(1)**2/2 + p(2)**2/2 - q(0)*q(1)/8 - q(0)*q(2)/8 + q(0)**2/4 - q(1)*q(0)/8 - q(1)*q(2)/8 + q(1)**2/4 - q(2)*q(0)/8 - q(2)*q(1)/8 + q(2)**2/4"
      ]
     },
     "execution_count": 44,
     "metadata": {},
     "output_type": "execute_result"
    }
   ],
   "source": [
    "ham=0\n",
    "\n",
    "for i in range(0,N):\n",
    "    ham+=tstHam.subs(n,i).subs(boundaryConditions)\n",
    "# ham.subs(boundaryConditions).doit() # this doesn't work?\n",
    "ham"
   ]
  },
  {
   "cell_type": "code",
   "execution_count": null,
   "id": "7ae7e19f-1de6-4631-a0cd-dfb109759c20",
   "metadata": {},
   "outputs": [],
   "source": []
  },
  {
   "cell_type": "code",
   "execution_count": 46,
   "id": "fc3cacd9-d55e-4bdb-9100-9f5afdce485b",
   "metadata": {},
   "outputs": [
    {
     "data": {
      "text/latex": [
       "$\\displaystyle - 0.0625 a{\\left(0 \\right)} a{\\left(1 \\right)} - 0.0625 a{\\left(0 \\right)} a{\\left(2 \\right)} + 0.375 a{\\left(0 \\right)} \\operatorname{adag}{\\left(0 \\right)} - 0.0625 a{\\left(0 \\right)} \\operatorname{adag}{\\left(1 \\right)} - 0.0625 a{\\left(0 \\right)} \\operatorname{adag}{\\left(2 \\right)} - 0.125 a^{2}{\\left(0 \\right)} - 0.0625 a{\\left(1 \\right)} a{\\left(0 \\right)} - 0.0625 a{\\left(1 \\right)} a{\\left(2 \\right)} - 0.0625 a{\\left(1 \\right)} \\operatorname{adag}{\\left(0 \\right)} + 0.375 a{\\left(1 \\right)} \\operatorname{adag}{\\left(1 \\right)} - 0.0625 a{\\left(1 \\right)} \\operatorname{adag}{\\left(2 \\right)} - 0.125 a^{2}{\\left(1 \\right)} - 0.0625 a{\\left(2 \\right)} a{\\left(0 \\right)} - 0.0625 a{\\left(2 \\right)} a{\\left(1 \\right)} - 0.0625 a{\\left(2 \\right)} \\operatorname{adag}{\\left(0 \\right)} - 0.0625 a{\\left(2 \\right)} \\operatorname{adag}{\\left(1 \\right)} + 0.375 a{\\left(2 \\right)} \\operatorname{adag}{\\left(2 \\right)} - 0.125 a^{2}{\\left(2 \\right)} + 0.375 \\operatorname{adag}{\\left(0 \\right)} a{\\left(0 \\right)} - 0.0625 \\operatorname{adag}{\\left(0 \\right)} a{\\left(1 \\right)} - 0.0625 \\operatorname{adag}{\\left(0 \\right)} a{\\left(2 \\right)} - 0.0625 \\operatorname{adag}{\\left(0 \\right)} \\operatorname{adag}{\\left(1 \\right)} - 0.0625 \\operatorname{adag}{\\left(0 \\right)} \\operatorname{adag}{\\left(2 \\right)} - 0.125 \\operatorname{adag}^{2}{\\left(0 \\right)} - 0.0625 \\operatorname{adag}{\\left(1 \\right)} a{\\left(0 \\right)} + 0.375 \\operatorname{adag}{\\left(1 \\right)} a{\\left(1 \\right)} - 0.0625 \\operatorname{adag}{\\left(1 \\right)} a{\\left(2 \\right)} - 0.0625 \\operatorname{adag}{\\left(1 \\right)} \\operatorname{adag}{\\left(0 \\right)} - 0.0625 \\operatorname{adag}{\\left(1 \\right)} \\operatorname{adag}{\\left(2 \\right)} - 0.125 \\operatorname{adag}^{2}{\\left(1 \\right)} - 0.0625 \\operatorname{adag}{\\left(2 \\right)} a{\\left(0 \\right)} - 0.0625 \\operatorname{adag}{\\left(2 \\right)} a{\\left(1 \\right)} + 0.375 \\operatorname{adag}{\\left(2 \\right)} a{\\left(2 \\right)} - 0.0625 \\operatorname{adag}{\\left(2 \\right)} \\operatorname{adag}{\\left(0 \\right)} - 0.0625 \\operatorname{adag}{\\left(2 \\right)} \\operatorname{adag}{\\left(1 \\right)} - 0.125 \\operatorname{adag}^{2}{\\left(2 \\right)}$"
      ],
      "text/plain": [
       "-0.0625*a(0)*a(1) - 0.0625*a(0)*a(2) + 0.375*a(0)*adag(0) - 0.0625*a(0)*adag(1) - 0.0625*a(0)*adag(2) - 0.125*a(0)**2 - 0.0625*a(1)*a(0) - 0.0625*a(1)*a(2) - 0.0625*a(1)*adag(0) + 0.375*a(1)*adag(1) - 0.0625*a(1)*adag(2) - 0.125*a(1)**2 - 0.0625*a(2)*a(0) - 0.0625*a(2)*a(1) - 0.0625*a(2)*adag(0) - 0.0625*a(2)*adag(1) + 0.375*a(2)*adag(2) - 0.125*a(2)**2 + 0.375*adag(0)*a(0) - 0.0625*adag(0)*a(1) - 0.0625*adag(0)*a(2) - 0.0625*adag(0)*adag(1) - 0.0625*adag(0)*adag(2) - 0.125*adag(0)**2 - 0.0625*adag(1)*a(0) + 0.375*adag(1)*a(1) - 0.0625*adag(1)*a(2) - 0.0625*adag(1)*adag(0) - 0.0625*adag(1)*adag(2) - 0.125*adag(1)**2 - 0.0625*adag(2)*a(0) - 0.0625*adag(2)*a(1) + 0.375*adag(2)*a(2) - 0.0625*adag(2)*adag(0) - 0.0625*adag(2)*adag(1) - 0.125*adag(2)**2"
      ]
     },
     "execution_count": 46,
     "metadata": {},
     "output_type": "execute_result"
    }
   ],
   "source": [
    "a = sp.Function('a',commutative=False)\n",
    "adag = sp.Function('adag',commutative=False)\n",
    "\n",
    "m=1\n",
    "\n",
    "HOdofSubs = {}\n",
    "for i in range(0,N):\n",
    "    HOdofSubs[q(i)] = 0.5*sp.sqrt(2/m)*(a(i) + adag(i))\n",
    "    HOdofSubs[p(i)] = complex(0,1)*sp.sqrt(2*m)*(adag(i) - a(i))/2\n",
    "    \n",
    "sp.expand(ham.subs(HOdofSubs))"
   ]
  },
  {
   "cell_type": "code",
   "execution_count": null,
   "id": "2f2d8d55-465f-4926-8b24-a9c94886a07d",
   "metadata": {},
   "outputs": [],
   "source": []
  }
 ],
 "metadata": {
  "kernelspec": {
   "display_name": "Python 3 (ipykernel)",
   "language": "python",
   "name": "python3"
  },
  "language_info": {
   "codemirror_mode": {
    "name": "ipython",
    "version": 3
   },
   "file_extension": ".py",
   "mimetype": "text/x-python",
   "name": "python",
   "nbconvert_exporter": "python",
   "pygments_lexer": "ipython3",
   "version": "3.9.7"
  }
 },
 "nbformat": 4,
 "nbformat_minor": 5
}
