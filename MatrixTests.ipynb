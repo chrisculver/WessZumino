{
 "cells": [
  {
   "cell_type": "code",
   "execution_count": 1,
   "id": "0ff45416-4eff-4ff3-8ed2-e01d8a4da352",
   "metadata": {},
   "outputs": [],
   "source": [
    "import sympy as sp\n",
    "from ham_to_matrix import *\n",
    "from constants import *"
   ]
  },
  {
   "cell_type": "code",
   "execution_count": 2,
   "id": "3700f756-b164-4b74-932d-667b347ee419",
   "metadata": {},
   "outputs": [
    {
     "data": {
      "text/latex": [
       "$\\displaystyle {a}_{0}^{2}$"
      ],
      "text/plain": [
       "a[0]**2"
      ]
     },
     "execution_count": 2,
     "metadata": {},
     "output_type": "execute_result"
    }
   ],
   "source": [
    "a[0]*a[0]"
   ]
  },
  {
   "cell_type": "code",
   "execution_count": null,
   "id": "6c5ec23f-f81f-4d68-9b9a-36c655fa3420",
   "metadata": {},
   "outputs": [],
   "source": []
  },
  {
   "cell_type": "code",
   "execution_count": 19,
   "id": "7f557a9b-9b6a-4344-a05e-4dca8e8b5591",
   "metadata": {},
   "outputs": [
    {
     "name": "stdout",
     "output_type": "stream",
     "text": [
      "(512, 512)\n"
     ]
    }
   ],
   "source": [
    "m=convert_term_to_matrix(1.0*a[0]*a[0], 4, 3).astype(float)\n",
    "print(m.shape)"
   ]
  },
  {
   "cell_type": "code",
   "execution_count": 20,
   "id": "3806160c-1d2b-4559-bbb8-ce13cba67133",
   "metadata": {},
   "outputs": [],
   "source": [
    "#for r in m:\n",
    "#    for elem in r:\n",
    "#        if not np.isclose(elem,0):\n",
    "#            print(elem)"
   ]
  },
  {
   "cell_type": "code",
   "execution_count": 23,
   "id": "06c3e46c-d549-4e87-9540-faa0d4c4f76c",
   "metadata": {},
   "outputs": [
    {
     "data": {
      "text/plain": [
       "array([[0.        , 0.        , 1.41421356, 0.        ],\n",
       "       [0.        , 0.        , 0.        , 2.44948974],\n",
       "       [0.        , 0.        , 0.        , 0.        ],\n",
       "       [0.        , 0.        , 0.        , 0.        ]])"
      ]
     },
     "execution_count": 23,
     "metadata": {},
     "output_type": "execute_result"
    }
   ],
   "source": [
    "np.linalg.matrix_power(aMat(4),2)"
   ]
  },
  {
   "cell_type": "code",
   "execution_count": 24,
   "id": "49df274a-9ca9-441c-91dc-bb6f46532bfe",
   "metadata": {},
   "outputs": [
    {
     "data": {
      "text/plain": [
       "array([[0.        , 0.        , 1.41421354, 0.        ],\n",
       "       [0.        , 0.        , 0.        , 2.44948959],\n",
       "       [0.        , 0.        , 0.        , 0.        ],\n",
       "       [0.        , 0.        , 0.        , 0.        ]])"
      ]
     },
     "execution_count": 24,
     "metadata": {},
     "output_type": "execute_result"
    }
   ],
   "source": [
    "m[0:4,0:4]"
   ]
  },
  {
   "cell_type": "code",
   "execution_count": 27,
   "id": "2312784b-7188-4e7d-a4b8-cb9e19352f2a",
   "metadata": {},
   "outputs": [
    {
     "data": {
      "text/plain": [
       "True"
      ]
     },
     "execution_count": 27,
     "metadata": {},
     "output_type": "execute_result"
    }
   ],
   "source": [
    "(m[4:m.shape[0],4:m.shape[0]]==np.eye(m.shape[0]-4)).all()"
   ]
  },
  {
   "cell_type": "code",
   "execution_count": 11,
   "id": "2164b983-ff45-46ec-86c9-dddc6730da01",
   "metadata": {},
   "outputs": [],
   "source": [
    "cutoff=2\n",
    "Nsites=3\n",
    "fullHam = np.zeros([(cutoff**Nsites)*(2**Nsites),(cutoff**Nsites)*(2**Nsites)]).astype(np.complex64)"
   ]
  },
  {
   "cell_type": "code",
   "execution_count": 12,
   "id": "73eae5e6-3220-4061-94f2-b041d5efb74e",
   "metadata": {},
   "outputs": [
    {
     "data": {
      "text/plain": [
       "(64, 64)"
      ]
     },
     "execution_count": 12,
     "metadata": {},
     "output_type": "execute_result"
    }
   ],
   "source": [
    "fullHam.shape"
   ]
  },
  {
   "cell_type": "code",
   "execution_count": 13,
   "id": "0fbd4ee4-ee96-4bcb-af0f-a9803ea1c052",
   "metadata": {},
   "outputs": [
    {
     "data": {
      "text/plain": [
       "array([[0., 1.],\n",
       "       [0., 0.]])"
      ]
     },
     "execution_count": 13,
     "metadata": {},
     "output_type": "execute_result"
    }
   ],
   "source": [
    "aMat(cutoff)"
   ]
  },
  {
   "cell_type": "code",
   "execution_count": 14,
   "id": "03b91d31-804a-43d6-aee8-e8104fb2b967",
   "metadata": {},
   "outputs": [
    {
     "data": {
      "text/plain": [
       "array([[0., 1.],\n",
       "       [0., 0.]])"
      ]
     },
     "execution_count": 14,
     "metadata": {},
     "output_type": "execute_result"
    }
   ],
   "source": [
    "aMat(2)"
   ]
  },
  {
   "cell_type": "code",
   "execution_count": 15,
   "id": "f534e765-2420-4247-9048-6924fa6de4f9",
   "metadata": {},
   "outputs": [
    {
     "data": {
      "text/plain": [
       "array([[0, 1, 0, 0],\n",
       "       [0, 0, 0, 0],\n",
       "       [0, 0, 1, 0],\n",
       "       [0, 0, 0, 1]])"
      ]
     },
     "execution_count": 15,
     "metadata": {},
     "output_type": "execute_result"
    }
   ],
   "source": [
    "np.array([[0,1,0,0],[0,0,0,0],[0,0,1,0],[0,0,0,1]])"
   ]
  },
  {
   "cell_type": "code",
   "execution_count": 16,
   "id": "c36e35e9-fb32-4613-9213-6d9466dc8990",
   "metadata": {},
   "outputs": [
    {
     "data": {
      "text/plain": [
       "array([[[[0., 0.],\n",
       "         [0., 0.]],\n",
       "\n",
       "        [[1., 0.],\n",
       "         [0., 1.]]],\n",
       "\n",
       "\n",
       "       [[[0., 0.],\n",
       "         [0., 0.]],\n",
       "\n",
       "        [[0., 0.],\n",
       "         [0., 0.]]]])"
      ]
     },
     "execution_count": 16,
     "metadata": {},
     "output_type": "execute_result"
    }
   ],
   "source": [
    "np.tensordot(aMat(2),np.eye(2),0) # c_{ijkl}"
   ]
  },
  {
   "cell_type": "code",
   "execution_count": 17,
   "id": "4309447a-28b8-44ab-90d6-2fc8b7b28f12",
   "metadata": {},
   "outputs": [
    {
     "data": {
      "text/plain": [
       "array([[0., 0., 1., 0.],\n",
       "       [0., 0., 0., 1.],\n",
       "       [0., 0., 0., 0.],\n",
       "       [0., 0., 0., 0.]])"
      ]
     },
     "execution_count": 17,
     "metadata": {},
     "output_type": "execute_result"
    }
   ],
   "source": [
    "np.kron(aMat(2),np.eye(2))"
   ]
  },
  {
   "cell_type": "code",
   "execution_count": 18,
   "id": "09816470-f420-4a71-ab92-c65529f8d110",
   "metadata": {},
   "outputs": [
    {
     "data": {
      "text/plain": [
       "array([[0., 1., 0., 0.],\n",
       "       [0., 0., 0., 0.],\n",
       "       [0., 0., 0., 1.],\n",
       "       [0., 0., 0., 0.]])"
      ]
     },
     "execution_count": 18,
     "metadata": {},
     "output_type": "execute_result"
    }
   ],
   "source": [
    "np.kron(np.eye(2),aMat(2))"
   ]
  },
  {
   "cell_type": "code",
   "execution_count": null,
   "id": "c0846c3f-dbd1-4e53-9d8a-b8e3cab70628",
   "metadata": {},
   "outputs": [],
   "source": []
  }
 ],
 "metadata": {
  "kernelspec": {
   "display_name": "Python 3 (ipykernel)",
   "language": "python",
   "name": "python3"
  },
  "language_info": {
   "codemirror_mode": {
    "name": "ipython",
    "version": 3
   },
   "file_extension": ".py",
   "mimetype": "text/x-python",
   "name": "python",
   "nbconvert_exporter": "python",
   "pygments_lexer": "ipython3",
   "version": "3.9.7"
  }
 },
 "nbformat": 4,
 "nbformat_minor": 5
}
