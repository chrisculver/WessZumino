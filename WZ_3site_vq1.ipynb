{
 "cells": [
  {
   "cell_type": "markdown",
   "id": "3e9129bb",
   "metadata": {},
   "source": [
    "# Wess Zumino \n",
    "\n",
    "## N=1 in 1+1\n",
    "\n",
    "The Hamiltonian with a central difference for the derivative is given by "
   ]
  },
  {
   "cell_type": "code",
   "execution_count": 1,
   "id": "770712fa",
   "metadata": {},
   "outputs": [],
   "source": [
    "import sympy as sp\n",
    "from ham_to_sparse_matrix import *\n",
    "from constants import *\n",
    "import scipy.sparse.linalg"
   ]
  },
  {
   "cell_type": "code",
   "execution_count": null,
   "id": "3f480f5b-b0ba-4795-a90d-f13864f52c30",
   "metadata": {},
   "outputs": [],
   "source": []
  },
  {
   "cell_type": "code",
   "execution_count": 9,
   "id": "2fee939c",
   "metadata": {},
   "outputs": [],
   "source": [
    "bosonNI=sp.expand( pn**2/(2*aLat) + (aLat/2)*((qnP1-qnM1)/(2*aLat))**2 )\n",
    "bosonI=sp.expand( (aLat/2)*V(qn)**2 + aLat*V(qn)*(qnP1-qnM1)/(4*aLat) + aLat*(qnP1-qnM1)*V(qn)/(4*aLat) )\n",
    "fermionNI=sp.expand( -(xdnP1*xn+xdn*xnP1)/(2*aLat) )\n",
    "fermionI=sp.expand( sp.diff(V(qn),qn)*(xdn*xn-(1/2)) )"
   ]
  },
  {
   "cell_type": "code",
   "execution_count": 10,
   "id": "f60361a7",
   "metadata": {},
   "outputs": [
    {
     "data": {
      "text/latex": [
       "$\\displaystyle \\frac{a V^{2}{\\left(q_{n} \\right)}}{2} + \\frac{q_{n+1} V{\\left(q_{n} \\right)}}{4} - \\frac{q_{n-1} V{\\left(q_{n} \\right)}}{4} + \\frac{V{\\left(q_{n} \\right)} q_{n+1}}{4} - \\frac{V{\\left(q_{n} \\right)} q_{n-1}}{4} + \\frac{p_{n}^{2}}{2 a} - \\frac{q_{n+1} q_{n-1}}{8 a} + \\frac{q_{n+1}^{2}}{8 a} - \\frac{q_{n-1} q_{n+1}}{8 a} + \\frac{q_{n-1}^{2}}{8 a}$"
      ],
      "text/plain": [
       "a*V(q_{n})**2/2 + q_{n+1}*V(q_{n})/4 - q_{n-1}*V(q_{n})/4 + V(q_{n})*q_{n+1}/4 - V(q_{n})*q_{n-1}/4 + p_{n}**2/(2*a) - q_{n+1}*q_{n-1}/(8*a) + q_{n+1}**2/(8*a) - q_{n-1}*q_{n+1}/(8*a) + q_{n-1}**2/(8*a)"
      ]
     },
     "execution_count": 25,
     "metadata": {},
     "output_type": "execute_result"
    }
   ],
   "source": [
    "bosonNI+bosonI"
   ]
  },
  {
   "cell_type": "code",
   "execution_count": 11,
   "id": "18ef7097",
   "metadata": {},
   "outputs": [
    {
     "data": {
      "text/latex": [
       "$\\displaystyle - 0.5 \\frac{d}{d q_{n}} V{\\left(q_{n} \\right)} + \\frac{d}{d q_{n}} V{\\left(q_{n} \\right)} \\chi^{\\dagger}_{n} \\chi_{n} - \\frac{\\chi^{\\dagger}_{n+1} \\chi_{n}}{2 a} - \\frac{\\chi^{\\dagger}_{n} \\chi_{n+1}}{2 a}$"
      ],
      "text/plain": [
       "-0.5*Derivative(V(q_{n}), q_{n}) + Derivative(V(q_{n}), q_{n})*\\chi^{\\dagger}_{n}*\\chi_{n} - \\chi^{\\dagger}_{n+1}*\\chi_{n}/(2*a) - \\chi^{\\dagger}_{n}*\\chi_{n+1}/(2*a)"
      ]
     },
     "execution_count": 26,
     "metadata": {},
     "output_type": "execute_result"
    }
   ],
   "source": [
    "fermionNI + fermionI"
   ]
  },
  {
   "cell_type": "code",
   "execution_count": 12,
   "id": "6d14e88c",
   "metadata": {},
   "outputs": [],
   "source": [
    "N=3\n",
    "aVal=1\n",
    "\n",
    "# depends on finite-difference method\n",
    "qs=[SiteSymbol('q',str(i)) for i in range(-1,N+1,1)]\n",
    "# maybe make qs a normal site list\n",
    "# and make an extra boundaryQs list for q[-1], q[N]\n",
    "# counting would be normal computer science way for rest of code.\n",
    "\n",
    "ps=[SiteSymbol('p',str(i)) for i in range(-1,N+1,1)] # don't really need extras\n",
    "aops=[SiteSymbol('a',str(i)) for i in range(-1,N+1,1)]\n",
    "adags=[SiteSymbol('a^{\\dagger}',str(i)) for i in range(-1,N+1,1)]\n",
    "xs=[SiteSymbol('\\chi',str(i)) for i in range(-1,N+1,1)]\n",
    "xdags=[SiteSymbol('\\chi^{\\dagger}',str(i)) for i in range(-1,N+1,1)]\n",
    "\n",
    "# note this is exactly hardcoded for this finite difference method.\n",
    "bcType = 'periodic'\n",
    "boundaryConditions = {}\n",
    "if bcType == 'periodic':\n",
    "    boundaryConditions = {qs[0]: qs[N], qs[N+1]: qs[1],\n",
    "                          xs[0]: -xs[N], xs[N+1]: -xs[1], \n",
    "                          xdags[0]: -xdags[N],  xdags[N+1]: -xdags[1]\n",
    "                         }\n",
    "    \n",
    "elif bcType == 'dirichlet':\n",
    "    boundaryConditions = { qs[0]: 0, qs[N+1]: 0,\n",
    "                          xs[0]: 0, xs[N+1]: 0,\n",
    "                          xdags[0]: 0, xdags[N+1]:0\n",
    "                         }"
   ]
  },
  {
   "cell_type": "code",
   "execution_count": 13,
   "id": "031b1d7f",
   "metadata": {},
   "outputs": [
    {
     "data": {
      "text/latex": [
       "$\\displaystyle \\frac{a V^{2}{\\left(q_{n} \\right)}}{2} + \\frac{q_{n+1} V{\\left(q_{n} \\right)}}{4} - \\frac{q_{n-1} V{\\left(q_{n} \\right)}}{4} + \\frac{V{\\left(q_{n} \\right)} q_{n+1}}{4} - \\frac{V{\\left(q_{n} \\right)} q_{n-1}}{4} - 0.5 \\frac{d}{d q_{n}} V{\\left(q_{n} \\right)} + \\frac{d}{d q_{n}} V{\\left(q_{n} \\right)} \\chi^{\\dagger}_{n} \\chi_{n} - \\frac{\\chi^{\\dagger}_{n+1} \\chi_{n}}{2 a} - \\frac{\\chi^{\\dagger}_{n} \\chi_{n+1}}{2 a} + \\frac{p_{n}^{2}}{2 a} - \\frac{q_{n+1} q_{n-1}}{8 a} + \\frac{q_{n+1}^{2}}{8 a} - \\frac{q_{n-1} q_{n+1}}{8 a} + \\frac{q_{n-1}^{2}}{8 a}$"
      ],
      "text/plain": [
       "a*V(q_{n})**2/2 + q_{n+1}*V(q_{n})/4 - q_{n-1}*V(q_{n})/4 + V(q_{n})*q_{n+1}/4 - V(q_{n})*q_{n-1}/4 - 0.5*Derivative(V(q_{n}), q_{n}) + Derivative(V(q_{n}), q_{n})*\\chi^{\\dagger}_{n}*\\chi_{n} - \\chi^{\\dagger}_{n+1}*\\chi_{n}/(2*a) - \\chi^{\\dagger}_{n}*\\chi_{n+1}/(2*a) + p_{n}**2/(2*a) - q_{n+1}*q_{n-1}/(8*a) + q_{n+1}**2/(8*a) - q_{n-1}*q_{n+1}/(8*a) + q_{n-1}**2/(8*a)"
      ]
     },
     "execution_count": 13,
     "metadata": {},
     "output_type": "execute_result"
    }
   ],
   "source": [
    "totHam=bosonNI+bosonI+fermionNI+fermionI\n",
    "totHam"
   ]
  },
  {
   "cell_type": "code",
   "execution_count": 14,
   "id": "d6173b9d",
   "metadata": {},
   "outputs": [
    {
     "data": {
      "text/latex": [
       "$\\displaystyle 0.5 - \\chi^{\\dagger}_{0} \\chi_{0} - \\frac{\\chi^{\\dagger}_{0} \\chi_{1}}{2} + \\frac{\\chi^{\\dagger}_{0} \\chi_{2}}{2} - \\frac{\\chi^{\\dagger}_{1} \\chi_{0}}{2} + \\chi^{\\dagger}_{1} \\chi_{1} - \\frac{\\chi^{\\dagger}_{1} \\chi_{2}}{2} + \\frac{\\chi^{\\dagger}_{2} \\chi_{0}}{2} - \\frac{\\chi^{\\dagger}_{2} \\chi_{1}}{2} - \\chi^{\\dagger}_{2} \\chi_{2} + \\frac{p_{0}^{2}}{2} + \\frac{p_{1}^{2}}{2} + \\frac{p_{2}^{2}}{2} - \\frac{q_{0} q_{1}}{8} - \\frac{q_{0} q_{2}}{8} + \\frac{3 q_{0}^{2}}{4} - \\frac{q_{1} q_{0}}{8} - \\frac{q_{1} q_{2}}{8} + \\frac{3 q_{1}^{2}}{4} - \\frac{q_{2} q_{0}}{8} - \\frac{q_{2} q_{1}}{8} + \\frac{3 q_{2}^{2}}{4}$"
      ],
      "text/plain": [
       "0.5 - \\chi^{\\dagger}_{0}*\\chi_{0} - \\chi^{\\dagger}_{0}*\\chi_{1}/2 + \\chi^{\\dagger}_{0}*\\chi_{2}/2 - \\chi^{\\dagger}_{1}*\\chi_{0}/2 + \\chi^{\\dagger}_{1}*\\chi_{1} - \\chi^{\\dagger}_{1}*\\chi_{2}/2 + \\chi^{\\dagger}_{2}*\\chi_{0}/2 - \\chi^{\\dagger}_{2}*\\chi_{1}/2 - \\chi^{\\dagger}_{2}*\\chi_{2} + p_{0}**2/2 + p_{1}**2/2 + p_{2}**2/2 - q_{0}*q_{1}/8 - q_{0}*q_{2}/8 + 3*q_{0}**2/4 - q_{1}*q_{0}/8 - q_{1}*q_{2}/8 + 3*q_{1}**2/4 - q_{2}*q_{0}/8 - q_{2}*q_{1}/8 + 3*q_{2}**2/4"
      ]
     },
     "execution_count": 14,
     "metadata": {},
     "output_type": "execute_result"
    }
   ],
   "source": [
    "ham=0\n",
    "\n",
    "mass=1\n",
    "\n",
    "for i in range(1,N+1):\n",
    "    ham+=(bosonNI+bosonI+fermionNI).subs({\n",
    "        pn: ps[i],\n",
    "        qn: qs[i], qnP1: qs[i+1], qnM1: qs[i-1],\n",
    "        xn: xs[i], xnP1: xs[i+1],\n",
    "        xdn: xdags[i], xdnP1: xdags[i+1]\n",
    "    }).subs(boundaryConditions)\n",
    "\n",
    "def potential(n):\n",
    "    # m*q with m=1\n",
    "    return mass*qs[n]\n",
    "\n",
    "potentialSubs={}\n",
    "for n in range(1,N+1):\n",
    "    potentialSubs[V(qs[n])]=potential(n)\n",
    "\n",
    "\n",
    "ham=sp.simplify(ham.subs(potentialSubs).subs(aLat,aVal))\n",
    "\n",
    "for i in range(1,N+1):\n",
    "    if i%2==0:\n",
    "        ham+=sp.simplify(fermionI.subs({qn: qs[i], xn: xs[i], xdn: xdags[i]}).subs(potentialSubs))\n",
    "    else:\n",
    "        ham-=sp.simplify(fermionI.subs({qn: qs[i], xn: xs[i], xdn: xdags[i]}).subs(potentialSubs))\n",
    "ham=sp.simplify(ham.subs(aLat,aVal))\n",
    "sp.expand(ham)"
   ]
  },
  {
   "cell_type": "code",
   "execution_count": 16,
   "id": "ae53d291",
   "metadata": {},
   "outputs": [
    {
     "data": {
      "text/latex": [
       "$\\displaystyle \\frac{1}{2} - \\chi^{\\dagger}_{0} \\chi_{0} - \\frac{\\chi^{\\dagger}_{0} \\chi_{1}}{2} + \\frac{\\chi^{\\dagger}_{0} \\chi_{2}}{2} - \\frac{\\chi^{\\dagger}_{1} \\chi_{0}}{2} + \\chi^{\\dagger}_{1} \\chi_{1} - \\frac{\\chi^{\\dagger}_{1} \\chi_{2}}{2} + \\frac{\\chi^{\\dagger}_{2} \\chi_{0}}{2} - \\frac{\\chi^{\\dagger}_{2} \\chi_{1}}{2} - \\chi^{\\dagger}_{2} \\chi_{2} - \\frac{a^{\\dagger}_{0} a^{\\dagger}_{1}}{16} - \\frac{a^{\\dagger}_{0} a^{\\dagger}_{2}}{16} + \\frac{5 a^{\\dagger}_{0} a_{0}}{8} - \\frac{a^{\\dagger}_{0} a_{1}}{16} - \\frac{a^{\\dagger}_{0} a_{2}}{16} + \\frac{\\left(a^{\\dagger}_{0}\\right)^{2}}{8} - \\frac{a^{\\dagger}_{1} a^{\\dagger}_{0}}{16} - \\frac{a^{\\dagger}_{1} a^{\\dagger}_{2}}{16} - \\frac{a^{\\dagger}_{1} a_{0}}{16} + \\frac{5 a^{\\dagger}_{1} a_{1}}{8} - \\frac{a^{\\dagger}_{1} a_{2}}{16} + \\frac{\\left(a^{\\dagger}_{1}\\right)^{2}}{8} - \\frac{a^{\\dagger}_{2} a^{\\dagger}_{0}}{16} - \\frac{a^{\\dagger}_{2} a^{\\dagger}_{1}}{16} - \\frac{a^{\\dagger}_{2} a_{0}}{16} - \\frac{a^{\\dagger}_{2} a_{1}}{16} + \\frac{5 a^{\\dagger}_{2} a_{2}}{8} + \\frac{\\left(a^{\\dagger}_{2}\\right)^{2}}{8} + \\frac{5 a_{0} a^{\\dagger}_{0}}{8} - \\frac{a_{0} a^{\\dagger}_{1}}{16} - \\frac{a_{0} a^{\\dagger}_{2}}{16} - \\frac{a_{0} a_{1}}{16} - \\frac{a_{0} a_{2}}{16} + \\frac{a_{0}^{2}}{8} - \\frac{a_{1} a^{\\dagger}_{0}}{16} + \\frac{5 a_{1} a^{\\dagger}_{1}}{8} - \\frac{a_{1} a^{\\dagger}_{2}}{16} - \\frac{a_{1} a_{0}}{16} - \\frac{a_{1} a_{2}}{16} + \\frac{a_{1}^{2}}{8} - \\frac{a_{2} a^{\\dagger}_{0}}{16} - \\frac{a_{2} a^{\\dagger}_{1}}{16} + \\frac{5 a_{2} a^{\\dagger}_{2}}{8} - \\frac{a_{2} a_{0}}{16} - \\frac{a_{2} a_{1}}{16} + \\frac{a_{2}^{2}}{8}$"
      ],
      "text/plain": [
       "1/2 - \\chi^{\\dagger}_{0}*\\chi_{0} - \\chi^{\\dagger}_{0}*\\chi_{1}/2 + \\chi^{\\dagger}_{0}*\\chi_{2}/2 - \\chi^{\\dagger}_{1}*\\chi_{0}/2 + \\chi^{\\dagger}_{1}*\\chi_{1} - \\chi^{\\dagger}_{1}*\\chi_{2}/2 + \\chi^{\\dagger}_{2}*\\chi_{0}/2 - \\chi^{\\dagger}_{2}*\\chi_{1}/2 - \\chi^{\\dagger}_{2}*\\chi_{2} - a^{\\dagger}_{0}*a^{\\dagger}_{1}/16 - a^{\\dagger}_{0}*a^{\\dagger}_{2}/16 + 5*a^{\\dagger}_{0}*a_{0}/8 - a^{\\dagger}_{0}*a_{1}/16 - a^{\\dagger}_{0}*a_{2}/16 + a^{\\dagger}_{0}**2/8 - a^{\\dagger}_{1}*a^{\\dagger}_{0}/16 - a^{\\dagger}_{1}*a^{\\dagger}_{2}/16 - a^{\\dagger}_{1}*a_{0}/16 + 5*a^{\\dagger}_{1}*a_{1}/8 - a^{\\dagger}_{1}*a_{2}/16 + a^{\\dagger}_{1}**2/8 - a^{\\dagger}_{2}*a^{\\dagger}_{0}/16 - a^{\\dagger}_{2}*a^{\\dagger}_{1}/16 - a^{\\dagger}_{2}*a_{0}/16 - a^{\\dagger}_{2}*a_{1}/16 + 5*a^{\\dagger}_{2}*a_{2}/8 + a^{\\dagger}_{2}**2/8 + 5*a_{0}*a^{\\dagger}_{0}/8 - a_{0}*a^{\\dagger}_{1}/16 - a_{0}*a^{\\dagger}_{2}/16 - a_{0}*a_{1}/16 - a_{0}*a_{2}/16 + a_{0}**2/8 - a_{1}*a^{\\dagger}_{0}/16 + 5*a_{1}*a^{\\dagger}_{1}/8 - a_{1}*a^{\\dagger}_{2}/16 - a_{1}*a_{0}/16 - a_{1}*a_{2}/16 + a_{1}**2/8 - a_{2}*a^{\\dagger}_{0}/16 - a_{2}*a^{\\dagger}_{1}/16 + 5*a_{2}*a^{\\dagger}_{2}/8 - a_{2}*a_{0}/16 - a_{2}*a_{1}/16 + a_{2}**2/8"
      ]
     },
     "execution_count": 16,
     "metadata": {},
     "output_type": "execute_result"
    }
   ],
   "source": [
    "m=1\n",
    "\n",
    "HOdofSubs = {}\n",
    "#offset because of BC\n",
    "for i in range(1,N+1):\n",
    "    HOdofSubs[qs[i]] = 0.5*sp.sqrt(2/m)*(aops[i] + adags[i])\n",
    "    HOdofSubs[ps[i]] = complex(0,1)*sp.sqrt(2*m)*(adags[i] - aops[i])/2 \n",
    "\n",
    "hoHam=sp.expand(ham.subs(HOdofSubs))\n",
    "hoHam=sp.nsimplify(hoHam,tolerance=1e-8)\n",
    "hoHam"
   ]
  },
  {
   "cell_type": "code",
   "execution_count": 17,
   "id": "db4f8fdc",
   "metadata": {},
   "outputs": [
    {
     "name": "stderr",
     "output_type": "stream",
     "text": [
      "/home/chris/anaconda3/envs/QuantumComputing/lib/python3.9/site-packages/scipy/sparse/_sputils.py:114: UserWarning: object dtype is not supported by sparse matrices\n",
      "  warnings.warn(\"object dtype is not supported by sparse matrices\")\n"
     ]
    }
   ],
   "source": [
    "cutoff=6\n",
    "hamMat=convert_to_matrix(hoHam,cutoff,N,aops,adags,xs,xdags)"
   ]
  },
  {
   "cell_type": "code",
   "execution_count": null,
   "id": "90e5e687-79aa-466f-a380-667e14214f54",
   "metadata": {},
   "outputs": [],
   "source": []
  },
  {
   "cell_type": "code",
   "execution_count": 18,
   "id": "67bd80f1-7f94-476e-9fec-54d0548591ae",
   "metadata": {},
   "outputs": [
    {
     "data": {
      "text/plain": [
       "<1728x1728 sparse matrix of type '<class 'numpy.complex64'>'\n",
       "\twith 25632 stored elements in Compressed Sparse Row format>"
      ]
     },
     "execution_count": 18,
     "metadata": {},
     "output_type": "execute_result"
    }
   ],
   "source": [
    "hamMat"
   ]
  },
  {
   "cell_type": "code",
   "execution_count": 19,
   "id": "31f2aa71-9a36-4657-b9fb-1e9509194d8b",
   "metadata": {},
   "outputs": [],
   "source": [
    "ens=scipy.sparse.linalg.eigs(hamMat,k=10,sigma=0)[0]"
   ]
  },
  {
   "cell_type": "code",
   "execution_count": 20,
   "id": "2f4d671a-d6e3-4deb-9909-e30aae359b20",
   "metadata": {},
   "outputs": [
    {
     "data": {
      "text/plain": [
       "array([0.13672549+3.9363273e-09j, 0.82286537-5.7748132e-08j,\n",
       "       1.1349455 +7.4264133e-09j, 1.3228645 +6.9571717e-09j,\n",
       "       1.4574281 +3.6721159e-09j, 1.5420889 +2.3216097e-08j,\n",
       "       1.4574282 +4.9628056e-08j, 1.8210869 -1.0007612e-08j,\n",
       "       1.8228647 -1.6949008e-08j, 2.137434  -8.2583407e-10j],\n",
       "      dtype=complex64)"
      ]
     },
     "execution_count": 20,
     "metadata": {},
     "output_type": "execute_result"
    }
   ],
   "source": [
    "ens"
   ]
  },
  {
   "cell_type": "code",
   "execution_count": 22,
   "id": "cd87ca84",
   "metadata": {},
   "outputs": [
    {
     "name": "stdout",
     "output_type": "stream",
     "text": [
      "toHam timer took: 0.5395 seconds\n",
      "evals timer took: 0.0028 seconds\n",
      "Lambda =  2\n",
      "[-0.18614052-2.68141376e-09j -0.18614064-2.62380784e-09j\n",
      "  0.49999946-1.22417205e-08j  0.3138589 -7.83651810e-09j\n",
      "  0.3138592 -6.33685104e-09j  0.49999994+1.54552211e-08j\n",
      "  0.31385913-6.51119203e-09j  0.31385934+5.41898570e-09j\n",
      "  0.3138593 +9.67022373e-09j  0.313859  +5.79043169e-09j]\n",
      "\n",
      "toHam timer took: 0.9285 seconds\n",
      "evals timer took: 0.0069 seconds\n",
      "Lambda =  3\n",
      "[0.04649036-1.7305629e-10j 0.72558075+3.7998625e-08j\n",
      " 0.73262906+1.5942334e-09j 0.7576407 -1.4564307e-08j\n",
      " 0.757642  -6.9625941e-09j 1.1678125 -1.1196752e-08j\n",
      " 1.2326286 -1.0638945e-09j 1.3138535 +3.5425032e-08j\n",
      " 1.3475709 -1.8859371e-08j 1.3475657 +5.3891728e-08j]\n",
      "\n",
      "toHam timer took: 2.1516 seconds\n",
      "evals timer took: 0.0105 seconds\n",
      "Lambda =  4\n",
      "[0.13618696-6.4437855e-10j 0.8223259 +2.6281466e-09j\n",
      " 0.9515979 +3.2562241e-08j 1.1648198 +1.1704689e-08j\n",
      " 1.322325  -7.2710748e-08j 1.1648233 +4.2269864e-08j\n",
      " 1.5415499 +9.2188417e-09j 1.5737243 +1.3878100e-08j\n",
      " 1.6377404 -1.7048849e-08j 1.6904233 -7.5727137e-08j]\n",
      "\n",
      "toHam timer took: 4.0889 seconds\n",
      "evals timer took: 0.0208 seconds\n",
      "Lambda =  5\n",
      "[0.13606584-2.1843072e-09j 0.82220644+2.6146147e-08j\n",
      " 1.1368923 -6.1715653e-08j 1.3222041 -3.0376182e-10j\n",
      " 1.5414243 -1.4143418e-08j 1.4567322 -3.5741873e-08j\n",
      " 1.4567358 +3.1575123e-08j 1.7495188 +1.7266247e-08j\n",
      " 1.798831  +5.1648588e-09j 1.7988292 +3.0482774e-09j]\n",
      "\n",
      "toHam timer took: 8.0193 seconds\n",
      "evals timer took: 0.0366 seconds\n",
      "Lambda =  6\n",
      "[0.13672553+6.3714753e-09j 0.822866  +1.3323953e-08j\n",
      " 1.1349468 +2.4006521e-08j 1.322864  -1.9473136e-08j\n",
      " 1.4574268 -9.1171142e-09j 1.5420868 +4.9195354e-09j\n",
      " 1.4574298 -1.4334911e-08j 1.8210837 -1.5886894e-08j\n",
      " 1.8228613 -9.1851842e-09j 2.1374311 -2.2755169e-09j]\n",
      "\n",
      "toHam timer took: 15.2153 seconds\n",
      "evals timer took: 0.0701 seconds\n",
      "Lambda =  7\n",
      "[0.13672888+2.1321728e-08j 0.8228686 +1.0755688e-08j\n",
      " 1.1367259 -7.0886901e-09j 1.3228661 -1.3520061e-10j\n",
      " 1.5420907 +1.0361818e-08j 1.4595615 +1.4763205e-08j\n",
      " 1.822867  +1.7169482e-08j 1.4595634 -3.7404785e-08j\n",
      " 1.8228706 -1.4162334e-08j 2.1336157 +1.9067706e-08j]\n",
      "\n",
      "toHam timer took: 27.7343 seconds\n",
      "evals timer took: 0.1554 seconds\n",
      "Lambda =  8\n",
      "[0.13673484+1.3949135e-09j 0.82287467+4.8949786e-09j\n",
      " 1.1367131 +2.1783151e-08j 1.322874  +1.4012534e-08j\n",
      " 1.4595886 -2.4419814e-08j 1.542097  +5.1241628e-08j\n",
      " 1.4595896 -1.1653328e-08j 1.8228743 -1.1459930e-08j\n",
      " 1.8228563 -2.7112961e-09j 2.1367402 +4.3388306e-09j]\n",
      "\n"
     ]
    }
   ],
   "source": [
    "for cutoff in [2,3,4,5,6,7,8]:\n",
    "    t=Timer('toHam')\n",
    "    t.start()\n",
    "    hamMat=convert_to_matrix(hoHam,cutoff,N,aops,adags,xs,xdags)\n",
    "    t.stop()\n",
    "    \n",
    "    t=Timer('evals')\n",
    "    t.start()\n",
    "    ens=scipy.sparse.linalg.eigs(hamMat,k=10,sigma=0)[0]\n",
    "    t.stop()\n",
    "    \n",
    "    print(\"Lambda = \",cutoff)\n",
    "    print(ens)\n",
    "    print()"
   ]
  },
  {
   "cell_type": "code",
   "execution_count": null,
   "id": "1a341691-feef-4418-82e9-8376be1f2f52",
   "metadata": {},
   "outputs": [],
   "source": []
  }
 ],
 "metadata": {
  "kernelspec": {
   "display_name": "Python 3 (ipykernel)",
   "language": "python",
   "name": "python3"
  },
  "language_info": {
   "codemirror_mode": {
    "name": "ipython",
    "version": 3
   },
   "file_extension": ".py",
   "mimetype": "text/x-python",
   "name": "python",
   "nbconvert_exporter": "python",
   "pygments_lexer": "ipython3",
   "version": "3.9.7"
  }
 },
 "nbformat": 4,
 "nbformat_minor": 5
}
