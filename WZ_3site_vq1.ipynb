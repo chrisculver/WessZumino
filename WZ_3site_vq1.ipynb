{
 "cells": [
  {
   "cell_type": "markdown",
   "id": "3e9129bb",
   "metadata": {},
   "source": [
    "# Wess Zumino \n",
    "\n",
    "## N=1 in 1+1\n",
    "\n",
    "The Hamiltonian with a central difference for the derivative is given by \n",
    "\n",
    "\\begin{align}\n",
    "    H=\\sum_n&\\left[ \\frac{p_n^2}{2a} + \\frac{a}{2}\\left(\\frac{\\phi_{n+1}-\\phi_{n-1}}{2a}\\right)^2+\\frac{a}{2}V(\\phi_n)^2\n",
    "            +aV(\\phi_n)\\frac{\\phi_{n+1}-\\phi_{n-1}}{2a} \\right. \\nonumber \\\\\n",
    "            &\\left.+(-1)^nV'(\\phi_n)\\left(\\chi_n^{\\dagger}\\chi_n-\\frac{1}{2}\\right)\n",
    "            +\\frac{1}{2a}\\left(\\chi_n^{\\dagger}\\chi_{n+1}+\\chi_{n+1}^{\\dagger}\\chi_n\\right) \\right],\n",
    "\\end{align}"
   ]
  },
  {
   "cell_type": "code",
   "execution_count": 1,
   "id": "770712fa",
   "metadata": {},
   "outputs": [],
   "source": [
    "import sympy as sp\n",
    "from ham_to_matrix import *\n",
    "from constants import *\n"
   ]
  },
  {
   "cell_type": "code",
   "execution_count": 2,
   "id": "2fee939c",
   "metadata": {},
   "outputs": [],
   "source": [
    "bosonNI=sp.expand( pn**2/(2*aLat) + (aLat/2)*((qnP1-qnM1)/(2*aLat))**2 )\n",
    "bosonI=sp.expand( (aLat/2)*V(qn)**2 + aLat*V(qn)*(qnP1-qnM1)/(2*aLat) )\n",
    "fermionNI=sp.expand( (xdnP1*xn+xdn*xnP1)/(2*aLat) )\n",
    "fermionI=sp.expand( sp.diff(V(qn),qn)*(xdn*xn-(1/2)) )"
   ]
  },
  {
   "cell_type": "code",
   "execution_count": 3,
   "id": "f60361a7",
   "metadata": {},
   "outputs": [
    {
     "data": {
      "text/latex": [
       "$\\displaystyle \\frac{a V^{2}{\\left(q_{n} \\right)}}{2} + \\frac{V{\\left(q_{n} \\right)} q_{n+1}}{2} - \\frac{V{\\left(q_{n} \\right)} q_{n-1}}{2} + \\frac{p_{n}^{2}}{2 a} - \\frac{q_{n+1} q_{n-1}}{8 a} + \\frac{q_{n+1}^{2}}{8 a} - \\frac{q_{n-1} q_{n+1}}{8 a} + \\frac{q_{n-1}^{2}}{8 a}$"
      ],
      "text/plain": [
       "a*V(q_{n})**2/2 + V(q_{n})*q_{n+1}/2 - V(q_{n})*q_{n-1}/2 + p_{n}**2/(2*a) - q_{n+1}*q_{n-1}/(8*a) + q_{n+1}**2/(8*a) - q_{n-1}*q_{n+1}/(8*a) + q_{n-1}**2/(8*a)"
      ]
     },
     "execution_count": 3,
     "metadata": {},
     "output_type": "execute_result"
    }
   ],
   "source": [
    "bosonNI+bosonI"
   ]
  },
  {
   "cell_type": "code",
   "execution_count": 4,
   "id": "18ef7097",
   "metadata": {},
   "outputs": [
    {
     "data": {
      "text/latex": [
       "$\\displaystyle - 0.5 \\frac{d}{d q_{n}} V{\\left(q_{n} \\right)} + \\frac{d}{d q_{n}} V{\\left(q_{n} \\right)} \\chi^{\\dagger}_{n} \\chi_{n} + \\frac{\\chi^{\\dagger}_{n+1} \\chi_{n}}{2 a} + \\frac{\\chi^{\\dagger}_{n} \\chi_{n+1}}{2 a}$"
      ],
      "text/plain": [
       "-0.5*Derivative(V(q_{n}), q_{n}) + Derivative(V(q_{n}), q_{n})*\\chi^{\\dagger}_{n}*\\chi_{n} + \\chi^{\\dagger}_{n+1}*\\chi_{n}/(2*a) + \\chi^{\\dagger}_{n}*\\chi_{n+1}/(2*a)"
      ]
     },
     "execution_count": 4,
     "metadata": {},
     "output_type": "execute_result"
    }
   ],
   "source": [
    "fermionNI + fermionI"
   ]
  },
  {
   "cell_type": "code",
   "execution_count": 5,
   "id": "6d14e88c",
   "metadata": {},
   "outputs": [],
   "source": [
    "N=3\n",
    "aVal=1\n",
    "\n",
    "# depends on finite-difference method\n",
    "qs=[SiteSymbol('q',str(i)) for i in range(-1,N+1,1)]\n",
    "# maybe make qs a normal site list\n",
    "# and make an extra boundaryQs list for q[-1], q[N]\n",
    "# counting would be normal computer science way for rest of code.\n",
    "\n",
    "ps=[SiteSymbol('p',str(i)) for i in range(-1,N+1,1)] # don't really need extras\n",
    "aops=[SiteSymbol('a',str(i)) for i in range(-1,N+1,1)]\n",
    "adags=[SiteSymbol('a^{\\dagger}',str(i)) for i in range(-1,N+1,1)]\n",
    "xs=[SiteSymbol('\\chi',str(i)) for i in range(-1,N+1,1)]\n",
    "xdags=[SiteSymbol('\\chi^{\\dagger}',str(i)) for i in range(-1,N+1,1)]\n",
    "\n",
    "# note this is exactly hardcoded for this finite difference method.\n",
    "bcType = 'periodic'\n",
    "boundaryConditions = {}\n",
    "if bcType == 'periodic':\n",
    "    boundaryConditions = {qs[0]: qs[N], qs[N+1]: qs[1],\n",
    "                          xs[0]: -xs[N], xs[N+1]: -xs[1], \n",
    "                          xdags[0]: -xdags[N],  xdags[N+1]: -xdags[1]\n",
    "                         }\n",
    "    \n",
    "elif bcType == 'dirichlet':\n",
    "    boundaryConditions = { qs[0]: 0, qs[N+1]: 0,\n",
    "                          xs[0]: 0, xs[N+1]: 0,\n",
    "                          xdags[0]: 0, xdags[N+1]:0\n",
    "                         }"
   ]
  },
  {
   "cell_type": "code",
   "execution_count": 6,
   "id": "031b1d7f",
   "metadata": {},
   "outputs": [
    {
     "data": {
      "text/latex": [
       "$\\displaystyle \\frac{a V^{2}{\\left(q_{n} \\right)}}{2} + \\frac{V{\\left(q_{n} \\right)} q_{n+1}}{2} - \\frac{V{\\left(q_{n} \\right)} q_{n-1}}{2} - 0.5 \\frac{d}{d q_{n}} V{\\left(q_{n} \\right)} + \\frac{d}{d q_{n}} V{\\left(q_{n} \\right)} \\chi^{\\dagger}_{n} \\chi_{n} + \\frac{\\chi^{\\dagger}_{n+1} \\chi_{n}}{2 a} + \\frac{\\chi^{\\dagger}_{n} \\chi_{n+1}}{2 a} + \\frac{p_{n}^{2}}{2 a} - \\frac{q_{n+1} q_{n-1}}{8 a} + \\frac{q_{n+1}^{2}}{8 a} - \\frac{q_{n-1} q_{n+1}}{8 a} + \\frac{q_{n-1}^{2}}{8 a}$"
      ],
      "text/plain": [
       "a*V(q_{n})**2/2 + V(q_{n})*q_{n+1}/2 - V(q_{n})*q_{n-1}/2 - 0.5*Derivative(V(q_{n}), q_{n}) + Derivative(V(q_{n}), q_{n})*\\chi^{\\dagger}_{n}*\\chi_{n} + \\chi^{\\dagger}_{n+1}*\\chi_{n}/(2*a) + \\chi^{\\dagger}_{n}*\\chi_{n+1}/(2*a) + p_{n}**2/(2*a) - q_{n+1}*q_{n-1}/(8*a) + q_{n+1}**2/(8*a) - q_{n-1}*q_{n+1}/(8*a) + q_{n-1}**2/(8*a)"
      ]
     },
     "execution_count": 6,
     "metadata": {},
     "output_type": "execute_result"
    }
   ],
   "source": [
    "totHam=bosonNI+bosonI+fermionNI+fermionI\n",
    "totHam"
   ]
  },
  {
   "cell_type": "code",
   "execution_count": 7,
   "id": "d6173b9d",
   "metadata": {},
   "outputs": [
    {
     "data": {
      "text/latex": [
       "$\\displaystyle \\frac{4.0 - 8 \\chi^{\\dagger}_{0} \\chi_{0} + 4 \\chi^{\\dagger}_{0} \\chi_{1} - 4 \\chi^{\\dagger}_{0} \\chi_{2} + 4 \\chi^{\\dagger}_{1} \\chi_{0} + 8 \\chi^{\\dagger}_{1} \\chi_{1} + 4 \\chi^{\\dagger}_{1} \\chi_{2} - 4 \\chi^{\\dagger}_{2} \\chi_{0} + 4 \\chi^{\\dagger}_{2} \\chi_{1} - 8 \\chi^{\\dagger}_{2} \\chi_{2} + 4 p_{0}^{2} + 4 p_{1}^{2} + 4 p_{2}^{2} + 3 q_{0} q_{1} - 5 q_{0} q_{2} + 6 q_{0}^{2} - 5 q_{1} q_{0} + 3 q_{1} q_{2} + 6 q_{1}^{2} + 3 q_{2} q_{0} - 5 q_{2} q_{1} + 6 q_{2}^{2}}{8}$"
      ],
      "text/plain": [
       "(4.0 - 8*\\chi^{\\dagger}_{0}*\\chi_{0} + 4*\\chi^{\\dagger}_{0}*\\chi_{1} - 4*\\chi^{\\dagger}_{0}*\\chi_{2} + 4*\\chi^{\\dagger}_{1}*\\chi_{0} + 8*\\chi^{\\dagger}_{1}*\\chi_{1} + 4*\\chi^{\\dagger}_{1}*\\chi_{2} - 4*\\chi^{\\dagger}_{2}*\\chi_{0} + 4*\\chi^{\\dagger}_{2}*\\chi_{1} - 8*\\chi^{\\dagger}_{2}*\\chi_{2} + 4*p_{0}**2 + 4*p_{1}**2 + 4*p_{2}**2 + 3*q_{0}*q_{1} - 5*q_{0}*q_{2} + 6*q_{0}**2 - 5*q_{1}*q_{0} + 3*q_{1}*q_{2} + 6*q_{1}**2 + 3*q_{2}*q_{0} - 5*q_{2}*q_{1} + 6*q_{2}**2)/8"
      ]
     },
     "execution_count": 7,
     "metadata": {},
     "output_type": "execute_result"
    }
   ],
   "source": [
    "ham=0\n",
    "\n",
    "lam=1\n",
    "\n",
    "for i in range(1,N+1):\n",
    "    ham+=(bosonNI+bosonI+fermionNI).subs({\n",
    "        pn: ps[i],\n",
    "        qn: qs[i], qnP1: qs[i+1], qnM1: qs[i-1],\n",
    "        xn: xs[i], xnP1: xs[i+1],\n",
    "        xdn: xdags[i], xdnP1: xdags[i+1]\n",
    "    }).subs(boundaryConditions)\n",
    "    \n",
    "# ham.subs(boundaryConditions).doit() # this doesn't work?\n",
    "\n",
    "\n",
    "def potential(n):\n",
    "    # m*q with m=1\n",
    "    return lam*qs[n]\n",
    "\n",
    "potentialSubs={}\n",
    "for n in range(1,N+1):\n",
    "    potentialSubs[V(qs[n])]=potential(n)\n",
    "\n",
    "ham=sp.simplify(ham.subs(potentialSubs).subs(aLat,aVal))\n",
    "\n",
    "for i in range(1,N+1):\n",
    "    if i%2==0:\n",
    "        ham+=sp.simplify(fermionI.subs({qn: qs[i], xn: xs[i], xdn: xdags[i]}).subs(potentialSubs))\n",
    "    else:\n",
    "        ham-=sp.simplify(fermionI.subs({qn: qs[i], xn: xs[i], xdn: xdags[i]}).subs(potentialSubs))\n",
    "ham=sp.simplify(ham.subs(aLat,aVal))\n",
    "ham"
   ]
  },
  {
   "cell_type": "code",
   "execution_count": 8,
   "id": "540c5c5b",
   "metadata": {},
   "outputs": [],
   "source": [
    "#ham=0\n",
    "#totHam=bosonNI+bosonI+fermionNI+fermionI\n",
    "#for i in range(0,N):\n",
    "#    ham+=totHam.subs(n,i).subs(boundaryConditions)\n",
    "# ham.subs(boundaryConditions).doit() # this doesn't work?\n",
    "\n",
    "#def potential(n):\n",
    "#    return q[n]\n",
    "\n",
    "#for n in range(0,N):\n",
    "#    ham=ham.subs(V(q[n]),potential(n))\n",
    "#ham=ham.subs(aLat,aVal).simplify().expand()\n",
    "#ham"
   ]
  },
  {
   "cell_type": "code",
   "execution_count": 9,
   "id": "ae53d291",
   "metadata": {},
   "outputs": [
    {
     "data": {
      "text/latex": [
       "$\\displaystyle \\frac{1}{2} - \\chi^{\\dagger}_{0} \\chi_{0} + \\frac{\\chi^{\\dagger}_{0} \\chi_{1}}{2} - \\frac{\\chi^{\\dagger}_{0} \\chi_{2}}{2} + \\frac{\\chi^{\\dagger}_{1} \\chi_{0}}{2} + \\chi^{\\dagger}_{1} \\chi_{1} + \\frac{\\chi^{\\dagger}_{1} \\chi_{2}}{2} - \\frac{\\chi^{\\dagger}_{2} \\chi_{0}}{2} + \\frac{\\chi^{\\dagger}_{2} \\chi_{1}}{2} - \\chi^{\\dagger}_{2} \\chi_{2} + \\frac{3 a^{\\dagger}_{0} a^{\\dagger}_{1}}{16} - \\frac{5 a^{\\dagger}_{0} a^{\\dagger}_{2}}{16} + \\frac{5 a^{\\dagger}_{0} a_{0}}{8} + \\frac{3 a^{\\dagger}_{0} a_{1}}{16} - \\frac{5 a^{\\dagger}_{0} a_{2}}{16} + \\frac{\\left(a^{\\dagger}_{0}\\right)^{2}}{8} - \\frac{5 a^{\\dagger}_{1} a^{\\dagger}_{0}}{16} + \\frac{3 a^{\\dagger}_{1} a^{\\dagger}_{2}}{16} - \\frac{5 a^{\\dagger}_{1} a_{0}}{16} + \\frac{5 a^{\\dagger}_{1} a_{1}}{8} + \\frac{3 a^{\\dagger}_{1} a_{2}}{16} + \\frac{\\left(a^{\\dagger}_{1}\\right)^{2}}{8} + \\frac{3 a^{\\dagger}_{2} a^{\\dagger}_{0}}{16} - \\frac{5 a^{\\dagger}_{2} a^{\\dagger}_{1}}{16} + \\frac{3 a^{\\dagger}_{2} a_{0}}{16} - \\frac{5 a^{\\dagger}_{2} a_{1}}{16} + \\frac{5 a^{\\dagger}_{2} a_{2}}{8} + \\frac{\\left(a^{\\dagger}_{2}\\right)^{2}}{8} + \\frac{5 a_{0} a^{\\dagger}_{0}}{8} + \\frac{3 a_{0} a^{\\dagger}_{1}}{16} - \\frac{5 a_{0} a^{\\dagger}_{2}}{16} + \\frac{3 a_{0} a_{1}}{16} - \\frac{5 a_{0} a_{2}}{16} + \\frac{a_{0}^{2}}{8} - \\frac{5 a_{1} a^{\\dagger}_{0}}{16} + \\frac{5 a_{1} a^{\\dagger}_{1}}{8} + \\frac{3 a_{1} a^{\\dagger}_{2}}{16} - \\frac{5 a_{1} a_{0}}{16} + \\frac{3 a_{1} a_{2}}{16} + \\frac{a_{1}^{2}}{8} + \\frac{3 a_{2} a^{\\dagger}_{0}}{16} - \\frac{5 a_{2} a^{\\dagger}_{1}}{16} + \\frac{5 a_{2} a^{\\dagger}_{2}}{8} + \\frac{3 a_{2} a_{0}}{16} - \\frac{5 a_{2} a_{1}}{16} + \\frac{a_{2}^{2}}{8}$"
      ],
      "text/plain": [
       "1/2 - \\chi^{\\dagger}_{0}*\\chi_{0} + \\chi^{\\dagger}_{0}*\\chi_{1}/2 - \\chi^{\\dagger}_{0}*\\chi_{2}/2 + \\chi^{\\dagger}_{1}*\\chi_{0}/2 + \\chi^{\\dagger}_{1}*\\chi_{1} + \\chi^{\\dagger}_{1}*\\chi_{2}/2 - \\chi^{\\dagger}_{2}*\\chi_{0}/2 + \\chi^{\\dagger}_{2}*\\chi_{1}/2 - \\chi^{\\dagger}_{2}*\\chi_{2} + 3*a^{\\dagger}_{0}*a^{\\dagger}_{1}/16 - 5*a^{\\dagger}_{0}*a^{\\dagger}_{2}/16 + 5*a^{\\dagger}_{0}*a_{0}/8 + 3*a^{\\dagger}_{0}*a_{1}/16 - 5*a^{\\dagger}_{0}*a_{2}/16 + a^{\\dagger}_{0}**2/8 - 5*a^{\\dagger}_{1}*a^{\\dagger}_{0}/16 + 3*a^{\\dagger}_{1}*a^{\\dagger}_{2}/16 - 5*a^{\\dagger}_{1}*a_{0}/16 + 5*a^{\\dagger}_{1}*a_{1}/8 + 3*a^{\\dagger}_{1}*a_{2}/16 + a^{\\dagger}_{1}**2/8 + 3*a^{\\dagger}_{2}*a^{\\dagger}_{0}/16 - 5*a^{\\dagger}_{2}*a^{\\dagger}_{1}/16 + 3*a^{\\dagger}_{2}*a_{0}/16 - 5*a^{\\dagger}_{2}*a_{1}/16 + 5*a^{\\dagger}_{2}*a_{2}/8 + a^{\\dagger}_{2}**2/8 + 5*a_{0}*a^{\\dagger}_{0}/8 + 3*a_{0}*a^{\\dagger}_{1}/16 - 5*a_{0}*a^{\\dagger}_{2}/16 + 3*a_{0}*a_{1}/16 - 5*a_{0}*a_{2}/16 + a_{0}**2/8 - 5*a_{1}*a^{\\dagger}_{0}/16 + 5*a_{1}*a^{\\dagger}_{1}/8 + 3*a_{1}*a^{\\dagger}_{2}/16 - 5*a_{1}*a_{0}/16 + 3*a_{1}*a_{2}/16 + a_{1}**2/8 + 3*a_{2}*a^{\\dagger}_{0}/16 - 5*a_{2}*a^{\\dagger}_{1}/16 + 5*a_{2}*a^{\\dagger}_{2}/8 + 3*a_{2}*a_{0}/16 - 5*a_{2}*a_{1}/16 + a_{2}**2/8"
      ]
     },
     "execution_count": 9,
     "metadata": {},
     "output_type": "execute_result"
    }
   ],
   "source": [
    "m=1\n",
    "\n",
    "HOdofSubs = {}\n",
    "#offset because of BC\n",
    "for i in range(1,N+1):\n",
    "    HOdofSubs[qs[i]] = 0.5*sp.sqrt(2/m)*(aops[i] + adags[i])\n",
    "    HOdofSubs[ps[i]] = complex(0,1)*sp.sqrt(2*m)*(adags[i] - aops[i])/2 \n",
    "\n",
    "hoHam=sp.expand(ham.subs(HOdofSubs))\n",
    "hoHam=sp.nsimplify(hoHam,tolerance=1e-8)\n",
    "hoHam"
   ]
  },
  {
   "cell_type": "code",
   "execution_count": 10,
   "id": "db4f8fdc",
   "metadata": {},
   "outputs": [
    {
     "name": "stdout",
     "output_type": "stream",
     "text": [
      "1/2 to matrix timer took: 164.3184 seconds\n"
     ]
    },
    {
     "ename": "KeyboardInterrupt",
     "evalue": "",
     "output_type": "error",
     "traceback": [
      "\u001b[0;31m---------------------------------------------------------------------------\u001b[0m",
      "\u001b[0;31mKeyboardInterrupt\u001b[0m                         Traceback (most recent call last)",
      "Input \u001b[0;32mIn [10]\u001b[0m, in \u001b[0;36m<cell line: 2>\u001b[0;34m()\u001b[0m\n\u001b[1;32m      1\u001b[0m cutoff\u001b[38;5;241m=\u001b[39m\u001b[38;5;241m6\u001b[39m\n\u001b[0;32m----> 2\u001b[0m hamMat\u001b[38;5;241m=\u001b[39m\u001b[43mconvert_to_matrix\u001b[49m\u001b[43m(\u001b[49m\u001b[43mhoHam\u001b[49m\u001b[43m,\u001b[49m\u001b[43mcutoff\u001b[49m\u001b[43m,\u001b[49m\u001b[43mN\u001b[49m\u001b[43m,\u001b[49m\u001b[43maops\u001b[49m\u001b[43m,\u001b[49m\u001b[43madags\u001b[49m\u001b[43m,\u001b[49m\u001b[43mxs\u001b[49m\u001b[43m,\u001b[49m\u001b[43mxdags\u001b[49m\u001b[43m)\u001b[49m\n",
      "File \u001b[0;32m~/Code/WessZumino/ham_to_matrix.py:74\u001b[0m, in \u001b[0;36mconvert_to_matrix\u001b[0;34m(expr, cutoff, Nsites, aops, adags, xs, xdags)\u001b[0m\n\u001b[1;32m     72\u001b[0m     timer\u001b[38;5;241m=\u001b[39mTimer(\u001b[38;5;28mstr\u001b[39m(t)\u001b[38;5;241m+\u001b[39m\u001b[38;5;124m'\u001b[39m\u001b[38;5;124m to matrix\u001b[39m\u001b[38;5;124m'\u001b[39m)\n\u001b[1;32m     73\u001b[0m     timer\u001b[38;5;241m.\u001b[39mstart()\n\u001b[0;32m---> 74\u001b[0m     fullHam\u001b[38;5;241m=\u001b[39mfullHam\u001b[38;5;241m+\u001b[39m\u001b[43mconvert_term_to_matrix\u001b[49m\u001b[43m(\u001b[49m\u001b[43mt\u001b[49m\u001b[43m,\u001b[49m\u001b[43mcutoff\u001b[49m\u001b[43m,\u001b[49m\u001b[43mNsites\u001b[49m\u001b[43m,\u001b[49m\u001b[43m \u001b[49m\u001b[43maops\u001b[49m\u001b[43m,\u001b[49m\u001b[43m \u001b[49m\u001b[43madags\u001b[49m\u001b[43m,\u001b[49m\u001b[43m \u001b[49m\u001b[43mxs\u001b[49m\u001b[43m,\u001b[49m\u001b[43m \u001b[49m\u001b[43mxdags\u001b[49m\u001b[43m)\u001b[49m\n\u001b[1;32m     75\u001b[0m     timer\u001b[38;5;241m.\u001b[39mstop()\n\u001b[1;32m     76\u001b[0m \u001b[38;5;66;03m# now need to drop all the buffers...\u001b[39;00m\n\u001b[1;32m     77\u001b[0m \u001b[38;5;66;03m#for i\u001b[39;00m\n",
      "File \u001b[0;32m~/Code/WessZumino/ham_to_matrix.py:167\u001b[0m, in \u001b[0;36mconvert_term_to_matrix\u001b[0;34m(term, cutoff, Nsites, aops, adags, xs, xdags)\u001b[0m\n\u001b[1;32m    160\u001b[0m     prodMatrix\u001b[38;5;241m=\u001b[39mnp\u001b[38;5;241m.\u001b[39mmatmul(prodMatrix,fullMatrix)\n\u001b[1;32m    161\u001b[0m     \u001b[38;5;66;03m#tMultTimer.stop()\u001b[39;00m\n\u001b[1;32m    162\u001b[0m     \u001b[38;5;66;03m#print(\"prodMatrix={}\".format(prodMatrix))\u001b[39;00m\n\u001b[1;32m    163\u001b[0m \n\u001b[1;32m    164\u001b[0m \n\u001b[1;32m    165\u001b[0m \u001b[38;5;66;03m# TODO if there's a buffer what's the right way \u001b[39;00m\n\u001b[1;32m    166\u001b[0m \u001b[38;5;66;03m# to slice the matrix.\u001b[39;00m\n\u001b[0;32m--> 167\u001b[0m \u001b[38;5;28;01mreturn\u001b[39;00m \u001b[43mcoef\u001b[49m\u001b[38;5;241;43m*\u001b[39;49m\u001b[43mprodMatrix\u001b[49m\n",
      "File \u001b[0;32m~/anaconda3/envs/QuantumComputing/lib/python3.9/site-packages/sympy/core/decorators.py:94\u001b[0m, in \u001b[0;36m__sympifyit.<locals>.__sympifyit_wrapper\u001b[0;34m(a, b)\u001b[0m\n\u001b[1;32m     90\u001b[0m \u001b[38;5;28;01mtry\u001b[39;00m:\n\u001b[1;32m     91\u001b[0m     \u001b[38;5;66;03m# If an external class has _op_priority, it knows how to deal\u001b[39;00m\n\u001b[1;32m     92\u001b[0m     \u001b[38;5;66;03m# with sympy objects. Otherwise, it must be converted.\u001b[39;00m\n\u001b[1;32m     93\u001b[0m     \u001b[38;5;28;01mif\u001b[39;00m \u001b[38;5;129;01mnot\u001b[39;00m \u001b[38;5;28mhasattr\u001b[39m(b, \u001b[38;5;124m'\u001b[39m\u001b[38;5;124m_op_priority\u001b[39m\u001b[38;5;124m'\u001b[39m):\n\u001b[0;32m---> 94\u001b[0m         b \u001b[38;5;241m=\u001b[39m \u001b[43msympify\u001b[49m\u001b[43m(\u001b[49m\u001b[43mb\u001b[49m\u001b[43m,\u001b[49m\u001b[43m \u001b[49m\u001b[43mstrict\u001b[49m\u001b[38;5;241;43m=\u001b[39;49m\u001b[38;5;28;43;01mTrue\u001b[39;49;00m\u001b[43m)\u001b[49m\n\u001b[1;32m     95\u001b[0m     \u001b[38;5;28;01mreturn\u001b[39;00m func(a, b)\n\u001b[1;32m     96\u001b[0m \u001b[38;5;28;01mexcept\u001b[39;00m SympifyError:\n",
      "File \u001b[0;32m~/anaconda3/envs/QuantumComputing/lib/python3.9/site-packages/sympy/core/sympify.py:361\u001b[0m, in \u001b[0;36msympify\u001b[0;34m(a, locals, convert_xor, strict, rational, evaluate)\u001b[0m\n\u001b[1;32m    359\u001b[0m conv \u001b[38;5;241m=\u001b[39m converter\u001b[38;5;241m.\u001b[39mget(\u001b[38;5;28mcls\u001b[39m, \u001b[38;5;28;01mNone\u001b[39;00m)\n\u001b[1;32m    360\u001b[0m \u001b[38;5;28;01mif\u001b[39;00m conv \u001b[38;5;129;01mis\u001b[39;00m \u001b[38;5;129;01mnot\u001b[39;00m \u001b[38;5;28;01mNone\u001b[39;00m:\n\u001b[0;32m--> 361\u001b[0m     \u001b[38;5;28;01mreturn\u001b[39;00m \u001b[43mconv\u001b[49m\u001b[43m(\u001b[49m\u001b[43ma\u001b[49m\u001b[43m)\u001b[49m\n\u001b[1;32m    363\u001b[0m \u001b[38;5;28;01mfor\u001b[39;00m superclass \u001b[38;5;129;01min\u001b[39;00m getmro(\u001b[38;5;28mcls\u001b[39m):\n\u001b[1;32m    364\u001b[0m     \u001b[38;5;28;01mtry\u001b[39;00m:\n",
      "File \u001b[0;32m~/anaconda3/envs/QuantumComputing/lib/python3.9/site-packages/sympy/core/numbers.py:4087\u001b[0m, in \u001b[0;36msympify_complex\u001b[0;34m(a)\u001b[0m\n\u001b[1;32m   4086\u001b[0m \u001b[38;5;28;01mdef\u001b[39;00m \u001b[38;5;21msympify_complex\u001b[39m(a):\n\u001b[0;32m-> 4087\u001b[0m     real, imag \u001b[38;5;241m=\u001b[39m \u001b[38;5;28;43mlist\u001b[39;49m\u001b[43m(\u001b[49m\u001b[38;5;28;43mmap\u001b[39;49m\u001b[43m(\u001b[49m\u001b[43msympify\u001b[49m\u001b[43m,\u001b[49m\u001b[43m \u001b[49m\u001b[43m(\u001b[49m\u001b[43ma\u001b[49m\u001b[38;5;241;43m.\u001b[39;49m\u001b[43mreal\u001b[49m\u001b[43m,\u001b[49m\u001b[43m \u001b[49m\u001b[43ma\u001b[49m\u001b[38;5;241;43m.\u001b[39;49m\u001b[43mimag\u001b[49m\u001b[43m)\u001b[49m\u001b[43m)\u001b[49m\u001b[43m)\u001b[49m\n\u001b[1;32m   4088\u001b[0m     \u001b[38;5;28;01mreturn\u001b[39;00m real \u001b[38;5;241m+\u001b[39m S\u001b[38;5;241m.\u001b[39mImaginaryUnit\u001b[38;5;241m*\u001b[39mimag\n",
      "File \u001b[0;32m~/anaconda3/envs/QuantumComputing/lib/python3.9/site-packages/sympy/core/sympify.py:361\u001b[0m, in \u001b[0;36msympify\u001b[0;34m(a, locals, convert_xor, strict, rational, evaluate)\u001b[0m\n\u001b[1;32m    359\u001b[0m conv \u001b[38;5;241m=\u001b[39m converter\u001b[38;5;241m.\u001b[39mget(\u001b[38;5;28mcls\u001b[39m, \u001b[38;5;28;01mNone\u001b[39;00m)\n\u001b[1;32m    360\u001b[0m \u001b[38;5;28;01mif\u001b[39;00m conv \u001b[38;5;129;01mis\u001b[39;00m \u001b[38;5;129;01mnot\u001b[39;00m \u001b[38;5;28;01mNone\u001b[39;00m:\n\u001b[0;32m--> 361\u001b[0m     \u001b[38;5;28;01mreturn\u001b[39;00m \u001b[43mconv\u001b[49m\u001b[43m(\u001b[49m\u001b[43ma\u001b[49m\u001b[43m)\u001b[49m\n\u001b[1;32m    363\u001b[0m \u001b[38;5;28;01mfor\u001b[39;00m superclass \u001b[38;5;129;01min\u001b[39;00m getmro(\u001b[38;5;28mcls\u001b[39m):\n\u001b[1;32m    364\u001b[0m     \u001b[38;5;28;01mtry\u001b[39;00m:\n",
      "File \u001b[0;32m~/anaconda3/envs/QuantumComputing/lib/python3.9/site-packages/sympy/core/numbers.py:1105\u001b[0m, in \u001b[0;36mFloat.__new__\u001b[0;34m(***failed resolving arguments***)\u001b[0m\n\u001b[1;32m   1103\u001b[0m \u001b[38;5;28;01melse\u001b[39;00m:\n\u001b[1;32m   1104\u001b[0m     isint \u001b[38;5;241m=\u001b[39m \u001b[38;5;124m'\u001b[39m\u001b[38;5;124m.\u001b[39m\u001b[38;5;124m'\u001b[39m \u001b[38;5;129;01mnot\u001b[39;00m \u001b[38;5;129;01min\u001b[39;00m num\n\u001b[0;32m-> 1105\u001b[0m     num, dps \u001b[38;5;241m=\u001b[39m \u001b[43m_decimal_to_Rational_prec\u001b[49m\u001b[43m(\u001b[49m\u001b[43mNum\u001b[49m\u001b[43m)\u001b[49m\n\u001b[1;32m   1106\u001b[0m     \u001b[38;5;28;01mif\u001b[39;00m num\u001b[38;5;241m.\u001b[39mis_Integer \u001b[38;5;129;01mand\u001b[39;00m isint:\n\u001b[1;32m   1107\u001b[0m         dps \u001b[38;5;241m=\u001b[39m \u001b[38;5;28mmax\u001b[39m(dps, \u001b[38;5;28mlen\u001b[39m(\u001b[38;5;28mstr\u001b[39m(num)\u001b[38;5;241m.\u001b[39mlstrip(\u001b[38;5;124m'\u001b[39m\u001b[38;5;124m-\u001b[39m\u001b[38;5;124m'\u001b[39m)))\n",
      "File \u001b[0;32m~/anaconda3/envs/QuantumComputing/lib/python3.9/site-packages/sympy/core/numbers.py:211\u001b[0m, in \u001b[0;36m_decimal_to_Rational_prec\u001b[0;34m(dec)\u001b[0m\n\u001b[1;32m    209\u001b[0m \u001b[38;5;28;01mif\u001b[39;00m \u001b[38;5;129;01mnot\u001b[39;00m dec\u001b[38;5;241m.\u001b[39mis_finite():\n\u001b[1;32m    210\u001b[0m     \u001b[38;5;28;01mraise\u001b[39;00m \u001b[38;5;167;01mTypeError\u001b[39;00m(\u001b[38;5;124m\"\u001b[39m\u001b[38;5;124mdec must be finite, got \u001b[39m\u001b[38;5;132;01m%s\u001b[39;00m\u001b[38;5;124m.\u001b[39m\u001b[38;5;124m\"\u001b[39m \u001b[38;5;241m%\u001b[39m dec)\n\u001b[0;32m--> 211\u001b[0m s, d, e \u001b[38;5;241m=\u001b[39m \u001b[43mdec\u001b[49m\u001b[38;5;241;43m.\u001b[39;49m\u001b[43mas_tuple\u001b[49m\u001b[43m(\u001b[49m\u001b[43m)\u001b[49m\n\u001b[1;32m    212\u001b[0m prec \u001b[38;5;241m=\u001b[39m \u001b[38;5;28mlen\u001b[39m(d)\n\u001b[1;32m    213\u001b[0m \u001b[38;5;28;01mif\u001b[39;00m e \u001b[38;5;241m>\u001b[39m\u001b[38;5;241m=\u001b[39m \u001b[38;5;241m0\u001b[39m:  \u001b[38;5;66;03m# it's an integer\u001b[39;00m\n",
      "File \u001b[0;32m<string>:1\u001b[0m, in \u001b[0;36m<lambda>\u001b[0;34m(_cls, sign, digits, exponent)\u001b[0m\n",
      "\u001b[0;31mKeyboardInterrupt\u001b[0m: "
     ]
    }
   ],
   "source": [
    "cutoff=6\n",
    "hamMat=convert_to_matrix(hoHam,cutoff,N,aops,adags,xs,xdags)"
   ]
  },
  {
   "cell_type": "code",
   "execution_count": 11,
   "id": "cd01d2b1",
   "metadata": {},
   "outputs": [],
   "source": [
    "#ens=np.sort(np.linalg.eig(hamMat.astype(np.complex64))[0])\n",
    "#ens=ens.round(8)\n",
    "\n",
    "#print(np.isreal(ens).all())\n",
    "\n",
    "#ens"
   ]
  },
  {
   "cell_type": "code",
   "execution_count": null,
   "id": "a8002fdf-33f3-4bb8-bc6d-13111529abe2",
   "metadata": {},
   "outputs": [],
   "source": []
  },
  {
   "cell_type": "code",
   "execution_count": null,
   "id": "006c6892-4bed-40cf-b56e-56d662913c05",
   "metadata": {},
   "outputs": [],
   "source": []
  },
  {
   "cell_type": "code",
   "execution_count": null,
   "id": "31f2aa71-9a36-4657-b9fb-1e9509194d8b",
   "metadata": {},
   "outputs": [],
   "source": []
  },
  {
   "cell_type": "code",
   "execution_count": null,
   "id": "cd87ca84",
   "metadata": {},
   "outputs": [
    {
     "name": "stdout",
     "output_type": "stream",
     "text": [
      "Lambda =  2\n",
      "[-0.2807764 +0.j -0.2807764 +0.j  0.21922357+0.j  0.21922357+0.j\n",
      "  0.21922357+0.j  0.21922357+0.j  0.21922357+0.j  0.21922357+0.j\n",
      "  0.31385934+0.j  0.31385934+0.j]\n",
      "\n",
      "Lambda =  3\n",
      "[-0.04814539+0.j  0.5464903 +0.j  0.63094676+0.j  0.66300696+0.j\n",
      "  0.66300696+0.j  1.0731802 +0.j  1.2192235 +0.j  1.2255825 +0.j\n",
      "  1.232631  +0.j  1.2529342 +0.j]\n",
      "\n",
      "Lambda =  4\n",
      "[0.04155126+0.j 0.636187  +0.j 0.85696435+0.j 1.070188  +0.j\n",
      " 1.070188  +0.j 1.3223276 +0.j 1.4516002 +0.j 1.4790901 +0.j\n",
      " 1.59579   +0.j 1.59579   +0.j]\n",
      "\n"
     ]
    }
   ],
   "source": [
    "for cutoff in [2,3,4,5,6,7,8]:\n",
    "    hamMat=convert_to_matrix(hoHam,cutoff,N,aops,adags,xs,xdags)\n",
    "    ens=np.sort(np.linalg.eig(hamMat.astype(np.complex64))[0])\n",
    "    ens=ens.round(8)\n",
    "    \n",
    "    print(\"Lambda = \",cutoff)\n",
    "    print(ens[0:10])\n",
    "    print()"
   ]
  },
  {
   "cell_type": "code",
   "execution_count": 12,
   "id": "284d886c-1a03-4489-ab6b-184c043f6ac2",
   "metadata": {},
   "outputs": [
    {
     "ename": "KeyboardInterrupt",
     "evalue": "",
     "output_type": "error",
     "traceback": [
      "\u001b[0;31m---------------------------------------------------------------------------\u001b[0m",
      "\u001b[0;31mKeyboardInterrupt\u001b[0m                         Traceback (most recent call last)",
      "Input \u001b[0;32mIn [12]\u001b[0m, in \u001b[0;36m<cell line: 1>\u001b[0;34m()\u001b[0m\n\u001b[1;32m      1\u001b[0m \u001b[38;5;28;01mfor\u001b[39;00m cutoff \u001b[38;5;129;01min\u001b[39;00m [\u001b[38;5;241m5\u001b[39m,\u001b[38;5;241m6\u001b[39m,\u001b[38;5;241m7\u001b[39m,\u001b[38;5;241m8\u001b[39m]:\n\u001b[0;32m----> 2\u001b[0m     hamMat\u001b[38;5;241m=\u001b[39m\u001b[43mconvert_to_matrix\u001b[49m\u001b[43m(\u001b[49m\u001b[43mhoHam\u001b[49m\u001b[43m,\u001b[49m\u001b[43mcutoff\u001b[49m\u001b[43m,\u001b[49m\u001b[43mN\u001b[49m\u001b[43m,\u001b[49m\u001b[43maops\u001b[49m\u001b[43m,\u001b[49m\u001b[43madags\u001b[49m\u001b[43m,\u001b[49m\u001b[43mxs\u001b[49m\u001b[43m,\u001b[49m\u001b[43mxdags\u001b[49m\u001b[43m)\u001b[49m\n\u001b[1;32m      3\u001b[0m     ens\u001b[38;5;241m=\u001b[39mnp\u001b[38;5;241m.\u001b[39msort(np\u001b[38;5;241m.\u001b[39mlinalg\u001b[38;5;241m.\u001b[39meig(hamMat\u001b[38;5;241m.\u001b[39mastype(np\u001b[38;5;241m.\u001b[39mcomplex64))[\u001b[38;5;241m0\u001b[39m])\n\u001b[1;32m      4\u001b[0m     ens\u001b[38;5;241m=\u001b[39mens\u001b[38;5;241m.\u001b[39mround(\u001b[38;5;241m8\u001b[39m)\n",
      "File \u001b[0;32m~/Code/WessZumino/ham_to_matrix.py:74\u001b[0m, in \u001b[0;36mconvert_to_matrix\u001b[0;34m(expr, cutoff, Nsites, aops, adags, xs, xdags)\u001b[0m\n\u001b[1;32m     70\u001b[0m \u001b[38;5;66;03m# convert each term to matrix and sum up\u001b[39;00m\n\u001b[1;32m     71\u001b[0m \u001b[38;5;28;01mfor\u001b[39;00m t \u001b[38;5;129;01min\u001b[39;00m expr\u001b[38;5;241m.\u001b[39margs:\n\u001b[1;32m     72\u001b[0m     \u001b[38;5;66;03m#timer=Timer(str(t)+' to matrix')\u001b[39;00m\n\u001b[1;32m     73\u001b[0m     \u001b[38;5;66;03m#timer.start()\u001b[39;00m\n\u001b[0;32m---> 74\u001b[0m     fullHam\u001b[38;5;241m=\u001b[39mfullHam\u001b[38;5;241m+\u001b[39m\u001b[43mconvert_term_to_matrix\u001b[49m\u001b[43m(\u001b[49m\u001b[43mt\u001b[49m\u001b[43m,\u001b[49m\u001b[43mcutoff\u001b[49m\u001b[43m,\u001b[49m\u001b[43mNsites\u001b[49m\u001b[43m,\u001b[49m\u001b[43m \u001b[49m\u001b[43maops\u001b[49m\u001b[43m,\u001b[49m\u001b[43m \u001b[49m\u001b[43madags\u001b[49m\u001b[43m,\u001b[49m\u001b[43m \u001b[49m\u001b[43mxs\u001b[49m\u001b[43m,\u001b[49m\u001b[43m \u001b[49m\u001b[43mxdags\u001b[49m\u001b[43m)\u001b[49m\n\u001b[1;32m     75\u001b[0m     \u001b[38;5;66;03m#timer.stop()\u001b[39;00m\n\u001b[1;32m     76\u001b[0m \u001b[38;5;66;03m# now need to drop all the buffers...\u001b[39;00m\n\u001b[1;32m     77\u001b[0m \u001b[38;5;66;03m#for i\u001b[39;00m\n\u001b[1;32m     79\u001b[0m \u001b[38;5;28;01mreturn\u001b[39;00m fullHam\n",
      "File \u001b[0;32m~/Code/WessZumino/ham_to_matrix.py:149\u001b[0m, in \u001b[0;36mconvert_term_to_matrix\u001b[0;34m(term, cutoff, Nsites, aops, adags, xs, xdags)\u001b[0m\n\u001b[1;32m    147\u001b[0m     \u001b[38;5;28;01melse\u001b[39;00m:\n\u001b[1;32m    148\u001b[0m         fullMatrix\u001b[38;5;241m=\u001b[39mnp\u001b[38;5;241m.\u001b[39mkron(fullMatrix,np\u001b[38;5;241m.\u001b[39meye(cutoff\u001b[38;5;241m+\u001b[39mbuffer))\n\u001b[0;32m--> 149\u001b[0m         fullMatrix\u001b[38;5;241m=\u001b[39m\u001b[43mnp\u001b[49m\u001b[38;5;241;43m.\u001b[39;49m\u001b[43mkron\u001b[49m\u001b[43m(\u001b[49m\u001b[43mfullMatrix\u001b[49m\u001b[43m,\u001b[49m\u001b[43mnp\u001b[49m\u001b[38;5;241;43m.\u001b[39;49m\u001b[43meye\u001b[49m\u001b[43m(\u001b[49m\u001b[38;5;241;43m2\u001b[39;49m\u001b[43m)\u001b[49m\u001b[43m)\u001b[49m\n\u001b[1;32m    151\u001b[0m fullMatrix\u001b[38;5;241m=\u001b[39mfullMatrix\u001b[38;5;241m.\u001b[39mastype(np\u001b[38;5;241m.\u001b[39mcomplex64)\n\u001b[1;32m    152\u001b[0m \u001b[38;5;66;03m#tFullTimer.stop()\u001b[39;00m\n\u001b[1;32m    153\u001b[0m \n\u001b[1;32m    154\u001b[0m \n\u001b[0;32m   (...)\u001b[0m\n\u001b[1;32m    158\u001b[0m \u001b[38;5;66;03m#tMultTimer.start()\u001b[39;00m\n\u001b[1;32m    159\u001b[0m \u001b[38;5;66;03m#print(prodMatrix.shape,fullMatrix.shape)\u001b[39;00m\n",
      "File \u001b[0;32m<__array_function__ internals>:180\u001b[0m, in \u001b[0;36mkron\u001b[0;34m(*args, **kwargs)\u001b[0m\n",
      "File \u001b[0;32m~/anaconda3/envs/QuantumComputing/lib/python3.9/site-packages/numpy/lib/shape_base.py:1154\u001b[0m, in \u001b[0;36mkron\u001b[0;34m(a, b)\u001b[0m\n\u001b[1;32m   1152\u001b[0m         bs \u001b[38;5;241m=\u001b[39m (\u001b[38;5;241m1\u001b[39m,)\u001b[38;5;241m*\u001b[39m(nda\u001b[38;5;241m-\u001b[39mndb) \u001b[38;5;241m+\u001b[39m bs\n\u001b[1;32m   1153\u001b[0m         nd \u001b[38;5;241m=\u001b[39m nda\n\u001b[0;32m-> 1154\u001b[0m result \u001b[38;5;241m=\u001b[39m \u001b[43mouter\u001b[49m\u001b[43m(\u001b[49m\u001b[43ma\u001b[49m\u001b[43m,\u001b[49m\u001b[43m \u001b[49m\u001b[43mb\u001b[49m\u001b[43m)\u001b[49m\u001b[38;5;241m.\u001b[39mreshape(as_\u001b[38;5;241m+\u001b[39mbs)\n\u001b[1;32m   1155\u001b[0m axis \u001b[38;5;241m=\u001b[39m nd\u001b[38;5;241m-\u001b[39m\u001b[38;5;241m1\u001b[39m\n\u001b[1;32m   1156\u001b[0m \u001b[38;5;28;01mfor\u001b[39;00m _ \u001b[38;5;129;01min\u001b[39;00m \u001b[38;5;28mrange\u001b[39m(nd):\n",
      "File \u001b[0;32m<__array_function__ internals>:180\u001b[0m, in \u001b[0;36mouter\u001b[0;34m(*args, **kwargs)\u001b[0m\n",
      "File \u001b[0;32m~/anaconda3/envs/QuantumComputing/lib/python3.9/site-packages/numpy/core/numeric.py:936\u001b[0m, in \u001b[0;36mouter\u001b[0;34m(a, b, out)\u001b[0m\n\u001b[1;32m    934\u001b[0m a \u001b[38;5;241m=\u001b[39m asarray(a)\n\u001b[1;32m    935\u001b[0m b \u001b[38;5;241m=\u001b[39m asarray(b)\n\u001b[0;32m--> 936\u001b[0m \u001b[38;5;28;01mreturn\u001b[39;00m \u001b[43mmultiply\u001b[49m\u001b[43m(\u001b[49m\u001b[43ma\u001b[49m\u001b[38;5;241;43m.\u001b[39;49m\u001b[43mravel\u001b[49m\u001b[43m(\u001b[49m\u001b[43m)\u001b[49m\u001b[43m[\u001b[49m\u001b[43m:\u001b[49m\u001b[43m,\u001b[49m\u001b[43m \u001b[49m\u001b[43mnewaxis\u001b[49m\u001b[43m]\u001b[49m\u001b[43m,\u001b[49m\u001b[43m \u001b[49m\u001b[43mb\u001b[49m\u001b[38;5;241;43m.\u001b[39;49m\u001b[43mravel\u001b[49m\u001b[43m(\u001b[49m\u001b[43m)\u001b[49m\u001b[43m[\u001b[49m\u001b[43mnewaxis\u001b[49m\u001b[43m,\u001b[49m\u001b[43m \u001b[49m\u001b[43m:\u001b[49m\u001b[43m]\u001b[49m\u001b[43m,\u001b[49m\u001b[43m \u001b[49m\u001b[43mout\u001b[49m\u001b[43m)\u001b[49m\n",
      "File \u001b[0;32m~/anaconda3/envs/QuantumComputing/lib/python3.9/site-packages/sympy/core/numbers.py:2218\u001b[0m, in \u001b[0;36mInteger.__mul__\u001b[0;34m(self, other)\u001b[0m\n\u001b[1;32m   2216\u001b[0m     \u001b[38;5;28;01melif\u001b[39;00m \u001b[38;5;28misinstance\u001b[39m(other, Rational):\n\u001b[1;32m   2217\u001b[0m         \u001b[38;5;28;01mreturn\u001b[39;00m Rational(\u001b[38;5;28mself\u001b[39m\u001b[38;5;241m.\u001b[39mp\u001b[38;5;241m*\u001b[39mother\u001b[38;5;241m.\u001b[39mp, other\u001b[38;5;241m.\u001b[39mq, igcd(\u001b[38;5;28mself\u001b[39m\u001b[38;5;241m.\u001b[39mp, other\u001b[38;5;241m.\u001b[39mq))\n\u001b[0;32m-> 2218\u001b[0m     \u001b[38;5;28;01mreturn\u001b[39;00m \u001b[43mRational\u001b[49m\u001b[38;5;241;43m.\u001b[39;49m\u001b[38;5;21;43m__mul__\u001b[39;49m\u001b[43m(\u001b[49m\u001b[38;5;28;43mself\u001b[39;49m\u001b[43m,\u001b[49m\u001b[43m \u001b[49m\u001b[43mother\u001b[49m\u001b[43m)\u001b[49m\n\u001b[1;32m   2219\u001b[0m \u001b[38;5;28;01mreturn\u001b[39;00m Rational\u001b[38;5;241m.\u001b[39m\u001b[38;5;21m__mul__\u001b[39m(\u001b[38;5;28mself\u001b[39m, other)\n",
      "File \u001b[0;32m~/anaconda3/envs/QuantumComputing/lib/python3.9/site-packages/sympy/core/decorators.py:95\u001b[0m, in \u001b[0;36m__sympifyit.<locals>.__sympifyit_wrapper\u001b[0;34m(a, b)\u001b[0m\n\u001b[1;32m     93\u001b[0m     \u001b[38;5;28;01mif\u001b[39;00m \u001b[38;5;129;01mnot\u001b[39;00m \u001b[38;5;28mhasattr\u001b[39m(b, \u001b[38;5;124m'\u001b[39m\u001b[38;5;124m_op_priority\u001b[39m\u001b[38;5;124m'\u001b[39m):\n\u001b[1;32m     94\u001b[0m         b \u001b[38;5;241m=\u001b[39m sympify(b, strict\u001b[38;5;241m=\u001b[39m\u001b[38;5;28;01mTrue\u001b[39;00m)\n\u001b[0;32m---> 95\u001b[0m     \u001b[38;5;28;01mreturn\u001b[39;00m \u001b[43mfunc\u001b[49m\u001b[43m(\u001b[49m\u001b[43ma\u001b[49m\u001b[43m,\u001b[49m\u001b[43m \u001b[49m\u001b[43mb\u001b[49m\u001b[43m)\u001b[49m\n\u001b[1;32m     96\u001b[0m \u001b[38;5;28;01mexcept\u001b[39;00m SympifyError:\n\u001b[1;32m     97\u001b[0m     \u001b[38;5;28;01mreturn\u001b[39;00m retval\n",
      "File \u001b[0;32m~/anaconda3/envs/QuantumComputing/lib/python3.9/site-packages/sympy/core/numbers.py:1751\u001b[0m, in \u001b[0;36mRational.__mul__\u001b[0;34m(self, other)\u001b[0m\n\u001b[1;32m   1749\u001b[0m     \u001b[38;5;28;01mreturn\u001b[39;00m Rational(\u001b[38;5;28mself\u001b[39m\u001b[38;5;241m.\u001b[39mp\u001b[38;5;241m*\u001b[39mother\u001b[38;5;241m.\u001b[39mp, \u001b[38;5;28mself\u001b[39m\u001b[38;5;241m.\u001b[39mq\u001b[38;5;241m*\u001b[39mother\u001b[38;5;241m.\u001b[39mq, igcd(\u001b[38;5;28mself\u001b[39m\u001b[38;5;241m.\u001b[39mp, other\u001b[38;5;241m.\u001b[39mq)\u001b[38;5;241m*\u001b[39migcd(\u001b[38;5;28mself\u001b[39m\u001b[38;5;241m.\u001b[39mq, other\u001b[38;5;241m.\u001b[39mp))\n\u001b[1;32m   1750\u001b[0m \u001b[38;5;28;01melif\u001b[39;00m \u001b[38;5;28misinstance\u001b[39m(other, Float):\n\u001b[0;32m-> 1751\u001b[0m     \u001b[38;5;28;01mreturn\u001b[39;00m \u001b[43mother\u001b[49m\u001b[38;5;241;43m*\u001b[39;49m\u001b[38;5;28;43mself\u001b[39;49m\n\u001b[1;32m   1752\u001b[0m \u001b[38;5;28;01melse\u001b[39;00m:\n\u001b[1;32m   1753\u001b[0m     \u001b[38;5;28;01mreturn\u001b[39;00m Number\u001b[38;5;241m.\u001b[39m\u001b[38;5;21m__mul__\u001b[39m(\u001b[38;5;28mself\u001b[39m, other)\n",
      "File \u001b[0;32m~/anaconda3/envs/QuantumComputing/lib/python3.9/site-packages/sympy/core/decorators.py:90\u001b[0m, in \u001b[0;36m__sympifyit.<locals>.__sympifyit_wrapper\u001b[0;34m(a, b)\u001b[0m\n\u001b[1;32m     88\u001b[0m \u001b[38;5;129m@wraps\u001b[39m(func)\n\u001b[1;32m     89\u001b[0m \u001b[38;5;28;01mdef\u001b[39;00m \u001b[38;5;21m__sympifyit_wrapper\u001b[39m(a, b):\n\u001b[0;32m---> 90\u001b[0m     \u001b[38;5;28;01mtry\u001b[39;00m:\n\u001b[1;32m     91\u001b[0m         \u001b[38;5;66;03m# If an external class has _op_priority, it knows how to deal\u001b[39;00m\n\u001b[1;32m     92\u001b[0m         \u001b[38;5;66;03m# with sympy objects. Otherwise, it must be converted.\u001b[39;00m\n\u001b[1;32m     93\u001b[0m         \u001b[38;5;28;01mif\u001b[39;00m \u001b[38;5;129;01mnot\u001b[39;00m \u001b[38;5;28mhasattr\u001b[39m(b, \u001b[38;5;124m'\u001b[39m\u001b[38;5;124m_op_priority\u001b[39m\u001b[38;5;124m'\u001b[39m):\n\u001b[1;32m     94\u001b[0m             b \u001b[38;5;241m=\u001b[39m sympify(b, strict\u001b[38;5;241m=\u001b[39m\u001b[38;5;28;01mTrue\u001b[39;00m)\n",
      "\u001b[0;31mKeyboardInterrupt\u001b[0m: "
     ]
    }
   ],
   "source": [
    "for cutoff in [5,6,7,8]:\n",
    "    hamMat=convert_to_matrix(hoHam,cutoff,N,aops,adags,xs,xdags)\n",
    "    ens=np.sort(np.linalg.eig(hamMat.astype(np.complex64))[0])\n",
    "    ens=ens.round(8)\n",
    "    \n",
    "    print(\"Lambda = \",cutoff)\n",
    "    print(ens[0:10])\n",
    "    print()"
   ]
  },
  {
   "cell_type": "code",
   "execution_count": null,
   "id": "1a341691-feef-4418-82e9-8376be1f2f52",
   "metadata": {},
   "outputs": [],
   "source": []
  }
 ],
 "metadata": {
  "kernelspec": {
   "display_name": "Python 3 (ipykernel)",
   "language": "python",
   "name": "python3"
  },
  "language_info": {
   "codemirror_mode": {
    "name": "ipython",
    "version": 3
   },
   "file_extension": ".py",
   "mimetype": "text/x-python",
   "name": "python",
   "nbconvert_exporter": "python",
   "pygments_lexer": "ipython3",
   "version": "3.9.7"
  }
 },
 "nbformat": 4,
 "nbformat_minor": 5
}
