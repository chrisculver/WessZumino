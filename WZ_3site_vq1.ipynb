{
 "cells": [
  {
   "cell_type": "markdown",
   "id": "3e9129bb",
   "metadata": {},
   "source": [
    "# Wess Zumino \n",
    "\n",
    "## N=1 in 1+1\n",
    "\n",
    "The Hamiltonian with a central difference for the derivative is given by \n",
    "\n",
    "\\begin{align}\n",
    "    H=\\sum_n&\\left[ \\frac{p_n^2}{2a} + \\frac{a}{2}\\left(\\frac{\\phi_{n+1}-\\phi_{n-1}}{2a}\\right)^2+\\frac{a}{2}V(\\phi_n)^2\n",
    "            +aV(\\phi_n)\\frac{\\phi_{n+1}-\\phi_{n-1}}{2a} \\right. \\nonumber \\\\\n",
    "            &\\left.+(-1)^nV'(\\phi_n)\\left(\\chi_n^{\\dagger}\\chi_n-\\frac{1}{2}\\right)\n",
    "            +\\frac{1}{2a}\\left(\\chi_n^{\\dagger}\\chi_{n+1}+\\chi_{n+1}^{\\dagger}\\chi_n\\right) \\right],\n",
    "\\end{align}"
   ]
  },
  {
   "cell_type": "code",
   "execution_count": 1,
   "id": "770712fa",
   "metadata": {},
   "outputs": [],
   "source": [
    "import sympy as sp\n",
    "from ham_to_sparse_matrix import *\n",
    "from constants import *\n"
   ]
  },
  {
   "cell_type": "code",
   "execution_count": 2,
   "id": "2fee939c",
   "metadata": {},
   "outputs": [],
   "source": [
    "bosonNI=sp.expand( pn**2/(2*aLat) + (aLat/2)*((qnP1-qnM1)/(2*aLat))**2 )\n",
    "bosonI=sp.expand( (aLat/2)*V(qn)**2 + aLat*V(qn)*(qnP1-qnM1)/(2*aLat) )\n",
    "fermionNI=sp.expand( (xdnP1*xn+xdn*xnP1)/(2*aLat) )\n",
    "fermionI=sp.expand( sp.diff(V(qn),qn)*(xdn*xn-(1/2)) )"
   ]
  },
  {
   "cell_type": "code",
   "execution_count": 3,
   "id": "f60361a7",
   "metadata": {},
   "outputs": [
    {
     "data": {
      "text/latex": [
       "$\\displaystyle \\frac{a V^{2}{\\left(q_{n} \\right)}}{2} + \\frac{V{\\left(q_{n} \\right)} q_{n+1}}{2} - \\frac{V{\\left(q_{n} \\right)} q_{n-1}}{2} + \\frac{p_{n}^{2}}{2 a} - \\frac{q_{n+1} q_{n-1}}{8 a} + \\frac{q_{n+1}^{2}}{8 a} - \\frac{q_{n-1} q_{n+1}}{8 a} + \\frac{q_{n-1}^{2}}{8 a}$"
      ],
      "text/plain": [
       "a*V(q_{n})**2/2 + V(q_{n})*q_{n+1}/2 - V(q_{n})*q_{n-1}/2 + p_{n}**2/(2*a) - q_{n+1}*q_{n-1}/(8*a) + q_{n+1}**2/(8*a) - q_{n-1}*q_{n+1}/(8*a) + q_{n-1}**2/(8*a)"
      ]
     },
     "execution_count": 3,
     "metadata": {},
     "output_type": "execute_result"
    }
   ],
   "source": [
    "bosonNI+bosonI"
   ]
  },
  {
   "cell_type": "code",
   "execution_count": 4,
   "id": "18ef7097",
   "metadata": {},
   "outputs": [
    {
     "data": {
      "text/latex": [
       "$\\displaystyle - 0.5 \\frac{d}{d q_{n}} V{\\left(q_{n} \\right)} + \\frac{d}{d q_{n}} V{\\left(q_{n} \\right)} \\chi^{\\dagger}_{n} \\chi_{n} + \\frac{\\chi^{\\dagger}_{n+1} \\chi_{n}}{2 a} + \\frac{\\chi^{\\dagger}_{n} \\chi_{n+1}}{2 a}$"
      ],
      "text/plain": [
       "-0.5*Derivative(V(q_{n}), q_{n}) + Derivative(V(q_{n}), q_{n})*\\chi^{\\dagger}_{n}*\\chi_{n} + \\chi^{\\dagger}_{n+1}*\\chi_{n}/(2*a) + \\chi^{\\dagger}_{n}*\\chi_{n+1}/(2*a)"
      ]
     },
     "execution_count": 4,
     "metadata": {},
     "output_type": "execute_result"
    }
   ],
   "source": [
    "fermionNI + fermionI"
   ]
  },
  {
   "cell_type": "code",
   "execution_count": 4,
   "id": "6d14e88c",
   "metadata": {},
   "outputs": [],
   "source": [
    "N=3\n",
    "aVal=1\n",
    "\n",
    "# depends on finite-difference method\n",
    "qs=[SiteSymbol('q',str(i)) for i in range(-1,N+1,1)]\n",
    "# maybe make qs a normal site list\n",
    "# and make an extra boundaryQs list for q[-1], q[N]\n",
    "# counting would be normal computer science way for rest of code.\n",
    "\n",
    "ps=[SiteSymbol('p',str(i)) for i in range(-1,N+1,1)] # don't really need extras\n",
    "aops=[SiteSymbol('a',str(i)) for i in range(-1,N+1,1)]\n",
    "adags=[SiteSymbol('a^{\\dagger}',str(i)) for i in range(-1,N+1,1)]\n",
    "xs=[SiteSymbol('\\chi',str(i)) for i in range(-1,N+1,1)]\n",
    "xdags=[SiteSymbol('\\chi^{\\dagger}',str(i)) for i in range(-1,N+1,1)]\n",
    "\n",
    "# note this is exactly hardcoded for this finite difference method.\n",
    "bcType = 'periodic'\n",
    "boundaryConditions = {}\n",
    "if bcType == 'periodic':\n",
    "    boundaryConditions = {qs[0]: qs[N], qs[N+1]: qs[1],\n",
    "                          xs[0]: -xs[N], xs[N+1]: -xs[1], \n",
    "                          xdags[0]: -xdags[N],  xdags[N+1]: -xdags[1]\n",
    "                         }\n",
    "    \n",
    "elif bcType == 'dirichlet':\n",
    "    boundaryConditions = { qs[0]: 0, qs[N+1]: 0,\n",
    "                          xs[0]: 0, xs[N+1]: 0,\n",
    "                          xdags[0]: 0, xdags[N+1]:0\n",
    "                         }"
   ]
  },
  {
   "cell_type": "code",
   "execution_count": 5,
   "id": "031b1d7f",
   "metadata": {},
   "outputs": [
    {
     "data": {
      "text/latex": [
       "$\\displaystyle \\frac{a V^{2}{\\left(q_{n} \\right)}}{2} + \\frac{V{\\left(q_{n} \\right)} q_{n+1}}{2} - \\frac{V{\\left(q_{n} \\right)} q_{n-1}}{2} - 0.5 \\frac{d}{d q_{n}} V{\\left(q_{n} \\right)} + \\frac{d}{d q_{n}} V{\\left(q_{n} \\right)} \\chi^{\\dagger}_{n} \\chi_{n} + \\frac{\\chi^{\\dagger}_{n+1} \\chi_{n}}{2 a} + \\frac{\\chi^{\\dagger}_{n} \\chi_{n+1}}{2 a} + \\frac{p_{n}^{2}}{2 a} - \\frac{q_{n+1} q_{n-1}}{8 a} + \\frac{q_{n+1}^{2}}{8 a} - \\frac{q_{n-1} q_{n+1}}{8 a} + \\frac{q_{n-1}^{2}}{8 a}$"
      ],
      "text/plain": [
       "a*V(q_{n})**2/2 + V(q_{n})*q_{n+1}/2 - V(q_{n})*q_{n-1}/2 - 0.5*Derivative(V(q_{n}), q_{n}) + Derivative(V(q_{n}), q_{n})*\\chi^{\\dagger}_{n}*\\chi_{n} + \\chi^{\\dagger}_{n+1}*\\chi_{n}/(2*a) + \\chi^{\\dagger}_{n}*\\chi_{n+1}/(2*a) + p_{n}**2/(2*a) - q_{n+1}*q_{n-1}/(8*a) + q_{n+1}**2/(8*a) - q_{n-1}*q_{n+1}/(8*a) + q_{n-1}**2/(8*a)"
      ]
     },
     "execution_count": 5,
     "metadata": {},
     "output_type": "execute_result"
    }
   ],
   "source": [
    "totHam=bosonNI+bosonI+fermionNI+fermionI\n",
    "totHam"
   ]
  },
  {
   "cell_type": "code",
   "execution_count": 7,
   "id": "d6173b9d",
   "metadata": {},
   "outputs": [
    {
     "data": {
      "text/latex": [
       "$\\displaystyle \\frac{4.0 - 8 \\chi^{\\dagger}_{0} \\chi_{0} + 4 \\chi^{\\dagger}_{0} \\chi_{1} - 4 \\chi^{\\dagger}_{0} \\chi_{2} + 4 \\chi^{\\dagger}_{1} \\chi_{0} + 8 \\chi^{\\dagger}_{1} \\chi_{1} + 4 \\chi^{\\dagger}_{1} \\chi_{2} - 4 \\chi^{\\dagger}_{2} \\chi_{0} + 4 \\chi^{\\dagger}_{2} \\chi_{1} - 8 \\chi^{\\dagger}_{2} \\chi_{2} + 4 p_{0}^{2} + 4 p_{1}^{2} + 4 p_{2}^{2} + 3 q_{0} q_{1} - 5 q_{0} q_{2} + 6 q_{0}^{2} - 5 q_{1} q_{0} + 3 q_{1} q_{2} + 6 q_{1}^{2} + 3 q_{2} q_{0} - 5 q_{2} q_{1} + 6 q_{2}^{2}}{8}$"
      ],
      "text/plain": [
       "(4.0 - 8*\\chi^{\\dagger}_{0}*\\chi_{0} + 4*\\chi^{\\dagger}_{0}*\\chi_{1} - 4*\\chi^{\\dagger}_{0}*\\chi_{2} + 4*\\chi^{\\dagger}_{1}*\\chi_{0} + 8*\\chi^{\\dagger}_{1}*\\chi_{1} + 4*\\chi^{\\dagger}_{1}*\\chi_{2} - 4*\\chi^{\\dagger}_{2}*\\chi_{0} + 4*\\chi^{\\dagger}_{2}*\\chi_{1} - 8*\\chi^{\\dagger}_{2}*\\chi_{2} + 4*p_{0}**2 + 4*p_{1}**2 + 4*p_{2}**2 + 3*q_{0}*q_{1} - 5*q_{0}*q_{2} + 6*q_{0}**2 - 5*q_{1}*q_{0} + 3*q_{1}*q_{2} + 6*q_{1}**2 + 3*q_{2}*q_{0} - 5*q_{2}*q_{1} + 6*q_{2}**2)/8"
      ]
     },
     "execution_count": 7,
     "metadata": {},
     "output_type": "execute_result"
    }
   ],
   "source": [
    "ham=0\n",
    "\n",
    "mass=1\n",
    "\n",
    "for i in range(1,N+1):\n",
    "    ham+=(bosonNI+bosonI+fermionNI).subs({\n",
    "        pn: ps[i],\n",
    "        qn: qs[i], qnP1: qs[i+1], qnM1: qs[i-1],\n",
    "        xn: xs[i], xnP1: xs[i+1],\n",
    "        xdn: xdags[i], xdnP1: xdags[i+1]\n",
    "    }).subs(boundaryConditions)\n",
    "    \n",
    "# ham.subs(boundaryConditions).doit() # this doesn't work?\n",
    "\n",
    "\n",
    "def potential(n):\n",
    "    # m*q with m=1\n",
    "    return mass*qs[n]\n",
    "\n",
    "potentialSubs={}\n",
    "for n in range(1,N+1):\n",
    "    potentialSubs[V(qs[n])]=potential(n)\n",
    "\n",
    "ham=sp.simplify(ham.subs(potentialSubs).subs(aLat,aVal))\n",
    "\n",
    "for i in range(1,N+1):\n",
    "    if i%2==0:\n",
    "        ham+=sp.simplify(fermionI.subs({qn: qs[i], xn: xs[i], xdn: xdags[i]}).subs(potentialSubs))\n",
    "    else:\n",
    "        ham-=sp.simplify(fermionI.subs({qn: qs[i], xn: xs[i], xdn: xdags[i]}).subs(potentialSubs))\n",
    "ham=sp.simplify(ham.subs(aLat,aVal))\n",
    "ham"
   ]
  },
  {
   "cell_type": "code",
   "execution_count": 9,
   "id": "ae53d291",
   "metadata": {},
   "outputs": [
    {
     "data": {
      "text/latex": [
       "$\\displaystyle \\frac{1}{2} - \\chi^{\\dagger}_{0} \\chi_{0} + \\frac{\\chi^{\\dagger}_{0} \\chi_{1}}{2} - \\frac{\\chi^{\\dagger}_{0} \\chi_{2}}{2} + \\frac{\\chi^{\\dagger}_{1} \\chi_{0}}{2} + \\chi^{\\dagger}_{1} \\chi_{1} + \\frac{\\chi^{\\dagger}_{1} \\chi_{2}}{2} - \\frac{\\chi^{\\dagger}_{2} \\chi_{0}}{2} + \\frac{\\chi^{\\dagger}_{2} \\chi_{1}}{2} - \\chi^{\\dagger}_{2} \\chi_{2} + \\frac{3 a^{\\dagger}_{0} a^{\\dagger}_{1}}{16} - \\frac{5 a^{\\dagger}_{0} a^{\\dagger}_{2}}{16} + \\frac{5 a^{\\dagger}_{0} a_{0}}{8} + \\frac{3 a^{\\dagger}_{0} a_{1}}{16} - \\frac{5 a^{\\dagger}_{0} a_{2}}{16} + \\frac{\\left(a^{\\dagger}_{0}\\right)^{2}}{8} - \\frac{5 a^{\\dagger}_{1} a^{\\dagger}_{0}}{16} + \\frac{3 a^{\\dagger}_{1} a^{\\dagger}_{2}}{16} - \\frac{5 a^{\\dagger}_{1} a_{0}}{16} + \\frac{5 a^{\\dagger}_{1} a_{1}}{8} + \\frac{3 a^{\\dagger}_{1} a_{2}}{16} + \\frac{\\left(a^{\\dagger}_{1}\\right)^{2}}{8} + \\frac{3 a^{\\dagger}_{2} a^{\\dagger}_{0}}{16} - \\frac{5 a^{\\dagger}_{2} a^{\\dagger}_{1}}{16} + \\frac{3 a^{\\dagger}_{2} a_{0}}{16} - \\frac{5 a^{\\dagger}_{2} a_{1}}{16} + \\frac{5 a^{\\dagger}_{2} a_{2}}{8} + \\frac{\\left(a^{\\dagger}_{2}\\right)^{2}}{8} + \\frac{5 a_{0} a^{\\dagger}_{0}}{8} + \\frac{3 a_{0} a^{\\dagger}_{1}}{16} - \\frac{5 a_{0} a^{\\dagger}_{2}}{16} + \\frac{3 a_{0} a_{1}}{16} - \\frac{5 a_{0} a_{2}}{16} + \\frac{a_{0}^{2}}{8} - \\frac{5 a_{1} a^{\\dagger}_{0}}{16} + \\frac{5 a_{1} a^{\\dagger}_{1}}{8} + \\frac{3 a_{1} a^{\\dagger}_{2}}{16} - \\frac{5 a_{1} a_{0}}{16} + \\frac{3 a_{1} a_{2}}{16} + \\frac{a_{1}^{2}}{8} + \\frac{3 a_{2} a^{\\dagger}_{0}}{16} - \\frac{5 a_{2} a^{\\dagger}_{1}}{16} + \\frac{5 a_{2} a^{\\dagger}_{2}}{8} + \\frac{3 a_{2} a_{0}}{16} - \\frac{5 a_{2} a_{1}}{16} + \\frac{a_{2}^{2}}{8}$"
      ],
      "text/plain": [
       "1/2 - \\chi^{\\dagger}_{0}*\\chi_{0} + \\chi^{\\dagger}_{0}*\\chi_{1}/2 - \\chi^{\\dagger}_{0}*\\chi_{2}/2 + \\chi^{\\dagger}_{1}*\\chi_{0}/2 + \\chi^{\\dagger}_{1}*\\chi_{1} + \\chi^{\\dagger}_{1}*\\chi_{2}/2 - \\chi^{\\dagger}_{2}*\\chi_{0}/2 + \\chi^{\\dagger}_{2}*\\chi_{1}/2 - \\chi^{\\dagger}_{2}*\\chi_{2} + 3*a^{\\dagger}_{0}*a^{\\dagger}_{1}/16 - 5*a^{\\dagger}_{0}*a^{\\dagger}_{2}/16 + 5*a^{\\dagger}_{0}*a_{0}/8 + 3*a^{\\dagger}_{0}*a_{1}/16 - 5*a^{\\dagger}_{0}*a_{2}/16 + a^{\\dagger}_{0}**2/8 - 5*a^{\\dagger}_{1}*a^{\\dagger}_{0}/16 + 3*a^{\\dagger}_{1}*a^{\\dagger}_{2}/16 - 5*a^{\\dagger}_{1}*a_{0}/16 + 5*a^{\\dagger}_{1}*a_{1}/8 + 3*a^{\\dagger}_{1}*a_{2}/16 + a^{\\dagger}_{1}**2/8 + 3*a^{\\dagger}_{2}*a^{\\dagger}_{0}/16 - 5*a^{\\dagger}_{2}*a^{\\dagger}_{1}/16 + 3*a^{\\dagger}_{2}*a_{0}/16 - 5*a^{\\dagger}_{2}*a_{1}/16 + 5*a^{\\dagger}_{2}*a_{2}/8 + a^{\\dagger}_{2}**2/8 + 5*a_{0}*a^{\\dagger}_{0}/8 + 3*a_{0}*a^{\\dagger}_{1}/16 - 5*a_{0}*a^{\\dagger}_{2}/16 + 3*a_{0}*a_{1}/16 - 5*a_{0}*a_{2}/16 + a_{0}**2/8 - 5*a_{1}*a^{\\dagger}_{0}/16 + 5*a_{1}*a^{\\dagger}_{1}/8 + 3*a_{1}*a^{\\dagger}_{2}/16 - 5*a_{1}*a_{0}/16 + 3*a_{1}*a_{2}/16 + a_{1}**2/8 + 3*a_{2}*a^{\\dagger}_{0}/16 - 5*a_{2}*a^{\\dagger}_{1}/16 + 5*a_{2}*a^{\\dagger}_{2}/8 + 3*a_{2}*a_{0}/16 - 5*a_{2}*a_{1}/16 + a_{2}**2/8"
      ]
     },
     "execution_count": 9,
     "metadata": {},
     "output_type": "execute_result"
    }
   ],
   "source": [
    "m=1\n",
    "\n",
    "HOdofSubs = {}\n",
    "#offset because of BC\n",
    "for i in range(1,N+1):\n",
    "    HOdofSubs[qs[i]] = 0.5*sp.sqrt(2/m)*(aops[i] + adags[i])\n",
    "    HOdofSubs[ps[i]] = complex(0,1)*sp.sqrt(2*m)*(adags[i] - aops[i])/2 \n",
    "\n",
    "hoHam=sp.expand(ham.subs(HOdofSubs))\n",
    "hoHam=sp.nsimplify(hoHam,tolerance=1e-8)\n",
    "hoHam"
   ]
  },
  {
   "cell_type": "code",
   "execution_count": 14,
   "id": "db4f8fdc",
   "metadata": {},
   "outputs": [],
   "source": [
    "cutoff=6\n",
    "hamMat=convert_to_matrix(hoHam,cutoff,N,aops,adags,xs,xdags)"
   ]
  },
  {
   "cell_type": "code",
   "execution_count": 15,
   "id": "90e5e687-79aa-466f-a380-667e14214f54",
   "metadata": {},
   "outputs": [],
   "source": [
    "import scipy.sparse.linalg"
   ]
  },
  {
   "cell_type": "code",
   "execution_count": 18,
   "id": "67bd80f1-7f94-476e-9fec-54d0548591ae",
   "metadata": {},
   "outputs": [
    {
     "data": {
      "text/plain": [
       "<1728x1728 sparse matrix of type '<class 'numpy.complex64'>'\n",
       "\twith 25632 stored elements in Compressed Sparse Row format>"
      ]
     },
     "execution_count": 18,
     "metadata": {},
     "output_type": "execute_result"
    }
   ],
   "source": [
    "hamMat"
   ]
  },
  {
   "cell_type": "code",
   "execution_count": null,
   "id": "31f2aa71-9a36-4657-b9fb-1e9509194d8b",
   "metadata": {},
   "outputs": [],
   "source": []
  },
  {
   "cell_type": "code",
   "execution_count": 25,
   "id": "cd87ca84",
   "metadata": {},
   "outputs": [
    {
     "name": "stdout",
     "output_type": "stream",
     "text": [
      "toHam timer took: 0.3371 seconds\n",
      "evals timer took: 0.0019 seconds\n",
      "Lambda =  2\n",
      "[-0.28077638-7.2391173e-09j  0.21922363+5.6406044e-09j\n",
      " -0.2807765 -1.1316464e-08j  0.21922354+8.1443012e-09j\n",
      "  0.31385946-8.8072980e-09j  0.31385922-8.3646805e-09j\n",
      "  0.2192235 -3.5939138e-10j  0.21922342-3.5806677e-10j\n",
      "  0.21922368+3.1709821e-09j  0.2192235 -1.8226245e-09j]\n",
      "\n",
      "toHam timer took: 0.5952 seconds\n",
      "evals timer took: 0.0036 seconds\n",
      "Lambda =  3\n",
      "[-0.04814541+4.5906208e-09j  0.5464892 -7.9585121e-09j\n",
      "  0.6309455 +3.0804053e-08j  0.6630059 -3.0256707e-08j\n",
      "  0.663006  -4.3429349e-09j  1.0731779 +1.2821408e-08j\n",
      "  1.2192225 -1.7008501e-08j  1.2255825 -1.5325528e-08j\n",
      "  1.2326298 -7.0213351e-09j  1.252933  -3.2360180e-08j]\n",
      "\n",
      "toHam timer took: 1.0964 seconds\n",
      "evals timer took: 0.0063 seconds\n",
      "Lambda =  4\n",
      "[0.04155127+2.9033738e-09j 0.6361867 +9.8910879e-09j\n",
      " 0.8569632 +8.2918907e-09j 1.0701864 +5.2265488e-08j\n",
      " 1.070188  +3.1466058e-08j 1.3223246 +5.5100813e-09j\n",
      " 1.4515995 +2.0447617e-08j 1.4790865 -5.0473894e-08j\n",
      " 1.5957872 +7.4351689e-09j 1.5957894 -5.1824580e-09j]\n",
      "\n",
      "toHam timer took: 2.0912 seconds\n",
      "evals timer took: 0.0145 seconds\n",
      "Lambda =  5\n",
      "[0.0414301+2.51452775e-10j 0.6360654+1.29995925e-08j\n",
      " 1.0422578+2.86302413e-08j 1.3222047-6.05319528e-09j\n",
      " 1.3620983+3.11026298e-08j 1.3620999+1.87908888e-08j\n",
      " 1.6368928+1.13488667e-08j 1.6548833+6.95150870e-09j\n",
      " 1.7041919-1.87281710e-08j 1.7041935+4.33821823e-09j]\n",
      "\n",
      "toHam timer took: 3.7033 seconds\n",
      "evals timer took: 0.0281 seconds\n",
      "Lambda =  6\n",
      "[0.04208979+2.8154084e-09j 0.63672537+6.2786931e-09j\n",
      " 1.0403117 -2.0505096e-08j 1.3228651 -4.7841471e-08j\n",
      " 1.6349429 -2.6982827e-08j 1.3627928 -1.9196733e-08j\n",
      " 1.3627923 -2.0323446e-08j 1.8228632 -2.0568217e-08j\n",
      " 1.9574279 -4.7560484e-09j 1.9574311 -1.2958305e-08j]\n",
      "\n",
      "toHam timer took: 6.4229 seconds\n",
      "evals timer took: 0.0606 seconds\n",
      "Lambda =  7\n",
      "[0.04209315-1.1489089e-09j 0.6367285 -8.7358156e-09j\n",
      " 1.0420909 -3.7822062e-08j 1.3228685 +1.9315564e-08j\n",
      " 1.6367246 +1.1565442e-08j 1.3649272 +2.0849672e-08j\n",
      " 1.3649278 +3.6870447e-09j 1.8228647 +1.4940106e-08j\n",
      " 1.9595628 -3.5262200e-08j 1.9595637 -8.9683788e-08j]\n",
      "\n",
      "toHam timer took: 10.8829 seconds\n",
      "evals timer took: 0.1935 seconds\n",
      "Lambda =  8\n",
      "[0.0420991-7.4290534e-09j 0.6367345+3.2368115e-09j\n",
      " 1.0420796-3.5271825e-09j 1.3228744+2.9065733e-08j\n",
      " 1.3649528+6.7205828e-09j 1.6367155-1.0780791e-08j\n",
      " 1.3649538-1.0247978e-08j 1.8228757-1.5189185e-08j\n",
      " 1.9595886-8.4934619e-09j 1.95959  -1.3331568e-08j]\n",
      "\n",
      "toHam timer took: 17.3434 seconds\n",
      "evals timer took: 0.2353 seconds\n",
      "Lambda =  9\n",
      "[0.04209917+3.4915542e-09j 0.63673484+3.2935308e-08j\n",
      " 1.0420976 -2.8377816e-09j 1.3228734 +2.2331531e-10j\n",
      " 1.6367302 -1.5045041e-08j 1.3649696 +2.1666988e-09j\n",
      " 1.3649755 +5.9450547e-09j 1.822873  +6.0387890e-08j\n",
      " 1.9596049 -4.5294414e-08j 1.9596088 +3.1327971e-08j]\n",
      "\n",
      "toHam timer took: 27.7109 seconds\n",
      "evals timer took: 0.4441 seconds\n",
      "Lambda =  10\n",
      "[0.04209926+4.7275761e-10j 0.6367346 -2.7026668e-09j\n",
      " 1.0420973 -1.0012494e-08j 1.3228734 +2.5803486e-09j\n",
      " 1.3649719 +5.5651700e-08j 1.6367306 +2.1424077e-08j\n",
      " 1.3649744 +6.8154384e-09j 1.8228757 +7.5315214e-08j\n",
      " 1.959609  -2.5875311e-08j 1.9596095 +5.5671903e-09j]\n",
      "\n",
      "toHam timer took: 42.4332 seconds\n",
      "evals timer took: 0.7517 seconds\n",
      "Lambda =  11\n",
      "[0.04209926-8.1321261e-09j 0.63673425-1.7679959e-08j\n",
      " 1.042098  +3.8189231e-08j 1.322873  -1.6000838e-08j\n",
      " 1.3649713 +2.0075593e-08j 1.6367307 +1.2223044e-08j\n",
      " 1.3649746 -7.4576278e-08j 1.8228695 +1.1663097e-09j\n",
      " 1.9596078 +7.9718303e-09j 1.9596078 -1.8029573e-08j]\n",
      "\n",
      "toHam timer took: 64.5447 seconds\n",
      "evals timer took: 1.0594 seconds\n",
      "Lambda =  12\n",
      "[0.04209925-1.8775048e-09j 0.63673437-4.0085290e-08j\n",
      " 1.042097  +1.8533635e-08j 1.3228729 +1.6803595e-08j\n",
      " 1.3649724 -8.6044027e-10j 1.6367294 +1.2931198e-08j\n",
      " 1.3649752 -4.5149100e-08j 1.822874  -1.6580994e-08j\n",
      " 1.959606  -3.2629718e-08j 1.9596106 -6.8295272e-08j]\n",
      "\n"
     ]
    }
   ],
   "source": [
    "for cutoff in [2,3,4,5,6,7,8,9,10,11,12]:\n",
    "    t=Timer('toHam')\n",
    "    t.start()\n",
    "    hamMat=convert_to_matrix(hoHam,cutoff,N,aops,adags,xs,xdags)\n",
    "    t.stop()\n",
    "    \n",
    "    t=Timer('evals')\n",
    "    t.start()\n",
    "    ens=scipy.sparse.linalg.eigs(hamMat,k=10,sigma=0)[0]\n",
    "    t.stop()\n",
    "    \n",
    "    print(\"Lambda = \",cutoff)\n",
    "    print(ens)\n",
    "    print()"
   ]
  },
  {
   "cell_type": "code",
   "execution_count": null,
   "id": "1a341691-feef-4418-82e9-8376be1f2f52",
   "metadata": {},
   "outputs": [],
   "source": []
  }
 ],
 "metadata": {
  "kernelspec": {
   "display_name": "Python 3 (ipykernel)",
   "language": "python",
   "name": "python3"
  },
  "language_info": {
   "codemirror_mode": {
    "name": "ipython",
    "version": 3
   },
   "file_extension": ".py",
   "mimetype": "text/x-python",
   "name": "python",
   "nbconvert_exporter": "python",
   "pygments_lexer": "ipython3",
   "version": "3.9.7"
  }
 },
 "nbformat": 4,
 "nbformat_minor": 5
}
