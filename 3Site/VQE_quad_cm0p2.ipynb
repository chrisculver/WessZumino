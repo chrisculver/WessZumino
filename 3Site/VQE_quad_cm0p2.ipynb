{
 "cells": [
  {
   "cell_type": "code",
   "execution_count": 1,
   "metadata": {},
   "outputs": [],
   "source": [
    "%load_ext autoreload\n",
    "%autoreload 2"
   ]
  },
  {
   "cell_type": "code",
   "execution_count": 2,
   "metadata": {},
   "outputs": [],
   "source": [
    "sys.path.append('..')\n",
    "from src.ham_to_sparse_matrix import *\n",
    "from src.constants import *\n",
    "from src.matrix_to_ps import matrix_to_pauli_strings\n",
    "from src.binary_encodings import *\n",
    "\n",
    "import sympy as sp\n",
    "import sys\n",
    "import scipy.sparse.linalg"
   ]
  },
  {
   "cell_type": "code",
   "execution_count": 3,
   "metadata": {},
   "outputs": [],
   "source": [
    "bosonNI=sp.expand( pn**2/(2*aLat) + (aLat/2)*((qnP1-qnM1)/(2*aLat))**2 )\n",
    "bosonI=sp.expand( (aLat/2)*V(qn)**2 + aLat*V(qn)*(qnP1-qnM1)/(4*aLat) + aLat*(qnP1-qnM1)*V(qn)/(4*aLat) )\n",
    "fermionNI=sp.expand( -(xdnP1*xn+xdn*xnP1)/(2*aLat) )\n",
    "fermionI=sp.expand( sp.diff(V(qn),qn)*(xdn*xn-(1/2)) )"
   ]
  },
  {
   "cell_type": "code",
   "execution_count": 4,
   "metadata": {},
   "outputs": [],
   "source": [
    "N=3\n",
    "aVal=1\n",
    "\n",
    "# depends on finite-difference method\n",
    "qs=[SiteSymbol('q',str(i)) for i in range(-1,N+1,1)]\n",
    "# maybe make qs a normal site list\n",
    "# and make an extra boundaryQs list for q[-1], q[N]\n",
    "# counting would be normal computer science way for rest of code.\n",
    "\n",
    "ps=[SiteSymbol('p',str(i)) for i in range(-1,N+1,1)] # don't really need extras\n",
    "aops=[SiteSymbol('a',str(i)) for i in range(-1,N+1,1)]\n",
    "adags=[SiteSymbol('a^{\\dagger}',str(i)) for i in range(-1,N+1,1)]\n",
    "xs=[SiteSymbol('\\chi',str(i)) for i in range(-1,N+1,1)]\n",
    "xdags=[SiteSymbol('\\chi^{\\dagger}',str(i)) for i in range(-1,N+1,1)]\n",
    "\n",
    "# note this is exactly hardcoded for this finite difference method.\n",
    "bcType = 'dirichlet'\n",
    "boundaryConditions = {}\n",
    "if bcType == 'periodic':\n",
    "    boundaryConditions = {qs[0]: qs[N], qs[N+1]: qs[1],\n",
    "                          xs[0]: -xs[N], xs[N+1]: -xs[1], \n",
    "                          xdags[0]: -xdags[N],  xdags[N+1]: -xdags[1]\n",
    "                         }\n",
    "    \n",
    "elif bcType == 'dirichlet':\n",
    "    boundaryConditions = { qs[0]: 0, qs[N+1]: 0,\n",
    "                          xs[0]: 0, xs[N+1]: 0,\n",
    "                          xdags[0]: 0, xdags[N+1]:0\n",
    "                         }"
   ]
  },
  {
   "cell_type": "code",
   "execution_count": 5,
   "metadata": {},
   "outputs": [
    {
     "data": {
      "text/latex": [
       "$\\displaystyle 0.06 - \\frac{\\chi^{\\dagger}_{0} \\chi_{1}}{2} - \\frac{\\chi^{\\dagger}_{1} \\chi_{0}}{2} - \\frac{\\chi^{\\dagger}_{1} \\chi_{2}}{2} - \\frac{\\chi^{\\dagger}_{2} \\chi_{1}}{2} + \\frac{p_{0}^{2}}{2} + \\frac{p_{1}^{2}}{2} + \\frac{p_{2}^{2}}{2} + 1.1 q_{0} - 2 q_{0} \\chi^{\\dagger}_{0} \\chi_{0} - \\frac{q_{0} q_{1}^{2}}{4} - \\frac{q_{0} q_{2}}{8} - 0.075 q_{0}^{2} + \\frac{q_{0}^{2} q_{1}}{4} + \\frac{q_{0}^{4}}{2} - 1.0 q_{1} + 2 q_{1} \\chi^{\\dagger}_{1} \\chi_{1} + \\frac{q_{1} q_{0}^{2}}{4} - \\frac{q_{1} q_{2}^{2}}{4} + 0.05 q_{1}^{2} - \\frac{q_{1}^{2} q_{0}}{4} + \\frac{q_{1}^{2} q_{2}}{4} + \\frac{q_{1}^{4}}{2} + 0.9 q_{2} - 2 q_{2} \\chi^{\\dagger}_{2} \\chi_{2} - \\frac{q_{2} q_{0}}{8} + \\frac{q_{2} q_{1}^{2}}{4} - 0.075 q_{2}^{2} - \\frac{q_{2}^{2} q_{1}}{4} + \\frac{q_{2}^{4}}{2}$"
      ],
      "text/plain": [
       "0.06 - \\chi^{\\dagger}_{0}*\\chi_{1}/2 - \\chi^{\\dagger}_{1}*\\chi_{0}/2 - \\chi^{\\dagger}_{1}*\\chi_{2}/2 - \\chi^{\\dagger}_{2}*\\chi_{1}/2 + p_{0}**2/2 + p_{1}**2/2 + p_{2}**2/2 + 1.1*q_{0} - 2*q_{0}*\\chi^{\\dagger}_{0}*\\chi_{0} - q_{0}*q_{1}**2/4 - q_{0}*q_{2}/8 - 0.075*q_{0}**2 + q_{0}**2*q_{1}/4 + q_{0}**4/2 - 1.0*q_{1} + 2*q_{1}*\\chi^{\\dagger}_{1}*\\chi_{1} + q_{1}*q_{0}**2/4 - q_{1}*q_{2}**2/4 + 0.05*q_{1}**2 - q_{1}**2*q_{0}/4 + q_{1}**2*q_{2}/4 + q_{1}**4/2 + 0.9*q_{2} - 2*q_{2}*\\chi^{\\dagger}_{2}*\\chi_{2} - q_{2}*q_{0}/8 + q_{2}*q_{1}**2/4 - 0.075*q_{2}**2 - q_{2}**2*q_{1}/4 + q_{2}**4/2"
      ]
     },
     "execution_count": 5,
     "metadata": {},
     "output_type": "execute_result"
    }
   ],
   "source": [
    "ham=0\n",
    "\n",
    "mass=1\n",
    "c=-0.2\n",
    "c2=1\n",
    "\n",
    "for i in range(1,N+1):\n",
    "    ham+=(bosonNI+bosonI+fermionNI).subs({\n",
    "        pn: ps[i],\n",
    "        qn: qs[i], qnP1: qs[i+1], qnM1: qs[i-1],\n",
    "        xn: xs[i], xnP1: xs[i+1],\n",
    "        xdn: xdags[i], xdnP1: xdags[i+1]\n",
    "    }).subs(boundaryConditions)\n",
    "\n",
    "def potential(n):\n",
    "    return c + c2*qs[n]*qs[n]\n",
    "\n",
    "potentialSubs={}\n",
    "for n in range(1,N+1):\n",
    "    potentialSubs[V(qs[n])]=potential(n)\n",
    "\n",
    "\n",
    "ham=sp.simplify(ham.subs(potentialSubs).subs(aLat,aVal))\n",
    "\n",
    "for i in range(1,N+1):\n",
    "    if i%2==0:\n",
    "        ham+=sp.simplify(fermionI.subs({qn: qs[i], xn: xs[i], xdn: xdags[i]}).subs(potentialSubs))\n",
    "    else:\n",
    "        ham-=sp.simplify(fermionI.subs({qn: qs[i], xn: xs[i], xdn: xdags[i]}).subs(potentialSubs))\n",
    "ham=sp.simplify(ham.subs(aLat,aVal))\n",
    "sp.expand(ham)"
   ]
  },
  {
   "cell_type": "code",
   "execution_count": 6,
   "metadata": {},
   "outputs": [
    {
     "data": {
      "text/latex": [
       "$\\displaystyle \\frac{3}{50} - \\frac{\\chi^{\\dagger}_{0} \\chi_{1}}{2} - \\frac{\\chi^{\\dagger}_{1} \\chi_{0}}{2} - \\frac{\\chi^{\\dagger}_{1} \\chi_{2}}{2} - \\frac{\\chi^{\\dagger}_{2} \\chi_{1}}{2} + \\frac{77541356 a^{\\dagger}_{0}}{99690943} - \\frac{131836323 a^{\\dagger}_{0} \\chi^{\\dagger}_{0} \\chi_{0}}{93222358} - \\frac{3998607 a^{\\dagger}_{0} a^{\\dagger}_{1} a_{1}}{45239074} - \\frac{3998607 a^{\\dagger}_{0} \\left(a^{\\dagger}_{1}\\right)^{2}}{45239074} - \\frac{a^{\\dagger}_{0} a^{\\dagger}_{2}}{16} + \\frac{17 a^{\\dagger}_{0} a_{0}}{80} + \\frac{a^{\\dagger}_{0} a_{0} a^{\\dagger}_{0} a_{0}}{8} + \\frac{a^{\\dagger}_{0} a_{0} \\left(a^{\\dagger}_{0}\\right)^{2}}{8} + \\frac{3998607 a^{\\dagger}_{0} a_{0} a^{\\dagger}_{1}}{45239074} + \\frac{3998607 a^{\\dagger}_{0} a_{0} a_{1}}{45239074} + \\frac{a^{\\dagger}_{0} a_{0}^{2} a^{\\dagger}_{0}}{8} + \\frac{a^{\\dagger}_{0} a_{0}^{3}}{8} - \\frac{3998607 a^{\\dagger}_{0} a_{1} a^{\\dagger}_{1}}{45239074} - \\frac{3998607 a^{\\dagger}_{0} a_{1}^{2}}{45239074} - \\frac{a^{\\dagger}_{0} a_{2}}{16} - \\frac{23 \\left(a^{\\dagger}_{0}\\right)^{2}}{80} + \\frac{3998607 \\left(a^{\\dagger}_{0}\\right)^{2} a^{\\dagger}_{1}}{45239074} + \\frac{\\left(a^{\\dagger}_{0}\\right)^{2} a_{0} a^{\\dagger}_{0}}{8} + \\frac{\\left(a^{\\dagger}_{0}\\right)^{2} a_{0}^{2}}{8} + \\frac{3998607 \\left(a^{\\dagger}_{0}\\right)^{2} a_{1}}{45239074} + \\frac{\\left(a^{\\dagger}_{0}\\right)^{3} a_{0}}{8} + \\frac{\\left(a^{\\dagger}_{0}\\right)^{4}}{8} - \\frac{38613965 a^{\\dagger}_{1}}{54608393} + \\frac{131836323 a^{\\dagger}_{1} \\chi^{\\dagger}_{1} \\chi_{1}}{93222358} + \\frac{3998607 a^{\\dagger}_{1} a^{\\dagger}_{0} a_{0}}{45239074} + \\frac{3998607 a^{\\dagger}_{1} \\left(a^{\\dagger}_{0}\\right)^{2}}{45239074} - \\frac{3998607 a^{\\dagger}_{1} a^{\\dagger}_{2} a_{2}}{45239074} - \\frac{3998607 a^{\\dagger}_{1} \\left(a^{\\dagger}_{2}\\right)^{2}}{45239074} + \\frac{3998607 a^{\\dagger}_{1} a_{0} a^{\\dagger}_{0}}{45239074} + \\frac{3998607 a^{\\dagger}_{1} a_{0}^{2}}{45239074} + \\frac{11 a^{\\dagger}_{1} a_{1}}{40} - \\frac{3998607 a^{\\dagger}_{1} a_{1} a^{\\dagger}_{0}}{45239074} + \\frac{a^{\\dagger}_{1} a_{1} a^{\\dagger}_{1} a_{1}}{8} + \\frac{a^{\\dagger}_{1} a_{1} \\left(a^{\\dagger}_{1}\\right)^{2}}{8} + \\frac{3998607 a^{\\dagger}_{1} a_{1} a^{\\dagger}_{2}}{45239074} - \\frac{3998607 a^{\\dagger}_{1} a_{1} a_{0}}{45239074} + \\frac{3998607 a^{\\dagger}_{1} a_{1} a_{2}}{45239074} + \\frac{a^{\\dagger}_{1} a_{1}^{2} a^{\\dagger}_{1}}{8} + \\frac{a^{\\dagger}_{1} a_{1}^{3}}{8} - \\frac{3998607 a^{\\dagger}_{1} a_{2} a^{\\dagger}_{2}}{45239074} - \\frac{3998607 a^{\\dagger}_{1} a_{2}^{2}}{45239074} - \\frac{9 \\left(a^{\\dagger}_{1}\\right)^{2}}{40} - \\frac{3998607 \\left(a^{\\dagger}_{1}\\right)^{2} a^{\\dagger}_{0}}{45239074} + \\frac{3998607 \\left(a^{\\dagger}_{1}\\right)^{2} a^{\\dagger}_{2}}{45239074} - \\frac{3998607 \\left(a^{\\dagger}_{1}\\right)^{2} a_{0}}{45239074} + \\frac{\\left(a^{\\dagger}_{1}\\right)^{2} a_{1} a^{\\dagger}_{1}}{8} + \\frac{\\left(a^{\\dagger}_{1}\\right)^{2} a_{1}^{2}}{8} + \\frac{3998607 \\left(a^{\\dagger}_{1}\\right)^{2} a_{2}}{45239074} + \\frac{\\left(a^{\\dagger}_{1}\\right)^{3} a_{1}}{8} + \\frac{\\left(a^{\\dagger}_{1}\\right)^{4}}{8} + \\frac{63467875 a^{\\dagger}_{2}}{99730144} - \\frac{131836323 a^{\\dagger}_{2} \\chi^{\\dagger}_{2} \\chi_{2}}{93222358} - \\frac{a^{\\dagger}_{2} a^{\\dagger}_{0}}{16} + \\frac{3998607 a^{\\dagger}_{2} a^{\\dagger}_{1} a_{1}}{45239074} + \\frac{3998607 a^{\\dagger}_{2} \\left(a^{\\dagger}_{1}\\right)^{2}}{45239074} - \\frac{a^{\\dagger}_{2} a_{0}}{16} + \\frac{3998607 a^{\\dagger}_{2} a_{1} a^{\\dagger}_{1}}{45239074} + \\frac{3998607 a^{\\dagger}_{2} a_{1}^{2}}{45239074} + \\frac{17 a^{\\dagger}_{2} a_{2}}{80} - \\frac{3998607 a^{\\dagger}_{2} a_{2} a^{\\dagger}_{1}}{45239074} + \\frac{a^{\\dagger}_{2} a_{2} a^{\\dagger}_{2} a_{2}}{8} + \\frac{a^{\\dagger}_{2} a_{2} \\left(a^{\\dagger}_{2}\\right)^{2}}{8} - \\frac{3998607 a^{\\dagger}_{2} a_{2} a_{1}}{45239074} + \\frac{a^{\\dagger}_{2} a_{2}^{2} a^{\\dagger}_{2}}{8} + \\frac{a^{\\dagger}_{2} a_{2}^{3}}{8} - \\frac{23 \\left(a^{\\dagger}_{2}\\right)^{2}}{80} - \\frac{3998607 \\left(a^{\\dagger}_{2}\\right)^{2} a^{\\dagger}_{1}}{45239074} - \\frac{3998607 \\left(a^{\\dagger}_{2}\\right)^{2} a_{1}}{45239074} + \\frac{\\left(a^{\\dagger}_{2}\\right)^{2} a_{2} a^{\\dagger}_{2}}{8} + \\frac{\\left(a^{\\dagger}_{2}\\right)^{2} a_{2}^{2}}{8} + \\frac{\\left(a^{\\dagger}_{2}\\right)^{3} a_{2}}{8} + \\frac{\\left(a^{\\dagger}_{2}\\right)^{4}}{8} + \\frac{77541356 a_{0}}{99690943} - \\frac{131836323 a_{0} \\chi^{\\dagger}_{0} \\chi_{0}}{93222358} + \\frac{17 a_{0} a^{\\dagger}_{0}}{80} + \\frac{3998607 a_{0} a^{\\dagger}_{0} a^{\\dagger}_{1}}{45239074} + \\frac{a_{0} a^{\\dagger}_{0} a_{0} a^{\\dagger}_{0}}{8} + \\frac{a_{0} a^{\\dagger}_{0} a_{0}^{2}}{8} + \\frac{3998607 a_{0} a^{\\dagger}_{0} a_{1}}{45239074} + \\frac{a_{0} \\left(a^{\\dagger}_{0}\\right)^{2} a_{0}}{8} + \\frac{a_{0} \\left(a^{\\dagger}_{0}\\right)^{3}}{8} - \\frac{3998607 a_{0} a^{\\dagger}_{1} a_{1}}{45239074} - \\frac{3998607 a_{0} \\left(a^{\\dagger}_{1}\\right)^{2}}{45239074} - \\frac{a_{0} a^{\\dagger}_{2}}{16} - \\frac{3998607 a_{0} a_{1} a^{\\dagger}_{1}}{45239074} - \\frac{3998607 a_{0} a_{1}^{2}}{45239074} - \\frac{a_{0} a_{2}}{16} - \\frac{23 a_{0}^{2}}{80} + \\frac{a_{0}^{2} a^{\\dagger}_{0} a_{0}}{8} + \\frac{a_{0}^{2} \\left(a^{\\dagger}_{0}\\right)^{2}}{8} + \\frac{3998607 a_{0}^{2} a^{\\dagger}_{1}}{45239074} + \\frac{3998607 a_{0}^{2} a_{1}}{45239074} + \\frac{a_{0}^{3} a^{\\dagger}_{0}}{8} + \\frac{a_{0}^{4}}{8} - \\frac{38613965 a_{1}}{54608393} + \\frac{131836323 a_{1} \\chi^{\\dagger}_{1} \\chi_{1}}{93222358} + \\frac{3998607 a_{1} a^{\\dagger}_{0} a_{0}}{45239074} + \\frac{3998607 a_{1} \\left(a^{\\dagger}_{0}\\right)^{2}}{45239074} + \\frac{11 a_{1} a^{\\dagger}_{1}}{40} - \\frac{3998607 a_{1} a^{\\dagger}_{1} a^{\\dagger}_{0}}{45239074} + \\frac{3998607 a_{1} a^{\\dagger}_{1} a^{\\dagger}_{2}}{45239074} - \\frac{3998607 a_{1} a^{\\dagger}_{1} a_{0}}{45239074} + \\frac{a_{1} a^{\\dagger}_{1} a_{1} a^{\\dagger}_{1}}{8} + \\frac{a_{1} a^{\\dagger}_{1} a_{1}^{2}}{8} + \\frac{3998607 a_{1} a^{\\dagger}_{1} a_{2}}{45239074} + \\frac{a_{1} \\left(a^{\\dagger}_{1}\\right)^{2} a_{1}}{8} + \\frac{a_{1} \\left(a^{\\dagger}_{1}\\right)^{3}}{8} - \\frac{3998607 a_{1} a^{\\dagger}_{2} a_{2}}{45239074} - \\frac{3998607 a_{1} \\left(a^{\\dagger}_{2}\\right)^{2}}{45239074} + \\frac{3998607 a_{1} a_{0} a^{\\dagger}_{0}}{45239074} + \\frac{3998607 a_{1} a_{0}^{2}}{45239074} - \\frac{3998607 a_{1} a_{2} a^{\\dagger}_{2}}{45239074} - \\frac{3998607 a_{1} a_{2}^{2}}{45239074} - \\frac{9 a_{1}^{2}}{40} - \\frac{3998607 a_{1}^{2} a^{\\dagger}_{0}}{45239074} + \\frac{a_{1}^{2} a^{\\dagger}_{1} a_{1}}{8} + \\frac{a_{1}^{2} \\left(a^{\\dagger}_{1}\\right)^{2}}{8} + \\frac{3998607 a_{1}^{2} a^{\\dagger}_{2}}{45239074} - \\frac{3998607 a_{1}^{2} a_{0}}{45239074} + \\frac{3998607 a_{1}^{2} a_{2}}{45239074} + \\frac{a_{1}^{3} a^{\\dagger}_{1}}{8} + \\frac{a_{1}^{4}}{8} + \\frac{63467875 a_{2}}{99730144} - \\frac{131836323 a_{2} \\chi^{\\dagger}_{2} \\chi_{2}}{93222358} - \\frac{a_{2} a^{\\dagger}_{0}}{16} + \\frac{3998607 a_{2} a^{\\dagger}_{1} a_{1}}{45239074} + \\frac{3998607 a_{2} \\left(a^{\\dagger}_{1}\\right)^{2}}{45239074} + \\frac{17 a_{2} a^{\\dagger}_{2}}{80} - \\frac{3998607 a_{2} a^{\\dagger}_{2} a^{\\dagger}_{1}}{45239074} - \\frac{3998607 a_{2} a^{\\dagger}_{2} a_{1}}{45239074} + \\frac{a_{2} a^{\\dagger}_{2} a_{2} a^{\\dagger}_{2}}{8} + \\frac{a_{2} a^{\\dagger}_{2} a_{2}^{2}}{8} + \\frac{a_{2} \\left(a^{\\dagger}_{2}\\right)^{2} a_{2}}{8} + \\frac{a_{2} \\left(a^{\\dagger}_{2}\\right)^{3}}{8} - \\frac{a_{2} a_{0}}{16} + \\frac{3998607 a_{2} a_{1} a^{\\dagger}_{1}}{45239074} + \\frac{3998607 a_{2} a_{1}^{2}}{45239074} - \\frac{23 a_{2}^{2}}{80} - \\frac{3998607 a_{2}^{2} a^{\\dagger}_{1}}{45239074} + \\frac{a_{2}^{2} a^{\\dagger}_{2} a_{2}}{8} + \\frac{a_{2}^{2} \\left(a^{\\dagger}_{2}\\right)^{2}}{8} - \\frac{3998607 a_{2}^{2} a_{1}}{45239074} + \\frac{a_{2}^{3} a^{\\dagger}_{2}}{8} + \\frac{a_{2}^{4}}{8}$"
      ],
      "text/plain": [
       "3/50 - \\chi^{\\dagger}_{0}*\\chi_{1}/2 - \\chi^{\\dagger}_{1}*\\chi_{0}/2 - \\chi^{\\dagger}_{1}*\\chi_{2}/2 - \\chi^{\\dagger}_{2}*\\chi_{1}/2 + 77541356*a^{\\dagger}_{0}/99690943 - 131836323*a^{\\dagger}_{0}*\\chi^{\\dagger}_{0}*\\chi_{0}/93222358 - 3998607*a^{\\dagger}_{0}*a^{\\dagger}_{1}*a_{1}/45239074 - 3998607*a^{\\dagger}_{0}*a^{\\dagger}_{1}**2/45239074 - a^{\\dagger}_{0}*a^{\\dagger}_{2}/16 + 17*a^{\\dagger}_{0}*a_{0}/80 + a^{\\dagger}_{0}*a_{0}*a^{\\dagger}_{0}*a_{0}/8 + a^{\\dagger}_{0}*a_{0}*a^{\\dagger}_{0}**2/8 + 3998607*a^{\\dagger}_{0}*a_{0}*a^{\\dagger}_{1}/45239074 + 3998607*a^{\\dagger}_{0}*a_{0}*a_{1}/45239074 + a^{\\dagger}_{0}*a_{0}**2*a^{\\dagger}_{0}/8 + a^{\\dagger}_{0}*a_{0}**3/8 - 3998607*a^{\\dagger}_{0}*a_{1}*a^{\\dagger}_{1}/45239074 - 3998607*a^{\\dagger}_{0}*a_{1}**2/45239074 - a^{\\dagger}_{0}*a_{2}/16 - 23*a^{\\dagger}_{0}**2/80 + 3998607*a^{\\dagger}_{0}**2*a^{\\dagger}_{1}/45239074 + a^{\\dagger}_{0}**2*a_{0}*a^{\\dagger}_{0}/8 + a^{\\dagger}_{0}**2*a_{0}**2/8 + 3998607*a^{\\dagger}_{0}**2*a_{1}/45239074 + a^{\\dagger}_{0}**3*a_{0}/8 + a^{\\dagger}_{0}**4/8 - 38613965*a^{\\dagger}_{1}/54608393 + 131836323*a^{\\dagger}_{1}*\\chi^{\\dagger}_{1}*\\chi_{1}/93222358 + 3998607*a^{\\dagger}_{1}*a^{\\dagger}_{0}*a_{0}/45239074 + 3998607*a^{\\dagger}_{1}*a^{\\dagger}_{0}**2/45239074 - 3998607*a^{\\dagger}_{1}*a^{\\dagger}_{2}*a_{2}/45239074 - 3998607*a^{\\dagger}_{1}*a^{\\dagger}_{2}**2/45239074 + 3998607*a^{\\dagger}_{1}*a_{0}*a^{\\dagger}_{0}/45239074 + 3998607*a^{\\dagger}_{1}*a_{0}**2/45239074 + 11*a^{\\dagger}_{1}*a_{1}/40 - 3998607*a^{\\dagger}_{1}*a_{1}*a^{\\dagger}_{0}/45239074 + a^{\\dagger}_{1}*a_{1}*a^{\\dagger}_{1}*a_{1}/8 + a^{\\dagger}_{1}*a_{1}*a^{\\dagger}_{1}**2/8 + 3998607*a^{\\dagger}_{1}*a_{1}*a^{\\dagger}_{2}/45239074 - 3998607*a^{\\dagger}_{1}*a_{1}*a_{0}/45239074 + 3998607*a^{\\dagger}_{1}*a_{1}*a_{2}/45239074 + a^{\\dagger}_{1}*a_{1}**2*a^{\\dagger}_{1}/8 + a^{\\dagger}_{1}*a_{1}**3/8 - 3998607*a^{\\dagger}_{1}*a_{2}*a^{\\dagger}_{2}/45239074 - 3998607*a^{\\dagger}_{1}*a_{2}**2/45239074 - 9*a^{\\dagger}_{1}**2/40 - 3998607*a^{\\dagger}_{1}**2*a^{\\dagger}_{0}/45239074 + 3998607*a^{\\dagger}_{1}**2*a^{\\dagger}_{2}/45239074 - 3998607*a^{\\dagger}_{1}**2*a_{0}/45239074 + a^{\\dagger}_{1}**2*a_{1}*a^{\\dagger}_{1}/8 + a^{\\dagger}_{1}**2*a_{1}**2/8 + 3998607*a^{\\dagger}_{1}**2*a_{2}/45239074 + a^{\\dagger}_{1}**3*a_{1}/8 + a^{\\dagger}_{1}**4/8 + 63467875*a^{\\dagger}_{2}/99730144 - 131836323*a^{\\dagger}_{2}*\\chi^{\\dagger}_{2}*\\chi_{2}/93222358 - a^{\\dagger}_{2}*a^{\\dagger}_{0}/16 + 3998607*a^{\\dagger}_{2}*a^{\\dagger}_{1}*a_{1}/45239074 + 3998607*a^{\\dagger}_{2}*a^{\\dagger}_{1}**2/45239074 - a^{\\dagger}_{2}*a_{0}/16 + 3998607*a^{\\dagger}_{2}*a_{1}*a^{\\dagger}_{1}/45239074 + 3998607*a^{\\dagger}_{2}*a_{1}**2/45239074 + 17*a^{\\dagger}_{2}*a_{2}/80 - 3998607*a^{\\dagger}_{2}*a_{2}*a^{\\dagger}_{1}/45239074 + a^{\\dagger}_{2}*a_{2}*a^{\\dagger}_{2}*a_{2}/8 + a^{\\dagger}_{2}*a_{2}*a^{\\dagger}_{2}**2/8 - 3998607*a^{\\dagger}_{2}*a_{2}*a_{1}/45239074 + a^{\\dagger}_{2}*a_{2}**2*a^{\\dagger}_{2}/8 + a^{\\dagger}_{2}*a_{2}**3/8 - 23*a^{\\dagger}_{2}**2/80 - 3998607*a^{\\dagger}_{2}**2*a^{\\dagger}_{1}/45239074 - 3998607*a^{\\dagger}_{2}**2*a_{1}/45239074 + a^{\\dagger}_{2}**2*a_{2}*a^{\\dagger}_{2}/8 + a^{\\dagger}_{2}**2*a_{2}**2/8 + a^{\\dagger}_{2}**3*a_{2}/8 + a^{\\dagger}_{2}**4/8 + 77541356*a_{0}/99690943 - 131836323*a_{0}*\\chi^{\\dagger}_{0}*\\chi_{0}/93222358 + 17*a_{0}*a^{\\dagger}_{0}/80 + 3998607*a_{0}*a^{\\dagger}_{0}*a^{\\dagger}_{1}/45239074 + a_{0}*a^{\\dagger}_{0}*a_{0}*a^{\\dagger}_{0}/8 + a_{0}*a^{\\dagger}_{0}*a_{0}**2/8 + 3998607*a_{0}*a^{\\dagger}_{0}*a_{1}/45239074 + a_{0}*a^{\\dagger}_{0}**2*a_{0}/8 + a_{0}*a^{\\dagger}_{0}**3/8 - 3998607*a_{0}*a^{\\dagger}_{1}*a_{1}/45239074 - 3998607*a_{0}*a^{\\dagger}_{1}**2/45239074 - a_{0}*a^{\\dagger}_{2}/16 - 3998607*a_{0}*a_{1}*a^{\\dagger}_{1}/45239074 - 3998607*a_{0}*a_{1}**2/45239074 - a_{0}*a_{2}/16 - 23*a_{0}**2/80 + a_{0}**2*a^{\\dagger}_{0}*a_{0}/8 + a_{0}**2*a^{\\dagger}_{0}**2/8 + 3998607*a_{0}**2*a^{\\dagger}_{1}/45239074 + 3998607*a_{0}**2*a_{1}/45239074 + a_{0}**3*a^{\\dagger}_{0}/8 + a_{0}**4/8 - 38613965*a_{1}/54608393 + 131836323*a_{1}*\\chi^{\\dagger}_{1}*\\chi_{1}/93222358 + 3998607*a_{1}*a^{\\dagger}_{0}*a_{0}/45239074 + 3998607*a_{1}*a^{\\dagger}_{0}**2/45239074 + 11*a_{1}*a^{\\dagger}_{1}/40 - 3998607*a_{1}*a^{\\dagger}_{1}*a^{\\dagger}_{0}/45239074 + 3998607*a_{1}*a^{\\dagger}_{1}*a^{\\dagger}_{2}/45239074 - 3998607*a_{1}*a^{\\dagger}_{1}*a_{0}/45239074 + a_{1}*a^{\\dagger}_{1}*a_{1}*a^{\\dagger}_{1}/8 + a_{1}*a^{\\dagger}_{1}*a_{1}**2/8 + 3998607*a_{1}*a^{\\dagger}_{1}*a_{2}/45239074 + a_{1}*a^{\\dagger}_{1}**2*a_{1}/8 + a_{1}*a^{\\dagger}_{1}**3/8 - 3998607*a_{1}*a^{\\dagger}_{2}*a_{2}/45239074 - 3998607*a_{1}*a^{\\dagger}_{2}**2/45239074 + 3998607*a_{1}*a_{0}*a^{\\dagger}_{0}/45239074 + 3998607*a_{1}*a_{0}**2/45239074 - 3998607*a_{1}*a_{2}*a^{\\dagger}_{2}/45239074 - 3998607*a_{1}*a_{2}**2/45239074 - 9*a_{1}**2/40 - 3998607*a_{1}**2*a^{\\dagger}_{0}/45239074 + a_{1}**2*a^{\\dagger}_{1}*a_{1}/8 + a_{1}**2*a^{\\dagger}_{1}**2/8 + 3998607*a_{1}**2*a^{\\dagger}_{2}/45239074 - 3998607*a_{1}**2*a_{0}/45239074 + 3998607*a_{1}**2*a_{2}/45239074 + a_{1}**3*a^{\\dagger}_{1}/8 + a_{1}**4/8 + 63467875*a_{2}/99730144 - 131836323*a_{2}*\\chi^{\\dagger}_{2}*\\chi_{2}/93222358 - a_{2}*a^{\\dagger}_{0}/16 + 3998607*a_{2}*a^{\\dagger}_{1}*a_{1}/45239074 + 3998607*a_{2}*a^{\\dagger}_{1}**2/45239074 + 17*a_{2}*a^{\\dagger}_{2}/80 - 3998607*a_{2}*a^{\\dagger}_{2}*a^{\\dagger}_{1}/45239074 - 3998607*a_{2}*a^{\\dagger}_{2}*a_{1}/45239074 + a_{2}*a^{\\dagger}_{2}*a_{2}*a^{\\dagger}_{2}/8 + a_{2}*a^{\\dagger}_{2}*a_{2}**2/8 + a_{2}*a^{\\dagger}_{2}**2*a_{2}/8 + a_{2}*a^{\\dagger}_{2}**3/8 - a_{2}*a_{0}/16 + 3998607*a_{2}*a_{1}*a^{\\dagger}_{1}/45239074 + 3998607*a_{2}*a_{1}**2/45239074 - 23*a_{2}**2/80 - 3998607*a_{2}**2*a^{\\dagger}_{1}/45239074 + a_{2}**2*a^{\\dagger}_{2}*a_{2}/8 + a_{2}**2*a^{\\dagger}_{2}**2/8 - 3998607*a_{2}**2*a_{1}/45239074 + a_{2}**3*a^{\\dagger}_{2}/8 + a_{2}**4/8"
      ]
     },
     "execution_count": 6,
     "metadata": {},
     "output_type": "execute_result"
    }
   ],
   "source": [
    "m=1\n",
    "\n",
    "HOdofSubs = {}\n",
    "#offset because of BC\n",
    "for i in range(1,N+1):\n",
    "    HOdofSubs[qs[i]] = 0.5*sp.sqrt(2/m)*(aops[i] + adags[i])\n",
    "    HOdofSubs[ps[i]] = complex(0,1)*sp.sqrt(2*m)*(adags[i] - aops[i])/2 \n",
    "\n",
    "hoHam=sp.expand(ham.subs(HOdofSubs))\n",
    "hoHam=sp.nsimplify(hoHam,tolerance=1e-8)\n",
    "hoHam"
   ]
  },
  {
   "cell_type": "code",
   "execution_count": null,
   "metadata": {},
   "outputs": [],
   "source": []
  },
  {
   "cell_type": "code",
   "execution_count": 21,
   "metadata": {},
   "outputs": [],
   "source": [
    "from src.qiskit_utilities import *\n",
    "from qiskit import Aer\n",
    "from qiskit.utils import QuantumInstance\n",
    "\n",
    "from qiskit.algorithms import VQE\n",
    "from qiskit.algorithms.optimizers import COBYLA\n",
    "from qiskit.circuit.library import RealAmplitudes\n",
    "\n",
    "from qiskit import qpy\n",
    "from src.timer import *\n",
    "\n",
    "import pickle\n",
    "\n",
    "from qiskit import QuantumCircuit, transpile\n",
    "\n",
    "\n",
    "backend = Aer.get_backend('statevector_simulator')\n",
    "qinstance = QuantumInstance(backend, seed_simulator=2, seed_transpiler=2)"
   ]
  },
  {
   "cell_type": "code",
   "execution_count": 46,
   "metadata": {},
   "outputs": [
    {
     "name": "stdout",
     "output_type": "stream",
     "text": [
      "--------- Lambda =  2  ----------\n",
      "constructHam timer took: 1.6532 seconds\n",
      "[ 0.13596775+0.0000000e+00j  0.13596787+5.5096328e-10j\n",
      "  0.22652291+5.0368354e-09j -0.1977409 -1.1617082e-09j\n",
      " -0.1977409 +2.1121325e-09j  0.22652276-5.7588792e-09j]\n",
      "convert to op timer took: 10.7371 seconds\n",
      "(-1.1095865311916158+0j)\n",
      "\n",
      "2 & -1.98e-01-1.16e-09j & -1.11e+00+0.00e+00j \\\\\n",
      "\n",
      "gates for one trotter step =  30\n",
      "\n",
      "\n",
      "\n",
      "--------- Lambda =  3  ----------\n",
      "constructHam timer took: 2.5928 seconds\n",
      "[ 0.04839436+1.3959492e-09j  0.0483943 -2.5476010e-09j\n",
      " -0.39275786+8.6138172e-09j  0.28916898+0.0000000e+00j\n",
      "  0.28916875-1.7522069e-09j -0.39275816+9.8815987e-09j]\n",
      "convert to op timer took: 299.9147 seconds\n",
      "(4.602857670311e-06+0j)\n",
      "\n",
      "3 & -3.93e-01+9.88e-09j & 4.60e-06+0.00e+00j \\\\\n",
      "\n",
      "gates for one trotter step =  83834\n",
      "\n",
      "\n",
      "\n",
      "--------- Lambda =  4  ----------\n",
      "constructHam timer took: 4.8325 seconds\n",
      "[0.30217668+8.8132222e-09j 0.30217645-2.1016522e-08j\n",
      " 0.63181233+3.7177172e-10j 0.6318129 +2.0493951e-08j\n",
      " 0.71115804-7.6100868e-09j 0.7111591 -1.0049062e-08j]\n",
      "convert to op timer took: 1564.7406 seconds\n",
      "(0.7086408140400723+0j)\n",
      "\n",
      "4 & 3.02e-01-2.10e-08j & 7.09e-01+0.00e+00j \\\\\n",
      "\n"
     ]
    },
    {
     "ename": "CircuitError",
     "evalue": "'The amount of qubit arguments 10 does not match the instruction expectation (9).'",
     "output_type": "error",
     "traceback": [
      "\u001b[0;31m---------------------------------------------------------------------------\u001b[0m",
      "\u001b[0;31mCircuitError\u001b[0m                              Traceback (most recent call last)",
      "Cell \u001b[0;32mIn[46], line 33\u001b[0m\n\u001b[1;32m     29\u001b[0m \u001b[39mprint\u001b[39m()\n\u001b[1;32m     32\u001b[0m qc \u001b[39m=\u001b[39m QuantumCircuit(nq,nq)\n\u001b[0;32m---> 33\u001b[0m qc\u001b[39m.\u001b[39;49mappend(op_to_trotter(op,\u001b[39m0.1\u001b[39;49m), [i \u001b[39mfor\u001b[39;49;00m i \u001b[39min\u001b[39;49;00m \u001b[39mrange\u001b[39;49m(nq)])\n\u001b[1;32m     34\u001b[0m tmp \u001b[39m=\u001b[39m transpile(qc, basis_gates \u001b[39m=\u001b[39m [\u001b[39m'\u001b[39m\u001b[39mcx\u001b[39m\u001b[39m'\u001b[39m, \u001b[39m'\u001b[39m\u001b[39mu1\u001b[39m\u001b[39m'\u001b[39m, \u001b[39m'\u001b[39m\u001b[39mu2\u001b[39m\u001b[39m'\u001b[39m, \u001b[39m'\u001b[39m\u001b[39mu3\u001b[39m\u001b[39m'\u001b[39m, \u001b[39m'\u001b[39m\u001b[39mH\u001b[39m\u001b[39m'\u001b[39m, \u001b[39m'\u001b[39m\u001b[39mX\u001b[39m\u001b[39m'\u001b[39m, \u001b[39m'\u001b[39m\u001b[39mY\u001b[39m\u001b[39m'\u001b[39m, \u001b[39m'\u001b[39m\u001b[39mZ\u001b[39m\u001b[39m'\u001b[39m])\n\u001b[1;32m     35\u001b[0m \u001b[39mprint\u001b[39m(\u001b[39m\"\u001b[39m\u001b[39mgates for one trotter step = \u001b[39m\u001b[39m\"\u001b[39m, tmp\u001b[39m.\u001b[39mcount_ops()\u001b[39m.\u001b[39mget(\u001b[39m'\u001b[39m\u001b[39mcx\u001b[39m\u001b[39m'\u001b[39m))\n",
      "File \u001b[0;32m~/anaconda3/envs/QuantumComputing/lib/python3.10/site-packages/qiskit/circuit/quantumcircuit.py:1309\u001b[0m, in \u001b[0;36mQuantumCircuit.append\u001b[0;34m(self, instruction, qargs, cargs)\u001b[0m\n\u001b[1;32m   1307\u001b[0m instructions \u001b[39m=\u001b[39m InstructionSet(resource_requester\u001b[39m=\u001b[39mrequester)\n\u001b[1;32m   1308\u001b[0m \u001b[39mif\u001b[39;00m \u001b[39misinstance\u001b[39m(operation, Instruction):\n\u001b[0;32m-> 1309\u001b[0m     \u001b[39mfor\u001b[39;00m qarg, carg \u001b[39min\u001b[39;00m operation\u001b[39m.\u001b[39mbroadcast_arguments(expanded_qargs, expanded_cargs):\n\u001b[1;32m   1310\u001b[0m         \u001b[39mself\u001b[39m\u001b[39m.\u001b[39m_check_dups(qarg)\n\u001b[1;32m   1311\u001b[0m         instruction \u001b[39m=\u001b[39m CircuitInstruction(operation, qarg, carg)\n",
      "File \u001b[0;32m~/anaconda3/envs/QuantumComputing/lib/python3.10/site-packages/qiskit/circuit/instruction.py:479\u001b[0m, in \u001b[0;36mInstruction.broadcast_arguments\u001b[0;34m(self, qargs, cargs)\u001b[0m\n\u001b[1;32m    464\u001b[0m \u001b[39m\"\"\"\u001b[39;00m\n\u001b[1;32m    465\u001b[0m \u001b[39mValidation of the arguments.\u001b[39;00m\n\u001b[1;32m    466\u001b[0m \n\u001b[0;32m   (...)\u001b[0m\n\u001b[1;32m    476\u001b[0m \u001b[39m        arguments does not match the gate expectation.\u001b[39;00m\n\u001b[1;32m    477\u001b[0m \u001b[39m\"\"\"\u001b[39;00m\n\u001b[1;32m    478\u001b[0m \u001b[39mif\u001b[39;00m \u001b[39mlen\u001b[39m(qargs) \u001b[39m!=\u001b[39m \u001b[39mself\u001b[39m\u001b[39m.\u001b[39mnum_qubits:\n\u001b[0;32m--> 479\u001b[0m     \u001b[39mraise\u001b[39;00m CircuitError(\n\u001b[1;32m    480\u001b[0m         \u001b[39mf\u001b[39m\u001b[39m\"\u001b[39m\u001b[39mThe amount of qubit arguments \u001b[39m\u001b[39m{\u001b[39;00m\u001b[39mlen\u001b[39m(qargs)\u001b[39m}\u001b[39;00m\u001b[39m does not match\u001b[39m\u001b[39m\"\u001b[39m\n\u001b[1;32m    481\u001b[0m         \u001b[39mf\u001b[39m\u001b[39m\"\u001b[39m\u001b[39m the instruction expectation (\u001b[39m\u001b[39m{\u001b[39;00m\u001b[39mself\u001b[39m\u001b[39m.\u001b[39mnum_qubits\u001b[39m}\u001b[39;00m\u001b[39m).\u001b[39m\u001b[39m\"\u001b[39m\n\u001b[1;32m    482\u001b[0m     )\n\u001b[1;32m    484\u001b[0m \u001b[39m#  [[q[0], q[1]], [c[0], c[1]]] -> [q[0], c[0]], [q[1], c[1]]\u001b[39;00m\n\u001b[1;32m    485\u001b[0m flat_qargs \u001b[39m=\u001b[39m [qarg \u001b[39mfor\u001b[39;00m sublist \u001b[39min\u001b[39;00m qargs \u001b[39mfor\u001b[39;00m qarg \u001b[39min\u001b[39;00m sublist]\n",
      "\u001b[0;31mCircuitError\u001b[0m: 'The amount of qubit arguments 10 does not match the instruction expectation (9).'"
     ]
    }
   ],
   "source": [
    "for cutoff in [2,3]:\n",
    "    print(\"--------- Lambda = \", cutoff, \" ----------\")\n",
    "    t=Timer(\"constructHam\")\n",
    "    t.start()\n",
    "    hamMat=convert_to_matrix(hoHam,cutoff,N,aops,adags,xs,xdags)\n",
    "    t.stop()\n",
    "\n",
    "    ens=scipy.sparse.linalg.eigs(hamMat,k=6,sigma=0.0)[0]\n",
    "    print(ens)\n",
    "\n",
    "\n",
    "    t=Timer(\"convert to op\")\n",
    "    t.start()\n",
    "    ps=matrix_to_pauli_strings(hamMat,standard_encode)\n",
    "    op = pauli_string_to_op(ps)\n",
    "    with open(\"Data/op_quad_cm0p2_lambda{}.pickle\".format(cutoff), \"wb\") as f:\n",
    "        pickle.dump(op, f)\n",
    "    t.stop()\n",
    "    \n",
    "    nq=math.floor(math.log2(hamMat.shape[0]))\n",
    "\n",
    "    if not math.log2(hamMat.shape[0]).is_integer():\n",
    "        nq+=1\n",
    "\n",
    "    ansatz = RealAmplitudes(nq, reps=cutoff)\n",
    "    vqe = VQE(ansatz=ansatz, optimizer=COBYLA(), quantum_instance=qinstance)\n",
    "    result = vqe.compute_minimum_eigenvalue(op)\n",
    "    print(result.eigenvalue)\n",
    "    print()\n",
    "    print(\"{} & {:.2e} & {:.2e} \\\\\\\\\".format(cutoff, np.min(ens), result.eigenvalue))\n",
    "    print()\n",
    "\n",
    "\n",
    "    qc = QuantumCircuit(nq,nq)\n",
    "    qc.append(op_to_trotter(op,0.1), [i for i in range(nq)])\n",
    "    tmp = transpile(qc, basis_gates = ['cx', 'u1', 'u2', 'u3', 'H', 'X', 'Y', 'Z'])\n",
    "    print(\"gates for one trotter step = \", tmp.count_ops().get('cx'))\n",
    "\n",
    "\n",
    "    print(\"\\n\\n\")"
   ]
  },
  {
   "cell_type": "code",
   "execution_count": 39,
   "metadata": {},
   "outputs": [
    {
     "name": "stdout",
     "output_type": "stream",
     "text": [
      "0.10606598854064941 * IXIIII\n",
      "+ 1.1349999904632568 * IIIIII\n",
      "+ 0.7071067690849304 * IIIIZX\n",
      "+ 0.7071067690849304 * ZXIIII\n",
      "- 0.125 * IXIIIX\n",
      "- 0.25 * IIXIXI\n",
      "- 0.25 * IIYIYI\n",
      "- 0.25 * XIXIII\n",
      "- 0.25 * YIYIII\n",
      "- 0.10606592893600464 * IIIIIX\n",
      "- 0.7071067690849304 * IIZXII\n"
     ]
    }
   ],
   "source": [
    "#tst=None\n",
    "#with open(\"Data/op_quad_cm0p2_lambda2.pickle\", \"rb\") as f:\n",
    "#    tst=pickle.load(f)\n",
    "#print(tst)"
   ]
  },
  {
   "cell_type": "code",
   "execution_count": 44,
   "metadata": {},
   "outputs": [
    {
     "data": {
      "text/plain": [
       "8"
      ]
     },
     "execution_count": 44,
     "metadata": {},
     "output_type": "execute_result"
    }
   ],
   "source": [
    "math.floor(math.log2(216))+1"
   ]
  },
  {
   "cell_type": "code",
   "execution_count": 55,
   "metadata": {},
   "outputs": [
    {
     "name": "stdout",
     "output_type": "stream",
     "text": [
      "--------- Lambda =  4  ----------\n",
      "constructHam timer took: 5.3272 seconds\n",
      "[0.30217665+2.1770175e-08j 0.30217645-1.6667768e-08j\n",
      " 0.6318125 +2.5034643e-08j 0.6318121 +1.4499086e-08j\n",
      " 0.71115917-1.5071738e-08j 0.71115917+1.8840558e-09j]\n",
      "load op timer took: 0.0003 seconds\n",
      "(0.9649061621650072+0j)\n",
      "\n",
      "4 & 3.02e-01-1.67e-08j & 9.65e-01+0.00e+00j \\\\\n",
      "\n",
      "gates for one trotter step =  2788\n",
      "\n",
      "\n",
      "\n"
     ]
    }
   ],
   "source": [
    "cutoff=4\n",
    "print(\"--------- Lambda = \", cutoff, \" ----------\")\n",
    "t=Timer(\"constructHam\")\n",
    "t.start()\n",
    "hamMat=convert_to_matrix(hoHam,cutoff,N,aops,adags,xs,xdags)\n",
    "t.stop()\n",
    "\n",
    "ens=scipy.sparse.linalg.eigs(hamMat,k=6,sigma=0.0)[0]\n",
    "print(ens)\n",
    "\n",
    "\n",
    "t=Timer(\"load op\")\n",
    "t.start()\n",
    "#ps=matrix_to_pauli_strings(hamMat,standard_encode)\n",
    "#op = pauli_string_to_op(ps)\n",
    "op = None\n",
    "with open(\"Data/op_quad_cm0p2_lambda{}.pickle\".format(cutoff), \"rb\") as f:\n",
    "    op=pickle.load(f)\n",
    "t.stop()\n",
    "\n",
    "nq=math.floor(math.log2(hamMat.shape[0]))\n",
    "\n",
    "if not math.log2(hamMat.shape[0]).is_integer():\n",
    "    nq+=1\n",
    "\n",
    "ansatz = RealAmplitudes(nq, reps=cutoff)\n",
    "vqe = VQE(ansatz=ansatz, optimizer=COBYLA(), quantum_instance=qinstance)\n",
    "result = vqe.compute_minimum_eigenvalue(op)\n",
    "print(result.eigenvalue)\n",
    "print()\n",
    "print(\"{} & {:.2e} & {:.2e} \\\\\\\\\".format(cutoff, np.min(ens), result.eigenvalue))\n",
    "print()\n",
    "\n",
    "\n",
    "qc = QuantumCircuit(nq,nq)\n",
    "qc.append(op_to_trotter(op,0.1), [i for i in range(nq)])\n",
    "tmp = transpile(qc, basis_gates = ['cx', 'u1', 'u2', 'u3', 'H', 'X', 'Y', 'Z'])\n",
    "print(\"gates for one trotter step = \", tmp.count_ops().get('cx'))\n",
    "\n",
    "\n",
    "print(\"\\n\\n\")"
   ]
  },
  {
   "cell_type": "code",
   "execution_count": 51,
   "metadata": {},
   "outputs": [
    {
     "data": {
      "text/plain": [
       "512"
      ]
     },
     "execution_count": 51,
     "metadata": {},
     "output_type": "execute_result"
    }
   ],
   "source": [
    "hamMat.shape[0]"
   ]
  },
  {
   "cell_type": "code",
   "execution_count": 52,
   "metadata": {},
   "outputs": [
    {
     "data": {
      "text/plain": [
       "9.0"
      ]
     },
     "execution_count": 52,
     "metadata": {},
     "output_type": "execute_result"
    }
   ],
   "source": [
    "np.log2(512)"
   ]
  },
  {
   "cell_type": "code",
   "execution_count": 56,
   "metadata": {},
   "outputs": [
    {
     "name": "stdout",
     "output_type": "stream",
     "text": [
      "--------- Lambda =  8  ----------\n",
      "constructHam timer took: 51.4848 seconds\n",
      "[0.27038503+8.71516015e-09j 0.27038413-6.45462279e-08j\n",
      " 0.60935795+2.35154882e-08j 0.6093572 +1.71178485e-08j\n",
      " 0.61186904+2.70213114e-08j 0.61186904-1.03337676e-07j]\n"
     ]
    },
    {
     "ename": "KeyboardInterrupt",
     "evalue": "",
     "output_type": "error",
     "traceback": [
      "\u001b[0;31m---------------------------------------------------------------------------\u001b[0m",
      "\u001b[0;31mKeyboardInterrupt\u001b[0m                         Traceback (most recent call last)",
      "Cell \u001b[0;32mIn[56], line 14\u001b[0m\n\u001b[1;32m     12\u001b[0m t\u001b[39m=\u001b[39mTimer(\u001b[39m\"\u001b[39m\u001b[39mload op\u001b[39m\u001b[39m\"\u001b[39m)\n\u001b[1;32m     13\u001b[0m t\u001b[39m.\u001b[39mstart()\n\u001b[0;32m---> 14\u001b[0m ps\u001b[39m=\u001b[39mmatrix_to_pauli_strings(hamMat,standard_encode)\n\u001b[1;32m     15\u001b[0m op \u001b[39m=\u001b[39m pauli_string_to_op(ps)\n\u001b[1;32m     16\u001b[0m \u001b[39mwith\u001b[39;00m \u001b[39mopen\u001b[39m(\u001b[39m\"\u001b[39m\u001b[39mData/op_quad_cm0p2_lambda\u001b[39m\u001b[39m{}\u001b[39;00m\u001b[39m.pickle\u001b[39m\u001b[39m\"\u001b[39m\u001b[39m.\u001b[39mformat(cutoff), \u001b[39m\"\u001b[39m\u001b[39mwb\u001b[39m\u001b[39m\"\u001b[39m) \u001b[39mas\u001b[39;00m f:\n",
      "File \u001b[0;32m~/Code/QuantumComputing/WessZumino/3Site/../src/matrix_to_ps.py:23\u001b[0m, in \u001b[0;36mmatrix_to_pauli_strings\u001b[0;34m(matrix, encoding)\u001b[0m\n\u001b[1;32m     21\u001b[0m pauli_strings\u001b[39m=\u001b[39m\u001b[39m0\u001b[39m\n\u001b[1;32m     22\u001b[0m \u001b[39mfor\u001b[39;00m i,j,v \u001b[39min\u001b[39;00m \u001b[39mzip\u001b[39m(tst\u001b[39m.\u001b[39mrow, tst\u001b[39m.\u001b[39mcol, tst\u001b[39m.\u001b[39mdata):\n\u001b[0;32m---> 23\u001b[0m     pauli_strings \u001b[39m+\u001b[39m\u001b[39m=\u001b[39m convert_element(v, i, j, matrix\u001b[39m.\u001b[39mshape[\u001b[39m0\u001b[39m], encoding)\n\u001b[1;32m     24\u001b[0m     \u001b[39m#pauli_strings=simplify(pauli_strings)\u001b[39;00m\n\u001b[1;32m     25\u001b[0m     \u001b[39m# really slow to do for every element, maybe do every so often?\u001b[39;00m\n\u001b[1;32m     26\u001b[0m \u001b[39mreturn\u001b[39;00m simplify(pauli_strings)\n",
      "File \u001b[0;32m~/anaconda3/envs/QuantumComputing/lib/python3.10/site-packages/sympy/core/decorators.py:236\u001b[0m, in \u001b[0;36m_SympifyWrapper.make_wrapped.<locals>._func\u001b[0;34m(self, other)\u001b[0m\n\u001b[1;32m    234\u001b[0m \u001b[39mif\u001b[39;00m \u001b[39mnot\u001b[39;00m \u001b[39misinstance\u001b[39m(other, expectedcls):\n\u001b[1;32m    235\u001b[0m     \u001b[39mreturn\u001b[39;00m retval\n\u001b[0;32m--> 236\u001b[0m \u001b[39mreturn\u001b[39;00m func(\u001b[39mself\u001b[39;49m, other)\n",
      "File \u001b[0;32m~/anaconda3/envs/QuantumComputing/lib/python3.10/site-packages/sympy/core/decorators.py:106\u001b[0m, in \u001b[0;36mcall_highest_priority.<locals>.priority_decorator.<locals>.binary_op_wrapper\u001b[0;34m(self, other)\u001b[0m\n\u001b[1;32m    104\u001b[0m         \u001b[39mif\u001b[39;00m f \u001b[39mis\u001b[39;00m \u001b[39mnot\u001b[39;00m \u001b[39mNone\u001b[39;00m:\n\u001b[1;32m    105\u001b[0m             \u001b[39mreturn\u001b[39;00m f(\u001b[39mself\u001b[39m)\n\u001b[0;32m--> 106\u001b[0m \u001b[39mreturn\u001b[39;00m func(\u001b[39mself\u001b[39;49m, other)\n",
      "File \u001b[0;32m~/anaconda3/envs/QuantumComputing/lib/python3.10/site-packages/sympy/core/expr.py:198\u001b[0m, in \u001b[0;36mExpr.__add__\u001b[0;34m(self, other)\u001b[0m\n\u001b[1;32m    195\u001b[0m \u001b[39m@sympify_return\u001b[39m([(\u001b[39m'\u001b[39m\u001b[39mother\u001b[39m\u001b[39m'\u001b[39m, \u001b[39m'\u001b[39m\u001b[39mExpr\u001b[39m\u001b[39m'\u001b[39m)], \u001b[39mNotImplemented\u001b[39m)\n\u001b[1;32m    196\u001b[0m \u001b[39m@call_highest_priority\u001b[39m(\u001b[39m'\u001b[39m\u001b[39m__radd__\u001b[39m\u001b[39m'\u001b[39m)\n\u001b[1;32m    197\u001b[0m \u001b[39mdef\u001b[39;00m \u001b[39m__add__\u001b[39m(\u001b[39mself\u001b[39m, other):\n\u001b[0;32m--> 198\u001b[0m     \u001b[39mreturn\u001b[39;00m Add(\u001b[39mself\u001b[39;49m, other)\n",
      "File \u001b[0;32m~/anaconda3/envs/QuantumComputing/lib/python3.10/site-packages/sympy/core/cache.py:70\u001b[0m, in \u001b[0;36m__cacheit.<locals>.func_wrapper.<locals>.wrapper\u001b[0;34m(*args, **kwargs)\u001b[0m\n\u001b[1;32m     67\u001b[0m \u001b[39m@wraps\u001b[39m(func)\n\u001b[1;32m     68\u001b[0m \u001b[39mdef\u001b[39;00m \u001b[39mwrapper\u001b[39m(\u001b[39m*\u001b[39margs, \u001b[39m*\u001b[39m\u001b[39m*\u001b[39mkwargs):\n\u001b[1;32m     69\u001b[0m     \u001b[39mtry\u001b[39;00m:\n\u001b[0;32m---> 70\u001b[0m         retval \u001b[39m=\u001b[39m cfunc(\u001b[39m*\u001b[39;49margs, \u001b[39m*\u001b[39;49m\u001b[39m*\u001b[39;49mkwargs)\n\u001b[1;32m     71\u001b[0m     \u001b[39mexcept\u001b[39;00m \u001b[39mTypeError\u001b[39;00m \u001b[39mas\u001b[39;00m e:\n\u001b[1;32m     72\u001b[0m         \u001b[39mif\u001b[39;00m \u001b[39mnot\u001b[39;00m e\u001b[39m.\u001b[39margs \u001b[39mor\u001b[39;00m \u001b[39mnot\u001b[39;00m e\u001b[39m.\u001b[39margs[\u001b[39m0\u001b[39m]\u001b[39m.\u001b[39mstartswith(\u001b[39m'\u001b[39m\u001b[39munhashable type:\u001b[39m\u001b[39m'\u001b[39m):\n",
      "File \u001b[0;32m~/anaconda3/envs/QuantumComputing/lib/python3.10/site-packages/sympy/core/operations.py:98\u001b[0m, in \u001b[0;36mAssocOp.__new__\u001b[0;34m(cls, evaluate, _sympify, *args)\u001b[0m\n\u001b[1;32m     95\u001b[0m \u001b[39mif\u001b[39;00m \u001b[39mlen\u001b[39m(args) \u001b[39m==\u001b[39m \u001b[39m1\u001b[39m:\n\u001b[1;32m     96\u001b[0m     \u001b[39mreturn\u001b[39;00m args[\u001b[39m0\u001b[39m]\n\u001b[0;32m---> 98\u001b[0m c_part, nc_part, order_symbols \u001b[39m=\u001b[39m \u001b[39mcls\u001b[39;49m\u001b[39m.\u001b[39;49mflatten(args)\n\u001b[1;32m     99\u001b[0m is_commutative \u001b[39m=\u001b[39m \u001b[39mnot\u001b[39;00m nc_part\n\u001b[1;32m    100\u001b[0m obj \u001b[39m=\u001b[39m \u001b[39mcls\u001b[39m\u001b[39m.\u001b[39m_from_args(c_part \u001b[39m+\u001b[39m nc_part, is_commutative)\n",
      "File \u001b[0;32m~/anaconda3/envs/QuantumComputing/lib/python3.10/site-packages/sympy/core/add.py:381\u001b[0m, in \u001b[0;36mAdd.flatten\u001b[0;34m(cls, seq)\u001b[0m\n\u001b[1;32m    378\u001b[0m             \u001b[39mbreak\u001b[39;00m\n\u001b[1;32m    380\u001b[0m \u001b[39m# order args canonically\u001b[39;00m\n\u001b[0;32m--> 381\u001b[0m _addsort(newseq)\n\u001b[1;32m    383\u001b[0m \u001b[39m# current code expects coeff to be first\u001b[39;00m\n\u001b[1;32m    384\u001b[0m \u001b[39mif\u001b[39;00m coeff \u001b[39mis\u001b[39;00m \u001b[39mnot\u001b[39;00m S\u001b[39m.\u001b[39mZero:\n",
      "File \u001b[0;32m~/anaconda3/envs/QuantumComputing/lib/python3.10/site-packages/sympy/core/add.py:38\u001b[0m, in \u001b[0;36m_addsort\u001b[0;34m(args)\u001b[0m\n\u001b[1;32m     36\u001b[0m \u001b[39mdef\u001b[39;00m \u001b[39m_addsort\u001b[39m(args):\n\u001b[1;32m     37\u001b[0m     \u001b[39m# in-place sorting of args\u001b[39;00m\n\u001b[0;32m---> 38\u001b[0m     args\u001b[39m.\u001b[39;49msort(key\u001b[39m=\u001b[39;49m_args_sortkey)\n",
      "File \u001b[0;32m~/anaconda3/envs/QuantumComputing/lib/python3.10/site-packages/sympy/core/basic.py:234\u001b[0m, in \u001b[0;36mBasic.compare\u001b[0;34m(self, other)\u001b[0m\n\u001b[1;32m    232\u001b[0m     \u001b[39mreturn\u001b[39;00m c\n\u001b[1;32m    233\u001b[0m \u001b[39m#\u001b[39;00m\n\u001b[0;32m--> 234\u001b[0m st \u001b[39m=\u001b[39m \u001b[39mself\u001b[39;49m\u001b[39m.\u001b[39;49m_hashable_content()\n\u001b[1;32m    235\u001b[0m ot \u001b[39m=\u001b[39m other\u001b[39m.\u001b[39m_hashable_content()\n\u001b[1;32m    236\u001b[0m c \u001b[39m=\u001b[39m (\u001b[39mlen\u001b[39m(st) \u001b[39m>\u001b[39m \u001b[39mlen\u001b[39m(ot)) \u001b[39m-\u001b[39m (\u001b[39mlen\u001b[39m(st) \u001b[39m<\u001b[39m \u001b[39mlen\u001b[39m(ot))\n",
      "\u001b[0;31mKeyboardInterrupt\u001b[0m: "
     ]
    }
   ],
   "source": [
    "cutoff=8\n",
    "print(\"--------- Lambda = \", cutoff, \" ----------\")\n",
    "t=Timer(\"constructHam\")\n",
    "t.start()\n",
    "hamMat=convert_to_matrix(hoHam,cutoff,N,aops,adags,xs,xdags)\n",
    "t.stop()\n",
    "\n",
    "ens=scipy.sparse.linalg.eigs(hamMat,k=6,sigma=0.0)[0]\n",
    "print(ens)\n",
    "\n",
    "\n",
    "t=Timer(\"load op\")\n",
    "t.start()\n",
    "ps=matrix_to_pauli_strings(hamMat,standard_encode)\n",
    "op = pauli_string_to_op(ps)\n",
    "with open(\"Data/op_quad_cm0p2_lambda{}.pickle\".format(cutoff), \"wb\") as f:\n",
    "    op=pickle.dump(op,f)\n",
    "t.stop()\n",
    "\n",
    "nq=math.floor(math.log2(hamMat.shape[0]))\n",
    "\n",
    "if not math.log2(hamMat.shape[0]).is_integer():\n",
    "    nq+=1\n",
    "\n",
    "ansatz = RealAmplitudes(nq, reps=cutoff)\n",
    "vqe = VQE(ansatz=ansatz, optimizer=COBYLA(), quantum_instance=qinstance)\n",
    "result = vqe.compute_minimum_eigenvalue(op)\n",
    "print(result.eigenvalue)\n",
    "print()\n",
    "print(\"{} & {:.2e} & {:.2e} \\\\\\\\\".format(cutoff, np.min(ens), result.eigenvalue))\n",
    "print()\n",
    "\n",
    "\n",
    "qc = QuantumCircuit(nq,nq)\n",
    "qc.append(op_to_trotter(op,0.1), [i for i in range(nq)])\n",
    "tmp = transpile(qc, basis_gates = ['cx', 'u1', 'u2', 'u3', 'H', 'X', 'Y', 'Z'])\n",
    "print(\"gates for one trotter step = \", tmp.count_ops().get('cx'))\n",
    "\n",
    "\n",
    "print(\"\\n\\n\")"
   ]
  },
  {
   "cell_type": "code",
   "execution_count": null,
   "metadata": {},
   "outputs": [],
   "source": []
  }
 ],
 "metadata": {
  "kernelspec": {
   "display_name": "QuantumComputing",
   "language": "python",
   "name": "python3"
  },
  "language_info": {
   "codemirror_mode": {
    "name": "ipython",
    "version": 3
   },
   "file_extension": ".py",
   "mimetype": "text/x-python",
   "name": "python",
   "nbconvert_exporter": "python",
   "pygments_lexer": "ipython3",
   "version": "3.10.8"
  },
  "orig_nbformat": 4,
  "vscode": {
   "interpreter": {
    "hash": "dfc1513c9f5f8583c962b570c720f173469c60e3f15ab7ebf484195cbf280654"
   }
  }
 },
 "nbformat": 4,
 "nbformat_minor": 2
}
