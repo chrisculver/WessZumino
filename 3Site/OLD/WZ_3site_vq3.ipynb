{
 "cells": [
  {
   "cell_type": "markdown",
   "id": "3e9129bb",
   "metadata": {},
   "source": [
    "# Wess Zumino \n",
    "\n",
    "## N=1 in 1+1\n",
    "\n",
    "The Hamiltonian with a central difference for the derivative is given by \n",
    "\n",
    "\\begin{align}\n",
    "    H=\\sum_n&\\left[ \\frac{p_n^2}{2a} + \\frac{a}{2}\\left(\\frac{\\phi_{n+1}-\\phi_{n-1}}{2a}\\right)^2+\\frac{a}{2}V(\\phi_n)^2\n",
    "            +aV(\\phi_n)\\frac{\\phi_{n+1}-\\phi_{n-1}}{2a} \\right. \\nonumber \\\\\n",
    "            &\\left.+(-1)^nV'(\\phi_n)\\left(\\chi_n^{\\dagger}\\chi_n-\\frac{1}{2}\\right)\n",
    "            +\\frac{1}{2a}\\left(\\chi_n^{\\dagger}\\chi_{n+1}+\\chi_{n+1}^{\\dagger}\\chi_n\\right) \\right],\n",
    "\\end{align}"
   ]
  },
  {
   "cell_type": "code",
   "execution_count": 2,
   "id": "770712fa",
   "metadata": {},
   "outputs": [],
   "source": [
    "import sympy as sp\n",
    "from ham_to_sparse_matrix import *\n",
    "from constants import *\n",
    "import scipy.sparse.linalg"
   ]
  },
  {
   "cell_type": "code",
   "execution_count": 3,
   "id": "2fee939c",
   "metadata": {},
   "outputs": [],
   "source": [
    "bosonNI=sp.expand( pn**2/(2*aLat) + (aLat/2)*((qnP1-qnM1)/(2*aLat))**2 )\n",
    "bosonI=sp.expand( (aLat/2)*V(qn)**2 + aLat*V(qn)*(qnP1-qnM1)/(4*aLat) + aLat*(qnP1-qnM1)*V(qn)/(4*aLat) )\n",
    "fermionNI=sp.expand( (xdnP1*xn+xdn*xnP1)/(2*aLat) )\n",
    "fermionI=sp.expand( sp.diff(V(qn),qn)*(xdn*xn-(1/2)) )"
   ]
  },
  {
   "cell_type": "code",
   "execution_count": 4,
   "id": "f60361a7",
   "metadata": {},
   "outputs": [
    {
     "data": {
      "text/latex": [
       "$\\displaystyle \\frac{a V^{2}{\\left(q_{n} \\right)}}{2} + \\frac{q_{n+1} V{\\left(q_{n} \\right)}}{4} - \\frac{q_{n-1} V{\\left(q_{n} \\right)}}{4} + \\frac{V{\\left(q_{n} \\right)} q_{n+1}}{4} - \\frac{V{\\left(q_{n} \\right)} q_{n-1}}{4} + \\frac{p_{n}^{2}}{2 a} - \\frac{q_{n+1} q_{n-1}}{8 a} + \\frac{q_{n+1}^{2}}{8 a} - \\frac{q_{n-1} q_{n+1}}{8 a} + \\frac{q_{n-1}^{2}}{8 a}$"
      ],
      "text/plain": [
       "a*V(q_{n})**2/2 + q_{n+1}*V(q_{n})/4 - q_{n-1}*V(q_{n})/4 + V(q_{n})*q_{n+1}/4 - V(q_{n})*q_{n-1}/4 + p_{n}**2/(2*a) - q_{n+1}*q_{n-1}/(8*a) + q_{n+1}**2/(8*a) - q_{n-1}*q_{n+1}/(8*a) + q_{n-1}**2/(8*a)"
      ]
     },
     "execution_count": 4,
     "metadata": {},
     "output_type": "execute_result"
    }
   ],
   "source": [
    "bosonNI+bosonI"
   ]
  },
  {
   "cell_type": "code",
   "execution_count": 5,
   "id": "18ef7097",
   "metadata": {},
   "outputs": [
    {
     "data": {
      "text/latex": [
       "$\\displaystyle - 0.5 \\frac{d}{d q_{n}} V{\\left(q_{n} \\right)} + \\frac{d}{d q_{n}} V{\\left(q_{n} \\right)} \\chi^{\\dagger}_{n} \\chi_{n} + \\frac{\\chi^{\\dagger}_{n+1} \\chi_{n}}{2 a} + \\frac{\\chi^{\\dagger}_{n} \\chi_{n+1}}{2 a}$"
      ],
      "text/plain": [
       "-0.5*Derivative(V(q_{n}), q_{n}) + Derivative(V(q_{n}), q_{n})*\\chi^{\\dagger}_{n}*\\chi_{n} + \\chi^{\\dagger}_{n+1}*\\chi_{n}/(2*a) + \\chi^{\\dagger}_{n}*\\chi_{n+1}/(2*a)"
      ]
     },
     "execution_count": 5,
     "metadata": {},
     "output_type": "execute_result"
    }
   ],
   "source": [
    "fermionNI + fermionI"
   ]
  },
  {
   "cell_type": "code",
   "execution_count": 6,
   "id": "6d14e88c",
   "metadata": {},
   "outputs": [],
   "source": [
    "N=3\n",
    "aVal=1\n",
    "\n",
    "# depends on finite-difference method\n",
    "qs=[SiteSymbol('q',str(i)) for i in range(-1,N+1,1)]\n",
    "# maybe make qs a normal site list\n",
    "# and make an extra boundaryQs list for q[-1], q[N]\n",
    "# counting would be normal computer science way for rest of code.\n",
    "\n",
    "ps=[SiteSymbol('p',str(i)) for i in range(-1,N+1,1)] # don't really need extras\n",
    "aops=[SiteSymbol('a',str(i)) for i in range(-1,N+1,1)]\n",
    "adags=[SiteSymbol('a^{\\dagger}',str(i)) for i in range(-1,N+1,1)]\n",
    "xs=[SiteSymbol('\\chi',str(i)) for i in range(-1,N+1,1)]\n",
    "xdags=[SiteSymbol('\\chi^{\\dagger}',str(i)) for i in range(-1,N+1,1)]\n",
    "\n",
    "# note this is exactly hardcoded for this finite difference method.\n",
    "bcType = 'periodic'\n",
    "boundaryConditions = {}\n",
    "if bcType == 'periodic':\n",
    "    boundaryConditions = {qs[0]: qs[N], qs[N+1]: qs[1],\n",
    "                          xs[0]: -xs[N], xs[N+1]: -xs[1], \n",
    "                          xdags[0]: -xdags[N],  xdags[N+1]: -xdags[1]\n",
    "                         }\n",
    "    \n",
    "elif bcType == 'dirichlet':\n",
    "    boundaryConditions = { qs[0]: 0, qs[N+1]: 0,\n",
    "                          xs[0]: 0, xs[N+1]: 0,\n",
    "                          xdags[0]: 0, xdags[N+1]:0\n",
    "                         }"
   ]
  },
  {
   "cell_type": "code",
   "execution_count": 7,
   "id": "031b1d7f",
   "metadata": {},
   "outputs": [
    {
     "data": {
      "text/latex": [
       "$\\displaystyle \\frac{a V^{2}{\\left(q_{n} \\right)}}{2} + \\frac{q_{n+1} V{\\left(q_{n} \\right)}}{4} - \\frac{q_{n-1} V{\\left(q_{n} \\right)}}{4} + \\frac{V{\\left(q_{n} \\right)} q_{n+1}}{4} - \\frac{V{\\left(q_{n} \\right)} q_{n-1}}{4} - 0.5 \\frac{d}{d q_{n}} V{\\left(q_{n} \\right)} + \\frac{d}{d q_{n}} V{\\left(q_{n} \\right)} \\chi^{\\dagger}_{n} \\chi_{n} + \\frac{\\chi^{\\dagger}_{n+1} \\chi_{n}}{2 a} + \\frac{\\chi^{\\dagger}_{n} \\chi_{n+1}}{2 a} + \\frac{p_{n}^{2}}{2 a} - \\frac{q_{n+1} q_{n-1}}{8 a} + \\frac{q_{n+1}^{2}}{8 a} - \\frac{q_{n-1} q_{n+1}}{8 a} + \\frac{q_{n-1}^{2}}{8 a}$"
      ],
      "text/plain": [
       "a*V(q_{n})**2/2 + q_{n+1}*V(q_{n})/4 - q_{n-1}*V(q_{n})/4 + V(q_{n})*q_{n+1}/4 - V(q_{n})*q_{n-1}/4 - 0.5*Derivative(V(q_{n}), q_{n}) + Derivative(V(q_{n}), q_{n})*\\chi^{\\dagger}_{n}*\\chi_{n} + \\chi^{\\dagger}_{n+1}*\\chi_{n}/(2*a) + \\chi^{\\dagger}_{n}*\\chi_{n+1}/(2*a) + p_{n}**2/(2*a) - q_{n+1}*q_{n-1}/(8*a) + q_{n+1}**2/(8*a) - q_{n-1}*q_{n+1}/(8*a) + q_{n-1}**2/(8*a)"
      ]
     },
     "execution_count": 7,
     "metadata": {},
     "output_type": "execute_result"
    }
   ],
   "source": [
    "totHam=bosonNI+bosonI+fermionNI+fermionI\n",
    "totHam"
   ]
  },
  {
   "cell_type": "code",
   "execution_count": 8,
   "id": "d6173b9d",
   "metadata": {},
   "outputs": [
    {
     "data": {
      "text/latex": [
       "$\\displaystyle \\frac{4 \\chi^{\\dagger}_{0} \\chi_{1} - 4 \\chi^{\\dagger}_{0} \\chi_{2} + 4 \\chi^{\\dagger}_{1} \\chi_{0} + 4 \\chi^{\\dagger}_{1} \\chi_{2} - 4 \\chi^{\\dagger}_{2} \\chi_{0} + 4 \\chi^{\\dagger}_{2} \\chi_{1} + 4 p_{0}^{2} + 4 p_{1}^{2} + 4 p_{2}^{2} - q_{0} q_{1} - 2 q_{0} q_{1}^{3} - q_{0} q_{2} + 2 q_{0} q_{2}^{3} + 14.0 q_{0}^{2} - 24 q_{0}^{2} \\chi^{\\dagger}_{0} \\chi_{0} + 2 q_{0}^{3} q_{1} - 2 q_{0}^{3} q_{2} + 4 q_{0}^{6} - q_{1} q_{0} + 2 q_{1} q_{0}^{3} - q_{1} q_{2} - 2 q_{1} q_{2}^{3} - 10.0 q_{1}^{2} + 24 q_{1}^{2} \\chi^{\\dagger}_{1} \\chi_{1} - 2 q_{1}^{3} q_{0} + 2 q_{1}^{3} q_{2} + 4 q_{1}^{6} - q_{2} q_{0} - 2 q_{2} q_{0}^{3} - q_{2} q_{1} + 2 q_{2} q_{1}^{3} + 14.0 q_{2}^{2} - 24 q_{2}^{2} \\chi^{\\dagger}_{2} \\chi_{2} + 2 q_{2}^{3} q_{0} - 2 q_{2}^{3} q_{1} + 4 q_{2}^{6}}{8}$"
      ],
      "text/plain": [
       "(4*\\chi^{\\dagger}_{0}*\\chi_{1} - 4*\\chi^{\\dagger}_{0}*\\chi_{2} + 4*\\chi^{\\dagger}_{1}*\\chi_{0} + 4*\\chi^{\\dagger}_{1}*\\chi_{2} - 4*\\chi^{\\dagger}_{2}*\\chi_{0} + 4*\\chi^{\\dagger}_{2}*\\chi_{1} + 4*p_{0}**2 + 4*p_{1}**2 + 4*p_{2}**2 - q_{0}*q_{1} - 2*q_{0}*q_{1}**3 - q_{0}*q_{2} + 2*q_{0}*q_{2}**3 + 14.0*q_{0}**2 - 24*q_{0}**2*\\chi^{\\dagger}_{0}*\\chi_{0} + 2*q_{0}**3*q_{1} - 2*q_{0}**3*q_{2} + 4*q_{0}**6 - q_{1}*q_{0} + 2*q_{1}*q_{0}**3 - q_{1}*q_{2} - 2*q_{1}*q_{2}**3 - 10.0*q_{1}**2 + 24*q_{1}**2*\\chi^{\\dagger}_{1}*\\chi_{1} - 2*q_{1}**3*q_{0} + 2*q_{1}**3*q_{2} + 4*q_{1}**6 - q_{2}*q_{0} - 2*q_{2}*q_{0}**3 - q_{2}*q_{1} + 2*q_{2}*q_{1}**3 + 14.0*q_{2}**2 - 24*q_{2}**2*\\chi^{\\dagger}_{2}*\\chi_{2} + 2*q_{2}**3*q_{0} - 2*q_{2}**3*q_{1} + 4*q_{2}**6)/8"
      ]
     },
     "execution_count": 8,
     "metadata": {},
     "output_type": "execute_result"
    }
   ],
   "source": [
    "ham=0\n",
    "\n",
    "lam=1\n",
    "\n",
    "for i in range(1,N+1):\n",
    "    ham+=(bosonNI+bosonI+fermionNI).subs({\n",
    "        pn: ps[i],\n",
    "        qn: qs[i], qnP1: qs[i+1], qnM1: qs[i-1],\n",
    "        xn: xs[i], xnP1: xs[i+1],\n",
    "        xdn: xdags[i], xdnP1: xdags[i+1]\n",
    "    }).subs(boundaryConditions)\n",
    "    \n",
    "# ham.subs(boundaryConditions).doit() # this doesn't work?\n",
    "\n",
    "\n",
    "def potential(n):\n",
    "    return lam*qs[n]*qs[n]*qs[n]\n",
    "\n",
    "potentialSubs={}\n",
    "for n in range(1,N+1):\n",
    "    potentialSubs[V(qs[n])]=potential(n)\n",
    "\n",
    "ham=sp.simplify(ham.subs(potentialSubs).subs(aLat,aVal))\n",
    "\n",
    "for i in range(1,N+1):\n",
    "    if i%2==0:\n",
    "        ham+=sp.simplify(fermionI.subs({qn: qs[i], xn: xs[i], xdn: xdags[i]}).subs(potentialSubs))\n",
    "    else:\n",
    "        ham-=sp.simplify(fermionI.subs({qn: qs[i], xn: xs[i], xdn: xdags[i]}).subs(potentialSubs))\n",
    "ham=sp.simplify(ham.subs(aLat,aVal))\n",
    "ham"
   ]
  },
  {
   "cell_type": "code",
   "execution_count": 9,
   "id": "ae53d291",
   "metadata": {},
   "outputs": [
    {
     "data": {
      "text/latex": [
       "$\\displaystyle \\frac{\\chi^{\\dagger}_{0} \\chi_{1}}{2} - \\frac{\\chi^{\\dagger}_{0} \\chi_{2}}{2} + \\frac{\\chi^{\\dagger}_{1} \\chi_{0}}{2} + \\frac{\\chi^{\\dagger}_{1} \\chi_{2}}{2} - \\frac{\\chi^{\\dagger}_{2} \\chi_{0}}{2} + \\frac{\\chi^{\\dagger}_{2} \\chi_{1}}{2} - \\frac{a^{\\dagger}_{0} a^{\\dagger}_{1}}{16} - \\frac{a^{\\dagger}_{0} a^{\\dagger}_{1} a_{1} a^{\\dagger}_{1}}{16} - \\frac{a^{\\dagger}_{0} a^{\\dagger}_{1} a_{1}^{2}}{16} - \\frac{a^{\\dagger}_{0} \\left(a^{\\dagger}_{1}\\right)^{2} a_{1}}{16} - \\frac{a^{\\dagger}_{0} \\left(a^{\\dagger}_{1}\\right)^{3}}{16} - \\frac{a^{\\dagger}_{0} a^{\\dagger}_{2}}{16} + \\frac{a^{\\dagger}_{0} a^{\\dagger}_{2} a_{2} a^{\\dagger}_{2}}{16} + \\frac{a^{\\dagger}_{0} a^{\\dagger}_{2} a_{2}^{2}}{16} + \\frac{a^{\\dagger}_{0} \\left(a^{\\dagger}_{2}\\right)^{2} a_{2}}{16} + \\frac{a^{\\dagger}_{0} \\left(a^{\\dagger}_{2}\\right)^{3}}{16} + \\frac{9 a^{\\dagger}_{0} a_{0}}{8} - \\frac{3 a^{\\dagger}_{0} a_{0} \\chi^{\\dagger}_{0} \\chi_{0}}{2} + \\frac{a^{\\dagger}_{0} a_{0} a^{\\dagger}_{0} a^{\\dagger}_{1}}{16} - \\frac{a^{\\dagger}_{0} a_{0} a^{\\dagger}_{0} a^{\\dagger}_{2}}{16} + \\frac{a^{\\dagger}_{0} a_{0} a^{\\dagger}_{0} a_{0} a^{\\dagger}_{0} a_{0}}{16} + \\frac{a^{\\dagger}_{0} a_{0} a^{\\dagger}_{0} a_{0} \\left(a^{\\dagger}_{0}\\right)^{2}}{16} + \\frac{a^{\\dagger}_{0} a_{0} a^{\\dagger}_{0} a_{0}^{2} a^{\\dagger}_{0}}{16} + \\frac{a^{\\dagger}_{0} a_{0} a^{\\dagger}_{0} a_{0}^{3}}{16} + \\frac{a^{\\dagger}_{0} a_{0} a^{\\dagger}_{0} a_{1}}{16} - \\frac{a^{\\dagger}_{0} a_{0} a^{\\dagger}_{0} a_{2}}{16} + \\frac{a^{\\dagger}_{0} a_{0} \\left(a^{\\dagger}_{0}\\right)^{2} a_{0} a^{\\dagger}_{0}}{16} + \\frac{a^{\\dagger}_{0} a_{0} \\left(a^{\\dagger}_{0}\\right)^{2} a_{0}^{2}}{16} + \\frac{a^{\\dagger}_{0} a_{0} \\left(a^{\\dagger}_{0}\\right)^{3} a_{0}}{16} + \\frac{a^{\\dagger}_{0} a_{0} \\left(a^{\\dagger}_{0}\\right)^{4}}{16} + \\frac{a^{\\dagger}_{0} a_{0}^{2} a^{\\dagger}_{0} a_{0} a^{\\dagger}_{0}}{16} + \\frac{a^{\\dagger}_{0} a_{0}^{2} a^{\\dagger}_{0} a_{0}^{2}}{16} + \\frac{a^{\\dagger}_{0} a_{0}^{2} \\left(a^{\\dagger}_{0}\\right)^{2} a_{0}}{16} + \\frac{a^{\\dagger}_{0} a_{0}^{2} \\left(a^{\\dagger}_{0}\\right)^{3}}{16} + \\frac{a^{\\dagger}_{0} a_{0}^{2} a^{\\dagger}_{1}}{16} - \\frac{a^{\\dagger}_{0} a_{0}^{2} a^{\\dagger}_{2}}{16} + \\frac{a^{\\dagger}_{0} a_{0}^{2} a_{1}}{16} - \\frac{a^{\\dagger}_{0} a_{0}^{2} a_{2}}{16} + \\frac{a^{\\dagger}_{0} a_{0}^{3} a^{\\dagger}_{0} a_{0}}{16} + \\frac{a^{\\dagger}_{0} a_{0}^{3} \\left(a^{\\dagger}_{0}\\right)^{2}}{16} + \\frac{a^{\\dagger}_{0} a_{0}^{4} a^{\\dagger}_{0}}{16} + \\frac{a^{\\dagger}_{0} a_{0}^{5}}{16} - \\frac{a^{\\dagger}_{0} a_{1}}{16} - \\frac{a^{\\dagger}_{0} a_{1} a^{\\dagger}_{1} a_{1}}{16} - \\frac{a^{\\dagger}_{0} a_{1} \\left(a^{\\dagger}_{1}\\right)^{2}}{16} - \\frac{a^{\\dagger}_{0} a_{1}^{2} a^{\\dagger}_{1}}{16} - \\frac{a^{\\dagger}_{0} a_{1}^{3}}{16} - \\frac{a^{\\dagger}_{0} a_{2}}{16} + \\frac{a^{\\dagger}_{0} a_{2} a^{\\dagger}_{2} a_{2}}{16} + \\frac{a^{\\dagger}_{0} a_{2} \\left(a^{\\dagger}_{2}\\right)^{2}}{16} + \\frac{a^{\\dagger}_{0} a_{2}^{2} a^{\\dagger}_{2}}{16} + \\frac{a^{\\dagger}_{0} a_{2}^{3}}{16} + \\frac{5 \\left(a^{\\dagger}_{0}\\right)^{2}}{8} - \\frac{3 \\left(a^{\\dagger}_{0}\\right)^{2} \\chi^{\\dagger}_{0} \\chi_{0}}{2} + \\frac{\\left(a^{\\dagger}_{0}\\right)^{2} a_{0} a^{\\dagger}_{0} a_{0} a^{\\dagger}_{0}}{16} + \\frac{\\left(a^{\\dagger}_{0}\\right)^{2} a_{0} a^{\\dagger}_{0} a_{0}^{2}}{16} + \\frac{\\left(a^{\\dagger}_{0}\\right)^{2} a_{0} \\left(a^{\\dagger}_{0}\\right)^{2} a_{0}}{16} + \\frac{\\left(a^{\\dagger}_{0}\\right)^{2} a_{0} \\left(a^{\\dagger}_{0}\\right)^{3}}{16} + \\frac{\\left(a^{\\dagger}_{0}\\right)^{2} a_{0} a^{\\dagger}_{1}}{16} - \\frac{\\left(a^{\\dagger}_{0}\\right)^{2} a_{0} a^{\\dagger}_{2}}{16} + \\frac{\\left(a^{\\dagger}_{0}\\right)^{2} a_{0} a_{1}}{16} - \\frac{\\left(a^{\\dagger}_{0}\\right)^{2} a_{0} a_{2}}{16} + \\frac{\\left(a^{\\dagger}_{0}\\right)^{2} a_{0}^{2} a^{\\dagger}_{0} a_{0}}{16} + \\frac{\\left(a^{\\dagger}_{0}\\right)^{2} a_{0}^{2} \\left(a^{\\dagger}_{0}\\right)^{2}}{16} + \\frac{\\left(a^{\\dagger}_{0}\\right)^{2} a_{0}^{3} a^{\\dagger}_{0}}{16} + \\frac{\\left(a^{\\dagger}_{0}\\right)^{2} a_{0}^{4}}{16} + \\frac{\\left(a^{\\dagger}_{0}\\right)^{3} a^{\\dagger}_{1}}{16} - \\frac{\\left(a^{\\dagger}_{0}\\right)^{3} a^{\\dagger}_{2}}{16} + \\frac{\\left(a^{\\dagger}_{0}\\right)^{3} a_{0} a^{\\dagger}_{0} a_{0}}{16} + \\frac{\\left(a^{\\dagger}_{0}\\right)^{3} a_{0} \\left(a^{\\dagger}_{0}\\right)^{2}}{16} + \\frac{\\left(a^{\\dagger}_{0}\\right)^{3} a_{0}^{2} a^{\\dagger}_{0}}{16} + \\frac{\\left(a^{\\dagger}_{0}\\right)^{3} a_{0}^{3}}{16} + \\frac{\\left(a^{\\dagger}_{0}\\right)^{3} a_{1}}{16} - \\frac{\\left(a^{\\dagger}_{0}\\right)^{3} a_{2}}{16} + \\frac{\\left(a^{\\dagger}_{0}\\right)^{4} a_{0} a^{\\dagger}_{0}}{16} + \\frac{\\left(a^{\\dagger}_{0}\\right)^{4} a_{0}^{2}}{16} + \\frac{\\left(a^{\\dagger}_{0}\\right)^{5} a_{0}}{16} + \\frac{\\left(a^{\\dagger}_{0}\\right)^{6}}{16} - \\frac{a^{\\dagger}_{1} a^{\\dagger}_{0}}{16} + \\frac{a^{\\dagger}_{1} a^{\\dagger}_{0} a_{0} a^{\\dagger}_{0}}{16} + \\frac{a^{\\dagger}_{1} a^{\\dagger}_{0} a_{0}^{2}}{16} + \\frac{a^{\\dagger}_{1} \\left(a^{\\dagger}_{0}\\right)^{2} a_{0}}{16} + \\frac{a^{\\dagger}_{1} \\left(a^{\\dagger}_{0}\\right)^{3}}{16} - \\frac{a^{\\dagger}_{1} a^{\\dagger}_{2}}{16} - \\frac{a^{\\dagger}_{1} a^{\\dagger}_{2} a_{2} a^{\\dagger}_{2}}{16} - \\frac{a^{\\dagger}_{1} a^{\\dagger}_{2} a_{2}^{2}}{16} - \\frac{a^{\\dagger}_{1} \\left(a^{\\dagger}_{2}\\right)^{2} a_{2}}{16} - \\frac{a^{\\dagger}_{1} \\left(a^{\\dagger}_{2}\\right)^{3}}{16} - \\frac{a^{\\dagger}_{1} a_{0}}{16} + \\frac{a^{\\dagger}_{1} a_{0} a^{\\dagger}_{0} a_{0}}{16} + \\frac{a^{\\dagger}_{1} a_{0} \\left(a^{\\dagger}_{0}\\right)^{2}}{16} + \\frac{a^{\\dagger}_{1} a_{0}^{2} a^{\\dagger}_{0}}{16} + \\frac{a^{\\dagger}_{1} a_{0}^{3}}{16} - \\frac{3 a^{\\dagger}_{1} a_{1}}{8} + \\frac{3 a^{\\dagger}_{1} a_{1} \\chi^{\\dagger}_{1} \\chi_{1}}{2} - \\frac{a^{\\dagger}_{1} a_{1} a^{\\dagger}_{1} a^{\\dagger}_{0}}{16} + \\frac{a^{\\dagger}_{1} a_{1} a^{\\dagger}_{1} a^{\\dagger}_{2}}{16} - \\frac{a^{\\dagger}_{1} a_{1} a^{\\dagger}_{1} a_{0}}{16} + \\frac{a^{\\dagger}_{1} a_{1} a^{\\dagger}_{1} a_{1} a^{\\dagger}_{1} a_{1}}{16} + \\frac{a^{\\dagger}_{1} a_{1} a^{\\dagger}_{1} a_{1} \\left(a^{\\dagger}_{1}\\right)^{2}}{16} + \\frac{a^{\\dagger}_{1} a_{1} a^{\\dagger}_{1} a_{1}^{2} a^{\\dagger}_{1}}{16} + \\frac{a^{\\dagger}_{1} a_{1} a^{\\dagger}_{1} a_{1}^{3}}{16} + \\frac{a^{\\dagger}_{1} a_{1} a^{\\dagger}_{1} a_{2}}{16} + \\frac{a^{\\dagger}_{1} a_{1} \\left(a^{\\dagger}_{1}\\right)^{2} a_{1} a^{\\dagger}_{1}}{16} + \\frac{a^{\\dagger}_{1} a_{1} \\left(a^{\\dagger}_{1}\\right)^{2} a_{1}^{2}}{16} + \\frac{a^{\\dagger}_{1} a_{1} \\left(a^{\\dagger}_{1}\\right)^{3} a_{1}}{16} + \\frac{a^{\\dagger}_{1} a_{1} \\left(a^{\\dagger}_{1}\\right)^{4}}{16} - \\frac{a^{\\dagger}_{1} a_{1}^{2} a^{\\dagger}_{0}}{16} + \\frac{a^{\\dagger}_{1} a_{1}^{2} a^{\\dagger}_{1} a_{1} a^{\\dagger}_{1}}{16} + \\frac{a^{\\dagger}_{1} a_{1}^{2} a^{\\dagger}_{1} a_{1}^{2}}{16} + \\frac{a^{\\dagger}_{1} a_{1}^{2} \\left(a^{\\dagger}_{1}\\right)^{2} a_{1}}{16} + \\frac{a^{\\dagger}_{1} a_{1}^{2} \\left(a^{\\dagger}_{1}\\right)^{3}}{16} + \\frac{a^{\\dagger}_{1} a_{1}^{2} a^{\\dagger}_{2}}{16} - \\frac{a^{\\dagger}_{1} a_{1}^{2} a_{0}}{16} + \\frac{a^{\\dagger}_{1} a_{1}^{2} a_{2}}{16} + \\frac{a^{\\dagger}_{1} a_{1}^{3} a^{\\dagger}_{1} a_{1}}{16} + \\frac{a^{\\dagger}_{1} a_{1}^{3} \\left(a^{\\dagger}_{1}\\right)^{2}}{16} + \\frac{a^{\\dagger}_{1} a_{1}^{4} a^{\\dagger}_{1}}{16} + \\frac{a^{\\dagger}_{1} a_{1}^{5}}{16} - \\frac{a^{\\dagger}_{1} a_{2}}{16} - \\frac{a^{\\dagger}_{1} a_{2} a^{\\dagger}_{2} a_{2}}{16} - \\frac{a^{\\dagger}_{1} a_{2} \\left(a^{\\dagger}_{2}\\right)^{2}}{16} - \\frac{a^{\\dagger}_{1} a_{2}^{2} a^{\\dagger}_{2}}{16} - \\frac{a^{\\dagger}_{1} a_{2}^{3}}{16} - \\frac{7 \\left(a^{\\dagger}_{1}\\right)^{2}}{8} + \\frac{3 \\left(a^{\\dagger}_{1}\\right)^{2} \\chi^{\\dagger}_{1} \\chi_{1}}{2} - \\frac{\\left(a^{\\dagger}_{1}\\right)^{2} a_{1} a^{\\dagger}_{0}}{16} + \\frac{\\left(a^{\\dagger}_{1}\\right)^{2} a_{1} a^{\\dagger}_{1} a_{1} a^{\\dagger}_{1}}{16} + \\frac{\\left(a^{\\dagger}_{1}\\right)^{2} a_{1} a^{\\dagger}_{1} a_{1}^{2}}{16} + \\frac{\\left(a^{\\dagger}_{1}\\right)^{2} a_{1} \\left(a^{\\dagger}_{1}\\right)^{2} a_{1}}{16} + \\frac{\\left(a^{\\dagger}_{1}\\right)^{2} a_{1} \\left(a^{\\dagger}_{1}\\right)^{3}}{16} + \\frac{\\left(a^{\\dagger}_{1}\\right)^{2} a_{1} a^{\\dagger}_{2}}{16} - \\frac{\\left(a^{\\dagger}_{1}\\right)^{2} a_{1} a_{0}}{16} + \\frac{\\left(a^{\\dagger}_{1}\\right)^{2} a_{1} a_{2}}{16} + \\frac{\\left(a^{\\dagger}_{1}\\right)^{2} a_{1}^{2} a^{\\dagger}_{1} a_{1}}{16} + \\frac{\\left(a^{\\dagger}_{1}\\right)^{2} a_{1}^{2} \\left(a^{\\dagger}_{1}\\right)^{2}}{16} + \\frac{\\left(a^{\\dagger}_{1}\\right)^{2} a_{1}^{3} a^{\\dagger}_{1}}{16} + \\frac{\\left(a^{\\dagger}_{1}\\right)^{2} a_{1}^{4}}{16} - \\frac{\\left(a^{\\dagger}_{1}\\right)^{3} a^{\\dagger}_{0}}{16} + \\frac{\\left(a^{\\dagger}_{1}\\right)^{3} a^{\\dagger}_{2}}{16} - \\frac{\\left(a^{\\dagger}_{1}\\right)^{3} a_{0}}{16} + \\frac{\\left(a^{\\dagger}_{1}\\right)^{3} a_{1} a^{\\dagger}_{1} a_{1}}{16} + \\frac{\\left(a^{\\dagger}_{1}\\right)^{3} a_{1} \\left(a^{\\dagger}_{1}\\right)^{2}}{16} + \\frac{\\left(a^{\\dagger}_{1}\\right)^{3} a_{1}^{2} a^{\\dagger}_{1}}{16} + \\frac{\\left(a^{\\dagger}_{1}\\right)^{3} a_{1}^{3}}{16} + \\frac{\\left(a^{\\dagger}_{1}\\right)^{3} a_{2}}{16} + \\frac{\\left(a^{\\dagger}_{1}\\right)^{4} a_{1} a^{\\dagger}_{1}}{16} + \\frac{\\left(a^{\\dagger}_{1}\\right)^{4} a_{1}^{2}}{16} + \\frac{\\left(a^{\\dagger}_{1}\\right)^{5} a_{1}}{16} + \\frac{\\left(a^{\\dagger}_{1}\\right)^{6}}{16} - \\frac{a^{\\dagger}_{2} a^{\\dagger}_{0}}{16} - \\frac{a^{\\dagger}_{2} a^{\\dagger}_{0} a_{0} a^{\\dagger}_{0}}{16} - \\frac{a^{\\dagger}_{2} a^{\\dagger}_{0} a_{0}^{2}}{16} - \\frac{a^{\\dagger}_{2} \\left(a^{\\dagger}_{0}\\right)^{2} a_{0}}{16} - \\frac{a^{\\dagger}_{2} \\left(a^{\\dagger}_{0}\\right)^{3}}{16} - \\frac{a^{\\dagger}_{2} a^{\\dagger}_{1}}{16} + \\frac{a^{\\dagger}_{2} a^{\\dagger}_{1} a_{1} a^{\\dagger}_{1}}{16} + \\frac{a^{\\dagger}_{2} a^{\\dagger}_{1} a_{1}^{2}}{16} + \\frac{a^{\\dagger}_{2} \\left(a^{\\dagger}_{1}\\right)^{2} a_{1}}{16} + \\frac{a^{\\dagger}_{2} \\left(a^{\\dagger}_{1}\\right)^{3}}{16} - \\frac{a^{\\dagger}_{2} a_{0}}{16} - \\frac{a^{\\dagger}_{2} a_{0} a^{\\dagger}_{0} a_{0}}{16} - \\frac{a^{\\dagger}_{2} a_{0} \\left(a^{\\dagger}_{0}\\right)^{2}}{16} - \\frac{a^{\\dagger}_{2} a_{0}^{2} a^{\\dagger}_{0}}{16} - \\frac{a^{\\dagger}_{2} a_{0}^{3}}{16} - \\frac{a^{\\dagger}_{2} a_{1}}{16} + \\frac{a^{\\dagger}_{2} a_{1} a^{\\dagger}_{1} a_{1}}{16} + \\frac{a^{\\dagger}_{2} a_{1} \\left(a^{\\dagger}_{1}\\right)^{2}}{16} + \\frac{a^{\\dagger}_{2} a_{1}^{2} a^{\\dagger}_{1}}{16} + \\frac{a^{\\dagger}_{2} a_{1}^{3}}{16} + \\frac{9 a^{\\dagger}_{2} a_{2}}{8} - \\frac{3 a^{\\dagger}_{2} a_{2} \\chi^{\\dagger}_{2} \\chi_{2}}{2} + \\frac{a^{\\dagger}_{2} a_{2} a^{\\dagger}_{2} a^{\\dagger}_{0}}{16} - \\frac{a^{\\dagger}_{2} a_{2} a^{\\dagger}_{2} a^{\\dagger}_{1}}{16} + \\frac{a^{\\dagger}_{2} a_{2} a^{\\dagger}_{2} a_{0}}{16} - \\frac{a^{\\dagger}_{2} a_{2} a^{\\dagger}_{2} a_{1}}{16} + \\frac{a^{\\dagger}_{2} a_{2} a^{\\dagger}_{2} a_{2} a^{\\dagger}_{2} a_{2}}{16} + \\frac{a^{\\dagger}_{2} a_{2} a^{\\dagger}_{2} a_{2} \\left(a^{\\dagger}_{2}\\right)^{2}}{16} + \\frac{a^{\\dagger}_{2} a_{2} a^{\\dagger}_{2} a_{2}^{2} a^{\\dagger}_{2}}{16} + \\frac{a^{\\dagger}_{2} a_{2} a^{\\dagger}_{2} a_{2}^{3}}{16} + \\frac{a^{\\dagger}_{2} a_{2} \\left(a^{\\dagger}_{2}\\right)^{2} a_{2} a^{\\dagger}_{2}}{16} + \\frac{a^{\\dagger}_{2} a_{2} \\left(a^{\\dagger}_{2}\\right)^{2} a_{2}^{2}}{16} + \\frac{a^{\\dagger}_{2} a_{2} \\left(a^{\\dagger}_{2}\\right)^{3} a_{2}}{16} + \\frac{a^{\\dagger}_{2} a_{2} \\left(a^{\\dagger}_{2}\\right)^{4}}{16} + \\frac{a^{\\dagger}_{2} a_{2}^{2} a^{\\dagger}_{0}}{16} - \\frac{a^{\\dagger}_{2} a_{2}^{2} a^{\\dagger}_{1}}{16} + \\frac{a^{\\dagger}_{2} a_{2}^{2} a^{\\dagger}_{2} a_{2} a^{\\dagger}_{2}}{16} + \\frac{a^{\\dagger}_{2} a_{2}^{2} a^{\\dagger}_{2} a_{2}^{2}}{16} + \\frac{a^{\\dagger}_{2} a_{2}^{2} \\left(a^{\\dagger}_{2}\\right)^{2} a_{2}}{16} + \\frac{a^{\\dagger}_{2} a_{2}^{2} \\left(a^{\\dagger}_{2}\\right)^{3}}{16} + \\frac{a^{\\dagger}_{2} a_{2}^{2} a_{0}}{16} - \\frac{a^{\\dagger}_{2} a_{2}^{2} a_{1}}{16} + \\frac{a^{\\dagger}_{2} a_{2}^{3} a^{\\dagger}_{2} a_{2}}{16} + \\frac{a^{\\dagger}_{2} a_{2}^{3} \\left(a^{\\dagger}_{2}\\right)^{2}}{16} + \\frac{a^{\\dagger}_{2} a_{2}^{4} a^{\\dagger}_{2}}{16} + \\frac{a^{\\dagger}_{2} a_{2}^{5}}{16} + \\frac{5 \\left(a^{\\dagger}_{2}\\right)^{2}}{8} - \\frac{3 \\left(a^{\\dagger}_{2}\\right)^{2} \\chi^{\\dagger}_{2} \\chi_{2}}{2} + \\frac{\\left(a^{\\dagger}_{2}\\right)^{2} a_{2} a^{\\dagger}_{0}}{16} - \\frac{\\left(a^{\\dagger}_{2}\\right)^{2} a_{2} a^{\\dagger}_{1}}{16} + \\frac{\\left(a^{\\dagger}_{2}\\right)^{2} a_{2} a^{\\dagger}_{2} a_{2} a^{\\dagger}_{2}}{16} + \\frac{\\left(a^{\\dagger}_{2}\\right)^{2} a_{2} a^{\\dagger}_{2} a_{2}^{2}}{16} + \\frac{\\left(a^{\\dagger}_{2}\\right)^{2} a_{2} \\left(a^{\\dagger}_{2}\\right)^{2} a_{2}}{16} + \\frac{\\left(a^{\\dagger}_{2}\\right)^{2} a_{2} \\left(a^{\\dagger}_{2}\\right)^{3}}{16} + \\frac{\\left(a^{\\dagger}_{2}\\right)^{2} a_{2} a_{0}}{16} - \\frac{\\left(a^{\\dagger}_{2}\\right)^{2} a_{2} a_{1}}{16} + \\frac{\\left(a^{\\dagger}_{2}\\right)^{2} a_{2}^{2} a^{\\dagger}_{2} a_{2}}{16} + \\frac{\\left(a^{\\dagger}_{2}\\right)^{2} a_{2}^{2} \\left(a^{\\dagger}_{2}\\right)^{2}}{16} + \\frac{\\left(a^{\\dagger}_{2}\\right)^{2} a_{2}^{3} a^{\\dagger}_{2}}{16} + \\frac{\\left(a^{\\dagger}_{2}\\right)^{2} a_{2}^{4}}{16} + \\frac{\\left(a^{\\dagger}_{2}\\right)^{3} a^{\\dagger}_{0}}{16} - \\frac{\\left(a^{\\dagger}_{2}\\right)^{3} a^{\\dagger}_{1}}{16} + \\frac{\\left(a^{\\dagger}_{2}\\right)^{3} a_{0}}{16} - \\frac{\\left(a^{\\dagger}_{2}\\right)^{3} a_{1}}{16} + \\frac{\\left(a^{\\dagger}_{2}\\right)^{3} a_{2} a^{\\dagger}_{2} a_{2}}{16} + \\frac{\\left(a^{\\dagger}_{2}\\right)^{3} a_{2} \\left(a^{\\dagger}_{2}\\right)^{2}}{16} + \\frac{\\left(a^{\\dagger}_{2}\\right)^{3} a_{2}^{2} a^{\\dagger}_{2}}{16} + \\frac{\\left(a^{\\dagger}_{2}\\right)^{3} a_{2}^{3}}{16} + \\frac{\\left(a^{\\dagger}_{2}\\right)^{4} a_{2} a^{\\dagger}_{2}}{16} + \\frac{\\left(a^{\\dagger}_{2}\\right)^{4} a_{2}^{2}}{16} + \\frac{\\left(a^{\\dagger}_{2}\\right)^{5} a_{2}}{16} + \\frac{\\left(a^{\\dagger}_{2}\\right)^{6}}{16} + \\frac{9 a_{0} a^{\\dagger}_{0}}{8} - \\frac{3 a_{0} a^{\\dagger}_{0} \\chi^{\\dagger}_{0} \\chi_{0}}{2} + \\frac{a_{0} a^{\\dagger}_{0} a_{0} a^{\\dagger}_{0} a_{0} a^{\\dagger}_{0}}{16} + \\frac{a_{0} a^{\\dagger}_{0} a_{0} a^{\\dagger}_{0} a_{0}^{2}}{16} + \\frac{a_{0} a^{\\dagger}_{0} a_{0} \\left(a^{\\dagger}_{0}\\right)^{2} a_{0}}{16} + \\frac{a_{0} a^{\\dagger}_{0} a_{0} \\left(a^{\\dagger}_{0}\\right)^{3}}{16} + \\frac{a_{0} a^{\\dagger}_{0} a_{0} a^{\\dagger}_{1}}{16} - \\frac{a_{0} a^{\\dagger}_{0} a_{0} a^{\\dagger}_{2}}{16} + \\frac{a_{0} a^{\\dagger}_{0} a_{0} a_{1}}{16} - \\frac{a_{0} a^{\\dagger}_{0} a_{0} a_{2}}{16} + \\frac{a_{0} a^{\\dagger}_{0} a_{0}^{2} a^{\\dagger}_{0} a_{0}}{16} + \\frac{a_{0} a^{\\dagger}_{0} a_{0}^{2} \\left(a^{\\dagger}_{0}\\right)^{2}}{16} + \\frac{a_{0} a^{\\dagger}_{0} a_{0}^{3} a^{\\dagger}_{0}}{16} + \\frac{a_{0} a^{\\dagger}_{0} a_{0}^{4}}{16} + \\frac{a_{0} \\left(a^{\\dagger}_{0}\\right)^{2} a^{\\dagger}_{1}}{16} - \\frac{a_{0} \\left(a^{\\dagger}_{0}\\right)^{2} a^{\\dagger}_{2}}{16} + \\frac{a_{0} \\left(a^{\\dagger}_{0}\\right)^{2} a_{0} a^{\\dagger}_{0} a_{0}}{16} + \\frac{a_{0} \\left(a^{\\dagger}_{0}\\right)^{2} a_{0} \\left(a^{\\dagger}_{0}\\right)^{2}}{16} + \\frac{a_{0} \\left(a^{\\dagger}_{0}\\right)^{2} a_{0}^{2} a^{\\dagger}_{0}}{16} + \\frac{a_{0} \\left(a^{\\dagger}_{0}\\right)^{2} a_{0}^{3}}{16} + \\frac{a_{0} \\left(a^{\\dagger}_{0}\\right)^{2} a_{1}}{16} - \\frac{a_{0} \\left(a^{\\dagger}_{0}\\right)^{2} a_{2}}{16} + \\frac{a_{0} \\left(a^{\\dagger}_{0}\\right)^{3} a_{0} a^{\\dagger}_{0}}{16} + \\frac{a_{0} \\left(a^{\\dagger}_{0}\\right)^{3} a_{0}^{2}}{16} + \\frac{a_{0} \\left(a^{\\dagger}_{0}\\right)^{4} a_{0}}{16} + \\frac{a_{0} \\left(a^{\\dagger}_{0}\\right)^{5}}{16} - \\frac{a_{0} a^{\\dagger}_{1}}{16} - \\frac{a_{0} a^{\\dagger}_{1} a_{1} a^{\\dagger}_{1}}{16} - \\frac{a_{0} a^{\\dagger}_{1} a_{1}^{2}}{16} - \\frac{a_{0} \\left(a^{\\dagger}_{1}\\right)^{2} a_{1}}{16} - \\frac{a_{0} \\left(a^{\\dagger}_{1}\\right)^{3}}{16} - \\frac{a_{0} a^{\\dagger}_{2}}{16} + \\frac{a_{0} a^{\\dagger}_{2} a_{2} a^{\\dagger}_{2}}{16} + \\frac{a_{0} a^{\\dagger}_{2} a_{2}^{2}}{16} + \\frac{a_{0} \\left(a^{\\dagger}_{2}\\right)^{2} a_{2}}{16} + \\frac{a_{0} \\left(a^{\\dagger}_{2}\\right)^{3}}{16} - \\frac{a_{0} a_{1}}{16} - \\frac{a_{0} a_{1} a^{\\dagger}_{1} a_{1}}{16} - \\frac{a_{0} a_{1} \\left(a^{\\dagger}_{1}\\right)^{2}}{16} - \\frac{a_{0} a_{1}^{2} a^{\\dagger}_{1}}{16} - \\frac{a_{0} a_{1}^{3}}{16} - \\frac{a_{0} a_{2}}{16} + \\frac{a_{0} a_{2} a^{\\dagger}_{2} a_{2}}{16} + \\frac{a_{0} a_{2} \\left(a^{\\dagger}_{2}\\right)^{2}}{16} + \\frac{a_{0} a_{2}^{2} a^{\\dagger}_{2}}{16} + \\frac{a_{0} a_{2}^{3}}{16} + \\frac{5 a_{0}^{2}}{8} - \\frac{3 a_{0}^{2} \\chi^{\\dagger}_{0} \\chi_{0}}{2} + \\frac{a_{0}^{2} a^{\\dagger}_{0} a^{\\dagger}_{1}}{16} - \\frac{a_{0}^{2} a^{\\dagger}_{0} a^{\\dagger}_{2}}{16} + \\frac{a_{0}^{2} a^{\\dagger}_{0} a_{0} a^{\\dagger}_{0} a_{0}}{16} + \\frac{a_{0}^{2} a^{\\dagger}_{0} a_{0} \\left(a^{\\dagger}_{0}\\right)^{2}}{16} + \\frac{a_{0}^{2} a^{\\dagger}_{0} a_{0}^{2} a^{\\dagger}_{0}}{16} + \\frac{a_{0}^{2} a^{\\dagger}_{0} a_{0}^{3}}{16} + \\frac{a_{0}^{2} a^{\\dagger}_{0} a_{1}}{16} - \\frac{a_{0}^{2} a^{\\dagger}_{0} a_{2}}{16} + \\frac{a_{0}^{2} \\left(a^{\\dagger}_{0}\\right)^{2} a_{0} a^{\\dagger}_{0}}{16} + \\frac{a_{0}^{2} \\left(a^{\\dagger}_{0}\\right)^{2} a_{0}^{2}}{16} + \\frac{a_{0}^{2} \\left(a^{\\dagger}_{0}\\right)^{3} a_{0}}{16} + \\frac{a_{0}^{2} \\left(a^{\\dagger}_{0}\\right)^{4}}{16} + \\frac{a_{0}^{3} a^{\\dagger}_{0} a_{0} a^{\\dagger}_{0}}{16} + \\frac{a_{0}^{3} a^{\\dagger}_{0} a_{0}^{2}}{16} + \\frac{a_{0}^{3} \\left(a^{\\dagger}_{0}\\right)^{2} a_{0}}{16} + \\frac{a_{0}^{3} \\left(a^{\\dagger}_{0}\\right)^{3}}{16} + \\frac{a_{0}^{3} a^{\\dagger}_{1}}{16} - \\frac{a_{0}^{3} a^{\\dagger}_{2}}{16} + \\frac{a_{0}^{3} a_{1}}{16} - \\frac{a_{0}^{3} a_{2}}{16} + \\frac{a_{0}^{4} a^{\\dagger}_{0} a_{0}}{16} + \\frac{a_{0}^{4} \\left(a^{\\dagger}_{0}\\right)^{2}}{16} + \\frac{a_{0}^{5} a^{\\dagger}_{0}}{16} + \\frac{a_{0}^{6}}{16} - \\frac{a_{1} a^{\\dagger}_{0}}{16} + \\frac{a_{1} a^{\\dagger}_{0} a_{0} a^{\\dagger}_{0}}{16} + \\frac{a_{1} a^{\\dagger}_{0} a_{0}^{2}}{16} + \\frac{a_{1} \\left(a^{\\dagger}_{0}\\right)^{2} a_{0}}{16} + \\frac{a_{1} \\left(a^{\\dagger}_{0}\\right)^{3}}{16} - \\frac{3 a_{1} a^{\\dagger}_{1}}{8} + \\frac{3 a_{1} a^{\\dagger}_{1} \\chi^{\\dagger}_{1} \\chi_{1}}{2} - \\frac{a_{1} a^{\\dagger}_{1} a_{1} a^{\\dagger}_{0}}{16} + \\frac{a_{1} a^{\\dagger}_{1} a_{1} a^{\\dagger}_{1} a_{1} a^{\\dagger}_{1}}{16} + \\frac{a_{1} a^{\\dagger}_{1} a_{1} a^{\\dagger}_{1} a_{1}^{2}}{16} + \\frac{a_{1} a^{\\dagger}_{1} a_{1} \\left(a^{\\dagger}_{1}\\right)^{2} a_{1}}{16} + \\frac{a_{1} a^{\\dagger}_{1} a_{1} \\left(a^{\\dagger}_{1}\\right)^{3}}{16} + \\frac{a_{1} a^{\\dagger}_{1} a_{1} a^{\\dagger}_{2}}{16} - \\frac{a_{1} a^{\\dagger}_{1} a_{1} a_{0}}{16} + \\frac{a_{1} a^{\\dagger}_{1} a_{1} a_{2}}{16} + \\frac{a_{1} a^{\\dagger}_{1} a_{1}^{2} a^{\\dagger}_{1} a_{1}}{16} + \\frac{a_{1} a^{\\dagger}_{1} a_{1}^{2} \\left(a^{\\dagger}_{1}\\right)^{2}}{16} + \\frac{a_{1} a^{\\dagger}_{1} a_{1}^{3} a^{\\dagger}_{1}}{16} + \\frac{a_{1} a^{\\dagger}_{1} a_{1}^{4}}{16} - \\frac{a_{1} \\left(a^{\\dagger}_{1}\\right)^{2} a^{\\dagger}_{0}}{16} + \\frac{a_{1} \\left(a^{\\dagger}_{1}\\right)^{2} a^{\\dagger}_{2}}{16} - \\frac{a_{1} \\left(a^{\\dagger}_{1}\\right)^{2} a_{0}}{16} + \\frac{a_{1} \\left(a^{\\dagger}_{1}\\right)^{2} a_{1} a^{\\dagger}_{1} a_{1}}{16} + \\frac{a_{1} \\left(a^{\\dagger}_{1}\\right)^{2} a_{1} \\left(a^{\\dagger}_{1}\\right)^{2}}{16} + \\frac{a_{1} \\left(a^{\\dagger}_{1}\\right)^{2} a_{1}^{2} a^{\\dagger}_{1}}{16} + \\frac{a_{1} \\left(a^{\\dagger}_{1}\\right)^{2} a_{1}^{3}}{16} + \\frac{a_{1} \\left(a^{\\dagger}_{1}\\right)^{2} a_{2}}{16} + \\frac{a_{1} \\left(a^{\\dagger}_{1}\\right)^{3} a_{1} a^{\\dagger}_{1}}{16} + \\frac{a_{1} \\left(a^{\\dagger}_{1}\\right)^{3} a_{1}^{2}}{16} + \\frac{a_{1} \\left(a^{\\dagger}_{1}\\right)^{4} a_{1}}{16} + \\frac{a_{1} \\left(a^{\\dagger}_{1}\\right)^{5}}{16} - \\frac{a_{1} a^{\\dagger}_{2}}{16} - \\frac{a_{1} a^{\\dagger}_{2} a_{2} a^{\\dagger}_{2}}{16} - \\frac{a_{1} a^{\\dagger}_{2} a_{2}^{2}}{16} - \\frac{a_{1} \\left(a^{\\dagger}_{2}\\right)^{2} a_{2}}{16} - \\frac{a_{1} \\left(a^{\\dagger}_{2}\\right)^{3}}{16} - \\frac{a_{1} a_{0}}{16} + \\frac{a_{1} a_{0} a^{\\dagger}_{0} a_{0}}{16} + \\frac{a_{1} a_{0} \\left(a^{\\dagger}_{0}\\right)^{2}}{16} + \\frac{a_{1} a_{0}^{2} a^{\\dagger}_{0}}{16} + \\frac{a_{1} a_{0}^{3}}{16} - \\frac{a_{1} a_{2}}{16} - \\frac{a_{1} a_{2} a^{\\dagger}_{2} a_{2}}{16} - \\frac{a_{1} a_{2} \\left(a^{\\dagger}_{2}\\right)^{2}}{16} - \\frac{a_{1} a_{2}^{2} a^{\\dagger}_{2}}{16} - \\frac{a_{1} a_{2}^{3}}{16} - \\frac{7 a_{1}^{2}}{8} + \\frac{3 a_{1}^{2} \\chi^{\\dagger}_{1} \\chi_{1}}{2} - \\frac{a_{1}^{2} a^{\\dagger}_{1} a^{\\dagger}_{0}}{16} + \\frac{a_{1}^{2} a^{\\dagger}_{1} a^{\\dagger}_{2}}{16} - \\frac{a_{1}^{2} a^{\\dagger}_{1} a_{0}}{16} + \\frac{a_{1}^{2} a^{\\dagger}_{1} a_{1} a^{\\dagger}_{1} a_{1}}{16} + \\frac{a_{1}^{2} a^{\\dagger}_{1} a_{1} \\left(a^{\\dagger}_{1}\\right)^{2}}{16} + \\frac{a_{1}^{2} a^{\\dagger}_{1} a_{1}^{2} a^{\\dagger}_{1}}{16} + \\frac{a_{1}^{2} a^{\\dagger}_{1} a_{1}^{3}}{16} + \\frac{a_{1}^{2} a^{\\dagger}_{1} a_{2}}{16} + \\frac{a_{1}^{2} \\left(a^{\\dagger}_{1}\\right)^{2} a_{1} a^{\\dagger}_{1}}{16} + \\frac{a_{1}^{2} \\left(a^{\\dagger}_{1}\\right)^{2} a_{1}^{2}}{16} + \\frac{a_{1}^{2} \\left(a^{\\dagger}_{1}\\right)^{3} a_{1}}{16} + \\frac{a_{1}^{2} \\left(a^{\\dagger}_{1}\\right)^{4}}{16} - \\frac{a_{1}^{3} a^{\\dagger}_{0}}{16} + \\frac{a_{1}^{3} a^{\\dagger}_{1} a_{1} a^{\\dagger}_{1}}{16} + \\frac{a_{1}^{3} a^{\\dagger}_{1} a_{1}^{2}}{16} + \\frac{a_{1}^{3} \\left(a^{\\dagger}_{1}\\right)^{2} a_{1}}{16} + \\frac{a_{1}^{3} \\left(a^{\\dagger}_{1}\\right)^{3}}{16} + \\frac{a_{1}^{3} a^{\\dagger}_{2}}{16} - \\frac{a_{1}^{3} a_{0}}{16} + \\frac{a_{1}^{3} a_{2}}{16} + \\frac{a_{1}^{4} a^{\\dagger}_{1} a_{1}}{16} + \\frac{a_{1}^{4} \\left(a^{\\dagger}_{1}\\right)^{2}}{16} + \\frac{a_{1}^{5} a^{\\dagger}_{1}}{16} + \\frac{a_{1}^{6}}{16} - \\frac{a_{2} a^{\\dagger}_{0}}{16} - \\frac{a_{2} a^{\\dagger}_{0} a_{0} a^{\\dagger}_{0}}{16} - \\frac{a_{2} a^{\\dagger}_{0} a_{0}^{2}}{16} - \\frac{a_{2} \\left(a^{\\dagger}_{0}\\right)^{2} a_{0}}{16} - \\frac{a_{2} \\left(a^{\\dagger}_{0}\\right)^{3}}{16} - \\frac{a_{2} a^{\\dagger}_{1}}{16} + \\frac{a_{2} a^{\\dagger}_{1} a_{1} a^{\\dagger}_{1}}{16} + \\frac{a_{2} a^{\\dagger}_{1} a_{1}^{2}}{16} + \\frac{a_{2} \\left(a^{\\dagger}_{1}\\right)^{2} a_{1}}{16} + \\frac{a_{2} \\left(a^{\\dagger}_{1}\\right)^{3}}{16} + \\frac{9 a_{2} a^{\\dagger}_{2}}{8} - \\frac{3 a_{2} a^{\\dagger}_{2} \\chi^{\\dagger}_{2} \\chi_{2}}{2} + \\frac{a_{2} a^{\\dagger}_{2} a_{2} a^{\\dagger}_{0}}{16} - \\frac{a_{2} a^{\\dagger}_{2} a_{2} a^{\\dagger}_{1}}{16} + \\frac{a_{2} a^{\\dagger}_{2} a_{2} a^{\\dagger}_{2} a_{2} a^{\\dagger}_{2}}{16} + \\frac{a_{2} a^{\\dagger}_{2} a_{2} a^{\\dagger}_{2} a_{2}^{2}}{16} + \\frac{a_{2} a^{\\dagger}_{2} a_{2} \\left(a^{\\dagger}_{2}\\right)^{2} a_{2}}{16} + \\frac{a_{2} a^{\\dagger}_{2} a_{2} \\left(a^{\\dagger}_{2}\\right)^{3}}{16} + \\frac{a_{2} a^{\\dagger}_{2} a_{2} a_{0}}{16} - \\frac{a_{2} a^{\\dagger}_{2} a_{2} a_{1}}{16} + \\frac{a_{2} a^{\\dagger}_{2} a_{2}^{2} a^{\\dagger}_{2} a_{2}}{16} + \\frac{a_{2} a^{\\dagger}_{2} a_{2}^{2} \\left(a^{\\dagger}_{2}\\right)^{2}}{16} + \\frac{a_{2} a^{\\dagger}_{2} a_{2}^{3} a^{\\dagger}_{2}}{16} + \\frac{a_{2} a^{\\dagger}_{2} a_{2}^{4}}{16} + \\frac{a_{2} \\left(a^{\\dagger}_{2}\\right)^{2} a^{\\dagger}_{0}}{16} - \\frac{a_{2} \\left(a^{\\dagger}_{2}\\right)^{2} a^{\\dagger}_{1}}{16} + \\frac{a_{2} \\left(a^{\\dagger}_{2}\\right)^{2} a_{0}}{16} - \\frac{a_{2} \\left(a^{\\dagger}_{2}\\right)^{2} a_{1}}{16} + \\frac{a_{2} \\left(a^{\\dagger}_{2}\\right)^{2} a_{2} a^{\\dagger}_{2} a_{2}}{16} + \\frac{a_{2} \\left(a^{\\dagger}_{2}\\right)^{2} a_{2} \\left(a^{\\dagger}_{2}\\right)^{2}}{16} + \\frac{a_{2} \\left(a^{\\dagger}_{2}\\right)^{2} a_{2}^{2} a^{\\dagger}_{2}}{16} + \\frac{a_{2} \\left(a^{\\dagger}_{2}\\right)^{2} a_{2}^{3}}{16} + \\frac{a_{2} \\left(a^{\\dagger}_{2}\\right)^{3} a_{2} a^{\\dagger}_{2}}{16} + \\frac{a_{2} \\left(a^{\\dagger}_{2}\\right)^{3} a_{2}^{2}}{16} + \\frac{a_{2} \\left(a^{\\dagger}_{2}\\right)^{4} a_{2}}{16} + \\frac{a_{2} \\left(a^{\\dagger}_{2}\\right)^{5}}{16} - \\frac{a_{2} a_{0}}{16} - \\frac{a_{2} a_{0} a^{\\dagger}_{0} a_{0}}{16} - \\frac{a_{2} a_{0} \\left(a^{\\dagger}_{0}\\right)^{2}}{16} - \\frac{a_{2} a_{0}^{2} a^{\\dagger}_{0}}{16} - \\frac{a_{2} a_{0}^{3}}{16} - \\frac{a_{2} a_{1}}{16} + \\frac{a_{2} a_{1} a^{\\dagger}_{1} a_{1}}{16} + \\frac{a_{2} a_{1} \\left(a^{\\dagger}_{1}\\right)^{2}}{16} + \\frac{a_{2} a_{1}^{2} a^{\\dagger}_{1}}{16} + \\frac{a_{2} a_{1}^{3}}{16} + \\frac{5 a_{2}^{2}}{8} - \\frac{3 a_{2}^{2} \\chi^{\\dagger}_{2} \\chi_{2}}{2} + \\frac{a_{2}^{2} a^{\\dagger}_{2} a^{\\dagger}_{0}}{16} - \\frac{a_{2}^{2} a^{\\dagger}_{2} a^{\\dagger}_{1}}{16} + \\frac{a_{2}^{2} a^{\\dagger}_{2} a_{0}}{16} - \\frac{a_{2}^{2} a^{\\dagger}_{2} a_{1}}{16} + \\frac{a_{2}^{2} a^{\\dagger}_{2} a_{2} a^{\\dagger}_{2} a_{2}}{16} + \\frac{a_{2}^{2} a^{\\dagger}_{2} a_{2} \\left(a^{\\dagger}_{2}\\right)^{2}}{16} + \\frac{a_{2}^{2} a^{\\dagger}_{2} a_{2}^{2} a^{\\dagger}_{2}}{16} + \\frac{a_{2}^{2} a^{\\dagger}_{2} a_{2}^{3}}{16} + \\frac{a_{2}^{2} \\left(a^{\\dagger}_{2}\\right)^{2} a_{2} a^{\\dagger}_{2}}{16} + \\frac{a_{2}^{2} \\left(a^{\\dagger}_{2}\\right)^{2} a_{2}^{2}}{16} + \\frac{a_{2}^{2} \\left(a^{\\dagger}_{2}\\right)^{3} a_{2}}{16} + \\frac{a_{2}^{2} \\left(a^{\\dagger}_{2}\\right)^{4}}{16} + \\frac{a_{2}^{3} a^{\\dagger}_{0}}{16} - \\frac{a_{2}^{3} a^{\\dagger}_{1}}{16} + \\frac{a_{2}^{3} a^{\\dagger}_{2} a_{2} a^{\\dagger}_{2}}{16} + \\frac{a_{2}^{3} a^{\\dagger}_{2} a_{2}^{2}}{16} + \\frac{a_{2}^{3} \\left(a^{\\dagger}_{2}\\right)^{2} a_{2}}{16} + \\frac{a_{2}^{3} \\left(a^{\\dagger}_{2}\\right)^{3}}{16} + \\frac{a_{2}^{3} a_{0}}{16} - \\frac{a_{2}^{3} a_{1}}{16} + \\frac{a_{2}^{4} a^{\\dagger}_{2} a_{2}}{16} + \\frac{a_{2}^{4} \\left(a^{\\dagger}_{2}\\right)^{2}}{16} + \\frac{a_{2}^{5} a^{\\dagger}_{2}}{16} + \\frac{a_{2}^{6}}{16}$"
      ],
      "text/plain": [
       "\\chi^{\\dagger}_{0}*\\chi_{1}/2 - \\chi^{\\dagger}_{0}*\\chi_{2}/2 + \\chi^{\\dagger}_{1}*\\chi_{0}/2 + \\chi^{\\dagger}_{1}*\\chi_{2}/2 - \\chi^{\\dagger}_{2}*\\chi_{0}/2 + \\chi^{\\dagger}_{2}*\\chi_{1}/2 - a^{\\dagger}_{0}*a^{\\dagger}_{1}/16 - a^{\\dagger}_{0}*a^{\\dagger}_{1}*a_{1}*a^{\\dagger}_{1}/16 - a^{\\dagger}_{0}*a^{\\dagger}_{1}*a_{1}**2/16 - a^{\\dagger}_{0}*a^{\\dagger}_{1}**2*a_{1}/16 - a^{\\dagger}_{0}*a^{\\dagger}_{1}**3/16 - a^{\\dagger}_{0}*a^{\\dagger}_{2}/16 + a^{\\dagger}_{0}*a^{\\dagger}_{2}*a_{2}*a^{\\dagger}_{2}/16 + a^{\\dagger}_{0}*a^{\\dagger}_{2}*a_{2}**2/16 + a^{\\dagger}_{0}*a^{\\dagger}_{2}**2*a_{2}/16 + a^{\\dagger}_{0}*a^{\\dagger}_{2}**3/16 + 9*a^{\\dagger}_{0}*a_{0}/8 - 3*a^{\\dagger}_{0}*a_{0}*\\chi^{\\dagger}_{0}*\\chi_{0}/2 + a^{\\dagger}_{0}*a_{0}*a^{\\dagger}_{0}*a^{\\dagger}_{1}/16 - a^{\\dagger}_{0}*a_{0}*a^{\\dagger}_{0}*a^{\\dagger}_{2}/16 + a^{\\dagger}_{0}*a_{0}*a^{\\dagger}_{0}*a_{0}*a^{\\dagger}_{0}*a_{0}/16 + a^{\\dagger}_{0}*a_{0}*a^{\\dagger}_{0}*a_{0}*a^{\\dagger}_{0}**2/16 + a^{\\dagger}_{0}*a_{0}*a^{\\dagger}_{0}*a_{0}**2*a^{\\dagger}_{0}/16 + a^{\\dagger}_{0}*a_{0}*a^{\\dagger}_{0}*a_{0}**3/16 + a^{\\dagger}_{0}*a_{0}*a^{\\dagger}_{0}*a_{1}/16 - a^{\\dagger}_{0}*a_{0}*a^{\\dagger}_{0}*a_{2}/16 + a^{\\dagger}_{0}*a_{0}*a^{\\dagger}_{0}**2*a_{0}*a^{\\dagger}_{0}/16 + a^{\\dagger}_{0}*a_{0}*a^{\\dagger}_{0}**2*a_{0}**2/16 + a^{\\dagger}_{0}*a_{0}*a^{\\dagger}_{0}**3*a_{0}/16 + a^{\\dagger}_{0}*a_{0}*a^{\\dagger}_{0}**4/16 + a^{\\dagger}_{0}*a_{0}**2*a^{\\dagger}_{0}*a_{0}*a^{\\dagger}_{0}/16 + a^{\\dagger}_{0}*a_{0}**2*a^{\\dagger}_{0}*a_{0}**2/16 + a^{\\dagger}_{0}*a_{0}**2*a^{\\dagger}_{0}**2*a_{0}/16 + a^{\\dagger}_{0}*a_{0}**2*a^{\\dagger}_{0}**3/16 + a^{\\dagger}_{0}*a_{0}**2*a^{\\dagger}_{1}/16 - a^{\\dagger}_{0}*a_{0}**2*a^{\\dagger}_{2}/16 + a^{\\dagger}_{0}*a_{0}**2*a_{1}/16 - a^{\\dagger}_{0}*a_{0}**2*a_{2}/16 + a^{\\dagger}_{0}*a_{0}**3*a^{\\dagger}_{0}*a_{0}/16 + a^{\\dagger}_{0}*a_{0}**3*a^{\\dagger}_{0}**2/16 + a^{\\dagger}_{0}*a_{0}**4*a^{\\dagger}_{0}/16 + a^{\\dagger}_{0}*a_{0}**5/16 - a^{\\dagger}_{0}*a_{1}/16 - a^{\\dagger}_{0}*a_{1}*a^{\\dagger}_{1}*a_{1}/16 - a^{\\dagger}_{0}*a_{1}*a^{\\dagger}_{1}**2/16 - a^{\\dagger}_{0}*a_{1}**2*a^{\\dagger}_{1}/16 - a^{\\dagger}_{0}*a_{1}**3/16 - a^{\\dagger}_{0}*a_{2}/16 + a^{\\dagger}_{0}*a_{2}*a^{\\dagger}_{2}*a_{2}/16 + a^{\\dagger}_{0}*a_{2}*a^{\\dagger}_{2}**2/16 + a^{\\dagger}_{0}*a_{2}**2*a^{\\dagger}_{2}/16 + a^{\\dagger}_{0}*a_{2}**3/16 + 5*a^{\\dagger}_{0}**2/8 - 3*a^{\\dagger}_{0}**2*\\chi^{\\dagger}_{0}*\\chi_{0}/2 + a^{\\dagger}_{0}**2*a_{0}*a^{\\dagger}_{0}*a_{0}*a^{\\dagger}_{0}/16 + a^{\\dagger}_{0}**2*a_{0}*a^{\\dagger}_{0}*a_{0}**2/16 + a^{\\dagger}_{0}**2*a_{0}*a^{\\dagger}_{0}**2*a_{0}/16 + a^{\\dagger}_{0}**2*a_{0}*a^{\\dagger}_{0}**3/16 + a^{\\dagger}_{0}**2*a_{0}*a^{\\dagger}_{1}/16 - a^{\\dagger}_{0}**2*a_{0}*a^{\\dagger}_{2}/16 + a^{\\dagger}_{0}**2*a_{0}*a_{1}/16 - a^{\\dagger}_{0}**2*a_{0}*a_{2}/16 + a^{\\dagger}_{0}**2*a_{0}**2*a^{\\dagger}_{0}*a_{0}/16 + a^{\\dagger}_{0}**2*a_{0}**2*a^{\\dagger}_{0}**2/16 + a^{\\dagger}_{0}**2*a_{0}**3*a^{\\dagger}_{0}/16 + a^{\\dagger}_{0}**2*a_{0}**4/16 + a^{\\dagger}_{0}**3*a^{\\dagger}_{1}/16 - a^{\\dagger}_{0}**3*a^{\\dagger}_{2}/16 + a^{\\dagger}_{0}**3*a_{0}*a^{\\dagger}_{0}*a_{0}/16 + a^{\\dagger}_{0}**3*a_{0}*a^{\\dagger}_{0}**2/16 + a^{\\dagger}_{0}**3*a_{0}**2*a^{\\dagger}_{0}/16 + a^{\\dagger}_{0}**3*a_{0}**3/16 + a^{\\dagger}_{0}**3*a_{1}/16 - a^{\\dagger}_{0}**3*a_{2}/16 + a^{\\dagger}_{0}**4*a_{0}*a^{\\dagger}_{0}/16 + a^{\\dagger}_{0}**4*a_{0}**2/16 + a^{\\dagger}_{0}**5*a_{0}/16 + a^{\\dagger}_{0}**6/16 - a^{\\dagger}_{1}*a^{\\dagger}_{0}/16 + a^{\\dagger}_{1}*a^{\\dagger}_{0}*a_{0}*a^{\\dagger}_{0}/16 + a^{\\dagger}_{1}*a^{\\dagger}_{0}*a_{0}**2/16 + a^{\\dagger}_{1}*a^{\\dagger}_{0}**2*a_{0}/16 + a^{\\dagger}_{1}*a^{\\dagger}_{0}**3/16 - a^{\\dagger}_{1}*a^{\\dagger}_{2}/16 - a^{\\dagger}_{1}*a^{\\dagger}_{2}*a_{2}*a^{\\dagger}_{2}/16 - a^{\\dagger}_{1}*a^{\\dagger}_{2}*a_{2}**2/16 - a^{\\dagger}_{1}*a^{\\dagger}_{2}**2*a_{2}/16 - a^{\\dagger}_{1}*a^{\\dagger}_{2}**3/16 - a^{\\dagger}_{1}*a_{0}/16 + a^{\\dagger}_{1}*a_{0}*a^{\\dagger}_{0}*a_{0}/16 + a^{\\dagger}_{1}*a_{0}*a^{\\dagger}_{0}**2/16 + a^{\\dagger}_{1}*a_{0}**2*a^{\\dagger}_{0}/16 + a^{\\dagger}_{1}*a_{0}**3/16 - 3*a^{\\dagger}_{1}*a_{1}/8 + 3*a^{\\dagger}_{1}*a_{1}*\\chi^{\\dagger}_{1}*\\chi_{1}/2 - a^{\\dagger}_{1}*a_{1}*a^{\\dagger}_{1}*a^{\\dagger}_{0}/16 + a^{\\dagger}_{1}*a_{1}*a^{\\dagger}_{1}*a^{\\dagger}_{2}/16 - a^{\\dagger}_{1}*a_{1}*a^{\\dagger}_{1}*a_{0}/16 + a^{\\dagger}_{1}*a_{1}*a^{\\dagger}_{1}*a_{1}*a^{\\dagger}_{1}*a_{1}/16 + a^{\\dagger}_{1}*a_{1}*a^{\\dagger}_{1}*a_{1}*a^{\\dagger}_{1}**2/16 + a^{\\dagger}_{1}*a_{1}*a^{\\dagger}_{1}*a_{1}**2*a^{\\dagger}_{1}/16 + a^{\\dagger}_{1}*a_{1}*a^{\\dagger}_{1}*a_{1}**3/16 + a^{\\dagger}_{1}*a_{1}*a^{\\dagger}_{1}*a_{2}/16 + a^{\\dagger}_{1}*a_{1}*a^{\\dagger}_{1}**2*a_{1}*a^{\\dagger}_{1}/16 + a^{\\dagger}_{1}*a_{1}*a^{\\dagger}_{1}**2*a_{1}**2/16 + a^{\\dagger}_{1}*a_{1}*a^{\\dagger}_{1}**3*a_{1}/16 + a^{\\dagger}_{1}*a_{1}*a^{\\dagger}_{1}**4/16 - a^{\\dagger}_{1}*a_{1}**2*a^{\\dagger}_{0}/16 + a^{\\dagger}_{1}*a_{1}**2*a^{\\dagger}_{1}*a_{1}*a^{\\dagger}_{1}/16 + a^{\\dagger}_{1}*a_{1}**2*a^{\\dagger}_{1}*a_{1}**2/16 + a^{\\dagger}_{1}*a_{1}**2*a^{\\dagger}_{1}**2*a_{1}/16 + a^{\\dagger}_{1}*a_{1}**2*a^{\\dagger}_{1}**3/16 + a^{\\dagger}_{1}*a_{1}**2*a^{\\dagger}_{2}/16 - a^{\\dagger}_{1}*a_{1}**2*a_{0}/16 + a^{\\dagger}_{1}*a_{1}**2*a_{2}/16 + a^{\\dagger}_{1}*a_{1}**3*a^{\\dagger}_{1}*a_{1}/16 + a^{\\dagger}_{1}*a_{1}**3*a^{\\dagger}_{1}**2/16 + a^{\\dagger}_{1}*a_{1}**4*a^{\\dagger}_{1}/16 + a^{\\dagger}_{1}*a_{1}**5/16 - a^{\\dagger}_{1}*a_{2}/16 - a^{\\dagger}_{1}*a_{2}*a^{\\dagger}_{2}*a_{2}/16 - a^{\\dagger}_{1}*a_{2}*a^{\\dagger}_{2}**2/16 - a^{\\dagger}_{1}*a_{2}**2*a^{\\dagger}_{2}/16 - a^{\\dagger}_{1}*a_{2}**3/16 - 7*a^{\\dagger}_{1}**2/8 + 3*a^{\\dagger}_{1}**2*\\chi^{\\dagger}_{1}*\\chi_{1}/2 - a^{\\dagger}_{1}**2*a_{1}*a^{\\dagger}_{0}/16 + a^{\\dagger}_{1}**2*a_{1}*a^{\\dagger}_{1}*a_{1}*a^{\\dagger}_{1}/16 + a^{\\dagger}_{1}**2*a_{1}*a^{\\dagger}_{1}*a_{1}**2/16 + a^{\\dagger}_{1}**2*a_{1}*a^{\\dagger}_{1}**2*a_{1}/16 + a^{\\dagger}_{1}**2*a_{1}*a^{\\dagger}_{1}**3/16 + a^{\\dagger}_{1}**2*a_{1}*a^{\\dagger}_{2}/16 - a^{\\dagger}_{1}**2*a_{1}*a_{0}/16 + a^{\\dagger}_{1}**2*a_{1}*a_{2}/16 + a^{\\dagger}_{1}**2*a_{1}**2*a^{\\dagger}_{1}*a_{1}/16 + a^{\\dagger}_{1}**2*a_{1}**2*a^{\\dagger}_{1}**2/16 + a^{\\dagger}_{1}**2*a_{1}**3*a^{\\dagger}_{1}/16 + a^{\\dagger}_{1}**2*a_{1}**4/16 - a^{\\dagger}_{1}**3*a^{\\dagger}_{0}/16 + a^{\\dagger}_{1}**3*a^{\\dagger}_{2}/16 - a^{\\dagger}_{1}**3*a_{0}/16 + a^{\\dagger}_{1}**3*a_{1}*a^{\\dagger}_{1}*a_{1}/16 + a^{\\dagger}_{1}**3*a_{1}*a^{\\dagger}_{1}**2/16 + a^{\\dagger}_{1}**3*a_{1}**2*a^{\\dagger}_{1}/16 + a^{\\dagger}_{1}**3*a_{1}**3/16 + a^{\\dagger}_{1}**3*a_{2}/16 + a^{\\dagger}_{1}**4*a_{1}*a^{\\dagger}_{1}/16 + a^{\\dagger}_{1}**4*a_{1}**2/16 + a^{\\dagger}_{1}**5*a_{1}/16 + a^{\\dagger}_{1}**6/16 - a^{\\dagger}_{2}*a^{\\dagger}_{0}/16 - a^{\\dagger}_{2}*a^{\\dagger}_{0}*a_{0}*a^{\\dagger}_{0}/16 - a^{\\dagger}_{2}*a^{\\dagger}_{0}*a_{0}**2/16 - a^{\\dagger}_{2}*a^{\\dagger}_{0}**2*a_{0}/16 - a^{\\dagger}_{2}*a^{\\dagger}_{0}**3/16 - a^{\\dagger}_{2}*a^{\\dagger}_{1}/16 + a^{\\dagger}_{2}*a^{\\dagger}_{1}*a_{1}*a^{\\dagger}_{1}/16 + a^{\\dagger}_{2}*a^{\\dagger}_{1}*a_{1}**2/16 + a^{\\dagger}_{2}*a^{\\dagger}_{1}**2*a_{1}/16 + a^{\\dagger}_{2}*a^{\\dagger}_{1}**3/16 - a^{\\dagger}_{2}*a_{0}/16 - a^{\\dagger}_{2}*a_{0}*a^{\\dagger}_{0}*a_{0}/16 - a^{\\dagger}_{2}*a_{0}*a^{\\dagger}_{0}**2/16 - a^{\\dagger}_{2}*a_{0}**2*a^{\\dagger}_{0}/16 - a^{\\dagger}_{2}*a_{0}**3/16 - a^{\\dagger}_{2}*a_{1}/16 + a^{\\dagger}_{2}*a_{1}*a^{\\dagger}_{1}*a_{1}/16 + a^{\\dagger}_{2}*a_{1}*a^{\\dagger}_{1}**2/16 + a^{\\dagger}_{2}*a_{1}**2*a^{\\dagger}_{1}/16 + a^{\\dagger}_{2}*a_{1}**3/16 + 9*a^{\\dagger}_{2}*a_{2}/8 - 3*a^{\\dagger}_{2}*a_{2}*\\chi^{\\dagger}_{2}*\\chi_{2}/2 + a^{\\dagger}_{2}*a_{2}*a^{\\dagger}_{2}*a^{\\dagger}_{0}/16 - a^{\\dagger}_{2}*a_{2}*a^{\\dagger}_{2}*a^{\\dagger}_{1}/16 + a^{\\dagger}_{2}*a_{2}*a^{\\dagger}_{2}*a_{0}/16 - a^{\\dagger}_{2}*a_{2}*a^{\\dagger}_{2}*a_{1}/16 + a^{\\dagger}_{2}*a_{2}*a^{\\dagger}_{2}*a_{2}*a^{\\dagger}_{2}*a_{2}/16 + a^{\\dagger}_{2}*a_{2}*a^{\\dagger}_{2}*a_{2}*a^{\\dagger}_{2}**2/16 + a^{\\dagger}_{2}*a_{2}*a^{\\dagger}_{2}*a_{2}**2*a^{\\dagger}_{2}/16 + a^{\\dagger}_{2}*a_{2}*a^{\\dagger}_{2}*a_{2}**3/16 + a^{\\dagger}_{2}*a_{2}*a^{\\dagger}_{2}**2*a_{2}*a^{\\dagger}_{2}/16 + a^{\\dagger}_{2}*a_{2}*a^{\\dagger}_{2}**2*a_{2}**2/16 + a^{\\dagger}_{2}*a_{2}*a^{\\dagger}_{2}**3*a_{2}/16 + a^{\\dagger}_{2}*a_{2}*a^{\\dagger}_{2}**4/16 + a^{\\dagger}_{2}*a_{2}**2*a^{\\dagger}_{0}/16 - a^{\\dagger}_{2}*a_{2}**2*a^{\\dagger}_{1}/16 + a^{\\dagger}_{2}*a_{2}**2*a^{\\dagger}_{2}*a_{2}*a^{\\dagger}_{2}/16 + a^{\\dagger}_{2}*a_{2}**2*a^{\\dagger}_{2}*a_{2}**2/16 + a^{\\dagger}_{2}*a_{2}**2*a^{\\dagger}_{2}**2*a_{2}/16 + a^{\\dagger}_{2}*a_{2}**2*a^{\\dagger}_{2}**3/16 + a^{\\dagger}_{2}*a_{2}**2*a_{0}/16 - a^{\\dagger}_{2}*a_{2}**2*a_{1}/16 + a^{\\dagger}_{2}*a_{2}**3*a^{\\dagger}_{2}*a_{2}/16 + a^{\\dagger}_{2}*a_{2}**3*a^{\\dagger}_{2}**2/16 + a^{\\dagger}_{2}*a_{2}**4*a^{\\dagger}_{2}/16 + a^{\\dagger}_{2}*a_{2}**5/16 + 5*a^{\\dagger}_{2}**2/8 - 3*a^{\\dagger}_{2}**2*\\chi^{\\dagger}_{2}*\\chi_{2}/2 + a^{\\dagger}_{2}**2*a_{2}*a^{\\dagger}_{0}/16 - a^{\\dagger}_{2}**2*a_{2}*a^{\\dagger}_{1}/16 + a^{\\dagger}_{2}**2*a_{2}*a^{\\dagger}_{2}*a_{2}*a^{\\dagger}_{2}/16 + a^{\\dagger}_{2}**2*a_{2}*a^{\\dagger}_{2}*a_{2}**2/16 + a^{\\dagger}_{2}**2*a_{2}*a^{\\dagger}_{2}**2*a_{2}/16 + a^{\\dagger}_{2}**2*a_{2}*a^{\\dagger}_{2}**3/16 + a^{\\dagger}_{2}**2*a_{2}*a_{0}/16 - a^{\\dagger}_{2}**2*a_{2}*a_{1}/16 + a^{\\dagger}_{2}**2*a_{2}**2*a^{\\dagger}_{2}*a_{2}/16 + a^{\\dagger}_{2}**2*a_{2}**2*a^{\\dagger}_{2}**2/16 + a^{\\dagger}_{2}**2*a_{2}**3*a^{\\dagger}_{2}/16 + a^{\\dagger}_{2}**2*a_{2}**4/16 + a^{\\dagger}_{2}**3*a^{\\dagger}_{0}/16 - a^{\\dagger}_{2}**3*a^{\\dagger}_{1}/16 + a^{\\dagger}_{2}**3*a_{0}/16 - a^{\\dagger}_{2}**3*a_{1}/16 + a^{\\dagger}_{2}**3*a_{2}*a^{\\dagger}_{2}*a_{2}/16 + a^{\\dagger}_{2}**3*a_{2}*a^{\\dagger}_{2}**2/16 + a^{\\dagger}_{2}**3*a_{2}**2*a^{\\dagger}_{2}/16 + a^{\\dagger}_{2}**3*a_{2}**3/16 + a^{\\dagger}_{2}**4*a_{2}*a^{\\dagger}_{2}/16 + a^{\\dagger}_{2}**4*a_{2}**2/16 + a^{\\dagger}_{2}**5*a_{2}/16 + a^{\\dagger}_{2}**6/16 + 9*a_{0}*a^{\\dagger}_{0}/8 - 3*a_{0}*a^{\\dagger}_{0}*\\chi^{\\dagger}_{0}*\\chi_{0}/2 + a_{0}*a^{\\dagger}_{0}*a_{0}*a^{\\dagger}_{0}*a_{0}*a^{\\dagger}_{0}/16 + a_{0}*a^{\\dagger}_{0}*a_{0}*a^{\\dagger}_{0}*a_{0}**2/16 + a_{0}*a^{\\dagger}_{0}*a_{0}*a^{\\dagger}_{0}**2*a_{0}/16 + a_{0}*a^{\\dagger}_{0}*a_{0}*a^{\\dagger}_{0}**3/16 + a_{0}*a^{\\dagger}_{0}*a_{0}*a^{\\dagger}_{1}/16 - a_{0}*a^{\\dagger}_{0}*a_{0}*a^{\\dagger}_{2}/16 + a_{0}*a^{\\dagger}_{0}*a_{0}*a_{1}/16 - a_{0}*a^{\\dagger}_{0}*a_{0}*a_{2}/16 + a_{0}*a^{\\dagger}_{0}*a_{0}**2*a^{\\dagger}_{0}*a_{0}/16 + a_{0}*a^{\\dagger}_{0}*a_{0}**2*a^{\\dagger}_{0}**2/16 + a_{0}*a^{\\dagger}_{0}*a_{0}**3*a^{\\dagger}_{0}/16 + a_{0}*a^{\\dagger}_{0}*a_{0}**4/16 + a_{0}*a^{\\dagger}_{0}**2*a^{\\dagger}_{1}/16 - a_{0}*a^{\\dagger}_{0}**2*a^{\\dagger}_{2}/16 + a_{0}*a^{\\dagger}_{0}**2*a_{0}*a^{\\dagger}_{0}*a_{0}/16 + a_{0}*a^{\\dagger}_{0}**2*a_{0}*a^{\\dagger}_{0}**2/16 + a_{0}*a^{\\dagger}_{0}**2*a_{0}**2*a^{\\dagger}_{0}/16 + a_{0}*a^{\\dagger}_{0}**2*a_{0}**3/16 + a_{0}*a^{\\dagger}_{0}**2*a_{1}/16 - a_{0}*a^{\\dagger}_{0}**2*a_{2}/16 + a_{0}*a^{\\dagger}_{0}**3*a_{0}*a^{\\dagger}_{0}/16 + a_{0}*a^{\\dagger}_{0}**3*a_{0}**2/16 + a_{0}*a^{\\dagger}_{0}**4*a_{0}/16 + a_{0}*a^{\\dagger}_{0}**5/16 - a_{0}*a^{\\dagger}_{1}/16 - a_{0}*a^{\\dagger}_{1}*a_{1}*a^{\\dagger}_{1}/16 - a_{0}*a^{\\dagger}_{1}*a_{1}**2/16 - a_{0}*a^{\\dagger}_{1}**2*a_{1}/16 - a_{0}*a^{\\dagger}_{1}**3/16 - a_{0}*a^{\\dagger}_{2}/16 + a_{0}*a^{\\dagger}_{2}*a_{2}*a^{\\dagger}_{2}/16 + a_{0}*a^{\\dagger}_{2}*a_{2}**2/16 + a_{0}*a^{\\dagger}_{2}**2*a_{2}/16 + a_{0}*a^{\\dagger}_{2}**3/16 - a_{0}*a_{1}/16 - a_{0}*a_{1}*a^{\\dagger}_{1}*a_{1}/16 - a_{0}*a_{1}*a^{\\dagger}_{1}**2/16 - a_{0}*a_{1}**2*a^{\\dagger}_{1}/16 - a_{0}*a_{1}**3/16 - a_{0}*a_{2}/16 + a_{0}*a_{2}*a^{\\dagger}_{2}*a_{2}/16 + a_{0}*a_{2}*a^{\\dagger}_{2}**2/16 + a_{0}*a_{2}**2*a^{\\dagger}_{2}/16 + a_{0}*a_{2}**3/16 + 5*a_{0}**2/8 - 3*a_{0}**2*\\chi^{\\dagger}_{0}*\\chi_{0}/2 + a_{0}**2*a^{\\dagger}_{0}*a^{\\dagger}_{1}/16 - a_{0}**2*a^{\\dagger}_{0}*a^{\\dagger}_{2}/16 + a_{0}**2*a^{\\dagger}_{0}*a_{0}*a^{\\dagger}_{0}*a_{0}/16 + a_{0}**2*a^{\\dagger}_{0}*a_{0}*a^{\\dagger}_{0}**2/16 + a_{0}**2*a^{\\dagger}_{0}*a_{0}**2*a^{\\dagger}_{0}/16 + a_{0}**2*a^{\\dagger}_{0}*a_{0}**3/16 + a_{0}**2*a^{\\dagger}_{0}*a_{1}/16 - a_{0}**2*a^{\\dagger}_{0}*a_{2}/16 + a_{0}**2*a^{\\dagger}_{0}**2*a_{0}*a^{\\dagger}_{0}/16 + a_{0}**2*a^{\\dagger}_{0}**2*a_{0}**2/16 + a_{0}**2*a^{\\dagger}_{0}**3*a_{0}/16 + a_{0}**2*a^{\\dagger}_{0}**4/16 + a_{0}**3*a^{\\dagger}_{0}*a_{0}*a^{\\dagger}_{0}/16 + a_{0}**3*a^{\\dagger}_{0}*a_{0}**2/16 + a_{0}**3*a^{\\dagger}_{0}**2*a_{0}/16 + a_{0}**3*a^{\\dagger}_{0}**3/16 + a_{0}**3*a^{\\dagger}_{1}/16 - a_{0}**3*a^{\\dagger}_{2}/16 + a_{0}**3*a_{1}/16 - a_{0}**3*a_{2}/16 + a_{0}**4*a^{\\dagger}_{0}*a_{0}/16 + a_{0}**4*a^{\\dagger}_{0}**2/16 + a_{0}**5*a^{\\dagger}_{0}/16 + a_{0}**6/16 - a_{1}*a^{\\dagger}_{0}/16 + a_{1}*a^{\\dagger}_{0}*a_{0}*a^{\\dagger}_{0}/16 + a_{1}*a^{\\dagger}_{0}*a_{0}**2/16 + a_{1}*a^{\\dagger}_{0}**2*a_{0}/16 + a_{1}*a^{\\dagger}_{0}**3/16 - 3*a_{1}*a^{\\dagger}_{1}/8 + 3*a_{1}*a^{\\dagger}_{1}*\\chi^{\\dagger}_{1}*\\chi_{1}/2 - a_{1}*a^{\\dagger}_{1}*a_{1}*a^{\\dagger}_{0}/16 + a_{1}*a^{\\dagger}_{1}*a_{1}*a^{\\dagger}_{1}*a_{1}*a^{\\dagger}_{1}/16 + a_{1}*a^{\\dagger}_{1}*a_{1}*a^{\\dagger}_{1}*a_{1}**2/16 + a_{1}*a^{\\dagger}_{1}*a_{1}*a^{\\dagger}_{1}**2*a_{1}/16 + a_{1}*a^{\\dagger}_{1}*a_{1}*a^{\\dagger}_{1}**3/16 + a_{1}*a^{\\dagger}_{1}*a_{1}*a^{\\dagger}_{2}/16 - a_{1}*a^{\\dagger}_{1}*a_{1}*a_{0}/16 + a_{1}*a^{\\dagger}_{1}*a_{1}*a_{2}/16 + a_{1}*a^{\\dagger}_{1}*a_{1}**2*a^{\\dagger}_{1}*a_{1}/16 + a_{1}*a^{\\dagger}_{1}*a_{1}**2*a^{\\dagger}_{1}**2/16 + a_{1}*a^{\\dagger}_{1}*a_{1}**3*a^{\\dagger}_{1}/16 + a_{1}*a^{\\dagger}_{1}*a_{1}**4/16 - a_{1}*a^{\\dagger}_{1}**2*a^{\\dagger}_{0}/16 + a_{1}*a^{\\dagger}_{1}**2*a^{\\dagger}_{2}/16 - a_{1}*a^{\\dagger}_{1}**2*a_{0}/16 + a_{1}*a^{\\dagger}_{1}**2*a_{1}*a^{\\dagger}_{1}*a_{1}/16 + a_{1}*a^{\\dagger}_{1}**2*a_{1}*a^{\\dagger}_{1}**2/16 + a_{1}*a^{\\dagger}_{1}**2*a_{1}**2*a^{\\dagger}_{1}/16 + a_{1}*a^{\\dagger}_{1}**2*a_{1}**3/16 + a_{1}*a^{\\dagger}_{1}**2*a_{2}/16 + a_{1}*a^{\\dagger}_{1}**3*a_{1}*a^{\\dagger}_{1}/16 + a_{1}*a^{\\dagger}_{1}**3*a_{1}**2/16 + a_{1}*a^{\\dagger}_{1}**4*a_{1}/16 + a_{1}*a^{\\dagger}_{1}**5/16 - a_{1}*a^{\\dagger}_{2}/16 - a_{1}*a^{\\dagger}_{2}*a_{2}*a^{\\dagger}_{2}/16 - a_{1}*a^{\\dagger}_{2}*a_{2}**2/16 - a_{1}*a^{\\dagger}_{2}**2*a_{2}/16 - a_{1}*a^{\\dagger}_{2}**3/16 - a_{1}*a_{0}/16 + a_{1}*a_{0}*a^{\\dagger}_{0}*a_{0}/16 + a_{1}*a_{0}*a^{\\dagger}_{0}**2/16 + a_{1}*a_{0}**2*a^{\\dagger}_{0}/16 + a_{1}*a_{0}**3/16 - a_{1}*a_{2}/16 - a_{1}*a_{2}*a^{\\dagger}_{2}*a_{2}/16 - a_{1}*a_{2}*a^{\\dagger}_{2}**2/16 - a_{1}*a_{2}**2*a^{\\dagger}_{2}/16 - a_{1}*a_{2}**3/16 - 7*a_{1}**2/8 + 3*a_{1}**2*\\chi^{\\dagger}_{1}*\\chi_{1}/2 - a_{1}**2*a^{\\dagger}_{1}*a^{\\dagger}_{0}/16 + a_{1}**2*a^{\\dagger}_{1}*a^{\\dagger}_{2}/16 - a_{1}**2*a^{\\dagger}_{1}*a_{0}/16 + a_{1}**2*a^{\\dagger}_{1}*a_{1}*a^{\\dagger}_{1}*a_{1}/16 + a_{1}**2*a^{\\dagger}_{1}*a_{1}*a^{\\dagger}_{1}**2/16 + a_{1}**2*a^{\\dagger}_{1}*a_{1}**2*a^{\\dagger}_{1}/16 + a_{1}**2*a^{\\dagger}_{1}*a_{1}**3/16 + a_{1}**2*a^{\\dagger}_{1}*a_{2}/16 + a_{1}**2*a^{\\dagger}_{1}**2*a_{1}*a^{\\dagger}_{1}/16 + a_{1}**2*a^{\\dagger}_{1}**2*a_{1}**2/16 + a_{1}**2*a^{\\dagger}_{1}**3*a_{1}/16 + a_{1}**2*a^{\\dagger}_{1}**4/16 - a_{1}**3*a^{\\dagger}_{0}/16 + a_{1}**3*a^{\\dagger}_{1}*a_{1}*a^{\\dagger}_{1}/16 + a_{1}**3*a^{\\dagger}_{1}*a_{1}**2/16 + a_{1}**3*a^{\\dagger}_{1}**2*a_{1}/16 + a_{1}**3*a^{\\dagger}_{1}**3/16 + a_{1}**3*a^{\\dagger}_{2}/16 - a_{1}**3*a_{0}/16 + a_{1}**3*a_{2}/16 + a_{1}**4*a^{\\dagger}_{1}*a_{1}/16 + a_{1}**4*a^{\\dagger}_{1}**2/16 + a_{1}**5*a^{\\dagger}_{1}/16 + a_{1}**6/16 - a_{2}*a^{\\dagger}_{0}/16 - a_{2}*a^{\\dagger}_{0}*a_{0}*a^{\\dagger}_{0}/16 - a_{2}*a^{\\dagger}_{0}*a_{0}**2/16 - a_{2}*a^{\\dagger}_{0}**2*a_{0}/16 - a_{2}*a^{\\dagger}_{0}**3/16 - a_{2}*a^{\\dagger}_{1}/16 + a_{2}*a^{\\dagger}_{1}*a_{1}*a^{\\dagger}_{1}/16 + a_{2}*a^{\\dagger}_{1}*a_{1}**2/16 + a_{2}*a^{\\dagger}_{1}**2*a_{1}/16 + a_{2}*a^{\\dagger}_{1}**3/16 + 9*a_{2}*a^{\\dagger}_{2}/8 - 3*a_{2}*a^{\\dagger}_{2}*\\chi^{\\dagger}_{2}*\\chi_{2}/2 + a_{2}*a^{\\dagger}_{2}*a_{2}*a^{\\dagger}_{0}/16 - a_{2}*a^{\\dagger}_{2}*a_{2}*a^{\\dagger}_{1}/16 + a_{2}*a^{\\dagger}_{2}*a_{2}*a^{\\dagger}_{2}*a_{2}*a^{\\dagger}_{2}/16 + a_{2}*a^{\\dagger}_{2}*a_{2}*a^{\\dagger}_{2}*a_{2}**2/16 + a_{2}*a^{\\dagger}_{2}*a_{2}*a^{\\dagger}_{2}**2*a_{2}/16 + a_{2}*a^{\\dagger}_{2}*a_{2}*a^{\\dagger}_{2}**3/16 + a_{2}*a^{\\dagger}_{2}*a_{2}*a_{0}/16 - a_{2}*a^{\\dagger}_{2}*a_{2}*a_{1}/16 + a_{2}*a^{\\dagger}_{2}*a_{2}**2*a^{\\dagger}_{2}*a_{2}/16 + a_{2}*a^{\\dagger}_{2}*a_{2}**2*a^{\\dagger}_{2}**2/16 + a_{2}*a^{\\dagger}_{2}*a_{2}**3*a^{\\dagger}_{2}/16 + a_{2}*a^{\\dagger}_{2}*a_{2}**4/16 + a_{2}*a^{\\dagger}_{2}**2*a^{\\dagger}_{0}/16 - a_{2}*a^{\\dagger}_{2}**2*a^{\\dagger}_{1}/16 + a_{2}*a^{\\dagger}_{2}**2*a_{0}/16 - a_{2}*a^{\\dagger}_{2}**2*a_{1}/16 + a_{2}*a^{\\dagger}_{2}**2*a_{2}*a^{\\dagger}_{2}*a_{2}/16 + a_{2}*a^{\\dagger}_{2}**2*a_{2}*a^{\\dagger}_{2}**2/16 + a_{2}*a^{\\dagger}_{2}**2*a_{2}**2*a^{\\dagger}_{2}/16 + a_{2}*a^{\\dagger}_{2}**2*a_{2}**3/16 + a_{2}*a^{\\dagger}_{2}**3*a_{2}*a^{\\dagger}_{2}/16 + a_{2}*a^{\\dagger}_{2}**3*a_{2}**2/16 + a_{2}*a^{\\dagger}_{2}**4*a_{2}/16 + a_{2}*a^{\\dagger}_{2}**5/16 - a_{2}*a_{0}/16 - a_{2}*a_{0}*a^{\\dagger}_{0}*a_{0}/16 - a_{2}*a_{0}*a^{\\dagger}_{0}**2/16 - a_{2}*a_{0}**2*a^{\\dagger}_{0}/16 - a_{2}*a_{0}**3/16 - a_{2}*a_{1}/16 + a_{2}*a_{1}*a^{\\dagger}_{1}*a_{1}/16 + a_{2}*a_{1}*a^{\\dagger}_{1}**2/16 + a_{2}*a_{1}**2*a^{\\dagger}_{1}/16 + a_{2}*a_{1}**3/16 + 5*a_{2}**2/8 - 3*a_{2}**2*\\chi^{\\dagger}_{2}*\\chi_{2}/2 + a_{2}**2*a^{\\dagger}_{2}*a^{\\dagger}_{0}/16 - a_{2}**2*a^{\\dagger}_{2}*a^{\\dagger}_{1}/16 + a_{2}**2*a^{\\dagger}_{2}*a_{0}/16 - a_{2}**2*a^{\\dagger}_{2}*a_{1}/16 + a_{2}**2*a^{\\dagger}_{2}*a_{2}*a^{\\dagger}_{2}*a_{2}/16 + a_{2}**2*a^{\\dagger}_{2}*a_{2}*a^{\\dagger}_{2}**2/16 + a_{2}**2*a^{\\dagger}_{2}*a_{2}**2*a^{\\dagger}_{2}/16 + a_{2}**2*a^{\\dagger}_{2}*a_{2}**3/16 + a_{2}**2*a^{\\dagger}_{2}**2*a_{2}*a^{\\dagger}_{2}/16 + a_{2}**2*a^{\\dagger}_{2}**2*a_{2}**2/16 + a_{2}**2*a^{\\dagger}_{2}**3*a_{2}/16 + a_{2}**2*a^{\\dagger}_{2}**4/16 + a_{2}**3*a^{\\dagger}_{0}/16 - a_{2}**3*a^{\\dagger}_{1}/16 + a_{2}**3*a^{\\dagger}_{2}*a_{2}*a^{\\dagger}_{2}/16 + a_{2}**3*a^{\\dagger}_{2}*a_{2}**2/16 + a_{2}**3*a^{\\dagger}_{2}**2*a_{2}/16 + a_{2}**3*a^{\\dagger}_{2}**3/16 + a_{2}**3*a_{0}/16 - a_{2}**3*a_{1}/16 + a_{2}**4*a^{\\dagger}_{2}*a_{2}/16 + a_{2}**4*a^{\\dagger}_{2}**2/16 + a_{2}**5*a^{\\dagger}_{2}/16 + a_{2}**6/16"
      ]
     },
     "execution_count": 9,
     "metadata": {},
     "output_type": "execute_result"
    }
   ],
   "source": [
    "m=1\n",
    "\n",
    "HOdofSubs = {}\n",
    "#offset because of BC\n",
    "for i in range(1,N+1):\n",
    "    HOdofSubs[qs[i]] = 0.5*sp.sqrt(2/m)*(aops[i] + adags[i])\n",
    "    HOdofSubs[ps[i]] = complex(0,1)*sp.sqrt(2*m)*(adags[i] - aops[i])/2 \n",
    "\n",
    "hoHam=sp.expand(ham.subs(HOdofSubs))\n",
    "hoHam=sp.nsimplify(hoHam,tolerance=1e-8)\n",
    "hoHam"
   ]
  },
  {
   "cell_type": "code",
   "execution_count": 10,
   "id": "90e5e687-79aa-466f-a380-667e14214f54",
   "metadata": {},
   "outputs": [
    {
     "data": {
      "text/plain": [
       "<4096x4096 sparse matrix of type '<class 'numpy.object_'>'\n",
       "\twith 1024 stored elements in Compressed Sparse Row format>"
      ]
     },
     "execution_count": 10,
     "metadata": {},
     "output_type": "execute_result"
    }
   ],
   "source": [
    "tstTerm=aops[3]**6/16\n",
    "mat=convert_term_to_matrix(tstTerm,8,N,aops,adags,xs,xdags)\n",
    "mat"
   ]
  },
  {
   "cell_type": "code",
   "execution_count": 11,
   "id": "31f2aa71-9a36-4657-b9fb-1e9509194d8b",
   "metadata": {},
   "outputs": [
    {
     "name": "stdout",
     "output_type": "stream",
     "text": [
      "  (0, 12)\t1.67705094814301\n",
      "  (1, 13)\t1.67705094814301\n",
      "  (2, 14)\t4.43705987930298\n",
      "  (3, 15)\t4.43705987930298\n",
      "  (16, 28)\t1.67705094814301\n",
      "  (17, 29)\t1.67705094814301\n",
      "  (18, 30)\t4.43705987930298\n",
      "  (19, 31)\t4.43705987930298\n",
      "  (32, 44)\t1.67705094814301\n",
      "  (33, 45)\t1.67705094814301\n",
      "  (34, 46)\t4.43705987930298\n",
      "  (35, 47)\t4.43705987930298\n",
      "  (48, 60)\t1.67705094814301\n",
      "  (49, 61)\t1.67705094814301\n",
      "  (50, 62)\t4.43705987930298\n",
      "  (51, 63)\t4.43705987930298\n",
      "  (64, 76)\t1.67705094814301\n",
      "  (65, 77)\t1.67705094814301\n",
      "  (66, 78)\t4.43705987930298\n",
      "  (67, 79)\t4.43705987930298\n",
      "  (80, 92)\t1.67705094814301\n",
      "  (81, 93)\t1.67705094814301\n",
      "  (82, 94)\t4.43705987930298\n",
      "  (83, 95)\t4.43705987930298\n",
      "  (96, 108)\t1.67705094814301\n",
      "  :\t:\n",
      "  (3987, 3999)\t4.43705987930298\n",
      "  (4000, 4012)\t1.67705094814301\n",
      "  (4001, 4013)\t1.67705094814301\n",
      "  (4002, 4014)\t4.43705987930298\n",
      "  (4003, 4015)\t4.43705987930298\n",
      "  (4016, 4028)\t1.67705094814301\n",
      "  (4017, 4029)\t1.67705094814301\n",
      "  (4018, 4030)\t4.43705987930298\n",
      "  (4019, 4031)\t4.43705987930298\n",
      "  (4032, 4044)\t1.67705094814301\n",
      "  (4033, 4045)\t1.67705094814301\n",
      "  (4034, 4046)\t4.43705987930298\n",
      "  (4035, 4047)\t4.43705987930298\n",
      "  (4048, 4060)\t1.67705094814301\n",
      "  (4049, 4061)\t1.67705094814301\n",
      "  (4050, 4062)\t4.43705987930298\n",
      "  (4051, 4063)\t4.43705987930298\n",
      "  (4064, 4076)\t1.67705094814301\n",
      "  (4065, 4077)\t1.67705094814301\n",
      "  (4066, 4078)\t4.43705987930298\n",
      "  (4067, 4079)\t4.43705987930298\n",
      "  (4080, 4092)\t1.67705094814301\n",
      "  (4081, 4093)\t1.67705094814301\n",
      "  (4082, 4094)\t4.43705987930298\n",
      "  (4083, 4095)\t4.43705987930298\n"
     ]
    },
    {
     "name": "stderr",
     "output_type": "stream",
     "text": [
      "/home/chris/anaconda3/envs/QuantumComputing/lib/python3.9/site-packages/scipy/sparse/_sputils.py:114: UserWarning: object dtype is not supported by sparse matrices\n",
      "  warnings.warn(\"object dtype is not supported by sparse matrices\")\n"
     ]
    }
   ],
   "source": [
    "print(mat)"
   ]
  },
  {
   "cell_type": "code",
   "execution_count": 13,
   "id": "cd87ca84",
   "metadata": {},
   "outputs": [
    {
     "name": "stdout",
     "output_type": "stream",
     "text": [
      "toHam timer took: 5.0743 seconds\n",
      "evals timer took: 0.0027 seconds\n",
      "Lambda =  2\n",
      "[ 0.0500414 +2.4659816e-10j  0.05004131+2.2609234e-09j\n",
      "  0.05004135-4.4795953e-10j  0.05004134-2.7546445e-09j\n",
      " -0.4499581 +1.2257945e-08j  0.1874998 -6.1010230e-10j\n",
      "  0.18749993-1.9037238e-09j -0.4499581 -7.2593931e-09j\n",
      "  0.05004137+4.7447806e-09j  0.05004138-5.9703336e-09j]\n",
      "\n",
      "toHam timer took: 7.7552 seconds\n",
      "evals timer took: 0.0046 seconds\n",
      "Lambda =  3\n",
      "[0.04553825+7.5153384e-11j 0.05645379-2.9590326e-09j\n",
      " 0.17575875-6.0867400e-09j 0.18965445-1.4369272e-08j\n",
      " 0.18291554-2.6024152e-09j 0.23131132+1.4023744e-09j\n",
      " 0.42347932-7.5190944e-11j 0.4187012 +1.2954183e-08j\n",
      " 0.5500074 -6.8686845e-08j 0.57022   -6.0111880e-09j]\n",
      "\n",
      "toHam timer took: 15.4716 seconds\n",
      "evals timer took: 0.0082 seconds\n",
      "Lambda =  4\n",
      "[0.16245374+2.7889784e-09j 0.631823  +1.9211269e-08j\n",
      " 0.8892409 +5.1052118e-09j 1.0975862 -3.6012185e-08j\n",
      " 1.0958065 -1.7540440e-08j 1.3383257 -1.6394901e-08j\n",
      " 1.3511075 -1.7606581e-08j 1.5561857 -9.3870902e-09j\n",
      " 1.5650221 -4.2224645e-08j 1.7612301 +2.5932152e-09j]\n",
      "\n",
      "toHam timer took: 32.8784 seconds\n",
      "evals timer took: 0.0161 seconds\n",
      "Lambda =  5\n",
      "[-0.00354532+9.7685582e-11j  0.16290888+3.2823488e-10j\n",
      "  0.17366935+3.3518310e-09j -0.4053657 +1.8617257e-08j\n",
      "  0.4602794 +6.1958647e-09j  0.4843913 +3.5694217e-08j\n",
      "  0.6388126 +4.5780762e-08j  0.79190874+2.2426994e-08j\n",
      "  0.90074   -1.8314946e-08j  0.94294286-5.2642633e-08j]\n",
      "\n",
      "toHam timer took: 68.3559 seconds\n",
      "evals timer took: 0.0515 seconds\n",
      "Lambda =  6\n",
      "[0.22917432+1.7937806e-08j 0.7147701 -2.4521379e-08j\n",
      " 1.1862487 +1.0767054e-09j 1.3708566 -1.5767558e-08j\n",
      " 1.392265  +5.5021414e-09j 1.4506296 -2.2785032e-07j\n",
      " 1.7631718 +9.8407440e-08j 1.8070196 +2.5825868e-08j\n",
      " 1.9467087 +2.3860361e-08j 2.0899467 +7.5550979e-08j]\n",
      "\n",
      "toHam timer took: 135.5336 seconds\n",
      "evals timer took: 0.1370 seconds\n",
      "Lambda =  7\n",
      "[-0.215731  +3.6955718e-08j  0.40814006-1.5118903e-08j\n",
      "  0.74934304-2.7837996e-07j  1.0335753 +1.0822032e-07j\n",
      "  1.0738097 -3.7704851e-08j  1.0994112 -6.0351503e-08j\n",
      "  1.4416865 +2.9321930e-08j  1.5244297 -9.9145971e-08j\n",
      "  1.7105854 -4.0161758e-08j  1.8767155 -4.0702428e-08j]\n",
      "\n",
      "toHam timer took: 256.2116 seconds\n",
      "evals timer took: 0.3822 seconds\n",
      "Lambda =  8\n",
      "[-0.07457859+3.8071107e-08j  0.5085708 +5.8394583e-09j\n",
      "  0.53023064+1.8078923e-08j  0.86805147+3.4119850e-08j\n",
      "  0.9092377 +2.2060462e-07j  1.1467532 -2.2633455e-07j\n",
      "  1.2946225 -3.6854168e-08j  1.2738734 +8.7265470e-08j\n",
      "  1.5510373 -1.5181992e-07j  1.6582308 +7.1604248e-08j]\n",
      "\n"
     ]
    },
    {
     "ename": "KeyboardInterrupt",
     "evalue": "",
     "output_type": "error",
     "traceback": [
      "\u001b[0;31m---------------------------------------------------------------------------\u001b[0m",
      "\u001b[0;31mKeyboardInterrupt\u001b[0m                         Traceback (most recent call last)",
      "Input \u001b[0;32mIn [13]\u001b[0m, in \u001b[0;36m<cell line: 1>\u001b[0;34m()\u001b[0m\n\u001b[1;32m      2\u001b[0m t\u001b[38;5;241m=\u001b[39mTimer(\u001b[38;5;124m'\u001b[39m\u001b[38;5;124mtoHam\u001b[39m\u001b[38;5;124m'\u001b[39m)\n\u001b[1;32m      3\u001b[0m t\u001b[38;5;241m.\u001b[39mstart()\n\u001b[0;32m----> 4\u001b[0m hamMat\u001b[38;5;241m=\u001b[39m\u001b[43mconvert_to_matrix\u001b[49m\u001b[43m(\u001b[49m\u001b[43mhoHam\u001b[49m\u001b[43m,\u001b[49m\u001b[43mcutoff\u001b[49m\u001b[43m,\u001b[49m\u001b[43mN\u001b[49m\u001b[43m,\u001b[49m\u001b[43maops\u001b[49m\u001b[43m,\u001b[49m\u001b[43madags\u001b[49m\u001b[43m,\u001b[49m\u001b[43mxs\u001b[49m\u001b[43m,\u001b[49m\u001b[43mxdags\u001b[49m\u001b[43m)\u001b[49m\n\u001b[1;32m      5\u001b[0m t\u001b[38;5;241m.\u001b[39mstop()\n\u001b[1;32m      7\u001b[0m t\u001b[38;5;241m=\u001b[39mTimer(\u001b[38;5;124m'\u001b[39m\u001b[38;5;124mevals\u001b[39m\u001b[38;5;124m'\u001b[39m)\n",
      "File \u001b[0;32m~/Code/WessZumino/ham_to_sparse_matrix.py:77\u001b[0m, in \u001b[0;36mconvert_to_matrix\u001b[0;34m(expr, cutoff, Nsites, aops, adags, xs, xdags)\u001b[0m\n\u001b[1;32m     73\u001b[0m \u001b[38;5;66;03m# convert each term to matrix and sum up\u001b[39;00m\n\u001b[1;32m     74\u001b[0m \u001b[38;5;28;01mfor\u001b[39;00m t \u001b[38;5;129;01min\u001b[39;00m expr\u001b[38;5;241m.\u001b[39margs:\n\u001b[1;32m     75\u001b[0m     \u001b[38;5;66;03m#timer=Timer(str(t)+' to matrix')\u001b[39;00m\n\u001b[1;32m     76\u001b[0m     \u001b[38;5;66;03m#timer.start()\u001b[39;00m\n\u001b[0;32m---> 77\u001b[0m     termMat\u001b[38;5;241m=\u001b[39m\u001b[43mconvert_term_to_matrix\u001b[49m\u001b[43m(\u001b[49m\u001b[43mt\u001b[49m\u001b[43m,\u001b[49m\u001b[43mcutoff\u001b[49m\u001b[43m,\u001b[49m\u001b[43mNsites\u001b[49m\u001b[43m,\u001b[49m\u001b[43m \u001b[49m\u001b[43maops\u001b[49m\u001b[43m,\u001b[49m\u001b[43m \u001b[49m\u001b[43madags\u001b[49m\u001b[43m,\u001b[49m\u001b[43m \u001b[49m\u001b[43mxs\u001b[49m\u001b[43m,\u001b[49m\u001b[43m \u001b[49m\u001b[43mxdags\u001b[49m\u001b[43m)\u001b[49m\u001b[38;5;241m.\u001b[39mastype(np\u001b[38;5;241m.\u001b[39mcomplex64)\n\u001b[1;32m     78\u001b[0m     tmp\u001b[38;5;241m=\u001b[39mfullHam\u001b[38;5;241m+\u001b[39mtermMat\n\u001b[1;32m     79\u001b[0m     fullHam\u001b[38;5;241m=\u001b[39mtmp\n",
      "File \u001b[0;32m~/Code/WessZumino/ham_to_sparse_matrix.py:183\u001b[0m, in \u001b[0;36mconvert_term_to_matrix\u001b[0;34m(term, cutoff, Nsites, aops, adags, xs, xdags)\u001b[0m\n\u001b[1;32m    175\u001b[0m     prodMatrix\u001b[38;5;241m=\u001b[39mprodMatrix\u001b[38;5;241m.\u001b[39mdot(fullMatrix)\n\u001b[1;32m    177\u001b[0m     \u001b[38;5;66;03m#tMultTimer.stop()\u001b[39;00m\n\u001b[1;32m    178\u001b[0m     \u001b[38;5;66;03m#print(\"prodMatrix={}\".format(prodMatrix))\u001b[39;00m\n\u001b[1;32m    179\u001b[0m \n\u001b[1;32m    180\u001b[0m \n\u001b[1;32m    181\u001b[0m \u001b[38;5;66;03m# TODO if there's a buffer what's the right way \u001b[39;00m\n\u001b[1;32m    182\u001b[0m \u001b[38;5;66;03m# to slice the matrix.\u001b[39;00m\n\u001b[0;32m--> 183\u001b[0m \u001b[38;5;28;01mreturn\u001b[39;00m \u001b[43mcoef\u001b[49m\u001b[38;5;241;43m*\u001b[39;49m\u001b[43mprodMatrix\u001b[49m\n",
      "File \u001b[0;32m~/anaconda3/envs/QuantumComputing/lib/python3.9/site-packages/scipy/sparse/_base.py:610\u001b[0m, in \u001b[0;36mspmatrix.__rmul__\u001b[0;34m(self, other)\u001b[0m\n\u001b[1;32m    609\u001b[0m \u001b[38;5;28;01mdef\u001b[39;00m \u001b[38;5;21m__rmul__\u001b[39m(\u001b[38;5;28mself\u001b[39m, other):  \u001b[38;5;66;03m# other * self\u001b[39;00m\n\u001b[0;32m--> 610\u001b[0m     \u001b[38;5;28;01mreturn\u001b[39;00m \u001b[38;5;28;43mself\u001b[39;49m\u001b[38;5;241;43m.\u001b[39;49m\u001b[43m_rmul_dispatch\u001b[49m\u001b[43m(\u001b[49m\u001b[43mother\u001b[49m\u001b[43m)\u001b[49m\n",
      "File \u001b[0;32m~/anaconda3/envs/QuantumComputing/lib/python3.9/site-packages/scipy/sparse/_base.py:600\u001b[0m, in \u001b[0;36mspmatrix._rmul_dispatch\u001b[0;34m(self, other)\u001b[0m\n\u001b[1;32m    598\u001b[0m \u001b[38;5;28;01mdef\u001b[39;00m \u001b[38;5;21m_rmul_dispatch\u001b[39m(\u001b[38;5;28mself\u001b[39m, other):\n\u001b[1;32m    599\u001b[0m     \u001b[38;5;28;01mif\u001b[39;00m isscalarlike(other):\n\u001b[0;32m--> 600\u001b[0m         \u001b[38;5;28;01mreturn\u001b[39;00m \u001b[38;5;28;43mself\u001b[39;49m\u001b[38;5;241;43m.\u001b[39;49m\u001b[43m_mul_dispatch\u001b[49m\u001b[43m(\u001b[49m\u001b[43mother\u001b[49m\u001b[43m)\u001b[49m\n\u001b[1;32m    601\u001b[0m     \u001b[38;5;28;01melse\u001b[39;00m:\n\u001b[1;32m    602\u001b[0m         \u001b[38;5;66;03m# Don't use asarray unless we have to\u001b[39;00m\n\u001b[1;32m    603\u001b[0m         \u001b[38;5;28;01mtry\u001b[39;00m:\n",
      "File \u001b[0;32m~/anaconda3/envs/QuantumComputing/lib/python3.9/site-packages/scipy/sparse/_base.py:529\u001b[0m, in \u001b[0;36mspmatrix._mul_dispatch\u001b[0;34m(self, other)\u001b[0m\n\u001b[1;32m    525\u001b[0m         \u001b[38;5;28;01mreturn\u001b[39;00m \u001b[38;5;28mself\u001b[39m\u001b[38;5;241m.\u001b[39m_mul_multivector(other)\n\u001b[1;32m    527\u001b[0m \u001b[38;5;28;01mif\u001b[39;00m isscalarlike(other):\n\u001b[1;32m    528\u001b[0m     \u001b[38;5;66;03m# scalar value\u001b[39;00m\n\u001b[0;32m--> 529\u001b[0m     \u001b[38;5;28;01mreturn\u001b[39;00m \u001b[38;5;28;43mself\u001b[39;49m\u001b[38;5;241;43m.\u001b[39;49m\u001b[43m_mul_scalar\u001b[49m\u001b[43m(\u001b[49m\u001b[43mother\u001b[49m\u001b[43m)\u001b[49m\n\u001b[1;32m    531\u001b[0m \u001b[38;5;28;01mif\u001b[39;00m issparse(other):\n\u001b[1;32m    532\u001b[0m     \u001b[38;5;28;01mif\u001b[39;00m \u001b[38;5;28mself\u001b[39m\u001b[38;5;241m.\u001b[39mshape[\u001b[38;5;241m1\u001b[39m] \u001b[38;5;241m!=\u001b[39m other\u001b[38;5;241m.\u001b[39mshape[\u001b[38;5;241m0\u001b[39m]:\n",
      "File \u001b[0;32m~/anaconda3/envs/QuantumComputing/lib/python3.9/site-packages/scipy/sparse/_data.py:124\u001b[0m, in \u001b[0;36m_data_matrix._mul_scalar\u001b[0;34m(self, other)\u001b[0m\n\u001b[1;32m    123\u001b[0m \u001b[38;5;28;01mdef\u001b[39;00m \u001b[38;5;21m_mul_scalar\u001b[39m(\u001b[38;5;28mself\u001b[39m, other):\n\u001b[0;32m--> 124\u001b[0m     \u001b[38;5;28;01mreturn\u001b[39;00m \u001b[38;5;28mself\u001b[39m\u001b[38;5;241m.\u001b[39m_with_data(\u001b[38;5;28;43mself\u001b[39;49m\u001b[38;5;241;43m.\u001b[39;49m\u001b[43mdata\u001b[49m\u001b[43m \u001b[49m\u001b[38;5;241;43m*\u001b[39;49m\u001b[43m \u001b[49m\u001b[43mother\u001b[49m)\n",
      "File \u001b[0;32m~/anaconda3/envs/QuantumComputing/lib/python3.9/site-packages/sympy/core/decorators.py:94\u001b[0m, in \u001b[0;36m__sympifyit.<locals>.__sympifyit_wrapper\u001b[0;34m(a, b)\u001b[0m\n\u001b[1;32m     90\u001b[0m \u001b[38;5;28;01mtry\u001b[39;00m:\n\u001b[1;32m     91\u001b[0m     \u001b[38;5;66;03m# If an external class has _op_priority, it knows how to deal\u001b[39;00m\n\u001b[1;32m     92\u001b[0m     \u001b[38;5;66;03m# with sympy objects. Otherwise, it must be converted.\u001b[39;00m\n\u001b[1;32m     93\u001b[0m     \u001b[38;5;28;01mif\u001b[39;00m \u001b[38;5;129;01mnot\u001b[39;00m \u001b[38;5;28mhasattr\u001b[39m(b, \u001b[38;5;124m'\u001b[39m\u001b[38;5;124m_op_priority\u001b[39m\u001b[38;5;124m'\u001b[39m):\n\u001b[0;32m---> 94\u001b[0m         b \u001b[38;5;241m=\u001b[39m \u001b[43msympify\u001b[49m\u001b[43m(\u001b[49m\u001b[43mb\u001b[49m\u001b[43m,\u001b[49m\u001b[43m \u001b[49m\u001b[43mstrict\u001b[49m\u001b[38;5;241;43m=\u001b[39;49m\u001b[38;5;28;43;01mTrue\u001b[39;49;00m\u001b[43m)\u001b[49m\n\u001b[1;32m     95\u001b[0m     \u001b[38;5;28;01mreturn\u001b[39;00m func(a, b)\n\u001b[1;32m     96\u001b[0m \u001b[38;5;28;01mexcept\u001b[39;00m SympifyError:\n",
      "File \u001b[0;32m~/anaconda3/envs/QuantumComputing/lib/python3.9/site-packages/sympy/core/sympify.py:361\u001b[0m, in \u001b[0;36msympify\u001b[0;34m(a, locals, convert_xor, strict, rational, evaluate)\u001b[0m\n\u001b[1;32m    359\u001b[0m conv \u001b[38;5;241m=\u001b[39m converter\u001b[38;5;241m.\u001b[39mget(\u001b[38;5;28mcls\u001b[39m, \u001b[38;5;28;01mNone\u001b[39;00m)\n\u001b[1;32m    360\u001b[0m \u001b[38;5;28;01mif\u001b[39;00m conv \u001b[38;5;129;01mis\u001b[39;00m \u001b[38;5;129;01mnot\u001b[39;00m \u001b[38;5;28;01mNone\u001b[39;00m:\n\u001b[0;32m--> 361\u001b[0m     \u001b[38;5;28;01mreturn\u001b[39;00m \u001b[43mconv\u001b[49m\u001b[43m(\u001b[49m\u001b[43ma\u001b[49m\u001b[43m)\u001b[49m\n\u001b[1;32m    363\u001b[0m \u001b[38;5;28;01mfor\u001b[39;00m superclass \u001b[38;5;129;01min\u001b[39;00m getmro(\u001b[38;5;28mcls\u001b[39m):\n\u001b[1;32m    364\u001b[0m     \u001b[38;5;28;01mtry\u001b[39;00m:\n",
      "File \u001b[0;32m~/anaconda3/envs/QuantumComputing/lib/python3.9/site-packages/sympy/core/numbers.py:4087\u001b[0m, in \u001b[0;36msympify_complex\u001b[0;34m(a)\u001b[0m\n\u001b[1;32m   4086\u001b[0m \u001b[38;5;28;01mdef\u001b[39;00m \u001b[38;5;21msympify_complex\u001b[39m(a):\n\u001b[0;32m-> 4087\u001b[0m     real, imag \u001b[38;5;241m=\u001b[39m \u001b[38;5;28;43mlist\u001b[39;49m\u001b[43m(\u001b[49m\u001b[38;5;28;43mmap\u001b[39;49m\u001b[43m(\u001b[49m\u001b[43msympify\u001b[49m\u001b[43m,\u001b[49m\u001b[43m \u001b[49m\u001b[43m(\u001b[49m\u001b[43ma\u001b[49m\u001b[38;5;241;43m.\u001b[39;49m\u001b[43mreal\u001b[49m\u001b[43m,\u001b[49m\u001b[43m \u001b[49m\u001b[43ma\u001b[49m\u001b[38;5;241;43m.\u001b[39;49m\u001b[43mimag\u001b[49m\u001b[43m)\u001b[49m\u001b[43m)\u001b[49m\u001b[43m)\u001b[49m\n\u001b[1;32m   4088\u001b[0m     \u001b[38;5;28;01mreturn\u001b[39;00m real \u001b[38;5;241m+\u001b[39m S\u001b[38;5;241m.\u001b[39mImaginaryUnit\u001b[38;5;241m*\u001b[39mimag\n",
      "File \u001b[0;32m~/anaconda3/envs/QuantumComputing/lib/python3.9/site-packages/sympy/core/sympify.py:361\u001b[0m, in \u001b[0;36msympify\u001b[0;34m(a, locals, convert_xor, strict, rational, evaluate)\u001b[0m\n\u001b[1;32m    359\u001b[0m conv \u001b[38;5;241m=\u001b[39m converter\u001b[38;5;241m.\u001b[39mget(\u001b[38;5;28mcls\u001b[39m, \u001b[38;5;28;01mNone\u001b[39;00m)\n\u001b[1;32m    360\u001b[0m \u001b[38;5;28;01mif\u001b[39;00m conv \u001b[38;5;129;01mis\u001b[39;00m \u001b[38;5;129;01mnot\u001b[39;00m \u001b[38;5;28;01mNone\u001b[39;00m:\n\u001b[0;32m--> 361\u001b[0m     \u001b[38;5;28;01mreturn\u001b[39;00m \u001b[43mconv\u001b[49m\u001b[43m(\u001b[49m\u001b[43ma\u001b[49m\u001b[43m)\u001b[49m\n\u001b[1;32m    363\u001b[0m \u001b[38;5;28;01mfor\u001b[39;00m superclass \u001b[38;5;129;01min\u001b[39;00m getmro(\u001b[38;5;28mcls\u001b[39m):\n\u001b[1;32m    364\u001b[0m     \u001b[38;5;28;01mtry\u001b[39;00m:\n",
      "File \u001b[0;32m~/anaconda3/envs/QuantumComputing/lib/python3.9/site-packages/sympy/core/numbers.py:1107\u001b[0m, in \u001b[0;36mFloat.__new__\u001b[0;34m(***failed resolving arguments***)\u001b[0m\n\u001b[1;32m   1105\u001b[0m num, dps \u001b[38;5;241m=\u001b[39m _decimal_to_Rational_prec(Num)\n\u001b[1;32m   1106\u001b[0m \u001b[38;5;28;01mif\u001b[39;00m num\u001b[38;5;241m.\u001b[39mis_Integer \u001b[38;5;129;01mand\u001b[39;00m isint:\n\u001b[0;32m-> 1107\u001b[0m     dps \u001b[38;5;241m=\u001b[39m \u001b[38;5;28mmax\u001b[39m(dps, \u001b[38;5;28mlen\u001b[39m(\u001b[38;5;28;43mstr\u001b[39;49m\u001b[43m(\u001b[49m\u001b[43mnum\u001b[49m\u001b[43m)\u001b[49m\u001b[38;5;241m.\u001b[39mlstrip(\u001b[38;5;124m'\u001b[39m\u001b[38;5;124m-\u001b[39m\u001b[38;5;124m'\u001b[39m)))\n\u001b[1;32m   1108\u001b[0m dps \u001b[38;5;241m=\u001b[39m \u001b[38;5;28mmax\u001b[39m(\u001b[38;5;241m15\u001b[39m, dps)\n\u001b[1;32m   1109\u001b[0m precision \u001b[38;5;241m=\u001b[39m mlib\u001b[38;5;241m.\u001b[39mlibmpf\u001b[38;5;241m.\u001b[39mdps_to_prec(dps)\n",
      "File \u001b[0;32m~/anaconda3/envs/QuantumComputing/lib/python3.9/site-packages/sympy/core/_print_helpers.py:29\u001b[0m, in \u001b[0;36mPrintable.__str__\u001b[0;34m(self)\u001b[0m\n\u001b[1;32m     27\u001b[0m \u001b[38;5;28;01mdef\u001b[39;00m \u001b[38;5;21m__str__\u001b[39m(\u001b[38;5;28mself\u001b[39m):\n\u001b[1;32m     28\u001b[0m     \u001b[38;5;28;01mfrom\u001b[39;00m \u001b[38;5;21;01msympy\u001b[39;00m\u001b[38;5;21;01m.\u001b[39;00m\u001b[38;5;21;01mprinting\u001b[39;00m\u001b[38;5;21;01m.\u001b[39;00m\u001b[38;5;21;01mstr\u001b[39;00m \u001b[38;5;28;01mimport\u001b[39;00m sstr\n\u001b[0;32m---> 29\u001b[0m     \u001b[38;5;28;01mreturn\u001b[39;00m \u001b[43msstr\u001b[49m\u001b[43m(\u001b[49m\u001b[38;5;28;43mself\u001b[39;49m\u001b[43m,\u001b[49m\u001b[43m \u001b[49m\u001b[43morder\u001b[49m\u001b[38;5;241;43m=\u001b[39;49m\u001b[38;5;28;43;01mNone\u001b[39;49;00m\u001b[43m)\u001b[49m\n",
      "File \u001b[0;32m~/anaconda3/envs/QuantumComputing/lib/python3.9/site-packages/sympy/printing/printer.py:372\u001b[0m, in \u001b[0;36m_PrintFunction.__call__\u001b[0;34m(self, *args, **kwargs)\u001b[0m\n\u001b[1;32m    371\u001b[0m \u001b[38;5;28;01mdef\u001b[39;00m \u001b[38;5;21m__call__\u001b[39m(\u001b[38;5;28mself\u001b[39m, \u001b[38;5;241m*\u001b[39margs, \u001b[38;5;241m*\u001b[39m\u001b[38;5;241m*\u001b[39mkwargs):\n\u001b[0;32m--> 372\u001b[0m     \u001b[38;5;28;01mreturn\u001b[39;00m \u001b[38;5;28;43mself\u001b[39;49m\u001b[38;5;241;43m.\u001b[39;49m\u001b[43m__wrapped__\u001b[49m\u001b[43m(\u001b[49m\u001b[38;5;241;43m*\u001b[39;49m\u001b[43margs\u001b[49m\u001b[43m,\u001b[49m\u001b[43m \u001b[49m\u001b[38;5;241;43m*\u001b[39;49m\u001b[38;5;241;43m*\u001b[39;49m\u001b[43mkwargs\u001b[49m\u001b[43m)\u001b[49m\n",
      "File \u001b[0;32m~/anaconda3/envs/QuantumComputing/lib/python3.9/site-packages/sympy/printing/str.py:986\u001b[0m, in \u001b[0;36msstr\u001b[0;34m(expr, **settings)\u001b[0m\n\u001b[1;32m    969\u001b[0m \u001b[38;5;129m@print_function\u001b[39m(StrPrinter)\n\u001b[1;32m    970\u001b[0m \u001b[38;5;28;01mdef\u001b[39;00m \u001b[38;5;21msstr\u001b[39m(expr, \u001b[38;5;241m*\u001b[39m\u001b[38;5;241m*\u001b[39msettings):\n\u001b[1;32m    971\u001b[0m     \u001b[38;5;124;03m\"\"\"Returns the expression as a string.\u001b[39;00m\n\u001b[1;32m    972\u001b[0m \n\u001b[1;32m    973\u001b[0m \u001b[38;5;124;03m    For large expressions where speed is a concern, use the setting\u001b[39;00m\n\u001b[0;32m   (...)\u001b[0m\n\u001b[1;32m    983\u001b[0m \u001b[38;5;124;03m    'Eq(a + b, 0)'\u001b[39;00m\n\u001b[1;32m    984\u001b[0m \u001b[38;5;124;03m    \"\"\"\u001b[39;00m\n\u001b[0;32m--> 986\u001b[0m     p \u001b[38;5;241m=\u001b[39m \u001b[43mStrPrinter\u001b[49m\u001b[43m(\u001b[49m\u001b[43msettings\u001b[49m\u001b[43m)\u001b[49m\n\u001b[1;32m    987\u001b[0m     s \u001b[38;5;241m=\u001b[39m p\u001b[38;5;241m.\u001b[39mdoprint(expr)\n\u001b[1;32m    989\u001b[0m     \u001b[38;5;28;01mreturn\u001b[39;00m s\n",
      "File \u001b[0;32m~/anaconda3/envs/QuantumComputing/lib/python3.9/site-packages/sympy/printing/printer.py:261\u001b[0m, in \u001b[0;36mPrinter.__init__\u001b[0;34m(self, settings)\u001b[0m\n\u001b[1;32m    258\u001b[0m \u001b[38;5;28;01mdef\u001b[39;00m \u001b[38;5;21m__init__\u001b[39m(\u001b[38;5;28mself\u001b[39m, settings\u001b[38;5;241m=\u001b[39m\u001b[38;5;28;01mNone\u001b[39;00m):\n\u001b[1;32m    259\u001b[0m     \u001b[38;5;28mself\u001b[39m\u001b[38;5;241m.\u001b[39m_str \u001b[38;5;241m=\u001b[39m \u001b[38;5;28mstr\u001b[39m\n\u001b[0;32m--> 261\u001b[0m     \u001b[38;5;28mself\u001b[39m\u001b[38;5;241m.\u001b[39m_settings \u001b[38;5;241m=\u001b[39m \u001b[38;5;28;43mself\u001b[39;49m\u001b[38;5;241;43m.\u001b[39;49m\u001b[43m_get_initial_settings\u001b[49m\u001b[43m(\u001b[49m\u001b[43m)\u001b[49m\n\u001b[1;32m    262\u001b[0m     \u001b[38;5;28mself\u001b[39m\u001b[38;5;241m.\u001b[39m_context \u001b[38;5;241m=\u001b[39m \u001b[38;5;28mdict\u001b[39m()  \u001b[38;5;66;03m# mutable during printing\u001b[39;00m\n\u001b[1;32m    264\u001b[0m     \u001b[38;5;28;01mif\u001b[39;00m settings \u001b[38;5;129;01mis\u001b[39;00m \u001b[38;5;129;01mnot\u001b[39;00m \u001b[38;5;28;01mNone\u001b[39;00m:\n",
      "\u001b[0;31mKeyboardInterrupt\u001b[0m: "
     ]
    }
   ],
   "source": [
    "for cutoff in [2,3,4,5,6,7,8,9,10]:\n",
    "    t=Timer('toHam')\n",
    "    t.start()\n",
    "    hamMat=convert_to_matrix(hoHam,cutoff,N,aops,adags,xs,xdags)\n",
    "    t.stop()\n",
    "    \n",
    "    t=Timer('evals')\n",
    "    t.start()\n",
    "    ens=scipy.sparse.linalg.eigs(hamMat,k=10,sigma=0)[0]\n",
    "    t.stop()\n",
    "    \n",
    "    print(\"Lambda = \",cutoff)\n",
    "    print(ens)\n",
    "    print()"
   ]
  },
  {
   "cell_type": "code",
   "execution_count": null,
   "id": "1a341691-feef-4418-82e9-8376be1f2f52",
   "metadata": {},
   "outputs": [],
   "source": []
  }
 ],
 "metadata": {
  "kernelspec": {
   "display_name": "QuantumComputing",
   "language": "python",
   "name": "python3"
  },
  "language_info": {
   "codemirror_mode": {
    "name": "ipython",
    "version": 3
   },
   "file_extension": ".py",
   "mimetype": "text/x-python",
   "name": "python",
   "nbconvert_exporter": "python",
   "pygments_lexer": "ipython3",
   "version": "3.10.8 (main, Nov 24 2022, 14:13:03) [GCC 11.2.0]"
  },
  "vscode": {
   "interpreter": {
    "hash": "dfc1513c9f5f8583c962b570c720f173469c60e3f15ab7ebf484195cbf280654"
   }
  }
 },
 "nbformat": 4,
 "nbformat_minor": 5
}
