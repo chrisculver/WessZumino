{
 "cells": [
  {
   "cell_type": "code",
   "execution_count": 1,
   "metadata": {},
   "outputs": [],
   "source": [
    "%load_ext autoreload\n",
    "%autoreload 2"
   ]
  },
  {
   "cell_type": "code",
   "execution_count": 18,
   "metadata": {},
   "outputs": [],
   "source": [
    "sys.path.append('..')\n",
    "from src.ham_to_sparse_matrix import *\n",
    "from src.constants import *\n",
    "from src.matrix_to_ps import matrix_to_pauli_strings\n",
    "from src.binary_encodings import *\n",
    "\n",
    "import sympy as sp\n",
    "import sys\n",
    "import scipy.sparse.linalg"
   ]
  },
  {
   "cell_type": "code",
   "execution_count": 19,
   "metadata": {},
   "outputs": [],
   "source": [
    "bosonNI=sp.expand( pn**2/(2*aLat) + (aLat/2)*((qnP1-qnM1)/(2*aLat))**2 )\n",
    "bosonI=sp.expand( (aLat/2)*V(qn)**2 + aLat*V(qn)*(qnP1-qnM1)/(4*aLat) + aLat*(qnP1-qnM1)*V(qn)/(4*aLat) )\n",
    "fermionNI=sp.expand( -(xdnP1*xn+xdn*xnP1)/(2*aLat) )\n",
    "fermionI=sp.expand( sp.diff(V(qn),qn)*(xdn*xn-(1/2)) )"
   ]
  },
  {
   "cell_type": "code",
   "execution_count": 20,
   "metadata": {},
   "outputs": [],
   "source": [
    "N=3\n",
    "aVal=1\n",
    "\n",
    "# depends on finite-difference method\n",
    "qs=[SiteSymbol('q',str(i)) for i in range(-1,N+1,1)]\n",
    "# maybe make qs a normal site list\n",
    "# and make an extra boundaryQs list for q[-1], q[N]\n",
    "# counting would be normal computer science way for rest of code.\n",
    "\n",
    "ps=[SiteSymbol('p',str(i)) for i in range(-1,N+1,1)] # don't really need extras\n",
    "aops=[SiteSymbol('a',str(i)) for i in range(-1,N+1,1)]\n",
    "adags=[SiteSymbol('a^{\\dagger}',str(i)) for i in range(-1,N+1,1)]\n",
    "xs=[SiteSymbol('\\chi',str(i)) for i in range(-1,N+1,1)]\n",
    "xdags=[SiteSymbol('\\chi^{\\dagger}',str(i)) for i in range(-1,N+1,1)]\n",
    "\n",
    "# note this is exactly hardcoded for this finite difference method.\n",
    "bcType = 'dirichlet'\n",
    "boundaryConditions = {}\n",
    "if bcType == 'periodic':\n",
    "    boundaryConditions = {qs[0]: qs[N], qs[N+1]: qs[1],\n",
    "                          xs[0]: -xs[N], xs[N+1]: -xs[1], \n",
    "                          xdags[0]: -xdags[N],  xdags[N+1]: -xdags[1]\n",
    "                         }\n",
    "    \n",
    "elif bcType == 'dirichlet':\n",
    "    boundaryConditions = { qs[0]: 0, qs[N+1]: 0,\n",
    "                          xs[0]: 0, xs[N+1]: 0,\n",
    "                          xdags[0]: 0, xdags[N+1]:0\n",
    "                         }"
   ]
  },
  {
   "cell_type": "code",
   "execution_count": 21,
   "metadata": {},
   "outputs": [
    {
     "data": {
      "text/latex": [
       "$\\displaystyle -0.5 + \\chi^{\\dagger}_{0} \\chi_{0} - \\frac{\\chi^{\\dagger}_{0} \\chi_{1}}{2} - \\frac{\\chi^{\\dagger}_{1} \\chi_{0}}{2} - \\chi^{\\dagger}_{1} \\chi_{1} - \\frac{\\chi^{\\dagger}_{1} \\chi_{2}}{2} - \\frac{\\chi^{\\dagger}_{2} \\chi_{1}}{2} + \\chi^{\\dagger}_{2} \\chi_{2} + \\frac{p_{0}^{2}}{2} + \\frac{p_{1}^{2}}{2} + \\frac{p_{2}^{2}}{2} - \\frac{q_{0} q_{2}}{8} + \\frac{5 q_{0}^{2}}{8} + \\frac{3 q_{1}^{2}}{4} - \\frac{q_{2} q_{0}}{8} + \\frac{5 q_{2}^{2}}{8}$"
      ],
      "text/plain": [
       "-0.5 + \\chi^{\\dagger}_{0}*\\chi_{0} - \\chi^{\\dagger}_{0}*\\chi_{1}/2 - \\chi^{\\dagger}_{1}*\\chi_{0}/2 - \\chi^{\\dagger}_{1}*\\chi_{1} - \\chi^{\\dagger}_{1}*\\chi_{2}/2 - \\chi^{\\dagger}_{2}*\\chi_{1}/2 + \\chi^{\\dagger}_{2}*\\chi_{2} + p_{0}**2/2 + p_{1}**2/2 + p_{2}**2/2 - q_{0}*q_{2}/8 + 5*q_{0}**2/8 + 3*q_{1}**2/4 - q_{2}*q_{0}/8 + 5*q_{2}**2/8"
      ]
     },
     "execution_count": 21,
     "metadata": {},
     "output_type": "execute_result"
    }
   ],
   "source": [
    "ham=0\n",
    "\n",
    "mass=1\n",
    "\n",
    "for i in range(1,N+1):\n",
    "    ham+=(bosonNI+bosonI+fermionNI).subs({\n",
    "        pn: ps[i],\n",
    "        qn: qs[i], qnP1: qs[i+1], qnM1: qs[i-1],\n",
    "        xn: xs[i], xnP1: xs[i+1],\n",
    "        xdn: xdags[i], xdnP1: xdags[i+1]\n",
    "    }).subs(boundaryConditions)\n",
    "\n",
    "def potential(n):\n",
    "    # m*q with m=1\n",
    "    return -mass*qs[n]\n",
    "\n",
    "potentialSubs={}\n",
    "for n in range(1,N+1):\n",
    "    potentialSubs[V(qs[n])]=potential(n)\n",
    "\n",
    "\n",
    "ham=sp.simplify(ham.subs(potentialSubs).subs(aLat,aVal))\n",
    "\n",
    "for i in range(1,N+1):\n",
    "    if i%2==0:\n",
    "        ham+=sp.simplify(fermionI.subs({qn: qs[i], xn: xs[i], xdn: xdags[i]}).subs(potentialSubs))\n",
    "    else:\n",
    "        ham-=sp.simplify(fermionI.subs({qn: qs[i], xn: xs[i], xdn: xdags[i]}).subs(potentialSubs))\n",
    "ham=sp.simplify(ham.subs(aLat,aVal))\n",
    "sp.expand(ham)"
   ]
  },
  {
   "cell_type": "code",
   "execution_count": 22,
   "metadata": {},
   "outputs": [
    {
     "data": {
      "text/latex": [
       "$\\displaystyle - \\frac{1}{2} + \\chi^{\\dagger}_{0} \\chi_{0} - \\frac{\\chi^{\\dagger}_{0} \\chi_{1}}{2} - \\frac{\\chi^{\\dagger}_{1} \\chi_{0}}{2} - \\chi^{\\dagger}_{1} \\chi_{1} - \\frac{\\chi^{\\dagger}_{1} \\chi_{2}}{2} - \\frac{\\chi^{\\dagger}_{2} \\chi_{1}}{2} + \\chi^{\\dagger}_{2} \\chi_{2} - \\frac{a^{\\dagger}_{0} a^{\\dagger}_{2}}{16} + \\frac{9 a^{\\dagger}_{0} a_{0}}{16} - \\frac{a^{\\dagger}_{0} a_{2}}{16} + \\frac{\\left(a^{\\dagger}_{0}\\right)^{2}}{16} + \\frac{5 a^{\\dagger}_{1} a_{1}}{8} + \\frac{\\left(a^{\\dagger}_{1}\\right)^{2}}{8} - \\frac{a^{\\dagger}_{2} a^{\\dagger}_{0}}{16} - \\frac{a^{\\dagger}_{2} a_{0}}{16} + \\frac{9 a^{\\dagger}_{2} a_{2}}{16} + \\frac{\\left(a^{\\dagger}_{2}\\right)^{2}}{16} + \\frac{9 a_{0} a^{\\dagger}_{0}}{16} - \\frac{a_{0} a^{\\dagger}_{2}}{16} - \\frac{a_{0} a_{2}}{16} + \\frac{a_{0}^{2}}{16} + \\frac{5 a_{1} a^{\\dagger}_{1}}{8} + \\frac{a_{1}^{2}}{8} - \\frac{a_{2} a^{\\dagger}_{0}}{16} + \\frac{9 a_{2} a^{\\dagger}_{2}}{16} - \\frac{a_{2} a_{0}}{16} + \\frac{a_{2}^{2}}{16}$"
      ],
      "text/plain": [
       "-1/2 + \\chi^{\\dagger}_{0}*\\chi_{0} - \\chi^{\\dagger}_{0}*\\chi_{1}/2 - \\chi^{\\dagger}_{1}*\\chi_{0}/2 - \\chi^{\\dagger}_{1}*\\chi_{1} - \\chi^{\\dagger}_{1}*\\chi_{2}/2 - \\chi^{\\dagger}_{2}*\\chi_{1}/2 + \\chi^{\\dagger}_{2}*\\chi_{2} - a^{\\dagger}_{0}*a^{\\dagger}_{2}/16 + 9*a^{\\dagger}_{0}*a_{0}/16 - a^{\\dagger}_{0}*a_{2}/16 + a^{\\dagger}_{0}**2/16 + 5*a^{\\dagger}_{1}*a_{1}/8 + a^{\\dagger}_{1}**2/8 - a^{\\dagger}_{2}*a^{\\dagger}_{0}/16 - a^{\\dagger}_{2}*a_{0}/16 + 9*a^{\\dagger}_{2}*a_{2}/16 + a^{\\dagger}_{2}**2/16 + 9*a_{0}*a^{\\dagger}_{0}/16 - a_{0}*a^{\\dagger}_{2}/16 - a_{0}*a_{2}/16 + a_{0}**2/16 + 5*a_{1}*a^{\\dagger}_{1}/8 + a_{1}**2/8 - a_{2}*a^{\\dagger}_{0}/16 + 9*a_{2}*a^{\\dagger}_{2}/16 - a_{2}*a_{0}/16 + a_{2}**2/16"
      ]
     },
     "execution_count": 22,
     "metadata": {},
     "output_type": "execute_result"
    }
   ],
   "source": [
    "m=1\n",
    "\n",
    "HOdofSubs = {}\n",
    "#offset because of BC\n",
    "for i in range(1,N+1):\n",
    "    HOdofSubs[qs[i]] = 0.5*sp.sqrt(2/m)*(aops[i] + adags[i])\n",
    "    HOdofSubs[ps[i]] = complex(0,1)*sp.sqrt(2*m)*(adags[i] - aops[i])/2 \n",
    "\n",
    "hoHam=sp.expand(ham.subs(HOdofSubs))\n",
    "hoHam=sp.nsimplify(hoHam,tolerance=1e-8)\n",
    "hoHam"
   ]
  },
  {
   "cell_type": "code",
   "execution_count": 74,
   "metadata": {},
   "outputs": [],
   "source": [
    "cutoff=4\n",
    "hamMat=convert_to_matrix(hoHam,cutoff,N,aops,adags,xs,xdags)"
   ]
  },
  {
   "cell_type": "code",
   "execution_count": 75,
   "metadata": {},
   "outputs": [
    {
     "data": {
      "text/plain": [
       "<512x512 sparse matrix of type '<class 'numpy.complex64'>'\n",
       "\twith 3712 stored elements in Compressed Sparse Row format>"
      ]
     },
     "execution_count": 75,
     "metadata": {},
     "output_type": "execute_result"
    }
   ],
   "source": [
    "hamMat"
   ]
  },
  {
   "cell_type": "code",
   "execution_count": 76,
   "metadata": {},
   "outputs": [
    {
     "name": "stdout",
     "output_type": "stream",
     "text": [
      "[1.17475014e-04+1.2479106e-13j 9.07817423e-01-3.5399005e-08j\n",
      " 9.56369638e-01-6.2195658e-09j 1.00011611e+00+3.2164027e-10j\n",
      " 1.03278172e+00+1.5129196e-09j 1.21190751e+00+1.0476639e-08j\n",
      " 1.31557298e+00-1.0535340e-08j 1.56874096e+00-4.9989950e-08j\n",
      " 1.22486067e+00+5.7678302e-09j 1.22486341e+00+1.4328487e-08j]\n"
     ]
    }
   ],
   "source": [
    "ens=scipy.sparse.linalg.eigs(hamMat,k=10,sigma=0.0)[0]\n",
    "print(ens)"
   ]
  },
  {
   "cell_type": "code",
   "execution_count": null,
   "metadata": {},
   "outputs": [],
   "source": []
  },
  {
   "cell_type": "code",
   "execution_count": 77,
   "metadata": {},
   "outputs": [],
   "source": [
    "from src.qiskit_utilities import pauli_string_to_op\n",
    "from qiskit import Aer\n",
    "from qiskit.utils import QuantumInstance\n",
    "\n",
    "from qiskit.algorithms import VQE\n",
    "from qiskit.algorithms.optimizers import COBYLA\n",
    "from qiskit.circuit.library import RealAmplitudes\n",
    "\n",
    "\n",
    "backend = Aer.get_backend('statevector_simulator')\n",
    "qinstance = QuantumInstance(backend, seed_simulator=2, seed_transpiler=2)\n"
   ]
  },
  {
   "cell_type": "code",
   "execution_count": 78,
   "metadata": {},
   "outputs": [
    {
     "name": "stdout",
     "output_type": "stream",
     "text": [
      "(0.23035518623524737+0j)\n"
     ]
    }
   ],
   "source": [
    "ps=matrix_to_pauli_strings(hamMat,standard_encode)\n",
    "op = pauli_string_to_op(ps)"
   ]
  },
  {
   "cell_type": "code",
   "execution_count": 80,
   "metadata": {},
   "outputs": [
    {
     "name": "stdout",
     "output_type": "stream",
     "text": [
      "(0.23087208062867912+0j)\n"
     ]
    }
   ],
   "source": [
    "ansatz = RealAmplitudes((N**cutoff)*(N**2), reps=3)\n",
    "vqe = VQE(ansatz=ansatz, optimizer=COBYLA(), quantum_instance=qinstance)\n",
    "result = vqe.compute_minimum_eigenvalue(op)\n",
    "print(result.eigenvalue)"
   ]
  },
  {
   "cell_type": "code",
   "execution_count": null,
   "metadata": {},
   "outputs": [],
   "source": []
  }
 ],
 "metadata": {
  "kernelspec": {
   "display_name": "QuantumComputing",
   "language": "python",
   "name": "python3"
  },
  "language_info": {
   "codemirror_mode": {
    "name": "ipython",
    "version": 3
   },
   "file_extension": ".py",
   "mimetype": "text/x-python",
   "name": "python",
   "nbconvert_exporter": "python",
   "pygments_lexer": "ipython3",
   "version": "3.10.8"
  },
  "orig_nbformat": 4,
  "vscode": {
   "interpreter": {
    "hash": "dfc1513c9f5f8583c962b570c720f173469c60e3f15ab7ebf484195cbf280654"
   }
  }
 },
 "nbformat": 4,
 "nbformat_minor": 2
}
