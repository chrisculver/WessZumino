{
 "cells": [
  {
   "cell_type": "code",
   "execution_count": 1,
   "metadata": {},
   "outputs": [],
   "source": [
    "%load_ext autoreload\n",
    "%autoreload 2"
   ]
  },
  {
   "cell_type": "code",
   "execution_count": 2,
   "metadata": {},
   "outputs": [],
   "source": [
    "sys.path.append('..')\n",
    "from src.ham_to_sparse_matrix import *\n",
    "from src.constants import *\n",
    "from src.matrix_to_ps import matrix_to_pauli_strings\n",
    "from src.binary_encodings import *\n",
    "\n",
    "import sympy as sp\n",
    "import sys\n",
    "import scipy.sparse.linalg"
   ]
  },
  {
   "cell_type": "code",
   "execution_count": 3,
   "metadata": {},
   "outputs": [],
   "source": [
    "bosonNI=sp.expand( pn**2/(2*aLat) + (aLat/2)*((qnP1-qnM1)/(2*aLat))**2 )\n",
    "bosonI=sp.expand( (aLat/2)*V(qn)**2 + aLat*V(qn)*(qnP1-qnM1)/(4*aLat) + aLat*(qnP1-qnM1)*V(qn)/(4*aLat) )\n",
    "fermionNI=sp.expand( -(xdnP1*xn+xdn*xnP1)/(2*aLat) )\n",
    "fermionI=sp.expand( sp.diff(V(qn),qn)*(xdn*xn-(1/2)) )"
   ]
  },
  {
   "cell_type": "code",
   "execution_count": 4,
   "metadata": {},
   "outputs": [],
   "source": [
    "N=3\n",
    "aVal=1\n",
    "\n",
    "# depends on finite-difference method\n",
    "qs=[SiteSymbol('q',str(i)) for i in range(-1,N+1,1)]\n",
    "# maybe make qs a normal site list\n",
    "# and make an extra boundaryQs list for q[-1], q[N]\n",
    "# counting would be normal computer science way for rest of code.\n",
    "\n",
    "ps=[SiteSymbol('p',str(i)) for i in range(-1,N+1,1)] # don't really need extras\n",
    "aops=[SiteSymbol('a',str(i)) for i in range(-1,N+1,1)]\n",
    "adags=[SiteSymbol('a^{\\dagger}',str(i)) for i in range(-1,N+1,1)]\n",
    "xs=[SiteSymbol('\\chi',str(i)) for i in range(-1,N+1,1)]\n",
    "xdags=[SiteSymbol('\\chi^{\\dagger}',str(i)) for i in range(-1,N+1,1)]\n",
    "\n",
    "# note this is exactly hardcoded for this finite difference method.\n",
    "bcType = 'dirichlet'\n",
    "boundaryConditions = {}\n",
    "if bcType == 'periodic':\n",
    "    boundaryConditions = {qs[0]: qs[N], qs[N+1]: qs[1],\n",
    "                          xs[0]: -xs[N], xs[N+1]: -xs[1], \n",
    "                          xdags[0]: -xdags[N],  xdags[N+1]: -xdags[1]\n",
    "                         }\n",
    "    \n",
    "elif bcType == 'dirichlet':\n",
    "    boundaryConditions = { qs[0]: 0, qs[N+1]: 0,\n",
    "                          xs[0]: 0, xs[N+1]: 0,\n",
    "                          xdags[0]: 0, xdags[N+1]:0\n",
    "                         }"
   ]
  },
  {
   "cell_type": "code",
   "execution_count": 5,
   "metadata": {},
   "outputs": [
    {
     "data": {
      "text/latex": [
       "$\\displaystyle -0.5 + \\chi^{\\dagger}_{0} \\chi_{0} - \\frac{\\chi^{\\dagger}_{0} \\chi_{1}}{2} - \\frac{\\chi^{\\dagger}_{1} \\chi_{0}}{2} - \\chi^{\\dagger}_{1} \\chi_{1} - \\frac{\\chi^{\\dagger}_{1} \\chi_{2}}{2} - \\frac{\\chi^{\\dagger}_{2} \\chi_{1}}{2} + \\chi^{\\dagger}_{2} \\chi_{2} + \\frac{p_{0}^{2}}{2} + \\frac{p_{1}^{2}}{2} + \\frac{p_{2}^{2}}{2} - \\frac{q_{0} q_{2}}{8} + \\frac{5 q_{0}^{2}}{8} + \\frac{3 q_{1}^{2}}{4} - \\frac{q_{2} q_{0}}{8} + \\frac{5 q_{2}^{2}}{8}$"
      ],
      "text/plain": [
       "-0.5 + \\chi^{\\dagger}_{0}*\\chi_{0} - \\chi^{\\dagger}_{0}*\\chi_{1}/2 - \\chi^{\\dagger}_{1}*\\chi_{0}/2 - \\chi^{\\dagger}_{1}*\\chi_{1} - \\chi^{\\dagger}_{1}*\\chi_{2}/2 - \\chi^{\\dagger}_{2}*\\chi_{1}/2 + \\chi^{\\dagger}_{2}*\\chi_{2} + p_{0}**2/2 + p_{1}**2/2 + p_{2}**2/2 - q_{0}*q_{2}/8 + 5*q_{0}**2/8 + 3*q_{1}**2/4 - q_{2}*q_{0}/8 + 5*q_{2}**2/8"
      ]
     },
     "execution_count": 5,
     "metadata": {},
     "output_type": "execute_result"
    }
   ],
   "source": [
    "ham=0\n",
    "\n",
    "mass=1\n",
    "\n",
    "for i in range(1,N+1):\n",
    "    ham+=(bosonNI+bosonI+fermionNI).subs({\n",
    "        pn: ps[i],\n",
    "        qn: qs[i], qnP1: qs[i+1], qnM1: qs[i-1],\n",
    "        xn: xs[i], xnP1: xs[i+1],\n",
    "        xdn: xdags[i], xdnP1: xdags[i+1]\n",
    "    }).subs(boundaryConditions)\n",
    "\n",
    "def potential(n):\n",
    "    # m*q with m=1\n",
    "    return -mass*qs[n]\n",
    "\n",
    "potentialSubs={}\n",
    "for n in range(1,N+1):\n",
    "    potentialSubs[V(qs[n])]=potential(n)\n",
    "\n",
    "\n",
    "ham=sp.simplify(ham.subs(potentialSubs).subs(aLat,aVal))\n",
    "\n",
    "for i in range(1,N+1):\n",
    "    if i%2==0:\n",
    "        ham+=sp.simplify(fermionI.subs({qn: qs[i], xn: xs[i], xdn: xdags[i]}).subs(potentialSubs))\n",
    "    else:\n",
    "        ham-=sp.simplify(fermionI.subs({qn: qs[i], xn: xs[i], xdn: xdags[i]}).subs(potentialSubs))\n",
    "ham=sp.simplify(ham.subs(aLat,aVal))\n",
    "sp.expand(ham)"
   ]
  },
  {
   "cell_type": "code",
   "execution_count": 6,
   "metadata": {},
   "outputs": [
    {
     "data": {
      "text/latex": [
       "$\\displaystyle - \\frac{1}{2} + \\chi^{\\dagger}_{0} \\chi_{0} - \\frac{\\chi^{\\dagger}_{0} \\chi_{1}}{2} - \\frac{\\chi^{\\dagger}_{1} \\chi_{0}}{2} - \\chi^{\\dagger}_{1} \\chi_{1} - \\frac{\\chi^{\\dagger}_{1} \\chi_{2}}{2} - \\frac{\\chi^{\\dagger}_{2} \\chi_{1}}{2} + \\chi^{\\dagger}_{2} \\chi_{2} - \\frac{a^{\\dagger}_{0} a^{\\dagger}_{2}}{16} + \\frac{9 a^{\\dagger}_{0} a_{0}}{16} - \\frac{a^{\\dagger}_{0} a_{2}}{16} + \\frac{\\left(a^{\\dagger}_{0}\\right)^{2}}{16} + \\frac{5 a^{\\dagger}_{1} a_{1}}{8} + \\frac{\\left(a^{\\dagger}_{1}\\right)^{2}}{8} - \\frac{a^{\\dagger}_{2} a^{\\dagger}_{0}}{16} - \\frac{a^{\\dagger}_{2} a_{0}}{16} + \\frac{9 a^{\\dagger}_{2} a_{2}}{16} + \\frac{\\left(a^{\\dagger}_{2}\\right)^{2}}{16} + \\frac{9 a_{0} a^{\\dagger}_{0}}{16} - \\frac{a_{0} a^{\\dagger}_{2}}{16} - \\frac{a_{0} a_{2}}{16} + \\frac{a_{0}^{2}}{16} + \\frac{5 a_{1} a^{\\dagger}_{1}}{8} + \\frac{a_{1}^{2}}{8} - \\frac{a_{2} a^{\\dagger}_{0}}{16} + \\frac{9 a_{2} a^{\\dagger}_{2}}{16} - \\frac{a_{2} a_{0}}{16} + \\frac{a_{2}^{2}}{16}$"
      ],
      "text/plain": [
       "-1/2 + \\chi^{\\dagger}_{0}*\\chi_{0} - \\chi^{\\dagger}_{0}*\\chi_{1}/2 - \\chi^{\\dagger}_{1}*\\chi_{0}/2 - \\chi^{\\dagger}_{1}*\\chi_{1} - \\chi^{\\dagger}_{1}*\\chi_{2}/2 - \\chi^{\\dagger}_{2}*\\chi_{1}/2 + \\chi^{\\dagger}_{2}*\\chi_{2} - a^{\\dagger}_{0}*a^{\\dagger}_{2}/16 + 9*a^{\\dagger}_{0}*a_{0}/16 - a^{\\dagger}_{0}*a_{2}/16 + a^{\\dagger}_{0}**2/16 + 5*a^{\\dagger}_{1}*a_{1}/8 + a^{\\dagger}_{1}**2/8 - a^{\\dagger}_{2}*a^{\\dagger}_{0}/16 - a^{\\dagger}_{2}*a_{0}/16 + 9*a^{\\dagger}_{2}*a_{2}/16 + a^{\\dagger}_{2}**2/16 + 9*a_{0}*a^{\\dagger}_{0}/16 - a_{0}*a^{\\dagger}_{2}/16 - a_{0}*a_{2}/16 + a_{0}**2/16 + 5*a_{1}*a^{\\dagger}_{1}/8 + a_{1}**2/8 - a_{2}*a^{\\dagger}_{0}/16 + 9*a_{2}*a^{\\dagger}_{2}/16 - a_{2}*a_{0}/16 + a_{2}**2/16"
      ]
     },
     "execution_count": 6,
     "metadata": {},
     "output_type": "execute_result"
    }
   ],
   "source": [
    "m=1\n",
    "\n",
    "HOdofSubs = {}\n",
    "#offset because of BC\n",
    "for i in range(1,N+1):\n",
    "    HOdofSubs[qs[i]] = 0.5*sp.sqrt(2/m)*(aops[i] + adags[i])\n",
    "    HOdofSubs[ps[i]] = complex(0,1)*sp.sqrt(2*m)*(adags[i] - aops[i])/2 \n",
    "\n",
    "hoHam=sp.expand(ham.subs(HOdofSubs))\n",
    "hoHam=sp.nsimplify(hoHam,tolerance=1e-8)\n",
    "hoHam"
   ]
  },
  {
   "cell_type": "code",
   "execution_count": null,
   "metadata": {},
   "outputs": [],
   "source": []
  },
  {
   "cell_type": "code",
   "execution_count": 75,
   "metadata": {},
   "outputs": [
    {
     "data": {
      "text/plain": [
       "<512x512 sparse matrix of type '<class 'numpy.complex64'>'\n",
       "\twith 3712 stored elements in Compressed Sparse Row format>"
      ]
     },
     "execution_count": 75,
     "metadata": {},
     "output_type": "execute_result"
    }
   ],
   "source": [
    "hamMat"
   ]
  },
  {
   "cell_type": "code",
   "execution_count": 7,
   "metadata": {},
   "outputs": [],
   "source": [
    "from src.qiskit_utilities import pauli_string_to_op\n",
    "from qiskit import Aer\n",
    "from qiskit.utils import QuantumInstance\n",
    "\n",
    "from qiskit.algorithms import VQE\n",
    "from qiskit.algorithms.optimizers import COBYLA\n",
    "from qiskit.circuit.library import RealAmplitudes"
   ]
  },
  {
   "cell_type": "code",
   "execution_count": 9,
   "metadata": {},
   "outputs": [
    {
     "name": "stdout",
     "output_type": "stream",
     "text": [
      "--------- Lambda =  2  ----------\n",
      "[-0.09974489-3.4929865e-10j -0.09974487-1.3549194e-09j\n",
      " -0.09974489-1.9968824e-10j -0.09974477-3.5508591e-10j\n",
      "  0.15025511-6.3905077e-09j  0.15025507-5.3012017e-09j]\n",
      "(-0.09497856898149475+0j)\n",
      "2 & -9.97e-02-3.49e-10j & -9.50e-02+0.00e+00j \\\\\n",
      "--------- Lambda =  3  ----------\n",
      "[-0.05103881+1.3915899e-10j  0.51277786+1.9896474e-08j\n",
      "  0.5412193 +3.3501140e-09j  0.6670306 -1.1735979e-09j\n",
      "  0.9489601 -9.0527630e-09j  0.9615373 +6.7003536e-09j]\n",
      "(0.000608018119855729+0j)\n",
      "3 & -5.10e-02+1.39e-10j & 6.08e-04+0.00e+00j \\\\\n",
      "--------- Lambda =  4  ----------\n",
      "[1.1747504e-04-4.2573917e-12j 9.0781546e-01-1.2834692e-08j\n",
      " 9.5637053e-01-3.4315125e-08j 1.0001174e+00+1.0006955e-08j\n",
      " 1.0327833e+00-5.2724429e-09j 1.2119056e+00-4.2428738e-08j]\n",
      "(0.22772368176133145+0j)\n",
      "4 & 1.17e-04-4.26e-12j & 2.28e-01+0.00e+00j \\\\\n",
      "--------- Lambda =  5  ----------\n",
      "[-3.5618120e-04-1.1430382e-11j  9.9956614e-01+2.2216037e-08j\n",
      "  9.9964273e-01-1.4828714e-08j  1.2239851e+00+5.3151389e-10j\n",
      "  1.2243878e+00+2.3317662e-08j  1.2243882e+00-1.8251154e-09j]\n"
     ]
    },
    {
     "ename": "",
     "evalue": "",
     "output_type": "error",
     "traceback": [
      "\u001b[1;31mThe Kernel crashed while executing code in the the current cell or a previous cell. Please review the code in the cell(s) to identify a possible cause of the failure. Click <a href='https://aka.ms/vscodeJupyterKernelCrash'>here</a> for more info. View Jupyter <a href='command:jupyter.viewOutput'>log</a> for further details."
     ]
    },
    {
     "ename": "",
     "evalue": "",
     "output_type": "error",
     "traceback": [
      "\u001b[1;31mCanceled future for execute_request message before replies were done"
     ]
    }
   ],
   "source": [
    "for cutoff in [2,3,4,5,6]:\n",
    "    print(\"--------- Lambda = \", cutoff, \" ----------\")\n",
    "    hamMat=convert_to_matrix(hoHam,cutoff,N,aops,adags,xs,xdags)\n",
    "    ens=scipy.sparse.linalg.eigs(hamMat,k=6,sigma=0.0)[0]\n",
    "    print(ens)\n",
    "\n",
    "\n",
    "    backend = Aer.get_backend('statevector_simulator')\n",
    "    qinstance = QuantumInstance(backend, seed_simulator=2, seed_transpiler=2)\n",
    "\n",
    "    ps=matrix_to_pauli_strings(hamMat,standard_encode)\n",
    "    op = pauli_string_to_op(ps)\n",
    "\n",
    "    ansatz = RealAmplitudes((cutoff**N)*(2**N), reps=cutoff)\n",
    "    vqe = VQE(ansatz=ansatz, optimizer=COBYLA(), quantum_instance=qinstance)\n",
    "    result = vqe.compute_minimum_eigenvalue(op)\n",
    "    print(result.eigenvalue)\n",
    "\n",
    "\n",
    "    print(\"{} & {:.2e} & {:.2e} \\\\\\\\\".format(cutoff, np.min(ens), result.eigenvalue))"
   ]
  },
  {
   "cell_type": "code",
   "execution_count": 77,
   "metadata": {},
   "outputs": [],
   "source": []
  },
  {
   "cell_type": "code",
   "execution_count": null,
   "metadata": {},
   "outputs": [],
   "source": []
  }
 ],
 "metadata": {
  "kernelspec": {
   "display_name": "QuantumComputing",
   "language": "python",
   "name": "python3"
  },
  "language_info": {
   "codemirror_mode": {
    "name": "ipython",
    "version": 3
   },
   "file_extension": ".py",
   "mimetype": "text/x-python",
   "name": "python",
   "nbconvert_exporter": "python",
   "pygments_lexer": "ipython3",
   "version": "3.10.8 (main, Nov 24 2022, 14:13:03) [GCC 11.2.0]"
  },
  "orig_nbformat": 4,
  "vscode": {
   "interpreter": {
    "hash": "dfc1513c9f5f8583c962b570c720f173469c60e3f15ab7ebf484195cbf280654"
   }
  }
 },
 "nbformat": 4,
 "nbformat_minor": 2
}
