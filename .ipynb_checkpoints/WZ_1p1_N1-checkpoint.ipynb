{
 "cells": [
  {
   "cell_type": "markdown",
   "metadata": {},
   "source": [
    "# Wess Zumino \n",
    "\n",
    "## N=1 in 1+1\n",
    "\n",
    "The Hamiltonian with a central difference for the derivative is given by \n",
    "\n",
    "\\begin{align}\n",
    "    H=\\sum_n&\\left[ \\frac{p_n^2}{2a} + \\frac{a}{2}\\left(\\frac{\\phi_{n+1}-\\phi_{n-1}}{2a}\\right)^2+\\frac{a}{2}V(\\phi_n)^2\n",
    "            +aV(\\phi_n)\\frac{\\phi_{n+1}-\\phi_{n-1}}{2a} \\right. \\nonumber \\\\\n",
    "            &\\left.+(-1)^nV'(\\phi_n)\\left(\\chi_n^{\\dagger}\\chi_n-\\frac{1}{2}\\right)\n",
    "            +\\frac{1}{2a}\\left(\\chi_n^{\\dagger}\\chi_{n+1}+\\chi_{n+1}^{\\dagger}\\chi_n\\right) \\right],\n",
    "\\end{align}"
   ]
  },
  {
   "cell_type": "code",
   "execution_count": 1,
   "metadata": {},
   "outputs": [],
   "source": [
    "import sympy as sp\n",
    "from sympy_utils import *\n",
    "\n",
    "#pn, qn, qnP1, qnM1 = sp.symbols('p_n, q_n, q_{n+1}, q_{n-1}', commutative=False)\n",
    "#xn, xdn, xnP1, xdnP1 = sp.symbols('\\chi_n', '\\chi^{\\dagger}_n', '\\chi_{n+1}', '\\chi^{\\dagger}_{n+1}')\n",
    "n=sp.symbols('n')\n",
    "aLat=sp.symbols('a')\n",
    "V=sp.Function('V')\n",
    "p=sp.IndexedBase('p',commutative=False)\n",
    "q=sp.IndexedBase('q',commutative=False)\n",
    "x=sp.IndexedBase('\\chi',commutative=False)\n",
    "xd=sp.IndexedBase('\\chi^{\\dagger}',commutative=False)"
   ]
  },
  {
   "cell_type": "code",
   "execution_count": 2,
   "metadata": {},
   "outputs": [],
   "source": [
    "bosonNI=sp.expand( p[n]**2/(2*aLat) + ((aLat/2)*(q[n+1]-q[n-1])/(2*aLat))**2 )\n",
    "bosonI=sp.expand( (aLat/2)*V(q[n])**2 + aLat*V(q[n])*(q[n+1]-q[n-1])/(2*aLat) )\n",
    "fermionNI=sp.expand( (xd[n]*x[n+1]+xd[n+1]*x[n])/(2*aLat) )\n",
    "fermionI=sp.expand( (-1)**n*sp.diff(V(q[n]),q[n])*(xd[n]*x[n]-(1/2)) )\n",
    "\n",
    "totHam=bosonNI+bosonI+fermionNI+fermionI"
   ]
  },
  {
   "cell_type": "code",
   "execution_count": 3,
   "metadata": {},
   "outputs": [
    {
     "data": {
      "text/latex": [
       "$\\displaystyle \\frac{a V^{2}{\\left({q}_{n} \\right)}}{2} + \\frac{V{\\left({q}_{n} \\right)} {q}_{n + 1}}{2} - \\frac{V{\\left({q}_{n} \\right)} {q}_{n - 1}}{2} + \\frac{{q}_{n + 1}^{2}}{16} - \\frac{{q}_{n + 1} {q}_{n - 1}}{8} + \\frac{{q}_{n - 1}^{2}}{16} + \\frac{{p}_{n}^{2}}{2 a}$"
      ],
      "text/plain": [
       "a*V(q[n])**2/2 + V(q[n])*q[n + 1]/2 - V(q[n])*q[n - 1]/2 + q[n + 1]**2/16 - q[n + 1]*q[n - 1]/8 + q[n - 1]**2/16 + p[n]**2/(2*a)"
      ]
     },
     "execution_count": 3,
     "metadata": {},
     "output_type": "execute_result"
    }
   ],
   "source": [
    "bosonNI+bosonI"
   ]
  },
  {
   "cell_type": "code",
   "execution_count": 4,
   "metadata": {},
   "outputs": [
    {
     "data": {
      "text/latex": [
       "$\\displaystyle \\left(-1\\right)^{n} \\frac{\\partial}{\\partial {q}_{n}} V{\\left({q}_{n} \\right)} {\\chi}_{n} {\\chi^{\\dagger}}_{n} - 0.5 \\left(-1\\right)^{n} \\frac{\\partial}{\\partial {q}_{n}} V{\\left({q}_{n} \\right)} + \\frac{{\\chi}_{n + 1} {\\chi^{\\dagger}}_{n}}{2 a} + \\frac{{\\chi}_{n} {\\chi^{\\dagger}}_{n + 1}}{2 a}$"
      ],
      "text/plain": [
       "(-1)**n*Derivative(V(q[n]), q[n])*\\chi[n]*\\chi^{\\dagger}[n] - 0.5*(-1)**n*Derivative(V(q[n]), q[n]) + \\chi[n + 1]*\\chi^{\\dagger}[n]/(2*a) + \\chi[n]*\\chi^{\\dagger}[n + 1]/(2*a)"
      ]
     },
     "execution_count": 4,
     "metadata": {},
     "output_type": "execute_result"
    }
   ],
   "source": [
    "fermionNI + fermionI"
   ]
  },
  {
   "cell_type": "code",
   "execution_count": 5,
   "metadata": {},
   "outputs": [],
   "source": [
    "N=3\n",
    "aVal=1\n",
    "\n",
    "# note this is exactly hardcoded for this finite difference method.\n",
    "bcType = 'periodic'\n",
    "boundaryConditions = {}\n",
    "if bcType == 'periodic':\n",
    "    boundaryConditions = {q[-1]: q[N-1], q[N]: q[0],\n",
    "                          x[N]: x[0], xd[N]: xd[0],\n",
    "                         }\n",
    "elif bcType == 'dirichlet':\n",
    "    boundaryConditions = {q[-1]: 0, q[N]: 0,\n",
    "                          x[N]: 0, xd[N]: 0\n",
    "                         }"
   ]
  },
  {
   "cell_type": "code",
   "execution_count": 6,
   "metadata": {},
   "outputs": [
    {
     "data": {
      "text/latex": [
       "$\\displaystyle \\frac{{\\chi}_{0} {\\chi^{\\dagger}}_{1}}{2} + \\frac{{\\chi}_{0} {\\chi^{\\dagger}}_{2}}{2} + \\frac{{\\chi}_{1} {\\chi^{\\dagger}}_{0}}{2} + \\frac{{\\chi}_{1} {\\chi^{\\dagger}}_{2}}{2} + \\frac{{\\chi}_{2} {\\chi^{\\dagger}}_{0}}{2} + \\frac{{\\chi}_{2} {\\chi^{\\dagger}}_{1}}{2} + \\frac{{p}_{0}^{2}}{2} + \\frac{{p}_{1}^{2}}{2} + \\frac{{p}_{2}^{2}}{2} + \\frac{{q}_{0}^{2}}{8} - \\frac{{q}_{0} {q}_{1}}{8} - \\frac{{q}_{0} {q}_{2}}{8} + \\frac{{q}_{1}^{2}}{8} - \\frac{{q}_{1} {q}_{2}}{8} + \\frac{{q}_{2}^{2}}{8}$"
      ],
      "text/plain": [
       "\\chi[0]*\\chi^{\\dagger}[1]/2 + \\chi[0]*\\chi^{\\dagger}[2]/2 + \\chi[1]*\\chi^{\\dagger}[0]/2 + \\chi[1]*\\chi^{\\dagger}[2]/2 + \\chi[2]*\\chi^{\\dagger}[0]/2 + \\chi[2]*\\chi^{\\dagger}[1]/2 + p[0]**2/2 + p[1]**2/2 + p[2]**2/2 + q[0]**2/8 - q[0]*q[1]/8 - q[0]*q[2]/8 + q[1]**2/8 - q[1]*q[2]/8 + q[2]**2/8"
      ]
     },
     "execution_count": 6,
     "metadata": {},
     "output_type": "execute_result"
    }
   ],
   "source": [
    "ham=0\n",
    "totHam=bosonNI+bosonI+fermionNI+fermionI\n",
    "for i in range(0,N):\n",
    "    ham+=totHam.subs(n,i).subs(boundaryConditions)\n",
    "# ham.subs(boundaryConditions).doit() # this doesn't work?\n",
    "\n",
    "def potential(n):\n",
    "    return 0\n",
    "\n",
    "for n in range(0,N):\n",
    "    ham=ham.subs(V(q[n]),potential(n))\n",
    "ham=ham.subs(aLat,aVal).simplify().expand()\n",
    "ham"
   ]
  },
  {
   "cell_type": "code",
   "execution_count": 7,
   "metadata": {},
   "outputs": [],
   "source": [
    "#ham=0\n",
    "#totHam=bosonNI+bosonI+fermionNI+fermionI\n",
    "#for i in range(0,N):\n",
    "#    ham+=totHam.subs(n,i).subs(boundaryConditions)\n",
    "# ham.subs(boundaryConditions).doit() # this doesn't work?\n",
    "\n",
    "#def potential(n):\n",
    "#    return q[n]\n",
    "\n",
    "#for n in range(0,N):\n",
    "#    ham=ham.subs(V(q[n]),potential(n))\n",
    "#ham=ham.subs(aLat,aVal).simplify().expand()\n",
    "#ham"
   ]
  },
  {
   "cell_type": "code",
   "execution_count": 8,
   "metadata": {},
   "outputs": [
    {
     "data": {
      "text/latex": [
       "$\\displaystyle \\frac{{\\chi}_{0} {\\chi^{\\dagger}}_{1}}{2} + \\frac{{\\chi}_{0} {\\chi^{\\dagger}}_{2}}{2} + \\frac{{\\chi}_{1} {\\chi^{\\dagger}}_{0}}{2} + \\frac{{\\chi}_{1} {\\chi^{\\dagger}}_{2}}{2} + \\frac{{\\chi}_{2} {\\chi^{\\dagger}}_{0}}{2} + \\frac{{\\chi}_{2} {\\chi^{\\dagger}}_{1}}{2} - 0.1875 {a}_{0}^{2} - 0.0625 {a}_{0} {a}_{1} - 0.0625 {a}_{0} {a}_{2} + 0.625 {a}_{0} {a^{\\dagger}}_{0} - 0.0625 {a}_{0} {a^{\\dagger}}_{1} - 0.0625 {a}_{0} {a^{\\dagger}}_{2} - 0.1875 {a}_{1}^{2} - 0.0625 {a}_{1} {a}_{2} - 0.0625 {a}_{1} {a^{\\dagger}}_{0} + 0.625 {a}_{1} {a^{\\dagger}}_{1} - 0.0625 {a}_{1} {a^{\\dagger}}_{2} - 0.1875 {a}_{2}^{2} - 0.0625 {a}_{2} {a^{\\dagger}}_{0} - 0.0625 {a}_{2} {a^{\\dagger}}_{1} + 0.625 {a}_{2} {a^{\\dagger}}_{2} - 0.1875 {a^{\\dagger}}_{0}^{2} - 0.0625 {a^{\\dagger}}_{0} {a^{\\dagger}}_{1} - 0.0625 {a^{\\dagger}}_{0} {a^{\\dagger}}_{2} - 0.1875 {a^{\\dagger}}_{1}^{2} - 0.0625 {a^{\\dagger}}_{1} {a^{\\dagger}}_{2} - 0.1875 {a^{\\dagger}}_{2}^{2}$"
      ],
      "text/plain": [
       "\\chi[0]*\\chi^{\\dagger}[1]/2 + \\chi[0]*\\chi^{\\dagger}[2]/2 + \\chi[1]*\\chi^{\\dagger}[0]/2 + \\chi[1]*\\chi^{\\dagger}[2]/2 + \\chi[2]*\\chi^{\\dagger}[0]/2 + \\chi[2]*\\chi^{\\dagger}[1]/2 - 0.1875*a[0]**2 - 0.0625*a[0]*a[1] - 0.0625*a[0]*a[2] + 0.625*a[0]*a^{\\dagger}[0] - 0.0625*a[0]*a^{\\dagger}[1] - 0.0625*a[0]*a^{\\dagger}[2] - 0.1875*a[1]**2 - 0.0625*a[1]*a[2] - 0.0625*a[1]*a^{\\dagger}[0] + 0.625*a[1]*a^{\\dagger}[1] - 0.0625*a[1]*a^{\\dagger}[2] - 0.1875*a[2]**2 - 0.0625*a[2]*a^{\\dagger}[0] - 0.0625*a[2]*a^{\\dagger}[1] + 0.625*a[2]*a^{\\dagger}[2] - 0.1875*a^{\\dagger}[0]**2 - 0.0625*a^{\\dagger}[0]*a^{\\dagger}[1] - 0.0625*a^{\\dagger}[0]*a^{\\dagger}[2] - 0.1875*a^{\\dagger}[1]**2 - 0.0625*a^{\\dagger}[1]*a^{\\dagger}[2] - 0.1875*a^{\\dagger}[2]**2"
      ]
     },
     "execution_count": 8,
     "metadata": {},
     "output_type": "execute_result"
    }
   ],
   "source": [
    "a = sp.IndexedBase('a',commutative=False)\n",
    "adag = sp.IndexedBase('a^{\\dagger}',commutative=False)\n",
    "\n",
    "m=1\n",
    "\n",
    "HOdofSubs = {}\n",
    "for i in range(0,N):\n",
    "    HOdofSubs[q[i]] = 0.5*sp.sqrt(2/m)*(a[i] + adag[i])\n",
    "    HOdofSubs[p[i]] = complex(0,1)*sp.sqrt(2*m)*(adag[i] - a[i])/2\n",
    "    \n",
    "hoHam=sp.expand(ham.subs(HOdofSubs))\n",
    "hoHam"
   ]
  },
  {
   "cell_type": "code",
   "execution_count": 19,
   "metadata": {},
   "outputs": [],
   "source": [
    "# should probably error handle better so that when this breaks\n",
    "# I know what was wrong with my expression\n",
    "\n",
    "cutoff=2\n",
    "\n"
   ]
  },
  {
   "cell_type": "code",
   "execution_count": 23,
   "metadata": {},
   "outputs": [
    {
     "name": "stdout",
     "output_type": "stream",
     "text": [
      "Warning: Not using a buffer!\n",
      "(64, 64)\n"
     ]
    }
   ],
   "source": [
    "hamMat=convert_to_matrix(hoHam,cutoff,N)"
   ]
  },
  {
   "cell_type": "code",
   "execution_count": 29,
   "metadata": {},
   "outputs": [
    {
     "data": {
      "text/plain": [
       "array([[0, 0, 0, ..., 0, 0, 0],\n",
       "       [0, 0, 0, ..., 0, 0, 0],\n",
       "       [0.625000000000000, 0, 0, ..., 0, 0, 0],\n",
       "       ...,\n",
       "       [0, 0, 0, ..., 0, 0, 0],\n",
       "       [0, 0, 0, ..., 0, 0, 0],\n",
       "       [0, 0, 0, ..., 0.625000000000000, 0, 0]], dtype=object)"
      ]
     },
     "execution_count": 29,
     "metadata": {},
     "output_type": "execute_result"
    }
   ],
   "source": [
    "hamMat"
   ]
  },
  {
   "cell_type": "code",
   "execution_count": 34,
   "metadata": {},
   "outputs": [
    {
     "data": {
      "text/plain": [
       "sympy.core.numbers.Float"
      ]
     },
     "execution_count": 34,
     "metadata": {},
     "output_type": "execute_result"
    }
   ],
   "source": [
    "type(hamMat[2,0])"
   ]
  },
  {
   "cell_type": "code",
   "execution_count": null,
   "metadata": {},
   "outputs": [],
   "source": []
  },
  {
   "cell_type": "code",
   "execution_count": 25,
   "metadata": {},
   "outputs": [
    {
     "ename": "TypeError",
     "evalue": "ufunc 'isfinite' not supported for the input types, and the inputs could not be safely coerced to any supported types according to the casting rule ''safe''",
     "output_type": "error",
     "traceback": [
      "\u001b[0;31m---------------------------------------------------------------------------\u001b[0m",
      "\u001b[0;31mTypeError\u001b[0m                                 Traceback (most recent call last)",
      "Input \u001b[0;32mIn [25]\u001b[0m, in \u001b[0;36m<cell line: 1>\u001b[0;34m()\u001b[0m\n\u001b[0;32m----> 1\u001b[0m \u001b[43mnp\u001b[49m\u001b[38;5;241;43m.\u001b[39;49m\u001b[43mlinalg\u001b[49m\u001b[38;5;241;43m.\u001b[39;49m\u001b[43meig\u001b[49m\u001b[43m(\u001b[49m\u001b[43mhamMat\u001b[49m\u001b[43m)\u001b[49m\n",
      "File \u001b[0;32m<__array_function__ internals>:180\u001b[0m, in \u001b[0;36meig\u001b[0;34m(*args, **kwargs)\u001b[0m\n",
      "File \u001b[0;32m~/miniconda3/envs/QuantumComputing/lib/python3.9/site-packages/numpy/linalg/linalg.py:1305\u001b[0m, in \u001b[0;36meig\u001b[0;34m(a)\u001b[0m\n\u001b[1;32m   1303\u001b[0m _assert_stacked_2d(a)\n\u001b[1;32m   1304\u001b[0m _assert_stacked_square(a)\n\u001b[0;32m-> 1305\u001b[0m \u001b[43m_assert_finite\u001b[49m\u001b[43m(\u001b[49m\u001b[43ma\u001b[49m\u001b[43m)\u001b[49m\n\u001b[1;32m   1306\u001b[0m t, result_t \u001b[38;5;241m=\u001b[39m _commonType(a)\n\u001b[1;32m   1308\u001b[0m extobj \u001b[38;5;241m=\u001b[39m get_linalg_error_extobj(\n\u001b[1;32m   1309\u001b[0m     _raise_linalgerror_eigenvalues_nonconvergence)\n",
      "File \u001b[0;32m~/miniconda3/envs/QuantumComputing/lib/python3.9/site-packages/numpy/linalg/linalg.py:207\u001b[0m, in \u001b[0;36m_assert_finite\u001b[0;34m(*arrays)\u001b[0m\n\u001b[1;32m    205\u001b[0m \u001b[38;5;28;01mdef\u001b[39;00m \u001b[38;5;21m_assert_finite\u001b[39m(\u001b[38;5;241m*\u001b[39marrays):\n\u001b[1;32m    206\u001b[0m     \u001b[38;5;28;01mfor\u001b[39;00m a \u001b[38;5;129;01min\u001b[39;00m arrays:\n\u001b[0;32m--> 207\u001b[0m         \u001b[38;5;28;01mif\u001b[39;00m \u001b[38;5;129;01mnot\u001b[39;00m \u001b[43misfinite\u001b[49m\u001b[43m(\u001b[49m\u001b[43ma\u001b[49m\u001b[43m)\u001b[49m\u001b[38;5;241m.\u001b[39mall():\n\u001b[1;32m    208\u001b[0m             \u001b[38;5;28;01mraise\u001b[39;00m LinAlgError(\u001b[38;5;124m\"\u001b[39m\u001b[38;5;124mArray must not contain infs or NaNs\u001b[39m\u001b[38;5;124m\"\u001b[39m)\n",
      "\u001b[0;31mTypeError\u001b[0m: ufunc 'isfinite' not supported for the input types, and the inputs could not be safely coerced to any supported types according to the casting rule ''safe''"
     ]
    }
   ],
   "source": [
    "np.linalg.eig(hamMat)"
   ]
  },
  {
   "cell_type": "code",
   "execution_count": null,
   "metadata": {},
   "outputs": [],
   "source": []
  }
 ],
 "metadata": {
  "kernelspec": {
   "display_name": "Python 3",
   "language": "python",
   "name": "python3"
  },
  "language_info": {
   "codemirror_mode": {
    "name": "ipython",
    "version": 3
   },
   "file_extension": ".py",
   "mimetype": "text/x-python",
   "name": "python",
   "nbconvert_exporter": "python",
   "pygments_lexer": "ipython3",
   "version": "3.9.1"
  }
 },
 "nbformat": 4,
 "nbformat_minor": 5
}
