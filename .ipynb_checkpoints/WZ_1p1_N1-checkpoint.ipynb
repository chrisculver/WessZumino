{
 "cells": [
  {
   "cell_type": "markdown",
   "id": "21e1b306-99e1-42d2-a018-d765b0e9ee81",
   "metadata": {},
   "source": [
    "# Wess Zumino \n",
    "\n",
    "## N=1 in 1+1\n",
    "\n",
    "The Hamiltonian with a central difference for the derivative is given by \n",
    "\n",
    "\\begin{align}\n",
    "    H=\\sum_n&\\left[ \\frac{p_n^2}{2a} + \\frac{a}{2}\\left(\\frac{\\phi_{n+1}-\\phi_{n-1}}{2a}\\right)^2+\\frac{a}{2}V(\\phi_n)^2\n",
    "            +aV(\\phi_n)\\frac{\\phi_{n+1}-\\phi_{n-1}}{2a} \\right. \\nonumber \\\\\n",
    "            &\\left.+(-1)^nV'(\\phi_n)\\left(\\chi_n^{\\dagger}\\chi_n-\\frac{1}{2}\\right)\n",
    "            +\\frac{1}{2a}\\left(\\chi_n^{\\dagger}\\chi_{n+1}+\\chi_{n+1}^{\\dagger}\\chi_n\\right) \\right],\n",
    "\\end{align}"
   ]
  },
  {
   "cell_type": "code",
   "execution_count": 24,
   "id": "09c5676c-d3be-4498-9c99-2d68e8b32f47",
   "metadata": {},
   "outputs": [],
   "source": [
    "import sympy as sp\n",
    "\n",
    "#pn, qn, qnP1, qnM1 = sp.symbols('p_n, q_n, q_{n+1}, q_{n-1}', commutative=False)\n",
    "#xn, xdn, xnP1, xdnP1 = sp.symbols('\\chi_n', '\\chi^{\\dagger}_n', '\\chi_{n+1}', '\\chi^{\\dagger}_{n+1}')\n",
    "n=sp.symbols('n')\n",
    "a=sp.symbols('a')\n",
    "V=sp.Function('V')\n",
    "p=sp.IndexedBase('p',commutative=False)\n",
    "q=sp.IndexedBase('q',commutative=False)\n",
    "x=sp.IndexedBase('\\chi',commutative=False)\n",
    "xd=sp.IndexedBase('\\chi^{\\dagger}',commutative=False)"
   ]
  },
  {
   "cell_type": "code",
   "execution_count": 29,
   "id": "726fb4cf-4f90-4846-8e4e-60f2487dde7f",
   "metadata": {},
   "outputs": [],
   "source": [
    "bosonNI=sp.expand( p[n]**2/(2*a) + ((a/2)*(q[n+1]-q[n-1])/(2*a))**2 )\n",
    "bosonI=sp.expand( (a/2)*V(q[n])**2 + a*V(q[n])*(q[n+1]-q[n-1])/(2*a) )\n",
    "fermionNI=sp.expand( (xd[n]*x[n+1]+xd[n+1]*x[n])/(2*a) )\n",
    "fermionI=sp.expand( (-1)**n*sp.diff(V(q[n]),q[n])*(xd[n]*x[n]-(1/2)) )\n",
    "\n",
    "totHam=bosonNI+bosonI+fermionNI+fermionI"
   ]
  },
  {
   "cell_type": "code",
   "execution_count": 30,
   "id": "a16ac580-ca4d-43c3-901d-2e393baaa10c",
   "metadata": {},
   "outputs": [
    {
     "data": {
      "text/latex": [
       "$\\displaystyle \\frac{a V^{2}{\\left({q}_{n} \\right)}}{2} + \\frac{V{\\left({q}_{n} \\right)} {q}_{n + 1}}{2} - \\frac{V{\\left({q}_{n} \\right)} {q}_{n - 1}}{2} + \\frac{{q}_{n + 1}^{2}}{16} - \\frac{{q}_{n + 1} {q}_{n - 1}}{8} + \\frac{{q}_{n - 1}^{2}}{16} + \\frac{{p}_{n}^{2}}{2 a}$"
      ],
      "text/plain": [
       "a*V(q[n])**2/2 + V(q[n])*q[n + 1]/2 - V(q[n])*q[n - 1]/2 + q[n + 1]**2/16 - q[n + 1]*q[n - 1]/8 + q[n - 1]**2/16 + p[n]**2/(2*a)"
      ]
     },
     "execution_count": 30,
     "metadata": {},
     "output_type": "execute_result"
    }
   ],
   "source": [
    "bosonNI+bosonI"
   ]
  },
  {
   "cell_type": "code",
   "execution_count": 31,
   "id": "c8d92bbc-7a63-4b5b-91b0-97fd6fbc28ce",
   "metadata": {},
   "outputs": [
    {
     "data": {
      "text/latex": [
       "$\\displaystyle \\left(-1\\right)^{n} \\frac{\\partial}{\\partial {q}_{n}} V{\\left({q}_{n} \\right)} {\\chi}_{n} {\\chi^{\\dagger}}_{n} - 0.5 \\left(-1\\right)^{n} \\frac{\\partial}{\\partial {q}_{n}} V{\\left({q}_{n} \\right)} + \\frac{{\\chi}_{n + 1} {\\chi^{\\dagger}}_{n}}{2 a} + \\frac{{\\chi}_{n} {\\chi^{\\dagger}}_{n + 1}}{2 a}$"
      ],
      "text/plain": [
       "(-1)**n*Derivative(V(q[n]), q[n])*\\chi[n]*\\chi^{\\dagger}[n] - 0.5*(-1)**n*Derivative(V(q[n]), q[n]) + \\chi[n + 1]*\\chi^{\\dagger}[n]/(2*a) + \\chi[n]*\\chi^{\\dagger}[n + 1]/(2*a)"
      ]
     },
     "execution_count": 31,
     "metadata": {},
     "output_type": "execute_result"
    }
   ],
   "source": [
    "fermionNI + fermionI"
   ]
  },
  {
   "cell_type": "code",
   "execution_count": 32,
   "id": "d6fca3e6-d08e-4da7-a3a4-ebef90aac00e",
   "metadata": {},
   "outputs": [],
   "source": [
    "N=3\n",
    "bcType = 'periodic'\n",
    "boundaryConditions = {}\n",
    "if bcType == 'periodic':\n",
    "    boundaryConditions = {q[-1]: q[N-1], q[N]: q[0]\n",
    "                         }\n",
    "elif bcType == 'dirichlet':\n",
    "    boundaryConditions = {q[-1]: 0, q[N]: 0}"
   ]
  },
  {
   "cell_type": "code",
   "execution_count": 33,
   "id": "3d47889f-b9b3-42bd-9546-72f1202a7478",
   "metadata": {},
   "outputs": [
    {
     "data": {
      "text/latex": [
       "$\\displaystyle \\frac{a V^{2}{\\left({q}_{0} \\right)}}{2} + \\frac{a V^{2}{\\left({q}_{1} \\right)}}{2} + \\frac{a V^{2}{\\left({q}_{2} \\right)}}{2} + \\frac{V{\\left({q}_{0} \\right)} {q}_{1}}{2} - \\frac{V{\\left({q}_{0} \\right)} {q}_{2}}{2} - \\frac{V{\\left({q}_{1} \\right)} {q}_{0}}{2} + \\frac{V{\\left({q}_{1} \\right)} {q}_{2}}{2} + \\frac{V{\\left({q}_{2} \\right)} {q}_{0}}{2} - \\frac{V{\\left({q}_{2} \\right)} {q}_{1}}{2} + \\frac{\\partial}{\\partial {q}_{0}} V{\\left({q}_{0} \\right)} {\\chi}_{0} {\\chi^{\\dagger}}_{0} - 0.5 \\frac{\\partial}{\\partial {q}_{0}} V{\\left({q}_{0} \\right)} - \\frac{\\partial}{\\partial {q}_{1}} V{\\left({q}_{1} \\right)} {\\chi}_{1} {\\chi^{\\dagger}}_{1} + 0.5 \\frac{\\partial}{\\partial {q}_{1}} V{\\left({q}_{1} \\right)} + \\frac{\\partial}{\\partial {q}_{2}} V{\\left({q}_{2} \\right)} {\\chi}_{2} {\\chi^{\\dagger}}_{2} - 0.5 \\frac{\\partial}{\\partial {q}_{2}} V{\\left({q}_{2} \\right)} + \\frac{{q}_{0}^{2}}{8} - \\frac{{q}_{0} {q}_{1}}{8} - \\frac{{q}_{0} {q}_{2}}{8} + \\frac{{q}_{1}^{2}}{8} - \\frac{{q}_{1} {q}_{2}}{8} + \\frac{{q}_{2}^{2}}{8} + \\frac{{\\chi}_{0} {\\chi^{\\dagger}}_{1}}{2 a} + \\frac{{\\chi}_{1} {\\chi^{\\dagger}}_{0}}{2 a} + \\frac{{\\chi}_{1} {\\chi^{\\dagger}}_{2}}{2 a} + \\frac{{\\chi}_{2} {\\chi^{\\dagger}}_{1}}{2 a} + \\frac{{\\chi}_{2} {\\chi^{\\dagger}}_{3}}{2 a} + \\frac{{\\chi}_{3} {\\chi^{\\dagger}}_{2}}{2 a} + \\frac{{p}_{0}^{2}}{2 a} + \\frac{{p}_{1}^{2}}{2 a} + \\frac{{p}_{2}^{2}}{2 a}$"
      ],
      "text/plain": [
       "a*V(q[0])**2/2 + a*V(q[1])**2/2 + a*V(q[2])**2/2 + V(q[0])*q[1]/2 - V(q[0])*q[2]/2 - V(q[1])*q[0]/2 + V(q[1])*q[2]/2 + V(q[2])*q[0]/2 - V(q[2])*q[1]/2 + Derivative(V(q[0]), q[0])*\\chi[0]*\\chi^{\\dagger}[0] - 0.5*Derivative(V(q[0]), q[0]) - Derivative(V(q[1]), q[1])*\\chi[1]*\\chi^{\\dagger}[1] + 0.5*Derivative(V(q[1]), q[1]) + Derivative(V(q[2]), q[2])*\\chi[2]*\\chi^{\\dagger}[2] - 0.5*Derivative(V(q[2]), q[2]) + q[0]**2/8 - q[0]*q[1]/8 - q[0]*q[2]/8 + q[1]**2/8 - q[1]*q[2]/8 + q[2]**2/8 + \\chi[0]*\\chi^{\\dagger}[1]/(2*a) + \\chi[1]*\\chi^{\\dagger}[0]/(2*a) + \\chi[1]*\\chi^{\\dagger}[2]/(2*a) + \\chi[2]*\\chi^{\\dagger}[1]/(2*a) + \\chi[2]*\\chi^{\\dagger}[3]/(2*a) + \\chi[3]*\\chi^{\\dagger}[2]/(2*a) + p[0]**2/(2*a) + p[1]**2/(2*a) + p[2]**2/(2*a)"
      ]
     },
     "execution_count": 33,
     "metadata": {},
     "output_type": "execute_result"
    }
   ],
   "source": [
    "ham=0\n",
    "\n",
    "for i in range(0,N):\n",
    "    ham+=totHam.subs(n,i).subs(boundaryConditions)\n",
    "# ham.subs(boundaryConditions).doit() # this doesn't work?\n",
    "ham"
   ]
  },
  {
   "cell_type": "code",
   "execution_count": null,
   "id": "7ae7e19f-1de6-4631-a0cd-dfb109759c20",
   "metadata": {},
   "outputs": [],
   "source": []
  },
  {
   "cell_type": "code",
   "execution_count": 34,
   "id": "fc3cacd9-d55e-4bdb-9100-9f5afdce485b",
   "metadata": {},
   "outputs": [
    {
     "data": {
      "text/latex": [
       "$\\displaystyle \\frac{a V^{2}{\\left(0.707106781186548 {a}_{0} + 0.707106781186548 {a^{\\dagger}}_{0} \\right)}}{2} + \\frac{a V^{2}{\\left(0.707106781186548 {a}_{1} + 0.707106781186548 {a^{\\dagger}}_{1} \\right)}}{2} + \\frac{a V^{2}{\\left(0.707106781186548 {a}_{2} + 0.707106781186548 {a^{\\dagger}}_{2} \\right)}}{2} + 0.353553390593274 V{\\left(0.707106781186548 {a}_{0} + 0.707106781186548 {a^{\\dagger}}_{0} \\right)} {a}_{1} - 0.353553390593274 V{\\left(0.707106781186548 {a}_{0} + 0.707106781186548 {a^{\\dagger}}_{0} \\right)} {a}_{2} + 0.353553390593274 V{\\left(0.707106781186548 {a}_{0} + 0.707106781186548 {a^{\\dagger}}_{0} \\right)} {a^{\\dagger}}_{1} - 0.353553390593274 V{\\left(0.707106781186548 {a}_{0} + 0.707106781186548 {a^{\\dagger}}_{0} \\right)} {a^{\\dagger}}_{2} - 0.353553390593274 V{\\left(0.707106781186548 {a}_{1} + 0.707106781186548 {a^{\\dagger}}_{1} \\right)} {a}_{0} + 0.353553390593274 V{\\left(0.707106781186548 {a}_{1} + 0.707106781186548 {a^{\\dagger}}_{1} \\right)} {a}_{2} - 0.353553390593274 V{\\left(0.707106781186548 {a}_{1} + 0.707106781186548 {a^{\\dagger}}_{1} \\right)} {a^{\\dagger}}_{0} + 0.353553390593274 V{\\left(0.707106781186548 {a}_{1} + 0.707106781186548 {a^{\\dagger}}_{1} \\right)} {a^{\\dagger}}_{2} + 0.353553390593274 V{\\left(0.707106781186548 {a}_{2} + 0.707106781186548 {a^{\\dagger}}_{2} \\right)} {a}_{0} - 0.353553390593274 V{\\left(0.707106781186548 {a}_{2} + 0.707106781186548 {a^{\\dagger}}_{2} \\right)} {a}_{1} + 0.353553390593274 V{\\left(0.707106781186548 {a}_{2} + 0.707106781186548 {a^{\\dagger}}_{2} \\right)} {a^{\\dagger}}_{0} - 0.353553390593274 V{\\left(0.707106781186548 {a}_{2} + 0.707106781186548 {a^{\\dagger}}_{2} \\right)} {a^{\\dagger}}_{1} + {\\chi}_{0} {\\chi^{\\dagger}}_{0} \\left. \\frac{d}{d \\xi} V{\\left(\\xi \\right)} \\right|_{\\substack{ \\xi=0.707106781186548 {a}_{0} + 0.707106781186548 {a^{\\dagger}}_{0} }} - {\\chi}_{1} {\\chi^{\\dagger}}_{1} \\left. \\frac{d}{d \\xi} V{\\left(\\xi \\right)} \\right|_{\\substack{ \\xi=0.707106781186548 {a}_{1} + 0.707106781186548 {a^{\\dagger}}_{1} }} + {\\chi}_{2} {\\chi^{\\dagger}}_{2} \\left. \\frac{d}{d \\xi} V{\\left(\\xi \\right)} \\right|_{\\substack{ \\xi=0.707106781186548 {a}_{2} + 0.707106781186548 {a^{\\dagger}}_{2} }} + 0.0625 {a}_{0}^{2} - 0.0625 {a}_{0} {a}_{1} - 0.0625 {a}_{0} {a}_{2} + 0.125 {a}_{0} {a^{\\dagger}}_{0} - 0.0625 {a}_{0} {a^{\\dagger}}_{1} - 0.0625 {a}_{0} {a^{\\dagger}}_{2} + 0.0625 {a}_{1}^{2} - 0.0625 {a}_{1} {a}_{2} - 0.0625 {a}_{1} {a^{\\dagger}}_{0} + 0.125 {a}_{1} {a^{\\dagger}}_{1} - 0.0625 {a}_{1} {a^{\\dagger}}_{2} + 0.0625 {a}_{2}^{2} - 0.0625 {a}_{2} {a^{\\dagger}}_{0} - 0.0625 {a}_{2} {a^{\\dagger}}_{1} + 0.125 {a}_{2} {a^{\\dagger}}_{2} + 0.0625 {a^{\\dagger}}_{0}^{2} - 0.0625 {a^{\\dagger}}_{0} {a^{\\dagger}}_{1} - 0.0625 {a^{\\dagger}}_{0} {a^{\\dagger}}_{2} + 0.0625 {a^{\\dagger}}_{1}^{2} - 0.0625 {a^{\\dagger}}_{1} {a^{\\dagger}}_{2} + 0.0625 {a^{\\dagger}}_{2}^{2} - 0.5 \\left. \\frac{d}{d \\xi} V{\\left(\\xi \\right)} \\right|_{\\substack{ \\xi=0.707106781186548 {a}_{0} + 0.707106781186548 {a^{\\dagger}}_{0} }} + 0.5 \\left. \\frac{d}{d \\xi} V{\\left(\\xi \\right)} \\right|_{\\substack{ \\xi=0.707106781186548 {a}_{1} + 0.707106781186548 {a^{\\dagger}}_{1} }} - 0.5 \\left. \\frac{d}{d \\xi} V{\\left(\\xi \\right)} \\right|_{\\substack{ \\xi=0.707106781186548 {a}_{2} + 0.707106781186548 {a^{\\dagger}}_{2} }} + \\frac{{\\chi}_{0} {\\chi^{\\dagger}}_{1}}{2 a} + \\frac{{\\chi}_{1} {\\chi^{\\dagger}}_{0}}{2 a} + \\frac{{\\chi}_{1} {\\chi^{\\dagger}}_{2}}{2 a} + \\frac{{\\chi}_{2} {\\chi^{\\dagger}}_{1}}{2 a} + \\frac{{\\chi}_{2} {\\chi^{\\dagger}}_{3}}{2 a} + \\frac{{\\chi}_{3} {\\chi^{\\dagger}}_{2}}{2 a} - \\frac{0.25 {a}_{0}^{2}}{a} + \\frac{0.5 {a}_{0} {a^{\\dagger}}_{0}}{a} - \\frac{0.25 {a}_{1}^{2}}{a} + \\frac{0.5 {a}_{1} {a^{\\dagger}}_{1}}{a} - \\frac{0.25 {a}_{2}^{2}}{a} + \\frac{0.5 {a}_{2} {a^{\\dagger}}_{2}}{a} - \\frac{0.25 {a^{\\dagger}}_{0}^{2}}{a} - \\frac{0.25 {a^{\\dagger}}_{1}^{2}}{a} - \\frac{0.25 {a^{\\dagger}}_{2}^{2}}{a}$"
      ],
      "text/plain": [
       "a*V(0.707106781186548*a[0] + 0.707106781186548*a^{\\dagger}[0])**2/2 + a*V(0.707106781186548*a[1] + 0.707106781186548*a^{\\dagger}[1])**2/2 + a*V(0.707106781186548*a[2] + 0.707106781186548*a^{\\dagger}[2])**2/2 + 0.353553390593274*V(0.707106781186548*a[0] + 0.707106781186548*a^{\\dagger}[0])*a[1] - 0.353553390593274*V(0.707106781186548*a[0] + 0.707106781186548*a^{\\dagger}[0])*a[2] + 0.353553390593274*V(0.707106781186548*a[0] + 0.707106781186548*a^{\\dagger}[0])*a^{\\dagger}[1] - 0.353553390593274*V(0.707106781186548*a[0] + 0.707106781186548*a^{\\dagger}[0])*a^{\\dagger}[2] - 0.353553390593274*V(0.707106781186548*a[1] + 0.707106781186548*a^{\\dagger}[1])*a[0] + 0.353553390593274*V(0.707106781186548*a[1] + 0.707106781186548*a^{\\dagger}[1])*a[2] - 0.353553390593274*V(0.707106781186548*a[1] + 0.707106781186548*a^{\\dagger}[1])*a^{\\dagger}[0] + 0.353553390593274*V(0.707106781186548*a[1] + 0.707106781186548*a^{\\dagger}[1])*a^{\\dagger}[2] + 0.353553390593274*V(0.707106781186548*a[2] + 0.707106781186548*a^{\\dagger}[2])*a[0] - 0.353553390593274*V(0.707106781186548*a[2] + 0.707106781186548*a^{\\dagger}[2])*a[1] + 0.353553390593274*V(0.707106781186548*a[2] + 0.707106781186548*a^{\\dagger}[2])*a^{\\dagger}[0] - 0.353553390593274*V(0.707106781186548*a[2] + 0.707106781186548*a^{\\dagger}[2])*a^{\\dagger}[1] + \\chi[0]*\\chi^{\\dagger}[0]*Subs(Derivative(V(_xi), _xi), _xi, 0.707106781186548*a[0] + 0.707106781186548*a^{\\dagger}[0]) - \\chi[1]*\\chi^{\\dagger}[1]*Subs(Derivative(V(_xi), _xi), _xi, 0.707106781186548*a[1] + 0.707106781186548*a^{\\dagger}[1]) + \\chi[2]*\\chi^{\\dagger}[2]*Subs(Derivative(V(_xi), _xi), _xi, 0.707106781186548*a[2] + 0.707106781186548*a^{\\dagger}[2]) + 0.0625*a[0]**2 - 0.0625*a[0]*a[1] - 0.0625*a[0]*a[2] + 0.125*a[0]*a^{\\dagger}[0] - 0.0625*a[0]*a^{\\dagger}[1] - 0.0625*a[0]*a^{\\dagger}[2] + 0.0625*a[1]**2 - 0.0625*a[1]*a[2] - 0.0625*a[1]*a^{\\dagger}[0] + 0.125*a[1]*a^{\\dagger}[1] - 0.0625*a[1]*a^{\\dagger}[2] + 0.0625*a[2]**2 - 0.0625*a[2]*a^{\\dagger}[0] - 0.0625*a[2]*a^{\\dagger}[1] + 0.125*a[2]*a^{\\dagger}[2] + 0.0625*a^{\\dagger}[0]**2 - 0.0625*a^{\\dagger}[0]*a^{\\dagger}[1] - 0.0625*a^{\\dagger}[0]*a^{\\dagger}[2] + 0.0625*a^{\\dagger}[1]**2 - 0.0625*a^{\\dagger}[1]*a^{\\dagger}[2] + 0.0625*a^{\\dagger}[2]**2 - 0.5*Subs(Derivative(V(_xi), _xi), _xi, 0.707106781186548*a[0] + 0.707106781186548*a^{\\dagger}[0]) + 0.5*Subs(Derivative(V(_xi), _xi), _xi, 0.707106781186548*a[1] + 0.707106781186548*a^{\\dagger}[1]) - 0.5*Subs(Derivative(V(_xi), _xi), _xi, 0.707106781186548*a[2] + 0.707106781186548*a^{\\dagger}[2]) + \\chi[0]*\\chi^{\\dagger}[1]/(2*a) + \\chi[1]*\\chi^{\\dagger}[0]/(2*a) + \\chi[1]*\\chi^{\\dagger}[2]/(2*a) + \\chi[2]*\\chi^{\\dagger}[1]/(2*a) + \\chi[2]*\\chi^{\\dagger}[3]/(2*a) + \\chi[3]*\\chi^{\\dagger}[2]/(2*a) - 0.25*a[0]**2/a + 0.5*a[0]*a^{\\dagger}[0]/a - 0.25*a[1]**2/a + 0.5*a[1]*a^{\\dagger}[1]/a - 0.25*a[2]**2/a + 0.5*a[2]*a^{\\dagger}[2]/a - 0.25*a^{\\dagger}[0]**2/a - 0.25*a^{\\dagger}[1]**2/a - 0.25*a^{\\dagger}[2]**2/a"
      ]
     },
     "execution_count": 34,
     "metadata": {},
     "output_type": "execute_result"
    }
   ],
   "source": [
    "a = sp.IndexedBase('a',commutative=False)\n",
    "adag = sp.IndexedBase('a^{\\dagger}',commutative=False)\n",
    "\n",
    "m=1\n",
    "\n",
    "HOdofSubs = {}\n",
    "for i in range(0,N):\n",
    "    HOdofSubs[q[i]] = 0.5*sp.sqrt(2/m)*(a[i] + adag[i])\n",
    "    HOdofSubs[p[i]] = complex(0,1)*sp.sqrt(2*m)*(adag[i] - a[i])/2\n",
    "    \n",
    "sp.expand(ham.subs(HOdofSubs))"
   ]
  },
  {
   "cell_type": "code",
   "execution_count": null,
   "id": "a15037e1-dae5-4a3d-a1ca-664a0c6def3b",
   "metadata": {},
   "outputs": [],
   "source": []
  }
 ],
 "metadata": {
  "kernelspec": {
   "display_name": "Python 3 (ipykernel)",
   "language": "python",
   "name": "python3"
  },
  "language_info": {
   "codemirror_mode": {
    "name": "ipython",
    "version": 3
   },
   "file_extension": ".py",
   "mimetype": "text/x-python",
   "name": "python",
   "nbconvert_exporter": "python",
   "pygments_lexer": "ipython3",
   "version": "3.9.7"
  }
 },
 "nbformat": 4,
 "nbformat_minor": 5
}
