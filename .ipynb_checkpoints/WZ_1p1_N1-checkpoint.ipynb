{
 "cells": [
  {
   "cell_type": "markdown",
   "id": "9b54965c",
   "metadata": {},
   "source": [
    "# Wess Zumino \n",
    "\n",
    "## N=1 in 1+1\n",
    "\n",
    "The Hamiltonian with a central difference for the derivative is given by \n",
    "\n",
    "\\begin{align}\n",
    "    H=\\sum_n&\\left[ \\frac{p_n^2}{2a} + \\frac{a}{2}\\left(\\frac{\\phi_{n+1}-\\phi_{n-1}}{2a}\\right)^2+\\frac{a}{2}V(\\phi_n)^2\n",
    "            +aV(\\phi_n)\\frac{\\phi_{n+1}-\\phi_{n-1}}{2a} \\right. \\nonumber \\\\\n",
    "            &\\left.+(-1)^nV'(\\phi_n)\\left(\\chi_n^{\\dagger}\\chi_n-\\frac{1}{2}\\right)\n",
    "            +\\frac{1}{2a}\\left(\\chi_n^{\\dagger}\\chi_{n+1}+\\chi_{n+1}^{\\dagger}\\chi_n\\right) \\right],\n",
    "\\end{align}"
   ]
  },
  {
   "cell_type": "code",
   "execution_count": null,
   "id": "e6e1ae6c-5085-4342-b34d-391d8c6a3c30",
   "metadata": {},
   "outputs": [],
   "source": [
    "## TODO \n",
    "\n",
    "# CHECK CORRECTNESS\n",
    "# Use buffer for creating bosonic matrices\n",
    "# State ordering, b0-f0-b1-f1-b2-f2 AND b0-b1-b2-f0-f1-f2"
   ]
  },
  {
   "cell_type": "code",
   "execution_count": null,
   "id": "0dabc9ea-d8ca-419a-81de-b826ab2d711c",
   "metadata": {},
   "outputs": [],
   "source": []
  },
  {
   "cell_type": "code",
   "execution_count": 2,
   "id": "6f2921c0",
   "metadata": {},
   "outputs": [],
   "source": [
    "import sympy as sp\n",
    "from ham_to_matrix import *\n",
    "\n",
    "#pn, qn, qnP1, qnM1 = sp.symbols('p_n, q_n, q_{n+1}, q_{n-1}', commutative=False)\n",
    "#xn, xdn, xnP1, xdnP1 = sp.symbols('\\chi_n', '\\chi^{\\dagger}_n', '\\chi_{n+1}', '\\chi^{\\dagger}_{n+1}')\n",
    "n=sp.symbols('n')\n",
    "aLat=sp.symbols('a')\n",
    "V=sp.Function('V')\n",
    "p=sp.IndexedBase('p',commutative=False)\n",
    "q=sp.IndexedBase('q',commutative=False)\n",
    "x=sp.IndexedBase('\\chi',commutative=False)\n",
    "xd=sp.IndexedBase('\\chi^{\\dagger}',commutative=False)"
   ]
  },
  {
   "cell_type": "code",
   "execution_count": 3,
   "id": "4997bf6c",
   "metadata": {},
   "outputs": [],
   "source": [
    "bosonNI=sp.expand( p[n]**2/(2*aLat) + ((aLat/2)*(q[n+1]-q[n-1])/(2*aLat))**2 )\n",
    "bosonI=sp.expand( (aLat/2)*V(q[n])**2 + aLat*V(q[n])*(q[n+1]-q[n-1])/(2*aLat) )\n",
    "fermionNI=sp.expand( (xd[n]*x[n+1]+xd[n+1]*x[n])/(2*aLat) )\n",
    "fermionI=sp.expand( (-1)**n*sp.diff(V(q[n]),q[n])*(xd[n]*x[n]-(1/2)) )\n",
    "\n",
    "totHam=bosonNI+bosonI+fermionNI+fermionI"
   ]
  },
  {
   "cell_type": "code",
   "execution_count": 4,
   "id": "bc64d06d",
   "metadata": {},
   "outputs": [
    {
     "data": {
      "text/latex": [
       "$\\displaystyle \\frac{a V^{2}{\\left({q}_{n} \\right)}}{2} + \\frac{V{\\left({q}_{n} \\right)} {q}_{n + 1}}{2} - \\frac{V{\\left({q}_{n} \\right)} {q}_{n - 1}}{2} + \\frac{{q}_{n + 1}^{2}}{16} - \\frac{{q}_{n + 1} {q}_{n - 1}}{8} + \\frac{{q}_{n - 1}^{2}}{16} + \\frac{{p}_{n}^{2}}{2 a}$"
      ],
      "text/plain": [
       "a*V(q[n])**2/2 + V(q[n])*q[n + 1]/2 - V(q[n])*q[n - 1]/2 + q[n + 1]**2/16 - q[n + 1]*q[n - 1]/8 + q[n - 1]**2/16 + p[n]**2/(2*a)"
      ]
     },
     "execution_count": 4,
     "metadata": {},
     "output_type": "execute_result"
    }
   ],
   "source": [
    "bosonNI+bosonI"
   ]
  },
  {
   "cell_type": "code",
   "execution_count": 5,
   "id": "a5f889a8",
   "metadata": {},
   "outputs": [
    {
     "data": {
      "text/latex": [
       "$\\displaystyle \\left(-1\\right)^{n} \\frac{\\partial}{\\partial {q}_{n}} V{\\left({q}_{n} \\right)} {\\chi}_{n} {\\chi^{\\dagger}}_{n} - 0.5 \\left(-1\\right)^{n} \\frac{\\partial}{\\partial {q}_{n}} V{\\left({q}_{n} \\right)} + \\frac{{\\chi}_{n + 1} {\\chi^{\\dagger}}_{n}}{2 a} + \\frac{{\\chi}_{n} {\\chi^{\\dagger}}_{n + 1}}{2 a}$"
      ],
      "text/plain": [
       "(-1)**n*Derivative(V(q[n]), q[n])*\\chi[n]*\\chi^{\\dagger}[n] - 0.5*(-1)**n*Derivative(V(q[n]), q[n]) + \\chi[n + 1]*\\chi^{\\dagger}[n]/(2*a) + \\chi[n]*\\chi^{\\dagger}[n + 1]/(2*a)"
      ]
     },
     "execution_count": 5,
     "metadata": {},
     "output_type": "execute_result"
    }
   ],
   "source": [
    "fermionNI + fermionI"
   ]
  },
  {
   "cell_type": "code",
   "execution_count": 6,
   "id": "7b30453e",
   "metadata": {},
   "outputs": [],
   "source": [
    "N=3\n",
    "aVal=1\n",
    "\n",
    "# note this is exactly hardcoded for this finite difference method.\n",
    "bcType = 'periodic'\n",
    "boundaryConditions = {}\n",
    "if bcType == 'periodic':\n",
    "    boundaryConditions = {q[-1]: q[N-1], q[N]: q[0],\n",
    "                          x[N]: x[0], xd[N]: xd[0],\n",
    "                         }\n",
    "elif bcType == 'dirichlet':\n",
    "    boundaryConditions = {q[-1]: 0, q[N]: 0,\n",
    "                          x[N]: 0, xd[N]: 0\n",
    "                         }"
   ]
  },
  {
   "cell_type": "code",
   "execution_count": 7,
   "id": "9c1ff7ad",
   "metadata": {},
   "outputs": [
    {
     "data": {
      "text/latex": [
       "$\\displaystyle \\frac{{\\chi}_{0} {\\chi^{\\dagger}}_{1}}{2} + \\frac{{\\chi}_{0} {\\chi^{\\dagger}}_{2}}{2} + \\frac{{\\chi}_{1} {\\chi^{\\dagger}}_{0}}{2} + \\frac{{\\chi}_{1} {\\chi^{\\dagger}}_{2}}{2} + \\frac{{\\chi}_{2} {\\chi^{\\dagger}}_{0}}{2} + \\frac{{\\chi}_{2} {\\chi^{\\dagger}}_{1}}{2} + \\frac{{p}_{0}^{2}}{2} + \\frac{{p}_{1}^{2}}{2} + \\frac{{p}_{2}^{2}}{2} + \\frac{{q}_{0}^{2}}{8} - \\frac{{q}_{0} {q}_{1}}{8} - \\frac{{q}_{0} {q}_{2}}{8} + \\frac{{q}_{1}^{2}}{8} - \\frac{{q}_{1} {q}_{2}}{8} + \\frac{{q}_{2}^{2}}{8}$"
      ],
      "text/plain": [
       "\\chi[0]*\\chi^{\\dagger}[1]/2 + \\chi[0]*\\chi^{\\dagger}[2]/2 + \\chi[1]*\\chi^{\\dagger}[0]/2 + \\chi[1]*\\chi^{\\dagger}[2]/2 + \\chi[2]*\\chi^{\\dagger}[0]/2 + \\chi[2]*\\chi^{\\dagger}[1]/2 + p[0]**2/2 + p[1]**2/2 + p[2]**2/2 + q[0]**2/8 - q[0]*q[1]/8 - q[0]*q[2]/8 + q[1]**2/8 - q[1]*q[2]/8 + q[2]**2/8"
      ]
     },
     "execution_count": 7,
     "metadata": {},
     "output_type": "execute_result"
    }
   ],
   "source": [
    "ham=0\n",
    "totHam=bosonNI+bosonI+fermionNI+fermionI\n",
    "for i in range(0,N):\n",
    "    ham+=totHam.subs(n,i).subs(boundaryConditions)\n",
    "# ham.subs(boundaryConditions).doit() # this doesn't work?\n",
    "\n",
    "def potential(n):\n",
    "    return 0\n",
    "\n",
    "for n in range(0,N):\n",
    "    ham=ham.subs(V(q[n]),potential(n))\n",
    "ham=ham.subs(aLat,aVal).simplify().expand()\n",
    "ham"
   ]
  },
  {
   "cell_type": "code",
   "execution_count": 8,
   "id": "e32da369",
   "metadata": {},
   "outputs": [],
   "source": [
    "#ham=0\n",
    "#totHam=bosonNI+bosonI+fermionNI+fermionI\n",
    "#for i in range(0,N):\n",
    "#    ham+=totHam.subs(n,i).subs(boundaryConditions)\n",
    "# ham.subs(boundaryConditions).doit() # this doesn't work?\n",
    "\n",
    "#def potential(n):\n",
    "#    return q[n]\n",
    "\n",
    "#for n in range(0,N):\n",
    "#    ham=ham.subs(V(q[n]),potential(n))\n",
    "#ham=ham.subs(aLat,aVal).simplify().expand()\n",
    "#ham"
   ]
  },
  {
   "cell_type": "code",
   "execution_count": 9,
   "id": "ea053a60",
   "metadata": {},
   "outputs": [
    {
     "data": {
      "text/latex": [
       "$\\displaystyle \\frac{{\\chi}_{0} {\\chi^{\\dagger}}_{1}}{2} + \\frac{{\\chi}_{0} {\\chi^{\\dagger}}_{2}}{2} + \\frac{{\\chi}_{1} {\\chi^{\\dagger}}_{0}}{2} + \\frac{{\\chi}_{1} {\\chi^{\\dagger}}_{2}}{2} + \\frac{{\\chi}_{2} {\\chi^{\\dagger}}_{0}}{2} + \\frac{{\\chi}_{2} {\\chi^{\\dagger}}_{1}}{2} - 0.1875 {a}_{0}^{2} - 0.0625 {a}_{0} {a}_{1} - 0.0625 {a}_{0} {a}_{2} + 0.625 {a}_{0} {a^{\\dagger}}_{0} - 0.0625 {a}_{0} {a^{\\dagger}}_{1} - 0.0625 {a}_{0} {a^{\\dagger}}_{2} - 0.1875 {a}_{1}^{2} - 0.0625 {a}_{1} {a}_{2} - 0.0625 {a}_{1} {a^{\\dagger}}_{0} + 0.625 {a}_{1} {a^{\\dagger}}_{1} - 0.0625 {a}_{1} {a^{\\dagger}}_{2} - 0.1875 {a}_{2}^{2} - 0.0625 {a}_{2} {a^{\\dagger}}_{0} - 0.0625 {a}_{2} {a^{\\dagger}}_{1} + 0.625 {a}_{2} {a^{\\dagger}}_{2} - 0.1875 {a^{\\dagger}}_{0}^{2} - 0.0625 {a^{\\dagger}}_{0} {a^{\\dagger}}_{1} - 0.0625 {a^{\\dagger}}_{0} {a^{\\dagger}}_{2} - 0.1875 {a^{\\dagger}}_{1}^{2} - 0.0625 {a^{\\dagger}}_{1} {a^{\\dagger}}_{2} - 0.1875 {a^{\\dagger}}_{2}^{2}$"
      ],
      "text/plain": [
       "\\chi[0]*\\chi^{\\dagger}[1]/2 + \\chi[0]*\\chi^{\\dagger}[2]/2 + \\chi[1]*\\chi^{\\dagger}[0]/2 + \\chi[1]*\\chi^{\\dagger}[2]/2 + \\chi[2]*\\chi^{\\dagger}[0]/2 + \\chi[2]*\\chi^{\\dagger}[1]/2 - 0.1875*a[0]**2 - 0.0625*a[0]*a[1] - 0.0625*a[0]*a[2] + 0.625*a[0]*a^{\\dagger}[0] - 0.0625*a[0]*a^{\\dagger}[1] - 0.0625*a[0]*a^{\\dagger}[2] - 0.1875*a[1]**2 - 0.0625*a[1]*a[2] - 0.0625*a[1]*a^{\\dagger}[0] + 0.625*a[1]*a^{\\dagger}[1] - 0.0625*a[1]*a^{\\dagger}[2] - 0.1875*a[2]**2 - 0.0625*a[2]*a^{\\dagger}[0] - 0.0625*a[2]*a^{\\dagger}[1] + 0.625*a[2]*a^{\\dagger}[2] - 0.1875*a^{\\dagger}[0]**2 - 0.0625*a^{\\dagger}[0]*a^{\\dagger}[1] - 0.0625*a^{\\dagger}[0]*a^{\\dagger}[2] - 0.1875*a^{\\dagger}[1]**2 - 0.0625*a^{\\dagger}[1]*a^{\\dagger}[2] - 0.1875*a^{\\dagger}[2]**2"
      ]
     },
     "execution_count": 9,
     "metadata": {},
     "output_type": "execute_result"
    }
   ],
   "source": [
    "a = sp.IndexedBase('a',commutative=False)\n",
    "adag = sp.IndexedBase('a^{\\dagger}',commutative=False)\n",
    "\n",
    "m=1\n",
    "\n",
    "HOdofSubs = {}\n",
    "for i in range(0,N):\n",
    "    HOdofSubs[q[i]] = 0.5*sp.sqrt(2/m)*(a[i] + adag[i])\n",
    "    HOdofSubs[p[i]] = complex(0,1)*sp.sqrt(2*m)*(adag[i] - a[i])/2\n",
    "    \n",
    "hoHam=sp.expand(ham.subs(HOdofSubs))\n",
    "hoHam"
   ]
  },
  {
   "cell_type": "code",
   "execution_count": 10,
   "id": "46257678",
   "metadata": {},
   "outputs": [],
   "source": [
    "# should probably error handle better so that when this breaks\n",
    "# I know what was wrong with my expression\n",
    "\n",
    "cutoff=2\n",
    "\n"
   ]
  },
  {
   "cell_type": "code",
   "execution_count": 11,
   "id": "8951862e",
   "metadata": {},
   "outputs": [
    {
     "name": "stdout",
     "output_type": "stream",
     "text": [
      "Warning: Not using a buffer!\n"
     ]
    }
   ],
   "source": [
    "hamMat=convert_to_matrix(hoHam,cutoff,N)"
   ]
  },
  {
   "cell_type": "code",
   "execution_count": 12,
   "id": "c747ca91",
   "metadata": {},
   "outputs": [
    {
     "data": {
      "text/plain": [
       "array([[0, 0, 0, ..., 0, 0, 0],\n",
       "       [0, 0, 0, ..., 0, 0, 0],\n",
       "       [0.625000000000000, 0, 0, ..., 0, 0, 0],\n",
       "       ...,\n",
       "       [0, 0, 0, ..., 0, 0, 0],\n",
       "       [0, 0, 0, ..., 0, 0, 0],\n",
       "       [0, 0, 0, ..., 0.625000000000000, 0, 0]], dtype=object)"
      ]
     },
     "execution_count": 12,
     "metadata": {},
     "output_type": "execute_result"
    }
   ],
   "source": [
    "hamMat"
   ]
  },
  {
   "cell_type": "code",
   "execution_count": 13,
   "id": "02707e84",
   "metadata": {},
   "outputs": [
    {
     "data": {
      "text/plain": [
       "sympy.core.numbers.Float"
      ]
     },
     "execution_count": 13,
     "metadata": {},
     "output_type": "execute_result"
    }
   ],
   "source": [
    "type(hamMat[2,0])"
   ]
  },
  {
   "cell_type": "code",
   "execution_count": null,
   "id": "821175d6",
   "metadata": {},
   "outputs": [],
   "source": []
  },
  {
   "cell_type": "code",
   "execution_count": 14,
   "id": "6064826c",
   "metadata": {},
   "outputs": [
    {
     "data": {
      "text/plain": [
       "(array([ 2.5568968e-01+5.61964154e-01j,  2.5568968e-01-5.61964154e-01j,\n",
       "        -7.6090592e-01+7.00009203e-18j, -1.2609059e+00-5.20753315e-16j,\n",
       "         1.2556897e+00+5.61964154e-01j,  1.2556897e+00-5.61964154e-01j,\n",
       "         1.2556897e+00+5.61964154e-01j,  1.2556897e+00-5.61964154e-01j,\n",
       "         9.9952650e-01+1.65662161e-16j, -4.7347872e-04-5.83993086e-17j,\n",
       "         2.3909411e-01+1.80379041e-16j,  9.9952650e-01+2.90276153e-16j,\n",
       "         2.3909411e-01+9.55004436e-17j,  2.5568968e-01+5.61964154e-01j,\n",
       "         2.5568968e-01-5.61964154e-01j, -7.6090592e-01+1.22495059e-16j,\n",
       "        -1.2609059e+00+4.44088442e-16j, -1.2609059e+00-2.56739074e-16j,\n",
       "        -1.2609059e+00-5.28223298e-16j, -4.7347872e-04+1.20657329e-16j,\n",
       "         1.0625000e+00-1.53934288e-09j,  1.0625000e+00-1.15265415e-08j,\n",
       "         1.0625000e+00-7.52197504e-09j,  1.0625000e+00-1.29809550e-08j,\n",
       "         1.0625000e+00+1.53934432e-09j,  1.0625000e+00+1.29809576e-08j,\n",
       "         1.0625000e+00+7.52197149e-09j,  1.0625000e+00+1.15265415e-08j,\n",
       "        -2.4431032e-01+5.61964154e-01j, -2.4431032e-01+5.61964154e-01j,\n",
       "        -2.4431032e-01+5.61964154e-01j, -2.4431032e-01+5.61964154e-01j,\n",
       "        -2.4431032e-01-5.61964154e-01j, -2.4431032e-01-5.61964154e-01j,\n",
       "        -2.4431032e-01-5.61964154e-01j, -2.4431032e-01-5.61964154e-01j,\n",
       "         6.2499996e-02+7.25483396e-10j,  6.2500000e-02+5.54283153e-09j,\n",
       "         6.2500000e-02+4.09826395e-09j,  6.2500007e-02+9.67877556e-10j,\n",
       "         6.2500007e-02-7.25483118e-10j,  6.2499996e-02-9.67877667e-10j,\n",
       "         6.2500000e-02-4.09826395e-09j,  6.2500000e-02-5.54283153e-09j,\n",
       "        -5.0047350e-01+3.88402495e-20j, -5.0047350e-01+8.19192323e-19j,\n",
       "        -5.0047350e-01-8.73608606e-19j, -5.0047350e-01-6.77626358e-20j,\n",
       "        -4.3750000e-01-1.27895889e-08j, -4.3750000e-01-5.49788925e-09j,\n",
       "        -4.3750000e-01+5.49716761e-09j, -4.3750000e-01-2.08980588e-09j,\n",
       "        -4.3750000e-01+2.09317408e-09j, -4.3750000e-01+1.15715180e-08j,\n",
       "        -4.3750000e-01+2.70088285e-09j, -4.3750000e-01-1.15715180e-08j,\n",
       "        -4.3750000e-01+1.27895889e-08j, -4.3750000e-01-5.49716805e-09j,\n",
       "        -4.3750000e-01+5.49788970e-09j, -4.3750000e-01-2.09317452e-09j,\n",
       "        -4.3750000e-01+2.08980655e-09j, -4.3750000e-01+2.12193294e-15j,\n",
       "        -4.3750000e-01-2.12318422e-15j, -4.3750000e-01-2.70088285e-09j],\n",
       "       dtype=complex64),\n",
       " array([[-8.51076171e-02-4.0650703e-03j, -8.51076171e-02+4.0650703e-03j,\n",
       "         -7.60824680e-02+0.0000000e+00j, ...,\n",
       "         -1.81619261e-26-7.6728170e-29j,  1.81651417e-26+7.5618492e-29j,\n",
       "          9.70831529e-28+9.5573715e-28j],\n",
       "        [ 1.23862654e-17+1.8427720e-17j,  1.24069507e-17-1.8423579e-17j,\n",
       "          2.91613823e-17+8.8006707e-18j, ...,\n",
       "         -1.63268486e-16-2.9301249e-17j, -1.63268473e-16-2.9301302e-17j,\n",
       "          1.85019776e-16+8.8159181e-18j],\n",
       "        [-8.97884816e-02+1.2586956e-01j, -8.97884816e-02-1.2586956e-01j,\n",
       "          1.53267264e-01-7.6327833e-17j, ...,\n",
       "         -5.81209325e-17+3.2376910e-18j, -5.81209325e-17+3.2376860e-18j,\n",
       "         -2.17095057e-17+7.0067293e-18j],\n",
       "        ...,\n",
       "        [-3.46120721e-43+1.7516231e-43j, -4.63829792e-43-2.8866748e-43j,\n",
       "          4.02850888e-40-2.9539792e-40j, ...,\n",
       "         -6.13064130e-16-4.2766114e-17j, -6.13064077e-16-4.2766144e-17j,\n",
       "         -4.39691785e-16+2.7194534e-17j],\n",
       "        [ 4.35782492e-25-2.4272682e-24j,  4.57130971e-24+5.9258876e-24j,\n",
       "          1.20059636e-20+9.3432247e-21j, ...,\n",
       "         -2.60604139e-16-1.2133947e-15j, -2.60604774e-16-1.2133946e-15j,\n",
       "         -5.18549843e-15-2.1093196e-15j],\n",
       "        [-3.12489558e-43-2.7885839e-43j,  1.03696086e-43+4.4981681e-43j,\n",
       "          1.49123380e-40+5.1360531e-40j, ...,\n",
       "          7.70497168e-16+1.1391787e-16j,  7.70497115e-16+1.1391792e-16j,\n",
       "          6.10319214e-16-8.7579700e-17j]], dtype=complex64))"
      ]
     },
     "execution_count": 14,
     "metadata": {},
     "output_type": "execute_result"
    }
   ],
   "source": [
    "np.linalg.eig(hamMat.astype(np.complex64))"
   ]
  },
  {
   "cell_type": "code",
   "execution_count": 27,
   "id": "acedd222",
   "metadata": {},
   "outputs": [],
   "source": [
    "from matrix_to_ps import *\n",
    "from binary_encodings import *"
   ]
  },
  {
   "cell_type": "code",
   "execution_count": 28,
   "id": "07d606cf-3722-4d96-aea6-64db4cab50de",
   "metadata": {},
   "outputs": [
    {
     "data": {
      "text/plain": [
       "(64, 64)"
      ]
     },
     "execution_count": 28,
     "metadata": {},
     "output_type": "execute_result"
    }
   ],
   "source": [
    "hamMat.shape"
   ]
  },
  {
   "cell_type": "code",
   "execution_count": 30,
   "id": "473c8dbe-27df-4e1a-ac1a-24a768b377dd",
   "metadata": {},
   "outputs": [],
   "source": [
    "hamPS=matrix_to_pauli_strings(hamMat, standard_encode)"
   ]
  },
  {
   "cell_type": "code",
   "execution_count": 36,
   "id": "69d4439d-7224-4d5e-ad92-8dd1c88dd8cf",
   "metadata": {},
   "outputs": [],
   "source": [
    "hamPS=sp.nsimplify(hamPS, tolerance=1e-10)"
   ]
  },
  {
   "cell_type": "code",
   "execution_count": 37,
   "id": "241b2251-b642-4293-8bfc-2ae673df836a",
   "metadata": {},
   "outputs": [
    {
     "data": {
      "text/latex": [
       "$\\displaystyle \\frac{5 I^{0} I^{1} I^{2} I^{3} I^{4} X^{5}}{16} - \\frac{5 i I^{0} I^{1} I^{2} I^{3} I^{4} Y^{5}}{16} + \\frac{5 I^{0} I^{1} I^{2} I^{4} I^{5} X^{3}}{16} - \\frac{5 i I^{0} I^{1} I^{2} I^{4} I^{5} Y^{3}}{16} - \\frac{I^{0} I^{1} I^{2} I^{4} X^{3} X^{5}}{16} + \\frac{I^{0} I^{1} I^{3} I^{5} X^{2} X^{4}}{4} + \\frac{I^{0} I^{1} I^{3} I^{5} Y^{2} Y^{4}}{4} + \\frac{5 I^{0} I^{2} I^{3} I^{4} I^{5} X^{1}}{16} - \\frac{5 i I^{0} I^{2} I^{3} I^{4} I^{5} Y^{1}}{16} - \\frac{I^{0} I^{2} I^{3} I^{4} X^{1} X^{5}}{16} - \\frac{I^{0} I^{2} I^{4} I^{5} X^{1} X^{3}}{16} + \\frac{I^{1} I^{2} I^{3} I^{5} X^{0} X^{4}}{4} + \\frac{I^{1} I^{2} I^{3} I^{5} Y^{0} Y^{4}}{4} + \\frac{I^{1} I^{3} I^{4} I^{5} X^{0} X^{2}}{4} + \\frac{I^{1} I^{3} I^{4} I^{5} Y^{0} Y^{2}}{4}$"
      ],
      "text/plain": [
       "5*I^0*I^1*I^2*I^3*I^4*X^5/16 - 5*I*I^0*I^1*I^2*I^3*I^4*Y^5/16 + 5*I^0*I^1*I^2*I^4*I^5*X^3/16 - 5*I*I^0*I^1*I^2*I^4*I^5*Y^3/16 - I^0*I^1*I^2*I^4*X^3*X^5/16 + I^0*I^1*I^3*I^5*X^2*X^4/4 + I^0*I^1*I^3*I^5*Y^2*Y^4/4 + 5*I^0*I^2*I^3*I^4*I^5*X^1/16 - 5*I*I^0*I^2*I^3*I^4*I^5*Y^1/16 - I^0*I^2*I^3*I^4*X^1*X^5/16 - I^0*I^2*I^4*I^5*X^1*X^3/16 + I^1*I^2*I^3*I^5*X^0*X^4/4 + I^1*I^2*I^3*I^5*Y^0*Y^4/4 + I^1*I^3*I^4*I^5*X^0*X^2/4 + I^1*I^3*I^4*I^5*Y^0*Y^2/4"
      ]
     },
     "execution_count": 37,
     "metadata": {},
     "output_type": "execute_result"
    }
   ],
   "source": [
    "sp.simplify(sp.expand(hamPS))"
   ]
  },
  {
   "cell_type": "code",
   "execution_count": null,
   "id": "b6944822-84e6-4bae-88d2-283b6ec1dc35",
   "metadata": {},
   "outputs": [],
   "source": []
  }
 ],
 "metadata": {
  "kernelspec": {
   "display_name": "Python 3 (ipykernel)",
   "language": "python",
   "name": "python3"
  },
  "language_info": {
   "codemirror_mode": {
    "name": "ipython",
    "version": 3
   },
   "file_extension": ".py",
   "mimetype": "text/x-python",
   "name": "python",
   "nbconvert_exporter": "python",
   "pygments_lexer": "ipython3",
   "version": "3.9.7"
  }
 },
 "nbformat": 4,
 "nbformat_minor": 5
}
