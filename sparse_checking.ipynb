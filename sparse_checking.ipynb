{
 "cells": [
  {
   "cell_type": "markdown",
   "id": "3e9129bb",
   "metadata": {},
   "source": [
    "# Wess Zumino \n",
    "\n",
    "## N=1 in 1+1\n",
    "\n",
    "The Hamiltonian with a central difference for the derivative is given by \n",
    "\n",
    "\\begin{align}\n",
    "    H=\\sum_n&\\left[ \\frac{p_n^2}{2a} + \\frac{a}{2}\\left(\\frac{\\phi_{n+1}-\\phi_{n-1}}{2a}\\right)^2+\\frac{a}{2}V(\\phi_n)^2\n",
    "            +aV(\\phi_n)\\frac{\\phi_{n+1}-\\phi_{n-1}}{2a} \\right. \\nonumber \\\\\n",
    "            &\\left.+(-1)^nV'(\\phi_n)\\left(\\chi_n^{\\dagger}\\chi_n-\\frac{1}{2}\\right)\n",
    "            +\\frac{1}{2a}\\left(\\chi_n^{\\dagger}\\chi_{n+1}+\\chi_{n+1}^{\\dagger}\\chi_n\\right) \\right],\n",
    "\\end{align}"
   ]
  },
  {
   "cell_type": "code",
   "execution_count": 1,
   "id": "770712fa",
   "metadata": {},
   "outputs": [],
   "source": [
    "import sympy as sp\n",
    "from ham_to_matrix import *\n",
    "from constants import *\n"
   ]
  },
  {
   "cell_type": "code",
   "execution_count": 2,
   "id": "2fee939c",
   "metadata": {},
   "outputs": [],
   "source": [
    "bosonNI=sp.expand( pn**2/(2*aLat) + (aLat/2)*((qnP1-qnM1)/(2*aLat))**2 )\n",
    "bosonI=sp.expand( (aLat/2)*V(qn)**2 + aLat*V(qn)*(qnP1-qnM1)/(2*aLat) )\n",
    "fermionNI=sp.expand( (xdnP1*xn+xdn*xnP1)/(2*aLat) )\n",
    "fermionI=sp.expand( sp.diff(V(qn),qn)*(xdn*xn-(1/2)) )"
   ]
  },
  {
   "cell_type": "code",
   "execution_count": 3,
   "id": "f60361a7",
   "metadata": {},
   "outputs": [
    {
     "data": {
      "text/latex": [
       "$\\displaystyle \\frac{a V^{2}{\\left(q_{n} \\right)}}{2} + \\frac{V{\\left(q_{n} \\right)} q_{n+1}}{2} - \\frac{V{\\left(q_{n} \\right)} q_{n-1}}{2} + \\frac{p_{n}^{2}}{2 a} - \\frac{q_{n+1} q_{n-1}}{8 a} + \\frac{q_{n+1}^{2}}{8 a} - \\frac{q_{n-1} q_{n+1}}{8 a} + \\frac{q_{n-1}^{2}}{8 a}$"
      ],
      "text/plain": [
       "a*V(q_{n})**2/2 + V(q_{n})*q_{n+1}/2 - V(q_{n})*q_{n-1}/2 + p_{n}**2/(2*a) - q_{n+1}*q_{n-1}/(8*a) + q_{n+1}**2/(8*a) - q_{n-1}*q_{n+1}/(8*a) + q_{n-1}**2/(8*a)"
      ]
     },
     "execution_count": 3,
     "metadata": {},
     "output_type": "execute_result"
    }
   ],
   "source": [
    "bosonNI+bosonI"
   ]
  },
  {
   "cell_type": "code",
   "execution_count": 4,
   "id": "18ef7097",
   "metadata": {},
   "outputs": [
    {
     "data": {
      "text/latex": [
       "$\\displaystyle - 0.5 \\frac{d}{d q_{n}} V{\\left(q_{n} \\right)} + \\frac{d}{d q_{n}} V{\\left(q_{n} \\right)} \\chi^{\\dagger}_{n} \\chi_{n} + \\frac{\\chi^{\\dagger}_{n+1} \\chi_{n}}{2 a} + \\frac{\\chi^{\\dagger}_{n} \\chi_{n+1}}{2 a}$"
      ],
      "text/plain": [
       "-0.5*Derivative(V(q_{n}), q_{n}) + Derivative(V(q_{n}), q_{n})*\\chi^{\\dagger}_{n}*\\chi_{n} + \\chi^{\\dagger}_{n+1}*\\chi_{n}/(2*a) + \\chi^{\\dagger}_{n}*\\chi_{n+1}/(2*a)"
      ]
     },
     "execution_count": 4,
     "metadata": {},
     "output_type": "execute_result"
    }
   ],
   "source": [
    "fermionNI + fermionI"
   ]
  },
  {
   "cell_type": "code",
   "execution_count": 5,
   "id": "6d14e88c",
   "metadata": {},
   "outputs": [],
   "source": [
    "N=3\n",
    "aVal=1\n",
    "\n",
    "# depends on finite-difference method\n",
    "qs=[SiteSymbol('q',str(i)) for i in range(-1,N+1,1)]\n",
    "# maybe make qs a normal site list\n",
    "# and make an extra boundaryQs list for q[-1], q[N]\n",
    "# counting would be normal computer science way for rest of code.\n",
    "\n",
    "ps=[SiteSymbol('p',str(i)) for i in range(-1,N+1,1)] # don't really need extras\n",
    "aops=[SiteSymbol('a',str(i)) for i in range(-1,N+1,1)]\n",
    "adags=[SiteSymbol('a^{\\dagger}',str(i)) for i in range(-1,N+1,1)]\n",
    "xs=[SiteSymbol('\\chi',str(i)) for i in range(-1,N+1,1)]\n",
    "xdags=[SiteSymbol('\\chi^{\\dagger}',str(i)) for i in range(-1,N+1,1)]\n",
    "\n",
    "# note this is exactly hardcoded for this finite difference method.\n",
    "bcType = 'periodic'\n",
    "boundaryConditions = {}\n",
    "if bcType == 'periodic':\n",
    "    boundaryConditions = {qs[0]: qs[N], qs[N+1]: qs[1],\n",
    "                          xs[0]: -xs[N], xs[N+1]: -xs[1], \n",
    "                          xdags[0]: -xdags[N],  xdags[N+1]: -xdags[1]\n",
    "                         }\n",
    "    \n",
    "elif bcType == 'dirichlet':\n",
    "    boundaryConditions = { qs[0]: 0, qs[N+1]: 0,\n",
    "                          xs[0]: 0, xs[N+1]: 0,\n",
    "                          xdags[0]: 0, xdags[N+1]:0\n",
    "                         }"
   ]
  },
  {
   "cell_type": "code",
   "execution_count": 6,
   "id": "031b1d7f",
   "metadata": {},
   "outputs": [
    {
     "data": {
      "text/latex": [
       "$\\displaystyle \\frac{a V^{2}{\\left(q_{n} \\right)}}{2} + \\frac{V{\\left(q_{n} \\right)} q_{n+1}}{2} - \\frac{V{\\left(q_{n} \\right)} q_{n-1}}{2} - 0.5 \\frac{d}{d q_{n}} V{\\left(q_{n} \\right)} + \\frac{d}{d q_{n}} V{\\left(q_{n} \\right)} \\chi^{\\dagger}_{n} \\chi_{n} + \\frac{\\chi^{\\dagger}_{n+1} \\chi_{n}}{2 a} + \\frac{\\chi^{\\dagger}_{n} \\chi_{n+1}}{2 a} + \\frac{p_{n}^{2}}{2 a} - \\frac{q_{n+1} q_{n-1}}{8 a} + \\frac{q_{n+1}^{2}}{8 a} - \\frac{q_{n-1} q_{n+1}}{8 a} + \\frac{q_{n-1}^{2}}{8 a}$"
      ],
      "text/plain": [
       "a*V(q_{n})**2/2 + V(q_{n})*q_{n+1}/2 - V(q_{n})*q_{n-1}/2 - 0.5*Derivative(V(q_{n}), q_{n}) + Derivative(V(q_{n}), q_{n})*\\chi^{\\dagger}_{n}*\\chi_{n} + \\chi^{\\dagger}_{n+1}*\\chi_{n}/(2*a) + \\chi^{\\dagger}_{n}*\\chi_{n+1}/(2*a) + p_{n}**2/(2*a) - q_{n+1}*q_{n-1}/(8*a) + q_{n+1}**2/(8*a) - q_{n-1}*q_{n+1}/(8*a) + q_{n-1}**2/(8*a)"
      ]
     },
     "execution_count": 6,
     "metadata": {},
     "output_type": "execute_result"
    }
   ],
   "source": [
    "totHam=bosonNI+bosonI+fermionNI+fermionI\n",
    "totHam"
   ]
  },
  {
   "cell_type": "code",
   "execution_count": 7,
   "id": "d6173b9d",
   "metadata": {},
   "outputs": [
    {
     "data": {
      "text/latex": [
       "$\\displaystyle \\frac{4.0 - 8 \\chi^{\\dagger}_{0} \\chi_{0} + 4 \\chi^{\\dagger}_{0} \\chi_{1} - 4 \\chi^{\\dagger}_{0} \\chi_{2} + 4 \\chi^{\\dagger}_{1} \\chi_{0} + 8 \\chi^{\\dagger}_{1} \\chi_{1} + 4 \\chi^{\\dagger}_{1} \\chi_{2} - 4 \\chi^{\\dagger}_{2} \\chi_{0} + 4 \\chi^{\\dagger}_{2} \\chi_{1} - 8 \\chi^{\\dagger}_{2} \\chi_{2} + 4 p_{0}^{2} + 4 p_{1}^{2} + 4 p_{2}^{2} + 3 q_{0} q_{1} - 5 q_{0} q_{2} + 6 q_{0}^{2} - 5 q_{1} q_{0} + 3 q_{1} q_{2} + 6 q_{1}^{2} + 3 q_{2} q_{0} - 5 q_{2} q_{1} + 6 q_{2}^{2}}{8}$"
      ],
      "text/plain": [
       "(4.0 - 8*\\chi^{\\dagger}_{0}*\\chi_{0} + 4*\\chi^{\\dagger}_{0}*\\chi_{1} - 4*\\chi^{\\dagger}_{0}*\\chi_{2} + 4*\\chi^{\\dagger}_{1}*\\chi_{0} + 8*\\chi^{\\dagger}_{1}*\\chi_{1} + 4*\\chi^{\\dagger}_{1}*\\chi_{2} - 4*\\chi^{\\dagger}_{2}*\\chi_{0} + 4*\\chi^{\\dagger}_{2}*\\chi_{1} - 8*\\chi^{\\dagger}_{2}*\\chi_{2} + 4*p_{0}**2 + 4*p_{1}**2 + 4*p_{2}**2 + 3*q_{0}*q_{1} - 5*q_{0}*q_{2} + 6*q_{0}**2 - 5*q_{1}*q_{0} + 3*q_{1}*q_{2} + 6*q_{1}**2 + 3*q_{2}*q_{0} - 5*q_{2}*q_{1} + 6*q_{2}**2)/8"
      ]
     },
     "execution_count": 7,
     "metadata": {},
     "output_type": "execute_result"
    }
   ],
   "source": [
    "ham=0\n",
    "\n",
    "lam=1\n",
    "\n",
    "for i in range(1,N+1):\n",
    "    ham+=(bosonNI+bosonI+fermionNI).subs({\n",
    "        pn: ps[i],\n",
    "        qn: qs[i], qnP1: qs[i+1], qnM1: qs[i-1],\n",
    "        xn: xs[i], xnP1: xs[i+1],\n",
    "        xdn: xdags[i], xdnP1: xdags[i+1]\n",
    "    }).subs(boundaryConditions)\n",
    "    \n",
    "# ham.subs(boundaryConditions).doit() # this doesn't work?\n",
    "\n",
    "\n",
    "def potential(n):\n",
    "    # m*q with m=1\n",
    "    return lam*qs[n]\n",
    "\n",
    "potentialSubs={}\n",
    "for n in range(1,N+1):\n",
    "    potentialSubs[V(qs[n])]=potential(n)\n",
    "\n",
    "ham=sp.simplify(ham.subs(potentialSubs).subs(aLat,aVal))\n",
    "\n",
    "for i in range(1,N+1):\n",
    "    if i%2==0:\n",
    "        ham+=sp.simplify(fermionI.subs({qn: qs[i], xn: xs[i], xdn: xdags[i]}).subs(potentialSubs))\n",
    "    else:\n",
    "        ham-=sp.simplify(fermionI.subs({qn: qs[i], xn: xs[i], xdn: xdags[i]}).subs(potentialSubs))\n",
    "ham=sp.simplify(ham.subs(aLat,aVal))\n",
    "ham"
   ]
  },
  {
   "cell_type": "code",
   "execution_count": 8,
   "id": "540c5c5b",
   "metadata": {},
   "outputs": [],
   "source": [
    "#ham=0\n",
    "#totHam=bosonNI+bosonI+fermionNI+fermionI\n",
    "#for i in range(0,N):\n",
    "#    ham+=totHam.subs(n,i).subs(boundaryConditions)\n",
    "# ham.subs(boundaryConditions).doit() # this doesn't work?\n",
    "\n",
    "#def potential(n):\n",
    "#    return q[n]\n",
    "\n",
    "#for n in range(0,N):\n",
    "#    ham=ham.subs(V(q[n]),potential(n))\n",
    "#ham=ham.subs(aLat,aVal).simplify().expand()\n",
    "#ham"
   ]
  },
  {
   "cell_type": "code",
   "execution_count": 9,
   "id": "ae53d291",
   "metadata": {},
   "outputs": [
    {
     "data": {
      "text/latex": [
       "$\\displaystyle \\frac{1}{2} - \\chi^{\\dagger}_{0} \\chi_{0} + \\frac{\\chi^{\\dagger}_{0} \\chi_{1}}{2} - \\frac{\\chi^{\\dagger}_{0} \\chi_{2}}{2} + \\frac{\\chi^{\\dagger}_{1} \\chi_{0}}{2} + \\chi^{\\dagger}_{1} \\chi_{1} + \\frac{\\chi^{\\dagger}_{1} \\chi_{2}}{2} - \\frac{\\chi^{\\dagger}_{2} \\chi_{0}}{2} + \\frac{\\chi^{\\dagger}_{2} \\chi_{1}}{2} - \\chi^{\\dagger}_{2} \\chi_{2} + \\frac{3 a^{\\dagger}_{0} a^{\\dagger}_{1}}{16} - \\frac{5 a^{\\dagger}_{0} a^{\\dagger}_{2}}{16} + \\frac{5 a^{\\dagger}_{0} a_{0}}{8} + \\frac{3 a^{\\dagger}_{0} a_{1}}{16} - \\frac{5 a^{\\dagger}_{0} a_{2}}{16} + \\frac{\\left(a^{\\dagger}_{0}\\right)^{2}}{8} - \\frac{5 a^{\\dagger}_{1} a^{\\dagger}_{0}}{16} + \\frac{3 a^{\\dagger}_{1} a^{\\dagger}_{2}}{16} - \\frac{5 a^{\\dagger}_{1} a_{0}}{16} + \\frac{5 a^{\\dagger}_{1} a_{1}}{8} + \\frac{3 a^{\\dagger}_{1} a_{2}}{16} + \\frac{\\left(a^{\\dagger}_{1}\\right)^{2}}{8} + \\frac{3 a^{\\dagger}_{2} a^{\\dagger}_{0}}{16} - \\frac{5 a^{\\dagger}_{2} a^{\\dagger}_{1}}{16} + \\frac{3 a^{\\dagger}_{2} a_{0}}{16} - \\frac{5 a^{\\dagger}_{2} a_{1}}{16} + \\frac{5 a^{\\dagger}_{2} a_{2}}{8} + \\frac{\\left(a^{\\dagger}_{2}\\right)^{2}}{8} + \\frac{5 a_{0} a^{\\dagger}_{0}}{8} + \\frac{3 a_{0} a^{\\dagger}_{1}}{16} - \\frac{5 a_{0} a^{\\dagger}_{2}}{16} + \\frac{3 a_{0} a_{1}}{16} - \\frac{5 a_{0} a_{2}}{16} + \\frac{a_{0}^{2}}{8} - \\frac{5 a_{1} a^{\\dagger}_{0}}{16} + \\frac{5 a_{1} a^{\\dagger}_{1}}{8} + \\frac{3 a_{1} a^{\\dagger}_{2}}{16} - \\frac{5 a_{1} a_{0}}{16} + \\frac{3 a_{1} a_{2}}{16} + \\frac{a_{1}^{2}}{8} + \\frac{3 a_{2} a^{\\dagger}_{0}}{16} - \\frac{5 a_{2} a^{\\dagger}_{1}}{16} + \\frac{5 a_{2} a^{\\dagger}_{2}}{8} + \\frac{3 a_{2} a_{0}}{16} - \\frac{5 a_{2} a_{1}}{16} + \\frac{a_{2}^{2}}{8}$"
      ],
      "text/plain": [
       "1/2 - \\chi^{\\dagger}_{0}*\\chi_{0} + \\chi^{\\dagger}_{0}*\\chi_{1}/2 - \\chi^{\\dagger}_{0}*\\chi_{2}/2 + \\chi^{\\dagger}_{1}*\\chi_{0}/2 + \\chi^{\\dagger}_{1}*\\chi_{1} + \\chi^{\\dagger}_{1}*\\chi_{2}/2 - \\chi^{\\dagger}_{2}*\\chi_{0}/2 + \\chi^{\\dagger}_{2}*\\chi_{1}/2 - \\chi^{\\dagger}_{2}*\\chi_{2} + 3*a^{\\dagger}_{0}*a^{\\dagger}_{1}/16 - 5*a^{\\dagger}_{0}*a^{\\dagger}_{2}/16 + 5*a^{\\dagger}_{0}*a_{0}/8 + 3*a^{\\dagger}_{0}*a_{1}/16 - 5*a^{\\dagger}_{0}*a_{2}/16 + a^{\\dagger}_{0}**2/8 - 5*a^{\\dagger}_{1}*a^{\\dagger}_{0}/16 + 3*a^{\\dagger}_{1}*a^{\\dagger}_{2}/16 - 5*a^{\\dagger}_{1}*a_{0}/16 + 5*a^{\\dagger}_{1}*a_{1}/8 + 3*a^{\\dagger}_{1}*a_{2}/16 + a^{\\dagger}_{1}**2/8 + 3*a^{\\dagger}_{2}*a^{\\dagger}_{0}/16 - 5*a^{\\dagger}_{2}*a^{\\dagger}_{1}/16 + 3*a^{\\dagger}_{2}*a_{0}/16 - 5*a^{\\dagger}_{2}*a_{1}/16 + 5*a^{\\dagger}_{2}*a_{2}/8 + a^{\\dagger}_{2}**2/8 + 5*a_{0}*a^{\\dagger}_{0}/8 + 3*a_{0}*a^{\\dagger}_{1}/16 - 5*a_{0}*a^{\\dagger}_{2}/16 + 3*a_{0}*a_{1}/16 - 5*a_{0}*a_{2}/16 + a_{0}**2/8 - 5*a_{1}*a^{\\dagger}_{0}/16 + 5*a_{1}*a^{\\dagger}_{1}/8 + 3*a_{1}*a^{\\dagger}_{2}/16 - 5*a_{1}*a_{0}/16 + 3*a_{1}*a_{2}/16 + a_{1}**2/8 + 3*a_{2}*a^{\\dagger}_{0}/16 - 5*a_{2}*a^{\\dagger}_{1}/16 + 5*a_{2}*a^{\\dagger}_{2}/8 + 3*a_{2}*a_{0}/16 - 5*a_{2}*a_{1}/16 + a_{2}**2/8"
      ]
     },
     "execution_count": 9,
     "metadata": {},
     "output_type": "execute_result"
    }
   ],
   "source": [
    "m=1\n",
    "\n",
    "HOdofSubs = {}\n",
    "#offset because of BC\n",
    "for i in range(1,N+1):\n",
    "    HOdofSubs[qs[i]] = 0.5*sp.sqrt(2/m)*(aops[i] + adags[i])\n",
    "    HOdofSubs[ps[i]] = complex(0,1)*sp.sqrt(2*m)*(adags[i] - aops[i])/2 \n",
    "\n",
    "hoHam=sp.expand(ham.subs(HOdofSubs))\n",
    "hoHam=sp.nsimplify(hoHam,tolerance=1e-8)\n",
    "hoHam"
   ]
  },
  {
   "cell_type": "code",
   "execution_count": null,
   "id": "fc90df68-3112-4b4d-a3b4-3f453b04d381",
   "metadata": {},
   "outputs": [],
   "source": []
  },
  {
   "cell_type": "code",
   "execution_count": 10,
   "id": "58a45677-d86d-476f-8380-d3b63858eb27",
   "metadata": {},
   "outputs": [
    {
     "name": "stdout",
     "output_type": "stream",
     "text": [
      "a_{0}**2/8\n",
      "sparse data storage timer took: 0.0210 seconds\n"
     ]
    },
    {
     "data": {
      "text/plain": [
       "<512x512 sparse matrix of type '<class 'numpy.object_'>'\n",
       "\twith 256 stored elements in Compressed Sparse Row format>"
      ]
     },
     "execution_count": 10,
     "metadata": {},
     "output_type": "execute_result"
    }
   ],
   "source": [
    "from ham_to_sparse_matrix import *\n",
    "\n",
    "t=Timer('sparse data storage')\n",
    "t.start()\n",
    "cutoff=4\n",
    "term=hoHam.args[4]\n",
    "print(term)\n",
    "hamMat=convert_term_to_matrix(term,cutoff,N,aops,adags,xs,xdags)\n",
    "t.stop()\n",
    "hamMat"
   ]
  },
  {
   "cell_type": "code",
   "execution_count": null,
   "id": "02b160dd-9ff7-4da3-ab95-ce6242b5fc22",
   "metadata": {},
   "outputs": [],
   "source": []
  },
  {
   "cell_type": "code",
   "execution_count": null,
   "id": "a9728b07-8941-4fb2-bc05-928dadc055f3",
   "metadata": {},
   "outputs": [],
   "source": []
  },
  {
   "cell_type": "code",
   "execution_count": 11,
   "id": "90c8cf0c-c811-4437-984b-725a89ba5dcb",
   "metadata": {},
   "outputs": [
    {
     "name": "stdout",
     "output_type": "stream",
     "text": [
      "a_{0}**2/8\n"
     ]
    },
    {
     "name": "stderr",
     "output_type": "stream",
     "text": [
      "/home/chris/anaconda3/envs/QuantumComputing/lib/python3.9/site-packages/scipy/sparse/_sputils.py:114: UserWarning: object dtype is not supported by sparse matrices\n",
      "  warnings.warn(\"object dtype is not supported by sparse matrices\")\n"
     ]
    },
    {
     "name": "stdout",
     "output_type": "stream",
     "text": [
      "sparse data storage timer took: 1.1378 seconds\n"
     ]
    },
    {
     "data": {
      "text/plain": [
       "<512x512 sparse matrix of type '<class 'numpy.complex64'>'\n",
       "\twith 6272 stored elements in Compressed Sparse Row format>"
      ]
     },
     "execution_count": 11,
     "metadata": {},
     "output_type": "execute_result"
    }
   ],
   "source": [
    "from ham_to_sparse_matrix import *\n",
    "\n",
    "t=Timer('sparse data storage')\n",
    "t.start()\n",
    "cutoff=4\n",
    "\n",
    "print(term)\n",
    "hamMat=convert_to_matrix(hoHam,cutoff,N,aops,adags,xs,xdags)\n",
    "t.stop()\n",
    "hamMat"
   ]
  },
  {
   "cell_type": "code",
   "execution_count": 13,
   "id": "5e6d1f03-4e0f-4374-bf67-7eea11f1d311",
   "metadata": {},
   "outputs": [
    {
     "data": {
      "text/plain": [
       "array([[2.375+0.j, 0.   +0.j, 0.   +0.j, ..., 0.   +0.j, 0.   +0.j,\n",
       "        0.   +0.j],\n",
       "       [0.   +0.j, 1.375+0.j, 0.   +0.j, ..., 0.   +0.j, 0.   +0.j,\n",
       "        0.   +0.j],\n",
       "       [0.   +0.j, 0.   +0.j, 3.625+0.j, ..., 0.   +0.j, 0.   +0.j,\n",
       "        0.   +0.j],\n",
       "       ...,\n",
       "       [0.   +0.j, 0.   +0.j, 0.   +0.j, ..., 6.375+0.j, 0.   +0.j,\n",
       "        0.   +0.j],\n",
       "       [0.   +0.j, 0.   +0.j, 0.   +0.j, ..., 0.   +0.j, 6.125+0.j,\n",
       "        0.   +0.j],\n",
       "       [0.   +0.j, 0.   +0.j, 0.   +0.j, ..., 0.   +0.j, 0.   +0.j,\n",
       "        5.125+0.j]], dtype=complex64)"
      ]
     },
     "execution_count": 13,
     "metadata": {},
     "output_type": "execute_result"
    }
   ],
   "source": [
    "hamMat.toarray()"
   ]
  },
  {
   "cell_type": "code",
   "execution_count": 14,
   "id": "0092c46d-fa52-4aa1-8e1d-444fe0513f94",
   "metadata": {},
   "outputs": [
    {
     "name": "stdout",
     "output_type": "stream",
     "text": [
      "True\n"
     ]
    },
    {
     "data": {
      "text/plain": [
       "array([0.04155126+0.j, 0.636187  +0.j, 0.85696435+0.j, 1.070188  +0.j,\n",
       "       1.070188  +0.j, 1.3223276 +0.j, 1.4516002 +0.j, 1.4790901 +0.j,\n",
       "       1.59579   +0.j, 1.59579   +0.j], dtype=complex64)"
      ]
     },
     "execution_count": 14,
     "metadata": {},
     "output_type": "execute_result"
    }
   ],
   "source": [
    "ens=np.sort(np.linalg.eig(hamMat.toarray().astype(np.complex64))[0])\n",
    "ens=ens.round(8)\n",
    "\n",
    "print(np.isreal(ens).all())\n",
    "\n",
    "ens[0:10]"
   ]
  },
  {
   "cell_type": "code",
   "execution_count": null,
   "id": "15135df8-fbf5-4f93-903f-2fc257b9707e",
   "metadata": {},
   "outputs": [],
   "source": []
  },
  {
   "cell_type": "code",
   "execution_count": null,
   "id": "d5bc79ce-449a-40d0-81bb-d34497378023",
   "metadata": {},
   "outputs": [],
   "source": []
  },
  {
   "cell_type": "code",
   "execution_count": null,
   "id": "dc6f8305-7097-4242-9c0f-f5c3873fb441",
   "metadata": {},
   "outputs": [],
   "source": []
  },
  {
   "cell_type": "code",
   "execution_count": 13,
   "id": "fd7dc2c4-b0a4-4f63-924c-569e4302f3e7",
   "metadata": {},
   "outputs": [
    {
     "name": "stdout",
     "output_type": "stream",
     "text": [
      "a_{0}**2/8\n",
      "np data storage timer took: 13.5366 seconds\n"
     ]
    },
    {
     "data": {
      "text/plain": [
       "array([[0, 0, 0, ..., 0, 0, 0],\n",
       "       [0, 0, 0, ..., 0, 0, 0],\n",
       "       [0, 0, 0, ..., 0, 0, 0],\n",
       "       ...,\n",
       "       [0, 0, 0, ..., 0, 0, 0],\n",
       "       [0, 0, 0, ..., 0, 0, 0],\n",
       "       [0, 0, 0, ..., 0, 0, 0]], dtype=object)"
      ]
     },
     "execution_count": 13,
     "metadata": {},
     "output_type": "execute_result"
    }
   ],
   "source": [
    "from ham_to_matrix import *\n",
    "\n",
    "t=Timer('np data storage')\n",
    "t.start()\n",
    "cutoff=4\n",
    "term=hoHam.args[4]\n",
    "print(term)\n",
    "hamMat=convert_term_to_matrix(term,cutoff,N,aops,adags,xs,xdags)\n",
    "t.stop()\n",
    "hamMat\n"
   ]
  },
  {
   "cell_type": "code",
   "execution_count": null,
   "id": "5570aa5c-0ce7-48e9-b32d-13293fb9c895",
   "metadata": {},
   "outputs": [],
   "source": []
  },
  {
   "cell_type": "code",
   "execution_count": null,
   "id": "2b20e71d-1eb4-41d5-ad96-366e9a884546",
   "metadata": {},
   "outputs": [],
   "source": []
  },
  {
   "cell_type": "code",
   "execution_count": null,
   "id": "c68687ce-6665-4588-b5bb-2b1c28ff7788",
   "metadata": {},
   "outputs": [],
   "source": []
  },
  {
   "cell_type": "code",
   "execution_count": 11,
   "id": "e12e8849-71d6-414f-a2dd-a8aaeb5cbc7a",
   "metadata": {},
   "outputs": [
    {
     "ename": "NameError",
     "evalue": "name 'a2' is not defined",
     "output_type": "error",
     "traceback": [
      "\u001b[0;31m---------------------------------------------------------------------------\u001b[0m",
      "\u001b[0;31mNameError\u001b[0m                                 Traceback (most recent call last)",
      "Input \u001b[0;32mIn [11]\u001b[0m, in \u001b[0;36m<cell line: 1>\u001b[0;34m()\u001b[0m\n\u001b[0;32m----> 1\u001b[0m \u001b[43ma2\u001b[49m\u001b[38;5;241m*\u001b[39m\u001b[38;5;241m8\u001b[39m\n",
      "\u001b[0;31mNameError\u001b[0m: name 'a2' is not defined"
     ]
    }
   ],
   "source": [
    "a2*8"
   ]
  },
  {
   "cell_type": "code",
   "execution_count": null,
   "id": "343a39fe-8ed1-4115-8e02-6d04d077ad1b",
   "metadata": {},
   "outputs": [],
   "source": []
  },
  {
   "cell_type": "code",
   "execution_count": null,
   "id": "9a3d1daf-05a8-443f-b3ed-cf3d56685b0e",
   "metadata": {},
   "outputs": [],
   "source": []
  },
  {
   "cell_type": "code",
   "execution_count": null,
   "id": "efeaf8b9-4648-4046-86cd-843cf518a0f8",
   "metadata": {},
   "outputs": [],
   "source": []
  },
  {
   "cell_type": "code",
   "execution_count": null,
   "id": "cc5ec892-62eb-4193-b88a-6d6ba109c07d",
   "metadata": {},
   "outputs": [],
   "source": []
  },
  {
   "cell_type": "code",
   "execution_count": null,
   "id": "efcbb6cc-9ac0-43ca-912e-5f494bd77f57",
   "metadata": {},
   "outputs": [],
   "source": []
  },
  {
   "cell_type": "code",
   "execution_count": 12,
   "id": "87c6088a-68d4-4f76-9adf-80eaf260d540",
   "metadata": {},
   "outputs": [
    {
     "data": {
      "text/plain": [
       "array([[0.        , 1.        , 0.        , 0.        ],\n",
       "       [0.        , 0.        , 1.41421356, 0.        ],\n",
       "       [0.        , 0.        , 0.        , 1.73205081],\n",
       "       [0.        , 0.        , 0.        , 0.        ]])"
      ]
     },
     "execution_count": 12,
     "metadata": {},
     "output_type": "execute_result"
    }
   ],
   "source": [
    "aMat(4)"
   ]
  },
  {
   "cell_type": "code",
   "execution_count": 17,
   "id": "5cd46f8c-b2ef-47a1-b027-586283abd12b",
   "metadata": {},
   "outputs": [],
   "source": [
    "a2=np.linalg.matrix_power(aMat(4),2)"
   ]
  },
  {
   "cell_type": "code",
   "execution_count": 19,
   "id": "b758604d-a339-4610-9929-9f42791683f4",
   "metadata": {},
   "outputs": [],
   "source": [
    "sa2=scipy.sparse.coo_matrix(a2)"
   ]
  },
  {
   "cell_type": "code",
   "execution_count": 20,
   "id": "604586ec-1938-49cd-9f51-db1bd92d2127",
   "metadata": {},
   "outputs": [],
   "source": [
    "full=scipy.sparse.coo_matrix([1])"
   ]
  },
  {
   "cell_type": "code",
   "execution_count": 21,
   "id": "50359cd1-aed4-4e8a-abec-f4df7cf63b2c",
   "metadata": {},
   "outputs": [],
   "source": [
    "tmp=scipy.sparse.kron(full,sa2)"
   ]
  },
  {
   "cell_type": "code",
   "execution_count": 22,
   "id": "c3e7ee1e-0531-454d-b3c1-393b82fc9447",
   "metadata": {},
   "outputs": [],
   "source": [
    "sid=scipy.sparse.coo_matrix(np.eye(2))"
   ]
  },
  {
   "cell_type": "code",
   "execution_count": 25,
   "id": "5b9d789c-1f64-47a9-b8b0-8de74d22626f",
   "metadata": {},
   "outputs": [],
   "source": [
    "tmp2=scipy.sparse.kron(tmp,sid)"
   ]
  },
  {
   "cell_type": "code",
   "execution_count": 26,
   "id": "efd60dfb-cfd8-486d-913b-e8a2b1fabcca",
   "metadata": {},
   "outputs": [
    {
     "data": {
      "text/plain": [
       "<8x8 sparse matrix of type '<class 'numpy.float64'>'\n",
       "\twith 8 stored elements (blocksize = 2x2) in Block Sparse Row format>"
      ]
     },
     "execution_count": 26,
     "metadata": {},
     "output_type": "execute_result"
    }
   ],
   "source": [
    "tmp2"
   ]
  },
  {
   "cell_type": "code",
   "execution_count": 28,
   "id": "00ec6d16-3e13-4fdd-ab0c-2aa24843dbfb",
   "metadata": {},
   "outputs": [
    {
     "name": "stdout",
     "output_type": "stream",
     "text": [
      "  (0, 2)\t1.4142135623730951\n",
      "  (1, 3)\t2.4494897427831783\n"
     ]
    }
   ],
   "source": [
    "print(tmp)"
   ]
  },
  {
   "cell_type": "code",
   "execution_count": null,
   "id": "ecfab18d-e351-4bd4-b124-3b15ef41f303",
   "metadata": {},
   "outputs": [],
   "source": []
  },
  {
   "cell_type": "code",
   "execution_count": null,
   "id": "77c6d7c1-f07e-4774-8b29-3aea45bff57a",
   "metadata": {},
   "outputs": [],
   "source": []
  },
  {
   "cell_type": "code",
   "execution_count": null,
   "id": "78bc3e32-bf7b-464d-b721-012c0ceb34c0",
   "metadata": {},
   "outputs": [],
   "source": []
  },
  {
   "cell_type": "code",
   "execution_count": 47,
   "id": "06e294ac-c564-4b12-ae7f-0f46649a6913",
   "metadata": {},
   "outputs": [],
   "source": [
    "tst=np.kron(a2,np.eye(4))"
   ]
  },
  {
   "cell_type": "code",
   "execution_count": 50,
   "id": "43551748-963b-4f4c-8ad6-be9db6d151f3",
   "metadata": {},
   "outputs": [
    {
     "name": "stdout",
     "output_type": "stream",
     "text": [
      "4\n",
      "4\n"
     ]
    }
   ],
   "source": [
    "n1=0\n",
    "n2=0\n",
    "for row in tst:\n",
    "    for elem in row:\n",
    "        if abs(a2[0,2]-elem)<1e-6:\n",
    "            n1+=1\n",
    "        if abs(a2[1,3]-elem)<1e-6:\n",
    "            n2+=1\n",
    "print(n1)\n",
    "print(n2)"
   ]
  },
  {
   "cell_type": "code",
   "execution_count": 15,
   "id": "bf8dfe31-d5fc-45f8-afff-c9c3f39690ad",
   "metadata": {},
   "outputs": [
    {
     "data": {
      "text/plain": [
       "0.1767766952966369"
      ]
     },
     "execution_count": 15,
     "metadata": {},
     "output_type": "execute_result"
    }
   ],
   "source": [
    "a2[0,2]"
   ]
  },
  {
   "cell_type": "code",
   "execution_count": 16,
   "id": "88fdf7ac-7444-4cca-8865-d897327fb10d",
   "metadata": {},
   "outputs": [
    {
     "data": {
      "text/plain": [
       "0.3061862178478973"
      ]
     },
     "execution_count": 16,
     "metadata": {},
     "output_type": "execute_result"
    }
   ],
   "source": [
    "a2[1,3]"
   ]
  },
  {
   "cell_type": "code",
   "execution_count": 17,
   "id": "1a341691-feef-4418-82e9-8376be1f2f52",
   "metadata": {},
   "outputs": [
    {
     "data": {
      "text/plain": [
       "(512, 512)"
      ]
     },
     "execution_count": 17,
     "metadata": {},
     "output_type": "execute_result"
    }
   ],
   "source": [
    "hamMat.shape"
   ]
  },
  {
   "cell_type": "code",
   "execution_count": 51,
   "id": "5cb3f4fc-9c1f-409b-8f6d-67e36f17bc55",
   "metadata": {},
   "outputs": [
    {
     "name": "stdout",
     "output_type": "stream",
     "text": [
      "128\n",
      "128\n"
     ]
    }
   ],
   "source": [
    "n1=0\n",
    "n2=0\n",
    "for row in hamMat:\n",
    "    for elem in row:\n",
    "        if abs(a2[0,2]-elem)<1e-6:\n",
    "            n1+=1\n",
    "        if abs(a2[1,3]-elem)<1e-6:\n",
    "            n2+=1\n",
    "print(n1)\n",
    "print(n2)"
   ]
  },
  {
   "cell_type": "code",
   "execution_count": 11,
   "id": "98a8be0d-fd90-4032-be76-ad8fbffd8b7e",
   "metadata": {},
   "outputs": [],
   "source": [
    "import scipy"
   ]
  },
  {
   "cell_type": "code",
   "execution_count": 12,
   "id": "965429b6-48c6-4b68-a18b-429b1f20914e",
   "metadata": {},
   "outputs": [],
   "source": [
    "amat=scipy.sparse.coo_matrix(aMat(4))\n",
    "adagmat=scipy.sparse.coo_matrix(aDagMat(4))\n",
    "iden=scipy.sparse.coo_matrix(np.eye(4))\n",
    "\n",
    "namat=aMat(4)\n",
    "nadagmat=aDagMat(4)\n",
    "niden=np.eye(4)"
   ]
  },
  {
   "cell_type": "code",
   "execution_count": 13,
   "id": "512914c6-80d0-4253-8adc-03ed2d5975b3",
   "metadata": {},
   "outputs": [],
   "source": [
    "def skron(a,b):\n",
    "    return scipy.sparse.kron(a,b)\n",
    "\n",
    "def nkron(a,b):\n",
    "    return np.kron(a,b)"
   ]
  },
  {
   "cell_type": "code",
   "execution_count": 14,
   "id": "5c406cd6-bb51-4ef3-a95c-ed11d2452752",
   "metadata": {},
   "outputs": [
    {
     "name": "stdout",
     "output_type": "stream",
     "text": [
      "skron timer took: 0.0473 seconds\n"
     ]
    }
   ],
   "source": [
    "t=Timer('skron')\n",
    "t.start()\n",
    "for i in range(0,100):\n",
    "    sres=skron(skron(skron(skron(skron(amat,adagmat),iden),amat),iden),adagmat)\n",
    "t.stop()"
   ]
  },
  {
   "cell_type": "code",
   "execution_count": 15,
   "id": "47b3f513-caa3-46a5-9664-f9e9fef70f6f",
   "metadata": {},
   "outputs": [
    {
     "name": "stdout",
     "output_type": "stream",
     "text": [
      "nkron timer took: 1.7117 seconds\n"
     ]
    }
   ],
   "source": [
    "t=Timer('nkron')\n",
    "t.start()\n",
    "for i in range(0,10):\n",
    "    nres=nkron(nkron(nkron(nkron(nkron(namat,nadagmat),niden),namat),niden),nadagmat)\n",
    "t.stop()"
   ]
  },
  {
   "cell_type": "code",
   "execution_count": 16,
   "id": "6748afd7-87dd-4f26-a21d-bb676326cca5",
   "metadata": {},
   "outputs": [
    {
     "data": {
      "text/plain": [
       "<bound method matrix.all of matrix([[ True,  True,  True, ...,  True,  True,  True],\n",
       "        [ True,  True,  True, ...,  True,  True,  True],\n",
       "        [ True,  True,  True, ...,  True,  True,  True],\n",
       "        ...,\n",
       "        [ True,  True,  True, ...,  True,  True,  True],\n",
       "        [ True,  True,  True, ...,  True,  True,  True],\n",
       "        [ True,  True,  True, ...,  True,  True,  True]])>"
      ]
     },
     "execution_count": 16,
     "metadata": {},
     "output_type": "execute_result"
    }
   ],
   "source": [
    "(sres==nres).all"
   ]
  },
  {
   "cell_type": "code",
   "execution_count": 17,
   "id": "cfb65bdc-fbcc-4080-8248-24f6959042ba",
   "metadata": {},
   "outputs": [
    {
     "data": {
      "text/plain": [
       "(4096, 4096)"
      ]
     },
     "execution_count": 17,
     "metadata": {},
     "output_type": "execute_result"
    }
   ],
   "source": [
    "sres.shape"
   ]
  },
  {
   "cell_type": "code",
   "execution_count": 18,
   "id": "f3952a0f-27fd-4782-a4e9-1b9ac92ff428",
   "metadata": {},
   "outputs": [
    {
     "data": {
      "text/plain": [
       "(4096, 4096)"
      ]
     },
     "execution_count": 18,
     "metadata": {},
     "output_type": "execute_result"
    }
   ],
   "source": [
    "nres.shape"
   ]
  },
  {
   "cell_type": "code",
   "execution_count": 85,
   "id": "89be87f4-56d3-4729-8eb1-5d09ff30bc90",
   "metadata": {},
   "outputs": [],
   "source": []
  },
  {
   "cell_type": "code",
   "execution_count": null,
   "id": "449a7f70-d5a8-45d2-be11-4fc2b5888635",
   "metadata": {},
   "outputs": [],
   "source": []
  }
 ],
 "metadata": {
  "kernelspec": {
   "display_name": "Python 3 (ipykernel)",
   "language": "python",
   "name": "python3"
  },
  "language_info": {
   "codemirror_mode": {
    "name": "ipython",
    "version": 3
   },
   "file_extension": ".py",
   "mimetype": "text/x-python",
   "name": "python",
   "nbconvert_exporter": "python",
   "pygments_lexer": "ipython3",
   "version": "3.9.7"
  }
 },
 "nbformat": 4,
 "nbformat_minor": 5
}
